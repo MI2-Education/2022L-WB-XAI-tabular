{
 "cells": [
  {
   "cell_type": "markdown",
   "metadata": {},
   "source": [
    "## Homework 3\n",
    "### Paweł Fijałkowski\n",
    "#### XAI WB 2022L"
   ]
  },
  {
   "cell_type": "code",
   "execution_count": 40,
   "metadata": {},
   "outputs": [],
   "source": [
    "import pandas as pd\n",
    "import numpy as np\n",
    "import dalex as dx\n",
    "from math import pi\n",
    "from sklearn.model_selection import train_test_split\n",
    "from sklearn.preprocessing import LabelEncoder\n",
    "\n",
    "from sklearn.linear_model import LogisticRegression\n",
    "from sklearn.ensemble import RandomForestClassifier\n",
    "from sklearn.ensemble import GradientBoostingClassifier"
   ]
  },
  {
   "cell_type": "markdown",
   "metadata": {},
   "source": [
    "#### Data fetch and feature engineering"
   ]
  },
  {
   "cell_type": "code",
   "execution_count": 32,
   "metadata": {},
   "outputs": [],
   "source": [
    "data = pd.read_csv(\"EPL_2021.csv\")"
   ]
  },
  {
   "cell_type": "code",
   "execution_count": 33,
   "metadata": {},
   "outputs": [],
   "source": [
    "data['result'] = (data['result'] == 'Goal')\n",
    "data['distance'] = ((105 - (data['X'] * 105)) ** 2 + (32.5 - (data['Y'] * 68)) ** 2) ** 0.5\n",
    "data[\"angle\"] = np.abs(np.arctan((7.32 * (105 - (data['X'] * 105))) / ((105 - (data['X'] * 105))**2 + (32.5 - (data['Y'] * 68)) ** 2 - (7.32 / 2) ** 2)) * 180 / pi)\n",
    "data = data[['result', 'h_a', 'situation', 'shotType', 'lastAction', 'minute', 'distance', 'angle']]"
   ]
  },
  {
   "cell_type": "code",
   "execution_count": 6,
   "metadata": {},
   "outputs": [
    {
     "data": {
      "text/html": [
       "<div>\n",
       "<style scoped>\n",
       "    .dataframe tbody tr th:only-of-type {\n",
       "        vertical-align: middle;\n",
       "    }\n",
       "\n",
       "    .dataframe tbody tr th {\n",
       "        vertical-align: top;\n",
       "    }\n",
       "\n",
       "    .dataframe thead th {\n",
       "        text-align: right;\n",
       "    }\n",
       "</style>\n",
       "<table border=\"1\" class=\"dataframe\">\n",
       "  <thead>\n",
       "    <tr style=\"text-align: right;\">\n",
       "      <th></th>\n",
       "      <th>result</th>\n",
       "      <th>h_a</th>\n",
       "      <th>situation</th>\n",
       "      <th>shotType</th>\n",
       "      <th>lastAction</th>\n",
       "      <th>minute</th>\n",
       "      <th>distance</th>\n",
       "      <th>angle</th>\n",
       "    </tr>\n",
       "  </thead>\n",
       "  <tbody>\n",
       "    <tr>\n",
       "      <th>0</th>\n",
       "      <td>False</td>\n",
       "      <td>h</td>\n",
       "      <td>OpenPlay</td>\n",
       "      <td>Head</td>\n",
       "      <td>Aerial</td>\n",
       "      <td>10</td>\n",
       "      <td>10.034305</td>\n",
       "      <td>37.453252</td>\n",
       "    </tr>\n",
       "    <tr>\n",
       "      <th>1</th>\n",
       "      <td>False</td>\n",
       "      <td>h</td>\n",
       "      <td>OpenPlay</td>\n",
       "      <td>RightFoot</td>\n",
       "      <td>Throughball</td>\n",
       "      <td>11</td>\n",
       "      <td>14.699726</td>\n",
       "      <td>19.232346</td>\n",
       "    </tr>\n",
       "    <tr>\n",
       "      <th>2</th>\n",
       "      <td>True</td>\n",
       "      <td>h</td>\n",
       "      <td>OpenPlay</td>\n",
       "      <td>RightFoot</td>\n",
       "      <td>BallRecovery</td>\n",
       "      <td>21</td>\n",
       "      <td>19.973838</td>\n",
       "      <td>14.099715</td>\n",
       "    </tr>\n",
       "    <tr>\n",
       "      <th>3</th>\n",
       "      <td>False</td>\n",
       "      <td>h</td>\n",
       "      <td>OpenPlay</td>\n",
       "      <td>RightFoot</td>\n",
       "      <td>Pass</td>\n",
       "      <td>27</td>\n",
       "      <td>19.740004</td>\n",
       "      <td>21.007894</td>\n",
       "    </tr>\n",
       "    <tr>\n",
       "      <th>4</th>\n",
       "      <td>False</td>\n",
       "      <td>h</td>\n",
       "      <td>OpenPlay</td>\n",
       "      <td>RightFoot</td>\n",
       "      <td>Chipped</td>\n",
       "      <td>29</td>\n",
       "      <td>14.008206</td>\n",
       "      <td>24.418589</td>\n",
       "    </tr>\n",
       "  </tbody>\n",
       "</table>\n",
       "</div>"
      ],
      "text/plain": [
       "   result h_a situation   shotType    lastAction  minute   distance      angle\n",
       "0   False   h  OpenPlay       Head        Aerial      10  10.034305  37.453252\n",
       "1   False   h  OpenPlay  RightFoot   Throughball      11  14.699726  19.232346\n",
       "2    True   h  OpenPlay  RightFoot  BallRecovery      21  19.973838  14.099715\n",
       "3   False   h  OpenPlay  RightFoot          Pass      27  19.740004  21.007894\n",
       "4   False   h  OpenPlay  RightFoot       Chipped      29  14.008206  24.418589"
      ]
     },
     "execution_count": 6,
     "metadata": {},
     "output_type": "execute_result"
    }
   ],
   "source": [
    "data.head()"
   ]
  },
  {
   "cell_type": "code",
   "execution_count": 7,
   "metadata": {},
   "outputs": [],
   "source": [
    "categorical_features = (data.dtypes == object)"
   ]
  },
  {
   "cell_type": "code",
   "execution_count": 8,
   "metadata": {},
   "outputs": [],
   "source": [
    "data.loc[:,categorical_features] = data.loc[:,categorical_features].apply(LabelEncoder().fit_transform)"
   ]
  },
  {
   "cell_type": "code",
   "execution_count": 9,
   "metadata": {},
   "outputs": [
    {
     "data": {
      "text/html": [
       "<div>\n",
       "<style scoped>\n",
       "    .dataframe tbody tr th:only-of-type {\n",
       "        vertical-align: middle;\n",
       "    }\n",
       "\n",
       "    .dataframe tbody tr th {\n",
       "        vertical-align: top;\n",
       "    }\n",
       "\n",
       "    .dataframe thead th {\n",
       "        text-align: right;\n",
       "    }\n",
       "</style>\n",
       "<table border=\"1\" class=\"dataframe\">\n",
       "  <thead>\n",
       "    <tr style=\"text-align: right;\">\n",
       "      <th></th>\n",
       "      <th>result</th>\n",
       "      <th>h_a</th>\n",
       "      <th>situation</th>\n",
       "      <th>shotType</th>\n",
       "      <th>lastAction</th>\n",
       "      <th>minute</th>\n",
       "      <th>distance</th>\n",
       "      <th>angle</th>\n",
       "    </tr>\n",
       "  </thead>\n",
       "  <tbody>\n",
       "    <tr>\n",
       "      <th>0</th>\n",
       "      <td>False</td>\n",
       "      <td>1</td>\n",
       "      <td>2</td>\n",
       "      <td>0</td>\n",
       "      <td>0</td>\n",
       "      <td>10</td>\n",
       "      <td>10.034305</td>\n",
       "      <td>37.453252</td>\n",
       "    </tr>\n",
       "    <tr>\n",
       "      <th>1</th>\n",
       "      <td>False</td>\n",
       "      <td>1</td>\n",
       "      <td>2</td>\n",
       "      <td>3</td>\n",
       "      <td>27</td>\n",
       "      <td>11</td>\n",
       "      <td>14.699726</td>\n",
       "      <td>19.232346</td>\n",
       "    </tr>\n",
       "    <tr>\n",
       "      <th>2</th>\n",
       "      <td>True</td>\n",
       "      <td>1</td>\n",
       "      <td>2</td>\n",
       "      <td>3</td>\n",
       "      <td>1</td>\n",
       "      <td>21</td>\n",
       "      <td>19.973838</td>\n",
       "      <td>14.099715</td>\n",
       "    </tr>\n",
       "    <tr>\n",
       "      <th>3</th>\n",
       "      <td>False</td>\n",
       "      <td>1</td>\n",
       "      <td>2</td>\n",
       "      <td>3</td>\n",
       "      <td>20</td>\n",
       "      <td>27</td>\n",
       "      <td>19.740004</td>\n",
       "      <td>21.007894</td>\n",
       "    </tr>\n",
       "    <tr>\n",
       "      <th>4</th>\n",
       "      <td>False</td>\n",
       "      <td>1</td>\n",
       "      <td>2</td>\n",
       "      <td>3</td>\n",
       "      <td>6</td>\n",
       "      <td>29</td>\n",
       "      <td>14.008206</td>\n",
       "      <td>24.418589</td>\n",
       "    </tr>\n",
       "  </tbody>\n",
       "</table>\n",
       "</div>"
      ],
      "text/plain": [
       "   result  h_a  situation  shotType  lastAction  minute   distance      angle\n",
       "0   False    1          2         0           0      10  10.034305  37.453252\n",
       "1   False    1          2         3          27      11  14.699726  19.232346\n",
       "2    True    1          2         3           1      21  19.973838  14.099715\n",
       "3   False    1          2         3          20      27  19.740004  21.007894\n",
       "4   False    1          2         3           6      29  14.008206  24.418589"
      ]
     },
     "execution_count": 9,
     "metadata": {},
     "output_type": "execute_result"
    }
   ],
   "source": [
    "data.head()"
   ]
  },
  {
   "cell_type": "markdown",
   "metadata": {},
   "source": [
    "#### Models & predictions"
   ]
  },
  {
   "cell_type": "code",
   "execution_count": 10,
   "metadata": {},
   "outputs": [],
   "source": [
    "X_train, X_test, y_train, y_test = train_test_split(data.drop('result', axis=1), data['result'], test_size=0.15)"
   ]
  },
  {
   "cell_type": "code",
   "execution_count": 11,
   "metadata": {},
   "outputs": [],
   "source": [
    "logistic_regression, random_forest, xgboost = LogisticRegression(), RandomForestClassifier(), GradientBoostingClassifier()\n",
    "models = [logistic_regression, random_forest, xgboost] "
   ]
  },
  {
   "cell_type": "code",
   "execution_count": 12,
   "metadata": {},
   "outputs": [],
   "source": [
    "for model in models:\n",
    "    model.fit(X_train, y_train)\n"
   ]
  },
  {
   "cell_type": "code",
   "execution_count": 13,
   "metadata": {},
   "outputs": [
    {
     "name": "stdout",
     "output_type": "stream",
     "text": [
      "Score: 0.8972046889089269\n",
      "Score: 0.9008115419296664\n",
      "Score: 0.9026149684400361\n"
     ]
    }
   ],
   "source": [
    "for model in models:\n",
    "    print(f\"Score: {model.score(X_test, y_test)}\")"
   ]
  },
  {
   "cell_type": "markdown",
   "metadata": {},
   "source": [
    "#### Selecting observation, predictions"
   ]
  },
  {
   "cell_type": "code",
   "execution_count": 34,
   "metadata": {},
   "outputs": [
    {
     "data": {
      "text/plain": [
       "[0.39756797223035245, 0.02, 0.21179511646378305]"
      ]
     },
     "execution_count": 34,
     "metadata": {},
     "output_type": "execute_result"
    }
   ],
   "source": [
    "any_observation = X_train.iloc[[99]]\n",
    "[model.predict_proba(any_observation)[0][1] for model in models]"
   ]
  },
  {
   "cell_type": "markdown",
   "metadata": {},
   "source": [
    "#### Creating explainers, Ceteris-Paribus profiles"
   ]
  },
  {
   "cell_type": "code",
   "execution_count": 35,
   "metadata": {},
   "outputs": [
    {
     "name": "stdout",
     "output_type": "stream",
     "text": [
      "Preparation of a new explainer is initiated\n",
      "\n",
      "  -> data              : 6280 rows 7 cols\n",
      "  -> target variable   : Parameter 'y' was a pandas.Series. Converted to a numpy.ndarray.\n",
      "  -> target variable   : 6280 values\n",
      "  -> model_class       : sklearn.linear_model._logistic.LogisticRegression (default)\n",
      "  -> label             : Not specified, model's class short name will be used. (default)\n",
      "  -> predict function  : <function yhat_proba_default at 0x120711750> will be used (default)\n",
      "  -> predict function  : Accepts pandas.DataFrame and numpy.ndarray.\n",
      "  -> predicted values  : min = 2.53e-06, mean = 0.104, max = 0.73\n",
      "  -> model type        : classification will be used (default)\n",
      "  -> residual function : difference between y and yhat (default)\n",
      "  -> residuals         : min = -0.72, mean = 6.35e-06, max = 0.989\n",
      "  -> model_info        : package sklearn\n",
      "\n",
      "A new explainer has been created!\n",
      "Preparation of a new explainer is initiated\n",
      "\n",
      "  -> data              : 6280 rows 7 cols\n",
      "  -> target variable   : Parameter 'y' was a pandas.Series. Converted to a numpy.ndarray.\n",
      "  -> target variable   : 6280 values\n",
      "  -> model_class       : sklearn.ensemble._forest.RandomForestClassifier (default)\n",
      "  -> label             : Not specified, model's class short name will be used. (default)\n",
      "  -> predict function  : <function yhat_proba_default at 0x120711750> will be used (default)\n",
      "  -> predict function  : Accepts pandas.DataFrame and numpy.ndarray.\n",
      "  -> predicted values  : min = 0.0, mean = 0.105, max = 1.0\n",
      "  -> model type        : classification will be used (default)\n",
      "  -> residual function : difference between y and yhat (default)\n"
     ]
    },
    {
     "name": "stderr",
     "output_type": "stream",
     "text": [
      "/usr/local/lib/python3.10/site-packages/sklearn/base.py:450: UserWarning:\n",
      "\n",
      "X does not have valid feature names, but LogisticRegression was fitted with feature names\n",
      "\n",
      "/usr/local/lib/python3.10/site-packages/sklearn/base.py:450: UserWarning:\n",
      "\n",
      "X does not have valid feature names, but RandomForestClassifier was fitted with feature names\n",
      "\n",
      "/usr/local/lib/python3.10/site-packages/sklearn/base.py:450: UserWarning:\n",
      "\n",
      "X does not have valid feature names, but GradientBoostingClassifier was fitted with feature names\n",
      "\n"
     ]
    },
    {
     "name": "stdout",
     "output_type": "stream",
     "text": [
      "  -> residuals         : min = -0.677, mean = -0.000888, max = 0.48\n",
      "  -> model_info        : package sklearn\n",
      "\n",
      "A new explainer has been created!\n",
      "Preparation of a new explainer is initiated\n",
      "\n",
      "  -> data              : 6280 rows 7 cols\n",
      "  -> target variable   : Parameter 'y' was a pandas.Series. Converted to a numpy.ndarray.\n",
      "  -> target variable   : 6280 values\n",
      "  -> model_class       : sklearn.ensemble._gb.GradientBoostingClassifier (default)\n",
      "  -> label             : Not specified, model's class short name will be used. (default)\n",
      "  -> predict function  : <function yhat_proba_default at 0x120711750> will be used (default)\n",
      "  -> predict function  : Accepts pandas.DataFrame and numpy.ndarray.\n",
      "  -> predicted values  : min = 0.0121, mean = 0.105, max = 0.954\n",
      "  -> model type        : classification will be used (default)\n",
      "  -> residual function : difference between y and yhat (default)\n",
      "  -> residuals         : min = -0.787, mean = -7.37e-05, max = 0.98\n",
      "  -> model_info        : package sklearn\n",
      "\n",
      "A new explainer has been created!\n"
     ]
    }
   ],
   "source": [
    "explainers = [dx.Explainer(model, X_train, y_train) for model in models]"
   ]
  },
  {
   "cell_type": "code",
   "execution_count": 38,
   "metadata": {},
   "outputs": [
    {
     "name": "stderr",
     "output_type": "stream",
     "text": [
      "Calculating ceteris paribus: 100%|██████████| 7/7 [00:00<00:00, 288.28it/s]\n",
      "Calculating ceteris paribus: 100%|██████████| 7/7 [00:00<00:00, 74.33it/s]\n",
      "Calculating ceteris paribus: 100%|██████████| 7/7 [00:00<00:00, 316.36it/s]\n"
     ]
    },
    {
     "data": {
      "application/vnd.plotly.v1+json": {
       "config": {
        "displaylogo": false,
        "modeBarButtonsToRemove": [
         "sendDataToCloud",
         "lasso2d",
         "autoScale2d",
         "select2d",
         "zoom2d",
         "pan2d",
         "zoomIn2d",
         "zoomOut2d",
         "resetScale2d",
         "toggleSpikelines",
         "hoverCompareCartesian",
         "hoverClosestCartesian"
        ],
        "plotlyServerURL": "https://plot.ly",
        "staticPlot": false,
        "toImageButtonOptions": {
         "height": null,
         "width": null
        }
       },
       "data": [
        {
         "customdata": [
          [
           "</br>id: 2929</br>prediction: 0.398</br>h_a: 0.0</br></br>situation: 1.0</br>shotType: 0.0</br>lastAction: 14.0</br>minute: 41</br>distance: 4.588861943363718</br>angle: 76.94750555554026</br>_original_yhat_: 0.39756797223035245</br>"
          ],
          [
           "</br>id: 2929</br>prediction: 0.397</br>h_a: 0.01</br></br>situation: 1.0</br>shotType: 0.0</br>lastAction: 14.0</br>minute: 41</br>distance: 4.588861943363718</br>angle: 76.94750555554026</br>_original_yhat_: 0.39756797223035245</br>"
          ],
          [
           "</br>id: 2929</br>prediction: 0.397</br>h_a: 0.02</br></br>situation: 1.0</br>shotType: 0.0</br>lastAction: 14.0</br>minute: 41</br>distance: 4.588861943363718</br>angle: 76.94750555554026</br>_original_yhat_: 0.39756797223035245</br>"
          ],
          [
           "</br>id: 2929</br>prediction: 0.397</br>h_a: 0.03</br></br>situation: 1.0</br>shotType: 0.0</br>lastAction: 14.0</br>minute: 41</br>distance: 4.588861943363718</br>angle: 76.94750555554026</br>_original_yhat_: 0.39756797223035245</br>"
          ],
          [
           "</br>id: 2929</br>prediction: 0.397</br>h_a: 0.04</br></br>situation: 1.0</br>shotType: 0.0</br>lastAction: 14.0</br>minute: 41</br>distance: 4.588861943363718</br>angle: 76.94750555554026</br>_original_yhat_: 0.39756797223035245</br>"
          ],
          [
           "</br>id: 2929</br>prediction: 0.397</br>h_a: 0.05</br></br>situation: 1.0</br>shotType: 0.0</br>lastAction: 14.0</br>minute: 41</br>distance: 4.588861943363718</br>angle: 76.94750555554026</br>_original_yhat_: 0.39756797223035245</br>"
          ],
          [
           "</br>id: 2929</br>prediction: 0.397</br>h_a: 0.06</br></br>situation: 1.0</br>shotType: 0.0</br>lastAction: 14.0</br>minute: 41</br>distance: 4.588861943363718</br>angle: 76.94750555554026</br>_original_yhat_: 0.39756797223035245</br>"
          ],
          [
           "</br>id: 2929</br>prediction: 0.397</br>h_a: 0.07</br></br>situation: 1.0</br>shotType: 0.0</br>lastAction: 14.0</br>minute: 41</br>distance: 4.588861943363718</br>angle: 76.94750555554026</br>_original_yhat_: 0.39756797223035245</br>"
          ],
          [
           "</br>id: 2929</br>prediction: 0.396</br>h_a: 0.08</br></br>situation: 1.0</br>shotType: 0.0</br>lastAction: 14.0</br>minute: 41</br>distance: 4.588861943363718</br>angle: 76.94750555554026</br>_original_yhat_: 0.39756797223035245</br>"
          ],
          [
           "</br>id: 2929</br>prediction: 0.396</br>h_a: 0.09</br></br>situation: 1.0</br>shotType: 0.0</br>lastAction: 14.0</br>minute: 41</br>distance: 4.588861943363718</br>angle: 76.94750555554026</br>_original_yhat_: 0.39756797223035245</br>"
          ],
          [
           "</br>id: 2929</br>prediction: 0.396</br>h_a: 0.1</br></br>situation: 1.0</br>shotType: 0.0</br>lastAction: 14.0</br>minute: 41</br>distance: 4.588861943363718</br>angle: 76.94750555554026</br>_original_yhat_: 0.39756797223035245</br>"
          ],
          [
           "</br>id: 2929</br>prediction: 0.396</br>h_a: 0.11</br></br>situation: 1.0</br>shotType: 0.0</br>lastAction: 14.0</br>minute: 41</br>distance: 4.588861943363718</br>angle: 76.94750555554026</br>_original_yhat_: 0.39756797223035245</br>"
          ],
          [
           "</br>id: 2929</br>prediction: 0.396</br>h_a: 0.12</br></br>situation: 1.0</br>shotType: 0.0</br>lastAction: 14.0</br>minute: 41</br>distance: 4.588861943363718</br>angle: 76.94750555554026</br>_original_yhat_: 0.39756797223035245</br>"
          ],
          [
           "</br>id: 2929</br>prediction: 0.396</br>h_a: 0.13</br></br>situation: 1.0</br>shotType: 0.0</br>lastAction: 14.0</br>minute: 41</br>distance: 4.588861943363718</br>angle: 76.94750555554026</br>_original_yhat_: 0.39756797223035245</br>"
          ],
          [
           "</br>id: 2929</br>prediction: 0.396</br>h_a: 0.14</br></br>situation: 1.0</br>shotType: 0.0</br>lastAction: 14.0</br>minute: 41</br>distance: 4.588861943363718</br>angle: 76.94750555554026</br>_original_yhat_: 0.39756797223035245</br>"
          ],
          [
           "</br>id: 2929</br>prediction: 0.395</br>h_a: 0.15</br></br>situation: 1.0</br>shotType: 0.0</br>lastAction: 14.0</br>minute: 41</br>distance: 4.588861943363718</br>angle: 76.94750555554026</br>_original_yhat_: 0.39756797223035245</br>"
          ],
          [
           "</br>id: 2929</br>prediction: 0.395</br>h_a: 0.16</br></br>situation: 1.0</br>shotType: 0.0</br>lastAction: 14.0</br>minute: 41</br>distance: 4.588861943363718</br>angle: 76.94750555554026</br>_original_yhat_: 0.39756797223035245</br>"
          ],
          [
           "</br>id: 2929</br>prediction: 0.395</br>h_a: 0.17</br></br>situation: 1.0</br>shotType: 0.0</br>lastAction: 14.0</br>minute: 41</br>distance: 4.588861943363718</br>angle: 76.94750555554026</br>_original_yhat_: 0.39756797223035245</br>"
          ],
          [
           "</br>id: 2929</br>prediction: 0.395</br>h_a: 0.18</br></br>situation: 1.0</br>shotType: 0.0</br>lastAction: 14.0</br>minute: 41</br>distance: 4.588861943363718</br>angle: 76.94750555554026</br>_original_yhat_: 0.39756797223035245</br>"
          ],
          [
           "</br>id: 2929</br>prediction: 0.395</br>h_a: 0.19</br></br>situation: 1.0</br>shotType: 0.0</br>lastAction: 14.0</br>minute: 41</br>distance: 4.588861943363718</br>angle: 76.94750555554026</br>_original_yhat_: 0.39756797223035245</br>"
          ],
          [
           "</br>id: 2929</br>prediction: 0.395</br>h_a: 0.2</br></br>situation: 1.0</br>shotType: 0.0</br>lastAction: 14.0</br>minute: 41</br>distance: 4.588861943363718</br>angle: 76.94750555554026</br>_original_yhat_: 0.39756797223035245</br>"
          ],
          [
           "</br>id: 2929</br>prediction: 0.395</br>h_a: 0.21</br></br>situation: 1.0</br>shotType: 0.0</br>lastAction: 14.0</br>minute: 41</br>distance: 4.588861943363718</br>angle: 76.94750555554026</br>_original_yhat_: 0.39756797223035245</br>"
          ],
          [
           "</br>id: 2929</br>prediction: 0.394</br>h_a: 0.22</br></br>situation: 1.0</br>shotType: 0.0</br>lastAction: 14.0</br>minute: 41</br>distance: 4.588861943363718</br>angle: 76.94750555554026</br>_original_yhat_: 0.39756797223035245</br>"
          ],
          [
           "</br>id: 2929</br>prediction: 0.394</br>h_a: 0.23</br></br>situation: 1.0</br>shotType: 0.0</br>lastAction: 14.0</br>minute: 41</br>distance: 4.588861943363718</br>angle: 76.94750555554026</br>_original_yhat_: 0.39756797223035245</br>"
          ],
          [
           "</br>id: 2929</br>prediction: 0.394</br>h_a: 0.24</br></br>situation: 1.0</br>shotType: 0.0</br>lastAction: 14.0</br>minute: 41</br>distance: 4.588861943363718</br>angle: 76.94750555554026</br>_original_yhat_: 0.39756797223035245</br>"
          ],
          [
           "</br>id: 2929</br>prediction: 0.394</br>h_a: 0.25</br></br>situation: 1.0</br>shotType: 0.0</br>lastAction: 14.0</br>minute: 41</br>distance: 4.588861943363718</br>angle: 76.94750555554026</br>_original_yhat_: 0.39756797223035245</br>"
          ],
          [
           "</br>id: 2929</br>prediction: 0.394</br>h_a: 0.26</br></br>situation: 1.0</br>shotType: 0.0</br>lastAction: 14.0</br>minute: 41</br>distance: 4.588861943363718</br>angle: 76.94750555554026</br>_original_yhat_: 0.39756797223035245</br>"
          ],
          [
           "</br>id: 2929</br>prediction: 0.394</br>h_a: 0.27</br></br>situation: 1.0</br>shotType: 0.0</br>lastAction: 14.0</br>minute: 41</br>distance: 4.588861943363718</br>angle: 76.94750555554026</br>_original_yhat_: 0.39756797223035245</br>"
          ],
          [
           "</br>id: 2929</br>prediction: 0.394</br>h_a: 0.28</br></br>situation: 1.0</br>shotType: 0.0</br>lastAction: 14.0</br>minute: 41</br>distance: 4.588861943363718</br>angle: 76.94750555554026</br>_original_yhat_: 0.39756797223035245</br>"
          ],
          [
           "</br>id: 2929</br>prediction: 0.394</br>h_a: 0.29</br></br>situation: 1.0</br>shotType: 0.0</br>lastAction: 14.0</br>minute: 41</br>distance: 4.588861943363718</br>angle: 76.94750555554026</br>_original_yhat_: 0.39756797223035245</br>"
          ],
          [
           "</br>id: 2929</br>prediction: 0.393</br>h_a: 0.3</br></br>situation: 1.0</br>shotType: 0.0</br>lastAction: 14.0</br>minute: 41</br>distance: 4.588861943363718</br>angle: 76.94750555554026</br>_original_yhat_: 0.39756797223035245</br>"
          ],
          [
           "</br>id: 2929</br>prediction: 0.393</br>h_a: 0.31</br></br>situation: 1.0</br>shotType: 0.0</br>lastAction: 14.0</br>minute: 41</br>distance: 4.588861943363718</br>angle: 76.94750555554026</br>_original_yhat_: 0.39756797223035245</br>"
          ],
          [
           "</br>id: 2929</br>prediction: 0.393</br>h_a: 0.32</br></br>situation: 1.0</br>shotType: 0.0</br>lastAction: 14.0</br>minute: 41</br>distance: 4.588861943363718</br>angle: 76.94750555554026</br>_original_yhat_: 0.39756797223035245</br>"
          ],
          [
           "</br>id: 2929</br>prediction: 0.393</br>h_a: 0.33</br></br>situation: 1.0</br>shotType: 0.0</br>lastAction: 14.0</br>minute: 41</br>distance: 4.588861943363718</br>angle: 76.94750555554026</br>_original_yhat_: 0.39756797223035245</br>"
          ],
          [
           "</br>id: 2929</br>prediction: 0.393</br>h_a: 0.34</br></br>situation: 1.0</br>shotType: 0.0</br>lastAction: 14.0</br>minute: 41</br>distance: 4.588861943363718</br>angle: 76.94750555554026</br>_original_yhat_: 0.39756797223035245</br>"
          ],
          [
           "</br>id: 2929</br>prediction: 0.393</br>h_a: 0.35000000000000003</br></br>situation: 1.0</br>shotType: 0.0</br>lastAction: 14.0</br>minute: 41</br>distance: 4.588861943363718</br>angle: 76.94750555554026</br>_original_yhat_: 0.39756797223035245</br>"
          ],
          [
           "</br>id: 2929</br>prediction: 0.393</br>h_a: 0.36</br></br>situation: 1.0</br>shotType: 0.0</br>lastAction: 14.0</br>minute: 41</br>distance: 4.588861943363718</br>angle: 76.94750555554026</br>_original_yhat_: 0.39756797223035245</br>"
          ],
          [
           "</br>id: 2929</br>prediction: 0.392</br>h_a: 0.37</br></br>situation: 1.0</br>shotType: 0.0</br>lastAction: 14.0</br>minute: 41</br>distance: 4.588861943363718</br>angle: 76.94750555554026</br>_original_yhat_: 0.39756797223035245</br>"
          ],
          [
           "</br>id: 2929</br>prediction: 0.392</br>h_a: 0.38</br></br>situation: 1.0</br>shotType: 0.0</br>lastAction: 14.0</br>minute: 41</br>distance: 4.588861943363718</br>angle: 76.94750555554026</br>_original_yhat_: 0.39756797223035245</br>"
          ],
          [
           "</br>id: 2929</br>prediction: 0.392</br>h_a: 0.39</br></br>situation: 1.0</br>shotType: 0.0</br>lastAction: 14.0</br>minute: 41</br>distance: 4.588861943363718</br>angle: 76.94750555554026</br>_original_yhat_: 0.39756797223035245</br>"
          ],
          [
           "</br>id: 2929</br>prediction: 0.392</br>h_a: 0.4</br></br>situation: 1.0</br>shotType: 0.0</br>lastAction: 14.0</br>minute: 41</br>distance: 4.588861943363718</br>angle: 76.94750555554026</br>_original_yhat_: 0.39756797223035245</br>"
          ],
          [
           "</br>id: 2929</br>prediction: 0.392</br>h_a: 0.41000000000000003</br></br>situation: 1.0</br>shotType: 0.0</br>lastAction: 14.0</br>minute: 41</br>distance: 4.588861943363718</br>angle: 76.94750555554026</br>_original_yhat_: 0.39756797223035245</br>"
          ],
          [
           "</br>id: 2929</br>prediction: 0.392</br>h_a: 0.42</br></br>situation: 1.0</br>shotType: 0.0</br>lastAction: 14.0</br>minute: 41</br>distance: 4.588861943363718</br>angle: 76.94750555554026</br>_original_yhat_: 0.39756797223035245</br>"
          ],
          [
           "</br>id: 2929</br>prediction: 0.392</br>h_a: 0.43</br></br>situation: 1.0</br>shotType: 0.0</br>lastAction: 14.0</br>minute: 41</br>distance: 4.588861943363718</br>angle: 76.94750555554026</br>_original_yhat_: 0.39756797223035245</br>"
          ],
          [
           "</br>id: 2929</br>prediction: 0.391</br>h_a: 0.44</br></br>situation: 1.0</br>shotType: 0.0</br>lastAction: 14.0</br>minute: 41</br>distance: 4.588861943363718</br>angle: 76.94750555554026</br>_original_yhat_: 0.39756797223035245</br>"
          ],
          [
           "</br>id: 2929</br>prediction: 0.391</br>h_a: 0.45</br></br>situation: 1.0</br>shotType: 0.0</br>lastAction: 14.0</br>minute: 41</br>distance: 4.588861943363718</br>angle: 76.94750555554026</br>_original_yhat_: 0.39756797223035245</br>"
          ],
          [
           "</br>id: 2929</br>prediction: 0.391</br>h_a: 0.46</br></br>situation: 1.0</br>shotType: 0.0</br>lastAction: 14.0</br>minute: 41</br>distance: 4.588861943363718</br>angle: 76.94750555554026</br>_original_yhat_: 0.39756797223035245</br>"
          ],
          [
           "</br>id: 2929</br>prediction: 0.391</br>h_a: 0.47000000000000003</br></br>situation: 1.0</br>shotType: 0.0</br>lastAction: 14.0</br>minute: 41</br>distance: 4.588861943363718</br>angle: 76.94750555554026</br>_original_yhat_: 0.39756797223035245</br>"
          ],
          [
           "</br>id: 2929</br>prediction: 0.391</br>h_a: 0.48</br></br>situation: 1.0</br>shotType: 0.0</br>lastAction: 14.0</br>minute: 41</br>distance: 4.588861943363718</br>angle: 76.94750555554026</br>_original_yhat_: 0.39756797223035245</br>"
          ],
          [
           "</br>id: 2929</br>prediction: 0.391</br>h_a: 0.49</br></br>situation: 1.0</br>shotType: 0.0</br>lastAction: 14.0</br>minute: 41</br>distance: 4.588861943363718</br>angle: 76.94750555554026</br>_original_yhat_: 0.39756797223035245</br>"
          ],
          [
           "</br>id: 2929</br>prediction: 0.391</br>h_a: 0.5</br></br>situation: 1.0</br>shotType: 0.0</br>lastAction: 14.0</br>minute: 41</br>distance: 4.588861943363718</br>angle: 76.94750555554026</br>_original_yhat_: 0.39756797223035245</br>"
          ],
          [
           "</br>id: 2929</br>prediction: 0.39</br>h_a: 0.51</br></br>situation: 1.0</br>shotType: 0.0</br>lastAction: 14.0</br>minute: 41</br>distance: 4.588861943363718</br>angle: 76.94750555554026</br>_original_yhat_: 0.39756797223035245</br>"
          ],
          [
           "</br>id: 2929</br>prediction: 0.39</br>h_a: 0.52</br></br>situation: 1.0</br>shotType: 0.0</br>lastAction: 14.0</br>minute: 41</br>distance: 4.588861943363718</br>angle: 76.94750555554026</br>_original_yhat_: 0.39756797223035245</br>"
          ],
          [
           "</br>id: 2929</br>prediction: 0.39</br>h_a: 0.53</br></br>situation: 1.0</br>shotType: 0.0</br>lastAction: 14.0</br>minute: 41</br>distance: 4.588861943363718</br>angle: 76.94750555554026</br>_original_yhat_: 0.39756797223035245</br>"
          ],
          [
           "</br>id: 2929</br>prediction: 0.39</br>h_a: 0.54</br></br>situation: 1.0</br>shotType: 0.0</br>lastAction: 14.0</br>minute: 41</br>distance: 4.588861943363718</br>angle: 76.94750555554026</br>_original_yhat_: 0.39756797223035245</br>"
          ],
          [
           "</br>id: 2929</br>prediction: 0.39</br>h_a: 0.55</br></br>situation: 1.0</br>shotType: 0.0</br>lastAction: 14.0</br>minute: 41</br>distance: 4.588861943363718</br>angle: 76.94750555554026</br>_original_yhat_: 0.39756797223035245</br>"
          ],
          [
           "</br>id: 2929</br>prediction: 0.39</br>h_a: 0.56</br></br>situation: 1.0</br>shotType: 0.0</br>lastAction: 14.0</br>minute: 41</br>distance: 4.588861943363718</br>angle: 76.94750555554026</br>_original_yhat_: 0.39756797223035245</br>"
          ],
          [
           "</br>id: 2929</br>prediction: 0.39</br>h_a: 0.5700000000000001</br></br>situation: 1.0</br>shotType: 0.0</br>lastAction: 14.0</br>minute: 41</br>distance: 4.588861943363718</br>angle: 76.94750555554026</br>_original_yhat_: 0.39756797223035245</br>"
          ],
          [
           "</br>id: 2929</br>prediction: 0.389</br>h_a: 0.58</br></br>situation: 1.0</br>shotType: 0.0</br>lastAction: 14.0</br>minute: 41</br>distance: 4.588861943363718</br>angle: 76.94750555554026</br>_original_yhat_: 0.39756797223035245</br>"
          ],
          [
           "</br>id: 2929</br>prediction: 0.389</br>h_a: 0.59</br></br>situation: 1.0</br>shotType: 0.0</br>lastAction: 14.0</br>minute: 41</br>distance: 4.588861943363718</br>angle: 76.94750555554026</br>_original_yhat_: 0.39756797223035245</br>"
          ],
          [
           "</br>id: 2929</br>prediction: 0.389</br>h_a: 0.6</br></br>situation: 1.0</br>shotType: 0.0</br>lastAction: 14.0</br>minute: 41</br>distance: 4.588861943363718</br>angle: 76.94750555554026</br>_original_yhat_: 0.39756797223035245</br>"
          ],
          [
           "</br>id: 2929</br>prediction: 0.389</br>h_a: 0.61</br></br>situation: 1.0</br>shotType: 0.0</br>lastAction: 14.0</br>minute: 41</br>distance: 4.588861943363718</br>angle: 76.94750555554026</br>_original_yhat_: 0.39756797223035245</br>"
          ],
          [
           "</br>id: 2929</br>prediction: 0.389</br>h_a: 0.62</br></br>situation: 1.0</br>shotType: 0.0</br>lastAction: 14.0</br>minute: 41</br>distance: 4.588861943363718</br>angle: 76.94750555554026</br>_original_yhat_: 0.39756797223035245</br>"
          ],
          [
           "</br>id: 2929</br>prediction: 0.389</br>h_a: 0.63</br></br>situation: 1.0</br>shotType: 0.0</br>lastAction: 14.0</br>minute: 41</br>distance: 4.588861943363718</br>angle: 76.94750555554026</br>_original_yhat_: 0.39756797223035245</br>"
          ],
          [
           "</br>id: 2929</br>prediction: 0.389</br>h_a: 0.64</br></br>situation: 1.0</br>shotType: 0.0</br>lastAction: 14.0</br>minute: 41</br>distance: 4.588861943363718</br>angle: 76.94750555554026</br>_original_yhat_: 0.39756797223035245</br>"
          ],
          [
           "</br>id: 2929</br>prediction: 0.389</br>h_a: 0.65</br></br>situation: 1.0</br>shotType: 0.0</br>lastAction: 14.0</br>minute: 41</br>distance: 4.588861943363718</br>angle: 76.94750555554026</br>_original_yhat_: 0.39756797223035245</br>"
          ],
          [
           "</br>id: 2929</br>prediction: 0.388</br>h_a: 0.66</br></br>situation: 1.0</br>shotType: 0.0</br>lastAction: 14.0</br>minute: 41</br>distance: 4.588861943363718</br>angle: 76.94750555554026</br>_original_yhat_: 0.39756797223035245</br>"
          ],
          [
           "</br>id: 2929</br>prediction: 0.388</br>h_a: 0.67</br></br>situation: 1.0</br>shotType: 0.0</br>lastAction: 14.0</br>minute: 41</br>distance: 4.588861943363718</br>angle: 76.94750555554026</br>_original_yhat_: 0.39756797223035245</br>"
          ],
          [
           "</br>id: 2929</br>prediction: 0.388</br>h_a: 0.68</br></br>situation: 1.0</br>shotType: 0.0</br>lastAction: 14.0</br>minute: 41</br>distance: 4.588861943363718</br>angle: 76.94750555554026</br>_original_yhat_: 0.39756797223035245</br>"
          ],
          [
           "</br>id: 2929</br>prediction: 0.388</br>h_a: 0.6900000000000001</br></br>situation: 1.0</br>shotType: 0.0</br>lastAction: 14.0</br>minute: 41</br>distance: 4.588861943363718</br>angle: 76.94750555554026</br>_original_yhat_: 0.39756797223035245</br>"
          ],
          [
           "</br>id: 2929</br>prediction: 0.388</br>h_a: 0.7000000000000001</br></br>situation: 1.0</br>shotType: 0.0</br>lastAction: 14.0</br>minute: 41</br>distance: 4.588861943363718</br>angle: 76.94750555554026</br>_original_yhat_: 0.39756797223035245</br>"
          ],
          [
           "</br>id: 2929</br>prediction: 0.388</br>h_a: 0.71</br></br>situation: 1.0</br>shotType: 0.0</br>lastAction: 14.0</br>minute: 41</br>distance: 4.588861943363718</br>angle: 76.94750555554026</br>_original_yhat_: 0.39756797223035245</br>"
          ],
          [
           "</br>id: 2929</br>prediction: 0.388</br>h_a: 0.72</br></br>situation: 1.0</br>shotType: 0.0</br>lastAction: 14.0</br>minute: 41</br>distance: 4.588861943363718</br>angle: 76.94750555554026</br>_original_yhat_: 0.39756797223035245</br>"
          ],
          [
           "</br>id: 2929</br>prediction: 0.387</br>h_a: 0.73</br></br>situation: 1.0</br>shotType: 0.0</br>lastAction: 14.0</br>minute: 41</br>distance: 4.588861943363718</br>angle: 76.94750555554026</br>_original_yhat_: 0.39756797223035245</br>"
          ],
          [
           "</br>id: 2929</br>prediction: 0.387</br>h_a: 0.74</br></br>situation: 1.0</br>shotType: 0.0</br>lastAction: 14.0</br>minute: 41</br>distance: 4.588861943363718</br>angle: 76.94750555554026</br>_original_yhat_: 0.39756797223035245</br>"
          ],
          [
           "</br>id: 2929</br>prediction: 0.387</br>h_a: 0.75</br></br>situation: 1.0</br>shotType: 0.0</br>lastAction: 14.0</br>minute: 41</br>distance: 4.588861943363718</br>angle: 76.94750555554026</br>_original_yhat_: 0.39756797223035245</br>"
          ],
          [
           "</br>id: 2929</br>prediction: 0.387</br>h_a: 0.76</br></br>situation: 1.0</br>shotType: 0.0</br>lastAction: 14.0</br>minute: 41</br>distance: 4.588861943363718</br>angle: 76.94750555554026</br>_original_yhat_: 0.39756797223035245</br>"
          ],
          [
           "</br>id: 2929</br>prediction: 0.387</br>h_a: 0.77</br></br>situation: 1.0</br>shotType: 0.0</br>lastAction: 14.0</br>minute: 41</br>distance: 4.588861943363718</br>angle: 76.94750555554026</br>_original_yhat_: 0.39756797223035245</br>"
          ],
          [
           "</br>id: 2929</br>prediction: 0.387</br>h_a: 0.78</br></br>situation: 1.0</br>shotType: 0.0</br>lastAction: 14.0</br>minute: 41</br>distance: 4.588861943363718</br>angle: 76.94750555554026</br>_original_yhat_: 0.39756797223035245</br>"
          ],
          [
           "</br>id: 2929</br>prediction: 0.387</br>h_a: 0.79</br></br>situation: 1.0</br>shotType: 0.0</br>lastAction: 14.0</br>minute: 41</br>distance: 4.588861943363718</br>angle: 76.94750555554026</br>_original_yhat_: 0.39756797223035245</br>"
          ],
          [
           "</br>id: 2929</br>prediction: 0.386</br>h_a: 0.8</br></br>situation: 1.0</br>shotType: 0.0</br>lastAction: 14.0</br>minute: 41</br>distance: 4.588861943363718</br>angle: 76.94750555554026</br>_original_yhat_: 0.39756797223035245</br>"
          ],
          [
           "</br>id: 2929</br>prediction: 0.386</br>h_a: 0.81</br></br>situation: 1.0</br>shotType: 0.0</br>lastAction: 14.0</br>minute: 41</br>distance: 4.588861943363718</br>angle: 76.94750555554026</br>_original_yhat_: 0.39756797223035245</br>"
          ],
          [
           "</br>id: 2929</br>prediction: 0.386</br>h_a: 0.8200000000000001</br></br>situation: 1.0</br>shotType: 0.0</br>lastAction: 14.0</br>minute: 41</br>distance: 4.588861943363718</br>angle: 76.94750555554026</br>_original_yhat_: 0.39756797223035245</br>"
          ],
          [
           "</br>id: 2929</br>prediction: 0.386</br>h_a: 0.8300000000000001</br></br>situation: 1.0</br>shotType: 0.0</br>lastAction: 14.0</br>minute: 41</br>distance: 4.588861943363718</br>angle: 76.94750555554026</br>_original_yhat_: 0.39756797223035245</br>"
          ],
          [
           "</br>id: 2929</br>prediction: 0.386</br>h_a: 0.84</br></br>situation: 1.0</br>shotType: 0.0</br>lastAction: 14.0</br>minute: 41</br>distance: 4.588861943363718</br>angle: 76.94750555554026</br>_original_yhat_: 0.39756797223035245</br>"
          ],
          [
           "</br>id: 2929</br>prediction: 0.386</br>h_a: 0.85</br></br>situation: 1.0</br>shotType: 0.0</br>lastAction: 14.0</br>minute: 41</br>distance: 4.588861943363718</br>angle: 76.94750555554026</br>_original_yhat_: 0.39756797223035245</br>"
          ],
          [
           "</br>id: 2929</br>prediction: 0.386</br>h_a: 0.86</br></br>situation: 1.0</br>shotType: 0.0</br>lastAction: 14.0</br>minute: 41</br>distance: 4.588861943363718</br>angle: 76.94750555554026</br>_original_yhat_: 0.39756797223035245</br>"
          ],
          [
           "</br>id: 2929</br>prediction: 0.385</br>h_a: 0.87</br></br>situation: 1.0</br>shotType: 0.0</br>lastAction: 14.0</br>minute: 41</br>distance: 4.588861943363718</br>angle: 76.94750555554026</br>_original_yhat_: 0.39756797223035245</br>"
          ],
          [
           "</br>id: 2929</br>prediction: 0.385</br>h_a: 0.88</br></br>situation: 1.0</br>shotType: 0.0</br>lastAction: 14.0</br>minute: 41</br>distance: 4.588861943363718</br>angle: 76.94750555554026</br>_original_yhat_: 0.39756797223035245</br>"
          ],
          [
           "</br>id: 2929</br>prediction: 0.385</br>h_a: 0.89</br></br>situation: 1.0</br>shotType: 0.0</br>lastAction: 14.0</br>minute: 41</br>distance: 4.588861943363718</br>angle: 76.94750555554026</br>_original_yhat_: 0.39756797223035245</br>"
          ],
          [
           "</br>id: 2929</br>prediction: 0.385</br>h_a: 0.9</br></br>situation: 1.0</br>shotType: 0.0</br>lastAction: 14.0</br>minute: 41</br>distance: 4.588861943363718</br>angle: 76.94750555554026</br>_original_yhat_: 0.39756797223035245</br>"
          ],
          [
           "</br>id: 2929</br>prediction: 0.385</br>h_a: 0.91</br></br>situation: 1.0</br>shotType: 0.0</br>lastAction: 14.0</br>minute: 41</br>distance: 4.588861943363718</br>angle: 76.94750555554026</br>_original_yhat_: 0.39756797223035245</br>"
          ],
          [
           "</br>id: 2929</br>prediction: 0.385</br>h_a: 0.92</br></br>situation: 1.0</br>shotType: 0.0</br>lastAction: 14.0</br>minute: 41</br>distance: 4.588861943363718</br>angle: 76.94750555554026</br>_original_yhat_: 0.39756797223035245</br>"
          ],
          [
           "</br>id: 2929</br>prediction: 0.385</br>h_a: 0.93</br></br>situation: 1.0</br>shotType: 0.0</br>lastAction: 14.0</br>minute: 41</br>distance: 4.588861943363718</br>angle: 76.94750555554026</br>_original_yhat_: 0.39756797223035245</br>"
          ],
          [
           "</br>id: 2929</br>prediction: 0.385</br>h_a: 0.9400000000000001</br></br>situation: 1.0</br>shotType: 0.0</br>lastAction: 14.0</br>minute: 41</br>distance: 4.588861943363718</br>angle: 76.94750555554026</br>_original_yhat_: 0.39756797223035245</br>"
          ],
          [
           "</br>id: 2929</br>prediction: 0.384</br>h_a: 0.9500000000000001</br></br>situation: 1.0</br>shotType: 0.0</br>lastAction: 14.0</br>minute: 41</br>distance: 4.588861943363718</br>angle: 76.94750555554026</br>_original_yhat_: 0.39756797223035245</br>"
          ],
          [
           "</br>id: 2929</br>prediction: 0.384</br>h_a: 0.96</br></br>situation: 1.0</br>shotType: 0.0</br>lastAction: 14.0</br>minute: 41</br>distance: 4.588861943363718</br>angle: 76.94750555554026</br>_original_yhat_: 0.39756797223035245</br>"
          ],
          [
           "</br>id: 2929</br>prediction: 0.384</br>h_a: 0.97</br></br>situation: 1.0</br>shotType: 0.0</br>lastAction: 14.0</br>minute: 41</br>distance: 4.588861943363718</br>angle: 76.94750555554026</br>_original_yhat_: 0.39756797223035245</br>"
          ],
          [
           "</br>id: 2929</br>prediction: 0.384</br>h_a: 0.98</br></br>situation: 1.0</br>shotType: 0.0</br>lastAction: 14.0</br>minute: 41</br>distance: 4.588861943363718</br>angle: 76.94750555554026</br>_original_yhat_: 0.39756797223035245</br>"
          ],
          [
           "</br>id: 2929</br>prediction: 0.384</br>h_a: 0.99</br></br>situation: 1.0</br>shotType: 0.0</br>lastAction: 14.0</br>minute: 41</br>distance: 4.588861943363718</br>angle: 76.94750555554026</br>_original_yhat_: 0.39756797223035245</br>"
          ],
          [
           "</br>id: 2929</br>prediction: 0.384</br>h_a: 1.0</br></br>situation: 1.0</br>shotType: 0.0</br>lastAction: 14.0</br>minute: 41</br>distance: 4.588861943363718</br>angle: 76.94750555554026</br>_original_yhat_: 0.39756797223035245</br>"
          ]
         ],
         "hovertemplate": "%{customdata[0]}<extra></extra>",
         "legendgroup": "LogisticRegression",
         "line": {
          "color": "#8bdcbe",
          "dash": "solid",
          "width": 2
         },
         "marker": {
          "symbol": "circle"
         },
         "mode": "lines",
         "name": "LogisticRegression",
         "opacity": 1,
         "showlegend": true,
         "type": "scattergl",
         "x": [
          0,
          0.01,
          0.02,
          0.03,
          0.04,
          0.05,
          0.06,
          0.07,
          0.08,
          0.09,
          0.1,
          0.11,
          0.12,
          0.13,
          0.14,
          0.15,
          0.16,
          0.17,
          0.18,
          0.19,
          0.2,
          0.21,
          0.22,
          0.23,
          0.24,
          0.25,
          0.26,
          0.27,
          0.28,
          0.29,
          0.3,
          0.31,
          0.32,
          0.33,
          0.34,
          0.35000000000000003,
          0.36,
          0.37,
          0.38,
          0.39,
          0.4,
          0.41000000000000003,
          0.42,
          0.43,
          0.44,
          0.45,
          0.46,
          0.47000000000000003,
          0.48,
          0.49,
          0.5,
          0.51,
          0.52,
          0.53,
          0.54,
          0.55,
          0.56,
          0.5700000000000001,
          0.58,
          0.59,
          0.6,
          0.61,
          0.62,
          0.63,
          0.64,
          0.65,
          0.66,
          0.67,
          0.68,
          0.6900000000000001,
          0.7000000000000001,
          0.71,
          0.72,
          0.73,
          0.74,
          0.75,
          0.76,
          0.77,
          0.78,
          0.79,
          0.8,
          0.81,
          0.8200000000000001,
          0.8300000000000001,
          0.84,
          0.85,
          0.86,
          0.87,
          0.88,
          0.89,
          0.9,
          0.91,
          0.92,
          0.93,
          0.9400000000000001,
          0.9500000000000001,
          0.96,
          0.97,
          0.98,
          0.99,
          1
         ],
         "xaxis": "x7",
         "y": [
          0.39756797223035245,
          0.3974281702058516,
          0.3972883849217397,
          0.3971486163988216,
          0.39700886465789226,
          0.3968691297197353,
          0.39672941160512376,
          0.3965897103348198,
          0.39645002592957546,
          0.3963103584101311,
          0.3961707077972173,
          0.396031074111553,
          0.39589145737384684,
          0.39575185760479636,
          0.39561227482508876,
          0.39547270905539983,
          0.39533316031639504,
          0.3951936286287287,
          0.3950541140130442,
          0.39491461648997445,
          0.3947751360801409,
          0.3946356728041548,
          0.39449622668261597,
          0.3943567977361136,
          0.3942173859852258,
          0.3940779914505198,
          0.3939386141525517,
          0.39379925411186706,
          0.3936599113490003,
          0.3935205858844747,
          0.3933812777388026,
          0.39324198693248535,
          0.39310271348601333,
          0.39296345741986605,
          0.39282421875451184,
          0.3926849975104079,
          0.39254579370800047,
          0.39240660736772476,
          0.3922674385100046,
          0.3921282871552533,
          0.3919891533238727,
          0.3918500370362536,
          0.39171093831277565,
          0.3915718571738073,
          0.391432793639706,
          0.3912937477308181,
          0.39115471946747865,
          0.39101570887001147,
          0.3908767159587295,
          0.39073774075393414,
          0.39059878327591563,
          0.3904598435449532,
          0.39032092158131476,
          0.390182017405257,
          0.3900431310370253,
          0.3899042624968538,
          0.3897654118049652,
          0.38962657898157144,
          0.3894877640468725,
          0.38934896702105776,
          0.3892101879243047,
          0.3890714267767797,
          0.38893268359863775,
          0.3887939584100228,
          0.3886552512310669,
          0.3885165620818913,
          0.38837789098260556,
          0.3882392379533078,
          0.3881006030140849,
          0.3879619861850124,
          0.3878233874861541,
          0.3876848069375629,
          0.3875462445592798,
          0.3874077003713346,
          0.3872691743937453,
          0.38713066664651896,
          0.38699217714965084,
          0.38685370592312474,
          0.38671525298691306,
          0.38657681836097646,
          0.38643840206526425,
          0.3863000041197145,
          0.38616162454425323,
          0.386023263358795,
          0.3858849205832432,
          0.38574659623748936,
          0.38560829034141325,
          0.3854700029148836,
          0.3853317339777569,
          0.38519348354987837,
          0.38505525165108184,
          0.38491703830118906,
          0.38477884352001035,
          0.38464066732734437,
          0.3845025097429781,
          0.3843643707866869,
          0.3842262504782344,
          0.3840881488373726,
          0.3839500658838417,
          0.38381200163737017,
          0.383673956117675
         ],
         "yaxis": "y7"
        },
        {
         "customdata": [
          [
           "</br>id: 2929</br>prediction: 0.362</br>situation: 0.0</br></br>h_a: 0.0</br>shotType: 0.0</br>lastAction: 14.0</br>minute: 41</br>distance: 4.588861943363718</br>angle: 76.94750555554026</br>_original_yhat_: 0.39756797223035245</br>"
          ],
          [
           "</br>id: 2929</br>prediction: 0.363</br>situation: 0.04</br></br>h_a: 0.0</br>shotType: 0.0</br>lastAction: 14.0</br>minute: 41</br>distance: 4.588861943363718</br>angle: 76.94750555554026</br>_original_yhat_: 0.39756797223035245</br>"
          ],
          [
           "</br>id: 2929</br>prediction: 0.365</br>situation: 0.08</br></br>h_a: 0.0</br>shotType: 0.0</br>lastAction: 14.0</br>minute: 41</br>distance: 4.588861943363718</br>angle: 76.94750555554026</br>_original_yhat_: 0.39756797223035245</br>"
          ],
          [
           "</br>id: 2929</br>prediction: 0.366</br>situation: 0.12</br></br>h_a: 0.0</br>shotType: 0.0</br>lastAction: 14.0</br>minute: 41</br>distance: 4.588861943363718</br>angle: 76.94750555554026</br>_original_yhat_: 0.39756797223035245</br>"
          ],
          [
           "</br>id: 2929</br>prediction: 0.368</br>situation: 0.16</br></br>h_a: 0.0</br>shotType: 0.0</br>lastAction: 14.0</br>minute: 41</br>distance: 4.588861943363718</br>angle: 76.94750555554026</br>_original_yhat_: 0.39756797223035245</br>"
          ],
          [
           "</br>id: 2929</br>prediction: 0.369</br>situation: 0.2</br></br>h_a: 0.0</br>shotType: 0.0</br>lastAction: 14.0</br>minute: 41</br>distance: 4.588861943363718</br>angle: 76.94750555554026</br>_original_yhat_: 0.39756797223035245</br>"
          ],
          [
           "</br>id: 2929</br>prediction: 0.37</br>situation: 0.24</br></br>h_a: 0.0</br>shotType: 0.0</br>lastAction: 14.0</br>minute: 41</br>distance: 4.588861943363718</br>angle: 76.94750555554026</br>_original_yhat_: 0.39756797223035245</br>"
          ],
          [
           "</br>id: 2929</br>prediction: 0.372</br>situation: 0.28</br></br>h_a: 0.0</br>shotType: 0.0</br>lastAction: 14.0</br>minute: 41</br>distance: 4.588861943363718</br>angle: 76.94750555554026</br>_original_yhat_: 0.39756797223035245</br>"
          ],
          [
           "</br>id: 2929</br>prediction: 0.373</br>situation: 0.32</br></br>h_a: 0.0</br>shotType: 0.0</br>lastAction: 14.0</br>minute: 41</br>distance: 4.588861943363718</br>angle: 76.94750555554026</br>_original_yhat_: 0.39756797223035245</br>"
          ],
          [
           "</br>id: 2929</br>prediction: 0.375</br>situation: 0.36</br></br>h_a: 0.0</br>shotType: 0.0</br>lastAction: 14.0</br>minute: 41</br>distance: 4.588861943363718</br>angle: 76.94750555554026</br>_original_yhat_: 0.39756797223035245</br>"
          ],
          [
           "</br>id: 2929</br>prediction: 0.376</br>situation: 0.4</br></br>h_a: 0.0</br>shotType: 0.0</br>lastAction: 14.0</br>minute: 41</br>distance: 4.588861943363718</br>angle: 76.94750555554026</br>_original_yhat_: 0.39756797223035245</br>"
          ],
          [
           "</br>id: 2929</br>prediction: 0.378</br>situation: 0.44</br></br>h_a: 0.0</br>shotType: 0.0</br>lastAction: 14.0</br>minute: 41</br>distance: 4.588861943363718</br>angle: 76.94750555554026</br>_original_yhat_: 0.39756797223035245</br>"
          ],
          [
           "</br>id: 2929</br>prediction: 0.379</br>situation: 0.48</br></br>h_a: 0.0</br>shotType: 0.0</br>lastAction: 14.0</br>minute: 41</br>distance: 4.588861943363718</br>angle: 76.94750555554026</br>_original_yhat_: 0.39756797223035245</br>"
          ],
          [
           "</br>id: 2929</br>prediction: 0.38</br>situation: 0.52</br></br>h_a: 0.0</br>shotType: 0.0</br>lastAction: 14.0</br>minute: 41</br>distance: 4.588861943363718</br>angle: 76.94750555554026</br>_original_yhat_: 0.39756797223035245</br>"
          ],
          [
           "</br>id: 2929</br>prediction: 0.382</br>situation: 0.56</br></br>h_a: 0.0</br>shotType: 0.0</br>lastAction: 14.0</br>minute: 41</br>distance: 4.588861943363718</br>angle: 76.94750555554026</br>_original_yhat_: 0.39756797223035245</br>"
          ],
          [
           "</br>id: 2929</br>prediction: 0.383</br>situation: 0.6</br></br>h_a: 0.0</br>shotType: 0.0</br>lastAction: 14.0</br>minute: 41</br>distance: 4.588861943363718</br>angle: 76.94750555554026</br>_original_yhat_: 0.39756797223035245</br>"
          ],
          [
           "</br>id: 2929</br>prediction: 0.385</br>situation: 0.64</br></br>h_a: 0.0</br>shotType: 0.0</br>lastAction: 14.0</br>minute: 41</br>distance: 4.588861943363718</br>angle: 76.94750555554026</br>_original_yhat_: 0.39756797223035245</br>"
          ],
          [
           "</br>id: 2929</br>prediction: 0.386</br>situation: 0.68</br></br>h_a: 0.0</br>shotType: 0.0</br>lastAction: 14.0</br>minute: 41</br>distance: 4.588861943363718</br>angle: 76.94750555554026</br>_original_yhat_: 0.39756797223035245</br>"
          ],
          [
           "</br>id: 2929</br>prediction: 0.388</br>situation: 0.72</br></br>h_a: 0.0</br>shotType: 0.0</br>lastAction: 14.0</br>minute: 41</br>distance: 4.588861943363718</br>angle: 76.94750555554026</br>_original_yhat_: 0.39756797223035245</br>"
          ],
          [
           "</br>id: 2929</br>prediction: 0.389</br>situation: 0.76</br></br>h_a: 0.0</br>shotType: 0.0</br>lastAction: 14.0</br>minute: 41</br>distance: 4.588861943363718</br>angle: 76.94750555554026</br>_original_yhat_: 0.39756797223035245</br>"
          ],
          [
           "</br>id: 2929</br>prediction: 0.39</br>situation: 0.8</br></br>h_a: 0.0</br>shotType: 0.0</br>lastAction: 14.0</br>minute: 41</br>distance: 4.588861943363718</br>angle: 76.94750555554026</br>_original_yhat_: 0.39756797223035245</br>"
          ],
          [
           "</br>id: 2929</br>prediction: 0.392</br>situation: 0.84</br></br>h_a: 0.0</br>shotType: 0.0</br>lastAction: 14.0</br>minute: 41</br>distance: 4.588861943363718</br>angle: 76.94750555554026</br>_original_yhat_: 0.39756797223035245</br>"
          ],
          [
           "</br>id: 2929</br>prediction: 0.393</br>situation: 0.88</br></br>h_a: 0.0</br>shotType: 0.0</br>lastAction: 14.0</br>minute: 41</br>distance: 4.588861943363718</br>angle: 76.94750555554026</br>_original_yhat_: 0.39756797223035245</br>"
          ],
          [
           "</br>id: 2929</br>prediction: 0.395</br>situation: 0.92</br></br>h_a: 0.0</br>shotType: 0.0</br>lastAction: 14.0</br>minute: 41</br>distance: 4.588861943363718</br>angle: 76.94750555554026</br>_original_yhat_: 0.39756797223035245</br>"
          ],
          [
           "</br>id: 2929</br>prediction: 0.396</br>situation: 0.96</br></br>h_a: 0.0</br>shotType: 0.0</br>lastAction: 14.0</br>minute: 41</br>distance: 4.588861943363718</br>angle: 76.94750555554026</br>_original_yhat_: 0.39756797223035245</br>"
          ],
          [
           "</br>id: 2929</br>prediction: 0.398</br>situation: 1.0</br></br>h_a: 0.0</br>shotType: 0.0</br>lastAction: 14.0</br>minute: 41</br>distance: 4.588861943363718</br>angle: 76.94750555554026</br>_original_yhat_: 0.39756797223035245</br>"
          ],
          [
           "</br>id: 2929</br>prediction: 0.399</br>situation: 1.04</br></br>h_a: 0.0</br>shotType: 0.0</br>lastAction: 14.0</br>minute: 41</br>distance: 4.588861943363718</br>angle: 76.94750555554026</br>_original_yhat_: 0.39756797223035245</br>"
          ],
          [
           "</br>id: 2929</br>prediction: 0.4</br>situation: 1.08</br></br>h_a: 0.0</br>shotType: 0.0</br>lastAction: 14.0</br>minute: 41</br>distance: 4.588861943363718</br>angle: 76.94750555554026</br>_original_yhat_: 0.39756797223035245</br>"
          ],
          [
           "</br>id: 2929</br>prediction: 0.402</br>situation: 1.12</br></br>h_a: 0.0</br>shotType: 0.0</br>lastAction: 14.0</br>minute: 41</br>distance: 4.588861943363718</br>angle: 76.94750555554026</br>_original_yhat_: 0.39756797223035245</br>"
          ],
          [
           "</br>id: 2929</br>prediction: 0.403</br>situation: 1.16</br></br>h_a: 0.0</br>shotType: 0.0</br>lastAction: 14.0</br>minute: 41</br>distance: 4.588861943363718</br>angle: 76.94750555554026</br>_original_yhat_: 0.39756797223035245</br>"
          ],
          [
           "</br>id: 2929</br>prediction: 0.405</br>situation: 1.2</br></br>h_a: 0.0</br>shotType: 0.0</br>lastAction: 14.0</br>minute: 41</br>distance: 4.588861943363718</br>angle: 76.94750555554026</br>_original_yhat_: 0.39756797223035245</br>"
          ],
          [
           "</br>id: 2929</br>prediction: 0.406</br>situation: 1.24</br></br>h_a: 0.0</br>shotType: 0.0</br>lastAction: 14.0</br>minute: 41</br>distance: 4.588861943363718</br>angle: 76.94750555554026</br>_original_yhat_: 0.39756797223035245</br>"
          ],
          [
           "</br>id: 2929</br>prediction: 0.408</br>situation: 1.28</br></br>h_a: 0.0</br>shotType: 0.0</br>lastAction: 14.0</br>minute: 41</br>distance: 4.588861943363718</br>angle: 76.94750555554026</br>_original_yhat_: 0.39756797223035245</br>"
          ],
          [
           "</br>id: 2929</br>prediction: 0.409</br>situation: 1.32</br></br>h_a: 0.0</br>shotType: 0.0</br>lastAction: 14.0</br>minute: 41</br>distance: 4.588861943363718</br>angle: 76.94750555554026</br>_original_yhat_: 0.39756797223035245</br>"
          ],
          [
           "</br>id: 2929</br>prediction: 0.411</br>situation: 1.36</br></br>h_a: 0.0</br>shotType: 0.0</br>lastAction: 14.0</br>minute: 41</br>distance: 4.588861943363718</br>angle: 76.94750555554026</br>_original_yhat_: 0.39756797223035245</br>"
          ],
          [
           "</br>id: 2929</br>prediction: 0.412</br>situation: 1.4000000000000001</br></br>h_a: 0.0</br>shotType: 0.0</br>lastAction: 14.0</br>minute: 41</br>distance: 4.588861943363718</br>angle: 76.94750555554026</br>_original_yhat_: 0.39756797223035245</br>"
          ],
          [
           "</br>id: 2929</br>prediction: 0.414</br>situation: 1.44</br></br>h_a: 0.0</br>shotType: 0.0</br>lastAction: 14.0</br>minute: 41</br>distance: 4.588861943363718</br>angle: 76.94750555554026</br>_original_yhat_: 0.39756797223035245</br>"
          ],
          [
           "</br>id: 2929</br>prediction: 0.415</br>situation: 1.48</br></br>h_a: 0.0</br>shotType: 0.0</br>lastAction: 14.0</br>minute: 41</br>distance: 4.588861943363718</br>angle: 76.94750555554026</br>_original_yhat_: 0.39756797223035245</br>"
          ],
          [
           "</br>id: 2929</br>prediction: 0.416</br>situation: 1.52</br></br>h_a: 0.0</br>shotType: 0.0</br>lastAction: 14.0</br>minute: 41</br>distance: 4.588861943363718</br>angle: 76.94750555554026</br>_original_yhat_: 0.39756797223035245</br>"
          ],
          [
           "</br>id: 2929</br>prediction: 0.418</br>situation: 1.56</br></br>h_a: 0.0</br>shotType: 0.0</br>lastAction: 14.0</br>minute: 41</br>distance: 4.588861943363718</br>angle: 76.94750555554026</br>_original_yhat_: 0.39756797223035245</br>"
          ],
          [
           "</br>id: 2929</br>prediction: 0.419</br>situation: 1.6</br></br>h_a: 0.0</br>shotType: 0.0</br>lastAction: 14.0</br>minute: 41</br>distance: 4.588861943363718</br>angle: 76.94750555554026</br>_original_yhat_: 0.39756797223035245</br>"
          ],
          [
           "</br>id: 2929</br>prediction: 0.421</br>situation: 1.6400000000000001</br></br>h_a: 0.0</br>shotType: 0.0</br>lastAction: 14.0</br>minute: 41</br>distance: 4.588861943363718</br>angle: 76.94750555554026</br>_original_yhat_: 0.39756797223035245</br>"
          ],
          [
           "</br>id: 2929</br>prediction: 0.422</br>situation: 1.68</br></br>h_a: 0.0</br>shotType: 0.0</br>lastAction: 14.0</br>minute: 41</br>distance: 4.588861943363718</br>angle: 76.94750555554026</br>_original_yhat_: 0.39756797223035245</br>"
          ],
          [
           "</br>id: 2929</br>prediction: 0.424</br>situation: 1.72</br></br>h_a: 0.0</br>shotType: 0.0</br>lastAction: 14.0</br>minute: 41</br>distance: 4.588861943363718</br>angle: 76.94750555554026</br>_original_yhat_: 0.39756797223035245</br>"
          ],
          [
           "</br>id: 2929</br>prediction: 0.425</br>situation: 1.76</br></br>h_a: 0.0</br>shotType: 0.0</br>lastAction: 14.0</br>minute: 41</br>distance: 4.588861943363718</br>angle: 76.94750555554026</br>_original_yhat_: 0.39756797223035245</br>"
          ],
          [
           "</br>id: 2929</br>prediction: 0.427</br>situation: 1.8</br></br>h_a: 0.0</br>shotType: 0.0</br>lastAction: 14.0</br>minute: 41</br>distance: 4.588861943363718</br>angle: 76.94750555554026</br>_original_yhat_: 0.39756797223035245</br>"
          ],
          [
           "</br>id: 2929</br>prediction: 0.428</br>situation: 1.84</br></br>h_a: 0.0</br>shotType: 0.0</br>lastAction: 14.0</br>minute: 41</br>distance: 4.588861943363718</br>angle: 76.94750555554026</br>_original_yhat_: 0.39756797223035245</br>"
          ],
          [
           "</br>id: 2929</br>prediction: 0.43</br>situation: 1.8800000000000001</br></br>h_a: 0.0</br>shotType: 0.0</br>lastAction: 14.0</br>minute: 41</br>distance: 4.588861943363718</br>angle: 76.94750555554026</br>_original_yhat_: 0.39756797223035245</br>"
          ],
          [
           "</br>id: 2929</br>prediction: 0.431</br>situation: 1.92</br></br>h_a: 0.0</br>shotType: 0.0</br>lastAction: 14.0</br>minute: 41</br>distance: 4.588861943363718</br>angle: 76.94750555554026</br>_original_yhat_: 0.39756797223035245</br>"
          ],
          [
           "</br>id: 2929</br>prediction: 0.433</br>situation: 1.96</br></br>h_a: 0.0</br>shotType: 0.0</br>lastAction: 14.0</br>minute: 41</br>distance: 4.588861943363718</br>angle: 76.94750555554026</br>_original_yhat_: 0.39756797223035245</br>"
          ],
          [
           "</br>id: 2929</br>prediction: 0.434</br>situation: 2.0</br></br>h_a: 0.0</br>shotType: 0.0</br>lastAction: 14.0</br>minute: 41</br>distance: 4.588861943363718</br>angle: 76.94750555554026</br>_original_yhat_: 0.39756797223035245</br>"
          ],
          [
           "</br>id: 2929</br>prediction: 0.436</br>situation: 2.04</br></br>h_a: 0.0</br>shotType: 0.0</br>lastAction: 14.0</br>minute: 41</br>distance: 4.588861943363718</br>angle: 76.94750555554026</br>_original_yhat_: 0.39756797223035245</br>"
          ],
          [
           "</br>id: 2929</br>prediction: 0.437</br>situation: 2.08</br></br>h_a: 0.0</br>shotType: 0.0</br>lastAction: 14.0</br>minute: 41</br>distance: 4.588861943363718</br>angle: 76.94750555554026</br>_original_yhat_: 0.39756797223035245</br>"
          ],
          [
           "</br>id: 2929</br>prediction: 0.439</br>situation: 2.12</br></br>h_a: 0.0</br>shotType: 0.0</br>lastAction: 14.0</br>minute: 41</br>distance: 4.588861943363718</br>angle: 76.94750555554026</br>_original_yhat_: 0.39756797223035245</br>"
          ],
          [
           "</br>id: 2929</br>prediction: 0.44</br>situation: 2.16</br></br>h_a: 0.0</br>shotType: 0.0</br>lastAction: 14.0</br>minute: 41</br>distance: 4.588861943363718</br>angle: 76.94750555554026</br>_original_yhat_: 0.39756797223035245</br>"
          ],
          [
           "</br>id: 2929</br>prediction: 0.442</br>situation: 2.2</br></br>h_a: 0.0</br>shotType: 0.0</br>lastAction: 14.0</br>minute: 41</br>distance: 4.588861943363718</br>angle: 76.94750555554026</br>_original_yhat_: 0.39756797223035245</br>"
          ],
          [
           "</br>id: 2929</br>prediction: 0.443</br>situation: 2.24</br></br>h_a: 0.0</br>shotType: 0.0</br>lastAction: 14.0</br>minute: 41</br>distance: 4.588861943363718</br>angle: 76.94750555554026</br>_original_yhat_: 0.39756797223035245</br>"
          ],
          [
           "</br>id: 2929</br>prediction: 0.445</br>situation: 2.2800000000000002</br></br>h_a: 0.0</br>shotType: 0.0</br>lastAction: 14.0</br>minute: 41</br>distance: 4.588861943363718</br>angle: 76.94750555554026</br>_original_yhat_: 0.39756797223035245</br>"
          ],
          [
           "</br>id: 2929</br>prediction: 0.446</br>situation: 2.32</br></br>h_a: 0.0</br>shotType: 0.0</br>lastAction: 14.0</br>minute: 41</br>distance: 4.588861943363718</br>angle: 76.94750555554026</br>_original_yhat_: 0.39756797223035245</br>"
          ],
          [
           "</br>id: 2929</br>prediction: 0.448</br>situation: 2.36</br></br>h_a: 0.0</br>shotType: 0.0</br>lastAction: 14.0</br>minute: 41</br>distance: 4.588861943363718</br>angle: 76.94750555554026</br>_original_yhat_: 0.39756797223035245</br>"
          ],
          [
           "</br>id: 2929</br>prediction: 0.449</br>situation: 2.4</br></br>h_a: 0.0</br>shotType: 0.0</br>lastAction: 14.0</br>minute: 41</br>distance: 4.588861943363718</br>angle: 76.94750555554026</br>_original_yhat_: 0.39756797223035245</br>"
          ],
          [
           "</br>id: 2929</br>prediction: 0.45</br>situation: 2.44</br></br>h_a: 0.0</br>shotType: 0.0</br>lastAction: 14.0</br>minute: 41</br>distance: 4.588861943363718</br>angle: 76.94750555554026</br>_original_yhat_: 0.39756797223035245</br>"
          ],
          [
           "</br>id: 2929</br>prediction: 0.452</br>situation: 2.48</br></br>h_a: 0.0</br>shotType: 0.0</br>lastAction: 14.0</br>minute: 41</br>distance: 4.588861943363718</br>angle: 76.94750555554026</br>_original_yhat_: 0.39756797223035245</br>"
          ],
          [
           "</br>id: 2929</br>prediction: 0.453</br>situation: 2.52</br></br>h_a: 0.0</br>shotType: 0.0</br>lastAction: 14.0</br>minute: 41</br>distance: 4.588861943363718</br>angle: 76.94750555554026</br>_original_yhat_: 0.39756797223035245</br>"
          ],
          [
           "</br>id: 2929</br>prediction: 0.455</br>situation: 2.56</br></br>h_a: 0.0</br>shotType: 0.0</br>lastAction: 14.0</br>minute: 41</br>distance: 4.588861943363718</br>angle: 76.94750555554026</br>_original_yhat_: 0.39756797223035245</br>"
          ],
          [
           "</br>id: 2929</br>prediction: 0.456</br>situation: 2.6</br></br>h_a: 0.0</br>shotType: 0.0</br>lastAction: 14.0</br>minute: 41</br>distance: 4.588861943363718</br>angle: 76.94750555554026</br>_original_yhat_: 0.39756797223035245</br>"
          ],
          [
           "</br>id: 2929</br>prediction: 0.458</br>situation: 2.64</br></br>h_a: 0.0</br>shotType: 0.0</br>lastAction: 14.0</br>minute: 41</br>distance: 4.588861943363718</br>angle: 76.94750555554026</br>_original_yhat_: 0.39756797223035245</br>"
          ],
          [
           "</br>id: 2929</br>prediction: 0.459</br>situation: 2.68</br></br>h_a: 0.0</br>shotType: 0.0</br>lastAction: 14.0</br>minute: 41</br>distance: 4.588861943363718</br>angle: 76.94750555554026</br>_original_yhat_: 0.39756797223035245</br>"
          ],
          [
           "</br>id: 2929</br>prediction: 0.461</br>situation: 2.72</br></br>h_a: 0.0</br>shotType: 0.0</br>lastAction: 14.0</br>minute: 41</br>distance: 4.588861943363718</br>angle: 76.94750555554026</br>_original_yhat_: 0.39756797223035245</br>"
          ],
          [
           "</br>id: 2929</br>prediction: 0.462</br>situation: 2.7600000000000002</br></br>h_a: 0.0</br>shotType: 0.0</br>lastAction: 14.0</br>minute: 41</br>distance: 4.588861943363718</br>angle: 76.94750555554026</br>_original_yhat_: 0.39756797223035245</br>"
          ],
          [
           "</br>id: 2929</br>prediction: 0.464</br>situation: 2.8000000000000003</br></br>h_a: 0.0</br>shotType: 0.0</br>lastAction: 14.0</br>minute: 41</br>distance: 4.588861943363718</br>angle: 76.94750555554026</br>_original_yhat_: 0.39756797223035245</br>"
          ],
          [
           "</br>id: 2929</br>prediction: 0.465</br>situation: 2.84</br></br>h_a: 0.0</br>shotType: 0.0</br>lastAction: 14.0</br>minute: 41</br>distance: 4.588861943363718</br>angle: 76.94750555554026</br>_original_yhat_: 0.39756797223035245</br>"
          ],
          [
           "</br>id: 2929</br>prediction: 0.467</br>situation: 2.88</br></br>h_a: 0.0</br>shotType: 0.0</br>lastAction: 14.0</br>minute: 41</br>distance: 4.588861943363718</br>angle: 76.94750555554026</br>_original_yhat_: 0.39756797223035245</br>"
          ],
          [
           "</br>id: 2929</br>prediction: 0.468</br>situation: 2.92</br></br>h_a: 0.0</br>shotType: 0.0</br>lastAction: 14.0</br>minute: 41</br>distance: 4.588861943363718</br>angle: 76.94750555554026</br>_original_yhat_: 0.39756797223035245</br>"
          ],
          [
           "</br>id: 2929</br>prediction: 0.47</br>situation: 2.96</br></br>h_a: 0.0</br>shotType: 0.0</br>lastAction: 14.0</br>minute: 41</br>distance: 4.588861943363718</br>angle: 76.94750555554026</br>_original_yhat_: 0.39756797223035245</br>"
          ],
          [
           "</br>id: 2929</br>prediction: 0.471</br>situation: 3.0</br></br>h_a: 0.0</br>shotType: 0.0</br>lastAction: 14.0</br>minute: 41</br>distance: 4.588861943363718</br>angle: 76.94750555554026</br>_original_yhat_: 0.39756797223035245</br>"
          ],
          [
           "</br>id: 2929</br>prediction: 0.473</br>situation: 3.04</br></br>h_a: 0.0</br>shotType: 0.0</br>lastAction: 14.0</br>minute: 41</br>distance: 4.588861943363718</br>angle: 76.94750555554026</br>_original_yhat_: 0.39756797223035245</br>"
          ],
          [
           "</br>id: 2929</br>prediction: 0.474</br>situation: 3.08</br></br>h_a: 0.0</br>shotType: 0.0</br>lastAction: 14.0</br>minute: 41</br>distance: 4.588861943363718</br>angle: 76.94750555554026</br>_original_yhat_: 0.39756797223035245</br>"
          ],
          [
           "</br>id: 2929</br>prediction: 0.476</br>situation: 3.12</br></br>h_a: 0.0</br>shotType: 0.0</br>lastAction: 14.0</br>minute: 41</br>distance: 4.588861943363718</br>angle: 76.94750555554026</br>_original_yhat_: 0.39756797223035245</br>"
          ],
          [
           "</br>id: 2929</br>prediction: 0.477</br>situation: 3.16</br></br>h_a: 0.0</br>shotType: 0.0</br>lastAction: 14.0</br>minute: 41</br>distance: 4.588861943363718</br>angle: 76.94750555554026</br>_original_yhat_: 0.39756797223035245</br>"
          ],
          [
           "</br>id: 2929</br>prediction: 0.479</br>situation: 3.2</br></br>h_a: 0.0</br>shotType: 0.0</br>lastAction: 14.0</br>minute: 41</br>distance: 4.588861943363718</br>angle: 76.94750555554026</br>_original_yhat_: 0.39756797223035245</br>"
          ],
          [
           "</br>id: 2929</br>prediction: 0.48</br>situation: 3.24</br></br>h_a: 0.0</br>shotType: 0.0</br>lastAction: 14.0</br>minute: 41</br>distance: 4.588861943363718</br>angle: 76.94750555554026</br>_original_yhat_: 0.39756797223035245</br>"
          ],
          [
           "</br>id: 2929</br>prediction: 0.482</br>situation: 3.2800000000000002</br></br>h_a: 0.0</br>shotType: 0.0</br>lastAction: 14.0</br>minute: 41</br>distance: 4.588861943363718</br>angle: 76.94750555554026</br>_original_yhat_: 0.39756797223035245</br>"
          ],
          [
           "</br>id: 2929</br>prediction: 0.483</br>situation: 3.3200000000000003</br></br>h_a: 0.0</br>shotType: 0.0</br>lastAction: 14.0</br>minute: 41</br>distance: 4.588861943363718</br>angle: 76.94750555554026</br>_original_yhat_: 0.39756797223035245</br>"
          ],
          [
           "</br>id: 2929</br>prediction: 0.485</br>situation: 3.36</br></br>h_a: 0.0</br>shotType: 0.0</br>lastAction: 14.0</br>minute: 41</br>distance: 4.588861943363718</br>angle: 76.94750555554026</br>_original_yhat_: 0.39756797223035245</br>"
          ],
          [
           "</br>id: 2929</br>prediction: 0.486</br>situation: 3.4</br></br>h_a: 0.0</br>shotType: 0.0</br>lastAction: 14.0</br>minute: 41</br>distance: 4.588861943363718</br>angle: 76.94750555554026</br>_original_yhat_: 0.39756797223035245</br>"
          ],
          [
           "</br>id: 2929</br>prediction: 0.488</br>situation: 3.44</br></br>h_a: 0.0</br>shotType: 0.0</br>lastAction: 14.0</br>minute: 41</br>distance: 4.588861943363718</br>angle: 76.94750555554026</br>_original_yhat_: 0.39756797223035245</br>"
          ],
          [
           "</br>id: 2929</br>prediction: 0.489</br>situation: 3.48</br></br>h_a: 0.0</br>shotType: 0.0</br>lastAction: 14.0</br>minute: 41</br>distance: 4.588861943363718</br>angle: 76.94750555554026</br>_original_yhat_: 0.39756797223035245</br>"
          ],
          [
           "</br>id: 2929</br>prediction: 0.491</br>situation: 3.52</br></br>h_a: 0.0</br>shotType: 0.0</br>lastAction: 14.0</br>minute: 41</br>distance: 4.588861943363718</br>angle: 76.94750555554026</br>_original_yhat_: 0.39756797223035245</br>"
          ],
          [
           "</br>id: 2929</br>prediction: 0.493</br>situation: 3.56</br></br>h_a: 0.0</br>shotType: 0.0</br>lastAction: 14.0</br>minute: 41</br>distance: 4.588861943363718</br>angle: 76.94750555554026</br>_original_yhat_: 0.39756797223035245</br>"
          ],
          [
           "</br>id: 2929</br>prediction: 0.494</br>situation: 3.6</br></br>h_a: 0.0</br>shotType: 0.0</br>lastAction: 14.0</br>minute: 41</br>distance: 4.588861943363718</br>angle: 76.94750555554026</br>_original_yhat_: 0.39756797223035245</br>"
          ],
          [
           "</br>id: 2929</br>prediction: 0.496</br>situation: 3.64</br></br>h_a: 0.0</br>shotType: 0.0</br>lastAction: 14.0</br>minute: 41</br>distance: 4.588861943363718</br>angle: 76.94750555554026</br>_original_yhat_: 0.39756797223035245</br>"
          ],
          [
           "</br>id: 2929</br>prediction: 0.497</br>situation: 3.68</br></br>h_a: 0.0</br>shotType: 0.0</br>lastAction: 14.0</br>minute: 41</br>distance: 4.588861943363718</br>angle: 76.94750555554026</br>_original_yhat_: 0.39756797223035245</br>"
          ],
          [
           "</br>id: 2929</br>prediction: 0.499</br>situation: 3.72</br></br>h_a: 0.0</br>shotType: 0.0</br>lastAction: 14.0</br>minute: 41</br>distance: 4.588861943363718</br>angle: 76.94750555554026</br>_original_yhat_: 0.39756797223035245</br>"
          ],
          [
           "</br>id: 2929</br>prediction: 0.5</br>situation: 3.7600000000000002</br></br>h_a: 0.0</br>shotType: 0.0</br>lastAction: 14.0</br>minute: 41</br>distance: 4.588861943363718</br>angle: 76.94750555554026</br>_original_yhat_: 0.39756797223035245</br>"
          ],
          [
           "</br>id: 2929</br>prediction: 0.502</br>situation: 3.8000000000000003</br></br>h_a: 0.0</br>shotType: 0.0</br>lastAction: 14.0</br>minute: 41</br>distance: 4.588861943363718</br>angle: 76.94750555554026</br>_original_yhat_: 0.39756797223035245</br>"
          ],
          [
           "</br>id: 2929</br>prediction: 0.503</br>situation: 3.84</br></br>h_a: 0.0</br>shotType: 0.0</br>lastAction: 14.0</br>minute: 41</br>distance: 4.588861943363718</br>angle: 76.94750555554026</br>_original_yhat_: 0.39756797223035245</br>"
          ],
          [
           "</br>id: 2929</br>prediction: 0.505</br>situation: 3.88</br></br>h_a: 0.0</br>shotType: 0.0</br>lastAction: 14.0</br>minute: 41</br>distance: 4.588861943363718</br>angle: 76.94750555554026</br>_original_yhat_: 0.39756797223035245</br>"
          ],
          [
           "</br>id: 2929</br>prediction: 0.506</br>situation: 3.92</br></br>h_a: 0.0</br>shotType: 0.0</br>lastAction: 14.0</br>minute: 41</br>distance: 4.588861943363718</br>angle: 76.94750555554026</br>_original_yhat_: 0.39756797223035245</br>"
          ],
          [
           "</br>id: 2929</br>prediction: 0.508</br>situation: 3.96</br></br>h_a: 0.0</br>shotType: 0.0</br>lastAction: 14.0</br>minute: 41</br>distance: 4.588861943363718</br>angle: 76.94750555554026</br>_original_yhat_: 0.39756797223035245</br>"
          ],
          [
           "</br>id: 2929</br>prediction: 0.509</br>situation: 4.0</br></br>h_a: 0.0</br>shotType: 0.0</br>lastAction: 14.0</br>minute: 41</br>distance: 4.588861943363718</br>angle: 76.94750555554026</br>_original_yhat_: 0.39756797223035245</br>"
          ]
         ],
         "hovertemplate": "%{customdata[0]}<extra></extra>",
         "legendgroup": "LogisticRegression",
         "line": {
          "color": "#8bdcbe",
          "dash": "solid",
          "width": 2
         },
         "marker": {
          "symbol": "circle"
         },
         "mode": "lines",
         "name": "LogisticRegression",
         "opacity": 1,
         "showlegend": false,
         "type": "scattergl",
         "x": [
          0,
          0.04,
          0.08,
          0.12,
          0.16,
          0.2,
          0.24,
          0.28,
          0.32,
          0.36,
          0.4,
          0.44,
          0.48,
          0.52,
          0.56,
          0.6,
          0.64,
          0.68,
          0.72,
          0.76,
          0.8,
          0.84,
          0.88,
          0.92,
          0.96,
          1,
          1.04,
          1.08,
          1.12,
          1.16,
          1.2,
          1.24,
          1.28,
          1.32,
          1.36,
          1.4000000000000001,
          1.44,
          1.48,
          1.52,
          1.56,
          1.6,
          1.6400000000000001,
          1.68,
          1.72,
          1.76,
          1.8,
          1.84,
          1.8800000000000001,
          1.92,
          1.96,
          2,
          2.04,
          2.08,
          2.12,
          2.16,
          2.2,
          2.24,
          2.2800000000000002,
          2.32,
          2.36,
          2.4,
          2.44,
          2.48,
          2.52,
          2.56,
          2.6,
          2.64,
          2.68,
          2.72,
          2.7600000000000002,
          2.8000000000000003,
          2.84,
          2.88,
          2.92,
          2.96,
          3,
          3.04,
          3.08,
          3.12,
          3.16,
          3.2,
          3.24,
          3.2800000000000002,
          3.3200000000000003,
          3.36,
          3.4,
          3.44,
          3.48,
          3.52,
          3.56,
          3.6,
          3.64,
          3.68,
          3.72,
          3.7600000000000002,
          3.8000000000000003,
          3.84,
          3.88,
          3.92,
          3.96,
          4
         ],
         "xaxis": "x8",
         "y": [
          0.3621031365578022,
          0.36349609686853707,
          0.3648913505071389,
          0.36628887775065316,
          0.36768865872911344,
          0.36909067342645785,
          0.37049490168146404,
          0.37190132318870317,
          0.3733099174995137,
          0.37472066402299364,
          0.3761335420270123,
          0.3775485306392401,
          0.3789656088481983,
          0.3803847555043267,
          0.3818059493210703,
          0.3832291688759846,
          0.3846543926118593,
          0.3860815988378605,
          0.38751076573069093,
          0.3889418713357689,
          0.39037489356842503,
          0.3918098102151165,
          0.39324659893466046,
          0.394685237259484,
          0.39612570259689184,
          0.39756797223035245,
          0.3990120233208006,
          0.4004578329079574,
          0.40190537791166775,
          0.40335463513325437,
          0.40480558125688887,
          0.4062581928509791,
          0.4077124463695735,
          0.40916831815378174,
          0.41062578443321074,
          0.412084821327418,
          0.41354540484737995,
          0.41500751089697535,
          0.416471115274486,
          0.4179361936741108,
          0.41940272168749637,
          0.42087067480528145,
          0.42234002841865714,
          0.42381075782094046,
          0.4252828382091639,
          0.42675624468567674,
          0.428230952259763,
          0.4297069358492705,
          0.4311841702822557,
          0.43266263029864005,
          0.43414229055188047,
          0.43562312561065203,
          0.4371051099605438,
          0.43858821800576625,
          0.4400724240708717,
          0.4415577024024864,
          0.4430440271710533,
          0.4445313724725882,
          0.4460197123304452,
          0.44750902069709325,
          0.4489992714559054,
          0.45049043842295555,
          0.45198249534882734,
          0.45347541592043245,
          0.454969173762838,
          0.456463742441104,
          0.4579590954621296,
          0.45945520627650843,
          0.4609520482803918,
          0.4624495948173608,
          0.46394781918030664,
          0.46544669461331756,
          0.4669461943135745,
          0.46844629143325367,
          0.46994695908143447,
          0.47144817032601666,
          0.47294989819564137,
          0.47445211568161977,
          0.47595479573986654,
          0.47745791129283927,
          0.4789614352314825,
          0.4804653404171773,
          0.4819695996836946,
          0.4834741858391535,
          0.484979071667983,
          0.4864842299328873,
          0.4879896333768156,
          0.48949525472493266,
          0.49100106668659504,
          0.492507041957327,
          0.4940131532208003,
          0.4955193731508153,
          0.4970256744132832,
          0.49853202966821053,
          0.500038411571683,
          0.5015447927778517,
          0.5030511459409182,
          0.5045574437171201,
          0.5060636587667171,
          0.5075697637559747,
          0.509075731359149
         ],
         "yaxis": "y8"
        },
        {
         "customdata": [
          [
           "</br>id: 2929</br>prediction: 0.398</br>shotType: 0.0</br></br>h_a: 0.0</br>situation: 1.0</br>lastAction: 14.0</br>minute: 41</br>distance: 4.588861943363718</br>angle: 76.94750555554026</br>_original_yhat_: 0.39756797223035245</br>"
          ],
          [
           "</br>id: 2929</br>prediction: 0.399</br>shotType: 0.03</br></br>h_a: 0.0</br>situation: 1.0</br>lastAction: 14.0</br>minute: 41</br>distance: 4.588861943363718</br>angle: 76.94750555554026</br>_original_yhat_: 0.39756797223035245</br>"
          ],
          [
           "</br>id: 2929</br>prediction: 0.4</br>shotType: 0.06</br></br>h_a: 0.0</br>situation: 1.0</br>lastAction: 14.0</br>minute: 41</br>distance: 4.588861943363718</br>angle: 76.94750555554026</br>_original_yhat_: 0.39756797223035245</br>"
          ],
          [
           "</br>id: 2929</br>prediction: 0.401</br>shotType: 0.09</br></br>h_a: 0.0</br>situation: 1.0</br>lastAction: 14.0</br>minute: 41</br>distance: 4.588861943363718</br>angle: 76.94750555554026</br>_original_yhat_: 0.39756797223035245</br>"
          ],
          [
           "</br>id: 2929</br>prediction: 0.402</br>shotType: 0.12</br></br>h_a: 0.0</br>situation: 1.0</br>lastAction: 14.0</br>minute: 41</br>distance: 4.588861943363718</br>angle: 76.94750555554026</br>_original_yhat_: 0.39756797223035245</br>"
          ],
          [
           "</br>id: 2929</br>prediction: 0.403</br>shotType: 0.15</br></br>h_a: 0.0</br>situation: 1.0</br>lastAction: 14.0</br>minute: 41</br>distance: 4.588861943363718</br>angle: 76.94750555554026</br>_original_yhat_: 0.39756797223035245</br>"
          ],
          [
           "</br>id: 2929</br>prediction: 0.404</br>shotType: 0.18</br></br>h_a: 0.0</br>situation: 1.0</br>lastAction: 14.0</br>minute: 41</br>distance: 4.588861943363718</br>angle: 76.94750555554026</br>_original_yhat_: 0.39756797223035245</br>"
          ],
          [
           "</br>id: 2929</br>prediction: 0.405</br>shotType: 0.21</br></br>h_a: 0.0</br>situation: 1.0</br>lastAction: 14.0</br>minute: 41</br>distance: 4.588861943363718</br>angle: 76.94750555554026</br>_original_yhat_: 0.39756797223035245</br>"
          ],
          [
           "</br>id: 2929</br>prediction: 0.406</br>shotType: 0.24</br></br>h_a: 0.0</br>situation: 1.0</br>lastAction: 14.0</br>minute: 41</br>distance: 4.588861943363718</br>angle: 76.94750555554026</br>_original_yhat_: 0.39756797223035245</br>"
          ],
          [
           "</br>id: 2929</br>prediction: 0.407</br>shotType: 0.27</br></br>h_a: 0.0</br>situation: 1.0</br>lastAction: 14.0</br>minute: 41</br>distance: 4.588861943363718</br>angle: 76.94750555554026</br>_original_yhat_: 0.39756797223035245</br>"
          ],
          [
           "</br>id: 2929</br>prediction: 0.408</br>shotType: 0.3</br></br>h_a: 0.0</br>situation: 1.0</br>lastAction: 14.0</br>minute: 41</br>distance: 4.588861943363718</br>angle: 76.94750555554026</br>_original_yhat_: 0.39756797223035245</br>"
          ],
          [
           "</br>id: 2929</br>prediction: 0.41</br>shotType: 0.32999999999999996</br></br>h_a: 0.0</br>situation: 1.0</br>lastAction: 14.0</br>minute: 41</br>distance: 4.588861943363718</br>angle: 76.94750555554026</br>_original_yhat_: 0.39756797223035245</br>"
          ],
          [
           "</br>id: 2929</br>prediction: 0.411</br>shotType: 0.36</br></br>h_a: 0.0</br>situation: 1.0</br>lastAction: 14.0</br>minute: 41</br>distance: 4.588861943363718</br>angle: 76.94750555554026</br>_original_yhat_: 0.39756797223035245</br>"
          ],
          [
           "</br>id: 2929</br>prediction: 0.412</br>shotType: 0.39</br></br>h_a: 0.0</br>situation: 1.0</br>lastAction: 14.0</br>minute: 41</br>distance: 4.588861943363718</br>angle: 76.94750555554026</br>_original_yhat_: 0.39756797223035245</br>"
          ],
          [
           "</br>id: 2929</br>prediction: 0.413</br>shotType: 0.42</br></br>h_a: 0.0</br>situation: 1.0</br>lastAction: 14.0</br>minute: 41</br>distance: 4.588861943363718</br>angle: 76.94750555554026</br>_original_yhat_: 0.39756797223035245</br>"
          ],
          [
           "</br>id: 2929</br>prediction: 0.414</br>shotType: 0.44999999999999996</br></br>h_a: 0.0</br>situation: 1.0</br>lastAction: 14.0</br>minute: 41</br>distance: 4.588861943363718</br>angle: 76.94750555554026</br>_original_yhat_: 0.39756797223035245</br>"
          ],
          [
           "</br>id: 2929</br>prediction: 0.415</br>shotType: 0.48</br></br>h_a: 0.0</br>situation: 1.0</br>lastAction: 14.0</br>minute: 41</br>distance: 4.588861943363718</br>angle: 76.94750555554026</br>_original_yhat_: 0.39756797223035245</br>"
          ],
          [
           "</br>id: 2929</br>prediction: 0.416</br>shotType: 0.51</br></br>h_a: 0.0</br>situation: 1.0</br>lastAction: 14.0</br>minute: 41</br>distance: 4.588861943363718</br>angle: 76.94750555554026</br>_original_yhat_: 0.39756797223035245</br>"
          ],
          [
           "</br>id: 2929</br>prediction: 0.417</br>shotType: 0.54</br></br>h_a: 0.0</br>situation: 1.0</br>lastAction: 14.0</br>minute: 41</br>distance: 4.588861943363718</br>angle: 76.94750555554026</br>_original_yhat_: 0.39756797223035245</br>"
          ],
          [
           "</br>id: 2929</br>prediction: 0.418</br>shotType: 0.57</br></br>h_a: 0.0</br>situation: 1.0</br>lastAction: 14.0</br>minute: 41</br>distance: 4.588861943363718</br>angle: 76.94750555554026</br>_original_yhat_: 0.39756797223035245</br>"
          ],
          [
           "</br>id: 2929</br>prediction: 0.419</br>shotType: 0.6</br></br>h_a: 0.0</br>situation: 1.0</br>lastAction: 14.0</br>minute: 41</br>distance: 4.588861943363718</br>angle: 76.94750555554026</br>_original_yhat_: 0.39756797223035245</br>"
          ],
          [
           "</br>id: 2929</br>prediction: 0.42</br>shotType: 0.63</br></br>h_a: 0.0</br>situation: 1.0</br>lastAction: 14.0</br>minute: 41</br>distance: 4.588861943363718</br>angle: 76.94750555554026</br>_original_yhat_: 0.39756797223035245</br>"
          ],
          [
           "</br>id: 2929</br>prediction: 0.422</br>shotType: 0.6599999999999999</br></br>h_a: 0.0</br>situation: 1.0</br>lastAction: 14.0</br>minute: 41</br>distance: 4.588861943363718</br>angle: 76.94750555554026</br>_original_yhat_: 0.39756797223035245</br>"
          ],
          [
           "</br>id: 2929</br>prediction: 0.423</br>shotType: 0.69</br></br>h_a: 0.0</br>situation: 1.0</br>lastAction: 14.0</br>minute: 41</br>distance: 4.588861943363718</br>angle: 76.94750555554026</br>_original_yhat_: 0.39756797223035245</br>"
          ],
          [
           "</br>id: 2929</br>prediction: 0.424</br>shotType: 0.72</br></br>h_a: 0.0</br>situation: 1.0</br>lastAction: 14.0</br>minute: 41</br>distance: 4.588861943363718</br>angle: 76.94750555554026</br>_original_yhat_: 0.39756797223035245</br>"
          ],
          [
           "</br>id: 2929</br>prediction: 0.425</br>shotType: 0.75</br></br>h_a: 0.0</br>situation: 1.0</br>lastAction: 14.0</br>minute: 41</br>distance: 4.588861943363718</br>angle: 76.94750555554026</br>_original_yhat_: 0.39756797223035245</br>"
          ],
          [
           "</br>id: 2929</br>prediction: 0.426</br>shotType: 0.78</br></br>h_a: 0.0</br>situation: 1.0</br>lastAction: 14.0</br>minute: 41</br>distance: 4.588861943363718</br>angle: 76.94750555554026</br>_original_yhat_: 0.39756797223035245</br>"
          ],
          [
           "</br>id: 2929</br>prediction: 0.427</br>shotType: 0.8099999999999999</br></br>h_a: 0.0</br>situation: 1.0</br>lastAction: 14.0</br>minute: 41</br>distance: 4.588861943363718</br>angle: 76.94750555554026</br>_original_yhat_: 0.39756797223035245</br>"
          ],
          [
           "</br>id: 2929</br>prediction: 0.428</br>shotType: 0.84</br></br>h_a: 0.0</br>situation: 1.0</br>lastAction: 14.0</br>minute: 41</br>distance: 4.588861943363718</br>angle: 76.94750555554026</br>_original_yhat_: 0.39756797223035245</br>"
          ],
          [
           "</br>id: 2929</br>prediction: 0.429</br>shotType: 0.87</br></br>h_a: 0.0</br>situation: 1.0</br>lastAction: 14.0</br>minute: 41</br>distance: 4.588861943363718</br>angle: 76.94750555554026</br>_original_yhat_: 0.39756797223035245</br>"
          ],
          [
           "</br>id: 2929</br>prediction: 0.43</br>shotType: 0.8999999999999999</br></br>h_a: 0.0</br>situation: 1.0</br>lastAction: 14.0</br>minute: 41</br>distance: 4.588861943363718</br>angle: 76.94750555554026</br>_original_yhat_: 0.39756797223035245</br>"
          ],
          [
           "</br>id: 2929</br>prediction: 0.431</br>shotType: 0.9299999999999999</br></br>h_a: 0.0</br>situation: 1.0</br>lastAction: 14.0</br>minute: 41</br>distance: 4.588861943363718</br>angle: 76.94750555554026</br>_original_yhat_: 0.39756797223035245</br>"
          ],
          [
           "</br>id: 2929</br>prediction: 0.433</br>shotType: 0.96</br></br>h_a: 0.0</br>situation: 1.0</br>lastAction: 14.0</br>minute: 41</br>distance: 4.588861943363718</br>angle: 76.94750555554026</br>_original_yhat_: 0.39756797223035245</br>"
          ],
          [
           "</br>id: 2929</br>prediction: 0.434</br>shotType: 0.99</br></br>h_a: 0.0</br>situation: 1.0</br>lastAction: 14.0</br>minute: 41</br>distance: 4.588861943363718</br>angle: 76.94750555554026</br>_original_yhat_: 0.39756797223035245</br>"
          ],
          [
           "</br>id: 2929</br>prediction: 0.435</br>shotType: 1.02</br></br>h_a: 0.0</br>situation: 1.0</br>lastAction: 14.0</br>minute: 41</br>distance: 4.588861943363718</br>angle: 76.94750555554026</br>_original_yhat_: 0.39756797223035245</br>"
          ],
          [
           "</br>id: 2929</br>prediction: 0.436</br>shotType: 1.05</br></br>h_a: 0.0</br>situation: 1.0</br>lastAction: 14.0</br>minute: 41</br>distance: 4.588861943363718</br>angle: 76.94750555554026</br>_original_yhat_: 0.39756797223035245</br>"
          ],
          [
           "</br>id: 2929</br>prediction: 0.437</br>shotType: 1.08</br></br>h_a: 0.0</br>situation: 1.0</br>lastAction: 14.0</br>minute: 41</br>distance: 4.588861943363718</br>angle: 76.94750555554026</br>_original_yhat_: 0.39756797223035245</br>"
          ],
          [
           "</br>id: 2929</br>prediction: 0.438</br>shotType: 1.1099999999999999</br></br>h_a: 0.0</br>situation: 1.0</br>lastAction: 14.0</br>minute: 41</br>distance: 4.588861943363718</br>angle: 76.94750555554026</br>_original_yhat_: 0.39756797223035245</br>"
          ],
          [
           "</br>id: 2929</br>prediction: 0.439</br>shotType: 1.14</br></br>h_a: 0.0</br>situation: 1.0</br>lastAction: 14.0</br>minute: 41</br>distance: 4.588861943363718</br>angle: 76.94750555554026</br>_original_yhat_: 0.39756797223035245</br>"
          ],
          [
           "</br>id: 2929</br>prediction: 0.44</br>shotType: 1.17</br></br>h_a: 0.0</br>situation: 1.0</br>lastAction: 14.0</br>minute: 41</br>distance: 4.588861943363718</br>angle: 76.94750555554026</br>_original_yhat_: 0.39756797223035245</br>"
          ],
          [
           "</br>id: 2929</br>prediction: 0.441</br>shotType: 1.2</br></br>h_a: 0.0</br>situation: 1.0</br>lastAction: 14.0</br>minute: 41</br>distance: 4.588861943363718</br>angle: 76.94750555554026</br>_original_yhat_: 0.39756797223035245</br>"
          ],
          [
           "</br>id: 2929</br>prediction: 0.443</br>shotType: 1.23</br></br>h_a: 0.0</br>situation: 1.0</br>lastAction: 14.0</br>minute: 41</br>distance: 4.588861943363718</br>angle: 76.94750555554026</br>_original_yhat_: 0.39756797223035245</br>"
          ],
          [
           "</br>id: 2929</br>prediction: 0.444</br>shotType: 1.26</br></br>h_a: 0.0</br>situation: 1.0</br>lastAction: 14.0</br>minute: 41</br>distance: 4.588861943363718</br>angle: 76.94750555554026</br>_original_yhat_: 0.39756797223035245</br>"
          ],
          [
           "</br>id: 2929</br>prediction: 0.445</br>shotType: 1.29</br></br>h_a: 0.0</br>situation: 1.0</br>lastAction: 14.0</br>minute: 41</br>distance: 4.588861943363718</br>angle: 76.94750555554026</br>_original_yhat_: 0.39756797223035245</br>"
          ],
          [
           "</br>id: 2929</br>prediction: 0.446</br>shotType: 1.3199999999999998</br></br>h_a: 0.0</br>situation: 1.0</br>lastAction: 14.0</br>minute: 41</br>distance: 4.588861943363718</br>angle: 76.94750555554026</br>_original_yhat_: 0.39756797223035245</br>"
          ],
          [
           "</br>id: 2929</br>prediction: 0.447</br>shotType: 1.3499999999999999</br></br>h_a: 0.0</br>situation: 1.0</br>lastAction: 14.0</br>minute: 41</br>distance: 4.588861943363718</br>angle: 76.94750555554026</br>_original_yhat_: 0.39756797223035245</br>"
          ],
          [
           "</br>id: 2929</br>prediction: 0.448</br>shotType: 1.38</br></br>h_a: 0.0</br>situation: 1.0</br>lastAction: 14.0</br>minute: 41</br>distance: 4.588861943363718</br>angle: 76.94750555554026</br>_original_yhat_: 0.39756797223035245</br>"
          ],
          [
           "</br>id: 2929</br>prediction: 0.449</br>shotType: 1.41</br></br>h_a: 0.0</br>situation: 1.0</br>lastAction: 14.0</br>minute: 41</br>distance: 4.588861943363718</br>angle: 76.94750555554026</br>_original_yhat_: 0.39756797223035245</br>"
          ],
          [
           "</br>id: 2929</br>prediction: 0.45</br>shotType: 1.44</br></br>h_a: 0.0</br>situation: 1.0</br>lastAction: 14.0</br>minute: 41</br>distance: 4.588861943363718</br>angle: 76.94750555554026</br>_original_yhat_: 0.39756797223035245</br>"
          ],
          [
           "</br>id: 2929</br>prediction: 0.452</br>shotType: 1.47</br></br>h_a: 0.0</br>situation: 1.0</br>lastAction: 14.0</br>minute: 41</br>distance: 4.588861943363718</br>angle: 76.94750555554026</br>_original_yhat_: 0.39756797223035245</br>"
          ],
          [
           "</br>id: 2929</br>prediction: 0.453</br>shotType: 1.5</br></br>h_a: 0.0</br>situation: 1.0</br>lastAction: 14.0</br>minute: 41</br>distance: 4.588861943363718</br>angle: 76.94750555554026</br>_original_yhat_: 0.39756797223035245</br>"
          ],
          [
           "</br>id: 2929</br>prediction: 0.454</br>shotType: 1.53</br></br>h_a: 0.0</br>situation: 1.0</br>lastAction: 14.0</br>minute: 41</br>distance: 4.588861943363718</br>angle: 76.94750555554026</br>_original_yhat_: 0.39756797223035245</br>"
          ],
          [
           "</br>id: 2929</br>prediction: 0.455</br>shotType: 1.56</br></br>h_a: 0.0</br>situation: 1.0</br>lastAction: 14.0</br>minute: 41</br>distance: 4.588861943363718</br>angle: 76.94750555554026</br>_original_yhat_: 0.39756797223035245</br>"
          ],
          [
           "</br>id: 2929</br>prediction: 0.456</br>shotType: 1.5899999999999999</br></br>h_a: 0.0</br>situation: 1.0</br>lastAction: 14.0</br>minute: 41</br>distance: 4.588861943363718</br>angle: 76.94750555554026</br>_original_yhat_: 0.39756797223035245</br>"
          ],
          [
           "</br>id: 2929</br>prediction: 0.457</br>shotType: 1.6199999999999999</br></br>h_a: 0.0</br>situation: 1.0</br>lastAction: 14.0</br>minute: 41</br>distance: 4.588861943363718</br>angle: 76.94750555554026</br>_original_yhat_: 0.39756797223035245</br>"
          ],
          [
           "</br>id: 2929</br>prediction: 0.458</br>shotType: 1.65</br></br>h_a: 0.0</br>situation: 1.0</br>lastAction: 14.0</br>minute: 41</br>distance: 4.588861943363718</br>angle: 76.94750555554026</br>_original_yhat_: 0.39756797223035245</br>"
          ],
          [
           "</br>id: 2929</br>prediction: 0.459</br>shotType: 1.68</br></br>h_a: 0.0</br>situation: 1.0</br>lastAction: 14.0</br>minute: 41</br>distance: 4.588861943363718</br>angle: 76.94750555554026</br>_original_yhat_: 0.39756797223035245</br>"
          ],
          [
           "</br>id: 2929</br>prediction: 0.46</br>shotType: 1.71</br></br>h_a: 0.0</br>situation: 1.0</br>lastAction: 14.0</br>minute: 41</br>distance: 4.588861943363718</br>angle: 76.94750555554026</br>_original_yhat_: 0.39756797223035245</br>"
          ],
          [
           "</br>id: 2929</br>prediction: 0.462</br>shotType: 1.74</br></br>h_a: 0.0</br>situation: 1.0</br>lastAction: 14.0</br>minute: 41</br>distance: 4.588861943363718</br>angle: 76.94750555554026</br>_original_yhat_: 0.39756797223035245</br>"
          ],
          [
           "</br>id: 2929</br>prediction: 0.463</br>shotType: 1.77</br></br>h_a: 0.0</br>situation: 1.0</br>lastAction: 14.0</br>minute: 41</br>distance: 4.588861943363718</br>angle: 76.94750555554026</br>_original_yhat_: 0.39756797223035245</br>"
          ],
          [
           "</br>id: 2929</br>prediction: 0.464</br>shotType: 1.7999999999999998</br></br>h_a: 0.0</br>situation: 1.0</br>lastAction: 14.0</br>minute: 41</br>distance: 4.588861943363718</br>angle: 76.94750555554026</br>_original_yhat_: 0.39756797223035245</br>"
          ],
          [
           "</br>id: 2929</br>prediction: 0.465</br>shotType: 1.8299999999999998</br></br>h_a: 0.0</br>situation: 1.0</br>lastAction: 14.0</br>minute: 41</br>distance: 4.588861943363718</br>angle: 76.94750555554026</br>_original_yhat_: 0.39756797223035245</br>"
          ],
          [
           "</br>id: 2929</br>prediction: 0.466</br>shotType: 1.8599999999999999</br></br>h_a: 0.0</br>situation: 1.0</br>lastAction: 14.0</br>minute: 41</br>distance: 4.588861943363718</br>angle: 76.94750555554026</br>_original_yhat_: 0.39756797223035245</br>"
          ],
          [
           "</br>id: 2929</br>prediction: 0.467</br>shotType: 1.89</br></br>h_a: 0.0</br>situation: 1.0</br>lastAction: 14.0</br>minute: 41</br>distance: 4.588861943363718</br>angle: 76.94750555554026</br>_original_yhat_: 0.39756797223035245</br>"
          ],
          [
           "</br>id: 2929</br>prediction: 0.468</br>shotType: 1.92</br></br>h_a: 0.0</br>situation: 1.0</br>lastAction: 14.0</br>minute: 41</br>distance: 4.588861943363718</br>angle: 76.94750555554026</br>_original_yhat_: 0.39756797223035245</br>"
          ],
          [
           "</br>id: 2929</br>prediction: 0.469</br>shotType: 1.95</br></br>h_a: 0.0</br>situation: 1.0</br>lastAction: 14.0</br>minute: 41</br>distance: 4.588861943363718</br>angle: 76.94750555554026</br>_original_yhat_: 0.39756797223035245</br>"
          ],
          [
           "</br>id: 2929</br>prediction: 0.471</br>shotType: 1.98</br></br>h_a: 0.0</br>situation: 1.0</br>lastAction: 14.0</br>minute: 41</br>distance: 4.588861943363718</br>angle: 76.94750555554026</br>_original_yhat_: 0.39756797223035245</br>"
          ],
          [
           "</br>id: 2929</br>prediction: 0.472</br>shotType: 2.01</br></br>h_a: 0.0</br>situation: 1.0</br>lastAction: 14.0</br>minute: 41</br>distance: 4.588861943363718</br>angle: 76.94750555554026</br>_original_yhat_: 0.39756797223035245</br>"
          ],
          [
           "</br>id: 2929</br>prediction: 0.473</br>shotType: 2.04</br></br>h_a: 0.0</br>situation: 1.0</br>lastAction: 14.0</br>minute: 41</br>distance: 4.588861943363718</br>angle: 76.94750555554026</br>_original_yhat_: 0.39756797223035245</br>"
          ],
          [
           "</br>id: 2929</br>prediction: 0.474</br>shotType: 2.07</br></br>h_a: 0.0</br>situation: 1.0</br>lastAction: 14.0</br>minute: 41</br>distance: 4.588861943363718</br>angle: 76.94750555554026</br>_original_yhat_: 0.39756797223035245</br>"
          ],
          [
           "</br>id: 2929</br>prediction: 0.475</br>shotType: 2.1</br></br>h_a: 0.0</br>situation: 1.0</br>lastAction: 14.0</br>minute: 41</br>distance: 4.588861943363718</br>angle: 76.94750555554026</br>_original_yhat_: 0.39756797223035245</br>"
          ],
          [
           "</br>id: 2929</br>prediction: 0.476</br>shotType: 2.13</br></br>h_a: 0.0</br>situation: 1.0</br>lastAction: 14.0</br>minute: 41</br>distance: 4.588861943363718</br>angle: 76.94750555554026</br>_original_yhat_: 0.39756797223035245</br>"
          ],
          [
           "</br>id: 2929</br>prediction: 0.477</br>shotType: 2.16</br></br>h_a: 0.0</br>situation: 1.0</br>lastAction: 14.0</br>minute: 41</br>distance: 4.588861943363718</br>angle: 76.94750555554026</br>_original_yhat_: 0.39756797223035245</br>"
          ],
          [
           "</br>id: 2929</br>prediction: 0.478</br>shotType: 2.19</br></br>h_a: 0.0</br>situation: 1.0</br>lastAction: 14.0</br>minute: 41</br>distance: 4.588861943363718</br>angle: 76.94750555554026</br>_original_yhat_: 0.39756797223035245</br>"
          ],
          [
           "</br>id: 2929</br>prediction: 0.48</br>shotType: 2.2199999999999998</br></br>h_a: 0.0</br>situation: 1.0</br>lastAction: 14.0</br>minute: 41</br>distance: 4.588861943363718</br>angle: 76.94750555554026</br>_original_yhat_: 0.39756797223035245</br>"
          ],
          [
           "</br>id: 2929</br>prediction: 0.481</br>shotType: 2.25</br></br>h_a: 0.0</br>situation: 1.0</br>lastAction: 14.0</br>minute: 41</br>distance: 4.588861943363718</br>angle: 76.94750555554026</br>_original_yhat_: 0.39756797223035245</br>"
          ],
          [
           "</br>id: 2929</br>prediction: 0.482</br>shotType: 2.28</br></br>h_a: 0.0</br>situation: 1.0</br>lastAction: 14.0</br>minute: 41</br>distance: 4.588861943363718</br>angle: 76.94750555554026</br>_original_yhat_: 0.39756797223035245</br>"
          ],
          [
           "</br>id: 2929</br>prediction: 0.483</br>shotType: 2.31</br></br>h_a: 0.0</br>situation: 1.0</br>lastAction: 14.0</br>minute: 41</br>distance: 4.588861943363718</br>angle: 76.94750555554026</br>_original_yhat_: 0.39756797223035245</br>"
          ],
          [
           "</br>id: 2929</br>prediction: 0.484</br>shotType: 2.34</br></br>h_a: 0.0</br>situation: 1.0</br>lastAction: 14.0</br>minute: 41</br>distance: 4.588861943363718</br>angle: 76.94750555554026</br>_original_yhat_: 0.39756797223035245</br>"
          ],
          [
           "</br>id: 2929</br>prediction: 0.485</br>shotType: 2.37</br></br>h_a: 0.0</br>situation: 1.0</br>lastAction: 14.0</br>minute: 41</br>distance: 4.588861943363718</br>angle: 76.94750555554026</br>_original_yhat_: 0.39756797223035245</br>"
          ],
          [
           "</br>id: 2929</br>prediction: 0.486</br>shotType: 2.4</br></br>h_a: 0.0</br>situation: 1.0</br>lastAction: 14.0</br>minute: 41</br>distance: 4.588861943363718</br>angle: 76.94750555554026</br>_original_yhat_: 0.39756797223035245</br>"
          ],
          [
           "</br>id: 2929</br>prediction: 0.487</br>shotType: 2.4299999999999997</br></br>h_a: 0.0</br>situation: 1.0</br>lastAction: 14.0</br>minute: 41</br>distance: 4.588861943363718</br>angle: 76.94750555554026</br>_original_yhat_: 0.39756797223035245</br>"
          ],
          [
           "</br>id: 2929</br>prediction: 0.489</br>shotType: 2.46</br></br>h_a: 0.0</br>situation: 1.0</br>lastAction: 14.0</br>minute: 41</br>distance: 4.588861943363718</br>angle: 76.94750555554026</br>_original_yhat_: 0.39756797223035245</br>"
          ],
          [
           "</br>id: 2929</br>prediction: 0.49</br>shotType: 2.4899999999999998</br></br>h_a: 0.0</br>situation: 1.0</br>lastAction: 14.0</br>minute: 41</br>distance: 4.588861943363718</br>angle: 76.94750555554026</br>_original_yhat_: 0.39756797223035245</br>"
          ],
          [
           "</br>id: 2929</br>prediction: 0.491</br>shotType: 2.52</br></br>h_a: 0.0</br>situation: 1.0</br>lastAction: 14.0</br>minute: 41</br>distance: 4.588861943363718</br>angle: 76.94750555554026</br>_original_yhat_: 0.39756797223035245</br>"
          ],
          [
           "</br>id: 2929</br>prediction: 0.492</br>shotType: 2.55</br></br>h_a: 0.0</br>situation: 1.0</br>lastAction: 14.0</br>minute: 41</br>distance: 4.588861943363718</br>angle: 76.94750555554026</br>_original_yhat_: 0.39756797223035245</br>"
          ],
          [
           "</br>id: 2929</br>prediction: 0.493</br>shotType: 2.58</br></br>h_a: 0.0</br>situation: 1.0</br>lastAction: 14.0</br>minute: 41</br>distance: 4.588861943363718</br>angle: 76.94750555554026</br>_original_yhat_: 0.39756797223035245</br>"
          ],
          [
           "</br>id: 2929</br>prediction: 0.494</br>shotType: 2.61</br></br>h_a: 0.0</br>situation: 1.0</br>lastAction: 14.0</br>minute: 41</br>distance: 4.588861943363718</br>angle: 76.94750555554026</br>_original_yhat_: 0.39756797223035245</br>"
          ],
          [
           "</br>id: 2929</br>prediction: 0.495</br>shotType: 2.6399999999999997</br></br>h_a: 0.0</br>situation: 1.0</br>lastAction: 14.0</br>minute: 41</br>distance: 4.588861943363718</br>angle: 76.94750555554026</br>_original_yhat_: 0.39756797223035245</br>"
          ],
          [
           "</br>id: 2929</br>prediction: 0.496</br>shotType: 2.67</br></br>h_a: 0.0</br>situation: 1.0</br>lastAction: 14.0</br>minute: 41</br>distance: 4.588861943363718</br>angle: 76.94750555554026</br>_original_yhat_: 0.39756797223035245</br>"
          ],
          [
           "</br>id: 2929</br>prediction: 0.498</br>shotType: 2.6999999999999997</br></br>h_a: 0.0</br>situation: 1.0</br>lastAction: 14.0</br>minute: 41</br>distance: 4.588861943363718</br>angle: 76.94750555554026</br>_original_yhat_: 0.39756797223035245</br>"
          ],
          [
           "</br>id: 2929</br>prediction: 0.499</br>shotType: 2.73</br></br>h_a: 0.0</br>situation: 1.0</br>lastAction: 14.0</br>minute: 41</br>distance: 4.588861943363718</br>angle: 76.94750555554026</br>_original_yhat_: 0.39756797223035245</br>"
          ],
          [
           "</br>id: 2929</br>prediction: 0.5</br>shotType: 2.76</br></br>h_a: 0.0</br>situation: 1.0</br>lastAction: 14.0</br>minute: 41</br>distance: 4.588861943363718</br>angle: 76.94750555554026</br>_original_yhat_: 0.39756797223035245</br>"
          ],
          [
           "</br>id: 2929</br>prediction: 0.501</br>shotType: 2.79</br></br>h_a: 0.0</br>situation: 1.0</br>lastAction: 14.0</br>minute: 41</br>distance: 4.588861943363718</br>angle: 76.94750555554026</br>_original_yhat_: 0.39756797223035245</br>"
          ],
          [
           "</br>id: 2929</br>prediction: 0.502</br>shotType: 2.82</br></br>h_a: 0.0</br>situation: 1.0</br>lastAction: 14.0</br>minute: 41</br>distance: 4.588861943363718</br>angle: 76.94750555554026</br>_original_yhat_: 0.39756797223035245</br>"
          ],
          [
           "</br>id: 2929</br>prediction: 0.503</br>shotType: 2.85</br></br>h_a: 0.0</br>situation: 1.0</br>lastAction: 14.0</br>minute: 41</br>distance: 4.588861943363718</br>angle: 76.94750555554026</br>_original_yhat_: 0.39756797223035245</br>"
          ],
          [
           "</br>id: 2929</br>prediction: 0.504</br>shotType: 2.88</br></br>h_a: 0.0</br>situation: 1.0</br>lastAction: 14.0</br>minute: 41</br>distance: 4.588861943363718</br>angle: 76.94750555554026</br>_original_yhat_: 0.39756797223035245</br>"
          ],
          [
           "</br>id: 2929</br>prediction: 0.505</br>shotType: 2.9099999999999997</br></br>h_a: 0.0</br>situation: 1.0</br>lastAction: 14.0</br>minute: 41</br>distance: 4.588861943363718</br>angle: 76.94750555554026</br>_original_yhat_: 0.39756797223035245</br>"
          ],
          [
           "</br>id: 2929</br>prediction: 0.507</br>shotType: 2.94</br></br>h_a: 0.0</br>situation: 1.0</br>lastAction: 14.0</br>minute: 41</br>distance: 4.588861943363718</br>angle: 76.94750555554026</br>_original_yhat_: 0.39756797223035245</br>"
          ],
          [
           "</br>id: 2929</br>prediction: 0.508</br>shotType: 2.9699999999999998</br></br>h_a: 0.0</br>situation: 1.0</br>lastAction: 14.0</br>minute: 41</br>distance: 4.588861943363718</br>angle: 76.94750555554026</br>_original_yhat_: 0.39756797223035245</br>"
          ],
          [
           "</br>id: 2929</br>prediction: 0.509</br>shotType: 3.0</br></br>h_a: 0.0</br>situation: 1.0</br>lastAction: 14.0</br>minute: 41</br>distance: 4.588861943363718</br>angle: 76.94750555554026</br>_original_yhat_: 0.39756797223035245</br>"
          ]
         ],
         "hovertemplate": "%{customdata[0]}<extra></extra>",
         "legendgroup": "LogisticRegression",
         "line": {
          "color": "#8bdcbe",
          "dash": "solid",
          "width": 2
         },
         "marker": {
          "symbol": "circle"
         },
         "mode": "lines",
         "name": "LogisticRegression",
         "opacity": 1,
         "showlegend": false,
         "type": "scattergl",
         "x": [
          0,
          0.03,
          0.06,
          0.09,
          0.12,
          0.15,
          0.18,
          0.21,
          0.24,
          0.27,
          0.3,
          0.32999999999999996,
          0.36,
          0.39,
          0.42,
          0.44999999999999996,
          0.48,
          0.51,
          0.54,
          0.57,
          0.6,
          0.63,
          0.6599999999999999,
          0.69,
          0.72,
          0.75,
          0.78,
          0.8099999999999999,
          0.84,
          0.87,
          0.8999999999999999,
          0.9299999999999999,
          0.96,
          0.99,
          1.02,
          1.05,
          1.08,
          1.1099999999999999,
          1.14,
          1.17,
          1.2,
          1.23,
          1.26,
          1.29,
          1.3199999999999998,
          1.3499999999999999,
          1.38,
          1.41,
          1.44,
          1.47,
          1.5,
          1.53,
          1.56,
          1.5899999999999999,
          1.6199999999999999,
          1.65,
          1.68,
          1.71,
          1.74,
          1.77,
          1.7999999999999998,
          1.8299999999999998,
          1.8599999999999999,
          1.89,
          1.92,
          1.95,
          1.98,
          2.01,
          2.04,
          2.07,
          2.1,
          2.13,
          2.16,
          2.19,
          2.2199999999999998,
          2.25,
          2.28,
          2.31,
          2.34,
          2.37,
          2.4,
          2.4299999999999997,
          2.46,
          2.4899999999999998,
          2.52,
          2.55,
          2.58,
          2.61,
          2.6399999999999997,
          2.67,
          2.6999999999999997,
          2.73,
          2.76,
          2.79,
          2.82,
          2.85,
          2.88,
          2.9099999999999997,
          2.94,
          2.9699999999999998,
          3
         ],
         "xaxis": "x5",
         "y": [
          0.39756797223035245,
          0.3986488223706853,
          0.3997306612193631,
          0.40081347911274123,
          0.4018972663497377,
          0.4029820131921543,
          0.4040677098649984,
          0.40515434655680854,
          0.40624191341998367,
          0.4073304005711151,
          0.408419798091319,
          0.4095100960265758,
          0.4106012843880691,
          0.4116933531525285,
          0.41278629226257557,
          0.41388009162707257,
          0.41497474112147276,
          0.4160702305881745,
          0.4171665498368786,
          0.41826368864494623,
          0.41936163675776156,
          0.4204603838890962,
          0.4215599197214757,
          0.4226602339065495,
          0.42376131606546313,
          0.4248631557892326,
          0.42596574263912146,
          0.4270690661470206,
          0.42817311581583,
          0.42927788111984283,
          0.43038335150513324,
          0.431489516389944,
          0.43259636516507877,
          0.4337038871942956,
          0.43481207181470266,
          0.4359209083371565,
          0.43703038604666256,
          0.4381404942027772,
          0.43925122204001205,
          0.44036255876824193,
          0.4414744935731126,
          0.44258701561645125,
          0.44370011403668047,
          0.44481377794923205,
          0.4459279964469638,
          0.44704275860057846,
          0.44815805345904425,
          0.4492738700500163,
          0.4503901973802618,
          0.45150702443608537,
          0.4526243401837566,
          0.45374213356993925,
          0.45486039352212265,
          0.45597910894905413,
          0.45709826874117254,
          0.4582178617710451,
          0.45933787689380373,
          0.4604583029475842,
          0.4615791287539663,
          0.46270034311841546,
          0.4638219348307252,
          0.4649438926654624,
          0.4660662053824125,
          0.4671888617270254,
          0.46831185043086543,
          0.4694351602120592,
          0.4705587797757464,
          0.47168269781453176,
          0.4728069030089374,
          0.473931384027856,
          0.4750561295290067,
          0.4761811281593896,
          0.47730636855574254,
          0.478431839344999,
          0.4795575291447463,
          0.480683426563684,
          0.48180952020208445,
          0.48293579865225333,
          0.4840622504989906,
          0.4851888643200524,
          0.4863156286866141,
          0.4874425321637328,
          0.488569563310811,
          0.48969671068206105,
          0.4908239628269698,
          0.4919513082907627,
          0.49307873561487026,
          0.49420623333739266,
          0.49533378999356653,
          0.4964613941162311,
          0.4975890342362934,
          0.4987166988831965,
          0.4998443765853853,
          0.5009720558707735,
          0.5020997252672098,
          0.503227373302946,
          0.5043549885071031,
          0.5054825594101373,
          0.5066100745443082,
          0.5077375224441438,
          0.5088648916469077
         ],
         "yaxis": "y5"
        },
        {
         "customdata": [
          [
           "</br>id: 2929</br>prediction: 0.216</br>lastAction: 0.0</br></br>h_a: 0.0</br>situation: 1.0</br>shotType: 0.0</br>minute: 41</br>distance: 4.588861943363718</br>angle: 76.94750555554026</br>_original_yhat_: 0.39756797223035245</br>"
          ],
          [
           "</br>id: 2929</br>prediction: 0.219</br>lastAction: 0.27</br></br>h_a: 0.0</br>situation: 1.0</br>shotType: 0.0</br>minute: 41</br>distance: 4.588861943363718</br>angle: 76.94750555554026</br>_original_yhat_: 0.39756797223035245</br>"
          ],
          [
           "</br>id: 2929</br>prediction: 0.222</br>lastAction: 0.54</br></br>h_a: 0.0</br>situation: 1.0</br>shotType: 0.0</br>minute: 41</br>distance: 4.588861943363718</br>angle: 76.94750555554026</br>_original_yhat_: 0.39756797223035245</br>"
          ],
          [
           "</br>id: 2929</br>prediction: 0.225</br>lastAction: 0.81</br></br>h_a: 0.0</br>situation: 1.0</br>shotType: 0.0</br>minute: 41</br>distance: 4.588861943363718</br>angle: 76.94750555554026</br>_original_yhat_: 0.39756797223035245</br>"
          ],
          [
           "</br>id: 2929</br>prediction: 0.228</br>lastAction: 1.08</br></br>h_a: 0.0</br>situation: 1.0</br>shotType: 0.0</br>minute: 41</br>distance: 4.588861943363718</br>angle: 76.94750555554026</br>_original_yhat_: 0.39756797223035245</br>"
          ],
          [
           "</br>id: 2929</br>prediction: 0.231</br>lastAction: 1.35</br></br>h_a: 0.0</br>situation: 1.0</br>shotType: 0.0</br>minute: 41</br>distance: 4.588861943363718</br>angle: 76.94750555554026</br>_original_yhat_: 0.39756797223035245</br>"
          ],
          [
           "</br>id: 2929</br>prediction: 0.234</br>lastAction: 1.62</br></br>h_a: 0.0</br>situation: 1.0</br>shotType: 0.0</br>minute: 41</br>distance: 4.588861943363718</br>angle: 76.94750555554026</br>_original_yhat_: 0.39756797223035245</br>"
          ],
          [
           "</br>id: 2929</br>prediction: 0.237</br>lastAction: 1.8900000000000001</br></br>h_a: 0.0</br>situation: 1.0</br>shotType: 0.0</br>minute: 41</br>distance: 4.588861943363718</br>angle: 76.94750555554026</br>_original_yhat_: 0.39756797223035245</br>"
          ],
          [
           "</br>id: 2929</br>prediction: 0.24</br>lastAction: 2.16</br></br>h_a: 0.0</br>situation: 1.0</br>shotType: 0.0</br>minute: 41</br>distance: 4.588861943363718</br>angle: 76.94750555554026</br>_original_yhat_: 0.39756797223035245</br>"
          ],
          [
           "</br>id: 2929</br>prediction: 0.243</br>lastAction: 2.43</br></br>h_a: 0.0</br>situation: 1.0</br>shotType: 0.0</br>minute: 41</br>distance: 4.588861943363718</br>angle: 76.94750555554026</br>_original_yhat_: 0.39756797223035245</br>"
          ],
          [
           "</br>id: 2929</br>prediction: 0.246</br>lastAction: 2.7</br></br>h_a: 0.0</br>situation: 1.0</br>shotType: 0.0</br>minute: 41</br>distance: 4.588861943363718</br>angle: 76.94750555554026</br>_original_yhat_: 0.39756797223035245</br>"
          ],
          [
           "</br>id: 2929</br>prediction: 0.249</br>lastAction: 2.97</br></br>h_a: 0.0</br>situation: 1.0</br>shotType: 0.0</br>minute: 41</br>distance: 4.588861943363718</br>angle: 76.94750555554026</br>_original_yhat_: 0.39756797223035245</br>"
          ],
          [
           "</br>id: 2929</br>prediction: 0.252</br>lastAction: 3.24</br></br>h_a: 0.0</br>situation: 1.0</br>shotType: 0.0</br>minute: 41</br>distance: 4.588861943363718</br>angle: 76.94750555554026</br>_original_yhat_: 0.39756797223035245</br>"
          ],
          [
           "</br>id: 2929</br>prediction: 0.255</br>lastAction: 3.5100000000000002</br></br>h_a: 0.0</br>situation: 1.0</br>shotType: 0.0</br>minute: 41</br>distance: 4.588861943363718</br>angle: 76.94750555554026</br>_original_yhat_: 0.39756797223035245</br>"
          ],
          [
           "</br>id: 2929</br>prediction: 0.259</br>lastAction: 3.7800000000000002</br></br>h_a: 0.0</br>situation: 1.0</br>shotType: 0.0</br>minute: 41</br>distance: 4.588861943363718</br>angle: 76.94750555554026</br>_original_yhat_: 0.39756797223035245</br>"
          ],
          [
           "</br>id: 2929</br>prediction: 0.262</br>lastAction: 4.050000000000001</br></br>h_a: 0.0</br>situation: 1.0</br>shotType: 0.0</br>minute: 41</br>distance: 4.588861943363718</br>angle: 76.94750555554026</br>_original_yhat_: 0.39756797223035245</br>"
          ],
          [
           "</br>id: 2929</br>prediction: 0.265</br>lastAction: 4.32</br></br>h_a: 0.0</br>situation: 1.0</br>shotType: 0.0</br>minute: 41</br>distance: 4.588861943363718</br>angle: 76.94750555554026</br>_original_yhat_: 0.39756797223035245</br>"
          ],
          [
           "</br>id: 2929</br>prediction: 0.268</br>lastAction: 4.59</br></br>h_a: 0.0</br>situation: 1.0</br>shotType: 0.0</br>minute: 41</br>distance: 4.588861943363718</br>angle: 76.94750555554026</br>_original_yhat_: 0.39756797223035245</br>"
          ],
          [
           "</br>id: 2929</br>prediction: 0.272</br>lastAction: 4.86</br></br>h_a: 0.0</br>situation: 1.0</br>shotType: 0.0</br>minute: 41</br>distance: 4.588861943363718</br>angle: 76.94750555554026</br>_original_yhat_: 0.39756797223035245</br>"
          ],
          [
           "</br>id: 2929</br>prediction: 0.275</br>lastAction: 5.130000000000001</br></br>h_a: 0.0</br>situation: 1.0</br>shotType: 0.0</br>minute: 41</br>distance: 4.588861943363718</br>angle: 76.94750555554026</br>_original_yhat_: 0.39756797223035245</br>"
          ],
          [
           "</br>id: 2929</br>prediction: 0.278</br>lastAction: 5.4</br></br>h_a: 0.0</br>situation: 1.0</br>shotType: 0.0</br>minute: 41</br>distance: 4.588861943363718</br>angle: 76.94750555554026</br>_original_yhat_: 0.39756797223035245</br>"
          ],
          [
           "</br>id: 2929</br>prediction: 0.282</br>lastAction: 5.67</br></br>h_a: 0.0</br>situation: 1.0</br>shotType: 0.0</br>minute: 41</br>distance: 4.588861943363718</br>angle: 76.94750555554026</br>_original_yhat_: 0.39756797223035245</br>"
          ],
          [
           "</br>id: 2929</br>prediction: 0.285</br>lastAction: 5.94</br></br>h_a: 0.0</br>situation: 1.0</br>shotType: 0.0</br>minute: 41</br>distance: 4.588861943363718</br>angle: 76.94750555554026</br>_original_yhat_: 0.39756797223035245</br>"
          ],
          [
           "</br>id: 2929</br>prediction: 0.289</br>lastAction: 6.210000000000001</br></br>h_a: 0.0</br>situation: 1.0</br>shotType: 0.0</br>minute: 41</br>distance: 4.588861943363718</br>angle: 76.94750555554026</br>_original_yhat_: 0.39756797223035245</br>"
          ],
          [
           "</br>id: 2929</br>prediction: 0.292</br>lastAction: 6.48</br></br>h_a: 0.0</br>situation: 1.0</br>shotType: 0.0</br>minute: 41</br>distance: 4.588861943363718</br>angle: 76.94750555554026</br>_original_yhat_: 0.39756797223035245</br>"
          ],
          [
           "</br>id: 2929</br>prediction: 0.296</br>lastAction: 6.75</br></br>h_a: 0.0</br>situation: 1.0</br>shotType: 0.0</br>minute: 41</br>distance: 4.588861943363718</br>angle: 76.94750555554026</br>_original_yhat_: 0.39756797223035245</br>"
          ],
          [
           "</br>id: 2929</br>prediction: 0.299</br>lastAction: 7.0200000000000005</br></br>h_a: 0.0</br>situation: 1.0</br>shotType: 0.0</br>minute: 41</br>distance: 4.588861943363718</br>angle: 76.94750555554026</br>_original_yhat_: 0.39756797223035245</br>"
          ],
          [
           "</br>id: 2929</br>prediction: 0.303</br>lastAction: 7.290000000000001</br></br>h_a: 0.0</br>situation: 1.0</br>shotType: 0.0</br>minute: 41</br>distance: 4.588861943363718</br>angle: 76.94750555554026</br>_original_yhat_: 0.39756797223035245</br>"
          ],
          [
           "</br>id: 2929</br>prediction: 0.306</br>lastAction: 7.5600000000000005</br></br>h_a: 0.0</br>situation: 1.0</br>shotType: 0.0</br>minute: 41</br>distance: 4.588861943363718</br>angle: 76.94750555554026</br>_original_yhat_: 0.39756797223035245</br>"
          ],
          [
           "</br>id: 2929</br>prediction: 0.31</br>lastAction: 7.83</br></br>h_a: 0.0</br>situation: 1.0</br>shotType: 0.0</br>minute: 41</br>distance: 4.588861943363718</br>angle: 76.94750555554026</br>_original_yhat_: 0.39756797223035245</br>"
          ],
          [
           "</br>id: 2929</br>prediction: 0.314</br>lastAction: 8.100000000000001</br></br>h_a: 0.0</br>situation: 1.0</br>shotType: 0.0</br>minute: 41</br>distance: 4.588861943363718</br>angle: 76.94750555554026</br>_original_yhat_: 0.39756797223035245</br>"
          ],
          [
           "</br>id: 2929</br>prediction: 0.317</br>lastAction: 8.370000000000001</br></br>h_a: 0.0</br>situation: 1.0</br>shotType: 0.0</br>minute: 41</br>distance: 4.588861943363718</br>angle: 76.94750555554026</br>_original_yhat_: 0.39756797223035245</br>"
          ],
          [
           "</br>id: 2929</br>prediction: 0.321</br>lastAction: 8.64</br></br>h_a: 0.0</br>situation: 1.0</br>shotType: 0.0</br>minute: 41</br>distance: 4.588861943363718</br>angle: 76.94750555554026</br>_original_yhat_: 0.39756797223035245</br>"
          ],
          [
           "</br>id: 2929</br>prediction: 0.325</br>lastAction: 8.91</br></br>h_a: 0.0</br>situation: 1.0</br>shotType: 0.0</br>minute: 41</br>distance: 4.588861943363718</br>angle: 76.94750555554026</br>_original_yhat_: 0.39756797223035245</br>"
          ],
          [
           "</br>id: 2929</br>prediction: 0.328</br>lastAction: 9.18</br></br>h_a: 0.0</br>situation: 1.0</br>shotType: 0.0</br>minute: 41</br>distance: 4.588861943363718</br>angle: 76.94750555554026</br>_original_yhat_: 0.39756797223035245</br>"
          ],
          [
           "</br>id: 2929</br>prediction: 0.332</br>lastAction: 9.450000000000001</br></br>h_a: 0.0</br>situation: 1.0</br>shotType: 0.0</br>minute: 41</br>distance: 4.588861943363718</br>angle: 76.94750555554026</br>_original_yhat_: 0.39756797223035245</br>"
          ],
          [
           "</br>id: 2929</br>prediction: 0.336</br>lastAction: 9.72</br></br>h_a: 0.0</br>situation: 1.0</br>shotType: 0.0</br>minute: 41</br>distance: 4.588861943363718</br>angle: 76.94750555554026</br>_original_yhat_: 0.39756797223035245</br>"
          ],
          [
           "</br>id: 2929</br>prediction: 0.339</br>lastAction: 9.99</br></br>h_a: 0.0</br>situation: 1.0</br>shotType: 0.0</br>minute: 41</br>distance: 4.588861943363718</br>angle: 76.94750555554026</br>_original_yhat_: 0.39756797223035245</br>"
          ],
          [
           "</br>id: 2929</br>prediction: 0.343</br>lastAction: 10.260000000000002</br></br>h_a: 0.0</br>situation: 1.0</br>shotType: 0.0</br>minute: 41</br>distance: 4.588861943363718</br>angle: 76.94750555554026</br>_original_yhat_: 0.39756797223035245</br>"
          ],
          [
           "</br>id: 2929</br>prediction: 0.347</br>lastAction: 10.530000000000001</br></br>h_a: 0.0</br>situation: 1.0</br>shotType: 0.0</br>minute: 41</br>distance: 4.588861943363718</br>angle: 76.94750555554026</br>_original_yhat_: 0.39756797223035245</br>"
          ],
          [
           "</br>id: 2929</br>prediction: 0.351</br>lastAction: 10.8</br></br>h_a: 0.0</br>situation: 1.0</br>shotType: 0.0</br>minute: 41</br>distance: 4.588861943363718</br>angle: 76.94750555554026</br>_original_yhat_: 0.39756797223035245</br>"
          ],
          [
           "</br>id: 2929</br>prediction: 0.355</br>lastAction: 11.07</br></br>h_a: 0.0</br>situation: 1.0</br>shotType: 0.0</br>minute: 41</br>distance: 4.588861943363718</br>angle: 76.94750555554026</br>_original_yhat_: 0.39756797223035245</br>"
          ],
          [
           "</br>id: 2929</br>prediction: 0.359</br>lastAction: 11.34</br></br>h_a: 0.0</br>situation: 1.0</br>shotType: 0.0</br>minute: 41</br>distance: 4.588861943363718</br>angle: 76.94750555554026</br>_original_yhat_: 0.39756797223035245</br>"
          ],
          [
           "</br>id: 2929</br>prediction: 0.362</br>lastAction: 11.610000000000001</br></br>h_a: 0.0</br>situation: 1.0</br>shotType: 0.0</br>minute: 41</br>distance: 4.588861943363718</br>angle: 76.94750555554026</br>_original_yhat_: 0.39756797223035245</br>"
          ],
          [
           "</br>id: 2929</br>prediction: 0.366</br>lastAction: 11.88</br></br>h_a: 0.0</br>situation: 1.0</br>shotType: 0.0</br>minute: 41</br>distance: 4.588861943363718</br>angle: 76.94750555554026</br>_original_yhat_: 0.39756797223035245</br>"
          ],
          [
           "</br>id: 2929</br>prediction: 0.37</br>lastAction: 12.15</br></br>h_a: 0.0</br>situation: 1.0</br>shotType: 0.0</br>minute: 41</br>distance: 4.588861943363718</br>angle: 76.94750555554026</br>_original_yhat_: 0.39756797223035245</br>"
          ],
          [
           "</br>id: 2929</br>prediction: 0.374</br>lastAction: 12.420000000000002</br></br>h_a: 0.0</br>situation: 1.0</br>shotType: 0.0</br>minute: 41</br>distance: 4.588861943363718</br>angle: 76.94750555554026</br>_original_yhat_: 0.39756797223035245</br>"
          ],
          [
           "</br>id: 2929</br>prediction: 0.378</br>lastAction: 12.690000000000001</br></br>h_a: 0.0</br>situation: 1.0</br>shotType: 0.0</br>minute: 41</br>distance: 4.588861943363718</br>angle: 76.94750555554026</br>_original_yhat_: 0.39756797223035245</br>"
          ],
          [
           "</br>id: 2929</br>prediction: 0.382</br>lastAction: 12.96</br></br>h_a: 0.0</br>situation: 1.0</br>shotType: 0.0</br>minute: 41</br>distance: 4.588861943363718</br>angle: 76.94750555554026</br>_original_yhat_: 0.39756797223035245</br>"
          ],
          [
           "</br>id: 2929</br>prediction: 0.386</br>lastAction: 13.23</br></br>h_a: 0.0</br>situation: 1.0</br>shotType: 0.0</br>minute: 41</br>distance: 4.588861943363718</br>angle: 76.94750555554026</br>_original_yhat_: 0.39756797223035245</br>"
          ],
          [
           "</br>id: 2929</br>prediction: 0.39</br>lastAction: 13.5</br></br>h_a: 0.0</br>situation: 1.0</br>shotType: 0.0</br>minute: 41</br>distance: 4.588861943363718</br>angle: 76.94750555554026</br>_original_yhat_: 0.39756797223035245</br>"
          ],
          [
           "</br>id: 2929</br>prediction: 0.394</br>lastAction: 13.770000000000001</br></br>h_a: 0.0</br>situation: 1.0</br>shotType: 0.0</br>minute: 41</br>distance: 4.588861943363718</br>angle: 76.94750555554026</br>_original_yhat_: 0.39756797223035245</br>"
          ],
          [
           "</br>id: 2929</br>prediction: 0.398</br>lastAction: 14.0</br></br>h_a: 0.0</br>situation: 1.0</br>shotType: 0.0</br>minute: 41</br>distance: 4.588861943363718</br>angle: 76.94750555554026</br>_original_yhat_: 0.39756797223035245</br>"
          ],
          [
           "</br>id: 2929</br>prediction: 0.398</br>lastAction: 14.040000000000001</br></br>h_a: 0.0</br>situation: 1.0</br>shotType: 0.0</br>minute: 41</br>distance: 4.588861943363718</br>angle: 76.94750555554026</br>_original_yhat_: 0.39756797223035245</br>"
          ],
          [
           "</br>id: 2929</br>prediction: 0.402</br>lastAction: 14.31</br></br>h_a: 0.0</br>situation: 1.0</br>shotType: 0.0</br>minute: 41</br>distance: 4.588861943363718</br>angle: 76.94750555554026</br>_original_yhat_: 0.39756797223035245</br>"
          ],
          [
           "</br>id: 2929</br>prediction: 0.406</br>lastAction: 14.580000000000002</br></br>h_a: 0.0</br>situation: 1.0</br>shotType: 0.0</br>minute: 41</br>distance: 4.588861943363718</br>angle: 76.94750555554026</br>_original_yhat_: 0.39756797223035245</br>"
          ],
          [
           "</br>id: 2929</br>prediction: 0.41</br>lastAction: 14.850000000000001</br></br>h_a: 0.0</br>situation: 1.0</br>shotType: 0.0</br>minute: 41</br>distance: 4.588861943363718</br>angle: 76.94750555554026</br>_original_yhat_: 0.39756797223035245</br>"
          ],
          [
           "</br>id: 2929</br>prediction: 0.414</br>lastAction: 15.120000000000001</br></br>h_a: 0.0</br>situation: 1.0</br>shotType: 0.0</br>minute: 41</br>distance: 4.588861943363718</br>angle: 76.94750555554026</br>_original_yhat_: 0.39756797223035245</br>"
          ],
          [
           "</br>id: 2929</br>prediction: 0.419</br>lastAction: 15.39</br></br>h_a: 0.0</br>situation: 1.0</br>shotType: 0.0</br>minute: 41</br>distance: 4.588861943363718</br>angle: 76.94750555554026</br>_original_yhat_: 0.39756797223035245</br>"
          ],
          [
           "</br>id: 2929</br>prediction: 0.423</br>lastAction: 15.66</br></br>h_a: 0.0</br>situation: 1.0</br>shotType: 0.0</br>minute: 41</br>distance: 4.588861943363718</br>angle: 76.94750555554026</br>_original_yhat_: 0.39756797223035245</br>"
          ],
          [
           "</br>id: 2929</br>prediction: 0.427</br>lastAction: 15.930000000000001</br></br>h_a: 0.0</br>situation: 1.0</br>shotType: 0.0</br>minute: 41</br>distance: 4.588861943363718</br>angle: 76.94750555554026</br>_original_yhat_: 0.39756797223035245</br>"
          ],
          [
           "</br>id: 2929</br>prediction: 0.431</br>lastAction: 16.200000000000003</br></br>h_a: 0.0</br>situation: 1.0</br>shotType: 0.0</br>minute: 41</br>distance: 4.588861943363718</br>angle: 76.94750555554026</br>_original_yhat_: 0.39756797223035245</br>"
          ],
          [
           "</br>id: 2929</br>prediction: 0.435</br>lastAction: 16.470000000000002</br></br>h_a: 0.0</br>situation: 1.0</br>shotType: 0.0</br>minute: 41</br>distance: 4.588861943363718</br>angle: 76.94750555554026</br>_original_yhat_: 0.39756797223035245</br>"
          ],
          [
           "</br>id: 2929</br>prediction: 0.439</br>lastAction: 16.740000000000002</br></br>h_a: 0.0</br>situation: 1.0</br>shotType: 0.0</br>minute: 41</br>distance: 4.588861943363718</br>angle: 76.94750555554026</br>_original_yhat_: 0.39756797223035245</br>"
          ],
          [
           "</br>id: 2929</br>prediction: 0.443</br>lastAction: 17.01</br></br>h_a: 0.0</br>situation: 1.0</br>shotType: 0.0</br>minute: 41</br>distance: 4.588861943363718</br>angle: 76.94750555554026</br>_original_yhat_: 0.39756797223035245</br>"
          ],
          [
           "</br>id: 2929</br>prediction: 0.447</br>lastAction: 17.28</br></br>h_a: 0.0</br>situation: 1.0</br>shotType: 0.0</br>minute: 41</br>distance: 4.588861943363718</br>angle: 76.94750555554026</br>_original_yhat_: 0.39756797223035245</br>"
          ],
          [
           "</br>id: 2929</br>prediction: 0.452</br>lastAction: 17.55</br></br>h_a: 0.0</br>situation: 1.0</br>shotType: 0.0</br>minute: 41</br>distance: 4.588861943363718</br>angle: 76.94750555554026</br>_original_yhat_: 0.39756797223035245</br>"
          ],
          [
           "</br>id: 2929</br>prediction: 0.456</br>lastAction: 17.82</br></br>h_a: 0.0</br>situation: 1.0</br>shotType: 0.0</br>minute: 41</br>distance: 4.588861943363718</br>angle: 76.94750555554026</br>_original_yhat_: 0.39756797223035245</br>"
          ],
          [
           "</br>id: 2929</br>prediction: 0.46</br>lastAction: 18.09</br></br>h_a: 0.0</br>situation: 1.0</br>shotType: 0.0</br>minute: 41</br>distance: 4.588861943363718</br>angle: 76.94750555554026</br>_original_yhat_: 0.39756797223035245</br>"
          ],
          [
           "</br>id: 2929</br>prediction: 0.464</br>lastAction: 18.36</br></br>h_a: 0.0</br>situation: 1.0</br>shotType: 0.0</br>minute: 41</br>distance: 4.588861943363718</br>angle: 76.94750555554026</br>_original_yhat_: 0.39756797223035245</br>"
          ],
          [
           "</br>id: 2929</br>prediction: 0.468</br>lastAction: 18.630000000000003</br></br>h_a: 0.0</br>situation: 1.0</br>shotType: 0.0</br>minute: 41</br>distance: 4.588861943363718</br>angle: 76.94750555554026</br>_original_yhat_: 0.39756797223035245</br>"
          ],
          [
           "</br>id: 2929</br>prediction: 0.473</br>lastAction: 18.900000000000002</br></br>h_a: 0.0</br>situation: 1.0</br>shotType: 0.0</br>minute: 41</br>distance: 4.588861943363718</br>angle: 76.94750555554026</br>_original_yhat_: 0.39756797223035245</br>"
          ],
          [
           "</br>id: 2929</br>prediction: 0.477</br>lastAction: 19.17</br></br>h_a: 0.0</br>situation: 1.0</br>shotType: 0.0</br>minute: 41</br>distance: 4.588861943363718</br>angle: 76.94750555554026</br>_original_yhat_: 0.39756797223035245</br>"
          ],
          [
           "</br>id: 2929</br>prediction: 0.481</br>lastAction: 19.44</br></br>h_a: 0.0</br>situation: 1.0</br>shotType: 0.0</br>minute: 41</br>distance: 4.588861943363718</br>angle: 76.94750555554026</br>_original_yhat_: 0.39756797223035245</br>"
          ],
          [
           "</br>id: 2929</br>prediction: 0.485</br>lastAction: 19.71</br></br>h_a: 0.0</br>situation: 1.0</br>shotType: 0.0</br>minute: 41</br>distance: 4.588861943363718</br>angle: 76.94750555554026</br>_original_yhat_: 0.39756797223035245</br>"
          ],
          [
           "</br>id: 2929</br>prediction: 0.489</br>lastAction: 19.98</br></br>h_a: 0.0</br>situation: 1.0</br>shotType: 0.0</br>minute: 41</br>distance: 4.588861943363718</br>angle: 76.94750555554026</br>_original_yhat_: 0.39756797223035245</br>"
          ],
          [
           "</br>id: 2929</br>prediction: 0.494</br>lastAction: 20.25</br></br>h_a: 0.0</br>situation: 1.0</br>shotType: 0.0</br>minute: 41</br>distance: 4.588861943363718</br>angle: 76.94750555554026</br>_original_yhat_: 0.39756797223035245</br>"
          ],
          [
           "</br>id: 2929</br>prediction: 0.498</br>lastAction: 20.520000000000003</br></br>h_a: 0.0</br>situation: 1.0</br>shotType: 0.0</br>minute: 41</br>distance: 4.588861943363718</br>angle: 76.94750555554026</br>_original_yhat_: 0.39756797223035245</br>"
          ],
          [
           "</br>id: 2929</br>prediction: 0.502</br>lastAction: 20.790000000000003</br></br>h_a: 0.0</br>situation: 1.0</br>shotType: 0.0</br>minute: 41</br>distance: 4.588861943363718</br>angle: 76.94750555554026</br>_original_yhat_: 0.39756797223035245</br>"
          ],
          [
           "</br>id: 2929</br>prediction: 0.506</br>lastAction: 21.060000000000002</br></br>h_a: 0.0</br>situation: 1.0</br>shotType: 0.0</br>minute: 41</br>distance: 4.588861943363718</br>angle: 76.94750555554026</br>_original_yhat_: 0.39756797223035245</br>"
          ],
          [
           "</br>id: 2929</br>prediction: 0.51</br>lastAction: 21.330000000000002</br></br>h_a: 0.0</br>situation: 1.0</br>shotType: 0.0</br>minute: 41</br>distance: 4.588861943363718</br>angle: 76.94750555554026</br>_original_yhat_: 0.39756797223035245</br>"
          ],
          [
           "</br>id: 2929</br>prediction: 0.515</br>lastAction: 21.6</br></br>h_a: 0.0</br>situation: 1.0</br>shotType: 0.0</br>minute: 41</br>distance: 4.588861943363718</br>angle: 76.94750555554026</br>_original_yhat_: 0.39756797223035245</br>"
          ],
          [
           "</br>id: 2929</br>prediction: 0.519</br>lastAction: 21.87</br></br>h_a: 0.0</br>situation: 1.0</br>shotType: 0.0</br>minute: 41</br>distance: 4.588861943363718</br>angle: 76.94750555554026</br>_original_yhat_: 0.39756797223035245</br>"
          ],
          [
           "</br>id: 2929</br>prediction: 0.523</br>lastAction: 22.14</br></br>h_a: 0.0</br>situation: 1.0</br>shotType: 0.0</br>minute: 41</br>distance: 4.588861943363718</br>angle: 76.94750555554026</br>_original_yhat_: 0.39756797223035245</br>"
          ],
          [
           "</br>id: 2929</br>prediction: 0.527</br>lastAction: 22.41</br></br>h_a: 0.0</br>situation: 1.0</br>shotType: 0.0</br>minute: 41</br>distance: 4.588861943363718</br>angle: 76.94750555554026</br>_original_yhat_: 0.39756797223035245</br>"
          ],
          [
           "</br>id: 2929</br>prediction: 0.531</br>lastAction: 22.68</br></br>h_a: 0.0</br>situation: 1.0</br>shotType: 0.0</br>minute: 41</br>distance: 4.588861943363718</br>angle: 76.94750555554026</br>_original_yhat_: 0.39756797223035245</br>"
          ],
          [
           "</br>id: 2929</br>prediction: 0.536</br>lastAction: 22.950000000000003</br></br>h_a: 0.0</br>situation: 1.0</br>shotType: 0.0</br>minute: 41</br>distance: 4.588861943363718</br>angle: 76.94750555554026</br>_original_yhat_: 0.39756797223035245</br>"
          ],
          [
           "</br>id: 2929</br>prediction: 0.54</br>lastAction: 23.220000000000002</br></br>h_a: 0.0</br>situation: 1.0</br>shotType: 0.0</br>minute: 41</br>distance: 4.588861943363718</br>angle: 76.94750555554026</br>_original_yhat_: 0.39756797223035245</br>"
          ],
          [
           "</br>id: 2929</br>prediction: 0.544</br>lastAction: 23.490000000000002</br></br>h_a: 0.0</br>situation: 1.0</br>shotType: 0.0</br>minute: 41</br>distance: 4.588861943363718</br>angle: 76.94750555554026</br>_original_yhat_: 0.39756797223035245</br>"
          ],
          [
           "</br>id: 2929</br>prediction: 0.548</br>lastAction: 23.76</br></br>h_a: 0.0</br>situation: 1.0</br>shotType: 0.0</br>minute: 41</br>distance: 4.588861943363718</br>angle: 76.94750555554026</br>_original_yhat_: 0.39756797223035245</br>"
          ],
          [
           "</br>id: 2929</br>prediction: 0.552</br>lastAction: 24.03</br></br>h_a: 0.0</br>situation: 1.0</br>shotType: 0.0</br>minute: 41</br>distance: 4.588861943363718</br>angle: 76.94750555554026</br>_original_yhat_: 0.39756797223035245</br>"
          ],
          [
           "</br>id: 2929</br>prediction: 0.556</br>lastAction: 24.3</br></br>h_a: 0.0</br>situation: 1.0</br>shotType: 0.0</br>minute: 41</br>distance: 4.588861943363718</br>angle: 76.94750555554026</br>_original_yhat_: 0.39756797223035245</br>"
          ],
          [
           "</br>id: 2929</br>prediction: 0.561</br>lastAction: 24.57</br></br>h_a: 0.0</br>situation: 1.0</br>shotType: 0.0</br>minute: 41</br>distance: 4.588861943363718</br>angle: 76.94750555554026</br>_original_yhat_: 0.39756797223035245</br>"
          ],
          [
           "</br>id: 2929</br>prediction: 0.565</br>lastAction: 24.840000000000003</br></br>h_a: 0.0</br>situation: 1.0</br>shotType: 0.0</br>minute: 41</br>distance: 4.588861943363718</br>angle: 76.94750555554026</br>_original_yhat_: 0.39756797223035245</br>"
          ],
          [
           "</br>id: 2929</br>prediction: 0.569</br>lastAction: 25.110000000000003</br></br>h_a: 0.0</br>situation: 1.0</br>shotType: 0.0</br>minute: 41</br>distance: 4.588861943363718</br>angle: 76.94750555554026</br>_original_yhat_: 0.39756797223035245</br>"
          ],
          [
           "</br>id: 2929</br>prediction: 0.573</br>lastAction: 25.380000000000003</br></br>h_a: 0.0</br>situation: 1.0</br>shotType: 0.0</br>minute: 41</br>distance: 4.588861943363718</br>angle: 76.94750555554026</br>_original_yhat_: 0.39756797223035245</br>"
          ],
          [
           "</br>id: 2929</br>prediction: 0.577</br>lastAction: 25.650000000000002</br></br>h_a: 0.0</br>situation: 1.0</br>shotType: 0.0</br>minute: 41</br>distance: 4.588861943363718</br>angle: 76.94750555554026</br>_original_yhat_: 0.39756797223035245</br>"
          ],
          [
           "</br>id: 2929</br>prediction: 0.581</br>lastAction: 25.92</br></br>h_a: 0.0</br>situation: 1.0</br>shotType: 0.0</br>minute: 41</br>distance: 4.588861943363718</br>angle: 76.94750555554026</br>_original_yhat_: 0.39756797223035245</br>"
          ],
          [
           "</br>id: 2929</br>prediction: 0.585</br>lastAction: 26.19</br></br>h_a: 0.0</br>situation: 1.0</br>shotType: 0.0</br>minute: 41</br>distance: 4.588861943363718</br>angle: 76.94750555554026</br>_original_yhat_: 0.39756797223035245</br>"
          ],
          [
           "</br>id: 2929</br>prediction: 0.589</br>lastAction: 26.46</br></br>h_a: 0.0</br>situation: 1.0</br>shotType: 0.0</br>minute: 41</br>distance: 4.588861943363718</br>angle: 76.94750555554026</br>_original_yhat_: 0.39756797223035245</br>"
          ],
          [
           "</br>id: 2929</br>prediction: 0.594</br>lastAction: 26.73</br></br>h_a: 0.0</br>situation: 1.0</br>shotType: 0.0</br>minute: 41</br>distance: 4.588861943363718</br>angle: 76.94750555554026</br>_original_yhat_: 0.39756797223035245</br>"
          ],
          [
           "</br>id: 2929</br>prediction: 0.598</br>lastAction: 27.0</br></br>h_a: 0.0</br>situation: 1.0</br>shotType: 0.0</br>minute: 41</br>distance: 4.588861943363718</br>angle: 76.94750555554026</br>_original_yhat_: 0.39756797223035245</br>"
          ]
         ],
         "hovertemplate": "%{customdata[0]}<extra></extra>",
         "legendgroup": "LogisticRegression",
         "line": {
          "color": "#8bdcbe",
          "dash": "solid",
          "width": 2
         },
         "marker": {
          "symbol": "circle"
         },
         "mode": "lines",
         "name": "LogisticRegression",
         "opacity": 1,
         "showlegend": false,
         "type": "scattergl",
         "x": [
          0,
          0.27,
          0.54,
          0.81,
          1.08,
          1.35,
          1.62,
          1.8900000000000001,
          2.16,
          2.43,
          2.7,
          2.97,
          3.24,
          3.5100000000000002,
          3.7800000000000002,
          4.050000000000001,
          4.32,
          4.59,
          4.86,
          5.130000000000001,
          5.4,
          5.67,
          5.94,
          6.210000000000001,
          6.48,
          6.75,
          7.0200000000000005,
          7.290000000000001,
          7.5600000000000005,
          7.83,
          8.100000000000001,
          8.370000000000001,
          8.64,
          8.91,
          9.18,
          9.450000000000001,
          9.72,
          9.99,
          10.260000000000002,
          10.530000000000001,
          10.8,
          11.07,
          11.34,
          11.610000000000001,
          11.88,
          12.15,
          12.420000000000002,
          12.690000000000001,
          12.96,
          13.23,
          13.5,
          13.770000000000001,
          14,
          14.040000000000001,
          14.31,
          14.580000000000002,
          14.850000000000001,
          15.120000000000001,
          15.39,
          15.66,
          15.930000000000001,
          16.200000000000003,
          16.470000000000002,
          16.740000000000002,
          17.01,
          17.28,
          17.55,
          17.82,
          18.09,
          18.36,
          18.630000000000003,
          18.900000000000002,
          19.17,
          19.44,
          19.71,
          19.98,
          20.25,
          20.520000000000003,
          20.790000000000003,
          21.060000000000002,
          21.330000000000002,
          21.6,
          21.87,
          22.14,
          22.41,
          22.68,
          22.950000000000003,
          23.220000000000002,
          23.490000000000002,
          23.76,
          24.03,
          24.3,
          24.57,
          24.840000000000003,
          25.110000000000003,
          25.380000000000003,
          25.650000000000002,
          25.92,
          26.19,
          26.46,
          26.73,
          27
         ],
         "xaxis": "x6",
         "y": [
          0.21602347902764601,
          0.21888974510880477,
          0.22178328304086592,
          0.22470406758796357,
          0.22765206523429998,
          0.23062723404457672,
          0.2336295235276533,
          0.2366588745036616,
          0.23971521897480638,
          0.24279848000008147,
          0.2459085715741366,
          0.24904539851052546,
          0.2522088563295701,
          0.2553988311510734,
          0.2586151995921133,
          0.26185782867014945,
          0.2651265757116728,
          0.268421288266626,
          0.2717418040288193,
          0.2750879507625665,
          0.2784595462357569,
          0.2818563981595819,
          0.28527830413512345,
          0.2887250516070114,
          0.2921964178243501,
          0.29569216980910673,
          0.2992120643321489,
          0.30275584789711146,
          0.3063232567322644,
          0.30991401679054736,
          0.3135278437579217,
          0.31716444307019126,
          0.3208235099384236,
          0.32450472938309993,
          0.3282077762771064,
          0.3319323153976726,
          0.33567800148734817,
          0.3394444793240962,
          0.343231383800573,
          0.3470383400126454,
          0.3508649633571892,
          0.3547108596391944,
          0.3585756251881907,
          0.36245884698399106,
          0.36636010279174047,
          0.370278961306235,
          0.37421498230546996,
          0.3781677168133533,
          0.3821367072715094,
          0.38612148772008187,
          0.39012158398742786,
          0.3941365138885831,
          0.39756797223035245,
          0.39816578743235626,
          0.4022089070369043,
          0.4062653677536164,
          0.4103346574991236,
          0.4144162572952384,
          0.418509641516605,
          0.42261427814583974,
          0.4267296290359129,
          0.43085515017952014,
          0.4349902919851733,
          0.43913449955972733,
          0.44328721299704876,
          0.4474478676725203,
          0.45161589454305906,
          0.4557907204523252,
          0.4599717684407729,
          0.46415845806020295,
          0.46835020569245006,
          0.47254642487184356,
          0.4767465266110652,
          0.48094991973001905,
          0.48515601118733165,
          0.48936420641408396,
          0.4935739096493795,
          0.49778452427734776,
          0.5019954531651747,
          0.5062060990017601,
          0.5104158646365858,
          0.5146241534183934,
          0.5188303695332582,
          0.5230339183416559,
          0.5272342067141168,
          0.5314306433650622,
          0.5356226391844311,
          0.5398096075666987,
          0.5439909647368992,
          0.5481661300732743,
          0.5523345264261672,
          0.5564955804327985,
          0.5606487228275636,
          0.5647933887475008,
          0.56892901803259,
          0.5730550555205529,
          0.5771709513358344,
          0.5812761611724584,
          0.5853701465704604,
          0.5894523751856182,
          0.5935223210522054,
          0.5975794648385149
         ],
         "yaxis": "y6"
        },
        {
         "customdata": [
          [
           "</br>id: 2929</br>prediction: 0.38</br>minute: 0</br></br>h_a: 0.0</br>situation: 1.0</br>shotType: 0.0</br>lastAction: 14.0</br>distance: 4.588861943363718</br>angle: 76.94750555554026</br>_original_yhat_: 0.39756797223035245</br>"
          ],
          [
           "</br>id: 2929</br>prediction: 0.38</br>minute: 1</br></br>h_a: 0.0</br>situation: 1.0</br>shotType: 0.0</br>lastAction: 14.0</br>distance: 4.588861943363718</br>angle: 76.94750555554026</br>_original_yhat_: 0.39756797223035245</br>"
          ],
          [
           "</br>id: 2929</br>prediction: 0.381</br>minute: 2</br></br>h_a: 0.0</br>situation: 1.0</br>shotType: 0.0</br>lastAction: 14.0</br>distance: 4.588861943363718</br>angle: 76.94750555554026</br>_original_yhat_: 0.39756797223035245</br>"
          ],
          [
           "</br>id: 2929</br>prediction: 0.381</br>minute: 3</br></br>h_a: 0.0</br>situation: 1.0</br>shotType: 0.0</br>lastAction: 14.0</br>distance: 4.588861943363718</br>angle: 76.94750555554026</br>_original_yhat_: 0.39756797223035245</br>"
          ],
          [
           "</br>id: 2929</br>prediction: 0.382</br>minute: 4</br></br>h_a: 0.0</br>situation: 1.0</br>shotType: 0.0</br>lastAction: 14.0</br>distance: 4.588861943363718</br>angle: 76.94750555554026</br>_original_yhat_: 0.39756797223035245</br>"
          ],
          [
           "</br>id: 2929</br>prediction: 0.382</br>minute: 5</br></br>h_a: 0.0</br>situation: 1.0</br>shotType: 0.0</br>lastAction: 14.0</br>distance: 4.588861943363718</br>angle: 76.94750555554026</br>_original_yhat_: 0.39756797223035245</br>"
          ],
          [
           "</br>id: 2929</br>prediction: 0.382</br>minute: 6</br></br>h_a: 0.0</br>situation: 1.0</br>shotType: 0.0</br>lastAction: 14.0</br>distance: 4.588861943363718</br>angle: 76.94750555554026</br>_original_yhat_: 0.39756797223035245</br>"
          ],
          [
           "</br>id: 2929</br>prediction: 0.383</br>minute: 7</br></br>h_a: 0.0</br>situation: 1.0</br>shotType: 0.0</br>lastAction: 14.0</br>distance: 4.588861943363718</br>angle: 76.94750555554026</br>_original_yhat_: 0.39756797223035245</br>"
          ],
          [
           "</br>id: 2929</br>prediction: 0.383</br>minute: 8</br></br>h_a: 0.0</br>situation: 1.0</br>shotType: 0.0</br>lastAction: 14.0</br>distance: 4.588861943363718</br>angle: 76.94750555554026</br>_original_yhat_: 0.39756797223035245</br>"
          ],
          [
           "</br>id: 2929</br>prediction: 0.384</br>minute: 9</br></br>h_a: 0.0</br>situation: 1.0</br>shotType: 0.0</br>lastAction: 14.0</br>distance: 4.588861943363718</br>angle: 76.94750555554026</br>_original_yhat_: 0.39756797223035245</br>"
          ],
          [
           "</br>id: 2929</br>prediction: 0.384</br>minute: 10</br></br>h_a: 0.0</br>situation: 1.0</br>shotType: 0.0</br>lastAction: 14.0</br>distance: 4.588861943363718</br>angle: 76.94750555554026</br>_original_yhat_: 0.39756797223035245</br>"
          ],
          [
           "</br>id: 2929</br>prediction: 0.385</br>minute: 11</br></br>h_a: 0.0</br>situation: 1.0</br>shotType: 0.0</br>lastAction: 14.0</br>distance: 4.588861943363718</br>angle: 76.94750555554026</br>_original_yhat_: 0.39756797223035245</br>"
          ],
          [
           "</br>id: 2929</br>prediction: 0.385</br>minute: 12</br></br>h_a: 0.0</br>situation: 1.0</br>shotType: 0.0</br>lastAction: 14.0</br>distance: 4.588861943363718</br>angle: 76.94750555554026</br>_original_yhat_: 0.39756797223035245</br>"
          ],
          [
           "</br>id: 2929</br>prediction: 0.385</br>minute: 13</br></br>h_a: 0.0</br>situation: 1.0</br>shotType: 0.0</br>lastAction: 14.0</br>distance: 4.588861943363718</br>angle: 76.94750555554026</br>_original_yhat_: 0.39756797223035245</br>"
          ],
          [
           "</br>id: 2929</br>prediction: 0.386</br>minute: 14</br></br>h_a: 0.0</br>situation: 1.0</br>shotType: 0.0</br>lastAction: 14.0</br>distance: 4.588861943363718</br>angle: 76.94750555554026</br>_original_yhat_: 0.39756797223035245</br>"
          ],
          [
           "</br>id: 2929</br>prediction: 0.386</br>minute: 15</br></br>h_a: 0.0</br>situation: 1.0</br>shotType: 0.0</br>lastAction: 14.0</br>distance: 4.588861943363718</br>angle: 76.94750555554026</br>_original_yhat_: 0.39756797223035245</br>"
          ],
          [
           "</br>id: 2929</br>prediction: 0.387</br>minute: 16</br></br>h_a: 0.0</br>situation: 1.0</br>shotType: 0.0</br>lastAction: 14.0</br>distance: 4.588861943363718</br>angle: 76.94750555554026</br>_original_yhat_: 0.39756797223035245</br>"
          ],
          [
           "</br>id: 2929</br>prediction: 0.387</br>minute: 17</br></br>h_a: 0.0</br>situation: 1.0</br>shotType: 0.0</br>lastAction: 14.0</br>distance: 4.588861943363718</br>angle: 76.94750555554026</br>_original_yhat_: 0.39756797223035245</br>"
          ],
          [
           "</br>id: 2929</br>prediction: 0.388</br>minute: 18</br></br>h_a: 0.0</br>situation: 1.0</br>shotType: 0.0</br>lastAction: 14.0</br>distance: 4.588861943363718</br>angle: 76.94750555554026</br>_original_yhat_: 0.39756797223035245</br>"
          ],
          [
           "</br>id: 2929</br>prediction: 0.388</br>minute: 19</br></br>h_a: 0.0</br>situation: 1.0</br>shotType: 0.0</br>lastAction: 14.0</br>distance: 4.588861943363718</br>angle: 76.94750555554026</br>_original_yhat_: 0.39756797223035245</br>"
          ],
          [
           "</br>id: 2929</br>prediction: 0.388</br>minute: 20</br></br>h_a: 0.0</br>situation: 1.0</br>shotType: 0.0</br>lastAction: 14.0</br>distance: 4.588861943363718</br>angle: 76.94750555554026</br>_original_yhat_: 0.39756797223035245</br>"
          ],
          [
           "</br>id: 2929</br>prediction: 0.389</br>minute: 21</br></br>h_a: 0.0</br>situation: 1.0</br>shotType: 0.0</br>lastAction: 14.0</br>distance: 4.588861943363718</br>angle: 76.94750555554026</br>_original_yhat_: 0.39756797223035245</br>"
          ],
          [
           "</br>id: 2929</br>prediction: 0.389</br>minute: 22</br></br>h_a: 0.0</br>situation: 1.0</br>shotType: 0.0</br>lastAction: 14.0</br>distance: 4.588861943363718</br>angle: 76.94750555554026</br>_original_yhat_: 0.39756797223035245</br>"
          ],
          [
           "</br>id: 2929</br>prediction: 0.39</br>minute: 23</br></br>h_a: 0.0</br>situation: 1.0</br>shotType: 0.0</br>lastAction: 14.0</br>distance: 4.588861943363718</br>angle: 76.94750555554026</br>_original_yhat_: 0.39756797223035245</br>"
          ],
          [
           "</br>id: 2929</br>prediction: 0.39</br>minute: 24</br></br>h_a: 0.0</br>situation: 1.0</br>shotType: 0.0</br>lastAction: 14.0</br>distance: 4.588861943363718</br>angle: 76.94750555554026</br>_original_yhat_: 0.39756797223035245</br>"
          ],
          [
           "</br>id: 2929</br>prediction: 0.391</br>minute: 25</br></br>h_a: 0.0</br>situation: 1.0</br>shotType: 0.0</br>lastAction: 14.0</br>distance: 4.588861943363718</br>angle: 76.94750555554026</br>_original_yhat_: 0.39756797223035245</br>"
          ],
          [
           "</br>id: 2929</br>prediction: 0.391</br>minute: 26</br></br>h_a: 0.0</br>situation: 1.0</br>shotType: 0.0</br>lastAction: 14.0</br>distance: 4.588861943363718</br>angle: 76.94750555554026</br>_original_yhat_: 0.39756797223035245</br>"
          ],
          [
           "</br>id: 2929</br>prediction: 0.391</br>minute: 27</br></br>h_a: 0.0</br>situation: 1.0</br>shotType: 0.0</br>lastAction: 14.0</br>distance: 4.588861943363718</br>angle: 76.94750555554026</br>_original_yhat_: 0.39756797223035245</br>"
          ],
          [
           "</br>id: 2929</br>prediction: 0.392</br>minute: 28</br></br>h_a: 0.0</br>situation: 1.0</br>shotType: 0.0</br>lastAction: 14.0</br>distance: 4.588861943363718</br>angle: 76.94750555554026</br>_original_yhat_: 0.39756797223035245</br>"
          ],
          [
           "</br>id: 2929</br>prediction: 0.392</br>minute: 29</br></br>h_a: 0.0</br>situation: 1.0</br>shotType: 0.0</br>lastAction: 14.0</br>distance: 4.588861943363718</br>angle: 76.94750555554026</br>_original_yhat_: 0.39756797223035245</br>"
          ],
          [
           "</br>id: 2929</br>prediction: 0.393</br>minute: 30</br></br>h_a: 0.0</br>situation: 1.0</br>shotType: 0.0</br>lastAction: 14.0</br>distance: 4.588861943363718</br>angle: 76.94750555554026</br>_original_yhat_: 0.39756797223035245</br>"
          ],
          [
           "</br>id: 2929</br>prediction: 0.393</br>minute: 31</br></br>h_a: 0.0</br>situation: 1.0</br>shotType: 0.0</br>lastAction: 14.0</br>distance: 4.588861943363718</br>angle: 76.94750555554026</br>_original_yhat_: 0.39756797223035245</br>"
          ],
          [
           "</br>id: 2929</br>prediction: 0.394</br>minute: 32</br></br>h_a: 0.0</br>situation: 1.0</br>shotType: 0.0</br>lastAction: 14.0</br>distance: 4.588861943363718</br>angle: 76.94750555554026</br>_original_yhat_: 0.39756797223035245</br>"
          ],
          [
           "</br>id: 2929</br>prediction: 0.394</br>minute: 33</br></br>h_a: 0.0</br>situation: 1.0</br>shotType: 0.0</br>lastAction: 14.0</br>distance: 4.588861943363718</br>angle: 76.94750555554026</br>_original_yhat_: 0.39756797223035245</br>"
          ],
          [
           "</br>id: 2929</br>prediction: 0.395</br>minute: 34</br></br>h_a: 0.0</br>situation: 1.0</br>shotType: 0.0</br>lastAction: 14.0</br>distance: 4.588861943363718</br>angle: 76.94750555554026</br>_original_yhat_: 0.39756797223035245</br>"
          ],
          [
           "</br>id: 2929</br>prediction: 0.395</br>minute: 35</br></br>h_a: 0.0</br>situation: 1.0</br>shotType: 0.0</br>lastAction: 14.0</br>distance: 4.588861943363718</br>angle: 76.94750555554026</br>_original_yhat_: 0.39756797223035245</br>"
          ],
          [
           "</br>id: 2929</br>prediction: 0.395</br>minute: 36</br></br>h_a: 0.0</br>situation: 1.0</br>shotType: 0.0</br>lastAction: 14.0</br>distance: 4.588861943363718</br>angle: 76.94750555554026</br>_original_yhat_: 0.39756797223035245</br>"
          ],
          [
           "</br>id: 2929</br>prediction: 0.396</br>minute: 37</br></br>h_a: 0.0</br>situation: 1.0</br>shotType: 0.0</br>lastAction: 14.0</br>distance: 4.588861943363718</br>angle: 76.94750555554026</br>_original_yhat_: 0.39756797223035245</br>"
          ],
          [
           "</br>id: 2929</br>prediction: 0.396</br>minute: 38</br></br>h_a: 0.0</br>situation: 1.0</br>shotType: 0.0</br>lastAction: 14.0</br>distance: 4.588861943363718</br>angle: 76.94750555554026</br>_original_yhat_: 0.39756797223035245</br>"
          ],
          [
           "</br>id: 2929</br>prediction: 0.397</br>minute: 39</br></br>h_a: 0.0</br>situation: 1.0</br>shotType: 0.0</br>lastAction: 14.0</br>distance: 4.588861943363718</br>angle: 76.94750555554026</br>_original_yhat_: 0.39756797223035245</br>"
          ],
          [
           "</br>id: 2929</br>prediction: 0.397</br>minute: 40</br></br>h_a: 0.0</br>situation: 1.0</br>shotType: 0.0</br>lastAction: 14.0</br>distance: 4.588861943363718</br>angle: 76.94750555554026</br>_original_yhat_: 0.39756797223035245</br>"
          ],
          [
           "</br>id: 2929</br>prediction: 0.398</br>minute: 41</br></br>h_a: 0.0</br>situation: 1.0</br>shotType: 0.0</br>lastAction: 14.0</br>distance: 4.588861943363718</br>angle: 76.94750555554026</br>_original_yhat_: 0.39756797223035245</br>"
          ],
          [
           "</br>id: 2929</br>prediction: 0.398</br>minute: 42</br></br>h_a: 0.0</br>situation: 1.0</br>shotType: 0.0</br>lastAction: 14.0</br>distance: 4.588861943363718</br>angle: 76.94750555554026</br>_original_yhat_: 0.39756797223035245</br>"
          ],
          [
           "</br>id: 2929</br>prediction: 0.398</br>minute: 43</br></br>h_a: 0.0</br>situation: 1.0</br>shotType: 0.0</br>lastAction: 14.0</br>distance: 4.588861943363718</br>angle: 76.94750555554026</br>_original_yhat_: 0.39756797223035245</br>"
          ],
          [
           "</br>id: 2929</br>prediction: 0.399</br>minute: 44</br></br>h_a: 0.0</br>situation: 1.0</br>shotType: 0.0</br>lastAction: 14.0</br>distance: 4.588861943363718</br>angle: 76.94750555554026</br>_original_yhat_: 0.39756797223035245</br>"
          ],
          [
           "</br>id: 2929</br>prediction: 0.399</br>minute: 45</br></br>h_a: 0.0</br>situation: 1.0</br>shotType: 0.0</br>lastAction: 14.0</br>distance: 4.588861943363718</br>angle: 76.94750555554026</br>_original_yhat_: 0.39756797223035245</br>"
          ],
          [
           "</br>id: 2929</br>prediction: 0.4</br>minute: 46</br></br>h_a: 0.0</br>situation: 1.0</br>shotType: 0.0</br>lastAction: 14.0</br>distance: 4.588861943363718</br>angle: 76.94750555554026</br>_original_yhat_: 0.39756797223035245</br>"
          ],
          [
           "</br>id: 2929</br>prediction: 0.4</br>minute: 47</br></br>h_a: 0.0</br>situation: 1.0</br>shotType: 0.0</br>lastAction: 14.0</br>distance: 4.588861943363718</br>angle: 76.94750555554026</br>_original_yhat_: 0.39756797223035245</br>"
          ],
          [
           "</br>id: 2929</br>prediction: 0.401</br>minute: 48</br></br>h_a: 0.0</br>situation: 1.0</br>shotType: 0.0</br>lastAction: 14.0</br>distance: 4.588861943363718</br>angle: 76.94750555554026</br>_original_yhat_: 0.39756797223035245</br>"
          ],
          [
           "</br>id: 2929</br>prediction: 0.401</br>minute: 49</br></br>h_a: 0.0</br>situation: 1.0</br>shotType: 0.0</br>lastAction: 14.0</br>distance: 4.588861943363718</br>angle: 76.94750555554026</br>_original_yhat_: 0.39756797223035245</br>"
          ],
          [
           "</br>id: 2929</br>prediction: 0.402</br>minute: 50</br></br>h_a: 0.0</br>situation: 1.0</br>shotType: 0.0</br>lastAction: 14.0</br>distance: 4.588861943363718</br>angle: 76.94750555554026</br>_original_yhat_: 0.39756797223035245</br>"
          ],
          [
           "</br>id: 2929</br>prediction: 0.402</br>minute: 51</br></br>h_a: 0.0</br>situation: 1.0</br>shotType: 0.0</br>lastAction: 14.0</br>distance: 4.588861943363718</br>angle: 76.94750555554026</br>_original_yhat_: 0.39756797223035245</br>"
          ],
          [
           "</br>id: 2929</br>prediction: 0.402</br>minute: 52</br></br>h_a: 0.0</br>situation: 1.0</br>shotType: 0.0</br>lastAction: 14.0</br>distance: 4.588861943363718</br>angle: 76.94750555554026</br>_original_yhat_: 0.39756797223035245</br>"
          ],
          [
           "</br>id: 2929</br>prediction: 0.403</br>minute: 53</br></br>h_a: 0.0</br>situation: 1.0</br>shotType: 0.0</br>lastAction: 14.0</br>distance: 4.588861943363718</br>angle: 76.94750555554026</br>_original_yhat_: 0.39756797223035245</br>"
          ],
          [
           "</br>id: 2929</br>prediction: 0.403</br>minute: 54</br></br>h_a: 0.0</br>situation: 1.0</br>shotType: 0.0</br>lastAction: 14.0</br>distance: 4.588861943363718</br>angle: 76.94750555554026</br>_original_yhat_: 0.39756797223035245</br>"
          ],
          [
           "</br>id: 2929</br>prediction: 0.404</br>minute: 55</br></br>h_a: 0.0</br>situation: 1.0</br>shotType: 0.0</br>lastAction: 14.0</br>distance: 4.588861943363718</br>angle: 76.94750555554026</br>_original_yhat_: 0.39756797223035245</br>"
          ],
          [
           "</br>id: 2929</br>prediction: 0.404</br>minute: 56</br></br>h_a: 0.0</br>situation: 1.0</br>shotType: 0.0</br>lastAction: 14.0</br>distance: 4.588861943363718</br>angle: 76.94750555554026</br>_original_yhat_: 0.39756797223035245</br>"
          ],
          [
           "</br>id: 2929</br>prediction: 0.405</br>minute: 57</br></br>h_a: 0.0</br>situation: 1.0</br>shotType: 0.0</br>lastAction: 14.0</br>distance: 4.588861943363718</br>angle: 76.94750555554026</br>_original_yhat_: 0.39756797223035245</br>"
          ],
          [
           "</br>id: 2929</br>prediction: 0.405</br>minute: 58</br></br>h_a: 0.0</br>situation: 1.0</br>shotType: 0.0</br>lastAction: 14.0</br>distance: 4.588861943363718</br>angle: 76.94750555554026</br>_original_yhat_: 0.39756797223035245</br>"
          ],
          [
           "</br>id: 2929</br>prediction: 0.405</br>minute: 59</br></br>h_a: 0.0</br>situation: 1.0</br>shotType: 0.0</br>lastAction: 14.0</br>distance: 4.588861943363718</br>angle: 76.94750555554026</br>_original_yhat_: 0.39756797223035245</br>"
          ],
          [
           "</br>id: 2929</br>prediction: 0.406</br>minute: 60</br></br>h_a: 0.0</br>situation: 1.0</br>shotType: 0.0</br>lastAction: 14.0</br>distance: 4.588861943363718</br>angle: 76.94750555554026</br>_original_yhat_: 0.39756797223035245</br>"
          ],
          [
           "</br>id: 2929</br>prediction: 0.406</br>minute: 61</br></br>h_a: 0.0</br>situation: 1.0</br>shotType: 0.0</br>lastAction: 14.0</br>distance: 4.588861943363718</br>angle: 76.94750555554026</br>_original_yhat_: 0.39756797223035245</br>"
          ],
          [
           "</br>id: 2929</br>prediction: 0.407</br>minute: 62</br></br>h_a: 0.0</br>situation: 1.0</br>shotType: 0.0</br>lastAction: 14.0</br>distance: 4.588861943363718</br>angle: 76.94750555554026</br>_original_yhat_: 0.39756797223035245</br>"
          ],
          [
           "</br>id: 2929</br>prediction: 0.407</br>minute: 63</br></br>h_a: 0.0</br>situation: 1.0</br>shotType: 0.0</br>lastAction: 14.0</br>distance: 4.588861943363718</br>angle: 76.94750555554026</br>_original_yhat_: 0.39756797223035245</br>"
          ],
          [
           "</br>id: 2929</br>prediction: 0.408</br>minute: 64</br></br>h_a: 0.0</br>situation: 1.0</br>shotType: 0.0</br>lastAction: 14.0</br>distance: 4.588861943363718</br>angle: 76.94750555554026</br>_original_yhat_: 0.39756797223035245</br>"
          ],
          [
           "</br>id: 2929</br>prediction: 0.408</br>minute: 65</br></br>h_a: 0.0</br>situation: 1.0</br>shotType: 0.0</br>lastAction: 14.0</br>distance: 4.588861943363718</br>angle: 76.94750555554026</br>_original_yhat_: 0.39756797223035245</br>"
          ],
          [
           "</br>id: 2929</br>prediction: 0.409</br>minute: 66</br></br>h_a: 0.0</br>situation: 1.0</br>shotType: 0.0</br>lastAction: 14.0</br>distance: 4.588861943363718</br>angle: 76.94750555554026</br>_original_yhat_: 0.39756797223035245</br>"
          ],
          [
           "</br>id: 2929</br>prediction: 0.409</br>minute: 67</br></br>h_a: 0.0</br>situation: 1.0</br>shotType: 0.0</br>lastAction: 14.0</br>distance: 4.588861943363718</br>angle: 76.94750555554026</br>_original_yhat_: 0.39756797223035245</br>"
          ],
          [
           "</br>id: 2929</br>prediction: 0.409</br>minute: 68</br></br>h_a: 0.0</br>situation: 1.0</br>shotType: 0.0</br>lastAction: 14.0</br>distance: 4.588861943363718</br>angle: 76.94750555554026</br>_original_yhat_: 0.39756797223035245</br>"
          ],
          [
           "</br>id: 2929</br>prediction: 0.41</br>minute: 69</br></br>h_a: 0.0</br>situation: 1.0</br>shotType: 0.0</br>lastAction: 14.0</br>distance: 4.588861943363718</br>angle: 76.94750555554026</br>_original_yhat_: 0.39756797223035245</br>"
          ],
          [
           "</br>id: 2929</br>prediction: 0.41</br>minute: 70</br></br>h_a: 0.0</br>situation: 1.0</br>shotType: 0.0</br>lastAction: 14.0</br>distance: 4.588861943363718</br>angle: 76.94750555554026</br>_original_yhat_: 0.39756797223035245</br>"
          ],
          [
           "</br>id: 2929</br>prediction: 0.411</br>minute: 71</br></br>h_a: 0.0</br>situation: 1.0</br>shotType: 0.0</br>lastAction: 14.0</br>distance: 4.588861943363718</br>angle: 76.94750555554026</br>_original_yhat_: 0.39756797223035245</br>"
          ],
          [
           "</br>id: 2929</br>prediction: 0.411</br>minute: 72</br></br>h_a: 0.0</br>situation: 1.0</br>shotType: 0.0</br>lastAction: 14.0</br>distance: 4.588861943363718</br>angle: 76.94750555554026</br>_original_yhat_: 0.39756797223035245</br>"
          ],
          [
           "</br>id: 2929</br>prediction: 0.412</br>minute: 73</br></br>h_a: 0.0</br>situation: 1.0</br>shotType: 0.0</br>lastAction: 14.0</br>distance: 4.588861943363718</br>angle: 76.94750555554026</br>_original_yhat_: 0.39756797223035245</br>"
          ],
          [
           "</br>id: 2929</br>prediction: 0.412</br>minute: 74</br></br>h_a: 0.0</br>situation: 1.0</br>shotType: 0.0</br>lastAction: 14.0</br>distance: 4.588861943363718</br>angle: 76.94750555554026</br>_original_yhat_: 0.39756797223035245</br>"
          ],
          [
           "</br>id: 2929</br>prediction: 0.413</br>minute: 75</br></br>h_a: 0.0</br>situation: 1.0</br>shotType: 0.0</br>lastAction: 14.0</br>distance: 4.588861943363718</br>angle: 76.94750555554026</br>_original_yhat_: 0.39756797223035245</br>"
          ],
          [
           "</br>id: 2929</br>prediction: 0.413</br>minute: 76</br></br>h_a: 0.0</br>situation: 1.0</br>shotType: 0.0</br>lastAction: 14.0</br>distance: 4.588861943363718</br>angle: 76.94750555554026</br>_original_yhat_: 0.39756797223035245</br>"
          ],
          [
           "</br>id: 2929</br>prediction: 0.413</br>minute: 77</br></br>h_a: 0.0</br>situation: 1.0</br>shotType: 0.0</br>lastAction: 14.0</br>distance: 4.588861943363718</br>angle: 76.94750555554026</br>_original_yhat_: 0.39756797223035245</br>"
          ],
          [
           "</br>id: 2929</br>prediction: 0.414</br>minute: 78</br></br>h_a: 0.0</br>situation: 1.0</br>shotType: 0.0</br>lastAction: 14.0</br>distance: 4.588861943363718</br>angle: 76.94750555554026</br>_original_yhat_: 0.39756797223035245</br>"
          ],
          [
           "</br>id: 2929</br>prediction: 0.414</br>minute: 79</br></br>h_a: 0.0</br>situation: 1.0</br>shotType: 0.0</br>lastAction: 14.0</br>distance: 4.588861943363718</br>angle: 76.94750555554026</br>_original_yhat_: 0.39756797223035245</br>"
          ],
          [
           "</br>id: 2929</br>prediction: 0.415</br>minute: 80</br></br>h_a: 0.0</br>situation: 1.0</br>shotType: 0.0</br>lastAction: 14.0</br>distance: 4.588861943363718</br>angle: 76.94750555554026</br>_original_yhat_: 0.39756797223035245</br>"
          ],
          [
           "</br>id: 2929</br>prediction: 0.415</br>minute: 81</br></br>h_a: 0.0</br>situation: 1.0</br>shotType: 0.0</br>lastAction: 14.0</br>distance: 4.588861943363718</br>angle: 76.94750555554026</br>_original_yhat_: 0.39756797223035245</br>"
          ],
          [
           "</br>id: 2929</br>prediction: 0.416</br>minute: 82</br></br>h_a: 0.0</br>situation: 1.0</br>shotType: 0.0</br>lastAction: 14.0</br>distance: 4.588861943363718</br>angle: 76.94750555554026</br>_original_yhat_: 0.39756797223035245</br>"
          ],
          [
           "</br>id: 2929</br>prediction: 0.416</br>minute: 83</br></br>h_a: 0.0</br>situation: 1.0</br>shotType: 0.0</br>lastAction: 14.0</br>distance: 4.588861943363718</br>angle: 76.94750555554026</br>_original_yhat_: 0.39756797223035245</br>"
          ],
          [
           "</br>id: 2929</br>prediction: 0.417</br>minute: 84</br></br>h_a: 0.0</br>situation: 1.0</br>shotType: 0.0</br>lastAction: 14.0</br>distance: 4.588861943363718</br>angle: 76.94750555554026</br>_original_yhat_: 0.39756797223035245</br>"
          ],
          [
           "</br>id: 2929</br>prediction: 0.417</br>minute: 85</br></br>h_a: 0.0</br>situation: 1.0</br>shotType: 0.0</br>lastAction: 14.0</br>distance: 4.588861943363718</br>angle: 76.94750555554026</br>_original_yhat_: 0.39756797223035245</br>"
          ],
          [
           "</br>id: 2929</br>prediction: 0.417</br>minute: 86</br></br>h_a: 0.0</br>situation: 1.0</br>shotType: 0.0</br>lastAction: 14.0</br>distance: 4.588861943363718</br>angle: 76.94750555554026</br>_original_yhat_: 0.39756797223035245</br>"
          ],
          [
           "</br>id: 2929</br>prediction: 0.418</br>minute: 87</br></br>h_a: 0.0</br>situation: 1.0</br>shotType: 0.0</br>lastAction: 14.0</br>distance: 4.588861943363718</br>angle: 76.94750555554026</br>_original_yhat_: 0.39756797223035245</br>"
          ],
          [
           "</br>id: 2929</br>prediction: 0.418</br>minute: 88</br></br>h_a: 0.0</br>situation: 1.0</br>shotType: 0.0</br>lastAction: 14.0</br>distance: 4.588861943363718</br>angle: 76.94750555554026</br>_original_yhat_: 0.39756797223035245</br>"
          ],
          [
           "</br>id: 2929</br>prediction: 0.419</br>minute: 89</br></br>h_a: 0.0</br>situation: 1.0</br>shotType: 0.0</br>lastAction: 14.0</br>distance: 4.588861943363718</br>angle: 76.94750555554026</br>_original_yhat_: 0.39756797223035245</br>"
          ],
          [
           "</br>id: 2929</br>prediction: 0.419</br>minute: 90</br></br>h_a: 0.0</br>situation: 1.0</br>shotType: 0.0</br>lastAction: 14.0</br>distance: 4.588861943363718</br>angle: 76.94750555554026</br>_original_yhat_: 0.39756797223035245</br>"
          ],
          [
           "</br>id: 2929</br>prediction: 0.42</br>minute: 91</br></br>h_a: 0.0</br>situation: 1.0</br>shotType: 0.0</br>lastAction: 14.0</br>distance: 4.588861943363718</br>angle: 76.94750555554026</br>_original_yhat_: 0.39756797223035245</br>"
          ],
          [
           "</br>id: 2929</br>prediction: 0.42</br>minute: 92</br></br>h_a: 0.0</br>situation: 1.0</br>shotType: 0.0</br>lastAction: 14.0</br>distance: 4.588861943363718</br>angle: 76.94750555554026</br>_original_yhat_: 0.39756797223035245</br>"
          ],
          [
           "</br>id: 2929</br>prediction: 0.421</br>minute: 93</br></br>h_a: 0.0</br>situation: 1.0</br>shotType: 0.0</br>lastAction: 14.0</br>distance: 4.588861943363718</br>angle: 76.94750555554026</br>_original_yhat_: 0.39756797223035245</br>"
          ],
          [
           "</br>id: 2929</br>prediction: 0.421</br>minute: 94</br></br>h_a: 0.0</br>situation: 1.0</br>shotType: 0.0</br>lastAction: 14.0</br>distance: 4.588861943363718</br>angle: 76.94750555554026</br>_original_yhat_: 0.39756797223035245</br>"
          ],
          [
           "</br>id: 2929</br>prediction: 0.421</br>minute: 95</br></br>h_a: 0.0</br>situation: 1.0</br>shotType: 0.0</br>lastAction: 14.0</br>distance: 4.588861943363718</br>angle: 76.94750555554026</br>_original_yhat_: 0.39756797223035245</br>"
          ],
          [
           "</br>id: 2929</br>prediction: 0.422</br>minute: 96</br></br>h_a: 0.0</br>situation: 1.0</br>shotType: 0.0</br>lastAction: 14.0</br>distance: 4.588861943363718</br>angle: 76.94750555554026</br>_original_yhat_: 0.39756797223035245</br>"
          ],
          [
           "</br>id: 2929</br>prediction: 0.422</br>minute: 97</br></br>h_a: 0.0</br>situation: 1.0</br>shotType: 0.0</br>lastAction: 14.0</br>distance: 4.588861943363718</br>angle: 76.94750555554026</br>_original_yhat_: 0.39756797223035245</br>"
          ],
          [
           "</br>id: 2929</br>prediction: 0.423</br>minute: 98</br></br>h_a: 0.0</br>situation: 1.0</br>shotType: 0.0</br>lastAction: 14.0</br>distance: 4.588861943363718</br>angle: 76.94750555554026</br>_original_yhat_: 0.39756797223035245</br>"
          ],
          [
           "</br>id: 2929</br>prediction: 0.423</br>minute: 99</br></br>h_a: 0.0</br>situation: 1.0</br>shotType: 0.0</br>lastAction: 14.0</br>distance: 4.588861943363718</br>angle: 76.94750555554026</br>_original_yhat_: 0.39756797223035245</br>"
          ],
          [
           "</br>id: 2929</br>prediction: 0.424</br>minute: 100</br></br>h_a: 0.0</br>situation: 1.0</br>shotType: 0.0</br>lastAction: 14.0</br>distance: 4.588861943363718</br>angle: 76.94750555554026</br>_original_yhat_: 0.39756797223035245</br>"
          ]
         ],
         "hovertemplate": "%{customdata[0]}<extra></extra>",
         "legendgroup": "LogisticRegression",
         "line": {
          "color": "#8bdcbe",
          "dash": "solid",
          "width": 2
         },
         "marker": {
          "symbol": "circle"
         },
         "mode": "lines",
         "name": "LogisticRegression",
         "opacity": 1,
         "showlegend": false,
         "type": "scattergl",
         "x": [
          0,
          1,
          2,
          3,
          4,
          5,
          6,
          7,
          8,
          9,
          10,
          11,
          12,
          13,
          14,
          15,
          16,
          17,
          18,
          19,
          20,
          21,
          22,
          23,
          24,
          25,
          26,
          27,
          28,
          29,
          30,
          31,
          32,
          33,
          34,
          35,
          36,
          37,
          38,
          39,
          40,
          41,
          42,
          43,
          44,
          45,
          46,
          47,
          48,
          49,
          50,
          51,
          52,
          53,
          54,
          55,
          56,
          57,
          58,
          59,
          60,
          61,
          62,
          63,
          64,
          65,
          66,
          67,
          68,
          69,
          70,
          71,
          72,
          73,
          74,
          75,
          76,
          77,
          78,
          79,
          80,
          81,
          82,
          83,
          84,
          85,
          86,
          87,
          88,
          89,
          90,
          91,
          92,
          93,
          94,
          95,
          96,
          97,
          98,
          99,
          100
         ],
         "xaxis": "x3",
         "y": [
          0.37978520849970465,
          0.3802153284503574,
          0.380645636562139,
          0.3810761322409797,
          0.3815068148916661,
          0.3819376839178443,
          0.3823687387220229,
          0.38279997870557564,
          0.38323140326874416,
          0.38366301181064133,
          0.3840948037292539,
          0.38452677842144545,
          0.3849589352829595,
          0.3853912737084224,
          0.3858237930913463,
          0.386256492824132,
          0.3866893722980725,
          0.38712243090335546,
          0.3875556680290663,
          0.38798908306319174,
          0.3884226753926225,
          0.3888564444031562,
          0.3892903894795008,
          0.3897245100052777,
          0.3901588053630247,
          0.3905932749341994,
          0.39102791809918175,
          0.39146273423727823,
          0.39189772272672396,
          0.39233288294468666,
          0.3927682142672696,
          0.39320371606951465,
          0.3936393877254057,
          0.39407522860787203,
          0.39451123808879146,
          0.3949474155389933,
          0.39538376032826245,
          0.3958202718253419,
          0.3962569493979362,
          0.39669379241271535,
          0.39713080023531744,
          0.39756797223035245,
          0.39800530776140547,
          0.39844280619104,
          0.3988804668808018,
          0.3993182891912215,
          0.39975627248181866,
          0.40019441611110534,
          0.4006327194365887,
          0.40107118181477525,
          0.40150980260117414,
          0.40194858115030074,
          0.4023875168156795,
          0.4028266089498486,
          0.4032658569043624,
          0.4037052600297955,
          0.40414481767574634,
          0.4045845291908405,
          0.4050243939227347,
          0.40546441121811966,
          0.4059045804227246,
          0.4063449008813205,
          0.406785371937723,
          0.4072259929347975,
          0.4076667632144616,
          0.40810768211768916,
          0.408548748984514,
          0.4089899631540339,
          0.4094313239644139,
          0.4098728307528897,
          0.41031448285577243,
          0.41075627960845157,
          0.4111982203453986,
          0.41164030440017146,
          0.412082531105418,
          0.4125248997928794,
          0.41296740979339414,
          0.41341006043690276,
          0.41385285105245034,
          0.4142957809681908,
          0.41473884951139106,
          0.41518205600843483,
          0.415625399784826,
          0.41606888016519306,
          0.4165124964732928,
          0.41695624803201436,
          0.4174001341633825,
          0.4178441541885628,
          0.4182883074278645,
          0.41873259320074446,
          0.4191770108258121,
          0.4196215596208325,
          0.4200662389027305,
          0.42051104798759487,
          0.4209559861906825,
          0.42140105282642226,
          0.42184624720841857,
          0.4222915686494564,
          0.4227370164615044,
          0.4231825899557197,
          0.4236282884424513
         ],
         "yaxis": "y3"
        },
        {
         "customdata": [
          [
           "</br>id: 2929</br>prediction: 0.489</br>distance: 0.9736657537368798</br></br>h_a: 0.0</br>situation: 1.0</br>shotType: 0.0</br>lastAction: 14.0</br>minute: 41</br>angle: 76.94750555554026</br>_original_yhat_: 0.39756797223035245</br>"
          ],
          [
           "</br>id: 2929</br>prediction: 0.462</br>distance: 2.000467460826111</br></br>h_a: 0.0</br>situation: 1.0</br>shotType: 0.0</br>lastAction: 14.0</br>minute: 41</br>angle: 76.94750555554026</br>_original_yhat_: 0.39756797223035245</br>"
          ],
          [
           "</br>id: 2929</br>prediction: 0.436</br>distance: 3.0272691679153425</br></br>h_a: 0.0</br>situation: 1.0</br>shotType: 0.0</br>lastAction: 14.0</br>minute: 41</br>angle: 76.94750555554026</br>_original_yhat_: 0.39756797223035245</br>"
          ],
          [
           "</br>id: 2929</br>prediction: 0.411</br>distance: 4.054070875004573</br></br>h_a: 0.0</br>situation: 1.0</br>shotType: 0.0</br>lastAction: 14.0</br>minute: 41</br>angle: 76.94750555554026</br>_original_yhat_: 0.39756797223035245</br>"
          ],
          [
           "</br>id: 2929</br>prediction: 0.398</br>distance: 4.588861943363718</br></br>h_a: 0.0</br>situation: 1.0</br>shotType: 0.0</br>lastAction: 14.0</br>minute: 41</br>angle: 76.94750555554026</br>_original_yhat_: 0.39756797223035245</br>"
          ],
          [
           "</br>id: 2929</br>prediction: 0.386</br>distance: 5.0808725820938045</br></br>h_a: 0.0</br>situation: 1.0</br>shotType: 0.0</br>lastAction: 14.0</br>minute: 41</br>angle: 76.94750555554026</br>_original_yhat_: 0.39756797223035245</br>"
          ],
          [
           "</br>id: 2929</br>prediction: 0.361</br>distance: 6.107674289183036</br></br>h_a: 0.0</br>situation: 1.0</br>shotType: 0.0</br>lastAction: 14.0</br>minute: 41</br>angle: 76.94750555554026</br>_original_yhat_: 0.39756797223035245</br>"
          ],
          [
           "</br>id: 2929</br>prediction: 0.337</br>distance: 7.134475996272267</br></br>h_a: 0.0</br>situation: 1.0</br>shotType: 0.0</br>lastAction: 14.0</br>minute: 41</br>angle: 76.94750555554026</br>_original_yhat_: 0.39756797223035245</br>"
          ],
          [
           "</br>id: 2929</br>prediction: 0.314</br>distance: 8.161277703361499</br></br>h_a: 0.0</br>situation: 1.0</br>shotType: 0.0</br>lastAction: 14.0</br>minute: 41</br>angle: 76.94750555554026</br>_original_yhat_: 0.39756797223035245</br>"
          ],
          [
           "</br>id: 2929</br>prediction: 0.292</br>distance: 9.18807941045073</br></br>h_a: 0.0</br>situation: 1.0</br>shotType: 0.0</br>lastAction: 14.0</br>minute: 41</br>angle: 76.94750555554026</br>_original_yhat_: 0.39756797223035245</br>"
          ],
          [
           "</br>id: 2929</br>prediction: 0.271</br>distance: 10.21488111753996</br></br>h_a: 0.0</br>situation: 1.0</br>shotType: 0.0</br>lastAction: 14.0</br>minute: 41</br>angle: 76.94750555554026</br>_original_yhat_: 0.39756797223035245</br>"
          ],
          [
           "</br>id: 2929</br>prediction: 0.25</br>distance: 11.241682824629192</br></br>h_a: 0.0</br>situation: 1.0</br>shotType: 0.0</br>lastAction: 14.0</br>minute: 41</br>angle: 76.94750555554026</br>_original_yhat_: 0.39756797223035245</br>"
          ],
          [
           "</br>id: 2929</br>prediction: 0.231</br>distance: 12.268484531718423</br></br>h_a: 0.0</br>situation: 1.0</br>shotType: 0.0</br>lastAction: 14.0</br>minute: 41</br>angle: 76.94750555554026</br>_original_yhat_: 0.39756797223035245</br>"
          ],
          [
           "</br>id: 2929</br>prediction: 0.213</br>distance: 13.295286238807654</br></br>h_a: 0.0</br>situation: 1.0</br>shotType: 0.0</br>lastAction: 14.0</br>minute: 41</br>angle: 76.94750555554026</br>_original_yhat_: 0.39756797223035245</br>"
          ],
          [
           "</br>id: 2929</br>prediction: 0.196</br>distance: 14.322087945896886</br></br>h_a: 0.0</br>situation: 1.0</br>shotType: 0.0</br>lastAction: 14.0</br>minute: 41</br>angle: 76.94750555554026</br>_original_yhat_: 0.39756797223035245</br>"
          ],
          [
           "</br>id: 2929</br>prediction: 0.18</br>distance: 15.348889652986117</br></br>h_a: 0.0</br>situation: 1.0</br>shotType: 0.0</br>lastAction: 14.0</br>minute: 41</br>angle: 76.94750555554026</br>_original_yhat_: 0.39756797223035245</br>"
          ],
          [
           "</br>id: 2929</br>prediction: 0.165</br>distance: 16.37569136007535</br></br>h_a: 0.0</br>situation: 1.0</br>shotType: 0.0</br>lastAction: 14.0</br>minute: 41</br>angle: 76.94750555554026</br>_original_yhat_: 0.39756797223035245</br>"
          ],
          [
           "</br>id: 2929</br>prediction: 0.151</br>distance: 17.40249306716458</br></br>h_a: 0.0</br>situation: 1.0</br>shotType: 0.0</br>lastAction: 14.0</br>minute: 41</br>angle: 76.94750555554026</br>_original_yhat_: 0.39756797223035245</br>"
          ],
          [
           "</br>id: 2929</br>prediction: 0.138</br>distance: 18.429294774253812</br></br>h_a: 0.0</br>situation: 1.0</br>shotType: 0.0</br>lastAction: 14.0</br>minute: 41</br>angle: 76.94750555554026</br>_original_yhat_: 0.39756797223035245</br>"
          ],
          [
           "</br>id: 2929</br>prediction: 0.126</br>distance: 19.456096481343042</br></br>h_a: 0.0</br>situation: 1.0</br>shotType: 0.0</br>lastAction: 14.0</br>minute: 41</br>angle: 76.94750555554026</br>_original_yhat_: 0.39756797223035245</br>"
          ],
          [
           "</br>id: 2929</br>prediction: 0.115</br>distance: 20.482898188432276</br></br>h_a: 0.0</br>situation: 1.0</br>shotType: 0.0</br>lastAction: 14.0</br>minute: 41</br>angle: 76.94750555554026</br>_original_yhat_: 0.39756797223035245</br>"
          ],
          [
           "</br>id: 2929</br>prediction: 0.105</br>distance: 21.509699895521507</br></br>h_a: 0.0</br>situation: 1.0</br>shotType: 0.0</br>lastAction: 14.0</br>minute: 41</br>angle: 76.94750555554026</br>_original_yhat_: 0.39756797223035245</br>"
          ],
          [
           "</br>id: 2929</br>prediction: 0.095</br>distance: 22.536501602610738</br></br>h_a: 0.0</br>situation: 1.0</br>shotType: 0.0</br>lastAction: 14.0</br>minute: 41</br>angle: 76.94750555554026</br>_original_yhat_: 0.39756797223035245</br>"
          ],
          [
           "</br>id: 2929</br>prediction: 0.086</br>distance: 23.56330330969997</br></br>h_a: 0.0</br>situation: 1.0</br>shotType: 0.0</br>lastAction: 14.0</br>minute: 41</br>angle: 76.94750555554026</br>_original_yhat_: 0.39756797223035245</br>"
          ],
          [
           "</br>id: 2929</br>prediction: 0.078</br>distance: 24.5901050167892</br></br>h_a: 0.0</br>situation: 1.0</br>shotType: 0.0</br>lastAction: 14.0</br>minute: 41</br>angle: 76.94750555554026</br>_original_yhat_: 0.39756797223035245</br>"
          ],
          [
           "</br>id: 2929</br>prediction: 0.071</br>distance: 25.61690672387843</br></br>h_a: 0.0</br>situation: 1.0</br>shotType: 0.0</br>lastAction: 14.0</br>minute: 41</br>angle: 76.94750555554026</br>_original_yhat_: 0.39756797223035245</br>"
          ],
          [
           "</br>id: 2929</br>prediction: 0.065</br>distance: 26.643708430967664</br></br>h_a: 0.0</br>situation: 1.0</br>shotType: 0.0</br>lastAction: 14.0</br>minute: 41</br>angle: 76.94750555554026</br>_original_yhat_: 0.39756797223035245</br>"
          ],
          [
           "</br>id: 2929</br>prediction: 0.059</br>distance: 27.670510138056894</br></br>h_a: 0.0</br>situation: 1.0</br>shotType: 0.0</br>lastAction: 14.0</br>minute: 41</br>angle: 76.94750555554026</br>_original_yhat_: 0.39756797223035245</br>"
          ],
          [
           "</br>id: 2929</br>prediction: 0.053</br>distance: 28.697311845146125</br></br>h_a: 0.0</br>situation: 1.0</br>shotType: 0.0</br>lastAction: 14.0</br>minute: 41</br>angle: 76.94750555554026</br>_original_yhat_: 0.39756797223035245</br>"
          ],
          [
           "</br>id: 2929</br>prediction: 0.048</br>distance: 29.724113552235355</br></br>h_a: 0.0</br>situation: 1.0</br>shotType: 0.0</br>lastAction: 14.0</br>minute: 41</br>angle: 76.94750555554026</br>_original_yhat_: 0.39756797223035245</br>"
          ],
          [
           "</br>id: 2929</br>prediction: 0.043</br>distance: 30.750915259324586</br></br>h_a: 0.0</br>situation: 1.0</br>shotType: 0.0</br>lastAction: 14.0</br>minute: 41</br>angle: 76.94750555554026</br>_original_yhat_: 0.39756797223035245</br>"
          ],
          [
           "</br>id: 2929</br>prediction: 0.039</br>distance: 31.77771696641382</br></br>h_a: 0.0</br>situation: 1.0</br>shotType: 0.0</br>lastAction: 14.0</br>minute: 41</br>angle: 76.94750555554026</br>_original_yhat_: 0.39756797223035245</br>"
          ],
          [
           "</br>id: 2929</br>prediction: 0.035</br>distance: 32.80451867350305</br></br>h_a: 0.0</br>situation: 1.0</br>shotType: 0.0</br>lastAction: 14.0</br>minute: 41</br>angle: 76.94750555554026</br>_original_yhat_: 0.39756797223035245</br>"
          ],
          [
           "</br>id: 2929</br>prediction: 0.032</br>distance: 33.83132038059228</br></br>h_a: 0.0</br>situation: 1.0</br>shotType: 0.0</br>lastAction: 14.0</br>minute: 41</br>angle: 76.94750555554026</br>_original_yhat_: 0.39756797223035245</br>"
          ],
          [
           "</br>id: 2929</br>prediction: 0.029</br>distance: 34.858122087681515</br></br>h_a: 0.0</br>situation: 1.0</br>shotType: 0.0</br>lastAction: 14.0</br>minute: 41</br>angle: 76.94750555554026</br>_original_yhat_: 0.39756797223035245</br>"
          ],
          [
           "</br>id: 2929</br>prediction: 0.026</br>distance: 35.88492379477074</br></br>h_a: 0.0</br>situation: 1.0</br>shotType: 0.0</br>lastAction: 14.0</br>minute: 41</br>angle: 76.94750555554026</br>_original_yhat_: 0.39756797223035245</br>"
          ],
          [
           "</br>id: 2929</br>prediction: 0.024</br>distance: 36.911725501859976</br></br>h_a: 0.0</br>situation: 1.0</br>shotType: 0.0</br>lastAction: 14.0</br>minute: 41</br>angle: 76.94750555554026</br>_original_yhat_: 0.39756797223035245</br>"
          ],
          [
           "</br>id: 2929</br>prediction: 0.021</br>distance: 37.9385272089492</br></br>h_a: 0.0</br>situation: 1.0</br>shotType: 0.0</br>lastAction: 14.0</br>minute: 41</br>angle: 76.94750555554026</br>_original_yhat_: 0.39756797223035245</br>"
          ],
          [
           "</br>id: 2929</br>prediction: 0.019</br>distance: 38.96532891603844</br></br>h_a: 0.0</br>situation: 1.0</br>shotType: 0.0</br>lastAction: 14.0</br>minute: 41</br>angle: 76.94750555554026</br>_original_yhat_: 0.39756797223035245</br>"
          ],
          [
           "</br>id: 2929</br>prediction: 0.017</br>distance: 39.99213062312767</br></br>h_a: 0.0</br>situation: 1.0</br>shotType: 0.0</br>lastAction: 14.0</br>minute: 41</br>angle: 76.94750555554026</br>_original_yhat_: 0.39756797223035245</br>"
          ],
          [
           "</br>id: 2929</br>prediction: 0.016</br>distance: 41.0189323302169</br></br>h_a: 0.0</br>situation: 1.0</br>shotType: 0.0</br>lastAction: 14.0</br>minute: 41</br>angle: 76.94750555554026</br>_original_yhat_: 0.39756797223035245</br>"
          ],
          [
           "</br>id: 2929</br>prediction: 0.014</br>distance: 42.04573403730613</br></br>h_a: 0.0</br>situation: 1.0</br>shotType: 0.0</br>lastAction: 14.0</br>minute: 41</br>angle: 76.94750555554026</br>_original_yhat_: 0.39756797223035245</br>"
          ],
          [
           "</br>id: 2929</br>prediction: 0.013</br>distance: 43.07253574439536</br></br>h_a: 0.0</br>situation: 1.0</br>shotType: 0.0</br>lastAction: 14.0</br>minute: 41</br>angle: 76.94750555554026</br>_original_yhat_: 0.39756797223035245</br>"
          ],
          [
           "</br>id: 2929</br>prediction: 0.011</br>distance: 44.099337451484594</br></br>h_a: 0.0</br>situation: 1.0</br>shotType: 0.0</br>lastAction: 14.0</br>minute: 41</br>angle: 76.94750555554026</br>_original_yhat_: 0.39756797223035245</br>"
          ],
          [
           "</br>id: 2929</br>prediction: 0.01</br>distance: 45.12613915857383</br></br>h_a: 0.0</br>situation: 1.0</br>shotType: 0.0</br>lastAction: 14.0</br>minute: 41</br>angle: 76.94750555554026</br>_original_yhat_: 0.39756797223035245</br>"
          ],
          [
           "</br>id: 2929</br>prediction: 0.009</br>distance: 46.152940865663055</br></br>h_a: 0.0</br>situation: 1.0</br>shotType: 0.0</br>lastAction: 14.0</br>minute: 41</br>angle: 76.94750555554026</br>_original_yhat_: 0.39756797223035245</br>"
          ],
          [
           "</br>id: 2929</br>prediction: 0.008</br>distance: 47.17974257275229</br></br>h_a: 0.0</br>situation: 1.0</br>shotType: 0.0</br>lastAction: 14.0</br>minute: 41</br>angle: 76.94750555554026</br>_original_yhat_: 0.39756797223035245</br>"
          ],
          [
           "</br>id: 2929</br>prediction: 0.008</br>distance: 48.206544279841516</br></br>h_a: 0.0</br>situation: 1.0</br>shotType: 0.0</br>lastAction: 14.0</br>minute: 41</br>angle: 76.94750555554026</br>_original_yhat_: 0.39756797223035245</br>"
          ],
          [
           "</br>id: 2929</br>prediction: 0.007</br>distance: 49.23334598693075</br></br>h_a: 0.0</br>situation: 1.0</br>shotType: 0.0</br>lastAction: 14.0</br>minute: 41</br>angle: 76.94750555554026</br>_original_yhat_: 0.39756797223035245</br>"
          ],
          [
           "</br>id: 2929</br>prediction: 0.006</br>distance: 50.26014769401998</br></br>h_a: 0.0</br>situation: 1.0</br>shotType: 0.0</br>lastAction: 14.0</br>minute: 41</br>angle: 76.94750555554026</br>_original_yhat_: 0.39756797223035245</br>"
          ],
          [
           "</br>id: 2929</br>prediction: 0.006</br>distance: 51.28694940110921</br></br>h_a: 0.0</br>situation: 1.0</br>shotType: 0.0</br>lastAction: 14.0</br>minute: 41</br>angle: 76.94750555554026</br>_original_yhat_: 0.39756797223035245</br>"
          ],
          [
           "</br>id: 2929</br>prediction: 0.005</br>distance: 52.313751108198446</br></br>h_a: 0.0</br>situation: 1.0</br>shotType: 0.0</br>lastAction: 14.0</br>minute: 41</br>angle: 76.94750555554026</br>_original_yhat_: 0.39756797223035245</br>"
          ],
          [
           "</br>id: 2929</br>prediction: 0.004</br>distance: 53.34055281528767</br></br>h_a: 0.0</br>situation: 1.0</br>shotType: 0.0</br>lastAction: 14.0</br>minute: 41</br>angle: 76.94750555554026</br>_original_yhat_: 0.39756797223035245</br>"
          ],
          [
           "</br>id: 2929</br>prediction: 0.004</br>distance: 54.36735452237691</br></br>h_a: 0.0</br>situation: 1.0</br>shotType: 0.0</br>lastAction: 14.0</br>minute: 41</br>angle: 76.94750555554026</br>_original_yhat_: 0.39756797223035245</br>"
          ],
          [
           "</br>id: 2929</br>prediction: 0.004</br>distance: 55.394156229466134</br></br>h_a: 0.0</br>situation: 1.0</br>shotType: 0.0</br>lastAction: 14.0</br>minute: 41</br>angle: 76.94750555554026</br>_original_yhat_: 0.39756797223035245</br>"
          ],
          [
           "</br>id: 2929</br>prediction: 0.003</br>distance: 56.42095793655537</br></br>h_a: 0.0</br>situation: 1.0</br>shotType: 0.0</br>lastAction: 14.0</br>minute: 41</br>angle: 76.94750555554026</br>_original_yhat_: 0.39756797223035245</br>"
          ],
          [
           "</br>id: 2929</br>prediction: 0.003</br>distance: 57.4477596436446</br></br>h_a: 0.0</br>situation: 1.0</br>shotType: 0.0</br>lastAction: 14.0</br>minute: 41</br>angle: 76.94750555554026</br>_original_yhat_: 0.39756797223035245</br>"
          ],
          [
           "</br>id: 2929</br>prediction: 0.003</br>distance: 58.47456135073383</br></br>h_a: 0.0</br>situation: 1.0</br>shotType: 0.0</br>lastAction: 14.0</br>minute: 41</br>angle: 76.94750555554026</br>_original_yhat_: 0.39756797223035245</br>"
          ],
          [
           "</br>id: 2929</br>prediction: 0.002</br>distance: 59.50136305782306</br></br>h_a: 0.0</br>situation: 1.0</br>shotType: 0.0</br>lastAction: 14.0</br>minute: 41</br>angle: 76.94750555554026</br>_original_yhat_: 0.39756797223035245</br>"
          ],
          [
           "</br>id: 2929</br>prediction: 0.002</br>distance: 60.52816476491229</br></br>h_a: 0.0</br>situation: 1.0</br>shotType: 0.0</br>lastAction: 14.0</br>minute: 41</br>angle: 76.94750555554026</br>_original_yhat_: 0.39756797223035245</br>"
          ],
          [
           "</br>id: 2929</br>prediction: 0.002</br>distance: 61.554966472001524</br></br>h_a: 0.0</br>situation: 1.0</br>shotType: 0.0</br>lastAction: 14.0</br>minute: 41</br>angle: 76.94750555554026</br>_original_yhat_: 0.39756797223035245</br>"
          ],
          [
           "</br>id: 2929</br>prediction: 0.002</br>distance: 62.58176817909076</br></br>h_a: 0.0</br>situation: 1.0</br>shotType: 0.0</br>lastAction: 14.0</br>minute: 41</br>angle: 76.94750555554026</br>_original_yhat_: 0.39756797223035245</br>"
          ],
          [
           "</br>id: 2929</br>prediction: 0.002</br>distance: 63.608569886179986</br></br>h_a: 0.0</br>situation: 1.0</br>shotType: 0.0</br>lastAction: 14.0</br>minute: 41</br>angle: 76.94750555554026</br>_original_yhat_: 0.39756797223035245</br>"
          ],
          [
           "</br>id: 2929</br>prediction: 0.001</br>distance: 64.63537159326921</br></br>h_a: 0.0</br>situation: 1.0</br>shotType: 0.0</br>lastAction: 14.0</br>minute: 41</br>angle: 76.94750555554026</br>_original_yhat_: 0.39756797223035245</br>"
          ],
          [
           "</br>id: 2929</br>prediction: 0.001</br>distance: 65.66217330035845</br></br>h_a: 0.0</br>situation: 1.0</br>shotType: 0.0</br>lastAction: 14.0</br>minute: 41</br>angle: 76.94750555554026</br>_original_yhat_: 0.39756797223035245</br>"
          ],
          [
           "</br>id: 2929</br>prediction: 0.001</br>distance: 66.68897500744768</br></br>h_a: 0.0</br>situation: 1.0</br>shotType: 0.0</br>lastAction: 14.0</br>minute: 41</br>angle: 76.94750555554026</br>_original_yhat_: 0.39756797223035245</br>"
          ],
          [
           "</br>id: 2929</br>prediction: 0.001</br>distance: 67.71577671453691</br></br>h_a: 0.0</br>situation: 1.0</br>shotType: 0.0</br>lastAction: 14.0</br>minute: 41</br>angle: 76.94750555554026</br>_original_yhat_: 0.39756797223035245</br>"
          ],
          [
           "</br>id: 2929</br>prediction: 0.001</br>distance: 68.74257842162615</br></br>h_a: 0.0</br>situation: 1.0</br>shotType: 0.0</br>lastAction: 14.0</br>minute: 41</br>angle: 76.94750555554026</br>_original_yhat_: 0.39756797223035245</br>"
          ],
          [
           "</br>id: 2929</br>prediction: 0.001</br>distance: 69.76938012871537</br></br>h_a: 0.0</br>situation: 1.0</br>shotType: 0.0</br>lastAction: 14.0</br>minute: 41</br>angle: 76.94750555554026</br>_original_yhat_: 0.39756797223035245</br>"
          ],
          [
           "</br>id: 2929</br>prediction: 0.001</br>distance: 70.7961818358046</br></br>h_a: 0.0</br>situation: 1.0</br>shotType: 0.0</br>lastAction: 14.0</br>minute: 41</br>angle: 76.94750555554026</br>_original_yhat_: 0.39756797223035245</br>"
          ],
          [
           "</br>id: 2929</br>prediction: 0.001</br>distance: 71.82298354289384</br></br>h_a: 0.0</br>situation: 1.0</br>shotType: 0.0</br>lastAction: 14.0</br>minute: 41</br>angle: 76.94750555554026</br>_original_yhat_: 0.39756797223035245</br>"
          ],
          [
           "</br>id: 2929</br>prediction: 0.001</br>distance: 72.84978524998307</br></br>h_a: 0.0</br>situation: 1.0</br>shotType: 0.0</br>lastAction: 14.0</br>minute: 41</br>angle: 76.94750555554026</br>_original_yhat_: 0.39756797223035245</br>"
          ],
          [
           "</br>id: 2929</br>prediction: 0.001</br>distance: 73.8765869570723</br></br>h_a: 0.0</br>situation: 1.0</br>shotType: 0.0</br>lastAction: 14.0</br>minute: 41</br>angle: 76.94750555554026</br>_original_yhat_: 0.39756797223035245</br>"
          ],
          [
           "</br>id: 2929</br>prediction: 0.0</br>distance: 74.90338866416153</br></br>h_a: 0.0</br>situation: 1.0</br>shotType: 0.0</br>lastAction: 14.0</br>minute: 41</br>angle: 76.94750555554026</br>_original_yhat_: 0.39756797223035245</br>"
          ],
          [
           "</br>id: 2929</br>prediction: 0.0</br>distance: 75.93019037125076</br></br>h_a: 0.0</br>situation: 1.0</br>shotType: 0.0</br>lastAction: 14.0</br>minute: 41</br>angle: 76.94750555554026</br>_original_yhat_: 0.39756797223035245</br>"
          ],
          [
           "</br>id: 2929</br>prediction: 0.0</br>distance: 76.95699207834</br></br>h_a: 0.0</br>situation: 1.0</br>shotType: 0.0</br>lastAction: 14.0</br>minute: 41</br>angle: 76.94750555554026</br>_original_yhat_: 0.39756797223035245</br>"
          ],
          [
           "</br>id: 2929</br>prediction: 0.0</br>distance: 77.98379378542923</br></br>h_a: 0.0</br>situation: 1.0</br>shotType: 0.0</br>lastAction: 14.0</br>minute: 41</br>angle: 76.94750555554026</br>_original_yhat_: 0.39756797223035245</br>"
          ],
          [
           "</br>id: 2929</br>prediction: 0.0</br>distance: 79.01059549251846</br></br>h_a: 0.0</br>situation: 1.0</br>shotType: 0.0</br>lastAction: 14.0</br>minute: 41</br>angle: 76.94750555554026</br>_original_yhat_: 0.39756797223035245</br>"
          ],
          [
           "</br>id: 2929</br>prediction: 0.0</br>distance: 80.03739719960768</br></br>h_a: 0.0</br>situation: 1.0</br>shotType: 0.0</br>lastAction: 14.0</br>minute: 41</br>angle: 76.94750555554026</br>_original_yhat_: 0.39756797223035245</br>"
          ],
          [
           "</br>id: 2929</br>prediction: 0.0</br>distance: 81.06419890669692</br></br>h_a: 0.0</br>situation: 1.0</br>shotType: 0.0</br>lastAction: 14.0</br>minute: 41</br>angle: 76.94750555554026</br>_original_yhat_: 0.39756797223035245</br>"
          ],
          [
           "</br>id: 2929</br>prediction: 0.0</br>distance: 82.09100061378615</br></br>h_a: 0.0</br>situation: 1.0</br>shotType: 0.0</br>lastAction: 14.0</br>minute: 41</br>angle: 76.94750555554026</br>_original_yhat_: 0.39756797223035245</br>"
          ],
          [
           "</br>id: 2929</br>prediction: 0.0</br>distance: 83.11780232087538</br></br>h_a: 0.0</br>situation: 1.0</br>shotType: 0.0</br>lastAction: 14.0</br>minute: 41</br>angle: 76.94750555554026</br>_original_yhat_: 0.39756797223035245</br>"
          ],
          [
           "</br>id: 2929</br>prediction: 0.0</br>distance: 84.14460402796462</br></br>h_a: 0.0</br>situation: 1.0</br>shotType: 0.0</br>lastAction: 14.0</br>minute: 41</br>angle: 76.94750555554026</br>_original_yhat_: 0.39756797223035245</br>"
          ],
          [
           "</br>id: 2929</br>prediction: 0.0</br>distance: 85.17140573505384</br></br>h_a: 0.0</br>situation: 1.0</br>shotType: 0.0</br>lastAction: 14.0</br>minute: 41</br>angle: 76.94750555554026</br>_original_yhat_: 0.39756797223035245</br>"
          ],
          [
           "</br>id: 2929</br>prediction: 0.0</br>distance: 86.19820744214307</br></br>h_a: 0.0</br>situation: 1.0</br>shotType: 0.0</br>lastAction: 14.0</br>minute: 41</br>angle: 76.94750555554026</br>_original_yhat_: 0.39756797223035245</br>"
          ],
          [
           "</br>id: 2929</br>prediction: 0.0</br>distance: 87.2250091492323</br></br>h_a: 0.0</br>situation: 1.0</br>shotType: 0.0</br>lastAction: 14.0</br>minute: 41</br>angle: 76.94750555554026</br>_original_yhat_: 0.39756797223035245</br>"
          ],
          [
           "</br>id: 2929</br>prediction: 0.0</br>distance: 88.25181085632154</br></br>h_a: 0.0</br>situation: 1.0</br>shotType: 0.0</br>lastAction: 14.0</br>minute: 41</br>angle: 76.94750555554026</br>_original_yhat_: 0.39756797223035245</br>"
          ],
          [
           "</br>id: 2929</br>prediction: 0.0</br>distance: 89.27861256341077</br></br>h_a: 0.0</br>situation: 1.0</br>shotType: 0.0</br>lastAction: 14.0</br>minute: 41</br>angle: 76.94750555554026</br>_original_yhat_: 0.39756797223035245</br>"
          ],
          [
           "</br>id: 2929</br>prediction: 0.0</br>distance: 90.3054142705</br></br>h_a: 0.0</br>situation: 1.0</br>shotType: 0.0</br>lastAction: 14.0</br>minute: 41</br>angle: 76.94750555554026</br>_original_yhat_: 0.39756797223035245</br>"
          ],
          [
           "</br>id: 2929</br>prediction: 0.0</br>distance: 91.33221597758923</br></br>h_a: 0.0</br>situation: 1.0</br>shotType: 0.0</br>lastAction: 14.0</br>minute: 41</br>angle: 76.94750555554026</br>_original_yhat_: 0.39756797223035245</br>"
          ],
          [
           "</br>id: 2929</br>prediction: 0.0</br>distance: 92.35901768467846</br></br>h_a: 0.0</br>situation: 1.0</br>shotType: 0.0</br>lastAction: 14.0</br>minute: 41</br>angle: 76.94750555554026</br>_original_yhat_: 0.39756797223035245</br>"
          ],
          [
           "</br>id: 2929</br>prediction: 0.0</br>distance: 93.3858193917677</br></br>h_a: 0.0</br>situation: 1.0</br>shotType: 0.0</br>lastAction: 14.0</br>minute: 41</br>angle: 76.94750555554026</br>_original_yhat_: 0.39756797223035245</br>"
          ],
          [
           "</br>id: 2929</br>prediction: 0.0</br>distance: 94.41262109885693</br></br>h_a: 0.0</br>situation: 1.0</br>shotType: 0.0</br>lastAction: 14.0</br>minute: 41</br>angle: 76.94750555554026</br>_original_yhat_: 0.39756797223035245</br>"
          ],
          [
           "</br>id: 2929</br>prediction: 0.0</br>distance: 95.43942280594615</br></br>h_a: 0.0</br>situation: 1.0</br>shotType: 0.0</br>lastAction: 14.0</br>minute: 41</br>angle: 76.94750555554026</br>_original_yhat_: 0.39756797223035245</br>"
          ],
          [
           "</br>id: 2929</br>prediction: 0.0</br>distance: 96.46622451303539</br></br>h_a: 0.0</br>situation: 1.0</br>shotType: 0.0</br>lastAction: 14.0</br>minute: 41</br>angle: 76.94750555554026</br>_original_yhat_: 0.39756797223035245</br>"
          ],
          [
           "</br>id: 2929</br>prediction: 0.0</br>distance: 97.49302622012462</br></br>h_a: 0.0</br>situation: 1.0</br>shotType: 0.0</br>lastAction: 14.0</br>minute: 41</br>angle: 76.94750555554026</br>_original_yhat_: 0.39756797223035245</br>"
          ],
          [
           "</br>id: 2929</br>prediction: 0.0</br>distance: 98.51982792721385</br></br>h_a: 0.0</br>situation: 1.0</br>shotType: 0.0</br>lastAction: 14.0</br>minute: 41</br>angle: 76.94750555554026</br>_original_yhat_: 0.39756797223035245</br>"
          ],
          [
           "</br>id: 2929</br>prediction: 0.0</br>distance: 99.54662963430307</br></br>h_a: 0.0</br>situation: 1.0</br>shotType: 0.0</br>lastAction: 14.0</br>minute: 41</br>angle: 76.94750555554026</br>_original_yhat_: 0.39756797223035245</br>"
          ],
          [
           "</br>id: 2929</br>prediction: 0.0</br>distance: 100.57343134139231</br></br>h_a: 0.0</br>situation: 1.0</br>shotType: 0.0</br>lastAction: 14.0</br>minute: 41</br>angle: 76.94750555554026</br>_original_yhat_: 0.39756797223035245</br>"
          ],
          [
           "</br>id: 2929</br>prediction: 0.0</br>distance: 101.60023304848154</br></br>h_a: 0.0</br>situation: 1.0</br>shotType: 0.0</br>lastAction: 14.0</br>minute: 41</br>angle: 76.94750555554026</br>_original_yhat_: 0.39756797223035245</br>"
          ],
          [
           "</br>id: 2929</br>prediction: 0.0</br>distance: 102.62703475557078</br></br>h_a: 0.0</br>situation: 1.0</br>shotType: 0.0</br>lastAction: 14.0</br>minute: 41</br>angle: 76.94750555554026</br>_original_yhat_: 0.39756797223035245</br>"
          ],
          [
           "</br>id: 2929</br>prediction: 0.0</br>distance: 103.65383646266001</br></br>h_a: 0.0</br>situation: 1.0</br>shotType: 0.0</br>lastAction: 14.0</br>minute: 41</br>angle: 76.94750555554026</br>_original_yhat_: 0.39756797223035245</br>"
          ]
         ],
         "hovertemplate": "%{customdata[0]}<extra></extra>",
         "legendgroup": "LogisticRegression",
         "line": {
          "color": "#8bdcbe",
          "dash": "solid",
          "width": 2
         },
         "marker": {
          "symbol": "circle"
         },
         "mode": "lines",
         "name": "LogisticRegression",
         "opacity": 1,
         "showlegend": false,
         "type": "scattergl",
         "x": [
          0.9736657537368798,
          2.000467460826111,
          3.0272691679153425,
          4.054070875004573,
          4.588861943363718,
          5.0808725820938045,
          6.107674289183036,
          7.134475996272267,
          8.161277703361499,
          9.18807941045073,
          10.21488111753996,
          11.241682824629192,
          12.268484531718423,
          13.295286238807654,
          14.322087945896886,
          15.348889652986117,
          16.37569136007535,
          17.40249306716458,
          18.429294774253812,
          19.456096481343042,
          20.482898188432276,
          21.509699895521507,
          22.536501602610738,
          23.56330330969997,
          24.5901050167892,
          25.61690672387843,
          26.643708430967664,
          27.670510138056894,
          28.697311845146125,
          29.724113552235355,
          30.750915259324586,
          31.77771696641382,
          32.80451867350305,
          33.83132038059228,
          34.858122087681515,
          35.88492379477074,
          36.911725501859976,
          37.9385272089492,
          38.96532891603844,
          39.99213062312767,
          41.0189323302169,
          42.04573403730613,
          43.07253574439536,
          44.099337451484594,
          45.12613915857383,
          46.152940865663055,
          47.17974257275229,
          48.206544279841516,
          49.23334598693075,
          50.26014769401998,
          51.28694940110921,
          52.313751108198446,
          53.34055281528767,
          54.36735452237691,
          55.394156229466134,
          56.42095793655537,
          57.4477596436446,
          58.47456135073383,
          59.50136305782306,
          60.52816476491229,
          61.554966472001524,
          62.58176817909076,
          63.608569886179986,
          64.63537159326921,
          65.66217330035845,
          66.68897500744768,
          67.71577671453691,
          68.74257842162615,
          69.76938012871537,
          70.7961818358046,
          71.82298354289384,
          72.84978524998307,
          73.8765869570723,
          74.90338866416153,
          75.93019037125076,
          76.95699207834,
          77.98379378542923,
          79.01059549251846,
          80.03739719960768,
          81.06419890669692,
          82.09100061378615,
          83.11780232087538,
          84.14460402796462,
          85.17140573505384,
          86.19820744214307,
          87.2250091492323,
          88.25181085632154,
          89.27861256341077,
          90.3054142705,
          91.33221597758923,
          92.35901768467846,
          93.3858193917677,
          94.41262109885693,
          95.43942280594615,
          96.46622451303539,
          97.49302622012462,
          98.51982792721385,
          99.54662963430307,
          100.57343134139231,
          101.60023304848154,
          102.62703475557078,
          103.65383646266001
         ],
         "xaxis": "x4",
         "y": [
          0.4886196234522029,
          0.4624108648745729,
          0.43640820631034943,
          0.4107505392658164,
          0.39756797223035245,
          0.38556935970296974,
          0.3609861934266838,
          0.3371104543290562,
          0.3140378050247298,
          0.29184905513183146,
          0.2706095986899501,
          0.2503693619354033,
          0.23116320809653726,
          0.2130117283264351,
          0.19592233772620343,
          0.17989059219514852,
          0.16490164454918516,
          0.15093176560237434,
          0.1379498662184275,
          0.12591896829022864,
          0.11479758497717671,
          0.10454098237388607,
          0.095102305439674,
          0.08643356009608641,
          0.07848645073630349,
          0.07121307799661475,
          0.0645665056476959,
          0.05850120807605114,
          0.052973411281058355,
          0.04794134085238765,
          0.043365390242864676,
          0.03920822201314552,
          0.035434813764828293,
          0.03201245933280535,
          0.02891073457966695,
          0.026101435901243312,
          0.023558498366233013,
          0.021257899308930673,
          0.019177552192420233,
          0.01729719466944213,
          0.015598273990857675,
          0.014063832243280009,
          0.01267839333067492,
          0.011427853140283275,
          0.010299373940937032,
          0.009281283741463644,
          0.008362981078512407,
          0.007534845497577372,
          0.0067881538298835975,
          0.006115002243717287,
          0.0055082339552159,
          0.004961372414985344,
          0.004468559738395607,
          0.00402450011498812,
          0.0036244079127344337,
          0.0032639601831203516,
          0.0029392532708948753,
          0.0026467632359459996,
          0.0023833098026310533,
          0.002146023562783699,
          0.001932316171578293,
          0.0017398532896963081,
          0.001566530040218967,
          0.0014104487639124328,
          0.001269898871735267,
          0.0011433386082299456,
          0.0010293785537795195,
          0.0009267667073920216,
          0.0008343750046376984,
          0.0007511871375605265,
          0.0006762875547952428,
          0.0006088515307428993,
          0.0005481362025057164,
          0.0004934724823796101,
          0.0004442577620820106,
          0.0003999493325896656,
          0.0003600584505154216,
          0.0003241449884052096,
          0.0002918126122275883,
          0.00026270443469870623,
          0.00023649909797482204,
          0.00021290724369019454,
          0.00019166833235631002,
          0.00017254777780280383,
          0.00015533436566292057,
          0.00013983792791658534,
          0.00012588724822960474,
          0.00011332817529372495,
          0.00010202192360265562,
          0.00009184354311535204,
          0.00008268054107961472,
          0.00007443164093454344,
          0.00006700566469612266,
          0.0000603205265713156,
          0.00005430232675625613,
          0.0000488845354659567,
          0.00004400725822776132,
          0.00003961657435887904,
          0.00003566394134908986,
          0.00003210565859159901,
          0.00002890238455569924,
          0.00002601870208133824
         ],
         "yaxis": "y4"
        },
        {
         "customdata": [
          [
           "</br>id: 2929</br>prediction: 0.097</br>angle: 2.0520442300827204</br></br>h_a: 0.0</br>situation: 1.0</br>shotType: 0.0</br>lastAction: 14.0</br>minute: 41</br>distance: 4.588861943363718</br>_original_yhat_: 0.39756797223035245</br>"
          ],
          [
           "</br>id: 2929</br>prediction: 0.098</br>angle: 2.929528255455247</br></br>h_a: 0.0</br>situation: 1.0</br>shotType: 0.0</br>lastAction: 14.0</br>minute: 41</br>distance: 4.588861943363718</br>_original_yhat_: 0.39756797223035245</br>"
          ],
          [
           "</br>id: 2929</br>prediction: 0.1</br>angle: 3.8070122808277738</br></br>h_a: 0.0</br>situation: 1.0</br>shotType: 0.0</br>lastAction: 14.0</br>minute: 41</br>distance: 4.588861943363718</br>_original_yhat_: 0.39756797223035245</br>"
          ],
          [
           "</br>id: 2929</br>prediction: 0.102</br>angle: 4.6844963062003</br></br>h_a: 0.0</br>situation: 1.0</br>shotType: 0.0</br>lastAction: 14.0</br>minute: 41</br>distance: 4.588861943363718</br>_original_yhat_: 0.39756797223035245</br>"
          ],
          [
           "</br>id: 2929</br>prediction: 0.104</br>angle: 5.561980331572826</br></br>h_a: 0.0</br>situation: 1.0</br>shotType: 0.0</br>lastAction: 14.0</br>minute: 41</br>distance: 4.588861943363718</br>_original_yhat_: 0.39756797223035245</br>"
          ],
          [
           "</br>id: 2929</br>prediction: 0.106</br>angle: 6.439464356945353</br></br>h_a: 0.0</br>situation: 1.0</br>shotType: 0.0</br>lastAction: 14.0</br>minute: 41</br>distance: 4.588861943363718</br>_original_yhat_: 0.39756797223035245</br>"
          ],
          [
           "</br>id: 2929</br>prediction: 0.108</br>angle: 7.31694838231788</br></br>h_a: 0.0</br>situation: 1.0</br>shotType: 0.0</br>lastAction: 14.0</br>minute: 41</br>distance: 4.588861943363718</br>_original_yhat_: 0.39756797223035245</br>"
          ],
          [
           "</br>id: 2929</br>prediction: 0.11</br>angle: 8.194432407690407</br></br>h_a: 0.0</br>situation: 1.0</br>shotType: 0.0</br>lastAction: 14.0</br>minute: 41</br>distance: 4.588861943363718</br>_original_yhat_: 0.39756797223035245</br>"
          ],
          [
           "</br>id: 2929</br>prediction: 0.113</br>angle: 9.071916433062933</br></br>h_a: 0.0</br>situation: 1.0</br>shotType: 0.0</br>lastAction: 14.0</br>minute: 41</br>distance: 4.588861943363718</br>_original_yhat_: 0.39756797223035245</br>"
          ],
          [
           "</br>id: 2929</br>prediction: 0.115</br>angle: 9.94940045843546</br></br>h_a: 0.0</br>situation: 1.0</br>shotType: 0.0</br>lastAction: 14.0</br>minute: 41</br>distance: 4.588861943363718</br>_original_yhat_: 0.39756797223035245</br>"
          ],
          [
           "</br>id: 2929</br>prediction: 0.117</br>angle: 10.826884483807987</br></br>h_a: 0.0</br>situation: 1.0</br>shotType: 0.0</br>lastAction: 14.0</br>minute: 41</br>distance: 4.588861943363718</br>_original_yhat_: 0.39756797223035245</br>"
          ],
          [
           "</br>id: 2929</br>prediction: 0.119</br>angle: 11.704368509180512</br></br>h_a: 0.0</br>situation: 1.0</br>shotType: 0.0</br>lastAction: 14.0</br>minute: 41</br>distance: 4.588861943363718</br>_original_yhat_: 0.39756797223035245</br>"
          ],
          [
           "</br>id: 2929</br>prediction: 0.121</br>angle: 12.58185253455304</br></br>h_a: 0.0</br>situation: 1.0</br>shotType: 0.0</br>lastAction: 14.0</br>minute: 41</br>distance: 4.588861943363718</br>_original_yhat_: 0.39756797223035245</br>"
          ],
          [
           "</br>id: 2929</br>prediction: 0.124</br>angle: 13.459336559925564</br></br>h_a: 0.0</br>situation: 1.0</br>shotType: 0.0</br>lastAction: 14.0</br>minute: 41</br>distance: 4.588861943363718</br>_original_yhat_: 0.39756797223035245</br>"
          ],
          [
           "</br>id: 2929</br>prediction: 0.126</br>angle: 14.336820585298092</br></br>h_a: 0.0</br>situation: 1.0</br>shotType: 0.0</br>lastAction: 14.0</br>minute: 41</br>distance: 4.588861943363718</br>_original_yhat_: 0.39756797223035245</br>"
          ],
          [
           "</br>id: 2929</br>prediction: 0.128</br>angle: 15.21430461067062</br></br>h_a: 0.0</br>situation: 1.0</br>shotType: 0.0</br>lastAction: 14.0</br>minute: 41</br>distance: 4.588861943363718</br>_original_yhat_: 0.39756797223035245</br>"
          ],
          [
           "</br>id: 2929</br>prediction: 0.131</br>angle: 16.091788636043145</br></br>h_a: 0.0</br>situation: 1.0</br>shotType: 0.0</br>lastAction: 14.0</br>minute: 41</br>distance: 4.588861943363718</br>_original_yhat_: 0.39756797223035245</br>"
          ],
          [
           "</br>id: 2929</br>prediction: 0.133</br>angle: 16.969272661415673</br></br>h_a: 0.0</br>situation: 1.0</br>shotType: 0.0</br>lastAction: 14.0</br>minute: 41</br>distance: 4.588861943363718</br>_original_yhat_: 0.39756797223035245</br>"
          ],
          [
           "</br>id: 2929</br>prediction: 0.136</br>angle: 17.846756686788197</br></br>h_a: 0.0</br>situation: 1.0</br>shotType: 0.0</br>lastAction: 14.0</br>minute: 41</br>distance: 4.588861943363718</br>_original_yhat_: 0.39756797223035245</br>"
          ],
          [
           "</br>id: 2929</br>prediction: 0.138</br>angle: 18.724240712160725</br></br>h_a: 0.0</br>situation: 1.0</br>shotType: 0.0</br>lastAction: 14.0</br>minute: 41</br>distance: 4.588861943363718</br>_original_yhat_: 0.39756797223035245</br>"
          ],
          [
           "</br>id: 2929</br>prediction: 0.141</br>angle: 19.601724737533253</br></br>h_a: 0.0</br>situation: 1.0</br>shotType: 0.0</br>lastAction: 14.0</br>minute: 41</br>distance: 4.588861943363718</br>_original_yhat_: 0.39756797223035245</br>"
          ],
          [
           "</br>id: 2929</br>prediction: 0.143</br>angle: 20.479208762905778</br></br>h_a: 0.0</br>situation: 1.0</br>shotType: 0.0</br>lastAction: 14.0</br>minute: 41</br>distance: 4.588861943363718</br>_original_yhat_: 0.39756797223035245</br>"
          ],
          [
           "</br>id: 2929</br>prediction: 0.146</br>angle: 21.356692788278306</br></br>h_a: 0.0</br>situation: 1.0</br>shotType: 0.0</br>lastAction: 14.0</br>minute: 41</br>distance: 4.588861943363718</br>_original_yhat_: 0.39756797223035245</br>"
          ],
          [
           "</br>id: 2929</br>prediction: 0.149</br>angle: 22.234176813650834</br></br>h_a: 0.0</br>situation: 1.0</br>shotType: 0.0</br>lastAction: 14.0</br>minute: 41</br>distance: 4.588861943363718</br>_original_yhat_: 0.39756797223035245</br>"
          ],
          [
           "</br>id: 2929</br>prediction: 0.151</br>angle: 23.111660839023358</br></br>h_a: 0.0</br>situation: 1.0</br>shotType: 0.0</br>lastAction: 14.0</br>minute: 41</br>distance: 4.588861943363718</br>_original_yhat_: 0.39756797223035245</br>"
          ],
          [
           "</br>id: 2929</br>prediction: 0.154</br>angle: 23.989144864395886</br></br>h_a: 0.0</br>situation: 1.0</br>shotType: 0.0</br>lastAction: 14.0</br>minute: 41</br>distance: 4.588861943363718</br>_original_yhat_: 0.39756797223035245</br>"
          ],
          [
           "</br>id: 2929</br>prediction: 0.157</br>angle: 24.86662888976841</br></br>h_a: 0.0</br>situation: 1.0</br>shotType: 0.0</br>lastAction: 14.0</br>minute: 41</br>distance: 4.588861943363718</br>_original_yhat_: 0.39756797223035245</br>"
          ],
          [
           "</br>id: 2929</br>prediction: 0.16</br>angle: 25.74411291514094</br></br>h_a: 0.0</br>situation: 1.0</br>shotType: 0.0</br>lastAction: 14.0</br>minute: 41</br>distance: 4.588861943363718</br>_original_yhat_: 0.39756797223035245</br>"
          ],
          [
           "</br>id: 2929</br>prediction: 0.163</br>angle: 26.621596940513466</br></br>h_a: 0.0</br>situation: 1.0</br>shotType: 0.0</br>lastAction: 14.0</br>minute: 41</br>distance: 4.588861943363718</br>_original_yhat_: 0.39756797223035245</br>"
          ],
          [
           "</br>id: 2929</br>prediction: 0.166</br>angle: 27.49908096588599</br></br>h_a: 0.0</br>situation: 1.0</br>shotType: 0.0</br>lastAction: 14.0</br>minute: 41</br>distance: 4.588861943363718</br>_original_yhat_: 0.39756797223035245</br>"
          ],
          [
           "</br>id: 2929</br>prediction: 0.169</br>angle: 28.37656499125852</br></br>h_a: 0.0</br>situation: 1.0</br>shotType: 0.0</br>lastAction: 14.0</br>minute: 41</br>distance: 4.588861943363718</br>_original_yhat_: 0.39756797223035245</br>"
          ],
          [
           "</br>id: 2929</br>prediction: 0.172</br>angle: 29.254049016631043</br></br>h_a: 0.0</br>situation: 1.0</br>shotType: 0.0</br>lastAction: 14.0</br>minute: 41</br>distance: 4.588861943363718</br>_original_yhat_: 0.39756797223035245</br>"
          ],
          [
           "</br>id: 2929</br>prediction: 0.175</br>angle: 30.13153304200357</br></br>h_a: 0.0</br>situation: 1.0</br>shotType: 0.0</br>lastAction: 14.0</br>minute: 41</br>distance: 4.588861943363718</br>_original_yhat_: 0.39756797223035245</br>"
          ],
          [
           "</br>id: 2929</br>prediction: 0.178</br>angle: 31.0090170673761</br></br>h_a: 0.0</br>situation: 1.0</br>shotType: 0.0</br>lastAction: 14.0</br>minute: 41</br>distance: 4.588861943363718</br>_original_yhat_: 0.39756797223035245</br>"
          ],
          [
           "</br>id: 2929</br>prediction: 0.181</br>angle: 31.886501092748624</br></br>h_a: 0.0</br>situation: 1.0</br>shotType: 0.0</br>lastAction: 14.0</br>minute: 41</br>distance: 4.588861943363718</br>_original_yhat_: 0.39756797223035245</br>"
          ],
          [
           "</br>id: 2929</br>prediction: 0.184</br>angle: 32.76398511812115</br></br>h_a: 0.0</br>situation: 1.0</br>shotType: 0.0</br>lastAction: 14.0</br>minute: 41</br>distance: 4.588861943363718</br>_original_yhat_: 0.39756797223035245</br>"
          ],
          [
           "</br>id: 2929</br>prediction: 0.187</br>angle: 33.64146914349367</br></br>h_a: 0.0</br>situation: 1.0</br>shotType: 0.0</br>lastAction: 14.0</br>minute: 41</br>distance: 4.588861943363718</br>_original_yhat_: 0.39756797223035245</br>"
          ],
          [
           "</br>id: 2929</br>prediction: 0.191</br>angle: 34.518953168866204</br></br>h_a: 0.0</br>situation: 1.0</br>shotType: 0.0</br>lastAction: 14.0</br>minute: 41</br>distance: 4.588861943363718</br>_original_yhat_: 0.39756797223035245</br>"
          ],
          [
           "</br>id: 2929</br>prediction: 0.194</br>angle: 35.39643719423873</br></br>h_a: 0.0</br>situation: 1.0</br>shotType: 0.0</br>lastAction: 14.0</br>minute: 41</br>distance: 4.588861943363718</br>_original_yhat_: 0.39756797223035245</br>"
          ],
          [
           "</br>id: 2929</br>prediction: 0.197</br>angle: 36.27392121961126</br></br>h_a: 0.0</br>situation: 1.0</br>shotType: 0.0</br>lastAction: 14.0</br>minute: 41</br>distance: 4.588861943363718</br>_original_yhat_: 0.39756797223035245</br>"
          ],
          [
           "</br>id: 2929</br>prediction: 0.201</br>angle: 37.151405244983785</br></br>h_a: 0.0</br>situation: 1.0</br>shotType: 0.0</br>lastAction: 14.0</br>minute: 41</br>distance: 4.588861943363718</br>_original_yhat_: 0.39756797223035245</br>"
          ],
          [
           "</br>id: 2929</br>prediction: 0.204</br>angle: 38.02888927035631</br></br>h_a: 0.0</br>situation: 1.0</br>shotType: 0.0</br>lastAction: 14.0</br>minute: 41</br>distance: 4.588861943363718</br>_original_yhat_: 0.39756797223035245</br>"
          ],
          [
           "</br>id: 2929</br>prediction: 0.208</br>angle: 38.906373295728834</br></br>h_a: 0.0</br>situation: 1.0</br>shotType: 0.0</br>lastAction: 14.0</br>minute: 41</br>distance: 4.588861943363718</br>_original_yhat_: 0.39756797223035245</br>"
          ],
          [
           "</br>id: 2929</br>prediction: 0.211</br>angle: 39.783857321101365</br></br>h_a: 0.0</br>situation: 1.0</br>shotType: 0.0</br>lastAction: 14.0</br>minute: 41</br>distance: 4.588861943363718</br>_original_yhat_: 0.39756797223035245</br>"
          ],
          [
           "</br>id: 2929</br>prediction: 0.215</br>angle: 40.66134134647389</br></br>h_a: 0.0</br>situation: 1.0</br>shotType: 0.0</br>lastAction: 14.0</br>minute: 41</br>distance: 4.588861943363718</br>_original_yhat_: 0.39756797223035245</br>"
          ],
          [
           "</br>id: 2929</br>prediction: 0.218</br>angle: 41.538825371846414</br></br>h_a: 0.0</br>situation: 1.0</br>shotType: 0.0</br>lastAction: 14.0</br>minute: 41</br>distance: 4.588861943363718</br>_original_yhat_: 0.39756797223035245</br>"
          ],
          [
           "</br>id: 2929</br>prediction: 0.222</br>angle: 42.416309397218946</br></br>h_a: 0.0</br>situation: 1.0</br>shotType: 0.0</br>lastAction: 14.0</br>minute: 41</br>distance: 4.588861943363718</br>_original_yhat_: 0.39756797223035245</br>"
          ],
          [
           "</br>id: 2929</br>prediction: 0.226</br>angle: 43.29379342259147</br></br>h_a: 0.0</br>situation: 1.0</br>shotType: 0.0</br>lastAction: 14.0</br>minute: 41</br>distance: 4.588861943363718</br>_original_yhat_: 0.39756797223035245</br>"
          ],
          [
           "</br>id: 2929</br>prediction: 0.229</br>angle: 44.171277447963995</br></br>h_a: 0.0</br>situation: 1.0</br>shotType: 0.0</br>lastAction: 14.0</br>minute: 41</br>distance: 4.588861943363718</br>_original_yhat_: 0.39756797223035245</br>"
          ],
          [
           "</br>id: 2929</br>prediction: 0.233</br>angle: 45.048761473336526</br></br>h_a: 0.0</br>situation: 1.0</br>shotType: 0.0</br>lastAction: 14.0</br>minute: 41</br>distance: 4.588861943363718</br>_original_yhat_: 0.39756797223035245</br>"
          ],
          [
           "</br>id: 2929</br>prediction: 0.237</br>angle: 45.92624549870905</br></br>h_a: 0.0</br>situation: 1.0</br>shotType: 0.0</br>lastAction: 14.0</br>minute: 41</br>distance: 4.588861943363718</br>_original_yhat_: 0.39756797223035245</br>"
          ],
          [
           "</br>id: 2929</br>prediction: 0.241</br>angle: 46.803729524081575</br></br>h_a: 0.0</br>situation: 1.0</br>shotType: 0.0</br>lastAction: 14.0</br>minute: 41</br>distance: 4.588861943363718</br>_original_yhat_: 0.39756797223035245</br>"
          ],
          [
           "</br>id: 2929</br>prediction: 0.245</br>angle: 47.6812135494541</br></br>h_a: 0.0</br>situation: 1.0</br>shotType: 0.0</br>lastAction: 14.0</br>minute: 41</br>distance: 4.588861943363718</br>_original_yhat_: 0.39756797223035245</br>"
          ],
          [
           "</br>id: 2929</br>prediction: 0.249</br>angle: 48.55869757482663</br></br>h_a: 0.0</br>situation: 1.0</br>shotType: 0.0</br>lastAction: 14.0</br>minute: 41</br>distance: 4.588861943363718</br>_original_yhat_: 0.39756797223035245</br>"
          ],
          [
           "</br>id: 2929</br>prediction: 0.253</br>angle: 49.436181600199156</br></br>h_a: 0.0</br>situation: 1.0</br>shotType: 0.0</br>lastAction: 14.0</br>minute: 41</br>distance: 4.588861943363718</br>_original_yhat_: 0.39756797223035245</br>"
          ],
          [
           "</br>id: 2929</br>prediction: 0.257</br>angle: 50.31366562557168</br></br>h_a: 0.0</br>situation: 1.0</br>shotType: 0.0</br>lastAction: 14.0</br>minute: 41</br>distance: 4.588861943363718</br>_original_yhat_: 0.39756797223035245</br>"
          ],
          [
           "</br>id: 2929</br>prediction: 0.261</br>angle: 51.19114965094421</br></br>h_a: 0.0</br>situation: 1.0</br>shotType: 0.0</br>lastAction: 14.0</br>minute: 41</br>distance: 4.588861943363718</br>_original_yhat_: 0.39756797223035245</br>"
          ],
          [
           "</br>id: 2929</br>prediction: 0.265</br>angle: 52.068633676316736</br></br>h_a: 0.0</br>situation: 1.0</br>shotType: 0.0</br>lastAction: 14.0</br>minute: 41</br>distance: 4.588861943363718</br>_original_yhat_: 0.39756797223035245</br>"
          ],
          [
           "</br>id: 2929</br>prediction: 0.269</br>angle: 52.94611770168926</br></br>h_a: 0.0</br>situation: 1.0</br>shotType: 0.0</br>lastAction: 14.0</br>minute: 41</br>distance: 4.588861943363718</br>_original_yhat_: 0.39756797223035245</br>"
          ],
          [
           "</br>id: 2929</br>prediction: 0.273</br>angle: 53.82360172706179</br></br>h_a: 0.0</br>situation: 1.0</br>shotType: 0.0</br>lastAction: 14.0</br>minute: 41</br>distance: 4.588861943363718</br>_original_yhat_: 0.39756797223035245</br>"
          ],
          [
           "</br>id: 2929</br>prediction: 0.278</br>angle: 54.70108575243432</br></br>h_a: 0.0</br>situation: 1.0</br>shotType: 0.0</br>lastAction: 14.0</br>minute: 41</br>distance: 4.588861943363718</br>_original_yhat_: 0.39756797223035245</br>"
          ],
          [
           "</br>id: 2929</br>prediction: 0.282</br>angle: 55.57856977780684</br></br>h_a: 0.0</br>situation: 1.0</br>shotType: 0.0</br>lastAction: 14.0</br>minute: 41</br>distance: 4.588861943363718</br>_original_yhat_: 0.39756797223035245</br>"
          ],
          [
           "</br>id: 2929</br>prediction: 0.286</br>angle: 56.456053803179366</br></br>h_a: 0.0</br>situation: 1.0</br>shotType: 0.0</br>lastAction: 14.0</br>minute: 41</br>distance: 4.588861943363718</br>_original_yhat_: 0.39756797223035245</br>"
          ],
          [
           "</br>id: 2929</br>prediction: 0.291</br>angle: 57.3335378285519</br></br>h_a: 0.0</br>situation: 1.0</br>shotType: 0.0</br>lastAction: 14.0</br>minute: 41</br>distance: 4.588861943363718</br>_original_yhat_: 0.39756797223035245</br>"
          ],
          [
           "</br>id: 2929</br>prediction: 0.295</br>angle: 58.21102185392442</br></br>h_a: 0.0</br>situation: 1.0</br>shotType: 0.0</br>lastAction: 14.0</br>minute: 41</br>distance: 4.588861943363718</br>_original_yhat_: 0.39756797223035245</br>"
          ],
          [
           "</br>id: 2929</br>prediction: 0.3</br>angle: 59.088505879296946</br></br>h_a: 0.0</br>situation: 1.0</br>shotType: 0.0</br>lastAction: 14.0</br>minute: 41</br>distance: 4.588861943363718</br>_original_yhat_: 0.39756797223035245</br>"
          ],
          [
           "</br>id: 2929</br>prediction: 0.304</br>angle: 59.96598990466948</br></br>h_a: 0.0</br>situation: 1.0</br>shotType: 0.0</br>lastAction: 14.0</br>minute: 41</br>distance: 4.588861943363718</br>_original_yhat_: 0.39756797223035245</br>"
          ],
          [
           "</br>id: 2929</br>prediction: 0.309</br>angle: 60.843473930042</br></br>h_a: 0.0</br>situation: 1.0</br>shotType: 0.0</br>lastAction: 14.0</br>minute: 41</br>distance: 4.588861943363718</br>_original_yhat_: 0.39756797223035245</br>"
          ],
          [
           "</br>id: 2929</br>prediction: 0.313</br>angle: 61.72095795541453</br></br>h_a: 0.0</br>situation: 1.0</br>shotType: 0.0</br>lastAction: 14.0</br>minute: 41</br>distance: 4.588861943363718</br>_original_yhat_: 0.39756797223035245</br>"
          ],
          [
           "</br>id: 2929</br>prediction: 0.318</br>angle: 62.59844198078705</br></br>h_a: 0.0</br>situation: 1.0</br>shotType: 0.0</br>lastAction: 14.0</br>minute: 41</br>distance: 4.588861943363718</br>_original_yhat_: 0.39756797223035245</br>"
          ],
          [
           "</br>id: 2929</br>prediction: 0.322</br>angle: 63.47592600615958</br></br>h_a: 0.0</br>situation: 1.0</br>shotType: 0.0</br>lastAction: 14.0</br>minute: 41</br>distance: 4.588861943363718</br>_original_yhat_: 0.39756797223035245</br>"
          ],
          [
           "</br>id: 2929</br>prediction: 0.327</br>angle: 64.3534100315321</br></br>h_a: 0.0</br>situation: 1.0</br>shotType: 0.0</br>lastAction: 14.0</br>minute: 41</br>distance: 4.588861943363718</br>_original_yhat_: 0.39756797223035245</br>"
          ],
          [
           "</br>id: 2929</br>prediction: 0.332</br>angle: 65.23089405690463</br></br>h_a: 0.0</br>situation: 1.0</br>shotType: 0.0</br>lastAction: 14.0</br>minute: 41</br>distance: 4.588861943363718</br>_original_yhat_: 0.39756797223035245</br>"
          ],
          [
           "</br>id: 2929</br>prediction: 0.336</br>angle: 66.10837808227716</br></br>h_a: 0.0</br>situation: 1.0</br>shotType: 0.0</br>lastAction: 14.0</br>minute: 41</br>distance: 4.588861943363718</br>_original_yhat_: 0.39756797223035245</br>"
          ],
          [
           "</br>id: 2929</br>prediction: 0.341</br>angle: 66.98586210764968</br></br>h_a: 0.0</br>situation: 1.0</br>shotType: 0.0</br>lastAction: 14.0</br>minute: 41</br>distance: 4.588861943363718</br>_original_yhat_: 0.39756797223035245</br>"
          ],
          [
           "</br>id: 2929</br>prediction: 0.346</br>angle: 67.8633461330222</br></br>h_a: 0.0</br>situation: 1.0</br>shotType: 0.0</br>lastAction: 14.0</br>minute: 41</br>distance: 4.588861943363718</br>_original_yhat_: 0.39756797223035245</br>"
          ],
          [
           "</br>id: 2929</br>prediction: 0.351</br>angle: 68.74083015839473</br></br>h_a: 0.0</br>situation: 1.0</br>shotType: 0.0</br>lastAction: 14.0</br>minute: 41</br>distance: 4.588861943363718</br>_original_yhat_: 0.39756797223035245</br>"
          ],
          [
           "</br>id: 2929</br>prediction: 0.356</br>angle: 69.61831418376725</br></br>h_a: 0.0</br>situation: 1.0</br>shotType: 0.0</br>lastAction: 14.0</br>minute: 41</br>distance: 4.588861943363718</br>_original_yhat_: 0.39756797223035245</br>"
          ],
          [
           "</br>id: 2929</br>prediction: 0.361</br>angle: 70.49579820913979</br></br>h_a: 0.0</br>situation: 1.0</br>shotType: 0.0</br>lastAction: 14.0</br>minute: 41</br>distance: 4.588861943363718</br>_original_yhat_: 0.39756797223035245</br>"
          ],
          [
           "</br>id: 2929</br>prediction: 0.366</br>angle: 71.37328223451232</br></br>h_a: 0.0</br>situation: 1.0</br>shotType: 0.0</br>lastAction: 14.0</br>minute: 41</br>distance: 4.588861943363718</br>_original_yhat_: 0.39756797223035245</br>"
          ],
          [
           "</br>id: 2929</br>prediction: 0.371</br>angle: 72.25076625988484</br></br>h_a: 0.0</br>situation: 1.0</br>shotType: 0.0</br>lastAction: 14.0</br>minute: 41</br>distance: 4.588861943363718</br>_original_yhat_: 0.39756797223035245</br>"
          ],
          [
           "</br>id: 2929</br>prediction: 0.376</br>angle: 73.12825028525737</br></br>h_a: 0.0</br>situation: 1.0</br>shotType: 0.0</br>lastAction: 14.0</br>minute: 41</br>distance: 4.588861943363718</br>_original_yhat_: 0.39756797223035245</br>"
          ],
          [
           "</br>id: 2929</br>prediction: 0.381</br>angle: 74.00573431062989</br></br>h_a: 0.0</br>situation: 1.0</br>shotType: 0.0</br>lastAction: 14.0</br>minute: 41</br>distance: 4.588861943363718</br>_original_yhat_: 0.39756797223035245</br>"
          ],
          [
           "</br>id: 2929</br>prediction: 0.386</br>angle: 74.88321833600241</br></br>h_a: 0.0</br>situation: 1.0</br>shotType: 0.0</br>lastAction: 14.0</br>minute: 41</br>distance: 4.588861943363718</br>_original_yhat_: 0.39756797223035245</br>"
          ],
          [
           "</br>id: 2929</br>prediction: 0.391</br>angle: 75.76070236137494</br></br>h_a: 0.0</br>situation: 1.0</br>shotType: 0.0</br>lastAction: 14.0</br>minute: 41</br>distance: 4.588861943363718</br>_original_yhat_: 0.39756797223035245</br>"
          ],
          [
           "</br>id: 2929</br>prediction: 0.396</br>angle: 76.63818638674748</br></br>h_a: 0.0</br>situation: 1.0</br>shotType: 0.0</br>lastAction: 14.0</br>minute: 41</br>distance: 4.588861943363718</br>_original_yhat_: 0.39756797223035245</br>"
          ],
          [
           "</br>id: 2929</br>prediction: 0.398</br>angle: 76.94750555554026</br></br>h_a: 0.0</br>situation: 1.0</br>shotType: 0.0</br>lastAction: 14.0</br>minute: 41</br>distance: 4.588861943363718</br>_original_yhat_: 0.39756797223035245</br>"
          ],
          [
           "</br>id: 2929</br>prediction: 0.401</br>angle: 77.51567041212</br></br>h_a: 0.0</br>situation: 1.0</br>shotType: 0.0</br>lastAction: 14.0</br>minute: 41</br>distance: 4.588861943363718</br>_original_yhat_: 0.39756797223035245</br>"
          ],
          [
           "</br>id: 2929</br>prediction: 0.406</br>angle: 78.39315443749253</br></br>h_a: 0.0</br>situation: 1.0</br>shotType: 0.0</br>lastAction: 14.0</br>minute: 41</br>distance: 4.588861943363718</br>_original_yhat_: 0.39756797223035245</br>"
          ],
          [
           "</br>id: 2929</br>prediction: 0.411</br>angle: 79.27063846286505</br></br>h_a: 0.0</br>situation: 1.0</br>shotType: 0.0</br>lastAction: 14.0</br>minute: 41</br>distance: 4.588861943363718</br>_original_yhat_: 0.39756797223035245</br>"
          ],
          [
           "</br>id: 2929</br>prediction: 0.416</br>angle: 80.14812248823758</br></br>h_a: 0.0</br>situation: 1.0</br>shotType: 0.0</br>lastAction: 14.0</br>minute: 41</br>distance: 4.588861943363718</br>_original_yhat_: 0.39756797223035245</br>"
          ],
          [
           "</br>id: 2929</br>prediction: 0.422</br>angle: 81.0256065136101</br></br>h_a: 0.0</br>situation: 1.0</br>shotType: 0.0</br>lastAction: 14.0</br>minute: 41</br>distance: 4.588861943363718</br>_original_yhat_: 0.39756797223035245</br>"
          ],
          [
           "</br>id: 2929</br>prediction: 0.427</br>angle: 81.90309053898264</br></br>h_a: 0.0</br>situation: 1.0</br>shotType: 0.0</br>lastAction: 14.0</br>minute: 41</br>distance: 4.588861943363718</br>_original_yhat_: 0.39756797223035245</br>"
          ],
          [
           "</br>id: 2929</br>prediction: 0.432</br>angle: 82.78057456435516</br></br>h_a: 0.0</br>situation: 1.0</br>shotType: 0.0</br>lastAction: 14.0</br>minute: 41</br>distance: 4.588861943363718</br>_original_yhat_: 0.39756797223035245</br>"
          ],
          [
           "</br>id: 2929</br>prediction: 0.437</br>angle: 83.65805858972769</br></br>h_a: 0.0</br>situation: 1.0</br>shotType: 0.0</br>lastAction: 14.0</br>minute: 41</br>distance: 4.588861943363718</br>_original_yhat_: 0.39756797223035245</br>"
          ],
          [
           "</br>id: 2929</br>prediction: 0.442</br>angle: 84.53554261510021</br></br>h_a: 0.0</br>situation: 1.0</br>shotType: 0.0</br>lastAction: 14.0</br>minute: 41</br>distance: 4.588861943363718</br>_original_yhat_: 0.39756797223035245</br>"
          ],
          [
           "</br>id: 2929</br>prediction: 0.448</br>angle: 85.41302664047274</br></br>h_a: 0.0</br>situation: 1.0</br>shotType: 0.0</br>lastAction: 14.0</br>minute: 41</br>distance: 4.588861943363718</br>_original_yhat_: 0.39756797223035245</br>"
          ],
          [
           "</br>id: 2929</br>prediction: 0.453</br>angle: 86.29051066584526</br></br>h_a: 0.0</br>situation: 1.0</br>shotType: 0.0</br>lastAction: 14.0</br>minute: 41</br>distance: 4.588861943363718</br>_original_yhat_: 0.39756797223035245</br>"
          ],
          [
           "</br>id: 2929</br>prediction: 0.458</br>angle: 87.16799469121779</br></br>h_a: 0.0</br>situation: 1.0</br>shotType: 0.0</br>lastAction: 14.0</br>minute: 41</br>distance: 4.588861943363718</br>_original_yhat_: 0.39756797223035245</br>"
          ],
          [
           "</br>id: 2929</br>prediction: 0.464</br>angle: 88.04547871659032</br></br>h_a: 0.0</br>situation: 1.0</br>shotType: 0.0</br>lastAction: 14.0</br>minute: 41</br>distance: 4.588861943363718</br>_original_yhat_: 0.39756797223035245</br>"
          ],
          [
           "</br>id: 2929</br>prediction: 0.469</br>angle: 88.92296274196285</br></br>h_a: 0.0</br>situation: 1.0</br>shotType: 0.0</br>lastAction: 14.0</br>minute: 41</br>distance: 4.588861943363718</br>_original_yhat_: 0.39756797223035245</br>"
          ],
          [
           "</br>id: 2929</br>prediction: 0.474</br>angle: 89.80044676733537</br></br>h_a: 0.0</br>situation: 1.0</br>shotType: 0.0</br>lastAction: 14.0</br>minute: 41</br>distance: 4.588861943363718</br>_original_yhat_: 0.39756797223035245</br>"
          ]
         ],
         "hovertemplate": "%{customdata[0]}<extra></extra>",
         "legendgroup": "LogisticRegression",
         "line": {
          "color": "#8bdcbe",
          "dash": "solid",
          "width": 2
         },
         "marker": {
          "symbol": "circle"
         },
         "mode": "lines",
         "name": "LogisticRegression",
         "opacity": 1,
         "showlegend": false,
         "type": "scattergl",
         "x": [
          2.0520442300827204,
          2.929528255455247,
          3.8070122808277738,
          4.6844963062003,
          5.561980331572826,
          6.439464356945353,
          7.31694838231788,
          8.194432407690407,
          9.071916433062933,
          9.94940045843546,
          10.826884483807987,
          11.704368509180512,
          12.58185253455304,
          13.459336559925564,
          14.336820585298092,
          15.21430461067062,
          16.091788636043145,
          16.969272661415673,
          17.846756686788197,
          18.724240712160725,
          19.601724737533253,
          20.479208762905778,
          21.356692788278306,
          22.234176813650834,
          23.111660839023358,
          23.989144864395886,
          24.86662888976841,
          25.74411291514094,
          26.621596940513466,
          27.49908096588599,
          28.37656499125852,
          29.254049016631043,
          30.13153304200357,
          31.0090170673761,
          31.886501092748624,
          32.76398511812115,
          33.64146914349367,
          34.518953168866204,
          35.39643719423873,
          36.27392121961126,
          37.151405244983785,
          38.02888927035631,
          38.906373295728834,
          39.783857321101365,
          40.66134134647389,
          41.538825371846414,
          42.416309397218946,
          43.29379342259147,
          44.171277447963995,
          45.048761473336526,
          45.92624549870905,
          46.803729524081575,
          47.6812135494541,
          48.55869757482663,
          49.436181600199156,
          50.31366562557168,
          51.19114965094421,
          52.068633676316736,
          52.94611770168926,
          53.82360172706179,
          54.70108575243432,
          55.57856977780684,
          56.456053803179366,
          57.3335378285519,
          58.21102185392442,
          59.088505879296946,
          59.96598990466948,
          60.843473930042,
          61.72095795541453,
          62.59844198078705,
          63.47592600615958,
          64.3534100315321,
          65.23089405690463,
          66.10837808227716,
          66.98586210764968,
          67.8633461330222,
          68.74083015839473,
          69.61831418376725,
          70.49579820913979,
          71.37328223451232,
          72.25076625988484,
          73.12825028525737,
          74.00573431062989,
          74.88321833600241,
          75.76070236137494,
          76.63818638674748,
          76.94750555554026,
          77.51567041212,
          78.39315443749253,
          79.27063846286505,
          80.14812248823758,
          81.0256065136101,
          81.90309053898264,
          82.78057456435516,
          83.65805858972769,
          84.53554261510021,
          85.41302664047274,
          86.29051066584526,
          87.16799469121779,
          88.04547871659032,
          88.92296274196285,
          89.80044676733537
         ],
         "xaxis": "x",
         "y": [
          0.09661811029207486,
          0.09849511278237662,
          0.10040452706746734,
          0.10234675468139703,
          0.10432219590536455,
          0.10633124947190445,
          0.10837431225896275,
          0.1104517789738138,
          0.11256404182678623,
          0.1147114901947819,
          0.11689451027459054,
          0.11911348472602168,
          0.12136879230489409,
          0.12366080748594578,
          0.1259899000757481,
          0.12835643481573117,
          0.13076077097545266,
          0.13320326193626478,
          0.1356842547655638,
          0.13820408978183094,
          0.14076310011070287,
          0.1433616112323388,
          0.14599994052038182,
          0.14867839677284206,
          0.15139727973526226,
          0.15415687961655788,
          0.15695747659795786,
          0.15979934033550666,
          0.16268272945662096,
          0.1656078910512318,
          0.16857506015807738,
          0.1715844592467478,
          0.17463629769611907,
          0.17773077126985043,
          0.1808680615896558,
          0.18404833560709513,
          0.18727174507466873,
          0.1905384260170327,
          0.19384849820318917,
          0.19720206462053988,
          0.20059921095172367,
          0.20404000505519423,
          0.2075244964505229,
          0.2110527158094444,
          0.2146246744536903,
          0.21824036386068335,
          0.2218997551781911,
          0.2256027987490596,
          0.22934942364717115,
          0.23313953722578667,
          0.23697302467945067,
          0.24084974862065087,
          0.24476954867243308,
          0.24873224107818126,
          0.25273761832977604,
          0.2567854488153461,
          0.26087547648782217,
          0.26500742055550053,
          0.2691809751958078,
          0.27339580929344753,
          0.2776515662040896,
          0.28194786354473944,
          0.28628429301189917,
          0.2906604202285981,
          0.29507578462133666,
          0.2995298993279477,
          0.30402225113732967,
          0.30855230046196325,
          0.3131194813440654,
          0.3177232014961746,
          0.3223628423769051,
          0.3270377593025349,
          0.33174728159502376,
          0.3364907127669856,
          0.34126733074405413,
          0.3460763881250086,
          0.35091711247993074,
          0.3557887066865829,
          0.3606903493051042,
          0.36562119499102447,
          0.3705803749465062,
          0.37556699740962,
          0.3805801481813631,
          0.3856188911900317,
          0.39068226909245074,
          0.3957693039114689,
          0.39756797223035245,
          0.4008789977090199,
          0.406010333293955,
          0.4111622749637429,
          0.4163337692790455,
          0.4215237458700665,
          0.42673111827348864,
          0.43195478479870925,
          0.4371936294220032,
          0.442446522707154,
          0.4477123227510036,
          0.45298987615230457,
          0.4582780190021776,
          0.46357557789440396,
          0.4688813709537309,
          0.4741942088802972
         ],
         "yaxis": "y"
        },
        {
         "customdata": [
          [
           "</br>id: 2929</br>prediction: 0.02</br>h_a: 0.0</br></br>situation: 1.0</br>shotType: 0.0</br>lastAction: 14.0</br>minute: 41</br>distance: 4.588861943363718</br>angle: 76.94750555554026</br>_original_yhat_: 0.02</br>"
          ],
          [
           "</br>id: 2929</br>prediction: 0.02</br>h_a: 0.01</br></br>situation: 1.0</br>shotType: 0.0</br>lastAction: 14.0</br>minute: 41</br>distance: 4.588861943363718</br>angle: 76.94750555554026</br>_original_yhat_: 0.02</br>"
          ],
          [
           "</br>id: 2929</br>prediction: 0.02</br>h_a: 0.02</br></br>situation: 1.0</br>shotType: 0.0</br>lastAction: 14.0</br>minute: 41</br>distance: 4.588861943363718</br>angle: 76.94750555554026</br>_original_yhat_: 0.02</br>"
          ],
          [
           "</br>id: 2929</br>prediction: 0.02</br>h_a: 0.03</br></br>situation: 1.0</br>shotType: 0.0</br>lastAction: 14.0</br>minute: 41</br>distance: 4.588861943363718</br>angle: 76.94750555554026</br>_original_yhat_: 0.02</br>"
          ],
          [
           "</br>id: 2929</br>prediction: 0.02</br>h_a: 0.04</br></br>situation: 1.0</br>shotType: 0.0</br>lastAction: 14.0</br>minute: 41</br>distance: 4.588861943363718</br>angle: 76.94750555554026</br>_original_yhat_: 0.02</br>"
          ],
          [
           "</br>id: 2929</br>prediction: 0.02</br>h_a: 0.05</br></br>situation: 1.0</br>shotType: 0.0</br>lastAction: 14.0</br>minute: 41</br>distance: 4.588861943363718</br>angle: 76.94750555554026</br>_original_yhat_: 0.02</br>"
          ],
          [
           "</br>id: 2929</br>prediction: 0.02</br>h_a: 0.06</br></br>situation: 1.0</br>shotType: 0.0</br>lastAction: 14.0</br>minute: 41</br>distance: 4.588861943363718</br>angle: 76.94750555554026</br>_original_yhat_: 0.02</br>"
          ],
          [
           "</br>id: 2929</br>prediction: 0.02</br>h_a: 0.07</br></br>situation: 1.0</br>shotType: 0.0</br>lastAction: 14.0</br>minute: 41</br>distance: 4.588861943363718</br>angle: 76.94750555554026</br>_original_yhat_: 0.02</br>"
          ],
          [
           "</br>id: 2929</br>prediction: 0.02</br>h_a: 0.08</br></br>situation: 1.0</br>shotType: 0.0</br>lastAction: 14.0</br>minute: 41</br>distance: 4.588861943363718</br>angle: 76.94750555554026</br>_original_yhat_: 0.02</br>"
          ],
          [
           "</br>id: 2929</br>prediction: 0.02</br>h_a: 0.09</br></br>situation: 1.0</br>shotType: 0.0</br>lastAction: 14.0</br>minute: 41</br>distance: 4.588861943363718</br>angle: 76.94750555554026</br>_original_yhat_: 0.02</br>"
          ],
          [
           "</br>id: 2929</br>prediction: 0.02</br>h_a: 0.1</br></br>situation: 1.0</br>shotType: 0.0</br>lastAction: 14.0</br>minute: 41</br>distance: 4.588861943363718</br>angle: 76.94750555554026</br>_original_yhat_: 0.02</br>"
          ],
          [
           "</br>id: 2929</br>prediction: 0.02</br>h_a: 0.11</br></br>situation: 1.0</br>shotType: 0.0</br>lastAction: 14.0</br>minute: 41</br>distance: 4.588861943363718</br>angle: 76.94750555554026</br>_original_yhat_: 0.02</br>"
          ],
          [
           "</br>id: 2929</br>prediction: 0.02</br>h_a: 0.12</br></br>situation: 1.0</br>shotType: 0.0</br>lastAction: 14.0</br>minute: 41</br>distance: 4.588861943363718</br>angle: 76.94750555554026</br>_original_yhat_: 0.02</br>"
          ],
          [
           "</br>id: 2929</br>prediction: 0.02</br>h_a: 0.13</br></br>situation: 1.0</br>shotType: 0.0</br>lastAction: 14.0</br>minute: 41</br>distance: 4.588861943363718</br>angle: 76.94750555554026</br>_original_yhat_: 0.02</br>"
          ],
          [
           "</br>id: 2929</br>prediction: 0.02</br>h_a: 0.14</br></br>situation: 1.0</br>shotType: 0.0</br>lastAction: 14.0</br>minute: 41</br>distance: 4.588861943363718</br>angle: 76.94750555554026</br>_original_yhat_: 0.02</br>"
          ],
          [
           "</br>id: 2929</br>prediction: 0.02</br>h_a: 0.15</br></br>situation: 1.0</br>shotType: 0.0</br>lastAction: 14.0</br>minute: 41</br>distance: 4.588861943363718</br>angle: 76.94750555554026</br>_original_yhat_: 0.02</br>"
          ],
          [
           "</br>id: 2929</br>prediction: 0.02</br>h_a: 0.16</br></br>situation: 1.0</br>shotType: 0.0</br>lastAction: 14.0</br>minute: 41</br>distance: 4.588861943363718</br>angle: 76.94750555554026</br>_original_yhat_: 0.02</br>"
          ],
          [
           "</br>id: 2929</br>prediction: 0.02</br>h_a: 0.17</br></br>situation: 1.0</br>shotType: 0.0</br>lastAction: 14.0</br>minute: 41</br>distance: 4.588861943363718</br>angle: 76.94750555554026</br>_original_yhat_: 0.02</br>"
          ],
          [
           "</br>id: 2929</br>prediction: 0.02</br>h_a: 0.18</br></br>situation: 1.0</br>shotType: 0.0</br>lastAction: 14.0</br>minute: 41</br>distance: 4.588861943363718</br>angle: 76.94750555554026</br>_original_yhat_: 0.02</br>"
          ],
          [
           "</br>id: 2929</br>prediction: 0.02</br>h_a: 0.19</br></br>situation: 1.0</br>shotType: 0.0</br>lastAction: 14.0</br>minute: 41</br>distance: 4.588861943363718</br>angle: 76.94750555554026</br>_original_yhat_: 0.02</br>"
          ],
          [
           "</br>id: 2929</br>prediction: 0.02</br>h_a: 0.2</br></br>situation: 1.0</br>shotType: 0.0</br>lastAction: 14.0</br>minute: 41</br>distance: 4.588861943363718</br>angle: 76.94750555554026</br>_original_yhat_: 0.02</br>"
          ],
          [
           "</br>id: 2929</br>prediction: 0.02</br>h_a: 0.21</br></br>situation: 1.0</br>shotType: 0.0</br>lastAction: 14.0</br>minute: 41</br>distance: 4.588861943363718</br>angle: 76.94750555554026</br>_original_yhat_: 0.02</br>"
          ],
          [
           "</br>id: 2929</br>prediction: 0.02</br>h_a: 0.22</br></br>situation: 1.0</br>shotType: 0.0</br>lastAction: 14.0</br>minute: 41</br>distance: 4.588861943363718</br>angle: 76.94750555554026</br>_original_yhat_: 0.02</br>"
          ],
          [
           "</br>id: 2929</br>prediction: 0.02</br>h_a: 0.23</br></br>situation: 1.0</br>shotType: 0.0</br>lastAction: 14.0</br>minute: 41</br>distance: 4.588861943363718</br>angle: 76.94750555554026</br>_original_yhat_: 0.02</br>"
          ],
          [
           "</br>id: 2929</br>prediction: 0.02</br>h_a: 0.24</br></br>situation: 1.0</br>shotType: 0.0</br>lastAction: 14.0</br>minute: 41</br>distance: 4.588861943363718</br>angle: 76.94750555554026</br>_original_yhat_: 0.02</br>"
          ],
          [
           "</br>id: 2929</br>prediction: 0.02</br>h_a: 0.25</br></br>situation: 1.0</br>shotType: 0.0</br>lastAction: 14.0</br>minute: 41</br>distance: 4.588861943363718</br>angle: 76.94750555554026</br>_original_yhat_: 0.02</br>"
          ],
          [
           "</br>id: 2929</br>prediction: 0.02</br>h_a: 0.26</br></br>situation: 1.0</br>shotType: 0.0</br>lastAction: 14.0</br>minute: 41</br>distance: 4.588861943363718</br>angle: 76.94750555554026</br>_original_yhat_: 0.02</br>"
          ],
          [
           "</br>id: 2929</br>prediction: 0.02</br>h_a: 0.27</br></br>situation: 1.0</br>shotType: 0.0</br>lastAction: 14.0</br>minute: 41</br>distance: 4.588861943363718</br>angle: 76.94750555554026</br>_original_yhat_: 0.02</br>"
          ],
          [
           "</br>id: 2929</br>prediction: 0.02</br>h_a: 0.28</br></br>situation: 1.0</br>shotType: 0.0</br>lastAction: 14.0</br>minute: 41</br>distance: 4.588861943363718</br>angle: 76.94750555554026</br>_original_yhat_: 0.02</br>"
          ],
          [
           "</br>id: 2929</br>prediction: 0.02</br>h_a: 0.29</br></br>situation: 1.0</br>shotType: 0.0</br>lastAction: 14.0</br>minute: 41</br>distance: 4.588861943363718</br>angle: 76.94750555554026</br>_original_yhat_: 0.02</br>"
          ],
          [
           "</br>id: 2929</br>prediction: 0.02</br>h_a: 0.3</br></br>situation: 1.0</br>shotType: 0.0</br>lastAction: 14.0</br>minute: 41</br>distance: 4.588861943363718</br>angle: 76.94750555554026</br>_original_yhat_: 0.02</br>"
          ],
          [
           "</br>id: 2929</br>prediction: 0.02</br>h_a: 0.31</br></br>situation: 1.0</br>shotType: 0.0</br>lastAction: 14.0</br>minute: 41</br>distance: 4.588861943363718</br>angle: 76.94750555554026</br>_original_yhat_: 0.02</br>"
          ],
          [
           "</br>id: 2929</br>prediction: 0.02</br>h_a: 0.32</br></br>situation: 1.0</br>shotType: 0.0</br>lastAction: 14.0</br>minute: 41</br>distance: 4.588861943363718</br>angle: 76.94750555554026</br>_original_yhat_: 0.02</br>"
          ],
          [
           "</br>id: 2929</br>prediction: 0.02</br>h_a: 0.33</br></br>situation: 1.0</br>shotType: 0.0</br>lastAction: 14.0</br>minute: 41</br>distance: 4.588861943363718</br>angle: 76.94750555554026</br>_original_yhat_: 0.02</br>"
          ],
          [
           "</br>id: 2929</br>prediction: 0.02</br>h_a: 0.34</br></br>situation: 1.0</br>shotType: 0.0</br>lastAction: 14.0</br>minute: 41</br>distance: 4.588861943363718</br>angle: 76.94750555554026</br>_original_yhat_: 0.02</br>"
          ],
          [
           "</br>id: 2929</br>prediction: 0.02</br>h_a: 0.35000000000000003</br></br>situation: 1.0</br>shotType: 0.0</br>lastAction: 14.0</br>minute: 41</br>distance: 4.588861943363718</br>angle: 76.94750555554026</br>_original_yhat_: 0.02</br>"
          ],
          [
           "</br>id: 2929</br>prediction: 0.02</br>h_a: 0.36</br></br>situation: 1.0</br>shotType: 0.0</br>lastAction: 14.0</br>minute: 41</br>distance: 4.588861943363718</br>angle: 76.94750555554026</br>_original_yhat_: 0.02</br>"
          ],
          [
           "</br>id: 2929</br>prediction: 0.02</br>h_a: 0.37</br></br>situation: 1.0</br>shotType: 0.0</br>lastAction: 14.0</br>minute: 41</br>distance: 4.588861943363718</br>angle: 76.94750555554026</br>_original_yhat_: 0.02</br>"
          ],
          [
           "</br>id: 2929</br>prediction: 0.02</br>h_a: 0.38</br></br>situation: 1.0</br>shotType: 0.0</br>lastAction: 14.0</br>minute: 41</br>distance: 4.588861943363718</br>angle: 76.94750555554026</br>_original_yhat_: 0.02</br>"
          ],
          [
           "</br>id: 2929</br>prediction: 0.02</br>h_a: 0.39</br></br>situation: 1.0</br>shotType: 0.0</br>lastAction: 14.0</br>minute: 41</br>distance: 4.588861943363718</br>angle: 76.94750555554026</br>_original_yhat_: 0.02</br>"
          ],
          [
           "</br>id: 2929</br>prediction: 0.02</br>h_a: 0.4</br></br>situation: 1.0</br>shotType: 0.0</br>lastAction: 14.0</br>minute: 41</br>distance: 4.588861943363718</br>angle: 76.94750555554026</br>_original_yhat_: 0.02</br>"
          ],
          [
           "</br>id: 2929</br>prediction: 0.02</br>h_a: 0.41000000000000003</br></br>situation: 1.0</br>shotType: 0.0</br>lastAction: 14.0</br>minute: 41</br>distance: 4.588861943363718</br>angle: 76.94750555554026</br>_original_yhat_: 0.02</br>"
          ],
          [
           "</br>id: 2929</br>prediction: 0.02</br>h_a: 0.42</br></br>situation: 1.0</br>shotType: 0.0</br>lastAction: 14.0</br>minute: 41</br>distance: 4.588861943363718</br>angle: 76.94750555554026</br>_original_yhat_: 0.02</br>"
          ],
          [
           "</br>id: 2929</br>prediction: 0.02</br>h_a: 0.43</br></br>situation: 1.0</br>shotType: 0.0</br>lastAction: 14.0</br>minute: 41</br>distance: 4.588861943363718</br>angle: 76.94750555554026</br>_original_yhat_: 0.02</br>"
          ],
          [
           "</br>id: 2929</br>prediction: 0.02</br>h_a: 0.44</br></br>situation: 1.0</br>shotType: 0.0</br>lastAction: 14.0</br>minute: 41</br>distance: 4.588861943363718</br>angle: 76.94750555554026</br>_original_yhat_: 0.02</br>"
          ],
          [
           "</br>id: 2929</br>prediction: 0.02</br>h_a: 0.45</br></br>situation: 1.0</br>shotType: 0.0</br>lastAction: 14.0</br>minute: 41</br>distance: 4.588861943363718</br>angle: 76.94750555554026</br>_original_yhat_: 0.02</br>"
          ],
          [
           "</br>id: 2929</br>prediction: 0.02</br>h_a: 0.46</br></br>situation: 1.0</br>shotType: 0.0</br>lastAction: 14.0</br>minute: 41</br>distance: 4.588861943363718</br>angle: 76.94750555554026</br>_original_yhat_: 0.02</br>"
          ],
          [
           "</br>id: 2929</br>prediction: 0.02</br>h_a: 0.47000000000000003</br></br>situation: 1.0</br>shotType: 0.0</br>lastAction: 14.0</br>minute: 41</br>distance: 4.588861943363718</br>angle: 76.94750555554026</br>_original_yhat_: 0.02</br>"
          ],
          [
           "</br>id: 2929</br>prediction: 0.02</br>h_a: 0.48</br></br>situation: 1.0</br>shotType: 0.0</br>lastAction: 14.0</br>minute: 41</br>distance: 4.588861943363718</br>angle: 76.94750555554026</br>_original_yhat_: 0.02</br>"
          ],
          [
           "</br>id: 2929</br>prediction: 0.02</br>h_a: 0.49</br></br>situation: 1.0</br>shotType: 0.0</br>lastAction: 14.0</br>minute: 41</br>distance: 4.588861943363718</br>angle: 76.94750555554026</br>_original_yhat_: 0.02</br>"
          ],
          [
           "</br>id: 2929</br>prediction: 0.02</br>h_a: 0.5</br></br>situation: 1.0</br>shotType: 0.0</br>lastAction: 14.0</br>minute: 41</br>distance: 4.588861943363718</br>angle: 76.94750555554026</br>_original_yhat_: 0.02</br>"
          ],
          [
           "</br>id: 2929</br>prediction: 0.08</br>h_a: 0.51</br></br>situation: 1.0</br>shotType: 0.0</br>lastAction: 14.0</br>minute: 41</br>distance: 4.588861943363718</br>angle: 76.94750555554026</br>_original_yhat_: 0.02</br>"
          ],
          [
           "</br>id: 2929</br>prediction: 0.08</br>h_a: 0.52</br></br>situation: 1.0</br>shotType: 0.0</br>lastAction: 14.0</br>minute: 41</br>distance: 4.588861943363718</br>angle: 76.94750555554026</br>_original_yhat_: 0.02</br>"
          ],
          [
           "</br>id: 2929</br>prediction: 0.08</br>h_a: 0.53</br></br>situation: 1.0</br>shotType: 0.0</br>lastAction: 14.0</br>minute: 41</br>distance: 4.588861943363718</br>angle: 76.94750555554026</br>_original_yhat_: 0.02</br>"
          ],
          [
           "</br>id: 2929</br>prediction: 0.08</br>h_a: 0.54</br></br>situation: 1.0</br>shotType: 0.0</br>lastAction: 14.0</br>minute: 41</br>distance: 4.588861943363718</br>angle: 76.94750555554026</br>_original_yhat_: 0.02</br>"
          ],
          [
           "</br>id: 2929</br>prediction: 0.08</br>h_a: 0.55</br></br>situation: 1.0</br>shotType: 0.0</br>lastAction: 14.0</br>minute: 41</br>distance: 4.588861943363718</br>angle: 76.94750555554026</br>_original_yhat_: 0.02</br>"
          ],
          [
           "</br>id: 2929</br>prediction: 0.08</br>h_a: 0.56</br></br>situation: 1.0</br>shotType: 0.0</br>lastAction: 14.0</br>minute: 41</br>distance: 4.588861943363718</br>angle: 76.94750555554026</br>_original_yhat_: 0.02</br>"
          ],
          [
           "</br>id: 2929</br>prediction: 0.08</br>h_a: 0.5700000000000001</br></br>situation: 1.0</br>shotType: 0.0</br>lastAction: 14.0</br>minute: 41</br>distance: 4.588861943363718</br>angle: 76.94750555554026</br>_original_yhat_: 0.02</br>"
          ],
          [
           "</br>id: 2929</br>prediction: 0.08</br>h_a: 0.58</br></br>situation: 1.0</br>shotType: 0.0</br>lastAction: 14.0</br>minute: 41</br>distance: 4.588861943363718</br>angle: 76.94750555554026</br>_original_yhat_: 0.02</br>"
          ],
          [
           "</br>id: 2929</br>prediction: 0.08</br>h_a: 0.59</br></br>situation: 1.0</br>shotType: 0.0</br>lastAction: 14.0</br>minute: 41</br>distance: 4.588861943363718</br>angle: 76.94750555554026</br>_original_yhat_: 0.02</br>"
          ],
          [
           "</br>id: 2929</br>prediction: 0.08</br>h_a: 0.6</br></br>situation: 1.0</br>shotType: 0.0</br>lastAction: 14.0</br>minute: 41</br>distance: 4.588861943363718</br>angle: 76.94750555554026</br>_original_yhat_: 0.02</br>"
          ],
          [
           "</br>id: 2929</br>prediction: 0.08</br>h_a: 0.61</br></br>situation: 1.0</br>shotType: 0.0</br>lastAction: 14.0</br>minute: 41</br>distance: 4.588861943363718</br>angle: 76.94750555554026</br>_original_yhat_: 0.02</br>"
          ],
          [
           "</br>id: 2929</br>prediction: 0.08</br>h_a: 0.62</br></br>situation: 1.0</br>shotType: 0.0</br>lastAction: 14.0</br>minute: 41</br>distance: 4.588861943363718</br>angle: 76.94750555554026</br>_original_yhat_: 0.02</br>"
          ],
          [
           "</br>id: 2929</br>prediction: 0.08</br>h_a: 0.63</br></br>situation: 1.0</br>shotType: 0.0</br>lastAction: 14.0</br>minute: 41</br>distance: 4.588861943363718</br>angle: 76.94750555554026</br>_original_yhat_: 0.02</br>"
          ],
          [
           "</br>id: 2929</br>prediction: 0.08</br>h_a: 0.64</br></br>situation: 1.0</br>shotType: 0.0</br>lastAction: 14.0</br>minute: 41</br>distance: 4.588861943363718</br>angle: 76.94750555554026</br>_original_yhat_: 0.02</br>"
          ],
          [
           "</br>id: 2929</br>prediction: 0.08</br>h_a: 0.65</br></br>situation: 1.0</br>shotType: 0.0</br>lastAction: 14.0</br>minute: 41</br>distance: 4.588861943363718</br>angle: 76.94750555554026</br>_original_yhat_: 0.02</br>"
          ],
          [
           "</br>id: 2929</br>prediction: 0.08</br>h_a: 0.66</br></br>situation: 1.0</br>shotType: 0.0</br>lastAction: 14.0</br>minute: 41</br>distance: 4.588861943363718</br>angle: 76.94750555554026</br>_original_yhat_: 0.02</br>"
          ],
          [
           "</br>id: 2929</br>prediction: 0.08</br>h_a: 0.67</br></br>situation: 1.0</br>shotType: 0.0</br>lastAction: 14.0</br>minute: 41</br>distance: 4.588861943363718</br>angle: 76.94750555554026</br>_original_yhat_: 0.02</br>"
          ],
          [
           "</br>id: 2929</br>prediction: 0.08</br>h_a: 0.68</br></br>situation: 1.0</br>shotType: 0.0</br>lastAction: 14.0</br>minute: 41</br>distance: 4.588861943363718</br>angle: 76.94750555554026</br>_original_yhat_: 0.02</br>"
          ],
          [
           "</br>id: 2929</br>prediction: 0.08</br>h_a: 0.6900000000000001</br></br>situation: 1.0</br>shotType: 0.0</br>lastAction: 14.0</br>minute: 41</br>distance: 4.588861943363718</br>angle: 76.94750555554026</br>_original_yhat_: 0.02</br>"
          ],
          [
           "</br>id: 2929</br>prediction: 0.08</br>h_a: 0.7000000000000001</br></br>situation: 1.0</br>shotType: 0.0</br>lastAction: 14.0</br>minute: 41</br>distance: 4.588861943363718</br>angle: 76.94750555554026</br>_original_yhat_: 0.02</br>"
          ],
          [
           "</br>id: 2929</br>prediction: 0.08</br>h_a: 0.71</br></br>situation: 1.0</br>shotType: 0.0</br>lastAction: 14.0</br>minute: 41</br>distance: 4.588861943363718</br>angle: 76.94750555554026</br>_original_yhat_: 0.02</br>"
          ],
          [
           "</br>id: 2929</br>prediction: 0.08</br>h_a: 0.72</br></br>situation: 1.0</br>shotType: 0.0</br>lastAction: 14.0</br>minute: 41</br>distance: 4.588861943363718</br>angle: 76.94750555554026</br>_original_yhat_: 0.02</br>"
          ],
          [
           "</br>id: 2929</br>prediction: 0.08</br>h_a: 0.73</br></br>situation: 1.0</br>shotType: 0.0</br>lastAction: 14.0</br>minute: 41</br>distance: 4.588861943363718</br>angle: 76.94750555554026</br>_original_yhat_: 0.02</br>"
          ],
          [
           "</br>id: 2929</br>prediction: 0.08</br>h_a: 0.74</br></br>situation: 1.0</br>shotType: 0.0</br>lastAction: 14.0</br>minute: 41</br>distance: 4.588861943363718</br>angle: 76.94750555554026</br>_original_yhat_: 0.02</br>"
          ],
          [
           "</br>id: 2929</br>prediction: 0.08</br>h_a: 0.75</br></br>situation: 1.0</br>shotType: 0.0</br>lastAction: 14.0</br>minute: 41</br>distance: 4.588861943363718</br>angle: 76.94750555554026</br>_original_yhat_: 0.02</br>"
          ],
          [
           "</br>id: 2929</br>prediction: 0.08</br>h_a: 0.76</br></br>situation: 1.0</br>shotType: 0.0</br>lastAction: 14.0</br>minute: 41</br>distance: 4.588861943363718</br>angle: 76.94750555554026</br>_original_yhat_: 0.02</br>"
          ],
          [
           "</br>id: 2929</br>prediction: 0.08</br>h_a: 0.77</br></br>situation: 1.0</br>shotType: 0.0</br>lastAction: 14.0</br>minute: 41</br>distance: 4.588861943363718</br>angle: 76.94750555554026</br>_original_yhat_: 0.02</br>"
          ],
          [
           "</br>id: 2929</br>prediction: 0.08</br>h_a: 0.78</br></br>situation: 1.0</br>shotType: 0.0</br>lastAction: 14.0</br>minute: 41</br>distance: 4.588861943363718</br>angle: 76.94750555554026</br>_original_yhat_: 0.02</br>"
          ],
          [
           "</br>id: 2929</br>prediction: 0.08</br>h_a: 0.79</br></br>situation: 1.0</br>shotType: 0.0</br>lastAction: 14.0</br>minute: 41</br>distance: 4.588861943363718</br>angle: 76.94750555554026</br>_original_yhat_: 0.02</br>"
          ],
          [
           "</br>id: 2929</br>prediction: 0.08</br>h_a: 0.8</br></br>situation: 1.0</br>shotType: 0.0</br>lastAction: 14.0</br>minute: 41</br>distance: 4.588861943363718</br>angle: 76.94750555554026</br>_original_yhat_: 0.02</br>"
          ],
          [
           "</br>id: 2929</br>prediction: 0.08</br>h_a: 0.81</br></br>situation: 1.0</br>shotType: 0.0</br>lastAction: 14.0</br>minute: 41</br>distance: 4.588861943363718</br>angle: 76.94750555554026</br>_original_yhat_: 0.02</br>"
          ],
          [
           "</br>id: 2929</br>prediction: 0.08</br>h_a: 0.8200000000000001</br></br>situation: 1.0</br>shotType: 0.0</br>lastAction: 14.0</br>minute: 41</br>distance: 4.588861943363718</br>angle: 76.94750555554026</br>_original_yhat_: 0.02</br>"
          ],
          [
           "</br>id: 2929</br>prediction: 0.08</br>h_a: 0.8300000000000001</br></br>situation: 1.0</br>shotType: 0.0</br>lastAction: 14.0</br>minute: 41</br>distance: 4.588861943363718</br>angle: 76.94750555554026</br>_original_yhat_: 0.02</br>"
          ],
          [
           "</br>id: 2929</br>prediction: 0.08</br>h_a: 0.84</br></br>situation: 1.0</br>shotType: 0.0</br>lastAction: 14.0</br>minute: 41</br>distance: 4.588861943363718</br>angle: 76.94750555554026</br>_original_yhat_: 0.02</br>"
          ],
          [
           "</br>id: 2929</br>prediction: 0.08</br>h_a: 0.85</br></br>situation: 1.0</br>shotType: 0.0</br>lastAction: 14.0</br>minute: 41</br>distance: 4.588861943363718</br>angle: 76.94750555554026</br>_original_yhat_: 0.02</br>"
          ],
          [
           "</br>id: 2929</br>prediction: 0.08</br>h_a: 0.86</br></br>situation: 1.0</br>shotType: 0.0</br>lastAction: 14.0</br>minute: 41</br>distance: 4.588861943363718</br>angle: 76.94750555554026</br>_original_yhat_: 0.02</br>"
          ],
          [
           "</br>id: 2929</br>prediction: 0.08</br>h_a: 0.87</br></br>situation: 1.0</br>shotType: 0.0</br>lastAction: 14.0</br>minute: 41</br>distance: 4.588861943363718</br>angle: 76.94750555554026</br>_original_yhat_: 0.02</br>"
          ],
          [
           "</br>id: 2929</br>prediction: 0.08</br>h_a: 0.88</br></br>situation: 1.0</br>shotType: 0.0</br>lastAction: 14.0</br>minute: 41</br>distance: 4.588861943363718</br>angle: 76.94750555554026</br>_original_yhat_: 0.02</br>"
          ],
          [
           "</br>id: 2929</br>prediction: 0.08</br>h_a: 0.89</br></br>situation: 1.0</br>shotType: 0.0</br>lastAction: 14.0</br>minute: 41</br>distance: 4.588861943363718</br>angle: 76.94750555554026</br>_original_yhat_: 0.02</br>"
          ],
          [
           "</br>id: 2929</br>prediction: 0.08</br>h_a: 0.9</br></br>situation: 1.0</br>shotType: 0.0</br>lastAction: 14.0</br>minute: 41</br>distance: 4.588861943363718</br>angle: 76.94750555554026</br>_original_yhat_: 0.02</br>"
          ],
          [
           "</br>id: 2929</br>prediction: 0.08</br>h_a: 0.91</br></br>situation: 1.0</br>shotType: 0.0</br>lastAction: 14.0</br>minute: 41</br>distance: 4.588861943363718</br>angle: 76.94750555554026</br>_original_yhat_: 0.02</br>"
          ],
          [
           "</br>id: 2929</br>prediction: 0.08</br>h_a: 0.92</br></br>situation: 1.0</br>shotType: 0.0</br>lastAction: 14.0</br>minute: 41</br>distance: 4.588861943363718</br>angle: 76.94750555554026</br>_original_yhat_: 0.02</br>"
          ],
          [
           "</br>id: 2929</br>prediction: 0.08</br>h_a: 0.93</br></br>situation: 1.0</br>shotType: 0.0</br>lastAction: 14.0</br>minute: 41</br>distance: 4.588861943363718</br>angle: 76.94750555554026</br>_original_yhat_: 0.02</br>"
          ],
          [
           "</br>id: 2929</br>prediction: 0.08</br>h_a: 0.9400000000000001</br></br>situation: 1.0</br>shotType: 0.0</br>lastAction: 14.0</br>minute: 41</br>distance: 4.588861943363718</br>angle: 76.94750555554026</br>_original_yhat_: 0.02</br>"
          ],
          [
           "</br>id: 2929</br>prediction: 0.08</br>h_a: 0.9500000000000001</br></br>situation: 1.0</br>shotType: 0.0</br>lastAction: 14.0</br>minute: 41</br>distance: 4.588861943363718</br>angle: 76.94750555554026</br>_original_yhat_: 0.02</br>"
          ],
          [
           "</br>id: 2929</br>prediction: 0.08</br>h_a: 0.96</br></br>situation: 1.0</br>shotType: 0.0</br>lastAction: 14.0</br>minute: 41</br>distance: 4.588861943363718</br>angle: 76.94750555554026</br>_original_yhat_: 0.02</br>"
          ],
          [
           "</br>id: 2929</br>prediction: 0.08</br>h_a: 0.97</br></br>situation: 1.0</br>shotType: 0.0</br>lastAction: 14.0</br>minute: 41</br>distance: 4.588861943363718</br>angle: 76.94750555554026</br>_original_yhat_: 0.02</br>"
          ],
          [
           "</br>id: 2929</br>prediction: 0.08</br>h_a: 0.98</br></br>situation: 1.0</br>shotType: 0.0</br>lastAction: 14.0</br>minute: 41</br>distance: 4.588861943363718</br>angle: 76.94750555554026</br>_original_yhat_: 0.02</br>"
          ],
          [
           "</br>id: 2929</br>prediction: 0.08</br>h_a: 0.99</br></br>situation: 1.0</br>shotType: 0.0</br>lastAction: 14.0</br>minute: 41</br>distance: 4.588861943363718</br>angle: 76.94750555554026</br>_original_yhat_: 0.02</br>"
          ],
          [
           "</br>id: 2929</br>prediction: 0.08</br>h_a: 1.0</br></br>situation: 1.0</br>shotType: 0.0</br>lastAction: 14.0</br>minute: 41</br>distance: 4.588861943363718</br>angle: 76.94750555554026</br>_original_yhat_: 0.02</br>"
          ]
         ],
         "hovertemplate": "%{customdata[0]}<extra></extra>",
         "legendgroup": "RandomForestClassifier",
         "line": {
          "color": "#f05a71",
          "dash": "solid",
          "width": 2
         },
         "marker": {
          "symbol": "circle"
         },
         "mode": "lines",
         "name": "RandomForestClassifier",
         "opacity": 1,
         "showlegend": true,
         "type": "scattergl",
         "x": [
          0,
          0.01,
          0.02,
          0.03,
          0.04,
          0.05,
          0.06,
          0.07,
          0.08,
          0.09,
          0.1,
          0.11,
          0.12,
          0.13,
          0.14,
          0.15,
          0.16,
          0.17,
          0.18,
          0.19,
          0.2,
          0.21,
          0.22,
          0.23,
          0.24,
          0.25,
          0.26,
          0.27,
          0.28,
          0.29,
          0.3,
          0.31,
          0.32,
          0.33,
          0.34,
          0.35000000000000003,
          0.36,
          0.37,
          0.38,
          0.39,
          0.4,
          0.41000000000000003,
          0.42,
          0.43,
          0.44,
          0.45,
          0.46,
          0.47000000000000003,
          0.48,
          0.49,
          0.5,
          0.51,
          0.52,
          0.53,
          0.54,
          0.55,
          0.56,
          0.5700000000000001,
          0.58,
          0.59,
          0.6,
          0.61,
          0.62,
          0.63,
          0.64,
          0.65,
          0.66,
          0.67,
          0.68,
          0.6900000000000001,
          0.7000000000000001,
          0.71,
          0.72,
          0.73,
          0.74,
          0.75,
          0.76,
          0.77,
          0.78,
          0.79,
          0.8,
          0.81,
          0.8200000000000001,
          0.8300000000000001,
          0.84,
          0.85,
          0.86,
          0.87,
          0.88,
          0.89,
          0.9,
          0.91,
          0.92,
          0.93,
          0.9400000000000001,
          0.9500000000000001,
          0.96,
          0.97,
          0.98,
          0.99,
          1
         ],
         "xaxis": "x7",
         "y": [
          0.02,
          0.02,
          0.02,
          0.02,
          0.02,
          0.02,
          0.02,
          0.02,
          0.02,
          0.02,
          0.02,
          0.02,
          0.02,
          0.02,
          0.02,
          0.02,
          0.02,
          0.02,
          0.02,
          0.02,
          0.02,
          0.02,
          0.02,
          0.02,
          0.02,
          0.02,
          0.02,
          0.02,
          0.02,
          0.02,
          0.02,
          0.02,
          0.02,
          0.02,
          0.02,
          0.02,
          0.02,
          0.02,
          0.02,
          0.02,
          0.02,
          0.02,
          0.02,
          0.02,
          0.02,
          0.02,
          0.02,
          0.02,
          0.02,
          0.02,
          0.02,
          0.08,
          0.08,
          0.08,
          0.08,
          0.08,
          0.08,
          0.08,
          0.08,
          0.08,
          0.08,
          0.08,
          0.08,
          0.08,
          0.08,
          0.08,
          0.08,
          0.08,
          0.08,
          0.08,
          0.08,
          0.08,
          0.08,
          0.08,
          0.08,
          0.08,
          0.08,
          0.08,
          0.08,
          0.08,
          0.08,
          0.08,
          0.08,
          0.08,
          0.08,
          0.08,
          0.08,
          0.08,
          0.08,
          0.08,
          0.08,
          0.08,
          0.08,
          0.08,
          0.08,
          0.08,
          0.08,
          0.08,
          0.08,
          0.08,
          0.08
         ],
         "yaxis": "y7"
        },
        {
         "customdata": [
          [
           "</br>id: 2929</br>prediction: 0.02</br>situation: 0.0</br></br>h_a: 0.0</br>shotType: 0.0</br>lastAction: 14.0</br>minute: 41</br>distance: 4.588861943363718</br>angle: 76.94750555554026</br>_original_yhat_: 0.02</br>"
          ],
          [
           "</br>id: 2929</br>prediction: 0.02</br>situation: 0.04</br></br>h_a: 0.0</br>shotType: 0.0</br>lastAction: 14.0</br>minute: 41</br>distance: 4.588861943363718</br>angle: 76.94750555554026</br>_original_yhat_: 0.02</br>"
          ],
          [
           "</br>id: 2929</br>prediction: 0.02</br>situation: 0.08</br></br>h_a: 0.0</br>shotType: 0.0</br>lastAction: 14.0</br>minute: 41</br>distance: 4.588861943363718</br>angle: 76.94750555554026</br>_original_yhat_: 0.02</br>"
          ],
          [
           "</br>id: 2929</br>prediction: 0.02</br>situation: 0.12</br></br>h_a: 0.0</br>shotType: 0.0</br>lastAction: 14.0</br>minute: 41</br>distance: 4.588861943363718</br>angle: 76.94750555554026</br>_original_yhat_: 0.02</br>"
          ],
          [
           "</br>id: 2929</br>prediction: 0.02</br>situation: 0.16</br></br>h_a: 0.0</br>shotType: 0.0</br>lastAction: 14.0</br>minute: 41</br>distance: 4.588861943363718</br>angle: 76.94750555554026</br>_original_yhat_: 0.02</br>"
          ],
          [
           "</br>id: 2929</br>prediction: 0.02</br>situation: 0.2</br></br>h_a: 0.0</br>shotType: 0.0</br>lastAction: 14.0</br>minute: 41</br>distance: 4.588861943363718</br>angle: 76.94750555554026</br>_original_yhat_: 0.02</br>"
          ],
          [
           "</br>id: 2929</br>prediction: 0.02</br>situation: 0.24</br></br>h_a: 0.0</br>shotType: 0.0</br>lastAction: 14.0</br>minute: 41</br>distance: 4.588861943363718</br>angle: 76.94750555554026</br>_original_yhat_: 0.02</br>"
          ],
          [
           "</br>id: 2929</br>prediction: 0.02</br>situation: 0.28</br></br>h_a: 0.0</br>shotType: 0.0</br>lastAction: 14.0</br>minute: 41</br>distance: 4.588861943363718</br>angle: 76.94750555554026</br>_original_yhat_: 0.02</br>"
          ],
          [
           "</br>id: 2929</br>prediction: 0.02</br>situation: 0.32</br></br>h_a: 0.0</br>shotType: 0.0</br>lastAction: 14.0</br>minute: 41</br>distance: 4.588861943363718</br>angle: 76.94750555554026</br>_original_yhat_: 0.02</br>"
          ],
          [
           "</br>id: 2929</br>prediction: 0.02</br>situation: 0.36</br></br>h_a: 0.0</br>shotType: 0.0</br>lastAction: 14.0</br>minute: 41</br>distance: 4.588861943363718</br>angle: 76.94750555554026</br>_original_yhat_: 0.02</br>"
          ],
          [
           "</br>id: 2929</br>prediction: 0.02</br>situation: 0.4</br></br>h_a: 0.0</br>shotType: 0.0</br>lastAction: 14.0</br>minute: 41</br>distance: 4.588861943363718</br>angle: 76.94750555554026</br>_original_yhat_: 0.02</br>"
          ],
          [
           "</br>id: 2929</br>prediction: 0.02</br>situation: 0.44</br></br>h_a: 0.0</br>shotType: 0.0</br>lastAction: 14.0</br>minute: 41</br>distance: 4.588861943363718</br>angle: 76.94750555554026</br>_original_yhat_: 0.02</br>"
          ],
          [
           "</br>id: 2929</br>prediction: 0.02</br>situation: 0.48</br></br>h_a: 0.0</br>shotType: 0.0</br>lastAction: 14.0</br>minute: 41</br>distance: 4.588861943363718</br>angle: 76.94750555554026</br>_original_yhat_: 0.02</br>"
          ],
          [
           "</br>id: 2929</br>prediction: 0.02</br>situation: 0.52</br></br>h_a: 0.0</br>shotType: 0.0</br>lastAction: 14.0</br>minute: 41</br>distance: 4.588861943363718</br>angle: 76.94750555554026</br>_original_yhat_: 0.02</br>"
          ],
          [
           "</br>id: 2929</br>prediction: 0.02</br>situation: 0.56</br></br>h_a: 0.0</br>shotType: 0.0</br>lastAction: 14.0</br>minute: 41</br>distance: 4.588861943363718</br>angle: 76.94750555554026</br>_original_yhat_: 0.02</br>"
          ],
          [
           "</br>id: 2929</br>prediction: 0.02</br>situation: 0.6</br></br>h_a: 0.0</br>shotType: 0.0</br>lastAction: 14.0</br>minute: 41</br>distance: 4.588861943363718</br>angle: 76.94750555554026</br>_original_yhat_: 0.02</br>"
          ],
          [
           "</br>id: 2929</br>prediction: 0.02</br>situation: 0.64</br></br>h_a: 0.0</br>shotType: 0.0</br>lastAction: 14.0</br>minute: 41</br>distance: 4.588861943363718</br>angle: 76.94750555554026</br>_original_yhat_: 0.02</br>"
          ],
          [
           "</br>id: 2929</br>prediction: 0.02</br>situation: 0.68</br></br>h_a: 0.0</br>shotType: 0.0</br>lastAction: 14.0</br>minute: 41</br>distance: 4.588861943363718</br>angle: 76.94750555554026</br>_original_yhat_: 0.02</br>"
          ],
          [
           "</br>id: 2929</br>prediction: 0.02</br>situation: 0.72</br></br>h_a: 0.0</br>shotType: 0.0</br>lastAction: 14.0</br>minute: 41</br>distance: 4.588861943363718</br>angle: 76.94750555554026</br>_original_yhat_: 0.02</br>"
          ],
          [
           "</br>id: 2929</br>prediction: 0.02</br>situation: 0.76</br></br>h_a: 0.0</br>shotType: 0.0</br>lastAction: 14.0</br>minute: 41</br>distance: 4.588861943363718</br>angle: 76.94750555554026</br>_original_yhat_: 0.02</br>"
          ],
          [
           "</br>id: 2929</br>prediction: 0.02</br>situation: 0.8</br></br>h_a: 0.0</br>shotType: 0.0</br>lastAction: 14.0</br>minute: 41</br>distance: 4.588861943363718</br>angle: 76.94750555554026</br>_original_yhat_: 0.02</br>"
          ],
          [
           "</br>id: 2929</br>prediction: 0.02</br>situation: 0.84</br></br>h_a: 0.0</br>shotType: 0.0</br>lastAction: 14.0</br>minute: 41</br>distance: 4.588861943363718</br>angle: 76.94750555554026</br>_original_yhat_: 0.02</br>"
          ],
          [
           "</br>id: 2929</br>prediction: 0.02</br>situation: 0.88</br></br>h_a: 0.0</br>shotType: 0.0</br>lastAction: 14.0</br>minute: 41</br>distance: 4.588861943363718</br>angle: 76.94750555554026</br>_original_yhat_: 0.02</br>"
          ],
          [
           "</br>id: 2929</br>prediction: 0.02</br>situation: 0.92</br></br>h_a: 0.0</br>shotType: 0.0</br>lastAction: 14.0</br>minute: 41</br>distance: 4.588861943363718</br>angle: 76.94750555554026</br>_original_yhat_: 0.02</br>"
          ],
          [
           "</br>id: 2929</br>prediction: 0.02</br>situation: 0.96</br></br>h_a: 0.0</br>shotType: 0.0</br>lastAction: 14.0</br>minute: 41</br>distance: 4.588861943363718</br>angle: 76.94750555554026</br>_original_yhat_: 0.02</br>"
          ],
          [
           "</br>id: 2929</br>prediction: 0.02</br>situation: 1.0</br></br>h_a: 0.0</br>shotType: 0.0</br>lastAction: 14.0</br>minute: 41</br>distance: 4.588861943363718</br>angle: 76.94750555554026</br>_original_yhat_: 0.02</br>"
          ],
          [
           "</br>id: 2929</br>prediction: 0.02</br>situation: 1.04</br></br>h_a: 0.0</br>shotType: 0.0</br>lastAction: 14.0</br>minute: 41</br>distance: 4.588861943363718</br>angle: 76.94750555554026</br>_original_yhat_: 0.02</br>"
          ],
          [
           "</br>id: 2929</br>prediction: 0.02</br>situation: 1.08</br></br>h_a: 0.0</br>shotType: 0.0</br>lastAction: 14.0</br>minute: 41</br>distance: 4.588861943363718</br>angle: 76.94750555554026</br>_original_yhat_: 0.02</br>"
          ],
          [
           "</br>id: 2929</br>prediction: 0.02</br>situation: 1.12</br></br>h_a: 0.0</br>shotType: 0.0</br>lastAction: 14.0</br>minute: 41</br>distance: 4.588861943363718</br>angle: 76.94750555554026</br>_original_yhat_: 0.02</br>"
          ],
          [
           "</br>id: 2929</br>prediction: 0.02</br>situation: 1.16</br></br>h_a: 0.0</br>shotType: 0.0</br>lastAction: 14.0</br>minute: 41</br>distance: 4.588861943363718</br>angle: 76.94750555554026</br>_original_yhat_: 0.02</br>"
          ],
          [
           "</br>id: 2929</br>prediction: 0.02</br>situation: 1.2</br></br>h_a: 0.0</br>shotType: 0.0</br>lastAction: 14.0</br>minute: 41</br>distance: 4.588861943363718</br>angle: 76.94750555554026</br>_original_yhat_: 0.02</br>"
          ],
          [
           "</br>id: 2929</br>prediction: 0.02</br>situation: 1.24</br></br>h_a: 0.0</br>shotType: 0.0</br>lastAction: 14.0</br>minute: 41</br>distance: 4.588861943363718</br>angle: 76.94750555554026</br>_original_yhat_: 0.02</br>"
          ],
          [
           "</br>id: 2929</br>prediction: 0.02</br>situation: 1.28</br></br>h_a: 0.0</br>shotType: 0.0</br>lastAction: 14.0</br>minute: 41</br>distance: 4.588861943363718</br>angle: 76.94750555554026</br>_original_yhat_: 0.02</br>"
          ],
          [
           "</br>id: 2929</br>prediction: 0.02</br>situation: 1.32</br></br>h_a: 0.0</br>shotType: 0.0</br>lastAction: 14.0</br>minute: 41</br>distance: 4.588861943363718</br>angle: 76.94750555554026</br>_original_yhat_: 0.02</br>"
          ],
          [
           "</br>id: 2929</br>prediction: 0.02</br>situation: 1.36</br></br>h_a: 0.0</br>shotType: 0.0</br>lastAction: 14.0</br>minute: 41</br>distance: 4.588861943363718</br>angle: 76.94750555554026</br>_original_yhat_: 0.02</br>"
          ],
          [
           "</br>id: 2929</br>prediction: 0.02</br>situation: 1.4000000000000001</br></br>h_a: 0.0</br>shotType: 0.0</br>lastAction: 14.0</br>minute: 41</br>distance: 4.588861943363718</br>angle: 76.94750555554026</br>_original_yhat_: 0.02</br>"
          ],
          [
           "</br>id: 2929</br>prediction: 0.02</br>situation: 1.44</br></br>h_a: 0.0</br>shotType: 0.0</br>lastAction: 14.0</br>minute: 41</br>distance: 4.588861943363718</br>angle: 76.94750555554026</br>_original_yhat_: 0.02</br>"
          ],
          [
           "</br>id: 2929</br>prediction: 0.02</br>situation: 1.48</br></br>h_a: 0.0</br>shotType: 0.0</br>lastAction: 14.0</br>minute: 41</br>distance: 4.588861943363718</br>angle: 76.94750555554026</br>_original_yhat_: 0.02</br>"
          ],
          [
           "</br>id: 2929</br>prediction: 0.24</br>situation: 1.52</br></br>h_a: 0.0</br>shotType: 0.0</br>lastAction: 14.0</br>minute: 41</br>distance: 4.588861943363718</br>angle: 76.94750555554026</br>_original_yhat_: 0.02</br>"
          ],
          [
           "</br>id: 2929</br>prediction: 0.24</br>situation: 1.56</br></br>h_a: 0.0</br>shotType: 0.0</br>lastAction: 14.0</br>minute: 41</br>distance: 4.588861943363718</br>angle: 76.94750555554026</br>_original_yhat_: 0.02</br>"
          ],
          [
           "</br>id: 2929</br>prediction: 0.24</br>situation: 1.6</br></br>h_a: 0.0</br>shotType: 0.0</br>lastAction: 14.0</br>minute: 41</br>distance: 4.588861943363718</br>angle: 76.94750555554026</br>_original_yhat_: 0.02</br>"
          ],
          [
           "</br>id: 2929</br>prediction: 0.24</br>situation: 1.6400000000000001</br></br>h_a: 0.0</br>shotType: 0.0</br>lastAction: 14.0</br>minute: 41</br>distance: 4.588861943363718</br>angle: 76.94750555554026</br>_original_yhat_: 0.02</br>"
          ],
          [
           "</br>id: 2929</br>prediction: 0.24</br>situation: 1.68</br></br>h_a: 0.0</br>shotType: 0.0</br>lastAction: 14.0</br>minute: 41</br>distance: 4.588861943363718</br>angle: 76.94750555554026</br>_original_yhat_: 0.02</br>"
          ],
          [
           "</br>id: 2929</br>prediction: 0.24</br>situation: 1.72</br></br>h_a: 0.0</br>shotType: 0.0</br>lastAction: 14.0</br>minute: 41</br>distance: 4.588861943363718</br>angle: 76.94750555554026</br>_original_yhat_: 0.02</br>"
          ],
          [
           "</br>id: 2929</br>prediction: 0.24</br>situation: 1.76</br></br>h_a: 0.0</br>shotType: 0.0</br>lastAction: 14.0</br>minute: 41</br>distance: 4.588861943363718</br>angle: 76.94750555554026</br>_original_yhat_: 0.02</br>"
          ],
          [
           "</br>id: 2929</br>prediction: 0.24</br>situation: 1.8</br></br>h_a: 0.0</br>shotType: 0.0</br>lastAction: 14.0</br>minute: 41</br>distance: 4.588861943363718</br>angle: 76.94750555554026</br>_original_yhat_: 0.02</br>"
          ],
          [
           "</br>id: 2929</br>prediction: 0.24</br>situation: 1.84</br></br>h_a: 0.0</br>shotType: 0.0</br>lastAction: 14.0</br>minute: 41</br>distance: 4.588861943363718</br>angle: 76.94750555554026</br>_original_yhat_: 0.02</br>"
          ],
          [
           "</br>id: 2929</br>prediction: 0.24</br>situation: 1.8800000000000001</br></br>h_a: 0.0</br>shotType: 0.0</br>lastAction: 14.0</br>minute: 41</br>distance: 4.588861943363718</br>angle: 76.94750555554026</br>_original_yhat_: 0.02</br>"
          ],
          [
           "</br>id: 2929</br>prediction: 0.24</br>situation: 1.92</br></br>h_a: 0.0</br>shotType: 0.0</br>lastAction: 14.0</br>minute: 41</br>distance: 4.588861943363718</br>angle: 76.94750555554026</br>_original_yhat_: 0.02</br>"
          ],
          [
           "</br>id: 2929</br>prediction: 0.24</br>situation: 1.96</br></br>h_a: 0.0</br>shotType: 0.0</br>lastAction: 14.0</br>minute: 41</br>distance: 4.588861943363718</br>angle: 76.94750555554026</br>_original_yhat_: 0.02</br>"
          ],
          [
           "</br>id: 2929</br>prediction: 0.24</br>situation: 2.0</br></br>h_a: 0.0</br>shotType: 0.0</br>lastAction: 14.0</br>minute: 41</br>distance: 4.588861943363718</br>angle: 76.94750555554026</br>_original_yhat_: 0.02</br>"
          ],
          [
           "</br>id: 2929</br>prediction: 0.24</br>situation: 2.04</br></br>h_a: 0.0</br>shotType: 0.0</br>lastAction: 14.0</br>minute: 41</br>distance: 4.588861943363718</br>angle: 76.94750555554026</br>_original_yhat_: 0.02</br>"
          ],
          [
           "</br>id: 2929</br>prediction: 0.24</br>situation: 2.08</br></br>h_a: 0.0</br>shotType: 0.0</br>lastAction: 14.0</br>minute: 41</br>distance: 4.588861943363718</br>angle: 76.94750555554026</br>_original_yhat_: 0.02</br>"
          ],
          [
           "</br>id: 2929</br>prediction: 0.24</br>situation: 2.12</br></br>h_a: 0.0</br>shotType: 0.0</br>lastAction: 14.0</br>minute: 41</br>distance: 4.588861943363718</br>angle: 76.94750555554026</br>_original_yhat_: 0.02</br>"
          ],
          [
           "</br>id: 2929</br>prediction: 0.24</br>situation: 2.16</br></br>h_a: 0.0</br>shotType: 0.0</br>lastAction: 14.0</br>minute: 41</br>distance: 4.588861943363718</br>angle: 76.94750555554026</br>_original_yhat_: 0.02</br>"
          ],
          [
           "</br>id: 2929</br>prediction: 0.24</br>situation: 2.2</br></br>h_a: 0.0</br>shotType: 0.0</br>lastAction: 14.0</br>minute: 41</br>distance: 4.588861943363718</br>angle: 76.94750555554026</br>_original_yhat_: 0.02</br>"
          ],
          [
           "</br>id: 2929</br>prediction: 0.24</br>situation: 2.24</br></br>h_a: 0.0</br>shotType: 0.0</br>lastAction: 14.0</br>minute: 41</br>distance: 4.588861943363718</br>angle: 76.94750555554026</br>_original_yhat_: 0.02</br>"
          ],
          [
           "</br>id: 2929</br>prediction: 0.24</br>situation: 2.2800000000000002</br></br>h_a: 0.0</br>shotType: 0.0</br>lastAction: 14.0</br>minute: 41</br>distance: 4.588861943363718</br>angle: 76.94750555554026</br>_original_yhat_: 0.02</br>"
          ],
          [
           "</br>id: 2929</br>prediction: 0.24</br>situation: 2.32</br></br>h_a: 0.0</br>shotType: 0.0</br>lastAction: 14.0</br>minute: 41</br>distance: 4.588861943363718</br>angle: 76.94750555554026</br>_original_yhat_: 0.02</br>"
          ],
          [
           "</br>id: 2929</br>prediction: 0.24</br>situation: 2.36</br></br>h_a: 0.0</br>shotType: 0.0</br>lastAction: 14.0</br>minute: 41</br>distance: 4.588861943363718</br>angle: 76.94750555554026</br>_original_yhat_: 0.02</br>"
          ],
          [
           "</br>id: 2929</br>prediction: 0.24</br>situation: 2.4</br></br>h_a: 0.0</br>shotType: 0.0</br>lastAction: 14.0</br>minute: 41</br>distance: 4.588861943363718</br>angle: 76.94750555554026</br>_original_yhat_: 0.02</br>"
          ],
          [
           "</br>id: 2929</br>prediction: 0.24</br>situation: 2.44</br></br>h_a: 0.0</br>shotType: 0.0</br>lastAction: 14.0</br>minute: 41</br>distance: 4.588861943363718</br>angle: 76.94750555554026</br>_original_yhat_: 0.02</br>"
          ],
          [
           "</br>id: 2929</br>prediction: 0.24</br>situation: 2.48</br></br>h_a: 0.0</br>shotType: 0.0</br>lastAction: 14.0</br>minute: 41</br>distance: 4.588861943363718</br>angle: 76.94750555554026</br>_original_yhat_: 0.02</br>"
          ],
          [
           "</br>id: 2929</br>prediction: 0.27</br>situation: 2.52</br></br>h_a: 0.0</br>shotType: 0.0</br>lastAction: 14.0</br>minute: 41</br>distance: 4.588861943363718</br>angle: 76.94750555554026</br>_original_yhat_: 0.02</br>"
          ],
          [
           "</br>id: 2929</br>prediction: 0.27</br>situation: 2.56</br></br>h_a: 0.0</br>shotType: 0.0</br>lastAction: 14.0</br>minute: 41</br>distance: 4.588861943363718</br>angle: 76.94750555554026</br>_original_yhat_: 0.02</br>"
          ],
          [
           "</br>id: 2929</br>prediction: 0.27</br>situation: 2.6</br></br>h_a: 0.0</br>shotType: 0.0</br>lastAction: 14.0</br>minute: 41</br>distance: 4.588861943363718</br>angle: 76.94750555554026</br>_original_yhat_: 0.02</br>"
          ],
          [
           "</br>id: 2929</br>prediction: 0.27</br>situation: 2.64</br></br>h_a: 0.0</br>shotType: 0.0</br>lastAction: 14.0</br>minute: 41</br>distance: 4.588861943363718</br>angle: 76.94750555554026</br>_original_yhat_: 0.02</br>"
          ],
          [
           "</br>id: 2929</br>prediction: 0.27</br>situation: 2.68</br></br>h_a: 0.0</br>shotType: 0.0</br>lastAction: 14.0</br>minute: 41</br>distance: 4.588861943363718</br>angle: 76.94750555554026</br>_original_yhat_: 0.02</br>"
          ],
          [
           "</br>id: 2929</br>prediction: 0.27</br>situation: 2.72</br></br>h_a: 0.0</br>shotType: 0.0</br>lastAction: 14.0</br>minute: 41</br>distance: 4.588861943363718</br>angle: 76.94750555554026</br>_original_yhat_: 0.02</br>"
          ],
          [
           "</br>id: 2929</br>prediction: 0.27</br>situation: 2.7600000000000002</br></br>h_a: 0.0</br>shotType: 0.0</br>lastAction: 14.0</br>minute: 41</br>distance: 4.588861943363718</br>angle: 76.94750555554026</br>_original_yhat_: 0.02</br>"
          ],
          [
           "</br>id: 2929</br>prediction: 0.27</br>situation: 2.8000000000000003</br></br>h_a: 0.0</br>shotType: 0.0</br>lastAction: 14.0</br>minute: 41</br>distance: 4.588861943363718</br>angle: 76.94750555554026</br>_original_yhat_: 0.02</br>"
          ],
          [
           "</br>id: 2929</br>prediction: 0.27</br>situation: 2.84</br></br>h_a: 0.0</br>shotType: 0.0</br>lastAction: 14.0</br>minute: 41</br>distance: 4.588861943363718</br>angle: 76.94750555554026</br>_original_yhat_: 0.02</br>"
          ],
          [
           "</br>id: 2929</br>prediction: 0.27</br>situation: 2.88</br></br>h_a: 0.0</br>shotType: 0.0</br>lastAction: 14.0</br>minute: 41</br>distance: 4.588861943363718</br>angle: 76.94750555554026</br>_original_yhat_: 0.02</br>"
          ],
          [
           "</br>id: 2929</br>prediction: 0.27</br>situation: 2.92</br></br>h_a: 0.0</br>shotType: 0.0</br>lastAction: 14.0</br>minute: 41</br>distance: 4.588861943363718</br>angle: 76.94750555554026</br>_original_yhat_: 0.02</br>"
          ],
          [
           "</br>id: 2929</br>prediction: 0.27</br>situation: 2.96</br></br>h_a: 0.0</br>shotType: 0.0</br>lastAction: 14.0</br>minute: 41</br>distance: 4.588861943363718</br>angle: 76.94750555554026</br>_original_yhat_: 0.02</br>"
          ],
          [
           "</br>id: 2929</br>prediction: 0.27</br>situation: 3.0</br></br>h_a: 0.0</br>shotType: 0.0</br>lastAction: 14.0</br>minute: 41</br>distance: 4.588861943363718</br>angle: 76.94750555554026</br>_original_yhat_: 0.02</br>"
          ],
          [
           "</br>id: 2929</br>prediction: 0.2</br>situation: 3.04</br></br>h_a: 0.0</br>shotType: 0.0</br>lastAction: 14.0</br>minute: 41</br>distance: 4.588861943363718</br>angle: 76.94750555554026</br>_original_yhat_: 0.02</br>"
          ],
          [
           "</br>id: 2929</br>prediction: 0.2</br>situation: 3.08</br></br>h_a: 0.0</br>shotType: 0.0</br>lastAction: 14.0</br>minute: 41</br>distance: 4.588861943363718</br>angle: 76.94750555554026</br>_original_yhat_: 0.02</br>"
          ],
          [
           "</br>id: 2929</br>prediction: 0.2</br>situation: 3.12</br></br>h_a: 0.0</br>shotType: 0.0</br>lastAction: 14.0</br>minute: 41</br>distance: 4.588861943363718</br>angle: 76.94750555554026</br>_original_yhat_: 0.02</br>"
          ],
          [
           "</br>id: 2929</br>prediction: 0.2</br>situation: 3.16</br></br>h_a: 0.0</br>shotType: 0.0</br>lastAction: 14.0</br>minute: 41</br>distance: 4.588861943363718</br>angle: 76.94750555554026</br>_original_yhat_: 0.02</br>"
          ],
          [
           "</br>id: 2929</br>prediction: 0.2</br>situation: 3.2</br></br>h_a: 0.0</br>shotType: 0.0</br>lastAction: 14.0</br>minute: 41</br>distance: 4.588861943363718</br>angle: 76.94750555554026</br>_original_yhat_: 0.02</br>"
          ],
          [
           "</br>id: 2929</br>prediction: 0.2</br>situation: 3.24</br></br>h_a: 0.0</br>shotType: 0.0</br>lastAction: 14.0</br>minute: 41</br>distance: 4.588861943363718</br>angle: 76.94750555554026</br>_original_yhat_: 0.02</br>"
          ],
          [
           "</br>id: 2929</br>prediction: 0.2</br>situation: 3.2800000000000002</br></br>h_a: 0.0</br>shotType: 0.0</br>lastAction: 14.0</br>minute: 41</br>distance: 4.588861943363718</br>angle: 76.94750555554026</br>_original_yhat_: 0.02</br>"
          ],
          [
           "</br>id: 2929</br>prediction: 0.2</br>situation: 3.3200000000000003</br></br>h_a: 0.0</br>shotType: 0.0</br>lastAction: 14.0</br>minute: 41</br>distance: 4.588861943363718</br>angle: 76.94750555554026</br>_original_yhat_: 0.02</br>"
          ],
          [
           "</br>id: 2929</br>prediction: 0.2</br>situation: 3.36</br></br>h_a: 0.0</br>shotType: 0.0</br>lastAction: 14.0</br>minute: 41</br>distance: 4.588861943363718</br>angle: 76.94750555554026</br>_original_yhat_: 0.02</br>"
          ],
          [
           "</br>id: 2929</br>prediction: 0.2</br>situation: 3.4</br></br>h_a: 0.0</br>shotType: 0.0</br>lastAction: 14.0</br>minute: 41</br>distance: 4.588861943363718</br>angle: 76.94750555554026</br>_original_yhat_: 0.02</br>"
          ],
          [
           "</br>id: 2929</br>prediction: 0.2</br>situation: 3.44</br></br>h_a: 0.0</br>shotType: 0.0</br>lastAction: 14.0</br>minute: 41</br>distance: 4.588861943363718</br>angle: 76.94750555554026</br>_original_yhat_: 0.02</br>"
          ],
          [
           "</br>id: 2929</br>prediction: 0.2</br>situation: 3.48</br></br>h_a: 0.0</br>shotType: 0.0</br>lastAction: 14.0</br>minute: 41</br>distance: 4.588861943363718</br>angle: 76.94750555554026</br>_original_yhat_: 0.02</br>"
          ],
          [
           "</br>id: 2929</br>prediction: 0.14</br>situation: 3.52</br></br>h_a: 0.0</br>shotType: 0.0</br>lastAction: 14.0</br>minute: 41</br>distance: 4.588861943363718</br>angle: 76.94750555554026</br>_original_yhat_: 0.02</br>"
          ],
          [
           "</br>id: 2929</br>prediction: 0.14</br>situation: 3.56</br></br>h_a: 0.0</br>shotType: 0.0</br>lastAction: 14.0</br>minute: 41</br>distance: 4.588861943363718</br>angle: 76.94750555554026</br>_original_yhat_: 0.02</br>"
          ],
          [
           "</br>id: 2929</br>prediction: 0.14</br>situation: 3.6</br></br>h_a: 0.0</br>shotType: 0.0</br>lastAction: 14.0</br>minute: 41</br>distance: 4.588861943363718</br>angle: 76.94750555554026</br>_original_yhat_: 0.02</br>"
          ],
          [
           "</br>id: 2929</br>prediction: 0.14</br>situation: 3.64</br></br>h_a: 0.0</br>shotType: 0.0</br>lastAction: 14.0</br>minute: 41</br>distance: 4.588861943363718</br>angle: 76.94750555554026</br>_original_yhat_: 0.02</br>"
          ],
          [
           "</br>id: 2929</br>prediction: 0.14</br>situation: 3.68</br></br>h_a: 0.0</br>shotType: 0.0</br>lastAction: 14.0</br>minute: 41</br>distance: 4.588861943363718</br>angle: 76.94750555554026</br>_original_yhat_: 0.02</br>"
          ],
          [
           "</br>id: 2929</br>prediction: 0.14</br>situation: 3.72</br></br>h_a: 0.0</br>shotType: 0.0</br>lastAction: 14.0</br>minute: 41</br>distance: 4.588861943363718</br>angle: 76.94750555554026</br>_original_yhat_: 0.02</br>"
          ],
          [
           "</br>id: 2929</br>prediction: 0.14</br>situation: 3.7600000000000002</br></br>h_a: 0.0</br>shotType: 0.0</br>lastAction: 14.0</br>minute: 41</br>distance: 4.588861943363718</br>angle: 76.94750555554026</br>_original_yhat_: 0.02</br>"
          ],
          [
           "</br>id: 2929</br>prediction: 0.14</br>situation: 3.8000000000000003</br></br>h_a: 0.0</br>shotType: 0.0</br>lastAction: 14.0</br>minute: 41</br>distance: 4.588861943363718</br>angle: 76.94750555554026</br>_original_yhat_: 0.02</br>"
          ],
          [
           "</br>id: 2929</br>prediction: 0.14</br>situation: 3.84</br></br>h_a: 0.0</br>shotType: 0.0</br>lastAction: 14.0</br>minute: 41</br>distance: 4.588861943363718</br>angle: 76.94750555554026</br>_original_yhat_: 0.02</br>"
          ],
          [
           "</br>id: 2929</br>prediction: 0.14</br>situation: 3.88</br></br>h_a: 0.0</br>shotType: 0.0</br>lastAction: 14.0</br>minute: 41</br>distance: 4.588861943363718</br>angle: 76.94750555554026</br>_original_yhat_: 0.02</br>"
          ],
          [
           "</br>id: 2929</br>prediction: 0.14</br>situation: 3.92</br></br>h_a: 0.0</br>shotType: 0.0</br>lastAction: 14.0</br>minute: 41</br>distance: 4.588861943363718</br>angle: 76.94750555554026</br>_original_yhat_: 0.02</br>"
          ],
          [
           "</br>id: 2929</br>prediction: 0.14</br>situation: 3.96</br></br>h_a: 0.0</br>shotType: 0.0</br>lastAction: 14.0</br>minute: 41</br>distance: 4.588861943363718</br>angle: 76.94750555554026</br>_original_yhat_: 0.02</br>"
          ],
          [
           "</br>id: 2929</br>prediction: 0.14</br>situation: 4.0</br></br>h_a: 0.0</br>shotType: 0.0</br>lastAction: 14.0</br>minute: 41</br>distance: 4.588861943363718</br>angle: 76.94750555554026</br>_original_yhat_: 0.02</br>"
          ]
         ],
         "hovertemplate": "%{customdata[0]}<extra></extra>",
         "legendgroup": "RandomForestClassifier",
         "line": {
          "color": "#f05a71",
          "dash": "solid",
          "width": 2
         },
         "marker": {
          "symbol": "circle"
         },
         "mode": "lines",
         "name": "RandomForestClassifier",
         "opacity": 1,
         "showlegend": false,
         "type": "scattergl",
         "x": [
          0,
          0.04,
          0.08,
          0.12,
          0.16,
          0.2,
          0.24,
          0.28,
          0.32,
          0.36,
          0.4,
          0.44,
          0.48,
          0.52,
          0.56,
          0.6,
          0.64,
          0.68,
          0.72,
          0.76,
          0.8,
          0.84,
          0.88,
          0.92,
          0.96,
          1,
          1.04,
          1.08,
          1.12,
          1.16,
          1.2,
          1.24,
          1.28,
          1.32,
          1.36,
          1.4000000000000001,
          1.44,
          1.48,
          1.52,
          1.56,
          1.6,
          1.6400000000000001,
          1.68,
          1.72,
          1.76,
          1.8,
          1.84,
          1.8800000000000001,
          1.92,
          1.96,
          2,
          2.04,
          2.08,
          2.12,
          2.16,
          2.2,
          2.24,
          2.2800000000000002,
          2.32,
          2.36,
          2.4,
          2.44,
          2.48,
          2.52,
          2.56,
          2.6,
          2.64,
          2.68,
          2.72,
          2.7600000000000002,
          2.8000000000000003,
          2.84,
          2.88,
          2.92,
          2.96,
          3,
          3.04,
          3.08,
          3.12,
          3.16,
          3.2,
          3.24,
          3.2800000000000002,
          3.3200000000000003,
          3.36,
          3.4,
          3.44,
          3.48,
          3.52,
          3.56,
          3.6,
          3.64,
          3.68,
          3.72,
          3.7600000000000002,
          3.8000000000000003,
          3.84,
          3.88,
          3.92,
          3.96,
          4
         ],
         "xaxis": "x8",
         "y": [
          0.02,
          0.02,
          0.02,
          0.02,
          0.02,
          0.02,
          0.02,
          0.02,
          0.02,
          0.02,
          0.02,
          0.02,
          0.02,
          0.02,
          0.02,
          0.02,
          0.02,
          0.02,
          0.02,
          0.02,
          0.02,
          0.02,
          0.02,
          0.02,
          0.02,
          0.02,
          0.02,
          0.02,
          0.02,
          0.02,
          0.02,
          0.02,
          0.02,
          0.02,
          0.02,
          0.02,
          0.02,
          0.02,
          0.24,
          0.24,
          0.24,
          0.24,
          0.24,
          0.24,
          0.24,
          0.24,
          0.24,
          0.24,
          0.24,
          0.24,
          0.24,
          0.24,
          0.24,
          0.24,
          0.24,
          0.24,
          0.24,
          0.24,
          0.24,
          0.24,
          0.24,
          0.24,
          0.24,
          0.27,
          0.27,
          0.27,
          0.27,
          0.27,
          0.27,
          0.27,
          0.27,
          0.27,
          0.27,
          0.27,
          0.27,
          0.27,
          0.2,
          0.2,
          0.2,
          0.2,
          0.2,
          0.2,
          0.2,
          0.2,
          0.2,
          0.2,
          0.2,
          0.2,
          0.14,
          0.14,
          0.14,
          0.14,
          0.14,
          0.14,
          0.14,
          0.14,
          0.14,
          0.14,
          0.14,
          0.14,
          0.14
         ],
         "yaxis": "y8"
        },
        {
         "customdata": [
          [
           "</br>id: 2929</br>prediction: 0.02</br>shotType: 0.0</br></br>h_a: 0.0</br>situation: 1.0</br>lastAction: 14.0</br>minute: 41</br>distance: 4.588861943363718</br>angle: 76.94750555554026</br>_original_yhat_: 0.02</br>"
          ],
          [
           "</br>id: 2929</br>prediction: 0.02</br>shotType: 0.03</br></br>h_a: 0.0</br>situation: 1.0</br>lastAction: 14.0</br>minute: 41</br>distance: 4.588861943363718</br>angle: 76.94750555554026</br>_original_yhat_: 0.02</br>"
          ],
          [
           "</br>id: 2929</br>prediction: 0.02</br>shotType: 0.06</br></br>h_a: 0.0</br>situation: 1.0</br>lastAction: 14.0</br>minute: 41</br>distance: 4.588861943363718</br>angle: 76.94750555554026</br>_original_yhat_: 0.02</br>"
          ],
          [
           "</br>id: 2929</br>prediction: 0.02</br>shotType: 0.09</br></br>h_a: 0.0</br>situation: 1.0</br>lastAction: 14.0</br>minute: 41</br>distance: 4.588861943363718</br>angle: 76.94750555554026</br>_original_yhat_: 0.02</br>"
          ],
          [
           "</br>id: 2929</br>prediction: 0.02</br>shotType: 0.12</br></br>h_a: 0.0</br>situation: 1.0</br>lastAction: 14.0</br>minute: 41</br>distance: 4.588861943363718</br>angle: 76.94750555554026</br>_original_yhat_: 0.02</br>"
          ],
          [
           "</br>id: 2929</br>prediction: 0.02</br>shotType: 0.15</br></br>h_a: 0.0</br>situation: 1.0</br>lastAction: 14.0</br>minute: 41</br>distance: 4.588861943363718</br>angle: 76.94750555554026</br>_original_yhat_: 0.02</br>"
          ],
          [
           "</br>id: 2929</br>prediction: 0.02</br>shotType: 0.18</br></br>h_a: 0.0</br>situation: 1.0</br>lastAction: 14.0</br>minute: 41</br>distance: 4.588861943363718</br>angle: 76.94750555554026</br>_original_yhat_: 0.02</br>"
          ],
          [
           "</br>id: 2929</br>prediction: 0.02</br>shotType: 0.21</br></br>h_a: 0.0</br>situation: 1.0</br>lastAction: 14.0</br>minute: 41</br>distance: 4.588861943363718</br>angle: 76.94750555554026</br>_original_yhat_: 0.02</br>"
          ],
          [
           "</br>id: 2929</br>prediction: 0.02</br>shotType: 0.24</br></br>h_a: 0.0</br>situation: 1.0</br>lastAction: 14.0</br>minute: 41</br>distance: 4.588861943363718</br>angle: 76.94750555554026</br>_original_yhat_: 0.02</br>"
          ],
          [
           "</br>id: 2929</br>prediction: 0.02</br>shotType: 0.27</br></br>h_a: 0.0</br>situation: 1.0</br>lastAction: 14.0</br>minute: 41</br>distance: 4.588861943363718</br>angle: 76.94750555554026</br>_original_yhat_: 0.02</br>"
          ],
          [
           "</br>id: 2929</br>prediction: 0.02</br>shotType: 0.3</br></br>h_a: 0.0</br>situation: 1.0</br>lastAction: 14.0</br>minute: 41</br>distance: 4.588861943363718</br>angle: 76.94750555554026</br>_original_yhat_: 0.02</br>"
          ],
          [
           "</br>id: 2929</br>prediction: 0.02</br>shotType: 0.32999999999999996</br></br>h_a: 0.0</br>situation: 1.0</br>lastAction: 14.0</br>minute: 41</br>distance: 4.588861943363718</br>angle: 76.94750555554026</br>_original_yhat_: 0.02</br>"
          ],
          [
           "</br>id: 2929</br>prediction: 0.02</br>shotType: 0.36</br></br>h_a: 0.0</br>situation: 1.0</br>lastAction: 14.0</br>minute: 41</br>distance: 4.588861943363718</br>angle: 76.94750555554026</br>_original_yhat_: 0.02</br>"
          ],
          [
           "</br>id: 2929</br>prediction: 0.02</br>shotType: 0.39</br></br>h_a: 0.0</br>situation: 1.0</br>lastAction: 14.0</br>minute: 41</br>distance: 4.588861943363718</br>angle: 76.94750555554026</br>_original_yhat_: 0.02</br>"
          ],
          [
           "</br>id: 2929</br>prediction: 0.02</br>shotType: 0.42</br></br>h_a: 0.0</br>situation: 1.0</br>lastAction: 14.0</br>minute: 41</br>distance: 4.588861943363718</br>angle: 76.94750555554026</br>_original_yhat_: 0.02</br>"
          ],
          [
           "</br>id: 2929</br>prediction: 0.02</br>shotType: 0.44999999999999996</br></br>h_a: 0.0</br>situation: 1.0</br>lastAction: 14.0</br>minute: 41</br>distance: 4.588861943363718</br>angle: 76.94750555554026</br>_original_yhat_: 0.02</br>"
          ],
          [
           "</br>id: 2929</br>prediction: 0.02</br>shotType: 0.48</br></br>h_a: 0.0</br>situation: 1.0</br>lastAction: 14.0</br>minute: 41</br>distance: 4.588861943363718</br>angle: 76.94750555554026</br>_original_yhat_: 0.02</br>"
          ],
          [
           "</br>id: 2929</br>prediction: 0.19</br>shotType: 0.51</br></br>h_a: 0.0</br>situation: 1.0</br>lastAction: 14.0</br>minute: 41</br>distance: 4.588861943363718</br>angle: 76.94750555554026</br>_original_yhat_: 0.02</br>"
          ],
          [
           "</br>id: 2929</br>prediction: 0.19</br>shotType: 0.54</br></br>h_a: 0.0</br>situation: 1.0</br>lastAction: 14.0</br>minute: 41</br>distance: 4.588861943363718</br>angle: 76.94750555554026</br>_original_yhat_: 0.02</br>"
          ],
          [
           "</br>id: 2929</br>prediction: 0.19</br>shotType: 0.57</br></br>h_a: 0.0</br>situation: 1.0</br>lastAction: 14.0</br>minute: 41</br>distance: 4.588861943363718</br>angle: 76.94750555554026</br>_original_yhat_: 0.02</br>"
          ],
          [
           "</br>id: 2929</br>prediction: 0.19</br>shotType: 0.6</br></br>h_a: 0.0</br>situation: 1.0</br>lastAction: 14.0</br>minute: 41</br>distance: 4.588861943363718</br>angle: 76.94750555554026</br>_original_yhat_: 0.02</br>"
          ],
          [
           "</br>id: 2929</br>prediction: 0.19</br>shotType: 0.63</br></br>h_a: 0.0</br>situation: 1.0</br>lastAction: 14.0</br>minute: 41</br>distance: 4.588861943363718</br>angle: 76.94750555554026</br>_original_yhat_: 0.02</br>"
          ],
          [
           "</br>id: 2929</br>prediction: 0.19</br>shotType: 0.6599999999999999</br></br>h_a: 0.0</br>situation: 1.0</br>lastAction: 14.0</br>minute: 41</br>distance: 4.588861943363718</br>angle: 76.94750555554026</br>_original_yhat_: 0.02</br>"
          ],
          [
           "</br>id: 2929</br>prediction: 0.19</br>shotType: 0.69</br></br>h_a: 0.0</br>situation: 1.0</br>lastAction: 14.0</br>minute: 41</br>distance: 4.588861943363718</br>angle: 76.94750555554026</br>_original_yhat_: 0.02</br>"
          ],
          [
           "</br>id: 2929</br>prediction: 0.19</br>shotType: 0.72</br></br>h_a: 0.0</br>situation: 1.0</br>lastAction: 14.0</br>minute: 41</br>distance: 4.588861943363718</br>angle: 76.94750555554026</br>_original_yhat_: 0.02</br>"
          ],
          [
           "</br>id: 2929</br>prediction: 0.19</br>shotType: 0.75</br></br>h_a: 0.0</br>situation: 1.0</br>lastAction: 14.0</br>minute: 41</br>distance: 4.588861943363718</br>angle: 76.94750555554026</br>_original_yhat_: 0.02</br>"
          ],
          [
           "</br>id: 2929</br>prediction: 0.19</br>shotType: 0.78</br></br>h_a: 0.0</br>situation: 1.0</br>lastAction: 14.0</br>minute: 41</br>distance: 4.588861943363718</br>angle: 76.94750555554026</br>_original_yhat_: 0.02</br>"
          ],
          [
           "</br>id: 2929</br>prediction: 0.19</br>shotType: 0.8099999999999999</br></br>h_a: 0.0</br>situation: 1.0</br>lastAction: 14.0</br>minute: 41</br>distance: 4.588861943363718</br>angle: 76.94750555554026</br>_original_yhat_: 0.02</br>"
          ],
          [
           "</br>id: 2929</br>prediction: 0.19</br>shotType: 0.84</br></br>h_a: 0.0</br>situation: 1.0</br>lastAction: 14.0</br>minute: 41</br>distance: 4.588861943363718</br>angle: 76.94750555554026</br>_original_yhat_: 0.02</br>"
          ],
          [
           "</br>id: 2929</br>prediction: 0.19</br>shotType: 0.87</br></br>h_a: 0.0</br>situation: 1.0</br>lastAction: 14.0</br>minute: 41</br>distance: 4.588861943363718</br>angle: 76.94750555554026</br>_original_yhat_: 0.02</br>"
          ],
          [
           "</br>id: 2929</br>prediction: 0.19</br>shotType: 0.8999999999999999</br></br>h_a: 0.0</br>situation: 1.0</br>lastAction: 14.0</br>minute: 41</br>distance: 4.588861943363718</br>angle: 76.94750555554026</br>_original_yhat_: 0.02</br>"
          ],
          [
           "</br>id: 2929</br>prediction: 0.19</br>shotType: 0.9299999999999999</br></br>h_a: 0.0</br>situation: 1.0</br>lastAction: 14.0</br>minute: 41</br>distance: 4.588861943363718</br>angle: 76.94750555554026</br>_original_yhat_: 0.02</br>"
          ],
          [
           "</br>id: 2929</br>prediction: 0.19</br>shotType: 0.96</br></br>h_a: 0.0</br>situation: 1.0</br>lastAction: 14.0</br>minute: 41</br>distance: 4.588861943363718</br>angle: 76.94750555554026</br>_original_yhat_: 0.02</br>"
          ],
          [
           "</br>id: 2929</br>prediction: 0.19</br>shotType: 0.99</br></br>h_a: 0.0</br>situation: 1.0</br>lastAction: 14.0</br>minute: 41</br>distance: 4.588861943363718</br>angle: 76.94750555554026</br>_original_yhat_: 0.02</br>"
          ],
          [
           "</br>id: 2929</br>prediction: 0.19</br>shotType: 1.02</br></br>h_a: 0.0</br>situation: 1.0</br>lastAction: 14.0</br>minute: 41</br>distance: 4.588861943363718</br>angle: 76.94750555554026</br>_original_yhat_: 0.02</br>"
          ],
          [
           "</br>id: 2929</br>prediction: 0.19</br>shotType: 1.05</br></br>h_a: 0.0</br>situation: 1.0</br>lastAction: 14.0</br>minute: 41</br>distance: 4.588861943363718</br>angle: 76.94750555554026</br>_original_yhat_: 0.02</br>"
          ],
          [
           "</br>id: 2929</br>prediction: 0.19</br>shotType: 1.08</br></br>h_a: 0.0</br>situation: 1.0</br>lastAction: 14.0</br>minute: 41</br>distance: 4.588861943363718</br>angle: 76.94750555554026</br>_original_yhat_: 0.02</br>"
          ],
          [
           "</br>id: 2929</br>prediction: 0.19</br>shotType: 1.1099999999999999</br></br>h_a: 0.0</br>situation: 1.0</br>lastAction: 14.0</br>minute: 41</br>distance: 4.588861943363718</br>angle: 76.94750555554026</br>_original_yhat_: 0.02</br>"
          ],
          [
           "</br>id: 2929</br>prediction: 0.19</br>shotType: 1.14</br></br>h_a: 0.0</br>situation: 1.0</br>lastAction: 14.0</br>minute: 41</br>distance: 4.588861943363718</br>angle: 76.94750555554026</br>_original_yhat_: 0.02</br>"
          ],
          [
           "</br>id: 2929</br>prediction: 0.19</br>shotType: 1.17</br></br>h_a: 0.0</br>situation: 1.0</br>lastAction: 14.0</br>minute: 41</br>distance: 4.588861943363718</br>angle: 76.94750555554026</br>_original_yhat_: 0.02</br>"
          ],
          [
           "</br>id: 2929</br>prediction: 0.19</br>shotType: 1.2</br></br>h_a: 0.0</br>situation: 1.0</br>lastAction: 14.0</br>minute: 41</br>distance: 4.588861943363718</br>angle: 76.94750555554026</br>_original_yhat_: 0.02</br>"
          ],
          [
           "</br>id: 2929</br>prediction: 0.19</br>shotType: 1.23</br></br>h_a: 0.0</br>situation: 1.0</br>lastAction: 14.0</br>minute: 41</br>distance: 4.588861943363718</br>angle: 76.94750555554026</br>_original_yhat_: 0.02</br>"
          ],
          [
           "</br>id: 2929</br>prediction: 0.19</br>shotType: 1.26</br></br>h_a: 0.0</br>situation: 1.0</br>lastAction: 14.0</br>minute: 41</br>distance: 4.588861943363718</br>angle: 76.94750555554026</br>_original_yhat_: 0.02</br>"
          ],
          [
           "</br>id: 2929</br>prediction: 0.19</br>shotType: 1.29</br></br>h_a: 0.0</br>situation: 1.0</br>lastAction: 14.0</br>minute: 41</br>distance: 4.588861943363718</br>angle: 76.94750555554026</br>_original_yhat_: 0.02</br>"
          ],
          [
           "</br>id: 2929</br>prediction: 0.19</br>shotType: 1.3199999999999998</br></br>h_a: 0.0</br>situation: 1.0</br>lastAction: 14.0</br>minute: 41</br>distance: 4.588861943363718</br>angle: 76.94750555554026</br>_original_yhat_: 0.02</br>"
          ],
          [
           "</br>id: 2929</br>prediction: 0.19</br>shotType: 1.3499999999999999</br></br>h_a: 0.0</br>situation: 1.0</br>lastAction: 14.0</br>minute: 41</br>distance: 4.588861943363718</br>angle: 76.94750555554026</br>_original_yhat_: 0.02</br>"
          ],
          [
           "</br>id: 2929</br>prediction: 0.19</br>shotType: 1.38</br></br>h_a: 0.0</br>situation: 1.0</br>lastAction: 14.0</br>minute: 41</br>distance: 4.588861943363718</br>angle: 76.94750555554026</br>_original_yhat_: 0.02</br>"
          ],
          [
           "</br>id: 2929</br>prediction: 0.19</br>shotType: 1.41</br></br>h_a: 0.0</br>situation: 1.0</br>lastAction: 14.0</br>minute: 41</br>distance: 4.588861943363718</br>angle: 76.94750555554026</br>_original_yhat_: 0.02</br>"
          ],
          [
           "</br>id: 2929</br>prediction: 0.19</br>shotType: 1.44</br></br>h_a: 0.0</br>situation: 1.0</br>lastAction: 14.0</br>minute: 41</br>distance: 4.588861943363718</br>angle: 76.94750555554026</br>_original_yhat_: 0.02</br>"
          ],
          [
           "</br>id: 2929</br>prediction: 0.19</br>shotType: 1.47</br></br>h_a: 0.0</br>situation: 1.0</br>lastAction: 14.0</br>minute: 41</br>distance: 4.588861943363718</br>angle: 76.94750555554026</br>_original_yhat_: 0.02</br>"
          ],
          [
           "</br>id: 2929</br>prediction: 0.19</br>shotType: 1.5</br></br>h_a: 0.0</br>situation: 1.0</br>lastAction: 14.0</br>minute: 41</br>distance: 4.588861943363718</br>angle: 76.94750555554026</br>_original_yhat_: 0.02</br>"
          ],
          [
           "</br>id: 2929</br>prediction: 0.22</br>shotType: 1.53</br></br>h_a: 0.0</br>situation: 1.0</br>lastAction: 14.0</br>minute: 41</br>distance: 4.588861943363718</br>angle: 76.94750555554026</br>_original_yhat_: 0.02</br>"
          ],
          [
           "</br>id: 2929</br>prediction: 0.22</br>shotType: 1.56</br></br>h_a: 0.0</br>situation: 1.0</br>lastAction: 14.0</br>minute: 41</br>distance: 4.588861943363718</br>angle: 76.94750555554026</br>_original_yhat_: 0.02</br>"
          ],
          [
           "</br>id: 2929</br>prediction: 0.22</br>shotType: 1.5899999999999999</br></br>h_a: 0.0</br>situation: 1.0</br>lastAction: 14.0</br>minute: 41</br>distance: 4.588861943363718</br>angle: 76.94750555554026</br>_original_yhat_: 0.02</br>"
          ],
          [
           "</br>id: 2929</br>prediction: 0.22</br>shotType: 1.6199999999999999</br></br>h_a: 0.0</br>situation: 1.0</br>lastAction: 14.0</br>minute: 41</br>distance: 4.588861943363718</br>angle: 76.94750555554026</br>_original_yhat_: 0.02</br>"
          ],
          [
           "</br>id: 2929</br>prediction: 0.22</br>shotType: 1.65</br></br>h_a: 0.0</br>situation: 1.0</br>lastAction: 14.0</br>minute: 41</br>distance: 4.588861943363718</br>angle: 76.94750555554026</br>_original_yhat_: 0.02</br>"
          ],
          [
           "</br>id: 2929</br>prediction: 0.22</br>shotType: 1.68</br></br>h_a: 0.0</br>situation: 1.0</br>lastAction: 14.0</br>minute: 41</br>distance: 4.588861943363718</br>angle: 76.94750555554026</br>_original_yhat_: 0.02</br>"
          ],
          [
           "</br>id: 2929</br>prediction: 0.22</br>shotType: 1.71</br></br>h_a: 0.0</br>situation: 1.0</br>lastAction: 14.0</br>minute: 41</br>distance: 4.588861943363718</br>angle: 76.94750555554026</br>_original_yhat_: 0.02</br>"
          ],
          [
           "</br>id: 2929</br>prediction: 0.22</br>shotType: 1.74</br></br>h_a: 0.0</br>situation: 1.0</br>lastAction: 14.0</br>minute: 41</br>distance: 4.588861943363718</br>angle: 76.94750555554026</br>_original_yhat_: 0.02</br>"
          ],
          [
           "</br>id: 2929</br>prediction: 0.22</br>shotType: 1.77</br></br>h_a: 0.0</br>situation: 1.0</br>lastAction: 14.0</br>minute: 41</br>distance: 4.588861943363718</br>angle: 76.94750555554026</br>_original_yhat_: 0.02</br>"
          ],
          [
           "</br>id: 2929</br>prediction: 0.22</br>shotType: 1.7999999999999998</br></br>h_a: 0.0</br>situation: 1.0</br>lastAction: 14.0</br>minute: 41</br>distance: 4.588861943363718</br>angle: 76.94750555554026</br>_original_yhat_: 0.02</br>"
          ],
          [
           "</br>id: 2929</br>prediction: 0.22</br>shotType: 1.8299999999999998</br></br>h_a: 0.0</br>situation: 1.0</br>lastAction: 14.0</br>minute: 41</br>distance: 4.588861943363718</br>angle: 76.94750555554026</br>_original_yhat_: 0.02</br>"
          ],
          [
           "</br>id: 2929</br>prediction: 0.22</br>shotType: 1.8599999999999999</br></br>h_a: 0.0</br>situation: 1.0</br>lastAction: 14.0</br>minute: 41</br>distance: 4.588861943363718</br>angle: 76.94750555554026</br>_original_yhat_: 0.02</br>"
          ],
          [
           "</br>id: 2929</br>prediction: 0.22</br>shotType: 1.89</br></br>h_a: 0.0</br>situation: 1.0</br>lastAction: 14.0</br>minute: 41</br>distance: 4.588861943363718</br>angle: 76.94750555554026</br>_original_yhat_: 0.02</br>"
          ],
          [
           "</br>id: 2929</br>prediction: 0.22</br>shotType: 1.92</br></br>h_a: 0.0</br>situation: 1.0</br>lastAction: 14.0</br>minute: 41</br>distance: 4.588861943363718</br>angle: 76.94750555554026</br>_original_yhat_: 0.02</br>"
          ],
          [
           "</br>id: 2929</br>prediction: 0.22</br>shotType: 1.95</br></br>h_a: 0.0</br>situation: 1.0</br>lastAction: 14.0</br>minute: 41</br>distance: 4.588861943363718</br>angle: 76.94750555554026</br>_original_yhat_: 0.02</br>"
          ],
          [
           "</br>id: 2929</br>prediction: 0.22</br>shotType: 1.98</br></br>h_a: 0.0</br>situation: 1.0</br>lastAction: 14.0</br>minute: 41</br>distance: 4.588861943363718</br>angle: 76.94750555554026</br>_original_yhat_: 0.02</br>"
          ],
          [
           "</br>id: 2929</br>prediction: 0.24</br>shotType: 2.01</br></br>h_a: 0.0</br>situation: 1.0</br>lastAction: 14.0</br>minute: 41</br>distance: 4.588861943363718</br>angle: 76.94750555554026</br>_original_yhat_: 0.02</br>"
          ],
          [
           "</br>id: 2929</br>prediction: 0.24</br>shotType: 2.04</br></br>h_a: 0.0</br>situation: 1.0</br>lastAction: 14.0</br>minute: 41</br>distance: 4.588861943363718</br>angle: 76.94750555554026</br>_original_yhat_: 0.02</br>"
          ],
          [
           "</br>id: 2929</br>prediction: 0.24</br>shotType: 2.07</br></br>h_a: 0.0</br>situation: 1.0</br>lastAction: 14.0</br>minute: 41</br>distance: 4.588861943363718</br>angle: 76.94750555554026</br>_original_yhat_: 0.02</br>"
          ],
          [
           "</br>id: 2929</br>prediction: 0.24</br>shotType: 2.1</br></br>h_a: 0.0</br>situation: 1.0</br>lastAction: 14.0</br>minute: 41</br>distance: 4.588861943363718</br>angle: 76.94750555554026</br>_original_yhat_: 0.02</br>"
          ],
          [
           "</br>id: 2929</br>prediction: 0.24</br>shotType: 2.13</br></br>h_a: 0.0</br>situation: 1.0</br>lastAction: 14.0</br>minute: 41</br>distance: 4.588861943363718</br>angle: 76.94750555554026</br>_original_yhat_: 0.02</br>"
          ],
          [
           "</br>id: 2929</br>prediction: 0.24</br>shotType: 2.16</br></br>h_a: 0.0</br>situation: 1.0</br>lastAction: 14.0</br>minute: 41</br>distance: 4.588861943363718</br>angle: 76.94750555554026</br>_original_yhat_: 0.02</br>"
          ],
          [
           "</br>id: 2929</br>prediction: 0.24</br>shotType: 2.19</br></br>h_a: 0.0</br>situation: 1.0</br>lastAction: 14.0</br>minute: 41</br>distance: 4.588861943363718</br>angle: 76.94750555554026</br>_original_yhat_: 0.02</br>"
          ],
          [
           "</br>id: 2929</br>prediction: 0.24</br>shotType: 2.2199999999999998</br></br>h_a: 0.0</br>situation: 1.0</br>lastAction: 14.0</br>minute: 41</br>distance: 4.588861943363718</br>angle: 76.94750555554026</br>_original_yhat_: 0.02</br>"
          ],
          [
           "</br>id: 2929</br>prediction: 0.24</br>shotType: 2.25</br></br>h_a: 0.0</br>situation: 1.0</br>lastAction: 14.0</br>minute: 41</br>distance: 4.588861943363718</br>angle: 76.94750555554026</br>_original_yhat_: 0.02</br>"
          ],
          [
           "</br>id: 2929</br>prediction: 0.24</br>shotType: 2.28</br></br>h_a: 0.0</br>situation: 1.0</br>lastAction: 14.0</br>minute: 41</br>distance: 4.588861943363718</br>angle: 76.94750555554026</br>_original_yhat_: 0.02</br>"
          ],
          [
           "</br>id: 2929</br>prediction: 0.24</br>shotType: 2.31</br></br>h_a: 0.0</br>situation: 1.0</br>lastAction: 14.0</br>minute: 41</br>distance: 4.588861943363718</br>angle: 76.94750555554026</br>_original_yhat_: 0.02</br>"
          ],
          [
           "</br>id: 2929</br>prediction: 0.24</br>shotType: 2.34</br></br>h_a: 0.0</br>situation: 1.0</br>lastAction: 14.0</br>minute: 41</br>distance: 4.588861943363718</br>angle: 76.94750555554026</br>_original_yhat_: 0.02</br>"
          ],
          [
           "</br>id: 2929</br>prediction: 0.24</br>shotType: 2.37</br></br>h_a: 0.0</br>situation: 1.0</br>lastAction: 14.0</br>minute: 41</br>distance: 4.588861943363718</br>angle: 76.94750555554026</br>_original_yhat_: 0.02</br>"
          ],
          [
           "</br>id: 2929</br>prediction: 0.24</br>shotType: 2.4</br></br>h_a: 0.0</br>situation: 1.0</br>lastAction: 14.0</br>minute: 41</br>distance: 4.588861943363718</br>angle: 76.94750555554026</br>_original_yhat_: 0.02</br>"
          ],
          [
           "</br>id: 2929</br>prediction: 0.24</br>shotType: 2.4299999999999997</br></br>h_a: 0.0</br>situation: 1.0</br>lastAction: 14.0</br>minute: 41</br>distance: 4.588861943363718</br>angle: 76.94750555554026</br>_original_yhat_: 0.02</br>"
          ],
          [
           "</br>id: 2929</br>prediction: 0.24</br>shotType: 2.46</br></br>h_a: 0.0</br>situation: 1.0</br>lastAction: 14.0</br>minute: 41</br>distance: 4.588861943363718</br>angle: 76.94750555554026</br>_original_yhat_: 0.02</br>"
          ],
          [
           "</br>id: 2929</br>prediction: 0.24</br>shotType: 2.4899999999999998</br></br>h_a: 0.0</br>situation: 1.0</br>lastAction: 14.0</br>minute: 41</br>distance: 4.588861943363718</br>angle: 76.94750555554026</br>_original_yhat_: 0.02</br>"
          ],
          [
           "</br>id: 2929</br>prediction: 0.24</br>shotType: 2.52</br></br>h_a: 0.0</br>situation: 1.0</br>lastAction: 14.0</br>minute: 41</br>distance: 4.588861943363718</br>angle: 76.94750555554026</br>_original_yhat_: 0.02</br>"
          ],
          [
           "</br>id: 2929</br>prediction: 0.24</br>shotType: 2.55</br></br>h_a: 0.0</br>situation: 1.0</br>lastAction: 14.0</br>minute: 41</br>distance: 4.588861943363718</br>angle: 76.94750555554026</br>_original_yhat_: 0.02</br>"
          ],
          [
           "</br>id: 2929</br>prediction: 0.24</br>shotType: 2.58</br></br>h_a: 0.0</br>situation: 1.0</br>lastAction: 14.0</br>minute: 41</br>distance: 4.588861943363718</br>angle: 76.94750555554026</br>_original_yhat_: 0.02</br>"
          ],
          [
           "</br>id: 2929</br>prediction: 0.24</br>shotType: 2.61</br></br>h_a: 0.0</br>situation: 1.0</br>lastAction: 14.0</br>minute: 41</br>distance: 4.588861943363718</br>angle: 76.94750555554026</br>_original_yhat_: 0.02</br>"
          ],
          [
           "</br>id: 2929</br>prediction: 0.24</br>shotType: 2.6399999999999997</br></br>h_a: 0.0</br>situation: 1.0</br>lastAction: 14.0</br>minute: 41</br>distance: 4.588861943363718</br>angle: 76.94750555554026</br>_original_yhat_: 0.02</br>"
          ],
          [
           "</br>id: 2929</br>prediction: 0.24</br>shotType: 2.67</br></br>h_a: 0.0</br>situation: 1.0</br>lastAction: 14.0</br>minute: 41</br>distance: 4.588861943363718</br>angle: 76.94750555554026</br>_original_yhat_: 0.02</br>"
          ],
          [
           "</br>id: 2929</br>prediction: 0.24</br>shotType: 2.6999999999999997</br></br>h_a: 0.0</br>situation: 1.0</br>lastAction: 14.0</br>minute: 41</br>distance: 4.588861943363718</br>angle: 76.94750555554026</br>_original_yhat_: 0.02</br>"
          ],
          [
           "</br>id: 2929</br>prediction: 0.24</br>shotType: 2.73</br></br>h_a: 0.0</br>situation: 1.0</br>lastAction: 14.0</br>minute: 41</br>distance: 4.588861943363718</br>angle: 76.94750555554026</br>_original_yhat_: 0.02</br>"
          ],
          [
           "</br>id: 2929</br>prediction: 0.24</br>shotType: 2.76</br></br>h_a: 0.0</br>situation: 1.0</br>lastAction: 14.0</br>minute: 41</br>distance: 4.588861943363718</br>angle: 76.94750555554026</br>_original_yhat_: 0.02</br>"
          ],
          [
           "</br>id: 2929</br>prediction: 0.24</br>shotType: 2.79</br></br>h_a: 0.0</br>situation: 1.0</br>lastAction: 14.0</br>minute: 41</br>distance: 4.588861943363718</br>angle: 76.94750555554026</br>_original_yhat_: 0.02</br>"
          ],
          [
           "</br>id: 2929</br>prediction: 0.24</br>shotType: 2.82</br></br>h_a: 0.0</br>situation: 1.0</br>lastAction: 14.0</br>minute: 41</br>distance: 4.588861943363718</br>angle: 76.94750555554026</br>_original_yhat_: 0.02</br>"
          ],
          [
           "</br>id: 2929</br>prediction: 0.24</br>shotType: 2.85</br></br>h_a: 0.0</br>situation: 1.0</br>lastAction: 14.0</br>minute: 41</br>distance: 4.588861943363718</br>angle: 76.94750555554026</br>_original_yhat_: 0.02</br>"
          ],
          [
           "</br>id: 2929</br>prediction: 0.24</br>shotType: 2.88</br></br>h_a: 0.0</br>situation: 1.0</br>lastAction: 14.0</br>minute: 41</br>distance: 4.588861943363718</br>angle: 76.94750555554026</br>_original_yhat_: 0.02</br>"
          ],
          [
           "</br>id: 2929</br>prediction: 0.24</br>shotType: 2.9099999999999997</br></br>h_a: 0.0</br>situation: 1.0</br>lastAction: 14.0</br>minute: 41</br>distance: 4.588861943363718</br>angle: 76.94750555554026</br>_original_yhat_: 0.02</br>"
          ],
          [
           "</br>id: 2929</br>prediction: 0.24</br>shotType: 2.94</br></br>h_a: 0.0</br>situation: 1.0</br>lastAction: 14.0</br>minute: 41</br>distance: 4.588861943363718</br>angle: 76.94750555554026</br>_original_yhat_: 0.02</br>"
          ],
          [
           "</br>id: 2929</br>prediction: 0.24</br>shotType: 2.9699999999999998</br></br>h_a: 0.0</br>situation: 1.0</br>lastAction: 14.0</br>minute: 41</br>distance: 4.588861943363718</br>angle: 76.94750555554026</br>_original_yhat_: 0.02</br>"
          ],
          [
           "</br>id: 2929</br>prediction: 0.24</br>shotType: 3.0</br></br>h_a: 0.0</br>situation: 1.0</br>lastAction: 14.0</br>minute: 41</br>distance: 4.588861943363718</br>angle: 76.94750555554026</br>_original_yhat_: 0.02</br>"
          ]
         ],
         "hovertemplate": "%{customdata[0]}<extra></extra>",
         "legendgroup": "RandomForestClassifier",
         "line": {
          "color": "#f05a71",
          "dash": "solid",
          "width": 2
         },
         "marker": {
          "symbol": "circle"
         },
         "mode": "lines",
         "name": "RandomForestClassifier",
         "opacity": 1,
         "showlegend": false,
         "type": "scattergl",
         "x": [
          0,
          0.03,
          0.06,
          0.09,
          0.12,
          0.15,
          0.18,
          0.21,
          0.24,
          0.27,
          0.3,
          0.32999999999999996,
          0.36,
          0.39,
          0.42,
          0.44999999999999996,
          0.48,
          0.51,
          0.54,
          0.57,
          0.6,
          0.63,
          0.6599999999999999,
          0.69,
          0.72,
          0.75,
          0.78,
          0.8099999999999999,
          0.84,
          0.87,
          0.8999999999999999,
          0.9299999999999999,
          0.96,
          0.99,
          1.02,
          1.05,
          1.08,
          1.1099999999999999,
          1.14,
          1.17,
          1.2,
          1.23,
          1.26,
          1.29,
          1.3199999999999998,
          1.3499999999999999,
          1.38,
          1.41,
          1.44,
          1.47,
          1.5,
          1.53,
          1.56,
          1.5899999999999999,
          1.6199999999999999,
          1.65,
          1.68,
          1.71,
          1.74,
          1.77,
          1.7999999999999998,
          1.8299999999999998,
          1.8599999999999999,
          1.89,
          1.92,
          1.95,
          1.98,
          2.01,
          2.04,
          2.07,
          2.1,
          2.13,
          2.16,
          2.19,
          2.2199999999999998,
          2.25,
          2.28,
          2.31,
          2.34,
          2.37,
          2.4,
          2.4299999999999997,
          2.46,
          2.4899999999999998,
          2.52,
          2.55,
          2.58,
          2.61,
          2.6399999999999997,
          2.67,
          2.6999999999999997,
          2.73,
          2.76,
          2.79,
          2.82,
          2.85,
          2.88,
          2.9099999999999997,
          2.94,
          2.9699999999999998,
          3
         ],
         "xaxis": "x5",
         "y": [
          0.02,
          0.02,
          0.02,
          0.02,
          0.02,
          0.02,
          0.02,
          0.02,
          0.02,
          0.02,
          0.02,
          0.02,
          0.02,
          0.02,
          0.02,
          0.02,
          0.02,
          0.19,
          0.19,
          0.19,
          0.19,
          0.19,
          0.19,
          0.19,
          0.19,
          0.19,
          0.19,
          0.19,
          0.19,
          0.19,
          0.19,
          0.19,
          0.19,
          0.19,
          0.19,
          0.19,
          0.19,
          0.19,
          0.19,
          0.19,
          0.19,
          0.19,
          0.19,
          0.19,
          0.19,
          0.19,
          0.19,
          0.19,
          0.19,
          0.19,
          0.19,
          0.22,
          0.22,
          0.22,
          0.22,
          0.22,
          0.22,
          0.22,
          0.22,
          0.22,
          0.22,
          0.22,
          0.22,
          0.22,
          0.22,
          0.22,
          0.22,
          0.24,
          0.24,
          0.24,
          0.24,
          0.24,
          0.24,
          0.24,
          0.24,
          0.24,
          0.24,
          0.24,
          0.24,
          0.24,
          0.24,
          0.24,
          0.24,
          0.24,
          0.24,
          0.24,
          0.24,
          0.24,
          0.24,
          0.24,
          0.24,
          0.24,
          0.24,
          0.24,
          0.24,
          0.24,
          0.24,
          0.24,
          0.24,
          0.24,
          0.24
         ],
         "yaxis": "y5"
        },
        {
         "customdata": [
          [
           "</br>id: 2929</br>prediction: 0.04</br>lastAction: 0.0</br></br>h_a: 0.0</br>situation: 1.0</br>shotType: 0.0</br>minute: 41</br>distance: 4.588861943363718</br>angle: 76.94750555554026</br>_original_yhat_: 0.02</br>"
          ],
          [
           "</br>id: 2929</br>prediction: 0.04</br>lastAction: 0.27</br></br>h_a: 0.0</br>situation: 1.0</br>shotType: 0.0</br>minute: 41</br>distance: 4.588861943363718</br>angle: 76.94750555554026</br>_original_yhat_: 0.02</br>"
          ],
          [
           "</br>id: 2929</br>prediction: 0.04</br>lastAction: 0.54</br></br>h_a: 0.0</br>situation: 1.0</br>shotType: 0.0</br>minute: 41</br>distance: 4.588861943363718</br>angle: 76.94750555554026</br>_original_yhat_: 0.02</br>"
          ],
          [
           "</br>id: 2929</br>prediction: 0.04</br>lastAction: 0.81</br></br>h_a: 0.0</br>situation: 1.0</br>shotType: 0.0</br>minute: 41</br>distance: 4.588861943363718</br>angle: 76.94750555554026</br>_original_yhat_: 0.02</br>"
          ],
          [
           "</br>id: 2929</br>prediction: 0.06</br>lastAction: 1.08</br></br>h_a: 0.0</br>situation: 1.0</br>shotType: 0.0</br>minute: 41</br>distance: 4.588861943363718</br>angle: 76.94750555554026</br>_original_yhat_: 0.02</br>"
          ],
          [
           "</br>id: 2929</br>prediction: 0.06</br>lastAction: 1.35</br></br>h_a: 0.0</br>situation: 1.0</br>shotType: 0.0</br>minute: 41</br>distance: 4.588861943363718</br>angle: 76.94750555554026</br>_original_yhat_: 0.02</br>"
          ],
          [
           "</br>id: 2929</br>prediction: 0.09</br>lastAction: 1.62</br></br>h_a: 0.0</br>situation: 1.0</br>shotType: 0.0</br>minute: 41</br>distance: 4.588861943363718</br>angle: 76.94750555554026</br>_original_yhat_: 0.02</br>"
          ],
          [
           "</br>id: 2929</br>prediction: 0.09</br>lastAction: 1.8900000000000001</br></br>h_a: 0.0</br>situation: 1.0</br>shotType: 0.0</br>minute: 41</br>distance: 4.588861943363718</br>angle: 76.94750555554026</br>_original_yhat_: 0.02</br>"
          ],
          [
           "</br>id: 2929</br>prediction: 0.09</br>lastAction: 2.16</br></br>h_a: 0.0</br>situation: 1.0</br>shotType: 0.0</br>minute: 41</br>distance: 4.588861943363718</br>angle: 76.94750555554026</br>_original_yhat_: 0.02</br>"
          ],
          [
           "</br>id: 2929</br>prediction: 0.09</br>lastAction: 2.43</br></br>h_a: 0.0</br>situation: 1.0</br>shotType: 0.0</br>minute: 41</br>distance: 4.588861943363718</br>angle: 76.94750555554026</br>_original_yhat_: 0.02</br>"
          ],
          [
           "</br>id: 2929</br>prediction: 0.09</br>lastAction: 2.7</br></br>h_a: 0.0</br>situation: 1.0</br>shotType: 0.0</br>minute: 41</br>distance: 4.588861943363718</br>angle: 76.94750555554026</br>_original_yhat_: 0.02</br>"
          ],
          [
           "</br>id: 2929</br>prediction: 0.09</br>lastAction: 2.97</br></br>h_a: 0.0</br>situation: 1.0</br>shotType: 0.0</br>minute: 41</br>distance: 4.588861943363718</br>angle: 76.94750555554026</br>_original_yhat_: 0.02</br>"
          ],
          [
           "</br>id: 2929</br>prediction: 0.1</br>lastAction: 3.24</br></br>h_a: 0.0</br>situation: 1.0</br>shotType: 0.0</br>minute: 41</br>distance: 4.588861943363718</br>angle: 76.94750555554026</br>_original_yhat_: 0.02</br>"
          ],
          [
           "</br>id: 2929</br>prediction: 0.1</br>lastAction: 3.5100000000000002</br></br>h_a: 0.0</br>situation: 1.0</br>shotType: 0.0</br>minute: 41</br>distance: 4.588861943363718</br>angle: 76.94750555554026</br>_original_yhat_: 0.02</br>"
          ],
          [
           "</br>id: 2929</br>prediction: 0.1</br>lastAction: 3.7800000000000002</br></br>h_a: 0.0</br>situation: 1.0</br>shotType: 0.0</br>minute: 41</br>distance: 4.588861943363718</br>angle: 76.94750555554026</br>_original_yhat_: 0.02</br>"
          ],
          [
           "</br>id: 2929</br>prediction: 0.1</br>lastAction: 4.050000000000001</br></br>h_a: 0.0</br>situation: 1.0</br>shotType: 0.0</br>minute: 41</br>distance: 4.588861943363718</br>angle: 76.94750555554026</br>_original_yhat_: 0.02</br>"
          ],
          [
           "</br>id: 2929</br>prediction: 0.1</br>lastAction: 4.32</br></br>h_a: 0.0</br>situation: 1.0</br>shotType: 0.0</br>minute: 41</br>distance: 4.588861943363718</br>angle: 76.94750555554026</br>_original_yhat_: 0.02</br>"
          ],
          [
           "</br>id: 2929</br>prediction: 0.09</br>lastAction: 4.59</br></br>h_a: 0.0</br>situation: 1.0</br>shotType: 0.0</br>minute: 41</br>distance: 4.588861943363718</br>angle: 76.94750555554026</br>_original_yhat_: 0.02</br>"
          ],
          [
           "</br>id: 2929</br>prediction: 0.09</br>lastAction: 4.86</br></br>h_a: 0.0</br>situation: 1.0</br>shotType: 0.0</br>minute: 41</br>distance: 4.588861943363718</br>angle: 76.94750555554026</br>_original_yhat_: 0.02</br>"
          ],
          [
           "</br>id: 2929</br>prediction: 0.09</br>lastAction: 5.130000000000001</br></br>h_a: 0.0</br>situation: 1.0</br>shotType: 0.0</br>minute: 41</br>distance: 4.588861943363718</br>angle: 76.94750555554026</br>_original_yhat_: 0.02</br>"
          ],
          [
           "</br>id: 2929</br>prediction: 0.09</br>lastAction: 5.4</br></br>h_a: 0.0</br>situation: 1.0</br>shotType: 0.0</br>minute: 41</br>distance: 4.588861943363718</br>angle: 76.94750555554026</br>_original_yhat_: 0.02</br>"
          ],
          [
           "</br>id: 2929</br>prediction: 0.1</br>lastAction: 5.67</br></br>h_a: 0.0</br>situation: 1.0</br>shotType: 0.0</br>minute: 41</br>distance: 4.588861943363718</br>angle: 76.94750555554026</br>_original_yhat_: 0.02</br>"
          ],
          [
           "</br>id: 2929</br>prediction: 0.1</br>lastAction: 5.94</br></br>h_a: 0.0</br>situation: 1.0</br>shotType: 0.0</br>minute: 41</br>distance: 4.588861943363718</br>angle: 76.94750555554026</br>_original_yhat_: 0.02</br>"
          ],
          [
           "</br>id: 2929</br>prediction: 0.1</br>lastAction: 6.210000000000001</br></br>h_a: 0.0</br>situation: 1.0</br>shotType: 0.0</br>minute: 41</br>distance: 4.588861943363718</br>angle: 76.94750555554026</br>_original_yhat_: 0.02</br>"
          ],
          [
           "</br>id: 2929</br>prediction: 0.1</br>lastAction: 6.48</br></br>h_a: 0.0</br>situation: 1.0</br>shotType: 0.0</br>minute: 41</br>distance: 4.588861943363718</br>angle: 76.94750555554026</br>_original_yhat_: 0.02</br>"
          ],
          [
           "</br>id: 2929</br>prediction: 0.07</br>lastAction: 6.75</br></br>h_a: 0.0</br>situation: 1.0</br>shotType: 0.0</br>minute: 41</br>distance: 4.588861943363718</br>angle: 76.94750555554026</br>_original_yhat_: 0.02</br>"
          ],
          [
           "</br>id: 2929</br>prediction: 0.06</br>lastAction: 7.0200000000000005</br></br>h_a: 0.0</br>situation: 1.0</br>shotType: 0.0</br>minute: 41</br>distance: 4.588861943363718</br>angle: 76.94750555554026</br>_original_yhat_: 0.02</br>"
          ],
          [
           "</br>id: 2929</br>prediction: 0.06</br>lastAction: 7.290000000000001</br></br>h_a: 0.0</br>situation: 1.0</br>shotType: 0.0</br>minute: 41</br>distance: 4.588861943363718</br>angle: 76.94750555554026</br>_original_yhat_: 0.02</br>"
          ],
          [
           "</br>id: 2929</br>prediction: 0.02</br>lastAction: 7.5600000000000005</br></br>h_a: 0.0</br>situation: 1.0</br>shotType: 0.0</br>minute: 41</br>distance: 4.588861943363718</br>angle: 76.94750555554026</br>_original_yhat_: 0.02</br>"
          ],
          [
           "</br>id: 2929</br>prediction: 0.02</br>lastAction: 7.83</br></br>h_a: 0.0</br>situation: 1.0</br>shotType: 0.0</br>minute: 41</br>distance: 4.588861943363718</br>angle: 76.94750555554026</br>_original_yhat_: 0.02</br>"
          ],
          [
           "</br>id: 2929</br>prediction: 0.02</br>lastAction: 8.100000000000001</br></br>h_a: 0.0</br>situation: 1.0</br>shotType: 0.0</br>minute: 41</br>distance: 4.588861943363718</br>angle: 76.94750555554026</br>_original_yhat_: 0.02</br>"
          ],
          [
           "</br>id: 2929</br>prediction: 0.02</br>lastAction: 8.370000000000001</br></br>h_a: 0.0</br>situation: 1.0</br>shotType: 0.0</br>minute: 41</br>distance: 4.588861943363718</br>angle: 76.94750555554026</br>_original_yhat_: 0.02</br>"
          ],
          [
           "</br>id: 2929</br>prediction: 0.01</br>lastAction: 8.64</br></br>h_a: 0.0</br>situation: 1.0</br>shotType: 0.0</br>minute: 41</br>distance: 4.588861943363718</br>angle: 76.94750555554026</br>_original_yhat_: 0.02</br>"
          ],
          [
           "</br>id: 2929</br>prediction: 0.01</br>lastAction: 8.91</br></br>h_a: 0.0</br>situation: 1.0</br>shotType: 0.0</br>minute: 41</br>distance: 4.588861943363718</br>angle: 76.94750555554026</br>_original_yhat_: 0.02</br>"
          ],
          [
           "</br>id: 2929</br>prediction: 0.01</br>lastAction: 9.18</br></br>h_a: 0.0</br>situation: 1.0</br>shotType: 0.0</br>minute: 41</br>distance: 4.588861943363718</br>angle: 76.94750555554026</br>_original_yhat_: 0.02</br>"
          ],
          [
           "</br>id: 2929</br>prediction: 0.01</br>lastAction: 9.450000000000001</br></br>h_a: 0.0</br>situation: 1.0</br>shotType: 0.0</br>minute: 41</br>distance: 4.588861943363718</br>angle: 76.94750555554026</br>_original_yhat_: 0.02</br>"
          ],
          [
           "</br>id: 2929</br>prediction: 0.01</br>lastAction: 9.72</br></br>h_a: 0.0</br>situation: 1.0</br>shotType: 0.0</br>minute: 41</br>distance: 4.588861943363718</br>angle: 76.94750555554026</br>_original_yhat_: 0.02</br>"
          ],
          [
           "</br>id: 2929</br>prediction: 0.01</br>lastAction: 9.99</br></br>h_a: 0.0</br>situation: 1.0</br>shotType: 0.0</br>minute: 41</br>distance: 4.588861943363718</br>angle: 76.94750555554026</br>_original_yhat_: 0.02</br>"
          ],
          [
           "</br>id: 2929</br>prediction: 0.01</br>lastAction: 10.260000000000002</br></br>h_a: 0.0</br>situation: 1.0</br>shotType: 0.0</br>minute: 41</br>distance: 4.588861943363718</br>angle: 76.94750555554026</br>_original_yhat_: 0.02</br>"
          ],
          [
           "</br>id: 2929</br>prediction: 0.01</br>lastAction: 10.530000000000001</br></br>h_a: 0.0</br>situation: 1.0</br>shotType: 0.0</br>minute: 41</br>distance: 4.588861943363718</br>angle: 76.94750555554026</br>_original_yhat_: 0.02</br>"
          ],
          [
           "</br>id: 2929</br>prediction: 0.01</br>lastAction: 10.8</br></br>h_a: 0.0</br>situation: 1.0</br>shotType: 0.0</br>minute: 41</br>distance: 4.588861943363718</br>angle: 76.94750555554026</br>_original_yhat_: 0.02</br>"
          ],
          [
           "</br>id: 2929</br>prediction: 0.01</br>lastAction: 11.07</br></br>h_a: 0.0</br>situation: 1.0</br>shotType: 0.0</br>minute: 41</br>distance: 4.588861943363718</br>angle: 76.94750555554026</br>_original_yhat_: 0.02</br>"
          ],
          [
           "</br>id: 2929</br>prediction: 0.01</br>lastAction: 11.34</br></br>h_a: 0.0</br>situation: 1.0</br>shotType: 0.0</br>minute: 41</br>distance: 4.588861943363718</br>angle: 76.94750555554026</br>_original_yhat_: 0.02</br>"
          ],
          [
           "</br>id: 2929</br>prediction: 0.02</br>lastAction: 11.610000000000001</br></br>h_a: 0.0</br>situation: 1.0</br>shotType: 0.0</br>minute: 41</br>distance: 4.588861943363718</br>angle: 76.94750555554026</br>_original_yhat_: 0.02</br>"
          ],
          [
           "</br>id: 2929</br>prediction: 0.02</br>lastAction: 11.88</br></br>h_a: 0.0</br>situation: 1.0</br>shotType: 0.0</br>minute: 41</br>distance: 4.588861943363718</br>angle: 76.94750555554026</br>_original_yhat_: 0.02</br>"
          ],
          [
           "</br>id: 2929</br>prediction: 0.02</br>lastAction: 12.15</br></br>h_a: 0.0</br>situation: 1.0</br>shotType: 0.0</br>minute: 41</br>distance: 4.588861943363718</br>angle: 76.94750555554026</br>_original_yhat_: 0.02</br>"
          ],
          [
           "</br>id: 2929</br>prediction: 0.02</br>lastAction: 12.420000000000002</br></br>h_a: 0.0</br>situation: 1.0</br>shotType: 0.0</br>minute: 41</br>distance: 4.588861943363718</br>angle: 76.94750555554026</br>_original_yhat_: 0.02</br>"
          ],
          [
           "</br>id: 2929</br>prediction: 0.02</br>lastAction: 12.690000000000001</br></br>h_a: 0.0</br>situation: 1.0</br>shotType: 0.0</br>minute: 41</br>distance: 4.588861943363718</br>angle: 76.94750555554026</br>_original_yhat_: 0.02</br>"
          ],
          [
           "</br>id: 2929</br>prediction: 0.02</br>lastAction: 12.96</br></br>h_a: 0.0</br>situation: 1.0</br>shotType: 0.0</br>minute: 41</br>distance: 4.588861943363718</br>angle: 76.94750555554026</br>_original_yhat_: 0.02</br>"
          ],
          [
           "</br>id: 2929</br>prediction: 0.02</br>lastAction: 13.23</br></br>h_a: 0.0</br>situation: 1.0</br>shotType: 0.0</br>minute: 41</br>distance: 4.588861943363718</br>angle: 76.94750555554026</br>_original_yhat_: 0.02</br>"
          ],
          [
           "</br>id: 2929</br>prediction: 0.02</br>lastAction: 13.5</br></br>h_a: 0.0</br>situation: 1.0</br>shotType: 0.0</br>minute: 41</br>distance: 4.588861943363718</br>angle: 76.94750555554026</br>_original_yhat_: 0.02</br>"
          ],
          [
           "</br>id: 2929</br>prediction: 0.02</br>lastAction: 13.770000000000001</br></br>h_a: 0.0</br>situation: 1.0</br>shotType: 0.0</br>minute: 41</br>distance: 4.588861943363718</br>angle: 76.94750555554026</br>_original_yhat_: 0.02</br>"
          ],
          [
           "</br>id: 2929</br>prediction: 0.02</br>lastAction: 14.0</br></br>h_a: 0.0</br>situation: 1.0</br>shotType: 0.0</br>minute: 41</br>distance: 4.588861943363718</br>angle: 76.94750555554026</br>_original_yhat_: 0.02</br>"
          ],
          [
           "</br>id: 2929</br>prediction: 0.02</br>lastAction: 14.040000000000001</br></br>h_a: 0.0</br>situation: 1.0</br>shotType: 0.0</br>minute: 41</br>distance: 4.588861943363718</br>angle: 76.94750555554026</br>_original_yhat_: 0.02</br>"
          ],
          [
           "</br>id: 2929</br>prediction: 0.02</br>lastAction: 14.31</br></br>h_a: 0.0</br>situation: 1.0</br>shotType: 0.0</br>minute: 41</br>distance: 4.588861943363718</br>angle: 76.94750555554026</br>_original_yhat_: 0.02</br>"
          ],
          [
           "</br>id: 2929</br>prediction: 0.02</br>lastAction: 14.580000000000002</br></br>h_a: 0.0</br>situation: 1.0</br>shotType: 0.0</br>minute: 41</br>distance: 4.588861943363718</br>angle: 76.94750555554026</br>_original_yhat_: 0.02</br>"
          ],
          [
           "</br>id: 2929</br>prediction: 0.02</br>lastAction: 14.850000000000001</br></br>h_a: 0.0</br>situation: 1.0</br>shotType: 0.0</br>minute: 41</br>distance: 4.588861943363718</br>angle: 76.94750555554026</br>_original_yhat_: 0.02</br>"
          ],
          [
           "</br>id: 2929</br>prediction: 0.03</br>lastAction: 15.120000000000001</br></br>h_a: 0.0</br>situation: 1.0</br>shotType: 0.0</br>minute: 41</br>distance: 4.588861943363718</br>angle: 76.94750555554026</br>_original_yhat_: 0.02</br>"
          ],
          [
           "</br>id: 2929</br>prediction: 0.03</br>lastAction: 15.39</br></br>h_a: 0.0</br>situation: 1.0</br>shotType: 0.0</br>minute: 41</br>distance: 4.588861943363718</br>angle: 76.94750555554026</br>_original_yhat_: 0.02</br>"
          ],
          [
           "</br>id: 2929</br>prediction: 0.03</br>lastAction: 15.66</br></br>h_a: 0.0</br>situation: 1.0</br>shotType: 0.0</br>minute: 41</br>distance: 4.588861943363718</br>angle: 76.94750555554026</br>_original_yhat_: 0.02</br>"
          ],
          [
           "</br>id: 2929</br>prediction: 0.03</br>lastAction: 15.930000000000001</br></br>h_a: 0.0</br>situation: 1.0</br>shotType: 0.0</br>minute: 41</br>distance: 4.588861943363718</br>angle: 76.94750555554026</br>_original_yhat_: 0.02</br>"
          ],
          [
           "</br>id: 2929</br>prediction: 0.02</br>lastAction: 16.200000000000003</br></br>h_a: 0.0</br>situation: 1.0</br>shotType: 0.0</br>minute: 41</br>distance: 4.588861943363718</br>angle: 76.94750555554026</br>_original_yhat_: 0.02</br>"
          ],
          [
           "</br>id: 2929</br>prediction: 0.02</br>lastAction: 16.470000000000002</br></br>h_a: 0.0</br>situation: 1.0</br>shotType: 0.0</br>minute: 41</br>distance: 4.588861943363718</br>angle: 76.94750555554026</br>_original_yhat_: 0.02</br>"
          ],
          [
           "</br>id: 2929</br>prediction: 0.02</br>lastAction: 16.740000000000002</br></br>h_a: 0.0</br>situation: 1.0</br>shotType: 0.0</br>minute: 41</br>distance: 4.588861943363718</br>angle: 76.94750555554026</br>_original_yhat_: 0.02</br>"
          ],
          [
           "</br>id: 2929</br>prediction: 0.02</br>lastAction: 17.01</br></br>h_a: 0.0</br>situation: 1.0</br>shotType: 0.0</br>minute: 41</br>distance: 4.588861943363718</br>angle: 76.94750555554026</br>_original_yhat_: 0.02</br>"
          ],
          [
           "</br>id: 2929</br>prediction: 0.02</br>lastAction: 17.28</br></br>h_a: 0.0</br>situation: 1.0</br>shotType: 0.0</br>minute: 41</br>distance: 4.588861943363718</br>angle: 76.94750555554026</br>_original_yhat_: 0.02</br>"
          ],
          [
           "</br>id: 2929</br>prediction: 0.03</br>lastAction: 17.55</br></br>h_a: 0.0</br>situation: 1.0</br>shotType: 0.0</br>minute: 41</br>distance: 4.588861943363718</br>angle: 76.94750555554026</br>_original_yhat_: 0.02</br>"
          ],
          [
           "</br>id: 2929</br>prediction: 0.03</br>lastAction: 17.82</br></br>h_a: 0.0</br>situation: 1.0</br>shotType: 0.0</br>minute: 41</br>distance: 4.588861943363718</br>angle: 76.94750555554026</br>_original_yhat_: 0.02</br>"
          ],
          [
           "</br>id: 2929</br>prediction: 0.03</br>lastAction: 18.09</br></br>h_a: 0.0</br>situation: 1.0</br>shotType: 0.0</br>minute: 41</br>distance: 4.588861943363718</br>angle: 76.94750555554026</br>_original_yhat_: 0.02</br>"
          ],
          [
           "</br>id: 2929</br>prediction: 0.03</br>lastAction: 18.36</br></br>h_a: 0.0</br>situation: 1.0</br>shotType: 0.0</br>minute: 41</br>distance: 4.588861943363718</br>angle: 76.94750555554026</br>_original_yhat_: 0.02</br>"
          ],
          [
           "</br>id: 2929</br>prediction: 0.03</br>lastAction: 18.630000000000003</br></br>h_a: 0.0</br>situation: 1.0</br>shotType: 0.0</br>minute: 41</br>distance: 4.588861943363718</br>angle: 76.94750555554026</br>_original_yhat_: 0.02</br>"
          ],
          [
           "</br>id: 2929</br>prediction: 0.03</br>lastAction: 18.900000000000002</br></br>h_a: 0.0</br>situation: 1.0</br>shotType: 0.0</br>minute: 41</br>distance: 4.588861943363718</br>angle: 76.94750555554026</br>_original_yhat_: 0.02</br>"
          ],
          [
           "</br>id: 2929</br>prediction: 0.37</br>lastAction: 19.17</br></br>h_a: 0.0</br>situation: 1.0</br>shotType: 0.0</br>minute: 41</br>distance: 4.588861943363718</br>angle: 76.94750555554026</br>_original_yhat_: 0.02</br>"
          ],
          [
           "</br>id: 2929</br>prediction: 0.37</br>lastAction: 19.44</br></br>h_a: 0.0</br>situation: 1.0</br>shotType: 0.0</br>minute: 41</br>distance: 4.588861943363718</br>angle: 76.94750555554026</br>_original_yhat_: 0.02</br>"
          ],
          [
           "</br>id: 2929</br>prediction: 0.37</br>lastAction: 19.71</br></br>h_a: 0.0</br>situation: 1.0</br>shotType: 0.0</br>minute: 41</br>distance: 4.588861943363718</br>angle: 76.94750555554026</br>_original_yhat_: 0.02</br>"
          ],
          [
           "</br>id: 2929</br>prediction: 0.37</br>lastAction: 19.98</br></br>h_a: 0.0</br>situation: 1.0</br>shotType: 0.0</br>minute: 41</br>distance: 4.588861943363718</br>angle: 76.94750555554026</br>_original_yhat_: 0.02</br>"
          ],
          [
           "</br>id: 2929</br>prediction: 0.37</br>lastAction: 20.25</br></br>h_a: 0.0</br>situation: 1.0</br>shotType: 0.0</br>minute: 41</br>distance: 4.588861943363718</br>angle: 76.94750555554026</br>_original_yhat_: 0.02</br>"
          ],
          [
           "</br>id: 2929</br>prediction: 0.41</br>lastAction: 20.520000000000003</br></br>h_a: 0.0</br>situation: 1.0</br>shotType: 0.0</br>minute: 41</br>distance: 4.588861943363718</br>angle: 76.94750555554026</br>_original_yhat_: 0.02</br>"
          ],
          [
           "</br>id: 2929</br>prediction: 0.41</br>lastAction: 20.790000000000003</br></br>h_a: 0.0</br>situation: 1.0</br>shotType: 0.0</br>minute: 41</br>distance: 4.588861943363718</br>angle: 76.94750555554026</br>_original_yhat_: 0.02</br>"
          ],
          [
           "</br>id: 2929</br>prediction: 0.41</br>lastAction: 21.060000000000002</br></br>h_a: 0.0</br>situation: 1.0</br>shotType: 0.0</br>minute: 41</br>distance: 4.588861943363718</br>angle: 76.94750555554026</br>_original_yhat_: 0.02</br>"
          ],
          [
           "</br>id: 2929</br>prediction: 0.41</br>lastAction: 21.330000000000002</br></br>h_a: 0.0</br>situation: 1.0</br>shotType: 0.0</br>minute: 41</br>distance: 4.588861943363718</br>angle: 76.94750555554026</br>_original_yhat_: 0.02</br>"
          ],
          [
           "</br>id: 2929</br>prediction: 0.41</br>lastAction: 21.6</br></br>h_a: 0.0</br>situation: 1.0</br>shotType: 0.0</br>minute: 41</br>distance: 4.588861943363718</br>angle: 76.94750555554026</br>_original_yhat_: 0.02</br>"
          ],
          [
           "</br>id: 2929</br>prediction: 0.41</br>lastAction: 21.87</br></br>h_a: 0.0</br>situation: 1.0</br>shotType: 0.0</br>minute: 41</br>distance: 4.588861943363718</br>angle: 76.94750555554026</br>_original_yhat_: 0.02</br>"
          ],
          [
           "</br>id: 2929</br>prediction: 0.41</br>lastAction: 22.14</br></br>h_a: 0.0</br>situation: 1.0</br>shotType: 0.0</br>minute: 41</br>distance: 4.588861943363718</br>angle: 76.94750555554026</br>_original_yhat_: 0.02</br>"
          ],
          [
           "</br>id: 2929</br>prediction: 0.41</br>lastAction: 22.41</br></br>h_a: 0.0</br>situation: 1.0</br>shotType: 0.0</br>minute: 41</br>distance: 4.588861943363718</br>angle: 76.94750555554026</br>_original_yhat_: 0.02</br>"
          ],
          [
           "</br>id: 2929</br>prediction: 0.41</br>lastAction: 22.68</br></br>h_a: 0.0</br>situation: 1.0</br>shotType: 0.0</br>minute: 41</br>distance: 4.588861943363718</br>angle: 76.94750555554026</br>_original_yhat_: 0.02</br>"
          ],
          [
           "</br>id: 2929</br>prediction: 0.41</br>lastAction: 22.950000000000003</br></br>h_a: 0.0</br>situation: 1.0</br>shotType: 0.0</br>minute: 41</br>distance: 4.588861943363718</br>angle: 76.94750555554026</br>_original_yhat_: 0.02</br>"
          ],
          [
           "</br>id: 2929</br>prediction: 0.41</br>lastAction: 23.220000000000002</br></br>h_a: 0.0</br>situation: 1.0</br>shotType: 0.0</br>minute: 41</br>distance: 4.588861943363718</br>angle: 76.94750555554026</br>_original_yhat_: 0.02</br>"
          ],
          [
           "</br>id: 2929</br>prediction: 0.41</br>lastAction: 23.490000000000002</br></br>h_a: 0.0</br>situation: 1.0</br>shotType: 0.0</br>minute: 41</br>distance: 4.588861943363718</br>angle: 76.94750555554026</br>_original_yhat_: 0.02</br>"
          ],
          [
           "</br>id: 2929</br>prediction: 0.37</br>lastAction: 23.76</br></br>h_a: 0.0</br>situation: 1.0</br>shotType: 0.0</br>minute: 41</br>distance: 4.588861943363718</br>angle: 76.94750555554026</br>_original_yhat_: 0.02</br>"
          ],
          [
           "</br>id: 2929</br>prediction: 0.35</br>lastAction: 24.03</br></br>h_a: 0.0</br>situation: 1.0</br>shotType: 0.0</br>minute: 41</br>distance: 4.588861943363718</br>angle: 76.94750555554026</br>_original_yhat_: 0.02</br>"
          ],
          [
           "</br>id: 2929</br>prediction: 0.35</br>lastAction: 24.3</br></br>h_a: 0.0</br>situation: 1.0</br>shotType: 0.0</br>minute: 41</br>distance: 4.588861943363718</br>angle: 76.94750555554026</br>_original_yhat_: 0.02</br>"
          ],
          [
           "</br>id: 2929</br>prediction: 0.34</br>lastAction: 24.57</br></br>h_a: 0.0</br>situation: 1.0</br>shotType: 0.0</br>minute: 41</br>distance: 4.588861943363718</br>angle: 76.94750555554026</br>_original_yhat_: 0.02</br>"
          ],
          [
           "</br>id: 2929</br>prediction: 0.34</br>lastAction: 24.840000000000003</br></br>h_a: 0.0</br>situation: 1.0</br>shotType: 0.0</br>minute: 41</br>distance: 4.588861943363718</br>angle: 76.94750555554026</br>_original_yhat_: 0.02</br>"
          ],
          [
           "</br>id: 2929</br>prediction: 0.34</br>lastAction: 25.110000000000003</br></br>h_a: 0.0</br>situation: 1.0</br>shotType: 0.0</br>minute: 41</br>distance: 4.588861943363718</br>angle: 76.94750555554026</br>_original_yhat_: 0.02</br>"
          ],
          [
           "</br>id: 2929</br>prediction: 0.34</br>lastAction: 25.380000000000003</br></br>h_a: 0.0</br>situation: 1.0</br>shotType: 0.0</br>minute: 41</br>distance: 4.588861943363718</br>angle: 76.94750555554026</br>_original_yhat_: 0.02</br>"
          ],
          [
           "</br>id: 2929</br>prediction: 0.32</br>lastAction: 25.650000000000002</br></br>h_a: 0.0</br>situation: 1.0</br>shotType: 0.0</br>minute: 41</br>distance: 4.588861943363718</br>angle: 76.94750555554026</br>_original_yhat_: 0.02</br>"
          ],
          [
           "</br>id: 2929</br>prediction: 0.32</br>lastAction: 25.92</br></br>h_a: 0.0</br>situation: 1.0</br>shotType: 0.0</br>minute: 41</br>distance: 4.588861943363718</br>angle: 76.94750555554026</br>_original_yhat_: 0.02</br>"
          ],
          [
           "</br>id: 2929</br>prediction: 0.32</br>lastAction: 26.19</br></br>h_a: 0.0</br>situation: 1.0</br>shotType: 0.0</br>minute: 41</br>distance: 4.588861943363718</br>angle: 76.94750555554026</br>_original_yhat_: 0.02</br>"
          ],
          [
           "</br>id: 2929</br>prediction: 0.32</br>lastAction: 26.46</br></br>h_a: 0.0</br>situation: 1.0</br>shotType: 0.0</br>minute: 41</br>distance: 4.588861943363718</br>angle: 76.94750555554026</br>_original_yhat_: 0.02</br>"
          ],
          [
           "</br>id: 2929</br>prediction: 0.32</br>lastAction: 26.73</br></br>h_a: 0.0</br>situation: 1.0</br>shotType: 0.0</br>minute: 41</br>distance: 4.588861943363718</br>angle: 76.94750555554026</br>_original_yhat_: 0.02</br>"
          ],
          [
           "</br>id: 2929</br>prediction: 0.32</br>lastAction: 27.0</br></br>h_a: 0.0</br>situation: 1.0</br>shotType: 0.0</br>minute: 41</br>distance: 4.588861943363718</br>angle: 76.94750555554026</br>_original_yhat_: 0.02</br>"
          ]
         ],
         "hovertemplate": "%{customdata[0]}<extra></extra>",
         "legendgroup": "RandomForestClassifier",
         "line": {
          "color": "#f05a71",
          "dash": "solid",
          "width": 2
         },
         "marker": {
          "symbol": "circle"
         },
         "mode": "lines",
         "name": "RandomForestClassifier",
         "opacity": 1,
         "showlegend": false,
         "type": "scattergl",
         "x": [
          0,
          0.27,
          0.54,
          0.81,
          1.08,
          1.35,
          1.62,
          1.8900000000000001,
          2.16,
          2.43,
          2.7,
          2.97,
          3.24,
          3.5100000000000002,
          3.7800000000000002,
          4.050000000000001,
          4.32,
          4.59,
          4.86,
          5.130000000000001,
          5.4,
          5.67,
          5.94,
          6.210000000000001,
          6.48,
          6.75,
          7.0200000000000005,
          7.290000000000001,
          7.5600000000000005,
          7.83,
          8.100000000000001,
          8.370000000000001,
          8.64,
          8.91,
          9.18,
          9.450000000000001,
          9.72,
          9.99,
          10.260000000000002,
          10.530000000000001,
          10.8,
          11.07,
          11.34,
          11.610000000000001,
          11.88,
          12.15,
          12.420000000000002,
          12.690000000000001,
          12.96,
          13.23,
          13.5,
          13.770000000000001,
          14,
          14.040000000000001,
          14.31,
          14.580000000000002,
          14.850000000000001,
          15.120000000000001,
          15.39,
          15.66,
          15.930000000000001,
          16.200000000000003,
          16.470000000000002,
          16.740000000000002,
          17.01,
          17.28,
          17.55,
          17.82,
          18.09,
          18.36,
          18.630000000000003,
          18.900000000000002,
          19.17,
          19.44,
          19.71,
          19.98,
          20.25,
          20.520000000000003,
          20.790000000000003,
          21.060000000000002,
          21.330000000000002,
          21.6,
          21.87,
          22.14,
          22.41,
          22.68,
          22.950000000000003,
          23.220000000000002,
          23.490000000000002,
          23.76,
          24.03,
          24.3,
          24.57,
          24.840000000000003,
          25.110000000000003,
          25.380000000000003,
          25.650000000000002,
          25.92,
          26.19,
          26.46,
          26.73,
          27
         ],
         "xaxis": "x6",
         "y": [
          0.04,
          0.04,
          0.04,
          0.04,
          0.06,
          0.06,
          0.09,
          0.09,
          0.09,
          0.09,
          0.09,
          0.09,
          0.1,
          0.1,
          0.1,
          0.1,
          0.1,
          0.09,
          0.09,
          0.09,
          0.09,
          0.1,
          0.1,
          0.1,
          0.1,
          0.07,
          0.06,
          0.06,
          0.02,
          0.02,
          0.02,
          0.02,
          0.01,
          0.01,
          0.01,
          0.01,
          0.01,
          0.01,
          0.01,
          0.01,
          0.01,
          0.01,
          0.01,
          0.02,
          0.02,
          0.02,
          0.02,
          0.02,
          0.02,
          0.02,
          0.02,
          0.02,
          0.02,
          0.02,
          0.02,
          0.02,
          0.02,
          0.03,
          0.03,
          0.03,
          0.03,
          0.02,
          0.02,
          0.02,
          0.02,
          0.02,
          0.03,
          0.03,
          0.03,
          0.03,
          0.03,
          0.03,
          0.37,
          0.37,
          0.37,
          0.37,
          0.37,
          0.41,
          0.41,
          0.41,
          0.41,
          0.41,
          0.41,
          0.41,
          0.41,
          0.41,
          0.41,
          0.41,
          0.41,
          0.37,
          0.35,
          0.35,
          0.34,
          0.34,
          0.34,
          0.34,
          0.32,
          0.32,
          0.32,
          0.32,
          0.32,
          0.32
         ],
         "yaxis": "y6"
        },
        {
         "customdata": [
          [
           "</br>id: 2929</br>prediction: 0.49</br>minute: 0</br></br>h_a: 0.0</br>situation: 1.0</br>shotType: 0.0</br>lastAction: 14.0</br>distance: 4.588861943363718</br>angle: 76.94750555554026</br>_original_yhat_: 0.02</br>"
          ],
          [
           "</br>id: 2929</br>prediction: 0.51</br>minute: 1</br></br>h_a: 0.0</br>situation: 1.0</br>shotType: 0.0</br>lastAction: 14.0</br>distance: 4.588861943363718</br>angle: 76.94750555554026</br>_original_yhat_: 0.02</br>"
          ],
          [
           "</br>id: 2929</br>prediction: 0.5</br>minute: 2</br></br>h_a: 0.0</br>situation: 1.0</br>shotType: 0.0</br>lastAction: 14.0</br>distance: 4.588861943363718</br>angle: 76.94750555554026</br>_original_yhat_: 0.02</br>"
          ],
          [
           "</br>id: 2929</br>prediction: 0.4</br>minute: 3</br></br>h_a: 0.0</br>situation: 1.0</br>shotType: 0.0</br>lastAction: 14.0</br>distance: 4.588861943363718</br>angle: 76.94750555554026</br>_original_yhat_: 0.02</br>"
          ],
          [
           "</br>id: 2929</br>prediction: 0.42</br>minute: 4</br></br>h_a: 0.0</br>situation: 1.0</br>shotType: 0.0</br>lastAction: 14.0</br>distance: 4.588861943363718</br>angle: 76.94750555554026</br>_original_yhat_: 0.02</br>"
          ],
          [
           "</br>id: 2929</br>prediction: 0.33</br>minute: 5</br></br>h_a: 0.0</br>situation: 1.0</br>shotType: 0.0</br>lastAction: 14.0</br>distance: 4.588861943363718</br>angle: 76.94750555554026</br>_original_yhat_: 0.02</br>"
          ],
          [
           "</br>id: 2929</br>prediction: 0.3</br>minute: 6</br></br>h_a: 0.0</br>situation: 1.0</br>shotType: 0.0</br>lastAction: 14.0</br>distance: 4.588861943363718</br>angle: 76.94750555554026</br>_original_yhat_: 0.02</br>"
          ],
          [
           "</br>id: 2929</br>prediction: 0.24</br>minute: 7</br></br>h_a: 0.0</br>situation: 1.0</br>shotType: 0.0</br>lastAction: 14.0</br>distance: 4.588861943363718</br>angle: 76.94750555554026</br>_original_yhat_: 0.02</br>"
          ],
          [
           "</br>id: 2929</br>prediction: 0.22</br>minute: 8</br></br>h_a: 0.0</br>situation: 1.0</br>shotType: 0.0</br>lastAction: 14.0</br>distance: 4.588861943363718</br>angle: 76.94750555554026</br>_original_yhat_: 0.02</br>"
          ],
          [
           "</br>id: 2929</br>prediction: 0.22</br>minute: 9</br></br>h_a: 0.0</br>situation: 1.0</br>shotType: 0.0</br>lastAction: 14.0</br>distance: 4.588861943363718</br>angle: 76.94750555554026</br>_original_yhat_: 0.02</br>"
          ],
          [
           "</br>id: 2929</br>prediction: 0.22</br>minute: 10</br></br>h_a: 0.0</br>situation: 1.0</br>shotType: 0.0</br>lastAction: 14.0</br>distance: 4.588861943363718</br>angle: 76.94750555554026</br>_original_yhat_: 0.02</br>"
          ],
          [
           "</br>id: 2929</br>prediction: 0.22</br>minute: 11</br></br>h_a: 0.0</br>situation: 1.0</br>shotType: 0.0</br>lastAction: 14.0</br>distance: 4.588861943363718</br>angle: 76.94750555554026</br>_original_yhat_: 0.02</br>"
          ],
          [
           "</br>id: 2929</br>prediction: 0.23</br>minute: 12</br></br>h_a: 0.0</br>situation: 1.0</br>shotType: 0.0</br>lastAction: 14.0</br>distance: 4.588861943363718</br>angle: 76.94750555554026</br>_original_yhat_: 0.02</br>"
          ],
          [
           "</br>id: 2929</br>prediction: 0.21</br>minute: 13</br></br>h_a: 0.0</br>situation: 1.0</br>shotType: 0.0</br>lastAction: 14.0</br>distance: 4.588861943363718</br>angle: 76.94750555554026</br>_original_yhat_: 0.02</br>"
          ],
          [
           "</br>id: 2929</br>prediction: 0.21</br>minute: 14</br></br>h_a: 0.0</br>situation: 1.0</br>shotType: 0.0</br>lastAction: 14.0</br>distance: 4.588861943363718</br>angle: 76.94750555554026</br>_original_yhat_: 0.02</br>"
          ],
          [
           "</br>id: 2929</br>prediction: 0.15</br>minute: 15</br></br>h_a: 0.0</br>situation: 1.0</br>shotType: 0.0</br>lastAction: 14.0</br>distance: 4.588861943363718</br>angle: 76.94750555554026</br>_original_yhat_: 0.02</br>"
          ],
          [
           "</br>id: 2929</br>prediction: 0.15</br>minute: 16</br></br>h_a: 0.0</br>situation: 1.0</br>shotType: 0.0</br>lastAction: 14.0</br>distance: 4.588861943363718</br>angle: 76.94750555554026</br>_original_yhat_: 0.02</br>"
          ],
          [
           "</br>id: 2929</br>prediction: 0.15</br>minute: 17</br></br>h_a: 0.0</br>situation: 1.0</br>shotType: 0.0</br>lastAction: 14.0</br>distance: 4.588861943363718</br>angle: 76.94750555554026</br>_original_yhat_: 0.02</br>"
          ],
          [
           "</br>id: 2929</br>prediction: 0.11</br>minute: 18</br></br>h_a: 0.0</br>situation: 1.0</br>shotType: 0.0</br>lastAction: 14.0</br>distance: 4.588861943363718</br>angle: 76.94750555554026</br>_original_yhat_: 0.02</br>"
          ],
          [
           "</br>id: 2929</br>prediction: 0.09</br>minute: 19</br></br>h_a: 0.0</br>situation: 1.0</br>shotType: 0.0</br>lastAction: 14.0</br>distance: 4.588861943363718</br>angle: 76.94750555554026</br>_original_yhat_: 0.02</br>"
          ],
          [
           "</br>id: 2929</br>prediction: 0.09</br>minute: 20</br></br>h_a: 0.0</br>situation: 1.0</br>shotType: 0.0</br>lastAction: 14.0</br>distance: 4.588861943363718</br>angle: 76.94750555554026</br>_original_yhat_: 0.02</br>"
          ],
          [
           "</br>id: 2929</br>prediction: 0.09</br>minute: 21</br></br>h_a: 0.0</br>situation: 1.0</br>shotType: 0.0</br>lastAction: 14.0</br>distance: 4.588861943363718</br>angle: 76.94750555554026</br>_original_yhat_: 0.02</br>"
          ],
          [
           "</br>id: 2929</br>prediction: 0.08</br>minute: 22</br></br>h_a: 0.0</br>situation: 1.0</br>shotType: 0.0</br>lastAction: 14.0</br>distance: 4.588861943363718</br>angle: 76.94750555554026</br>_original_yhat_: 0.02</br>"
          ],
          [
           "</br>id: 2929</br>prediction: 0.1</br>minute: 23</br></br>h_a: 0.0</br>situation: 1.0</br>shotType: 0.0</br>lastAction: 14.0</br>distance: 4.588861943363718</br>angle: 76.94750555554026</br>_original_yhat_: 0.02</br>"
          ],
          [
           "</br>id: 2929</br>prediction: 0.09</br>minute: 24</br></br>h_a: 0.0</br>situation: 1.0</br>shotType: 0.0</br>lastAction: 14.0</br>distance: 4.588861943363718</br>angle: 76.94750555554026</br>_original_yhat_: 0.02</br>"
          ],
          [
           "</br>id: 2929</br>prediction: 0.09</br>minute: 25</br></br>h_a: 0.0</br>situation: 1.0</br>shotType: 0.0</br>lastAction: 14.0</br>distance: 4.588861943363718</br>angle: 76.94750555554026</br>_original_yhat_: 0.02</br>"
          ],
          [
           "</br>id: 2929</br>prediction: 0.09</br>minute: 26</br></br>h_a: 0.0</br>situation: 1.0</br>shotType: 0.0</br>lastAction: 14.0</br>distance: 4.588861943363718</br>angle: 76.94750555554026</br>_original_yhat_: 0.02</br>"
          ],
          [
           "</br>id: 2929</br>prediction: 0.09</br>minute: 27</br></br>h_a: 0.0</br>situation: 1.0</br>shotType: 0.0</br>lastAction: 14.0</br>distance: 4.588861943363718</br>angle: 76.94750555554026</br>_original_yhat_: 0.02</br>"
          ],
          [
           "</br>id: 2929</br>prediction: 0.09</br>minute: 28</br></br>h_a: 0.0</br>situation: 1.0</br>shotType: 0.0</br>lastAction: 14.0</br>distance: 4.588861943363718</br>angle: 76.94750555554026</br>_original_yhat_: 0.02</br>"
          ],
          [
           "</br>id: 2929</br>prediction: 0.08</br>minute: 29</br></br>h_a: 0.0</br>situation: 1.0</br>shotType: 0.0</br>lastAction: 14.0</br>distance: 4.588861943363718</br>angle: 76.94750555554026</br>_original_yhat_: 0.02</br>"
          ],
          [
           "</br>id: 2929</br>prediction: 0.07</br>minute: 30</br></br>h_a: 0.0</br>situation: 1.0</br>shotType: 0.0</br>lastAction: 14.0</br>distance: 4.588861943363718</br>angle: 76.94750555554026</br>_original_yhat_: 0.02</br>"
          ],
          [
           "</br>id: 2929</br>prediction: 0.05</br>minute: 31</br></br>h_a: 0.0</br>situation: 1.0</br>shotType: 0.0</br>lastAction: 14.0</br>distance: 4.588861943363718</br>angle: 76.94750555554026</br>_original_yhat_: 0.02</br>"
          ],
          [
           "</br>id: 2929</br>prediction: 0.06</br>minute: 32</br></br>h_a: 0.0</br>situation: 1.0</br>shotType: 0.0</br>lastAction: 14.0</br>distance: 4.588861943363718</br>angle: 76.94750555554026</br>_original_yhat_: 0.02</br>"
          ],
          [
           "</br>id: 2929</br>prediction: 0.06</br>minute: 33</br></br>h_a: 0.0</br>situation: 1.0</br>shotType: 0.0</br>lastAction: 14.0</br>distance: 4.588861943363718</br>angle: 76.94750555554026</br>_original_yhat_: 0.02</br>"
          ],
          [
           "</br>id: 2929</br>prediction: 0.03</br>minute: 34</br></br>h_a: 0.0</br>situation: 1.0</br>shotType: 0.0</br>lastAction: 14.0</br>distance: 4.588861943363718</br>angle: 76.94750555554026</br>_original_yhat_: 0.02</br>"
          ],
          [
           "</br>id: 2929</br>prediction: 0.03</br>minute: 35</br></br>h_a: 0.0</br>situation: 1.0</br>shotType: 0.0</br>lastAction: 14.0</br>distance: 4.588861943363718</br>angle: 76.94750555554026</br>_original_yhat_: 0.02</br>"
          ],
          [
           "</br>id: 2929</br>prediction: 0.03</br>minute: 36</br></br>h_a: 0.0</br>situation: 1.0</br>shotType: 0.0</br>lastAction: 14.0</br>distance: 4.588861943363718</br>angle: 76.94750555554026</br>_original_yhat_: 0.02</br>"
          ],
          [
           "</br>id: 2929</br>prediction: 0.03</br>minute: 37</br></br>h_a: 0.0</br>situation: 1.0</br>shotType: 0.0</br>lastAction: 14.0</br>distance: 4.588861943363718</br>angle: 76.94750555554026</br>_original_yhat_: 0.02</br>"
          ],
          [
           "</br>id: 2929</br>prediction: 0.03</br>minute: 38</br></br>h_a: 0.0</br>situation: 1.0</br>shotType: 0.0</br>lastAction: 14.0</br>distance: 4.588861943363718</br>angle: 76.94750555554026</br>_original_yhat_: 0.02</br>"
          ],
          [
           "</br>id: 2929</br>prediction: 0.03</br>minute: 39</br></br>h_a: 0.0</br>situation: 1.0</br>shotType: 0.0</br>lastAction: 14.0</br>distance: 4.588861943363718</br>angle: 76.94750555554026</br>_original_yhat_: 0.02</br>"
          ],
          [
           "</br>id: 2929</br>prediction: 0.07</br>minute: 40</br></br>h_a: 0.0</br>situation: 1.0</br>shotType: 0.0</br>lastAction: 14.0</br>distance: 4.588861943363718</br>angle: 76.94750555554026</br>_original_yhat_: 0.02</br>"
          ],
          [
           "</br>id: 2929</br>prediction: 0.02</br>minute: 41</br></br>h_a: 0.0</br>situation: 1.0</br>shotType: 0.0</br>lastAction: 14.0</br>distance: 4.588861943363718</br>angle: 76.94750555554026</br>_original_yhat_: 0.02</br>"
          ],
          [
           "</br>id: 2929</br>prediction: 0.02</br>minute: 42</br></br>h_a: 0.0</br>situation: 1.0</br>shotType: 0.0</br>lastAction: 14.0</br>distance: 4.588861943363718</br>angle: 76.94750555554026</br>_original_yhat_: 0.02</br>"
          ],
          [
           "</br>id: 2929</br>prediction: 0.02</br>minute: 43</br></br>h_a: 0.0</br>situation: 1.0</br>shotType: 0.0</br>lastAction: 14.0</br>distance: 4.588861943363718</br>angle: 76.94750555554026</br>_original_yhat_: 0.02</br>"
          ],
          [
           "</br>id: 2929</br>prediction: 0.02</br>minute: 44</br></br>h_a: 0.0</br>situation: 1.0</br>shotType: 0.0</br>lastAction: 14.0</br>distance: 4.588861943363718</br>angle: 76.94750555554026</br>_original_yhat_: 0.02</br>"
          ],
          [
           "</br>id: 2929</br>prediction: 0.02</br>minute: 45</br></br>h_a: 0.0</br>situation: 1.0</br>shotType: 0.0</br>lastAction: 14.0</br>distance: 4.588861943363718</br>angle: 76.94750555554026</br>_original_yhat_: 0.02</br>"
          ],
          [
           "</br>id: 2929</br>prediction: 0.03</br>minute: 46</br></br>h_a: 0.0</br>situation: 1.0</br>shotType: 0.0</br>lastAction: 14.0</br>distance: 4.588861943363718</br>angle: 76.94750555554026</br>_original_yhat_: 0.02</br>"
          ],
          [
           "</br>id: 2929</br>prediction: 0.06</br>minute: 47</br></br>h_a: 0.0</br>situation: 1.0</br>shotType: 0.0</br>lastAction: 14.0</br>distance: 4.588861943363718</br>angle: 76.94750555554026</br>_original_yhat_: 0.02</br>"
          ],
          [
           "</br>id: 2929</br>prediction: 0.08</br>minute: 48</br></br>h_a: 0.0</br>situation: 1.0</br>shotType: 0.0</br>lastAction: 14.0</br>distance: 4.588861943363718</br>angle: 76.94750555554026</br>_original_yhat_: 0.02</br>"
          ],
          [
           "</br>id: 2929</br>prediction: 0.07</br>minute: 49</br></br>h_a: 0.0</br>situation: 1.0</br>shotType: 0.0</br>lastAction: 14.0</br>distance: 4.588861943363718</br>angle: 76.94750555554026</br>_original_yhat_: 0.02</br>"
          ],
          [
           "</br>id: 2929</br>prediction: 0.06</br>minute: 50</br></br>h_a: 0.0</br>situation: 1.0</br>shotType: 0.0</br>lastAction: 14.0</br>distance: 4.588861943363718</br>angle: 76.94750555554026</br>_original_yhat_: 0.02</br>"
          ],
          [
           "</br>id: 2929</br>prediction: 0.06</br>minute: 51</br></br>h_a: 0.0</br>situation: 1.0</br>shotType: 0.0</br>lastAction: 14.0</br>distance: 4.588861943363718</br>angle: 76.94750555554026</br>_original_yhat_: 0.02</br>"
          ],
          [
           "</br>id: 2929</br>prediction: 0.07</br>minute: 52</br></br>h_a: 0.0</br>situation: 1.0</br>shotType: 0.0</br>lastAction: 14.0</br>distance: 4.588861943363718</br>angle: 76.94750555554026</br>_original_yhat_: 0.02</br>"
          ],
          [
           "</br>id: 2929</br>prediction: 0.1</br>minute: 53</br></br>h_a: 0.0</br>situation: 1.0</br>shotType: 0.0</br>lastAction: 14.0</br>distance: 4.588861943363718</br>angle: 76.94750555554026</br>_original_yhat_: 0.02</br>"
          ],
          [
           "</br>id: 2929</br>prediction: 0.12</br>minute: 54</br></br>h_a: 0.0</br>situation: 1.0</br>shotType: 0.0</br>lastAction: 14.0</br>distance: 4.588861943363718</br>angle: 76.94750555554026</br>_original_yhat_: 0.02</br>"
          ],
          [
           "</br>id: 2929</br>prediction: 0.1</br>minute: 55</br></br>h_a: 0.0</br>situation: 1.0</br>shotType: 0.0</br>lastAction: 14.0</br>distance: 4.588861943363718</br>angle: 76.94750555554026</br>_original_yhat_: 0.02</br>"
          ],
          [
           "</br>id: 2929</br>prediction: 0.11</br>minute: 56</br></br>h_a: 0.0</br>situation: 1.0</br>shotType: 0.0</br>lastAction: 14.0</br>distance: 4.588861943363718</br>angle: 76.94750555554026</br>_original_yhat_: 0.02</br>"
          ],
          [
           "</br>id: 2929</br>prediction: 0.11</br>minute: 57</br></br>h_a: 0.0</br>situation: 1.0</br>shotType: 0.0</br>lastAction: 14.0</br>distance: 4.588861943363718</br>angle: 76.94750555554026</br>_original_yhat_: 0.02</br>"
          ],
          [
           "</br>id: 2929</br>prediction: 0.11</br>minute: 58</br></br>h_a: 0.0</br>situation: 1.0</br>shotType: 0.0</br>lastAction: 14.0</br>distance: 4.588861943363718</br>angle: 76.94750555554026</br>_original_yhat_: 0.02</br>"
          ],
          [
           "</br>id: 2929</br>prediction: 0.1</br>minute: 59</br></br>h_a: 0.0</br>situation: 1.0</br>shotType: 0.0</br>lastAction: 14.0</br>distance: 4.588861943363718</br>angle: 76.94750555554026</br>_original_yhat_: 0.02</br>"
          ],
          [
           "</br>id: 2929</br>prediction: 0.13</br>minute: 60</br></br>h_a: 0.0</br>situation: 1.0</br>shotType: 0.0</br>lastAction: 14.0</br>distance: 4.588861943363718</br>angle: 76.94750555554026</br>_original_yhat_: 0.02</br>"
          ],
          [
           "</br>id: 2929</br>prediction: 0.13</br>minute: 61</br></br>h_a: 0.0</br>situation: 1.0</br>shotType: 0.0</br>lastAction: 14.0</br>distance: 4.588861943363718</br>angle: 76.94750555554026</br>_original_yhat_: 0.02</br>"
          ],
          [
           "</br>id: 2929</br>prediction: 0.12</br>minute: 62</br></br>h_a: 0.0</br>situation: 1.0</br>shotType: 0.0</br>lastAction: 14.0</br>distance: 4.588861943363718</br>angle: 76.94750555554026</br>_original_yhat_: 0.02</br>"
          ],
          [
           "</br>id: 2929</br>prediction: 0.12</br>minute: 63</br></br>h_a: 0.0</br>situation: 1.0</br>shotType: 0.0</br>lastAction: 14.0</br>distance: 4.588861943363718</br>angle: 76.94750555554026</br>_original_yhat_: 0.02</br>"
          ],
          [
           "</br>id: 2929</br>prediction: 0.12</br>minute: 64</br></br>h_a: 0.0</br>situation: 1.0</br>shotType: 0.0</br>lastAction: 14.0</br>distance: 4.588861943363718</br>angle: 76.94750555554026</br>_original_yhat_: 0.02</br>"
          ],
          [
           "</br>id: 2929</br>prediction: 0.14</br>minute: 65</br></br>h_a: 0.0</br>situation: 1.0</br>shotType: 0.0</br>lastAction: 14.0</br>distance: 4.588861943363718</br>angle: 76.94750555554026</br>_original_yhat_: 0.02</br>"
          ],
          [
           "</br>id: 2929</br>prediction: 0.13</br>minute: 66</br></br>h_a: 0.0</br>situation: 1.0</br>shotType: 0.0</br>lastAction: 14.0</br>distance: 4.588861943363718</br>angle: 76.94750555554026</br>_original_yhat_: 0.02</br>"
          ],
          [
           "</br>id: 2929</br>prediction: 0.12</br>minute: 67</br></br>h_a: 0.0</br>situation: 1.0</br>shotType: 0.0</br>lastAction: 14.0</br>distance: 4.588861943363718</br>angle: 76.94750555554026</br>_original_yhat_: 0.02</br>"
          ],
          [
           "</br>id: 2929</br>prediction: 0.12</br>minute: 68</br></br>h_a: 0.0</br>situation: 1.0</br>shotType: 0.0</br>lastAction: 14.0</br>distance: 4.588861943363718</br>angle: 76.94750555554026</br>_original_yhat_: 0.02</br>"
          ],
          [
           "</br>id: 2929</br>prediction: 0.13</br>minute: 69</br></br>h_a: 0.0</br>situation: 1.0</br>shotType: 0.0</br>lastAction: 14.0</br>distance: 4.588861943363718</br>angle: 76.94750555554026</br>_original_yhat_: 0.02</br>"
          ],
          [
           "</br>id: 2929</br>prediction: 0.14</br>minute: 70</br></br>h_a: 0.0</br>situation: 1.0</br>shotType: 0.0</br>lastAction: 14.0</br>distance: 4.588861943363718</br>angle: 76.94750555554026</br>_original_yhat_: 0.02</br>"
          ],
          [
           "</br>id: 2929</br>prediction: 0.16</br>minute: 71</br></br>h_a: 0.0</br>situation: 1.0</br>shotType: 0.0</br>lastAction: 14.0</br>distance: 4.588861943363718</br>angle: 76.94750555554026</br>_original_yhat_: 0.02</br>"
          ],
          [
           "</br>id: 2929</br>prediction: 0.16</br>minute: 72</br></br>h_a: 0.0</br>situation: 1.0</br>shotType: 0.0</br>lastAction: 14.0</br>distance: 4.588861943363718</br>angle: 76.94750555554026</br>_original_yhat_: 0.02</br>"
          ],
          [
           "</br>id: 2929</br>prediction: 0.16</br>minute: 73</br></br>h_a: 0.0</br>situation: 1.0</br>shotType: 0.0</br>lastAction: 14.0</br>distance: 4.588861943363718</br>angle: 76.94750555554026</br>_original_yhat_: 0.02</br>"
          ],
          [
           "</br>id: 2929</br>prediction: 0.16</br>minute: 74</br></br>h_a: 0.0</br>situation: 1.0</br>shotType: 0.0</br>lastAction: 14.0</br>distance: 4.588861943363718</br>angle: 76.94750555554026</br>_original_yhat_: 0.02</br>"
          ],
          [
           "</br>id: 2929</br>prediction: 0.18</br>minute: 75</br></br>h_a: 0.0</br>situation: 1.0</br>shotType: 0.0</br>lastAction: 14.0</br>distance: 4.588861943363718</br>angle: 76.94750555554026</br>_original_yhat_: 0.02</br>"
          ],
          [
           "</br>id: 2929</br>prediction: 0.18</br>minute: 76</br></br>h_a: 0.0</br>situation: 1.0</br>shotType: 0.0</br>lastAction: 14.0</br>distance: 4.588861943363718</br>angle: 76.94750555554026</br>_original_yhat_: 0.02</br>"
          ],
          [
           "</br>id: 2929</br>prediction: 0.21</br>minute: 77</br></br>h_a: 0.0</br>situation: 1.0</br>shotType: 0.0</br>lastAction: 14.0</br>distance: 4.588861943363718</br>angle: 76.94750555554026</br>_original_yhat_: 0.02</br>"
          ],
          [
           "</br>id: 2929</br>prediction: 0.19</br>minute: 78</br></br>h_a: 0.0</br>situation: 1.0</br>shotType: 0.0</br>lastAction: 14.0</br>distance: 4.588861943363718</br>angle: 76.94750555554026</br>_original_yhat_: 0.02</br>"
          ],
          [
           "</br>id: 2929</br>prediction: 0.18</br>minute: 79</br></br>h_a: 0.0</br>situation: 1.0</br>shotType: 0.0</br>lastAction: 14.0</br>distance: 4.588861943363718</br>angle: 76.94750555554026</br>_original_yhat_: 0.02</br>"
          ],
          [
           "</br>id: 2929</br>prediction: 0.19</br>minute: 80</br></br>h_a: 0.0</br>situation: 1.0</br>shotType: 0.0</br>lastAction: 14.0</br>distance: 4.588861943363718</br>angle: 76.94750555554026</br>_original_yhat_: 0.02</br>"
          ],
          [
           "</br>id: 2929</br>prediction: 0.19</br>minute: 81</br></br>h_a: 0.0</br>situation: 1.0</br>shotType: 0.0</br>lastAction: 14.0</br>distance: 4.588861943363718</br>angle: 76.94750555554026</br>_original_yhat_: 0.02</br>"
          ],
          [
           "</br>id: 2929</br>prediction: 0.18</br>minute: 82</br></br>h_a: 0.0</br>situation: 1.0</br>shotType: 0.0</br>lastAction: 14.0</br>distance: 4.588861943363718</br>angle: 76.94750555554026</br>_original_yhat_: 0.02</br>"
          ],
          [
           "</br>id: 2929</br>prediction: 0.18</br>minute: 83</br></br>h_a: 0.0</br>situation: 1.0</br>shotType: 0.0</br>lastAction: 14.0</br>distance: 4.588861943363718</br>angle: 76.94750555554026</br>_original_yhat_: 0.02</br>"
          ],
          [
           "</br>id: 2929</br>prediction: 0.17</br>minute: 84</br></br>h_a: 0.0</br>situation: 1.0</br>shotType: 0.0</br>lastAction: 14.0</br>distance: 4.588861943363718</br>angle: 76.94750555554026</br>_original_yhat_: 0.02</br>"
          ],
          [
           "</br>id: 2929</br>prediction: 0.16</br>minute: 85</br></br>h_a: 0.0</br>situation: 1.0</br>shotType: 0.0</br>lastAction: 14.0</br>distance: 4.588861943363718</br>angle: 76.94750555554026</br>_original_yhat_: 0.02</br>"
          ],
          [
           "</br>id: 2929</br>prediction: 0.16</br>minute: 86</br></br>h_a: 0.0</br>situation: 1.0</br>shotType: 0.0</br>lastAction: 14.0</br>distance: 4.588861943363718</br>angle: 76.94750555554026</br>_original_yhat_: 0.02</br>"
          ],
          [
           "</br>id: 2929</br>prediction: 0.18</br>minute: 87</br></br>h_a: 0.0</br>situation: 1.0</br>shotType: 0.0</br>lastAction: 14.0</br>distance: 4.588861943363718</br>angle: 76.94750555554026</br>_original_yhat_: 0.02</br>"
          ],
          [
           "</br>id: 2929</br>prediction: 0.18</br>minute: 88</br></br>h_a: 0.0</br>situation: 1.0</br>shotType: 0.0</br>lastAction: 14.0</br>distance: 4.588861943363718</br>angle: 76.94750555554026</br>_original_yhat_: 0.02</br>"
          ],
          [
           "</br>id: 2929</br>prediction: 0.18</br>minute: 89</br></br>h_a: 0.0</br>situation: 1.0</br>shotType: 0.0</br>lastAction: 14.0</br>distance: 4.588861943363718</br>angle: 76.94750555554026</br>_original_yhat_: 0.02</br>"
          ],
          [
           "</br>id: 2929</br>prediction: 0.19</br>minute: 90</br></br>h_a: 0.0</br>situation: 1.0</br>shotType: 0.0</br>lastAction: 14.0</br>distance: 4.588861943363718</br>angle: 76.94750555554026</br>_original_yhat_: 0.02</br>"
          ],
          [
           "</br>id: 2929</br>prediction: 0.19</br>minute: 91</br></br>h_a: 0.0</br>situation: 1.0</br>shotType: 0.0</br>lastAction: 14.0</br>distance: 4.588861943363718</br>angle: 76.94750555554026</br>_original_yhat_: 0.02</br>"
          ],
          [
           "</br>id: 2929</br>prediction: 0.18</br>minute: 92</br></br>h_a: 0.0</br>situation: 1.0</br>shotType: 0.0</br>lastAction: 14.0</br>distance: 4.588861943363718</br>angle: 76.94750555554026</br>_original_yhat_: 0.02</br>"
          ],
          [
           "</br>id: 2929</br>prediction: 0.17</br>minute: 93</br></br>h_a: 0.0</br>situation: 1.0</br>shotType: 0.0</br>lastAction: 14.0</br>distance: 4.588861943363718</br>angle: 76.94750555554026</br>_original_yhat_: 0.02</br>"
          ],
          [
           "</br>id: 2929</br>prediction: 0.16</br>minute: 94</br></br>h_a: 0.0</br>situation: 1.0</br>shotType: 0.0</br>lastAction: 14.0</br>distance: 4.588861943363718</br>angle: 76.94750555554026</br>_original_yhat_: 0.02</br>"
          ],
          [
           "</br>id: 2929</br>prediction: 0.21</br>minute: 95</br></br>h_a: 0.0</br>situation: 1.0</br>shotType: 0.0</br>lastAction: 14.0</br>distance: 4.588861943363718</br>angle: 76.94750555554026</br>_original_yhat_: 0.02</br>"
          ],
          [
           "</br>id: 2929</br>prediction: 0.22</br>minute: 96</br></br>h_a: 0.0</br>situation: 1.0</br>shotType: 0.0</br>lastAction: 14.0</br>distance: 4.588861943363718</br>angle: 76.94750555554026</br>_original_yhat_: 0.02</br>"
          ],
          [
           "</br>id: 2929</br>prediction: 0.22</br>minute: 97</br></br>h_a: 0.0</br>situation: 1.0</br>shotType: 0.0</br>lastAction: 14.0</br>distance: 4.588861943363718</br>angle: 76.94750555554026</br>_original_yhat_: 0.02</br>"
          ],
          [
           "</br>id: 2929</br>prediction: 0.22</br>minute: 98</br></br>h_a: 0.0</br>situation: 1.0</br>shotType: 0.0</br>lastAction: 14.0</br>distance: 4.588861943363718</br>angle: 76.94750555554026</br>_original_yhat_: 0.02</br>"
          ],
          [
           "</br>id: 2929</br>prediction: 0.22</br>minute: 99</br></br>h_a: 0.0</br>situation: 1.0</br>shotType: 0.0</br>lastAction: 14.0</br>distance: 4.588861943363718</br>angle: 76.94750555554026</br>_original_yhat_: 0.02</br>"
          ],
          [
           "</br>id: 2929</br>prediction: 0.22</br>minute: 100</br></br>h_a: 0.0</br>situation: 1.0</br>shotType: 0.0</br>lastAction: 14.0</br>distance: 4.588861943363718</br>angle: 76.94750555554026</br>_original_yhat_: 0.02</br>"
          ]
         ],
         "hovertemplate": "%{customdata[0]}<extra></extra>",
         "legendgroup": "RandomForestClassifier",
         "line": {
          "color": "#f05a71",
          "dash": "solid",
          "width": 2
         },
         "marker": {
          "symbol": "circle"
         },
         "mode": "lines",
         "name": "RandomForestClassifier",
         "opacity": 1,
         "showlegend": false,
         "type": "scattergl",
         "x": [
          0,
          1,
          2,
          3,
          4,
          5,
          6,
          7,
          8,
          9,
          10,
          11,
          12,
          13,
          14,
          15,
          16,
          17,
          18,
          19,
          20,
          21,
          22,
          23,
          24,
          25,
          26,
          27,
          28,
          29,
          30,
          31,
          32,
          33,
          34,
          35,
          36,
          37,
          38,
          39,
          40,
          41,
          42,
          43,
          44,
          45,
          46,
          47,
          48,
          49,
          50,
          51,
          52,
          53,
          54,
          55,
          56,
          57,
          58,
          59,
          60,
          61,
          62,
          63,
          64,
          65,
          66,
          67,
          68,
          69,
          70,
          71,
          72,
          73,
          74,
          75,
          76,
          77,
          78,
          79,
          80,
          81,
          82,
          83,
          84,
          85,
          86,
          87,
          88,
          89,
          90,
          91,
          92,
          93,
          94,
          95,
          96,
          97,
          98,
          99,
          100
         ],
         "xaxis": "x3",
         "y": [
          0.49,
          0.51,
          0.5,
          0.4,
          0.42,
          0.33,
          0.3,
          0.24,
          0.22,
          0.22,
          0.22,
          0.22,
          0.23,
          0.21,
          0.21,
          0.15,
          0.15,
          0.15,
          0.11,
          0.09,
          0.09,
          0.09,
          0.08,
          0.1,
          0.09,
          0.09,
          0.09,
          0.09,
          0.09,
          0.08,
          0.07,
          0.05,
          0.06,
          0.06,
          0.03,
          0.03,
          0.03,
          0.03,
          0.03,
          0.03,
          0.07,
          0.02,
          0.02,
          0.02,
          0.02,
          0.02,
          0.03,
          0.06,
          0.08,
          0.07,
          0.06,
          0.06,
          0.07,
          0.1,
          0.12,
          0.1,
          0.11,
          0.11,
          0.11,
          0.1,
          0.13,
          0.13,
          0.12,
          0.12,
          0.12,
          0.14,
          0.13,
          0.12,
          0.12,
          0.13,
          0.14,
          0.16,
          0.16,
          0.16,
          0.16,
          0.18,
          0.18,
          0.21,
          0.19,
          0.18,
          0.19,
          0.19,
          0.18,
          0.18,
          0.17,
          0.16,
          0.16,
          0.18,
          0.18,
          0.18,
          0.19,
          0.19,
          0.18,
          0.17,
          0.16,
          0.21,
          0.22,
          0.22,
          0.22,
          0.22,
          0.22
         ],
         "yaxis": "y3"
        },
        {
         "customdata": [
          [
           "</br>id: 2929</br>prediction: 0.53</br>distance: 0.9736657537368798</br></br>h_a: 0.0</br>situation: 1.0</br>shotType: 0.0</br>lastAction: 14.0</br>minute: 41</br>angle: 76.94750555554026</br>_original_yhat_: 0.02</br>"
          ],
          [
           "</br>id: 2929</br>prediction: 0.53</br>distance: 2.000467460826111</br></br>h_a: 0.0</br>situation: 1.0</br>shotType: 0.0</br>lastAction: 14.0</br>minute: 41</br>angle: 76.94750555554026</br>_original_yhat_: 0.02</br>"
          ],
          [
           "</br>id: 2929</br>prediction: 0.18</br>distance: 3.0272691679153425</br></br>h_a: 0.0</br>situation: 1.0</br>shotType: 0.0</br>lastAction: 14.0</br>minute: 41</br>angle: 76.94750555554026</br>_original_yhat_: 0.02</br>"
          ],
          [
           "</br>id: 2929</br>prediction: 0.04</br>distance: 4.054070875004573</br></br>h_a: 0.0</br>situation: 1.0</br>shotType: 0.0</br>lastAction: 14.0</br>minute: 41</br>angle: 76.94750555554026</br>_original_yhat_: 0.02</br>"
          ],
          [
           "</br>id: 2929</br>prediction: 0.02</br>distance: 4.588861943363718</br></br>h_a: 0.0</br>situation: 1.0</br>shotType: 0.0</br>lastAction: 14.0</br>minute: 41</br>angle: 76.94750555554026</br>_original_yhat_: 0.02</br>"
          ],
          [
           "</br>id: 2929</br>prediction: 0.01</br>distance: 5.0808725820938045</br></br>h_a: 0.0</br>situation: 1.0</br>shotType: 0.0</br>lastAction: 14.0</br>minute: 41</br>angle: 76.94750555554026</br>_original_yhat_: 0.02</br>"
          ],
          [
           "</br>id: 2929</br>prediction: 0.21</br>distance: 6.107674289183036</br></br>h_a: 0.0</br>situation: 1.0</br>shotType: 0.0</br>lastAction: 14.0</br>minute: 41</br>angle: 76.94750555554026</br>_original_yhat_: 0.02</br>"
          ],
          [
           "</br>id: 2929</br>prediction: 0.13</br>distance: 7.134475996272267</br></br>h_a: 0.0</br>situation: 1.0</br>shotType: 0.0</br>lastAction: 14.0</br>minute: 41</br>angle: 76.94750555554026</br>_original_yhat_: 0.02</br>"
          ],
          [
           "</br>id: 2929</br>prediction: 0.1</br>distance: 8.161277703361499</br></br>h_a: 0.0</br>situation: 1.0</br>shotType: 0.0</br>lastAction: 14.0</br>minute: 41</br>angle: 76.94750555554026</br>_original_yhat_: 0.02</br>"
          ],
          [
           "</br>id: 2929</br>prediction: 0.09</br>distance: 9.18807941045073</br></br>h_a: 0.0</br>situation: 1.0</br>shotType: 0.0</br>lastAction: 14.0</br>minute: 41</br>angle: 76.94750555554026</br>_original_yhat_: 0.02</br>"
          ],
          [
           "</br>id: 2929</br>prediction: 0.08</br>distance: 10.21488111753996</br></br>h_a: 0.0</br>situation: 1.0</br>shotType: 0.0</br>lastAction: 14.0</br>minute: 41</br>angle: 76.94750555554026</br>_original_yhat_: 0.02</br>"
          ],
          [
           "</br>id: 2929</br>prediction: 0.1</br>distance: 11.241682824629192</br></br>h_a: 0.0</br>situation: 1.0</br>shotType: 0.0</br>lastAction: 14.0</br>minute: 41</br>angle: 76.94750555554026</br>_original_yhat_: 0.02</br>"
          ],
          [
           "</br>id: 2929</br>prediction: 0.19</br>distance: 12.268484531718423</br></br>h_a: 0.0</br>situation: 1.0</br>shotType: 0.0</br>lastAction: 14.0</br>minute: 41</br>angle: 76.94750555554026</br>_original_yhat_: 0.02</br>"
          ],
          [
           "</br>id: 2929</br>prediction: 0.16</br>distance: 13.295286238807654</br></br>h_a: 0.0</br>situation: 1.0</br>shotType: 0.0</br>lastAction: 14.0</br>minute: 41</br>angle: 76.94750555554026</br>_original_yhat_: 0.02</br>"
          ],
          [
           "</br>id: 2929</br>prediction: 0.17</br>distance: 14.322087945896886</br></br>h_a: 0.0</br>situation: 1.0</br>shotType: 0.0</br>lastAction: 14.0</br>minute: 41</br>angle: 76.94750555554026</br>_original_yhat_: 0.02</br>"
          ],
          [
           "</br>id: 2929</br>prediction: 0.17</br>distance: 15.348889652986117</br></br>h_a: 0.0</br>situation: 1.0</br>shotType: 0.0</br>lastAction: 14.0</br>minute: 41</br>angle: 76.94750555554026</br>_original_yhat_: 0.02</br>"
          ],
          [
           "</br>id: 2929</br>prediction: 0.16</br>distance: 16.37569136007535</br></br>h_a: 0.0</br>situation: 1.0</br>shotType: 0.0</br>lastAction: 14.0</br>minute: 41</br>angle: 76.94750555554026</br>_original_yhat_: 0.02</br>"
          ],
          [
           "</br>id: 2929</br>prediction: 0.17</br>distance: 17.40249306716458</br></br>h_a: 0.0</br>situation: 1.0</br>shotType: 0.0</br>lastAction: 14.0</br>minute: 41</br>angle: 76.94750555554026</br>_original_yhat_: 0.02</br>"
          ],
          [
           "</br>id: 2929</br>prediction: 0.17</br>distance: 18.429294774253812</br></br>h_a: 0.0</br>situation: 1.0</br>shotType: 0.0</br>lastAction: 14.0</br>minute: 41</br>angle: 76.94750555554026</br>_original_yhat_: 0.02</br>"
          ],
          [
           "</br>id: 2929</br>prediction: 0.18</br>distance: 19.456096481343042</br></br>h_a: 0.0</br>situation: 1.0</br>shotType: 0.0</br>lastAction: 14.0</br>minute: 41</br>angle: 76.94750555554026</br>_original_yhat_: 0.02</br>"
          ],
          [
           "</br>id: 2929</br>prediction: 0.17</br>distance: 20.482898188432276</br></br>h_a: 0.0</br>situation: 1.0</br>shotType: 0.0</br>lastAction: 14.0</br>minute: 41</br>angle: 76.94750555554026</br>_original_yhat_: 0.02</br>"
          ],
          [
           "</br>id: 2929</br>prediction: 0.18</br>distance: 21.509699895521507</br></br>h_a: 0.0</br>situation: 1.0</br>shotType: 0.0</br>lastAction: 14.0</br>minute: 41</br>angle: 76.94750555554026</br>_original_yhat_: 0.02</br>"
          ],
          [
           "</br>id: 2929</br>prediction: 0.19</br>distance: 22.536501602610738</br></br>h_a: 0.0</br>situation: 1.0</br>shotType: 0.0</br>lastAction: 14.0</br>minute: 41</br>angle: 76.94750555554026</br>_original_yhat_: 0.02</br>"
          ],
          [
           "</br>id: 2929</br>prediction: 0.18</br>distance: 23.56330330969997</br></br>h_a: 0.0</br>situation: 1.0</br>shotType: 0.0</br>lastAction: 14.0</br>minute: 41</br>angle: 76.94750555554026</br>_original_yhat_: 0.02</br>"
          ],
          [
           "</br>id: 2929</br>prediction: 0.18</br>distance: 24.5901050167892</br></br>h_a: 0.0</br>situation: 1.0</br>shotType: 0.0</br>lastAction: 14.0</br>minute: 41</br>angle: 76.94750555554026</br>_original_yhat_: 0.02</br>"
          ],
          [
           "</br>id: 2929</br>prediction: 0.17</br>distance: 25.61690672387843</br></br>h_a: 0.0</br>situation: 1.0</br>shotType: 0.0</br>lastAction: 14.0</br>minute: 41</br>angle: 76.94750555554026</br>_original_yhat_: 0.02</br>"
          ],
          [
           "</br>id: 2929</br>prediction: 0.17</br>distance: 26.643708430967664</br></br>h_a: 0.0</br>situation: 1.0</br>shotType: 0.0</br>lastAction: 14.0</br>minute: 41</br>angle: 76.94750555554026</br>_original_yhat_: 0.02</br>"
          ],
          [
           "</br>id: 2929</br>prediction: 0.17</br>distance: 27.670510138056894</br></br>h_a: 0.0</br>situation: 1.0</br>shotType: 0.0</br>lastAction: 14.0</br>minute: 41</br>angle: 76.94750555554026</br>_original_yhat_: 0.02</br>"
          ],
          [
           "</br>id: 2929</br>prediction: 0.17</br>distance: 28.697311845146125</br></br>h_a: 0.0</br>situation: 1.0</br>shotType: 0.0</br>lastAction: 14.0</br>minute: 41</br>angle: 76.94750555554026</br>_original_yhat_: 0.02</br>"
          ],
          [
           "</br>id: 2929</br>prediction: 0.17</br>distance: 29.724113552235355</br></br>h_a: 0.0</br>situation: 1.0</br>shotType: 0.0</br>lastAction: 14.0</br>minute: 41</br>angle: 76.94750555554026</br>_original_yhat_: 0.02</br>"
          ],
          [
           "</br>id: 2929</br>prediction: 0.17</br>distance: 30.750915259324586</br></br>h_a: 0.0</br>situation: 1.0</br>shotType: 0.0</br>lastAction: 14.0</br>minute: 41</br>angle: 76.94750555554026</br>_original_yhat_: 0.02</br>"
          ],
          [
           "</br>id: 2929</br>prediction: 0.17</br>distance: 31.77771696641382</br></br>h_a: 0.0</br>situation: 1.0</br>shotType: 0.0</br>lastAction: 14.0</br>minute: 41</br>angle: 76.94750555554026</br>_original_yhat_: 0.02</br>"
          ],
          [
           "</br>id: 2929</br>prediction: 0.17</br>distance: 32.80451867350305</br></br>h_a: 0.0</br>situation: 1.0</br>shotType: 0.0</br>lastAction: 14.0</br>minute: 41</br>angle: 76.94750555554026</br>_original_yhat_: 0.02</br>"
          ],
          [
           "</br>id: 2929</br>prediction: 0.17</br>distance: 33.83132038059228</br></br>h_a: 0.0</br>situation: 1.0</br>shotType: 0.0</br>lastAction: 14.0</br>minute: 41</br>angle: 76.94750555554026</br>_original_yhat_: 0.02</br>"
          ],
          [
           "</br>id: 2929</br>prediction: 0.17</br>distance: 34.858122087681515</br></br>h_a: 0.0</br>situation: 1.0</br>shotType: 0.0</br>lastAction: 14.0</br>minute: 41</br>angle: 76.94750555554026</br>_original_yhat_: 0.02</br>"
          ],
          [
           "</br>id: 2929</br>prediction: 0.17</br>distance: 35.88492379477074</br></br>h_a: 0.0</br>situation: 1.0</br>shotType: 0.0</br>lastAction: 14.0</br>minute: 41</br>angle: 76.94750555554026</br>_original_yhat_: 0.02</br>"
          ],
          [
           "</br>id: 2929</br>prediction: 0.17</br>distance: 36.911725501859976</br></br>h_a: 0.0</br>situation: 1.0</br>shotType: 0.0</br>lastAction: 14.0</br>minute: 41</br>angle: 76.94750555554026</br>_original_yhat_: 0.02</br>"
          ],
          [
           "</br>id: 2929</br>prediction: 0.17</br>distance: 37.9385272089492</br></br>h_a: 0.0</br>situation: 1.0</br>shotType: 0.0</br>lastAction: 14.0</br>minute: 41</br>angle: 76.94750555554026</br>_original_yhat_: 0.02</br>"
          ],
          [
           "</br>id: 2929</br>prediction: 0.17</br>distance: 38.96532891603844</br></br>h_a: 0.0</br>situation: 1.0</br>shotType: 0.0</br>lastAction: 14.0</br>minute: 41</br>angle: 76.94750555554026</br>_original_yhat_: 0.02</br>"
          ],
          [
           "</br>id: 2929</br>prediction: 0.17</br>distance: 39.99213062312767</br></br>h_a: 0.0</br>situation: 1.0</br>shotType: 0.0</br>lastAction: 14.0</br>minute: 41</br>angle: 76.94750555554026</br>_original_yhat_: 0.02</br>"
          ],
          [
           "</br>id: 2929</br>prediction: 0.17</br>distance: 41.0189323302169</br></br>h_a: 0.0</br>situation: 1.0</br>shotType: 0.0</br>lastAction: 14.0</br>minute: 41</br>angle: 76.94750555554026</br>_original_yhat_: 0.02</br>"
          ],
          [
           "</br>id: 2929</br>prediction: 0.17</br>distance: 42.04573403730613</br></br>h_a: 0.0</br>situation: 1.0</br>shotType: 0.0</br>lastAction: 14.0</br>minute: 41</br>angle: 76.94750555554026</br>_original_yhat_: 0.02</br>"
          ],
          [
           "</br>id: 2929</br>prediction: 0.17</br>distance: 43.07253574439536</br></br>h_a: 0.0</br>situation: 1.0</br>shotType: 0.0</br>lastAction: 14.0</br>minute: 41</br>angle: 76.94750555554026</br>_original_yhat_: 0.02</br>"
          ],
          [
           "</br>id: 2929</br>prediction: 0.17</br>distance: 44.099337451484594</br></br>h_a: 0.0</br>situation: 1.0</br>shotType: 0.0</br>lastAction: 14.0</br>minute: 41</br>angle: 76.94750555554026</br>_original_yhat_: 0.02</br>"
          ],
          [
           "</br>id: 2929</br>prediction: 0.17</br>distance: 45.12613915857383</br></br>h_a: 0.0</br>situation: 1.0</br>shotType: 0.0</br>lastAction: 14.0</br>minute: 41</br>angle: 76.94750555554026</br>_original_yhat_: 0.02</br>"
          ],
          [
           "</br>id: 2929</br>prediction: 0.17</br>distance: 46.152940865663055</br></br>h_a: 0.0</br>situation: 1.0</br>shotType: 0.0</br>lastAction: 14.0</br>minute: 41</br>angle: 76.94750555554026</br>_original_yhat_: 0.02</br>"
          ],
          [
           "</br>id: 2929</br>prediction: 0.17</br>distance: 47.17974257275229</br></br>h_a: 0.0</br>situation: 1.0</br>shotType: 0.0</br>lastAction: 14.0</br>minute: 41</br>angle: 76.94750555554026</br>_original_yhat_: 0.02</br>"
          ],
          [
           "</br>id: 2929</br>prediction: 0.17</br>distance: 48.206544279841516</br></br>h_a: 0.0</br>situation: 1.0</br>shotType: 0.0</br>lastAction: 14.0</br>minute: 41</br>angle: 76.94750555554026</br>_original_yhat_: 0.02</br>"
          ],
          [
           "</br>id: 2929</br>prediction: 0.17</br>distance: 49.23334598693075</br></br>h_a: 0.0</br>situation: 1.0</br>shotType: 0.0</br>lastAction: 14.0</br>minute: 41</br>angle: 76.94750555554026</br>_original_yhat_: 0.02</br>"
          ],
          [
           "</br>id: 2929</br>prediction: 0.17</br>distance: 50.26014769401998</br></br>h_a: 0.0</br>situation: 1.0</br>shotType: 0.0</br>lastAction: 14.0</br>minute: 41</br>angle: 76.94750555554026</br>_original_yhat_: 0.02</br>"
          ],
          [
           "</br>id: 2929</br>prediction: 0.17</br>distance: 51.28694940110921</br></br>h_a: 0.0</br>situation: 1.0</br>shotType: 0.0</br>lastAction: 14.0</br>minute: 41</br>angle: 76.94750555554026</br>_original_yhat_: 0.02</br>"
          ],
          [
           "</br>id: 2929</br>prediction: 0.17</br>distance: 52.313751108198446</br></br>h_a: 0.0</br>situation: 1.0</br>shotType: 0.0</br>lastAction: 14.0</br>minute: 41</br>angle: 76.94750555554026</br>_original_yhat_: 0.02</br>"
          ],
          [
           "</br>id: 2929</br>prediction: 0.17</br>distance: 53.34055281528767</br></br>h_a: 0.0</br>situation: 1.0</br>shotType: 0.0</br>lastAction: 14.0</br>minute: 41</br>angle: 76.94750555554026</br>_original_yhat_: 0.02</br>"
          ],
          [
           "</br>id: 2929</br>prediction: 0.17</br>distance: 54.36735452237691</br></br>h_a: 0.0</br>situation: 1.0</br>shotType: 0.0</br>lastAction: 14.0</br>minute: 41</br>angle: 76.94750555554026</br>_original_yhat_: 0.02</br>"
          ],
          [
           "</br>id: 2929</br>prediction: 0.17</br>distance: 55.394156229466134</br></br>h_a: 0.0</br>situation: 1.0</br>shotType: 0.0</br>lastAction: 14.0</br>minute: 41</br>angle: 76.94750555554026</br>_original_yhat_: 0.02</br>"
          ],
          [
           "</br>id: 2929</br>prediction: 0.17</br>distance: 56.42095793655537</br></br>h_a: 0.0</br>situation: 1.0</br>shotType: 0.0</br>lastAction: 14.0</br>minute: 41</br>angle: 76.94750555554026</br>_original_yhat_: 0.02</br>"
          ],
          [
           "</br>id: 2929</br>prediction: 0.17</br>distance: 57.4477596436446</br></br>h_a: 0.0</br>situation: 1.0</br>shotType: 0.0</br>lastAction: 14.0</br>minute: 41</br>angle: 76.94750555554026</br>_original_yhat_: 0.02</br>"
          ],
          [
           "</br>id: 2929</br>prediction: 0.17</br>distance: 58.47456135073383</br></br>h_a: 0.0</br>situation: 1.0</br>shotType: 0.0</br>lastAction: 14.0</br>minute: 41</br>angle: 76.94750555554026</br>_original_yhat_: 0.02</br>"
          ],
          [
           "</br>id: 2929</br>prediction: 0.17</br>distance: 59.50136305782306</br></br>h_a: 0.0</br>situation: 1.0</br>shotType: 0.0</br>lastAction: 14.0</br>minute: 41</br>angle: 76.94750555554026</br>_original_yhat_: 0.02</br>"
          ],
          [
           "</br>id: 2929</br>prediction: 0.17</br>distance: 60.52816476491229</br></br>h_a: 0.0</br>situation: 1.0</br>shotType: 0.0</br>lastAction: 14.0</br>minute: 41</br>angle: 76.94750555554026</br>_original_yhat_: 0.02</br>"
          ],
          [
           "</br>id: 2929</br>prediction: 0.17</br>distance: 61.554966472001524</br></br>h_a: 0.0</br>situation: 1.0</br>shotType: 0.0</br>lastAction: 14.0</br>minute: 41</br>angle: 76.94750555554026</br>_original_yhat_: 0.02</br>"
          ],
          [
           "</br>id: 2929</br>prediction: 0.17</br>distance: 62.58176817909076</br></br>h_a: 0.0</br>situation: 1.0</br>shotType: 0.0</br>lastAction: 14.0</br>minute: 41</br>angle: 76.94750555554026</br>_original_yhat_: 0.02</br>"
          ],
          [
           "</br>id: 2929</br>prediction: 0.17</br>distance: 63.608569886179986</br></br>h_a: 0.0</br>situation: 1.0</br>shotType: 0.0</br>lastAction: 14.0</br>minute: 41</br>angle: 76.94750555554026</br>_original_yhat_: 0.02</br>"
          ],
          [
           "</br>id: 2929</br>prediction: 0.17</br>distance: 64.63537159326921</br></br>h_a: 0.0</br>situation: 1.0</br>shotType: 0.0</br>lastAction: 14.0</br>minute: 41</br>angle: 76.94750555554026</br>_original_yhat_: 0.02</br>"
          ],
          [
           "</br>id: 2929</br>prediction: 0.17</br>distance: 65.66217330035845</br></br>h_a: 0.0</br>situation: 1.0</br>shotType: 0.0</br>lastAction: 14.0</br>minute: 41</br>angle: 76.94750555554026</br>_original_yhat_: 0.02</br>"
          ],
          [
           "</br>id: 2929</br>prediction: 0.17</br>distance: 66.68897500744768</br></br>h_a: 0.0</br>situation: 1.0</br>shotType: 0.0</br>lastAction: 14.0</br>minute: 41</br>angle: 76.94750555554026</br>_original_yhat_: 0.02</br>"
          ],
          [
           "</br>id: 2929</br>prediction: 0.17</br>distance: 67.71577671453691</br></br>h_a: 0.0</br>situation: 1.0</br>shotType: 0.0</br>lastAction: 14.0</br>minute: 41</br>angle: 76.94750555554026</br>_original_yhat_: 0.02</br>"
          ],
          [
           "</br>id: 2929</br>prediction: 0.17</br>distance: 68.74257842162615</br></br>h_a: 0.0</br>situation: 1.0</br>shotType: 0.0</br>lastAction: 14.0</br>minute: 41</br>angle: 76.94750555554026</br>_original_yhat_: 0.02</br>"
          ],
          [
           "</br>id: 2929</br>prediction: 0.17</br>distance: 69.76938012871537</br></br>h_a: 0.0</br>situation: 1.0</br>shotType: 0.0</br>lastAction: 14.0</br>minute: 41</br>angle: 76.94750555554026</br>_original_yhat_: 0.02</br>"
          ],
          [
           "</br>id: 2929</br>prediction: 0.17</br>distance: 70.7961818358046</br></br>h_a: 0.0</br>situation: 1.0</br>shotType: 0.0</br>lastAction: 14.0</br>minute: 41</br>angle: 76.94750555554026</br>_original_yhat_: 0.02</br>"
          ],
          [
           "</br>id: 2929</br>prediction: 0.17</br>distance: 71.82298354289384</br></br>h_a: 0.0</br>situation: 1.0</br>shotType: 0.0</br>lastAction: 14.0</br>minute: 41</br>angle: 76.94750555554026</br>_original_yhat_: 0.02</br>"
          ],
          [
           "</br>id: 2929</br>prediction: 0.17</br>distance: 72.84978524998307</br></br>h_a: 0.0</br>situation: 1.0</br>shotType: 0.0</br>lastAction: 14.0</br>minute: 41</br>angle: 76.94750555554026</br>_original_yhat_: 0.02</br>"
          ],
          [
           "</br>id: 2929</br>prediction: 0.17</br>distance: 73.8765869570723</br></br>h_a: 0.0</br>situation: 1.0</br>shotType: 0.0</br>lastAction: 14.0</br>minute: 41</br>angle: 76.94750555554026</br>_original_yhat_: 0.02</br>"
          ],
          [
           "</br>id: 2929</br>prediction: 0.17</br>distance: 74.90338866416153</br></br>h_a: 0.0</br>situation: 1.0</br>shotType: 0.0</br>lastAction: 14.0</br>minute: 41</br>angle: 76.94750555554026</br>_original_yhat_: 0.02</br>"
          ],
          [
           "</br>id: 2929</br>prediction: 0.17</br>distance: 75.93019037125076</br></br>h_a: 0.0</br>situation: 1.0</br>shotType: 0.0</br>lastAction: 14.0</br>minute: 41</br>angle: 76.94750555554026</br>_original_yhat_: 0.02</br>"
          ],
          [
           "</br>id: 2929</br>prediction: 0.17</br>distance: 76.95699207834</br></br>h_a: 0.0</br>situation: 1.0</br>shotType: 0.0</br>lastAction: 14.0</br>minute: 41</br>angle: 76.94750555554026</br>_original_yhat_: 0.02</br>"
          ],
          [
           "</br>id: 2929</br>prediction: 0.17</br>distance: 77.98379378542923</br></br>h_a: 0.0</br>situation: 1.0</br>shotType: 0.0</br>lastAction: 14.0</br>minute: 41</br>angle: 76.94750555554026</br>_original_yhat_: 0.02</br>"
          ],
          [
           "</br>id: 2929</br>prediction: 0.17</br>distance: 79.01059549251846</br></br>h_a: 0.0</br>situation: 1.0</br>shotType: 0.0</br>lastAction: 14.0</br>minute: 41</br>angle: 76.94750555554026</br>_original_yhat_: 0.02</br>"
          ],
          [
           "</br>id: 2929</br>prediction: 0.17</br>distance: 80.03739719960768</br></br>h_a: 0.0</br>situation: 1.0</br>shotType: 0.0</br>lastAction: 14.0</br>minute: 41</br>angle: 76.94750555554026</br>_original_yhat_: 0.02</br>"
          ],
          [
           "</br>id: 2929</br>prediction: 0.17</br>distance: 81.06419890669692</br></br>h_a: 0.0</br>situation: 1.0</br>shotType: 0.0</br>lastAction: 14.0</br>minute: 41</br>angle: 76.94750555554026</br>_original_yhat_: 0.02</br>"
          ],
          [
           "</br>id: 2929</br>prediction: 0.17</br>distance: 82.09100061378615</br></br>h_a: 0.0</br>situation: 1.0</br>shotType: 0.0</br>lastAction: 14.0</br>minute: 41</br>angle: 76.94750555554026</br>_original_yhat_: 0.02</br>"
          ],
          [
           "</br>id: 2929</br>prediction: 0.17</br>distance: 83.11780232087538</br></br>h_a: 0.0</br>situation: 1.0</br>shotType: 0.0</br>lastAction: 14.0</br>minute: 41</br>angle: 76.94750555554026</br>_original_yhat_: 0.02</br>"
          ],
          [
           "</br>id: 2929</br>prediction: 0.17</br>distance: 84.14460402796462</br></br>h_a: 0.0</br>situation: 1.0</br>shotType: 0.0</br>lastAction: 14.0</br>minute: 41</br>angle: 76.94750555554026</br>_original_yhat_: 0.02</br>"
          ],
          [
           "</br>id: 2929</br>prediction: 0.17</br>distance: 85.17140573505384</br></br>h_a: 0.0</br>situation: 1.0</br>shotType: 0.0</br>lastAction: 14.0</br>minute: 41</br>angle: 76.94750555554026</br>_original_yhat_: 0.02</br>"
          ],
          [
           "</br>id: 2929</br>prediction: 0.17</br>distance: 86.19820744214307</br></br>h_a: 0.0</br>situation: 1.0</br>shotType: 0.0</br>lastAction: 14.0</br>minute: 41</br>angle: 76.94750555554026</br>_original_yhat_: 0.02</br>"
          ],
          [
           "</br>id: 2929</br>prediction: 0.17</br>distance: 87.2250091492323</br></br>h_a: 0.0</br>situation: 1.0</br>shotType: 0.0</br>lastAction: 14.0</br>minute: 41</br>angle: 76.94750555554026</br>_original_yhat_: 0.02</br>"
          ],
          [
           "</br>id: 2929</br>prediction: 0.17</br>distance: 88.25181085632154</br></br>h_a: 0.0</br>situation: 1.0</br>shotType: 0.0</br>lastAction: 14.0</br>minute: 41</br>angle: 76.94750555554026</br>_original_yhat_: 0.02</br>"
          ],
          [
           "</br>id: 2929</br>prediction: 0.17</br>distance: 89.27861256341077</br></br>h_a: 0.0</br>situation: 1.0</br>shotType: 0.0</br>lastAction: 14.0</br>minute: 41</br>angle: 76.94750555554026</br>_original_yhat_: 0.02</br>"
          ],
          [
           "</br>id: 2929</br>prediction: 0.17</br>distance: 90.3054142705</br></br>h_a: 0.0</br>situation: 1.0</br>shotType: 0.0</br>lastAction: 14.0</br>minute: 41</br>angle: 76.94750555554026</br>_original_yhat_: 0.02</br>"
          ],
          [
           "</br>id: 2929</br>prediction: 0.17</br>distance: 91.33221597758923</br></br>h_a: 0.0</br>situation: 1.0</br>shotType: 0.0</br>lastAction: 14.0</br>minute: 41</br>angle: 76.94750555554026</br>_original_yhat_: 0.02</br>"
          ],
          [
           "</br>id: 2929</br>prediction: 0.17</br>distance: 92.35901768467846</br></br>h_a: 0.0</br>situation: 1.0</br>shotType: 0.0</br>lastAction: 14.0</br>minute: 41</br>angle: 76.94750555554026</br>_original_yhat_: 0.02</br>"
          ],
          [
           "</br>id: 2929</br>prediction: 0.17</br>distance: 93.3858193917677</br></br>h_a: 0.0</br>situation: 1.0</br>shotType: 0.0</br>lastAction: 14.0</br>minute: 41</br>angle: 76.94750555554026</br>_original_yhat_: 0.02</br>"
          ],
          [
           "</br>id: 2929</br>prediction: 0.17</br>distance: 94.41262109885693</br></br>h_a: 0.0</br>situation: 1.0</br>shotType: 0.0</br>lastAction: 14.0</br>minute: 41</br>angle: 76.94750555554026</br>_original_yhat_: 0.02</br>"
          ],
          [
           "</br>id: 2929</br>prediction: 0.17</br>distance: 95.43942280594615</br></br>h_a: 0.0</br>situation: 1.0</br>shotType: 0.0</br>lastAction: 14.0</br>minute: 41</br>angle: 76.94750555554026</br>_original_yhat_: 0.02</br>"
          ],
          [
           "</br>id: 2929</br>prediction: 0.17</br>distance: 96.46622451303539</br></br>h_a: 0.0</br>situation: 1.0</br>shotType: 0.0</br>lastAction: 14.0</br>minute: 41</br>angle: 76.94750555554026</br>_original_yhat_: 0.02</br>"
          ],
          [
           "</br>id: 2929</br>prediction: 0.17</br>distance: 97.49302622012462</br></br>h_a: 0.0</br>situation: 1.0</br>shotType: 0.0</br>lastAction: 14.0</br>minute: 41</br>angle: 76.94750555554026</br>_original_yhat_: 0.02</br>"
          ],
          [
           "</br>id: 2929</br>prediction: 0.17</br>distance: 98.51982792721385</br></br>h_a: 0.0</br>situation: 1.0</br>shotType: 0.0</br>lastAction: 14.0</br>minute: 41</br>angle: 76.94750555554026</br>_original_yhat_: 0.02</br>"
          ],
          [
           "</br>id: 2929</br>prediction: 0.17</br>distance: 99.54662963430307</br></br>h_a: 0.0</br>situation: 1.0</br>shotType: 0.0</br>lastAction: 14.0</br>minute: 41</br>angle: 76.94750555554026</br>_original_yhat_: 0.02</br>"
          ],
          [
           "</br>id: 2929</br>prediction: 0.17</br>distance: 100.57343134139231</br></br>h_a: 0.0</br>situation: 1.0</br>shotType: 0.0</br>lastAction: 14.0</br>minute: 41</br>angle: 76.94750555554026</br>_original_yhat_: 0.02</br>"
          ],
          [
           "</br>id: 2929</br>prediction: 0.17</br>distance: 101.60023304848154</br></br>h_a: 0.0</br>situation: 1.0</br>shotType: 0.0</br>lastAction: 14.0</br>minute: 41</br>angle: 76.94750555554026</br>_original_yhat_: 0.02</br>"
          ],
          [
           "</br>id: 2929</br>prediction: 0.17</br>distance: 102.62703475557078</br></br>h_a: 0.0</br>situation: 1.0</br>shotType: 0.0</br>lastAction: 14.0</br>minute: 41</br>angle: 76.94750555554026</br>_original_yhat_: 0.02</br>"
          ],
          [
           "</br>id: 2929</br>prediction: 0.17</br>distance: 103.65383646266001</br></br>h_a: 0.0</br>situation: 1.0</br>shotType: 0.0</br>lastAction: 14.0</br>minute: 41</br>angle: 76.94750555554026</br>_original_yhat_: 0.02</br>"
          ]
         ],
         "hovertemplate": "%{customdata[0]}<extra></extra>",
         "legendgroup": "RandomForestClassifier",
         "line": {
          "color": "#f05a71",
          "dash": "solid",
          "width": 2
         },
         "marker": {
          "symbol": "circle"
         },
         "mode": "lines",
         "name": "RandomForestClassifier",
         "opacity": 1,
         "showlegend": false,
         "type": "scattergl",
         "x": [
          0.9736657537368798,
          2.000467460826111,
          3.0272691679153425,
          4.054070875004573,
          4.588861943363718,
          5.0808725820938045,
          6.107674289183036,
          7.134475996272267,
          8.161277703361499,
          9.18807941045073,
          10.21488111753996,
          11.241682824629192,
          12.268484531718423,
          13.295286238807654,
          14.322087945896886,
          15.348889652986117,
          16.37569136007535,
          17.40249306716458,
          18.429294774253812,
          19.456096481343042,
          20.482898188432276,
          21.509699895521507,
          22.536501602610738,
          23.56330330969997,
          24.5901050167892,
          25.61690672387843,
          26.643708430967664,
          27.670510138056894,
          28.697311845146125,
          29.724113552235355,
          30.750915259324586,
          31.77771696641382,
          32.80451867350305,
          33.83132038059228,
          34.858122087681515,
          35.88492379477074,
          36.911725501859976,
          37.9385272089492,
          38.96532891603844,
          39.99213062312767,
          41.0189323302169,
          42.04573403730613,
          43.07253574439536,
          44.099337451484594,
          45.12613915857383,
          46.152940865663055,
          47.17974257275229,
          48.206544279841516,
          49.23334598693075,
          50.26014769401998,
          51.28694940110921,
          52.313751108198446,
          53.34055281528767,
          54.36735452237691,
          55.394156229466134,
          56.42095793655537,
          57.4477596436446,
          58.47456135073383,
          59.50136305782306,
          60.52816476491229,
          61.554966472001524,
          62.58176817909076,
          63.608569886179986,
          64.63537159326921,
          65.66217330035845,
          66.68897500744768,
          67.71577671453691,
          68.74257842162615,
          69.76938012871537,
          70.7961818358046,
          71.82298354289384,
          72.84978524998307,
          73.8765869570723,
          74.90338866416153,
          75.93019037125076,
          76.95699207834,
          77.98379378542923,
          79.01059549251846,
          80.03739719960768,
          81.06419890669692,
          82.09100061378615,
          83.11780232087538,
          84.14460402796462,
          85.17140573505384,
          86.19820744214307,
          87.2250091492323,
          88.25181085632154,
          89.27861256341077,
          90.3054142705,
          91.33221597758923,
          92.35901768467846,
          93.3858193917677,
          94.41262109885693,
          95.43942280594615,
          96.46622451303539,
          97.49302622012462,
          98.51982792721385,
          99.54662963430307,
          100.57343134139231,
          101.60023304848154,
          102.62703475557078,
          103.65383646266001
         ],
         "xaxis": "x4",
         "y": [
          0.53,
          0.53,
          0.18,
          0.04,
          0.02,
          0.01,
          0.21,
          0.13,
          0.1,
          0.09,
          0.08,
          0.1,
          0.19,
          0.16,
          0.17,
          0.17,
          0.16,
          0.17,
          0.17,
          0.18,
          0.17,
          0.18,
          0.19,
          0.18,
          0.18,
          0.17,
          0.17,
          0.17,
          0.17,
          0.17,
          0.17,
          0.17,
          0.17,
          0.17,
          0.17,
          0.17,
          0.17,
          0.17,
          0.17,
          0.17,
          0.17,
          0.17,
          0.17,
          0.17,
          0.17,
          0.17,
          0.17,
          0.17,
          0.17,
          0.17,
          0.17,
          0.17,
          0.17,
          0.17,
          0.17,
          0.17,
          0.17,
          0.17,
          0.17,
          0.17,
          0.17,
          0.17,
          0.17,
          0.17,
          0.17,
          0.17,
          0.17,
          0.17,
          0.17,
          0.17,
          0.17,
          0.17,
          0.17,
          0.17,
          0.17,
          0.17,
          0.17,
          0.17,
          0.17,
          0.17,
          0.17,
          0.17,
          0.17,
          0.17,
          0.17,
          0.17,
          0.17,
          0.17,
          0.17,
          0.17,
          0.17,
          0.17,
          0.17,
          0.17,
          0.17,
          0.17,
          0.17,
          0.17,
          0.17,
          0.17,
          0.17,
          0.17
         ],
         "yaxis": "y4"
        },
        {
         "customdata": [
          [
           "</br>id: 2929</br>prediction: 0.37</br>angle: 2.0520442300827204</br></br>h_a: 0.0</br>situation: 1.0</br>shotType: 0.0</br>lastAction: 14.0</br>minute: 41</br>distance: 4.588861943363718</br>_original_yhat_: 0.02</br>"
          ],
          [
           "</br>id: 2929</br>prediction: 0.37</br>angle: 2.929528255455247</br></br>h_a: 0.0</br>situation: 1.0</br>shotType: 0.0</br>lastAction: 14.0</br>minute: 41</br>distance: 4.588861943363718</br>_original_yhat_: 0.02</br>"
          ],
          [
           "</br>id: 2929</br>prediction: 0.37</br>angle: 3.8070122808277738</br></br>h_a: 0.0</br>situation: 1.0</br>shotType: 0.0</br>lastAction: 14.0</br>minute: 41</br>distance: 4.588861943363718</br>_original_yhat_: 0.02</br>"
          ],
          [
           "</br>id: 2929</br>prediction: 0.37</br>angle: 4.6844963062003</br></br>h_a: 0.0</br>situation: 1.0</br>shotType: 0.0</br>lastAction: 14.0</br>minute: 41</br>distance: 4.588861943363718</br>_original_yhat_: 0.02</br>"
          ],
          [
           "</br>id: 2929</br>prediction: 0.37</br>angle: 5.561980331572826</br></br>h_a: 0.0</br>situation: 1.0</br>shotType: 0.0</br>lastAction: 14.0</br>minute: 41</br>distance: 4.588861943363718</br>_original_yhat_: 0.02</br>"
          ],
          [
           "</br>id: 2929</br>prediction: 0.36</br>angle: 6.439464356945353</br></br>h_a: 0.0</br>situation: 1.0</br>shotType: 0.0</br>lastAction: 14.0</br>minute: 41</br>distance: 4.588861943363718</br>_original_yhat_: 0.02</br>"
          ],
          [
           "</br>id: 2929</br>prediction: 0.36</br>angle: 7.31694838231788</br></br>h_a: 0.0</br>situation: 1.0</br>shotType: 0.0</br>lastAction: 14.0</br>minute: 41</br>distance: 4.588861943363718</br>_original_yhat_: 0.02</br>"
          ],
          [
           "</br>id: 2929</br>prediction: 0.36</br>angle: 8.194432407690407</br></br>h_a: 0.0</br>situation: 1.0</br>shotType: 0.0</br>lastAction: 14.0</br>minute: 41</br>distance: 4.588861943363718</br>_original_yhat_: 0.02</br>"
          ],
          [
           "</br>id: 2929</br>prediction: 0.36</br>angle: 9.071916433062933</br></br>h_a: 0.0</br>situation: 1.0</br>shotType: 0.0</br>lastAction: 14.0</br>minute: 41</br>distance: 4.588861943363718</br>_original_yhat_: 0.02</br>"
          ],
          [
           "</br>id: 2929</br>prediction: 0.37</br>angle: 9.94940045843546</br></br>h_a: 0.0</br>situation: 1.0</br>shotType: 0.0</br>lastAction: 14.0</br>minute: 41</br>distance: 4.588861943363718</br>_original_yhat_: 0.02</br>"
          ],
          [
           "</br>id: 2929</br>prediction: 0.37</br>angle: 10.826884483807987</br></br>h_a: 0.0</br>situation: 1.0</br>shotType: 0.0</br>lastAction: 14.0</br>minute: 41</br>distance: 4.588861943363718</br>_original_yhat_: 0.02</br>"
          ],
          [
           "</br>id: 2929</br>prediction: 0.37</br>angle: 11.704368509180512</br></br>h_a: 0.0</br>situation: 1.0</br>shotType: 0.0</br>lastAction: 14.0</br>minute: 41</br>distance: 4.588861943363718</br>_original_yhat_: 0.02</br>"
          ],
          [
           "</br>id: 2929</br>prediction: 0.37</br>angle: 12.58185253455304</br></br>h_a: 0.0</br>situation: 1.0</br>shotType: 0.0</br>lastAction: 14.0</br>minute: 41</br>distance: 4.588861943363718</br>_original_yhat_: 0.02</br>"
          ],
          [
           "</br>id: 2929</br>prediction: 0.39</br>angle: 13.459336559925564</br></br>h_a: 0.0</br>situation: 1.0</br>shotType: 0.0</br>lastAction: 14.0</br>minute: 41</br>distance: 4.588861943363718</br>_original_yhat_: 0.02</br>"
          ],
          [
           "</br>id: 2929</br>prediction: 0.39</br>angle: 14.336820585298092</br></br>h_a: 0.0</br>situation: 1.0</br>shotType: 0.0</br>lastAction: 14.0</br>minute: 41</br>distance: 4.588861943363718</br>_original_yhat_: 0.02</br>"
          ],
          [
           "</br>id: 2929</br>prediction: 0.37</br>angle: 15.21430461067062</br></br>h_a: 0.0</br>situation: 1.0</br>shotType: 0.0</br>lastAction: 14.0</br>minute: 41</br>distance: 4.588861943363718</br>_original_yhat_: 0.02</br>"
          ],
          [
           "</br>id: 2929</br>prediction: 0.39</br>angle: 16.091788636043145</br></br>h_a: 0.0</br>situation: 1.0</br>shotType: 0.0</br>lastAction: 14.0</br>minute: 41</br>distance: 4.588861943363718</br>_original_yhat_: 0.02</br>"
          ],
          [
           "</br>id: 2929</br>prediction: 0.32</br>angle: 16.969272661415673</br></br>h_a: 0.0</br>situation: 1.0</br>shotType: 0.0</br>lastAction: 14.0</br>minute: 41</br>distance: 4.588861943363718</br>_original_yhat_: 0.02</br>"
          ],
          [
           "</br>id: 2929</br>prediction: 0.31</br>angle: 17.846756686788197</br></br>h_a: 0.0</br>situation: 1.0</br>shotType: 0.0</br>lastAction: 14.0</br>minute: 41</br>distance: 4.588861943363718</br>_original_yhat_: 0.02</br>"
          ],
          [
           "</br>id: 2929</br>prediction: 0.31</br>angle: 18.724240712160725</br></br>h_a: 0.0</br>situation: 1.0</br>shotType: 0.0</br>lastAction: 14.0</br>minute: 41</br>distance: 4.588861943363718</br>_original_yhat_: 0.02</br>"
          ],
          [
           "</br>id: 2929</br>prediction: 0.29</br>angle: 19.601724737533253</br></br>h_a: 0.0</br>situation: 1.0</br>shotType: 0.0</br>lastAction: 14.0</br>minute: 41</br>distance: 4.588861943363718</br>_original_yhat_: 0.02</br>"
          ],
          [
           "</br>id: 2929</br>prediction: 0.28</br>angle: 20.479208762905778</br></br>h_a: 0.0</br>situation: 1.0</br>shotType: 0.0</br>lastAction: 14.0</br>minute: 41</br>distance: 4.588861943363718</br>_original_yhat_: 0.02</br>"
          ],
          [
           "</br>id: 2929</br>prediction: 0.25</br>angle: 21.356692788278306</br></br>h_a: 0.0</br>situation: 1.0</br>shotType: 0.0</br>lastAction: 14.0</br>minute: 41</br>distance: 4.588861943363718</br>_original_yhat_: 0.02</br>"
          ],
          [
           "</br>id: 2929</br>prediction: 0.24</br>angle: 22.234176813650834</br></br>h_a: 0.0</br>situation: 1.0</br>shotType: 0.0</br>lastAction: 14.0</br>minute: 41</br>distance: 4.588861943363718</br>_original_yhat_: 0.02</br>"
          ],
          [
           "</br>id: 2929</br>prediction: 0.23</br>angle: 23.111660839023358</br></br>h_a: 0.0</br>situation: 1.0</br>shotType: 0.0</br>lastAction: 14.0</br>minute: 41</br>distance: 4.588861943363718</br>_original_yhat_: 0.02</br>"
          ],
          [
           "</br>id: 2929</br>prediction: 0.23</br>angle: 23.989144864395886</br></br>h_a: 0.0</br>situation: 1.0</br>shotType: 0.0</br>lastAction: 14.0</br>minute: 41</br>distance: 4.588861943363718</br>_original_yhat_: 0.02</br>"
          ],
          [
           "</br>id: 2929</br>prediction: 0.23</br>angle: 24.86662888976841</br></br>h_a: 0.0</br>situation: 1.0</br>shotType: 0.0</br>lastAction: 14.0</br>minute: 41</br>distance: 4.588861943363718</br>_original_yhat_: 0.02</br>"
          ],
          [
           "</br>id: 2929</br>prediction: 0.23</br>angle: 25.74411291514094</br></br>h_a: 0.0</br>situation: 1.0</br>shotType: 0.0</br>lastAction: 14.0</br>minute: 41</br>distance: 4.588861943363718</br>_original_yhat_: 0.02</br>"
          ],
          [
           "</br>id: 2929</br>prediction: 0.23</br>angle: 26.621596940513466</br></br>h_a: 0.0</br>situation: 1.0</br>shotType: 0.0</br>lastAction: 14.0</br>minute: 41</br>distance: 4.588861943363718</br>_original_yhat_: 0.02</br>"
          ],
          [
           "</br>id: 2929</br>prediction: 0.22</br>angle: 27.49908096588599</br></br>h_a: 0.0</br>situation: 1.0</br>shotType: 0.0</br>lastAction: 14.0</br>minute: 41</br>distance: 4.588861943363718</br>_original_yhat_: 0.02</br>"
          ],
          [
           "</br>id: 2929</br>prediction: 0.22</br>angle: 28.37656499125852</br></br>h_a: 0.0</br>situation: 1.0</br>shotType: 0.0</br>lastAction: 14.0</br>minute: 41</br>distance: 4.588861943363718</br>_original_yhat_: 0.02</br>"
          ],
          [
           "</br>id: 2929</br>prediction: 0.22</br>angle: 29.254049016631043</br></br>h_a: 0.0</br>situation: 1.0</br>shotType: 0.0</br>lastAction: 14.0</br>minute: 41</br>distance: 4.588861943363718</br>_original_yhat_: 0.02</br>"
          ],
          [
           "</br>id: 2929</br>prediction: 0.21</br>angle: 30.13153304200357</br></br>h_a: 0.0</br>situation: 1.0</br>shotType: 0.0</br>lastAction: 14.0</br>minute: 41</br>distance: 4.588861943363718</br>_original_yhat_: 0.02</br>"
          ],
          [
           "</br>id: 2929</br>prediction: 0.21</br>angle: 31.0090170673761</br></br>h_a: 0.0</br>situation: 1.0</br>shotType: 0.0</br>lastAction: 14.0</br>minute: 41</br>distance: 4.588861943363718</br>_original_yhat_: 0.02</br>"
          ],
          [
           "</br>id: 2929</br>prediction: 0.21</br>angle: 31.886501092748624</br></br>h_a: 0.0</br>situation: 1.0</br>shotType: 0.0</br>lastAction: 14.0</br>minute: 41</br>distance: 4.588861943363718</br>_original_yhat_: 0.02</br>"
          ],
          [
           "</br>id: 2929</br>prediction: 0.21</br>angle: 32.76398511812115</br></br>h_a: 0.0</br>situation: 1.0</br>shotType: 0.0</br>lastAction: 14.0</br>minute: 41</br>distance: 4.588861943363718</br>_original_yhat_: 0.02</br>"
          ],
          [
           "</br>id: 2929</br>prediction: 0.21</br>angle: 33.64146914349367</br></br>h_a: 0.0</br>situation: 1.0</br>shotType: 0.0</br>lastAction: 14.0</br>minute: 41</br>distance: 4.588861943363718</br>_original_yhat_: 0.02</br>"
          ],
          [
           "</br>id: 2929</br>prediction: 0.18</br>angle: 34.518953168866204</br></br>h_a: 0.0</br>situation: 1.0</br>shotType: 0.0</br>lastAction: 14.0</br>minute: 41</br>distance: 4.588861943363718</br>_original_yhat_: 0.02</br>"
          ],
          [
           "</br>id: 2929</br>prediction: 0.18</br>angle: 35.39643719423873</br></br>h_a: 0.0</br>situation: 1.0</br>shotType: 0.0</br>lastAction: 14.0</br>minute: 41</br>distance: 4.588861943363718</br>_original_yhat_: 0.02</br>"
          ],
          [
           "</br>id: 2929</br>prediction: 0.17</br>angle: 36.27392121961126</br></br>h_a: 0.0</br>situation: 1.0</br>shotType: 0.0</br>lastAction: 14.0</br>minute: 41</br>distance: 4.588861943363718</br>_original_yhat_: 0.02</br>"
          ],
          [
           "</br>id: 2929</br>prediction: 0.17</br>angle: 37.151405244983785</br></br>h_a: 0.0</br>situation: 1.0</br>shotType: 0.0</br>lastAction: 14.0</br>minute: 41</br>distance: 4.588861943363718</br>_original_yhat_: 0.02</br>"
          ],
          [
           "</br>id: 2929</br>prediction: 0.16</br>angle: 38.02888927035631</br></br>h_a: 0.0</br>situation: 1.0</br>shotType: 0.0</br>lastAction: 14.0</br>minute: 41</br>distance: 4.588861943363718</br>_original_yhat_: 0.02</br>"
          ],
          [
           "</br>id: 2929</br>prediction: 0.19</br>angle: 38.906373295728834</br></br>h_a: 0.0</br>situation: 1.0</br>shotType: 0.0</br>lastAction: 14.0</br>minute: 41</br>distance: 4.588861943363718</br>_original_yhat_: 0.02</br>"
          ],
          [
           "</br>id: 2929</br>prediction: 0.17</br>angle: 39.783857321101365</br></br>h_a: 0.0</br>situation: 1.0</br>shotType: 0.0</br>lastAction: 14.0</br>minute: 41</br>distance: 4.588861943363718</br>_original_yhat_: 0.02</br>"
          ],
          [
           "</br>id: 2929</br>prediction: 0.17</br>angle: 40.66134134647389</br></br>h_a: 0.0</br>situation: 1.0</br>shotType: 0.0</br>lastAction: 14.0</br>minute: 41</br>distance: 4.588861943363718</br>_original_yhat_: 0.02</br>"
          ],
          [
           "</br>id: 2929</br>prediction: 0.17</br>angle: 41.538825371846414</br></br>h_a: 0.0</br>situation: 1.0</br>shotType: 0.0</br>lastAction: 14.0</br>minute: 41</br>distance: 4.588861943363718</br>_original_yhat_: 0.02</br>"
          ],
          [
           "</br>id: 2929</br>prediction: 0.17</br>angle: 42.416309397218946</br></br>h_a: 0.0</br>situation: 1.0</br>shotType: 0.0</br>lastAction: 14.0</br>minute: 41</br>distance: 4.588861943363718</br>_original_yhat_: 0.02</br>"
          ],
          [
           "</br>id: 2929</br>prediction: 0.2</br>angle: 43.29379342259147</br></br>h_a: 0.0</br>situation: 1.0</br>shotType: 0.0</br>lastAction: 14.0</br>minute: 41</br>distance: 4.588861943363718</br>_original_yhat_: 0.02</br>"
          ],
          [
           "</br>id: 2929</br>prediction: 0.19</br>angle: 44.171277447963995</br></br>h_a: 0.0</br>situation: 1.0</br>shotType: 0.0</br>lastAction: 14.0</br>minute: 41</br>distance: 4.588861943363718</br>_original_yhat_: 0.02</br>"
          ],
          [
           "</br>id: 2929</br>prediction: 0.2</br>angle: 45.048761473336526</br></br>h_a: 0.0</br>situation: 1.0</br>shotType: 0.0</br>lastAction: 14.0</br>minute: 41</br>distance: 4.588861943363718</br>_original_yhat_: 0.02</br>"
          ],
          [
           "</br>id: 2929</br>prediction: 0.28</br>angle: 45.92624549870905</br></br>h_a: 0.0</br>situation: 1.0</br>shotType: 0.0</br>lastAction: 14.0</br>minute: 41</br>distance: 4.588861943363718</br>_original_yhat_: 0.02</br>"
          ],
          [
           "</br>id: 2929</br>prediction: 0.27</br>angle: 46.803729524081575</br></br>h_a: 0.0</br>situation: 1.0</br>shotType: 0.0</br>lastAction: 14.0</br>minute: 41</br>distance: 4.588861943363718</br>_original_yhat_: 0.02</br>"
          ],
          [
           "</br>id: 2929</br>prediction: 0.24</br>angle: 47.6812135494541</br></br>h_a: 0.0</br>situation: 1.0</br>shotType: 0.0</br>lastAction: 14.0</br>minute: 41</br>distance: 4.588861943363718</br>_original_yhat_: 0.02</br>"
          ],
          [
           "</br>id: 2929</br>prediction: 0.21</br>angle: 48.55869757482663</br></br>h_a: 0.0</br>situation: 1.0</br>shotType: 0.0</br>lastAction: 14.0</br>minute: 41</br>distance: 4.588861943363718</br>_original_yhat_: 0.02</br>"
          ],
          [
           "</br>id: 2929</br>prediction: 0.21</br>angle: 49.436181600199156</br></br>h_a: 0.0</br>situation: 1.0</br>shotType: 0.0</br>lastAction: 14.0</br>minute: 41</br>distance: 4.588861943363718</br>_original_yhat_: 0.02</br>"
          ],
          [
           "</br>id: 2929</br>prediction: 0.21</br>angle: 50.31366562557168</br></br>h_a: 0.0</br>situation: 1.0</br>shotType: 0.0</br>lastAction: 14.0</br>minute: 41</br>distance: 4.588861943363718</br>_original_yhat_: 0.02</br>"
          ],
          [
           "</br>id: 2929</br>prediction: 0.21</br>angle: 51.19114965094421</br></br>h_a: 0.0</br>situation: 1.0</br>shotType: 0.0</br>lastAction: 14.0</br>minute: 41</br>distance: 4.588861943363718</br>_original_yhat_: 0.02</br>"
          ],
          [
           "</br>id: 2929</br>prediction: 0.21</br>angle: 52.068633676316736</br></br>h_a: 0.0</br>situation: 1.0</br>shotType: 0.0</br>lastAction: 14.0</br>minute: 41</br>distance: 4.588861943363718</br>_original_yhat_: 0.02</br>"
          ],
          [
           "</br>id: 2929</br>prediction: 0.21</br>angle: 52.94611770168926</br></br>h_a: 0.0</br>situation: 1.0</br>shotType: 0.0</br>lastAction: 14.0</br>minute: 41</br>distance: 4.588861943363718</br>_original_yhat_: 0.02</br>"
          ],
          [
           "</br>id: 2929</br>prediction: 0.19</br>angle: 53.82360172706179</br></br>h_a: 0.0</br>situation: 1.0</br>shotType: 0.0</br>lastAction: 14.0</br>minute: 41</br>distance: 4.588861943363718</br>_original_yhat_: 0.02</br>"
          ],
          [
           "</br>id: 2929</br>prediction: 0.18</br>angle: 54.70108575243432</br></br>h_a: 0.0</br>situation: 1.0</br>shotType: 0.0</br>lastAction: 14.0</br>minute: 41</br>distance: 4.588861943363718</br>_original_yhat_: 0.02</br>"
          ],
          [
           "</br>id: 2929</br>prediction: 0.18</br>angle: 55.57856977780684</br></br>h_a: 0.0</br>situation: 1.0</br>shotType: 0.0</br>lastAction: 14.0</br>minute: 41</br>distance: 4.588861943363718</br>_original_yhat_: 0.02</br>"
          ],
          [
           "</br>id: 2929</br>prediction: 0.17</br>angle: 56.456053803179366</br></br>h_a: 0.0</br>situation: 1.0</br>shotType: 0.0</br>lastAction: 14.0</br>minute: 41</br>distance: 4.588861943363718</br>_original_yhat_: 0.02</br>"
          ],
          [
           "</br>id: 2929</br>prediction: 0.17</br>angle: 57.3335378285519</br></br>h_a: 0.0</br>situation: 1.0</br>shotType: 0.0</br>lastAction: 14.0</br>minute: 41</br>distance: 4.588861943363718</br>_original_yhat_: 0.02</br>"
          ],
          [
           "</br>id: 2929</br>prediction: 0.17</br>angle: 58.21102185392442</br></br>h_a: 0.0</br>situation: 1.0</br>shotType: 0.0</br>lastAction: 14.0</br>minute: 41</br>distance: 4.588861943363718</br>_original_yhat_: 0.02</br>"
          ],
          [
           "</br>id: 2929</br>prediction: 0.14</br>angle: 59.088505879296946</br></br>h_a: 0.0</br>situation: 1.0</br>shotType: 0.0</br>lastAction: 14.0</br>minute: 41</br>distance: 4.588861943363718</br>_original_yhat_: 0.02</br>"
          ],
          [
           "</br>id: 2929</br>prediction: 0.14</br>angle: 59.96598990466948</br></br>h_a: 0.0</br>situation: 1.0</br>shotType: 0.0</br>lastAction: 14.0</br>minute: 41</br>distance: 4.588861943363718</br>_original_yhat_: 0.02</br>"
          ],
          [
           "</br>id: 2929</br>prediction: 0.16</br>angle: 60.843473930042</br></br>h_a: 0.0</br>situation: 1.0</br>shotType: 0.0</br>lastAction: 14.0</br>minute: 41</br>distance: 4.588861943363718</br>_original_yhat_: 0.02</br>"
          ],
          [
           "</br>id: 2929</br>prediction: 0.14</br>angle: 61.72095795541453</br></br>h_a: 0.0</br>situation: 1.0</br>shotType: 0.0</br>lastAction: 14.0</br>minute: 41</br>distance: 4.588861943363718</br>_original_yhat_: 0.02</br>"
          ],
          [
           "</br>id: 2929</br>prediction: 0.13</br>angle: 62.59844198078705</br></br>h_a: 0.0</br>situation: 1.0</br>shotType: 0.0</br>lastAction: 14.0</br>minute: 41</br>distance: 4.588861943363718</br>_original_yhat_: 0.02</br>"
          ],
          [
           "</br>id: 2929</br>prediction: 0.13</br>angle: 63.47592600615958</br></br>h_a: 0.0</br>situation: 1.0</br>shotType: 0.0</br>lastAction: 14.0</br>minute: 41</br>distance: 4.588861943363718</br>_original_yhat_: 0.02</br>"
          ],
          [
           "</br>id: 2929</br>prediction: 0.12</br>angle: 64.3534100315321</br></br>h_a: 0.0</br>situation: 1.0</br>shotType: 0.0</br>lastAction: 14.0</br>minute: 41</br>distance: 4.588861943363718</br>_original_yhat_: 0.02</br>"
          ],
          [
           "</br>id: 2929</br>prediction: 0.11</br>angle: 65.23089405690463</br></br>h_a: 0.0</br>situation: 1.0</br>shotType: 0.0</br>lastAction: 14.0</br>minute: 41</br>distance: 4.588861943363718</br>_original_yhat_: 0.02</br>"
          ],
          [
           "</br>id: 2929</br>prediction: 0.1</br>angle: 66.10837808227716</br></br>h_a: 0.0</br>situation: 1.0</br>shotType: 0.0</br>lastAction: 14.0</br>minute: 41</br>distance: 4.588861943363718</br>_original_yhat_: 0.02</br>"
          ],
          [
           "</br>id: 2929</br>prediction: 0.11</br>angle: 66.98586210764968</br></br>h_a: 0.0</br>situation: 1.0</br>shotType: 0.0</br>lastAction: 14.0</br>minute: 41</br>distance: 4.588861943363718</br>_original_yhat_: 0.02</br>"
          ],
          [
           "</br>id: 2929</br>prediction: 0.07</br>angle: 67.8633461330222</br></br>h_a: 0.0</br>situation: 1.0</br>shotType: 0.0</br>lastAction: 14.0</br>minute: 41</br>distance: 4.588861943363718</br>_original_yhat_: 0.02</br>"
          ],
          [
           "</br>id: 2929</br>prediction: 0.04</br>angle: 68.74083015839473</br></br>h_a: 0.0</br>situation: 1.0</br>shotType: 0.0</br>lastAction: 14.0</br>minute: 41</br>distance: 4.588861943363718</br>_original_yhat_: 0.02</br>"
          ],
          [
           "</br>id: 2929</br>prediction: 0.02</br>angle: 69.61831418376725</br></br>h_a: 0.0</br>situation: 1.0</br>shotType: 0.0</br>lastAction: 14.0</br>minute: 41</br>distance: 4.588861943363718</br>_original_yhat_: 0.02</br>"
          ],
          [
           "</br>id: 2929</br>prediction: 0.02</br>angle: 70.49579820913979</br></br>h_a: 0.0</br>situation: 1.0</br>shotType: 0.0</br>lastAction: 14.0</br>minute: 41</br>distance: 4.588861943363718</br>_original_yhat_: 0.02</br>"
          ],
          [
           "</br>id: 2929</br>prediction: 0.01</br>angle: 71.37328223451232</br></br>h_a: 0.0</br>situation: 1.0</br>shotType: 0.0</br>lastAction: 14.0</br>minute: 41</br>distance: 4.588861943363718</br>_original_yhat_: 0.02</br>"
          ],
          [
           "</br>id: 2929</br>prediction: 0.02</br>angle: 72.25076625988484</br></br>h_a: 0.0</br>situation: 1.0</br>shotType: 0.0</br>lastAction: 14.0</br>minute: 41</br>distance: 4.588861943363718</br>_original_yhat_: 0.02</br>"
          ],
          [
           "</br>id: 2929</br>prediction: 0.01</br>angle: 73.12825028525737</br></br>h_a: 0.0</br>situation: 1.0</br>shotType: 0.0</br>lastAction: 14.0</br>minute: 41</br>distance: 4.588861943363718</br>_original_yhat_: 0.02</br>"
          ],
          [
           "</br>id: 2929</br>prediction: 0.01</br>angle: 74.00573431062989</br></br>h_a: 0.0</br>situation: 1.0</br>shotType: 0.0</br>lastAction: 14.0</br>minute: 41</br>distance: 4.588861943363718</br>_original_yhat_: 0.02</br>"
          ],
          [
           "</br>id: 2929</br>prediction: 0.01</br>angle: 74.88321833600241</br></br>h_a: 0.0</br>situation: 1.0</br>shotType: 0.0</br>lastAction: 14.0</br>minute: 41</br>distance: 4.588861943363718</br>_original_yhat_: 0.02</br>"
          ],
          [
           "</br>id: 2929</br>prediction: 0.02</br>angle: 75.76070236137494</br></br>h_a: 0.0</br>situation: 1.0</br>shotType: 0.0</br>lastAction: 14.0</br>minute: 41</br>distance: 4.588861943363718</br>_original_yhat_: 0.02</br>"
          ],
          [
           "</br>id: 2929</br>prediction: 0.02</br>angle: 76.63818638674748</br></br>h_a: 0.0</br>situation: 1.0</br>shotType: 0.0</br>lastAction: 14.0</br>minute: 41</br>distance: 4.588861943363718</br>_original_yhat_: 0.02</br>"
          ],
          [
           "</br>id: 2929</br>prediction: 0.02</br>angle: 76.94750555554026</br></br>h_a: 0.0</br>situation: 1.0</br>shotType: 0.0</br>lastAction: 14.0</br>minute: 41</br>distance: 4.588861943363718</br>_original_yhat_: 0.02</br>"
          ],
          [
           "</br>id: 2929</br>prediction: 0.02</br>angle: 77.51567041212</br></br>h_a: 0.0</br>situation: 1.0</br>shotType: 0.0</br>lastAction: 14.0</br>minute: 41</br>distance: 4.588861943363718</br>_original_yhat_: 0.02</br>"
          ],
          [
           "</br>id: 2929</br>prediction: 0.02</br>angle: 78.39315443749253</br></br>h_a: 0.0</br>situation: 1.0</br>shotType: 0.0</br>lastAction: 14.0</br>minute: 41</br>distance: 4.588861943363718</br>_original_yhat_: 0.02</br>"
          ],
          [
           "</br>id: 2929</br>prediction: 0.03</br>angle: 79.27063846286505</br></br>h_a: 0.0</br>situation: 1.0</br>shotType: 0.0</br>lastAction: 14.0</br>minute: 41</br>distance: 4.588861943363718</br>_original_yhat_: 0.02</br>"
          ],
          [
           "</br>id: 2929</br>prediction: 0.03</br>angle: 80.14812248823758</br></br>h_a: 0.0</br>situation: 1.0</br>shotType: 0.0</br>lastAction: 14.0</br>minute: 41</br>distance: 4.588861943363718</br>_original_yhat_: 0.02</br>"
          ],
          [
           "</br>id: 2929</br>prediction: 0.03</br>angle: 81.0256065136101</br></br>h_a: 0.0</br>situation: 1.0</br>shotType: 0.0</br>lastAction: 14.0</br>minute: 41</br>distance: 4.588861943363718</br>_original_yhat_: 0.02</br>"
          ],
          [
           "</br>id: 2929</br>prediction: 0.03</br>angle: 81.90309053898264</br></br>h_a: 0.0</br>situation: 1.0</br>shotType: 0.0</br>lastAction: 14.0</br>minute: 41</br>distance: 4.588861943363718</br>_original_yhat_: 0.02</br>"
          ],
          [
           "</br>id: 2929</br>prediction: 0.06</br>angle: 82.78057456435516</br></br>h_a: 0.0</br>situation: 1.0</br>shotType: 0.0</br>lastAction: 14.0</br>minute: 41</br>distance: 4.588861943363718</br>_original_yhat_: 0.02</br>"
          ],
          [
           "</br>id: 2929</br>prediction: 0.07</br>angle: 83.65805858972769</br></br>h_a: 0.0</br>situation: 1.0</br>shotType: 0.0</br>lastAction: 14.0</br>minute: 41</br>distance: 4.588861943363718</br>_original_yhat_: 0.02</br>"
          ],
          [
           "</br>id: 2929</br>prediction: 0.05</br>angle: 84.53554261510021</br></br>h_a: 0.0</br>situation: 1.0</br>shotType: 0.0</br>lastAction: 14.0</br>minute: 41</br>distance: 4.588861943363718</br>_original_yhat_: 0.02</br>"
          ],
          [
           "</br>id: 2929</br>prediction: 0.12</br>angle: 85.41302664047274</br></br>h_a: 0.0</br>situation: 1.0</br>shotType: 0.0</br>lastAction: 14.0</br>minute: 41</br>distance: 4.588861943363718</br>_original_yhat_: 0.02</br>"
          ],
          [
           "</br>id: 2929</br>prediction: 0.15</br>angle: 86.29051066584526</br></br>h_a: 0.0</br>situation: 1.0</br>shotType: 0.0</br>lastAction: 14.0</br>minute: 41</br>distance: 4.588861943363718</br>_original_yhat_: 0.02</br>"
          ],
          [
           "</br>id: 2929</br>prediction: 0.09</br>angle: 87.16799469121779</br></br>h_a: 0.0</br>situation: 1.0</br>shotType: 0.0</br>lastAction: 14.0</br>minute: 41</br>distance: 4.588861943363718</br>_original_yhat_: 0.02</br>"
          ],
          [
           "</br>id: 2929</br>prediction: 0.15</br>angle: 88.04547871659032</br></br>h_a: 0.0</br>situation: 1.0</br>shotType: 0.0</br>lastAction: 14.0</br>minute: 41</br>distance: 4.588861943363718</br>_original_yhat_: 0.02</br>"
          ],
          [
           "</br>id: 2929</br>prediction: 0.15</br>angle: 88.92296274196285</br></br>h_a: 0.0</br>situation: 1.0</br>shotType: 0.0</br>lastAction: 14.0</br>minute: 41</br>distance: 4.588861943363718</br>_original_yhat_: 0.02</br>"
          ],
          [
           "</br>id: 2929</br>prediction: 0.14</br>angle: 89.80044676733537</br></br>h_a: 0.0</br>situation: 1.0</br>shotType: 0.0</br>lastAction: 14.0</br>minute: 41</br>distance: 4.588861943363718</br>_original_yhat_: 0.02</br>"
          ]
         ],
         "hovertemplate": "%{customdata[0]}<extra></extra>",
         "legendgroup": "RandomForestClassifier",
         "line": {
          "color": "#f05a71",
          "dash": "solid",
          "width": 2
         },
         "marker": {
          "symbol": "circle"
         },
         "mode": "lines",
         "name": "RandomForestClassifier",
         "opacity": 1,
         "showlegend": false,
         "type": "scattergl",
         "x": [
          2.0520442300827204,
          2.929528255455247,
          3.8070122808277738,
          4.6844963062003,
          5.561980331572826,
          6.439464356945353,
          7.31694838231788,
          8.194432407690407,
          9.071916433062933,
          9.94940045843546,
          10.826884483807987,
          11.704368509180512,
          12.58185253455304,
          13.459336559925564,
          14.336820585298092,
          15.21430461067062,
          16.091788636043145,
          16.969272661415673,
          17.846756686788197,
          18.724240712160725,
          19.601724737533253,
          20.479208762905778,
          21.356692788278306,
          22.234176813650834,
          23.111660839023358,
          23.989144864395886,
          24.86662888976841,
          25.74411291514094,
          26.621596940513466,
          27.49908096588599,
          28.37656499125852,
          29.254049016631043,
          30.13153304200357,
          31.0090170673761,
          31.886501092748624,
          32.76398511812115,
          33.64146914349367,
          34.518953168866204,
          35.39643719423873,
          36.27392121961126,
          37.151405244983785,
          38.02888927035631,
          38.906373295728834,
          39.783857321101365,
          40.66134134647389,
          41.538825371846414,
          42.416309397218946,
          43.29379342259147,
          44.171277447963995,
          45.048761473336526,
          45.92624549870905,
          46.803729524081575,
          47.6812135494541,
          48.55869757482663,
          49.436181600199156,
          50.31366562557168,
          51.19114965094421,
          52.068633676316736,
          52.94611770168926,
          53.82360172706179,
          54.70108575243432,
          55.57856977780684,
          56.456053803179366,
          57.3335378285519,
          58.21102185392442,
          59.088505879296946,
          59.96598990466948,
          60.843473930042,
          61.72095795541453,
          62.59844198078705,
          63.47592600615958,
          64.3534100315321,
          65.23089405690463,
          66.10837808227716,
          66.98586210764968,
          67.8633461330222,
          68.74083015839473,
          69.61831418376725,
          70.49579820913979,
          71.37328223451232,
          72.25076625988484,
          73.12825028525737,
          74.00573431062989,
          74.88321833600241,
          75.76070236137494,
          76.63818638674748,
          76.94750555554026,
          77.51567041212,
          78.39315443749253,
          79.27063846286505,
          80.14812248823758,
          81.0256065136101,
          81.90309053898264,
          82.78057456435516,
          83.65805858972769,
          84.53554261510021,
          85.41302664047274,
          86.29051066584526,
          87.16799469121779,
          88.04547871659032,
          88.92296274196285,
          89.80044676733537
         ],
         "xaxis": "x",
         "y": [
          0.37,
          0.37,
          0.37,
          0.37,
          0.37,
          0.36,
          0.36,
          0.36,
          0.36,
          0.37,
          0.37,
          0.37,
          0.37,
          0.39,
          0.39,
          0.37,
          0.39,
          0.32,
          0.31,
          0.31,
          0.29,
          0.28,
          0.25,
          0.24,
          0.23,
          0.23,
          0.23,
          0.23,
          0.23,
          0.22,
          0.22,
          0.22,
          0.21,
          0.21,
          0.21,
          0.21,
          0.21,
          0.18,
          0.18,
          0.17,
          0.17,
          0.16,
          0.19,
          0.17,
          0.17,
          0.17,
          0.17,
          0.2,
          0.19,
          0.2,
          0.28,
          0.27,
          0.24,
          0.21,
          0.21,
          0.21,
          0.21,
          0.21,
          0.21,
          0.19,
          0.18,
          0.18,
          0.17,
          0.17,
          0.17,
          0.14,
          0.14,
          0.16,
          0.14,
          0.13,
          0.13,
          0.12,
          0.11,
          0.1,
          0.11,
          0.07,
          0.04,
          0.02,
          0.02,
          0.01,
          0.02,
          0.01,
          0.01,
          0.01,
          0.02,
          0.02,
          0.02,
          0.02,
          0.02,
          0.03,
          0.03,
          0.03,
          0.03,
          0.06,
          0.07,
          0.05,
          0.12,
          0.15,
          0.09,
          0.15,
          0.15,
          0.14
         ],
         "yaxis": "y"
        },
        {
         "customdata": [
          [
           "</br>id: 2929</br>prediction: 0.212</br>h_a: 0.0</br></br>situation: 1.0</br>shotType: 0.0</br>lastAction: 14.0</br>minute: 41</br>distance: 4.588861943363718</br>angle: 76.94750555554026</br>_original_yhat_: 0.21179511646378305</br>"
          ],
          [
           "</br>id: 2929</br>prediction: 0.212</br>h_a: 0.01</br></br>situation: 1.0</br>shotType: 0.0</br>lastAction: 14.0</br>minute: 41</br>distance: 4.588861943363718</br>angle: 76.94750555554026</br>_original_yhat_: 0.21179511646378305</br>"
          ],
          [
           "</br>id: 2929</br>prediction: 0.212</br>h_a: 0.02</br></br>situation: 1.0</br>shotType: 0.0</br>lastAction: 14.0</br>minute: 41</br>distance: 4.588861943363718</br>angle: 76.94750555554026</br>_original_yhat_: 0.21179511646378305</br>"
          ],
          [
           "</br>id: 2929</br>prediction: 0.212</br>h_a: 0.03</br></br>situation: 1.0</br>shotType: 0.0</br>lastAction: 14.0</br>minute: 41</br>distance: 4.588861943363718</br>angle: 76.94750555554026</br>_original_yhat_: 0.21179511646378305</br>"
          ],
          [
           "</br>id: 2929</br>prediction: 0.212</br>h_a: 0.04</br></br>situation: 1.0</br>shotType: 0.0</br>lastAction: 14.0</br>minute: 41</br>distance: 4.588861943363718</br>angle: 76.94750555554026</br>_original_yhat_: 0.21179511646378305</br>"
          ],
          [
           "</br>id: 2929</br>prediction: 0.212</br>h_a: 0.05</br></br>situation: 1.0</br>shotType: 0.0</br>lastAction: 14.0</br>minute: 41</br>distance: 4.588861943363718</br>angle: 76.94750555554026</br>_original_yhat_: 0.21179511646378305</br>"
          ],
          [
           "</br>id: 2929</br>prediction: 0.212</br>h_a: 0.06</br></br>situation: 1.0</br>shotType: 0.0</br>lastAction: 14.0</br>minute: 41</br>distance: 4.588861943363718</br>angle: 76.94750555554026</br>_original_yhat_: 0.21179511646378305</br>"
          ],
          [
           "</br>id: 2929</br>prediction: 0.212</br>h_a: 0.07</br></br>situation: 1.0</br>shotType: 0.0</br>lastAction: 14.0</br>minute: 41</br>distance: 4.588861943363718</br>angle: 76.94750555554026</br>_original_yhat_: 0.21179511646378305</br>"
          ],
          [
           "</br>id: 2929</br>prediction: 0.212</br>h_a: 0.08</br></br>situation: 1.0</br>shotType: 0.0</br>lastAction: 14.0</br>minute: 41</br>distance: 4.588861943363718</br>angle: 76.94750555554026</br>_original_yhat_: 0.21179511646378305</br>"
          ],
          [
           "</br>id: 2929</br>prediction: 0.212</br>h_a: 0.09</br></br>situation: 1.0</br>shotType: 0.0</br>lastAction: 14.0</br>minute: 41</br>distance: 4.588861943363718</br>angle: 76.94750555554026</br>_original_yhat_: 0.21179511646378305</br>"
          ],
          [
           "</br>id: 2929</br>prediction: 0.212</br>h_a: 0.1</br></br>situation: 1.0</br>shotType: 0.0</br>lastAction: 14.0</br>minute: 41</br>distance: 4.588861943363718</br>angle: 76.94750555554026</br>_original_yhat_: 0.21179511646378305</br>"
          ],
          [
           "</br>id: 2929</br>prediction: 0.212</br>h_a: 0.11</br></br>situation: 1.0</br>shotType: 0.0</br>lastAction: 14.0</br>minute: 41</br>distance: 4.588861943363718</br>angle: 76.94750555554026</br>_original_yhat_: 0.21179511646378305</br>"
          ],
          [
           "</br>id: 2929</br>prediction: 0.212</br>h_a: 0.12</br></br>situation: 1.0</br>shotType: 0.0</br>lastAction: 14.0</br>minute: 41</br>distance: 4.588861943363718</br>angle: 76.94750555554026</br>_original_yhat_: 0.21179511646378305</br>"
          ],
          [
           "</br>id: 2929</br>prediction: 0.212</br>h_a: 0.13</br></br>situation: 1.0</br>shotType: 0.0</br>lastAction: 14.0</br>minute: 41</br>distance: 4.588861943363718</br>angle: 76.94750555554026</br>_original_yhat_: 0.21179511646378305</br>"
          ],
          [
           "</br>id: 2929</br>prediction: 0.212</br>h_a: 0.14</br></br>situation: 1.0</br>shotType: 0.0</br>lastAction: 14.0</br>minute: 41</br>distance: 4.588861943363718</br>angle: 76.94750555554026</br>_original_yhat_: 0.21179511646378305</br>"
          ],
          [
           "</br>id: 2929</br>prediction: 0.212</br>h_a: 0.15</br></br>situation: 1.0</br>shotType: 0.0</br>lastAction: 14.0</br>minute: 41</br>distance: 4.588861943363718</br>angle: 76.94750555554026</br>_original_yhat_: 0.21179511646378305</br>"
          ],
          [
           "</br>id: 2929</br>prediction: 0.212</br>h_a: 0.16</br></br>situation: 1.0</br>shotType: 0.0</br>lastAction: 14.0</br>minute: 41</br>distance: 4.588861943363718</br>angle: 76.94750555554026</br>_original_yhat_: 0.21179511646378305</br>"
          ],
          [
           "</br>id: 2929</br>prediction: 0.212</br>h_a: 0.17</br></br>situation: 1.0</br>shotType: 0.0</br>lastAction: 14.0</br>minute: 41</br>distance: 4.588861943363718</br>angle: 76.94750555554026</br>_original_yhat_: 0.21179511646378305</br>"
          ],
          [
           "</br>id: 2929</br>prediction: 0.212</br>h_a: 0.18</br></br>situation: 1.0</br>shotType: 0.0</br>lastAction: 14.0</br>minute: 41</br>distance: 4.588861943363718</br>angle: 76.94750555554026</br>_original_yhat_: 0.21179511646378305</br>"
          ],
          [
           "</br>id: 2929</br>prediction: 0.212</br>h_a: 0.19</br></br>situation: 1.0</br>shotType: 0.0</br>lastAction: 14.0</br>minute: 41</br>distance: 4.588861943363718</br>angle: 76.94750555554026</br>_original_yhat_: 0.21179511646378305</br>"
          ],
          [
           "</br>id: 2929</br>prediction: 0.212</br>h_a: 0.2</br></br>situation: 1.0</br>shotType: 0.0</br>lastAction: 14.0</br>minute: 41</br>distance: 4.588861943363718</br>angle: 76.94750555554026</br>_original_yhat_: 0.21179511646378305</br>"
          ],
          [
           "</br>id: 2929</br>prediction: 0.212</br>h_a: 0.21</br></br>situation: 1.0</br>shotType: 0.0</br>lastAction: 14.0</br>minute: 41</br>distance: 4.588861943363718</br>angle: 76.94750555554026</br>_original_yhat_: 0.21179511646378305</br>"
          ],
          [
           "</br>id: 2929</br>prediction: 0.212</br>h_a: 0.22</br></br>situation: 1.0</br>shotType: 0.0</br>lastAction: 14.0</br>minute: 41</br>distance: 4.588861943363718</br>angle: 76.94750555554026</br>_original_yhat_: 0.21179511646378305</br>"
          ],
          [
           "</br>id: 2929</br>prediction: 0.212</br>h_a: 0.23</br></br>situation: 1.0</br>shotType: 0.0</br>lastAction: 14.0</br>minute: 41</br>distance: 4.588861943363718</br>angle: 76.94750555554026</br>_original_yhat_: 0.21179511646378305</br>"
          ],
          [
           "</br>id: 2929</br>prediction: 0.212</br>h_a: 0.24</br></br>situation: 1.0</br>shotType: 0.0</br>lastAction: 14.0</br>minute: 41</br>distance: 4.588861943363718</br>angle: 76.94750555554026</br>_original_yhat_: 0.21179511646378305</br>"
          ],
          [
           "</br>id: 2929</br>prediction: 0.212</br>h_a: 0.25</br></br>situation: 1.0</br>shotType: 0.0</br>lastAction: 14.0</br>minute: 41</br>distance: 4.588861943363718</br>angle: 76.94750555554026</br>_original_yhat_: 0.21179511646378305</br>"
          ],
          [
           "</br>id: 2929</br>prediction: 0.212</br>h_a: 0.26</br></br>situation: 1.0</br>shotType: 0.0</br>lastAction: 14.0</br>minute: 41</br>distance: 4.588861943363718</br>angle: 76.94750555554026</br>_original_yhat_: 0.21179511646378305</br>"
          ],
          [
           "</br>id: 2929</br>prediction: 0.212</br>h_a: 0.27</br></br>situation: 1.0</br>shotType: 0.0</br>lastAction: 14.0</br>minute: 41</br>distance: 4.588861943363718</br>angle: 76.94750555554026</br>_original_yhat_: 0.21179511646378305</br>"
          ],
          [
           "</br>id: 2929</br>prediction: 0.212</br>h_a: 0.28</br></br>situation: 1.0</br>shotType: 0.0</br>lastAction: 14.0</br>minute: 41</br>distance: 4.588861943363718</br>angle: 76.94750555554026</br>_original_yhat_: 0.21179511646378305</br>"
          ],
          [
           "</br>id: 2929</br>prediction: 0.212</br>h_a: 0.29</br></br>situation: 1.0</br>shotType: 0.0</br>lastAction: 14.0</br>minute: 41</br>distance: 4.588861943363718</br>angle: 76.94750555554026</br>_original_yhat_: 0.21179511646378305</br>"
          ],
          [
           "</br>id: 2929</br>prediction: 0.212</br>h_a: 0.3</br></br>situation: 1.0</br>shotType: 0.0</br>lastAction: 14.0</br>minute: 41</br>distance: 4.588861943363718</br>angle: 76.94750555554026</br>_original_yhat_: 0.21179511646378305</br>"
          ],
          [
           "</br>id: 2929</br>prediction: 0.212</br>h_a: 0.31</br></br>situation: 1.0</br>shotType: 0.0</br>lastAction: 14.0</br>minute: 41</br>distance: 4.588861943363718</br>angle: 76.94750555554026</br>_original_yhat_: 0.21179511646378305</br>"
          ],
          [
           "</br>id: 2929</br>prediction: 0.212</br>h_a: 0.32</br></br>situation: 1.0</br>shotType: 0.0</br>lastAction: 14.0</br>minute: 41</br>distance: 4.588861943363718</br>angle: 76.94750555554026</br>_original_yhat_: 0.21179511646378305</br>"
          ],
          [
           "</br>id: 2929</br>prediction: 0.212</br>h_a: 0.33</br></br>situation: 1.0</br>shotType: 0.0</br>lastAction: 14.0</br>minute: 41</br>distance: 4.588861943363718</br>angle: 76.94750555554026</br>_original_yhat_: 0.21179511646378305</br>"
          ],
          [
           "</br>id: 2929</br>prediction: 0.212</br>h_a: 0.34</br></br>situation: 1.0</br>shotType: 0.0</br>lastAction: 14.0</br>minute: 41</br>distance: 4.588861943363718</br>angle: 76.94750555554026</br>_original_yhat_: 0.21179511646378305</br>"
          ],
          [
           "</br>id: 2929</br>prediction: 0.212</br>h_a: 0.35000000000000003</br></br>situation: 1.0</br>shotType: 0.0</br>lastAction: 14.0</br>minute: 41</br>distance: 4.588861943363718</br>angle: 76.94750555554026</br>_original_yhat_: 0.21179511646378305</br>"
          ],
          [
           "</br>id: 2929</br>prediction: 0.212</br>h_a: 0.36</br></br>situation: 1.0</br>shotType: 0.0</br>lastAction: 14.0</br>minute: 41</br>distance: 4.588861943363718</br>angle: 76.94750555554026</br>_original_yhat_: 0.21179511646378305</br>"
          ],
          [
           "</br>id: 2929</br>prediction: 0.212</br>h_a: 0.37</br></br>situation: 1.0</br>shotType: 0.0</br>lastAction: 14.0</br>minute: 41</br>distance: 4.588861943363718</br>angle: 76.94750555554026</br>_original_yhat_: 0.21179511646378305</br>"
          ],
          [
           "</br>id: 2929</br>prediction: 0.212</br>h_a: 0.38</br></br>situation: 1.0</br>shotType: 0.0</br>lastAction: 14.0</br>minute: 41</br>distance: 4.588861943363718</br>angle: 76.94750555554026</br>_original_yhat_: 0.21179511646378305</br>"
          ],
          [
           "</br>id: 2929</br>prediction: 0.212</br>h_a: 0.39</br></br>situation: 1.0</br>shotType: 0.0</br>lastAction: 14.0</br>minute: 41</br>distance: 4.588861943363718</br>angle: 76.94750555554026</br>_original_yhat_: 0.21179511646378305</br>"
          ],
          [
           "</br>id: 2929</br>prediction: 0.212</br>h_a: 0.4</br></br>situation: 1.0</br>shotType: 0.0</br>lastAction: 14.0</br>minute: 41</br>distance: 4.588861943363718</br>angle: 76.94750555554026</br>_original_yhat_: 0.21179511646378305</br>"
          ],
          [
           "</br>id: 2929</br>prediction: 0.212</br>h_a: 0.41000000000000003</br></br>situation: 1.0</br>shotType: 0.0</br>lastAction: 14.0</br>minute: 41</br>distance: 4.588861943363718</br>angle: 76.94750555554026</br>_original_yhat_: 0.21179511646378305</br>"
          ],
          [
           "</br>id: 2929</br>prediction: 0.212</br>h_a: 0.42</br></br>situation: 1.0</br>shotType: 0.0</br>lastAction: 14.0</br>minute: 41</br>distance: 4.588861943363718</br>angle: 76.94750555554026</br>_original_yhat_: 0.21179511646378305</br>"
          ],
          [
           "</br>id: 2929</br>prediction: 0.212</br>h_a: 0.43</br></br>situation: 1.0</br>shotType: 0.0</br>lastAction: 14.0</br>minute: 41</br>distance: 4.588861943363718</br>angle: 76.94750555554026</br>_original_yhat_: 0.21179511646378305</br>"
          ],
          [
           "</br>id: 2929</br>prediction: 0.212</br>h_a: 0.44</br></br>situation: 1.0</br>shotType: 0.0</br>lastAction: 14.0</br>minute: 41</br>distance: 4.588861943363718</br>angle: 76.94750555554026</br>_original_yhat_: 0.21179511646378305</br>"
          ],
          [
           "</br>id: 2929</br>prediction: 0.212</br>h_a: 0.45</br></br>situation: 1.0</br>shotType: 0.0</br>lastAction: 14.0</br>minute: 41</br>distance: 4.588861943363718</br>angle: 76.94750555554026</br>_original_yhat_: 0.21179511646378305</br>"
          ],
          [
           "</br>id: 2929</br>prediction: 0.212</br>h_a: 0.46</br></br>situation: 1.0</br>shotType: 0.0</br>lastAction: 14.0</br>minute: 41</br>distance: 4.588861943363718</br>angle: 76.94750555554026</br>_original_yhat_: 0.21179511646378305</br>"
          ],
          [
           "</br>id: 2929</br>prediction: 0.212</br>h_a: 0.47000000000000003</br></br>situation: 1.0</br>shotType: 0.0</br>lastAction: 14.0</br>minute: 41</br>distance: 4.588861943363718</br>angle: 76.94750555554026</br>_original_yhat_: 0.21179511646378305</br>"
          ],
          [
           "</br>id: 2929</br>prediction: 0.212</br>h_a: 0.48</br></br>situation: 1.0</br>shotType: 0.0</br>lastAction: 14.0</br>minute: 41</br>distance: 4.588861943363718</br>angle: 76.94750555554026</br>_original_yhat_: 0.21179511646378305</br>"
          ],
          [
           "</br>id: 2929</br>prediction: 0.212</br>h_a: 0.49</br></br>situation: 1.0</br>shotType: 0.0</br>lastAction: 14.0</br>minute: 41</br>distance: 4.588861943363718</br>angle: 76.94750555554026</br>_original_yhat_: 0.21179511646378305</br>"
          ],
          [
           "</br>id: 2929</br>prediction: 0.212</br>h_a: 0.5</br></br>situation: 1.0</br>shotType: 0.0</br>lastAction: 14.0</br>minute: 41</br>distance: 4.588861943363718</br>angle: 76.94750555554026</br>_original_yhat_: 0.21179511646378305</br>"
          ],
          [
           "</br>id: 2929</br>prediction: 0.212</br>h_a: 0.51</br></br>situation: 1.0</br>shotType: 0.0</br>lastAction: 14.0</br>minute: 41</br>distance: 4.588861943363718</br>angle: 76.94750555554026</br>_original_yhat_: 0.21179511646378305</br>"
          ],
          [
           "</br>id: 2929</br>prediction: 0.212</br>h_a: 0.52</br></br>situation: 1.0</br>shotType: 0.0</br>lastAction: 14.0</br>minute: 41</br>distance: 4.588861943363718</br>angle: 76.94750555554026</br>_original_yhat_: 0.21179511646378305</br>"
          ],
          [
           "</br>id: 2929</br>prediction: 0.212</br>h_a: 0.53</br></br>situation: 1.0</br>shotType: 0.0</br>lastAction: 14.0</br>minute: 41</br>distance: 4.588861943363718</br>angle: 76.94750555554026</br>_original_yhat_: 0.21179511646378305</br>"
          ],
          [
           "</br>id: 2929</br>prediction: 0.212</br>h_a: 0.54</br></br>situation: 1.0</br>shotType: 0.0</br>lastAction: 14.0</br>minute: 41</br>distance: 4.588861943363718</br>angle: 76.94750555554026</br>_original_yhat_: 0.21179511646378305</br>"
          ],
          [
           "</br>id: 2929</br>prediction: 0.212</br>h_a: 0.55</br></br>situation: 1.0</br>shotType: 0.0</br>lastAction: 14.0</br>minute: 41</br>distance: 4.588861943363718</br>angle: 76.94750555554026</br>_original_yhat_: 0.21179511646378305</br>"
          ],
          [
           "</br>id: 2929</br>prediction: 0.212</br>h_a: 0.56</br></br>situation: 1.0</br>shotType: 0.0</br>lastAction: 14.0</br>minute: 41</br>distance: 4.588861943363718</br>angle: 76.94750555554026</br>_original_yhat_: 0.21179511646378305</br>"
          ],
          [
           "</br>id: 2929</br>prediction: 0.212</br>h_a: 0.5700000000000001</br></br>situation: 1.0</br>shotType: 0.0</br>lastAction: 14.0</br>minute: 41</br>distance: 4.588861943363718</br>angle: 76.94750555554026</br>_original_yhat_: 0.21179511646378305</br>"
          ],
          [
           "</br>id: 2929</br>prediction: 0.212</br>h_a: 0.58</br></br>situation: 1.0</br>shotType: 0.0</br>lastAction: 14.0</br>minute: 41</br>distance: 4.588861943363718</br>angle: 76.94750555554026</br>_original_yhat_: 0.21179511646378305</br>"
          ],
          [
           "</br>id: 2929</br>prediction: 0.212</br>h_a: 0.59</br></br>situation: 1.0</br>shotType: 0.0</br>lastAction: 14.0</br>minute: 41</br>distance: 4.588861943363718</br>angle: 76.94750555554026</br>_original_yhat_: 0.21179511646378305</br>"
          ],
          [
           "</br>id: 2929</br>prediction: 0.212</br>h_a: 0.6</br></br>situation: 1.0</br>shotType: 0.0</br>lastAction: 14.0</br>minute: 41</br>distance: 4.588861943363718</br>angle: 76.94750555554026</br>_original_yhat_: 0.21179511646378305</br>"
          ],
          [
           "</br>id: 2929</br>prediction: 0.212</br>h_a: 0.61</br></br>situation: 1.0</br>shotType: 0.0</br>lastAction: 14.0</br>minute: 41</br>distance: 4.588861943363718</br>angle: 76.94750555554026</br>_original_yhat_: 0.21179511646378305</br>"
          ],
          [
           "</br>id: 2929</br>prediction: 0.212</br>h_a: 0.62</br></br>situation: 1.0</br>shotType: 0.0</br>lastAction: 14.0</br>minute: 41</br>distance: 4.588861943363718</br>angle: 76.94750555554026</br>_original_yhat_: 0.21179511646378305</br>"
          ],
          [
           "</br>id: 2929</br>prediction: 0.212</br>h_a: 0.63</br></br>situation: 1.0</br>shotType: 0.0</br>lastAction: 14.0</br>minute: 41</br>distance: 4.588861943363718</br>angle: 76.94750555554026</br>_original_yhat_: 0.21179511646378305</br>"
          ],
          [
           "</br>id: 2929</br>prediction: 0.212</br>h_a: 0.64</br></br>situation: 1.0</br>shotType: 0.0</br>lastAction: 14.0</br>minute: 41</br>distance: 4.588861943363718</br>angle: 76.94750555554026</br>_original_yhat_: 0.21179511646378305</br>"
          ],
          [
           "</br>id: 2929</br>prediction: 0.212</br>h_a: 0.65</br></br>situation: 1.0</br>shotType: 0.0</br>lastAction: 14.0</br>minute: 41</br>distance: 4.588861943363718</br>angle: 76.94750555554026</br>_original_yhat_: 0.21179511646378305</br>"
          ],
          [
           "</br>id: 2929</br>prediction: 0.212</br>h_a: 0.66</br></br>situation: 1.0</br>shotType: 0.0</br>lastAction: 14.0</br>minute: 41</br>distance: 4.588861943363718</br>angle: 76.94750555554026</br>_original_yhat_: 0.21179511646378305</br>"
          ],
          [
           "</br>id: 2929</br>prediction: 0.212</br>h_a: 0.67</br></br>situation: 1.0</br>shotType: 0.0</br>lastAction: 14.0</br>minute: 41</br>distance: 4.588861943363718</br>angle: 76.94750555554026</br>_original_yhat_: 0.21179511646378305</br>"
          ],
          [
           "</br>id: 2929</br>prediction: 0.212</br>h_a: 0.68</br></br>situation: 1.0</br>shotType: 0.0</br>lastAction: 14.0</br>minute: 41</br>distance: 4.588861943363718</br>angle: 76.94750555554026</br>_original_yhat_: 0.21179511646378305</br>"
          ],
          [
           "</br>id: 2929</br>prediction: 0.212</br>h_a: 0.6900000000000001</br></br>situation: 1.0</br>shotType: 0.0</br>lastAction: 14.0</br>minute: 41</br>distance: 4.588861943363718</br>angle: 76.94750555554026</br>_original_yhat_: 0.21179511646378305</br>"
          ],
          [
           "</br>id: 2929</br>prediction: 0.212</br>h_a: 0.7000000000000001</br></br>situation: 1.0</br>shotType: 0.0</br>lastAction: 14.0</br>minute: 41</br>distance: 4.588861943363718</br>angle: 76.94750555554026</br>_original_yhat_: 0.21179511646378305</br>"
          ],
          [
           "</br>id: 2929</br>prediction: 0.212</br>h_a: 0.71</br></br>situation: 1.0</br>shotType: 0.0</br>lastAction: 14.0</br>minute: 41</br>distance: 4.588861943363718</br>angle: 76.94750555554026</br>_original_yhat_: 0.21179511646378305</br>"
          ],
          [
           "</br>id: 2929</br>prediction: 0.212</br>h_a: 0.72</br></br>situation: 1.0</br>shotType: 0.0</br>lastAction: 14.0</br>minute: 41</br>distance: 4.588861943363718</br>angle: 76.94750555554026</br>_original_yhat_: 0.21179511646378305</br>"
          ],
          [
           "</br>id: 2929</br>prediction: 0.212</br>h_a: 0.73</br></br>situation: 1.0</br>shotType: 0.0</br>lastAction: 14.0</br>minute: 41</br>distance: 4.588861943363718</br>angle: 76.94750555554026</br>_original_yhat_: 0.21179511646378305</br>"
          ],
          [
           "</br>id: 2929</br>prediction: 0.212</br>h_a: 0.74</br></br>situation: 1.0</br>shotType: 0.0</br>lastAction: 14.0</br>minute: 41</br>distance: 4.588861943363718</br>angle: 76.94750555554026</br>_original_yhat_: 0.21179511646378305</br>"
          ],
          [
           "</br>id: 2929</br>prediction: 0.212</br>h_a: 0.75</br></br>situation: 1.0</br>shotType: 0.0</br>lastAction: 14.0</br>minute: 41</br>distance: 4.588861943363718</br>angle: 76.94750555554026</br>_original_yhat_: 0.21179511646378305</br>"
          ],
          [
           "</br>id: 2929</br>prediction: 0.212</br>h_a: 0.76</br></br>situation: 1.0</br>shotType: 0.0</br>lastAction: 14.0</br>minute: 41</br>distance: 4.588861943363718</br>angle: 76.94750555554026</br>_original_yhat_: 0.21179511646378305</br>"
          ],
          [
           "</br>id: 2929</br>prediction: 0.212</br>h_a: 0.77</br></br>situation: 1.0</br>shotType: 0.0</br>lastAction: 14.0</br>minute: 41</br>distance: 4.588861943363718</br>angle: 76.94750555554026</br>_original_yhat_: 0.21179511646378305</br>"
          ],
          [
           "</br>id: 2929</br>prediction: 0.212</br>h_a: 0.78</br></br>situation: 1.0</br>shotType: 0.0</br>lastAction: 14.0</br>minute: 41</br>distance: 4.588861943363718</br>angle: 76.94750555554026</br>_original_yhat_: 0.21179511646378305</br>"
          ],
          [
           "</br>id: 2929</br>prediction: 0.212</br>h_a: 0.79</br></br>situation: 1.0</br>shotType: 0.0</br>lastAction: 14.0</br>minute: 41</br>distance: 4.588861943363718</br>angle: 76.94750555554026</br>_original_yhat_: 0.21179511646378305</br>"
          ],
          [
           "</br>id: 2929</br>prediction: 0.212</br>h_a: 0.8</br></br>situation: 1.0</br>shotType: 0.0</br>lastAction: 14.0</br>minute: 41</br>distance: 4.588861943363718</br>angle: 76.94750555554026</br>_original_yhat_: 0.21179511646378305</br>"
          ],
          [
           "</br>id: 2929</br>prediction: 0.212</br>h_a: 0.81</br></br>situation: 1.0</br>shotType: 0.0</br>lastAction: 14.0</br>minute: 41</br>distance: 4.588861943363718</br>angle: 76.94750555554026</br>_original_yhat_: 0.21179511646378305</br>"
          ],
          [
           "</br>id: 2929</br>prediction: 0.212</br>h_a: 0.8200000000000001</br></br>situation: 1.0</br>shotType: 0.0</br>lastAction: 14.0</br>minute: 41</br>distance: 4.588861943363718</br>angle: 76.94750555554026</br>_original_yhat_: 0.21179511646378305</br>"
          ],
          [
           "</br>id: 2929</br>prediction: 0.212</br>h_a: 0.8300000000000001</br></br>situation: 1.0</br>shotType: 0.0</br>lastAction: 14.0</br>minute: 41</br>distance: 4.588861943363718</br>angle: 76.94750555554026</br>_original_yhat_: 0.21179511646378305</br>"
          ],
          [
           "</br>id: 2929</br>prediction: 0.212</br>h_a: 0.84</br></br>situation: 1.0</br>shotType: 0.0</br>lastAction: 14.0</br>minute: 41</br>distance: 4.588861943363718</br>angle: 76.94750555554026</br>_original_yhat_: 0.21179511646378305</br>"
          ],
          [
           "</br>id: 2929</br>prediction: 0.212</br>h_a: 0.85</br></br>situation: 1.0</br>shotType: 0.0</br>lastAction: 14.0</br>minute: 41</br>distance: 4.588861943363718</br>angle: 76.94750555554026</br>_original_yhat_: 0.21179511646378305</br>"
          ],
          [
           "</br>id: 2929</br>prediction: 0.212</br>h_a: 0.86</br></br>situation: 1.0</br>shotType: 0.0</br>lastAction: 14.0</br>minute: 41</br>distance: 4.588861943363718</br>angle: 76.94750555554026</br>_original_yhat_: 0.21179511646378305</br>"
          ],
          [
           "</br>id: 2929</br>prediction: 0.212</br>h_a: 0.87</br></br>situation: 1.0</br>shotType: 0.0</br>lastAction: 14.0</br>minute: 41</br>distance: 4.588861943363718</br>angle: 76.94750555554026</br>_original_yhat_: 0.21179511646378305</br>"
          ],
          [
           "</br>id: 2929</br>prediction: 0.212</br>h_a: 0.88</br></br>situation: 1.0</br>shotType: 0.0</br>lastAction: 14.0</br>minute: 41</br>distance: 4.588861943363718</br>angle: 76.94750555554026</br>_original_yhat_: 0.21179511646378305</br>"
          ],
          [
           "</br>id: 2929</br>prediction: 0.212</br>h_a: 0.89</br></br>situation: 1.0</br>shotType: 0.0</br>lastAction: 14.0</br>minute: 41</br>distance: 4.588861943363718</br>angle: 76.94750555554026</br>_original_yhat_: 0.21179511646378305</br>"
          ],
          [
           "</br>id: 2929</br>prediction: 0.212</br>h_a: 0.9</br></br>situation: 1.0</br>shotType: 0.0</br>lastAction: 14.0</br>minute: 41</br>distance: 4.588861943363718</br>angle: 76.94750555554026</br>_original_yhat_: 0.21179511646378305</br>"
          ],
          [
           "</br>id: 2929</br>prediction: 0.212</br>h_a: 0.91</br></br>situation: 1.0</br>shotType: 0.0</br>lastAction: 14.0</br>minute: 41</br>distance: 4.588861943363718</br>angle: 76.94750555554026</br>_original_yhat_: 0.21179511646378305</br>"
          ],
          [
           "</br>id: 2929</br>prediction: 0.212</br>h_a: 0.92</br></br>situation: 1.0</br>shotType: 0.0</br>lastAction: 14.0</br>minute: 41</br>distance: 4.588861943363718</br>angle: 76.94750555554026</br>_original_yhat_: 0.21179511646378305</br>"
          ],
          [
           "</br>id: 2929</br>prediction: 0.212</br>h_a: 0.93</br></br>situation: 1.0</br>shotType: 0.0</br>lastAction: 14.0</br>minute: 41</br>distance: 4.588861943363718</br>angle: 76.94750555554026</br>_original_yhat_: 0.21179511646378305</br>"
          ],
          [
           "</br>id: 2929</br>prediction: 0.212</br>h_a: 0.9400000000000001</br></br>situation: 1.0</br>shotType: 0.0</br>lastAction: 14.0</br>minute: 41</br>distance: 4.588861943363718</br>angle: 76.94750555554026</br>_original_yhat_: 0.21179511646378305</br>"
          ],
          [
           "</br>id: 2929</br>prediction: 0.212</br>h_a: 0.9500000000000001</br></br>situation: 1.0</br>shotType: 0.0</br>lastAction: 14.0</br>minute: 41</br>distance: 4.588861943363718</br>angle: 76.94750555554026</br>_original_yhat_: 0.21179511646378305</br>"
          ],
          [
           "</br>id: 2929</br>prediction: 0.212</br>h_a: 0.96</br></br>situation: 1.0</br>shotType: 0.0</br>lastAction: 14.0</br>minute: 41</br>distance: 4.588861943363718</br>angle: 76.94750555554026</br>_original_yhat_: 0.21179511646378305</br>"
          ],
          [
           "</br>id: 2929</br>prediction: 0.212</br>h_a: 0.97</br></br>situation: 1.0</br>shotType: 0.0</br>lastAction: 14.0</br>minute: 41</br>distance: 4.588861943363718</br>angle: 76.94750555554026</br>_original_yhat_: 0.21179511646378305</br>"
          ],
          [
           "</br>id: 2929</br>prediction: 0.212</br>h_a: 0.98</br></br>situation: 1.0</br>shotType: 0.0</br>lastAction: 14.0</br>minute: 41</br>distance: 4.588861943363718</br>angle: 76.94750555554026</br>_original_yhat_: 0.21179511646378305</br>"
          ],
          [
           "</br>id: 2929</br>prediction: 0.212</br>h_a: 0.99</br></br>situation: 1.0</br>shotType: 0.0</br>lastAction: 14.0</br>minute: 41</br>distance: 4.588861943363718</br>angle: 76.94750555554026</br>_original_yhat_: 0.21179511646378305</br>"
          ],
          [
           "</br>id: 2929</br>prediction: 0.212</br>h_a: 1.0</br></br>situation: 1.0</br>shotType: 0.0</br>lastAction: 14.0</br>minute: 41</br>distance: 4.588861943363718</br>angle: 76.94750555554026</br>_original_yhat_: 0.21179511646378305</br>"
          ]
         ],
         "hovertemplate": "%{customdata[0]}<extra></extra>",
         "legendgroup": "GradientBoostingClassifier",
         "line": {
          "color": "#4378bf",
          "dash": "solid",
          "width": 2
         },
         "marker": {
          "symbol": "circle"
         },
         "mode": "lines",
         "name": "GradientBoostingClassifier",
         "opacity": 1,
         "showlegend": true,
         "type": "scattergl",
         "x": [
          0,
          0.01,
          0.02,
          0.03,
          0.04,
          0.05,
          0.06,
          0.07,
          0.08,
          0.09,
          0.1,
          0.11,
          0.12,
          0.13,
          0.14,
          0.15,
          0.16,
          0.17,
          0.18,
          0.19,
          0.2,
          0.21,
          0.22,
          0.23,
          0.24,
          0.25,
          0.26,
          0.27,
          0.28,
          0.29,
          0.3,
          0.31,
          0.32,
          0.33,
          0.34,
          0.35000000000000003,
          0.36,
          0.37,
          0.38,
          0.39,
          0.4,
          0.41000000000000003,
          0.42,
          0.43,
          0.44,
          0.45,
          0.46,
          0.47000000000000003,
          0.48,
          0.49,
          0.5,
          0.51,
          0.52,
          0.53,
          0.54,
          0.55,
          0.56,
          0.5700000000000001,
          0.58,
          0.59,
          0.6,
          0.61,
          0.62,
          0.63,
          0.64,
          0.65,
          0.66,
          0.67,
          0.68,
          0.6900000000000001,
          0.7000000000000001,
          0.71,
          0.72,
          0.73,
          0.74,
          0.75,
          0.76,
          0.77,
          0.78,
          0.79,
          0.8,
          0.81,
          0.8200000000000001,
          0.8300000000000001,
          0.84,
          0.85,
          0.86,
          0.87,
          0.88,
          0.89,
          0.9,
          0.91,
          0.92,
          0.93,
          0.9400000000000001,
          0.9500000000000001,
          0.96,
          0.97,
          0.98,
          0.99,
          1
         ],
         "xaxis": "x7",
         "y": [
          0.21179511646378305,
          0.21179511646378305,
          0.21179511646378305,
          0.21179511646378305,
          0.21179511646378305,
          0.21179511646378305,
          0.21179511646378305,
          0.21179511646378305,
          0.21179511646378305,
          0.21179511646378305,
          0.21179511646378305,
          0.21179511646378305,
          0.21179511646378305,
          0.21179511646378305,
          0.21179511646378305,
          0.21179511646378305,
          0.21179511646378305,
          0.21179511646378305,
          0.21179511646378305,
          0.21179511646378305,
          0.21179511646378305,
          0.21179511646378305,
          0.21179511646378305,
          0.21179511646378305,
          0.21179511646378305,
          0.21179511646378305,
          0.21179511646378305,
          0.21179511646378305,
          0.21179511646378305,
          0.21179511646378305,
          0.21179511646378305,
          0.21179511646378305,
          0.21179511646378305,
          0.21179511646378305,
          0.21179511646378305,
          0.21179511646378305,
          0.21179511646378305,
          0.21179511646378305,
          0.21179511646378305,
          0.21179511646378305,
          0.21179511646378305,
          0.21179511646378305,
          0.21179511646378305,
          0.21179511646378305,
          0.21179511646378305,
          0.21179511646378305,
          0.21179511646378305,
          0.21179511646378305,
          0.21179511646378305,
          0.21179511646378305,
          0.21179511646378305,
          0.21179511646378305,
          0.21179511646378305,
          0.21179511646378305,
          0.21179511646378305,
          0.21179511646378305,
          0.21179511646378305,
          0.21179511646378305,
          0.21179511646378305,
          0.21179511646378305,
          0.21179511646378305,
          0.21179511646378305,
          0.21179511646378305,
          0.21179511646378305,
          0.21179511646378305,
          0.21179511646378305,
          0.21179511646378305,
          0.21179511646378305,
          0.21179511646378305,
          0.21179511646378305,
          0.21179511646378305,
          0.21179511646378305,
          0.21179511646378305,
          0.21179511646378305,
          0.21179511646378305,
          0.21179511646378305,
          0.21179511646378305,
          0.21179511646378305,
          0.21179511646378305,
          0.21179511646378305,
          0.21179511646378305,
          0.21179511646378305,
          0.21179511646378305,
          0.21179511646378305,
          0.21179511646378305,
          0.21179511646378305,
          0.21179511646378305,
          0.21179511646378305,
          0.21179511646378305,
          0.21179511646378305,
          0.21179511646378305,
          0.21179511646378305,
          0.21179511646378305,
          0.21179511646378305,
          0.21179511646378305,
          0.21179511646378305,
          0.21179511646378305,
          0.21179511646378305,
          0.21179511646378305,
          0.21179511646378305,
          0.21179511646378305
         ],
         "yaxis": "y7"
        },
        {
         "customdata": [
          [
           "</br>id: 2929</br>prediction: 0.212</br>situation: 0.0</br></br>h_a: 0.0</br>shotType: 0.0</br>lastAction: 14.0</br>minute: 41</br>distance: 4.588861943363718</br>angle: 76.94750555554026</br>_original_yhat_: 0.21179511646378305</br>"
          ],
          [
           "</br>id: 2929</br>prediction: 0.212</br>situation: 0.04</br></br>h_a: 0.0</br>shotType: 0.0</br>lastAction: 14.0</br>minute: 41</br>distance: 4.588861943363718</br>angle: 76.94750555554026</br>_original_yhat_: 0.21179511646378305</br>"
          ],
          [
           "</br>id: 2929</br>prediction: 0.212</br>situation: 0.08</br></br>h_a: 0.0</br>shotType: 0.0</br>lastAction: 14.0</br>minute: 41</br>distance: 4.588861943363718</br>angle: 76.94750555554026</br>_original_yhat_: 0.21179511646378305</br>"
          ],
          [
           "</br>id: 2929</br>prediction: 0.212</br>situation: 0.12</br></br>h_a: 0.0</br>shotType: 0.0</br>lastAction: 14.0</br>minute: 41</br>distance: 4.588861943363718</br>angle: 76.94750555554026</br>_original_yhat_: 0.21179511646378305</br>"
          ],
          [
           "</br>id: 2929</br>prediction: 0.212</br>situation: 0.16</br></br>h_a: 0.0</br>shotType: 0.0</br>lastAction: 14.0</br>minute: 41</br>distance: 4.588861943363718</br>angle: 76.94750555554026</br>_original_yhat_: 0.21179511646378305</br>"
          ],
          [
           "</br>id: 2929</br>prediction: 0.212</br>situation: 0.2</br></br>h_a: 0.0</br>shotType: 0.0</br>lastAction: 14.0</br>minute: 41</br>distance: 4.588861943363718</br>angle: 76.94750555554026</br>_original_yhat_: 0.21179511646378305</br>"
          ],
          [
           "</br>id: 2929</br>prediction: 0.212</br>situation: 0.24</br></br>h_a: 0.0</br>shotType: 0.0</br>lastAction: 14.0</br>minute: 41</br>distance: 4.588861943363718</br>angle: 76.94750555554026</br>_original_yhat_: 0.21179511646378305</br>"
          ],
          [
           "</br>id: 2929</br>prediction: 0.212</br>situation: 0.28</br></br>h_a: 0.0</br>shotType: 0.0</br>lastAction: 14.0</br>minute: 41</br>distance: 4.588861943363718</br>angle: 76.94750555554026</br>_original_yhat_: 0.21179511646378305</br>"
          ],
          [
           "</br>id: 2929</br>prediction: 0.212</br>situation: 0.32</br></br>h_a: 0.0</br>shotType: 0.0</br>lastAction: 14.0</br>minute: 41</br>distance: 4.588861943363718</br>angle: 76.94750555554026</br>_original_yhat_: 0.21179511646378305</br>"
          ],
          [
           "</br>id: 2929</br>prediction: 0.212</br>situation: 0.36</br></br>h_a: 0.0</br>shotType: 0.0</br>lastAction: 14.0</br>minute: 41</br>distance: 4.588861943363718</br>angle: 76.94750555554026</br>_original_yhat_: 0.21179511646378305</br>"
          ],
          [
           "</br>id: 2929</br>prediction: 0.212</br>situation: 0.4</br></br>h_a: 0.0</br>shotType: 0.0</br>lastAction: 14.0</br>minute: 41</br>distance: 4.588861943363718</br>angle: 76.94750555554026</br>_original_yhat_: 0.21179511646378305</br>"
          ],
          [
           "</br>id: 2929</br>prediction: 0.212</br>situation: 0.44</br></br>h_a: 0.0</br>shotType: 0.0</br>lastAction: 14.0</br>minute: 41</br>distance: 4.588861943363718</br>angle: 76.94750555554026</br>_original_yhat_: 0.21179511646378305</br>"
          ],
          [
           "</br>id: 2929</br>prediction: 0.212</br>situation: 0.48</br></br>h_a: 0.0</br>shotType: 0.0</br>lastAction: 14.0</br>minute: 41</br>distance: 4.588861943363718</br>angle: 76.94750555554026</br>_original_yhat_: 0.21179511646378305</br>"
          ],
          [
           "</br>id: 2929</br>prediction: 0.212</br>situation: 0.52</br></br>h_a: 0.0</br>shotType: 0.0</br>lastAction: 14.0</br>minute: 41</br>distance: 4.588861943363718</br>angle: 76.94750555554026</br>_original_yhat_: 0.21179511646378305</br>"
          ],
          [
           "</br>id: 2929</br>prediction: 0.212</br>situation: 0.56</br></br>h_a: 0.0</br>shotType: 0.0</br>lastAction: 14.0</br>minute: 41</br>distance: 4.588861943363718</br>angle: 76.94750555554026</br>_original_yhat_: 0.21179511646378305</br>"
          ],
          [
           "</br>id: 2929</br>prediction: 0.212</br>situation: 0.6</br></br>h_a: 0.0</br>shotType: 0.0</br>lastAction: 14.0</br>minute: 41</br>distance: 4.588861943363718</br>angle: 76.94750555554026</br>_original_yhat_: 0.21179511646378305</br>"
          ],
          [
           "</br>id: 2929</br>prediction: 0.212</br>situation: 0.64</br></br>h_a: 0.0</br>shotType: 0.0</br>lastAction: 14.0</br>minute: 41</br>distance: 4.588861943363718</br>angle: 76.94750555554026</br>_original_yhat_: 0.21179511646378305</br>"
          ],
          [
           "</br>id: 2929</br>prediction: 0.212</br>situation: 0.68</br></br>h_a: 0.0</br>shotType: 0.0</br>lastAction: 14.0</br>minute: 41</br>distance: 4.588861943363718</br>angle: 76.94750555554026</br>_original_yhat_: 0.21179511646378305</br>"
          ],
          [
           "</br>id: 2929</br>prediction: 0.212</br>situation: 0.72</br></br>h_a: 0.0</br>shotType: 0.0</br>lastAction: 14.0</br>minute: 41</br>distance: 4.588861943363718</br>angle: 76.94750555554026</br>_original_yhat_: 0.21179511646378305</br>"
          ],
          [
           "</br>id: 2929</br>prediction: 0.212</br>situation: 0.76</br></br>h_a: 0.0</br>shotType: 0.0</br>lastAction: 14.0</br>minute: 41</br>distance: 4.588861943363718</br>angle: 76.94750555554026</br>_original_yhat_: 0.21179511646378305</br>"
          ],
          [
           "</br>id: 2929</br>prediction: 0.212</br>situation: 0.8</br></br>h_a: 0.0</br>shotType: 0.0</br>lastAction: 14.0</br>minute: 41</br>distance: 4.588861943363718</br>angle: 76.94750555554026</br>_original_yhat_: 0.21179511646378305</br>"
          ],
          [
           "</br>id: 2929</br>prediction: 0.212</br>situation: 0.84</br></br>h_a: 0.0</br>shotType: 0.0</br>lastAction: 14.0</br>minute: 41</br>distance: 4.588861943363718</br>angle: 76.94750555554026</br>_original_yhat_: 0.21179511646378305</br>"
          ],
          [
           "</br>id: 2929</br>prediction: 0.212</br>situation: 0.88</br></br>h_a: 0.0</br>shotType: 0.0</br>lastAction: 14.0</br>minute: 41</br>distance: 4.588861943363718</br>angle: 76.94750555554026</br>_original_yhat_: 0.21179511646378305</br>"
          ],
          [
           "</br>id: 2929</br>prediction: 0.212</br>situation: 0.92</br></br>h_a: 0.0</br>shotType: 0.0</br>lastAction: 14.0</br>minute: 41</br>distance: 4.588861943363718</br>angle: 76.94750555554026</br>_original_yhat_: 0.21179511646378305</br>"
          ],
          [
           "</br>id: 2929</br>prediction: 0.212</br>situation: 0.96</br></br>h_a: 0.0</br>shotType: 0.0</br>lastAction: 14.0</br>minute: 41</br>distance: 4.588861943363718</br>angle: 76.94750555554026</br>_original_yhat_: 0.21179511646378305</br>"
          ],
          [
           "</br>id: 2929</br>prediction: 0.212</br>situation: 1.0</br></br>h_a: 0.0</br>shotType: 0.0</br>lastAction: 14.0</br>minute: 41</br>distance: 4.588861943363718</br>angle: 76.94750555554026</br>_original_yhat_: 0.21179511646378305</br>"
          ],
          [
           "</br>id: 2929</br>prediction: 0.212</br>situation: 1.04</br></br>h_a: 0.0</br>shotType: 0.0</br>lastAction: 14.0</br>minute: 41</br>distance: 4.588861943363718</br>angle: 76.94750555554026</br>_original_yhat_: 0.21179511646378305</br>"
          ],
          [
           "</br>id: 2929</br>prediction: 0.212</br>situation: 1.08</br></br>h_a: 0.0</br>shotType: 0.0</br>lastAction: 14.0</br>minute: 41</br>distance: 4.588861943363718</br>angle: 76.94750555554026</br>_original_yhat_: 0.21179511646378305</br>"
          ],
          [
           "</br>id: 2929</br>prediction: 0.212</br>situation: 1.12</br></br>h_a: 0.0</br>shotType: 0.0</br>lastAction: 14.0</br>minute: 41</br>distance: 4.588861943363718</br>angle: 76.94750555554026</br>_original_yhat_: 0.21179511646378305</br>"
          ],
          [
           "</br>id: 2929</br>prediction: 0.212</br>situation: 1.16</br></br>h_a: 0.0</br>shotType: 0.0</br>lastAction: 14.0</br>minute: 41</br>distance: 4.588861943363718</br>angle: 76.94750555554026</br>_original_yhat_: 0.21179511646378305</br>"
          ],
          [
           "</br>id: 2929</br>prediction: 0.212</br>situation: 1.2</br></br>h_a: 0.0</br>shotType: 0.0</br>lastAction: 14.0</br>minute: 41</br>distance: 4.588861943363718</br>angle: 76.94750555554026</br>_original_yhat_: 0.21179511646378305</br>"
          ],
          [
           "</br>id: 2929</br>prediction: 0.212</br>situation: 1.24</br></br>h_a: 0.0</br>shotType: 0.0</br>lastAction: 14.0</br>minute: 41</br>distance: 4.588861943363718</br>angle: 76.94750555554026</br>_original_yhat_: 0.21179511646378305</br>"
          ],
          [
           "</br>id: 2929</br>prediction: 0.212</br>situation: 1.28</br></br>h_a: 0.0</br>shotType: 0.0</br>lastAction: 14.0</br>minute: 41</br>distance: 4.588861943363718</br>angle: 76.94750555554026</br>_original_yhat_: 0.21179511646378305</br>"
          ],
          [
           "</br>id: 2929</br>prediction: 0.212</br>situation: 1.32</br></br>h_a: 0.0</br>shotType: 0.0</br>lastAction: 14.0</br>minute: 41</br>distance: 4.588861943363718</br>angle: 76.94750555554026</br>_original_yhat_: 0.21179511646378305</br>"
          ],
          [
           "</br>id: 2929</br>prediction: 0.212</br>situation: 1.36</br></br>h_a: 0.0</br>shotType: 0.0</br>lastAction: 14.0</br>minute: 41</br>distance: 4.588861943363718</br>angle: 76.94750555554026</br>_original_yhat_: 0.21179511646378305</br>"
          ],
          [
           "</br>id: 2929</br>prediction: 0.212</br>situation: 1.4000000000000001</br></br>h_a: 0.0</br>shotType: 0.0</br>lastAction: 14.0</br>minute: 41</br>distance: 4.588861943363718</br>angle: 76.94750555554026</br>_original_yhat_: 0.21179511646378305</br>"
          ],
          [
           "</br>id: 2929</br>prediction: 0.212</br>situation: 1.44</br></br>h_a: 0.0</br>shotType: 0.0</br>lastAction: 14.0</br>minute: 41</br>distance: 4.588861943363718</br>angle: 76.94750555554026</br>_original_yhat_: 0.21179511646378305</br>"
          ],
          [
           "</br>id: 2929</br>prediction: 0.212</br>situation: 1.48</br></br>h_a: 0.0</br>shotType: 0.0</br>lastAction: 14.0</br>minute: 41</br>distance: 4.588861943363718</br>angle: 76.94750555554026</br>_original_yhat_: 0.21179511646378305</br>"
          ],
          [
           "</br>id: 2929</br>prediction: 0.318</br>situation: 1.52</br></br>h_a: 0.0</br>shotType: 0.0</br>lastAction: 14.0</br>minute: 41</br>distance: 4.588861943363718</br>angle: 76.94750555554026</br>_original_yhat_: 0.21179511646378305</br>"
          ],
          [
           "</br>id: 2929</br>prediction: 0.318</br>situation: 1.56</br></br>h_a: 0.0</br>shotType: 0.0</br>lastAction: 14.0</br>minute: 41</br>distance: 4.588861943363718</br>angle: 76.94750555554026</br>_original_yhat_: 0.21179511646378305</br>"
          ],
          [
           "</br>id: 2929</br>prediction: 0.318</br>situation: 1.6</br></br>h_a: 0.0</br>shotType: 0.0</br>lastAction: 14.0</br>minute: 41</br>distance: 4.588861943363718</br>angle: 76.94750555554026</br>_original_yhat_: 0.21179511646378305</br>"
          ],
          [
           "</br>id: 2929</br>prediction: 0.318</br>situation: 1.6400000000000001</br></br>h_a: 0.0</br>shotType: 0.0</br>lastAction: 14.0</br>minute: 41</br>distance: 4.588861943363718</br>angle: 76.94750555554026</br>_original_yhat_: 0.21179511646378305</br>"
          ],
          [
           "</br>id: 2929</br>prediction: 0.318</br>situation: 1.68</br></br>h_a: 0.0</br>shotType: 0.0</br>lastAction: 14.0</br>minute: 41</br>distance: 4.588861943363718</br>angle: 76.94750555554026</br>_original_yhat_: 0.21179511646378305</br>"
          ],
          [
           "</br>id: 2929</br>prediction: 0.318</br>situation: 1.72</br></br>h_a: 0.0</br>shotType: 0.0</br>lastAction: 14.0</br>minute: 41</br>distance: 4.588861943363718</br>angle: 76.94750555554026</br>_original_yhat_: 0.21179511646378305</br>"
          ],
          [
           "</br>id: 2929</br>prediction: 0.318</br>situation: 1.76</br></br>h_a: 0.0</br>shotType: 0.0</br>lastAction: 14.0</br>minute: 41</br>distance: 4.588861943363718</br>angle: 76.94750555554026</br>_original_yhat_: 0.21179511646378305</br>"
          ],
          [
           "</br>id: 2929</br>prediction: 0.318</br>situation: 1.8</br></br>h_a: 0.0</br>shotType: 0.0</br>lastAction: 14.0</br>minute: 41</br>distance: 4.588861943363718</br>angle: 76.94750555554026</br>_original_yhat_: 0.21179511646378305</br>"
          ],
          [
           "</br>id: 2929</br>prediction: 0.318</br>situation: 1.84</br></br>h_a: 0.0</br>shotType: 0.0</br>lastAction: 14.0</br>minute: 41</br>distance: 4.588861943363718</br>angle: 76.94750555554026</br>_original_yhat_: 0.21179511646378305</br>"
          ],
          [
           "</br>id: 2929</br>prediction: 0.318</br>situation: 1.8800000000000001</br></br>h_a: 0.0</br>shotType: 0.0</br>lastAction: 14.0</br>minute: 41</br>distance: 4.588861943363718</br>angle: 76.94750555554026</br>_original_yhat_: 0.21179511646378305</br>"
          ],
          [
           "</br>id: 2929</br>prediction: 0.318</br>situation: 1.92</br></br>h_a: 0.0</br>shotType: 0.0</br>lastAction: 14.0</br>minute: 41</br>distance: 4.588861943363718</br>angle: 76.94750555554026</br>_original_yhat_: 0.21179511646378305</br>"
          ],
          [
           "</br>id: 2929</br>prediction: 0.318</br>situation: 1.96</br></br>h_a: 0.0</br>shotType: 0.0</br>lastAction: 14.0</br>minute: 41</br>distance: 4.588861943363718</br>angle: 76.94750555554026</br>_original_yhat_: 0.21179511646378305</br>"
          ],
          [
           "</br>id: 2929</br>prediction: 0.318</br>situation: 2.0</br></br>h_a: 0.0</br>shotType: 0.0</br>lastAction: 14.0</br>minute: 41</br>distance: 4.588861943363718</br>angle: 76.94750555554026</br>_original_yhat_: 0.21179511646378305</br>"
          ],
          [
           "</br>id: 2929</br>prediction: 0.318</br>situation: 2.04</br></br>h_a: 0.0</br>shotType: 0.0</br>lastAction: 14.0</br>minute: 41</br>distance: 4.588861943363718</br>angle: 76.94750555554026</br>_original_yhat_: 0.21179511646378305</br>"
          ],
          [
           "</br>id: 2929</br>prediction: 0.318</br>situation: 2.08</br></br>h_a: 0.0</br>shotType: 0.0</br>lastAction: 14.0</br>minute: 41</br>distance: 4.588861943363718</br>angle: 76.94750555554026</br>_original_yhat_: 0.21179511646378305</br>"
          ],
          [
           "</br>id: 2929</br>prediction: 0.318</br>situation: 2.12</br></br>h_a: 0.0</br>shotType: 0.0</br>lastAction: 14.0</br>minute: 41</br>distance: 4.588861943363718</br>angle: 76.94750555554026</br>_original_yhat_: 0.21179511646378305</br>"
          ],
          [
           "</br>id: 2929</br>prediction: 0.318</br>situation: 2.16</br></br>h_a: 0.0</br>shotType: 0.0</br>lastAction: 14.0</br>minute: 41</br>distance: 4.588861943363718</br>angle: 76.94750555554026</br>_original_yhat_: 0.21179511646378305</br>"
          ],
          [
           "</br>id: 2929</br>prediction: 0.318</br>situation: 2.2</br></br>h_a: 0.0</br>shotType: 0.0</br>lastAction: 14.0</br>minute: 41</br>distance: 4.588861943363718</br>angle: 76.94750555554026</br>_original_yhat_: 0.21179511646378305</br>"
          ],
          [
           "</br>id: 2929</br>prediction: 0.318</br>situation: 2.24</br></br>h_a: 0.0</br>shotType: 0.0</br>lastAction: 14.0</br>minute: 41</br>distance: 4.588861943363718</br>angle: 76.94750555554026</br>_original_yhat_: 0.21179511646378305</br>"
          ],
          [
           "</br>id: 2929</br>prediction: 0.318</br>situation: 2.2800000000000002</br></br>h_a: 0.0</br>shotType: 0.0</br>lastAction: 14.0</br>minute: 41</br>distance: 4.588861943363718</br>angle: 76.94750555554026</br>_original_yhat_: 0.21179511646378305</br>"
          ],
          [
           "</br>id: 2929</br>prediction: 0.318</br>situation: 2.32</br></br>h_a: 0.0</br>shotType: 0.0</br>lastAction: 14.0</br>minute: 41</br>distance: 4.588861943363718</br>angle: 76.94750555554026</br>_original_yhat_: 0.21179511646378305</br>"
          ],
          [
           "</br>id: 2929</br>prediction: 0.318</br>situation: 2.36</br></br>h_a: 0.0</br>shotType: 0.0</br>lastAction: 14.0</br>minute: 41</br>distance: 4.588861943363718</br>angle: 76.94750555554026</br>_original_yhat_: 0.21179511646378305</br>"
          ],
          [
           "</br>id: 2929</br>prediction: 0.318</br>situation: 2.4</br></br>h_a: 0.0</br>shotType: 0.0</br>lastAction: 14.0</br>minute: 41</br>distance: 4.588861943363718</br>angle: 76.94750555554026</br>_original_yhat_: 0.21179511646378305</br>"
          ],
          [
           "</br>id: 2929</br>prediction: 0.318</br>situation: 2.44</br></br>h_a: 0.0</br>shotType: 0.0</br>lastAction: 14.0</br>minute: 41</br>distance: 4.588861943363718</br>angle: 76.94750555554026</br>_original_yhat_: 0.21179511646378305</br>"
          ],
          [
           "</br>id: 2929</br>prediction: 0.318</br>situation: 2.48</br></br>h_a: 0.0</br>shotType: 0.0</br>lastAction: 14.0</br>minute: 41</br>distance: 4.588861943363718</br>angle: 76.94750555554026</br>_original_yhat_: 0.21179511646378305</br>"
          ],
          [
           "</br>id: 2929</br>prediction: 0.428</br>situation: 2.52</br></br>h_a: 0.0</br>shotType: 0.0</br>lastAction: 14.0</br>minute: 41</br>distance: 4.588861943363718</br>angle: 76.94750555554026</br>_original_yhat_: 0.21179511646378305</br>"
          ],
          [
           "</br>id: 2929</br>prediction: 0.428</br>situation: 2.56</br></br>h_a: 0.0</br>shotType: 0.0</br>lastAction: 14.0</br>minute: 41</br>distance: 4.588861943363718</br>angle: 76.94750555554026</br>_original_yhat_: 0.21179511646378305</br>"
          ],
          [
           "</br>id: 2929</br>prediction: 0.428</br>situation: 2.6</br></br>h_a: 0.0</br>shotType: 0.0</br>lastAction: 14.0</br>minute: 41</br>distance: 4.588861943363718</br>angle: 76.94750555554026</br>_original_yhat_: 0.21179511646378305</br>"
          ],
          [
           "</br>id: 2929</br>prediction: 0.428</br>situation: 2.64</br></br>h_a: 0.0</br>shotType: 0.0</br>lastAction: 14.0</br>minute: 41</br>distance: 4.588861943363718</br>angle: 76.94750555554026</br>_original_yhat_: 0.21179511646378305</br>"
          ],
          [
           "</br>id: 2929</br>prediction: 0.428</br>situation: 2.68</br></br>h_a: 0.0</br>shotType: 0.0</br>lastAction: 14.0</br>minute: 41</br>distance: 4.588861943363718</br>angle: 76.94750555554026</br>_original_yhat_: 0.21179511646378305</br>"
          ],
          [
           "</br>id: 2929</br>prediction: 0.428</br>situation: 2.72</br></br>h_a: 0.0</br>shotType: 0.0</br>lastAction: 14.0</br>minute: 41</br>distance: 4.588861943363718</br>angle: 76.94750555554026</br>_original_yhat_: 0.21179511646378305</br>"
          ],
          [
           "</br>id: 2929</br>prediction: 0.428</br>situation: 2.7600000000000002</br></br>h_a: 0.0</br>shotType: 0.0</br>lastAction: 14.0</br>minute: 41</br>distance: 4.588861943363718</br>angle: 76.94750555554026</br>_original_yhat_: 0.21179511646378305</br>"
          ],
          [
           "</br>id: 2929</br>prediction: 0.428</br>situation: 2.8000000000000003</br></br>h_a: 0.0</br>shotType: 0.0</br>lastAction: 14.0</br>minute: 41</br>distance: 4.588861943363718</br>angle: 76.94750555554026</br>_original_yhat_: 0.21179511646378305</br>"
          ],
          [
           "</br>id: 2929</br>prediction: 0.428</br>situation: 2.84</br></br>h_a: 0.0</br>shotType: 0.0</br>lastAction: 14.0</br>minute: 41</br>distance: 4.588861943363718</br>angle: 76.94750555554026</br>_original_yhat_: 0.21179511646378305</br>"
          ],
          [
           "</br>id: 2929</br>prediction: 0.428</br>situation: 2.88</br></br>h_a: 0.0</br>shotType: 0.0</br>lastAction: 14.0</br>minute: 41</br>distance: 4.588861943363718</br>angle: 76.94750555554026</br>_original_yhat_: 0.21179511646378305</br>"
          ],
          [
           "</br>id: 2929</br>prediction: 0.428</br>situation: 2.92</br></br>h_a: 0.0</br>shotType: 0.0</br>lastAction: 14.0</br>minute: 41</br>distance: 4.588861943363718</br>angle: 76.94750555554026</br>_original_yhat_: 0.21179511646378305</br>"
          ],
          [
           "</br>id: 2929</br>prediction: 0.428</br>situation: 2.96</br></br>h_a: 0.0</br>shotType: 0.0</br>lastAction: 14.0</br>minute: 41</br>distance: 4.588861943363718</br>angle: 76.94750555554026</br>_original_yhat_: 0.21179511646378305</br>"
          ],
          [
           "</br>id: 2929</br>prediction: 0.428</br>situation: 3.0</br></br>h_a: 0.0</br>shotType: 0.0</br>lastAction: 14.0</br>minute: 41</br>distance: 4.588861943363718</br>angle: 76.94750555554026</br>_original_yhat_: 0.21179511646378305</br>"
          ],
          [
           "</br>id: 2929</br>prediction: 0.428</br>situation: 3.04</br></br>h_a: 0.0</br>shotType: 0.0</br>lastAction: 14.0</br>minute: 41</br>distance: 4.588861943363718</br>angle: 76.94750555554026</br>_original_yhat_: 0.21179511646378305</br>"
          ],
          [
           "</br>id: 2929</br>prediction: 0.428</br>situation: 3.08</br></br>h_a: 0.0</br>shotType: 0.0</br>lastAction: 14.0</br>minute: 41</br>distance: 4.588861943363718</br>angle: 76.94750555554026</br>_original_yhat_: 0.21179511646378305</br>"
          ],
          [
           "</br>id: 2929</br>prediction: 0.428</br>situation: 3.12</br></br>h_a: 0.0</br>shotType: 0.0</br>lastAction: 14.0</br>minute: 41</br>distance: 4.588861943363718</br>angle: 76.94750555554026</br>_original_yhat_: 0.21179511646378305</br>"
          ],
          [
           "</br>id: 2929</br>prediction: 0.428</br>situation: 3.16</br></br>h_a: 0.0</br>shotType: 0.0</br>lastAction: 14.0</br>minute: 41</br>distance: 4.588861943363718</br>angle: 76.94750555554026</br>_original_yhat_: 0.21179511646378305</br>"
          ],
          [
           "</br>id: 2929</br>prediction: 0.428</br>situation: 3.2</br></br>h_a: 0.0</br>shotType: 0.0</br>lastAction: 14.0</br>minute: 41</br>distance: 4.588861943363718</br>angle: 76.94750555554026</br>_original_yhat_: 0.21179511646378305</br>"
          ],
          [
           "</br>id: 2929</br>prediction: 0.428</br>situation: 3.24</br></br>h_a: 0.0</br>shotType: 0.0</br>lastAction: 14.0</br>minute: 41</br>distance: 4.588861943363718</br>angle: 76.94750555554026</br>_original_yhat_: 0.21179511646378305</br>"
          ],
          [
           "</br>id: 2929</br>prediction: 0.428</br>situation: 3.2800000000000002</br></br>h_a: 0.0</br>shotType: 0.0</br>lastAction: 14.0</br>minute: 41</br>distance: 4.588861943363718</br>angle: 76.94750555554026</br>_original_yhat_: 0.21179511646378305</br>"
          ],
          [
           "</br>id: 2929</br>prediction: 0.428</br>situation: 3.3200000000000003</br></br>h_a: 0.0</br>shotType: 0.0</br>lastAction: 14.0</br>minute: 41</br>distance: 4.588861943363718</br>angle: 76.94750555554026</br>_original_yhat_: 0.21179511646378305</br>"
          ],
          [
           "</br>id: 2929</br>prediction: 0.428</br>situation: 3.36</br></br>h_a: 0.0</br>shotType: 0.0</br>lastAction: 14.0</br>minute: 41</br>distance: 4.588861943363718</br>angle: 76.94750555554026</br>_original_yhat_: 0.21179511646378305</br>"
          ],
          [
           "</br>id: 2929</br>prediction: 0.428</br>situation: 3.4</br></br>h_a: 0.0</br>shotType: 0.0</br>lastAction: 14.0</br>minute: 41</br>distance: 4.588861943363718</br>angle: 76.94750555554026</br>_original_yhat_: 0.21179511646378305</br>"
          ],
          [
           "</br>id: 2929</br>prediction: 0.428</br>situation: 3.44</br></br>h_a: 0.0</br>shotType: 0.0</br>lastAction: 14.0</br>minute: 41</br>distance: 4.588861943363718</br>angle: 76.94750555554026</br>_original_yhat_: 0.21179511646378305</br>"
          ],
          [
           "</br>id: 2929</br>prediction: 0.428</br>situation: 3.48</br></br>h_a: 0.0</br>shotType: 0.0</br>lastAction: 14.0</br>minute: 41</br>distance: 4.588861943363718</br>angle: 76.94750555554026</br>_original_yhat_: 0.21179511646378305</br>"
          ],
          [
           "</br>id: 2929</br>prediction: 0.248</br>situation: 3.52</br></br>h_a: 0.0</br>shotType: 0.0</br>lastAction: 14.0</br>minute: 41</br>distance: 4.588861943363718</br>angle: 76.94750555554026</br>_original_yhat_: 0.21179511646378305</br>"
          ],
          [
           "</br>id: 2929</br>prediction: 0.248</br>situation: 3.56</br></br>h_a: 0.0</br>shotType: 0.0</br>lastAction: 14.0</br>minute: 41</br>distance: 4.588861943363718</br>angle: 76.94750555554026</br>_original_yhat_: 0.21179511646378305</br>"
          ],
          [
           "</br>id: 2929</br>prediction: 0.248</br>situation: 3.6</br></br>h_a: 0.0</br>shotType: 0.0</br>lastAction: 14.0</br>minute: 41</br>distance: 4.588861943363718</br>angle: 76.94750555554026</br>_original_yhat_: 0.21179511646378305</br>"
          ],
          [
           "</br>id: 2929</br>prediction: 0.248</br>situation: 3.64</br></br>h_a: 0.0</br>shotType: 0.0</br>lastAction: 14.0</br>minute: 41</br>distance: 4.588861943363718</br>angle: 76.94750555554026</br>_original_yhat_: 0.21179511646378305</br>"
          ],
          [
           "</br>id: 2929</br>prediction: 0.248</br>situation: 3.68</br></br>h_a: 0.0</br>shotType: 0.0</br>lastAction: 14.0</br>minute: 41</br>distance: 4.588861943363718</br>angle: 76.94750555554026</br>_original_yhat_: 0.21179511646378305</br>"
          ],
          [
           "</br>id: 2929</br>prediction: 0.248</br>situation: 3.72</br></br>h_a: 0.0</br>shotType: 0.0</br>lastAction: 14.0</br>minute: 41</br>distance: 4.588861943363718</br>angle: 76.94750555554026</br>_original_yhat_: 0.21179511646378305</br>"
          ],
          [
           "</br>id: 2929</br>prediction: 0.248</br>situation: 3.7600000000000002</br></br>h_a: 0.0</br>shotType: 0.0</br>lastAction: 14.0</br>minute: 41</br>distance: 4.588861943363718</br>angle: 76.94750555554026</br>_original_yhat_: 0.21179511646378305</br>"
          ],
          [
           "</br>id: 2929</br>prediction: 0.248</br>situation: 3.8000000000000003</br></br>h_a: 0.0</br>shotType: 0.0</br>lastAction: 14.0</br>minute: 41</br>distance: 4.588861943363718</br>angle: 76.94750555554026</br>_original_yhat_: 0.21179511646378305</br>"
          ],
          [
           "</br>id: 2929</br>prediction: 0.248</br>situation: 3.84</br></br>h_a: 0.0</br>shotType: 0.0</br>lastAction: 14.0</br>minute: 41</br>distance: 4.588861943363718</br>angle: 76.94750555554026</br>_original_yhat_: 0.21179511646378305</br>"
          ],
          [
           "</br>id: 2929</br>prediction: 0.248</br>situation: 3.88</br></br>h_a: 0.0</br>shotType: 0.0</br>lastAction: 14.0</br>minute: 41</br>distance: 4.588861943363718</br>angle: 76.94750555554026</br>_original_yhat_: 0.21179511646378305</br>"
          ],
          [
           "</br>id: 2929</br>prediction: 0.248</br>situation: 3.92</br></br>h_a: 0.0</br>shotType: 0.0</br>lastAction: 14.0</br>minute: 41</br>distance: 4.588861943363718</br>angle: 76.94750555554026</br>_original_yhat_: 0.21179511646378305</br>"
          ],
          [
           "</br>id: 2929</br>prediction: 0.248</br>situation: 3.96</br></br>h_a: 0.0</br>shotType: 0.0</br>lastAction: 14.0</br>minute: 41</br>distance: 4.588861943363718</br>angle: 76.94750555554026</br>_original_yhat_: 0.21179511646378305</br>"
          ],
          [
           "</br>id: 2929</br>prediction: 0.248</br>situation: 4.0</br></br>h_a: 0.0</br>shotType: 0.0</br>lastAction: 14.0</br>minute: 41</br>distance: 4.588861943363718</br>angle: 76.94750555554026</br>_original_yhat_: 0.21179511646378305</br>"
          ]
         ],
         "hovertemplate": "%{customdata[0]}<extra></extra>",
         "legendgroup": "GradientBoostingClassifier",
         "line": {
          "color": "#4378bf",
          "dash": "solid",
          "width": 2
         },
         "marker": {
          "symbol": "circle"
         },
         "mode": "lines",
         "name": "GradientBoostingClassifier",
         "opacity": 1,
         "showlegend": false,
         "type": "scattergl",
         "x": [
          0,
          0.04,
          0.08,
          0.12,
          0.16,
          0.2,
          0.24,
          0.28,
          0.32,
          0.36,
          0.4,
          0.44,
          0.48,
          0.52,
          0.56,
          0.6,
          0.64,
          0.68,
          0.72,
          0.76,
          0.8,
          0.84,
          0.88,
          0.92,
          0.96,
          1,
          1.04,
          1.08,
          1.12,
          1.16,
          1.2,
          1.24,
          1.28,
          1.32,
          1.36,
          1.4000000000000001,
          1.44,
          1.48,
          1.52,
          1.56,
          1.6,
          1.6400000000000001,
          1.68,
          1.72,
          1.76,
          1.8,
          1.84,
          1.8800000000000001,
          1.92,
          1.96,
          2,
          2.04,
          2.08,
          2.12,
          2.16,
          2.2,
          2.24,
          2.2800000000000002,
          2.32,
          2.36,
          2.4,
          2.44,
          2.48,
          2.52,
          2.56,
          2.6,
          2.64,
          2.68,
          2.72,
          2.7600000000000002,
          2.8000000000000003,
          2.84,
          2.88,
          2.92,
          2.96,
          3,
          3.04,
          3.08,
          3.12,
          3.16,
          3.2,
          3.24,
          3.2800000000000002,
          3.3200000000000003,
          3.36,
          3.4,
          3.44,
          3.48,
          3.52,
          3.56,
          3.6,
          3.64,
          3.68,
          3.72,
          3.7600000000000002,
          3.8000000000000003,
          3.84,
          3.88,
          3.92,
          3.96,
          4
         ],
         "xaxis": "x8",
         "y": [
          0.21179511646378305,
          0.21179511646378305,
          0.21179511646378305,
          0.21179511646378305,
          0.21179511646378305,
          0.21179511646378305,
          0.21179511646378305,
          0.21179511646378305,
          0.21179511646378305,
          0.21179511646378305,
          0.21179511646378305,
          0.21179511646378305,
          0.21179511646378305,
          0.21179511646378305,
          0.21179511646378305,
          0.21179511646378305,
          0.21179511646378305,
          0.21179511646378305,
          0.21179511646378305,
          0.21179511646378305,
          0.21179511646378305,
          0.21179511646378305,
          0.21179511646378305,
          0.21179511646378305,
          0.21179511646378305,
          0.21179511646378305,
          0.21179511646378305,
          0.21179511646378305,
          0.21179511646378305,
          0.21179511646378305,
          0.21179511646378305,
          0.21179511646378305,
          0.21179511646378305,
          0.21179511646378305,
          0.21179511646378305,
          0.21179511646378305,
          0.21179511646378305,
          0.21179511646378305,
          0.31841943063082895,
          0.31841943063082895,
          0.31841943063082895,
          0.31841943063082895,
          0.31841943063082895,
          0.31841943063082895,
          0.31841943063082895,
          0.31841943063082895,
          0.31841943063082895,
          0.31841943063082895,
          0.31841943063082895,
          0.31841943063082895,
          0.31841943063082895,
          0.31841943063082895,
          0.31841943063082895,
          0.31841943063082895,
          0.31841943063082895,
          0.31841943063082895,
          0.31841943063082895,
          0.31841943063082895,
          0.31841943063082895,
          0.31841943063082895,
          0.31841943063082895,
          0.31841943063082895,
          0.31841943063082895,
          0.4276429357370784,
          0.4276429357370784,
          0.4276429357370784,
          0.4276429357370784,
          0.4276429357370784,
          0.4276429357370784,
          0.4276429357370784,
          0.4276429357370784,
          0.4276429357370784,
          0.4276429357370784,
          0.4276429357370784,
          0.4276429357370784,
          0.4276429357370784,
          0.4276429357370784,
          0.4276429357370784,
          0.4276429357370784,
          0.4276429357370784,
          0.4276429357370784,
          0.4276429357370784,
          0.4276429357370784,
          0.4276429357370784,
          0.4276429357370784,
          0.4276429357370784,
          0.4276429357370784,
          0.4276429357370784,
          0.24839870505946132,
          0.24839870505946132,
          0.24839870505946132,
          0.24839870505946132,
          0.24839870505946132,
          0.24839870505946132,
          0.24839870505946132,
          0.24839870505946132,
          0.24839870505946132,
          0.24839870505946132,
          0.24839870505946132,
          0.24839870505946132,
          0.24839870505946132
         ],
         "yaxis": "y8"
        },
        {
         "customdata": [
          [
           "</br>id: 2929</br>prediction: 0.212</br>shotType: 0.0</br></br>h_a: 0.0</br>situation: 1.0</br>lastAction: 14.0</br>minute: 41</br>distance: 4.588861943363718</br>angle: 76.94750555554026</br>_original_yhat_: 0.21179511646378305</br>"
          ],
          [
           "</br>id: 2929</br>prediction: 0.212</br>shotType: 0.03</br></br>h_a: 0.0</br>situation: 1.0</br>lastAction: 14.0</br>minute: 41</br>distance: 4.588861943363718</br>angle: 76.94750555554026</br>_original_yhat_: 0.21179511646378305</br>"
          ],
          [
           "</br>id: 2929</br>prediction: 0.212</br>shotType: 0.06</br></br>h_a: 0.0</br>situation: 1.0</br>lastAction: 14.0</br>minute: 41</br>distance: 4.588861943363718</br>angle: 76.94750555554026</br>_original_yhat_: 0.21179511646378305</br>"
          ],
          [
           "</br>id: 2929</br>prediction: 0.212</br>shotType: 0.09</br></br>h_a: 0.0</br>situation: 1.0</br>lastAction: 14.0</br>minute: 41</br>distance: 4.588861943363718</br>angle: 76.94750555554026</br>_original_yhat_: 0.21179511646378305</br>"
          ],
          [
           "</br>id: 2929</br>prediction: 0.212</br>shotType: 0.12</br></br>h_a: 0.0</br>situation: 1.0</br>lastAction: 14.0</br>minute: 41</br>distance: 4.588861943363718</br>angle: 76.94750555554026</br>_original_yhat_: 0.21179511646378305</br>"
          ],
          [
           "</br>id: 2929</br>prediction: 0.212</br>shotType: 0.15</br></br>h_a: 0.0</br>situation: 1.0</br>lastAction: 14.0</br>minute: 41</br>distance: 4.588861943363718</br>angle: 76.94750555554026</br>_original_yhat_: 0.21179511646378305</br>"
          ],
          [
           "</br>id: 2929</br>prediction: 0.212</br>shotType: 0.18</br></br>h_a: 0.0</br>situation: 1.0</br>lastAction: 14.0</br>minute: 41</br>distance: 4.588861943363718</br>angle: 76.94750555554026</br>_original_yhat_: 0.21179511646378305</br>"
          ],
          [
           "</br>id: 2929</br>prediction: 0.212</br>shotType: 0.21</br></br>h_a: 0.0</br>situation: 1.0</br>lastAction: 14.0</br>minute: 41</br>distance: 4.588861943363718</br>angle: 76.94750555554026</br>_original_yhat_: 0.21179511646378305</br>"
          ],
          [
           "</br>id: 2929</br>prediction: 0.212</br>shotType: 0.24</br></br>h_a: 0.0</br>situation: 1.0</br>lastAction: 14.0</br>minute: 41</br>distance: 4.588861943363718</br>angle: 76.94750555554026</br>_original_yhat_: 0.21179511646378305</br>"
          ],
          [
           "</br>id: 2929</br>prediction: 0.212</br>shotType: 0.27</br></br>h_a: 0.0</br>situation: 1.0</br>lastAction: 14.0</br>minute: 41</br>distance: 4.588861943363718</br>angle: 76.94750555554026</br>_original_yhat_: 0.21179511646378305</br>"
          ],
          [
           "</br>id: 2929</br>prediction: 0.212</br>shotType: 0.3</br></br>h_a: 0.0</br>situation: 1.0</br>lastAction: 14.0</br>minute: 41</br>distance: 4.588861943363718</br>angle: 76.94750555554026</br>_original_yhat_: 0.21179511646378305</br>"
          ],
          [
           "</br>id: 2929</br>prediction: 0.212</br>shotType: 0.32999999999999996</br></br>h_a: 0.0</br>situation: 1.0</br>lastAction: 14.0</br>minute: 41</br>distance: 4.588861943363718</br>angle: 76.94750555554026</br>_original_yhat_: 0.21179511646378305</br>"
          ],
          [
           "</br>id: 2929</br>prediction: 0.212</br>shotType: 0.36</br></br>h_a: 0.0</br>situation: 1.0</br>lastAction: 14.0</br>minute: 41</br>distance: 4.588861943363718</br>angle: 76.94750555554026</br>_original_yhat_: 0.21179511646378305</br>"
          ],
          [
           "</br>id: 2929</br>prediction: 0.212</br>shotType: 0.39</br></br>h_a: 0.0</br>situation: 1.0</br>lastAction: 14.0</br>minute: 41</br>distance: 4.588861943363718</br>angle: 76.94750555554026</br>_original_yhat_: 0.21179511646378305</br>"
          ],
          [
           "</br>id: 2929</br>prediction: 0.212</br>shotType: 0.42</br></br>h_a: 0.0</br>situation: 1.0</br>lastAction: 14.0</br>minute: 41</br>distance: 4.588861943363718</br>angle: 76.94750555554026</br>_original_yhat_: 0.21179511646378305</br>"
          ],
          [
           "</br>id: 2929</br>prediction: 0.212</br>shotType: 0.44999999999999996</br></br>h_a: 0.0</br>situation: 1.0</br>lastAction: 14.0</br>minute: 41</br>distance: 4.588861943363718</br>angle: 76.94750555554026</br>_original_yhat_: 0.21179511646378305</br>"
          ],
          [
           "</br>id: 2929</br>prediction: 0.212</br>shotType: 0.48</br></br>h_a: 0.0</br>situation: 1.0</br>lastAction: 14.0</br>minute: 41</br>distance: 4.588861943363718</br>angle: 76.94750555554026</br>_original_yhat_: 0.21179511646378305</br>"
          ],
          [
           "</br>id: 2929</br>prediction: 0.297</br>shotType: 0.51</br></br>h_a: 0.0</br>situation: 1.0</br>lastAction: 14.0</br>minute: 41</br>distance: 4.588861943363718</br>angle: 76.94750555554026</br>_original_yhat_: 0.21179511646378305</br>"
          ],
          [
           "</br>id: 2929</br>prediction: 0.297</br>shotType: 0.54</br></br>h_a: 0.0</br>situation: 1.0</br>lastAction: 14.0</br>minute: 41</br>distance: 4.588861943363718</br>angle: 76.94750555554026</br>_original_yhat_: 0.21179511646378305</br>"
          ],
          [
           "</br>id: 2929</br>prediction: 0.297</br>shotType: 0.57</br></br>h_a: 0.0</br>situation: 1.0</br>lastAction: 14.0</br>minute: 41</br>distance: 4.588861943363718</br>angle: 76.94750555554026</br>_original_yhat_: 0.21179511646378305</br>"
          ],
          [
           "</br>id: 2929</br>prediction: 0.297</br>shotType: 0.6</br></br>h_a: 0.0</br>situation: 1.0</br>lastAction: 14.0</br>minute: 41</br>distance: 4.588861943363718</br>angle: 76.94750555554026</br>_original_yhat_: 0.21179511646378305</br>"
          ],
          [
           "</br>id: 2929</br>prediction: 0.297</br>shotType: 0.63</br></br>h_a: 0.0</br>situation: 1.0</br>lastAction: 14.0</br>minute: 41</br>distance: 4.588861943363718</br>angle: 76.94750555554026</br>_original_yhat_: 0.21179511646378305</br>"
          ],
          [
           "</br>id: 2929</br>prediction: 0.297</br>shotType: 0.6599999999999999</br></br>h_a: 0.0</br>situation: 1.0</br>lastAction: 14.0</br>minute: 41</br>distance: 4.588861943363718</br>angle: 76.94750555554026</br>_original_yhat_: 0.21179511646378305</br>"
          ],
          [
           "</br>id: 2929</br>prediction: 0.297</br>shotType: 0.69</br></br>h_a: 0.0</br>situation: 1.0</br>lastAction: 14.0</br>minute: 41</br>distance: 4.588861943363718</br>angle: 76.94750555554026</br>_original_yhat_: 0.21179511646378305</br>"
          ],
          [
           "</br>id: 2929</br>prediction: 0.297</br>shotType: 0.72</br></br>h_a: 0.0</br>situation: 1.0</br>lastAction: 14.0</br>minute: 41</br>distance: 4.588861943363718</br>angle: 76.94750555554026</br>_original_yhat_: 0.21179511646378305</br>"
          ],
          [
           "</br>id: 2929</br>prediction: 0.297</br>shotType: 0.75</br></br>h_a: 0.0</br>situation: 1.0</br>lastAction: 14.0</br>minute: 41</br>distance: 4.588861943363718</br>angle: 76.94750555554026</br>_original_yhat_: 0.21179511646378305</br>"
          ],
          [
           "</br>id: 2929</br>prediction: 0.297</br>shotType: 0.78</br></br>h_a: 0.0</br>situation: 1.0</br>lastAction: 14.0</br>minute: 41</br>distance: 4.588861943363718</br>angle: 76.94750555554026</br>_original_yhat_: 0.21179511646378305</br>"
          ],
          [
           "</br>id: 2929</br>prediction: 0.297</br>shotType: 0.8099999999999999</br></br>h_a: 0.0</br>situation: 1.0</br>lastAction: 14.0</br>minute: 41</br>distance: 4.588861943363718</br>angle: 76.94750555554026</br>_original_yhat_: 0.21179511646378305</br>"
          ],
          [
           "</br>id: 2929</br>prediction: 0.297</br>shotType: 0.84</br></br>h_a: 0.0</br>situation: 1.0</br>lastAction: 14.0</br>minute: 41</br>distance: 4.588861943363718</br>angle: 76.94750555554026</br>_original_yhat_: 0.21179511646378305</br>"
          ],
          [
           "</br>id: 2929</br>prediction: 0.297</br>shotType: 0.87</br></br>h_a: 0.0</br>situation: 1.0</br>lastAction: 14.0</br>minute: 41</br>distance: 4.588861943363718</br>angle: 76.94750555554026</br>_original_yhat_: 0.21179511646378305</br>"
          ],
          [
           "</br>id: 2929</br>prediction: 0.297</br>shotType: 0.8999999999999999</br></br>h_a: 0.0</br>situation: 1.0</br>lastAction: 14.0</br>minute: 41</br>distance: 4.588861943363718</br>angle: 76.94750555554026</br>_original_yhat_: 0.21179511646378305</br>"
          ],
          [
           "</br>id: 2929</br>prediction: 0.297</br>shotType: 0.9299999999999999</br></br>h_a: 0.0</br>situation: 1.0</br>lastAction: 14.0</br>minute: 41</br>distance: 4.588861943363718</br>angle: 76.94750555554026</br>_original_yhat_: 0.21179511646378305</br>"
          ],
          [
           "</br>id: 2929</br>prediction: 0.297</br>shotType: 0.96</br></br>h_a: 0.0</br>situation: 1.0</br>lastAction: 14.0</br>minute: 41</br>distance: 4.588861943363718</br>angle: 76.94750555554026</br>_original_yhat_: 0.21179511646378305</br>"
          ],
          [
           "</br>id: 2929</br>prediction: 0.297</br>shotType: 0.99</br></br>h_a: 0.0</br>situation: 1.0</br>lastAction: 14.0</br>minute: 41</br>distance: 4.588861943363718</br>angle: 76.94750555554026</br>_original_yhat_: 0.21179511646378305</br>"
          ],
          [
           "</br>id: 2929</br>prediction: 0.297</br>shotType: 1.02</br></br>h_a: 0.0</br>situation: 1.0</br>lastAction: 14.0</br>minute: 41</br>distance: 4.588861943363718</br>angle: 76.94750555554026</br>_original_yhat_: 0.21179511646378305</br>"
          ],
          [
           "</br>id: 2929</br>prediction: 0.297</br>shotType: 1.05</br></br>h_a: 0.0</br>situation: 1.0</br>lastAction: 14.0</br>minute: 41</br>distance: 4.588861943363718</br>angle: 76.94750555554026</br>_original_yhat_: 0.21179511646378305</br>"
          ],
          [
           "</br>id: 2929</br>prediction: 0.297</br>shotType: 1.08</br></br>h_a: 0.0</br>situation: 1.0</br>lastAction: 14.0</br>minute: 41</br>distance: 4.588861943363718</br>angle: 76.94750555554026</br>_original_yhat_: 0.21179511646378305</br>"
          ],
          [
           "</br>id: 2929</br>prediction: 0.297</br>shotType: 1.1099999999999999</br></br>h_a: 0.0</br>situation: 1.0</br>lastAction: 14.0</br>minute: 41</br>distance: 4.588861943363718</br>angle: 76.94750555554026</br>_original_yhat_: 0.21179511646378305</br>"
          ],
          [
           "</br>id: 2929</br>prediction: 0.297</br>shotType: 1.14</br></br>h_a: 0.0</br>situation: 1.0</br>lastAction: 14.0</br>minute: 41</br>distance: 4.588861943363718</br>angle: 76.94750555554026</br>_original_yhat_: 0.21179511646378305</br>"
          ],
          [
           "</br>id: 2929</br>prediction: 0.297</br>shotType: 1.17</br></br>h_a: 0.0</br>situation: 1.0</br>lastAction: 14.0</br>minute: 41</br>distance: 4.588861943363718</br>angle: 76.94750555554026</br>_original_yhat_: 0.21179511646378305</br>"
          ],
          [
           "</br>id: 2929</br>prediction: 0.297</br>shotType: 1.2</br></br>h_a: 0.0</br>situation: 1.0</br>lastAction: 14.0</br>minute: 41</br>distance: 4.588861943363718</br>angle: 76.94750555554026</br>_original_yhat_: 0.21179511646378305</br>"
          ],
          [
           "</br>id: 2929</br>prediction: 0.297</br>shotType: 1.23</br></br>h_a: 0.0</br>situation: 1.0</br>lastAction: 14.0</br>minute: 41</br>distance: 4.588861943363718</br>angle: 76.94750555554026</br>_original_yhat_: 0.21179511646378305</br>"
          ],
          [
           "</br>id: 2929</br>prediction: 0.297</br>shotType: 1.26</br></br>h_a: 0.0</br>situation: 1.0</br>lastAction: 14.0</br>minute: 41</br>distance: 4.588861943363718</br>angle: 76.94750555554026</br>_original_yhat_: 0.21179511646378305</br>"
          ],
          [
           "</br>id: 2929</br>prediction: 0.297</br>shotType: 1.29</br></br>h_a: 0.0</br>situation: 1.0</br>lastAction: 14.0</br>minute: 41</br>distance: 4.588861943363718</br>angle: 76.94750555554026</br>_original_yhat_: 0.21179511646378305</br>"
          ],
          [
           "</br>id: 2929</br>prediction: 0.297</br>shotType: 1.3199999999999998</br></br>h_a: 0.0</br>situation: 1.0</br>lastAction: 14.0</br>minute: 41</br>distance: 4.588861943363718</br>angle: 76.94750555554026</br>_original_yhat_: 0.21179511646378305</br>"
          ],
          [
           "</br>id: 2929</br>prediction: 0.297</br>shotType: 1.3499999999999999</br></br>h_a: 0.0</br>situation: 1.0</br>lastAction: 14.0</br>minute: 41</br>distance: 4.588861943363718</br>angle: 76.94750555554026</br>_original_yhat_: 0.21179511646378305</br>"
          ],
          [
           "</br>id: 2929</br>prediction: 0.297</br>shotType: 1.38</br></br>h_a: 0.0</br>situation: 1.0</br>lastAction: 14.0</br>minute: 41</br>distance: 4.588861943363718</br>angle: 76.94750555554026</br>_original_yhat_: 0.21179511646378305</br>"
          ],
          [
           "</br>id: 2929</br>prediction: 0.297</br>shotType: 1.41</br></br>h_a: 0.0</br>situation: 1.0</br>lastAction: 14.0</br>minute: 41</br>distance: 4.588861943363718</br>angle: 76.94750555554026</br>_original_yhat_: 0.21179511646378305</br>"
          ],
          [
           "</br>id: 2929</br>prediction: 0.297</br>shotType: 1.44</br></br>h_a: 0.0</br>situation: 1.0</br>lastAction: 14.0</br>minute: 41</br>distance: 4.588861943363718</br>angle: 76.94750555554026</br>_original_yhat_: 0.21179511646378305</br>"
          ],
          [
           "</br>id: 2929</br>prediction: 0.297</br>shotType: 1.47</br></br>h_a: 0.0</br>situation: 1.0</br>lastAction: 14.0</br>minute: 41</br>distance: 4.588861943363718</br>angle: 76.94750555554026</br>_original_yhat_: 0.21179511646378305</br>"
          ],
          [
           "</br>id: 2929</br>prediction: 0.297</br>shotType: 1.5</br></br>h_a: 0.0</br>situation: 1.0</br>lastAction: 14.0</br>minute: 41</br>distance: 4.588861943363718</br>angle: 76.94750555554026</br>_original_yhat_: 0.21179511646378305</br>"
          ],
          [
           "</br>id: 2929</br>prediction: 0.257</br>shotType: 1.53</br></br>h_a: 0.0</br>situation: 1.0</br>lastAction: 14.0</br>minute: 41</br>distance: 4.588861943363718</br>angle: 76.94750555554026</br>_original_yhat_: 0.21179511646378305</br>"
          ],
          [
           "</br>id: 2929</br>prediction: 0.257</br>shotType: 1.56</br></br>h_a: 0.0</br>situation: 1.0</br>lastAction: 14.0</br>minute: 41</br>distance: 4.588861943363718</br>angle: 76.94750555554026</br>_original_yhat_: 0.21179511646378305</br>"
          ],
          [
           "</br>id: 2929</br>prediction: 0.257</br>shotType: 1.5899999999999999</br></br>h_a: 0.0</br>situation: 1.0</br>lastAction: 14.0</br>minute: 41</br>distance: 4.588861943363718</br>angle: 76.94750555554026</br>_original_yhat_: 0.21179511646378305</br>"
          ],
          [
           "</br>id: 2929</br>prediction: 0.257</br>shotType: 1.6199999999999999</br></br>h_a: 0.0</br>situation: 1.0</br>lastAction: 14.0</br>minute: 41</br>distance: 4.588861943363718</br>angle: 76.94750555554026</br>_original_yhat_: 0.21179511646378305</br>"
          ],
          [
           "</br>id: 2929</br>prediction: 0.257</br>shotType: 1.65</br></br>h_a: 0.0</br>situation: 1.0</br>lastAction: 14.0</br>minute: 41</br>distance: 4.588861943363718</br>angle: 76.94750555554026</br>_original_yhat_: 0.21179511646378305</br>"
          ],
          [
           "</br>id: 2929</br>prediction: 0.257</br>shotType: 1.68</br></br>h_a: 0.0</br>situation: 1.0</br>lastAction: 14.0</br>minute: 41</br>distance: 4.588861943363718</br>angle: 76.94750555554026</br>_original_yhat_: 0.21179511646378305</br>"
          ],
          [
           "</br>id: 2929</br>prediction: 0.257</br>shotType: 1.71</br></br>h_a: 0.0</br>situation: 1.0</br>lastAction: 14.0</br>minute: 41</br>distance: 4.588861943363718</br>angle: 76.94750555554026</br>_original_yhat_: 0.21179511646378305</br>"
          ],
          [
           "</br>id: 2929</br>prediction: 0.257</br>shotType: 1.74</br></br>h_a: 0.0</br>situation: 1.0</br>lastAction: 14.0</br>minute: 41</br>distance: 4.588861943363718</br>angle: 76.94750555554026</br>_original_yhat_: 0.21179511646378305</br>"
          ],
          [
           "</br>id: 2929</br>prediction: 0.257</br>shotType: 1.77</br></br>h_a: 0.0</br>situation: 1.0</br>lastAction: 14.0</br>minute: 41</br>distance: 4.588861943363718</br>angle: 76.94750555554026</br>_original_yhat_: 0.21179511646378305</br>"
          ],
          [
           "</br>id: 2929</br>prediction: 0.257</br>shotType: 1.7999999999999998</br></br>h_a: 0.0</br>situation: 1.0</br>lastAction: 14.0</br>minute: 41</br>distance: 4.588861943363718</br>angle: 76.94750555554026</br>_original_yhat_: 0.21179511646378305</br>"
          ],
          [
           "</br>id: 2929</br>prediction: 0.257</br>shotType: 1.8299999999999998</br></br>h_a: 0.0</br>situation: 1.0</br>lastAction: 14.0</br>minute: 41</br>distance: 4.588861943363718</br>angle: 76.94750555554026</br>_original_yhat_: 0.21179511646378305</br>"
          ],
          [
           "</br>id: 2929</br>prediction: 0.257</br>shotType: 1.8599999999999999</br></br>h_a: 0.0</br>situation: 1.0</br>lastAction: 14.0</br>minute: 41</br>distance: 4.588861943363718</br>angle: 76.94750555554026</br>_original_yhat_: 0.21179511646378305</br>"
          ],
          [
           "</br>id: 2929</br>prediction: 0.257</br>shotType: 1.89</br></br>h_a: 0.0</br>situation: 1.0</br>lastAction: 14.0</br>minute: 41</br>distance: 4.588861943363718</br>angle: 76.94750555554026</br>_original_yhat_: 0.21179511646378305</br>"
          ],
          [
           "</br>id: 2929</br>prediction: 0.257</br>shotType: 1.92</br></br>h_a: 0.0</br>situation: 1.0</br>lastAction: 14.0</br>minute: 41</br>distance: 4.588861943363718</br>angle: 76.94750555554026</br>_original_yhat_: 0.21179511646378305</br>"
          ],
          [
           "</br>id: 2929</br>prediction: 0.257</br>shotType: 1.95</br></br>h_a: 0.0</br>situation: 1.0</br>lastAction: 14.0</br>minute: 41</br>distance: 4.588861943363718</br>angle: 76.94750555554026</br>_original_yhat_: 0.21179511646378305</br>"
          ],
          [
           "</br>id: 2929</br>prediction: 0.257</br>shotType: 1.98</br></br>h_a: 0.0</br>situation: 1.0</br>lastAction: 14.0</br>minute: 41</br>distance: 4.588861943363718</br>angle: 76.94750555554026</br>_original_yhat_: 0.21179511646378305</br>"
          ],
          [
           "</br>id: 2929</br>prediction: 0.257</br>shotType: 2.01</br></br>h_a: 0.0</br>situation: 1.0</br>lastAction: 14.0</br>minute: 41</br>distance: 4.588861943363718</br>angle: 76.94750555554026</br>_original_yhat_: 0.21179511646378305</br>"
          ],
          [
           "</br>id: 2929</br>prediction: 0.257</br>shotType: 2.04</br></br>h_a: 0.0</br>situation: 1.0</br>lastAction: 14.0</br>minute: 41</br>distance: 4.588861943363718</br>angle: 76.94750555554026</br>_original_yhat_: 0.21179511646378305</br>"
          ],
          [
           "</br>id: 2929</br>prediction: 0.257</br>shotType: 2.07</br></br>h_a: 0.0</br>situation: 1.0</br>lastAction: 14.0</br>minute: 41</br>distance: 4.588861943363718</br>angle: 76.94750555554026</br>_original_yhat_: 0.21179511646378305</br>"
          ],
          [
           "</br>id: 2929</br>prediction: 0.257</br>shotType: 2.1</br></br>h_a: 0.0</br>situation: 1.0</br>lastAction: 14.0</br>minute: 41</br>distance: 4.588861943363718</br>angle: 76.94750555554026</br>_original_yhat_: 0.21179511646378305</br>"
          ],
          [
           "</br>id: 2929</br>prediction: 0.257</br>shotType: 2.13</br></br>h_a: 0.0</br>situation: 1.0</br>lastAction: 14.0</br>minute: 41</br>distance: 4.588861943363718</br>angle: 76.94750555554026</br>_original_yhat_: 0.21179511646378305</br>"
          ],
          [
           "</br>id: 2929</br>prediction: 0.257</br>shotType: 2.16</br></br>h_a: 0.0</br>situation: 1.0</br>lastAction: 14.0</br>minute: 41</br>distance: 4.588861943363718</br>angle: 76.94750555554026</br>_original_yhat_: 0.21179511646378305</br>"
          ],
          [
           "</br>id: 2929</br>prediction: 0.257</br>shotType: 2.19</br></br>h_a: 0.0</br>situation: 1.0</br>lastAction: 14.0</br>minute: 41</br>distance: 4.588861943363718</br>angle: 76.94750555554026</br>_original_yhat_: 0.21179511646378305</br>"
          ],
          [
           "</br>id: 2929</br>prediction: 0.257</br>shotType: 2.2199999999999998</br></br>h_a: 0.0</br>situation: 1.0</br>lastAction: 14.0</br>minute: 41</br>distance: 4.588861943363718</br>angle: 76.94750555554026</br>_original_yhat_: 0.21179511646378305</br>"
          ],
          [
           "</br>id: 2929</br>prediction: 0.257</br>shotType: 2.25</br></br>h_a: 0.0</br>situation: 1.0</br>lastAction: 14.0</br>minute: 41</br>distance: 4.588861943363718</br>angle: 76.94750555554026</br>_original_yhat_: 0.21179511646378305</br>"
          ],
          [
           "</br>id: 2929</br>prediction: 0.257</br>shotType: 2.28</br></br>h_a: 0.0</br>situation: 1.0</br>lastAction: 14.0</br>minute: 41</br>distance: 4.588861943363718</br>angle: 76.94750555554026</br>_original_yhat_: 0.21179511646378305</br>"
          ],
          [
           "</br>id: 2929</br>prediction: 0.257</br>shotType: 2.31</br></br>h_a: 0.0</br>situation: 1.0</br>lastAction: 14.0</br>minute: 41</br>distance: 4.588861943363718</br>angle: 76.94750555554026</br>_original_yhat_: 0.21179511646378305</br>"
          ],
          [
           "</br>id: 2929</br>prediction: 0.257</br>shotType: 2.34</br></br>h_a: 0.0</br>situation: 1.0</br>lastAction: 14.0</br>minute: 41</br>distance: 4.588861943363718</br>angle: 76.94750555554026</br>_original_yhat_: 0.21179511646378305</br>"
          ],
          [
           "</br>id: 2929</br>prediction: 0.257</br>shotType: 2.37</br></br>h_a: 0.0</br>situation: 1.0</br>lastAction: 14.0</br>minute: 41</br>distance: 4.588861943363718</br>angle: 76.94750555554026</br>_original_yhat_: 0.21179511646378305</br>"
          ],
          [
           "</br>id: 2929</br>prediction: 0.257</br>shotType: 2.4</br></br>h_a: 0.0</br>situation: 1.0</br>lastAction: 14.0</br>minute: 41</br>distance: 4.588861943363718</br>angle: 76.94750555554026</br>_original_yhat_: 0.21179511646378305</br>"
          ],
          [
           "</br>id: 2929</br>prediction: 0.257</br>shotType: 2.4299999999999997</br></br>h_a: 0.0</br>situation: 1.0</br>lastAction: 14.0</br>minute: 41</br>distance: 4.588861943363718</br>angle: 76.94750555554026</br>_original_yhat_: 0.21179511646378305</br>"
          ],
          [
           "</br>id: 2929</br>prediction: 0.257</br>shotType: 2.46</br></br>h_a: 0.0</br>situation: 1.0</br>lastAction: 14.0</br>minute: 41</br>distance: 4.588861943363718</br>angle: 76.94750555554026</br>_original_yhat_: 0.21179511646378305</br>"
          ],
          [
           "</br>id: 2929</br>prediction: 0.257</br>shotType: 2.4899999999999998</br></br>h_a: 0.0</br>situation: 1.0</br>lastAction: 14.0</br>minute: 41</br>distance: 4.588861943363718</br>angle: 76.94750555554026</br>_original_yhat_: 0.21179511646378305</br>"
          ],
          [
           "</br>id: 2929</br>prediction: 0.257</br>shotType: 2.52</br></br>h_a: 0.0</br>situation: 1.0</br>lastAction: 14.0</br>minute: 41</br>distance: 4.588861943363718</br>angle: 76.94750555554026</br>_original_yhat_: 0.21179511646378305</br>"
          ],
          [
           "</br>id: 2929</br>prediction: 0.257</br>shotType: 2.55</br></br>h_a: 0.0</br>situation: 1.0</br>lastAction: 14.0</br>minute: 41</br>distance: 4.588861943363718</br>angle: 76.94750555554026</br>_original_yhat_: 0.21179511646378305</br>"
          ],
          [
           "</br>id: 2929</br>prediction: 0.257</br>shotType: 2.58</br></br>h_a: 0.0</br>situation: 1.0</br>lastAction: 14.0</br>minute: 41</br>distance: 4.588861943363718</br>angle: 76.94750555554026</br>_original_yhat_: 0.21179511646378305</br>"
          ],
          [
           "</br>id: 2929</br>prediction: 0.257</br>shotType: 2.61</br></br>h_a: 0.0</br>situation: 1.0</br>lastAction: 14.0</br>minute: 41</br>distance: 4.588861943363718</br>angle: 76.94750555554026</br>_original_yhat_: 0.21179511646378305</br>"
          ],
          [
           "</br>id: 2929</br>prediction: 0.257</br>shotType: 2.6399999999999997</br></br>h_a: 0.0</br>situation: 1.0</br>lastAction: 14.0</br>minute: 41</br>distance: 4.588861943363718</br>angle: 76.94750555554026</br>_original_yhat_: 0.21179511646378305</br>"
          ],
          [
           "</br>id: 2929</br>prediction: 0.257</br>shotType: 2.67</br></br>h_a: 0.0</br>situation: 1.0</br>lastAction: 14.0</br>minute: 41</br>distance: 4.588861943363718</br>angle: 76.94750555554026</br>_original_yhat_: 0.21179511646378305</br>"
          ],
          [
           "</br>id: 2929</br>prediction: 0.257</br>shotType: 2.6999999999999997</br></br>h_a: 0.0</br>situation: 1.0</br>lastAction: 14.0</br>minute: 41</br>distance: 4.588861943363718</br>angle: 76.94750555554026</br>_original_yhat_: 0.21179511646378305</br>"
          ],
          [
           "</br>id: 2929</br>prediction: 0.257</br>shotType: 2.73</br></br>h_a: 0.0</br>situation: 1.0</br>lastAction: 14.0</br>minute: 41</br>distance: 4.588861943363718</br>angle: 76.94750555554026</br>_original_yhat_: 0.21179511646378305</br>"
          ],
          [
           "</br>id: 2929</br>prediction: 0.257</br>shotType: 2.76</br></br>h_a: 0.0</br>situation: 1.0</br>lastAction: 14.0</br>minute: 41</br>distance: 4.588861943363718</br>angle: 76.94750555554026</br>_original_yhat_: 0.21179511646378305</br>"
          ],
          [
           "</br>id: 2929</br>prediction: 0.257</br>shotType: 2.79</br></br>h_a: 0.0</br>situation: 1.0</br>lastAction: 14.0</br>minute: 41</br>distance: 4.588861943363718</br>angle: 76.94750555554026</br>_original_yhat_: 0.21179511646378305</br>"
          ],
          [
           "</br>id: 2929</br>prediction: 0.257</br>shotType: 2.82</br></br>h_a: 0.0</br>situation: 1.0</br>lastAction: 14.0</br>minute: 41</br>distance: 4.588861943363718</br>angle: 76.94750555554026</br>_original_yhat_: 0.21179511646378305</br>"
          ],
          [
           "</br>id: 2929</br>prediction: 0.257</br>shotType: 2.85</br></br>h_a: 0.0</br>situation: 1.0</br>lastAction: 14.0</br>minute: 41</br>distance: 4.588861943363718</br>angle: 76.94750555554026</br>_original_yhat_: 0.21179511646378305</br>"
          ],
          [
           "</br>id: 2929</br>prediction: 0.257</br>shotType: 2.88</br></br>h_a: 0.0</br>situation: 1.0</br>lastAction: 14.0</br>minute: 41</br>distance: 4.588861943363718</br>angle: 76.94750555554026</br>_original_yhat_: 0.21179511646378305</br>"
          ],
          [
           "</br>id: 2929</br>prediction: 0.257</br>shotType: 2.9099999999999997</br></br>h_a: 0.0</br>situation: 1.0</br>lastAction: 14.0</br>minute: 41</br>distance: 4.588861943363718</br>angle: 76.94750555554026</br>_original_yhat_: 0.21179511646378305</br>"
          ],
          [
           "</br>id: 2929</br>prediction: 0.257</br>shotType: 2.94</br></br>h_a: 0.0</br>situation: 1.0</br>lastAction: 14.0</br>minute: 41</br>distance: 4.588861943363718</br>angle: 76.94750555554026</br>_original_yhat_: 0.21179511646378305</br>"
          ],
          [
           "</br>id: 2929</br>prediction: 0.257</br>shotType: 2.9699999999999998</br></br>h_a: 0.0</br>situation: 1.0</br>lastAction: 14.0</br>minute: 41</br>distance: 4.588861943363718</br>angle: 76.94750555554026</br>_original_yhat_: 0.21179511646378305</br>"
          ],
          [
           "</br>id: 2929</br>prediction: 0.257</br>shotType: 3.0</br></br>h_a: 0.0</br>situation: 1.0</br>lastAction: 14.0</br>minute: 41</br>distance: 4.588861943363718</br>angle: 76.94750555554026</br>_original_yhat_: 0.21179511646378305</br>"
          ]
         ],
         "hovertemplate": "%{customdata[0]}<extra></extra>",
         "legendgroup": "GradientBoostingClassifier",
         "line": {
          "color": "#4378bf",
          "dash": "solid",
          "width": 2
         },
         "marker": {
          "symbol": "circle"
         },
         "mode": "lines",
         "name": "GradientBoostingClassifier",
         "opacity": 1,
         "showlegend": false,
         "type": "scattergl",
         "x": [
          0,
          0.03,
          0.06,
          0.09,
          0.12,
          0.15,
          0.18,
          0.21,
          0.24,
          0.27,
          0.3,
          0.32999999999999996,
          0.36,
          0.39,
          0.42,
          0.44999999999999996,
          0.48,
          0.51,
          0.54,
          0.57,
          0.6,
          0.63,
          0.6599999999999999,
          0.69,
          0.72,
          0.75,
          0.78,
          0.8099999999999999,
          0.84,
          0.87,
          0.8999999999999999,
          0.9299999999999999,
          0.96,
          0.99,
          1.02,
          1.05,
          1.08,
          1.1099999999999999,
          1.14,
          1.17,
          1.2,
          1.23,
          1.26,
          1.29,
          1.3199999999999998,
          1.3499999999999999,
          1.38,
          1.41,
          1.44,
          1.47,
          1.5,
          1.53,
          1.56,
          1.5899999999999999,
          1.6199999999999999,
          1.65,
          1.68,
          1.71,
          1.74,
          1.77,
          1.7999999999999998,
          1.8299999999999998,
          1.8599999999999999,
          1.89,
          1.92,
          1.95,
          1.98,
          2.01,
          2.04,
          2.07,
          2.1,
          2.13,
          2.16,
          2.19,
          2.2199999999999998,
          2.25,
          2.28,
          2.31,
          2.34,
          2.37,
          2.4,
          2.4299999999999997,
          2.46,
          2.4899999999999998,
          2.52,
          2.55,
          2.58,
          2.61,
          2.6399999999999997,
          2.67,
          2.6999999999999997,
          2.73,
          2.76,
          2.79,
          2.82,
          2.85,
          2.88,
          2.9099999999999997,
          2.94,
          2.9699999999999998,
          3
         ],
         "xaxis": "x5",
         "y": [
          0.21179511646378305,
          0.21179511646378305,
          0.21179511646378305,
          0.21179511646378305,
          0.21179511646378305,
          0.21179511646378305,
          0.21179511646378305,
          0.21179511646378305,
          0.21179511646378305,
          0.21179511646378305,
          0.21179511646378305,
          0.21179511646378305,
          0.21179511646378305,
          0.21179511646378305,
          0.21179511646378305,
          0.21179511646378305,
          0.21179511646378305,
          0.2973763479290974,
          0.2973763479290974,
          0.2973763479290974,
          0.2973763479290974,
          0.2973763479290974,
          0.2973763479290974,
          0.2973763479290974,
          0.2973763479290974,
          0.2973763479290974,
          0.2973763479290974,
          0.2973763479290974,
          0.2973763479290974,
          0.2973763479290974,
          0.2973763479290974,
          0.2973763479290974,
          0.2973763479290974,
          0.2973763479290974,
          0.2973763479290974,
          0.2973763479290974,
          0.2973763479290974,
          0.2973763479290974,
          0.2973763479290974,
          0.2973763479290974,
          0.2973763479290974,
          0.2973763479290974,
          0.2973763479290974,
          0.2973763479290974,
          0.2973763479290974,
          0.2973763479290974,
          0.2973763479290974,
          0.2973763479290974,
          0.2973763479290974,
          0.2973763479290974,
          0.2973763479290974,
          0.2572703699633471,
          0.2572703699633471,
          0.2572703699633471,
          0.2572703699633471,
          0.2572703699633471,
          0.2572703699633471,
          0.2572703699633471,
          0.2572703699633471,
          0.2572703699633471,
          0.2572703699633471,
          0.2572703699633471,
          0.2572703699633471,
          0.2572703699633471,
          0.2572703699633471,
          0.2572703699633471,
          0.2572703699633471,
          0.2572703699633471,
          0.2572703699633471,
          0.2572703699633471,
          0.2572703699633471,
          0.2572703699633471,
          0.2572703699633471,
          0.2572703699633471,
          0.2572703699633471,
          0.2572703699633471,
          0.2572703699633471,
          0.2572703699633471,
          0.2572703699633471,
          0.2572703699633471,
          0.2572703699633471,
          0.2572703699633471,
          0.2572703699633471,
          0.2572703699633471,
          0.2572703699633471,
          0.2572703699633471,
          0.2572703699633471,
          0.2572703699633471,
          0.2572703699633471,
          0.2572703699633471,
          0.2572703699633471,
          0.2572703699633471,
          0.2572703699633471,
          0.2572703699633471,
          0.2572703699633471,
          0.2572703699633471,
          0.2572703699633471,
          0.2572703699633471,
          0.2572703699633471,
          0.2572703699633471,
          0.2572703699633471
         ],
         "yaxis": "y5"
        },
        {
         "customdata": [
          [
           "</br>id: 2929</br>prediction: 0.143</br>lastAction: 0.0</br></br>h_a: 0.0</br>situation: 1.0</br>shotType: 0.0</br>minute: 41</br>distance: 4.588861943363718</br>angle: 76.94750555554026</br>_original_yhat_: 0.21179511646378305</br>"
          ],
          [
           "</br>id: 2929</br>prediction: 0.143</br>lastAction: 0.27</br></br>h_a: 0.0</br>situation: 1.0</br>shotType: 0.0</br>minute: 41</br>distance: 4.588861943363718</br>angle: 76.94750555554026</br>_original_yhat_: 0.21179511646378305</br>"
          ],
          [
           "</br>id: 2929</br>prediction: 0.246</br>lastAction: 0.54</br></br>h_a: 0.0</br>situation: 1.0</br>shotType: 0.0</br>minute: 41</br>distance: 4.588861943363718</br>angle: 76.94750555554026</br>_original_yhat_: 0.21179511646378305</br>"
          ],
          [
           "</br>id: 2929</br>prediction: 0.246</br>lastAction: 0.81</br></br>h_a: 0.0</br>situation: 1.0</br>shotType: 0.0</br>minute: 41</br>distance: 4.588861943363718</br>angle: 76.94750555554026</br>_original_yhat_: 0.21179511646378305</br>"
          ],
          [
           "</br>id: 2929</br>prediction: 0.246</br>lastAction: 1.08</br></br>h_a: 0.0</br>situation: 1.0</br>shotType: 0.0</br>minute: 41</br>distance: 4.588861943363718</br>angle: 76.94750555554026</br>_original_yhat_: 0.21179511646378305</br>"
          ],
          [
           "</br>id: 2929</br>prediction: 0.246</br>lastAction: 1.35</br></br>h_a: 0.0</br>situation: 1.0</br>shotType: 0.0</br>minute: 41</br>distance: 4.588861943363718</br>angle: 76.94750555554026</br>_original_yhat_: 0.21179511646378305</br>"
          ],
          [
           "</br>id: 2929</br>prediction: 0.246</br>lastAction: 1.62</br></br>h_a: 0.0</br>situation: 1.0</br>shotType: 0.0</br>minute: 41</br>distance: 4.588861943363718</br>angle: 76.94750555554026</br>_original_yhat_: 0.21179511646378305</br>"
          ],
          [
           "</br>id: 2929</br>prediction: 0.246</br>lastAction: 1.8900000000000001</br></br>h_a: 0.0</br>situation: 1.0</br>shotType: 0.0</br>minute: 41</br>distance: 4.588861943363718</br>angle: 76.94750555554026</br>_original_yhat_: 0.21179511646378305</br>"
          ],
          [
           "</br>id: 2929</br>prediction: 0.246</br>lastAction: 2.16</br></br>h_a: 0.0</br>situation: 1.0</br>shotType: 0.0</br>minute: 41</br>distance: 4.588861943363718</br>angle: 76.94750555554026</br>_original_yhat_: 0.21179511646378305</br>"
          ],
          [
           "</br>id: 2929</br>prediction: 0.246</br>lastAction: 2.43</br></br>h_a: 0.0</br>situation: 1.0</br>shotType: 0.0</br>minute: 41</br>distance: 4.588861943363718</br>angle: 76.94750555554026</br>_original_yhat_: 0.21179511646378305</br>"
          ],
          [
           "</br>id: 2929</br>prediction: 0.246</br>lastAction: 2.7</br></br>h_a: 0.0</br>situation: 1.0</br>shotType: 0.0</br>minute: 41</br>distance: 4.588861943363718</br>angle: 76.94750555554026</br>_original_yhat_: 0.21179511646378305</br>"
          ],
          [
           "</br>id: 2929</br>prediction: 0.246</br>lastAction: 2.97</br></br>h_a: 0.0</br>situation: 1.0</br>shotType: 0.0</br>minute: 41</br>distance: 4.588861943363718</br>angle: 76.94750555554026</br>_original_yhat_: 0.21179511646378305</br>"
          ],
          [
           "</br>id: 2929</br>prediction: 0.246</br>lastAction: 3.24</br></br>h_a: 0.0</br>situation: 1.0</br>shotType: 0.0</br>minute: 41</br>distance: 4.588861943363718</br>angle: 76.94750555554026</br>_original_yhat_: 0.21179511646378305</br>"
          ],
          [
           "</br>id: 2929</br>prediction: 0.246</br>lastAction: 3.5100000000000002</br></br>h_a: 0.0</br>situation: 1.0</br>shotType: 0.0</br>minute: 41</br>distance: 4.588861943363718</br>angle: 76.94750555554026</br>_original_yhat_: 0.21179511646378305</br>"
          ],
          [
           "</br>id: 2929</br>prediction: 0.246</br>lastAction: 3.7800000000000002</br></br>h_a: 0.0</br>situation: 1.0</br>shotType: 0.0</br>minute: 41</br>distance: 4.588861943363718</br>angle: 76.94750555554026</br>_original_yhat_: 0.21179511646378305</br>"
          ],
          [
           "</br>id: 2929</br>prediction: 0.246</br>lastAction: 4.050000000000001</br></br>h_a: 0.0</br>situation: 1.0</br>shotType: 0.0</br>minute: 41</br>distance: 4.588861943363718</br>angle: 76.94750555554026</br>_original_yhat_: 0.21179511646378305</br>"
          ],
          [
           "</br>id: 2929</br>prediction: 0.246</br>lastAction: 4.32</br></br>h_a: 0.0</br>situation: 1.0</br>shotType: 0.0</br>minute: 41</br>distance: 4.588861943363718</br>angle: 76.94750555554026</br>_original_yhat_: 0.21179511646378305</br>"
          ],
          [
           "</br>id: 2929</br>prediction: 0.246</br>lastAction: 4.59</br></br>h_a: 0.0</br>situation: 1.0</br>shotType: 0.0</br>minute: 41</br>distance: 4.588861943363718</br>angle: 76.94750555554026</br>_original_yhat_: 0.21179511646378305</br>"
          ],
          [
           "</br>id: 2929</br>prediction: 0.246</br>lastAction: 4.86</br></br>h_a: 0.0</br>situation: 1.0</br>shotType: 0.0</br>minute: 41</br>distance: 4.588861943363718</br>angle: 76.94750555554026</br>_original_yhat_: 0.21179511646378305</br>"
          ],
          [
           "</br>id: 2929</br>prediction: 0.246</br>lastAction: 5.130000000000001</br></br>h_a: 0.0</br>situation: 1.0</br>shotType: 0.0</br>minute: 41</br>distance: 4.588861943363718</br>angle: 76.94750555554026</br>_original_yhat_: 0.21179511646378305</br>"
          ],
          [
           "</br>id: 2929</br>prediction: 0.246</br>lastAction: 5.4</br></br>h_a: 0.0</br>situation: 1.0</br>shotType: 0.0</br>minute: 41</br>distance: 4.588861943363718</br>angle: 76.94750555554026</br>_original_yhat_: 0.21179511646378305</br>"
          ],
          [
           "</br>id: 2929</br>prediction: 0.246</br>lastAction: 5.67</br></br>h_a: 0.0</br>situation: 1.0</br>shotType: 0.0</br>minute: 41</br>distance: 4.588861943363718</br>angle: 76.94750555554026</br>_original_yhat_: 0.21179511646378305</br>"
          ],
          [
           "</br>id: 2929</br>prediction: 0.246</br>lastAction: 5.94</br></br>h_a: 0.0</br>situation: 1.0</br>shotType: 0.0</br>minute: 41</br>distance: 4.588861943363718</br>angle: 76.94750555554026</br>_original_yhat_: 0.21179511646378305</br>"
          ],
          [
           "</br>id: 2929</br>prediction: 0.246</br>lastAction: 6.210000000000001</br></br>h_a: 0.0</br>situation: 1.0</br>shotType: 0.0</br>minute: 41</br>distance: 4.588861943363718</br>angle: 76.94750555554026</br>_original_yhat_: 0.21179511646378305</br>"
          ],
          [
           "</br>id: 2929</br>prediction: 0.246</br>lastAction: 6.48</br></br>h_a: 0.0</br>situation: 1.0</br>shotType: 0.0</br>minute: 41</br>distance: 4.588861943363718</br>angle: 76.94750555554026</br>_original_yhat_: 0.21179511646378305</br>"
          ],
          [
           "</br>id: 2929</br>prediction: 0.212</br>lastAction: 6.75</br></br>h_a: 0.0</br>situation: 1.0</br>shotType: 0.0</br>minute: 41</br>distance: 4.588861943363718</br>angle: 76.94750555554026</br>_original_yhat_: 0.21179511646378305</br>"
          ],
          [
           "</br>id: 2929</br>prediction: 0.212</br>lastAction: 7.0200000000000005</br></br>h_a: 0.0</br>situation: 1.0</br>shotType: 0.0</br>minute: 41</br>distance: 4.588861943363718</br>angle: 76.94750555554026</br>_original_yhat_: 0.21179511646378305</br>"
          ],
          [
           "</br>id: 2929</br>prediction: 0.212</br>lastAction: 7.290000000000001</br></br>h_a: 0.0</br>situation: 1.0</br>shotType: 0.0</br>minute: 41</br>distance: 4.588861943363718</br>angle: 76.94750555554026</br>_original_yhat_: 0.21179511646378305</br>"
          ],
          [
           "</br>id: 2929</br>prediction: 0.212</br>lastAction: 7.5600000000000005</br></br>h_a: 0.0</br>situation: 1.0</br>shotType: 0.0</br>minute: 41</br>distance: 4.588861943363718</br>angle: 76.94750555554026</br>_original_yhat_: 0.21179511646378305</br>"
          ],
          [
           "</br>id: 2929</br>prediction: 0.212</br>lastAction: 7.83</br></br>h_a: 0.0</br>situation: 1.0</br>shotType: 0.0</br>minute: 41</br>distance: 4.588861943363718</br>angle: 76.94750555554026</br>_original_yhat_: 0.21179511646378305</br>"
          ],
          [
           "</br>id: 2929</br>prediction: 0.212</br>lastAction: 8.100000000000001</br></br>h_a: 0.0</br>situation: 1.0</br>shotType: 0.0</br>minute: 41</br>distance: 4.588861943363718</br>angle: 76.94750555554026</br>_original_yhat_: 0.21179511646378305</br>"
          ],
          [
           "</br>id: 2929</br>prediction: 0.212</br>lastAction: 8.370000000000001</br></br>h_a: 0.0</br>situation: 1.0</br>shotType: 0.0</br>minute: 41</br>distance: 4.588861943363718</br>angle: 76.94750555554026</br>_original_yhat_: 0.21179511646378305</br>"
          ],
          [
           "</br>id: 2929</br>prediction: 0.212</br>lastAction: 8.64</br></br>h_a: 0.0</br>situation: 1.0</br>shotType: 0.0</br>minute: 41</br>distance: 4.588861943363718</br>angle: 76.94750555554026</br>_original_yhat_: 0.21179511646378305</br>"
          ],
          [
           "</br>id: 2929</br>prediction: 0.212</br>lastAction: 8.91</br></br>h_a: 0.0</br>situation: 1.0</br>shotType: 0.0</br>minute: 41</br>distance: 4.588861943363718</br>angle: 76.94750555554026</br>_original_yhat_: 0.21179511646378305</br>"
          ],
          [
           "</br>id: 2929</br>prediction: 0.212</br>lastAction: 9.18</br></br>h_a: 0.0</br>situation: 1.0</br>shotType: 0.0</br>minute: 41</br>distance: 4.588861943363718</br>angle: 76.94750555554026</br>_original_yhat_: 0.21179511646378305</br>"
          ],
          [
           "</br>id: 2929</br>prediction: 0.212</br>lastAction: 9.450000000000001</br></br>h_a: 0.0</br>situation: 1.0</br>shotType: 0.0</br>minute: 41</br>distance: 4.588861943363718</br>angle: 76.94750555554026</br>_original_yhat_: 0.21179511646378305</br>"
          ],
          [
           "</br>id: 2929</br>prediction: 0.212</br>lastAction: 9.72</br></br>h_a: 0.0</br>situation: 1.0</br>shotType: 0.0</br>minute: 41</br>distance: 4.588861943363718</br>angle: 76.94750555554026</br>_original_yhat_: 0.21179511646378305</br>"
          ],
          [
           "</br>id: 2929</br>prediction: 0.212</br>lastAction: 9.99</br></br>h_a: 0.0</br>situation: 1.0</br>shotType: 0.0</br>minute: 41</br>distance: 4.588861943363718</br>angle: 76.94750555554026</br>_original_yhat_: 0.21179511646378305</br>"
          ],
          [
           "</br>id: 2929</br>prediction: 0.212</br>lastAction: 10.260000000000002</br></br>h_a: 0.0</br>situation: 1.0</br>shotType: 0.0</br>minute: 41</br>distance: 4.588861943363718</br>angle: 76.94750555554026</br>_original_yhat_: 0.21179511646378305</br>"
          ],
          [
           "</br>id: 2929</br>prediction: 0.212</br>lastAction: 10.530000000000001</br></br>h_a: 0.0</br>situation: 1.0</br>shotType: 0.0</br>minute: 41</br>distance: 4.588861943363718</br>angle: 76.94750555554026</br>_original_yhat_: 0.21179511646378305</br>"
          ],
          [
           "</br>id: 2929</br>prediction: 0.212</br>lastAction: 10.8</br></br>h_a: 0.0</br>situation: 1.0</br>shotType: 0.0</br>minute: 41</br>distance: 4.588861943363718</br>angle: 76.94750555554026</br>_original_yhat_: 0.21179511646378305</br>"
          ],
          [
           "</br>id: 2929</br>prediction: 0.212</br>lastAction: 11.07</br></br>h_a: 0.0</br>situation: 1.0</br>shotType: 0.0</br>minute: 41</br>distance: 4.588861943363718</br>angle: 76.94750555554026</br>_original_yhat_: 0.21179511646378305</br>"
          ],
          [
           "</br>id: 2929</br>prediction: 0.212</br>lastAction: 11.34</br></br>h_a: 0.0</br>situation: 1.0</br>shotType: 0.0</br>minute: 41</br>distance: 4.588861943363718</br>angle: 76.94750555554026</br>_original_yhat_: 0.21179511646378305</br>"
          ],
          [
           "</br>id: 2929</br>prediction: 0.212</br>lastAction: 11.610000000000001</br></br>h_a: 0.0</br>situation: 1.0</br>shotType: 0.0</br>minute: 41</br>distance: 4.588861943363718</br>angle: 76.94750555554026</br>_original_yhat_: 0.21179511646378305</br>"
          ],
          [
           "</br>id: 2929</br>prediction: 0.212</br>lastAction: 11.88</br></br>h_a: 0.0</br>situation: 1.0</br>shotType: 0.0</br>minute: 41</br>distance: 4.588861943363718</br>angle: 76.94750555554026</br>_original_yhat_: 0.21179511646378305</br>"
          ],
          [
           "</br>id: 2929</br>prediction: 0.212</br>lastAction: 12.15</br></br>h_a: 0.0</br>situation: 1.0</br>shotType: 0.0</br>minute: 41</br>distance: 4.588861943363718</br>angle: 76.94750555554026</br>_original_yhat_: 0.21179511646378305</br>"
          ],
          [
           "</br>id: 2929</br>prediction: 0.212</br>lastAction: 12.420000000000002</br></br>h_a: 0.0</br>situation: 1.0</br>shotType: 0.0</br>minute: 41</br>distance: 4.588861943363718</br>angle: 76.94750555554026</br>_original_yhat_: 0.21179511646378305</br>"
          ],
          [
           "</br>id: 2929</br>prediction: 0.212</br>lastAction: 12.690000000000001</br></br>h_a: 0.0</br>situation: 1.0</br>shotType: 0.0</br>minute: 41</br>distance: 4.588861943363718</br>angle: 76.94750555554026</br>_original_yhat_: 0.21179511646378305</br>"
          ],
          [
           "</br>id: 2929</br>prediction: 0.212</br>lastAction: 12.96</br></br>h_a: 0.0</br>situation: 1.0</br>shotType: 0.0</br>minute: 41</br>distance: 4.588861943363718</br>angle: 76.94750555554026</br>_original_yhat_: 0.21179511646378305</br>"
          ],
          [
           "</br>id: 2929</br>prediction: 0.212</br>lastAction: 13.23</br></br>h_a: 0.0</br>situation: 1.0</br>shotType: 0.0</br>minute: 41</br>distance: 4.588861943363718</br>angle: 76.94750555554026</br>_original_yhat_: 0.21179511646378305</br>"
          ],
          [
           "</br>id: 2929</br>prediction: 0.212</br>lastAction: 13.5</br></br>h_a: 0.0</br>situation: 1.0</br>shotType: 0.0</br>minute: 41</br>distance: 4.588861943363718</br>angle: 76.94750555554026</br>_original_yhat_: 0.21179511646378305</br>"
          ],
          [
           "</br>id: 2929</br>prediction: 0.212</br>lastAction: 13.770000000000001</br></br>h_a: 0.0</br>situation: 1.0</br>shotType: 0.0</br>minute: 41</br>distance: 4.588861943363718</br>angle: 76.94750555554026</br>_original_yhat_: 0.21179511646378305</br>"
          ],
          [
           "</br>id: 2929</br>prediction: 0.212</br>lastAction: 14.0</br></br>h_a: 0.0</br>situation: 1.0</br>shotType: 0.0</br>minute: 41</br>distance: 4.588861943363718</br>angle: 76.94750555554026</br>_original_yhat_: 0.21179511646378305</br>"
          ],
          [
           "</br>id: 2929</br>prediction: 0.212</br>lastAction: 14.040000000000001</br></br>h_a: 0.0</br>situation: 1.0</br>shotType: 0.0</br>minute: 41</br>distance: 4.588861943363718</br>angle: 76.94750555554026</br>_original_yhat_: 0.21179511646378305</br>"
          ],
          [
           "</br>id: 2929</br>prediction: 0.212</br>lastAction: 14.31</br></br>h_a: 0.0</br>situation: 1.0</br>shotType: 0.0</br>minute: 41</br>distance: 4.588861943363718</br>angle: 76.94750555554026</br>_original_yhat_: 0.21179511646378305</br>"
          ],
          [
           "</br>id: 2929</br>prediction: 0.168</br>lastAction: 14.580000000000002</br></br>h_a: 0.0</br>situation: 1.0</br>shotType: 0.0</br>minute: 41</br>distance: 4.588861943363718</br>angle: 76.94750555554026</br>_original_yhat_: 0.21179511646378305</br>"
          ],
          [
           "</br>id: 2929</br>prediction: 0.168</br>lastAction: 14.850000000000001</br></br>h_a: 0.0</br>situation: 1.0</br>shotType: 0.0</br>minute: 41</br>distance: 4.588861943363718</br>angle: 76.94750555554026</br>_original_yhat_: 0.21179511646378305</br>"
          ],
          [
           "</br>id: 2929</br>prediction: 0.168</br>lastAction: 15.120000000000001</br></br>h_a: 0.0</br>situation: 1.0</br>shotType: 0.0</br>minute: 41</br>distance: 4.588861943363718</br>angle: 76.94750555554026</br>_original_yhat_: 0.21179511646378305</br>"
          ],
          [
           "</br>id: 2929</br>prediction: 0.168</br>lastAction: 15.39</br></br>h_a: 0.0</br>situation: 1.0</br>shotType: 0.0</br>minute: 41</br>distance: 4.588861943363718</br>angle: 76.94750555554026</br>_original_yhat_: 0.21179511646378305</br>"
          ],
          [
           "</br>id: 2929</br>prediction: 0.168</br>lastAction: 15.66</br></br>h_a: 0.0</br>situation: 1.0</br>shotType: 0.0</br>minute: 41</br>distance: 4.588861943363718</br>angle: 76.94750555554026</br>_original_yhat_: 0.21179511646378305</br>"
          ],
          [
           "</br>id: 2929</br>prediction: 0.168</br>lastAction: 15.930000000000001</br></br>h_a: 0.0</br>situation: 1.0</br>shotType: 0.0</br>minute: 41</br>distance: 4.588861943363718</br>angle: 76.94750555554026</br>_original_yhat_: 0.21179511646378305</br>"
          ],
          [
           "</br>id: 2929</br>prediction: 0.168</br>lastAction: 16.200000000000003</br></br>h_a: 0.0</br>situation: 1.0</br>shotType: 0.0</br>minute: 41</br>distance: 4.588861943363718</br>angle: 76.94750555554026</br>_original_yhat_: 0.21179511646378305</br>"
          ],
          [
           "</br>id: 2929</br>prediction: 0.168</br>lastAction: 16.470000000000002</br></br>h_a: 0.0</br>situation: 1.0</br>shotType: 0.0</br>minute: 41</br>distance: 4.588861943363718</br>angle: 76.94750555554026</br>_original_yhat_: 0.21179511646378305</br>"
          ],
          [
           "</br>id: 2929</br>prediction: 0.168</br>lastAction: 16.740000000000002</br></br>h_a: 0.0</br>situation: 1.0</br>shotType: 0.0</br>minute: 41</br>distance: 4.588861943363718</br>angle: 76.94750555554026</br>_original_yhat_: 0.21179511646378305</br>"
          ],
          [
           "</br>id: 2929</br>prediction: 0.168</br>lastAction: 17.01</br></br>h_a: 0.0</br>situation: 1.0</br>shotType: 0.0</br>minute: 41</br>distance: 4.588861943363718</br>angle: 76.94750555554026</br>_original_yhat_: 0.21179511646378305</br>"
          ],
          [
           "</br>id: 2929</br>prediction: 0.168</br>lastAction: 17.28</br></br>h_a: 0.0</br>situation: 1.0</br>shotType: 0.0</br>minute: 41</br>distance: 4.588861943363718</br>angle: 76.94750555554026</br>_original_yhat_: 0.21179511646378305</br>"
          ],
          [
           "</br>id: 2929</br>prediction: 0.168</br>lastAction: 17.55</br></br>h_a: 0.0</br>situation: 1.0</br>shotType: 0.0</br>minute: 41</br>distance: 4.588861943363718</br>angle: 76.94750555554026</br>_original_yhat_: 0.21179511646378305</br>"
          ],
          [
           "</br>id: 2929</br>prediction: 0.168</br>lastAction: 17.82</br></br>h_a: 0.0</br>situation: 1.0</br>shotType: 0.0</br>minute: 41</br>distance: 4.588861943363718</br>angle: 76.94750555554026</br>_original_yhat_: 0.21179511646378305</br>"
          ],
          [
           "</br>id: 2929</br>prediction: 0.168</br>lastAction: 18.09</br></br>h_a: 0.0</br>situation: 1.0</br>shotType: 0.0</br>minute: 41</br>distance: 4.588861943363718</br>angle: 76.94750555554026</br>_original_yhat_: 0.21179511646378305</br>"
          ],
          [
           "</br>id: 2929</br>prediction: 0.168</br>lastAction: 18.36</br></br>h_a: 0.0</br>situation: 1.0</br>shotType: 0.0</br>minute: 41</br>distance: 4.588861943363718</br>angle: 76.94750555554026</br>_original_yhat_: 0.21179511646378305</br>"
          ],
          [
           "</br>id: 2929</br>prediction: 0.168</br>lastAction: 18.630000000000003</br></br>h_a: 0.0</br>situation: 1.0</br>shotType: 0.0</br>minute: 41</br>distance: 4.588861943363718</br>angle: 76.94750555554026</br>_original_yhat_: 0.21179511646378305</br>"
          ],
          [
           "</br>id: 2929</br>prediction: 0.168</br>lastAction: 18.900000000000002</br></br>h_a: 0.0</br>situation: 1.0</br>shotType: 0.0</br>minute: 41</br>distance: 4.588861943363718</br>angle: 76.94750555554026</br>_original_yhat_: 0.21179511646378305</br>"
          ],
          [
           "</br>id: 2929</br>prediction: 0.341</br>lastAction: 19.17</br></br>h_a: 0.0</br>situation: 1.0</br>shotType: 0.0</br>minute: 41</br>distance: 4.588861943363718</br>angle: 76.94750555554026</br>_original_yhat_: 0.21179511646378305</br>"
          ],
          [
           "</br>id: 2929</br>prediction: 0.341</br>lastAction: 19.44</br></br>h_a: 0.0</br>situation: 1.0</br>shotType: 0.0</br>minute: 41</br>distance: 4.588861943363718</br>angle: 76.94750555554026</br>_original_yhat_: 0.21179511646378305</br>"
          ],
          [
           "</br>id: 2929</br>prediction: 0.403</br>lastAction: 19.71</br></br>h_a: 0.0</br>situation: 1.0</br>shotType: 0.0</br>minute: 41</br>distance: 4.588861943363718</br>angle: 76.94750555554026</br>_original_yhat_: 0.21179511646378305</br>"
          ],
          [
           "</br>id: 2929</br>prediction: 0.403</br>lastAction: 19.98</br></br>h_a: 0.0</br>situation: 1.0</br>shotType: 0.0</br>minute: 41</br>distance: 4.588861943363718</br>angle: 76.94750555554026</br>_original_yhat_: 0.21179511646378305</br>"
          ],
          [
           "</br>id: 2929</br>prediction: 0.403</br>lastAction: 20.25</br></br>h_a: 0.0</br>situation: 1.0</br>shotType: 0.0</br>minute: 41</br>distance: 4.588861943363718</br>angle: 76.94750555554026</br>_original_yhat_: 0.21179511646378305</br>"
          ],
          [
           "</br>id: 2929</br>prediction: 0.403</br>lastAction: 20.520000000000003</br></br>h_a: 0.0</br>situation: 1.0</br>shotType: 0.0</br>minute: 41</br>distance: 4.588861943363718</br>angle: 76.94750555554026</br>_original_yhat_: 0.21179511646378305</br>"
          ],
          [
           "</br>id: 2929</br>prediction: 0.403</br>lastAction: 20.790000000000003</br></br>h_a: 0.0</br>situation: 1.0</br>shotType: 0.0</br>minute: 41</br>distance: 4.588861943363718</br>angle: 76.94750555554026</br>_original_yhat_: 0.21179511646378305</br>"
          ],
          [
           "</br>id: 2929</br>prediction: 0.403</br>lastAction: 21.060000000000002</br></br>h_a: 0.0</br>situation: 1.0</br>shotType: 0.0</br>minute: 41</br>distance: 4.588861943363718</br>angle: 76.94750555554026</br>_original_yhat_: 0.21179511646378305</br>"
          ],
          [
           "</br>id: 2929</br>prediction: 0.403</br>lastAction: 21.330000000000002</br></br>h_a: 0.0</br>situation: 1.0</br>shotType: 0.0</br>minute: 41</br>distance: 4.588861943363718</br>angle: 76.94750555554026</br>_original_yhat_: 0.21179511646378305</br>"
          ],
          [
           "</br>id: 2929</br>prediction: 0.403</br>lastAction: 21.6</br></br>h_a: 0.0</br>situation: 1.0</br>shotType: 0.0</br>minute: 41</br>distance: 4.588861943363718</br>angle: 76.94750555554026</br>_original_yhat_: 0.21179511646378305</br>"
          ],
          [
           "</br>id: 2929</br>prediction: 0.403</br>lastAction: 21.87</br></br>h_a: 0.0</br>situation: 1.0</br>shotType: 0.0</br>minute: 41</br>distance: 4.588861943363718</br>angle: 76.94750555554026</br>_original_yhat_: 0.21179511646378305</br>"
          ],
          [
           "</br>id: 2929</br>prediction: 0.403</br>lastAction: 22.14</br></br>h_a: 0.0</br>situation: 1.0</br>shotType: 0.0</br>minute: 41</br>distance: 4.588861943363718</br>angle: 76.94750555554026</br>_original_yhat_: 0.21179511646378305</br>"
          ],
          [
           "</br>id: 2929</br>prediction: 0.403</br>lastAction: 22.41</br></br>h_a: 0.0</br>situation: 1.0</br>shotType: 0.0</br>minute: 41</br>distance: 4.588861943363718</br>angle: 76.94750555554026</br>_original_yhat_: 0.21179511646378305</br>"
          ],
          [
           "</br>id: 2929</br>prediction: 0.398</br>lastAction: 22.68</br></br>h_a: 0.0</br>situation: 1.0</br>shotType: 0.0</br>minute: 41</br>distance: 4.588861943363718</br>angle: 76.94750555554026</br>_original_yhat_: 0.21179511646378305</br>"
          ],
          [
           "</br>id: 2929</br>prediction: 0.398</br>lastAction: 22.950000000000003</br></br>h_a: 0.0</br>situation: 1.0</br>shotType: 0.0</br>minute: 41</br>distance: 4.588861943363718</br>angle: 76.94750555554026</br>_original_yhat_: 0.21179511646378305</br>"
          ],
          [
           "</br>id: 2929</br>prediction: 0.398</br>lastAction: 23.220000000000002</br></br>h_a: 0.0</br>situation: 1.0</br>shotType: 0.0</br>minute: 41</br>distance: 4.588861943363718</br>angle: 76.94750555554026</br>_original_yhat_: 0.21179511646378305</br>"
          ],
          [
           "</br>id: 2929</br>prediction: 0.398</br>lastAction: 23.490000000000002</br></br>h_a: 0.0</br>situation: 1.0</br>shotType: 0.0</br>minute: 41</br>distance: 4.588861943363718</br>angle: 76.94750555554026</br>_original_yhat_: 0.21179511646378305</br>"
          ],
          [
           "</br>id: 2929</br>prediction: 0.213</br>lastAction: 23.76</br></br>h_a: 0.0</br>situation: 1.0</br>shotType: 0.0</br>minute: 41</br>distance: 4.588861943363718</br>angle: 76.94750555554026</br>_original_yhat_: 0.21179511646378305</br>"
          ],
          [
           "</br>id: 2929</br>prediction: 0.213</br>lastAction: 24.03</br></br>h_a: 0.0</br>situation: 1.0</br>shotType: 0.0</br>minute: 41</br>distance: 4.588861943363718</br>angle: 76.94750555554026</br>_original_yhat_: 0.21179511646378305</br>"
          ],
          [
           "</br>id: 2929</br>prediction: 0.213</br>lastAction: 24.3</br></br>h_a: 0.0</br>situation: 1.0</br>shotType: 0.0</br>minute: 41</br>distance: 4.588861943363718</br>angle: 76.94750555554026</br>_original_yhat_: 0.21179511646378305</br>"
          ],
          [
           "</br>id: 2929</br>prediction: 0.213</br>lastAction: 24.57</br></br>h_a: 0.0</br>situation: 1.0</br>shotType: 0.0</br>minute: 41</br>distance: 4.588861943363718</br>angle: 76.94750555554026</br>_original_yhat_: 0.21179511646378305</br>"
          ],
          [
           "</br>id: 2929</br>prediction: 0.213</br>lastAction: 24.840000000000003</br></br>h_a: 0.0</br>situation: 1.0</br>shotType: 0.0</br>minute: 41</br>distance: 4.588861943363718</br>angle: 76.94750555554026</br>_original_yhat_: 0.21179511646378305</br>"
          ],
          [
           "</br>id: 2929</br>prediction: 0.213</br>lastAction: 25.110000000000003</br></br>h_a: 0.0</br>situation: 1.0</br>shotType: 0.0</br>minute: 41</br>distance: 4.588861943363718</br>angle: 76.94750555554026</br>_original_yhat_: 0.21179511646378305</br>"
          ],
          [
           "</br>id: 2929</br>prediction: 0.213</br>lastAction: 25.380000000000003</br></br>h_a: 0.0</br>situation: 1.0</br>shotType: 0.0</br>minute: 41</br>distance: 4.588861943363718</br>angle: 76.94750555554026</br>_original_yhat_: 0.21179511646378305</br>"
          ],
          [
           "</br>id: 2929</br>prediction: 0.213</br>lastAction: 25.650000000000002</br></br>h_a: 0.0</br>situation: 1.0</br>shotType: 0.0</br>minute: 41</br>distance: 4.588861943363718</br>angle: 76.94750555554026</br>_original_yhat_: 0.21179511646378305</br>"
          ],
          [
           "</br>id: 2929</br>prediction: 0.213</br>lastAction: 25.92</br></br>h_a: 0.0</br>situation: 1.0</br>shotType: 0.0</br>minute: 41</br>distance: 4.588861943363718</br>angle: 76.94750555554026</br>_original_yhat_: 0.21179511646378305</br>"
          ],
          [
           "</br>id: 2929</br>prediction: 0.213</br>lastAction: 26.19</br></br>h_a: 0.0</br>situation: 1.0</br>shotType: 0.0</br>minute: 41</br>distance: 4.588861943363718</br>angle: 76.94750555554026</br>_original_yhat_: 0.21179511646378305</br>"
          ],
          [
           "</br>id: 2929</br>prediction: 0.213</br>lastAction: 26.46</br></br>h_a: 0.0</br>situation: 1.0</br>shotType: 0.0</br>minute: 41</br>distance: 4.588861943363718</br>angle: 76.94750555554026</br>_original_yhat_: 0.21179511646378305</br>"
          ],
          [
           "</br>id: 2929</br>prediction: 0.213</br>lastAction: 26.73</br></br>h_a: 0.0</br>situation: 1.0</br>shotType: 0.0</br>minute: 41</br>distance: 4.588861943363718</br>angle: 76.94750555554026</br>_original_yhat_: 0.21179511646378305</br>"
          ],
          [
           "</br>id: 2929</br>prediction: 0.213</br>lastAction: 27.0</br></br>h_a: 0.0</br>situation: 1.0</br>shotType: 0.0</br>minute: 41</br>distance: 4.588861943363718</br>angle: 76.94750555554026</br>_original_yhat_: 0.21179511646378305</br>"
          ]
         ],
         "hovertemplate": "%{customdata[0]}<extra></extra>",
         "legendgroup": "GradientBoostingClassifier",
         "line": {
          "color": "#4378bf",
          "dash": "solid",
          "width": 2
         },
         "marker": {
          "symbol": "circle"
         },
         "mode": "lines",
         "name": "GradientBoostingClassifier",
         "opacity": 1,
         "showlegend": false,
         "type": "scattergl",
         "x": [
          0,
          0.27,
          0.54,
          0.81,
          1.08,
          1.35,
          1.62,
          1.8900000000000001,
          2.16,
          2.43,
          2.7,
          2.97,
          3.24,
          3.5100000000000002,
          3.7800000000000002,
          4.050000000000001,
          4.32,
          4.59,
          4.86,
          5.130000000000001,
          5.4,
          5.67,
          5.94,
          6.210000000000001,
          6.48,
          6.75,
          7.0200000000000005,
          7.290000000000001,
          7.5600000000000005,
          7.83,
          8.100000000000001,
          8.370000000000001,
          8.64,
          8.91,
          9.18,
          9.450000000000001,
          9.72,
          9.99,
          10.260000000000002,
          10.530000000000001,
          10.8,
          11.07,
          11.34,
          11.610000000000001,
          11.88,
          12.15,
          12.420000000000002,
          12.690000000000001,
          12.96,
          13.23,
          13.5,
          13.770000000000001,
          14,
          14.040000000000001,
          14.31,
          14.580000000000002,
          14.850000000000001,
          15.120000000000001,
          15.39,
          15.66,
          15.930000000000001,
          16.200000000000003,
          16.470000000000002,
          16.740000000000002,
          17.01,
          17.28,
          17.55,
          17.82,
          18.09,
          18.36,
          18.630000000000003,
          18.900000000000002,
          19.17,
          19.44,
          19.71,
          19.98,
          20.25,
          20.520000000000003,
          20.790000000000003,
          21.060000000000002,
          21.330000000000002,
          21.6,
          21.87,
          22.14,
          22.41,
          22.68,
          22.950000000000003,
          23.220000000000002,
          23.490000000000002,
          23.76,
          24.03,
          24.3,
          24.57,
          24.840000000000003,
          25.110000000000003,
          25.380000000000003,
          25.650000000000002,
          25.92,
          26.19,
          26.46,
          26.73,
          27
         ],
         "xaxis": "x6",
         "y": [
          0.1434990571668948,
          0.1434990571668948,
          0.24604738359275383,
          0.24604738359275383,
          0.24604738359275383,
          0.24604738359275383,
          0.24604738359275383,
          0.24604738359275383,
          0.24604738359275383,
          0.24604738359275383,
          0.24604738359275383,
          0.24604738359275383,
          0.24604738359275383,
          0.24604738359275383,
          0.24604738359275383,
          0.24604738359275383,
          0.24604738359275383,
          0.24604738359275383,
          0.24604738359275383,
          0.24604738359275383,
          0.24604738359275383,
          0.24604738359275383,
          0.24604738359275383,
          0.24604738359275383,
          0.24604738359275383,
          0.21179511646378305,
          0.21179511646378305,
          0.21179511646378305,
          0.21179511646378305,
          0.21179511646378305,
          0.21179511646378305,
          0.21179511646378305,
          0.21179511646378305,
          0.21179511646378305,
          0.21179511646378305,
          0.21179511646378305,
          0.21179511646378305,
          0.21179511646378305,
          0.21179511646378305,
          0.21179511646378305,
          0.21179511646378305,
          0.21179511646378305,
          0.21179511646378305,
          0.21179511646378305,
          0.21179511646378305,
          0.21179511646378305,
          0.21179511646378305,
          0.21179511646378305,
          0.21179511646378305,
          0.21179511646378305,
          0.21179511646378305,
          0.21179511646378305,
          0.21179511646378305,
          0.21179511646378305,
          0.21179511646378305,
          0.1683794651378108,
          0.1683794651378108,
          0.1683794651378108,
          0.1683794651378108,
          0.1683794651378108,
          0.1683794651378108,
          0.1683794651378108,
          0.1683794651378108,
          0.1683794651378108,
          0.1683794651378108,
          0.1683794651378108,
          0.1683794651378108,
          0.1683794651378108,
          0.1683794651378108,
          0.1683794651378108,
          0.1683794651378108,
          0.1683794651378108,
          0.34078889695713815,
          0.34078889695713815,
          0.40303834126419674,
          0.40303834126419674,
          0.40303834126419674,
          0.40303834126419674,
          0.40303834126419674,
          0.40303834126419674,
          0.40303834126419674,
          0.40303834126419674,
          0.40303834126419674,
          0.40303834126419674,
          0.40303834126419674,
          0.3980374139117231,
          0.3980374139117231,
          0.3980374139117231,
          0.3980374139117231,
          0.2134861663593476,
          0.2134861663593476,
          0.2134861663593476,
          0.2134861663593476,
          0.2134861663593476,
          0.2134861663593476,
          0.2134861663593476,
          0.2134861663593476,
          0.2134861663593476,
          0.2134861663593476,
          0.2134861663593476,
          0.2134861663593476,
          0.2134861663593476
         ],
         "yaxis": "y6"
        },
        {
         "customdata": [
          [
           "</br>id: 2929</br>prediction: 0.171</br>minute: 0</br></br>h_a: 0.0</br>situation: 1.0</br>shotType: 0.0</br>lastAction: 14.0</br>distance: 4.588861943363718</br>angle: 76.94750555554026</br>_original_yhat_: 0.21179511646378305</br>"
          ],
          [
           "</br>id: 2929</br>prediction: 0.171</br>minute: 1</br></br>h_a: 0.0</br>situation: 1.0</br>shotType: 0.0</br>lastAction: 14.0</br>distance: 4.588861943363718</br>angle: 76.94750555554026</br>_original_yhat_: 0.21179511646378305</br>"
          ],
          [
           "</br>id: 2929</br>prediction: 0.259</br>minute: 2</br></br>h_a: 0.0</br>situation: 1.0</br>shotType: 0.0</br>lastAction: 14.0</br>distance: 4.588861943363718</br>angle: 76.94750555554026</br>_original_yhat_: 0.21179511646378305</br>"
          ],
          [
           "</br>id: 2929</br>prediction: 0.259</br>minute: 3</br></br>h_a: 0.0</br>situation: 1.0</br>shotType: 0.0</br>lastAction: 14.0</br>distance: 4.588861943363718</br>angle: 76.94750555554026</br>_original_yhat_: 0.21179511646378305</br>"
          ],
          [
           "</br>id: 2929</br>prediction: 0.278</br>minute: 4</br></br>h_a: 0.0</br>situation: 1.0</br>shotType: 0.0</br>lastAction: 14.0</br>distance: 4.588861943363718</br>angle: 76.94750555554026</br>_original_yhat_: 0.21179511646378305</br>"
          ],
          [
           "</br>id: 2929</br>prediction: 0.246</br>minute: 5</br></br>h_a: 0.0</br>situation: 1.0</br>shotType: 0.0</br>lastAction: 14.0</br>distance: 4.588861943363718</br>angle: 76.94750555554026</br>_original_yhat_: 0.21179511646378305</br>"
          ],
          [
           "</br>id: 2929</br>prediction: 0.246</br>minute: 6</br></br>h_a: 0.0</br>situation: 1.0</br>shotType: 0.0</br>lastAction: 14.0</br>distance: 4.588861943363718</br>angle: 76.94750555554026</br>_original_yhat_: 0.21179511646378305</br>"
          ],
          [
           "</br>id: 2929</br>prediction: 0.246</br>minute: 7</br></br>h_a: 0.0</br>situation: 1.0</br>shotType: 0.0</br>lastAction: 14.0</br>distance: 4.588861943363718</br>angle: 76.94750555554026</br>_original_yhat_: 0.21179511646378305</br>"
          ],
          [
           "</br>id: 2929</br>prediction: 0.246</br>minute: 8</br></br>h_a: 0.0</br>situation: 1.0</br>shotType: 0.0</br>lastAction: 14.0</br>distance: 4.588861943363718</br>angle: 76.94750555554026</br>_original_yhat_: 0.21179511646378305</br>"
          ],
          [
           "</br>id: 2929</br>prediction: 0.246</br>minute: 9</br></br>h_a: 0.0</br>situation: 1.0</br>shotType: 0.0</br>lastAction: 14.0</br>distance: 4.588861943363718</br>angle: 76.94750555554026</br>_original_yhat_: 0.21179511646378305</br>"
          ],
          [
           "</br>id: 2929</br>prediction: 0.189</br>minute: 10</br></br>h_a: 0.0</br>situation: 1.0</br>shotType: 0.0</br>lastAction: 14.0</br>distance: 4.588861943363718</br>angle: 76.94750555554026</br>_original_yhat_: 0.21179511646378305</br>"
          ],
          [
           "</br>id: 2929</br>prediction: 0.217</br>minute: 11</br></br>h_a: 0.0</br>situation: 1.0</br>shotType: 0.0</br>lastAction: 14.0</br>distance: 4.588861943363718</br>angle: 76.94750555554026</br>_original_yhat_: 0.21179511646378305</br>"
          ],
          [
           "</br>id: 2929</br>prediction: 0.217</br>minute: 12</br></br>h_a: 0.0</br>situation: 1.0</br>shotType: 0.0</br>lastAction: 14.0</br>distance: 4.588861943363718</br>angle: 76.94750555554026</br>_original_yhat_: 0.21179511646378305</br>"
          ],
          [
           "</br>id: 2929</br>prediction: 0.217</br>minute: 13</br></br>h_a: 0.0</br>situation: 1.0</br>shotType: 0.0</br>lastAction: 14.0</br>distance: 4.588861943363718</br>angle: 76.94750555554026</br>_original_yhat_: 0.21179511646378305</br>"
          ],
          [
           "</br>id: 2929</br>prediction: 0.217</br>minute: 14</br></br>h_a: 0.0</br>situation: 1.0</br>shotType: 0.0</br>lastAction: 14.0</br>distance: 4.588861943363718</br>angle: 76.94750555554026</br>_original_yhat_: 0.21179511646378305</br>"
          ],
          [
           "</br>id: 2929</br>prediction: 0.217</br>minute: 15</br></br>h_a: 0.0</br>situation: 1.0</br>shotType: 0.0</br>lastAction: 14.0</br>distance: 4.588861943363718</br>angle: 76.94750555554026</br>_original_yhat_: 0.21179511646378305</br>"
          ],
          [
           "</br>id: 2929</br>prediction: 0.217</br>minute: 16</br></br>h_a: 0.0</br>situation: 1.0</br>shotType: 0.0</br>lastAction: 14.0</br>distance: 4.588861943363718</br>angle: 76.94750555554026</br>_original_yhat_: 0.21179511646378305</br>"
          ],
          [
           "</br>id: 2929</br>prediction: 0.217</br>minute: 17</br></br>h_a: 0.0</br>situation: 1.0</br>shotType: 0.0</br>lastAction: 14.0</br>distance: 4.588861943363718</br>angle: 76.94750555554026</br>_original_yhat_: 0.21179511646378305</br>"
          ],
          [
           "</br>id: 2929</br>prediction: 0.217</br>minute: 18</br></br>h_a: 0.0</br>situation: 1.0</br>shotType: 0.0</br>lastAction: 14.0</br>distance: 4.588861943363718</br>angle: 76.94750555554026</br>_original_yhat_: 0.21179511646378305</br>"
          ],
          [
           "</br>id: 2929</br>prediction: 0.217</br>minute: 19</br></br>h_a: 0.0</br>situation: 1.0</br>shotType: 0.0</br>lastAction: 14.0</br>distance: 4.588861943363718</br>angle: 76.94750555554026</br>_original_yhat_: 0.21179511646378305</br>"
          ],
          [
           "</br>id: 2929</br>prediction: 0.217</br>minute: 20</br></br>h_a: 0.0</br>situation: 1.0</br>shotType: 0.0</br>lastAction: 14.0</br>distance: 4.588861943363718</br>angle: 76.94750555554026</br>_original_yhat_: 0.21179511646378305</br>"
          ],
          [
           "</br>id: 2929</br>prediction: 0.217</br>minute: 21</br></br>h_a: 0.0</br>situation: 1.0</br>shotType: 0.0</br>lastAction: 14.0</br>distance: 4.588861943363718</br>angle: 76.94750555554026</br>_original_yhat_: 0.21179511646378305</br>"
          ],
          [
           "</br>id: 2929</br>prediction: 0.217</br>minute: 22</br></br>h_a: 0.0</br>situation: 1.0</br>shotType: 0.0</br>lastAction: 14.0</br>distance: 4.588861943363718</br>angle: 76.94750555554026</br>_original_yhat_: 0.21179511646378305</br>"
          ],
          [
           "</br>id: 2929</br>prediction: 0.217</br>minute: 23</br></br>h_a: 0.0</br>situation: 1.0</br>shotType: 0.0</br>lastAction: 14.0</br>distance: 4.588861943363718</br>angle: 76.94750555554026</br>_original_yhat_: 0.21179511646378305</br>"
          ],
          [
           "</br>id: 2929</br>prediction: 0.217</br>minute: 24</br></br>h_a: 0.0</br>situation: 1.0</br>shotType: 0.0</br>lastAction: 14.0</br>distance: 4.588861943363718</br>angle: 76.94750555554026</br>_original_yhat_: 0.21179511646378305</br>"
          ],
          [
           "</br>id: 2929</br>prediction: 0.217</br>minute: 25</br></br>h_a: 0.0</br>situation: 1.0</br>shotType: 0.0</br>lastAction: 14.0</br>distance: 4.588861943363718</br>angle: 76.94750555554026</br>_original_yhat_: 0.21179511646378305</br>"
          ],
          [
           "</br>id: 2929</br>prediction: 0.224</br>minute: 26</br></br>h_a: 0.0</br>situation: 1.0</br>shotType: 0.0</br>lastAction: 14.0</br>distance: 4.588861943363718</br>angle: 76.94750555554026</br>_original_yhat_: 0.21179511646378305</br>"
          ],
          [
           "</br>id: 2929</br>prediction: 0.224</br>minute: 27</br></br>h_a: 0.0</br>situation: 1.0</br>shotType: 0.0</br>lastAction: 14.0</br>distance: 4.588861943363718</br>angle: 76.94750555554026</br>_original_yhat_: 0.21179511646378305</br>"
          ],
          [
           "</br>id: 2929</br>prediction: 0.224</br>minute: 28</br></br>h_a: 0.0</br>situation: 1.0</br>shotType: 0.0</br>lastAction: 14.0</br>distance: 4.588861943363718</br>angle: 76.94750555554026</br>_original_yhat_: 0.21179511646378305</br>"
          ],
          [
           "</br>id: 2929</br>prediction: 0.224</br>minute: 29</br></br>h_a: 0.0</br>situation: 1.0</br>shotType: 0.0</br>lastAction: 14.0</br>distance: 4.588861943363718</br>angle: 76.94750555554026</br>_original_yhat_: 0.21179511646378305</br>"
          ],
          [
           "</br>id: 2929</br>prediction: 0.224</br>minute: 30</br></br>h_a: 0.0</br>situation: 1.0</br>shotType: 0.0</br>lastAction: 14.0</br>distance: 4.588861943363718</br>angle: 76.94750555554026</br>_original_yhat_: 0.21179511646378305</br>"
          ],
          [
           "</br>id: 2929</br>prediction: 0.224</br>minute: 31</br></br>h_a: 0.0</br>situation: 1.0</br>shotType: 0.0</br>lastAction: 14.0</br>distance: 4.588861943363718</br>angle: 76.94750555554026</br>_original_yhat_: 0.21179511646378305</br>"
          ],
          [
           "</br>id: 2929</br>prediction: 0.224</br>minute: 32</br></br>h_a: 0.0</br>situation: 1.0</br>shotType: 0.0</br>lastAction: 14.0</br>distance: 4.588861943363718</br>angle: 76.94750555554026</br>_original_yhat_: 0.21179511646378305</br>"
          ],
          [
           "</br>id: 2929</br>prediction: 0.224</br>minute: 33</br></br>h_a: 0.0</br>situation: 1.0</br>shotType: 0.0</br>lastAction: 14.0</br>distance: 4.588861943363718</br>angle: 76.94750555554026</br>_original_yhat_: 0.21179511646378305</br>"
          ],
          [
           "</br>id: 2929</br>prediction: 0.212</br>minute: 34</br></br>h_a: 0.0</br>situation: 1.0</br>shotType: 0.0</br>lastAction: 14.0</br>distance: 4.588861943363718</br>angle: 76.94750555554026</br>_original_yhat_: 0.21179511646378305</br>"
          ],
          [
           "</br>id: 2929</br>prediction: 0.212</br>minute: 35</br></br>h_a: 0.0</br>situation: 1.0</br>shotType: 0.0</br>lastAction: 14.0</br>distance: 4.588861943363718</br>angle: 76.94750555554026</br>_original_yhat_: 0.21179511646378305</br>"
          ],
          [
           "</br>id: 2929</br>prediction: 0.212</br>minute: 36</br></br>h_a: 0.0</br>situation: 1.0</br>shotType: 0.0</br>lastAction: 14.0</br>distance: 4.588861943363718</br>angle: 76.94750555554026</br>_original_yhat_: 0.21179511646378305</br>"
          ],
          [
           "</br>id: 2929</br>prediction: 0.212</br>minute: 37</br></br>h_a: 0.0</br>situation: 1.0</br>shotType: 0.0</br>lastAction: 14.0</br>distance: 4.588861943363718</br>angle: 76.94750555554026</br>_original_yhat_: 0.21179511646378305</br>"
          ],
          [
           "</br>id: 2929</br>prediction: 0.212</br>minute: 38</br></br>h_a: 0.0</br>situation: 1.0</br>shotType: 0.0</br>lastAction: 14.0</br>distance: 4.588861943363718</br>angle: 76.94750555554026</br>_original_yhat_: 0.21179511646378305</br>"
          ],
          [
           "</br>id: 2929</br>prediction: 0.212</br>minute: 39</br></br>h_a: 0.0</br>situation: 1.0</br>shotType: 0.0</br>lastAction: 14.0</br>distance: 4.588861943363718</br>angle: 76.94750555554026</br>_original_yhat_: 0.21179511646378305</br>"
          ],
          [
           "</br>id: 2929</br>prediction: 0.212</br>minute: 40</br></br>h_a: 0.0</br>situation: 1.0</br>shotType: 0.0</br>lastAction: 14.0</br>distance: 4.588861943363718</br>angle: 76.94750555554026</br>_original_yhat_: 0.21179511646378305</br>"
          ],
          [
           "</br>id: 2929</br>prediction: 0.212</br>minute: 41</br></br>h_a: 0.0</br>situation: 1.0</br>shotType: 0.0</br>lastAction: 14.0</br>distance: 4.588861943363718</br>angle: 76.94750555554026</br>_original_yhat_: 0.21179511646378305</br>"
          ],
          [
           "</br>id: 2929</br>prediction: 0.212</br>minute: 42</br></br>h_a: 0.0</br>situation: 1.0</br>shotType: 0.0</br>lastAction: 14.0</br>distance: 4.588861943363718</br>angle: 76.94750555554026</br>_original_yhat_: 0.21179511646378305</br>"
          ],
          [
           "</br>id: 2929</br>prediction: 0.212</br>minute: 43</br></br>h_a: 0.0</br>situation: 1.0</br>shotType: 0.0</br>lastAction: 14.0</br>distance: 4.588861943363718</br>angle: 76.94750555554026</br>_original_yhat_: 0.21179511646378305</br>"
          ],
          [
           "</br>id: 2929</br>prediction: 0.212</br>minute: 44</br></br>h_a: 0.0</br>situation: 1.0</br>shotType: 0.0</br>lastAction: 14.0</br>distance: 4.588861943363718</br>angle: 76.94750555554026</br>_original_yhat_: 0.21179511646378305</br>"
          ],
          [
           "</br>id: 2929</br>prediction: 0.212</br>minute: 45</br></br>h_a: 0.0</br>situation: 1.0</br>shotType: 0.0</br>lastAction: 14.0</br>distance: 4.588861943363718</br>angle: 76.94750555554026</br>_original_yhat_: 0.21179511646378305</br>"
          ],
          [
           "</br>id: 2929</br>prediction: 0.212</br>minute: 46</br></br>h_a: 0.0</br>situation: 1.0</br>shotType: 0.0</br>lastAction: 14.0</br>distance: 4.588861943363718</br>angle: 76.94750555554026</br>_original_yhat_: 0.21179511646378305</br>"
          ],
          [
           "</br>id: 2929</br>prediction: 0.212</br>minute: 47</br></br>h_a: 0.0</br>situation: 1.0</br>shotType: 0.0</br>lastAction: 14.0</br>distance: 4.588861943363718</br>angle: 76.94750555554026</br>_original_yhat_: 0.21179511646378305</br>"
          ],
          [
           "</br>id: 2929</br>prediction: 0.212</br>minute: 48</br></br>h_a: 0.0</br>situation: 1.0</br>shotType: 0.0</br>lastAction: 14.0</br>distance: 4.588861943363718</br>angle: 76.94750555554026</br>_original_yhat_: 0.21179511646378305</br>"
          ],
          [
           "</br>id: 2929</br>prediction: 0.212</br>minute: 49</br></br>h_a: 0.0</br>situation: 1.0</br>shotType: 0.0</br>lastAction: 14.0</br>distance: 4.588861943363718</br>angle: 76.94750555554026</br>_original_yhat_: 0.21179511646378305</br>"
          ],
          [
           "</br>id: 2929</br>prediction: 0.212</br>minute: 50</br></br>h_a: 0.0</br>situation: 1.0</br>shotType: 0.0</br>lastAction: 14.0</br>distance: 4.588861943363718</br>angle: 76.94750555554026</br>_original_yhat_: 0.21179511646378305</br>"
          ],
          [
           "</br>id: 2929</br>prediction: 0.212</br>minute: 51</br></br>h_a: 0.0</br>situation: 1.0</br>shotType: 0.0</br>lastAction: 14.0</br>distance: 4.588861943363718</br>angle: 76.94750555554026</br>_original_yhat_: 0.21179511646378305</br>"
          ],
          [
           "</br>id: 2929</br>prediction: 0.212</br>minute: 52</br></br>h_a: 0.0</br>situation: 1.0</br>shotType: 0.0</br>lastAction: 14.0</br>distance: 4.588861943363718</br>angle: 76.94750555554026</br>_original_yhat_: 0.21179511646378305</br>"
          ],
          [
           "</br>id: 2929</br>prediction: 0.223</br>minute: 53</br></br>h_a: 0.0</br>situation: 1.0</br>shotType: 0.0</br>lastAction: 14.0</br>distance: 4.588861943363718</br>angle: 76.94750555554026</br>_original_yhat_: 0.21179511646378305</br>"
          ],
          [
           "</br>id: 2929</br>prediction: 0.223</br>minute: 54</br></br>h_a: 0.0</br>situation: 1.0</br>shotType: 0.0</br>lastAction: 14.0</br>distance: 4.588861943363718</br>angle: 76.94750555554026</br>_original_yhat_: 0.21179511646378305</br>"
          ],
          [
           "</br>id: 2929</br>prediction: 0.223</br>minute: 55</br></br>h_a: 0.0</br>situation: 1.0</br>shotType: 0.0</br>lastAction: 14.0</br>distance: 4.588861943363718</br>angle: 76.94750555554026</br>_original_yhat_: 0.21179511646378305</br>"
          ],
          [
           "</br>id: 2929</br>prediction: 0.223</br>minute: 56</br></br>h_a: 0.0</br>situation: 1.0</br>shotType: 0.0</br>lastAction: 14.0</br>distance: 4.588861943363718</br>angle: 76.94750555554026</br>_original_yhat_: 0.21179511646378305</br>"
          ],
          [
           "</br>id: 2929</br>prediction: 0.223</br>minute: 57</br></br>h_a: 0.0</br>situation: 1.0</br>shotType: 0.0</br>lastAction: 14.0</br>distance: 4.588861943363718</br>angle: 76.94750555554026</br>_original_yhat_: 0.21179511646378305</br>"
          ],
          [
           "</br>id: 2929</br>prediction: 0.223</br>minute: 58</br></br>h_a: 0.0</br>situation: 1.0</br>shotType: 0.0</br>lastAction: 14.0</br>distance: 4.588861943363718</br>angle: 76.94750555554026</br>_original_yhat_: 0.21179511646378305</br>"
          ],
          [
           "</br>id: 2929</br>prediction: 0.223</br>minute: 59</br></br>h_a: 0.0</br>situation: 1.0</br>shotType: 0.0</br>lastAction: 14.0</br>distance: 4.588861943363718</br>angle: 76.94750555554026</br>_original_yhat_: 0.21179511646378305</br>"
          ],
          [
           "</br>id: 2929</br>prediction: 0.223</br>minute: 60</br></br>h_a: 0.0</br>situation: 1.0</br>shotType: 0.0</br>lastAction: 14.0</br>distance: 4.588861943363718</br>angle: 76.94750555554026</br>_original_yhat_: 0.21179511646378305</br>"
          ],
          [
           "</br>id: 2929</br>prediction: 0.223</br>minute: 61</br></br>h_a: 0.0</br>situation: 1.0</br>shotType: 0.0</br>lastAction: 14.0</br>distance: 4.588861943363718</br>angle: 76.94750555554026</br>_original_yhat_: 0.21179511646378305</br>"
          ],
          [
           "</br>id: 2929</br>prediction: 0.223</br>minute: 62</br></br>h_a: 0.0</br>situation: 1.0</br>shotType: 0.0</br>lastAction: 14.0</br>distance: 4.588861943363718</br>angle: 76.94750555554026</br>_original_yhat_: 0.21179511646378305</br>"
          ],
          [
           "</br>id: 2929</br>prediction: 0.223</br>minute: 63</br></br>h_a: 0.0</br>situation: 1.0</br>shotType: 0.0</br>lastAction: 14.0</br>distance: 4.588861943363718</br>angle: 76.94750555554026</br>_original_yhat_: 0.21179511646378305</br>"
          ],
          [
           "</br>id: 2929</br>prediction: 0.231</br>minute: 64</br></br>h_a: 0.0</br>situation: 1.0</br>shotType: 0.0</br>lastAction: 14.0</br>distance: 4.588861943363718</br>angle: 76.94750555554026</br>_original_yhat_: 0.21179511646378305</br>"
          ],
          [
           "</br>id: 2929</br>prediction: 0.231</br>minute: 65</br></br>h_a: 0.0</br>situation: 1.0</br>shotType: 0.0</br>lastAction: 14.0</br>distance: 4.588861943363718</br>angle: 76.94750555554026</br>_original_yhat_: 0.21179511646378305</br>"
          ],
          [
           "</br>id: 2929</br>prediction: 0.231</br>minute: 66</br></br>h_a: 0.0</br>situation: 1.0</br>shotType: 0.0</br>lastAction: 14.0</br>distance: 4.588861943363718</br>angle: 76.94750555554026</br>_original_yhat_: 0.21179511646378305</br>"
          ],
          [
           "</br>id: 2929</br>prediction: 0.231</br>minute: 67</br></br>h_a: 0.0</br>situation: 1.0</br>shotType: 0.0</br>lastAction: 14.0</br>distance: 4.588861943363718</br>angle: 76.94750555554026</br>_original_yhat_: 0.21179511646378305</br>"
          ],
          [
           "</br>id: 2929</br>prediction: 0.231</br>minute: 68</br></br>h_a: 0.0</br>situation: 1.0</br>shotType: 0.0</br>lastAction: 14.0</br>distance: 4.588861943363718</br>angle: 76.94750555554026</br>_original_yhat_: 0.21179511646378305</br>"
          ],
          [
           "</br>id: 2929</br>prediction: 0.231</br>minute: 69</br></br>h_a: 0.0</br>situation: 1.0</br>shotType: 0.0</br>lastAction: 14.0</br>distance: 4.588861943363718</br>angle: 76.94750555554026</br>_original_yhat_: 0.21179511646378305</br>"
          ],
          [
           "</br>id: 2929</br>prediction: 0.231</br>minute: 70</br></br>h_a: 0.0</br>situation: 1.0</br>shotType: 0.0</br>lastAction: 14.0</br>distance: 4.588861943363718</br>angle: 76.94750555554026</br>_original_yhat_: 0.21179511646378305</br>"
          ],
          [
           "</br>id: 2929</br>prediction: 0.231</br>minute: 71</br></br>h_a: 0.0</br>situation: 1.0</br>shotType: 0.0</br>lastAction: 14.0</br>distance: 4.588861943363718</br>angle: 76.94750555554026</br>_original_yhat_: 0.21179511646378305</br>"
          ],
          [
           "</br>id: 2929</br>prediction: 0.231</br>minute: 72</br></br>h_a: 0.0</br>situation: 1.0</br>shotType: 0.0</br>lastAction: 14.0</br>distance: 4.588861943363718</br>angle: 76.94750555554026</br>_original_yhat_: 0.21179511646378305</br>"
          ],
          [
           "</br>id: 2929</br>prediction: 0.231</br>minute: 73</br></br>h_a: 0.0</br>situation: 1.0</br>shotType: 0.0</br>lastAction: 14.0</br>distance: 4.588861943363718</br>angle: 76.94750555554026</br>_original_yhat_: 0.21179511646378305</br>"
          ],
          [
           "</br>id: 2929</br>prediction: 0.231</br>minute: 74</br></br>h_a: 0.0</br>situation: 1.0</br>shotType: 0.0</br>lastAction: 14.0</br>distance: 4.588861943363718</br>angle: 76.94750555554026</br>_original_yhat_: 0.21179511646378305</br>"
          ],
          [
           "</br>id: 2929</br>prediction: 0.231</br>minute: 75</br></br>h_a: 0.0</br>situation: 1.0</br>shotType: 0.0</br>lastAction: 14.0</br>distance: 4.588861943363718</br>angle: 76.94750555554026</br>_original_yhat_: 0.21179511646378305</br>"
          ],
          [
           "</br>id: 2929</br>prediction: 0.252</br>minute: 76</br></br>h_a: 0.0</br>situation: 1.0</br>shotType: 0.0</br>lastAction: 14.0</br>distance: 4.588861943363718</br>angle: 76.94750555554026</br>_original_yhat_: 0.21179511646378305</br>"
          ],
          [
           "</br>id: 2929</br>prediction: 0.252</br>minute: 77</br></br>h_a: 0.0</br>situation: 1.0</br>shotType: 0.0</br>lastAction: 14.0</br>distance: 4.588861943363718</br>angle: 76.94750555554026</br>_original_yhat_: 0.21179511646378305</br>"
          ],
          [
           "</br>id: 2929</br>prediction: 0.252</br>minute: 78</br></br>h_a: 0.0</br>situation: 1.0</br>shotType: 0.0</br>lastAction: 14.0</br>distance: 4.588861943363718</br>angle: 76.94750555554026</br>_original_yhat_: 0.21179511646378305</br>"
          ],
          [
           "</br>id: 2929</br>prediction: 0.252</br>minute: 79</br></br>h_a: 0.0</br>situation: 1.0</br>shotType: 0.0</br>lastAction: 14.0</br>distance: 4.588861943363718</br>angle: 76.94750555554026</br>_original_yhat_: 0.21179511646378305</br>"
          ],
          [
           "</br>id: 2929</br>prediction: 0.252</br>minute: 80</br></br>h_a: 0.0</br>situation: 1.0</br>shotType: 0.0</br>lastAction: 14.0</br>distance: 4.588861943363718</br>angle: 76.94750555554026</br>_original_yhat_: 0.21179511646378305</br>"
          ],
          [
           "</br>id: 2929</br>prediction: 0.252</br>minute: 81</br></br>h_a: 0.0</br>situation: 1.0</br>shotType: 0.0</br>lastAction: 14.0</br>distance: 4.588861943363718</br>angle: 76.94750555554026</br>_original_yhat_: 0.21179511646378305</br>"
          ],
          [
           "</br>id: 2929</br>prediction: 0.252</br>minute: 82</br></br>h_a: 0.0</br>situation: 1.0</br>shotType: 0.0</br>lastAction: 14.0</br>distance: 4.588861943363718</br>angle: 76.94750555554026</br>_original_yhat_: 0.21179511646378305</br>"
          ],
          [
           "</br>id: 2929</br>prediction: 0.252</br>minute: 83</br></br>h_a: 0.0</br>situation: 1.0</br>shotType: 0.0</br>lastAction: 14.0</br>distance: 4.588861943363718</br>angle: 76.94750555554026</br>_original_yhat_: 0.21179511646378305</br>"
          ],
          [
           "</br>id: 2929</br>prediction: 0.252</br>minute: 84</br></br>h_a: 0.0</br>situation: 1.0</br>shotType: 0.0</br>lastAction: 14.0</br>distance: 4.588861943363718</br>angle: 76.94750555554026</br>_original_yhat_: 0.21179511646378305</br>"
          ],
          [
           "</br>id: 2929</br>prediction: 0.194</br>minute: 85</br></br>h_a: 0.0</br>situation: 1.0</br>shotType: 0.0</br>lastAction: 14.0</br>distance: 4.588861943363718</br>angle: 76.94750555554026</br>_original_yhat_: 0.21179511646378305</br>"
          ],
          [
           "</br>id: 2929</br>prediction: 0.194</br>minute: 86</br></br>h_a: 0.0</br>situation: 1.0</br>shotType: 0.0</br>lastAction: 14.0</br>distance: 4.588861943363718</br>angle: 76.94750555554026</br>_original_yhat_: 0.21179511646378305</br>"
          ],
          [
           "</br>id: 2929</br>prediction: 0.193</br>minute: 87</br></br>h_a: 0.0</br>situation: 1.0</br>shotType: 0.0</br>lastAction: 14.0</br>distance: 4.588861943363718</br>angle: 76.94750555554026</br>_original_yhat_: 0.21179511646378305</br>"
          ],
          [
           "</br>id: 2929</br>prediction: 0.193</br>minute: 88</br></br>h_a: 0.0</br>situation: 1.0</br>shotType: 0.0</br>lastAction: 14.0</br>distance: 4.588861943363718</br>angle: 76.94750555554026</br>_original_yhat_: 0.21179511646378305</br>"
          ],
          [
           "</br>id: 2929</br>prediction: 0.193</br>minute: 89</br></br>h_a: 0.0</br>situation: 1.0</br>shotType: 0.0</br>lastAction: 14.0</br>distance: 4.588861943363718</br>angle: 76.94750555554026</br>_original_yhat_: 0.21179511646378305</br>"
          ],
          [
           "</br>id: 2929</br>prediction: 0.193</br>minute: 90</br></br>h_a: 0.0</br>situation: 1.0</br>shotType: 0.0</br>lastAction: 14.0</br>distance: 4.588861943363718</br>angle: 76.94750555554026</br>_original_yhat_: 0.21179511646378305</br>"
          ],
          [
           "</br>id: 2929</br>prediction: 0.184</br>minute: 91</br></br>h_a: 0.0</br>situation: 1.0</br>shotType: 0.0</br>lastAction: 14.0</br>distance: 4.588861943363718</br>angle: 76.94750555554026</br>_original_yhat_: 0.21179511646378305</br>"
          ],
          [
           "</br>id: 2929</br>prediction: 0.2</br>minute: 92</br></br>h_a: 0.0</br>situation: 1.0</br>shotType: 0.0</br>lastAction: 14.0</br>distance: 4.588861943363718</br>angle: 76.94750555554026</br>_original_yhat_: 0.21179511646378305</br>"
          ],
          [
           "</br>id: 2929</br>prediction: 0.2</br>minute: 93</br></br>h_a: 0.0</br>situation: 1.0</br>shotType: 0.0</br>lastAction: 14.0</br>distance: 4.588861943363718</br>angle: 76.94750555554026</br>_original_yhat_: 0.21179511646378305</br>"
          ],
          [
           "</br>id: 2929</br>prediction: 0.2</br>minute: 94</br></br>h_a: 0.0</br>situation: 1.0</br>shotType: 0.0</br>lastAction: 14.0</br>distance: 4.588861943363718</br>angle: 76.94750555554026</br>_original_yhat_: 0.21179511646378305</br>"
          ],
          [
           "</br>id: 2929</br>prediction: 0.248</br>minute: 95</br></br>h_a: 0.0</br>situation: 1.0</br>shotType: 0.0</br>lastAction: 14.0</br>distance: 4.588861943363718</br>angle: 76.94750555554026</br>_original_yhat_: 0.21179511646378305</br>"
          ],
          [
           "</br>id: 2929</br>prediction: 0.248</br>minute: 96</br></br>h_a: 0.0</br>situation: 1.0</br>shotType: 0.0</br>lastAction: 14.0</br>distance: 4.588861943363718</br>angle: 76.94750555554026</br>_original_yhat_: 0.21179511646378305</br>"
          ],
          [
           "</br>id: 2929</br>prediction: 0.248</br>minute: 97</br></br>h_a: 0.0</br>situation: 1.0</br>shotType: 0.0</br>lastAction: 14.0</br>distance: 4.588861943363718</br>angle: 76.94750555554026</br>_original_yhat_: 0.21179511646378305</br>"
          ],
          [
           "</br>id: 2929</br>prediction: 0.248</br>minute: 98</br></br>h_a: 0.0</br>situation: 1.0</br>shotType: 0.0</br>lastAction: 14.0</br>distance: 4.588861943363718</br>angle: 76.94750555554026</br>_original_yhat_: 0.21179511646378305</br>"
          ],
          [
           "</br>id: 2929</br>prediction: 0.248</br>minute: 99</br></br>h_a: 0.0</br>situation: 1.0</br>shotType: 0.0</br>lastAction: 14.0</br>distance: 4.588861943363718</br>angle: 76.94750555554026</br>_original_yhat_: 0.21179511646378305</br>"
          ],
          [
           "</br>id: 2929</br>prediction: 0.248</br>minute: 100</br></br>h_a: 0.0</br>situation: 1.0</br>shotType: 0.0</br>lastAction: 14.0</br>distance: 4.588861943363718</br>angle: 76.94750555554026</br>_original_yhat_: 0.21179511646378305</br>"
          ]
         ],
         "hovertemplate": "%{customdata[0]}<extra></extra>",
         "legendgroup": "GradientBoostingClassifier",
         "line": {
          "color": "#4378bf",
          "dash": "solid",
          "width": 2
         },
         "marker": {
          "symbol": "circle"
         },
         "mode": "lines",
         "name": "GradientBoostingClassifier",
         "opacity": 1,
         "showlegend": false,
         "type": "scattergl",
         "x": [
          0,
          1,
          2,
          3,
          4,
          5,
          6,
          7,
          8,
          9,
          10,
          11,
          12,
          13,
          14,
          15,
          16,
          17,
          18,
          19,
          20,
          21,
          22,
          23,
          24,
          25,
          26,
          27,
          28,
          29,
          30,
          31,
          32,
          33,
          34,
          35,
          36,
          37,
          38,
          39,
          40,
          41,
          42,
          43,
          44,
          45,
          46,
          47,
          48,
          49,
          50,
          51,
          52,
          53,
          54,
          55,
          56,
          57,
          58,
          59,
          60,
          61,
          62,
          63,
          64,
          65,
          66,
          67,
          68,
          69,
          70,
          71,
          72,
          73,
          74,
          75,
          76,
          77,
          78,
          79,
          80,
          81,
          82,
          83,
          84,
          85,
          86,
          87,
          88,
          89,
          90,
          91,
          92,
          93,
          94,
          95,
          96,
          97,
          98,
          99,
          100
         ],
         "xaxis": "x3",
         "y": [
          0.17090383581844365,
          0.17090383581844365,
          0.2591452851449785,
          0.2591452851449785,
          0.27849473343340114,
          0.24589622914822554,
          0.24589622914822554,
          0.24589622914822554,
          0.24589622914822554,
          0.24589622914822554,
          0.1894441485458854,
          0.216784701899349,
          0.216784701899349,
          0.216784701899349,
          0.216784701899349,
          0.216784701899349,
          0.216784701899349,
          0.216784701899349,
          0.216784701899349,
          0.216784701899349,
          0.216784701899349,
          0.216784701899349,
          0.216784701899349,
          0.216784701899349,
          0.216784701899349,
          0.216784701899349,
          0.2239677229983343,
          0.2239677229983343,
          0.2239677229983343,
          0.2239677229983343,
          0.2239677229983343,
          0.2239677229983343,
          0.2239677229983343,
          0.2239677229983343,
          0.21179511646378305,
          0.21179511646378305,
          0.21179511646378305,
          0.21179511646378305,
          0.21179511646378305,
          0.21179511646378305,
          0.21179511646378305,
          0.21179511646378305,
          0.21179511646378305,
          0.21179511646378305,
          0.21179511646378305,
          0.21179511646378305,
          0.21179511646378305,
          0.21179511646378305,
          0.21179511646378305,
          0.21179511646378305,
          0.21179511646378305,
          0.21179511646378305,
          0.21179511646378305,
          0.2234628256293598,
          0.2234628256293598,
          0.2234628256293598,
          0.2234628256293598,
          0.2234628256293598,
          0.2234628256293598,
          0.2234628256293598,
          0.2234628256293598,
          0.2234628256293598,
          0.2234628256293598,
          0.2234628256293598,
          0.2306522261367619,
          0.2306522261367619,
          0.2306522261367619,
          0.2306522261367619,
          0.2306522261367619,
          0.2306522261367619,
          0.2306522261367619,
          0.2306522261367619,
          0.2306522261367619,
          0.2306522261367619,
          0.2306522261367619,
          0.2306522261367619,
          0.25198231993906056,
          0.25198231993906056,
          0.25198231993906056,
          0.25198231993906056,
          0.25198231993906056,
          0.25198231993906056,
          0.25198231993906056,
          0.25198231993906056,
          0.25198231993906056,
          0.19412232806153665,
          0.19412232806153665,
          0.19275720071237182,
          0.19275720071237182,
          0.19275720071237182,
          0.19275720071237182,
          0.18387868186529557,
          0.2000248700286048,
          0.2000248700286048,
          0.2000248700286048,
          0.24802214970660302,
          0.24802214970660302,
          0.24802214970660302,
          0.24802214970660302,
          0.24802214970660302,
          0.24802214970660302
         ],
         "yaxis": "y3"
        },
        {
         "customdata": [
          [
           "</br>id: 2929</br>prediction: 0.878</br>distance: 0.9736657537368798</br></br>h_a: 0.0</br>situation: 1.0</br>shotType: 0.0</br>lastAction: 14.0</br>minute: 41</br>angle: 76.94750555554026</br>_original_yhat_: 0.21179511646378305</br>"
          ],
          [
           "</br>id: 2929</br>prediction: 0.872</br>distance: 2.000467460826111</br></br>h_a: 0.0</br>situation: 1.0</br>shotType: 0.0</br>lastAction: 14.0</br>minute: 41</br>angle: 76.94750555554026</br>_original_yhat_: 0.21179511646378305</br>"
          ],
          [
           "</br>id: 2929</br>prediction: 0.178</br>distance: 3.0272691679153425</br></br>h_a: 0.0</br>situation: 1.0</br>shotType: 0.0</br>lastAction: 14.0</br>minute: 41</br>angle: 76.94750555554026</br>_original_yhat_: 0.21179511646378305</br>"
          ],
          [
           "</br>id: 2929</br>prediction: 0.212</br>distance: 4.054070875004573</br></br>h_a: 0.0</br>situation: 1.0</br>shotType: 0.0</br>lastAction: 14.0</br>minute: 41</br>angle: 76.94750555554026</br>_original_yhat_: 0.21179511646378305</br>"
          ],
          [
           "</br>id: 2929</br>prediction: 0.212</br>distance: 4.588861943363718</br></br>h_a: 0.0</br>situation: 1.0</br>shotType: 0.0</br>lastAction: 14.0</br>minute: 41</br>angle: 76.94750555554026</br>_original_yhat_: 0.21179511646378305</br>"
          ],
          [
           "</br>id: 2929</br>prediction: 0.183</br>distance: 5.0808725820938045</br></br>h_a: 0.0</br>situation: 1.0</br>shotType: 0.0</br>lastAction: 14.0</br>minute: 41</br>angle: 76.94750555554026</br>_original_yhat_: 0.21179511646378305</br>"
          ],
          [
           "</br>id: 2929</br>prediction: 0.274</br>distance: 6.107674289183036</br></br>h_a: 0.0</br>situation: 1.0</br>shotType: 0.0</br>lastAction: 14.0</br>minute: 41</br>angle: 76.94750555554026</br>_original_yhat_: 0.21179511646378305</br>"
          ],
          [
           "</br>id: 2929</br>prediction: 0.193</br>distance: 7.134475996272267</br></br>h_a: 0.0</br>situation: 1.0</br>shotType: 0.0</br>lastAction: 14.0</br>minute: 41</br>angle: 76.94750555554026</br>_original_yhat_: 0.21179511646378305</br>"
          ],
          [
           "</br>id: 2929</br>prediction: 0.159</br>distance: 8.161277703361499</br></br>h_a: 0.0</br>situation: 1.0</br>shotType: 0.0</br>lastAction: 14.0</br>minute: 41</br>angle: 76.94750555554026</br>_original_yhat_: 0.21179511646378305</br>"
          ],
          [
           "</br>id: 2929</br>prediction: 0.287</br>distance: 9.18807941045073</br></br>h_a: 0.0</br>situation: 1.0</br>shotType: 0.0</br>lastAction: 14.0</br>minute: 41</br>angle: 76.94750555554026</br>_original_yhat_: 0.21179511646378305</br>"
          ],
          [
           "</br>id: 2929</br>prediction: 0.352</br>distance: 10.21488111753996</br></br>h_a: 0.0</br>situation: 1.0</br>shotType: 0.0</br>lastAction: 14.0</br>minute: 41</br>angle: 76.94750555554026</br>_original_yhat_: 0.21179511646378305</br>"
          ],
          [
           "</br>id: 2929</br>prediction: 0.316</br>distance: 11.241682824629192</br></br>h_a: 0.0</br>situation: 1.0</br>shotType: 0.0</br>lastAction: 14.0</br>minute: 41</br>angle: 76.94750555554026</br>_original_yhat_: 0.21179511646378305</br>"
          ],
          [
           "</br>id: 2929</br>prediction: 0.336</br>distance: 12.268484531718423</br></br>h_a: 0.0</br>situation: 1.0</br>shotType: 0.0</br>lastAction: 14.0</br>minute: 41</br>angle: 76.94750555554026</br>_original_yhat_: 0.21179511646378305</br>"
          ],
          [
           "</br>id: 2929</br>prediction: 0.336</br>distance: 13.295286238807654</br></br>h_a: 0.0</br>situation: 1.0</br>shotType: 0.0</br>lastAction: 14.0</br>minute: 41</br>angle: 76.94750555554026</br>_original_yhat_: 0.21179511646378305</br>"
          ],
          [
           "</br>id: 2929</br>prediction: 0.336</br>distance: 14.322087945896886</br></br>h_a: 0.0</br>situation: 1.0</br>shotType: 0.0</br>lastAction: 14.0</br>minute: 41</br>angle: 76.94750555554026</br>_original_yhat_: 0.21179511646378305</br>"
          ],
          [
           "</br>id: 2929</br>prediction: 0.336</br>distance: 15.348889652986117</br></br>h_a: 0.0</br>situation: 1.0</br>shotType: 0.0</br>lastAction: 14.0</br>minute: 41</br>angle: 76.94750555554026</br>_original_yhat_: 0.21179511646378305</br>"
          ],
          [
           "</br>id: 2929</br>prediction: 0.478</br>distance: 16.37569136007535</br></br>h_a: 0.0</br>situation: 1.0</br>shotType: 0.0</br>lastAction: 14.0</br>minute: 41</br>angle: 76.94750555554026</br>_original_yhat_: 0.21179511646378305</br>"
          ],
          [
           "</br>id: 2929</br>prediction: 0.478</br>distance: 17.40249306716458</br></br>h_a: 0.0</br>situation: 1.0</br>shotType: 0.0</br>lastAction: 14.0</br>minute: 41</br>angle: 76.94750555554026</br>_original_yhat_: 0.21179511646378305</br>"
          ],
          [
           "</br>id: 2929</br>prediction: 0.478</br>distance: 18.429294774253812</br></br>h_a: 0.0</br>situation: 1.0</br>shotType: 0.0</br>lastAction: 14.0</br>minute: 41</br>angle: 76.94750555554026</br>_original_yhat_: 0.21179511646378305</br>"
          ],
          [
           "</br>id: 2929</br>prediction: 0.515</br>distance: 19.456096481343042</br></br>h_a: 0.0</br>situation: 1.0</br>shotType: 0.0</br>lastAction: 14.0</br>minute: 41</br>angle: 76.94750555554026</br>_original_yhat_: 0.21179511646378305</br>"
          ],
          [
           "</br>id: 2929</br>prediction: 0.376</br>distance: 20.482898188432276</br></br>h_a: 0.0</br>situation: 1.0</br>shotType: 0.0</br>lastAction: 14.0</br>minute: 41</br>angle: 76.94750555554026</br>_original_yhat_: 0.21179511646378305</br>"
          ],
          [
           "</br>id: 2929</br>prediction: 0.376</br>distance: 21.509699895521507</br></br>h_a: 0.0</br>situation: 1.0</br>shotType: 0.0</br>lastAction: 14.0</br>minute: 41</br>angle: 76.94750555554026</br>_original_yhat_: 0.21179511646378305</br>"
          ],
          [
           "</br>id: 2929</br>prediction: 0.394</br>distance: 22.536501602610738</br></br>h_a: 0.0</br>situation: 1.0</br>shotType: 0.0</br>lastAction: 14.0</br>minute: 41</br>angle: 76.94750555554026</br>_original_yhat_: 0.21179511646378305</br>"
          ],
          [
           "</br>id: 2929</br>prediction: 0.394</br>distance: 23.56330330969997</br></br>h_a: 0.0</br>situation: 1.0</br>shotType: 0.0</br>lastAction: 14.0</br>minute: 41</br>angle: 76.94750555554026</br>_original_yhat_: 0.21179511646378305</br>"
          ],
          [
           "</br>id: 2929</br>prediction: 0.394</br>distance: 24.5901050167892</br></br>h_a: 0.0</br>situation: 1.0</br>shotType: 0.0</br>lastAction: 14.0</br>minute: 41</br>angle: 76.94750555554026</br>_original_yhat_: 0.21179511646378305</br>"
          ],
          [
           "</br>id: 2929</br>prediction: 0.462</br>distance: 25.61690672387843</br></br>h_a: 0.0</br>situation: 1.0</br>shotType: 0.0</br>lastAction: 14.0</br>minute: 41</br>angle: 76.94750555554026</br>_original_yhat_: 0.21179511646378305</br>"
          ],
          [
           "</br>id: 2929</br>prediction: 0.966</br>distance: 26.643708430967664</br></br>h_a: 0.0</br>situation: 1.0</br>shotType: 0.0</br>lastAction: 14.0</br>minute: 41</br>angle: 76.94750555554026</br>_original_yhat_: 0.21179511646378305</br>"
          ],
          [
           "</br>id: 2929</br>prediction: 0.966</br>distance: 27.670510138056894</br></br>h_a: 0.0</br>situation: 1.0</br>shotType: 0.0</br>lastAction: 14.0</br>minute: 41</br>angle: 76.94750555554026</br>_original_yhat_: 0.21179511646378305</br>"
          ],
          [
           "</br>id: 2929</br>prediction: 0.966</br>distance: 28.697311845146125</br></br>h_a: 0.0</br>situation: 1.0</br>shotType: 0.0</br>lastAction: 14.0</br>minute: 41</br>angle: 76.94750555554026</br>_original_yhat_: 0.21179511646378305</br>"
          ],
          [
           "</br>id: 2929</br>prediction: 0.966</br>distance: 29.724113552235355</br></br>h_a: 0.0</br>situation: 1.0</br>shotType: 0.0</br>lastAction: 14.0</br>minute: 41</br>angle: 76.94750555554026</br>_original_yhat_: 0.21179511646378305</br>"
          ],
          [
           "</br>id: 2929</br>prediction: 0.971</br>distance: 30.750915259324586</br></br>h_a: 0.0</br>situation: 1.0</br>shotType: 0.0</br>lastAction: 14.0</br>minute: 41</br>angle: 76.94750555554026</br>_original_yhat_: 0.21179511646378305</br>"
          ],
          [
           "</br>id: 2929</br>prediction: 0.954</br>distance: 31.77771696641382</br></br>h_a: 0.0</br>situation: 1.0</br>shotType: 0.0</br>lastAction: 14.0</br>minute: 41</br>angle: 76.94750555554026</br>_original_yhat_: 0.21179511646378305</br>"
          ],
          [
           "</br>id: 2929</br>prediction: 0.954</br>distance: 32.80451867350305</br></br>h_a: 0.0</br>situation: 1.0</br>shotType: 0.0</br>lastAction: 14.0</br>minute: 41</br>angle: 76.94750555554026</br>_original_yhat_: 0.21179511646378305</br>"
          ],
          [
           "</br>id: 2929</br>prediction: 0.954</br>distance: 33.83132038059228</br></br>h_a: 0.0</br>situation: 1.0</br>shotType: 0.0</br>lastAction: 14.0</br>minute: 41</br>angle: 76.94750555554026</br>_original_yhat_: 0.21179511646378305</br>"
          ],
          [
           "</br>id: 2929</br>prediction: 0.954</br>distance: 34.858122087681515</br></br>h_a: 0.0</br>situation: 1.0</br>shotType: 0.0</br>lastAction: 14.0</br>minute: 41</br>angle: 76.94750555554026</br>_original_yhat_: 0.21179511646378305</br>"
          ],
          [
           "</br>id: 2929</br>prediction: 0.954</br>distance: 35.88492379477074</br></br>h_a: 0.0</br>situation: 1.0</br>shotType: 0.0</br>lastAction: 14.0</br>minute: 41</br>angle: 76.94750555554026</br>_original_yhat_: 0.21179511646378305</br>"
          ],
          [
           "</br>id: 2929</br>prediction: 0.954</br>distance: 36.911725501859976</br></br>h_a: 0.0</br>situation: 1.0</br>shotType: 0.0</br>lastAction: 14.0</br>minute: 41</br>angle: 76.94750555554026</br>_original_yhat_: 0.21179511646378305</br>"
          ],
          [
           "</br>id: 2929</br>prediction: 0.954</br>distance: 37.9385272089492</br></br>h_a: 0.0</br>situation: 1.0</br>shotType: 0.0</br>lastAction: 14.0</br>minute: 41</br>angle: 76.94750555554026</br>_original_yhat_: 0.21179511646378305</br>"
          ],
          [
           "</br>id: 2929</br>prediction: 0.954</br>distance: 38.96532891603844</br></br>h_a: 0.0</br>situation: 1.0</br>shotType: 0.0</br>lastAction: 14.0</br>minute: 41</br>angle: 76.94750555554026</br>_original_yhat_: 0.21179511646378305</br>"
          ],
          [
           "</br>id: 2929</br>prediction: 0.954</br>distance: 39.99213062312767</br></br>h_a: 0.0</br>situation: 1.0</br>shotType: 0.0</br>lastAction: 14.0</br>minute: 41</br>angle: 76.94750555554026</br>_original_yhat_: 0.21179511646378305</br>"
          ],
          [
           "</br>id: 2929</br>prediction: 0.954</br>distance: 41.0189323302169</br></br>h_a: 0.0</br>situation: 1.0</br>shotType: 0.0</br>lastAction: 14.0</br>minute: 41</br>angle: 76.94750555554026</br>_original_yhat_: 0.21179511646378305</br>"
          ],
          [
           "</br>id: 2929</br>prediction: 0.954</br>distance: 42.04573403730613</br></br>h_a: 0.0</br>situation: 1.0</br>shotType: 0.0</br>lastAction: 14.0</br>minute: 41</br>angle: 76.94750555554026</br>_original_yhat_: 0.21179511646378305</br>"
          ],
          [
           "</br>id: 2929</br>prediction: 0.954</br>distance: 43.07253574439536</br></br>h_a: 0.0</br>situation: 1.0</br>shotType: 0.0</br>lastAction: 14.0</br>minute: 41</br>angle: 76.94750555554026</br>_original_yhat_: 0.21179511646378305</br>"
          ],
          [
           "</br>id: 2929</br>prediction: 0.954</br>distance: 44.099337451484594</br></br>h_a: 0.0</br>situation: 1.0</br>shotType: 0.0</br>lastAction: 14.0</br>minute: 41</br>angle: 76.94750555554026</br>_original_yhat_: 0.21179511646378305</br>"
          ],
          [
           "</br>id: 2929</br>prediction: 0.954</br>distance: 45.12613915857383</br></br>h_a: 0.0</br>situation: 1.0</br>shotType: 0.0</br>lastAction: 14.0</br>minute: 41</br>angle: 76.94750555554026</br>_original_yhat_: 0.21179511646378305</br>"
          ],
          [
           "</br>id: 2929</br>prediction: 0.954</br>distance: 46.152940865663055</br></br>h_a: 0.0</br>situation: 1.0</br>shotType: 0.0</br>lastAction: 14.0</br>minute: 41</br>angle: 76.94750555554026</br>_original_yhat_: 0.21179511646378305</br>"
          ],
          [
           "</br>id: 2929</br>prediction: 0.954</br>distance: 47.17974257275229</br></br>h_a: 0.0</br>situation: 1.0</br>shotType: 0.0</br>lastAction: 14.0</br>minute: 41</br>angle: 76.94750555554026</br>_original_yhat_: 0.21179511646378305</br>"
          ],
          [
           "</br>id: 2929</br>prediction: 0.954</br>distance: 48.206544279841516</br></br>h_a: 0.0</br>situation: 1.0</br>shotType: 0.0</br>lastAction: 14.0</br>minute: 41</br>angle: 76.94750555554026</br>_original_yhat_: 0.21179511646378305</br>"
          ],
          [
           "</br>id: 2929</br>prediction: 0.954</br>distance: 49.23334598693075</br></br>h_a: 0.0</br>situation: 1.0</br>shotType: 0.0</br>lastAction: 14.0</br>minute: 41</br>angle: 76.94750555554026</br>_original_yhat_: 0.21179511646378305</br>"
          ],
          [
           "</br>id: 2929</br>prediction: 0.954</br>distance: 50.26014769401998</br></br>h_a: 0.0</br>situation: 1.0</br>shotType: 0.0</br>lastAction: 14.0</br>minute: 41</br>angle: 76.94750555554026</br>_original_yhat_: 0.21179511646378305</br>"
          ],
          [
           "</br>id: 2929</br>prediction: 0.954</br>distance: 51.28694940110921</br></br>h_a: 0.0</br>situation: 1.0</br>shotType: 0.0</br>lastAction: 14.0</br>minute: 41</br>angle: 76.94750555554026</br>_original_yhat_: 0.21179511646378305</br>"
          ],
          [
           "</br>id: 2929</br>prediction: 0.954</br>distance: 52.313751108198446</br></br>h_a: 0.0</br>situation: 1.0</br>shotType: 0.0</br>lastAction: 14.0</br>minute: 41</br>angle: 76.94750555554026</br>_original_yhat_: 0.21179511646378305</br>"
          ],
          [
           "</br>id: 2929</br>prediction: 0.954</br>distance: 53.34055281528767</br></br>h_a: 0.0</br>situation: 1.0</br>shotType: 0.0</br>lastAction: 14.0</br>minute: 41</br>angle: 76.94750555554026</br>_original_yhat_: 0.21179511646378305</br>"
          ],
          [
           "</br>id: 2929</br>prediction: 0.954</br>distance: 54.36735452237691</br></br>h_a: 0.0</br>situation: 1.0</br>shotType: 0.0</br>lastAction: 14.0</br>minute: 41</br>angle: 76.94750555554026</br>_original_yhat_: 0.21179511646378305</br>"
          ],
          [
           "</br>id: 2929</br>prediction: 0.954</br>distance: 55.394156229466134</br></br>h_a: 0.0</br>situation: 1.0</br>shotType: 0.0</br>lastAction: 14.0</br>minute: 41</br>angle: 76.94750555554026</br>_original_yhat_: 0.21179511646378305</br>"
          ],
          [
           "</br>id: 2929</br>prediction: 0.954</br>distance: 56.42095793655537</br></br>h_a: 0.0</br>situation: 1.0</br>shotType: 0.0</br>lastAction: 14.0</br>minute: 41</br>angle: 76.94750555554026</br>_original_yhat_: 0.21179511646378305</br>"
          ],
          [
           "</br>id: 2929</br>prediction: 0.954</br>distance: 57.4477596436446</br></br>h_a: 0.0</br>situation: 1.0</br>shotType: 0.0</br>lastAction: 14.0</br>minute: 41</br>angle: 76.94750555554026</br>_original_yhat_: 0.21179511646378305</br>"
          ],
          [
           "</br>id: 2929</br>prediction: 0.954</br>distance: 58.47456135073383</br></br>h_a: 0.0</br>situation: 1.0</br>shotType: 0.0</br>lastAction: 14.0</br>minute: 41</br>angle: 76.94750555554026</br>_original_yhat_: 0.21179511646378305</br>"
          ],
          [
           "</br>id: 2929</br>prediction: 0.954</br>distance: 59.50136305782306</br></br>h_a: 0.0</br>situation: 1.0</br>shotType: 0.0</br>lastAction: 14.0</br>minute: 41</br>angle: 76.94750555554026</br>_original_yhat_: 0.21179511646378305</br>"
          ],
          [
           "</br>id: 2929</br>prediction: 0.954</br>distance: 60.52816476491229</br></br>h_a: 0.0</br>situation: 1.0</br>shotType: 0.0</br>lastAction: 14.0</br>minute: 41</br>angle: 76.94750555554026</br>_original_yhat_: 0.21179511646378305</br>"
          ],
          [
           "</br>id: 2929</br>prediction: 0.954</br>distance: 61.554966472001524</br></br>h_a: 0.0</br>situation: 1.0</br>shotType: 0.0</br>lastAction: 14.0</br>minute: 41</br>angle: 76.94750555554026</br>_original_yhat_: 0.21179511646378305</br>"
          ],
          [
           "</br>id: 2929</br>prediction: 0.954</br>distance: 62.58176817909076</br></br>h_a: 0.0</br>situation: 1.0</br>shotType: 0.0</br>lastAction: 14.0</br>minute: 41</br>angle: 76.94750555554026</br>_original_yhat_: 0.21179511646378305</br>"
          ],
          [
           "</br>id: 2929</br>prediction: 0.954</br>distance: 63.608569886179986</br></br>h_a: 0.0</br>situation: 1.0</br>shotType: 0.0</br>lastAction: 14.0</br>minute: 41</br>angle: 76.94750555554026</br>_original_yhat_: 0.21179511646378305</br>"
          ],
          [
           "</br>id: 2929</br>prediction: 0.954</br>distance: 64.63537159326921</br></br>h_a: 0.0</br>situation: 1.0</br>shotType: 0.0</br>lastAction: 14.0</br>minute: 41</br>angle: 76.94750555554026</br>_original_yhat_: 0.21179511646378305</br>"
          ],
          [
           "</br>id: 2929</br>prediction: 0.954</br>distance: 65.66217330035845</br></br>h_a: 0.0</br>situation: 1.0</br>shotType: 0.0</br>lastAction: 14.0</br>minute: 41</br>angle: 76.94750555554026</br>_original_yhat_: 0.21179511646378305</br>"
          ],
          [
           "</br>id: 2929</br>prediction: 0.954</br>distance: 66.68897500744768</br></br>h_a: 0.0</br>situation: 1.0</br>shotType: 0.0</br>lastAction: 14.0</br>minute: 41</br>angle: 76.94750555554026</br>_original_yhat_: 0.21179511646378305</br>"
          ],
          [
           "</br>id: 2929</br>prediction: 0.954</br>distance: 67.71577671453691</br></br>h_a: 0.0</br>situation: 1.0</br>shotType: 0.0</br>lastAction: 14.0</br>minute: 41</br>angle: 76.94750555554026</br>_original_yhat_: 0.21179511646378305</br>"
          ],
          [
           "</br>id: 2929</br>prediction: 0.954</br>distance: 68.74257842162615</br></br>h_a: 0.0</br>situation: 1.0</br>shotType: 0.0</br>lastAction: 14.0</br>minute: 41</br>angle: 76.94750555554026</br>_original_yhat_: 0.21179511646378305</br>"
          ],
          [
           "</br>id: 2929</br>prediction: 0.954</br>distance: 69.76938012871537</br></br>h_a: 0.0</br>situation: 1.0</br>shotType: 0.0</br>lastAction: 14.0</br>minute: 41</br>angle: 76.94750555554026</br>_original_yhat_: 0.21179511646378305</br>"
          ],
          [
           "</br>id: 2929</br>prediction: 0.954</br>distance: 70.7961818358046</br></br>h_a: 0.0</br>situation: 1.0</br>shotType: 0.0</br>lastAction: 14.0</br>minute: 41</br>angle: 76.94750555554026</br>_original_yhat_: 0.21179511646378305</br>"
          ],
          [
           "</br>id: 2929</br>prediction: 0.954</br>distance: 71.82298354289384</br></br>h_a: 0.0</br>situation: 1.0</br>shotType: 0.0</br>lastAction: 14.0</br>minute: 41</br>angle: 76.94750555554026</br>_original_yhat_: 0.21179511646378305</br>"
          ],
          [
           "</br>id: 2929</br>prediction: 0.954</br>distance: 72.84978524998307</br></br>h_a: 0.0</br>situation: 1.0</br>shotType: 0.0</br>lastAction: 14.0</br>minute: 41</br>angle: 76.94750555554026</br>_original_yhat_: 0.21179511646378305</br>"
          ],
          [
           "</br>id: 2929</br>prediction: 0.954</br>distance: 73.8765869570723</br></br>h_a: 0.0</br>situation: 1.0</br>shotType: 0.0</br>lastAction: 14.0</br>minute: 41</br>angle: 76.94750555554026</br>_original_yhat_: 0.21179511646378305</br>"
          ],
          [
           "</br>id: 2929</br>prediction: 0.954</br>distance: 74.90338866416153</br></br>h_a: 0.0</br>situation: 1.0</br>shotType: 0.0</br>lastAction: 14.0</br>minute: 41</br>angle: 76.94750555554026</br>_original_yhat_: 0.21179511646378305</br>"
          ],
          [
           "</br>id: 2929</br>prediction: 0.954</br>distance: 75.93019037125076</br></br>h_a: 0.0</br>situation: 1.0</br>shotType: 0.0</br>lastAction: 14.0</br>minute: 41</br>angle: 76.94750555554026</br>_original_yhat_: 0.21179511646378305</br>"
          ],
          [
           "</br>id: 2929</br>prediction: 0.954</br>distance: 76.95699207834</br></br>h_a: 0.0</br>situation: 1.0</br>shotType: 0.0</br>lastAction: 14.0</br>minute: 41</br>angle: 76.94750555554026</br>_original_yhat_: 0.21179511646378305</br>"
          ],
          [
           "</br>id: 2929</br>prediction: 0.954</br>distance: 77.98379378542923</br></br>h_a: 0.0</br>situation: 1.0</br>shotType: 0.0</br>lastAction: 14.0</br>minute: 41</br>angle: 76.94750555554026</br>_original_yhat_: 0.21179511646378305</br>"
          ],
          [
           "</br>id: 2929</br>prediction: 0.954</br>distance: 79.01059549251846</br></br>h_a: 0.0</br>situation: 1.0</br>shotType: 0.0</br>lastAction: 14.0</br>minute: 41</br>angle: 76.94750555554026</br>_original_yhat_: 0.21179511646378305</br>"
          ],
          [
           "</br>id: 2929</br>prediction: 0.954</br>distance: 80.03739719960768</br></br>h_a: 0.0</br>situation: 1.0</br>shotType: 0.0</br>lastAction: 14.0</br>minute: 41</br>angle: 76.94750555554026</br>_original_yhat_: 0.21179511646378305</br>"
          ],
          [
           "</br>id: 2929</br>prediction: 0.954</br>distance: 81.06419890669692</br></br>h_a: 0.0</br>situation: 1.0</br>shotType: 0.0</br>lastAction: 14.0</br>minute: 41</br>angle: 76.94750555554026</br>_original_yhat_: 0.21179511646378305</br>"
          ],
          [
           "</br>id: 2929</br>prediction: 0.954</br>distance: 82.09100061378615</br></br>h_a: 0.0</br>situation: 1.0</br>shotType: 0.0</br>lastAction: 14.0</br>minute: 41</br>angle: 76.94750555554026</br>_original_yhat_: 0.21179511646378305</br>"
          ],
          [
           "</br>id: 2929</br>prediction: 0.954</br>distance: 83.11780232087538</br></br>h_a: 0.0</br>situation: 1.0</br>shotType: 0.0</br>lastAction: 14.0</br>minute: 41</br>angle: 76.94750555554026</br>_original_yhat_: 0.21179511646378305</br>"
          ],
          [
           "</br>id: 2929</br>prediction: 0.954</br>distance: 84.14460402796462</br></br>h_a: 0.0</br>situation: 1.0</br>shotType: 0.0</br>lastAction: 14.0</br>minute: 41</br>angle: 76.94750555554026</br>_original_yhat_: 0.21179511646378305</br>"
          ],
          [
           "</br>id: 2929</br>prediction: 0.954</br>distance: 85.17140573505384</br></br>h_a: 0.0</br>situation: 1.0</br>shotType: 0.0</br>lastAction: 14.0</br>minute: 41</br>angle: 76.94750555554026</br>_original_yhat_: 0.21179511646378305</br>"
          ],
          [
           "</br>id: 2929</br>prediction: 0.954</br>distance: 86.19820744214307</br></br>h_a: 0.0</br>situation: 1.0</br>shotType: 0.0</br>lastAction: 14.0</br>minute: 41</br>angle: 76.94750555554026</br>_original_yhat_: 0.21179511646378305</br>"
          ],
          [
           "</br>id: 2929</br>prediction: 0.954</br>distance: 87.2250091492323</br></br>h_a: 0.0</br>situation: 1.0</br>shotType: 0.0</br>lastAction: 14.0</br>minute: 41</br>angle: 76.94750555554026</br>_original_yhat_: 0.21179511646378305</br>"
          ],
          [
           "</br>id: 2929</br>prediction: 0.954</br>distance: 88.25181085632154</br></br>h_a: 0.0</br>situation: 1.0</br>shotType: 0.0</br>lastAction: 14.0</br>minute: 41</br>angle: 76.94750555554026</br>_original_yhat_: 0.21179511646378305</br>"
          ],
          [
           "</br>id: 2929</br>prediction: 0.954</br>distance: 89.27861256341077</br></br>h_a: 0.0</br>situation: 1.0</br>shotType: 0.0</br>lastAction: 14.0</br>minute: 41</br>angle: 76.94750555554026</br>_original_yhat_: 0.21179511646378305</br>"
          ],
          [
           "</br>id: 2929</br>prediction: 0.954</br>distance: 90.3054142705</br></br>h_a: 0.0</br>situation: 1.0</br>shotType: 0.0</br>lastAction: 14.0</br>minute: 41</br>angle: 76.94750555554026</br>_original_yhat_: 0.21179511646378305</br>"
          ],
          [
           "</br>id: 2929</br>prediction: 0.954</br>distance: 91.33221597758923</br></br>h_a: 0.0</br>situation: 1.0</br>shotType: 0.0</br>lastAction: 14.0</br>minute: 41</br>angle: 76.94750555554026</br>_original_yhat_: 0.21179511646378305</br>"
          ],
          [
           "</br>id: 2929</br>prediction: 0.954</br>distance: 92.35901768467846</br></br>h_a: 0.0</br>situation: 1.0</br>shotType: 0.0</br>lastAction: 14.0</br>minute: 41</br>angle: 76.94750555554026</br>_original_yhat_: 0.21179511646378305</br>"
          ],
          [
           "</br>id: 2929</br>prediction: 0.954</br>distance: 93.3858193917677</br></br>h_a: 0.0</br>situation: 1.0</br>shotType: 0.0</br>lastAction: 14.0</br>minute: 41</br>angle: 76.94750555554026</br>_original_yhat_: 0.21179511646378305</br>"
          ],
          [
           "</br>id: 2929</br>prediction: 0.954</br>distance: 94.41262109885693</br></br>h_a: 0.0</br>situation: 1.0</br>shotType: 0.0</br>lastAction: 14.0</br>minute: 41</br>angle: 76.94750555554026</br>_original_yhat_: 0.21179511646378305</br>"
          ],
          [
           "</br>id: 2929</br>prediction: 0.954</br>distance: 95.43942280594615</br></br>h_a: 0.0</br>situation: 1.0</br>shotType: 0.0</br>lastAction: 14.0</br>minute: 41</br>angle: 76.94750555554026</br>_original_yhat_: 0.21179511646378305</br>"
          ],
          [
           "</br>id: 2929</br>prediction: 0.954</br>distance: 96.46622451303539</br></br>h_a: 0.0</br>situation: 1.0</br>shotType: 0.0</br>lastAction: 14.0</br>minute: 41</br>angle: 76.94750555554026</br>_original_yhat_: 0.21179511646378305</br>"
          ],
          [
           "</br>id: 2929</br>prediction: 0.954</br>distance: 97.49302622012462</br></br>h_a: 0.0</br>situation: 1.0</br>shotType: 0.0</br>lastAction: 14.0</br>minute: 41</br>angle: 76.94750555554026</br>_original_yhat_: 0.21179511646378305</br>"
          ],
          [
           "</br>id: 2929</br>prediction: 0.954</br>distance: 98.51982792721385</br></br>h_a: 0.0</br>situation: 1.0</br>shotType: 0.0</br>lastAction: 14.0</br>minute: 41</br>angle: 76.94750555554026</br>_original_yhat_: 0.21179511646378305</br>"
          ],
          [
           "</br>id: 2929</br>prediction: 0.954</br>distance: 99.54662963430307</br></br>h_a: 0.0</br>situation: 1.0</br>shotType: 0.0</br>lastAction: 14.0</br>minute: 41</br>angle: 76.94750555554026</br>_original_yhat_: 0.21179511646378305</br>"
          ],
          [
           "</br>id: 2929</br>prediction: 0.954</br>distance: 100.57343134139231</br></br>h_a: 0.0</br>situation: 1.0</br>shotType: 0.0</br>lastAction: 14.0</br>minute: 41</br>angle: 76.94750555554026</br>_original_yhat_: 0.21179511646378305</br>"
          ],
          [
           "</br>id: 2929</br>prediction: 0.954</br>distance: 101.60023304848154</br></br>h_a: 0.0</br>situation: 1.0</br>shotType: 0.0</br>lastAction: 14.0</br>minute: 41</br>angle: 76.94750555554026</br>_original_yhat_: 0.21179511646378305</br>"
          ],
          [
           "</br>id: 2929</br>prediction: 0.954</br>distance: 102.62703475557078</br></br>h_a: 0.0</br>situation: 1.0</br>shotType: 0.0</br>lastAction: 14.0</br>minute: 41</br>angle: 76.94750555554026</br>_original_yhat_: 0.21179511646378305</br>"
          ],
          [
           "</br>id: 2929</br>prediction: 0.954</br>distance: 103.65383646266001</br></br>h_a: 0.0</br>situation: 1.0</br>shotType: 0.0</br>lastAction: 14.0</br>minute: 41</br>angle: 76.94750555554026</br>_original_yhat_: 0.21179511646378305</br>"
          ]
         ],
         "hovertemplate": "%{customdata[0]}<extra></extra>",
         "legendgroup": "GradientBoostingClassifier",
         "line": {
          "color": "#4378bf",
          "dash": "solid",
          "width": 2
         },
         "marker": {
          "symbol": "circle"
         },
         "mode": "lines",
         "name": "GradientBoostingClassifier",
         "opacity": 1,
         "showlegend": false,
         "type": "scattergl",
         "x": [
          0.9736657537368798,
          2.000467460826111,
          3.0272691679153425,
          4.054070875004573,
          4.588861943363718,
          5.0808725820938045,
          6.107674289183036,
          7.134475996272267,
          8.161277703361499,
          9.18807941045073,
          10.21488111753996,
          11.241682824629192,
          12.268484531718423,
          13.295286238807654,
          14.322087945896886,
          15.348889652986117,
          16.37569136007535,
          17.40249306716458,
          18.429294774253812,
          19.456096481343042,
          20.482898188432276,
          21.509699895521507,
          22.536501602610738,
          23.56330330969997,
          24.5901050167892,
          25.61690672387843,
          26.643708430967664,
          27.670510138056894,
          28.697311845146125,
          29.724113552235355,
          30.750915259324586,
          31.77771696641382,
          32.80451867350305,
          33.83132038059228,
          34.858122087681515,
          35.88492379477074,
          36.911725501859976,
          37.9385272089492,
          38.96532891603844,
          39.99213062312767,
          41.0189323302169,
          42.04573403730613,
          43.07253574439536,
          44.099337451484594,
          45.12613915857383,
          46.152940865663055,
          47.17974257275229,
          48.206544279841516,
          49.23334598693075,
          50.26014769401998,
          51.28694940110921,
          52.313751108198446,
          53.34055281528767,
          54.36735452237691,
          55.394156229466134,
          56.42095793655537,
          57.4477596436446,
          58.47456135073383,
          59.50136305782306,
          60.52816476491229,
          61.554966472001524,
          62.58176817909076,
          63.608569886179986,
          64.63537159326921,
          65.66217330035845,
          66.68897500744768,
          67.71577671453691,
          68.74257842162615,
          69.76938012871537,
          70.7961818358046,
          71.82298354289384,
          72.84978524998307,
          73.8765869570723,
          74.90338866416153,
          75.93019037125076,
          76.95699207834,
          77.98379378542923,
          79.01059549251846,
          80.03739719960768,
          81.06419890669692,
          82.09100061378615,
          83.11780232087538,
          84.14460402796462,
          85.17140573505384,
          86.19820744214307,
          87.2250091492323,
          88.25181085632154,
          89.27861256341077,
          90.3054142705,
          91.33221597758923,
          92.35901768467846,
          93.3858193917677,
          94.41262109885693,
          95.43942280594615,
          96.46622451303539,
          97.49302622012462,
          98.51982792721385,
          99.54662963430307,
          100.57343134139231,
          101.60023304848154,
          102.62703475557078,
          103.65383646266001
         ],
         "xaxis": "x4",
         "y": [
          0.8776121377472481,
          0.8723449310512428,
          0.17822240043322551,
          0.2124189201585215,
          0.21179511646378305,
          0.1830598590232116,
          0.2742982424868963,
          0.19269741882885313,
          0.15863954885793696,
          0.2869109089966456,
          0.35244896038550166,
          0.31575861625204565,
          0.3364480532205856,
          0.3364480532205856,
          0.3364480532205856,
          0.3364480532205856,
          0.47812696768573604,
          0.47812696768573604,
          0.47812696768573604,
          0.5152300621923869,
          0.3759098391966013,
          0.3759098391966013,
          0.39375232661713183,
          0.39375232661713183,
          0.39375232661713183,
          0.46239166031911466,
          0.9659133572770846,
          0.9659133572770846,
          0.9659133572770846,
          0.9659133572770846,
          0.9705989168768446,
          0.9540111806926955,
          0.9540111806926955,
          0.9540111806926955,
          0.9540111806926955,
          0.9540111806926955,
          0.9540111806926955,
          0.9540111806926955,
          0.9540111806926955,
          0.9540111806926955,
          0.9540111806926955,
          0.9540111806926955,
          0.9540111806926955,
          0.9540111806926955,
          0.9540111806926955,
          0.9540111806926955,
          0.9540111806926955,
          0.9540111806926955,
          0.9540111806926955,
          0.9540111806926955,
          0.9540111806926955,
          0.9540111806926955,
          0.9540111806926955,
          0.9540111806926955,
          0.9540111806926955,
          0.9540111806926955,
          0.9540111806926955,
          0.9540111806926955,
          0.9540111806926955,
          0.9540111806926955,
          0.9540111806926955,
          0.9540111806926955,
          0.9540111806926955,
          0.9540111806926955,
          0.9540111806926955,
          0.9540111806926955,
          0.9540111806926955,
          0.9540111806926955,
          0.9540111806926955,
          0.9540111806926955,
          0.9540111806926955,
          0.9540111806926955,
          0.9540111806926955,
          0.9540111806926955,
          0.9540111806926955,
          0.9540111806926955,
          0.9540111806926955,
          0.9540111806926955,
          0.9540111806926955,
          0.9540111806926955,
          0.9540111806926955,
          0.9540111806926955,
          0.9540111806926955,
          0.9540111806926955,
          0.9540111806926955,
          0.9540111806926955,
          0.9540111806926955,
          0.9540111806926955,
          0.9540111806926955,
          0.9540111806926955,
          0.9540111806926955,
          0.9540111806926955,
          0.9540111806926955,
          0.9540111806926955,
          0.9540111806926955,
          0.9540111806926955,
          0.9540111806926955,
          0.9540111806926955,
          0.9540111806926955,
          0.9540111806926955,
          0.9540111806926955,
          0.9540111806926955
         ],
         "yaxis": "y4"
        },
        {
         "customdata": [
          [
           "</br>id: 2929</br>prediction: 0.241</br>angle: 2.0520442300827204</br></br>h_a: 0.0</br>situation: 1.0</br>shotType: 0.0</br>lastAction: 14.0</br>minute: 41</br>distance: 4.588861943363718</br>_original_yhat_: 0.21179511646378305</br>"
          ],
          [
           "</br>id: 2929</br>prediction: 0.241</br>angle: 2.929528255455247</br></br>h_a: 0.0</br>situation: 1.0</br>shotType: 0.0</br>lastAction: 14.0</br>minute: 41</br>distance: 4.588861943363718</br>_original_yhat_: 0.21179511646378305</br>"
          ],
          [
           "</br>id: 2929</br>prediction: 0.241</br>angle: 3.8070122808277738</br></br>h_a: 0.0</br>situation: 1.0</br>shotType: 0.0</br>lastAction: 14.0</br>minute: 41</br>distance: 4.588861943363718</br>_original_yhat_: 0.21179511646378305</br>"
          ],
          [
           "</br>id: 2929</br>prediction: 0.241</br>angle: 4.6844963062003</br></br>h_a: 0.0</br>situation: 1.0</br>shotType: 0.0</br>lastAction: 14.0</br>minute: 41</br>distance: 4.588861943363718</br>_original_yhat_: 0.21179511646378305</br>"
          ],
          [
           "</br>id: 2929</br>prediction: 0.368</br>angle: 5.561980331572826</br></br>h_a: 0.0</br>situation: 1.0</br>shotType: 0.0</br>lastAction: 14.0</br>minute: 41</br>distance: 4.588861943363718</br>_original_yhat_: 0.21179511646378305</br>"
          ],
          [
           "</br>id: 2929</br>prediction: 0.283</br>angle: 6.439464356945353</br></br>h_a: 0.0</br>situation: 1.0</br>shotType: 0.0</br>lastAction: 14.0</br>minute: 41</br>distance: 4.588861943363718</br>_original_yhat_: 0.21179511646378305</br>"
          ],
          [
           "</br>id: 2929</br>prediction: 0.283</br>angle: 7.31694838231788</br></br>h_a: 0.0</br>situation: 1.0</br>shotType: 0.0</br>lastAction: 14.0</br>minute: 41</br>distance: 4.588861943363718</br>_original_yhat_: 0.21179511646378305</br>"
          ],
          [
           "</br>id: 2929</br>prediction: 0.283</br>angle: 8.194432407690407</br></br>h_a: 0.0</br>situation: 1.0</br>shotType: 0.0</br>lastAction: 14.0</br>minute: 41</br>distance: 4.588861943363718</br>_original_yhat_: 0.21179511646378305</br>"
          ],
          [
           "</br>id: 2929</br>prediction: 0.283</br>angle: 9.071916433062933</br></br>h_a: 0.0</br>situation: 1.0</br>shotType: 0.0</br>lastAction: 14.0</br>minute: 41</br>distance: 4.588861943363718</br>_original_yhat_: 0.21179511646378305</br>"
          ],
          [
           "</br>id: 2929</br>prediction: 0.283</br>angle: 9.94940045843546</br></br>h_a: 0.0</br>situation: 1.0</br>shotType: 0.0</br>lastAction: 14.0</br>minute: 41</br>distance: 4.588861943363718</br>_original_yhat_: 0.21179511646378305</br>"
          ],
          [
           "</br>id: 2929</br>prediction: 0.283</br>angle: 10.826884483807987</br></br>h_a: 0.0</br>situation: 1.0</br>shotType: 0.0</br>lastAction: 14.0</br>minute: 41</br>distance: 4.588861943363718</br>_original_yhat_: 0.21179511646378305</br>"
          ],
          [
           "</br>id: 2929</br>prediction: 0.253</br>angle: 11.704368509180512</br></br>h_a: 0.0</br>situation: 1.0</br>shotType: 0.0</br>lastAction: 14.0</br>minute: 41</br>distance: 4.588861943363718</br>_original_yhat_: 0.21179511646378305</br>"
          ],
          [
           "</br>id: 2929</br>prediction: 0.238</br>angle: 12.58185253455304</br></br>h_a: 0.0</br>situation: 1.0</br>shotType: 0.0</br>lastAction: 14.0</br>minute: 41</br>distance: 4.588861943363718</br>_original_yhat_: 0.21179511646378305</br>"
          ],
          [
           "</br>id: 2929</br>prediction: 0.238</br>angle: 13.459336559925564</br></br>h_a: 0.0</br>situation: 1.0</br>shotType: 0.0</br>lastAction: 14.0</br>minute: 41</br>distance: 4.588861943363718</br>_original_yhat_: 0.21179511646378305</br>"
          ],
          [
           "</br>id: 2929</br>prediction: 0.238</br>angle: 14.336820585298092</br></br>h_a: 0.0</br>situation: 1.0</br>shotType: 0.0</br>lastAction: 14.0</br>minute: 41</br>distance: 4.588861943363718</br>_original_yhat_: 0.21179511646378305</br>"
          ],
          [
           "</br>id: 2929</br>prediction: 0.113</br>angle: 15.21430461067062</br></br>h_a: 0.0</br>situation: 1.0</br>shotType: 0.0</br>lastAction: 14.0</br>minute: 41</br>distance: 4.588861943363718</br>_original_yhat_: 0.21179511646378305</br>"
          ],
          [
           "</br>id: 2929</br>prediction: 0.115</br>angle: 16.091788636043145</br></br>h_a: 0.0</br>situation: 1.0</br>shotType: 0.0</br>lastAction: 14.0</br>minute: 41</br>distance: 4.588861943363718</br>_original_yhat_: 0.21179511646378305</br>"
          ],
          [
           "</br>id: 2929</br>prediction: 0.108</br>angle: 16.969272661415673</br></br>h_a: 0.0</br>situation: 1.0</br>shotType: 0.0</br>lastAction: 14.0</br>minute: 41</br>distance: 4.588861943363718</br>_original_yhat_: 0.21179511646378305</br>"
          ],
          [
           "</br>id: 2929</br>prediction: 0.108</br>angle: 17.846756686788197</br></br>h_a: 0.0</br>situation: 1.0</br>shotType: 0.0</br>lastAction: 14.0</br>minute: 41</br>distance: 4.588861943363718</br>_original_yhat_: 0.21179511646378305</br>"
          ],
          [
           "</br>id: 2929</br>prediction: 0.108</br>angle: 18.724240712160725</br></br>h_a: 0.0</br>situation: 1.0</br>shotType: 0.0</br>lastAction: 14.0</br>minute: 41</br>distance: 4.588861943363718</br>_original_yhat_: 0.21179511646378305</br>"
          ],
          [
           "</br>id: 2929</br>prediction: 0.108</br>angle: 19.601724737533253</br></br>h_a: 0.0</br>situation: 1.0</br>shotType: 0.0</br>lastAction: 14.0</br>minute: 41</br>distance: 4.588861943363718</br>_original_yhat_: 0.21179511646378305</br>"
          ],
          [
           "</br>id: 2929</br>prediction: 0.094</br>angle: 20.479208762905778</br></br>h_a: 0.0</br>situation: 1.0</br>shotType: 0.0</br>lastAction: 14.0</br>minute: 41</br>distance: 4.588861943363718</br>_original_yhat_: 0.21179511646378305</br>"
          ],
          [
           "</br>id: 2929</br>prediction: 0.094</br>angle: 21.356692788278306</br></br>h_a: 0.0</br>situation: 1.0</br>shotType: 0.0</br>lastAction: 14.0</br>minute: 41</br>distance: 4.588861943363718</br>_original_yhat_: 0.21179511646378305</br>"
          ],
          [
           "</br>id: 2929</br>prediction: 0.094</br>angle: 22.234176813650834</br></br>h_a: 0.0</br>situation: 1.0</br>shotType: 0.0</br>lastAction: 14.0</br>minute: 41</br>distance: 4.588861943363718</br>_original_yhat_: 0.21179511646378305</br>"
          ],
          [
           "</br>id: 2929</br>prediction: 0.094</br>angle: 23.111660839023358</br></br>h_a: 0.0</br>situation: 1.0</br>shotType: 0.0</br>lastAction: 14.0</br>minute: 41</br>distance: 4.588861943363718</br>_original_yhat_: 0.21179511646378305</br>"
          ],
          [
           "</br>id: 2929</br>prediction: 0.094</br>angle: 23.989144864395886</br></br>h_a: 0.0</br>situation: 1.0</br>shotType: 0.0</br>lastAction: 14.0</br>minute: 41</br>distance: 4.588861943363718</br>_original_yhat_: 0.21179511646378305</br>"
          ],
          [
           "</br>id: 2929</br>prediction: 0.094</br>angle: 24.86662888976841</br></br>h_a: 0.0</br>situation: 1.0</br>shotType: 0.0</br>lastAction: 14.0</br>minute: 41</br>distance: 4.588861943363718</br>_original_yhat_: 0.21179511646378305</br>"
          ],
          [
           "</br>id: 2929</br>prediction: 0.094</br>angle: 25.74411291514094</br></br>h_a: 0.0</br>situation: 1.0</br>shotType: 0.0</br>lastAction: 14.0</br>minute: 41</br>distance: 4.588861943363718</br>_original_yhat_: 0.21179511646378305</br>"
          ],
          [
           "</br>id: 2929</br>prediction: 0.097</br>angle: 26.621596940513466</br></br>h_a: 0.0</br>situation: 1.0</br>shotType: 0.0</br>lastAction: 14.0</br>minute: 41</br>distance: 4.588861943363718</br>_original_yhat_: 0.21179511646378305</br>"
          ],
          [
           "</br>id: 2929</br>prediction: 0.097</br>angle: 27.49908096588599</br></br>h_a: 0.0</br>situation: 1.0</br>shotType: 0.0</br>lastAction: 14.0</br>minute: 41</br>distance: 4.588861943363718</br>_original_yhat_: 0.21179511646378305</br>"
          ],
          [
           "</br>id: 2929</br>prediction: 0.097</br>angle: 28.37656499125852</br></br>h_a: 0.0</br>situation: 1.0</br>shotType: 0.0</br>lastAction: 14.0</br>minute: 41</br>distance: 4.588861943363718</br>_original_yhat_: 0.21179511646378305</br>"
          ],
          [
           "</br>id: 2929</br>prediction: 0.097</br>angle: 29.254049016631043</br></br>h_a: 0.0</br>situation: 1.0</br>shotType: 0.0</br>lastAction: 14.0</br>minute: 41</br>distance: 4.588861943363718</br>_original_yhat_: 0.21179511646378305</br>"
          ],
          [
           "</br>id: 2929</br>prediction: 0.097</br>angle: 30.13153304200357</br></br>h_a: 0.0</br>situation: 1.0</br>shotType: 0.0</br>lastAction: 14.0</br>minute: 41</br>distance: 4.588861943363718</br>_original_yhat_: 0.21179511646378305</br>"
          ],
          [
           "</br>id: 2929</br>prediction: 0.097</br>angle: 31.0090170673761</br></br>h_a: 0.0</br>situation: 1.0</br>shotType: 0.0</br>lastAction: 14.0</br>minute: 41</br>distance: 4.588861943363718</br>_original_yhat_: 0.21179511646378305</br>"
          ],
          [
           "</br>id: 2929</br>prediction: 0.097</br>angle: 31.886501092748624</br></br>h_a: 0.0</br>situation: 1.0</br>shotType: 0.0</br>lastAction: 14.0</br>minute: 41</br>distance: 4.588861943363718</br>_original_yhat_: 0.21179511646378305</br>"
          ],
          [
           "</br>id: 2929</br>prediction: 0.097</br>angle: 32.76398511812115</br></br>h_a: 0.0</br>situation: 1.0</br>shotType: 0.0</br>lastAction: 14.0</br>minute: 41</br>distance: 4.588861943363718</br>_original_yhat_: 0.21179511646378305</br>"
          ],
          [
           "</br>id: 2929</br>prediction: 0.27</br>angle: 33.64146914349367</br></br>h_a: 0.0</br>situation: 1.0</br>shotType: 0.0</br>lastAction: 14.0</br>minute: 41</br>distance: 4.588861943363718</br>_original_yhat_: 0.21179511646378305</br>"
          ],
          [
           "</br>id: 2929</br>prediction: 0.27</br>angle: 34.518953168866204</br></br>h_a: 0.0</br>situation: 1.0</br>shotType: 0.0</br>lastAction: 14.0</br>minute: 41</br>distance: 4.588861943363718</br>_original_yhat_: 0.21179511646378305</br>"
          ],
          [
           "</br>id: 2929</br>prediction: 0.27</br>angle: 35.39643719423873</br></br>h_a: 0.0</br>situation: 1.0</br>shotType: 0.0</br>lastAction: 14.0</br>minute: 41</br>distance: 4.588861943363718</br>_original_yhat_: 0.21179511646378305</br>"
          ],
          [
           "</br>id: 2929</br>prediction: 0.27</br>angle: 36.27392121961126</br></br>h_a: 0.0</br>situation: 1.0</br>shotType: 0.0</br>lastAction: 14.0</br>minute: 41</br>distance: 4.588861943363718</br>_original_yhat_: 0.21179511646378305</br>"
          ],
          [
           "</br>id: 2929</br>prediction: 0.253</br>angle: 37.151405244983785</br></br>h_a: 0.0</br>situation: 1.0</br>shotType: 0.0</br>lastAction: 14.0</br>minute: 41</br>distance: 4.588861943363718</br>_original_yhat_: 0.21179511646378305</br>"
          ],
          [
           "</br>id: 2929</br>prediction: 0.441</br>angle: 38.02888927035631</br></br>h_a: 0.0</br>situation: 1.0</br>shotType: 0.0</br>lastAction: 14.0</br>minute: 41</br>distance: 4.588861943363718</br>_original_yhat_: 0.21179511646378305</br>"
          ],
          [
           "</br>id: 2929</br>prediction: 0.321</br>angle: 38.906373295728834</br></br>h_a: 0.0</br>situation: 1.0</br>shotType: 0.0</br>lastAction: 14.0</br>minute: 41</br>distance: 4.588861943363718</br>_original_yhat_: 0.21179511646378305</br>"
          ],
          [
           "</br>id: 2929</br>prediction: 0.321</br>angle: 39.783857321101365</br></br>h_a: 0.0</br>situation: 1.0</br>shotType: 0.0</br>lastAction: 14.0</br>minute: 41</br>distance: 4.588861943363718</br>_original_yhat_: 0.21179511646378305</br>"
          ],
          [
           "</br>id: 2929</br>prediction: 0.321</br>angle: 40.66134134647389</br></br>h_a: 0.0</br>situation: 1.0</br>shotType: 0.0</br>lastAction: 14.0</br>minute: 41</br>distance: 4.588861943363718</br>_original_yhat_: 0.21179511646378305</br>"
          ],
          [
           "</br>id: 2929</br>prediction: 0.292</br>angle: 41.538825371846414</br></br>h_a: 0.0</br>situation: 1.0</br>shotType: 0.0</br>lastAction: 14.0</br>minute: 41</br>distance: 4.588861943363718</br>_original_yhat_: 0.21179511646378305</br>"
          ],
          [
           "</br>id: 2929</br>prediction: 0.292</br>angle: 42.416309397218946</br></br>h_a: 0.0</br>situation: 1.0</br>shotType: 0.0</br>lastAction: 14.0</br>minute: 41</br>distance: 4.588861943363718</br>_original_yhat_: 0.21179511646378305</br>"
          ],
          [
           "</br>id: 2929</br>prediction: 0.292</br>angle: 43.29379342259147</br></br>h_a: 0.0</br>situation: 1.0</br>shotType: 0.0</br>lastAction: 14.0</br>minute: 41</br>distance: 4.588861943363718</br>_original_yhat_: 0.21179511646378305</br>"
          ],
          [
           "</br>id: 2929</br>prediction: 0.281</br>angle: 44.171277447963995</br></br>h_a: 0.0</br>situation: 1.0</br>shotType: 0.0</br>lastAction: 14.0</br>minute: 41</br>distance: 4.588861943363718</br>_original_yhat_: 0.21179511646378305</br>"
          ],
          [
           "</br>id: 2929</br>prediction: 0.297</br>angle: 45.048761473336526</br></br>h_a: 0.0</br>situation: 1.0</br>shotType: 0.0</br>lastAction: 14.0</br>minute: 41</br>distance: 4.588861943363718</br>_original_yhat_: 0.21179511646378305</br>"
          ],
          [
           "</br>id: 2929</br>prediction: 0.297</br>angle: 45.92624549870905</br></br>h_a: 0.0</br>situation: 1.0</br>shotType: 0.0</br>lastAction: 14.0</br>minute: 41</br>distance: 4.588861943363718</br>_original_yhat_: 0.21179511646378305</br>"
          ],
          [
           "</br>id: 2929</br>prediction: 0.285</br>angle: 46.803729524081575</br></br>h_a: 0.0</br>situation: 1.0</br>shotType: 0.0</br>lastAction: 14.0</br>minute: 41</br>distance: 4.588861943363718</br>_original_yhat_: 0.21179511646378305</br>"
          ],
          [
           "</br>id: 2929</br>prediction: 0.285</br>angle: 47.6812135494541</br></br>h_a: 0.0</br>situation: 1.0</br>shotType: 0.0</br>lastAction: 14.0</br>minute: 41</br>distance: 4.588861943363718</br>_original_yhat_: 0.21179511646378305</br>"
          ],
          [
           "</br>id: 2929</br>prediction: 0.285</br>angle: 48.55869757482663</br></br>h_a: 0.0</br>situation: 1.0</br>shotType: 0.0</br>lastAction: 14.0</br>minute: 41</br>distance: 4.588861943363718</br>_original_yhat_: 0.21179511646378305</br>"
          ],
          [
           "</br>id: 2929</br>prediction: 0.262</br>angle: 49.436181600199156</br></br>h_a: 0.0</br>situation: 1.0</br>shotType: 0.0</br>lastAction: 14.0</br>minute: 41</br>distance: 4.588861943363718</br>_original_yhat_: 0.21179511646378305</br>"
          ],
          [
           "</br>id: 2929</br>prediction: 0.3</br>angle: 50.31366562557168</br></br>h_a: 0.0</br>situation: 1.0</br>shotType: 0.0</br>lastAction: 14.0</br>minute: 41</br>distance: 4.588861943363718</br>_original_yhat_: 0.21179511646378305</br>"
          ],
          [
           "</br>id: 2929</br>prediction: 0.3</br>angle: 51.19114965094421</br></br>h_a: 0.0</br>situation: 1.0</br>shotType: 0.0</br>lastAction: 14.0</br>minute: 41</br>distance: 4.588861943363718</br>_original_yhat_: 0.21179511646378305</br>"
          ],
          [
           "</br>id: 2929</br>prediction: 0.286</br>angle: 52.068633676316736</br></br>h_a: 0.0</br>situation: 1.0</br>shotType: 0.0</br>lastAction: 14.0</br>minute: 41</br>distance: 4.588861943363718</br>_original_yhat_: 0.21179511646378305</br>"
          ],
          [
           "</br>id: 2929</br>prediction: 0.286</br>angle: 52.94611770168926</br></br>h_a: 0.0</br>situation: 1.0</br>shotType: 0.0</br>lastAction: 14.0</br>minute: 41</br>distance: 4.588861943363718</br>_original_yhat_: 0.21179511646378305</br>"
          ],
          [
           "</br>id: 2929</br>prediction: 0.286</br>angle: 53.82360172706179</br></br>h_a: 0.0</br>situation: 1.0</br>shotType: 0.0</br>lastAction: 14.0</br>minute: 41</br>distance: 4.588861943363718</br>_original_yhat_: 0.21179511646378305</br>"
          ],
          [
           "</br>id: 2929</br>prediction: 0.286</br>angle: 54.70108575243432</br></br>h_a: 0.0</br>situation: 1.0</br>shotType: 0.0</br>lastAction: 14.0</br>minute: 41</br>distance: 4.588861943363718</br>_original_yhat_: 0.21179511646378305</br>"
          ],
          [
           "</br>id: 2929</br>prediction: 0.286</br>angle: 55.57856977780684</br></br>h_a: 0.0</br>situation: 1.0</br>shotType: 0.0</br>lastAction: 14.0</br>minute: 41</br>distance: 4.588861943363718</br>_original_yhat_: 0.21179511646378305</br>"
          ],
          [
           "</br>id: 2929</br>prediction: 0.286</br>angle: 56.456053803179366</br></br>h_a: 0.0</br>situation: 1.0</br>shotType: 0.0</br>lastAction: 14.0</br>minute: 41</br>distance: 4.588861943363718</br>_original_yhat_: 0.21179511646378305</br>"
          ],
          [
           "</br>id: 2929</br>prediction: 0.286</br>angle: 57.3335378285519</br></br>h_a: 0.0</br>situation: 1.0</br>shotType: 0.0</br>lastAction: 14.0</br>minute: 41</br>distance: 4.588861943363718</br>_original_yhat_: 0.21179511646378305</br>"
          ],
          [
           "</br>id: 2929</br>prediction: 0.286</br>angle: 58.21102185392442</br></br>h_a: 0.0</br>situation: 1.0</br>shotType: 0.0</br>lastAction: 14.0</br>minute: 41</br>distance: 4.588861943363718</br>_original_yhat_: 0.21179511646378305</br>"
          ],
          [
           "</br>id: 2929</br>prediction: 0.286</br>angle: 59.088505879296946</br></br>h_a: 0.0</br>situation: 1.0</br>shotType: 0.0</br>lastAction: 14.0</br>minute: 41</br>distance: 4.588861943363718</br>_original_yhat_: 0.21179511646378305</br>"
          ],
          [
           "</br>id: 2929</br>prediction: 0.286</br>angle: 59.96598990466948</br></br>h_a: 0.0</br>situation: 1.0</br>shotType: 0.0</br>lastAction: 14.0</br>minute: 41</br>distance: 4.588861943363718</br>_original_yhat_: 0.21179511646378305</br>"
          ],
          [
           "</br>id: 2929</br>prediction: 0.286</br>angle: 60.843473930042</br></br>h_a: 0.0</br>situation: 1.0</br>shotType: 0.0</br>lastAction: 14.0</br>minute: 41</br>distance: 4.588861943363718</br>_original_yhat_: 0.21179511646378305</br>"
          ],
          [
           "</br>id: 2929</br>prediction: 0.286</br>angle: 61.72095795541453</br></br>h_a: 0.0</br>situation: 1.0</br>shotType: 0.0</br>lastAction: 14.0</br>minute: 41</br>distance: 4.588861943363718</br>_original_yhat_: 0.21179511646378305</br>"
          ],
          [
           "</br>id: 2929</br>prediction: 0.286</br>angle: 62.59844198078705</br></br>h_a: 0.0</br>situation: 1.0</br>shotType: 0.0</br>lastAction: 14.0</br>minute: 41</br>distance: 4.588861943363718</br>_original_yhat_: 0.21179511646378305</br>"
          ],
          [
           "</br>id: 2929</br>prediction: 0.286</br>angle: 63.47592600615958</br></br>h_a: 0.0</br>situation: 1.0</br>shotType: 0.0</br>lastAction: 14.0</br>minute: 41</br>distance: 4.588861943363718</br>_original_yhat_: 0.21179511646378305</br>"
          ],
          [
           "</br>id: 2929</br>prediction: 0.266</br>angle: 64.3534100315321</br></br>h_a: 0.0</br>situation: 1.0</br>shotType: 0.0</br>lastAction: 14.0</br>minute: 41</br>distance: 4.588861943363718</br>_original_yhat_: 0.21179511646378305</br>"
          ],
          [
           "</br>id: 2929</br>prediction: 0.206</br>angle: 65.23089405690463</br></br>h_a: 0.0</br>situation: 1.0</br>shotType: 0.0</br>lastAction: 14.0</br>minute: 41</br>distance: 4.588861943363718</br>_original_yhat_: 0.21179511646378305</br>"
          ],
          [
           "</br>id: 2929</br>prediction: 0.206</br>angle: 66.10837808227716</br></br>h_a: 0.0</br>situation: 1.0</br>shotType: 0.0</br>lastAction: 14.0</br>minute: 41</br>distance: 4.588861943363718</br>_original_yhat_: 0.21179511646378305</br>"
          ],
          [
           "</br>id: 2929</br>prediction: 0.206</br>angle: 66.98586210764968</br></br>h_a: 0.0</br>situation: 1.0</br>shotType: 0.0</br>lastAction: 14.0</br>minute: 41</br>distance: 4.588861943363718</br>_original_yhat_: 0.21179511646378305</br>"
          ],
          [
           "</br>id: 2929</br>prediction: 0.206</br>angle: 67.8633461330222</br></br>h_a: 0.0</br>situation: 1.0</br>shotType: 0.0</br>lastAction: 14.0</br>minute: 41</br>distance: 4.588861943363718</br>_original_yhat_: 0.21179511646378305</br>"
          ],
          [
           "</br>id: 2929</br>prediction: 0.206</br>angle: 68.74083015839473</br></br>h_a: 0.0</br>situation: 1.0</br>shotType: 0.0</br>lastAction: 14.0</br>minute: 41</br>distance: 4.588861943363718</br>_original_yhat_: 0.21179511646378305</br>"
          ],
          [
           "</br>id: 2929</br>prediction: 0.206</br>angle: 69.61831418376725</br></br>h_a: 0.0</br>situation: 1.0</br>shotType: 0.0</br>lastAction: 14.0</br>minute: 41</br>distance: 4.588861943363718</br>_original_yhat_: 0.21179511646378305</br>"
          ],
          [
           "</br>id: 2929</br>prediction: 0.206</br>angle: 70.49579820913979</br></br>h_a: 0.0</br>situation: 1.0</br>shotType: 0.0</br>lastAction: 14.0</br>minute: 41</br>distance: 4.588861943363718</br>_original_yhat_: 0.21179511646378305</br>"
          ],
          [
           "</br>id: 2929</br>prediction: 0.206</br>angle: 71.37328223451232</br></br>h_a: 0.0</br>situation: 1.0</br>shotType: 0.0</br>lastAction: 14.0</br>minute: 41</br>distance: 4.588861943363718</br>_original_yhat_: 0.21179511646378305</br>"
          ],
          [
           "</br>id: 2929</br>prediction: 0.206</br>angle: 72.25076625988484</br></br>h_a: 0.0</br>situation: 1.0</br>shotType: 0.0</br>lastAction: 14.0</br>minute: 41</br>distance: 4.588861943363718</br>_original_yhat_: 0.21179511646378305</br>"
          ],
          [
           "</br>id: 2929</br>prediction: 0.206</br>angle: 73.12825028525737</br></br>h_a: 0.0</br>situation: 1.0</br>shotType: 0.0</br>lastAction: 14.0</br>minute: 41</br>distance: 4.588861943363718</br>_original_yhat_: 0.21179511646378305</br>"
          ],
          [
           "</br>id: 2929</br>prediction: 0.206</br>angle: 74.00573431062989</br></br>h_a: 0.0</br>situation: 1.0</br>shotType: 0.0</br>lastAction: 14.0</br>minute: 41</br>distance: 4.588861943363718</br>_original_yhat_: 0.21179511646378305</br>"
          ],
          [
           "</br>id: 2929</br>prediction: 0.206</br>angle: 74.88321833600241</br></br>h_a: 0.0</br>situation: 1.0</br>shotType: 0.0</br>lastAction: 14.0</br>minute: 41</br>distance: 4.588861943363718</br>_original_yhat_: 0.21179511646378305</br>"
          ],
          [
           "</br>id: 2929</br>prediction: 0.212</br>angle: 75.76070236137494</br></br>h_a: 0.0</br>situation: 1.0</br>shotType: 0.0</br>lastAction: 14.0</br>minute: 41</br>distance: 4.588861943363718</br>_original_yhat_: 0.21179511646378305</br>"
          ],
          [
           "</br>id: 2929</br>prediction: 0.212</br>angle: 76.63818638674748</br></br>h_a: 0.0</br>situation: 1.0</br>shotType: 0.0</br>lastAction: 14.0</br>minute: 41</br>distance: 4.588861943363718</br>_original_yhat_: 0.21179511646378305</br>"
          ],
          [
           "</br>id: 2929</br>prediction: 0.212</br>angle: 76.94750555554026</br></br>h_a: 0.0</br>situation: 1.0</br>shotType: 0.0</br>lastAction: 14.0</br>minute: 41</br>distance: 4.588861943363718</br>_original_yhat_: 0.21179511646378305</br>"
          ],
          [
           "</br>id: 2929</br>prediction: 0.212</br>angle: 77.51567041212</br></br>h_a: 0.0</br>situation: 1.0</br>shotType: 0.0</br>lastAction: 14.0</br>minute: 41</br>distance: 4.588861943363718</br>_original_yhat_: 0.21179511646378305</br>"
          ],
          [
           "</br>id: 2929</br>prediction: 0.212</br>angle: 78.39315443749253</br></br>h_a: 0.0</br>situation: 1.0</br>shotType: 0.0</br>lastAction: 14.0</br>minute: 41</br>distance: 4.588861943363718</br>_original_yhat_: 0.21179511646378305</br>"
          ],
          [
           "</br>id: 2929</br>prediction: 0.212</br>angle: 79.27063846286505</br></br>h_a: 0.0</br>situation: 1.0</br>shotType: 0.0</br>lastAction: 14.0</br>minute: 41</br>distance: 4.588861943363718</br>_original_yhat_: 0.21179511646378305</br>"
          ],
          [
           "</br>id: 2929</br>prediction: 0.212</br>angle: 80.14812248823758</br></br>h_a: 0.0</br>situation: 1.0</br>shotType: 0.0</br>lastAction: 14.0</br>minute: 41</br>distance: 4.588861943363718</br>_original_yhat_: 0.21179511646378305</br>"
          ],
          [
           "</br>id: 2929</br>prediction: 0.212</br>angle: 81.0256065136101</br></br>h_a: 0.0</br>situation: 1.0</br>shotType: 0.0</br>lastAction: 14.0</br>minute: 41</br>distance: 4.588861943363718</br>_original_yhat_: 0.21179511646378305</br>"
          ],
          [
           "</br>id: 2929</br>prediction: 0.212</br>angle: 81.90309053898264</br></br>h_a: 0.0</br>situation: 1.0</br>shotType: 0.0</br>lastAction: 14.0</br>minute: 41</br>distance: 4.588861943363718</br>_original_yhat_: 0.21179511646378305</br>"
          ],
          [
           "</br>id: 2929</br>prediction: 0.212</br>angle: 82.78057456435516</br></br>h_a: 0.0</br>situation: 1.0</br>shotType: 0.0</br>lastAction: 14.0</br>minute: 41</br>distance: 4.588861943363718</br>_original_yhat_: 0.21179511646378305</br>"
          ],
          [
           "</br>id: 2929</br>prediction: 0.206</br>angle: 83.65805858972769</br></br>h_a: 0.0</br>situation: 1.0</br>shotType: 0.0</br>lastAction: 14.0</br>minute: 41</br>distance: 4.588861943363718</br>_original_yhat_: 0.21179511646378305</br>"
          ],
          [
           "</br>id: 2929</br>prediction: 0.206</br>angle: 84.53554261510021</br></br>h_a: 0.0</br>situation: 1.0</br>shotType: 0.0</br>lastAction: 14.0</br>minute: 41</br>distance: 4.588861943363718</br>_original_yhat_: 0.21179511646378305</br>"
          ],
          [
           "</br>id: 2929</br>prediction: 0.206</br>angle: 85.41302664047274</br></br>h_a: 0.0</br>situation: 1.0</br>shotType: 0.0</br>lastAction: 14.0</br>minute: 41</br>distance: 4.588861943363718</br>_original_yhat_: 0.21179511646378305</br>"
          ],
          [
           "</br>id: 2929</br>prediction: 0.206</br>angle: 86.29051066584526</br></br>h_a: 0.0</br>situation: 1.0</br>shotType: 0.0</br>lastAction: 14.0</br>minute: 41</br>distance: 4.588861943363718</br>_original_yhat_: 0.21179511646378305</br>"
          ],
          [
           "</br>id: 2929</br>prediction: 0.206</br>angle: 87.16799469121779</br></br>h_a: 0.0</br>situation: 1.0</br>shotType: 0.0</br>lastAction: 14.0</br>minute: 41</br>distance: 4.588861943363718</br>_original_yhat_: 0.21179511646378305</br>"
          ],
          [
           "</br>id: 2929</br>prediction: 0.304</br>angle: 88.04547871659032</br></br>h_a: 0.0</br>situation: 1.0</br>shotType: 0.0</br>lastAction: 14.0</br>minute: 41</br>distance: 4.588861943363718</br>_original_yhat_: 0.21179511646378305</br>"
          ],
          [
           "</br>id: 2929</br>prediction: 0.263</br>angle: 88.92296274196285</br></br>h_a: 0.0</br>situation: 1.0</br>shotType: 0.0</br>lastAction: 14.0</br>minute: 41</br>distance: 4.588861943363718</br>_original_yhat_: 0.21179511646378305</br>"
          ],
          [
           "</br>id: 2929</br>prediction: 0.368</br>angle: 89.80044676733537</br></br>h_a: 0.0</br>situation: 1.0</br>shotType: 0.0</br>lastAction: 14.0</br>minute: 41</br>distance: 4.588861943363718</br>_original_yhat_: 0.21179511646378305</br>"
          ]
         ],
         "hovertemplate": "%{customdata[0]}<extra></extra>",
         "legendgroup": "GradientBoostingClassifier",
         "line": {
          "color": "#4378bf",
          "dash": "solid",
          "width": 2
         },
         "marker": {
          "symbol": "circle"
         },
         "mode": "lines",
         "name": "GradientBoostingClassifier",
         "opacity": 1,
         "showlegend": false,
         "type": "scattergl",
         "x": [
          2.0520442300827204,
          2.929528255455247,
          3.8070122808277738,
          4.6844963062003,
          5.561980331572826,
          6.439464356945353,
          7.31694838231788,
          8.194432407690407,
          9.071916433062933,
          9.94940045843546,
          10.826884483807987,
          11.704368509180512,
          12.58185253455304,
          13.459336559925564,
          14.336820585298092,
          15.21430461067062,
          16.091788636043145,
          16.969272661415673,
          17.846756686788197,
          18.724240712160725,
          19.601724737533253,
          20.479208762905778,
          21.356692788278306,
          22.234176813650834,
          23.111660839023358,
          23.989144864395886,
          24.86662888976841,
          25.74411291514094,
          26.621596940513466,
          27.49908096588599,
          28.37656499125852,
          29.254049016631043,
          30.13153304200357,
          31.0090170673761,
          31.886501092748624,
          32.76398511812115,
          33.64146914349367,
          34.518953168866204,
          35.39643719423873,
          36.27392121961126,
          37.151405244983785,
          38.02888927035631,
          38.906373295728834,
          39.783857321101365,
          40.66134134647389,
          41.538825371846414,
          42.416309397218946,
          43.29379342259147,
          44.171277447963995,
          45.048761473336526,
          45.92624549870905,
          46.803729524081575,
          47.6812135494541,
          48.55869757482663,
          49.436181600199156,
          50.31366562557168,
          51.19114965094421,
          52.068633676316736,
          52.94611770168926,
          53.82360172706179,
          54.70108575243432,
          55.57856977780684,
          56.456053803179366,
          57.3335378285519,
          58.21102185392442,
          59.088505879296946,
          59.96598990466948,
          60.843473930042,
          61.72095795541453,
          62.59844198078705,
          63.47592600615958,
          64.3534100315321,
          65.23089405690463,
          66.10837808227716,
          66.98586210764968,
          67.8633461330222,
          68.74083015839473,
          69.61831418376725,
          70.49579820913979,
          71.37328223451232,
          72.25076625988484,
          73.12825028525737,
          74.00573431062989,
          74.88321833600241,
          75.76070236137494,
          76.63818638674748,
          76.94750555554026,
          77.51567041212,
          78.39315443749253,
          79.27063846286505,
          80.14812248823758,
          81.0256065136101,
          81.90309053898264,
          82.78057456435516,
          83.65805858972769,
          84.53554261510021,
          85.41302664047274,
          86.29051066584526,
          87.16799469121779,
          88.04547871659032,
          88.92296274196285,
          89.80044676733537
         ],
         "xaxis": "x",
         "y": [
          0.24127183646704883,
          0.24127183646704883,
          0.24127183646704883,
          0.24127183646704883,
          0.36844029868278855,
          0.2831781453211653,
          0.2831781453211653,
          0.2831781453211653,
          0.2831781453211653,
          0.2831781453211653,
          0.2831781453211653,
          0.2533038849264236,
          0.2380441532523594,
          0.2380441532523594,
          0.2380441532523594,
          0.11253741199096605,
          0.11457383758810234,
          0.10833150963309449,
          0.10833150963309449,
          0.10833150963309449,
          0.10833150963309449,
          0.09384539500174977,
          0.09384539500174977,
          0.09384539500174977,
          0.09384539500174977,
          0.09384539500174977,
          0.09384539500174977,
          0.09384539500174977,
          0.0972090181577599,
          0.0972090181577599,
          0.0972090181577599,
          0.0972090181577599,
          0.0972090181577599,
          0.0972090181577599,
          0.0972090181577599,
          0.0972090181577599,
          0.26989957715718577,
          0.26989957715718577,
          0.26989957715718577,
          0.26989957715718577,
          0.253191062527119,
          0.44083216136423153,
          0.3209253794252638,
          0.3209253794252638,
          0.3209253794252638,
          0.2923534455043675,
          0.2923534455043675,
          0.2923534455043675,
          0.28119874081236446,
          0.29694197317672816,
          0.2968152557685347,
          0.28523153853882266,
          0.28523153853882266,
          0.28523153853882266,
          0.2618680873834834,
          0.3003416639373866,
          0.3003416639373866,
          0.2859964023112285,
          0.2859964023112285,
          0.2859964023112285,
          0.2859964023112285,
          0.2859964023112285,
          0.2859964023112285,
          0.2859964023112285,
          0.2859964023112285,
          0.2859964023112285,
          0.2859964023112285,
          0.2859964023112285,
          0.2859964023112285,
          0.2859964023112285,
          0.2859964023112285,
          0.2656881300898548,
          0.20594861639019443,
          0.20594861639019443,
          0.20594861639019443,
          0.20594861639019443,
          0.20594861639019443,
          0.20594861639019443,
          0.20594861639019443,
          0.20594861639019443,
          0.20594861639019443,
          0.20594861639019443,
          0.20594861639019443,
          0.20594861639019443,
          0.21179511646378305,
          0.21179511646378305,
          0.21179511646378305,
          0.21179511646378305,
          0.21179511646378305,
          0.21179511646378305,
          0.21179511646378305,
          0.21179511646378305,
          0.21179511646378305,
          0.21179511646378305,
          0.20627402062652367,
          0.20627402062652367,
          0.20627402062652367,
          0.20627402062652367,
          0.20627402062652367,
          0.3038544253233838,
          0.2633760326835466,
          0.36765671791217097
         ],
         "yaxis": "y"
        },
        {
         "customdata": [
          [
           "</br>id: 2929</br>prediction: 0.398</br>h_a: 0.0</br></br>situation: 1.0</br>shotType: 0.0</br>lastAction: 14.0</br>minute: 41</br>distance: 4.588861943363718</br>angle: 76.94750555554026</br>_original_yhat_: 0.39756797223035245</br>"
          ],
          [
           "</br>id: 2929</br>prediction: 0.02</br>h_a: 0.0</br></br>situation: 1.0</br>shotType: 0.0</br>lastAction: 14.0</br>minute: 41</br>distance: 4.588861943363718</br>angle: 76.94750555554026</br>_original_yhat_: 0.02</br>"
          ],
          [
           "</br>id: 2929</br>prediction: 0.212</br>h_a: 0.0</br></br>situation: 1.0</br>shotType: 0.0</br>lastAction: 14.0</br>minute: 41</br>distance: 4.588861943363718</br>angle: 76.94750555554026</br>_original_yhat_: 0.21179511646378305</br>"
          ]
         ],
         "hovertemplate": "%{customdata[0]}<extra></extra>",
         "legendgroup": "",
         "marker": {
          "color": "#371ea3",
          "size": 10,
          "symbol": "circle"
         },
         "mode": "markers",
         "name": "",
         "opacity": 1,
         "orientation": "v",
         "showlegend": false,
         "type": "scatter",
         "x": [
          0,
          0,
          0
         ],
         "xaxis": "x7",
         "y": [
          0.39756797223035245,
          0.02,
          0.21179511646378305
         ],
         "yaxis": "y7"
        },
        {
         "customdata": [
          [
           "</br>id: 2929</br>prediction: 0.398</br>situation: 1.0</br></br>h_a: 0.0</br>shotType: 0.0</br>lastAction: 14.0</br>minute: 41</br>distance: 4.588861943363718</br>angle: 76.94750555554026</br>_original_yhat_: 0.39756797223035245</br>"
          ],
          [
           "</br>id: 2929</br>prediction: 0.02</br>situation: 1.0</br></br>h_a: 0.0</br>shotType: 0.0</br>lastAction: 14.0</br>minute: 41</br>distance: 4.588861943363718</br>angle: 76.94750555554026</br>_original_yhat_: 0.02</br>"
          ],
          [
           "</br>id: 2929</br>prediction: 0.212</br>situation: 1.0</br></br>h_a: 0.0</br>shotType: 0.0</br>lastAction: 14.0</br>minute: 41</br>distance: 4.588861943363718</br>angle: 76.94750555554026</br>_original_yhat_: 0.21179511646378305</br>"
          ]
         ],
         "hovertemplate": "%{customdata[0]}<extra></extra>",
         "legendgroup": "",
         "marker": {
          "color": "#371ea3",
          "size": 10,
          "symbol": "circle"
         },
         "mode": "markers",
         "name": "",
         "opacity": 1,
         "orientation": "v",
         "showlegend": false,
         "type": "scatter",
         "x": [
          1,
          1,
          1
         ],
         "xaxis": "x8",
         "y": [
          0.39756797223035245,
          0.02,
          0.21179511646378305
         ],
         "yaxis": "y8"
        },
        {
         "customdata": [
          [
           "</br>id: 2929</br>prediction: 0.398</br>shotType: 0.0</br></br>h_a: 0.0</br>situation: 1.0</br>lastAction: 14.0</br>minute: 41</br>distance: 4.588861943363718</br>angle: 76.94750555554026</br>_original_yhat_: 0.39756797223035245</br>"
          ],
          [
           "</br>id: 2929</br>prediction: 0.02</br>shotType: 0.0</br></br>h_a: 0.0</br>situation: 1.0</br>lastAction: 14.0</br>minute: 41</br>distance: 4.588861943363718</br>angle: 76.94750555554026</br>_original_yhat_: 0.02</br>"
          ],
          [
           "</br>id: 2929</br>prediction: 0.212</br>shotType: 0.0</br></br>h_a: 0.0</br>situation: 1.0</br>lastAction: 14.0</br>minute: 41</br>distance: 4.588861943363718</br>angle: 76.94750555554026</br>_original_yhat_: 0.21179511646378305</br>"
          ]
         ],
         "hovertemplate": "%{customdata[0]}<extra></extra>",
         "legendgroup": "",
         "marker": {
          "color": "#371ea3",
          "size": 10,
          "symbol": "circle"
         },
         "mode": "markers",
         "name": "",
         "opacity": 1,
         "orientation": "v",
         "showlegend": false,
         "type": "scatter",
         "x": [
          0,
          0,
          0
         ],
         "xaxis": "x5",
         "y": [
          0.39756797223035245,
          0.02,
          0.21179511646378305
         ],
         "yaxis": "y5"
        },
        {
         "customdata": [
          [
           "</br>id: 2929</br>prediction: 0.398</br>lastAction: 14.0</br></br>h_a: 0.0</br>situation: 1.0</br>shotType: 0.0</br>minute: 41</br>distance: 4.588861943363718</br>angle: 76.94750555554026</br>_original_yhat_: 0.39756797223035245</br>"
          ],
          [
           "</br>id: 2929</br>prediction: 0.02</br>lastAction: 14.0</br></br>h_a: 0.0</br>situation: 1.0</br>shotType: 0.0</br>minute: 41</br>distance: 4.588861943363718</br>angle: 76.94750555554026</br>_original_yhat_: 0.02</br>"
          ],
          [
           "</br>id: 2929</br>prediction: 0.212</br>lastAction: 14.0</br></br>h_a: 0.0</br>situation: 1.0</br>shotType: 0.0</br>minute: 41</br>distance: 4.588861943363718</br>angle: 76.94750555554026</br>_original_yhat_: 0.21179511646378305</br>"
          ]
         ],
         "hovertemplate": "%{customdata[0]}<extra></extra>",
         "legendgroup": "",
         "marker": {
          "color": "#371ea3",
          "size": 10,
          "symbol": "circle"
         },
         "mode": "markers",
         "name": "",
         "opacity": 1,
         "orientation": "v",
         "showlegend": false,
         "type": "scatter",
         "x": [
          14,
          14,
          14
         ],
         "xaxis": "x6",
         "y": [
          0.39756797223035245,
          0.02,
          0.21179511646378305
         ],
         "yaxis": "y6"
        },
        {
         "customdata": [
          [
           "</br>id: 2929</br>prediction: 0.398</br>minute: 41</br></br>h_a: 0.0</br>situation: 1.0</br>shotType: 0.0</br>lastAction: 14.0</br>distance: 4.588861943363718</br>angle: 76.94750555554026</br>_original_yhat_: 0.39756797223035245</br>"
          ],
          [
           "</br>id: 2929</br>prediction: 0.02</br>minute: 41</br></br>h_a: 0.0</br>situation: 1.0</br>shotType: 0.0</br>lastAction: 14.0</br>distance: 4.588861943363718</br>angle: 76.94750555554026</br>_original_yhat_: 0.02</br>"
          ],
          [
           "</br>id: 2929</br>prediction: 0.212</br>minute: 41</br></br>h_a: 0.0</br>situation: 1.0</br>shotType: 0.0</br>lastAction: 14.0</br>distance: 4.588861943363718</br>angle: 76.94750555554026</br>_original_yhat_: 0.21179511646378305</br>"
          ]
         ],
         "hovertemplate": "%{customdata[0]}<extra></extra>",
         "legendgroup": "",
         "marker": {
          "color": "#371ea3",
          "size": 10,
          "symbol": "circle"
         },
         "mode": "markers",
         "name": "",
         "opacity": 1,
         "orientation": "v",
         "showlegend": false,
         "type": "scatter",
         "x": [
          41,
          41,
          41
         ],
         "xaxis": "x3",
         "y": [
          0.39756797223035245,
          0.02,
          0.21179511646378305
         ],
         "yaxis": "y3"
        },
        {
         "customdata": [
          [
           "</br>id: 2929</br>prediction: 0.398</br>distance: 4.588861943363718</br></br>h_a: 0.0</br>situation: 1.0</br>shotType: 0.0</br>lastAction: 14.0</br>minute: 41</br>angle: 76.94750555554026</br>_original_yhat_: 0.39756797223035245</br>"
          ],
          [
           "</br>id: 2929</br>prediction: 0.02</br>distance: 4.588861943363718</br></br>h_a: 0.0</br>situation: 1.0</br>shotType: 0.0</br>lastAction: 14.0</br>minute: 41</br>angle: 76.94750555554026</br>_original_yhat_: 0.02</br>"
          ],
          [
           "</br>id: 2929</br>prediction: 0.212</br>distance: 4.588861943363718</br></br>h_a: 0.0</br>situation: 1.0</br>shotType: 0.0</br>lastAction: 14.0</br>minute: 41</br>angle: 76.94750555554026</br>_original_yhat_: 0.21179511646378305</br>"
          ]
         ],
         "hovertemplate": "%{customdata[0]}<extra></extra>",
         "legendgroup": "",
         "marker": {
          "color": "#371ea3",
          "size": 10,
          "symbol": "circle"
         },
         "mode": "markers",
         "name": "",
         "opacity": 1,
         "orientation": "v",
         "showlegend": false,
         "type": "scatter",
         "x": [
          4.588861943363718,
          4.588861943363718,
          4.588861943363718
         ],
         "xaxis": "x4",
         "y": [
          0.39756797223035245,
          0.02,
          0.21179511646378305
         ],
         "yaxis": "y4"
        },
        {
         "customdata": [
          [
           "</br>id: 2929</br>prediction: 0.398</br>angle: 76.94750555554026</br></br>h_a: 0.0</br>situation: 1.0</br>shotType: 0.0</br>lastAction: 14.0</br>minute: 41</br>distance: 4.588861943363718</br>_original_yhat_: 0.39756797223035245</br>"
          ],
          [
           "</br>id: 2929</br>prediction: 0.02</br>angle: 76.94750555554026</br></br>h_a: 0.0</br>situation: 1.0</br>shotType: 0.0</br>lastAction: 14.0</br>minute: 41</br>distance: 4.588861943363718</br>_original_yhat_: 0.02</br>"
          ],
          [
           "</br>id: 2929</br>prediction: 0.212</br>angle: 76.94750555554026</br></br>h_a: 0.0</br>situation: 1.0</br>shotType: 0.0</br>lastAction: 14.0</br>minute: 41</br>distance: 4.588861943363718</br>_original_yhat_: 0.21179511646378305</br>"
          ]
         ],
         "hovertemplate": "%{customdata[0]}<extra></extra>",
         "legendgroup": "",
         "marker": {
          "color": "#371ea3",
          "size": 10,
          "symbol": "circle"
         },
         "mode": "markers",
         "name": "",
         "opacity": 1,
         "orientation": "v",
         "showlegend": false,
         "type": "scatter",
         "x": [
          76.94750555554026,
          76.94750555554026,
          76.94750555554026
         ],
         "xaxis": "x",
         "y": [
          0.39756797223035245,
          0.02,
          0.21179511646378305
         ],
         "yaxis": "y"
        }
       ],
       "layout": {
        "annotations": [
         {
          "font": {
           "size": 13
          },
          "showarrow": false,
          "text": "angle",
          "x": 0.2375,
          "xanchor": "center",
          "xref": "paper",
          "y": 0.19375,
          "yanchor": "bottom",
          "yref": "paper"
         },
         {
          "font": {
           "size": 13
          },
          "showarrow": false,
          "text": "minute",
          "x": 0.2375,
          "xanchor": "center",
          "xref": "paper",
          "y": 0.4625,
          "yanchor": "bottom",
          "yref": "paper"
         },
         {
          "font": {
           "size": 13
          },
          "showarrow": false,
          "text": "distance",
          "x": 0.7625,
          "xanchor": "center",
          "xref": "paper",
          "y": 0.4625,
          "yanchor": "bottom",
          "yref": "paper"
         },
         {
          "font": {
           "size": 13
          },
          "showarrow": false,
          "text": "shotType",
          "x": 0.2375,
          "xanchor": "center",
          "xref": "paper",
          "y": 0.73125,
          "yanchor": "bottom",
          "yref": "paper"
         },
         {
          "font": {
           "size": 13
          },
          "showarrow": false,
          "text": "lastAction",
          "x": 0.7625,
          "xanchor": "center",
          "xref": "paper",
          "y": 0.73125,
          "yanchor": "bottom",
          "yref": "paper"
         },
         {
          "font": {
           "size": 13
          },
          "showarrow": false,
          "text": "h_a",
          "x": 0.2375,
          "xanchor": "center",
          "xref": "paper",
          "y": 1,
          "yanchor": "bottom",
          "yref": "paper"
         },
         {
          "font": {
           "size": 13
          },
          "showarrow": false,
          "text": "situation",
          "x": 0.7625,
          "xanchor": "center",
          "xref": "paper",
          "y": 1,
          "yanchor": "bottom",
          "yref": "paper"
         },
         {
          "font": {
           "size": 13
          },
          "showarrow": false,
          "text": "prediction",
          "textangle": -90,
          "x": -0.07,
          "xref": "paper",
          "y": 0.5,
          "yref": "paper"
         }
        ],
        "font": {
         "color": "#371ea3"
        },
        "height": 1509,
        "hoverlabel": {
         "bgcolor": "rgba(0,0,0,0.8)"
        },
        "hovermode": "closest",
        "legend": {
         "font": {
          "size": 11
         },
         "itemsizing": "constant",
         "orientation": "h",
         "title": {
          "font": {
           "size": 12
          },
          "text": "label"
         },
         "tracegroupgap": 0,
         "x": 1,
         "xanchor": "right",
         "y": 1.0198807157057654,
         "yanchor": "bottom"
        },
        "margin": {
         "b": 71,
         "r": 30,
         "t": 78
        },
        "template": {
         "data": {
          "scatter": [
           {
            "type": "scatter"
           }
          ]
         }
        },
        "title": {
         "font": {
          "size": 16
         },
         "text": "Ceteris Paribus Profiles",
         "x": 0.15
        },
        "xaxis": {
         "anchor": "y",
         "automargin": true,
         "domain": [
          0,
          0.475
         ],
         "fixedrange": true,
         "gridwidth": 2,
         "showticklabels": true,
         "tickcolor": "white",
         "ticklen": 3,
         "ticks": "outside",
         "title": {
          "text": ""
         },
         "type": "linear",
         "zeroline": false
        },
        "xaxis2": {
         "anchor": "y2",
         "automargin": true,
         "domain": [
          0.525,
          1
         ],
         "fixedrange": true,
         "gridwidth": 2,
         "showticklabels": true,
         "tickcolor": "white",
         "ticklen": 3,
         "ticks": "outside",
         "title": {
          "text": ""
         },
         "type": "linear",
         "zeroline": false
        },
        "xaxis3": {
         "anchor": "y3",
         "automargin": true,
         "domain": [
          0,
          0.475
         ],
         "fixedrange": true,
         "gridwidth": 2,
         "showticklabels": true,
         "tickcolor": "white",
         "ticklen": 3,
         "ticks": "outside",
         "title": {
          "text": ""
         },
         "type": "linear",
         "zeroline": false
        },
        "xaxis4": {
         "anchor": "y4",
         "automargin": true,
         "domain": [
          0.525,
          1
         ],
         "fixedrange": true,
         "gridwidth": 2,
         "showticklabels": true,
         "tickcolor": "white",
         "ticklen": 3,
         "ticks": "outside",
         "title": {
          "text": ""
         },
         "type": "linear",
         "zeroline": false
        },
        "xaxis5": {
         "anchor": "y5",
         "automargin": true,
         "domain": [
          0,
          0.475
         ],
         "fixedrange": true,
         "gridwidth": 2,
         "showticklabels": true,
         "tickcolor": "white",
         "ticklen": 3,
         "ticks": "outside",
         "title": {
          "text": ""
         },
         "type": "linear",
         "zeroline": false
        },
        "xaxis6": {
         "anchor": "y6",
         "automargin": true,
         "domain": [
          0.525,
          1
         ],
         "fixedrange": true,
         "gridwidth": 2,
         "showticklabels": true,
         "tickcolor": "white",
         "ticklen": 3,
         "ticks": "outside",
         "title": {
          "text": ""
         },
         "type": "linear",
         "zeroline": false
        },
        "xaxis7": {
         "anchor": "y7",
         "automargin": true,
         "domain": [
          0,
          0.475
         ],
         "fixedrange": true,
         "gridwidth": 2,
         "showticklabels": true,
         "tickcolor": "white",
         "ticklen": 3,
         "ticks": "outside",
         "title": {
          "text": ""
         },
         "type": "linear",
         "zeroline": false
        },
        "xaxis8": {
         "anchor": "y8",
         "automargin": true,
         "domain": [
          0.525,
          1
         ],
         "fixedrange": true,
         "gridwidth": 2,
         "showticklabels": true,
         "tickcolor": "white",
         "ticklen": 3,
         "ticks": "outside",
         "title": {
          "text": ""
         },
         "type": "linear",
         "zeroline": false
        },
        "yaxis": {
         "anchor": "x",
         "automargin": true,
         "domain": [
          0,
          0.19375
         ],
         "fixedrange": true,
         "gridwidth": 2,
         "range": [
          -0.097031271115395,
          1.067656206694321
         ],
         "tickcolor": "white",
         "ticklen": 3,
         "ticks": "outside",
         "title": {
          "text": ""
         },
         "type": "linear",
         "zeroline": false
        },
        "yaxis2": {
         "anchor": "x2",
         "automargin": true,
         "domain": [
          0,
          0.19375
         ],
         "fixedrange": true,
         "gridwidth": 2,
         "matches": "y",
         "range": [
          -0.097031271115395,
          1.067656206694321
         ],
         "showticklabels": false,
         "tickcolor": "white",
         "ticklen": 3,
         "ticks": "outside",
         "title": {
          "text": ""
         },
         "type": "linear",
         "zeroline": false
        },
        "yaxis3": {
         "anchor": "x3",
         "automargin": true,
         "domain": [
          0.26875,
          0.4625
         ],
         "fixedrange": true,
         "gridwidth": 2,
         "matches": "y",
         "range": [
          -0.097031271115395,
          1.067656206694321
         ],
         "tickcolor": "white",
         "ticklen": 3,
         "ticks": "outside",
         "title": {
          "text": ""
         },
         "type": "linear",
         "zeroline": false
        },
        "yaxis4": {
         "anchor": "x4",
         "automargin": true,
         "domain": [
          0.26875,
          0.4625
         ],
         "fixedrange": true,
         "gridwidth": 2,
         "matches": "y",
         "range": [
          -0.097031271115395,
          1.067656206694321
         ],
         "showticklabels": false,
         "tickcolor": "white",
         "ticklen": 3,
         "ticks": "outside",
         "title": {
          "text": ""
         },
         "type": "linear",
         "zeroline": false
        },
        "yaxis5": {
         "anchor": "x5",
         "automargin": true,
         "domain": [
          0.5375,
          0.73125
         ],
         "fixedrange": true,
         "gridwidth": 2,
         "matches": "y",
         "range": [
          -0.097031271115395,
          1.067656206694321
         ],
         "tickcolor": "white",
         "ticklen": 3,
         "ticks": "outside",
         "title": {
          "text": ""
         },
         "type": "linear",
         "zeroline": false
        },
        "yaxis6": {
         "anchor": "x6",
         "automargin": true,
         "domain": [
          0.5375,
          0.73125
         ],
         "fixedrange": true,
         "gridwidth": 2,
         "matches": "y",
         "range": [
          -0.097031271115395,
          1.067656206694321
         ],
         "showticklabels": false,
         "tickcolor": "white",
         "ticklen": 3,
         "ticks": "outside",
         "title": {
          "text": ""
         },
         "type": "linear",
         "zeroline": false
        },
        "yaxis7": {
         "anchor": "x7",
         "automargin": true,
         "domain": [
          0.80625,
          1
         ],
         "fixedrange": true,
         "gridwidth": 2,
         "matches": "y",
         "range": [
          -0.097031271115395,
          1.067656206694321
         ],
         "tickcolor": "white",
         "ticklen": 3,
         "ticks": "outside",
         "title": {
          "text": ""
         },
         "type": "linear",
         "zeroline": false
        },
        "yaxis8": {
         "anchor": "x8",
         "automargin": true,
         "domain": [
          0.80625,
          1
         ],
         "fixedrange": true,
         "gridwidth": 2,
         "matches": "y",
         "range": [
          -0.097031271115395,
          1.067656206694321
         ],
         "showticklabels": false,
         "tickcolor": "white",
         "ticklen": 3,
         "ticks": "outside",
         "title": {
          "text": ""
         },
         "type": "linear",
         "zeroline": false
        }
       }
      }
     },
     "metadata": {},
     "output_type": "display_data"
    }
   ],
   "source": [
    "explainers[0].predict_profile(any_observation).plot([explainer.predict_profile(any_observation) for explainer in explainers[1:]])"
   ]
  },
  {
   "cell_type": "markdown",
   "metadata": {},
   "source": [
    "#### Conclusions\n",
    "\n",
    "As we can see on the above figure, `Ceteris Paribus` profiles are very different for each tested model (at least for the selected observation `99`). This can be a result of significant diffrence between predictions of models (LogisticRegression: 0.39756797223035245, RandomForest: 0.02, XGBoost: 0.21179511646378305). \n",
    "\n",
    "Results are quite intuitive, shots from bigger angle are harder and less often result in the goal. Similarly with distance to net, bigger values indicate harder, less goalish shots. Averging out over models `minute` feature profile, we conclude that scoring chances of this particular observation would not improve or decrease if attempt would be taken at a different moment of the game. Interpretation of other values need domain specific knowledge. Generally, model predicting lowest probability (RandomForest) is the most \"pesimistic\" on C-P profile. We need to remember that C-P does not take into account the correlation between variables."
   ]
  }
 ],
 "metadata": {
  "interpreter": {
   "hash": "aee8b7b246df8f9039afb4144a1f6fd8d2ca17a180786b69acc140d282b71a49"
  },
  "kernelspec": {
   "display_name": "Python 3.10.4 64-bit",
   "language": "python",
   "name": "python3"
  },
  "language_info": {
   "codemirror_mode": {
    "name": "ipython",
    "version": 3
   },
   "file_extension": ".py",
   "mimetype": "text/x-python",
   "name": "python",
   "nbconvert_exporter": "python",
   "pygments_lexer": "ipython3",
   "version": "3.10.4"
  },
  "orig_nbformat": 4
 },
 "nbformat": 4,
 "nbformat_minor": 2
}
