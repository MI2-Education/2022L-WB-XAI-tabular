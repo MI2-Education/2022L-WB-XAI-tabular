{
 "cells": [
  {
   "cell_type": "markdown",
   "metadata": {},
   "source": [
    "# Homework 3\n",
    "## Kozubek Hubert"
   ]
  },
  {
   "cell_type": "markdown",
   "metadata": {},
   "source": [
    "### Importing libraries"
   ]
  },
  {
   "cell_type": "code",
   "execution_count": 132,
   "metadata": {},
   "outputs": [],
   "source": [
    "import pandas as pd\n",
    "import pickle as pkl\n",
    "import numpy as np\n",
    "import dalex as dx\n",
    "from math import pi\n",
    "import random\n",
    "from sklearn.model_selection import train_test_split\n",
    "from sklearn.preprocessing import LabelEncoder\n",
    "\n",
    "import warnings\n",
    "warnings.filterwarnings('ignore')"
   ]
  },
  {
   "cell_type": "code",
   "execution_count": 133,
   "metadata": {},
   "outputs": [],
   "source": [
    "random.seed(123)"
   ]
  },
  {
   "cell_type": "markdown",
   "metadata": {},
   "source": [
    "### Data preprocessing"
   ]
  },
  {
   "cell_type": "code",
   "execution_count": 134,
   "metadata": {},
   "outputs": [],
   "source": [
    "df = pd.read_csv('../EPL_2021.csv')"
   ]
  },
  {
   "cell_type": "code",
   "execution_count": 135,
   "metadata": {},
   "outputs": [],
   "source": [
    "# X = df.copy()"
   ]
  },
  {
   "cell_type": "code",
   "execution_count": 136,
   "metadata": {},
   "outputs": [],
   "source": [
    "df = df[df['result'] !=  'OwnGoal']\n",
    "df['result'] = [1 if a == 'Goal' else 0 for a in df['result']]"
   ]
  },
  {
   "cell_type": "code",
   "execution_count": 137,
   "metadata": {},
   "outputs": [],
   "source": [
    "df = df.assign(distanceToGoal = ((105 - (df['X'] * 105)) ** 2 + (32.5 - (df['Y'] * 68)) ** 2) ** 0.5)\n",
    "df = df.assign(angleToGoal = np.abs(np.arctan((7.32 * (105 - (df['X'] * 105))) / ((105 - (df['X'] * 105))**2 + (32.5 - (df['Y'] * 68)) ** 2 - (7.32 / 2) ** 2)) * 180 / pi))\n",
    "df = df[['result', 'h_a', 'situation', 'shotType', 'lastAction', 'minute', 'distanceToGoal', 'angleToGoal']]"
   ]
  },
  {
   "cell_type": "code",
   "execution_count": 138,
   "metadata": {},
   "outputs": [
    {
     "name": "stdout",
     "output_type": "stream",
     "text": [
      "h_a ['h', 'a'] [1, 0] \n",
      "\n",
      "situation ['OpenPlay', 'FromCorner', 'DirectFreekick', 'SetPiece', 'Penalty'] [2, 1, 0, 4, 3] \n",
      "\n",
      "shotType ['Head', 'RightFoot', 'LeftFoot', 'OtherBodyPart'] [0, 3, 1, 2] \n",
      "\n",
      "lastAction ['Aerial', 'Throughball', 'BallRecovery', 'Pass', 'Chipped', 'Cross', 'BallTouch', 'Standard', 'None', 'TakeOn', 'HeadPass', 'Rebound', 'LayOff', 'Dispossessed', 'Goal', 'Tackle', 'Foul', 'End', 'CornerAwarded', 'BlockedPass', 'SubstitutionOn', 'KeeperPickup', 'Interception', 'OffsidePass', 'Clearance', 'Card', 'Challenge'] [0, 26, 1, 20, 6, 9, 2, 22, 18, 25, 14, 21, 17, 10, 13, 24, 12, 11, 8, 3, 23, 16, 15, 19, 7, 4, 5] \n",
      "\n"
     ]
    }
   ],
   "source": [
    "label_encoder = LabelEncoder()\n",
    "categorical_features = [feature for feature in df.columns if df[feature].dtypes == 'O']\n",
    "changed_from =[]\n",
    "changed_to = []\n",
    "for feature in categorical_features:\n",
    "    print(feature, list(df[feature].unique()), list(label_encoder.fit_transform(df[feature].unique())), \"\\n\")\n",
    "    changed_from.append(list(df[feature].unique()))\n",
    "    changed_to.append(list(label_encoder.fit_transform(df[feature].unique())))\n",
    "for feature in categorical_features:\n",
    "    df[feature]=label_encoder.fit_transform(df[feature])"
   ]
  },
  {
   "cell_type": "code",
   "execution_count": 139,
   "metadata": {},
   "outputs": [],
   "source": [
    "X_train, X_test, y_train, y_test = train_test_split(df.drop('result', axis=1),df['result'],test_size=0.2)"
   ]
  },
  {
   "cell_type": "markdown",
   "metadata": {},
   "source": [
    "### Training Models"
   ]
  },
  {
   "cell_type": "code",
   "execution_count": 140,
   "metadata": {},
   "outputs": [],
   "source": [
    "from sklearn.linear_model import LogisticRegression\n",
    "from sklearn.ensemble import RandomForestClassifier\n",
    "from sklearn.ensemble import GradientBoostingClassifier"
   ]
  },
  {
   "cell_type": "markdown",
   "metadata": {},
   "source": [
    "#### Logistic Regression"
   ]
  },
  {
   "cell_type": "code",
   "execution_count": 141,
   "metadata": {},
   "outputs": [
    {
     "name": "stdout",
     "output_type": "stream",
     "text": [
      "Logistic Regression score: 90.16%\n"
     ]
    }
   ],
   "source": [
    "lr = LogisticRegression()\n",
    "lr.fit(X_train, y_train)\n",
    "print (f'Logistic Regression score: {lr.score(X_test, y_test)*100:.2f}%')"
   ]
  },
  {
   "cell_type": "markdown",
   "metadata": {},
   "source": [
    "#### Random Forest"
   ]
  },
  {
   "cell_type": "code",
   "execution_count": 142,
   "metadata": {},
   "outputs": [
    {
     "name": "stdout",
     "output_type": "stream",
     "text": [
      "Random Forest score: 91.04%\n"
     ]
    }
   ],
   "source": [
    "rf = RandomForestClassifier()\n",
    "rf.fit(X_train, y_train)\n",
    "print (f'Random Forest score: {rf.score(X_test, y_test)*100:.2f}%')"
   ]
  },
  {
   "cell_type": "markdown",
   "metadata": {},
   "source": [
    "#### XGBoost"
   ]
  },
  {
   "cell_type": "code",
   "execution_count": 143,
   "metadata": {},
   "outputs": [
    {
     "name": "stdout",
     "output_type": "stream",
     "text": [
      "XGBoost score: 91.38%\n"
     ]
    }
   ],
   "source": [
    "xgb = GradientBoostingClassifier()\n",
    "xgb.fit(X_train, y_train)\n",
    "print (f'XGBoost score: {xgb.score(X_test, y_test)*100:.2f}%')"
   ]
  },
  {
   "cell_type": "markdown",
   "metadata": {},
   "source": [
    "### Predictions"
   ]
  },
  {
   "cell_type": "code",
   "execution_count": 144,
   "metadata": {},
   "outputs": [
    {
     "name": "stdout",
     "output_type": "stream",
     "text": [
      "XGBoost probability: 5.34%\n",
      "Correct label: 0\n"
     ]
    }
   ],
   "source": [
    "obs_id = 420\n",
    "obs = X_train.iloc[[obs_id]]\n",
    "# print(f\"Logistic Regression probability: {lr.predict_proba(obs)[0][1]*100:.2f}%\")\n",
    "# print(f\"Random Forest probability: {rf.predict_proba(obs)[0][1]*100:.2f}%\")\n",
    "print(f\"XGBoost probability: {xgb.predict_proba(obs)[0][1]*100:.2f}%\")\n",
    "print(f\"Correct label: {y_train.iloc[obs_id]}\")\n"
   ]
  },
  {
   "cell_type": "code",
   "execution_count": 145,
   "metadata": {},
   "outputs": [
    {
     "name": "stdout",
     "output_type": "stream",
     "text": [
      "Preparation of a new explainer is initiated\n",
      "\n",
      "  -> data              : 5888 rows 7 cols\n",
      "  -> target variable   : Parameter 'y' was a pandas.Series. Converted to a numpy.ndarray.\n",
      "  -> target variable   : 5888 values\n",
      "  -> model_class       : sklearn.ensemble._gb.GradientBoostingClassifier (default)\n",
      "  -> label             : Gradient Boosting\n",
      "  -> predict function  : <function yhat_proba_default at 0x0000025DD375B700> will be used (default)\n",
      "  -> predict function  : Accepts pandas.DataFrame and numpy.ndarray.\n",
      "  -> predicted values  : min = 0.00845, mean = 0.106, max = 0.953\n",
      "  -> model type        : classification will be used (default)\n",
      "  -> residual function : difference between y and yhat (default)\n",
      "  -> residuals         : min = -0.797, mean = -8.64e-05, max = 0.982\n",
      "  -> model_info        : package sklearn\n",
      "\n",
      "A new explainer has been created!\n"
     ]
    }
   ],
   "source": [
    "import dalex as dx\n",
    "gb_exp = dx.Explainer(xgb, X_train, y_train, label = \"Gradient Boosting\")"
   ]
  },
  {
   "cell_type": "markdown",
   "metadata": {},
   "source": [
    "### CP Profiles"
   ]
  },
  {
   "cell_type": "code",
   "execution_count": 146,
   "metadata": {},
   "outputs": [
    {
     "name": "stderr",
     "output_type": "stream",
     "text": [
      "Calculating ceteris paribus: 100%|██████████| 7/7 [00:00<00:00, 279.99it/s]\n"
     ]
    },
    {
     "data": {
      "application/vnd.plotly.v1+json": {
       "config": {
        "displaylogo": false,
        "modeBarButtonsToRemove": [
         "sendDataToCloud",
         "lasso2d",
         "autoScale2d",
         "select2d",
         "zoom2d",
         "pan2d",
         "zoomIn2d",
         "zoomOut2d",
         "resetScale2d",
         "toggleSpikelines",
         "hoverCompareCartesian",
         "hoverClosestCartesian"
        ],
        "plotlyServerURL": "https://plot.ly",
        "staticPlot": false,
        "toImageButtonOptions": {
         "height": null,
         "width": null
        }
       },
       "data": [
        {
         "customdata": [
          [
           "</br>id: 1833</br>prediction: 0.053</br>h_a: 0.0</br></br>situation: 2.0</br>shotType: 0.0</br>lastAction: 0.0</br>minute: 3</br>distanceToGoal: 9.53310076709881</br>angleToGoal: 40.4664837945122</br>_original_yhat_: 0.053361547462168445</br>"
          ],
          [
           "</br>id: 1833</br>prediction: 0.053</br>h_a: 0.01</br></br>situation: 2.0</br>shotType: 0.0</br>lastAction: 0.0</br>minute: 3</br>distanceToGoal: 9.53310076709881</br>angleToGoal: 40.4664837945122</br>_original_yhat_: 0.053361547462168445</br>"
          ],
          [
           "</br>id: 1833</br>prediction: 0.053</br>h_a: 0.02</br></br>situation: 2.0</br>shotType: 0.0</br>lastAction: 0.0</br>minute: 3</br>distanceToGoal: 9.53310076709881</br>angleToGoal: 40.4664837945122</br>_original_yhat_: 0.053361547462168445</br>"
          ],
          [
           "</br>id: 1833</br>prediction: 0.053</br>h_a: 0.03</br></br>situation: 2.0</br>shotType: 0.0</br>lastAction: 0.0</br>minute: 3</br>distanceToGoal: 9.53310076709881</br>angleToGoal: 40.4664837945122</br>_original_yhat_: 0.053361547462168445</br>"
          ],
          [
           "</br>id: 1833</br>prediction: 0.053</br>h_a: 0.04</br></br>situation: 2.0</br>shotType: 0.0</br>lastAction: 0.0</br>minute: 3</br>distanceToGoal: 9.53310076709881</br>angleToGoal: 40.4664837945122</br>_original_yhat_: 0.053361547462168445</br>"
          ],
          [
           "</br>id: 1833</br>prediction: 0.053</br>h_a: 0.05</br></br>situation: 2.0</br>shotType: 0.0</br>lastAction: 0.0</br>minute: 3</br>distanceToGoal: 9.53310076709881</br>angleToGoal: 40.4664837945122</br>_original_yhat_: 0.053361547462168445</br>"
          ],
          [
           "</br>id: 1833</br>prediction: 0.053</br>h_a: 0.06</br></br>situation: 2.0</br>shotType: 0.0</br>lastAction: 0.0</br>minute: 3</br>distanceToGoal: 9.53310076709881</br>angleToGoal: 40.4664837945122</br>_original_yhat_: 0.053361547462168445</br>"
          ],
          [
           "</br>id: 1833</br>prediction: 0.053</br>h_a: 0.07</br></br>situation: 2.0</br>shotType: 0.0</br>lastAction: 0.0</br>minute: 3</br>distanceToGoal: 9.53310076709881</br>angleToGoal: 40.4664837945122</br>_original_yhat_: 0.053361547462168445</br>"
          ],
          [
           "</br>id: 1833</br>prediction: 0.053</br>h_a: 0.08</br></br>situation: 2.0</br>shotType: 0.0</br>lastAction: 0.0</br>minute: 3</br>distanceToGoal: 9.53310076709881</br>angleToGoal: 40.4664837945122</br>_original_yhat_: 0.053361547462168445</br>"
          ],
          [
           "</br>id: 1833</br>prediction: 0.053</br>h_a: 0.09</br></br>situation: 2.0</br>shotType: 0.0</br>lastAction: 0.0</br>minute: 3</br>distanceToGoal: 9.53310076709881</br>angleToGoal: 40.4664837945122</br>_original_yhat_: 0.053361547462168445</br>"
          ],
          [
           "</br>id: 1833</br>prediction: 0.053</br>h_a: 0.1</br></br>situation: 2.0</br>shotType: 0.0</br>lastAction: 0.0</br>minute: 3</br>distanceToGoal: 9.53310076709881</br>angleToGoal: 40.4664837945122</br>_original_yhat_: 0.053361547462168445</br>"
          ],
          [
           "</br>id: 1833</br>prediction: 0.053</br>h_a: 0.11</br></br>situation: 2.0</br>shotType: 0.0</br>lastAction: 0.0</br>minute: 3</br>distanceToGoal: 9.53310076709881</br>angleToGoal: 40.4664837945122</br>_original_yhat_: 0.053361547462168445</br>"
          ],
          [
           "</br>id: 1833</br>prediction: 0.053</br>h_a: 0.12</br></br>situation: 2.0</br>shotType: 0.0</br>lastAction: 0.0</br>minute: 3</br>distanceToGoal: 9.53310076709881</br>angleToGoal: 40.4664837945122</br>_original_yhat_: 0.053361547462168445</br>"
          ],
          [
           "</br>id: 1833</br>prediction: 0.053</br>h_a: 0.13</br></br>situation: 2.0</br>shotType: 0.0</br>lastAction: 0.0</br>minute: 3</br>distanceToGoal: 9.53310076709881</br>angleToGoal: 40.4664837945122</br>_original_yhat_: 0.053361547462168445</br>"
          ],
          [
           "</br>id: 1833</br>prediction: 0.053</br>h_a: 0.14</br></br>situation: 2.0</br>shotType: 0.0</br>lastAction: 0.0</br>minute: 3</br>distanceToGoal: 9.53310076709881</br>angleToGoal: 40.4664837945122</br>_original_yhat_: 0.053361547462168445</br>"
          ],
          [
           "</br>id: 1833</br>prediction: 0.053</br>h_a: 0.15</br></br>situation: 2.0</br>shotType: 0.0</br>lastAction: 0.0</br>minute: 3</br>distanceToGoal: 9.53310076709881</br>angleToGoal: 40.4664837945122</br>_original_yhat_: 0.053361547462168445</br>"
          ],
          [
           "</br>id: 1833</br>prediction: 0.053</br>h_a: 0.16</br></br>situation: 2.0</br>shotType: 0.0</br>lastAction: 0.0</br>minute: 3</br>distanceToGoal: 9.53310076709881</br>angleToGoal: 40.4664837945122</br>_original_yhat_: 0.053361547462168445</br>"
          ],
          [
           "</br>id: 1833</br>prediction: 0.053</br>h_a: 0.17</br></br>situation: 2.0</br>shotType: 0.0</br>lastAction: 0.0</br>minute: 3</br>distanceToGoal: 9.53310076709881</br>angleToGoal: 40.4664837945122</br>_original_yhat_: 0.053361547462168445</br>"
          ],
          [
           "</br>id: 1833</br>prediction: 0.053</br>h_a: 0.18</br></br>situation: 2.0</br>shotType: 0.0</br>lastAction: 0.0</br>minute: 3</br>distanceToGoal: 9.53310076709881</br>angleToGoal: 40.4664837945122</br>_original_yhat_: 0.053361547462168445</br>"
          ],
          [
           "</br>id: 1833</br>prediction: 0.053</br>h_a: 0.19</br></br>situation: 2.0</br>shotType: 0.0</br>lastAction: 0.0</br>minute: 3</br>distanceToGoal: 9.53310076709881</br>angleToGoal: 40.4664837945122</br>_original_yhat_: 0.053361547462168445</br>"
          ],
          [
           "</br>id: 1833</br>prediction: 0.053</br>h_a: 0.2</br></br>situation: 2.0</br>shotType: 0.0</br>lastAction: 0.0</br>minute: 3</br>distanceToGoal: 9.53310076709881</br>angleToGoal: 40.4664837945122</br>_original_yhat_: 0.053361547462168445</br>"
          ],
          [
           "</br>id: 1833</br>prediction: 0.053</br>h_a: 0.21</br></br>situation: 2.0</br>shotType: 0.0</br>lastAction: 0.0</br>minute: 3</br>distanceToGoal: 9.53310076709881</br>angleToGoal: 40.4664837945122</br>_original_yhat_: 0.053361547462168445</br>"
          ],
          [
           "</br>id: 1833</br>prediction: 0.053</br>h_a: 0.22</br></br>situation: 2.0</br>shotType: 0.0</br>lastAction: 0.0</br>minute: 3</br>distanceToGoal: 9.53310076709881</br>angleToGoal: 40.4664837945122</br>_original_yhat_: 0.053361547462168445</br>"
          ],
          [
           "</br>id: 1833</br>prediction: 0.053</br>h_a: 0.23</br></br>situation: 2.0</br>shotType: 0.0</br>lastAction: 0.0</br>minute: 3</br>distanceToGoal: 9.53310076709881</br>angleToGoal: 40.4664837945122</br>_original_yhat_: 0.053361547462168445</br>"
          ],
          [
           "</br>id: 1833</br>prediction: 0.053</br>h_a: 0.24</br></br>situation: 2.0</br>shotType: 0.0</br>lastAction: 0.0</br>minute: 3</br>distanceToGoal: 9.53310076709881</br>angleToGoal: 40.4664837945122</br>_original_yhat_: 0.053361547462168445</br>"
          ],
          [
           "</br>id: 1833</br>prediction: 0.053</br>h_a: 0.25</br></br>situation: 2.0</br>shotType: 0.0</br>lastAction: 0.0</br>minute: 3</br>distanceToGoal: 9.53310076709881</br>angleToGoal: 40.4664837945122</br>_original_yhat_: 0.053361547462168445</br>"
          ],
          [
           "</br>id: 1833</br>prediction: 0.053</br>h_a: 0.26</br></br>situation: 2.0</br>shotType: 0.0</br>lastAction: 0.0</br>minute: 3</br>distanceToGoal: 9.53310076709881</br>angleToGoal: 40.4664837945122</br>_original_yhat_: 0.053361547462168445</br>"
          ],
          [
           "</br>id: 1833</br>prediction: 0.053</br>h_a: 0.27</br></br>situation: 2.0</br>shotType: 0.0</br>lastAction: 0.0</br>minute: 3</br>distanceToGoal: 9.53310076709881</br>angleToGoal: 40.4664837945122</br>_original_yhat_: 0.053361547462168445</br>"
          ],
          [
           "</br>id: 1833</br>prediction: 0.053</br>h_a: 0.28</br></br>situation: 2.0</br>shotType: 0.0</br>lastAction: 0.0</br>minute: 3</br>distanceToGoal: 9.53310076709881</br>angleToGoal: 40.4664837945122</br>_original_yhat_: 0.053361547462168445</br>"
          ],
          [
           "</br>id: 1833</br>prediction: 0.053</br>h_a: 0.29</br></br>situation: 2.0</br>shotType: 0.0</br>lastAction: 0.0</br>minute: 3</br>distanceToGoal: 9.53310076709881</br>angleToGoal: 40.4664837945122</br>_original_yhat_: 0.053361547462168445</br>"
          ],
          [
           "</br>id: 1833</br>prediction: 0.053</br>h_a: 0.3</br></br>situation: 2.0</br>shotType: 0.0</br>lastAction: 0.0</br>minute: 3</br>distanceToGoal: 9.53310076709881</br>angleToGoal: 40.4664837945122</br>_original_yhat_: 0.053361547462168445</br>"
          ],
          [
           "</br>id: 1833</br>prediction: 0.053</br>h_a: 0.31</br></br>situation: 2.0</br>shotType: 0.0</br>lastAction: 0.0</br>minute: 3</br>distanceToGoal: 9.53310076709881</br>angleToGoal: 40.4664837945122</br>_original_yhat_: 0.053361547462168445</br>"
          ],
          [
           "</br>id: 1833</br>prediction: 0.053</br>h_a: 0.32</br></br>situation: 2.0</br>shotType: 0.0</br>lastAction: 0.0</br>minute: 3</br>distanceToGoal: 9.53310076709881</br>angleToGoal: 40.4664837945122</br>_original_yhat_: 0.053361547462168445</br>"
          ],
          [
           "</br>id: 1833</br>prediction: 0.053</br>h_a: 0.33</br></br>situation: 2.0</br>shotType: 0.0</br>lastAction: 0.0</br>minute: 3</br>distanceToGoal: 9.53310076709881</br>angleToGoal: 40.4664837945122</br>_original_yhat_: 0.053361547462168445</br>"
          ],
          [
           "</br>id: 1833</br>prediction: 0.053</br>h_a: 0.34</br></br>situation: 2.0</br>shotType: 0.0</br>lastAction: 0.0</br>minute: 3</br>distanceToGoal: 9.53310076709881</br>angleToGoal: 40.4664837945122</br>_original_yhat_: 0.053361547462168445</br>"
          ],
          [
           "</br>id: 1833</br>prediction: 0.053</br>h_a: 0.35000000000000003</br></br>situation: 2.0</br>shotType: 0.0</br>lastAction: 0.0</br>minute: 3</br>distanceToGoal: 9.53310076709881</br>angleToGoal: 40.4664837945122</br>_original_yhat_: 0.053361547462168445</br>"
          ],
          [
           "</br>id: 1833</br>prediction: 0.053</br>h_a: 0.36</br></br>situation: 2.0</br>shotType: 0.0</br>lastAction: 0.0</br>minute: 3</br>distanceToGoal: 9.53310076709881</br>angleToGoal: 40.4664837945122</br>_original_yhat_: 0.053361547462168445</br>"
          ],
          [
           "</br>id: 1833</br>prediction: 0.053</br>h_a: 0.37</br></br>situation: 2.0</br>shotType: 0.0</br>lastAction: 0.0</br>minute: 3</br>distanceToGoal: 9.53310076709881</br>angleToGoal: 40.4664837945122</br>_original_yhat_: 0.053361547462168445</br>"
          ],
          [
           "</br>id: 1833</br>prediction: 0.053</br>h_a: 0.38</br></br>situation: 2.0</br>shotType: 0.0</br>lastAction: 0.0</br>minute: 3</br>distanceToGoal: 9.53310076709881</br>angleToGoal: 40.4664837945122</br>_original_yhat_: 0.053361547462168445</br>"
          ],
          [
           "</br>id: 1833</br>prediction: 0.053</br>h_a: 0.39</br></br>situation: 2.0</br>shotType: 0.0</br>lastAction: 0.0</br>minute: 3</br>distanceToGoal: 9.53310076709881</br>angleToGoal: 40.4664837945122</br>_original_yhat_: 0.053361547462168445</br>"
          ],
          [
           "</br>id: 1833</br>prediction: 0.053</br>h_a: 0.4</br></br>situation: 2.0</br>shotType: 0.0</br>lastAction: 0.0</br>minute: 3</br>distanceToGoal: 9.53310076709881</br>angleToGoal: 40.4664837945122</br>_original_yhat_: 0.053361547462168445</br>"
          ],
          [
           "</br>id: 1833</br>prediction: 0.053</br>h_a: 0.41000000000000003</br></br>situation: 2.0</br>shotType: 0.0</br>lastAction: 0.0</br>minute: 3</br>distanceToGoal: 9.53310076709881</br>angleToGoal: 40.4664837945122</br>_original_yhat_: 0.053361547462168445</br>"
          ],
          [
           "</br>id: 1833</br>prediction: 0.053</br>h_a: 0.42</br></br>situation: 2.0</br>shotType: 0.0</br>lastAction: 0.0</br>minute: 3</br>distanceToGoal: 9.53310076709881</br>angleToGoal: 40.4664837945122</br>_original_yhat_: 0.053361547462168445</br>"
          ],
          [
           "</br>id: 1833</br>prediction: 0.053</br>h_a: 0.43</br></br>situation: 2.0</br>shotType: 0.0</br>lastAction: 0.0</br>minute: 3</br>distanceToGoal: 9.53310076709881</br>angleToGoal: 40.4664837945122</br>_original_yhat_: 0.053361547462168445</br>"
          ],
          [
           "</br>id: 1833</br>prediction: 0.053</br>h_a: 0.44</br></br>situation: 2.0</br>shotType: 0.0</br>lastAction: 0.0</br>minute: 3</br>distanceToGoal: 9.53310076709881</br>angleToGoal: 40.4664837945122</br>_original_yhat_: 0.053361547462168445</br>"
          ],
          [
           "</br>id: 1833</br>prediction: 0.053</br>h_a: 0.45</br></br>situation: 2.0</br>shotType: 0.0</br>lastAction: 0.0</br>minute: 3</br>distanceToGoal: 9.53310076709881</br>angleToGoal: 40.4664837945122</br>_original_yhat_: 0.053361547462168445</br>"
          ],
          [
           "</br>id: 1833</br>prediction: 0.053</br>h_a: 0.46</br></br>situation: 2.0</br>shotType: 0.0</br>lastAction: 0.0</br>minute: 3</br>distanceToGoal: 9.53310076709881</br>angleToGoal: 40.4664837945122</br>_original_yhat_: 0.053361547462168445</br>"
          ],
          [
           "</br>id: 1833</br>prediction: 0.053</br>h_a: 0.47000000000000003</br></br>situation: 2.0</br>shotType: 0.0</br>lastAction: 0.0</br>minute: 3</br>distanceToGoal: 9.53310076709881</br>angleToGoal: 40.4664837945122</br>_original_yhat_: 0.053361547462168445</br>"
          ],
          [
           "</br>id: 1833</br>prediction: 0.053</br>h_a: 0.48</br></br>situation: 2.0</br>shotType: 0.0</br>lastAction: 0.0</br>minute: 3</br>distanceToGoal: 9.53310076709881</br>angleToGoal: 40.4664837945122</br>_original_yhat_: 0.053361547462168445</br>"
          ],
          [
           "</br>id: 1833</br>prediction: 0.053</br>h_a: 0.49</br></br>situation: 2.0</br>shotType: 0.0</br>lastAction: 0.0</br>minute: 3</br>distanceToGoal: 9.53310076709881</br>angleToGoal: 40.4664837945122</br>_original_yhat_: 0.053361547462168445</br>"
          ],
          [
           "</br>id: 1833</br>prediction: 0.053</br>h_a: 0.5</br></br>situation: 2.0</br>shotType: 0.0</br>lastAction: 0.0</br>minute: 3</br>distanceToGoal: 9.53310076709881</br>angleToGoal: 40.4664837945122</br>_original_yhat_: 0.053361547462168445</br>"
          ],
          [
           "</br>id: 1833</br>prediction: 0.051</br>h_a: 0.51</br></br>situation: 2.0</br>shotType: 0.0</br>lastAction: 0.0</br>minute: 3</br>distanceToGoal: 9.53310076709881</br>angleToGoal: 40.4664837945122</br>_original_yhat_: 0.053361547462168445</br>"
          ],
          [
           "</br>id: 1833</br>prediction: 0.051</br>h_a: 0.52</br></br>situation: 2.0</br>shotType: 0.0</br>lastAction: 0.0</br>minute: 3</br>distanceToGoal: 9.53310076709881</br>angleToGoal: 40.4664837945122</br>_original_yhat_: 0.053361547462168445</br>"
          ],
          [
           "</br>id: 1833</br>prediction: 0.051</br>h_a: 0.53</br></br>situation: 2.0</br>shotType: 0.0</br>lastAction: 0.0</br>minute: 3</br>distanceToGoal: 9.53310076709881</br>angleToGoal: 40.4664837945122</br>_original_yhat_: 0.053361547462168445</br>"
          ],
          [
           "</br>id: 1833</br>prediction: 0.051</br>h_a: 0.54</br></br>situation: 2.0</br>shotType: 0.0</br>lastAction: 0.0</br>minute: 3</br>distanceToGoal: 9.53310076709881</br>angleToGoal: 40.4664837945122</br>_original_yhat_: 0.053361547462168445</br>"
          ],
          [
           "</br>id: 1833</br>prediction: 0.051</br>h_a: 0.55</br></br>situation: 2.0</br>shotType: 0.0</br>lastAction: 0.0</br>minute: 3</br>distanceToGoal: 9.53310076709881</br>angleToGoal: 40.4664837945122</br>_original_yhat_: 0.053361547462168445</br>"
          ],
          [
           "</br>id: 1833</br>prediction: 0.051</br>h_a: 0.56</br></br>situation: 2.0</br>shotType: 0.0</br>lastAction: 0.0</br>minute: 3</br>distanceToGoal: 9.53310076709881</br>angleToGoal: 40.4664837945122</br>_original_yhat_: 0.053361547462168445</br>"
          ],
          [
           "</br>id: 1833</br>prediction: 0.051</br>h_a: 0.5700000000000001</br></br>situation: 2.0</br>shotType: 0.0</br>lastAction: 0.0</br>minute: 3</br>distanceToGoal: 9.53310076709881</br>angleToGoal: 40.4664837945122</br>_original_yhat_: 0.053361547462168445</br>"
          ],
          [
           "</br>id: 1833</br>prediction: 0.051</br>h_a: 0.58</br></br>situation: 2.0</br>shotType: 0.0</br>lastAction: 0.0</br>minute: 3</br>distanceToGoal: 9.53310076709881</br>angleToGoal: 40.4664837945122</br>_original_yhat_: 0.053361547462168445</br>"
          ],
          [
           "</br>id: 1833</br>prediction: 0.051</br>h_a: 0.59</br></br>situation: 2.0</br>shotType: 0.0</br>lastAction: 0.0</br>minute: 3</br>distanceToGoal: 9.53310076709881</br>angleToGoal: 40.4664837945122</br>_original_yhat_: 0.053361547462168445</br>"
          ],
          [
           "</br>id: 1833</br>prediction: 0.051</br>h_a: 0.6</br></br>situation: 2.0</br>shotType: 0.0</br>lastAction: 0.0</br>minute: 3</br>distanceToGoal: 9.53310076709881</br>angleToGoal: 40.4664837945122</br>_original_yhat_: 0.053361547462168445</br>"
          ],
          [
           "</br>id: 1833</br>prediction: 0.051</br>h_a: 0.61</br></br>situation: 2.0</br>shotType: 0.0</br>lastAction: 0.0</br>minute: 3</br>distanceToGoal: 9.53310076709881</br>angleToGoal: 40.4664837945122</br>_original_yhat_: 0.053361547462168445</br>"
          ],
          [
           "</br>id: 1833</br>prediction: 0.051</br>h_a: 0.62</br></br>situation: 2.0</br>shotType: 0.0</br>lastAction: 0.0</br>minute: 3</br>distanceToGoal: 9.53310076709881</br>angleToGoal: 40.4664837945122</br>_original_yhat_: 0.053361547462168445</br>"
          ],
          [
           "</br>id: 1833</br>prediction: 0.051</br>h_a: 0.63</br></br>situation: 2.0</br>shotType: 0.0</br>lastAction: 0.0</br>minute: 3</br>distanceToGoal: 9.53310076709881</br>angleToGoal: 40.4664837945122</br>_original_yhat_: 0.053361547462168445</br>"
          ],
          [
           "</br>id: 1833</br>prediction: 0.051</br>h_a: 0.64</br></br>situation: 2.0</br>shotType: 0.0</br>lastAction: 0.0</br>minute: 3</br>distanceToGoal: 9.53310076709881</br>angleToGoal: 40.4664837945122</br>_original_yhat_: 0.053361547462168445</br>"
          ],
          [
           "</br>id: 1833</br>prediction: 0.051</br>h_a: 0.65</br></br>situation: 2.0</br>shotType: 0.0</br>lastAction: 0.0</br>minute: 3</br>distanceToGoal: 9.53310076709881</br>angleToGoal: 40.4664837945122</br>_original_yhat_: 0.053361547462168445</br>"
          ],
          [
           "</br>id: 1833</br>prediction: 0.051</br>h_a: 0.66</br></br>situation: 2.0</br>shotType: 0.0</br>lastAction: 0.0</br>minute: 3</br>distanceToGoal: 9.53310076709881</br>angleToGoal: 40.4664837945122</br>_original_yhat_: 0.053361547462168445</br>"
          ],
          [
           "</br>id: 1833</br>prediction: 0.051</br>h_a: 0.67</br></br>situation: 2.0</br>shotType: 0.0</br>lastAction: 0.0</br>minute: 3</br>distanceToGoal: 9.53310076709881</br>angleToGoal: 40.4664837945122</br>_original_yhat_: 0.053361547462168445</br>"
          ],
          [
           "</br>id: 1833</br>prediction: 0.051</br>h_a: 0.68</br></br>situation: 2.0</br>shotType: 0.0</br>lastAction: 0.0</br>minute: 3</br>distanceToGoal: 9.53310076709881</br>angleToGoal: 40.4664837945122</br>_original_yhat_: 0.053361547462168445</br>"
          ],
          [
           "</br>id: 1833</br>prediction: 0.051</br>h_a: 0.6900000000000001</br></br>situation: 2.0</br>shotType: 0.0</br>lastAction: 0.0</br>minute: 3</br>distanceToGoal: 9.53310076709881</br>angleToGoal: 40.4664837945122</br>_original_yhat_: 0.053361547462168445</br>"
          ],
          [
           "</br>id: 1833</br>prediction: 0.051</br>h_a: 0.7000000000000001</br></br>situation: 2.0</br>shotType: 0.0</br>lastAction: 0.0</br>minute: 3</br>distanceToGoal: 9.53310076709881</br>angleToGoal: 40.4664837945122</br>_original_yhat_: 0.053361547462168445</br>"
          ],
          [
           "</br>id: 1833</br>prediction: 0.051</br>h_a: 0.71</br></br>situation: 2.0</br>shotType: 0.0</br>lastAction: 0.0</br>minute: 3</br>distanceToGoal: 9.53310076709881</br>angleToGoal: 40.4664837945122</br>_original_yhat_: 0.053361547462168445</br>"
          ],
          [
           "</br>id: 1833</br>prediction: 0.051</br>h_a: 0.72</br></br>situation: 2.0</br>shotType: 0.0</br>lastAction: 0.0</br>minute: 3</br>distanceToGoal: 9.53310076709881</br>angleToGoal: 40.4664837945122</br>_original_yhat_: 0.053361547462168445</br>"
          ],
          [
           "</br>id: 1833</br>prediction: 0.051</br>h_a: 0.73</br></br>situation: 2.0</br>shotType: 0.0</br>lastAction: 0.0</br>minute: 3</br>distanceToGoal: 9.53310076709881</br>angleToGoal: 40.4664837945122</br>_original_yhat_: 0.053361547462168445</br>"
          ],
          [
           "</br>id: 1833</br>prediction: 0.051</br>h_a: 0.74</br></br>situation: 2.0</br>shotType: 0.0</br>lastAction: 0.0</br>minute: 3</br>distanceToGoal: 9.53310076709881</br>angleToGoal: 40.4664837945122</br>_original_yhat_: 0.053361547462168445</br>"
          ],
          [
           "</br>id: 1833</br>prediction: 0.051</br>h_a: 0.75</br></br>situation: 2.0</br>shotType: 0.0</br>lastAction: 0.0</br>minute: 3</br>distanceToGoal: 9.53310076709881</br>angleToGoal: 40.4664837945122</br>_original_yhat_: 0.053361547462168445</br>"
          ],
          [
           "</br>id: 1833</br>prediction: 0.051</br>h_a: 0.76</br></br>situation: 2.0</br>shotType: 0.0</br>lastAction: 0.0</br>minute: 3</br>distanceToGoal: 9.53310076709881</br>angleToGoal: 40.4664837945122</br>_original_yhat_: 0.053361547462168445</br>"
          ],
          [
           "</br>id: 1833</br>prediction: 0.051</br>h_a: 0.77</br></br>situation: 2.0</br>shotType: 0.0</br>lastAction: 0.0</br>minute: 3</br>distanceToGoal: 9.53310076709881</br>angleToGoal: 40.4664837945122</br>_original_yhat_: 0.053361547462168445</br>"
          ],
          [
           "</br>id: 1833</br>prediction: 0.051</br>h_a: 0.78</br></br>situation: 2.0</br>shotType: 0.0</br>lastAction: 0.0</br>minute: 3</br>distanceToGoal: 9.53310076709881</br>angleToGoal: 40.4664837945122</br>_original_yhat_: 0.053361547462168445</br>"
          ],
          [
           "</br>id: 1833</br>prediction: 0.051</br>h_a: 0.79</br></br>situation: 2.0</br>shotType: 0.0</br>lastAction: 0.0</br>minute: 3</br>distanceToGoal: 9.53310076709881</br>angleToGoal: 40.4664837945122</br>_original_yhat_: 0.053361547462168445</br>"
          ],
          [
           "</br>id: 1833</br>prediction: 0.051</br>h_a: 0.8</br></br>situation: 2.0</br>shotType: 0.0</br>lastAction: 0.0</br>minute: 3</br>distanceToGoal: 9.53310076709881</br>angleToGoal: 40.4664837945122</br>_original_yhat_: 0.053361547462168445</br>"
          ],
          [
           "</br>id: 1833</br>prediction: 0.051</br>h_a: 0.81</br></br>situation: 2.0</br>shotType: 0.0</br>lastAction: 0.0</br>minute: 3</br>distanceToGoal: 9.53310076709881</br>angleToGoal: 40.4664837945122</br>_original_yhat_: 0.053361547462168445</br>"
          ],
          [
           "</br>id: 1833</br>prediction: 0.051</br>h_a: 0.8200000000000001</br></br>situation: 2.0</br>shotType: 0.0</br>lastAction: 0.0</br>minute: 3</br>distanceToGoal: 9.53310076709881</br>angleToGoal: 40.4664837945122</br>_original_yhat_: 0.053361547462168445</br>"
          ],
          [
           "</br>id: 1833</br>prediction: 0.051</br>h_a: 0.8300000000000001</br></br>situation: 2.0</br>shotType: 0.0</br>lastAction: 0.0</br>minute: 3</br>distanceToGoal: 9.53310076709881</br>angleToGoal: 40.4664837945122</br>_original_yhat_: 0.053361547462168445</br>"
          ],
          [
           "</br>id: 1833</br>prediction: 0.051</br>h_a: 0.84</br></br>situation: 2.0</br>shotType: 0.0</br>lastAction: 0.0</br>minute: 3</br>distanceToGoal: 9.53310076709881</br>angleToGoal: 40.4664837945122</br>_original_yhat_: 0.053361547462168445</br>"
          ],
          [
           "</br>id: 1833</br>prediction: 0.051</br>h_a: 0.85</br></br>situation: 2.0</br>shotType: 0.0</br>lastAction: 0.0</br>minute: 3</br>distanceToGoal: 9.53310076709881</br>angleToGoal: 40.4664837945122</br>_original_yhat_: 0.053361547462168445</br>"
          ],
          [
           "</br>id: 1833</br>prediction: 0.051</br>h_a: 0.86</br></br>situation: 2.0</br>shotType: 0.0</br>lastAction: 0.0</br>minute: 3</br>distanceToGoal: 9.53310076709881</br>angleToGoal: 40.4664837945122</br>_original_yhat_: 0.053361547462168445</br>"
          ],
          [
           "</br>id: 1833</br>prediction: 0.051</br>h_a: 0.87</br></br>situation: 2.0</br>shotType: 0.0</br>lastAction: 0.0</br>minute: 3</br>distanceToGoal: 9.53310076709881</br>angleToGoal: 40.4664837945122</br>_original_yhat_: 0.053361547462168445</br>"
          ],
          [
           "</br>id: 1833</br>prediction: 0.051</br>h_a: 0.88</br></br>situation: 2.0</br>shotType: 0.0</br>lastAction: 0.0</br>minute: 3</br>distanceToGoal: 9.53310076709881</br>angleToGoal: 40.4664837945122</br>_original_yhat_: 0.053361547462168445</br>"
          ],
          [
           "</br>id: 1833</br>prediction: 0.051</br>h_a: 0.89</br></br>situation: 2.0</br>shotType: 0.0</br>lastAction: 0.0</br>minute: 3</br>distanceToGoal: 9.53310076709881</br>angleToGoal: 40.4664837945122</br>_original_yhat_: 0.053361547462168445</br>"
          ],
          [
           "</br>id: 1833</br>prediction: 0.051</br>h_a: 0.9</br></br>situation: 2.0</br>shotType: 0.0</br>lastAction: 0.0</br>minute: 3</br>distanceToGoal: 9.53310076709881</br>angleToGoal: 40.4664837945122</br>_original_yhat_: 0.053361547462168445</br>"
          ],
          [
           "</br>id: 1833</br>prediction: 0.051</br>h_a: 0.91</br></br>situation: 2.0</br>shotType: 0.0</br>lastAction: 0.0</br>minute: 3</br>distanceToGoal: 9.53310076709881</br>angleToGoal: 40.4664837945122</br>_original_yhat_: 0.053361547462168445</br>"
          ],
          [
           "</br>id: 1833</br>prediction: 0.051</br>h_a: 0.92</br></br>situation: 2.0</br>shotType: 0.0</br>lastAction: 0.0</br>minute: 3</br>distanceToGoal: 9.53310076709881</br>angleToGoal: 40.4664837945122</br>_original_yhat_: 0.053361547462168445</br>"
          ],
          [
           "</br>id: 1833</br>prediction: 0.051</br>h_a: 0.93</br></br>situation: 2.0</br>shotType: 0.0</br>lastAction: 0.0</br>minute: 3</br>distanceToGoal: 9.53310076709881</br>angleToGoal: 40.4664837945122</br>_original_yhat_: 0.053361547462168445</br>"
          ],
          [
           "</br>id: 1833</br>prediction: 0.051</br>h_a: 0.9400000000000001</br></br>situation: 2.0</br>shotType: 0.0</br>lastAction: 0.0</br>minute: 3</br>distanceToGoal: 9.53310076709881</br>angleToGoal: 40.4664837945122</br>_original_yhat_: 0.053361547462168445</br>"
          ],
          [
           "</br>id: 1833</br>prediction: 0.051</br>h_a: 0.9500000000000001</br></br>situation: 2.0</br>shotType: 0.0</br>lastAction: 0.0</br>minute: 3</br>distanceToGoal: 9.53310076709881</br>angleToGoal: 40.4664837945122</br>_original_yhat_: 0.053361547462168445</br>"
          ],
          [
           "</br>id: 1833</br>prediction: 0.051</br>h_a: 0.96</br></br>situation: 2.0</br>shotType: 0.0</br>lastAction: 0.0</br>minute: 3</br>distanceToGoal: 9.53310076709881</br>angleToGoal: 40.4664837945122</br>_original_yhat_: 0.053361547462168445</br>"
          ],
          [
           "</br>id: 1833</br>prediction: 0.051</br>h_a: 0.97</br></br>situation: 2.0</br>shotType: 0.0</br>lastAction: 0.0</br>minute: 3</br>distanceToGoal: 9.53310076709881</br>angleToGoal: 40.4664837945122</br>_original_yhat_: 0.053361547462168445</br>"
          ],
          [
           "</br>id: 1833</br>prediction: 0.051</br>h_a: 0.98</br></br>situation: 2.0</br>shotType: 0.0</br>lastAction: 0.0</br>minute: 3</br>distanceToGoal: 9.53310076709881</br>angleToGoal: 40.4664837945122</br>_original_yhat_: 0.053361547462168445</br>"
          ],
          [
           "</br>id: 1833</br>prediction: 0.051</br>h_a: 0.99</br></br>situation: 2.0</br>shotType: 0.0</br>lastAction: 0.0</br>minute: 3</br>distanceToGoal: 9.53310076709881</br>angleToGoal: 40.4664837945122</br>_original_yhat_: 0.053361547462168445</br>"
          ],
          [
           "</br>id: 1833</br>prediction: 0.051</br>h_a: 1.0</br></br>situation: 2.0</br>shotType: 0.0</br>lastAction: 0.0</br>minute: 3</br>distanceToGoal: 9.53310076709881</br>angleToGoal: 40.4664837945122</br>_original_yhat_: 0.053361547462168445</br>"
          ]
         ],
         "hovertemplate": "%{customdata[0]}<extra></extra>",
         "legendgroup": "Gradient Boosting",
         "line": {
          "color": "#46bac2",
          "dash": "solid",
          "width": 2
         },
         "marker": {
          "symbol": "circle"
         },
         "mode": "lines",
         "name": "Gradient Boosting",
         "opacity": 1,
         "orientation": "v",
         "showlegend": true,
         "type": "scatter",
         "x": [
          0,
          0.01,
          0.02,
          0.03,
          0.04,
          0.05,
          0.06,
          0.07,
          0.08,
          0.09,
          0.1,
          0.11,
          0.12,
          0.13,
          0.14,
          0.15,
          0.16,
          0.17,
          0.18,
          0.19,
          0.2,
          0.21,
          0.22,
          0.23,
          0.24,
          0.25,
          0.26,
          0.27,
          0.28,
          0.29,
          0.3,
          0.31,
          0.32,
          0.33,
          0.34,
          0.35000000000000003,
          0.36,
          0.37,
          0.38,
          0.39,
          0.4,
          0.41000000000000003,
          0.42,
          0.43,
          0.44,
          0.45,
          0.46,
          0.47000000000000003,
          0.48,
          0.49,
          0.5,
          0.51,
          0.52,
          0.53,
          0.54,
          0.55,
          0.56,
          0.5700000000000001,
          0.58,
          0.59,
          0.6,
          0.61,
          0.62,
          0.63,
          0.64,
          0.65,
          0.66,
          0.67,
          0.68,
          0.6900000000000001,
          0.7000000000000001,
          0.71,
          0.72,
          0.73,
          0.74,
          0.75,
          0.76,
          0.77,
          0.78,
          0.79,
          0.8,
          0.81,
          0.8200000000000001,
          0.8300000000000001,
          0.84,
          0.85,
          0.86,
          0.87,
          0.88,
          0.89,
          0.9,
          0.91,
          0.92,
          0.93,
          0.9400000000000001,
          0.9500000000000001,
          0.96,
          0.97,
          0.98,
          0.99,
          1
         ],
         "xaxis": "x7",
         "y": [
          0.053361547462168445,
          0.053361547462168445,
          0.053361547462168445,
          0.053361547462168445,
          0.053361547462168445,
          0.053361547462168445,
          0.053361547462168445,
          0.053361547462168445,
          0.053361547462168445,
          0.053361547462168445,
          0.053361547462168445,
          0.053361547462168445,
          0.053361547462168445,
          0.053361547462168445,
          0.053361547462168445,
          0.053361547462168445,
          0.053361547462168445,
          0.053361547462168445,
          0.053361547462168445,
          0.053361547462168445,
          0.053361547462168445,
          0.053361547462168445,
          0.053361547462168445,
          0.053361547462168445,
          0.053361547462168445,
          0.053361547462168445,
          0.053361547462168445,
          0.053361547462168445,
          0.053361547462168445,
          0.053361547462168445,
          0.053361547462168445,
          0.053361547462168445,
          0.053361547462168445,
          0.053361547462168445,
          0.053361547462168445,
          0.053361547462168445,
          0.053361547462168445,
          0.053361547462168445,
          0.053361547462168445,
          0.053361547462168445,
          0.053361547462168445,
          0.053361547462168445,
          0.053361547462168445,
          0.053361547462168445,
          0.053361547462168445,
          0.053361547462168445,
          0.053361547462168445,
          0.053361547462168445,
          0.053361547462168445,
          0.053361547462168445,
          0.053361547462168445,
          0.05050481680927951,
          0.05050481680927951,
          0.05050481680927951,
          0.05050481680927951,
          0.05050481680927951,
          0.05050481680927951,
          0.05050481680927951,
          0.05050481680927951,
          0.05050481680927951,
          0.05050481680927951,
          0.05050481680927951,
          0.05050481680927951,
          0.05050481680927951,
          0.05050481680927951,
          0.05050481680927951,
          0.05050481680927951,
          0.05050481680927951,
          0.05050481680927951,
          0.05050481680927951,
          0.05050481680927951,
          0.05050481680927951,
          0.05050481680927951,
          0.05050481680927951,
          0.05050481680927951,
          0.05050481680927951,
          0.05050481680927951,
          0.05050481680927951,
          0.05050481680927951,
          0.05050481680927951,
          0.05050481680927951,
          0.05050481680927951,
          0.05050481680927951,
          0.05050481680927951,
          0.05050481680927951,
          0.05050481680927951,
          0.05050481680927951,
          0.05050481680927951,
          0.05050481680927951,
          0.05050481680927951,
          0.05050481680927951,
          0.05050481680927951,
          0.05050481680927951,
          0.05050481680927951,
          0.05050481680927951,
          0.05050481680927951,
          0.05050481680927951,
          0.05050481680927951,
          0.05050481680927951,
          0.05050481680927951,
          0.05050481680927951
         ],
         "yaxis": "y7"
        },
        {
         "customdata": [
          [
           "</br>id: 1833</br>prediction: 0.037</br>situation: 0.0</br></br>h_a: 0.0</br>shotType: 0.0</br>lastAction: 0.0</br>minute: 3</br>distanceToGoal: 9.53310076709881</br>angleToGoal: 40.4664837945122</br>_original_yhat_: 0.053361547462168445</br>"
          ],
          [
           "</br>id: 1833</br>prediction: 0.037</br>situation: 0.04</br></br>h_a: 0.0</br>shotType: 0.0</br>lastAction: 0.0</br>minute: 3</br>distanceToGoal: 9.53310076709881</br>angleToGoal: 40.4664837945122</br>_original_yhat_: 0.053361547462168445</br>"
          ],
          [
           "</br>id: 1833</br>prediction: 0.037</br>situation: 0.08</br></br>h_a: 0.0</br>shotType: 0.0</br>lastAction: 0.0</br>minute: 3</br>distanceToGoal: 9.53310076709881</br>angleToGoal: 40.4664837945122</br>_original_yhat_: 0.053361547462168445</br>"
          ],
          [
           "</br>id: 1833</br>prediction: 0.037</br>situation: 0.12</br></br>h_a: 0.0</br>shotType: 0.0</br>lastAction: 0.0</br>minute: 3</br>distanceToGoal: 9.53310076709881</br>angleToGoal: 40.4664837945122</br>_original_yhat_: 0.053361547462168445</br>"
          ],
          [
           "</br>id: 1833</br>prediction: 0.037</br>situation: 0.16</br></br>h_a: 0.0</br>shotType: 0.0</br>lastAction: 0.0</br>minute: 3</br>distanceToGoal: 9.53310076709881</br>angleToGoal: 40.4664837945122</br>_original_yhat_: 0.053361547462168445</br>"
          ],
          [
           "</br>id: 1833</br>prediction: 0.037</br>situation: 0.2</br></br>h_a: 0.0</br>shotType: 0.0</br>lastAction: 0.0</br>minute: 3</br>distanceToGoal: 9.53310076709881</br>angleToGoal: 40.4664837945122</br>_original_yhat_: 0.053361547462168445</br>"
          ],
          [
           "</br>id: 1833</br>prediction: 0.037</br>situation: 0.24</br></br>h_a: 0.0</br>shotType: 0.0</br>lastAction: 0.0</br>minute: 3</br>distanceToGoal: 9.53310076709881</br>angleToGoal: 40.4664837945122</br>_original_yhat_: 0.053361547462168445</br>"
          ],
          [
           "</br>id: 1833</br>prediction: 0.037</br>situation: 0.28</br></br>h_a: 0.0</br>shotType: 0.0</br>lastAction: 0.0</br>minute: 3</br>distanceToGoal: 9.53310076709881</br>angleToGoal: 40.4664837945122</br>_original_yhat_: 0.053361547462168445</br>"
          ],
          [
           "</br>id: 1833</br>prediction: 0.037</br>situation: 0.32</br></br>h_a: 0.0</br>shotType: 0.0</br>lastAction: 0.0</br>minute: 3</br>distanceToGoal: 9.53310076709881</br>angleToGoal: 40.4664837945122</br>_original_yhat_: 0.053361547462168445</br>"
          ],
          [
           "</br>id: 1833</br>prediction: 0.037</br>situation: 0.36</br></br>h_a: 0.0</br>shotType: 0.0</br>lastAction: 0.0</br>minute: 3</br>distanceToGoal: 9.53310076709881</br>angleToGoal: 40.4664837945122</br>_original_yhat_: 0.053361547462168445</br>"
          ],
          [
           "</br>id: 1833</br>prediction: 0.037</br>situation: 0.4</br></br>h_a: 0.0</br>shotType: 0.0</br>lastAction: 0.0</br>minute: 3</br>distanceToGoal: 9.53310076709881</br>angleToGoal: 40.4664837945122</br>_original_yhat_: 0.053361547462168445</br>"
          ],
          [
           "</br>id: 1833</br>prediction: 0.037</br>situation: 0.44</br></br>h_a: 0.0</br>shotType: 0.0</br>lastAction: 0.0</br>minute: 3</br>distanceToGoal: 9.53310076709881</br>angleToGoal: 40.4664837945122</br>_original_yhat_: 0.053361547462168445</br>"
          ],
          [
           "</br>id: 1833</br>prediction: 0.037</br>situation: 0.48</br></br>h_a: 0.0</br>shotType: 0.0</br>lastAction: 0.0</br>minute: 3</br>distanceToGoal: 9.53310076709881</br>angleToGoal: 40.4664837945122</br>_original_yhat_: 0.053361547462168445</br>"
          ],
          [
           "</br>id: 1833</br>prediction: 0.037</br>situation: 0.52</br></br>h_a: 0.0</br>shotType: 0.0</br>lastAction: 0.0</br>minute: 3</br>distanceToGoal: 9.53310076709881</br>angleToGoal: 40.4664837945122</br>_original_yhat_: 0.053361547462168445</br>"
          ],
          [
           "</br>id: 1833</br>prediction: 0.037</br>situation: 0.56</br></br>h_a: 0.0</br>shotType: 0.0</br>lastAction: 0.0</br>minute: 3</br>distanceToGoal: 9.53310076709881</br>angleToGoal: 40.4664837945122</br>_original_yhat_: 0.053361547462168445</br>"
          ],
          [
           "</br>id: 1833</br>prediction: 0.037</br>situation: 0.6</br></br>h_a: 0.0</br>shotType: 0.0</br>lastAction: 0.0</br>minute: 3</br>distanceToGoal: 9.53310076709881</br>angleToGoal: 40.4664837945122</br>_original_yhat_: 0.053361547462168445</br>"
          ],
          [
           "</br>id: 1833</br>prediction: 0.037</br>situation: 0.64</br></br>h_a: 0.0</br>shotType: 0.0</br>lastAction: 0.0</br>minute: 3</br>distanceToGoal: 9.53310076709881</br>angleToGoal: 40.4664837945122</br>_original_yhat_: 0.053361547462168445</br>"
          ],
          [
           "</br>id: 1833</br>prediction: 0.037</br>situation: 0.68</br></br>h_a: 0.0</br>shotType: 0.0</br>lastAction: 0.0</br>minute: 3</br>distanceToGoal: 9.53310076709881</br>angleToGoal: 40.4664837945122</br>_original_yhat_: 0.053361547462168445</br>"
          ],
          [
           "</br>id: 1833</br>prediction: 0.037</br>situation: 0.72</br></br>h_a: 0.0</br>shotType: 0.0</br>lastAction: 0.0</br>minute: 3</br>distanceToGoal: 9.53310076709881</br>angleToGoal: 40.4664837945122</br>_original_yhat_: 0.053361547462168445</br>"
          ],
          [
           "</br>id: 1833</br>prediction: 0.037</br>situation: 0.76</br></br>h_a: 0.0</br>shotType: 0.0</br>lastAction: 0.0</br>minute: 3</br>distanceToGoal: 9.53310076709881</br>angleToGoal: 40.4664837945122</br>_original_yhat_: 0.053361547462168445</br>"
          ],
          [
           "</br>id: 1833</br>prediction: 0.037</br>situation: 0.8</br></br>h_a: 0.0</br>shotType: 0.0</br>lastAction: 0.0</br>minute: 3</br>distanceToGoal: 9.53310076709881</br>angleToGoal: 40.4664837945122</br>_original_yhat_: 0.053361547462168445</br>"
          ],
          [
           "</br>id: 1833</br>prediction: 0.037</br>situation: 0.84</br></br>h_a: 0.0</br>shotType: 0.0</br>lastAction: 0.0</br>minute: 3</br>distanceToGoal: 9.53310076709881</br>angleToGoal: 40.4664837945122</br>_original_yhat_: 0.053361547462168445</br>"
          ],
          [
           "</br>id: 1833</br>prediction: 0.037</br>situation: 0.88</br></br>h_a: 0.0</br>shotType: 0.0</br>lastAction: 0.0</br>minute: 3</br>distanceToGoal: 9.53310076709881</br>angleToGoal: 40.4664837945122</br>_original_yhat_: 0.053361547462168445</br>"
          ],
          [
           "</br>id: 1833</br>prediction: 0.037</br>situation: 0.92</br></br>h_a: 0.0</br>shotType: 0.0</br>lastAction: 0.0</br>minute: 3</br>distanceToGoal: 9.53310076709881</br>angleToGoal: 40.4664837945122</br>_original_yhat_: 0.053361547462168445</br>"
          ],
          [
           "</br>id: 1833</br>prediction: 0.037</br>situation: 0.96</br></br>h_a: 0.0</br>shotType: 0.0</br>lastAction: 0.0</br>minute: 3</br>distanceToGoal: 9.53310076709881</br>angleToGoal: 40.4664837945122</br>_original_yhat_: 0.053361547462168445</br>"
          ],
          [
           "</br>id: 1833</br>prediction: 0.037</br>situation: 1.0</br></br>h_a: 0.0</br>shotType: 0.0</br>lastAction: 0.0</br>minute: 3</br>distanceToGoal: 9.53310076709881</br>angleToGoal: 40.4664837945122</br>_original_yhat_: 0.053361547462168445</br>"
          ],
          [
           "</br>id: 1833</br>prediction: 0.037</br>situation: 1.04</br></br>h_a: 0.0</br>shotType: 0.0</br>lastAction: 0.0</br>minute: 3</br>distanceToGoal: 9.53310076709881</br>angleToGoal: 40.4664837945122</br>_original_yhat_: 0.053361547462168445</br>"
          ],
          [
           "</br>id: 1833</br>prediction: 0.037</br>situation: 1.08</br></br>h_a: 0.0</br>shotType: 0.0</br>lastAction: 0.0</br>minute: 3</br>distanceToGoal: 9.53310076709881</br>angleToGoal: 40.4664837945122</br>_original_yhat_: 0.053361547462168445</br>"
          ],
          [
           "</br>id: 1833</br>prediction: 0.037</br>situation: 1.12</br></br>h_a: 0.0</br>shotType: 0.0</br>lastAction: 0.0</br>minute: 3</br>distanceToGoal: 9.53310076709881</br>angleToGoal: 40.4664837945122</br>_original_yhat_: 0.053361547462168445</br>"
          ],
          [
           "</br>id: 1833</br>prediction: 0.037</br>situation: 1.16</br></br>h_a: 0.0</br>shotType: 0.0</br>lastAction: 0.0</br>minute: 3</br>distanceToGoal: 9.53310076709881</br>angleToGoal: 40.4664837945122</br>_original_yhat_: 0.053361547462168445</br>"
          ],
          [
           "</br>id: 1833</br>prediction: 0.037</br>situation: 1.2</br></br>h_a: 0.0</br>shotType: 0.0</br>lastAction: 0.0</br>minute: 3</br>distanceToGoal: 9.53310076709881</br>angleToGoal: 40.4664837945122</br>_original_yhat_: 0.053361547462168445</br>"
          ],
          [
           "</br>id: 1833</br>prediction: 0.037</br>situation: 1.24</br></br>h_a: 0.0</br>shotType: 0.0</br>lastAction: 0.0</br>minute: 3</br>distanceToGoal: 9.53310076709881</br>angleToGoal: 40.4664837945122</br>_original_yhat_: 0.053361547462168445</br>"
          ],
          [
           "</br>id: 1833</br>prediction: 0.037</br>situation: 1.28</br></br>h_a: 0.0</br>shotType: 0.0</br>lastAction: 0.0</br>minute: 3</br>distanceToGoal: 9.53310076709881</br>angleToGoal: 40.4664837945122</br>_original_yhat_: 0.053361547462168445</br>"
          ],
          [
           "</br>id: 1833</br>prediction: 0.037</br>situation: 1.32</br></br>h_a: 0.0</br>shotType: 0.0</br>lastAction: 0.0</br>minute: 3</br>distanceToGoal: 9.53310076709881</br>angleToGoal: 40.4664837945122</br>_original_yhat_: 0.053361547462168445</br>"
          ],
          [
           "</br>id: 1833</br>prediction: 0.037</br>situation: 1.36</br></br>h_a: 0.0</br>shotType: 0.0</br>lastAction: 0.0</br>minute: 3</br>distanceToGoal: 9.53310076709881</br>angleToGoal: 40.4664837945122</br>_original_yhat_: 0.053361547462168445</br>"
          ],
          [
           "</br>id: 1833</br>prediction: 0.037</br>situation: 1.4000000000000001</br></br>h_a: 0.0</br>shotType: 0.0</br>lastAction: 0.0</br>minute: 3</br>distanceToGoal: 9.53310076709881</br>angleToGoal: 40.4664837945122</br>_original_yhat_: 0.053361547462168445</br>"
          ],
          [
           "</br>id: 1833</br>prediction: 0.037</br>situation: 1.44</br></br>h_a: 0.0</br>shotType: 0.0</br>lastAction: 0.0</br>minute: 3</br>distanceToGoal: 9.53310076709881</br>angleToGoal: 40.4664837945122</br>_original_yhat_: 0.053361547462168445</br>"
          ],
          [
           "</br>id: 1833</br>prediction: 0.037</br>situation: 1.48</br></br>h_a: 0.0</br>shotType: 0.0</br>lastAction: 0.0</br>minute: 3</br>distanceToGoal: 9.53310076709881</br>angleToGoal: 40.4664837945122</br>_original_yhat_: 0.053361547462168445</br>"
          ],
          [
           "</br>id: 1833</br>prediction: 0.053</br>situation: 1.52</br></br>h_a: 0.0</br>shotType: 0.0</br>lastAction: 0.0</br>minute: 3</br>distanceToGoal: 9.53310076709881</br>angleToGoal: 40.4664837945122</br>_original_yhat_: 0.053361547462168445</br>"
          ],
          [
           "</br>id: 1833</br>prediction: 0.053</br>situation: 1.56</br></br>h_a: 0.0</br>shotType: 0.0</br>lastAction: 0.0</br>minute: 3</br>distanceToGoal: 9.53310076709881</br>angleToGoal: 40.4664837945122</br>_original_yhat_: 0.053361547462168445</br>"
          ],
          [
           "</br>id: 1833</br>prediction: 0.053</br>situation: 1.6</br></br>h_a: 0.0</br>shotType: 0.0</br>lastAction: 0.0</br>minute: 3</br>distanceToGoal: 9.53310076709881</br>angleToGoal: 40.4664837945122</br>_original_yhat_: 0.053361547462168445</br>"
          ],
          [
           "</br>id: 1833</br>prediction: 0.053</br>situation: 1.6400000000000001</br></br>h_a: 0.0</br>shotType: 0.0</br>lastAction: 0.0</br>minute: 3</br>distanceToGoal: 9.53310076709881</br>angleToGoal: 40.4664837945122</br>_original_yhat_: 0.053361547462168445</br>"
          ],
          [
           "</br>id: 1833</br>prediction: 0.053</br>situation: 1.68</br></br>h_a: 0.0</br>shotType: 0.0</br>lastAction: 0.0</br>minute: 3</br>distanceToGoal: 9.53310076709881</br>angleToGoal: 40.4664837945122</br>_original_yhat_: 0.053361547462168445</br>"
          ],
          [
           "</br>id: 1833</br>prediction: 0.053</br>situation: 1.72</br></br>h_a: 0.0</br>shotType: 0.0</br>lastAction: 0.0</br>minute: 3</br>distanceToGoal: 9.53310076709881</br>angleToGoal: 40.4664837945122</br>_original_yhat_: 0.053361547462168445</br>"
          ],
          [
           "</br>id: 1833</br>prediction: 0.053</br>situation: 1.76</br></br>h_a: 0.0</br>shotType: 0.0</br>lastAction: 0.0</br>minute: 3</br>distanceToGoal: 9.53310076709881</br>angleToGoal: 40.4664837945122</br>_original_yhat_: 0.053361547462168445</br>"
          ],
          [
           "</br>id: 1833</br>prediction: 0.053</br>situation: 1.8</br></br>h_a: 0.0</br>shotType: 0.0</br>lastAction: 0.0</br>minute: 3</br>distanceToGoal: 9.53310076709881</br>angleToGoal: 40.4664837945122</br>_original_yhat_: 0.053361547462168445</br>"
          ],
          [
           "</br>id: 1833</br>prediction: 0.053</br>situation: 1.84</br></br>h_a: 0.0</br>shotType: 0.0</br>lastAction: 0.0</br>minute: 3</br>distanceToGoal: 9.53310076709881</br>angleToGoal: 40.4664837945122</br>_original_yhat_: 0.053361547462168445</br>"
          ],
          [
           "</br>id: 1833</br>prediction: 0.053</br>situation: 1.8800000000000001</br></br>h_a: 0.0</br>shotType: 0.0</br>lastAction: 0.0</br>minute: 3</br>distanceToGoal: 9.53310076709881</br>angleToGoal: 40.4664837945122</br>_original_yhat_: 0.053361547462168445</br>"
          ],
          [
           "</br>id: 1833</br>prediction: 0.053</br>situation: 1.92</br></br>h_a: 0.0</br>shotType: 0.0</br>lastAction: 0.0</br>minute: 3</br>distanceToGoal: 9.53310076709881</br>angleToGoal: 40.4664837945122</br>_original_yhat_: 0.053361547462168445</br>"
          ],
          [
           "</br>id: 1833</br>prediction: 0.053</br>situation: 1.96</br></br>h_a: 0.0</br>shotType: 0.0</br>lastAction: 0.0</br>minute: 3</br>distanceToGoal: 9.53310076709881</br>angleToGoal: 40.4664837945122</br>_original_yhat_: 0.053361547462168445</br>"
          ],
          [
           "</br>id: 1833</br>prediction: 0.053</br>situation: 2.0</br></br>h_a: 0.0</br>shotType: 0.0</br>lastAction: 0.0</br>minute: 3</br>distanceToGoal: 9.53310076709881</br>angleToGoal: 40.4664837945122</br>_original_yhat_: 0.053361547462168445</br>"
          ],
          [
           "</br>id: 1833</br>prediction: 0.053</br>situation: 2.04</br></br>h_a: 0.0</br>shotType: 0.0</br>lastAction: 0.0</br>minute: 3</br>distanceToGoal: 9.53310076709881</br>angleToGoal: 40.4664837945122</br>_original_yhat_: 0.053361547462168445</br>"
          ],
          [
           "</br>id: 1833</br>prediction: 0.053</br>situation: 2.08</br></br>h_a: 0.0</br>shotType: 0.0</br>lastAction: 0.0</br>minute: 3</br>distanceToGoal: 9.53310076709881</br>angleToGoal: 40.4664837945122</br>_original_yhat_: 0.053361547462168445</br>"
          ],
          [
           "</br>id: 1833</br>prediction: 0.053</br>situation: 2.12</br></br>h_a: 0.0</br>shotType: 0.0</br>lastAction: 0.0</br>minute: 3</br>distanceToGoal: 9.53310076709881</br>angleToGoal: 40.4664837945122</br>_original_yhat_: 0.053361547462168445</br>"
          ],
          [
           "</br>id: 1833</br>prediction: 0.053</br>situation: 2.16</br></br>h_a: 0.0</br>shotType: 0.0</br>lastAction: 0.0</br>minute: 3</br>distanceToGoal: 9.53310076709881</br>angleToGoal: 40.4664837945122</br>_original_yhat_: 0.053361547462168445</br>"
          ],
          [
           "</br>id: 1833</br>prediction: 0.053</br>situation: 2.2</br></br>h_a: 0.0</br>shotType: 0.0</br>lastAction: 0.0</br>minute: 3</br>distanceToGoal: 9.53310076709881</br>angleToGoal: 40.4664837945122</br>_original_yhat_: 0.053361547462168445</br>"
          ],
          [
           "</br>id: 1833</br>prediction: 0.053</br>situation: 2.24</br></br>h_a: 0.0</br>shotType: 0.0</br>lastAction: 0.0</br>minute: 3</br>distanceToGoal: 9.53310076709881</br>angleToGoal: 40.4664837945122</br>_original_yhat_: 0.053361547462168445</br>"
          ],
          [
           "</br>id: 1833</br>prediction: 0.053</br>situation: 2.2800000000000002</br></br>h_a: 0.0</br>shotType: 0.0</br>lastAction: 0.0</br>minute: 3</br>distanceToGoal: 9.53310076709881</br>angleToGoal: 40.4664837945122</br>_original_yhat_: 0.053361547462168445</br>"
          ],
          [
           "</br>id: 1833</br>prediction: 0.053</br>situation: 2.32</br></br>h_a: 0.0</br>shotType: 0.0</br>lastAction: 0.0</br>minute: 3</br>distanceToGoal: 9.53310076709881</br>angleToGoal: 40.4664837945122</br>_original_yhat_: 0.053361547462168445</br>"
          ],
          [
           "</br>id: 1833</br>prediction: 0.053</br>situation: 2.36</br></br>h_a: 0.0</br>shotType: 0.0</br>lastAction: 0.0</br>minute: 3</br>distanceToGoal: 9.53310076709881</br>angleToGoal: 40.4664837945122</br>_original_yhat_: 0.053361547462168445</br>"
          ],
          [
           "</br>id: 1833</br>prediction: 0.053</br>situation: 2.4</br></br>h_a: 0.0</br>shotType: 0.0</br>lastAction: 0.0</br>minute: 3</br>distanceToGoal: 9.53310076709881</br>angleToGoal: 40.4664837945122</br>_original_yhat_: 0.053361547462168445</br>"
          ],
          [
           "</br>id: 1833</br>prediction: 0.053</br>situation: 2.44</br></br>h_a: 0.0</br>shotType: 0.0</br>lastAction: 0.0</br>minute: 3</br>distanceToGoal: 9.53310076709881</br>angleToGoal: 40.4664837945122</br>_original_yhat_: 0.053361547462168445</br>"
          ],
          [
           "</br>id: 1833</br>prediction: 0.053</br>situation: 2.48</br></br>h_a: 0.0</br>shotType: 0.0</br>lastAction: 0.0</br>minute: 3</br>distanceToGoal: 9.53310076709881</br>angleToGoal: 40.4664837945122</br>_original_yhat_: 0.053361547462168445</br>"
          ],
          [
           "</br>id: 1833</br>prediction: 0.115</br>situation: 2.52</br></br>h_a: 0.0</br>shotType: 0.0</br>lastAction: 0.0</br>minute: 3</br>distanceToGoal: 9.53310076709881</br>angleToGoal: 40.4664837945122</br>_original_yhat_: 0.053361547462168445</br>"
          ],
          [
           "</br>id: 1833</br>prediction: 0.115</br>situation: 2.56</br></br>h_a: 0.0</br>shotType: 0.0</br>lastAction: 0.0</br>minute: 3</br>distanceToGoal: 9.53310076709881</br>angleToGoal: 40.4664837945122</br>_original_yhat_: 0.053361547462168445</br>"
          ],
          [
           "</br>id: 1833</br>prediction: 0.115</br>situation: 2.6</br></br>h_a: 0.0</br>shotType: 0.0</br>lastAction: 0.0</br>minute: 3</br>distanceToGoal: 9.53310076709881</br>angleToGoal: 40.4664837945122</br>_original_yhat_: 0.053361547462168445</br>"
          ],
          [
           "</br>id: 1833</br>prediction: 0.115</br>situation: 2.64</br></br>h_a: 0.0</br>shotType: 0.0</br>lastAction: 0.0</br>minute: 3</br>distanceToGoal: 9.53310076709881</br>angleToGoal: 40.4664837945122</br>_original_yhat_: 0.053361547462168445</br>"
          ],
          [
           "</br>id: 1833</br>prediction: 0.115</br>situation: 2.68</br></br>h_a: 0.0</br>shotType: 0.0</br>lastAction: 0.0</br>minute: 3</br>distanceToGoal: 9.53310076709881</br>angleToGoal: 40.4664837945122</br>_original_yhat_: 0.053361547462168445</br>"
          ],
          [
           "</br>id: 1833</br>prediction: 0.115</br>situation: 2.72</br></br>h_a: 0.0</br>shotType: 0.0</br>lastAction: 0.0</br>minute: 3</br>distanceToGoal: 9.53310076709881</br>angleToGoal: 40.4664837945122</br>_original_yhat_: 0.053361547462168445</br>"
          ],
          [
           "</br>id: 1833</br>prediction: 0.115</br>situation: 2.7600000000000002</br></br>h_a: 0.0</br>shotType: 0.0</br>lastAction: 0.0</br>minute: 3</br>distanceToGoal: 9.53310076709881</br>angleToGoal: 40.4664837945122</br>_original_yhat_: 0.053361547462168445</br>"
          ],
          [
           "</br>id: 1833</br>prediction: 0.115</br>situation: 2.8000000000000003</br></br>h_a: 0.0</br>shotType: 0.0</br>lastAction: 0.0</br>minute: 3</br>distanceToGoal: 9.53310076709881</br>angleToGoal: 40.4664837945122</br>_original_yhat_: 0.053361547462168445</br>"
          ],
          [
           "</br>id: 1833</br>prediction: 0.115</br>situation: 2.84</br></br>h_a: 0.0</br>shotType: 0.0</br>lastAction: 0.0</br>minute: 3</br>distanceToGoal: 9.53310076709881</br>angleToGoal: 40.4664837945122</br>_original_yhat_: 0.053361547462168445</br>"
          ],
          [
           "</br>id: 1833</br>prediction: 0.115</br>situation: 2.88</br></br>h_a: 0.0</br>shotType: 0.0</br>lastAction: 0.0</br>minute: 3</br>distanceToGoal: 9.53310076709881</br>angleToGoal: 40.4664837945122</br>_original_yhat_: 0.053361547462168445</br>"
          ],
          [
           "</br>id: 1833</br>prediction: 0.115</br>situation: 2.92</br></br>h_a: 0.0</br>shotType: 0.0</br>lastAction: 0.0</br>minute: 3</br>distanceToGoal: 9.53310076709881</br>angleToGoal: 40.4664837945122</br>_original_yhat_: 0.053361547462168445</br>"
          ],
          [
           "</br>id: 1833</br>prediction: 0.115</br>situation: 2.96</br></br>h_a: 0.0</br>shotType: 0.0</br>lastAction: 0.0</br>minute: 3</br>distanceToGoal: 9.53310076709881</br>angleToGoal: 40.4664837945122</br>_original_yhat_: 0.053361547462168445</br>"
          ],
          [
           "</br>id: 1833</br>prediction: 0.115</br>situation: 3.0</br></br>h_a: 0.0</br>shotType: 0.0</br>lastAction: 0.0</br>minute: 3</br>distanceToGoal: 9.53310076709881</br>angleToGoal: 40.4664837945122</br>_original_yhat_: 0.053361547462168445</br>"
          ],
          [
           "</br>id: 1833</br>prediction: 0.111</br>situation: 3.04</br></br>h_a: 0.0</br>shotType: 0.0</br>lastAction: 0.0</br>minute: 3</br>distanceToGoal: 9.53310076709881</br>angleToGoal: 40.4664837945122</br>_original_yhat_: 0.053361547462168445</br>"
          ],
          [
           "</br>id: 1833</br>prediction: 0.111</br>situation: 3.08</br></br>h_a: 0.0</br>shotType: 0.0</br>lastAction: 0.0</br>minute: 3</br>distanceToGoal: 9.53310076709881</br>angleToGoal: 40.4664837945122</br>_original_yhat_: 0.053361547462168445</br>"
          ],
          [
           "</br>id: 1833</br>prediction: 0.111</br>situation: 3.12</br></br>h_a: 0.0</br>shotType: 0.0</br>lastAction: 0.0</br>minute: 3</br>distanceToGoal: 9.53310076709881</br>angleToGoal: 40.4664837945122</br>_original_yhat_: 0.053361547462168445</br>"
          ],
          [
           "</br>id: 1833</br>prediction: 0.111</br>situation: 3.16</br></br>h_a: 0.0</br>shotType: 0.0</br>lastAction: 0.0</br>minute: 3</br>distanceToGoal: 9.53310076709881</br>angleToGoal: 40.4664837945122</br>_original_yhat_: 0.053361547462168445</br>"
          ],
          [
           "</br>id: 1833</br>prediction: 0.111</br>situation: 3.2</br></br>h_a: 0.0</br>shotType: 0.0</br>lastAction: 0.0</br>minute: 3</br>distanceToGoal: 9.53310076709881</br>angleToGoal: 40.4664837945122</br>_original_yhat_: 0.053361547462168445</br>"
          ],
          [
           "</br>id: 1833</br>prediction: 0.111</br>situation: 3.24</br></br>h_a: 0.0</br>shotType: 0.0</br>lastAction: 0.0</br>minute: 3</br>distanceToGoal: 9.53310076709881</br>angleToGoal: 40.4664837945122</br>_original_yhat_: 0.053361547462168445</br>"
          ],
          [
           "</br>id: 1833</br>prediction: 0.111</br>situation: 3.2800000000000002</br></br>h_a: 0.0</br>shotType: 0.0</br>lastAction: 0.0</br>minute: 3</br>distanceToGoal: 9.53310076709881</br>angleToGoal: 40.4664837945122</br>_original_yhat_: 0.053361547462168445</br>"
          ],
          [
           "</br>id: 1833</br>prediction: 0.111</br>situation: 3.3200000000000003</br></br>h_a: 0.0</br>shotType: 0.0</br>lastAction: 0.0</br>minute: 3</br>distanceToGoal: 9.53310076709881</br>angleToGoal: 40.4664837945122</br>_original_yhat_: 0.053361547462168445</br>"
          ],
          [
           "</br>id: 1833</br>prediction: 0.111</br>situation: 3.36</br></br>h_a: 0.0</br>shotType: 0.0</br>lastAction: 0.0</br>minute: 3</br>distanceToGoal: 9.53310076709881</br>angleToGoal: 40.4664837945122</br>_original_yhat_: 0.053361547462168445</br>"
          ],
          [
           "</br>id: 1833</br>prediction: 0.111</br>situation: 3.4</br></br>h_a: 0.0</br>shotType: 0.0</br>lastAction: 0.0</br>minute: 3</br>distanceToGoal: 9.53310076709881</br>angleToGoal: 40.4664837945122</br>_original_yhat_: 0.053361547462168445</br>"
          ],
          [
           "</br>id: 1833</br>prediction: 0.111</br>situation: 3.44</br></br>h_a: 0.0</br>shotType: 0.0</br>lastAction: 0.0</br>minute: 3</br>distanceToGoal: 9.53310076709881</br>angleToGoal: 40.4664837945122</br>_original_yhat_: 0.053361547462168445</br>"
          ],
          [
           "</br>id: 1833</br>prediction: 0.111</br>situation: 3.48</br></br>h_a: 0.0</br>shotType: 0.0</br>lastAction: 0.0</br>minute: 3</br>distanceToGoal: 9.53310076709881</br>angleToGoal: 40.4664837945122</br>_original_yhat_: 0.053361547462168445</br>"
          ],
          [
           "</br>id: 1833</br>prediction: 0.045</br>situation: 3.52</br></br>h_a: 0.0</br>shotType: 0.0</br>lastAction: 0.0</br>minute: 3</br>distanceToGoal: 9.53310076709881</br>angleToGoal: 40.4664837945122</br>_original_yhat_: 0.053361547462168445</br>"
          ],
          [
           "</br>id: 1833</br>prediction: 0.045</br>situation: 3.56</br></br>h_a: 0.0</br>shotType: 0.0</br>lastAction: 0.0</br>minute: 3</br>distanceToGoal: 9.53310076709881</br>angleToGoal: 40.4664837945122</br>_original_yhat_: 0.053361547462168445</br>"
          ],
          [
           "</br>id: 1833</br>prediction: 0.045</br>situation: 3.6</br></br>h_a: 0.0</br>shotType: 0.0</br>lastAction: 0.0</br>minute: 3</br>distanceToGoal: 9.53310076709881</br>angleToGoal: 40.4664837945122</br>_original_yhat_: 0.053361547462168445</br>"
          ],
          [
           "</br>id: 1833</br>prediction: 0.045</br>situation: 3.64</br></br>h_a: 0.0</br>shotType: 0.0</br>lastAction: 0.0</br>minute: 3</br>distanceToGoal: 9.53310076709881</br>angleToGoal: 40.4664837945122</br>_original_yhat_: 0.053361547462168445</br>"
          ],
          [
           "</br>id: 1833</br>prediction: 0.045</br>situation: 3.68</br></br>h_a: 0.0</br>shotType: 0.0</br>lastAction: 0.0</br>minute: 3</br>distanceToGoal: 9.53310076709881</br>angleToGoal: 40.4664837945122</br>_original_yhat_: 0.053361547462168445</br>"
          ],
          [
           "</br>id: 1833</br>prediction: 0.045</br>situation: 3.72</br></br>h_a: 0.0</br>shotType: 0.0</br>lastAction: 0.0</br>minute: 3</br>distanceToGoal: 9.53310076709881</br>angleToGoal: 40.4664837945122</br>_original_yhat_: 0.053361547462168445</br>"
          ],
          [
           "</br>id: 1833</br>prediction: 0.045</br>situation: 3.7600000000000002</br></br>h_a: 0.0</br>shotType: 0.0</br>lastAction: 0.0</br>minute: 3</br>distanceToGoal: 9.53310076709881</br>angleToGoal: 40.4664837945122</br>_original_yhat_: 0.053361547462168445</br>"
          ],
          [
           "</br>id: 1833</br>prediction: 0.045</br>situation: 3.8000000000000003</br></br>h_a: 0.0</br>shotType: 0.0</br>lastAction: 0.0</br>minute: 3</br>distanceToGoal: 9.53310076709881</br>angleToGoal: 40.4664837945122</br>_original_yhat_: 0.053361547462168445</br>"
          ],
          [
           "</br>id: 1833</br>prediction: 0.045</br>situation: 3.84</br></br>h_a: 0.0</br>shotType: 0.0</br>lastAction: 0.0</br>minute: 3</br>distanceToGoal: 9.53310076709881</br>angleToGoal: 40.4664837945122</br>_original_yhat_: 0.053361547462168445</br>"
          ],
          [
           "</br>id: 1833</br>prediction: 0.045</br>situation: 3.88</br></br>h_a: 0.0</br>shotType: 0.0</br>lastAction: 0.0</br>minute: 3</br>distanceToGoal: 9.53310076709881</br>angleToGoal: 40.4664837945122</br>_original_yhat_: 0.053361547462168445</br>"
          ],
          [
           "</br>id: 1833</br>prediction: 0.045</br>situation: 3.92</br></br>h_a: 0.0</br>shotType: 0.0</br>lastAction: 0.0</br>minute: 3</br>distanceToGoal: 9.53310076709881</br>angleToGoal: 40.4664837945122</br>_original_yhat_: 0.053361547462168445</br>"
          ],
          [
           "</br>id: 1833</br>prediction: 0.045</br>situation: 3.96</br></br>h_a: 0.0</br>shotType: 0.0</br>lastAction: 0.0</br>minute: 3</br>distanceToGoal: 9.53310076709881</br>angleToGoal: 40.4664837945122</br>_original_yhat_: 0.053361547462168445</br>"
          ],
          [
           "</br>id: 1833</br>prediction: 0.045</br>situation: 4.0</br></br>h_a: 0.0</br>shotType: 0.0</br>lastAction: 0.0</br>minute: 3</br>distanceToGoal: 9.53310076709881</br>angleToGoal: 40.4664837945122</br>_original_yhat_: 0.053361547462168445</br>"
          ]
         ],
         "hovertemplate": "%{customdata[0]}<extra></extra>",
         "legendgroup": "Gradient Boosting",
         "line": {
          "color": "#46bac2",
          "dash": "solid",
          "width": 2
         },
         "marker": {
          "symbol": "circle"
         },
         "mode": "lines",
         "name": "Gradient Boosting",
         "opacity": 1,
         "orientation": "v",
         "showlegend": false,
         "type": "scatter",
         "x": [
          0,
          0.04,
          0.08,
          0.12,
          0.16,
          0.2,
          0.24,
          0.28,
          0.32,
          0.36,
          0.4,
          0.44,
          0.48,
          0.52,
          0.56,
          0.6,
          0.64,
          0.68,
          0.72,
          0.76,
          0.8,
          0.84,
          0.88,
          0.92,
          0.96,
          1,
          1.04,
          1.08,
          1.12,
          1.16,
          1.2,
          1.24,
          1.28,
          1.32,
          1.36,
          1.4000000000000001,
          1.44,
          1.48,
          1.52,
          1.56,
          1.6,
          1.6400000000000001,
          1.68,
          1.72,
          1.76,
          1.8,
          1.84,
          1.8800000000000001,
          1.92,
          1.96,
          2,
          2.04,
          2.08,
          2.12,
          2.16,
          2.2,
          2.24,
          2.2800000000000002,
          2.32,
          2.36,
          2.4,
          2.44,
          2.48,
          2.52,
          2.56,
          2.6,
          2.64,
          2.68,
          2.72,
          2.7600000000000002,
          2.8000000000000003,
          2.84,
          2.88,
          2.92,
          2.96,
          3,
          3.04,
          3.08,
          3.12,
          3.16,
          3.2,
          3.24,
          3.2800000000000002,
          3.3200000000000003,
          3.36,
          3.4,
          3.44,
          3.48,
          3.52,
          3.56,
          3.6,
          3.64,
          3.68,
          3.72,
          3.7600000000000002,
          3.8000000000000003,
          3.84,
          3.88,
          3.92,
          3.96,
          4
         ],
         "xaxis": "x8",
         "y": [
          0.03749587530056069,
          0.03749587530056069,
          0.03749587530056069,
          0.03749587530056069,
          0.03749587530056069,
          0.03749587530056069,
          0.03749587530056069,
          0.03749587530056069,
          0.03749587530056069,
          0.03749587530056069,
          0.03749587530056069,
          0.03749587530056069,
          0.03749587530056069,
          0.03749587530056069,
          0.03749587530056069,
          0.03749587530056069,
          0.03749587530056069,
          0.03749587530056069,
          0.03749587530056069,
          0.03749587530056069,
          0.03749587530056069,
          0.03749587530056069,
          0.03749587530056069,
          0.03749587530056069,
          0.03749587530056069,
          0.03749587530056069,
          0.03749587530056069,
          0.03749587530056069,
          0.03749587530056069,
          0.03749587530056069,
          0.03749587530056069,
          0.03749587530056069,
          0.03749587530056069,
          0.03749587530056069,
          0.03749587530056069,
          0.03749587530056069,
          0.03749587530056069,
          0.03749587530056069,
          0.053361547462168445,
          0.053361547462168445,
          0.053361547462168445,
          0.053361547462168445,
          0.053361547462168445,
          0.053361547462168445,
          0.053361547462168445,
          0.053361547462168445,
          0.053361547462168445,
          0.053361547462168445,
          0.053361547462168445,
          0.053361547462168445,
          0.053361547462168445,
          0.053361547462168445,
          0.053361547462168445,
          0.053361547462168445,
          0.053361547462168445,
          0.053361547462168445,
          0.053361547462168445,
          0.053361547462168445,
          0.053361547462168445,
          0.053361547462168445,
          0.053361547462168445,
          0.053361547462168445,
          0.053361547462168445,
          0.11534765267638951,
          0.11534765267638951,
          0.11534765267638951,
          0.11534765267638951,
          0.11534765267638951,
          0.11534765267638951,
          0.11534765267638951,
          0.11534765267638951,
          0.11534765267638951,
          0.11534765267638951,
          0.11534765267638951,
          0.11534765267638951,
          0.11534765267638951,
          0.11067216037440598,
          0.11067216037440598,
          0.11067216037440598,
          0.11067216037440598,
          0.11067216037440598,
          0.11067216037440598,
          0.11067216037440598,
          0.11067216037440598,
          0.11067216037440598,
          0.11067216037440598,
          0.11067216037440598,
          0.11067216037440598,
          0.04454056935962458,
          0.04454056935962458,
          0.04454056935962458,
          0.04454056935962458,
          0.04454056935962458,
          0.04454056935962458,
          0.04454056935962458,
          0.04454056935962458,
          0.04454056935962458,
          0.04454056935962458,
          0.04454056935962458,
          0.04454056935962458,
          0.04454056935962458
         ],
         "yaxis": "y8"
        },
        {
         "customdata": [
          [
           "</br>id: 1833</br>prediction: 0.053</br>shotType: 0.0</br></br>h_a: 0.0</br>situation: 2.0</br>lastAction: 0.0</br>minute: 3</br>distanceToGoal: 9.53310076709881</br>angleToGoal: 40.4664837945122</br>_original_yhat_: 0.053361547462168445</br>"
          ],
          [
           "</br>id: 1833</br>prediction: 0.053</br>shotType: 0.03</br></br>h_a: 0.0</br>situation: 2.0</br>lastAction: 0.0</br>minute: 3</br>distanceToGoal: 9.53310076709881</br>angleToGoal: 40.4664837945122</br>_original_yhat_: 0.053361547462168445</br>"
          ],
          [
           "</br>id: 1833</br>prediction: 0.053</br>shotType: 0.06</br></br>h_a: 0.0</br>situation: 2.0</br>lastAction: 0.0</br>minute: 3</br>distanceToGoal: 9.53310076709881</br>angleToGoal: 40.4664837945122</br>_original_yhat_: 0.053361547462168445</br>"
          ],
          [
           "</br>id: 1833</br>prediction: 0.053</br>shotType: 0.09</br></br>h_a: 0.0</br>situation: 2.0</br>lastAction: 0.0</br>minute: 3</br>distanceToGoal: 9.53310076709881</br>angleToGoal: 40.4664837945122</br>_original_yhat_: 0.053361547462168445</br>"
          ],
          [
           "</br>id: 1833</br>prediction: 0.053</br>shotType: 0.12</br></br>h_a: 0.0</br>situation: 2.0</br>lastAction: 0.0</br>minute: 3</br>distanceToGoal: 9.53310076709881</br>angleToGoal: 40.4664837945122</br>_original_yhat_: 0.053361547462168445</br>"
          ],
          [
           "</br>id: 1833</br>prediction: 0.053</br>shotType: 0.15</br></br>h_a: 0.0</br>situation: 2.0</br>lastAction: 0.0</br>minute: 3</br>distanceToGoal: 9.53310076709881</br>angleToGoal: 40.4664837945122</br>_original_yhat_: 0.053361547462168445</br>"
          ],
          [
           "</br>id: 1833</br>prediction: 0.053</br>shotType: 0.18</br></br>h_a: 0.0</br>situation: 2.0</br>lastAction: 0.0</br>minute: 3</br>distanceToGoal: 9.53310076709881</br>angleToGoal: 40.4664837945122</br>_original_yhat_: 0.053361547462168445</br>"
          ],
          [
           "</br>id: 1833</br>prediction: 0.053</br>shotType: 0.21</br></br>h_a: 0.0</br>situation: 2.0</br>lastAction: 0.0</br>minute: 3</br>distanceToGoal: 9.53310076709881</br>angleToGoal: 40.4664837945122</br>_original_yhat_: 0.053361547462168445</br>"
          ],
          [
           "</br>id: 1833</br>prediction: 0.053</br>shotType: 0.24</br></br>h_a: 0.0</br>situation: 2.0</br>lastAction: 0.0</br>minute: 3</br>distanceToGoal: 9.53310076709881</br>angleToGoal: 40.4664837945122</br>_original_yhat_: 0.053361547462168445</br>"
          ],
          [
           "</br>id: 1833</br>prediction: 0.053</br>shotType: 0.27</br></br>h_a: 0.0</br>situation: 2.0</br>lastAction: 0.0</br>minute: 3</br>distanceToGoal: 9.53310076709881</br>angleToGoal: 40.4664837945122</br>_original_yhat_: 0.053361547462168445</br>"
          ],
          [
           "</br>id: 1833</br>prediction: 0.053</br>shotType: 0.3</br></br>h_a: 0.0</br>situation: 2.0</br>lastAction: 0.0</br>minute: 3</br>distanceToGoal: 9.53310076709881</br>angleToGoal: 40.4664837945122</br>_original_yhat_: 0.053361547462168445</br>"
          ],
          [
           "</br>id: 1833</br>prediction: 0.053</br>shotType: 0.32999999999999996</br></br>h_a: 0.0</br>situation: 2.0</br>lastAction: 0.0</br>minute: 3</br>distanceToGoal: 9.53310076709881</br>angleToGoal: 40.4664837945122</br>_original_yhat_: 0.053361547462168445</br>"
          ],
          [
           "</br>id: 1833</br>prediction: 0.053</br>shotType: 0.36</br></br>h_a: 0.0</br>situation: 2.0</br>lastAction: 0.0</br>minute: 3</br>distanceToGoal: 9.53310076709881</br>angleToGoal: 40.4664837945122</br>_original_yhat_: 0.053361547462168445</br>"
          ],
          [
           "</br>id: 1833</br>prediction: 0.053</br>shotType: 0.39</br></br>h_a: 0.0</br>situation: 2.0</br>lastAction: 0.0</br>minute: 3</br>distanceToGoal: 9.53310076709881</br>angleToGoal: 40.4664837945122</br>_original_yhat_: 0.053361547462168445</br>"
          ],
          [
           "</br>id: 1833</br>prediction: 0.053</br>shotType: 0.42</br></br>h_a: 0.0</br>situation: 2.0</br>lastAction: 0.0</br>minute: 3</br>distanceToGoal: 9.53310076709881</br>angleToGoal: 40.4664837945122</br>_original_yhat_: 0.053361547462168445</br>"
          ],
          [
           "</br>id: 1833</br>prediction: 0.053</br>shotType: 0.44999999999999996</br></br>h_a: 0.0</br>situation: 2.0</br>lastAction: 0.0</br>minute: 3</br>distanceToGoal: 9.53310076709881</br>angleToGoal: 40.4664837945122</br>_original_yhat_: 0.053361547462168445</br>"
          ],
          [
           "</br>id: 1833</br>prediction: 0.053</br>shotType: 0.48</br></br>h_a: 0.0</br>situation: 2.0</br>lastAction: 0.0</br>minute: 3</br>distanceToGoal: 9.53310076709881</br>angleToGoal: 40.4664837945122</br>_original_yhat_: 0.053361547462168445</br>"
          ],
          [
           "</br>id: 1833</br>prediction: 0.062</br>shotType: 0.51</br></br>h_a: 0.0</br>situation: 2.0</br>lastAction: 0.0</br>minute: 3</br>distanceToGoal: 9.53310076709881</br>angleToGoal: 40.4664837945122</br>_original_yhat_: 0.053361547462168445</br>"
          ],
          [
           "</br>id: 1833</br>prediction: 0.062</br>shotType: 0.54</br></br>h_a: 0.0</br>situation: 2.0</br>lastAction: 0.0</br>minute: 3</br>distanceToGoal: 9.53310076709881</br>angleToGoal: 40.4664837945122</br>_original_yhat_: 0.053361547462168445</br>"
          ],
          [
           "</br>id: 1833</br>prediction: 0.062</br>shotType: 0.57</br></br>h_a: 0.0</br>situation: 2.0</br>lastAction: 0.0</br>minute: 3</br>distanceToGoal: 9.53310076709881</br>angleToGoal: 40.4664837945122</br>_original_yhat_: 0.053361547462168445</br>"
          ],
          [
           "</br>id: 1833</br>prediction: 0.062</br>shotType: 0.6</br></br>h_a: 0.0</br>situation: 2.0</br>lastAction: 0.0</br>minute: 3</br>distanceToGoal: 9.53310076709881</br>angleToGoal: 40.4664837945122</br>_original_yhat_: 0.053361547462168445</br>"
          ],
          [
           "</br>id: 1833</br>prediction: 0.062</br>shotType: 0.63</br></br>h_a: 0.0</br>situation: 2.0</br>lastAction: 0.0</br>minute: 3</br>distanceToGoal: 9.53310076709881</br>angleToGoal: 40.4664837945122</br>_original_yhat_: 0.053361547462168445</br>"
          ],
          [
           "</br>id: 1833</br>prediction: 0.062</br>shotType: 0.6599999999999999</br></br>h_a: 0.0</br>situation: 2.0</br>lastAction: 0.0</br>minute: 3</br>distanceToGoal: 9.53310076709881</br>angleToGoal: 40.4664837945122</br>_original_yhat_: 0.053361547462168445</br>"
          ],
          [
           "</br>id: 1833</br>prediction: 0.062</br>shotType: 0.69</br></br>h_a: 0.0</br>situation: 2.0</br>lastAction: 0.0</br>minute: 3</br>distanceToGoal: 9.53310076709881</br>angleToGoal: 40.4664837945122</br>_original_yhat_: 0.053361547462168445</br>"
          ],
          [
           "</br>id: 1833</br>prediction: 0.062</br>shotType: 0.72</br></br>h_a: 0.0</br>situation: 2.0</br>lastAction: 0.0</br>minute: 3</br>distanceToGoal: 9.53310076709881</br>angleToGoal: 40.4664837945122</br>_original_yhat_: 0.053361547462168445</br>"
          ],
          [
           "</br>id: 1833</br>prediction: 0.062</br>shotType: 0.75</br></br>h_a: 0.0</br>situation: 2.0</br>lastAction: 0.0</br>minute: 3</br>distanceToGoal: 9.53310076709881</br>angleToGoal: 40.4664837945122</br>_original_yhat_: 0.053361547462168445</br>"
          ],
          [
           "</br>id: 1833</br>prediction: 0.062</br>shotType: 0.78</br></br>h_a: 0.0</br>situation: 2.0</br>lastAction: 0.0</br>minute: 3</br>distanceToGoal: 9.53310076709881</br>angleToGoal: 40.4664837945122</br>_original_yhat_: 0.053361547462168445</br>"
          ],
          [
           "</br>id: 1833</br>prediction: 0.062</br>shotType: 0.8099999999999999</br></br>h_a: 0.0</br>situation: 2.0</br>lastAction: 0.0</br>minute: 3</br>distanceToGoal: 9.53310076709881</br>angleToGoal: 40.4664837945122</br>_original_yhat_: 0.053361547462168445</br>"
          ],
          [
           "</br>id: 1833</br>prediction: 0.062</br>shotType: 0.84</br></br>h_a: 0.0</br>situation: 2.0</br>lastAction: 0.0</br>minute: 3</br>distanceToGoal: 9.53310076709881</br>angleToGoal: 40.4664837945122</br>_original_yhat_: 0.053361547462168445</br>"
          ],
          [
           "</br>id: 1833</br>prediction: 0.062</br>shotType: 0.87</br></br>h_a: 0.0</br>situation: 2.0</br>lastAction: 0.0</br>minute: 3</br>distanceToGoal: 9.53310076709881</br>angleToGoal: 40.4664837945122</br>_original_yhat_: 0.053361547462168445</br>"
          ],
          [
           "</br>id: 1833</br>prediction: 0.062</br>shotType: 0.8999999999999999</br></br>h_a: 0.0</br>situation: 2.0</br>lastAction: 0.0</br>minute: 3</br>distanceToGoal: 9.53310076709881</br>angleToGoal: 40.4664837945122</br>_original_yhat_: 0.053361547462168445</br>"
          ],
          [
           "</br>id: 1833</br>prediction: 0.062</br>shotType: 0.9299999999999999</br></br>h_a: 0.0</br>situation: 2.0</br>lastAction: 0.0</br>minute: 3</br>distanceToGoal: 9.53310076709881</br>angleToGoal: 40.4664837945122</br>_original_yhat_: 0.053361547462168445</br>"
          ],
          [
           "</br>id: 1833</br>prediction: 0.062</br>shotType: 0.96</br></br>h_a: 0.0</br>situation: 2.0</br>lastAction: 0.0</br>minute: 3</br>distanceToGoal: 9.53310076709881</br>angleToGoal: 40.4664837945122</br>_original_yhat_: 0.053361547462168445</br>"
          ],
          [
           "</br>id: 1833</br>prediction: 0.062</br>shotType: 0.99</br></br>h_a: 0.0</br>situation: 2.0</br>lastAction: 0.0</br>minute: 3</br>distanceToGoal: 9.53310076709881</br>angleToGoal: 40.4664837945122</br>_original_yhat_: 0.053361547462168445</br>"
          ],
          [
           "</br>id: 1833</br>prediction: 0.062</br>shotType: 1.02</br></br>h_a: 0.0</br>situation: 2.0</br>lastAction: 0.0</br>minute: 3</br>distanceToGoal: 9.53310076709881</br>angleToGoal: 40.4664837945122</br>_original_yhat_: 0.053361547462168445</br>"
          ],
          [
           "</br>id: 1833</br>prediction: 0.062</br>shotType: 1.05</br></br>h_a: 0.0</br>situation: 2.0</br>lastAction: 0.0</br>minute: 3</br>distanceToGoal: 9.53310076709881</br>angleToGoal: 40.4664837945122</br>_original_yhat_: 0.053361547462168445</br>"
          ],
          [
           "</br>id: 1833</br>prediction: 0.062</br>shotType: 1.08</br></br>h_a: 0.0</br>situation: 2.0</br>lastAction: 0.0</br>minute: 3</br>distanceToGoal: 9.53310076709881</br>angleToGoal: 40.4664837945122</br>_original_yhat_: 0.053361547462168445</br>"
          ],
          [
           "</br>id: 1833</br>prediction: 0.062</br>shotType: 1.1099999999999999</br></br>h_a: 0.0</br>situation: 2.0</br>lastAction: 0.0</br>minute: 3</br>distanceToGoal: 9.53310076709881</br>angleToGoal: 40.4664837945122</br>_original_yhat_: 0.053361547462168445</br>"
          ],
          [
           "</br>id: 1833</br>prediction: 0.062</br>shotType: 1.14</br></br>h_a: 0.0</br>situation: 2.0</br>lastAction: 0.0</br>minute: 3</br>distanceToGoal: 9.53310076709881</br>angleToGoal: 40.4664837945122</br>_original_yhat_: 0.053361547462168445</br>"
          ],
          [
           "</br>id: 1833</br>prediction: 0.062</br>shotType: 1.17</br></br>h_a: 0.0</br>situation: 2.0</br>lastAction: 0.0</br>minute: 3</br>distanceToGoal: 9.53310076709881</br>angleToGoal: 40.4664837945122</br>_original_yhat_: 0.053361547462168445</br>"
          ],
          [
           "</br>id: 1833</br>prediction: 0.062</br>shotType: 1.2</br></br>h_a: 0.0</br>situation: 2.0</br>lastAction: 0.0</br>minute: 3</br>distanceToGoal: 9.53310076709881</br>angleToGoal: 40.4664837945122</br>_original_yhat_: 0.053361547462168445</br>"
          ],
          [
           "</br>id: 1833</br>prediction: 0.062</br>shotType: 1.23</br></br>h_a: 0.0</br>situation: 2.0</br>lastAction: 0.0</br>minute: 3</br>distanceToGoal: 9.53310076709881</br>angleToGoal: 40.4664837945122</br>_original_yhat_: 0.053361547462168445</br>"
          ],
          [
           "</br>id: 1833</br>prediction: 0.062</br>shotType: 1.26</br></br>h_a: 0.0</br>situation: 2.0</br>lastAction: 0.0</br>minute: 3</br>distanceToGoal: 9.53310076709881</br>angleToGoal: 40.4664837945122</br>_original_yhat_: 0.053361547462168445</br>"
          ],
          [
           "</br>id: 1833</br>prediction: 0.062</br>shotType: 1.29</br></br>h_a: 0.0</br>situation: 2.0</br>lastAction: 0.0</br>minute: 3</br>distanceToGoal: 9.53310076709881</br>angleToGoal: 40.4664837945122</br>_original_yhat_: 0.053361547462168445</br>"
          ],
          [
           "</br>id: 1833</br>prediction: 0.062</br>shotType: 1.3199999999999998</br></br>h_a: 0.0</br>situation: 2.0</br>lastAction: 0.0</br>minute: 3</br>distanceToGoal: 9.53310076709881</br>angleToGoal: 40.4664837945122</br>_original_yhat_: 0.053361547462168445</br>"
          ],
          [
           "</br>id: 1833</br>prediction: 0.062</br>shotType: 1.3499999999999999</br></br>h_a: 0.0</br>situation: 2.0</br>lastAction: 0.0</br>minute: 3</br>distanceToGoal: 9.53310076709881</br>angleToGoal: 40.4664837945122</br>_original_yhat_: 0.053361547462168445</br>"
          ],
          [
           "</br>id: 1833</br>prediction: 0.062</br>shotType: 1.38</br></br>h_a: 0.0</br>situation: 2.0</br>lastAction: 0.0</br>minute: 3</br>distanceToGoal: 9.53310076709881</br>angleToGoal: 40.4664837945122</br>_original_yhat_: 0.053361547462168445</br>"
          ],
          [
           "</br>id: 1833</br>prediction: 0.062</br>shotType: 1.41</br></br>h_a: 0.0</br>situation: 2.0</br>lastAction: 0.0</br>minute: 3</br>distanceToGoal: 9.53310076709881</br>angleToGoal: 40.4664837945122</br>_original_yhat_: 0.053361547462168445</br>"
          ],
          [
           "</br>id: 1833</br>prediction: 0.062</br>shotType: 1.44</br></br>h_a: 0.0</br>situation: 2.0</br>lastAction: 0.0</br>minute: 3</br>distanceToGoal: 9.53310076709881</br>angleToGoal: 40.4664837945122</br>_original_yhat_: 0.053361547462168445</br>"
          ],
          [
           "</br>id: 1833</br>prediction: 0.062</br>shotType: 1.47</br></br>h_a: 0.0</br>situation: 2.0</br>lastAction: 0.0</br>minute: 3</br>distanceToGoal: 9.53310076709881</br>angleToGoal: 40.4664837945122</br>_original_yhat_: 0.053361547462168445</br>"
          ],
          [
           "</br>id: 1833</br>prediction: 0.062</br>shotType: 1.5</br></br>h_a: 0.0</br>situation: 2.0</br>lastAction: 0.0</br>minute: 3</br>distanceToGoal: 9.53310076709881</br>angleToGoal: 40.4664837945122</br>_original_yhat_: 0.053361547462168445</br>"
          ],
          [
           "</br>id: 1833</br>prediction: 0.062</br>shotType: 1.53</br></br>h_a: 0.0</br>situation: 2.0</br>lastAction: 0.0</br>minute: 3</br>distanceToGoal: 9.53310076709881</br>angleToGoal: 40.4664837945122</br>_original_yhat_: 0.053361547462168445</br>"
          ],
          [
           "</br>id: 1833</br>prediction: 0.062</br>shotType: 1.56</br></br>h_a: 0.0</br>situation: 2.0</br>lastAction: 0.0</br>minute: 3</br>distanceToGoal: 9.53310076709881</br>angleToGoal: 40.4664837945122</br>_original_yhat_: 0.053361547462168445</br>"
          ],
          [
           "</br>id: 1833</br>prediction: 0.062</br>shotType: 1.5899999999999999</br></br>h_a: 0.0</br>situation: 2.0</br>lastAction: 0.0</br>minute: 3</br>distanceToGoal: 9.53310076709881</br>angleToGoal: 40.4664837945122</br>_original_yhat_: 0.053361547462168445</br>"
          ],
          [
           "</br>id: 1833</br>prediction: 0.062</br>shotType: 1.6199999999999999</br></br>h_a: 0.0</br>situation: 2.0</br>lastAction: 0.0</br>minute: 3</br>distanceToGoal: 9.53310076709881</br>angleToGoal: 40.4664837945122</br>_original_yhat_: 0.053361547462168445</br>"
          ],
          [
           "</br>id: 1833</br>prediction: 0.062</br>shotType: 1.65</br></br>h_a: 0.0</br>situation: 2.0</br>lastAction: 0.0</br>minute: 3</br>distanceToGoal: 9.53310076709881</br>angleToGoal: 40.4664837945122</br>_original_yhat_: 0.053361547462168445</br>"
          ],
          [
           "</br>id: 1833</br>prediction: 0.062</br>shotType: 1.68</br></br>h_a: 0.0</br>situation: 2.0</br>lastAction: 0.0</br>minute: 3</br>distanceToGoal: 9.53310076709881</br>angleToGoal: 40.4664837945122</br>_original_yhat_: 0.053361547462168445</br>"
          ],
          [
           "</br>id: 1833</br>prediction: 0.062</br>shotType: 1.71</br></br>h_a: 0.0</br>situation: 2.0</br>lastAction: 0.0</br>minute: 3</br>distanceToGoal: 9.53310076709881</br>angleToGoal: 40.4664837945122</br>_original_yhat_: 0.053361547462168445</br>"
          ],
          [
           "</br>id: 1833</br>prediction: 0.062</br>shotType: 1.74</br></br>h_a: 0.0</br>situation: 2.0</br>lastAction: 0.0</br>minute: 3</br>distanceToGoal: 9.53310076709881</br>angleToGoal: 40.4664837945122</br>_original_yhat_: 0.053361547462168445</br>"
          ],
          [
           "</br>id: 1833</br>prediction: 0.062</br>shotType: 1.77</br></br>h_a: 0.0</br>situation: 2.0</br>lastAction: 0.0</br>minute: 3</br>distanceToGoal: 9.53310076709881</br>angleToGoal: 40.4664837945122</br>_original_yhat_: 0.053361547462168445</br>"
          ],
          [
           "</br>id: 1833</br>prediction: 0.062</br>shotType: 1.7999999999999998</br></br>h_a: 0.0</br>situation: 2.0</br>lastAction: 0.0</br>minute: 3</br>distanceToGoal: 9.53310076709881</br>angleToGoal: 40.4664837945122</br>_original_yhat_: 0.053361547462168445</br>"
          ],
          [
           "</br>id: 1833</br>prediction: 0.062</br>shotType: 1.8299999999999998</br></br>h_a: 0.0</br>situation: 2.0</br>lastAction: 0.0</br>minute: 3</br>distanceToGoal: 9.53310076709881</br>angleToGoal: 40.4664837945122</br>_original_yhat_: 0.053361547462168445</br>"
          ],
          [
           "</br>id: 1833</br>prediction: 0.062</br>shotType: 1.8599999999999999</br></br>h_a: 0.0</br>situation: 2.0</br>lastAction: 0.0</br>minute: 3</br>distanceToGoal: 9.53310076709881</br>angleToGoal: 40.4664837945122</br>_original_yhat_: 0.053361547462168445</br>"
          ],
          [
           "</br>id: 1833</br>prediction: 0.062</br>shotType: 1.89</br></br>h_a: 0.0</br>situation: 2.0</br>lastAction: 0.0</br>minute: 3</br>distanceToGoal: 9.53310076709881</br>angleToGoal: 40.4664837945122</br>_original_yhat_: 0.053361547462168445</br>"
          ],
          [
           "</br>id: 1833</br>prediction: 0.062</br>shotType: 1.92</br></br>h_a: 0.0</br>situation: 2.0</br>lastAction: 0.0</br>minute: 3</br>distanceToGoal: 9.53310076709881</br>angleToGoal: 40.4664837945122</br>_original_yhat_: 0.053361547462168445</br>"
          ],
          [
           "</br>id: 1833</br>prediction: 0.062</br>shotType: 1.95</br></br>h_a: 0.0</br>situation: 2.0</br>lastAction: 0.0</br>minute: 3</br>distanceToGoal: 9.53310076709881</br>angleToGoal: 40.4664837945122</br>_original_yhat_: 0.053361547462168445</br>"
          ],
          [
           "</br>id: 1833</br>prediction: 0.062</br>shotType: 1.98</br></br>h_a: 0.0</br>situation: 2.0</br>lastAction: 0.0</br>minute: 3</br>distanceToGoal: 9.53310076709881</br>angleToGoal: 40.4664837945122</br>_original_yhat_: 0.053361547462168445</br>"
          ],
          [
           "</br>id: 1833</br>prediction: 0.062</br>shotType: 2.01</br></br>h_a: 0.0</br>situation: 2.0</br>lastAction: 0.0</br>minute: 3</br>distanceToGoal: 9.53310076709881</br>angleToGoal: 40.4664837945122</br>_original_yhat_: 0.053361547462168445</br>"
          ],
          [
           "</br>id: 1833</br>prediction: 0.062</br>shotType: 2.04</br></br>h_a: 0.0</br>situation: 2.0</br>lastAction: 0.0</br>minute: 3</br>distanceToGoal: 9.53310076709881</br>angleToGoal: 40.4664837945122</br>_original_yhat_: 0.053361547462168445</br>"
          ],
          [
           "</br>id: 1833</br>prediction: 0.062</br>shotType: 2.07</br></br>h_a: 0.0</br>situation: 2.0</br>lastAction: 0.0</br>minute: 3</br>distanceToGoal: 9.53310076709881</br>angleToGoal: 40.4664837945122</br>_original_yhat_: 0.053361547462168445</br>"
          ],
          [
           "</br>id: 1833</br>prediction: 0.062</br>shotType: 2.1</br></br>h_a: 0.0</br>situation: 2.0</br>lastAction: 0.0</br>minute: 3</br>distanceToGoal: 9.53310076709881</br>angleToGoal: 40.4664837945122</br>_original_yhat_: 0.053361547462168445</br>"
          ],
          [
           "</br>id: 1833</br>prediction: 0.062</br>shotType: 2.13</br></br>h_a: 0.0</br>situation: 2.0</br>lastAction: 0.0</br>minute: 3</br>distanceToGoal: 9.53310076709881</br>angleToGoal: 40.4664837945122</br>_original_yhat_: 0.053361547462168445</br>"
          ],
          [
           "</br>id: 1833</br>prediction: 0.062</br>shotType: 2.16</br></br>h_a: 0.0</br>situation: 2.0</br>lastAction: 0.0</br>minute: 3</br>distanceToGoal: 9.53310076709881</br>angleToGoal: 40.4664837945122</br>_original_yhat_: 0.053361547462168445</br>"
          ],
          [
           "</br>id: 1833</br>prediction: 0.062</br>shotType: 2.19</br></br>h_a: 0.0</br>situation: 2.0</br>lastAction: 0.0</br>minute: 3</br>distanceToGoal: 9.53310076709881</br>angleToGoal: 40.4664837945122</br>_original_yhat_: 0.053361547462168445</br>"
          ],
          [
           "</br>id: 1833</br>prediction: 0.062</br>shotType: 2.2199999999999998</br></br>h_a: 0.0</br>situation: 2.0</br>lastAction: 0.0</br>minute: 3</br>distanceToGoal: 9.53310076709881</br>angleToGoal: 40.4664837945122</br>_original_yhat_: 0.053361547462168445</br>"
          ],
          [
           "</br>id: 1833</br>prediction: 0.062</br>shotType: 2.25</br></br>h_a: 0.0</br>situation: 2.0</br>lastAction: 0.0</br>minute: 3</br>distanceToGoal: 9.53310076709881</br>angleToGoal: 40.4664837945122</br>_original_yhat_: 0.053361547462168445</br>"
          ],
          [
           "</br>id: 1833</br>prediction: 0.062</br>shotType: 2.28</br></br>h_a: 0.0</br>situation: 2.0</br>lastAction: 0.0</br>minute: 3</br>distanceToGoal: 9.53310076709881</br>angleToGoal: 40.4664837945122</br>_original_yhat_: 0.053361547462168445</br>"
          ],
          [
           "</br>id: 1833</br>prediction: 0.062</br>shotType: 2.31</br></br>h_a: 0.0</br>situation: 2.0</br>lastAction: 0.0</br>minute: 3</br>distanceToGoal: 9.53310076709881</br>angleToGoal: 40.4664837945122</br>_original_yhat_: 0.053361547462168445</br>"
          ],
          [
           "</br>id: 1833</br>prediction: 0.062</br>shotType: 2.34</br></br>h_a: 0.0</br>situation: 2.0</br>lastAction: 0.0</br>minute: 3</br>distanceToGoal: 9.53310076709881</br>angleToGoal: 40.4664837945122</br>_original_yhat_: 0.053361547462168445</br>"
          ],
          [
           "</br>id: 1833</br>prediction: 0.062</br>shotType: 2.37</br></br>h_a: 0.0</br>situation: 2.0</br>lastAction: 0.0</br>minute: 3</br>distanceToGoal: 9.53310076709881</br>angleToGoal: 40.4664837945122</br>_original_yhat_: 0.053361547462168445</br>"
          ],
          [
           "</br>id: 1833</br>prediction: 0.062</br>shotType: 2.4</br></br>h_a: 0.0</br>situation: 2.0</br>lastAction: 0.0</br>minute: 3</br>distanceToGoal: 9.53310076709881</br>angleToGoal: 40.4664837945122</br>_original_yhat_: 0.053361547462168445</br>"
          ],
          [
           "</br>id: 1833</br>prediction: 0.062</br>shotType: 2.4299999999999997</br></br>h_a: 0.0</br>situation: 2.0</br>lastAction: 0.0</br>minute: 3</br>distanceToGoal: 9.53310076709881</br>angleToGoal: 40.4664837945122</br>_original_yhat_: 0.053361547462168445</br>"
          ],
          [
           "</br>id: 1833</br>prediction: 0.062</br>shotType: 2.46</br></br>h_a: 0.0</br>situation: 2.0</br>lastAction: 0.0</br>minute: 3</br>distanceToGoal: 9.53310076709881</br>angleToGoal: 40.4664837945122</br>_original_yhat_: 0.053361547462168445</br>"
          ],
          [
           "</br>id: 1833</br>prediction: 0.062</br>shotType: 2.4899999999999998</br></br>h_a: 0.0</br>situation: 2.0</br>lastAction: 0.0</br>minute: 3</br>distanceToGoal: 9.53310076709881</br>angleToGoal: 40.4664837945122</br>_original_yhat_: 0.053361547462168445</br>"
          ],
          [
           "</br>id: 1833</br>prediction: 0.062</br>shotType: 2.52</br></br>h_a: 0.0</br>situation: 2.0</br>lastAction: 0.0</br>minute: 3</br>distanceToGoal: 9.53310076709881</br>angleToGoal: 40.4664837945122</br>_original_yhat_: 0.053361547462168445</br>"
          ],
          [
           "</br>id: 1833</br>prediction: 0.062</br>shotType: 2.55</br></br>h_a: 0.0</br>situation: 2.0</br>lastAction: 0.0</br>minute: 3</br>distanceToGoal: 9.53310076709881</br>angleToGoal: 40.4664837945122</br>_original_yhat_: 0.053361547462168445</br>"
          ],
          [
           "</br>id: 1833</br>prediction: 0.062</br>shotType: 2.58</br></br>h_a: 0.0</br>situation: 2.0</br>lastAction: 0.0</br>minute: 3</br>distanceToGoal: 9.53310076709881</br>angleToGoal: 40.4664837945122</br>_original_yhat_: 0.053361547462168445</br>"
          ],
          [
           "</br>id: 1833</br>prediction: 0.062</br>shotType: 2.61</br></br>h_a: 0.0</br>situation: 2.0</br>lastAction: 0.0</br>minute: 3</br>distanceToGoal: 9.53310076709881</br>angleToGoal: 40.4664837945122</br>_original_yhat_: 0.053361547462168445</br>"
          ],
          [
           "</br>id: 1833</br>prediction: 0.062</br>shotType: 2.6399999999999997</br></br>h_a: 0.0</br>situation: 2.0</br>lastAction: 0.0</br>minute: 3</br>distanceToGoal: 9.53310076709881</br>angleToGoal: 40.4664837945122</br>_original_yhat_: 0.053361547462168445</br>"
          ],
          [
           "</br>id: 1833</br>prediction: 0.062</br>shotType: 2.67</br></br>h_a: 0.0</br>situation: 2.0</br>lastAction: 0.0</br>minute: 3</br>distanceToGoal: 9.53310076709881</br>angleToGoal: 40.4664837945122</br>_original_yhat_: 0.053361547462168445</br>"
          ],
          [
           "</br>id: 1833</br>prediction: 0.062</br>shotType: 2.6999999999999997</br></br>h_a: 0.0</br>situation: 2.0</br>lastAction: 0.0</br>minute: 3</br>distanceToGoal: 9.53310076709881</br>angleToGoal: 40.4664837945122</br>_original_yhat_: 0.053361547462168445</br>"
          ],
          [
           "</br>id: 1833</br>prediction: 0.062</br>shotType: 2.73</br></br>h_a: 0.0</br>situation: 2.0</br>lastAction: 0.0</br>minute: 3</br>distanceToGoal: 9.53310076709881</br>angleToGoal: 40.4664837945122</br>_original_yhat_: 0.053361547462168445</br>"
          ],
          [
           "</br>id: 1833</br>prediction: 0.062</br>shotType: 2.76</br></br>h_a: 0.0</br>situation: 2.0</br>lastAction: 0.0</br>minute: 3</br>distanceToGoal: 9.53310076709881</br>angleToGoal: 40.4664837945122</br>_original_yhat_: 0.053361547462168445</br>"
          ],
          [
           "</br>id: 1833</br>prediction: 0.062</br>shotType: 2.79</br></br>h_a: 0.0</br>situation: 2.0</br>lastAction: 0.0</br>minute: 3</br>distanceToGoal: 9.53310076709881</br>angleToGoal: 40.4664837945122</br>_original_yhat_: 0.053361547462168445</br>"
          ],
          [
           "</br>id: 1833</br>prediction: 0.062</br>shotType: 2.82</br></br>h_a: 0.0</br>situation: 2.0</br>lastAction: 0.0</br>minute: 3</br>distanceToGoal: 9.53310076709881</br>angleToGoal: 40.4664837945122</br>_original_yhat_: 0.053361547462168445</br>"
          ],
          [
           "</br>id: 1833</br>prediction: 0.062</br>shotType: 2.85</br></br>h_a: 0.0</br>situation: 2.0</br>lastAction: 0.0</br>minute: 3</br>distanceToGoal: 9.53310076709881</br>angleToGoal: 40.4664837945122</br>_original_yhat_: 0.053361547462168445</br>"
          ],
          [
           "</br>id: 1833</br>prediction: 0.062</br>shotType: 2.88</br></br>h_a: 0.0</br>situation: 2.0</br>lastAction: 0.0</br>minute: 3</br>distanceToGoal: 9.53310076709881</br>angleToGoal: 40.4664837945122</br>_original_yhat_: 0.053361547462168445</br>"
          ],
          [
           "</br>id: 1833</br>prediction: 0.062</br>shotType: 2.9099999999999997</br></br>h_a: 0.0</br>situation: 2.0</br>lastAction: 0.0</br>minute: 3</br>distanceToGoal: 9.53310076709881</br>angleToGoal: 40.4664837945122</br>_original_yhat_: 0.053361547462168445</br>"
          ],
          [
           "</br>id: 1833</br>prediction: 0.062</br>shotType: 2.94</br></br>h_a: 0.0</br>situation: 2.0</br>lastAction: 0.0</br>minute: 3</br>distanceToGoal: 9.53310076709881</br>angleToGoal: 40.4664837945122</br>_original_yhat_: 0.053361547462168445</br>"
          ],
          [
           "</br>id: 1833</br>prediction: 0.062</br>shotType: 2.9699999999999998</br></br>h_a: 0.0</br>situation: 2.0</br>lastAction: 0.0</br>minute: 3</br>distanceToGoal: 9.53310076709881</br>angleToGoal: 40.4664837945122</br>_original_yhat_: 0.053361547462168445</br>"
          ],
          [
           "</br>id: 1833</br>prediction: 0.062</br>shotType: 3.0</br></br>h_a: 0.0</br>situation: 2.0</br>lastAction: 0.0</br>minute: 3</br>distanceToGoal: 9.53310076709881</br>angleToGoal: 40.4664837945122</br>_original_yhat_: 0.053361547462168445</br>"
          ]
         ],
         "hovertemplate": "%{customdata[0]}<extra></extra>",
         "legendgroup": "Gradient Boosting",
         "line": {
          "color": "#46bac2",
          "dash": "solid",
          "width": 2
         },
         "marker": {
          "symbol": "circle"
         },
         "mode": "lines",
         "name": "Gradient Boosting",
         "opacity": 1,
         "orientation": "v",
         "showlegend": false,
         "type": "scatter",
         "x": [
          0,
          0.03,
          0.06,
          0.09,
          0.12,
          0.15,
          0.18,
          0.21,
          0.24,
          0.27,
          0.3,
          0.32999999999999996,
          0.36,
          0.39,
          0.42,
          0.44999999999999996,
          0.48,
          0.51,
          0.54,
          0.57,
          0.6,
          0.63,
          0.6599999999999999,
          0.69,
          0.72,
          0.75,
          0.78,
          0.8099999999999999,
          0.84,
          0.87,
          0.8999999999999999,
          0.9299999999999999,
          0.96,
          0.99,
          1.02,
          1.05,
          1.08,
          1.1099999999999999,
          1.14,
          1.17,
          1.2,
          1.23,
          1.26,
          1.29,
          1.3199999999999998,
          1.3499999999999999,
          1.38,
          1.41,
          1.44,
          1.47,
          1.5,
          1.53,
          1.56,
          1.5899999999999999,
          1.6199999999999999,
          1.65,
          1.68,
          1.71,
          1.74,
          1.77,
          1.7999999999999998,
          1.8299999999999998,
          1.8599999999999999,
          1.89,
          1.92,
          1.95,
          1.98,
          2.01,
          2.04,
          2.07,
          2.1,
          2.13,
          2.16,
          2.19,
          2.2199999999999998,
          2.25,
          2.28,
          2.31,
          2.34,
          2.37,
          2.4,
          2.4299999999999997,
          2.46,
          2.4899999999999998,
          2.52,
          2.55,
          2.58,
          2.61,
          2.6399999999999997,
          2.67,
          2.6999999999999997,
          2.73,
          2.76,
          2.79,
          2.82,
          2.85,
          2.88,
          2.9099999999999997,
          2.94,
          2.9699999999999998,
          3
         ],
         "xaxis": "x5",
         "y": [
          0.053361547462168445,
          0.053361547462168445,
          0.053361547462168445,
          0.053361547462168445,
          0.053361547462168445,
          0.053361547462168445,
          0.053361547462168445,
          0.053361547462168445,
          0.053361547462168445,
          0.053361547462168445,
          0.053361547462168445,
          0.053361547462168445,
          0.053361547462168445,
          0.053361547462168445,
          0.053361547462168445,
          0.053361547462168445,
          0.053361547462168445,
          0.06218095074043291,
          0.06218095074043291,
          0.06218095074043291,
          0.06218095074043291,
          0.06218095074043291,
          0.06218095074043291,
          0.06218095074043291,
          0.06218095074043291,
          0.06218095074043291,
          0.06218095074043291,
          0.06218095074043291,
          0.06218095074043291,
          0.06218095074043291,
          0.06218095074043291,
          0.06218095074043291,
          0.06218095074043291,
          0.06218095074043291,
          0.06218095074043291,
          0.06218095074043291,
          0.06218095074043291,
          0.06218095074043291,
          0.06218095074043291,
          0.06218095074043291,
          0.06218095074043291,
          0.06218095074043291,
          0.06218095074043291,
          0.06218095074043291,
          0.06218095074043291,
          0.06218095074043291,
          0.06218095074043291,
          0.06218095074043291,
          0.06218095074043291,
          0.06218095074043291,
          0.06218095074043291,
          0.06218095074043291,
          0.06218095074043291,
          0.06218095074043291,
          0.06218095074043291,
          0.06218095074043291,
          0.06218095074043291,
          0.06218095074043291,
          0.06218095074043291,
          0.06218095074043291,
          0.06218095074043291,
          0.06218095074043291,
          0.06218095074043291,
          0.06218095074043291,
          0.06218095074043291,
          0.06218095074043291,
          0.06218095074043291,
          0.06218095074043291,
          0.06218095074043291,
          0.06218095074043291,
          0.06218095074043291,
          0.06218095074043291,
          0.06218095074043291,
          0.06218095074043291,
          0.06218095074043291,
          0.06218095074043291,
          0.06218095074043291,
          0.06218095074043291,
          0.06218095074043291,
          0.06218095074043291,
          0.06218095074043291,
          0.06218095074043291,
          0.06218095074043291,
          0.06218095074043291,
          0.06218095074043291,
          0.06218095074043291,
          0.06218095074043291,
          0.06218095074043291,
          0.06218095074043291,
          0.06218095074043291,
          0.06218095074043291,
          0.06218095074043291,
          0.06218095074043291,
          0.06218095074043291,
          0.06218095074043291,
          0.06218095074043291,
          0.06218095074043291,
          0.06218095074043291,
          0.06218095074043291,
          0.06218095074043291,
          0.06218095074043291
         ],
         "yaxis": "y5"
        },
        {
         "customdata": [
          [
           "</br>id: 1833</br>prediction: 0.053</br>lastAction: 0.0</br></br>h_a: 0.0</br>situation: 2.0</br>shotType: 0.0</br>minute: 3</br>distanceToGoal: 9.53310076709881</br>angleToGoal: 40.4664837945122</br>_original_yhat_: 0.053361547462168445</br>"
          ],
          [
           "</br>id: 1833</br>prediction: 0.053</br>lastAction: 0.26</br></br>h_a: 0.0</br>situation: 2.0</br>shotType: 0.0</br>minute: 3</br>distanceToGoal: 9.53310076709881</br>angleToGoal: 40.4664837945122</br>_original_yhat_: 0.053361547462168445</br>"
          ],
          [
           "</br>id: 1833</br>prediction: 0.079</br>lastAction: 0.52</br></br>h_a: 0.0</br>situation: 2.0</br>shotType: 0.0</br>minute: 3</br>distanceToGoal: 9.53310076709881</br>angleToGoal: 40.4664837945122</br>_original_yhat_: 0.053361547462168445</br>"
          ],
          [
           "</br>id: 1833</br>prediction: 0.079</br>lastAction: 0.78</br></br>h_a: 0.0</br>situation: 2.0</br>shotType: 0.0</br>minute: 3</br>distanceToGoal: 9.53310076709881</br>angleToGoal: 40.4664837945122</br>_original_yhat_: 0.053361547462168445</br>"
          ],
          [
           "</br>id: 1833</br>prediction: 0.079</br>lastAction: 1.04</br></br>h_a: 0.0</br>situation: 2.0</br>shotType: 0.0</br>minute: 3</br>distanceToGoal: 9.53310076709881</br>angleToGoal: 40.4664837945122</br>_original_yhat_: 0.053361547462168445</br>"
          ],
          [
           "</br>id: 1833</br>prediction: 0.079</br>lastAction: 1.3</br></br>h_a: 0.0</br>situation: 2.0</br>shotType: 0.0</br>minute: 3</br>distanceToGoal: 9.53310076709881</br>angleToGoal: 40.4664837945122</br>_original_yhat_: 0.053361547462168445</br>"
          ],
          [
           "</br>id: 1833</br>prediction: 0.079</br>lastAction: 1.56</br></br>h_a: 0.0</br>situation: 2.0</br>shotType: 0.0</br>minute: 3</br>distanceToGoal: 9.53310076709881</br>angleToGoal: 40.4664837945122</br>_original_yhat_: 0.053361547462168445</br>"
          ],
          [
           "</br>id: 1833</br>prediction: 0.079</br>lastAction: 1.82</br></br>h_a: 0.0</br>situation: 2.0</br>shotType: 0.0</br>minute: 3</br>distanceToGoal: 9.53310076709881</br>angleToGoal: 40.4664837945122</br>_original_yhat_: 0.053361547462168445</br>"
          ],
          [
           "</br>id: 1833</br>prediction: 0.079</br>lastAction: 2.08</br></br>h_a: 0.0</br>situation: 2.0</br>shotType: 0.0</br>minute: 3</br>distanceToGoal: 9.53310076709881</br>angleToGoal: 40.4664837945122</br>_original_yhat_: 0.053361547462168445</br>"
          ],
          [
           "</br>id: 1833</br>prediction: 0.079</br>lastAction: 2.34</br></br>h_a: 0.0</br>situation: 2.0</br>shotType: 0.0</br>minute: 3</br>distanceToGoal: 9.53310076709881</br>angleToGoal: 40.4664837945122</br>_original_yhat_: 0.053361547462168445</br>"
          ],
          [
           "</br>id: 1833</br>prediction: 0.079</br>lastAction: 2.6</br></br>h_a: 0.0</br>situation: 2.0</br>shotType: 0.0</br>minute: 3</br>distanceToGoal: 9.53310076709881</br>angleToGoal: 40.4664837945122</br>_original_yhat_: 0.053361547462168445</br>"
          ],
          [
           "</br>id: 1833</br>prediction: 0.079</br>lastAction: 2.8600000000000003</br></br>h_a: 0.0</br>situation: 2.0</br>shotType: 0.0</br>minute: 3</br>distanceToGoal: 9.53310076709881</br>angleToGoal: 40.4664837945122</br>_original_yhat_: 0.053361547462168445</br>"
          ],
          [
           "</br>id: 1833</br>prediction: 0.079</br>lastAction: 3.12</br></br>h_a: 0.0</br>situation: 2.0</br>shotType: 0.0</br>minute: 3</br>distanceToGoal: 9.53310076709881</br>angleToGoal: 40.4664837945122</br>_original_yhat_: 0.053361547462168445</br>"
          ],
          [
           "</br>id: 1833</br>prediction: 0.079</br>lastAction: 3.38</br></br>h_a: 0.0</br>situation: 2.0</br>shotType: 0.0</br>minute: 3</br>distanceToGoal: 9.53310076709881</br>angleToGoal: 40.4664837945122</br>_original_yhat_: 0.053361547462168445</br>"
          ],
          [
           "</br>id: 1833</br>prediction: 0.079</br>lastAction: 3.64</br></br>h_a: 0.0</br>situation: 2.0</br>shotType: 0.0</br>minute: 3</br>distanceToGoal: 9.53310076709881</br>angleToGoal: 40.4664837945122</br>_original_yhat_: 0.053361547462168445</br>"
          ],
          [
           "</br>id: 1833</br>prediction: 0.079</br>lastAction: 3.9000000000000004</br></br>h_a: 0.0</br>situation: 2.0</br>shotType: 0.0</br>minute: 3</br>distanceToGoal: 9.53310076709881</br>angleToGoal: 40.4664837945122</br>_original_yhat_: 0.053361547462168445</br>"
          ],
          [
           "</br>id: 1833</br>prediction: 0.079</br>lastAction: 4.16</br></br>h_a: 0.0</br>situation: 2.0</br>shotType: 0.0</br>minute: 3</br>distanceToGoal: 9.53310076709881</br>angleToGoal: 40.4664837945122</br>_original_yhat_: 0.053361547462168445</br>"
          ],
          [
           "</br>id: 1833</br>prediction: 0.079</br>lastAction: 4.42</br></br>h_a: 0.0</br>situation: 2.0</br>shotType: 0.0</br>minute: 3</br>distanceToGoal: 9.53310076709881</br>angleToGoal: 40.4664837945122</br>_original_yhat_: 0.053361547462168445</br>"
          ],
          [
           "</br>id: 1833</br>prediction: 0.079</br>lastAction: 4.68</br></br>h_a: 0.0</br>situation: 2.0</br>shotType: 0.0</br>minute: 3</br>distanceToGoal: 9.53310076709881</br>angleToGoal: 40.4664837945122</br>_original_yhat_: 0.053361547462168445</br>"
          ],
          [
           "</br>id: 1833</br>prediction: 0.079</br>lastAction: 4.94</br></br>h_a: 0.0</br>situation: 2.0</br>shotType: 0.0</br>minute: 3</br>distanceToGoal: 9.53310076709881</br>angleToGoal: 40.4664837945122</br>_original_yhat_: 0.053361547462168445</br>"
          ],
          [
           "</br>id: 1833</br>prediction: 0.079</br>lastAction: 5.2</br></br>h_a: 0.0</br>situation: 2.0</br>shotType: 0.0</br>minute: 3</br>distanceToGoal: 9.53310076709881</br>angleToGoal: 40.4664837945122</br>_original_yhat_: 0.053361547462168445</br>"
          ],
          [
           "</br>id: 1833</br>prediction: 0.079</br>lastAction: 5.46</br></br>h_a: 0.0</br>situation: 2.0</br>shotType: 0.0</br>minute: 3</br>distanceToGoal: 9.53310076709881</br>angleToGoal: 40.4664837945122</br>_original_yhat_: 0.053361547462168445</br>"
          ],
          [
           "</br>id: 1833</br>prediction: 0.079</br>lastAction: 5.720000000000001</br></br>h_a: 0.0</br>situation: 2.0</br>shotType: 0.0</br>minute: 3</br>distanceToGoal: 9.53310076709881</br>angleToGoal: 40.4664837945122</br>_original_yhat_: 0.053361547462168445</br>"
          ],
          [
           "</br>id: 1833</br>prediction: 0.079</br>lastAction: 5.98</br></br>h_a: 0.0</br>situation: 2.0</br>shotType: 0.0</br>minute: 3</br>distanceToGoal: 9.53310076709881</br>angleToGoal: 40.4664837945122</br>_original_yhat_: 0.053361547462168445</br>"
          ],
          [
           "</br>id: 1833</br>prediction: 0.079</br>lastAction: 6.24</br></br>h_a: 0.0</br>situation: 2.0</br>shotType: 0.0</br>minute: 3</br>distanceToGoal: 9.53310076709881</br>angleToGoal: 40.4664837945122</br>_original_yhat_: 0.053361547462168445</br>"
          ],
          [
           "</br>id: 1833</br>prediction: 0.079</br>lastAction: 6.5</br></br>h_a: 0.0</br>situation: 2.0</br>shotType: 0.0</br>minute: 3</br>distanceToGoal: 9.53310076709881</br>angleToGoal: 40.4664837945122</br>_original_yhat_: 0.053361547462168445</br>"
          ],
          [
           "</br>id: 1833</br>prediction: 0.079</br>lastAction: 6.76</br></br>h_a: 0.0</br>situation: 2.0</br>shotType: 0.0</br>minute: 3</br>distanceToGoal: 9.53310076709881</br>angleToGoal: 40.4664837945122</br>_original_yhat_: 0.053361547462168445</br>"
          ],
          [
           "</br>id: 1833</br>prediction: 0.075</br>lastAction: 7.0200000000000005</br></br>h_a: 0.0</br>situation: 2.0</br>shotType: 0.0</br>minute: 3</br>distanceToGoal: 9.53310076709881</br>angleToGoal: 40.4664837945122</br>_original_yhat_: 0.053361547462168445</br>"
          ],
          [
           "</br>id: 1833</br>prediction: 0.075</br>lastAction: 7.28</br></br>h_a: 0.0</br>situation: 2.0</br>shotType: 0.0</br>minute: 3</br>distanceToGoal: 9.53310076709881</br>angleToGoal: 40.4664837945122</br>_original_yhat_: 0.053361547462168445</br>"
          ],
          [
           "</br>id: 1833</br>prediction: 0.075</br>lastAction: 7.54</br></br>h_a: 0.0</br>situation: 2.0</br>shotType: 0.0</br>minute: 3</br>distanceToGoal: 9.53310076709881</br>angleToGoal: 40.4664837945122</br>_original_yhat_: 0.053361547462168445</br>"
          ],
          [
           "</br>id: 1833</br>prediction: 0.075</br>lastAction: 7.800000000000001</br></br>h_a: 0.0</br>situation: 2.0</br>shotType: 0.0</br>minute: 3</br>distanceToGoal: 9.53310076709881</br>angleToGoal: 40.4664837945122</br>_original_yhat_: 0.053361547462168445</br>"
          ],
          [
           "</br>id: 1833</br>prediction: 0.075</br>lastAction: 8.06</br></br>h_a: 0.0</br>situation: 2.0</br>shotType: 0.0</br>minute: 3</br>distanceToGoal: 9.53310076709881</br>angleToGoal: 40.4664837945122</br>_original_yhat_: 0.053361547462168445</br>"
          ],
          [
           "</br>id: 1833</br>prediction: 0.075</br>lastAction: 8.32</br></br>h_a: 0.0</br>situation: 2.0</br>shotType: 0.0</br>minute: 3</br>distanceToGoal: 9.53310076709881</br>angleToGoal: 40.4664837945122</br>_original_yhat_: 0.053361547462168445</br>"
          ],
          [
           "</br>id: 1833</br>prediction: 0.075</br>lastAction: 8.58</br></br>h_a: 0.0</br>situation: 2.0</br>shotType: 0.0</br>minute: 3</br>distanceToGoal: 9.53310076709881</br>angleToGoal: 40.4664837945122</br>_original_yhat_: 0.053361547462168445</br>"
          ],
          [
           "</br>id: 1833</br>prediction: 0.075</br>lastAction: 8.84</br></br>h_a: 0.0</br>situation: 2.0</br>shotType: 0.0</br>minute: 3</br>distanceToGoal: 9.53310076709881</br>angleToGoal: 40.4664837945122</br>_original_yhat_: 0.053361547462168445</br>"
          ],
          [
           "</br>id: 1833</br>prediction: 0.075</br>lastAction: 9.1</br></br>h_a: 0.0</br>situation: 2.0</br>shotType: 0.0</br>minute: 3</br>distanceToGoal: 9.53310076709881</br>angleToGoal: 40.4664837945122</br>_original_yhat_: 0.053361547462168445</br>"
          ],
          [
           "</br>id: 1833</br>prediction: 0.075</br>lastAction: 9.36</br></br>h_a: 0.0</br>situation: 2.0</br>shotType: 0.0</br>minute: 3</br>distanceToGoal: 9.53310076709881</br>angleToGoal: 40.4664837945122</br>_original_yhat_: 0.053361547462168445</br>"
          ],
          [
           "</br>id: 1833</br>prediction: 0.075</br>lastAction: 9.620000000000001</br></br>h_a: 0.0</br>situation: 2.0</br>shotType: 0.0</br>minute: 3</br>distanceToGoal: 9.53310076709881</br>angleToGoal: 40.4664837945122</br>_original_yhat_: 0.053361547462168445</br>"
          ],
          [
           "</br>id: 1833</br>prediction: 0.075</br>lastAction: 9.88</br></br>h_a: 0.0</br>situation: 2.0</br>shotType: 0.0</br>minute: 3</br>distanceToGoal: 9.53310076709881</br>angleToGoal: 40.4664837945122</br>_original_yhat_: 0.053361547462168445</br>"
          ],
          [
           "</br>id: 1833</br>prediction: 0.075</br>lastAction: 10.14</br></br>h_a: 0.0</br>situation: 2.0</br>shotType: 0.0</br>minute: 3</br>distanceToGoal: 9.53310076709881</br>angleToGoal: 40.4664837945122</br>_original_yhat_: 0.053361547462168445</br>"
          ],
          [
           "</br>id: 1833</br>prediction: 0.075</br>lastAction: 10.4</br></br>h_a: 0.0</br>situation: 2.0</br>shotType: 0.0</br>minute: 3</br>distanceToGoal: 9.53310076709881</br>angleToGoal: 40.4664837945122</br>_original_yhat_: 0.053361547462168445</br>"
          ],
          [
           "</br>id: 1833</br>prediction: 0.075</br>lastAction: 10.66</br></br>h_a: 0.0</br>situation: 2.0</br>shotType: 0.0</br>minute: 3</br>distanceToGoal: 9.53310076709881</br>angleToGoal: 40.4664837945122</br>_original_yhat_: 0.053361547462168445</br>"
          ],
          [
           "</br>id: 1833</br>prediction: 0.075</br>lastAction: 10.92</br></br>h_a: 0.0</br>situation: 2.0</br>shotType: 0.0</br>minute: 3</br>distanceToGoal: 9.53310076709881</br>angleToGoal: 40.4664837945122</br>_original_yhat_: 0.053361547462168445</br>"
          ],
          [
           "</br>id: 1833</br>prediction: 0.075</br>lastAction: 11.18</br></br>h_a: 0.0</br>situation: 2.0</br>shotType: 0.0</br>minute: 3</br>distanceToGoal: 9.53310076709881</br>angleToGoal: 40.4664837945122</br>_original_yhat_: 0.053361547462168445</br>"
          ],
          [
           "</br>id: 1833</br>prediction: 0.075</br>lastAction: 11.440000000000001</br></br>h_a: 0.0</br>situation: 2.0</br>shotType: 0.0</br>minute: 3</br>distanceToGoal: 9.53310076709881</br>angleToGoal: 40.4664837945122</br>_original_yhat_: 0.053361547462168445</br>"
          ],
          [
           "</br>id: 1833</br>prediction: 0.075</br>lastAction: 11.700000000000001</br></br>h_a: 0.0</br>situation: 2.0</br>shotType: 0.0</br>minute: 3</br>distanceToGoal: 9.53310076709881</br>angleToGoal: 40.4664837945122</br>_original_yhat_: 0.053361547462168445</br>"
          ],
          [
           "</br>id: 1833</br>prediction: 0.075</br>lastAction: 11.96</br></br>h_a: 0.0</br>situation: 2.0</br>shotType: 0.0</br>minute: 3</br>distanceToGoal: 9.53310076709881</br>angleToGoal: 40.4664837945122</br>_original_yhat_: 0.053361547462168445</br>"
          ],
          [
           "</br>id: 1833</br>prediction: 0.075</br>lastAction: 12.22</br></br>h_a: 0.0</br>situation: 2.0</br>shotType: 0.0</br>minute: 3</br>distanceToGoal: 9.53310076709881</br>angleToGoal: 40.4664837945122</br>_original_yhat_: 0.053361547462168445</br>"
          ],
          [
           "</br>id: 1833</br>prediction: 0.075</br>lastAction: 12.48</br></br>h_a: 0.0</br>situation: 2.0</br>shotType: 0.0</br>minute: 3</br>distanceToGoal: 9.53310076709881</br>angleToGoal: 40.4664837945122</br>_original_yhat_: 0.053361547462168445</br>"
          ],
          [
           "</br>id: 1833</br>prediction: 0.075</br>lastAction: 12.74</br></br>h_a: 0.0</br>situation: 2.0</br>shotType: 0.0</br>minute: 3</br>distanceToGoal: 9.53310076709881</br>angleToGoal: 40.4664837945122</br>_original_yhat_: 0.053361547462168445</br>"
          ],
          [
           "</br>id: 1833</br>prediction: 0.075</br>lastAction: 13.0</br></br>h_a: 0.0</br>situation: 2.0</br>shotType: 0.0</br>minute: 3</br>distanceToGoal: 9.53310076709881</br>angleToGoal: 40.4664837945122</br>_original_yhat_: 0.053361547462168445</br>"
          ],
          [
           "</br>id: 1833</br>prediction: 0.075</br>lastAction: 13.26</br></br>h_a: 0.0</br>situation: 2.0</br>shotType: 0.0</br>minute: 3</br>distanceToGoal: 9.53310076709881</br>angleToGoal: 40.4664837945122</br>_original_yhat_: 0.053361547462168445</br>"
          ],
          [
           "</br>id: 1833</br>prediction: 0.075</br>lastAction: 13.52</br></br>h_a: 0.0</br>situation: 2.0</br>shotType: 0.0</br>minute: 3</br>distanceToGoal: 9.53310076709881</br>angleToGoal: 40.4664837945122</br>_original_yhat_: 0.053361547462168445</br>"
          ],
          [
           "</br>id: 1833</br>prediction: 0.075</br>lastAction: 13.780000000000001</br></br>h_a: 0.0</br>situation: 2.0</br>shotType: 0.0</br>minute: 3</br>distanceToGoal: 9.53310076709881</br>angleToGoal: 40.4664837945122</br>_original_yhat_: 0.053361547462168445</br>"
          ],
          [
           "</br>id: 1833</br>prediction: 0.075</br>lastAction: 14.040000000000001</br></br>h_a: 0.0</br>situation: 2.0</br>shotType: 0.0</br>minute: 3</br>distanceToGoal: 9.53310076709881</br>angleToGoal: 40.4664837945122</br>_original_yhat_: 0.053361547462168445</br>"
          ],
          [
           "</br>id: 1833</br>prediction: 0.075</br>lastAction: 14.3</br></br>h_a: 0.0</br>situation: 2.0</br>shotType: 0.0</br>minute: 3</br>distanceToGoal: 9.53310076709881</br>angleToGoal: 40.4664837945122</br>_original_yhat_: 0.053361547462168445</br>"
          ],
          [
           "</br>id: 1833</br>prediction: 0.053</br>lastAction: 14.56</br></br>h_a: 0.0</br>situation: 2.0</br>shotType: 0.0</br>minute: 3</br>distanceToGoal: 9.53310076709881</br>angleToGoal: 40.4664837945122</br>_original_yhat_: 0.053361547462168445</br>"
          ],
          [
           "</br>id: 1833</br>prediction: 0.053</br>lastAction: 14.82</br></br>h_a: 0.0</br>situation: 2.0</br>shotType: 0.0</br>minute: 3</br>distanceToGoal: 9.53310076709881</br>angleToGoal: 40.4664837945122</br>_original_yhat_: 0.053361547462168445</br>"
          ],
          [
           "</br>id: 1833</br>prediction: 0.053</br>lastAction: 15.08</br></br>h_a: 0.0</br>situation: 2.0</br>shotType: 0.0</br>minute: 3</br>distanceToGoal: 9.53310076709881</br>angleToGoal: 40.4664837945122</br>_original_yhat_: 0.053361547462168445</br>"
          ],
          [
           "</br>id: 1833</br>prediction: 0.053</br>lastAction: 15.34</br></br>h_a: 0.0</br>situation: 2.0</br>shotType: 0.0</br>minute: 3</br>distanceToGoal: 9.53310076709881</br>angleToGoal: 40.4664837945122</br>_original_yhat_: 0.053361547462168445</br>"
          ],
          [
           "</br>id: 1833</br>prediction: 0.053</br>lastAction: 15.600000000000001</br></br>h_a: 0.0</br>situation: 2.0</br>shotType: 0.0</br>minute: 3</br>distanceToGoal: 9.53310076709881</br>angleToGoal: 40.4664837945122</br>_original_yhat_: 0.053361547462168445</br>"
          ],
          [
           "</br>id: 1833</br>prediction: 0.053</br>lastAction: 15.860000000000001</br></br>h_a: 0.0</br>situation: 2.0</br>shotType: 0.0</br>minute: 3</br>distanceToGoal: 9.53310076709881</br>angleToGoal: 40.4664837945122</br>_original_yhat_: 0.053361547462168445</br>"
          ],
          [
           "</br>id: 1833</br>prediction: 0.053</br>lastAction: 16.12</br></br>h_a: 0.0</br>situation: 2.0</br>shotType: 0.0</br>minute: 3</br>distanceToGoal: 9.53310076709881</br>angleToGoal: 40.4664837945122</br>_original_yhat_: 0.053361547462168445</br>"
          ],
          [
           "</br>id: 1833</br>prediction: 0.053</br>lastAction: 16.38</br></br>h_a: 0.0</br>situation: 2.0</br>shotType: 0.0</br>minute: 3</br>distanceToGoal: 9.53310076709881</br>angleToGoal: 40.4664837945122</br>_original_yhat_: 0.053361547462168445</br>"
          ],
          [
           "</br>id: 1833</br>prediction: 0.053</br>lastAction: 16.64</br></br>h_a: 0.0</br>situation: 2.0</br>shotType: 0.0</br>minute: 3</br>distanceToGoal: 9.53310076709881</br>angleToGoal: 40.4664837945122</br>_original_yhat_: 0.053361547462168445</br>"
          ],
          [
           "</br>id: 1833</br>prediction: 0.053</br>lastAction: 16.900000000000002</br></br>h_a: 0.0</br>situation: 2.0</br>shotType: 0.0</br>minute: 3</br>distanceToGoal: 9.53310076709881</br>angleToGoal: 40.4664837945122</br>_original_yhat_: 0.053361547462168445</br>"
          ],
          [
           "</br>id: 1833</br>prediction: 0.053</br>lastAction: 17.16</br></br>h_a: 0.0</br>situation: 2.0</br>shotType: 0.0</br>minute: 3</br>distanceToGoal: 9.53310076709881</br>angleToGoal: 40.4664837945122</br>_original_yhat_: 0.053361547462168445</br>"
          ],
          [
           "</br>id: 1833</br>prediction: 0.053</br>lastAction: 17.42</br></br>h_a: 0.0</br>situation: 2.0</br>shotType: 0.0</br>minute: 3</br>distanceToGoal: 9.53310076709881</br>angleToGoal: 40.4664837945122</br>_original_yhat_: 0.053361547462168445</br>"
          ],
          [
           "</br>id: 1833</br>prediction: 0.053</br>lastAction: 17.68</br></br>h_a: 0.0</br>situation: 2.0</br>shotType: 0.0</br>minute: 3</br>distanceToGoal: 9.53310076709881</br>angleToGoal: 40.4664837945122</br>_original_yhat_: 0.053361547462168445</br>"
          ],
          [
           "</br>id: 1833</br>prediction: 0.053</br>lastAction: 17.94</br></br>h_a: 0.0</br>situation: 2.0</br>shotType: 0.0</br>minute: 3</br>distanceToGoal: 9.53310076709881</br>angleToGoal: 40.4664837945122</br>_original_yhat_: 0.053361547462168445</br>"
          ],
          [
           "</br>id: 1833</br>prediction: 0.053</br>lastAction: 18.2</br></br>h_a: 0.0</br>situation: 2.0</br>shotType: 0.0</br>minute: 3</br>distanceToGoal: 9.53310076709881</br>angleToGoal: 40.4664837945122</br>_original_yhat_: 0.053361547462168445</br>"
          ],
          [
           "</br>id: 1833</br>prediction: 0.053</br>lastAction: 18.46</br></br>h_a: 0.0</br>situation: 2.0</br>shotType: 0.0</br>minute: 3</br>distanceToGoal: 9.53310076709881</br>angleToGoal: 40.4664837945122</br>_original_yhat_: 0.053361547462168445</br>"
          ],
          [
           "</br>id: 1833</br>prediction: 0.053</br>lastAction: 18.72</br></br>h_a: 0.0</br>situation: 2.0</br>shotType: 0.0</br>minute: 3</br>distanceToGoal: 9.53310076709881</br>angleToGoal: 40.4664837945122</br>_original_yhat_: 0.053361547462168445</br>"
          ],
          [
           "</br>id: 1833</br>prediction: 0.053</br>lastAction: 18.98</br></br>h_a: 0.0</br>situation: 2.0</br>shotType: 0.0</br>minute: 3</br>distanceToGoal: 9.53310076709881</br>angleToGoal: 40.4664837945122</br>_original_yhat_: 0.053361547462168445</br>"
          ],
          [
           "</br>id: 1833</br>prediction: 0.134</br>lastAction: 19.240000000000002</br></br>h_a: 0.0</br>situation: 2.0</br>shotType: 0.0</br>minute: 3</br>distanceToGoal: 9.53310076709881</br>angleToGoal: 40.4664837945122</br>_original_yhat_: 0.053361547462168445</br>"
          ],
          [
           "</br>id: 1833</br>prediction: 0.134</br>lastAction: 19.5</br></br>h_a: 0.0</br>situation: 2.0</br>shotType: 0.0</br>minute: 3</br>distanceToGoal: 9.53310076709881</br>angleToGoal: 40.4664837945122</br>_original_yhat_: 0.053361547462168445</br>"
          ],
          [
           "</br>id: 1833</br>prediction: 0.205</br>lastAction: 19.76</br></br>h_a: 0.0</br>situation: 2.0</br>shotType: 0.0</br>minute: 3</br>distanceToGoal: 9.53310076709881</br>angleToGoal: 40.4664837945122</br>_original_yhat_: 0.053361547462168445</br>"
          ],
          [
           "</br>id: 1833</br>prediction: 0.205</br>lastAction: 20.02</br></br>h_a: 0.0</br>situation: 2.0</br>shotType: 0.0</br>minute: 3</br>distanceToGoal: 9.53310076709881</br>angleToGoal: 40.4664837945122</br>_original_yhat_: 0.053361547462168445</br>"
          ],
          [
           "</br>id: 1833</br>prediction: 0.205</br>lastAction: 20.28</br></br>h_a: 0.0</br>situation: 2.0</br>shotType: 0.0</br>minute: 3</br>distanceToGoal: 9.53310076709881</br>angleToGoal: 40.4664837945122</br>_original_yhat_: 0.053361547462168445</br>"
          ],
          [
           "</br>id: 1833</br>prediction: 0.205</br>lastAction: 20.54</br></br>h_a: 0.0</br>situation: 2.0</br>shotType: 0.0</br>minute: 3</br>distanceToGoal: 9.53310076709881</br>angleToGoal: 40.4664837945122</br>_original_yhat_: 0.053361547462168445</br>"
          ],
          [
           "</br>id: 1833</br>prediction: 0.205</br>lastAction: 20.8</br></br>h_a: 0.0</br>situation: 2.0</br>shotType: 0.0</br>minute: 3</br>distanceToGoal: 9.53310076709881</br>angleToGoal: 40.4664837945122</br>_original_yhat_: 0.053361547462168445</br>"
          ],
          [
           "</br>id: 1833</br>prediction: 0.205</br>lastAction: 21.060000000000002</br></br>h_a: 0.0</br>situation: 2.0</br>shotType: 0.0</br>minute: 3</br>distanceToGoal: 9.53310076709881</br>angleToGoal: 40.4664837945122</br>_original_yhat_: 0.053361547462168445</br>"
          ],
          [
           "</br>id: 1833</br>prediction: 0.205</br>lastAction: 21.32</br></br>h_a: 0.0</br>situation: 2.0</br>shotType: 0.0</br>minute: 3</br>distanceToGoal: 9.53310076709881</br>angleToGoal: 40.4664837945122</br>_original_yhat_: 0.053361547462168445</br>"
          ],
          [
           "</br>id: 1833</br>prediction: 0.267</br>lastAction: 21.580000000000002</br></br>h_a: 0.0</br>situation: 2.0</br>shotType: 0.0</br>minute: 3</br>distanceToGoal: 9.53310076709881</br>angleToGoal: 40.4664837945122</br>_original_yhat_: 0.053361547462168445</br>"
          ],
          [
           "</br>id: 1833</br>prediction: 0.267</br>lastAction: 21.84</br></br>h_a: 0.0</br>situation: 2.0</br>shotType: 0.0</br>minute: 3</br>distanceToGoal: 9.53310076709881</br>angleToGoal: 40.4664837945122</br>_original_yhat_: 0.053361547462168445</br>"
          ],
          [
           "</br>id: 1833</br>prediction: 0.267</br>lastAction: 22.1</br></br>h_a: 0.0</br>situation: 2.0</br>shotType: 0.0</br>minute: 3</br>distanceToGoal: 9.53310076709881</br>angleToGoal: 40.4664837945122</br>_original_yhat_: 0.053361547462168445</br>"
          ],
          [
           "</br>id: 1833</br>prediction: 0.267</br>lastAction: 22.36</br></br>h_a: 0.0</br>situation: 2.0</br>shotType: 0.0</br>minute: 3</br>distanceToGoal: 9.53310076709881</br>angleToGoal: 40.4664837945122</br>_original_yhat_: 0.053361547462168445</br>"
          ],
          [
           "</br>id: 1833</br>prediction: 0.267</br>lastAction: 22.62</br></br>h_a: 0.0</br>situation: 2.0</br>shotType: 0.0</br>minute: 3</br>distanceToGoal: 9.53310076709881</br>angleToGoal: 40.4664837945122</br>_original_yhat_: 0.053361547462168445</br>"
          ],
          [
           "</br>id: 1833</br>prediction: 0.267</br>lastAction: 22.880000000000003</br></br>h_a: 0.0</br>situation: 2.0</br>shotType: 0.0</br>minute: 3</br>distanceToGoal: 9.53310076709881</br>angleToGoal: 40.4664837945122</br>_original_yhat_: 0.053361547462168445</br>"
          ],
          [
           "</br>id: 1833</br>prediction: 0.206</br>lastAction: 23.14</br></br>h_a: 0.0</br>situation: 2.0</br>shotType: 0.0</br>minute: 3</br>distanceToGoal: 9.53310076709881</br>angleToGoal: 40.4664837945122</br>_original_yhat_: 0.053361547462168445</br>"
          ],
          [
           "</br>id: 1833</br>prediction: 0.206</br>lastAction: 23.400000000000002</br></br>h_a: 0.0</br>situation: 2.0</br>shotType: 0.0</br>minute: 3</br>distanceToGoal: 9.53310076709881</br>angleToGoal: 40.4664837945122</br>_original_yhat_: 0.053361547462168445</br>"
          ],
          [
           "</br>id: 1833</br>prediction: 0.206</br>lastAction: 23.66</br></br>h_a: 0.0</br>situation: 2.0</br>shotType: 0.0</br>minute: 3</br>distanceToGoal: 9.53310076709881</br>angleToGoal: 40.4664837945122</br>_original_yhat_: 0.053361547462168445</br>"
          ],
          [
           "</br>id: 1833</br>prediction: 0.206</br>lastAction: 23.92</br></br>h_a: 0.0</br>situation: 2.0</br>shotType: 0.0</br>minute: 3</br>distanceToGoal: 9.53310076709881</br>angleToGoal: 40.4664837945122</br>_original_yhat_: 0.053361547462168445</br>"
          ],
          [
           "</br>id: 1833</br>prediction: 0.206</br>lastAction: 24.18</br></br>h_a: 0.0</br>situation: 2.0</br>shotType: 0.0</br>minute: 3</br>distanceToGoal: 9.53310076709881</br>angleToGoal: 40.4664837945122</br>_original_yhat_: 0.053361547462168445</br>"
          ],
          [
           "</br>id: 1833</br>prediction: 0.206</br>lastAction: 24.44</br></br>h_a: 0.0</br>situation: 2.0</br>shotType: 0.0</br>minute: 3</br>distanceToGoal: 9.53310076709881</br>angleToGoal: 40.4664837945122</br>_original_yhat_: 0.053361547462168445</br>"
          ],
          [
           "</br>id: 1833</br>prediction: 0.206</br>lastAction: 24.7</br></br>h_a: 0.0</br>situation: 2.0</br>shotType: 0.0</br>minute: 3</br>distanceToGoal: 9.53310076709881</br>angleToGoal: 40.4664837945122</br>_original_yhat_: 0.053361547462168445</br>"
          ],
          [
           "</br>id: 1833</br>prediction: 0.206</br>lastAction: 24.96</br></br>h_a: 0.0</br>situation: 2.0</br>shotType: 0.0</br>minute: 3</br>distanceToGoal: 9.53310076709881</br>angleToGoal: 40.4664837945122</br>_original_yhat_: 0.053361547462168445</br>"
          ],
          [
           "</br>id: 1833</br>prediction: 0.206</br>lastAction: 25.220000000000002</br></br>h_a: 0.0</br>situation: 2.0</br>shotType: 0.0</br>minute: 3</br>distanceToGoal: 9.53310076709881</br>angleToGoal: 40.4664837945122</br>_original_yhat_: 0.053361547462168445</br>"
          ],
          [
           "</br>id: 1833</br>prediction: 0.206</br>lastAction: 25.48</br></br>h_a: 0.0</br>situation: 2.0</br>shotType: 0.0</br>minute: 3</br>distanceToGoal: 9.53310076709881</br>angleToGoal: 40.4664837945122</br>_original_yhat_: 0.053361547462168445</br>"
          ],
          [
           "</br>id: 1833</br>prediction: 0.156</br>lastAction: 25.740000000000002</br></br>h_a: 0.0</br>situation: 2.0</br>shotType: 0.0</br>minute: 3</br>distanceToGoal: 9.53310076709881</br>angleToGoal: 40.4664837945122</br>_original_yhat_: 0.053361547462168445</br>"
          ],
          [
           "</br>id: 1833</br>prediction: 0.156</br>lastAction: 26.0</br></br>h_a: 0.0</br>situation: 2.0</br>shotType: 0.0</br>minute: 3</br>distanceToGoal: 9.53310076709881</br>angleToGoal: 40.4664837945122</br>_original_yhat_: 0.053361547462168445</br>"
          ]
         ],
         "hovertemplate": "%{customdata[0]}<extra></extra>",
         "legendgroup": "Gradient Boosting",
         "line": {
          "color": "#46bac2",
          "dash": "solid",
          "width": 2
         },
         "marker": {
          "symbol": "circle"
         },
         "mode": "lines",
         "name": "Gradient Boosting",
         "opacity": 1,
         "orientation": "v",
         "showlegend": false,
         "type": "scatter",
         "x": [
          0,
          0.26,
          0.52,
          0.78,
          1.04,
          1.3,
          1.56,
          1.82,
          2.08,
          2.34,
          2.6,
          2.8600000000000003,
          3.12,
          3.38,
          3.64,
          3.9000000000000004,
          4.16,
          4.42,
          4.68,
          4.94,
          5.2,
          5.46,
          5.720000000000001,
          5.98,
          6.24,
          6.5,
          6.76,
          7.0200000000000005,
          7.28,
          7.54,
          7.800000000000001,
          8.06,
          8.32,
          8.58,
          8.84,
          9.1,
          9.36,
          9.620000000000001,
          9.88,
          10.14,
          10.4,
          10.66,
          10.92,
          11.18,
          11.440000000000001,
          11.700000000000001,
          11.96,
          12.22,
          12.48,
          12.74,
          13,
          13.26,
          13.52,
          13.780000000000001,
          14.040000000000001,
          14.3,
          14.56,
          14.82,
          15.08,
          15.34,
          15.600000000000001,
          15.860000000000001,
          16.12,
          16.38,
          16.64,
          16.900000000000002,
          17.16,
          17.42,
          17.68,
          17.94,
          18.2,
          18.46,
          18.72,
          18.98,
          19.240000000000002,
          19.5,
          19.76,
          20.02,
          20.28,
          20.54,
          20.8,
          21.060000000000002,
          21.32,
          21.580000000000002,
          21.84,
          22.1,
          22.36,
          22.62,
          22.880000000000003,
          23.14,
          23.400000000000002,
          23.66,
          23.92,
          24.18,
          24.44,
          24.7,
          24.96,
          25.220000000000002,
          25.48,
          25.740000000000002,
          26
         ],
         "xaxis": "x6",
         "y": [
          0.053361547462168445,
          0.053361547462168445,
          0.07919299378319251,
          0.07919299378319251,
          0.07919299378319251,
          0.07919299378319251,
          0.07919299378319251,
          0.07919299378319251,
          0.07919299378319251,
          0.07919299378319251,
          0.07919299378319251,
          0.07919299378319251,
          0.07919299378319251,
          0.07919299378319251,
          0.07919299378319251,
          0.07919299378319251,
          0.07919299378319251,
          0.07919299378319251,
          0.07919299378319251,
          0.07919299378319251,
          0.07919299378319251,
          0.07919299378319251,
          0.07919299378319251,
          0.07919299378319251,
          0.07919299378319251,
          0.07919299378319251,
          0.07919299378319251,
          0.07477247002435754,
          0.07477247002435754,
          0.07477247002435754,
          0.07477247002435754,
          0.07477247002435754,
          0.07477247002435754,
          0.07477247002435754,
          0.07477247002435754,
          0.07477247002435754,
          0.07477247002435754,
          0.07477247002435754,
          0.07477247002435754,
          0.07477247002435754,
          0.07477247002435754,
          0.07477247002435754,
          0.07477247002435754,
          0.07477247002435754,
          0.07477247002435754,
          0.07477247002435754,
          0.07477247002435754,
          0.07477247002435754,
          0.07477247002435754,
          0.07477247002435754,
          0.07477247002435754,
          0.07477247002435754,
          0.07477247002435754,
          0.07477247002435754,
          0.07477247002435754,
          0.07477247002435754,
          0.05337293982779502,
          0.05337293982779502,
          0.05337293982779502,
          0.05337293982779502,
          0.05337293982779502,
          0.05337293982779502,
          0.05337293982779502,
          0.05337293982779502,
          0.05337293982779502,
          0.05337293982779502,
          0.05337293982779502,
          0.05337293982779502,
          0.05337293982779502,
          0.05337293982779502,
          0.05337293982779502,
          0.05337293982779502,
          0.05337293982779502,
          0.05337293982779502,
          0.13400293100626218,
          0.13400293100626218,
          0.2045741490614278,
          0.2045741490614278,
          0.2045741490614278,
          0.2045741490614278,
          0.2045741490614278,
          0.2045741490614278,
          0.2045741490614278,
          0.2670778498201852,
          0.2670778498201852,
          0.2670778498201852,
          0.2670778498201852,
          0.2670778498201852,
          0.2670778498201852,
          0.20611919953677266,
          0.20611919953677266,
          0.20611919953677266,
          0.20611919953677266,
          0.20611919953677266,
          0.20611919953677266,
          0.20611919953677266,
          0.20611919953677266,
          0.20611919953677266,
          0.20611919953677266,
          0.15628559986692614,
          0.15628559986692614
         ],
         "yaxis": "y6"
        },
        {
         "customdata": [
          [
           "</br>id: 1833</br>prediction: 0.053</br>minute: 0</br></br>h_a: 0.0</br>situation: 2.0</br>shotType: 0.0</br>lastAction: 0.0</br>distanceToGoal: 9.53310076709881</br>angleToGoal: 40.4664837945122</br>_original_yhat_: 0.053361547462168445</br>"
          ],
          [
           "</br>id: 1833</br>prediction: 0.053</br>minute: 1</br></br>h_a: 0.0</br>situation: 2.0</br>shotType: 0.0</br>lastAction: 0.0</br>distanceToGoal: 9.53310076709881</br>angleToGoal: 40.4664837945122</br>_original_yhat_: 0.053361547462168445</br>"
          ],
          [
           "</br>id: 1833</br>prediction: 0.053</br>minute: 2</br></br>h_a: 0.0</br>situation: 2.0</br>shotType: 0.0</br>lastAction: 0.0</br>distanceToGoal: 9.53310076709881</br>angleToGoal: 40.4664837945122</br>_original_yhat_: 0.053361547462168445</br>"
          ],
          [
           "</br>id: 1833</br>prediction: 0.053</br>minute: 3</br></br>h_a: 0.0</br>situation: 2.0</br>shotType: 0.0</br>lastAction: 0.0</br>distanceToGoal: 9.53310076709881</br>angleToGoal: 40.4664837945122</br>_original_yhat_: 0.053361547462168445</br>"
          ],
          [
           "</br>id: 1833</br>prediction: 0.106</br>minute: 4</br></br>h_a: 0.0</br>situation: 2.0</br>shotType: 0.0</br>lastAction: 0.0</br>distanceToGoal: 9.53310076709881</br>angleToGoal: 40.4664837945122</br>_original_yhat_: 0.053361547462168445</br>"
          ],
          [
           "</br>id: 1833</br>prediction: 0.106</br>minute: 5</br></br>h_a: 0.0</br>situation: 2.0</br>shotType: 0.0</br>lastAction: 0.0</br>distanceToGoal: 9.53310076709881</br>angleToGoal: 40.4664837945122</br>_original_yhat_: 0.053361547462168445</br>"
          ],
          [
           "</br>id: 1833</br>prediction: 0.112</br>minute: 6</br></br>h_a: 0.0</br>situation: 2.0</br>shotType: 0.0</br>lastAction: 0.0</br>distanceToGoal: 9.53310076709881</br>angleToGoal: 40.4664837945122</br>_original_yhat_: 0.053361547462168445</br>"
          ],
          [
           "</br>id: 1833</br>prediction: 0.112</br>minute: 7</br></br>h_a: 0.0</br>situation: 2.0</br>shotType: 0.0</br>lastAction: 0.0</br>distanceToGoal: 9.53310076709881</br>angleToGoal: 40.4664837945122</br>_original_yhat_: 0.053361547462168445</br>"
          ],
          [
           "</br>id: 1833</br>prediction: 0.112</br>minute: 8</br></br>h_a: 0.0</br>situation: 2.0</br>shotType: 0.0</br>lastAction: 0.0</br>distanceToGoal: 9.53310076709881</br>angleToGoal: 40.4664837945122</br>_original_yhat_: 0.053361547462168445</br>"
          ],
          [
           "</br>id: 1833</br>prediction: 0.112</br>minute: 9</br></br>h_a: 0.0</br>situation: 2.0</br>shotType: 0.0</br>lastAction: 0.0</br>distanceToGoal: 9.53310076709881</br>angleToGoal: 40.4664837945122</br>_original_yhat_: 0.053361547462168445</br>"
          ],
          [
           "</br>id: 1833</br>prediction: 0.083</br>minute: 10</br></br>h_a: 0.0</br>situation: 2.0</br>shotType: 0.0</br>lastAction: 0.0</br>distanceToGoal: 9.53310076709881</br>angleToGoal: 40.4664837945122</br>_original_yhat_: 0.053361547462168445</br>"
          ],
          [
           "</br>id: 1833</br>prediction: 0.094</br>minute: 11</br></br>h_a: 0.0</br>situation: 2.0</br>shotType: 0.0</br>lastAction: 0.0</br>distanceToGoal: 9.53310076709881</br>angleToGoal: 40.4664837945122</br>_original_yhat_: 0.053361547462168445</br>"
          ],
          [
           "</br>id: 1833</br>prediction: 0.098</br>minute: 12</br></br>h_a: 0.0</br>situation: 2.0</br>shotType: 0.0</br>lastAction: 0.0</br>distanceToGoal: 9.53310076709881</br>angleToGoal: 40.4664837945122</br>_original_yhat_: 0.053361547462168445</br>"
          ],
          [
           "</br>id: 1833</br>prediction: 0.098</br>minute: 13</br></br>h_a: 0.0</br>situation: 2.0</br>shotType: 0.0</br>lastAction: 0.0</br>distanceToGoal: 9.53310076709881</br>angleToGoal: 40.4664837945122</br>_original_yhat_: 0.053361547462168445</br>"
          ],
          [
           "</br>id: 1833</br>prediction: 0.097</br>minute: 14</br></br>h_a: 0.0</br>situation: 2.0</br>shotType: 0.0</br>lastAction: 0.0</br>distanceToGoal: 9.53310076709881</br>angleToGoal: 40.4664837945122</br>_original_yhat_: 0.053361547462168445</br>"
          ],
          [
           "</br>id: 1833</br>prediction: 0.097</br>minute: 15</br></br>h_a: 0.0</br>situation: 2.0</br>shotType: 0.0</br>lastAction: 0.0</br>distanceToGoal: 9.53310076709881</br>angleToGoal: 40.4664837945122</br>_original_yhat_: 0.053361547462168445</br>"
          ],
          [
           "</br>id: 1833</br>prediction: 0.097</br>minute: 16</br></br>h_a: 0.0</br>situation: 2.0</br>shotType: 0.0</br>lastAction: 0.0</br>distanceToGoal: 9.53310076709881</br>angleToGoal: 40.4664837945122</br>_original_yhat_: 0.053361547462168445</br>"
          ],
          [
           "</br>id: 1833</br>prediction: 0.097</br>minute: 17</br></br>h_a: 0.0</br>situation: 2.0</br>shotType: 0.0</br>lastAction: 0.0</br>distanceToGoal: 9.53310076709881</br>angleToGoal: 40.4664837945122</br>_original_yhat_: 0.053361547462168445</br>"
          ],
          [
           "</br>id: 1833</br>prediction: 0.097</br>minute: 18</br></br>h_a: 0.0</br>situation: 2.0</br>shotType: 0.0</br>lastAction: 0.0</br>distanceToGoal: 9.53310076709881</br>angleToGoal: 40.4664837945122</br>_original_yhat_: 0.053361547462168445</br>"
          ],
          [
           "</br>id: 1833</br>prediction: 0.097</br>minute: 19</br></br>h_a: 0.0</br>situation: 2.0</br>shotType: 0.0</br>lastAction: 0.0</br>distanceToGoal: 9.53310076709881</br>angleToGoal: 40.4664837945122</br>_original_yhat_: 0.053361547462168445</br>"
          ],
          [
           "</br>id: 1833</br>prediction: 0.097</br>minute: 20</br></br>h_a: 0.0</br>situation: 2.0</br>shotType: 0.0</br>lastAction: 0.0</br>distanceToGoal: 9.53310076709881</br>angleToGoal: 40.4664837945122</br>_original_yhat_: 0.053361547462168445</br>"
          ],
          [
           "</br>id: 1833</br>prediction: 0.097</br>minute: 21</br></br>h_a: 0.0</br>situation: 2.0</br>shotType: 0.0</br>lastAction: 0.0</br>distanceToGoal: 9.53310076709881</br>angleToGoal: 40.4664837945122</br>_original_yhat_: 0.053361547462168445</br>"
          ],
          [
           "</br>id: 1833</br>prediction: 0.097</br>minute: 22</br></br>h_a: 0.0</br>situation: 2.0</br>shotType: 0.0</br>lastAction: 0.0</br>distanceToGoal: 9.53310076709881</br>angleToGoal: 40.4664837945122</br>_original_yhat_: 0.053361547462168445</br>"
          ],
          [
           "</br>id: 1833</br>prediction: 0.097</br>minute: 23</br></br>h_a: 0.0</br>situation: 2.0</br>shotType: 0.0</br>lastAction: 0.0</br>distanceToGoal: 9.53310076709881</br>angleToGoal: 40.4664837945122</br>_original_yhat_: 0.053361547462168445</br>"
          ],
          [
           "</br>id: 1833</br>prediction: 0.097</br>minute: 24</br></br>h_a: 0.0</br>situation: 2.0</br>shotType: 0.0</br>lastAction: 0.0</br>distanceToGoal: 9.53310076709881</br>angleToGoal: 40.4664837945122</br>_original_yhat_: 0.053361547462168445</br>"
          ],
          [
           "</br>id: 1833</br>prediction: 0.097</br>minute: 25</br></br>h_a: 0.0</br>situation: 2.0</br>shotType: 0.0</br>lastAction: 0.0</br>distanceToGoal: 9.53310076709881</br>angleToGoal: 40.4664837945122</br>_original_yhat_: 0.053361547462168445</br>"
          ],
          [
           "</br>id: 1833</br>prediction: 0.097</br>minute: 26</br></br>h_a: 0.0</br>situation: 2.0</br>shotType: 0.0</br>lastAction: 0.0</br>distanceToGoal: 9.53310076709881</br>angleToGoal: 40.4664837945122</br>_original_yhat_: 0.053361547462168445</br>"
          ],
          [
           "</br>id: 1833</br>prediction: 0.097</br>minute: 27</br></br>h_a: 0.0</br>situation: 2.0</br>shotType: 0.0</br>lastAction: 0.0</br>distanceToGoal: 9.53310076709881</br>angleToGoal: 40.4664837945122</br>_original_yhat_: 0.053361547462168445</br>"
          ],
          [
           "</br>id: 1833</br>prediction: 0.097</br>minute: 28</br></br>h_a: 0.0</br>situation: 2.0</br>shotType: 0.0</br>lastAction: 0.0</br>distanceToGoal: 9.53310076709881</br>angleToGoal: 40.4664837945122</br>_original_yhat_: 0.053361547462168445</br>"
          ],
          [
           "</br>id: 1833</br>prediction: 0.097</br>minute: 29</br></br>h_a: 0.0</br>situation: 2.0</br>shotType: 0.0</br>lastAction: 0.0</br>distanceToGoal: 9.53310076709881</br>angleToGoal: 40.4664837945122</br>_original_yhat_: 0.053361547462168445</br>"
          ],
          [
           "</br>id: 1833</br>prediction: 0.097</br>minute: 30</br></br>h_a: 0.0</br>situation: 2.0</br>shotType: 0.0</br>lastAction: 0.0</br>distanceToGoal: 9.53310076709881</br>angleToGoal: 40.4664837945122</br>_original_yhat_: 0.053361547462168445</br>"
          ],
          [
           "</br>id: 1833</br>prediction: 0.097</br>minute: 31</br></br>h_a: 0.0</br>situation: 2.0</br>shotType: 0.0</br>lastAction: 0.0</br>distanceToGoal: 9.53310076709881</br>angleToGoal: 40.4664837945122</br>_original_yhat_: 0.053361547462168445</br>"
          ],
          [
           "</br>id: 1833</br>prediction: 0.097</br>minute: 32</br></br>h_a: 0.0</br>situation: 2.0</br>shotType: 0.0</br>lastAction: 0.0</br>distanceToGoal: 9.53310076709881</br>angleToGoal: 40.4664837945122</br>_original_yhat_: 0.053361547462168445</br>"
          ],
          [
           "</br>id: 1833</br>prediction: 0.097</br>minute: 33</br></br>h_a: 0.0</br>situation: 2.0</br>shotType: 0.0</br>lastAction: 0.0</br>distanceToGoal: 9.53310076709881</br>angleToGoal: 40.4664837945122</br>_original_yhat_: 0.053361547462168445</br>"
          ],
          [
           "</br>id: 1833</br>prediction: 0.087</br>minute: 34</br></br>h_a: 0.0</br>situation: 2.0</br>shotType: 0.0</br>lastAction: 0.0</br>distanceToGoal: 9.53310076709881</br>angleToGoal: 40.4664837945122</br>_original_yhat_: 0.053361547462168445</br>"
          ],
          [
           "</br>id: 1833</br>prediction: 0.087</br>minute: 35</br></br>h_a: 0.0</br>situation: 2.0</br>shotType: 0.0</br>lastAction: 0.0</br>distanceToGoal: 9.53310076709881</br>angleToGoal: 40.4664837945122</br>_original_yhat_: 0.053361547462168445</br>"
          ],
          [
           "</br>id: 1833</br>prediction: 0.087</br>minute: 36</br></br>h_a: 0.0</br>situation: 2.0</br>shotType: 0.0</br>lastAction: 0.0</br>distanceToGoal: 9.53310076709881</br>angleToGoal: 40.4664837945122</br>_original_yhat_: 0.053361547462168445</br>"
          ],
          [
           "</br>id: 1833</br>prediction: 0.087</br>minute: 37</br></br>h_a: 0.0</br>situation: 2.0</br>shotType: 0.0</br>lastAction: 0.0</br>distanceToGoal: 9.53310076709881</br>angleToGoal: 40.4664837945122</br>_original_yhat_: 0.053361547462168445</br>"
          ],
          [
           "</br>id: 1833</br>prediction: 0.087</br>minute: 38</br></br>h_a: 0.0</br>situation: 2.0</br>shotType: 0.0</br>lastAction: 0.0</br>distanceToGoal: 9.53310076709881</br>angleToGoal: 40.4664837945122</br>_original_yhat_: 0.053361547462168445</br>"
          ],
          [
           "</br>id: 1833</br>prediction: 0.087</br>minute: 39</br></br>h_a: 0.0</br>situation: 2.0</br>shotType: 0.0</br>lastAction: 0.0</br>distanceToGoal: 9.53310076709881</br>angleToGoal: 40.4664837945122</br>_original_yhat_: 0.053361547462168445</br>"
          ],
          [
           "</br>id: 1833</br>prediction: 0.087</br>minute: 40</br></br>h_a: 0.0</br>situation: 2.0</br>shotType: 0.0</br>lastAction: 0.0</br>distanceToGoal: 9.53310076709881</br>angleToGoal: 40.4664837945122</br>_original_yhat_: 0.053361547462168445</br>"
          ],
          [
           "</br>id: 1833</br>prediction: 0.087</br>minute: 41</br></br>h_a: 0.0</br>situation: 2.0</br>shotType: 0.0</br>lastAction: 0.0</br>distanceToGoal: 9.53310076709881</br>angleToGoal: 40.4664837945122</br>_original_yhat_: 0.053361547462168445</br>"
          ],
          [
           "</br>id: 1833</br>prediction: 0.087</br>minute: 42</br></br>h_a: 0.0</br>situation: 2.0</br>shotType: 0.0</br>lastAction: 0.0</br>distanceToGoal: 9.53310076709881</br>angleToGoal: 40.4664837945122</br>_original_yhat_: 0.053361547462168445</br>"
          ],
          [
           "</br>id: 1833</br>prediction: 0.087</br>minute: 43</br></br>h_a: 0.0</br>situation: 2.0</br>shotType: 0.0</br>lastAction: 0.0</br>distanceToGoal: 9.53310076709881</br>angleToGoal: 40.4664837945122</br>_original_yhat_: 0.053361547462168445</br>"
          ],
          [
           "</br>id: 1833</br>prediction: 0.087</br>minute: 44</br></br>h_a: 0.0</br>situation: 2.0</br>shotType: 0.0</br>lastAction: 0.0</br>distanceToGoal: 9.53310076709881</br>angleToGoal: 40.4664837945122</br>_original_yhat_: 0.053361547462168445</br>"
          ],
          [
           "</br>id: 1833</br>prediction: 0.087</br>minute: 45</br></br>h_a: 0.0</br>situation: 2.0</br>shotType: 0.0</br>lastAction: 0.0</br>distanceToGoal: 9.53310076709881</br>angleToGoal: 40.4664837945122</br>_original_yhat_: 0.053361547462168445</br>"
          ],
          [
           "</br>id: 1833</br>prediction: 0.087</br>minute: 46</br></br>h_a: 0.0</br>situation: 2.0</br>shotType: 0.0</br>lastAction: 0.0</br>distanceToGoal: 9.53310076709881</br>angleToGoal: 40.4664837945122</br>_original_yhat_: 0.053361547462168445</br>"
          ],
          [
           "</br>id: 1833</br>prediction: 0.087</br>minute: 47</br></br>h_a: 0.0</br>situation: 2.0</br>shotType: 0.0</br>lastAction: 0.0</br>distanceToGoal: 9.53310076709881</br>angleToGoal: 40.4664837945122</br>_original_yhat_: 0.053361547462168445</br>"
          ],
          [
           "</br>id: 1833</br>prediction: 0.087</br>minute: 48</br></br>h_a: 0.0</br>situation: 2.0</br>shotType: 0.0</br>lastAction: 0.0</br>distanceToGoal: 9.53310076709881</br>angleToGoal: 40.4664837945122</br>_original_yhat_: 0.053361547462168445</br>"
          ],
          [
           "</br>id: 1833</br>prediction: 0.087</br>minute: 49</br></br>h_a: 0.0</br>situation: 2.0</br>shotType: 0.0</br>lastAction: 0.0</br>distanceToGoal: 9.53310076709881</br>angleToGoal: 40.4664837945122</br>_original_yhat_: 0.053361547462168445</br>"
          ],
          [
           "</br>id: 1833</br>prediction: 0.087</br>minute: 50</br></br>h_a: 0.0</br>situation: 2.0</br>shotType: 0.0</br>lastAction: 0.0</br>distanceToGoal: 9.53310076709881</br>angleToGoal: 40.4664837945122</br>_original_yhat_: 0.053361547462168445</br>"
          ],
          [
           "</br>id: 1833</br>prediction: 0.087</br>minute: 51</br></br>h_a: 0.0</br>situation: 2.0</br>shotType: 0.0</br>lastAction: 0.0</br>distanceToGoal: 9.53310076709881</br>angleToGoal: 40.4664837945122</br>_original_yhat_: 0.053361547462168445</br>"
          ],
          [
           "</br>id: 1833</br>prediction: 0.087</br>minute: 52</br></br>h_a: 0.0</br>situation: 2.0</br>shotType: 0.0</br>lastAction: 0.0</br>distanceToGoal: 9.53310076709881</br>angleToGoal: 40.4664837945122</br>_original_yhat_: 0.053361547462168445</br>"
          ],
          [
           "</br>id: 1833</br>prediction: 0.089</br>minute: 53</br></br>h_a: 0.0</br>situation: 2.0</br>shotType: 0.0</br>lastAction: 0.0</br>distanceToGoal: 9.53310076709881</br>angleToGoal: 40.4664837945122</br>_original_yhat_: 0.053361547462168445</br>"
          ],
          [
           "</br>id: 1833</br>prediction: 0.089</br>minute: 54</br></br>h_a: 0.0</br>situation: 2.0</br>shotType: 0.0</br>lastAction: 0.0</br>distanceToGoal: 9.53310076709881</br>angleToGoal: 40.4664837945122</br>_original_yhat_: 0.053361547462168445</br>"
          ],
          [
           "</br>id: 1833</br>prediction: 0.089</br>minute: 55</br></br>h_a: 0.0</br>situation: 2.0</br>shotType: 0.0</br>lastAction: 0.0</br>distanceToGoal: 9.53310076709881</br>angleToGoal: 40.4664837945122</br>_original_yhat_: 0.053361547462168445</br>"
          ],
          [
           "</br>id: 1833</br>prediction: 0.089</br>minute: 56</br></br>h_a: 0.0</br>situation: 2.0</br>shotType: 0.0</br>lastAction: 0.0</br>distanceToGoal: 9.53310076709881</br>angleToGoal: 40.4664837945122</br>_original_yhat_: 0.053361547462168445</br>"
          ],
          [
           "</br>id: 1833</br>prediction: 0.089</br>minute: 57</br></br>h_a: 0.0</br>situation: 2.0</br>shotType: 0.0</br>lastAction: 0.0</br>distanceToGoal: 9.53310076709881</br>angleToGoal: 40.4664837945122</br>_original_yhat_: 0.053361547462168445</br>"
          ],
          [
           "</br>id: 1833</br>prediction: 0.089</br>minute: 58</br></br>h_a: 0.0</br>situation: 2.0</br>shotType: 0.0</br>lastAction: 0.0</br>distanceToGoal: 9.53310076709881</br>angleToGoal: 40.4664837945122</br>_original_yhat_: 0.053361547462168445</br>"
          ],
          [
           "</br>id: 1833</br>prediction: 0.089</br>minute: 59</br></br>h_a: 0.0</br>situation: 2.0</br>shotType: 0.0</br>lastAction: 0.0</br>distanceToGoal: 9.53310076709881</br>angleToGoal: 40.4664837945122</br>_original_yhat_: 0.053361547462168445</br>"
          ],
          [
           "</br>id: 1833</br>prediction: 0.089</br>minute: 60</br></br>h_a: 0.0</br>situation: 2.0</br>shotType: 0.0</br>lastAction: 0.0</br>distanceToGoal: 9.53310076709881</br>angleToGoal: 40.4664837945122</br>_original_yhat_: 0.053361547462168445</br>"
          ],
          [
           "</br>id: 1833</br>prediction: 0.089</br>minute: 61</br></br>h_a: 0.0</br>situation: 2.0</br>shotType: 0.0</br>lastAction: 0.0</br>distanceToGoal: 9.53310076709881</br>angleToGoal: 40.4664837945122</br>_original_yhat_: 0.053361547462168445</br>"
          ],
          [
           "</br>id: 1833</br>prediction: 0.089</br>minute: 62</br></br>h_a: 0.0</br>situation: 2.0</br>shotType: 0.0</br>lastAction: 0.0</br>distanceToGoal: 9.53310076709881</br>angleToGoal: 40.4664837945122</br>_original_yhat_: 0.053361547462168445</br>"
          ],
          [
           "</br>id: 1833</br>prediction: 0.089</br>minute: 63</br></br>h_a: 0.0</br>situation: 2.0</br>shotType: 0.0</br>lastAction: 0.0</br>distanceToGoal: 9.53310076709881</br>angleToGoal: 40.4664837945122</br>_original_yhat_: 0.053361547462168445</br>"
          ],
          [
           "</br>id: 1833</br>prediction: 0.089</br>minute: 64</br></br>h_a: 0.0</br>situation: 2.0</br>shotType: 0.0</br>lastAction: 0.0</br>distanceToGoal: 9.53310076709881</br>angleToGoal: 40.4664837945122</br>_original_yhat_: 0.053361547462168445</br>"
          ],
          [
           "</br>id: 1833</br>prediction: 0.089</br>minute: 65</br></br>h_a: 0.0</br>situation: 2.0</br>shotType: 0.0</br>lastAction: 0.0</br>distanceToGoal: 9.53310076709881</br>angleToGoal: 40.4664837945122</br>_original_yhat_: 0.053361547462168445</br>"
          ],
          [
           "</br>id: 1833</br>prediction: 0.089</br>minute: 66</br></br>h_a: 0.0</br>situation: 2.0</br>shotType: 0.0</br>lastAction: 0.0</br>distanceToGoal: 9.53310076709881</br>angleToGoal: 40.4664837945122</br>_original_yhat_: 0.053361547462168445</br>"
          ],
          [
           "</br>id: 1833</br>prediction: 0.089</br>minute: 67</br></br>h_a: 0.0</br>situation: 2.0</br>shotType: 0.0</br>lastAction: 0.0</br>distanceToGoal: 9.53310076709881</br>angleToGoal: 40.4664837945122</br>_original_yhat_: 0.053361547462168445</br>"
          ],
          [
           "</br>id: 1833</br>prediction: 0.089</br>minute: 68</br></br>h_a: 0.0</br>situation: 2.0</br>shotType: 0.0</br>lastAction: 0.0</br>distanceToGoal: 9.53310076709881</br>angleToGoal: 40.4664837945122</br>_original_yhat_: 0.053361547462168445</br>"
          ],
          [
           "</br>id: 1833</br>prediction: 0.089</br>minute: 69</br></br>h_a: 0.0</br>situation: 2.0</br>shotType: 0.0</br>lastAction: 0.0</br>distanceToGoal: 9.53310076709881</br>angleToGoal: 40.4664837945122</br>_original_yhat_: 0.053361547462168445</br>"
          ],
          [
           "</br>id: 1833</br>prediction: 0.089</br>minute: 70</br></br>h_a: 0.0</br>situation: 2.0</br>shotType: 0.0</br>lastAction: 0.0</br>distanceToGoal: 9.53310076709881</br>angleToGoal: 40.4664837945122</br>_original_yhat_: 0.053361547462168445</br>"
          ],
          [
           "</br>id: 1833</br>prediction: 0.089</br>minute: 71</br></br>h_a: 0.0</br>situation: 2.0</br>shotType: 0.0</br>lastAction: 0.0</br>distanceToGoal: 9.53310076709881</br>angleToGoal: 40.4664837945122</br>_original_yhat_: 0.053361547462168445</br>"
          ],
          [
           "</br>id: 1833</br>prediction: 0.089</br>minute: 72</br></br>h_a: 0.0</br>situation: 2.0</br>shotType: 0.0</br>lastAction: 0.0</br>distanceToGoal: 9.53310076709881</br>angleToGoal: 40.4664837945122</br>_original_yhat_: 0.053361547462168445</br>"
          ],
          [
           "</br>id: 1833</br>prediction: 0.089</br>minute: 73</br></br>h_a: 0.0</br>situation: 2.0</br>shotType: 0.0</br>lastAction: 0.0</br>distanceToGoal: 9.53310076709881</br>angleToGoal: 40.4664837945122</br>_original_yhat_: 0.053361547462168445</br>"
          ],
          [
           "</br>id: 1833</br>prediction: 0.089</br>minute: 74</br></br>h_a: 0.0</br>situation: 2.0</br>shotType: 0.0</br>lastAction: 0.0</br>distanceToGoal: 9.53310076709881</br>angleToGoal: 40.4664837945122</br>_original_yhat_: 0.053361547462168445</br>"
          ],
          [
           "</br>id: 1833</br>prediction: 0.092</br>minute: 75</br></br>h_a: 0.0</br>situation: 2.0</br>shotType: 0.0</br>lastAction: 0.0</br>distanceToGoal: 9.53310076709881</br>angleToGoal: 40.4664837945122</br>_original_yhat_: 0.053361547462168445</br>"
          ],
          [
           "</br>id: 1833</br>prediction: 0.092</br>minute: 76</br></br>h_a: 0.0</br>situation: 2.0</br>shotType: 0.0</br>lastAction: 0.0</br>distanceToGoal: 9.53310076709881</br>angleToGoal: 40.4664837945122</br>_original_yhat_: 0.053361547462168445</br>"
          ],
          [
           "</br>id: 1833</br>prediction: 0.092</br>minute: 77</br></br>h_a: 0.0</br>situation: 2.0</br>shotType: 0.0</br>lastAction: 0.0</br>distanceToGoal: 9.53310076709881</br>angleToGoal: 40.4664837945122</br>_original_yhat_: 0.053361547462168445</br>"
          ],
          [
           "</br>id: 1833</br>prediction: 0.092</br>minute: 78</br></br>h_a: 0.0</br>situation: 2.0</br>shotType: 0.0</br>lastAction: 0.0</br>distanceToGoal: 9.53310076709881</br>angleToGoal: 40.4664837945122</br>_original_yhat_: 0.053361547462168445</br>"
          ],
          [
           "</br>id: 1833</br>prediction: 0.092</br>minute: 79</br></br>h_a: 0.0</br>situation: 2.0</br>shotType: 0.0</br>lastAction: 0.0</br>distanceToGoal: 9.53310076709881</br>angleToGoal: 40.4664837945122</br>_original_yhat_: 0.053361547462168445</br>"
          ],
          [
           "</br>id: 1833</br>prediction: 0.092</br>minute: 80</br></br>h_a: 0.0</br>situation: 2.0</br>shotType: 0.0</br>lastAction: 0.0</br>distanceToGoal: 9.53310076709881</br>angleToGoal: 40.4664837945122</br>_original_yhat_: 0.053361547462168445</br>"
          ],
          [
           "</br>id: 1833</br>prediction: 0.092</br>minute: 81</br></br>h_a: 0.0</br>situation: 2.0</br>shotType: 0.0</br>lastAction: 0.0</br>distanceToGoal: 9.53310076709881</br>angleToGoal: 40.4664837945122</br>_original_yhat_: 0.053361547462168445</br>"
          ],
          [
           "</br>id: 1833</br>prediction: 0.092</br>minute: 82</br></br>h_a: 0.0</br>situation: 2.0</br>shotType: 0.0</br>lastAction: 0.0</br>distanceToGoal: 9.53310076709881</br>angleToGoal: 40.4664837945122</br>_original_yhat_: 0.053361547462168445</br>"
          ],
          [
           "</br>id: 1833</br>prediction: 0.092</br>minute: 83</br></br>h_a: 0.0</br>situation: 2.0</br>shotType: 0.0</br>lastAction: 0.0</br>distanceToGoal: 9.53310076709881</br>angleToGoal: 40.4664837945122</br>_original_yhat_: 0.053361547462168445</br>"
          ],
          [
           "</br>id: 1833</br>prediction: 0.092</br>minute: 84</br></br>h_a: 0.0</br>situation: 2.0</br>shotType: 0.0</br>lastAction: 0.0</br>distanceToGoal: 9.53310076709881</br>angleToGoal: 40.4664837945122</br>_original_yhat_: 0.053361547462168445</br>"
          ],
          [
           "</br>id: 1833</br>prediction: 0.092</br>minute: 85</br></br>h_a: 0.0</br>situation: 2.0</br>shotType: 0.0</br>lastAction: 0.0</br>distanceToGoal: 9.53310076709881</br>angleToGoal: 40.4664837945122</br>_original_yhat_: 0.053361547462168445</br>"
          ],
          [
           "</br>id: 1833</br>prediction: 0.092</br>minute: 86</br></br>h_a: 0.0</br>situation: 2.0</br>shotType: 0.0</br>lastAction: 0.0</br>distanceToGoal: 9.53310076709881</br>angleToGoal: 40.4664837945122</br>_original_yhat_: 0.053361547462168445</br>"
          ],
          [
           "</br>id: 1833</br>prediction: 0.092</br>minute: 87</br></br>h_a: 0.0</br>situation: 2.0</br>shotType: 0.0</br>lastAction: 0.0</br>distanceToGoal: 9.53310076709881</br>angleToGoal: 40.4664837945122</br>_original_yhat_: 0.053361547462168445</br>"
          ],
          [
           "</br>id: 1833</br>prediction: 0.092</br>minute: 88</br></br>h_a: 0.0</br>situation: 2.0</br>shotType: 0.0</br>lastAction: 0.0</br>distanceToGoal: 9.53310076709881</br>angleToGoal: 40.4664837945122</br>_original_yhat_: 0.053361547462168445</br>"
          ],
          [
           "</br>id: 1833</br>prediction: 0.101</br>minute: 89</br></br>h_a: 0.0</br>situation: 2.0</br>shotType: 0.0</br>lastAction: 0.0</br>distanceToGoal: 9.53310076709881</br>angleToGoal: 40.4664837945122</br>_original_yhat_: 0.053361547462168445</br>"
          ],
          [
           "</br>id: 1833</br>prediction: 0.184</br>minute: 90</br></br>h_a: 0.0</br>situation: 2.0</br>shotType: 0.0</br>lastAction: 0.0</br>distanceToGoal: 9.53310076709881</br>angleToGoal: 40.4664837945122</br>_original_yhat_: 0.053361547462168445</br>"
          ],
          [
           "</br>id: 1833</br>prediction: 0.184</br>minute: 91</br></br>h_a: 0.0</br>situation: 2.0</br>shotType: 0.0</br>lastAction: 0.0</br>distanceToGoal: 9.53310076709881</br>angleToGoal: 40.4664837945122</br>_original_yhat_: 0.053361547462168445</br>"
          ],
          [
           "</br>id: 1833</br>prediction: 0.184</br>minute: 92</br></br>h_a: 0.0</br>situation: 2.0</br>shotType: 0.0</br>lastAction: 0.0</br>distanceToGoal: 9.53310076709881</br>angleToGoal: 40.4664837945122</br>_original_yhat_: 0.053361547462168445</br>"
          ],
          [
           "</br>id: 1833</br>prediction: 0.184</br>minute: 93</br></br>h_a: 0.0</br>situation: 2.0</br>shotType: 0.0</br>lastAction: 0.0</br>distanceToGoal: 9.53310076709881</br>angleToGoal: 40.4664837945122</br>_original_yhat_: 0.053361547462168445</br>"
          ],
          [
           "</br>id: 1833</br>prediction: 0.184</br>minute: 94</br></br>h_a: 0.0</br>situation: 2.0</br>shotType: 0.0</br>lastAction: 0.0</br>distanceToGoal: 9.53310076709881</br>angleToGoal: 40.4664837945122</br>_original_yhat_: 0.053361547462168445</br>"
          ],
          [
           "</br>id: 1833</br>prediction: 0.184</br>minute: 95</br></br>h_a: 0.0</br>situation: 2.0</br>shotType: 0.0</br>lastAction: 0.0</br>distanceToGoal: 9.53310076709881</br>angleToGoal: 40.4664837945122</br>_original_yhat_: 0.053361547462168445</br>"
          ],
          [
           "</br>id: 1833</br>prediction: 0.184</br>minute: 96</br></br>h_a: 0.0</br>situation: 2.0</br>shotType: 0.0</br>lastAction: 0.0</br>distanceToGoal: 9.53310076709881</br>angleToGoal: 40.4664837945122</br>_original_yhat_: 0.053361547462168445</br>"
          ],
          [
           "</br>id: 1833</br>prediction: 0.184</br>minute: 97</br></br>h_a: 0.0</br>situation: 2.0</br>shotType: 0.0</br>lastAction: 0.0</br>distanceToGoal: 9.53310076709881</br>angleToGoal: 40.4664837945122</br>_original_yhat_: 0.053361547462168445</br>"
          ],
          [
           "</br>id: 1833</br>prediction: 0.184</br>minute: 98</br></br>h_a: 0.0</br>situation: 2.0</br>shotType: 0.0</br>lastAction: 0.0</br>distanceToGoal: 9.53310076709881</br>angleToGoal: 40.4664837945122</br>_original_yhat_: 0.053361547462168445</br>"
          ],
          [
           "</br>id: 1833</br>prediction: 0.184</br>minute: 99</br></br>h_a: 0.0</br>situation: 2.0</br>shotType: 0.0</br>lastAction: 0.0</br>distanceToGoal: 9.53310076709881</br>angleToGoal: 40.4664837945122</br>_original_yhat_: 0.053361547462168445</br>"
          ],
          [
           "</br>id: 1833</br>prediction: 0.184</br>minute: 100</br></br>h_a: 0.0</br>situation: 2.0</br>shotType: 0.0</br>lastAction: 0.0</br>distanceToGoal: 9.53310076709881</br>angleToGoal: 40.4664837945122</br>_original_yhat_: 0.053361547462168445</br>"
          ]
         ],
         "hovertemplate": "%{customdata[0]}<extra></extra>",
         "legendgroup": "Gradient Boosting",
         "line": {
          "color": "#46bac2",
          "dash": "solid",
          "width": 2
         },
         "marker": {
          "symbol": "circle"
         },
         "mode": "lines",
         "name": "Gradient Boosting",
         "opacity": 1,
         "orientation": "v",
         "showlegend": false,
         "type": "scatter",
         "x": [
          0,
          1,
          2,
          3,
          4,
          5,
          6,
          7,
          8,
          9,
          10,
          11,
          12,
          13,
          14,
          15,
          16,
          17,
          18,
          19,
          20,
          21,
          22,
          23,
          24,
          25,
          26,
          27,
          28,
          29,
          30,
          31,
          32,
          33,
          34,
          35,
          36,
          37,
          38,
          39,
          40,
          41,
          42,
          43,
          44,
          45,
          46,
          47,
          48,
          49,
          50,
          51,
          52,
          53,
          54,
          55,
          56,
          57,
          58,
          59,
          60,
          61,
          62,
          63,
          64,
          65,
          66,
          67,
          68,
          69,
          70,
          71,
          72,
          73,
          74,
          75,
          76,
          77,
          78,
          79,
          80,
          81,
          82,
          83,
          84,
          85,
          86,
          87,
          88,
          89,
          90,
          91,
          92,
          93,
          94,
          95,
          96,
          97,
          98,
          99,
          100
         ],
         "xaxis": "x3",
         "y": [
          0.053361547462168445,
          0.053361547462168445,
          0.053361547462168445,
          0.053361547462168445,
          0.10642851286791513,
          0.10642851286791513,
          0.11199508160812548,
          0.11199508160812548,
          0.11199508160812548,
          0.11199508160812548,
          0.08339112495448098,
          0.09431184421558168,
          0.09809199514867127,
          0.09809199514867127,
          0.09693910542936295,
          0.09693910542936295,
          0.09693910542936295,
          0.09693910542936295,
          0.09693910542936295,
          0.09693910542936295,
          0.09693910542936295,
          0.09693910542936295,
          0.09693910542936295,
          0.09693910542936295,
          0.09693910542936295,
          0.09693910542936295,
          0.09693910542936295,
          0.09693910542936295,
          0.09693910542936295,
          0.09693910542936295,
          0.09693910542936295,
          0.09693910542936295,
          0.09693910542936295,
          0.09693910542936295,
          0.08749115260128443,
          0.08749115260128443,
          0.08749115260128443,
          0.08749115260128443,
          0.08749115260128443,
          0.08749115260128443,
          0.08749115260128443,
          0.08749115260128443,
          0.08749115260128443,
          0.08749115260128443,
          0.08749115260128443,
          0.08749115260128443,
          0.08749115260128443,
          0.08749115260128443,
          0.08749115260128443,
          0.08749115260128443,
          0.08749115260128443,
          0.08749115260128443,
          0.08749115260128443,
          0.08911017245157363,
          0.08911017245157363,
          0.08911017245157363,
          0.08911017245157363,
          0.08911017245157363,
          0.08911017245157363,
          0.08911017245157363,
          0.08911017245157363,
          0.08911017245157363,
          0.08911017245157363,
          0.08911017245157363,
          0.08911017245157363,
          0.08911017245157363,
          0.08911017245157363,
          0.08911017245157363,
          0.08911017245157363,
          0.08911017245157363,
          0.08911017245157363,
          0.08911017245157363,
          0.08911017245157363,
          0.08911017245157363,
          0.08911017245157363,
          0.09161876450192302,
          0.09161876450192302,
          0.09161876450192302,
          0.09161876450192302,
          0.09161876450192302,
          0.09161876450192302,
          0.09161876450192302,
          0.09161876450192302,
          0.09161876450192302,
          0.09161876450192302,
          0.09161876450192302,
          0.09161876450192302,
          0.09161876450192302,
          0.09161876450192302,
          0.10096330615003724,
          0.18379496037152002,
          0.18379496037152002,
          0.18379496037152002,
          0.18379496037152002,
          0.18379496037152002,
          0.18379496037152002,
          0.18379496037152002,
          0.18379496037152002,
          0.18379496037152002,
          0.18379496037152002,
          0.18379496037152002
         ],
         "yaxis": "y3"
        },
        {
         "customdata": [
          [
           "</br>id: 1833</br>prediction: 0.749</br>distanceToGoal: 1.7480560671752996</br></br>h_a: 0.0</br>situation: 2.0</br>shotType: 0.0</br>lastAction: 0.0</br>minute: 3</br>angleToGoal: 40.4664837945122</br>_original_yhat_: 0.053361547462168445</br>"
          ],
          [
           "</br>id: 1833</br>prediction: 0.751</br>distanceToGoal: 2.386852372856324</br></br>h_a: 0.0</br>situation: 2.0</br>shotType: 0.0</br>lastAction: 0.0</br>minute: 3</br>angleToGoal: 40.4664837945122</br>_original_yhat_: 0.053361547462168445</br>"
          ],
          [
           "</br>id: 1833</br>prediction: 0.289</br>distanceToGoal: 3.0256486785373475</br></br>h_a: 0.0</br>situation: 2.0</br>shotType: 0.0</br>lastAction: 0.0</br>minute: 3</br>angleToGoal: 40.4664837945122</br>_original_yhat_: 0.053361547462168445</br>"
          ],
          [
           "</br>id: 1833</br>prediction: 0.289</br>distanceToGoal: 3.6644449842183713</br></br>h_a: 0.0</br>situation: 2.0</br>shotType: 0.0</br>lastAction: 0.0</br>minute: 3</br>angleToGoal: 40.4664837945122</br>_original_yhat_: 0.053361547462168445</br>"
          ],
          [
           "</br>id: 1833</br>prediction: 0.178</br>distanceToGoal: 4.303241289899395</br></br>h_a: 0.0</br>situation: 2.0</br>shotType: 0.0</br>lastAction: 0.0</br>minute: 3</br>angleToGoal: 40.4664837945122</br>_original_yhat_: 0.053361547462168445</br>"
          ],
          [
           "</br>id: 1833</br>prediction: 0.156</br>distanceToGoal: 4.94203759558042</br></br>h_a: 0.0</br>situation: 2.0</br>shotType: 0.0</br>lastAction: 0.0</br>minute: 3</br>angleToGoal: 40.4664837945122</br>_original_yhat_: 0.053361547462168445</br>"
          ],
          [
           "</br>id: 1833</br>prediction: 0.158</br>distanceToGoal: 5.580833901261443</br></br>h_a: 0.0</br>situation: 2.0</br>shotType: 0.0</br>lastAction: 0.0</br>minute: 3</br>angleToGoal: 40.4664837945122</br>_original_yhat_: 0.053361547462168445</br>"
          ],
          [
           "</br>id: 1833</br>prediction: 0.346</br>distanceToGoal: 6.219630206942467</br></br>h_a: 0.0</br>situation: 2.0</br>shotType: 0.0</br>lastAction: 0.0</br>minute: 3</br>angleToGoal: 40.4664837945122</br>_original_yhat_: 0.053361547462168445</br>"
          ],
          [
           "</br>id: 1833</br>prediction: 0.067</br>distanceToGoal: 6.858426512623492</br></br>h_a: 0.0</br>situation: 2.0</br>shotType: 0.0</br>lastAction: 0.0</br>minute: 3</br>angleToGoal: 40.4664837945122</br>_original_yhat_: 0.053361547462168445</br>"
          ],
          [
           "</br>id: 1833</br>prediction: 0.067</br>distanceToGoal: 7.497222818304515</br></br>h_a: 0.0</br>situation: 2.0</br>shotType: 0.0</br>lastAction: 0.0</br>minute: 3</br>angleToGoal: 40.4664837945122</br>_original_yhat_: 0.053361547462168445</br>"
          ],
          [
           "</br>id: 1833</br>prediction: 0.065</br>distanceToGoal: 8.13601912398554</br></br>h_a: 0.0</br>situation: 2.0</br>shotType: 0.0</br>lastAction: 0.0</br>minute: 3</br>angleToGoal: 40.4664837945122</br>_original_yhat_: 0.053361547462168445</br>"
          ],
          [
           "</br>id: 1833</br>prediction: 0.063</br>distanceToGoal: 8.774815429666564</br></br>h_a: 0.0</br>situation: 2.0</br>shotType: 0.0</br>lastAction: 0.0</br>minute: 3</br>angleToGoal: 40.4664837945122</br>_original_yhat_: 0.053361547462168445</br>"
          ],
          [
           "</br>id: 1833</br>prediction: 0.078</br>distanceToGoal: 9.413611735347587</br></br>h_a: 0.0</br>situation: 2.0</br>shotType: 0.0</br>lastAction: 0.0</br>minute: 3</br>angleToGoal: 40.4664837945122</br>_original_yhat_: 0.053361547462168445</br>"
          ],
          [
           "</br>id: 1833</br>prediction: 0.053</br>distanceToGoal: 9.53310076709881</br></br>h_a: 0.0</br>situation: 2.0</br>shotType: 0.0</br>lastAction: 0.0</br>minute: 3</br>angleToGoal: 40.4664837945122</br>_original_yhat_: 0.053361547462168445</br>"
          ],
          [
           "</br>id: 1833</br>prediction: 0.053</br>distanceToGoal: 10.052408041028611</br></br>h_a: 0.0</br>situation: 2.0</br>shotType: 0.0</br>lastAction: 0.0</br>minute: 3</br>angleToGoal: 40.4664837945122</br>_original_yhat_: 0.053361547462168445</br>"
          ],
          [
           "</br>id: 1833</br>prediction: 0.044</br>distanceToGoal: 10.691204346709636</br></br>h_a: 0.0</br>situation: 2.0</br>shotType: 0.0</br>lastAction: 0.0</br>minute: 3</br>angleToGoal: 40.4664837945122</br>_original_yhat_: 0.053361547462168445</br>"
          ],
          [
           "</br>id: 1833</br>prediction: 0.044</br>distanceToGoal: 11.330000652390659</br></br>h_a: 0.0</br>situation: 2.0</br>shotType: 0.0</br>lastAction: 0.0</br>minute: 3</br>angleToGoal: 40.4664837945122</br>_original_yhat_: 0.053361547462168445</br>"
          ],
          [
           "</br>id: 1833</br>prediction: 0.042</br>distanceToGoal: 11.968796958071684</br></br>h_a: 0.0</br>situation: 2.0</br>shotType: 0.0</br>lastAction: 0.0</br>minute: 3</br>angleToGoal: 40.4664837945122</br>_original_yhat_: 0.053361547462168445</br>"
          ],
          [
           "</br>id: 1833</br>prediction: 0.042</br>distanceToGoal: 12.607593263752708</br></br>h_a: 0.0</br>situation: 2.0</br>shotType: 0.0</br>lastAction: 0.0</br>minute: 3</br>angleToGoal: 40.4664837945122</br>_original_yhat_: 0.053361547462168445</br>"
          ],
          [
           "</br>id: 1833</br>prediction: 0.078</br>distanceToGoal: 13.246389569433731</br></br>h_a: 0.0</br>situation: 2.0</br>shotType: 0.0</br>lastAction: 0.0</br>minute: 3</br>angleToGoal: 40.4664837945122</br>_original_yhat_: 0.053361547462168445</br>"
          ],
          [
           "</br>id: 1833</br>prediction: 0.067</br>distanceToGoal: 13.885185875114756</br></br>h_a: 0.0</br>situation: 2.0</br>shotType: 0.0</br>lastAction: 0.0</br>minute: 3</br>angleToGoal: 40.4664837945122</br>_original_yhat_: 0.053361547462168445</br>"
          ],
          [
           "</br>id: 1833</br>prediction: 0.067</br>distanceToGoal: 14.523982180795779</br></br>h_a: 0.0</br>situation: 2.0</br>shotType: 0.0</br>lastAction: 0.0</br>minute: 3</br>angleToGoal: 40.4664837945122</br>_original_yhat_: 0.053361547462168445</br>"
          ],
          [
           "</br>id: 1833</br>prediction: 0.067</br>distanceToGoal: 15.162778486476803</br></br>h_a: 0.0</br>situation: 2.0</br>shotType: 0.0</br>lastAction: 0.0</br>minute: 3</br>angleToGoal: 40.4664837945122</br>_original_yhat_: 0.053361547462168445</br>"
          ],
          [
           "</br>id: 1833</br>prediction: 0.066</br>distanceToGoal: 15.801574792157828</br></br>h_a: 0.0</br>situation: 2.0</br>shotType: 0.0</br>lastAction: 0.0</br>minute: 3</br>angleToGoal: 40.4664837945122</br>_original_yhat_: 0.053361547462168445</br>"
          ],
          [
           "</br>id: 1833</br>prediction: 0.066</br>distanceToGoal: 16.44037109783885</br></br>h_a: 0.0</br>situation: 2.0</br>shotType: 0.0</br>lastAction: 0.0</br>minute: 3</br>angleToGoal: 40.4664837945122</br>_original_yhat_: 0.053361547462168445</br>"
          ],
          [
           "</br>id: 1833</br>prediction: 0.066</br>distanceToGoal: 17.079167403519875</br></br>h_a: 0.0</br>situation: 2.0</br>shotType: 0.0</br>lastAction: 0.0</br>minute: 3</br>angleToGoal: 40.4664837945122</br>_original_yhat_: 0.053361547462168445</br>"
          ],
          [
           "</br>id: 1833</br>prediction: 0.066</br>distanceToGoal: 17.717963709200898</br></br>h_a: 0.0</br>situation: 2.0</br>shotType: 0.0</br>lastAction: 0.0</br>minute: 3</br>angleToGoal: 40.4664837945122</br>_original_yhat_: 0.053361547462168445</br>"
          ],
          [
           "</br>id: 1833</br>prediction: 0.066</br>distanceToGoal: 18.35676001488192</br></br>h_a: 0.0</br>situation: 2.0</br>shotType: 0.0</br>lastAction: 0.0</br>minute: 3</br>angleToGoal: 40.4664837945122</br>_original_yhat_: 0.053361547462168445</br>"
          ],
          [
           "</br>id: 1833</br>prediction: 0.068</br>distanceToGoal: 18.995556320562944</br></br>h_a: 0.0</br>situation: 2.0</br>shotType: 0.0</br>lastAction: 0.0</br>minute: 3</br>angleToGoal: 40.4664837945122</br>_original_yhat_: 0.053361547462168445</br>"
          ],
          [
           "</br>id: 1833</br>prediction: 0.069</br>distanceToGoal: 19.63435262624397</br></br>h_a: 0.0</br>situation: 2.0</br>shotType: 0.0</br>lastAction: 0.0</br>minute: 3</br>angleToGoal: 40.4664837945122</br>_original_yhat_: 0.053361547462168445</br>"
          ],
          [
           "</br>id: 1833</br>prediction: 0.077</br>distanceToGoal: 20.273148931924993</br></br>h_a: 0.0</br>situation: 2.0</br>shotType: 0.0</br>lastAction: 0.0</br>minute: 3</br>angleToGoal: 40.4664837945122</br>_original_yhat_: 0.053361547462168445</br>"
          ],
          [
           "</br>id: 1833</br>prediction: 0.077</br>distanceToGoal: 20.911945237606016</br></br>h_a: 0.0</br>situation: 2.0</br>shotType: 0.0</br>lastAction: 0.0</br>minute: 3</br>angleToGoal: 40.4664837945122</br>_original_yhat_: 0.053361547462168445</br>"
          ],
          [
           "</br>id: 1833</br>prediction: 0.077</br>distanceToGoal: 21.550741543287042</br></br>h_a: 0.0</br>situation: 2.0</br>shotType: 0.0</br>lastAction: 0.0</br>minute: 3</br>angleToGoal: 40.4664837945122</br>_original_yhat_: 0.053361547462168445</br>"
          ],
          [
           "</br>id: 1833</br>prediction: 0.077</br>distanceToGoal: 22.189537848968065</br></br>h_a: 0.0</br>situation: 2.0</br>shotType: 0.0</br>lastAction: 0.0</br>minute: 3</br>angleToGoal: 40.4664837945122</br>_original_yhat_: 0.053361547462168445</br>"
          ],
          [
           "</br>id: 1833</br>prediction: 0.05</br>distanceToGoal: 22.828334154649088</br></br>h_a: 0.0</br>situation: 2.0</br>shotType: 0.0</br>lastAction: 0.0</br>minute: 3</br>angleToGoal: 40.4664837945122</br>_original_yhat_: 0.053361547462168445</br>"
          ],
          [
           "</br>id: 1833</br>prediction: 0.05</br>distanceToGoal: 23.467130460330115</br></br>h_a: 0.0</br>situation: 2.0</br>shotType: 0.0</br>lastAction: 0.0</br>minute: 3</br>angleToGoal: 40.4664837945122</br>_original_yhat_: 0.053361547462168445</br>"
          ],
          [
           "</br>id: 1833</br>prediction: 0.05</br>distanceToGoal: 24.105926766011137</br></br>h_a: 0.0</br>situation: 2.0</br>shotType: 0.0</br>lastAction: 0.0</br>minute: 3</br>angleToGoal: 40.4664837945122</br>_original_yhat_: 0.053361547462168445</br>"
          ],
          [
           "</br>id: 1833</br>prediction: 0.05</br>distanceToGoal: 24.74472307169216</br></br>h_a: 0.0</br>situation: 2.0</br>shotType: 0.0</br>lastAction: 0.0</br>minute: 3</br>angleToGoal: 40.4664837945122</br>_original_yhat_: 0.053361547462168445</br>"
          ],
          [
           "</br>id: 1833</br>prediction: 0.05</br>distanceToGoal: 25.383519377373187</br></br>h_a: 0.0</br>situation: 2.0</br>shotType: 0.0</br>lastAction: 0.0</br>minute: 3</br>angleToGoal: 40.4664837945122</br>_original_yhat_: 0.053361547462168445</br>"
          ],
          [
           "</br>id: 1833</br>prediction: 0.621</br>distanceToGoal: 26.02231568305421</br></br>h_a: 0.0</br>situation: 2.0</br>shotType: 0.0</br>lastAction: 0.0</br>minute: 3</br>angleToGoal: 40.4664837945122</br>_original_yhat_: 0.053361547462168445</br>"
          ],
          [
           "</br>id: 1833</br>prediction: 0.621</br>distanceToGoal: 26.661111988735232</br></br>h_a: 0.0</br>situation: 2.0</br>shotType: 0.0</br>lastAction: 0.0</br>minute: 3</br>angleToGoal: 40.4664837945122</br>_original_yhat_: 0.053361547462168445</br>"
          ],
          [
           "</br>id: 1833</br>prediction: 0.621</br>distanceToGoal: 27.299908294416255</br></br>h_a: 0.0</br>situation: 2.0</br>shotType: 0.0</br>lastAction: 0.0</br>minute: 3</br>angleToGoal: 40.4664837945122</br>_original_yhat_: 0.053361547462168445</br>"
          ],
          [
           "</br>id: 1833</br>prediction: 0.621</br>distanceToGoal: 27.93870460009728</br></br>h_a: 0.0</br>situation: 2.0</br>shotType: 0.0</br>lastAction: 0.0</br>minute: 3</br>angleToGoal: 40.4664837945122</br>_original_yhat_: 0.053361547462168445</br>"
          ],
          [
           "</br>id: 1833</br>prediction: 0.621</br>distanceToGoal: 28.577500905778304</br></br>h_a: 0.0</br>situation: 2.0</br>shotType: 0.0</br>lastAction: 0.0</br>minute: 3</br>angleToGoal: 40.4664837945122</br>_original_yhat_: 0.053361547462168445</br>"
          ],
          [
           "</br>id: 1833</br>prediction: 0.621</br>distanceToGoal: 29.216297211459327</br></br>h_a: 0.0</br>situation: 2.0</br>shotType: 0.0</br>lastAction: 0.0</br>minute: 3</br>angleToGoal: 40.4664837945122</br>_original_yhat_: 0.053361547462168445</br>"
          ],
          [
           "</br>id: 1833</br>prediction: 0.621</br>distanceToGoal: 29.855093517140354</br></br>h_a: 0.0</br>situation: 2.0</br>shotType: 0.0</br>lastAction: 0.0</br>minute: 3</br>angleToGoal: 40.4664837945122</br>_original_yhat_: 0.053361547462168445</br>"
          ],
          [
           "</br>id: 1833</br>prediction: 0.621</br>distanceToGoal: 30.493889822821377</br></br>h_a: 0.0</br>situation: 2.0</br>shotType: 0.0</br>lastAction: 0.0</br>minute: 3</br>angleToGoal: 40.4664837945122</br>_original_yhat_: 0.053361547462168445</br>"
          ],
          [
           "</br>id: 1833</br>prediction: 0.621</br>distanceToGoal: 31.1326861285024</br></br>h_a: 0.0</br>situation: 2.0</br>shotType: 0.0</br>lastAction: 0.0</br>minute: 3</br>angleToGoal: 40.4664837945122</br>_original_yhat_: 0.053361547462168445</br>"
          ],
          [
           "</br>id: 1833</br>prediction: 0.545</br>distanceToGoal: 31.771482434183426</br></br>h_a: 0.0</br>situation: 2.0</br>shotType: 0.0</br>lastAction: 0.0</br>minute: 3</br>angleToGoal: 40.4664837945122</br>_original_yhat_: 0.053361547462168445</br>"
          ],
          [
           "</br>id: 1833</br>prediction: 0.545</br>distanceToGoal: 32.41027873986445</br></br>h_a: 0.0</br>situation: 2.0</br>shotType: 0.0</br>lastAction: 0.0</br>minute: 3</br>angleToGoal: 40.4664837945122</br>_original_yhat_: 0.053361547462168445</br>"
          ],
          [
           "</br>id: 1833</br>prediction: 0.545</br>distanceToGoal: 33.04907504554547</br></br>h_a: 0.0</br>situation: 2.0</br>shotType: 0.0</br>lastAction: 0.0</br>minute: 3</br>angleToGoal: 40.4664837945122</br>_original_yhat_: 0.053361547462168445</br>"
          ],
          [
           "</br>id: 1833</br>prediction: 0.545</br>distanceToGoal: 33.6878713512265</br></br>h_a: 0.0</br>situation: 2.0</br>shotType: 0.0</br>lastAction: 0.0</br>minute: 3</br>angleToGoal: 40.4664837945122</br>_original_yhat_: 0.053361547462168445</br>"
          ],
          [
           "</br>id: 1833</br>prediction: 0.545</br>distanceToGoal: 34.32666765690752</br></br>h_a: 0.0</br>situation: 2.0</br>shotType: 0.0</br>lastAction: 0.0</br>minute: 3</br>angleToGoal: 40.4664837945122</br>_original_yhat_: 0.053361547462168445</br>"
          ],
          [
           "</br>id: 1833</br>prediction: 0.545</br>distanceToGoal: 34.965463962588544</br></br>h_a: 0.0</br>situation: 2.0</br>shotType: 0.0</br>lastAction: 0.0</br>minute: 3</br>angleToGoal: 40.4664837945122</br>_original_yhat_: 0.053361547462168445</br>"
          ],
          [
           "</br>id: 1833</br>prediction: 0.545</br>distanceToGoal: 35.60426026826957</br></br>h_a: 0.0</br>situation: 2.0</br>shotType: 0.0</br>lastAction: 0.0</br>minute: 3</br>angleToGoal: 40.4664837945122</br>_original_yhat_: 0.053361547462168445</br>"
          ],
          [
           "</br>id: 1833</br>prediction: 0.545</br>distanceToGoal: 36.24305657395059</br></br>h_a: 0.0</br>situation: 2.0</br>shotType: 0.0</br>lastAction: 0.0</br>minute: 3</br>angleToGoal: 40.4664837945122</br>_original_yhat_: 0.053361547462168445</br>"
          ],
          [
           "</br>id: 1833</br>prediction: 0.545</br>distanceToGoal: 36.881852879631616</br></br>h_a: 0.0</br>situation: 2.0</br>shotType: 0.0</br>lastAction: 0.0</br>minute: 3</br>angleToGoal: 40.4664837945122</br>_original_yhat_: 0.053361547462168445</br>"
          ],
          [
           "</br>id: 1833</br>prediction: 0.545</br>distanceToGoal: 37.52064918531264</br></br>h_a: 0.0</br>situation: 2.0</br>shotType: 0.0</br>lastAction: 0.0</br>minute: 3</br>angleToGoal: 40.4664837945122</br>_original_yhat_: 0.053361547462168445</br>"
          ],
          [
           "</br>id: 1833</br>prediction: 0.545</br>distanceToGoal: 38.15944549099366</br></br>h_a: 0.0</br>situation: 2.0</br>shotType: 0.0</br>lastAction: 0.0</br>minute: 3</br>angleToGoal: 40.4664837945122</br>_original_yhat_: 0.053361547462168445</br>"
          ],
          [
           "</br>id: 1833</br>prediction: 0.545</br>distanceToGoal: 38.79824179667469</br></br>h_a: 0.0</br>situation: 2.0</br>shotType: 0.0</br>lastAction: 0.0</br>minute: 3</br>angleToGoal: 40.4664837945122</br>_original_yhat_: 0.053361547462168445</br>"
          ],
          [
           "</br>id: 1833</br>prediction: 0.545</br>distanceToGoal: 39.437038102355714</br></br>h_a: 0.0</br>situation: 2.0</br>shotType: 0.0</br>lastAction: 0.0</br>minute: 3</br>angleToGoal: 40.4664837945122</br>_original_yhat_: 0.053361547462168445</br>"
          ],
          [
           "</br>id: 1833</br>prediction: 0.545</br>distanceToGoal: 40.075834408036734</br></br>h_a: 0.0</br>situation: 2.0</br>shotType: 0.0</br>lastAction: 0.0</br>minute: 3</br>angleToGoal: 40.4664837945122</br>_original_yhat_: 0.053361547462168445</br>"
          ],
          [
           "</br>id: 1833</br>prediction: 0.545</br>distanceToGoal: 40.71463071371776</br></br>h_a: 0.0</br>situation: 2.0</br>shotType: 0.0</br>lastAction: 0.0</br>minute: 3</br>angleToGoal: 40.4664837945122</br>_original_yhat_: 0.053361547462168445</br>"
          ],
          [
           "</br>id: 1833</br>prediction: 0.545</br>distanceToGoal: 41.35342701939879</br></br>h_a: 0.0</br>situation: 2.0</br>shotType: 0.0</br>lastAction: 0.0</br>minute: 3</br>angleToGoal: 40.4664837945122</br>_original_yhat_: 0.053361547462168445</br>"
          ],
          [
           "</br>id: 1833</br>prediction: 0.545</br>distanceToGoal: 41.992223325079806</br></br>h_a: 0.0</br>situation: 2.0</br>shotType: 0.0</br>lastAction: 0.0</br>minute: 3</br>angleToGoal: 40.4664837945122</br>_original_yhat_: 0.053361547462168445</br>"
          ],
          [
           "</br>id: 1833</br>prediction: 0.545</br>distanceToGoal: 42.63101963076083</br></br>h_a: 0.0</br>situation: 2.0</br>shotType: 0.0</br>lastAction: 0.0</br>minute: 3</br>angleToGoal: 40.4664837945122</br>_original_yhat_: 0.053361547462168445</br>"
          ],
          [
           "</br>id: 1833</br>prediction: 0.545</br>distanceToGoal: 43.26981593644186</br></br>h_a: 0.0</br>situation: 2.0</br>shotType: 0.0</br>lastAction: 0.0</br>minute: 3</br>angleToGoal: 40.4664837945122</br>_original_yhat_: 0.053361547462168445</br>"
          ],
          [
           "</br>id: 1833</br>prediction: 0.545</br>distanceToGoal: 43.90861224212288</br></br>h_a: 0.0</br>situation: 2.0</br>shotType: 0.0</br>lastAction: 0.0</br>minute: 3</br>angleToGoal: 40.4664837945122</br>_original_yhat_: 0.053361547462168445</br>"
          ],
          [
           "</br>id: 1833</br>prediction: 0.545</br>distanceToGoal: 44.547408547803904</br></br>h_a: 0.0</br>situation: 2.0</br>shotType: 0.0</br>lastAction: 0.0</br>minute: 3</br>angleToGoal: 40.4664837945122</br>_original_yhat_: 0.053361547462168445</br>"
          ],
          [
           "</br>id: 1833</br>prediction: 0.545</br>distanceToGoal: 45.18620485348493</br></br>h_a: 0.0</br>situation: 2.0</br>shotType: 0.0</br>lastAction: 0.0</br>minute: 3</br>angleToGoal: 40.4664837945122</br>_original_yhat_: 0.053361547462168445</br>"
          ],
          [
           "</br>id: 1833</br>prediction: 0.545</br>distanceToGoal: 45.82500115916595</br></br>h_a: 0.0</br>situation: 2.0</br>shotType: 0.0</br>lastAction: 0.0</br>minute: 3</br>angleToGoal: 40.4664837945122</br>_original_yhat_: 0.053361547462168445</br>"
          ],
          [
           "</br>id: 1833</br>prediction: 0.545</br>distanceToGoal: 46.46379746484698</br></br>h_a: 0.0</br>situation: 2.0</br>shotType: 0.0</br>lastAction: 0.0</br>minute: 3</br>angleToGoal: 40.4664837945122</br>_original_yhat_: 0.053361547462168445</br>"
          ],
          [
           "</br>id: 1833</br>prediction: 0.545</br>distanceToGoal: 47.102593770528</br></br>h_a: 0.0</br>situation: 2.0</br>shotType: 0.0</br>lastAction: 0.0</br>minute: 3</br>angleToGoal: 40.4664837945122</br>_original_yhat_: 0.053361547462168445</br>"
          ],
          [
           "</br>id: 1833</br>prediction: 0.545</br>distanceToGoal: 47.74139007620902</br></br>h_a: 0.0</br>situation: 2.0</br>shotType: 0.0</br>lastAction: 0.0</br>minute: 3</br>angleToGoal: 40.4664837945122</br>_original_yhat_: 0.053361547462168445</br>"
          ],
          [
           "</br>id: 1833</br>prediction: 0.545</br>distanceToGoal: 48.38018638189005</br></br>h_a: 0.0</br>situation: 2.0</br>shotType: 0.0</br>lastAction: 0.0</br>minute: 3</br>angleToGoal: 40.4664837945122</br>_original_yhat_: 0.053361547462168445</br>"
          ],
          [
           "</br>id: 1833</br>prediction: 0.545</br>distanceToGoal: 49.018982687571075</br></br>h_a: 0.0</br>situation: 2.0</br>shotType: 0.0</br>lastAction: 0.0</br>minute: 3</br>angleToGoal: 40.4664837945122</br>_original_yhat_: 0.053361547462168445</br>"
          ],
          [
           "</br>id: 1833</br>prediction: 0.545</br>distanceToGoal: 49.657778993252094</br></br>h_a: 0.0</br>situation: 2.0</br>shotType: 0.0</br>lastAction: 0.0</br>minute: 3</br>angleToGoal: 40.4664837945122</br>_original_yhat_: 0.053361547462168445</br>"
          ],
          [
           "</br>id: 1833</br>prediction: 0.545</br>distanceToGoal: 50.29657529893312</br></br>h_a: 0.0</br>situation: 2.0</br>shotType: 0.0</br>lastAction: 0.0</br>minute: 3</br>angleToGoal: 40.4664837945122</br>_original_yhat_: 0.053361547462168445</br>"
          ],
          [
           "</br>id: 1833</br>prediction: 0.545</br>distanceToGoal: 50.93537160461415</br></br>h_a: 0.0</br>situation: 2.0</br>shotType: 0.0</br>lastAction: 0.0</br>minute: 3</br>angleToGoal: 40.4664837945122</br>_original_yhat_: 0.053361547462168445</br>"
          ],
          [
           "</br>id: 1833</br>prediction: 0.545</br>distanceToGoal: 51.57416791029517</br></br>h_a: 0.0</br>situation: 2.0</br>shotType: 0.0</br>lastAction: 0.0</br>minute: 3</br>angleToGoal: 40.4664837945122</br>_original_yhat_: 0.053361547462168445</br>"
          ],
          [
           "</br>id: 1833</br>prediction: 0.545</br>distanceToGoal: 52.21296421597619</br></br>h_a: 0.0</br>situation: 2.0</br>shotType: 0.0</br>lastAction: 0.0</br>minute: 3</br>angleToGoal: 40.4664837945122</br>_original_yhat_: 0.053361547462168445</br>"
          ],
          [
           "</br>id: 1833</br>prediction: 0.545</br>distanceToGoal: 52.85176052165721</br></br>h_a: 0.0</br>situation: 2.0</br>shotType: 0.0</br>lastAction: 0.0</br>minute: 3</br>angleToGoal: 40.4664837945122</br>_original_yhat_: 0.053361547462168445</br>"
          ],
          [
           "</br>id: 1833</br>prediction: 0.545</br>distanceToGoal: 53.49055682733824</br></br>h_a: 0.0</br>situation: 2.0</br>shotType: 0.0</br>lastAction: 0.0</br>minute: 3</br>angleToGoal: 40.4664837945122</br>_original_yhat_: 0.053361547462168445</br>"
          ],
          [
           "</br>id: 1833</br>prediction: 0.545</br>distanceToGoal: 54.129353133019265</br></br>h_a: 0.0</br>situation: 2.0</br>shotType: 0.0</br>lastAction: 0.0</br>minute: 3</br>angleToGoal: 40.4664837945122</br>_original_yhat_: 0.053361547462168445</br>"
          ],
          [
           "</br>id: 1833</br>prediction: 0.545</br>distanceToGoal: 54.768149438700284</br></br>h_a: 0.0</br>situation: 2.0</br>shotType: 0.0</br>lastAction: 0.0</br>minute: 3</br>angleToGoal: 40.4664837945122</br>_original_yhat_: 0.053361547462168445</br>"
          ],
          [
           "</br>id: 1833</br>prediction: 0.545</br>distanceToGoal: 55.40694574438131</br></br>h_a: 0.0</br>situation: 2.0</br>shotType: 0.0</br>lastAction: 0.0</br>minute: 3</br>angleToGoal: 40.4664837945122</br>_original_yhat_: 0.053361547462168445</br>"
          ],
          [
           "</br>id: 1833</br>prediction: 0.545</br>distanceToGoal: 56.04574205006234</br></br>h_a: 0.0</br>situation: 2.0</br>shotType: 0.0</br>lastAction: 0.0</br>minute: 3</br>angleToGoal: 40.4664837945122</br>_original_yhat_: 0.053361547462168445</br>"
          ],
          [
           "</br>id: 1833</br>prediction: 0.545</br>distanceToGoal: 56.684538355743356</br></br>h_a: 0.0</br>situation: 2.0</br>shotType: 0.0</br>lastAction: 0.0</br>minute: 3</br>angleToGoal: 40.4664837945122</br>_original_yhat_: 0.053361547462168445</br>"
          ],
          [
           "</br>id: 1833</br>prediction: 0.545</br>distanceToGoal: 57.32333466142438</br></br>h_a: 0.0</br>situation: 2.0</br>shotType: 0.0</br>lastAction: 0.0</br>minute: 3</br>angleToGoal: 40.4664837945122</br>_original_yhat_: 0.053361547462168445</br>"
          ],
          [
           "</br>id: 1833</br>prediction: 0.545</br>distanceToGoal: 57.96213096710541</br></br>h_a: 0.0</br>situation: 2.0</br>shotType: 0.0</br>lastAction: 0.0</br>minute: 3</br>angleToGoal: 40.4664837945122</br>_original_yhat_: 0.053361547462168445</br>"
          ],
          [
           "</br>id: 1833</br>prediction: 0.545</br>distanceToGoal: 58.60092727278643</br></br>h_a: 0.0</br>situation: 2.0</br>shotType: 0.0</br>lastAction: 0.0</br>minute: 3</br>angleToGoal: 40.4664837945122</br>_original_yhat_: 0.053361547462168445</br>"
          ],
          [
           "</br>id: 1833</br>prediction: 0.545</br>distanceToGoal: 59.239723578467455</br></br>h_a: 0.0</br>situation: 2.0</br>shotType: 0.0</br>lastAction: 0.0</br>minute: 3</br>angleToGoal: 40.4664837945122</br>_original_yhat_: 0.053361547462168445</br>"
          ],
          [
           "</br>id: 1833</br>prediction: 0.545</br>distanceToGoal: 59.87851988414848</br></br>h_a: 0.0</br>situation: 2.0</br>shotType: 0.0</br>lastAction: 0.0</br>minute: 3</br>angleToGoal: 40.4664837945122</br>_original_yhat_: 0.053361547462168445</br>"
          ],
          [
           "</br>id: 1833</br>prediction: 0.545</br>distanceToGoal: 60.5173161898295</br></br>h_a: 0.0</br>situation: 2.0</br>shotType: 0.0</br>lastAction: 0.0</br>minute: 3</br>angleToGoal: 40.4664837945122</br>_original_yhat_: 0.053361547462168445</br>"
          ],
          [
           "</br>id: 1833</br>prediction: 0.545</br>distanceToGoal: 61.15611249551053</br></br>h_a: 0.0</br>situation: 2.0</br>shotType: 0.0</br>lastAction: 0.0</br>minute: 3</br>angleToGoal: 40.4664837945122</br>_original_yhat_: 0.053361547462168445</br>"
          ],
          [
           "</br>id: 1833</br>prediction: 0.545</br>distanceToGoal: 61.79490880119155</br></br>h_a: 0.0</br>situation: 2.0</br>shotType: 0.0</br>lastAction: 0.0</br>minute: 3</br>angleToGoal: 40.4664837945122</br>_original_yhat_: 0.053361547462168445</br>"
          ],
          [
           "</br>id: 1833</br>prediction: 0.545</br>distanceToGoal: 62.43370510687257</br></br>h_a: 0.0</br>situation: 2.0</br>shotType: 0.0</br>lastAction: 0.0</br>minute: 3</br>angleToGoal: 40.4664837945122</br>_original_yhat_: 0.053361547462168445</br>"
          ],
          [
           "</br>id: 1833</br>prediction: 0.545</br>distanceToGoal: 63.0725014125536</br></br>h_a: 0.0</br>situation: 2.0</br>shotType: 0.0</br>lastAction: 0.0</br>minute: 3</br>angleToGoal: 40.4664837945122</br>_original_yhat_: 0.053361547462168445</br>"
          ],
          [
           "</br>id: 1833</br>prediction: 0.545</br>distanceToGoal: 63.711297718234626</br></br>h_a: 0.0</br>situation: 2.0</br>shotType: 0.0</br>lastAction: 0.0</br>minute: 3</br>angleToGoal: 40.4664837945122</br>_original_yhat_: 0.053361547462168445</br>"
          ],
          [
           "</br>id: 1833</br>prediction: 0.545</br>distanceToGoal: 64.35009402391564</br></br>h_a: 0.0</br>situation: 2.0</br>shotType: 0.0</br>lastAction: 0.0</br>minute: 3</br>angleToGoal: 40.4664837945122</br>_original_yhat_: 0.053361547462168445</br>"
          ],
          [
           "</br>id: 1833</br>prediction: 0.545</br>distanceToGoal: 64.98889032959667</br></br>h_a: 0.0</br>situation: 2.0</br>shotType: 0.0</br>lastAction: 0.0</br>minute: 3</br>angleToGoal: 40.4664837945122</br>_original_yhat_: 0.053361547462168445</br>"
          ],
          [
           "</br>id: 1833</br>prediction: 0.545</br>distanceToGoal: 65.6276866352777</br></br>h_a: 0.0</br>situation: 2.0</br>shotType: 0.0</br>lastAction: 0.0</br>minute: 3</br>angleToGoal: 40.4664837945122</br>_original_yhat_: 0.053361547462168445</br>"
          ]
         ],
         "hovertemplate": "%{customdata[0]}<extra></extra>",
         "legendgroup": "Gradient Boosting",
         "line": {
          "color": "#46bac2",
          "dash": "solid",
          "width": 2
         },
         "marker": {
          "symbol": "circle"
         },
         "mode": "lines",
         "name": "Gradient Boosting",
         "opacity": 1,
         "orientation": "v",
         "showlegend": false,
         "type": "scatter",
         "x": [
          1.7480560671752996,
          2.386852372856324,
          3.0256486785373475,
          3.6644449842183713,
          4.303241289899395,
          4.94203759558042,
          5.580833901261443,
          6.219630206942467,
          6.858426512623492,
          7.497222818304515,
          8.13601912398554,
          8.774815429666564,
          9.413611735347587,
          9.53310076709881,
          10.052408041028611,
          10.691204346709636,
          11.330000652390659,
          11.968796958071684,
          12.607593263752708,
          13.246389569433731,
          13.885185875114756,
          14.523982180795779,
          15.162778486476803,
          15.801574792157828,
          16.44037109783885,
          17.079167403519875,
          17.717963709200898,
          18.35676001488192,
          18.995556320562944,
          19.63435262624397,
          20.273148931924993,
          20.911945237606016,
          21.550741543287042,
          22.189537848968065,
          22.828334154649088,
          23.467130460330115,
          24.105926766011137,
          24.74472307169216,
          25.383519377373187,
          26.02231568305421,
          26.661111988735232,
          27.299908294416255,
          27.93870460009728,
          28.577500905778304,
          29.216297211459327,
          29.855093517140354,
          30.493889822821377,
          31.1326861285024,
          31.771482434183426,
          32.41027873986445,
          33.04907504554547,
          33.6878713512265,
          34.32666765690752,
          34.965463962588544,
          35.60426026826957,
          36.24305657395059,
          36.881852879631616,
          37.52064918531264,
          38.15944549099366,
          38.79824179667469,
          39.437038102355714,
          40.075834408036734,
          40.71463071371776,
          41.35342701939879,
          41.992223325079806,
          42.63101963076083,
          43.26981593644186,
          43.90861224212288,
          44.547408547803904,
          45.18620485348493,
          45.82500115916595,
          46.46379746484698,
          47.102593770528,
          47.74139007620902,
          48.38018638189005,
          49.018982687571075,
          49.657778993252094,
          50.29657529893312,
          50.93537160461415,
          51.57416791029517,
          52.21296421597619,
          52.85176052165721,
          53.49055682733824,
          54.129353133019265,
          54.768149438700284,
          55.40694574438131,
          56.04574205006234,
          56.684538355743356,
          57.32333466142438,
          57.96213096710541,
          58.60092727278643,
          59.239723578467455,
          59.87851988414848,
          60.5173161898295,
          61.15611249551053,
          61.79490880119155,
          62.43370510687257,
          63.0725014125536,
          63.711297718234626,
          64.35009402391564,
          64.98889032959667,
          65.6276866352777
         ],
         "xaxis": "x4",
         "y": [
          0.7494279064656445,
          0.7508601671237939,
          0.2890602679586773,
          0.2890602679586773,
          0.1779457831831388,
          0.15607217787186597,
          0.15835136811594203,
          0.3455596676972013,
          0.06692883236869591,
          0.06692883236869591,
          0.0650287546998434,
          0.06319454615094695,
          0.07751780478406323,
          0.053361547462168445,
          0.053361547462168445,
          0.04379879730924684,
          0.04379879730924684,
          0.042414909915015855,
          0.042414909915015855,
          0.07770642566726964,
          0.06679561584913035,
          0.06679561584913035,
          0.06679561584913035,
          0.06577215829084476,
          0.06577215829084476,
          0.06577215829084476,
          0.06577215829084476,
          0.06577215829084476,
          0.06813725168489759,
          0.06919896380356579,
          0.07696277363547091,
          0.07696277363547091,
          0.07696277363547091,
          0.07696277363547091,
          0.04953932176810783,
          0.04953932176810783,
          0.04953932176810783,
          0.04953932176810783,
          0.04953932176810783,
          0.6206449498973647,
          0.6206449498973647,
          0.6206449498973647,
          0.6206449498973647,
          0.6206449498973647,
          0.6206449498973647,
          0.6206449498973647,
          0.6206449498973647,
          0.6206449498973647,
          0.5447750079267141,
          0.5447750079267141,
          0.5447750079267141,
          0.5447750079267141,
          0.5447750079267141,
          0.5447750079267141,
          0.5447750079267141,
          0.5447750079267141,
          0.5447750079267141,
          0.5447750079267141,
          0.5447750079267141,
          0.5447750079267141,
          0.5447750079267141,
          0.5447750079267141,
          0.5447750079267141,
          0.5447750079267141,
          0.5447750079267141,
          0.5447750079267141,
          0.5447750079267141,
          0.5447750079267141,
          0.5447750079267141,
          0.5447750079267141,
          0.5447750079267141,
          0.5447750079267141,
          0.5447750079267141,
          0.5447750079267141,
          0.5447750079267141,
          0.5447750079267141,
          0.5447750079267141,
          0.5447750079267141,
          0.5447750079267141,
          0.5447750079267141,
          0.5447750079267141,
          0.5447750079267141,
          0.5447750079267141,
          0.5447750079267141,
          0.5447750079267141,
          0.5447750079267141,
          0.5447750079267141,
          0.5447750079267141,
          0.5447750079267141,
          0.5447750079267141,
          0.5447750079267141,
          0.5447750079267141,
          0.5447750079267141,
          0.5447750079267141,
          0.5447750079267141,
          0.5447750079267141,
          0.5447750079267141,
          0.5447750079267141,
          0.5447750079267141,
          0.5447750079267141,
          0.5447750079267141,
          0.5447750079267141
         ],
         "yaxis": "y4"
        },
        {
         "customdata": [
          [
           "</br>id: 1833</br>prediction: 0.671</br>angleToGoal: 2.45563484478765</br></br>h_a: 0.0</br>situation: 2.0</br>shotType: 0.0</br>lastAction: 0.0</br>minute: 3</br>distanceToGoal: 9.53310076709881</br>_original_yhat_: 0.053361547462168445</br>"
          ],
          [
           "</br>id: 1833</br>prediction: 0.671</br>angleToGoal: 3.329788052577239</br></br>h_a: 0.0</br>situation: 2.0</br>shotType: 0.0</br>lastAction: 0.0</br>minute: 3</br>distanceToGoal: 9.53310076709881</br>_original_yhat_: 0.053361547462168445</br>"
          ],
          [
           "</br>id: 1833</br>prediction: 0.671</br>angleToGoal: 4.203941260366829</br></br>h_a: 0.0</br>situation: 2.0</br>shotType: 0.0</br>lastAction: 0.0</br>minute: 3</br>distanceToGoal: 9.53310076709881</br>_original_yhat_: 0.053361547462168445</br>"
          ],
          [
           "</br>id: 1833</br>prediction: 0.515</br>angleToGoal: 5.078094468156419</br></br>h_a: 0.0</br>situation: 2.0</br>shotType: 0.0</br>lastAction: 0.0</br>minute: 3</br>distanceToGoal: 9.53310076709881</br>_original_yhat_: 0.053361547462168445</br>"
          ],
          [
           "</br>id: 1833</br>prediction: 0.2</br>angleToGoal: 5.9522476759460075</br></br>h_a: 0.0</br>situation: 2.0</br>shotType: 0.0</br>lastAction: 0.0</br>minute: 3</br>distanceToGoal: 9.53310076709881</br>_original_yhat_: 0.053361547462168445</br>"
          ],
          [
           "</br>id: 1833</br>prediction: 0.2</br>angleToGoal: 6.826400883735596</br></br>h_a: 0.0</br>situation: 2.0</br>shotType: 0.0</br>lastAction: 0.0</br>minute: 3</br>distanceToGoal: 9.53310076709881</br>_original_yhat_: 0.053361547462168445</br>"
          ],
          [
           "</br>id: 1833</br>prediction: 0.2</br>angleToGoal: 7.700554091525186</br></br>h_a: 0.0</br>situation: 2.0</br>shotType: 0.0</br>lastAction: 0.0</br>minute: 3</br>distanceToGoal: 9.53310076709881</br>_original_yhat_: 0.053361547462168445</br>"
          ],
          [
           "</br>id: 1833</br>prediction: 0.2</br>angleToGoal: 8.574707299314776</br></br>h_a: 0.0</br>situation: 2.0</br>shotType: 0.0</br>lastAction: 0.0</br>minute: 3</br>distanceToGoal: 9.53310076709881</br>_original_yhat_: 0.053361547462168445</br>"
          ],
          [
           "</br>id: 1833</br>prediction: 0.231</br>angleToGoal: 9.448860507104365</br></br>h_a: 0.0</br>situation: 2.0</br>shotType: 0.0</br>lastAction: 0.0</br>minute: 3</br>distanceToGoal: 9.53310076709881</br>_original_yhat_: 0.053361547462168445</br>"
          ],
          [
           "</br>id: 1833</br>prediction: 0.231</br>angleToGoal: 10.323013714893955</br></br>h_a: 0.0</br>situation: 2.0</br>shotType: 0.0</br>lastAction: 0.0</br>minute: 3</br>distanceToGoal: 9.53310076709881</br>_original_yhat_: 0.053361547462168445</br>"
          ],
          [
           "</br>id: 1833</br>prediction: 0.231</br>angleToGoal: 11.197166922683543</br></br>h_a: 0.0</br>situation: 2.0</br>shotType: 0.0</br>lastAction: 0.0</br>minute: 3</br>distanceToGoal: 9.53310076709881</br>_original_yhat_: 0.053361547462168445</br>"
          ],
          [
           "</br>id: 1833</br>prediction: 0.231</br>angleToGoal: 12.071320130473133</br></br>h_a: 0.0</br>situation: 2.0</br>shotType: 0.0</br>lastAction: 0.0</br>minute: 3</br>distanceToGoal: 9.53310076709881</br>_original_yhat_: 0.053361547462168445</br>"
          ],
          [
           "</br>id: 1833</br>prediction: 0.231</br>angleToGoal: 12.945473338262723</br></br>h_a: 0.0</br>situation: 2.0</br>shotType: 0.0</br>lastAction: 0.0</br>minute: 3</br>distanceToGoal: 9.53310076709881</br>_original_yhat_: 0.053361547462168445</br>"
          ],
          [
           "</br>id: 1833</br>prediction: 0.046</br>angleToGoal: 13.819626546052312</br></br>h_a: 0.0</br>situation: 2.0</br>shotType: 0.0</br>lastAction: 0.0</br>minute: 3</br>distanceToGoal: 9.53310076709881</br>_original_yhat_: 0.053361547462168445</br>"
          ],
          [
           "</br>id: 1833</br>prediction: 0.046</br>angleToGoal: 14.6937797538419</br></br>h_a: 0.0</br>situation: 2.0</br>shotType: 0.0</br>lastAction: 0.0</br>minute: 3</br>distanceToGoal: 9.53310076709881</br>_original_yhat_: 0.053361547462168445</br>"
          ],
          [
           "</br>id: 1833</br>prediction: 0.046</br>angleToGoal: 15.56793296163149</br></br>h_a: 0.0</br>situation: 2.0</br>shotType: 0.0</br>lastAction: 0.0</br>minute: 3</br>distanceToGoal: 9.53310076709881</br>_original_yhat_: 0.053361547462168445</br>"
          ],
          [
           "</br>id: 1833</br>prediction: 0.026</br>angleToGoal: 16.44208616942108</br></br>h_a: 0.0</br>situation: 2.0</br>shotType: 0.0</br>lastAction: 0.0</br>minute: 3</br>distanceToGoal: 9.53310076709881</br>_original_yhat_: 0.053361547462168445</br>"
          ],
          [
           "</br>id: 1833</br>prediction: 0.026</br>angleToGoal: 17.31623937721067</br></br>h_a: 0.0</br>situation: 2.0</br>shotType: 0.0</br>lastAction: 0.0</br>minute: 3</br>distanceToGoal: 9.53310076709881</br>_original_yhat_: 0.053361547462168445</br>"
          ],
          [
           "</br>id: 1833</br>prediction: 0.026</br>angleToGoal: 18.19039258500026</br></br>h_a: 0.0</br>situation: 2.0</br>shotType: 0.0</br>lastAction: 0.0</br>minute: 3</br>distanceToGoal: 9.53310076709881</br>_original_yhat_: 0.053361547462168445</br>"
          ],
          [
           "</br>id: 1833</br>prediction: 0.026</br>angleToGoal: 19.064545792789847</br></br>h_a: 0.0</br>situation: 2.0</br>shotType: 0.0</br>lastAction: 0.0</br>minute: 3</br>distanceToGoal: 9.53310076709881</br>_original_yhat_: 0.053361547462168445</br>"
          ],
          [
           "</br>id: 1833</br>prediction: 0.026</br>angleToGoal: 19.938699000579437</br></br>h_a: 0.0</br>situation: 2.0</br>shotType: 0.0</br>lastAction: 0.0</br>minute: 3</br>distanceToGoal: 9.53310076709881</br>_original_yhat_: 0.053361547462168445</br>"
          ],
          [
           "</br>id: 1833</br>prediction: 0.025</br>angleToGoal: 20.812852208369026</br></br>h_a: 0.0</br>situation: 2.0</br>shotType: 0.0</br>lastAction: 0.0</br>minute: 3</br>distanceToGoal: 9.53310076709881</br>_original_yhat_: 0.053361547462168445</br>"
          ],
          [
           "</br>id: 1833</br>prediction: 0.025</br>angleToGoal: 21.687005416158616</br></br>h_a: 0.0</br>situation: 2.0</br>shotType: 0.0</br>lastAction: 0.0</br>minute: 3</br>distanceToGoal: 9.53310076709881</br>_original_yhat_: 0.053361547462168445</br>"
          ],
          [
           "</br>id: 1833</br>prediction: 0.027</br>angleToGoal: 22.561158623948206</br></br>h_a: 0.0</br>situation: 2.0</br>shotType: 0.0</br>lastAction: 0.0</br>minute: 3</br>distanceToGoal: 9.53310076709881</br>_original_yhat_: 0.053361547462168445</br>"
          ],
          [
           "</br>id: 1833</br>prediction: 0.027</br>angleToGoal: 23.435311831737796</br></br>h_a: 0.0</br>situation: 2.0</br>shotType: 0.0</br>lastAction: 0.0</br>minute: 3</br>distanceToGoal: 9.53310076709881</br>_original_yhat_: 0.053361547462168445</br>"
          ],
          [
           "</br>id: 1833</br>prediction: 0.027</br>angleToGoal: 24.309465039527385</br></br>h_a: 0.0</br>situation: 2.0</br>shotType: 0.0</br>lastAction: 0.0</br>minute: 3</br>distanceToGoal: 9.53310076709881</br>_original_yhat_: 0.053361547462168445</br>"
          ],
          [
           "</br>id: 1833</br>prediction: 0.027</br>angleToGoal: 25.183618247316975</br></br>h_a: 0.0</br>situation: 2.0</br>shotType: 0.0</br>lastAction: 0.0</br>minute: 3</br>distanceToGoal: 9.53310076709881</br>_original_yhat_: 0.053361547462168445</br>"
          ],
          [
           "</br>id: 1833</br>prediction: 0.016</br>angleToGoal: 26.05777145510656</br></br>h_a: 0.0</br>situation: 2.0</br>shotType: 0.0</br>lastAction: 0.0</br>minute: 3</br>distanceToGoal: 9.53310076709881</br>_original_yhat_: 0.053361547462168445</br>"
          ],
          [
           "</br>id: 1833</br>prediction: 0.016</br>angleToGoal: 26.93192466289615</br></br>h_a: 0.0</br>situation: 2.0</br>shotType: 0.0</br>lastAction: 0.0</br>minute: 3</br>distanceToGoal: 9.53310076709881</br>_original_yhat_: 0.053361547462168445</br>"
          ],
          [
           "</br>id: 1833</br>prediction: 0.016</br>angleToGoal: 27.80607787068574</br></br>h_a: 0.0</br>situation: 2.0</br>shotType: 0.0</br>lastAction: 0.0</br>minute: 3</br>distanceToGoal: 9.53310076709881</br>_original_yhat_: 0.053361547462168445</br>"
          ],
          [
           "</br>id: 1833</br>prediction: 0.016</br>angleToGoal: 28.68023107847533</br></br>h_a: 0.0</br>situation: 2.0</br>shotType: 0.0</br>lastAction: 0.0</br>minute: 3</br>distanceToGoal: 9.53310076709881</br>_original_yhat_: 0.053361547462168445</br>"
          ],
          [
           "</br>id: 1833</br>prediction: 0.016</br>angleToGoal: 29.55438428626492</br></br>h_a: 0.0</br>situation: 2.0</br>shotType: 0.0</br>lastAction: 0.0</br>minute: 3</br>distanceToGoal: 9.53310076709881</br>_original_yhat_: 0.053361547462168445</br>"
          ],
          [
           "</br>id: 1833</br>prediction: 0.016</br>angleToGoal: 30.42853749405451</br></br>h_a: 0.0</br>situation: 2.0</br>shotType: 0.0</br>lastAction: 0.0</br>minute: 3</br>distanceToGoal: 9.53310076709881</br>_original_yhat_: 0.053361547462168445</br>"
          ],
          [
           "</br>id: 1833</br>prediction: 0.016</br>angleToGoal: 31.3026907018441</br></br>h_a: 0.0</br>situation: 2.0</br>shotType: 0.0</br>lastAction: 0.0</br>minute: 3</br>distanceToGoal: 9.53310076709881</br>_original_yhat_: 0.053361547462168445</br>"
          ],
          [
           "</br>id: 1833</br>prediction: 0.016</br>angleToGoal: 32.17684390963369</br></br>h_a: 0.0</br>situation: 2.0</br>shotType: 0.0</br>lastAction: 0.0</br>minute: 3</br>distanceToGoal: 9.53310076709881</br>_original_yhat_: 0.053361547462168445</br>"
          ],
          [
           "</br>id: 1833</br>prediction: 0.016</br>angleToGoal: 33.05099711742328</br></br>h_a: 0.0</br>situation: 2.0</br>shotType: 0.0</br>lastAction: 0.0</br>minute: 3</br>distanceToGoal: 9.53310076709881</br>_original_yhat_: 0.053361547462168445</br>"
          ],
          [
           "</br>id: 1833</br>prediction: 0.029</br>angleToGoal: 33.92515032521287</br></br>h_a: 0.0</br>situation: 2.0</br>shotType: 0.0</br>lastAction: 0.0</br>minute: 3</br>distanceToGoal: 9.53310076709881</br>_original_yhat_: 0.053361547462168445</br>"
          ],
          [
           "</br>id: 1833</br>prediction: 0.029</br>angleToGoal: 34.79930353300246</br></br>h_a: 0.0</br>situation: 2.0</br>shotType: 0.0</br>lastAction: 0.0</br>minute: 3</br>distanceToGoal: 9.53310076709881</br>_original_yhat_: 0.053361547462168445</br>"
          ],
          [
           "</br>id: 1833</br>prediction: 0.029</br>angleToGoal: 35.67345674079205</br></br>h_a: 0.0</br>situation: 2.0</br>shotType: 0.0</br>lastAction: 0.0</br>minute: 3</br>distanceToGoal: 9.53310076709881</br>_original_yhat_: 0.053361547462168445</br>"
          ],
          [
           "</br>id: 1833</br>prediction: 0.025</br>angleToGoal: 36.54760994858164</br></br>h_a: 0.0</br>situation: 2.0</br>shotType: 0.0</br>lastAction: 0.0</br>minute: 3</br>distanceToGoal: 9.53310076709881</br>_original_yhat_: 0.053361547462168445</br>"
          ],
          [
           "</br>id: 1833</br>prediction: 0.025</br>angleToGoal: 37.42176315637123</br></br>h_a: 0.0</br>situation: 2.0</br>shotType: 0.0</br>lastAction: 0.0</br>minute: 3</br>distanceToGoal: 9.53310076709881</br>_original_yhat_: 0.053361547462168445</br>"
          ],
          [
           "</br>id: 1833</br>prediction: 0.042</br>angleToGoal: 38.29591636416082</br></br>h_a: 0.0</br>situation: 2.0</br>shotType: 0.0</br>lastAction: 0.0</br>minute: 3</br>distanceToGoal: 9.53310076709881</br>_original_yhat_: 0.053361547462168445</br>"
          ],
          [
           "</br>id: 1833</br>prediction: 0.043</br>angleToGoal: 39.17006957195041</br></br>h_a: 0.0</br>situation: 2.0</br>shotType: 0.0</br>lastAction: 0.0</br>minute: 3</br>distanceToGoal: 9.53310076709881</br>_original_yhat_: 0.053361547462168445</br>"
          ],
          [
           "</br>id: 1833</br>prediction: 0.053</br>angleToGoal: 40.04422277974</br></br>h_a: 0.0</br>situation: 2.0</br>shotType: 0.0</br>lastAction: 0.0</br>minute: 3</br>distanceToGoal: 9.53310076709881</br>_original_yhat_: 0.053361547462168445</br>"
          ],
          [
           "</br>id: 1833</br>prediction: 0.053</br>angleToGoal: 40.4664837945122</br></br>h_a: 0.0</br>situation: 2.0</br>shotType: 0.0</br>lastAction: 0.0</br>minute: 3</br>distanceToGoal: 9.53310076709881</br>_original_yhat_: 0.053361547462168445</br>"
          ],
          [
           "</br>id: 1833</br>prediction: 0.053</br>angleToGoal: 40.918375987529586</br></br>h_a: 0.0</br>situation: 2.0</br>shotType: 0.0</br>lastAction: 0.0</br>minute: 3</br>distanceToGoal: 9.53310076709881</br>_original_yhat_: 0.053361547462168445</br>"
          ],
          [
           "</br>id: 1833</br>prediction: 0.053</br>angleToGoal: 41.792529195319176</br></br>h_a: 0.0</br>situation: 2.0</br>shotType: 0.0</br>lastAction: 0.0</br>minute: 3</br>distanceToGoal: 9.53310076709881</br>_original_yhat_: 0.053361547462168445</br>"
          ],
          [
           "</br>id: 1833</br>prediction: 0.053</br>angleToGoal: 42.666682403108766</br></br>h_a: 0.0</br>situation: 2.0</br>shotType: 0.0</br>lastAction: 0.0</br>minute: 3</br>distanceToGoal: 9.53310076709881</br>_original_yhat_: 0.053361547462168445</br>"
          ],
          [
           "</br>id: 1833</br>prediction: 0.049</br>angleToGoal: 43.540835610898355</br></br>h_a: 0.0</br>situation: 2.0</br>shotType: 0.0</br>lastAction: 0.0</br>minute: 3</br>distanceToGoal: 9.53310076709881</br>_original_yhat_: 0.053361547462168445</br>"
          ],
          [
           "</br>id: 1833</br>prediction: 0.049</br>angleToGoal: 44.414988818687945</br></br>h_a: 0.0</br>situation: 2.0</br>shotType: 0.0</br>lastAction: 0.0</br>minute: 3</br>distanceToGoal: 9.53310076709881</br>_original_yhat_: 0.053361547462168445</br>"
          ],
          [
           "</br>id: 1833</br>prediction: 0.062</br>angleToGoal: 45.289142026477535</br></br>h_a: 0.0</br>situation: 2.0</br>shotType: 0.0</br>lastAction: 0.0</br>minute: 3</br>distanceToGoal: 9.53310076709881</br>_original_yhat_: 0.053361547462168445</br>"
          ],
          [
           "</br>id: 1833</br>prediction: 0.064</br>angleToGoal: 46.163295234267125</br></br>h_a: 0.0</br>situation: 2.0</br>shotType: 0.0</br>lastAction: 0.0</br>minute: 3</br>distanceToGoal: 9.53310076709881</br>_original_yhat_: 0.053361547462168445</br>"
          ],
          [
           "</br>id: 1833</br>prediction: 0.058</br>angleToGoal: 47.037448442056714</br></br>h_a: 0.0</br>situation: 2.0</br>shotType: 0.0</br>lastAction: 0.0</br>minute: 3</br>distanceToGoal: 9.53310076709881</br>_original_yhat_: 0.053361547462168445</br>"
          ],
          [
           "</br>id: 1833</br>prediction: 0.058</br>angleToGoal: 47.911601649846304</br></br>h_a: 0.0</br>situation: 2.0</br>shotType: 0.0</br>lastAction: 0.0</br>minute: 3</br>distanceToGoal: 9.53310076709881</br>_original_yhat_: 0.053361547462168445</br>"
          ],
          [
           "</br>id: 1833</br>prediction: 0.058</br>angleToGoal: 48.785754857635894</br></br>h_a: 0.0</br>situation: 2.0</br>shotType: 0.0</br>lastAction: 0.0</br>minute: 3</br>distanceToGoal: 9.53310076709881</br>_original_yhat_: 0.053361547462168445</br>"
          ],
          [
           "</br>id: 1833</br>prediction: 0.058</br>angleToGoal: 49.659908065425476</br></br>h_a: 0.0</br>situation: 2.0</br>shotType: 0.0</br>lastAction: 0.0</br>minute: 3</br>distanceToGoal: 9.53310076709881</br>_original_yhat_: 0.053361547462168445</br>"
          ],
          [
           "</br>id: 1833</br>prediction: 0.212</br>angleToGoal: 50.534061273215066</br></br>h_a: 0.0</br>situation: 2.0</br>shotType: 0.0</br>lastAction: 0.0</br>minute: 3</br>distanceToGoal: 9.53310076709881</br>_original_yhat_: 0.053361547462168445</br>"
          ],
          [
           "</br>id: 1833</br>prediction: 0.182</br>angleToGoal: 51.408214481004656</br></br>h_a: 0.0</br>situation: 2.0</br>shotType: 0.0</br>lastAction: 0.0</br>minute: 3</br>distanceToGoal: 9.53310076709881</br>_original_yhat_: 0.053361547462168445</br>"
          ],
          [
           "</br>id: 1833</br>prediction: 0.182</br>angleToGoal: 52.282367688794245</br></br>h_a: 0.0</br>situation: 2.0</br>shotType: 0.0</br>lastAction: 0.0</br>minute: 3</br>distanceToGoal: 9.53310076709881</br>_original_yhat_: 0.053361547462168445</br>"
          ],
          [
           "</br>id: 1833</br>prediction: 0.182</br>angleToGoal: 53.156520896583835</br></br>h_a: 0.0</br>situation: 2.0</br>shotType: 0.0</br>lastAction: 0.0</br>minute: 3</br>distanceToGoal: 9.53310076709881</br>_original_yhat_: 0.053361547462168445</br>"
          ],
          [
           "</br>id: 1833</br>prediction: 0.182</br>angleToGoal: 54.030674104373425</br></br>h_a: 0.0</br>situation: 2.0</br>shotType: 0.0</br>lastAction: 0.0</br>minute: 3</br>distanceToGoal: 9.53310076709881</br>_original_yhat_: 0.053361547462168445</br>"
          ],
          [
           "</br>id: 1833</br>prediction: 0.182</br>angleToGoal: 54.904827312163015</br></br>h_a: 0.0</br>situation: 2.0</br>shotType: 0.0</br>lastAction: 0.0</br>minute: 3</br>distanceToGoal: 9.53310076709881</br>_original_yhat_: 0.053361547462168445</br>"
          ],
          [
           "</br>id: 1833</br>prediction: 0.182</br>angleToGoal: 55.778980519952604</br></br>h_a: 0.0</br>situation: 2.0</br>shotType: 0.0</br>lastAction: 0.0</br>minute: 3</br>distanceToGoal: 9.53310076709881</br>_original_yhat_: 0.053361547462168445</br>"
          ],
          [
           "</br>id: 1833</br>prediction: 0.169</br>angleToGoal: 56.653133727742194</br></br>h_a: 0.0</br>situation: 2.0</br>shotType: 0.0</br>lastAction: 0.0</br>minute: 3</br>distanceToGoal: 9.53310076709881</br>_original_yhat_: 0.053361547462168445</br>"
          ],
          [
           "</br>id: 1833</br>prediction: 0.169</br>angleToGoal: 57.527286935531784</br></br>h_a: 0.0</br>situation: 2.0</br>shotType: 0.0</br>lastAction: 0.0</br>minute: 3</br>distanceToGoal: 9.53310076709881</br>_original_yhat_: 0.053361547462168445</br>"
          ],
          [
           "</br>id: 1833</br>prediction: 0.169</br>angleToGoal: 58.40144014332137</br></br>h_a: 0.0</br>situation: 2.0</br>shotType: 0.0</br>lastAction: 0.0</br>minute: 3</br>distanceToGoal: 9.53310076709881</br>_original_yhat_: 0.053361547462168445</br>"
          ],
          [
           "</br>id: 1833</br>prediction: 0.169</br>angleToGoal: 59.27559335111096</br></br>h_a: 0.0</br>situation: 2.0</br>shotType: 0.0</br>lastAction: 0.0</br>minute: 3</br>distanceToGoal: 9.53310076709881</br>_original_yhat_: 0.053361547462168445</br>"
          ],
          [
           "</br>id: 1833</br>prediction: 0.169</br>angleToGoal: 60.14974655890055</br></br>h_a: 0.0</br>situation: 2.0</br>shotType: 0.0</br>lastAction: 0.0</br>minute: 3</br>distanceToGoal: 9.53310076709881</br>_original_yhat_: 0.053361547462168445</br>"
          ],
          [
           "</br>id: 1833</br>prediction: 0.225</br>angleToGoal: 61.02389976669014</br></br>h_a: 0.0</br>situation: 2.0</br>shotType: 0.0</br>lastAction: 0.0</br>minute: 3</br>distanceToGoal: 9.53310076709881</br>_original_yhat_: 0.053361547462168445</br>"
          ],
          [
           "</br>id: 1833</br>prediction: 0.092</br>angleToGoal: 61.89805297447973</br></br>h_a: 0.0</br>situation: 2.0</br>shotType: 0.0</br>lastAction: 0.0</br>minute: 3</br>distanceToGoal: 9.53310076709881</br>_original_yhat_: 0.053361547462168445</br>"
          ],
          [
           "</br>id: 1833</br>prediction: 0.128</br>angleToGoal: 62.77220618226932</br></br>h_a: 0.0</br>situation: 2.0</br>shotType: 0.0</br>lastAction: 0.0</br>minute: 3</br>distanceToGoal: 9.53310076709881</br>_original_yhat_: 0.053361547462168445</br>"
          ],
          [
           "</br>id: 1833</br>prediction: 0.128</br>angleToGoal: 63.64635939005891</br></br>h_a: 0.0</br>situation: 2.0</br>shotType: 0.0</br>lastAction: 0.0</br>minute: 3</br>distanceToGoal: 9.53310076709881</br>_original_yhat_: 0.053361547462168445</br>"
          ],
          [
           "</br>id: 1833</br>prediction: 0.128</br>angleToGoal: 64.5205125978485</br></br>h_a: 0.0</br>situation: 2.0</br>shotType: 0.0</br>lastAction: 0.0</br>minute: 3</br>distanceToGoal: 9.53310076709881</br>_original_yhat_: 0.053361547462168445</br>"
          ],
          [
           "</br>id: 1833</br>prediction: 0.128</br>angleToGoal: 65.39466580563808</br></br>h_a: 0.0</br>situation: 2.0</br>shotType: 0.0</br>lastAction: 0.0</br>minute: 3</br>distanceToGoal: 9.53310076709881</br>_original_yhat_: 0.053361547462168445</br>"
          ],
          [
           "</br>id: 1833</br>prediction: 0.128</br>angleToGoal: 66.26881901342767</br></br>h_a: 0.0</br>situation: 2.0</br>shotType: 0.0</br>lastAction: 0.0</br>minute: 3</br>distanceToGoal: 9.53310076709881</br>_original_yhat_: 0.053361547462168445</br>"
          ],
          [
           "</br>id: 1833</br>prediction: 0.128</br>angleToGoal: 67.14297222121726</br></br>h_a: 0.0</br>situation: 2.0</br>shotType: 0.0</br>lastAction: 0.0</br>minute: 3</br>distanceToGoal: 9.53310076709881</br>_original_yhat_: 0.053361547462168445</br>"
          ],
          [
           "</br>id: 1833</br>prediction: 0.128</br>angleToGoal: 68.01712542900685</br></br>h_a: 0.0</br>situation: 2.0</br>shotType: 0.0</br>lastAction: 0.0</br>minute: 3</br>distanceToGoal: 9.53310076709881</br>_original_yhat_: 0.053361547462168445</br>"
          ],
          [
           "</br>id: 1833</br>prediction: 0.128</br>angleToGoal: 68.89127863679644</br></br>h_a: 0.0</br>situation: 2.0</br>shotType: 0.0</br>lastAction: 0.0</br>minute: 3</br>distanceToGoal: 9.53310076709881</br>_original_yhat_: 0.053361547462168445</br>"
          ],
          [
           "</br>id: 1833</br>prediction: 0.128</br>angleToGoal: 69.76543184458603</br></br>h_a: 0.0</br>situation: 2.0</br>shotType: 0.0</br>lastAction: 0.0</br>minute: 3</br>distanceToGoal: 9.53310076709881</br>_original_yhat_: 0.053361547462168445</br>"
          ],
          [
           "</br>id: 1833</br>prediction: 0.128</br>angleToGoal: 70.63958505237562</br></br>h_a: 0.0</br>situation: 2.0</br>shotType: 0.0</br>lastAction: 0.0</br>minute: 3</br>distanceToGoal: 9.53310076709881</br>_original_yhat_: 0.053361547462168445</br>"
          ],
          [
           "</br>id: 1833</br>prediction: 0.128</br>angleToGoal: 71.51373826016521</br></br>h_a: 0.0</br>situation: 2.0</br>shotType: 0.0</br>lastAction: 0.0</br>minute: 3</br>distanceToGoal: 9.53310076709881</br>_original_yhat_: 0.053361547462168445</br>"
          ],
          [
           "</br>id: 1833</br>prediction: 0.128</br>angleToGoal: 72.3878914679548</br></br>h_a: 0.0</br>situation: 2.0</br>shotType: 0.0</br>lastAction: 0.0</br>minute: 3</br>distanceToGoal: 9.53310076709881</br>_original_yhat_: 0.053361547462168445</br>"
          ],
          [
           "</br>id: 1833</br>prediction: 0.128</br>angleToGoal: 73.26204467574439</br></br>h_a: 0.0</br>situation: 2.0</br>shotType: 0.0</br>lastAction: 0.0</br>minute: 3</br>distanceToGoal: 9.53310076709881</br>_original_yhat_: 0.053361547462168445</br>"
          ],
          [
           "</br>id: 1833</br>prediction: 0.128</br>angleToGoal: 74.13619788353398</br></br>h_a: 0.0</br>situation: 2.0</br>shotType: 0.0</br>lastAction: 0.0</br>minute: 3</br>distanceToGoal: 9.53310076709881</br>_original_yhat_: 0.053361547462168445</br>"
          ],
          [
           "</br>id: 1833</br>prediction: 0.128</br>angleToGoal: 75.01035109132357</br></br>h_a: 0.0</br>situation: 2.0</br>shotType: 0.0</br>lastAction: 0.0</br>minute: 3</br>distanceToGoal: 9.53310076709881</br>_original_yhat_: 0.053361547462168445</br>"
          ],
          [
           "</br>id: 1833</br>prediction: 0.106</br>angleToGoal: 75.88450429911316</br></br>h_a: 0.0</br>situation: 2.0</br>shotType: 0.0</br>lastAction: 0.0</br>minute: 3</br>distanceToGoal: 9.53310076709881</br>_original_yhat_: 0.053361547462168445</br>"
          ],
          [
           "</br>id: 1833</br>prediction: 0.106</br>angleToGoal: 76.75865750690275</br></br>h_a: 0.0</br>situation: 2.0</br>shotType: 0.0</br>lastAction: 0.0</br>minute: 3</br>distanceToGoal: 9.53310076709881</br>_original_yhat_: 0.053361547462168445</br>"
          ],
          [
           "</br>id: 1833</br>prediction: 0.095</br>angleToGoal: 77.63281071469234</br></br>h_a: 0.0</br>situation: 2.0</br>shotType: 0.0</br>lastAction: 0.0</br>minute: 3</br>distanceToGoal: 9.53310076709881</br>_original_yhat_: 0.053361547462168445</br>"
          ],
          [
           "</br>id: 1833</br>prediction: 0.095</br>angleToGoal: 78.50696392248193</br></br>h_a: 0.0</br>situation: 2.0</br>shotType: 0.0</br>lastAction: 0.0</br>minute: 3</br>distanceToGoal: 9.53310076709881</br>_original_yhat_: 0.053361547462168445</br>"
          ],
          [
           "</br>id: 1833</br>prediction: 0.095</br>angleToGoal: 79.38111713027152</br></br>h_a: 0.0</br>situation: 2.0</br>shotType: 0.0</br>lastAction: 0.0</br>minute: 3</br>distanceToGoal: 9.53310076709881</br>_original_yhat_: 0.053361547462168445</br>"
          ],
          [
           "</br>id: 1833</br>prediction: 0.095</br>angleToGoal: 80.25527033806111</br></br>h_a: 0.0</br>situation: 2.0</br>shotType: 0.0</br>lastAction: 0.0</br>minute: 3</br>distanceToGoal: 9.53310076709881</br>_original_yhat_: 0.053361547462168445</br>"
          ],
          [
           "</br>id: 1833</br>prediction: 0.095</br>angleToGoal: 81.1294235458507</br></br>h_a: 0.0</br>situation: 2.0</br>shotType: 0.0</br>lastAction: 0.0</br>minute: 3</br>distanceToGoal: 9.53310076709881</br>_original_yhat_: 0.053361547462168445</br>"
          ],
          [
           "</br>id: 1833</br>prediction: 0.095</br>angleToGoal: 82.00357675364029</br></br>h_a: 0.0</br>situation: 2.0</br>shotType: 0.0</br>lastAction: 0.0</br>minute: 3</br>distanceToGoal: 9.53310076709881</br>_original_yhat_: 0.053361547462168445</br>"
          ],
          [
           "</br>id: 1833</br>prediction: 0.2</br>angleToGoal: 82.87772996142988</br></br>h_a: 0.0</br>situation: 2.0</br>shotType: 0.0</br>lastAction: 0.0</br>minute: 3</br>distanceToGoal: 9.53310076709881</br>_original_yhat_: 0.053361547462168445</br>"
          ],
          [
           "</br>id: 1833</br>prediction: 0.12</br>angleToGoal: 83.75188316921947</br></br>h_a: 0.0</br>situation: 2.0</br>shotType: 0.0</br>lastAction: 0.0</br>minute: 3</br>distanceToGoal: 9.53310076709881</br>_original_yhat_: 0.053361547462168445</br>"
          ],
          [
           "</br>id: 1833</br>prediction: 0.12</br>angleToGoal: 84.62603637700906</br></br>h_a: 0.0</br>situation: 2.0</br>shotType: 0.0</br>lastAction: 0.0</br>minute: 3</br>distanceToGoal: 9.53310076709881</br>_original_yhat_: 0.053361547462168445</br>"
          ],
          [
           "</br>id: 1833</br>prediction: 0.125</br>angleToGoal: 85.50018958479865</br></br>h_a: 0.0</br>situation: 2.0</br>shotType: 0.0</br>lastAction: 0.0</br>minute: 3</br>distanceToGoal: 9.53310076709881</br>_original_yhat_: 0.053361547462168445</br>"
          ],
          [
           "</br>id: 1833</br>prediction: 0.125</br>angleToGoal: 86.37434279258824</br></br>h_a: 0.0</br>situation: 2.0</br>shotType: 0.0</br>lastAction: 0.0</br>minute: 3</br>distanceToGoal: 9.53310076709881</br>_original_yhat_: 0.053361547462168445</br>"
          ],
          [
           "</br>id: 1833</br>prediction: 0.125</br>angleToGoal: 87.24849600037783</br></br>h_a: 0.0</br>situation: 2.0</br>shotType: 0.0</br>lastAction: 0.0</br>minute: 3</br>distanceToGoal: 9.53310076709881</br>_original_yhat_: 0.053361547462168445</br>"
          ],
          [
           "</br>id: 1833</br>prediction: 0.125</br>angleToGoal: 88.12264920816742</br></br>h_a: 0.0</br>situation: 2.0</br>shotType: 0.0</br>lastAction: 0.0</br>minute: 3</br>distanceToGoal: 9.53310076709881</br>_original_yhat_: 0.053361547462168445</br>"
          ],
          [
           "</br>id: 1833</br>prediction: 0.198</br>angleToGoal: 88.996802415957</br></br>h_a: 0.0</br>situation: 2.0</br>shotType: 0.0</br>lastAction: 0.0</br>minute: 3</br>distanceToGoal: 9.53310076709881</br>_original_yhat_: 0.053361547462168445</br>"
          ],
          [
           "</br>id: 1833</br>prediction: 0.414</br>angleToGoal: 89.8709556237466</br></br>h_a: 0.0</br>situation: 2.0</br>shotType: 0.0</br>lastAction: 0.0</br>minute: 3</br>distanceToGoal: 9.53310076709881</br>_original_yhat_: 0.053361547462168445</br>"
          ]
         ],
         "hovertemplate": "%{customdata[0]}<extra></extra>",
         "legendgroup": "Gradient Boosting",
         "line": {
          "color": "#46bac2",
          "dash": "solid",
          "width": 2
         },
         "marker": {
          "symbol": "circle"
         },
         "mode": "lines",
         "name": "Gradient Boosting",
         "opacity": 1,
         "orientation": "v",
         "showlegend": false,
         "type": "scatter",
         "x": [
          2.45563484478765,
          3.329788052577239,
          4.203941260366829,
          5.078094468156419,
          5.9522476759460075,
          6.826400883735596,
          7.700554091525186,
          8.574707299314776,
          9.448860507104365,
          10.323013714893955,
          11.197166922683543,
          12.071320130473133,
          12.945473338262723,
          13.819626546052312,
          14.6937797538419,
          15.56793296163149,
          16.44208616942108,
          17.31623937721067,
          18.19039258500026,
          19.064545792789847,
          19.938699000579437,
          20.812852208369026,
          21.687005416158616,
          22.561158623948206,
          23.435311831737796,
          24.309465039527385,
          25.183618247316975,
          26.05777145510656,
          26.93192466289615,
          27.80607787068574,
          28.68023107847533,
          29.55438428626492,
          30.42853749405451,
          31.3026907018441,
          32.17684390963369,
          33.05099711742328,
          33.92515032521287,
          34.79930353300246,
          35.67345674079205,
          36.54760994858164,
          37.42176315637123,
          38.29591636416082,
          39.17006957195041,
          40.04422277974,
          40.4664837945122,
          40.918375987529586,
          41.792529195319176,
          42.666682403108766,
          43.540835610898355,
          44.414988818687945,
          45.289142026477535,
          46.163295234267125,
          47.037448442056714,
          47.911601649846304,
          48.785754857635894,
          49.659908065425476,
          50.534061273215066,
          51.408214481004656,
          52.282367688794245,
          53.156520896583835,
          54.030674104373425,
          54.904827312163015,
          55.778980519952604,
          56.653133727742194,
          57.527286935531784,
          58.40144014332137,
          59.27559335111096,
          60.14974655890055,
          61.02389976669014,
          61.89805297447973,
          62.77220618226932,
          63.64635939005891,
          64.5205125978485,
          65.39466580563808,
          66.26881901342767,
          67.14297222121726,
          68.01712542900685,
          68.89127863679644,
          69.76543184458603,
          70.63958505237562,
          71.51373826016521,
          72.3878914679548,
          73.26204467574439,
          74.13619788353398,
          75.01035109132357,
          75.88450429911316,
          76.75865750690275,
          77.63281071469234,
          78.50696392248193,
          79.38111713027152,
          80.25527033806111,
          81.1294235458507,
          82.00357675364029,
          82.87772996142988,
          83.75188316921947,
          84.62603637700906,
          85.50018958479865,
          86.37434279258824,
          87.24849600037783,
          88.12264920816742,
          88.996802415957,
          89.8709556237466
         ],
         "xaxis": "x",
         "y": [
          0.6709403964069722,
          0.6709403964069722,
          0.6709403964069722,
          0.5145463756192645,
          0.20040436794494465,
          0.20040436794494465,
          0.20040436794494465,
          0.20040436794494465,
          0.23137478353201302,
          0.23137478353201302,
          0.23137478353201302,
          0.23137478353201302,
          0.23137478353201302,
          0.045564598950213614,
          0.045564598950213614,
          0.045564598950213614,
          0.025921247889572018,
          0.025921247889572018,
          0.025921247889572018,
          0.025921247889572018,
          0.025921247889572018,
          0.02478915632149569,
          0.02478915632149569,
          0.026766575546228046,
          0.026766575546228046,
          0.026766575546228046,
          0.026766575546228046,
          0.015827521370278035,
          0.015827521370278035,
          0.015827521370278035,
          0.015827521370278035,
          0.015827521370278035,
          0.015827521370278035,
          0.015827521370278035,
          0.015827521370278035,
          0.015827521370278035,
          0.029480786656543797,
          0.029480786656543797,
          0.029480786656543797,
          0.024954220441190354,
          0.024954220441190354,
          0.04154581673814885,
          0.04349864889641993,
          0.053361547462168445,
          0.053361547462168445,
          0.053361547462168445,
          0.053361547462168445,
          0.053361547462168445,
          0.048592703989978434,
          0.048592703989978434,
          0.06221346698463704,
          0.06390672329114125,
          0.058164060228634164,
          0.058164060228634164,
          0.058164060228634164,
          0.058164060228634164,
          0.2120811261877218,
          0.1821990005972219,
          0.1821990005972219,
          0.1821990005972219,
          0.1821990005972219,
          0.1821990005972219,
          0.1821990005972219,
          0.16906115016158615,
          0.16906115016158615,
          0.16906115016158615,
          0.16906115016158615,
          0.16906115016158615,
          0.22457718519174238,
          0.09175069607000531,
          0.12822724142922204,
          0.12822724142922204,
          0.12822724142922204,
          0.12822724142922204,
          0.12822724142922204,
          0.12822724142922204,
          0.12822724142922204,
          0.12822724142922204,
          0.12822724142922204,
          0.12822724142922204,
          0.12822724142922204,
          0.12822724142922204,
          0.12822724142922204,
          0.12822724142922204,
          0.12822724142922204,
          0.10568357459970427,
          0.10568357459970427,
          0.0949130068558669,
          0.0949130068558669,
          0.0949130068558669,
          0.0949130068558669,
          0.0949130068558669,
          0.0949130068558669,
          0.20010710070255427,
          0.11992375711754341,
          0.11992375711754341,
          0.12481118551247324,
          0.12481118551247324,
          0.12481118551247324,
          0.12481118551247324,
          0.19780241491779244,
          0.41373967401866873
         ],
         "yaxis": "y"
        },
        {
         "customdata": [
          [
           "</br>id: 1833</br>prediction: 0.053</br>h_a: 0.0</br></br>situation: 2.0</br>shotType: 0.0</br>lastAction: 0.0</br>minute: 3</br>distanceToGoal: 9.53310076709881</br>angleToGoal: 40.4664837945122</br>_original_yhat_: 0.053361547462168445</br>"
          ]
         ],
         "hovertemplate": "%{customdata[0]}<extra></extra>",
         "legendgroup": "",
         "marker": {
          "color": "#371ea3",
          "size": 10,
          "symbol": "circle"
         },
         "mode": "markers",
         "name": "",
         "opacity": 1,
         "orientation": "v",
         "showlegend": false,
         "type": "scatter",
         "x": [
          0
         ],
         "xaxis": "x7",
         "y": [
          0.053361547462168445
         ],
         "yaxis": "y7"
        },
        {
         "customdata": [
          [
           "</br>id: 1833</br>prediction: 0.053</br>situation: 2.0</br></br>h_a: 0.0</br>shotType: 0.0</br>lastAction: 0.0</br>minute: 3</br>distanceToGoal: 9.53310076709881</br>angleToGoal: 40.4664837945122</br>_original_yhat_: 0.053361547462168445</br>"
          ]
         ],
         "hovertemplate": "%{customdata[0]}<extra></extra>",
         "legendgroup": "",
         "marker": {
          "color": "#371ea3",
          "size": 10,
          "symbol": "circle"
         },
         "mode": "markers",
         "name": "",
         "opacity": 1,
         "orientation": "v",
         "showlegend": false,
         "type": "scatter",
         "x": [
          2
         ],
         "xaxis": "x8",
         "y": [
          0.053361547462168445
         ],
         "yaxis": "y8"
        },
        {
         "customdata": [
          [
           "</br>id: 1833</br>prediction: 0.053</br>shotType: 0.0</br></br>h_a: 0.0</br>situation: 2.0</br>lastAction: 0.0</br>minute: 3</br>distanceToGoal: 9.53310076709881</br>angleToGoal: 40.4664837945122</br>_original_yhat_: 0.053361547462168445</br>"
          ]
         ],
         "hovertemplate": "%{customdata[0]}<extra></extra>",
         "legendgroup": "",
         "marker": {
          "color": "#371ea3",
          "size": 10,
          "symbol": "circle"
         },
         "mode": "markers",
         "name": "",
         "opacity": 1,
         "orientation": "v",
         "showlegend": false,
         "type": "scatter",
         "x": [
          0
         ],
         "xaxis": "x5",
         "y": [
          0.053361547462168445
         ],
         "yaxis": "y5"
        },
        {
         "customdata": [
          [
           "</br>id: 1833</br>prediction: 0.053</br>lastAction: 0.0</br></br>h_a: 0.0</br>situation: 2.0</br>shotType: 0.0</br>minute: 3</br>distanceToGoal: 9.53310076709881</br>angleToGoal: 40.4664837945122</br>_original_yhat_: 0.053361547462168445</br>"
          ]
         ],
         "hovertemplate": "%{customdata[0]}<extra></extra>",
         "legendgroup": "",
         "marker": {
          "color": "#371ea3",
          "size": 10,
          "symbol": "circle"
         },
         "mode": "markers",
         "name": "",
         "opacity": 1,
         "orientation": "v",
         "showlegend": false,
         "type": "scatter",
         "x": [
          0
         ],
         "xaxis": "x6",
         "y": [
          0.053361547462168445
         ],
         "yaxis": "y6"
        },
        {
         "customdata": [
          [
           "</br>id: 1833</br>prediction: 0.053</br>minute: 3</br></br>h_a: 0.0</br>situation: 2.0</br>shotType: 0.0</br>lastAction: 0.0</br>distanceToGoal: 9.53310076709881</br>angleToGoal: 40.4664837945122</br>_original_yhat_: 0.053361547462168445</br>"
          ]
         ],
         "hovertemplate": "%{customdata[0]}<extra></extra>",
         "legendgroup": "",
         "marker": {
          "color": "#371ea3",
          "size": 10,
          "symbol": "circle"
         },
         "mode": "markers",
         "name": "",
         "opacity": 1,
         "orientation": "v",
         "showlegend": false,
         "type": "scatter",
         "x": [
          3
         ],
         "xaxis": "x3",
         "y": [
          0.053361547462168445
         ],
         "yaxis": "y3"
        },
        {
         "customdata": [
          [
           "</br>id: 1833</br>prediction: 0.053</br>distanceToGoal: 9.53310076709881</br></br>h_a: 0.0</br>situation: 2.0</br>shotType: 0.0</br>lastAction: 0.0</br>minute: 3</br>angleToGoal: 40.4664837945122</br>_original_yhat_: 0.053361547462168445</br>"
          ]
         ],
         "hovertemplate": "%{customdata[0]}<extra></extra>",
         "legendgroup": "",
         "marker": {
          "color": "#371ea3",
          "size": 10,
          "symbol": "circle"
         },
         "mode": "markers",
         "name": "",
         "opacity": 1,
         "orientation": "v",
         "showlegend": false,
         "type": "scatter",
         "x": [
          9.53310076709881
         ],
         "xaxis": "x4",
         "y": [
          0.053361547462168445
         ],
         "yaxis": "y4"
        },
        {
         "customdata": [
          [
           "</br>id: 1833</br>prediction: 0.053</br>angleToGoal: 40.4664837945122</br></br>h_a: 0.0</br>situation: 2.0</br>shotType: 0.0</br>lastAction: 0.0</br>minute: 3</br>distanceToGoal: 9.53310076709881</br>_original_yhat_: 0.053361547462168445</br>"
          ]
         ],
         "hovertemplate": "%{customdata[0]}<extra></extra>",
         "legendgroup": "",
         "marker": {
          "color": "#371ea3",
          "size": 10,
          "symbol": "circle"
         },
         "mode": "markers",
         "name": "",
         "opacity": 1,
         "orientation": "v",
         "showlegend": false,
         "type": "scatter",
         "x": [
          40.4664837945122
         ],
         "xaxis": "x",
         "y": [
          0.053361547462168445
         ],
         "yaxis": "y"
        }
       ],
       "layout": {
        "annotations": [
         {
          "font": {
           "size": 13
          },
          "showarrow": false,
          "text": "angleToGoal",
          "x": 0.2375,
          "xanchor": "center",
          "xref": "paper",
          "y": 0.19375,
          "yanchor": "bottom",
          "yref": "paper"
         },
         {
          "font": {
           "size": 13
          },
          "showarrow": false,
          "text": "minute",
          "x": 0.2375,
          "xanchor": "center",
          "xref": "paper",
          "y": 0.4625,
          "yanchor": "bottom",
          "yref": "paper"
         },
         {
          "font": {
           "size": 13
          },
          "showarrow": false,
          "text": "distanceToGoal",
          "x": 0.7625,
          "xanchor": "center",
          "xref": "paper",
          "y": 0.4625,
          "yanchor": "bottom",
          "yref": "paper"
         },
         {
          "font": {
           "size": 13
          },
          "showarrow": false,
          "text": "shotType",
          "x": 0.2375,
          "xanchor": "center",
          "xref": "paper",
          "y": 0.73125,
          "yanchor": "bottom",
          "yref": "paper"
         },
         {
          "font": {
           "size": 13
          },
          "showarrow": false,
          "text": "lastAction",
          "x": 0.7625,
          "xanchor": "center",
          "xref": "paper",
          "y": 0.73125,
          "yanchor": "bottom",
          "yref": "paper"
         },
         {
          "font": {
           "size": 13
          },
          "showarrow": false,
          "text": "h_a",
          "x": 0.2375,
          "xanchor": "center",
          "xref": "paper",
          "y": 1,
          "yanchor": "bottom",
          "yref": "paper"
         },
         {
          "font": {
           "size": 13
          },
          "showarrow": false,
          "text": "situation",
          "x": 0.7625,
          "xanchor": "center",
          "xref": "paper",
          "y": 1,
          "yanchor": "bottom",
          "yref": "paper"
         },
         {
          "font": {
           "size": 13
          },
          "showarrow": false,
          "text": "prediction",
          "textangle": -90,
          "x": -0.07,
          "xref": "paper",
          "y": 0.5,
          "yref": "paper"
         }
        ],
        "font": {
         "color": "#371ea3"
        },
        "height": 1509,
        "hoverlabel": {
         "bgcolor": "rgba(0,0,0,0.8)"
        },
        "hovermode": "closest",
        "legend": {
         "font": {
          "size": 11
         },
         "itemsizing": "constant",
         "orientation": "h",
         "title": {
          "font": {
           "size": 12
          },
          "text": "label"
         },
         "tracegroupgap": 0,
         "x": 1,
         "xanchor": "right",
         "y": 1.0198807157057654,
         "yanchor": "bottom"
        },
        "margin": {
         "b": 71,
         "r": 30,
         "t": 78
        },
        "template": {
         "data": {
          "scatter": [
           {
            "type": "scatter"
           }
          ]
         }
        },
        "title": {
         "font": {
          "size": 16
         },
         "text": "Ceteris Paribus Profiles",
         "x": 0.15
        },
        "xaxis": {
         "anchor": "y",
         "automargin": true,
         "domain": [
          0,
          0.475
         ],
         "fixedrange": true,
         "gridwidth": 2,
         "showticklabels": true,
         "tickcolor": "white",
         "ticklen": 3,
         "ticks": "outside",
         "title": {
          "text": ""
         },
         "type": "linear",
         "zeroline": false
        },
        "xaxis2": {
         "anchor": "y2",
         "automargin": true,
         "domain": [
          0.525,
          1
         ],
         "fixedrange": true,
         "gridwidth": 2,
         "showticklabels": true,
         "tickcolor": "white",
         "ticklen": 3,
         "ticks": "outside",
         "title": {
          "text": ""
         },
         "type": "linear",
         "zeroline": false
        },
        "xaxis3": {
         "anchor": "y3",
         "automargin": true,
         "domain": [
          0,
          0.475
         ],
         "fixedrange": true,
         "gridwidth": 2,
         "showticklabels": true,
         "tickcolor": "white",
         "ticklen": 3,
         "ticks": "outside",
         "title": {
          "text": ""
         },
         "type": "linear",
         "zeroline": false
        },
        "xaxis4": {
         "anchor": "y4",
         "automargin": true,
         "domain": [
          0.525,
          1
         ],
         "fixedrange": true,
         "gridwidth": 2,
         "showticklabels": true,
         "tickcolor": "white",
         "ticklen": 3,
         "ticks": "outside",
         "title": {
          "text": ""
         },
         "type": "linear",
         "zeroline": false
        },
        "xaxis5": {
         "anchor": "y5",
         "automargin": true,
         "domain": [
          0,
          0.475
         ],
         "fixedrange": true,
         "gridwidth": 2,
         "showticklabels": true,
         "tickcolor": "white",
         "ticklen": 3,
         "ticks": "outside",
         "title": {
          "text": ""
         },
         "type": "linear",
         "zeroline": false
        },
        "xaxis6": {
         "anchor": "y6",
         "automargin": true,
         "domain": [
          0.525,
          1
         ],
         "fixedrange": true,
         "gridwidth": 2,
         "showticklabels": true,
         "tickcolor": "white",
         "ticklen": 3,
         "ticks": "outside",
         "title": {
          "text": ""
         },
         "type": "linear",
         "zeroline": false
        },
        "xaxis7": {
         "anchor": "y7",
         "automargin": true,
         "domain": [
          0,
          0.475
         ],
         "fixedrange": true,
         "gridwidth": 2,
         "showticklabels": true,
         "tickcolor": "white",
         "ticklen": 3,
         "ticks": "outside",
         "title": {
          "text": ""
         },
         "type": "linear",
         "zeroline": false
        },
        "xaxis8": {
         "anchor": "y8",
         "automargin": true,
         "domain": [
          0.525,
          1
         ],
         "fixedrange": true,
         "gridwidth": 2,
         "showticklabels": true,
         "tickcolor": "white",
         "ticklen": 3,
         "ticks": "outside",
         "title": {
          "text": ""
         },
         "type": "linear",
         "zeroline": false
        },
        "yaxis": {
         "anchor": "x",
         "automargin": true,
         "domain": [
          0,
          0.19375
         ],
         "fixedrange": true,
         "gridwidth": 2,
         "range": [
          -0.057675743205073564,
          0.8243634316991455
         ],
         "tickcolor": "white",
         "ticklen": 3,
         "ticks": "outside",
         "title": {
          "text": ""
         },
         "type": "linear",
         "zeroline": false
        },
        "yaxis2": {
         "anchor": "x2",
         "automargin": true,
         "domain": [
          0,
          0.19375
         ],
         "fixedrange": true,
         "gridwidth": 2,
         "matches": "y",
         "range": [
          -0.057675743205073564,
          0.8243634316991455
         ],
         "showticklabels": false,
         "tickcolor": "white",
         "ticklen": 3,
         "ticks": "outside",
         "title": {
          "text": ""
         },
         "type": "linear",
         "zeroline": false
        },
        "yaxis3": {
         "anchor": "x3",
         "automargin": true,
         "domain": [
          0.26875,
          0.4625
         ],
         "fixedrange": true,
         "gridwidth": 2,
         "matches": "y",
         "range": [
          -0.057675743205073564,
          0.8243634316991455
         ],
         "tickcolor": "white",
         "ticklen": 3,
         "ticks": "outside",
         "title": {
          "text": ""
         },
         "type": "linear",
         "zeroline": false
        },
        "yaxis4": {
         "anchor": "x4",
         "automargin": true,
         "domain": [
          0.26875,
          0.4625
         ],
         "fixedrange": true,
         "gridwidth": 2,
         "matches": "y",
         "range": [
          -0.057675743205073564,
          0.8243634316991455
         ],
         "showticklabels": false,
         "tickcolor": "white",
         "ticklen": 3,
         "ticks": "outside",
         "title": {
          "text": ""
         },
         "type": "linear",
         "zeroline": false
        },
        "yaxis5": {
         "anchor": "x5",
         "automargin": true,
         "domain": [
          0.5375,
          0.73125
         ],
         "fixedrange": true,
         "gridwidth": 2,
         "matches": "y",
         "range": [
          -0.057675743205073564,
          0.8243634316991455
         ],
         "tickcolor": "white",
         "ticklen": 3,
         "ticks": "outside",
         "title": {
          "text": ""
         },
         "type": "linear",
         "zeroline": false
        },
        "yaxis6": {
         "anchor": "x6",
         "automargin": true,
         "domain": [
          0.5375,
          0.73125
         ],
         "fixedrange": true,
         "gridwidth": 2,
         "matches": "y",
         "range": [
          -0.057675743205073564,
          0.8243634316991455
         ],
         "showticklabels": false,
         "tickcolor": "white",
         "ticklen": 3,
         "ticks": "outside",
         "title": {
          "text": ""
         },
         "type": "linear",
         "zeroline": false
        },
        "yaxis7": {
         "anchor": "x7",
         "automargin": true,
         "domain": [
          0.80625,
          1
         ],
         "fixedrange": true,
         "gridwidth": 2,
         "matches": "y",
         "range": [
          -0.057675743205073564,
          0.8243634316991455
         ],
         "tickcolor": "white",
         "ticklen": 3,
         "ticks": "outside",
         "title": {
          "text": ""
         },
         "type": "linear",
         "zeroline": false
        },
        "yaxis8": {
         "anchor": "x8",
         "automargin": true,
         "domain": [
          0.80625,
          1
         ],
         "fixedrange": true,
         "gridwidth": 2,
         "matches": "y",
         "range": [
          -0.057675743205073564,
          0.8243634316991455
         ],
         "showticklabels": false,
         "tickcolor": "white",
         "ticklen": 3,
         "ticks": "outside",
         "title": {
          "text": ""
         },
         "type": "linear",
         "zeroline": false
        }
       }
      }
     },
     "metadata": {},
     "output_type": "display_data"
    }
   ],
   "source": [
    "cp_obs_gb = gb_exp.predict_profile(obs)\n",
    "cp_obs_gb.plot()"
   ]
  },
  {
   "cell_type": "code",
   "execution_count": 147,
   "metadata": {},
   "outputs": [
    {
     "name": "stdout",
     "output_type": "stream",
     "text": [
      "Preparation of a new explainer is initiated\n",
      "\n",
      "  -> data              : 5888 rows 7 cols\n",
      "  -> target variable   : Parameter 'y' was a pandas.Series. Converted to a numpy.ndarray.\n",
      "  -> target variable   : 5888 values\n",
      "  -> model_class       : sklearn.linear_model._logistic.LogisticRegression (default)\n",
      "  -> label             : Logistic Regression\n",
      "  -> predict function  : <function yhat_proba_default at 0x0000025DD375B700> will be used (default)\n",
      "  -> predict function  : Accepts pandas.DataFrame and numpy.ndarray.\n",
      "  -> predicted values  : min = 0.000188, mean = 0.105, max = 0.735\n",
      "  -> model type        : classification will be used (default)\n",
      "  -> residual function : difference between y and yhat (default)\n",
      "  -> residuals         : min = -0.722, mean = 1.65e-06, max = 0.99\n",
      "  -> model_info        : package sklearn\n",
      "\n",
      "A new explainer has been created!\n",
      "Preparation of a new explainer is initiated\n",
      "\n",
      "  -> data              : 5888 rows 7 cols\n",
      "  -> target variable   : Parameter 'y' was a pandas.Series. Converted to a numpy.ndarray.\n",
      "  -> target variable   : 5888 values\n",
      "  -> model_class       : sklearn.ensemble._forest.RandomForestClassifier (default)\n",
      "  -> label             : Random Forest\n",
      "  -> predict function  : <function yhat_proba_default at 0x0000025DD375B700> will be used (default)\n",
      "  -> predict function  : Accepts pandas.DataFrame and numpy.ndarray.\n",
      "  -> predicted values  : min = 0.0, mean = 0.106, max = 1.0\n",
      "  -> model type        : classification will be used (default)\n",
      "  -> residual function : difference between y and yhat (default)\n",
      "  -> residuals         : min = -0.689, mean = -0.000889, max = 0.5\n",
      "  -> model_info        : package sklearn\n",
      "\n",
      "A new explainer has been created!\n"
     ]
    }
   ],
   "source": [
    "lr_exp = dx.Explainer(lr, X_train, y_train, label = \"Logistic Regression\")\n",
    "rf_exp = dx.Explainer(rf, X_train, y_train, label = \"Random Forest\")"
   ]
  },
  {
   "cell_type": "code",
   "execution_count": 148,
   "metadata": {},
   "outputs": [
    {
     "name": "stderr",
     "output_type": "stream",
     "text": [
      "Calculating ceteris paribus: 100%|██████████| 7/7 [00:00<00:00, 279.61it/s]\n",
      "Calculating ceteris paribus: 100%|██████████| 7/7 [00:00<00:00, 66.01it/s]\n"
     ]
    },
    {
     "data": {
      "application/vnd.plotly.v1+json": {
       "config": {
        "displaylogo": false,
        "modeBarButtonsToRemove": [
         "sendDataToCloud",
         "lasso2d",
         "autoScale2d",
         "select2d",
         "zoom2d",
         "pan2d",
         "zoomIn2d",
         "zoomOut2d",
         "resetScale2d",
         "toggleSpikelines",
         "hoverCompareCartesian",
         "hoverClosestCartesian"
        ],
        "plotlyServerURL": "https://plot.ly",
        "staticPlot": false,
        "toImageButtonOptions": {
         "height": null,
         "width": null
        }
       },
       "data": [
        {
         "customdata": [
          [
           "</br>id: 1833</br>prediction: 0.053</br>h_a: 0.0</br></br>situation: 2.0</br>shotType: 0.0</br>lastAction: 0.0</br>minute: 3</br>distanceToGoal: 9.53310076709881</br>angleToGoal: 40.4664837945122</br>_original_yhat_: 0.053361547462168445</br>"
          ],
          [
           "</br>id: 1833</br>prediction: 0.053</br>h_a: 0.01</br></br>situation: 2.0</br>shotType: 0.0</br>lastAction: 0.0</br>minute: 3</br>distanceToGoal: 9.53310076709881</br>angleToGoal: 40.4664837945122</br>_original_yhat_: 0.053361547462168445</br>"
          ],
          [
           "</br>id: 1833</br>prediction: 0.053</br>h_a: 0.02</br></br>situation: 2.0</br>shotType: 0.0</br>lastAction: 0.0</br>minute: 3</br>distanceToGoal: 9.53310076709881</br>angleToGoal: 40.4664837945122</br>_original_yhat_: 0.053361547462168445</br>"
          ],
          [
           "</br>id: 1833</br>prediction: 0.053</br>h_a: 0.03</br></br>situation: 2.0</br>shotType: 0.0</br>lastAction: 0.0</br>minute: 3</br>distanceToGoal: 9.53310076709881</br>angleToGoal: 40.4664837945122</br>_original_yhat_: 0.053361547462168445</br>"
          ],
          [
           "</br>id: 1833</br>prediction: 0.053</br>h_a: 0.04</br></br>situation: 2.0</br>shotType: 0.0</br>lastAction: 0.0</br>minute: 3</br>distanceToGoal: 9.53310076709881</br>angleToGoal: 40.4664837945122</br>_original_yhat_: 0.053361547462168445</br>"
          ],
          [
           "</br>id: 1833</br>prediction: 0.053</br>h_a: 0.05</br></br>situation: 2.0</br>shotType: 0.0</br>lastAction: 0.0</br>minute: 3</br>distanceToGoal: 9.53310076709881</br>angleToGoal: 40.4664837945122</br>_original_yhat_: 0.053361547462168445</br>"
          ],
          [
           "</br>id: 1833</br>prediction: 0.053</br>h_a: 0.06</br></br>situation: 2.0</br>shotType: 0.0</br>lastAction: 0.0</br>minute: 3</br>distanceToGoal: 9.53310076709881</br>angleToGoal: 40.4664837945122</br>_original_yhat_: 0.053361547462168445</br>"
          ],
          [
           "</br>id: 1833</br>prediction: 0.053</br>h_a: 0.07</br></br>situation: 2.0</br>shotType: 0.0</br>lastAction: 0.0</br>minute: 3</br>distanceToGoal: 9.53310076709881</br>angleToGoal: 40.4664837945122</br>_original_yhat_: 0.053361547462168445</br>"
          ],
          [
           "</br>id: 1833</br>prediction: 0.053</br>h_a: 0.08</br></br>situation: 2.0</br>shotType: 0.0</br>lastAction: 0.0</br>minute: 3</br>distanceToGoal: 9.53310076709881</br>angleToGoal: 40.4664837945122</br>_original_yhat_: 0.053361547462168445</br>"
          ],
          [
           "</br>id: 1833</br>prediction: 0.053</br>h_a: 0.09</br></br>situation: 2.0</br>shotType: 0.0</br>lastAction: 0.0</br>minute: 3</br>distanceToGoal: 9.53310076709881</br>angleToGoal: 40.4664837945122</br>_original_yhat_: 0.053361547462168445</br>"
          ],
          [
           "</br>id: 1833</br>prediction: 0.053</br>h_a: 0.1</br></br>situation: 2.0</br>shotType: 0.0</br>lastAction: 0.0</br>minute: 3</br>distanceToGoal: 9.53310076709881</br>angleToGoal: 40.4664837945122</br>_original_yhat_: 0.053361547462168445</br>"
          ],
          [
           "</br>id: 1833</br>prediction: 0.053</br>h_a: 0.11</br></br>situation: 2.0</br>shotType: 0.0</br>lastAction: 0.0</br>minute: 3</br>distanceToGoal: 9.53310076709881</br>angleToGoal: 40.4664837945122</br>_original_yhat_: 0.053361547462168445</br>"
          ],
          [
           "</br>id: 1833</br>prediction: 0.053</br>h_a: 0.12</br></br>situation: 2.0</br>shotType: 0.0</br>lastAction: 0.0</br>minute: 3</br>distanceToGoal: 9.53310076709881</br>angleToGoal: 40.4664837945122</br>_original_yhat_: 0.053361547462168445</br>"
          ],
          [
           "</br>id: 1833</br>prediction: 0.053</br>h_a: 0.13</br></br>situation: 2.0</br>shotType: 0.0</br>lastAction: 0.0</br>minute: 3</br>distanceToGoal: 9.53310076709881</br>angleToGoal: 40.4664837945122</br>_original_yhat_: 0.053361547462168445</br>"
          ],
          [
           "</br>id: 1833</br>prediction: 0.053</br>h_a: 0.14</br></br>situation: 2.0</br>shotType: 0.0</br>lastAction: 0.0</br>minute: 3</br>distanceToGoal: 9.53310076709881</br>angleToGoal: 40.4664837945122</br>_original_yhat_: 0.053361547462168445</br>"
          ],
          [
           "</br>id: 1833</br>prediction: 0.053</br>h_a: 0.15</br></br>situation: 2.0</br>shotType: 0.0</br>lastAction: 0.0</br>minute: 3</br>distanceToGoal: 9.53310076709881</br>angleToGoal: 40.4664837945122</br>_original_yhat_: 0.053361547462168445</br>"
          ],
          [
           "</br>id: 1833</br>prediction: 0.053</br>h_a: 0.16</br></br>situation: 2.0</br>shotType: 0.0</br>lastAction: 0.0</br>minute: 3</br>distanceToGoal: 9.53310076709881</br>angleToGoal: 40.4664837945122</br>_original_yhat_: 0.053361547462168445</br>"
          ],
          [
           "</br>id: 1833</br>prediction: 0.053</br>h_a: 0.17</br></br>situation: 2.0</br>shotType: 0.0</br>lastAction: 0.0</br>minute: 3</br>distanceToGoal: 9.53310076709881</br>angleToGoal: 40.4664837945122</br>_original_yhat_: 0.053361547462168445</br>"
          ],
          [
           "</br>id: 1833</br>prediction: 0.053</br>h_a: 0.18</br></br>situation: 2.0</br>shotType: 0.0</br>lastAction: 0.0</br>minute: 3</br>distanceToGoal: 9.53310076709881</br>angleToGoal: 40.4664837945122</br>_original_yhat_: 0.053361547462168445</br>"
          ],
          [
           "</br>id: 1833</br>prediction: 0.053</br>h_a: 0.19</br></br>situation: 2.0</br>shotType: 0.0</br>lastAction: 0.0</br>minute: 3</br>distanceToGoal: 9.53310076709881</br>angleToGoal: 40.4664837945122</br>_original_yhat_: 0.053361547462168445</br>"
          ],
          [
           "</br>id: 1833</br>prediction: 0.053</br>h_a: 0.2</br></br>situation: 2.0</br>shotType: 0.0</br>lastAction: 0.0</br>minute: 3</br>distanceToGoal: 9.53310076709881</br>angleToGoal: 40.4664837945122</br>_original_yhat_: 0.053361547462168445</br>"
          ],
          [
           "</br>id: 1833</br>prediction: 0.053</br>h_a: 0.21</br></br>situation: 2.0</br>shotType: 0.0</br>lastAction: 0.0</br>minute: 3</br>distanceToGoal: 9.53310076709881</br>angleToGoal: 40.4664837945122</br>_original_yhat_: 0.053361547462168445</br>"
          ],
          [
           "</br>id: 1833</br>prediction: 0.053</br>h_a: 0.22</br></br>situation: 2.0</br>shotType: 0.0</br>lastAction: 0.0</br>minute: 3</br>distanceToGoal: 9.53310076709881</br>angleToGoal: 40.4664837945122</br>_original_yhat_: 0.053361547462168445</br>"
          ],
          [
           "</br>id: 1833</br>prediction: 0.053</br>h_a: 0.23</br></br>situation: 2.0</br>shotType: 0.0</br>lastAction: 0.0</br>minute: 3</br>distanceToGoal: 9.53310076709881</br>angleToGoal: 40.4664837945122</br>_original_yhat_: 0.053361547462168445</br>"
          ],
          [
           "</br>id: 1833</br>prediction: 0.053</br>h_a: 0.24</br></br>situation: 2.0</br>shotType: 0.0</br>lastAction: 0.0</br>minute: 3</br>distanceToGoal: 9.53310076709881</br>angleToGoal: 40.4664837945122</br>_original_yhat_: 0.053361547462168445</br>"
          ],
          [
           "</br>id: 1833</br>prediction: 0.053</br>h_a: 0.25</br></br>situation: 2.0</br>shotType: 0.0</br>lastAction: 0.0</br>minute: 3</br>distanceToGoal: 9.53310076709881</br>angleToGoal: 40.4664837945122</br>_original_yhat_: 0.053361547462168445</br>"
          ],
          [
           "</br>id: 1833</br>prediction: 0.053</br>h_a: 0.26</br></br>situation: 2.0</br>shotType: 0.0</br>lastAction: 0.0</br>minute: 3</br>distanceToGoal: 9.53310076709881</br>angleToGoal: 40.4664837945122</br>_original_yhat_: 0.053361547462168445</br>"
          ],
          [
           "</br>id: 1833</br>prediction: 0.053</br>h_a: 0.27</br></br>situation: 2.0</br>shotType: 0.0</br>lastAction: 0.0</br>minute: 3</br>distanceToGoal: 9.53310076709881</br>angleToGoal: 40.4664837945122</br>_original_yhat_: 0.053361547462168445</br>"
          ],
          [
           "</br>id: 1833</br>prediction: 0.053</br>h_a: 0.28</br></br>situation: 2.0</br>shotType: 0.0</br>lastAction: 0.0</br>minute: 3</br>distanceToGoal: 9.53310076709881</br>angleToGoal: 40.4664837945122</br>_original_yhat_: 0.053361547462168445</br>"
          ],
          [
           "</br>id: 1833</br>prediction: 0.053</br>h_a: 0.29</br></br>situation: 2.0</br>shotType: 0.0</br>lastAction: 0.0</br>minute: 3</br>distanceToGoal: 9.53310076709881</br>angleToGoal: 40.4664837945122</br>_original_yhat_: 0.053361547462168445</br>"
          ],
          [
           "</br>id: 1833</br>prediction: 0.053</br>h_a: 0.3</br></br>situation: 2.0</br>shotType: 0.0</br>lastAction: 0.0</br>minute: 3</br>distanceToGoal: 9.53310076709881</br>angleToGoal: 40.4664837945122</br>_original_yhat_: 0.053361547462168445</br>"
          ],
          [
           "</br>id: 1833</br>prediction: 0.053</br>h_a: 0.31</br></br>situation: 2.0</br>shotType: 0.0</br>lastAction: 0.0</br>minute: 3</br>distanceToGoal: 9.53310076709881</br>angleToGoal: 40.4664837945122</br>_original_yhat_: 0.053361547462168445</br>"
          ],
          [
           "</br>id: 1833</br>prediction: 0.053</br>h_a: 0.32</br></br>situation: 2.0</br>shotType: 0.0</br>lastAction: 0.0</br>minute: 3</br>distanceToGoal: 9.53310076709881</br>angleToGoal: 40.4664837945122</br>_original_yhat_: 0.053361547462168445</br>"
          ],
          [
           "</br>id: 1833</br>prediction: 0.053</br>h_a: 0.33</br></br>situation: 2.0</br>shotType: 0.0</br>lastAction: 0.0</br>minute: 3</br>distanceToGoal: 9.53310076709881</br>angleToGoal: 40.4664837945122</br>_original_yhat_: 0.053361547462168445</br>"
          ],
          [
           "</br>id: 1833</br>prediction: 0.053</br>h_a: 0.34</br></br>situation: 2.0</br>shotType: 0.0</br>lastAction: 0.0</br>minute: 3</br>distanceToGoal: 9.53310076709881</br>angleToGoal: 40.4664837945122</br>_original_yhat_: 0.053361547462168445</br>"
          ],
          [
           "</br>id: 1833</br>prediction: 0.053</br>h_a: 0.35000000000000003</br></br>situation: 2.0</br>shotType: 0.0</br>lastAction: 0.0</br>minute: 3</br>distanceToGoal: 9.53310076709881</br>angleToGoal: 40.4664837945122</br>_original_yhat_: 0.053361547462168445</br>"
          ],
          [
           "</br>id: 1833</br>prediction: 0.053</br>h_a: 0.36</br></br>situation: 2.0</br>shotType: 0.0</br>lastAction: 0.0</br>minute: 3</br>distanceToGoal: 9.53310076709881</br>angleToGoal: 40.4664837945122</br>_original_yhat_: 0.053361547462168445</br>"
          ],
          [
           "</br>id: 1833</br>prediction: 0.053</br>h_a: 0.37</br></br>situation: 2.0</br>shotType: 0.0</br>lastAction: 0.0</br>minute: 3</br>distanceToGoal: 9.53310076709881</br>angleToGoal: 40.4664837945122</br>_original_yhat_: 0.053361547462168445</br>"
          ],
          [
           "</br>id: 1833</br>prediction: 0.053</br>h_a: 0.38</br></br>situation: 2.0</br>shotType: 0.0</br>lastAction: 0.0</br>minute: 3</br>distanceToGoal: 9.53310076709881</br>angleToGoal: 40.4664837945122</br>_original_yhat_: 0.053361547462168445</br>"
          ],
          [
           "</br>id: 1833</br>prediction: 0.053</br>h_a: 0.39</br></br>situation: 2.0</br>shotType: 0.0</br>lastAction: 0.0</br>minute: 3</br>distanceToGoal: 9.53310076709881</br>angleToGoal: 40.4664837945122</br>_original_yhat_: 0.053361547462168445</br>"
          ],
          [
           "</br>id: 1833</br>prediction: 0.053</br>h_a: 0.4</br></br>situation: 2.0</br>shotType: 0.0</br>lastAction: 0.0</br>minute: 3</br>distanceToGoal: 9.53310076709881</br>angleToGoal: 40.4664837945122</br>_original_yhat_: 0.053361547462168445</br>"
          ],
          [
           "</br>id: 1833</br>prediction: 0.053</br>h_a: 0.41000000000000003</br></br>situation: 2.0</br>shotType: 0.0</br>lastAction: 0.0</br>minute: 3</br>distanceToGoal: 9.53310076709881</br>angleToGoal: 40.4664837945122</br>_original_yhat_: 0.053361547462168445</br>"
          ],
          [
           "</br>id: 1833</br>prediction: 0.053</br>h_a: 0.42</br></br>situation: 2.0</br>shotType: 0.0</br>lastAction: 0.0</br>minute: 3</br>distanceToGoal: 9.53310076709881</br>angleToGoal: 40.4664837945122</br>_original_yhat_: 0.053361547462168445</br>"
          ],
          [
           "</br>id: 1833</br>prediction: 0.053</br>h_a: 0.43</br></br>situation: 2.0</br>shotType: 0.0</br>lastAction: 0.0</br>minute: 3</br>distanceToGoal: 9.53310076709881</br>angleToGoal: 40.4664837945122</br>_original_yhat_: 0.053361547462168445</br>"
          ],
          [
           "</br>id: 1833</br>prediction: 0.053</br>h_a: 0.44</br></br>situation: 2.0</br>shotType: 0.0</br>lastAction: 0.0</br>minute: 3</br>distanceToGoal: 9.53310076709881</br>angleToGoal: 40.4664837945122</br>_original_yhat_: 0.053361547462168445</br>"
          ],
          [
           "</br>id: 1833</br>prediction: 0.053</br>h_a: 0.45</br></br>situation: 2.0</br>shotType: 0.0</br>lastAction: 0.0</br>minute: 3</br>distanceToGoal: 9.53310076709881</br>angleToGoal: 40.4664837945122</br>_original_yhat_: 0.053361547462168445</br>"
          ],
          [
           "</br>id: 1833</br>prediction: 0.053</br>h_a: 0.46</br></br>situation: 2.0</br>shotType: 0.0</br>lastAction: 0.0</br>minute: 3</br>distanceToGoal: 9.53310076709881</br>angleToGoal: 40.4664837945122</br>_original_yhat_: 0.053361547462168445</br>"
          ],
          [
           "</br>id: 1833</br>prediction: 0.053</br>h_a: 0.47000000000000003</br></br>situation: 2.0</br>shotType: 0.0</br>lastAction: 0.0</br>minute: 3</br>distanceToGoal: 9.53310076709881</br>angleToGoal: 40.4664837945122</br>_original_yhat_: 0.053361547462168445</br>"
          ],
          [
           "</br>id: 1833</br>prediction: 0.053</br>h_a: 0.48</br></br>situation: 2.0</br>shotType: 0.0</br>lastAction: 0.0</br>minute: 3</br>distanceToGoal: 9.53310076709881</br>angleToGoal: 40.4664837945122</br>_original_yhat_: 0.053361547462168445</br>"
          ],
          [
           "</br>id: 1833</br>prediction: 0.053</br>h_a: 0.49</br></br>situation: 2.0</br>shotType: 0.0</br>lastAction: 0.0</br>minute: 3</br>distanceToGoal: 9.53310076709881</br>angleToGoal: 40.4664837945122</br>_original_yhat_: 0.053361547462168445</br>"
          ],
          [
           "</br>id: 1833</br>prediction: 0.053</br>h_a: 0.5</br></br>situation: 2.0</br>shotType: 0.0</br>lastAction: 0.0</br>minute: 3</br>distanceToGoal: 9.53310076709881</br>angleToGoal: 40.4664837945122</br>_original_yhat_: 0.053361547462168445</br>"
          ],
          [
           "</br>id: 1833</br>prediction: 0.051</br>h_a: 0.51</br></br>situation: 2.0</br>shotType: 0.0</br>lastAction: 0.0</br>minute: 3</br>distanceToGoal: 9.53310076709881</br>angleToGoal: 40.4664837945122</br>_original_yhat_: 0.053361547462168445</br>"
          ],
          [
           "</br>id: 1833</br>prediction: 0.051</br>h_a: 0.52</br></br>situation: 2.0</br>shotType: 0.0</br>lastAction: 0.0</br>minute: 3</br>distanceToGoal: 9.53310076709881</br>angleToGoal: 40.4664837945122</br>_original_yhat_: 0.053361547462168445</br>"
          ],
          [
           "</br>id: 1833</br>prediction: 0.051</br>h_a: 0.53</br></br>situation: 2.0</br>shotType: 0.0</br>lastAction: 0.0</br>minute: 3</br>distanceToGoal: 9.53310076709881</br>angleToGoal: 40.4664837945122</br>_original_yhat_: 0.053361547462168445</br>"
          ],
          [
           "</br>id: 1833</br>prediction: 0.051</br>h_a: 0.54</br></br>situation: 2.0</br>shotType: 0.0</br>lastAction: 0.0</br>minute: 3</br>distanceToGoal: 9.53310076709881</br>angleToGoal: 40.4664837945122</br>_original_yhat_: 0.053361547462168445</br>"
          ],
          [
           "</br>id: 1833</br>prediction: 0.051</br>h_a: 0.55</br></br>situation: 2.0</br>shotType: 0.0</br>lastAction: 0.0</br>minute: 3</br>distanceToGoal: 9.53310076709881</br>angleToGoal: 40.4664837945122</br>_original_yhat_: 0.053361547462168445</br>"
          ],
          [
           "</br>id: 1833</br>prediction: 0.051</br>h_a: 0.56</br></br>situation: 2.0</br>shotType: 0.0</br>lastAction: 0.0</br>minute: 3</br>distanceToGoal: 9.53310076709881</br>angleToGoal: 40.4664837945122</br>_original_yhat_: 0.053361547462168445</br>"
          ],
          [
           "</br>id: 1833</br>prediction: 0.051</br>h_a: 0.5700000000000001</br></br>situation: 2.0</br>shotType: 0.0</br>lastAction: 0.0</br>minute: 3</br>distanceToGoal: 9.53310076709881</br>angleToGoal: 40.4664837945122</br>_original_yhat_: 0.053361547462168445</br>"
          ],
          [
           "</br>id: 1833</br>prediction: 0.051</br>h_a: 0.58</br></br>situation: 2.0</br>shotType: 0.0</br>lastAction: 0.0</br>minute: 3</br>distanceToGoal: 9.53310076709881</br>angleToGoal: 40.4664837945122</br>_original_yhat_: 0.053361547462168445</br>"
          ],
          [
           "</br>id: 1833</br>prediction: 0.051</br>h_a: 0.59</br></br>situation: 2.0</br>shotType: 0.0</br>lastAction: 0.0</br>minute: 3</br>distanceToGoal: 9.53310076709881</br>angleToGoal: 40.4664837945122</br>_original_yhat_: 0.053361547462168445</br>"
          ],
          [
           "</br>id: 1833</br>prediction: 0.051</br>h_a: 0.6</br></br>situation: 2.0</br>shotType: 0.0</br>lastAction: 0.0</br>minute: 3</br>distanceToGoal: 9.53310076709881</br>angleToGoal: 40.4664837945122</br>_original_yhat_: 0.053361547462168445</br>"
          ],
          [
           "</br>id: 1833</br>prediction: 0.051</br>h_a: 0.61</br></br>situation: 2.0</br>shotType: 0.0</br>lastAction: 0.0</br>minute: 3</br>distanceToGoal: 9.53310076709881</br>angleToGoal: 40.4664837945122</br>_original_yhat_: 0.053361547462168445</br>"
          ],
          [
           "</br>id: 1833</br>prediction: 0.051</br>h_a: 0.62</br></br>situation: 2.0</br>shotType: 0.0</br>lastAction: 0.0</br>minute: 3</br>distanceToGoal: 9.53310076709881</br>angleToGoal: 40.4664837945122</br>_original_yhat_: 0.053361547462168445</br>"
          ],
          [
           "</br>id: 1833</br>prediction: 0.051</br>h_a: 0.63</br></br>situation: 2.0</br>shotType: 0.0</br>lastAction: 0.0</br>minute: 3</br>distanceToGoal: 9.53310076709881</br>angleToGoal: 40.4664837945122</br>_original_yhat_: 0.053361547462168445</br>"
          ],
          [
           "</br>id: 1833</br>prediction: 0.051</br>h_a: 0.64</br></br>situation: 2.0</br>shotType: 0.0</br>lastAction: 0.0</br>minute: 3</br>distanceToGoal: 9.53310076709881</br>angleToGoal: 40.4664837945122</br>_original_yhat_: 0.053361547462168445</br>"
          ],
          [
           "</br>id: 1833</br>prediction: 0.051</br>h_a: 0.65</br></br>situation: 2.0</br>shotType: 0.0</br>lastAction: 0.0</br>minute: 3</br>distanceToGoal: 9.53310076709881</br>angleToGoal: 40.4664837945122</br>_original_yhat_: 0.053361547462168445</br>"
          ],
          [
           "</br>id: 1833</br>prediction: 0.051</br>h_a: 0.66</br></br>situation: 2.0</br>shotType: 0.0</br>lastAction: 0.0</br>minute: 3</br>distanceToGoal: 9.53310076709881</br>angleToGoal: 40.4664837945122</br>_original_yhat_: 0.053361547462168445</br>"
          ],
          [
           "</br>id: 1833</br>prediction: 0.051</br>h_a: 0.67</br></br>situation: 2.0</br>shotType: 0.0</br>lastAction: 0.0</br>minute: 3</br>distanceToGoal: 9.53310076709881</br>angleToGoal: 40.4664837945122</br>_original_yhat_: 0.053361547462168445</br>"
          ],
          [
           "</br>id: 1833</br>prediction: 0.051</br>h_a: 0.68</br></br>situation: 2.0</br>shotType: 0.0</br>lastAction: 0.0</br>minute: 3</br>distanceToGoal: 9.53310076709881</br>angleToGoal: 40.4664837945122</br>_original_yhat_: 0.053361547462168445</br>"
          ],
          [
           "</br>id: 1833</br>prediction: 0.051</br>h_a: 0.6900000000000001</br></br>situation: 2.0</br>shotType: 0.0</br>lastAction: 0.0</br>minute: 3</br>distanceToGoal: 9.53310076709881</br>angleToGoal: 40.4664837945122</br>_original_yhat_: 0.053361547462168445</br>"
          ],
          [
           "</br>id: 1833</br>prediction: 0.051</br>h_a: 0.7000000000000001</br></br>situation: 2.0</br>shotType: 0.0</br>lastAction: 0.0</br>minute: 3</br>distanceToGoal: 9.53310076709881</br>angleToGoal: 40.4664837945122</br>_original_yhat_: 0.053361547462168445</br>"
          ],
          [
           "</br>id: 1833</br>prediction: 0.051</br>h_a: 0.71</br></br>situation: 2.0</br>shotType: 0.0</br>lastAction: 0.0</br>minute: 3</br>distanceToGoal: 9.53310076709881</br>angleToGoal: 40.4664837945122</br>_original_yhat_: 0.053361547462168445</br>"
          ],
          [
           "</br>id: 1833</br>prediction: 0.051</br>h_a: 0.72</br></br>situation: 2.0</br>shotType: 0.0</br>lastAction: 0.0</br>minute: 3</br>distanceToGoal: 9.53310076709881</br>angleToGoal: 40.4664837945122</br>_original_yhat_: 0.053361547462168445</br>"
          ],
          [
           "</br>id: 1833</br>prediction: 0.051</br>h_a: 0.73</br></br>situation: 2.0</br>shotType: 0.0</br>lastAction: 0.0</br>minute: 3</br>distanceToGoal: 9.53310076709881</br>angleToGoal: 40.4664837945122</br>_original_yhat_: 0.053361547462168445</br>"
          ],
          [
           "</br>id: 1833</br>prediction: 0.051</br>h_a: 0.74</br></br>situation: 2.0</br>shotType: 0.0</br>lastAction: 0.0</br>minute: 3</br>distanceToGoal: 9.53310076709881</br>angleToGoal: 40.4664837945122</br>_original_yhat_: 0.053361547462168445</br>"
          ],
          [
           "</br>id: 1833</br>prediction: 0.051</br>h_a: 0.75</br></br>situation: 2.0</br>shotType: 0.0</br>lastAction: 0.0</br>minute: 3</br>distanceToGoal: 9.53310076709881</br>angleToGoal: 40.4664837945122</br>_original_yhat_: 0.053361547462168445</br>"
          ],
          [
           "</br>id: 1833</br>prediction: 0.051</br>h_a: 0.76</br></br>situation: 2.0</br>shotType: 0.0</br>lastAction: 0.0</br>minute: 3</br>distanceToGoal: 9.53310076709881</br>angleToGoal: 40.4664837945122</br>_original_yhat_: 0.053361547462168445</br>"
          ],
          [
           "</br>id: 1833</br>prediction: 0.051</br>h_a: 0.77</br></br>situation: 2.0</br>shotType: 0.0</br>lastAction: 0.0</br>minute: 3</br>distanceToGoal: 9.53310076709881</br>angleToGoal: 40.4664837945122</br>_original_yhat_: 0.053361547462168445</br>"
          ],
          [
           "</br>id: 1833</br>prediction: 0.051</br>h_a: 0.78</br></br>situation: 2.0</br>shotType: 0.0</br>lastAction: 0.0</br>minute: 3</br>distanceToGoal: 9.53310076709881</br>angleToGoal: 40.4664837945122</br>_original_yhat_: 0.053361547462168445</br>"
          ],
          [
           "</br>id: 1833</br>prediction: 0.051</br>h_a: 0.79</br></br>situation: 2.0</br>shotType: 0.0</br>lastAction: 0.0</br>minute: 3</br>distanceToGoal: 9.53310076709881</br>angleToGoal: 40.4664837945122</br>_original_yhat_: 0.053361547462168445</br>"
          ],
          [
           "</br>id: 1833</br>prediction: 0.051</br>h_a: 0.8</br></br>situation: 2.0</br>shotType: 0.0</br>lastAction: 0.0</br>minute: 3</br>distanceToGoal: 9.53310076709881</br>angleToGoal: 40.4664837945122</br>_original_yhat_: 0.053361547462168445</br>"
          ],
          [
           "</br>id: 1833</br>prediction: 0.051</br>h_a: 0.81</br></br>situation: 2.0</br>shotType: 0.0</br>lastAction: 0.0</br>minute: 3</br>distanceToGoal: 9.53310076709881</br>angleToGoal: 40.4664837945122</br>_original_yhat_: 0.053361547462168445</br>"
          ],
          [
           "</br>id: 1833</br>prediction: 0.051</br>h_a: 0.8200000000000001</br></br>situation: 2.0</br>shotType: 0.0</br>lastAction: 0.0</br>minute: 3</br>distanceToGoal: 9.53310076709881</br>angleToGoal: 40.4664837945122</br>_original_yhat_: 0.053361547462168445</br>"
          ],
          [
           "</br>id: 1833</br>prediction: 0.051</br>h_a: 0.8300000000000001</br></br>situation: 2.0</br>shotType: 0.0</br>lastAction: 0.0</br>minute: 3</br>distanceToGoal: 9.53310076709881</br>angleToGoal: 40.4664837945122</br>_original_yhat_: 0.053361547462168445</br>"
          ],
          [
           "</br>id: 1833</br>prediction: 0.051</br>h_a: 0.84</br></br>situation: 2.0</br>shotType: 0.0</br>lastAction: 0.0</br>minute: 3</br>distanceToGoal: 9.53310076709881</br>angleToGoal: 40.4664837945122</br>_original_yhat_: 0.053361547462168445</br>"
          ],
          [
           "</br>id: 1833</br>prediction: 0.051</br>h_a: 0.85</br></br>situation: 2.0</br>shotType: 0.0</br>lastAction: 0.0</br>minute: 3</br>distanceToGoal: 9.53310076709881</br>angleToGoal: 40.4664837945122</br>_original_yhat_: 0.053361547462168445</br>"
          ],
          [
           "</br>id: 1833</br>prediction: 0.051</br>h_a: 0.86</br></br>situation: 2.0</br>shotType: 0.0</br>lastAction: 0.0</br>minute: 3</br>distanceToGoal: 9.53310076709881</br>angleToGoal: 40.4664837945122</br>_original_yhat_: 0.053361547462168445</br>"
          ],
          [
           "</br>id: 1833</br>prediction: 0.051</br>h_a: 0.87</br></br>situation: 2.0</br>shotType: 0.0</br>lastAction: 0.0</br>minute: 3</br>distanceToGoal: 9.53310076709881</br>angleToGoal: 40.4664837945122</br>_original_yhat_: 0.053361547462168445</br>"
          ],
          [
           "</br>id: 1833</br>prediction: 0.051</br>h_a: 0.88</br></br>situation: 2.0</br>shotType: 0.0</br>lastAction: 0.0</br>minute: 3</br>distanceToGoal: 9.53310076709881</br>angleToGoal: 40.4664837945122</br>_original_yhat_: 0.053361547462168445</br>"
          ],
          [
           "</br>id: 1833</br>prediction: 0.051</br>h_a: 0.89</br></br>situation: 2.0</br>shotType: 0.0</br>lastAction: 0.0</br>minute: 3</br>distanceToGoal: 9.53310076709881</br>angleToGoal: 40.4664837945122</br>_original_yhat_: 0.053361547462168445</br>"
          ],
          [
           "</br>id: 1833</br>prediction: 0.051</br>h_a: 0.9</br></br>situation: 2.0</br>shotType: 0.0</br>lastAction: 0.0</br>minute: 3</br>distanceToGoal: 9.53310076709881</br>angleToGoal: 40.4664837945122</br>_original_yhat_: 0.053361547462168445</br>"
          ],
          [
           "</br>id: 1833</br>prediction: 0.051</br>h_a: 0.91</br></br>situation: 2.0</br>shotType: 0.0</br>lastAction: 0.0</br>minute: 3</br>distanceToGoal: 9.53310076709881</br>angleToGoal: 40.4664837945122</br>_original_yhat_: 0.053361547462168445</br>"
          ],
          [
           "</br>id: 1833</br>prediction: 0.051</br>h_a: 0.92</br></br>situation: 2.0</br>shotType: 0.0</br>lastAction: 0.0</br>minute: 3</br>distanceToGoal: 9.53310076709881</br>angleToGoal: 40.4664837945122</br>_original_yhat_: 0.053361547462168445</br>"
          ],
          [
           "</br>id: 1833</br>prediction: 0.051</br>h_a: 0.93</br></br>situation: 2.0</br>shotType: 0.0</br>lastAction: 0.0</br>minute: 3</br>distanceToGoal: 9.53310076709881</br>angleToGoal: 40.4664837945122</br>_original_yhat_: 0.053361547462168445</br>"
          ],
          [
           "</br>id: 1833</br>prediction: 0.051</br>h_a: 0.9400000000000001</br></br>situation: 2.0</br>shotType: 0.0</br>lastAction: 0.0</br>minute: 3</br>distanceToGoal: 9.53310076709881</br>angleToGoal: 40.4664837945122</br>_original_yhat_: 0.053361547462168445</br>"
          ],
          [
           "</br>id: 1833</br>prediction: 0.051</br>h_a: 0.9500000000000001</br></br>situation: 2.0</br>shotType: 0.0</br>lastAction: 0.0</br>minute: 3</br>distanceToGoal: 9.53310076709881</br>angleToGoal: 40.4664837945122</br>_original_yhat_: 0.053361547462168445</br>"
          ],
          [
           "</br>id: 1833</br>prediction: 0.051</br>h_a: 0.96</br></br>situation: 2.0</br>shotType: 0.0</br>lastAction: 0.0</br>minute: 3</br>distanceToGoal: 9.53310076709881</br>angleToGoal: 40.4664837945122</br>_original_yhat_: 0.053361547462168445</br>"
          ],
          [
           "</br>id: 1833</br>prediction: 0.051</br>h_a: 0.97</br></br>situation: 2.0</br>shotType: 0.0</br>lastAction: 0.0</br>minute: 3</br>distanceToGoal: 9.53310076709881</br>angleToGoal: 40.4664837945122</br>_original_yhat_: 0.053361547462168445</br>"
          ],
          [
           "</br>id: 1833</br>prediction: 0.051</br>h_a: 0.98</br></br>situation: 2.0</br>shotType: 0.0</br>lastAction: 0.0</br>minute: 3</br>distanceToGoal: 9.53310076709881</br>angleToGoal: 40.4664837945122</br>_original_yhat_: 0.053361547462168445</br>"
          ],
          [
           "</br>id: 1833</br>prediction: 0.051</br>h_a: 0.99</br></br>situation: 2.0</br>shotType: 0.0</br>lastAction: 0.0</br>minute: 3</br>distanceToGoal: 9.53310076709881</br>angleToGoal: 40.4664837945122</br>_original_yhat_: 0.053361547462168445</br>"
          ],
          [
           "</br>id: 1833</br>prediction: 0.051</br>h_a: 1.0</br></br>situation: 2.0</br>shotType: 0.0</br>lastAction: 0.0</br>minute: 3</br>distanceToGoal: 9.53310076709881</br>angleToGoal: 40.4664837945122</br>_original_yhat_: 0.053361547462168445</br>"
          ]
         ],
         "hovertemplate": "%{customdata[0]}<extra></extra>",
         "legendgroup": "Gradient Boosting",
         "line": {
          "color": "#8bdcbe",
          "dash": "solid",
          "width": 2
         },
         "marker": {
          "symbol": "circle"
         },
         "mode": "lines",
         "name": "Gradient Boosting",
         "opacity": 1,
         "showlegend": true,
         "type": "scattergl",
         "x": [
          0,
          0.01,
          0.02,
          0.03,
          0.04,
          0.05,
          0.06,
          0.07,
          0.08,
          0.09,
          0.1,
          0.11,
          0.12,
          0.13,
          0.14,
          0.15,
          0.16,
          0.17,
          0.18,
          0.19,
          0.2,
          0.21,
          0.22,
          0.23,
          0.24,
          0.25,
          0.26,
          0.27,
          0.28,
          0.29,
          0.3,
          0.31,
          0.32,
          0.33,
          0.34,
          0.35000000000000003,
          0.36,
          0.37,
          0.38,
          0.39,
          0.4,
          0.41000000000000003,
          0.42,
          0.43,
          0.44,
          0.45,
          0.46,
          0.47000000000000003,
          0.48,
          0.49,
          0.5,
          0.51,
          0.52,
          0.53,
          0.54,
          0.55,
          0.56,
          0.5700000000000001,
          0.58,
          0.59,
          0.6,
          0.61,
          0.62,
          0.63,
          0.64,
          0.65,
          0.66,
          0.67,
          0.68,
          0.6900000000000001,
          0.7000000000000001,
          0.71,
          0.72,
          0.73,
          0.74,
          0.75,
          0.76,
          0.77,
          0.78,
          0.79,
          0.8,
          0.81,
          0.8200000000000001,
          0.8300000000000001,
          0.84,
          0.85,
          0.86,
          0.87,
          0.88,
          0.89,
          0.9,
          0.91,
          0.92,
          0.93,
          0.9400000000000001,
          0.9500000000000001,
          0.96,
          0.97,
          0.98,
          0.99,
          1
         ],
         "xaxis": "x7",
         "y": [
          0.053361547462168445,
          0.053361547462168445,
          0.053361547462168445,
          0.053361547462168445,
          0.053361547462168445,
          0.053361547462168445,
          0.053361547462168445,
          0.053361547462168445,
          0.053361547462168445,
          0.053361547462168445,
          0.053361547462168445,
          0.053361547462168445,
          0.053361547462168445,
          0.053361547462168445,
          0.053361547462168445,
          0.053361547462168445,
          0.053361547462168445,
          0.053361547462168445,
          0.053361547462168445,
          0.053361547462168445,
          0.053361547462168445,
          0.053361547462168445,
          0.053361547462168445,
          0.053361547462168445,
          0.053361547462168445,
          0.053361547462168445,
          0.053361547462168445,
          0.053361547462168445,
          0.053361547462168445,
          0.053361547462168445,
          0.053361547462168445,
          0.053361547462168445,
          0.053361547462168445,
          0.053361547462168445,
          0.053361547462168445,
          0.053361547462168445,
          0.053361547462168445,
          0.053361547462168445,
          0.053361547462168445,
          0.053361547462168445,
          0.053361547462168445,
          0.053361547462168445,
          0.053361547462168445,
          0.053361547462168445,
          0.053361547462168445,
          0.053361547462168445,
          0.053361547462168445,
          0.053361547462168445,
          0.053361547462168445,
          0.053361547462168445,
          0.053361547462168445,
          0.05050481680927951,
          0.05050481680927951,
          0.05050481680927951,
          0.05050481680927951,
          0.05050481680927951,
          0.05050481680927951,
          0.05050481680927951,
          0.05050481680927951,
          0.05050481680927951,
          0.05050481680927951,
          0.05050481680927951,
          0.05050481680927951,
          0.05050481680927951,
          0.05050481680927951,
          0.05050481680927951,
          0.05050481680927951,
          0.05050481680927951,
          0.05050481680927951,
          0.05050481680927951,
          0.05050481680927951,
          0.05050481680927951,
          0.05050481680927951,
          0.05050481680927951,
          0.05050481680927951,
          0.05050481680927951,
          0.05050481680927951,
          0.05050481680927951,
          0.05050481680927951,
          0.05050481680927951,
          0.05050481680927951,
          0.05050481680927951,
          0.05050481680927951,
          0.05050481680927951,
          0.05050481680927951,
          0.05050481680927951,
          0.05050481680927951,
          0.05050481680927951,
          0.05050481680927951,
          0.05050481680927951,
          0.05050481680927951,
          0.05050481680927951,
          0.05050481680927951,
          0.05050481680927951,
          0.05050481680927951,
          0.05050481680927951,
          0.05050481680927951,
          0.05050481680927951,
          0.05050481680927951,
          0.05050481680927951,
          0.05050481680927951
         ],
         "yaxis": "y7"
        },
        {
         "customdata": [
          [
           "</br>id: 1833</br>prediction: 0.037</br>situation: 0.0</br></br>h_a: 0.0</br>shotType: 0.0</br>lastAction: 0.0</br>minute: 3</br>distanceToGoal: 9.53310076709881</br>angleToGoal: 40.4664837945122</br>_original_yhat_: 0.053361547462168445</br>"
          ],
          [
           "</br>id: 1833</br>prediction: 0.037</br>situation: 0.04</br></br>h_a: 0.0</br>shotType: 0.0</br>lastAction: 0.0</br>minute: 3</br>distanceToGoal: 9.53310076709881</br>angleToGoal: 40.4664837945122</br>_original_yhat_: 0.053361547462168445</br>"
          ],
          [
           "</br>id: 1833</br>prediction: 0.037</br>situation: 0.08</br></br>h_a: 0.0</br>shotType: 0.0</br>lastAction: 0.0</br>minute: 3</br>distanceToGoal: 9.53310076709881</br>angleToGoal: 40.4664837945122</br>_original_yhat_: 0.053361547462168445</br>"
          ],
          [
           "</br>id: 1833</br>prediction: 0.037</br>situation: 0.12</br></br>h_a: 0.0</br>shotType: 0.0</br>lastAction: 0.0</br>minute: 3</br>distanceToGoal: 9.53310076709881</br>angleToGoal: 40.4664837945122</br>_original_yhat_: 0.053361547462168445</br>"
          ],
          [
           "</br>id: 1833</br>prediction: 0.037</br>situation: 0.16</br></br>h_a: 0.0</br>shotType: 0.0</br>lastAction: 0.0</br>minute: 3</br>distanceToGoal: 9.53310076709881</br>angleToGoal: 40.4664837945122</br>_original_yhat_: 0.053361547462168445</br>"
          ],
          [
           "</br>id: 1833</br>prediction: 0.037</br>situation: 0.2</br></br>h_a: 0.0</br>shotType: 0.0</br>lastAction: 0.0</br>minute: 3</br>distanceToGoal: 9.53310076709881</br>angleToGoal: 40.4664837945122</br>_original_yhat_: 0.053361547462168445</br>"
          ],
          [
           "</br>id: 1833</br>prediction: 0.037</br>situation: 0.24</br></br>h_a: 0.0</br>shotType: 0.0</br>lastAction: 0.0</br>minute: 3</br>distanceToGoal: 9.53310076709881</br>angleToGoal: 40.4664837945122</br>_original_yhat_: 0.053361547462168445</br>"
          ],
          [
           "</br>id: 1833</br>prediction: 0.037</br>situation: 0.28</br></br>h_a: 0.0</br>shotType: 0.0</br>lastAction: 0.0</br>minute: 3</br>distanceToGoal: 9.53310076709881</br>angleToGoal: 40.4664837945122</br>_original_yhat_: 0.053361547462168445</br>"
          ],
          [
           "</br>id: 1833</br>prediction: 0.037</br>situation: 0.32</br></br>h_a: 0.0</br>shotType: 0.0</br>lastAction: 0.0</br>minute: 3</br>distanceToGoal: 9.53310076709881</br>angleToGoal: 40.4664837945122</br>_original_yhat_: 0.053361547462168445</br>"
          ],
          [
           "</br>id: 1833</br>prediction: 0.037</br>situation: 0.36</br></br>h_a: 0.0</br>shotType: 0.0</br>lastAction: 0.0</br>minute: 3</br>distanceToGoal: 9.53310076709881</br>angleToGoal: 40.4664837945122</br>_original_yhat_: 0.053361547462168445</br>"
          ],
          [
           "</br>id: 1833</br>prediction: 0.037</br>situation: 0.4</br></br>h_a: 0.0</br>shotType: 0.0</br>lastAction: 0.0</br>minute: 3</br>distanceToGoal: 9.53310076709881</br>angleToGoal: 40.4664837945122</br>_original_yhat_: 0.053361547462168445</br>"
          ],
          [
           "</br>id: 1833</br>prediction: 0.037</br>situation: 0.44</br></br>h_a: 0.0</br>shotType: 0.0</br>lastAction: 0.0</br>minute: 3</br>distanceToGoal: 9.53310076709881</br>angleToGoal: 40.4664837945122</br>_original_yhat_: 0.053361547462168445</br>"
          ],
          [
           "</br>id: 1833</br>prediction: 0.037</br>situation: 0.48</br></br>h_a: 0.0</br>shotType: 0.0</br>lastAction: 0.0</br>minute: 3</br>distanceToGoal: 9.53310076709881</br>angleToGoal: 40.4664837945122</br>_original_yhat_: 0.053361547462168445</br>"
          ],
          [
           "</br>id: 1833</br>prediction: 0.037</br>situation: 0.52</br></br>h_a: 0.0</br>shotType: 0.0</br>lastAction: 0.0</br>minute: 3</br>distanceToGoal: 9.53310076709881</br>angleToGoal: 40.4664837945122</br>_original_yhat_: 0.053361547462168445</br>"
          ],
          [
           "</br>id: 1833</br>prediction: 0.037</br>situation: 0.56</br></br>h_a: 0.0</br>shotType: 0.0</br>lastAction: 0.0</br>minute: 3</br>distanceToGoal: 9.53310076709881</br>angleToGoal: 40.4664837945122</br>_original_yhat_: 0.053361547462168445</br>"
          ],
          [
           "</br>id: 1833</br>prediction: 0.037</br>situation: 0.6</br></br>h_a: 0.0</br>shotType: 0.0</br>lastAction: 0.0</br>minute: 3</br>distanceToGoal: 9.53310076709881</br>angleToGoal: 40.4664837945122</br>_original_yhat_: 0.053361547462168445</br>"
          ],
          [
           "</br>id: 1833</br>prediction: 0.037</br>situation: 0.64</br></br>h_a: 0.0</br>shotType: 0.0</br>lastAction: 0.0</br>minute: 3</br>distanceToGoal: 9.53310076709881</br>angleToGoal: 40.4664837945122</br>_original_yhat_: 0.053361547462168445</br>"
          ],
          [
           "</br>id: 1833</br>prediction: 0.037</br>situation: 0.68</br></br>h_a: 0.0</br>shotType: 0.0</br>lastAction: 0.0</br>minute: 3</br>distanceToGoal: 9.53310076709881</br>angleToGoal: 40.4664837945122</br>_original_yhat_: 0.053361547462168445</br>"
          ],
          [
           "</br>id: 1833</br>prediction: 0.037</br>situation: 0.72</br></br>h_a: 0.0</br>shotType: 0.0</br>lastAction: 0.0</br>minute: 3</br>distanceToGoal: 9.53310076709881</br>angleToGoal: 40.4664837945122</br>_original_yhat_: 0.053361547462168445</br>"
          ],
          [
           "</br>id: 1833</br>prediction: 0.037</br>situation: 0.76</br></br>h_a: 0.0</br>shotType: 0.0</br>lastAction: 0.0</br>minute: 3</br>distanceToGoal: 9.53310076709881</br>angleToGoal: 40.4664837945122</br>_original_yhat_: 0.053361547462168445</br>"
          ],
          [
           "</br>id: 1833</br>prediction: 0.037</br>situation: 0.8</br></br>h_a: 0.0</br>shotType: 0.0</br>lastAction: 0.0</br>minute: 3</br>distanceToGoal: 9.53310076709881</br>angleToGoal: 40.4664837945122</br>_original_yhat_: 0.053361547462168445</br>"
          ],
          [
           "</br>id: 1833</br>prediction: 0.037</br>situation: 0.84</br></br>h_a: 0.0</br>shotType: 0.0</br>lastAction: 0.0</br>minute: 3</br>distanceToGoal: 9.53310076709881</br>angleToGoal: 40.4664837945122</br>_original_yhat_: 0.053361547462168445</br>"
          ],
          [
           "</br>id: 1833</br>prediction: 0.037</br>situation: 0.88</br></br>h_a: 0.0</br>shotType: 0.0</br>lastAction: 0.0</br>minute: 3</br>distanceToGoal: 9.53310076709881</br>angleToGoal: 40.4664837945122</br>_original_yhat_: 0.053361547462168445</br>"
          ],
          [
           "</br>id: 1833</br>prediction: 0.037</br>situation: 0.92</br></br>h_a: 0.0</br>shotType: 0.0</br>lastAction: 0.0</br>minute: 3</br>distanceToGoal: 9.53310076709881</br>angleToGoal: 40.4664837945122</br>_original_yhat_: 0.053361547462168445</br>"
          ],
          [
           "</br>id: 1833</br>prediction: 0.037</br>situation: 0.96</br></br>h_a: 0.0</br>shotType: 0.0</br>lastAction: 0.0</br>minute: 3</br>distanceToGoal: 9.53310076709881</br>angleToGoal: 40.4664837945122</br>_original_yhat_: 0.053361547462168445</br>"
          ],
          [
           "</br>id: 1833</br>prediction: 0.037</br>situation: 1.0</br></br>h_a: 0.0</br>shotType: 0.0</br>lastAction: 0.0</br>minute: 3</br>distanceToGoal: 9.53310076709881</br>angleToGoal: 40.4664837945122</br>_original_yhat_: 0.053361547462168445</br>"
          ],
          [
           "</br>id: 1833</br>prediction: 0.037</br>situation: 1.04</br></br>h_a: 0.0</br>shotType: 0.0</br>lastAction: 0.0</br>minute: 3</br>distanceToGoal: 9.53310076709881</br>angleToGoal: 40.4664837945122</br>_original_yhat_: 0.053361547462168445</br>"
          ],
          [
           "</br>id: 1833</br>prediction: 0.037</br>situation: 1.08</br></br>h_a: 0.0</br>shotType: 0.0</br>lastAction: 0.0</br>minute: 3</br>distanceToGoal: 9.53310076709881</br>angleToGoal: 40.4664837945122</br>_original_yhat_: 0.053361547462168445</br>"
          ],
          [
           "</br>id: 1833</br>prediction: 0.037</br>situation: 1.12</br></br>h_a: 0.0</br>shotType: 0.0</br>lastAction: 0.0</br>minute: 3</br>distanceToGoal: 9.53310076709881</br>angleToGoal: 40.4664837945122</br>_original_yhat_: 0.053361547462168445</br>"
          ],
          [
           "</br>id: 1833</br>prediction: 0.037</br>situation: 1.16</br></br>h_a: 0.0</br>shotType: 0.0</br>lastAction: 0.0</br>minute: 3</br>distanceToGoal: 9.53310076709881</br>angleToGoal: 40.4664837945122</br>_original_yhat_: 0.053361547462168445</br>"
          ],
          [
           "</br>id: 1833</br>prediction: 0.037</br>situation: 1.2</br></br>h_a: 0.0</br>shotType: 0.0</br>lastAction: 0.0</br>minute: 3</br>distanceToGoal: 9.53310076709881</br>angleToGoal: 40.4664837945122</br>_original_yhat_: 0.053361547462168445</br>"
          ],
          [
           "</br>id: 1833</br>prediction: 0.037</br>situation: 1.24</br></br>h_a: 0.0</br>shotType: 0.0</br>lastAction: 0.0</br>minute: 3</br>distanceToGoal: 9.53310076709881</br>angleToGoal: 40.4664837945122</br>_original_yhat_: 0.053361547462168445</br>"
          ],
          [
           "</br>id: 1833</br>prediction: 0.037</br>situation: 1.28</br></br>h_a: 0.0</br>shotType: 0.0</br>lastAction: 0.0</br>minute: 3</br>distanceToGoal: 9.53310076709881</br>angleToGoal: 40.4664837945122</br>_original_yhat_: 0.053361547462168445</br>"
          ],
          [
           "</br>id: 1833</br>prediction: 0.037</br>situation: 1.32</br></br>h_a: 0.0</br>shotType: 0.0</br>lastAction: 0.0</br>minute: 3</br>distanceToGoal: 9.53310076709881</br>angleToGoal: 40.4664837945122</br>_original_yhat_: 0.053361547462168445</br>"
          ],
          [
           "</br>id: 1833</br>prediction: 0.037</br>situation: 1.36</br></br>h_a: 0.0</br>shotType: 0.0</br>lastAction: 0.0</br>minute: 3</br>distanceToGoal: 9.53310076709881</br>angleToGoal: 40.4664837945122</br>_original_yhat_: 0.053361547462168445</br>"
          ],
          [
           "</br>id: 1833</br>prediction: 0.037</br>situation: 1.4000000000000001</br></br>h_a: 0.0</br>shotType: 0.0</br>lastAction: 0.0</br>minute: 3</br>distanceToGoal: 9.53310076709881</br>angleToGoal: 40.4664837945122</br>_original_yhat_: 0.053361547462168445</br>"
          ],
          [
           "</br>id: 1833</br>prediction: 0.037</br>situation: 1.44</br></br>h_a: 0.0</br>shotType: 0.0</br>lastAction: 0.0</br>minute: 3</br>distanceToGoal: 9.53310076709881</br>angleToGoal: 40.4664837945122</br>_original_yhat_: 0.053361547462168445</br>"
          ],
          [
           "</br>id: 1833</br>prediction: 0.037</br>situation: 1.48</br></br>h_a: 0.0</br>shotType: 0.0</br>lastAction: 0.0</br>minute: 3</br>distanceToGoal: 9.53310076709881</br>angleToGoal: 40.4664837945122</br>_original_yhat_: 0.053361547462168445</br>"
          ],
          [
           "</br>id: 1833</br>prediction: 0.053</br>situation: 1.52</br></br>h_a: 0.0</br>shotType: 0.0</br>lastAction: 0.0</br>minute: 3</br>distanceToGoal: 9.53310076709881</br>angleToGoal: 40.4664837945122</br>_original_yhat_: 0.053361547462168445</br>"
          ],
          [
           "</br>id: 1833</br>prediction: 0.053</br>situation: 1.56</br></br>h_a: 0.0</br>shotType: 0.0</br>lastAction: 0.0</br>minute: 3</br>distanceToGoal: 9.53310076709881</br>angleToGoal: 40.4664837945122</br>_original_yhat_: 0.053361547462168445</br>"
          ],
          [
           "</br>id: 1833</br>prediction: 0.053</br>situation: 1.6</br></br>h_a: 0.0</br>shotType: 0.0</br>lastAction: 0.0</br>minute: 3</br>distanceToGoal: 9.53310076709881</br>angleToGoal: 40.4664837945122</br>_original_yhat_: 0.053361547462168445</br>"
          ],
          [
           "</br>id: 1833</br>prediction: 0.053</br>situation: 1.6400000000000001</br></br>h_a: 0.0</br>shotType: 0.0</br>lastAction: 0.0</br>minute: 3</br>distanceToGoal: 9.53310076709881</br>angleToGoal: 40.4664837945122</br>_original_yhat_: 0.053361547462168445</br>"
          ],
          [
           "</br>id: 1833</br>prediction: 0.053</br>situation: 1.68</br></br>h_a: 0.0</br>shotType: 0.0</br>lastAction: 0.0</br>minute: 3</br>distanceToGoal: 9.53310076709881</br>angleToGoal: 40.4664837945122</br>_original_yhat_: 0.053361547462168445</br>"
          ],
          [
           "</br>id: 1833</br>prediction: 0.053</br>situation: 1.72</br></br>h_a: 0.0</br>shotType: 0.0</br>lastAction: 0.0</br>minute: 3</br>distanceToGoal: 9.53310076709881</br>angleToGoal: 40.4664837945122</br>_original_yhat_: 0.053361547462168445</br>"
          ],
          [
           "</br>id: 1833</br>prediction: 0.053</br>situation: 1.76</br></br>h_a: 0.0</br>shotType: 0.0</br>lastAction: 0.0</br>minute: 3</br>distanceToGoal: 9.53310076709881</br>angleToGoal: 40.4664837945122</br>_original_yhat_: 0.053361547462168445</br>"
          ],
          [
           "</br>id: 1833</br>prediction: 0.053</br>situation: 1.8</br></br>h_a: 0.0</br>shotType: 0.0</br>lastAction: 0.0</br>minute: 3</br>distanceToGoal: 9.53310076709881</br>angleToGoal: 40.4664837945122</br>_original_yhat_: 0.053361547462168445</br>"
          ],
          [
           "</br>id: 1833</br>prediction: 0.053</br>situation: 1.84</br></br>h_a: 0.0</br>shotType: 0.0</br>lastAction: 0.0</br>minute: 3</br>distanceToGoal: 9.53310076709881</br>angleToGoal: 40.4664837945122</br>_original_yhat_: 0.053361547462168445</br>"
          ],
          [
           "</br>id: 1833</br>prediction: 0.053</br>situation: 1.8800000000000001</br></br>h_a: 0.0</br>shotType: 0.0</br>lastAction: 0.0</br>minute: 3</br>distanceToGoal: 9.53310076709881</br>angleToGoal: 40.4664837945122</br>_original_yhat_: 0.053361547462168445</br>"
          ],
          [
           "</br>id: 1833</br>prediction: 0.053</br>situation: 1.92</br></br>h_a: 0.0</br>shotType: 0.0</br>lastAction: 0.0</br>minute: 3</br>distanceToGoal: 9.53310076709881</br>angleToGoal: 40.4664837945122</br>_original_yhat_: 0.053361547462168445</br>"
          ],
          [
           "</br>id: 1833</br>prediction: 0.053</br>situation: 1.96</br></br>h_a: 0.0</br>shotType: 0.0</br>lastAction: 0.0</br>minute: 3</br>distanceToGoal: 9.53310076709881</br>angleToGoal: 40.4664837945122</br>_original_yhat_: 0.053361547462168445</br>"
          ],
          [
           "</br>id: 1833</br>prediction: 0.053</br>situation: 2.0</br></br>h_a: 0.0</br>shotType: 0.0</br>lastAction: 0.0</br>minute: 3</br>distanceToGoal: 9.53310076709881</br>angleToGoal: 40.4664837945122</br>_original_yhat_: 0.053361547462168445</br>"
          ],
          [
           "</br>id: 1833</br>prediction: 0.053</br>situation: 2.04</br></br>h_a: 0.0</br>shotType: 0.0</br>lastAction: 0.0</br>minute: 3</br>distanceToGoal: 9.53310076709881</br>angleToGoal: 40.4664837945122</br>_original_yhat_: 0.053361547462168445</br>"
          ],
          [
           "</br>id: 1833</br>prediction: 0.053</br>situation: 2.08</br></br>h_a: 0.0</br>shotType: 0.0</br>lastAction: 0.0</br>minute: 3</br>distanceToGoal: 9.53310076709881</br>angleToGoal: 40.4664837945122</br>_original_yhat_: 0.053361547462168445</br>"
          ],
          [
           "</br>id: 1833</br>prediction: 0.053</br>situation: 2.12</br></br>h_a: 0.0</br>shotType: 0.0</br>lastAction: 0.0</br>minute: 3</br>distanceToGoal: 9.53310076709881</br>angleToGoal: 40.4664837945122</br>_original_yhat_: 0.053361547462168445</br>"
          ],
          [
           "</br>id: 1833</br>prediction: 0.053</br>situation: 2.16</br></br>h_a: 0.0</br>shotType: 0.0</br>lastAction: 0.0</br>minute: 3</br>distanceToGoal: 9.53310076709881</br>angleToGoal: 40.4664837945122</br>_original_yhat_: 0.053361547462168445</br>"
          ],
          [
           "</br>id: 1833</br>prediction: 0.053</br>situation: 2.2</br></br>h_a: 0.0</br>shotType: 0.0</br>lastAction: 0.0</br>minute: 3</br>distanceToGoal: 9.53310076709881</br>angleToGoal: 40.4664837945122</br>_original_yhat_: 0.053361547462168445</br>"
          ],
          [
           "</br>id: 1833</br>prediction: 0.053</br>situation: 2.24</br></br>h_a: 0.0</br>shotType: 0.0</br>lastAction: 0.0</br>minute: 3</br>distanceToGoal: 9.53310076709881</br>angleToGoal: 40.4664837945122</br>_original_yhat_: 0.053361547462168445</br>"
          ],
          [
           "</br>id: 1833</br>prediction: 0.053</br>situation: 2.2800000000000002</br></br>h_a: 0.0</br>shotType: 0.0</br>lastAction: 0.0</br>minute: 3</br>distanceToGoal: 9.53310076709881</br>angleToGoal: 40.4664837945122</br>_original_yhat_: 0.053361547462168445</br>"
          ],
          [
           "</br>id: 1833</br>prediction: 0.053</br>situation: 2.32</br></br>h_a: 0.0</br>shotType: 0.0</br>lastAction: 0.0</br>minute: 3</br>distanceToGoal: 9.53310076709881</br>angleToGoal: 40.4664837945122</br>_original_yhat_: 0.053361547462168445</br>"
          ],
          [
           "</br>id: 1833</br>prediction: 0.053</br>situation: 2.36</br></br>h_a: 0.0</br>shotType: 0.0</br>lastAction: 0.0</br>minute: 3</br>distanceToGoal: 9.53310076709881</br>angleToGoal: 40.4664837945122</br>_original_yhat_: 0.053361547462168445</br>"
          ],
          [
           "</br>id: 1833</br>prediction: 0.053</br>situation: 2.4</br></br>h_a: 0.0</br>shotType: 0.0</br>lastAction: 0.0</br>minute: 3</br>distanceToGoal: 9.53310076709881</br>angleToGoal: 40.4664837945122</br>_original_yhat_: 0.053361547462168445</br>"
          ],
          [
           "</br>id: 1833</br>prediction: 0.053</br>situation: 2.44</br></br>h_a: 0.0</br>shotType: 0.0</br>lastAction: 0.0</br>minute: 3</br>distanceToGoal: 9.53310076709881</br>angleToGoal: 40.4664837945122</br>_original_yhat_: 0.053361547462168445</br>"
          ],
          [
           "</br>id: 1833</br>prediction: 0.053</br>situation: 2.48</br></br>h_a: 0.0</br>shotType: 0.0</br>lastAction: 0.0</br>minute: 3</br>distanceToGoal: 9.53310076709881</br>angleToGoal: 40.4664837945122</br>_original_yhat_: 0.053361547462168445</br>"
          ],
          [
           "</br>id: 1833</br>prediction: 0.115</br>situation: 2.52</br></br>h_a: 0.0</br>shotType: 0.0</br>lastAction: 0.0</br>minute: 3</br>distanceToGoal: 9.53310076709881</br>angleToGoal: 40.4664837945122</br>_original_yhat_: 0.053361547462168445</br>"
          ],
          [
           "</br>id: 1833</br>prediction: 0.115</br>situation: 2.56</br></br>h_a: 0.0</br>shotType: 0.0</br>lastAction: 0.0</br>minute: 3</br>distanceToGoal: 9.53310076709881</br>angleToGoal: 40.4664837945122</br>_original_yhat_: 0.053361547462168445</br>"
          ],
          [
           "</br>id: 1833</br>prediction: 0.115</br>situation: 2.6</br></br>h_a: 0.0</br>shotType: 0.0</br>lastAction: 0.0</br>minute: 3</br>distanceToGoal: 9.53310076709881</br>angleToGoal: 40.4664837945122</br>_original_yhat_: 0.053361547462168445</br>"
          ],
          [
           "</br>id: 1833</br>prediction: 0.115</br>situation: 2.64</br></br>h_a: 0.0</br>shotType: 0.0</br>lastAction: 0.0</br>minute: 3</br>distanceToGoal: 9.53310076709881</br>angleToGoal: 40.4664837945122</br>_original_yhat_: 0.053361547462168445</br>"
          ],
          [
           "</br>id: 1833</br>prediction: 0.115</br>situation: 2.68</br></br>h_a: 0.0</br>shotType: 0.0</br>lastAction: 0.0</br>minute: 3</br>distanceToGoal: 9.53310076709881</br>angleToGoal: 40.4664837945122</br>_original_yhat_: 0.053361547462168445</br>"
          ],
          [
           "</br>id: 1833</br>prediction: 0.115</br>situation: 2.72</br></br>h_a: 0.0</br>shotType: 0.0</br>lastAction: 0.0</br>minute: 3</br>distanceToGoal: 9.53310076709881</br>angleToGoal: 40.4664837945122</br>_original_yhat_: 0.053361547462168445</br>"
          ],
          [
           "</br>id: 1833</br>prediction: 0.115</br>situation: 2.7600000000000002</br></br>h_a: 0.0</br>shotType: 0.0</br>lastAction: 0.0</br>minute: 3</br>distanceToGoal: 9.53310076709881</br>angleToGoal: 40.4664837945122</br>_original_yhat_: 0.053361547462168445</br>"
          ],
          [
           "</br>id: 1833</br>prediction: 0.115</br>situation: 2.8000000000000003</br></br>h_a: 0.0</br>shotType: 0.0</br>lastAction: 0.0</br>minute: 3</br>distanceToGoal: 9.53310076709881</br>angleToGoal: 40.4664837945122</br>_original_yhat_: 0.053361547462168445</br>"
          ],
          [
           "</br>id: 1833</br>prediction: 0.115</br>situation: 2.84</br></br>h_a: 0.0</br>shotType: 0.0</br>lastAction: 0.0</br>minute: 3</br>distanceToGoal: 9.53310076709881</br>angleToGoal: 40.4664837945122</br>_original_yhat_: 0.053361547462168445</br>"
          ],
          [
           "</br>id: 1833</br>prediction: 0.115</br>situation: 2.88</br></br>h_a: 0.0</br>shotType: 0.0</br>lastAction: 0.0</br>minute: 3</br>distanceToGoal: 9.53310076709881</br>angleToGoal: 40.4664837945122</br>_original_yhat_: 0.053361547462168445</br>"
          ],
          [
           "</br>id: 1833</br>prediction: 0.115</br>situation: 2.92</br></br>h_a: 0.0</br>shotType: 0.0</br>lastAction: 0.0</br>minute: 3</br>distanceToGoal: 9.53310076709881</br>angleToGoal: 40.4664837945122</br>_original_yhat_: 0.053361547462168445</br>"
          ],
          [
           "</br>id: 1833</br>prediction: 0.115</br>situation: 2.96</br></br>h_a: 0.0</br>shotType: 0.0</br>lastAction: 0.0</br>minute: 3</br>distanceToGoal: 9.53310076709881</br>angleToGoal: 40.4664837945122</br>_original_yhat_: 0.053361547462168445</br>"
          ],
          [
           "</br>id: 1833</br>prediction: 0.115</br>situation: 3.0</br></br>h_a: 0.0</br>shotType: 0.0</br>lastAction: 0.0</br>minute: 3</br>distanceToGoal: 9.53310076709881</br>angleToGoal: 40.4664837945122</br>_original_yhat_: 0.053361547462168445</br>"
          ],
          [
           "</br>id: 1833</br>prediction: 0.111</br>situation: 3.04</br></br>h_a: 0.0</br>shotType: 0.0</br>lastAction: 0.0</br>minute: 3</br>distanceToGoal: 9.53310076709881</br>angleToGoal: 40.4664837945122</br>_original_yhat_: 0.053361547462168445</br>"
          ],
          [
           "</br>id: 1833</br>prediction: 0.111</br>situation: 3.08</br></br>h_a: 0.0</br>shotType: 0.0</br>lastAction: 0.0</br>minute: 3</br>distanceToGoal: 9.53310076709881</br>angleToGoal: 40.4664837945122</br>_original_yhat_: 0.053361547462168445</br>"
          ],
          [
           "</br>id: 1833</br>prediction: 0.111</br>situation: 3.12</br></br>h_a: 0.0</br>shotType: 0.0</br>lastAction: 0.0</br>minute: 3</br>distanceToGoal: 9.53310076709881</br>angleToGoal: 40.4664837945122</br>_original_yhat_: 0.053361547462168445</br>"
          ],
          [
           "</br>id: 1833</br>prediction: 0.111</br>situation: 3.16</br></br>h_a: 0.0</br>shotType: 0.0</br>lastAction: 0.0</br>minute: 3</br>distanceToGoal: 9.53310076709881</br>angleToGoal: 40.4664837945122</br>_original_yhat_: 0.053361547462168445</br>"
          ],
          [
           "</br>id: 1833</br>prediction: 0.111</br>situation: 3.2</br></br>h_a: 0.0</br>shotType: 0.0</br>lastAction: 0.0</br>minute: 3</br>distanceToGoal: 9.53310076709881</br>angleToGoal: 40.4664837945122</br>_original_yhat_: 0.053361547462168445</br>"
          ],
          [
           "</br>id: 1833</br>prediction: 0.111</br>situation: 3.24</br></br>h_a: 0.0</br>shotType: 0.0</br>lastAction: 0.0</br>minute: 3</br>distanceToGoal: 9.53310076709881</br>angleToGoal: 40.4664837945122</br>_original_yhat_: 0.053361547462168445</br>"
          ],
          [
           "</br>id: 1833</br>prediction: 0.111</br>situation: 3.2800000000000002</br></br>h_a: 0.0</br>shotType: 0.0</br>lastAction: 0.0</br>minute: 3</br>distanceToGoal: 9.53310076709881</br>angleToGoal: 40.4664837945122</br>_original_yhat_: 0.053361547462168445</br>"
          ],
          [
           "</br>id: 1833</br>prediction: 0.111</br>situation: 3.3200000000000003</br></br>h_a: 0.0</br>shotType: 0.0</br>lastAction: 0.0</br>minute: 3</br>distanceToGoal: 9.53310076709881</br>angleToGoal: 40.4664837945122</br>_original_yhat_: 0.053361547462168445</br>"
          ],
          [
           "</br>id: 1833</br>prediction: 0.111</br>situation: 3.36</br></br>h_a: 0.0</br>shotType: 0.0</br>lastAction: 0.0</br>minute: 3</br>distanceToGoal: 9.53310076709881</br>angleToGoal: 40.4664837945122</br>_original_yhat_: 0.053361547462168445</br>"
          ],
          [
           "</br>id: 1833</br>prediction: 0.111</br>situation: 3.4</br></br>h_a: 0.0</br>shotType: 0.0</br>lastAction: 0.0</br>minute: 3</br>distanceToGoal: 9.53310076709881</br>angleToGoal: 40.4664837945122</br>_original_yhat_: 0.053361547462168445</br>"
          ],
          [
           "</br>id: 1833</br>prediction: 0.111</br>situation: 3.44</br></br>h_a: 0.0</br>shotType: 0.0</br>lastAction: 0.0</br>minute: 3</br>distanceToGoal: 9.53310076709881</br>angleToGoal: 40.4664837945122</br>_original_yhat_: 0.053361547462168445</br>"
          ],
          [
           "</br>id: 1833</br>prediction: 0.111</br>situation: 3.48</br></br>h_a: 0.0</br>shotType: 0.0</br>lastAction: 0.0</br>minute: 3</br>distanceToGoal: 9.53310076709881</br>angleToGoal: 40.4664837945122</br>_original_yhat_: 0.053361547462168445</br>"
          ],
          [
           "</br>id: 1833</br>prediction: 0.045</br>situation: 3.52</br></br>h_a: 0.0</br>shotType: 0.0</br>lastAction: 0.0</br>minute: 3</br>distanceToGoal: 9.53310076709881</br>angleToGoal: 40.4664837945122</br>_original_yhat_: 0.053361547462168445</br>"
          ],
          [
           "</br>id: 1833</br>prediction: 0.045</br>situation: 3.56</br></br>h_a: 0.0</br>shotType: 0.0</br>lastAction: 0.0</br>minute: 3</br>distanceToGoal: 9.53310076709881</br>angleToGoal: 40.4664837945122</br>_original_yhat_: 0.053361547462168445</br>"
          ],
          [
           "</br>id: 1833</br>prediction: 0.045</br>situation: 3.6</br></br>h_a: 0.0</br>shotType: 0.0</br>lastAction: 0.0</br>minute: 3</br>distanceToGoal: 9.53310076709881</br>angleToGoal: 40.4664837945122</br>_original_yhat_: 0.053361547462168445</br>"
          ],
          [
           "</br>id: 1833</br>prediction: 0.045</br>situation: 3.64</br></br>h_a: 0.0</br>shotType: 0.0</br>lastAction: 0.0</br>minute: 3</br>distanceToGoal: 9.53310076709881</br>angleToGoal: 40.4664837945122</br>_original_yhat_: 0.053361547462168445</br>"
          ],
          [
           "</br>id: 1833</br>prediction: 0.045</br>situation: 3.68</br></br>h_a: 0.0</br>shotType: 0.0</br>lastAction: 0.0</br>minute: 3</br>distanceToGoal: 9.53310076709881</br>angleToGoal: 40.4664837945122</br>_original_yhat_: 0.053361547462168445</br>"
          ],
          [
           "</br>id: 1833</br>prediction: 0.045</br>situation: 3.72</br></br>h_a: 0.0</br>shotType: 0.0</br>lastAction: 0.0</br>minute: 3</br>distanceToGoal: 9.53310076709881</br>angleToGoal: 40.4664837945122</br>_original_yhat_: 0.053361547462168445</br>"
          ],
          [
           "</br>id: 1833</br>prediction: 0.045</br>situation: 3.7600000000000002</br></br>h_a: 0.0</br>shotType: 0.0</br>lastAction: 0.0</br>minute: 3</br>distanceToGoal: 9.53310076709881</br>angleToGoal: 40.4664837945122</br>_original_yhat_: 0.053361547462168445</br>"
          ],
          [
           "</br>id: 1833</br>prediction: 0.045</br>situation: 3.8000000000000003</br></br>h_a: 0.0</br>shotType: 0.0</br>lastAction: 0.0</br>minute: 3</br>distanceToGoal: 9.53310076709881</br>angleToGoal: 40.4664837945122</br>_original_yhat_: 0.053361547462168445</br>"
          ],
          [
           "</br>id: 1833</br>prediction: 0.045</br>situation: 3.84</br></br>h_a: 0.0</br>shotType: 0.0</br>lastAction: 0.0</br>minute: 3</br>distanceToGoal: 9.53310076709881</br>angleToGoal: 40.4664837945122</br>_original_yhat_: 0.053361547462168445</br>"
          ],
          [
           "</br>id: 1833</br>prediction: 0.045</br>situation: 3.88</br></br>h_a: 0.0</br>shotType: 0.0</br>lastAction: 0.0</br>minute: 3</br>distanceToGoal: 9.53310076709881</br>angleToGoal: 40.4664837945122</br>_original_yhat_: 0.053361547462168445</br>"
          ],
          [
           "</br>id: 1833</br>prediction: 0.045</br>situation: 3.92</br></br>h_a: 0.0</br>shotType: 0.0</br>lastAction: 0.0</br>minute: 3</br>distanceToGoal: 9.53310076709881</br>angleToGoal: 40.4664837945122</br>_original_yhat_: 0.053361547462168445</br>"
          ],
          [
           "</br>id: 1833</br>prediction: 0.045</br>situation: 3.96</br></br>h_a: 0.0</br>shotType: 0.0</br>lastAction: 0.0</br>minute: 3</br>distanceToGoal: 9.53310076709881</br>angleToGoal: 40.4664837945122</br>_original_yhat_: 0.053361547462168445</br>"
          ],
          [
           "</br>id: 1833</br>prediction: 0.045</br>situation: 4.0</br></br>h_a: 0.0</br>shotType: 0.0</br>lastAction: 0.0</br>minute: 3</br>distanceToGoal: 9.53310076709881</br>angleToGoal: 40.4664837945122</br>_original_yhat_: 0.053361547462168445</br>"
          ]
         ],
         "hovertemplate": "%{customdata[0]}<extra></extra>",
         "legendgroup": "Gradient Boosting",
         "line": {
          "color": "#8bdcbe",
          "dash": "solid",
          "width": 2
         },
         "marker": {
          "symbol": "circle"
         },
         "mode": "lines",
         "name": "Gradient Boosting",
         "opacity": 1,
         "showlegend": false,
         "type": "scattergl",
         "x": [
          0,
          0.04,
          0.08,
          0.12,
          0.16,
          0.2,
          0.24,
          0.28,
          0.32,
          0.36,
          0.4,
          0.44,
          0.48,
          0.52,
          0.56,
          0.6,
          0.64,
          0.68,
          0.72,
          0.76,
          0.8,
          0.84,
          0.88,
          0.92,
          0.96,
          1,
          1.04,
          1.08,
          1.12,
          1.16,
          1.2,
          1.24,
          1.28,
          1.32,
          1.36,
          1.4000000000000001,
          1.44,
          1.48,
          1.52,
          1.56,
          1.6,
          1.6400000000000001,
          1.68,
          1.72,
          1.76,
          1.8,
          1.84,
          1.8800000000000001,
          1.92,
          1.96,
          2,
          2.04,
          2.08,
          2.12,
          2.16,
          2.2,
          2.24,
          2.2800000000000002,
          2.32,
          2.36,
          2.4,
          2.44,
          2.48,
          2.52,
          2.56,
          2.6,
          2.64,
          2.68,
          2.72,
          2.7600000000000002,
          2.8000000000000003,
          2.84,
          2.88,
          2.92,
          2.96,
          3,
          3.04,
          3.08,
          3.12,
          3.16,
          3.2,
          3.24,
          3.2800000000000002,
          3.3200000000000003,
          3.36,
          3.4,
          3.44,
          3.48,
          3.52,
          3.56,
          3.6,
          3.64,
          3.68,
          3.72,
          3.7600000000000002,
          3.8000000000000003,
          3.84,
          3.88,
          3.92,
          3.96,
          4
         ],
         "xaxis": "x8",
         "y": [
          0.03749587530056069,
          0.03749587530056069,
          0.03749587530056069,
          0.03749587530056069,
          0.03749587530056069,
          0.03749587530056069,
          0.03749587530056069,
          0.03749587530056069,
          0.03749587530056069,
          0.03749587530056069,
          0.03749587530056069,
          0.03749587530056069,
          0.03749587530056069,
          0.03749587530056069,
          0.03749587530056069,
          0.03749587530056069,
          0.03749587530056069,
          0.03749587530056069,
          0.03749587530056069,
          0.03749587530056069,
          0.03749587530056069,
          0.03749587530056069,
          0.03749587530056069,
          0.03749587530056069,
          0.03749587530056069,
          0.03749587530056069,
          0.03749587530056069,
          0.03749587530056069,
          0.03749587530056069,
          0.03749587530056069,
          0.03749587530056069,
          0.03749587530056069,
          0.03749587530056069,
          0.03749587530056069,
          0.03749587530056069,
          0.03749587530056069,
          0.03749587530056069,
          0.03749587530056069,
          0.053361547462168445,
          0.053361547462168445,
          0.053361547462168445,
          0.053361547462168445,
          0.053361547462168445,
          0.053361547462168445,
          0.053361547462168445,
          0.053361547462168445,
          0.053361547462168445,
          0.053361547462168445,
          0.053361547462168445,
          0.053361547462168445,
          0.053361547462168445,
          0.053361547462168445,
          0.053361547462168445,
          0.053361547462168445,
          0.053361547462168445,
          0.053361547462168445,
          0.053361547462168445,
          0.053361547462168445,
          0.053361547462168445,
          0.053361547462168445,
          0.053361547462168445,
          0.053361547462168445,
          0.053361547462168445,
          0.11534765267638951,
          0.11534765267638951,
          0.11534765267638951,
          0.11534765267638951,
          0.11534765267638951,
          0.11534765267638951,
          0.11534765267638951,
          0.11534765267638951,
          0.11534765267638951,
          0.11534765267638951,
          0.11534765267638951,
          0.11534765267638951,
          0.11534765267638951,
          0.11067216037440598,
          0.11067216037440598,
          0.11067216037440598,
          0.11067216037440598,
          0.11067216037440598,
          0.11067216037440598,
          0.11067216037440598,
          0.11067216037440598,
          0.11067216037440598,
          0.11067216037440598,
          0.11067216037440598,
          0.11067216037440598,
          0.04454056935962458,
          0.04454056935962458,
          0.04454056935962458,
          0.04454056935962458,
          0.04454056935962458,
          0.04454056935962458,
          0.04454056935962458,
          0.04454056935962458,
          0.04454056935962458,
          0.04454056935962458,
          0.04454056935962458,
          0.04454056935962458,
          0.04454056935962458
         ],
         "yaxis": "y8"
        },
        {
         "customdata": [
          [
           "</br>id: 1833</br>prediction: 0.053</br>shotType: 0.0</br></br>h_a: 0.0</br>situation: 2.0</br>lastAction: 0.0</br>minute: 3</br>distanceToGoal: 9.53310076709881</br>angleToGoal: 40.4664837945122</br>_original_yhat_: 0.053361547462168445</br>"
          ],
          [
           "</br>id: 1833</br>prediction: 0.053</br>shotType: 0.03</br></br>h_a: 0.0</br>situation: 2.0</br>lastAction: 0.0</br>minute: 3</br>distanceToGoal: 9.53310076709881</br>angleToGoal: 40.4664837945122</br>_original_yhat_: 0.053361547462168445</br>"
          ],
          [
           "</br>id: 1833</br>prediction: 0.053</br>shotType: 0.06</br></br>h_a: 0.0</br>situation: 2.0</br>lastAction: 0.0</br>minute: 3</br>distanceToGoal: 9.53310076709881</br>angleToGoal: 40.4664837945122</br>_original_yhat_: 0.053361547462168445</br>"
          ],
          [
           "</br>id: 1833</br>prediction: 0.053</br>shotType: 0.09</br></br>h_a: 0.0</br>situation: 2.0</br>lastAction: 0.0</br>minute: 3</br>distanceToGoal: 9.53310076709881</br>angleToGoal: 40.4664837945122</br>_original_yhat_: 0.053361547462168445</br>"
          ],
          [
           "</br>id: 1833</br>prediction: 0.053</br>shotType: 0.12</br></br>h_a: 0.0</br>situation: 2.0</br>lastAction: 0.0</br>minute: 3</br>distanceToGoal: 9.53310076709881</br>angleToGoal: 40.4664837945122</br>_original_yhat_: 0.053361547462168445</br>"
          ],
          [
           "</br>id: 1833</br>prediction: 0.053</br>shotType: 0.15</br></br>h_a: 0.0</br>situation: 2.0</br>lastAction: 0.0</br>minute: 3</br>distanceToGoal: 9.53310076709881</br>angleToGoal: 40.4664837945122</br>_original_yhat_: 0.053361547462168445</br>"
          ],
          [
           "</br>id: 1833</br>prediction: 0.053</br>shotType: 0.18</br></br>h_a: 0.0</br>situation: 2.0</br>lastAction: 0.0</br>minute: 3</br>distanceToGoal: 9.53310076709881</br>angleToGoal: 40.4664837945122</br>_original_yhat_: 0.053361547462168445</br>"
          ],
          [
           "</br>id: 1833</br>prediction: 0.053</br>shotType: 0.21</br></br>h_a: 0.0</br>situation: 2.0</br>lastAction: 0.0</br>minute: 3</br>distanceToGoal: 9.53310076709881</br>angleToGoal: 40.4664837945122</br>_original_yhat_: 0.053361547462168445</br>"
          ],
          [
           "</br>id: 1833</br>prediction: 0.053</br>shotType: 0.24</br></br>h_a: 0.0</br>situation: 2.0</br>lastAction: 0.0</br>minute: 3</br>distanceToGoal: 9.53310076709881</br>angleToGoal: 40.4664837945122</br>_original_yhat_: 0.053361547462168445</br>"
          ],
          [
           "</br>id: 1833</br>prediction: 0.053</br>shotType: 0.27</br></br>h_a: 0.0</br>situation: 2.0</br>lastAction: 0.0</br>minute: 3</br>distanceToGoal: 9.53310076709881</br>angleToGoal: 40.4664837945122</br>_original_yhat_: 0.053361547462168445</br>"
          ],
          [
           "</br>id: 1833</br>prediction: 0.053</br>shotType: 0.3</br></br>h_a: 0.0</br>situation: 2.0</br>lastAction: 0.0</br>minute: 3</br>distanceToGoal: 9.53310076709881</br>angleToGoal: 40.4664837945122</br>_original_yhat_: 0.053361547462168445</br>"
          ],
          [
           "</br>id: 1833</br>prediction: 0.053</br>shotType: 0.32999999999999996</br></br>h_a: 0.0</br>situation: 2.0</br>lastAction: 0.0</br>minute: 3</br>distanceToGoal: 9.53310076709881</br>angleToGoal: 40.4664837945122</br>_original_yhat_: 0.053361547462168445</br>"
          ],
          [
           "</br>id: 1833</br>prediction: 0.053</br>shotType: 0.36</br></br>h_a: 0.0</br>situation: 2.0</br>lastAction: 0.0</br>minute: 3</br>distanceToGoal: 9.53310076709881</br>angleToGoal: 40.4664837945122</br>_original_yhat_: 0.053361547462168445</br>"
          ],
          [
           "</br>id: 1833</br>prediction: 0.053</br>shotType: 0.39</br></br>h_a: 0.0</br>situation: 2.0</br>lastAction: 0.0</br>minute: 3</br>distanceToGoal: 9.53310076709881</br>angleToGoal: 40.4664837945122</br>_original_yhat_: 0.053361547462168445</br>"
          ],
          [
           "</br>id: 1833</br>prediction: 0.053</br>shotType: 0.42</br></br>h_a: 0.0</br>situation: 2.0</br>lastAction: 0.0</br>minute: 3</br>distanceToGoal: 9.53310076709881</br>angleToGoal: 40.4664837945122</br>_original_yhat_: 0.053361547462168445</br>"
          ],
          [
           "</br>id: 1833</br>prediction: 0.053</br>shotType: 0.44999999999999996</br></br>h_a: 0.0</br>situation: 2.0</br>lastAction: 0.0</br>minute: 3</br>distanceToGoal: 9.53310076709881</br>angleToGoal: 40.4664837945122</br>_original_yhat_: 0.053361547462168445</br>"
          ],
          [
           "</br>id: 1833</br>prediction: 0.053</br>shotType: 0.48</br></br>h_a: 0.0</br>situation: 2.0</br>lastAction: 0.0</br>minute: 3</br>distanceToGoal: 9.53310076709881</br>angleToGoal: 40.4664837945122</br>_original_yhat_: 0.053361547462168445</br>"
          ],
          [
           "</br>id: 1833</br>prediction: 0.062</br>shotType: 0.51</br></br>h_a: 0.0</br>situation: 2.0</br>lastAction: 0.0</br>minute: 3</br>distanceToGoal: 9.53310076709881</br>angleToGoal: 40.4664837945122</br>_original_yhat_: 0.053361547462168445</br>"
          ],
          [
           "</br>id: 1833</br>prediction: 0.062</br>shotType: 0.54</br></br>h_a: 0.0</br>situation: 2.0</br>lastAction: 0.0</br>minute: 3</br>distanceToGoal: 9.53310076709881</br>angleToGoal: 40.4664837945122</br>_original_yhat_: 0.053361547462168445</br>"
          ],
          [
           "</br>id: 1833</br>prediction: 0.062</br>shotType: 0.57</br></br>h_a: 0.0</br>situation: 2.0</br>lastAction: 0.0</br>minute: 3</br>distanceToGoal: 9.53310076709881</br>angleToGoal: 40.4664837945122</br>_original_yhat_: 0.053361547462168445</br>"
          ],
          [
           "</br>id: 1833</br>prediction: 0.062</br>shotType: 0.6</br></br>h_a: 0.0</br>situation: 2.0</br>lastAction: 0.0</br>minute: 3</br>distanceToGoal: 9.53310076709881</br>angleToGoal: 40.4664837945122</br>_original_yhat_: 0.053361547462168445</br>"
          ],
          [
           "</br>id: 1833</br>prediction: 0.062</br>shotType: 0.63</br></br>h_a: 0.0</br>situation: 2.0</br>lastAction: 0.0</br>minute: 3</br>distanceToGoal: 9.53310076709881</br>angleToGoal: 40.4664837945122</br>_original_yhat_: 0.053361547462168445</br>"
          ],
          [
           "</br>id: 1833</br>prediction: 0.062</br>shotType: 0.6599999999999999</br></br>h_a: 0.0</br>situation: 2.0</br>lastAction: 0.0</br>minute: 3</br>distanceToGoal: 9.53310076709881</br>angleToGoal: 40.4664837945122</br>_original_yhat_: 0.053361547462168445</br>"
          ],
          [
           "</br>id: 1833</br>prediction: 0.062</br>shotType: 0.69</br></br>h_a: 0.0</br>situation: 2.0</br>lastAction: 0.0</br>minute: 3</br>distanceToGoal: 9.53310076709881</br>angleToGoal: 40.4664837945122</br>_original_yhat_: 0.053361547462168445</br>"
          ],
          [
           "</br>id: 1833</br>prediction: 0.062</br>shotType: 0.72</br></br>h_a: 0.0</br>situation: 2.0</br>lastAction: 0.0</br>minute: 3</br>distanceToGoal: 9.53310076709881</br>angleToGoal: 40.4664837945122</br>_original_yhat_: 0.053361547462168445</br>"
          ],
          [
           "</br>id: 1833</br>prediction: 0.062</br>shotType: 0.75</br></br>h_a: 0.0</br>situation: 2.0</br>lastAction: 0.0</br>minute: 3</br>distanceToGoal: 9.53310076709881</br>angleToGoal: 40.4664837945122</br>_original_yhat_: 0.053361547462168445</br>"
          ],
          [
           "</br>id: 1833</br>prediction: 0.062</br>shotType: 0.78</br></br>h_a: 0.0</br>situation: 2.0</br>lastAction: 0.0</br>minute: 3</br>distanceToGoal: 9.53310076709881</br>angleToGoal: 40.4664837945122</br>_original_yhat_: 0.053361547462168445</br>"
          ],
          [
           "</br>id: 1833</br>prediction: 0.062</br>shotType: 0.8099999999999999</br></br>h_a: 0.0</br>situation: 2.0</br>lastAction: 0.0</br>minute: 3</br>distanceToGoal: 9.53310076709881</br>angleToGoal: 40.4664837945122</br>_original_yhat_: 0.053361547462168445</br>"
          ],
          [
           "</br>id: 1833</br>prediction: 0.062</br>shotType: 0.84</br></br>h_a: 0.0</br>situation: 2.0</br>lastAction: 0.0</br>minute: 3</br>distanceToGoal: 9.53310076709881</br>angleToGoal: 40.4664837945122</br>_original_yhat_: 0.053361547462168445</br>"
          ],
          [
           "</br>id: 1833</br>prediction: 0.062</br>shotType: 0.87</br></br>h_a: 0.0</br>situation: 2.0</br>lastAction: 0.0</br>minute: 3</br>distanceToGoal: 9.53310076709881</br>angleToGoal: 40.4664837945122</br>_original_yhat_: 0.053361547462168445</br>"
          ],
          [
           "</br>id: 1833</br>prediction: 0.062</br>shotType: 0.8999999999999999</br></br>h_a: 0.0</br>situation: 2.0</br>lastAction: 0.0</br>minute: 3</br>distanceToGoal: 9.53310076709881</br>angleToGoal: 40.4664837945122</br>_original_yhat_: 0.053361547462168445</br>"
          ],
          [
           "</br>id: 1833</br>prediction: 0.062</br>shotType: 0.9299999999999999</br></br>h_a: 0.0</br>situation: 2.0</br>lastAction: 0.0</br>minute: 3</br>distanceToGoal: 9.53310076709881</br>angleToGoal: 40.4664837945122</br>_original_yhat_: 0.053361547462168445</br>"
          ],
          [
           "</br>id: 1833</br>prediction: 0.062</br>shotType: 0.96</br></br>h_a: 0.0</br>situation: 2.0</br>lastAction: 0.0</br>minute: 3</br>distanceToGoal: 9.53310076709881</br>angleToGoal: 40.4664837945122</br>_original_yhat_: 0.053361547462168445</br>"
          ],
          [
           "</br>id: 1833</br>prediction: 0.062</br>shotType: 0.99</br></br>h_a: 0.0</br>situation: 2.0</br>lastAction: 0.0</br>minute: 3</br>distanceToGoal: 9.53310076709881</br>angleToGoal: 40.4664837945122</br>_original_yhat_: 0.053361547462168445</br>"
          ],
          [
           "</br>id: 1833</br>prediction: 0.062</br>shotType: 1.02</br></br>h_a: 0.0</br>situation: 2.0</br>lastAction: 0.0</br>minute: 3</br>distanceToGoal: 9.53310076709881</br>angleToGoal: 40.4664837945122</br>_original_yhat_: 0.053361547462168445</br>"
          ],
          [
           "</br>id: 1833</br>prediction: 0.062</br>shotType: 1.05</br></br>h_a: 0.0</br>situation: 2.0</br>lastAction: 0.0</br>minute: 3</br>distanceToGoal: 9.53310076709881</br>angleToGoal: 40.4664837945122</br>_original_yhat_: 0.053361547462168445</br>"
          ],
          [
           "</br>id: 1833</br>prediction: 0.062</br>shotType: 1.08</br></br>h_a: 0.0</br>situation: 2.0</br>lastAction: 0.0</br>minute: 3</br>distanceToGoal: 9.53310076709881</br>angleToGoal: 40.4664837945122</br>_original_yhat_: 0.053361547462168445</br>"
          ],
          [
           "</br>id: 1833</br>prediction: 0.062</br>shotType: 1.1099999999999999</br></br>h_a: 0.0</br>situation: 2.0</br>lastAction: 0.0</br>minute: 3</br>distanceToGoal: 9.53310076709881</br>angleToGoal: 40.4664837945122</br>_original_yhat_: 0.053361547462168445</br>"
          ],
          [
           "</br>id: 1833</br>prediction: 0.062</br>shotType: 1.14</br></br>h_a: 0.0</br>situation: 2.0</br>lastAction: 0.0</br>minute: 3</br>distanceToGoal: 9.53310076709881</br>angleToGoal: 40.4664837945122</br>_original_yhat_: 0.053361547462168445</br>"
          ],
          [
           "</br>id: 1833</br>prediction: 0.062</br>shotType: 1.17</br></br>h_a: 0.0</br>situation: 2.0</br>lastAction: 0.0</br>minute: 3</br>distanceToGoal: 9.53310076709881</br>angleToGoal: 40.4664837945122</br>_original_yhat_: 0.053361547462168445</br>"
          ],
          [
           "</br>id: 1833</br>prediction: 0.062</br>shotType: 1.2</br></br>h_a: 0.0</br>situation: 2.0</br>lastAction: 0.0</br>minute: 3</br>distanceToGoal: 9.53310076709881</br>angleToGoal: 40.4664837945122</br>_original_yhat_: 0.053361547462168445</br>"
          ],
          [
           "</br>id: 1833</br>prediction: 0.062</br>shotType: 1.23</br></br>h_a: 0.0</br>situation: 2.0</br>lastAction: 0.0</br>minute: 3</br>distanceToGoal: 9.53310076709881</br>angleToGoal: 40.4664837945122</br>_original_yhat_: 0.053361547462168445</br>"
          ],
          [
           "</br>id: 1833</br>prediction: 0.062</br>shotType: 1.26</br></br>h_a: 0.0</br>situation: 2.0</br>lastAction: 0.0</br>minute: 3</br>distanceToGoal: 9.53310076709881</br>angleToGoal: 40.4664837945122</br>_original_yhat_: 0.053361547462168445</br>"
          ],
          [
           "</br>id: 1833</br>prediction: 0.062</br>shotType: 1.29</br></br>h_a: 0.0</br>situation: 2.0</br>lastAction: 0.0</br>minute: 3</br>distanceToGoal: 9.53310076709881</br>angleToGoal: 40.4664837945122</br>_original_yhat_: 0.053361547462168445</br>"
          ],
          [
           "</br>id: 1833</br>prediction: 0.062</br>shotType: 1.3199999999999998</br></br>h_a: 0.0</br>situation: 2.0</br>lastAction: 0.0</br>minute: 3</br>distanceToGoal: 9.53310076709881</br>angleToGoal: 40.4664837945122</br>_original_yhat_: 0.053361547462168445</br>"
          ],
          [
           "</br>id: 1833</br>prediction: 0.062</br>shotType: 1.3499999999999999</br></br>h_a: 0.0</br>situation: 2.0</br>lastAction: 0.0</br>minute: 3</br>distanceToGoal: 9.53310076709881</br>angleToGoal: 40.4664837945122</br>_original_yhat_: 0.053361547462168445</br>"
          ],
          [
           "</br>id: 1833</br>prediction: 0.062</br>shotType: 1.38</br></br>h_a: 0.0</br>situation: 2.0</br>lastAction: 0.0</br>minute: 3</br>distanceToGoal: 9.53310076709881</br>angleToGoal: 40.4664837945122</br>_original_yhat_: 0.053361547462168445</br>"
          ],
          [
           "</br>id: 1833</br>prediction: 0.062</br>shotType: 1.41</br></br>h_a: 0.0</br>situation: 2.0</br>lastAction: 0.0</br>minute: 3</br>distanceToGoal: 9.53310076709881</br>angleToGoal: 40.4664837945122</br>_original_yhat_: 0.053361547462168445</br>"
          ],
          [
           "</br>id: 1833</br>prediction: 0.062</br>shotType: 1.44</br></br>h_a: 0.0</br>situation: 2.0</br>lastAction: 0.0</br>minute: 3</br>distanceToGoal: 9.53310076709881</br>angleToGoal: 40.4664837945122</br>_original_yhat_: 0.053361547462168445</br>"
          ],
          [
           "</br>id: 1833</br>prediction: 0.062</br>shotType: 1.47</br></br>h_a: 0.0</br>situation: 2.0</br>lastAction: 0.0</br>minute: 3</br>distanceToGoal: 9.53310076709881</br>angleToGoal: 40.4664837945122</br>_original_yhat_: 0.053361547462168445</br>"
          ],
          [
           "</br>id: 1833</br>prediction: 0.062</br>shotType: 1.5</br></br>h_a: 0.0</br>situation: 2.0</br>lastAction: 0.0</br>minute: 3</br>distanceToGoal: 9.53310076709881</br>angleToGoal: 40.4664837945122</br>_original_yhat_: 0.053361547462168445</br>"
          ],
          [
           "</br>id: 1833</br>prediction: 0.062</br>shotType: 1.53</br></br>h_a: 0.0</br>situation: 2.0</br>lastAction: 0.0</br>minute: 3</br>distanceToGoal: 9.53310076709881</br>angleToGoal: 40.4664837945122</br>_original_yhat_: 0.053361547462168445</br>"
          ],
          [
           "</br>id: 1833</br>prediction: 0.062</br>shotType: 1.56</br></br>h_a: 0.0</br>situation: 2.0</br>lastAction: 0.0</br>minute: 3</br>distanceToGoal: 9.53310076709881</br>angleToGoal: 40.4664837945122</br>_original_yhat_: 0.053361547462168445</br>"
          ],
          [
           "</br>id: 1833</br>prediction: 0.062</br>shotType: 1.5899999999999999</br></br>h_a: 0.0</br>situation: 2.0</br>lastAction: 0.0</br>minute: 3</br>distanceToGoal: 9.53310076709881</br>angleToGoal: 40.4664837945122</br>_original_yhat_: 0.053361547462168445</br>"
          ],
          [
           "</br>id: 1833</br>prediction: 0.062</br>shotType: 1.6199999999999999</br></br>h_a: 0.0</br>situation: 2.0</br>lastAction: 0.0</br>minute: 3</br>distanceToGoal: 9.53310076709881</br>angleToGoal: 40.4664837945122</br>_original_yhat_: 0.053361547462168445</br>"
          ],
          [
           "</br>id: 1833</br>prediction: 0.062</br>shotType: 1.65</br></br>h_a: 0.0</br>situation: 2.0</br>lastAction: 0.0</br>minute: 3</br>distanceToGoal: 9.53310076709881</br>angleToGoal: 40.4664837945122</br>_original_yhat_: 0.053361547462168445</br>"
          ],
          [
           "</br>id: 1833</br>prediction: 0.062</br>shotType: 1.68</br></br>h_a: 0.0</br>situation: 2.0</br>lastAction: 0.0</br>minute: 3</br>distanceToGoal: 9.53310076709881</br>angleToGoal: 40.4664837945122</br>_original_yhat_: 0.053361547462168445</br>"
          ],
          [
           "</br>id: 1833</br>prediction: 0.062</br>shotType: 1.71</br></br>h_a: 0.0</br>situation: 2.0</br>lastAction: 0.0</br>minute: 3</br>distanceToGoal: 9.53310076709881</br>angleToGoal: 40.4664837945122</br>_original_yhat_: 0.053361547462168445</br>"
          ],
          [
           "</br>id: 1833</br>prediction: 0.062</br>shotType: 1.74</br></br>h_a: 0.0</br>situation: 2.0</br>lastAction: 0.0</br>minute: 3</br>distanceToGoal: 9.53310076709881</br>angleToGoal: 40.4664837945122</br>_original_yhat_: 0.053361547462168445</br>"
          ],
          [
           "</br>id: 1833</br>prediction: 0.062</br>shotType: 1.77</br></br>h_a: 0.0</br>situation: 2.0</br>lastAction: 0.0</br>minute: 3</br>distanceToGoal: 9.53310076709881</br>angleToGoal: 40.4664837945122</br>_original_yhat_: 0.053361547462168445</br>"
          ],
          [
           "</br>id: 1833</br>prediction: 0.062</br>shotType: 1.7999999999999998</br></br>h_a: 0.0</br>situation: 2.0</br>lastAction: 0.0</br>minute: 3</br>distanceToGoal: 9.53310076709881</br>angleToGoal: 40.4664837945122</br>_original_yhat_: 0.053361547462168445</br>"
          ],
          [
           "</br>id: 1833</br>prediction: 0.062</br>shotType: 1.8299999999999998</br></br>h_a: 0.0</br>situation: 2.0</br>lastAction: 0.0</br>minute: 3</br>distanceToGoal: 9.53310076709881</br>angleToGoal: 40.4664837945122</br>_original_yhat_: 0.053361547462168445</br>"
          ],
          [
           "</br>id: 1833</br>prediction: 0.062</br>shotType: 1.8599999999999999</br></br>h_a: 0.0</br>situation: 2.0</br>lastAction: 0.0</br>minute: 3</br>distanceToGoal: 9.53310076709881</br>angleToGoal: 40.4664837945122</br>_original_yhat_: 0.053361547462168445</br>"
          ],
          [
           "</br>id: 1833</br>prediction: 0.062</br>shotType: 1.89</br></br>h_a: 0.0</br>situation: 2.0</br>lastAction: 0.0</br>minute: 3</br>distanceToGoal: 9.53310076709881</br>angleToGoal: 40.4664837945122</br>_original_yhat_: 0.053361547462168445</br>"
          ],
          [
           "</br>id: 1833</br>prediction: 0.062</br>shotType: 1.92</br></br>h_a: 0.0</br>situation: 2.0</br>lastAction: 0.0</br>minute: 3</br>distanceToGoal: 9.53310076709881</br>angleToGoal: 40.4664837945122</br>_original_yhat_: 0.053361547462168445</br>"
          ],
          [
           "</br>id: 1833</br>prediction: 0.062</br>shotType: 1.95</br></br>h_a: 0.0</br>situation: 2.0</br>lastAction: 0.0</br>minute: 3</br>distanceToGoal: 9.53310076709881</br>angleToGoal: 40.4664837945122</br>_original_yhat_: 0.053361547462168445</br>"
          ],
          [
           "</br>id: 1833</br>prediction: 0.062</br>shotType: 1.98</br></br>h_a: 0.0</br>situation: 2.0</br>lastAction: 0.0</br>minute: 3</br>distanceToGoal: 9.53310076709881</br>angleToGoal: 40.4664837945122</br>_original_yhat_: 0.053361547462168445</br>"
          ],
          [
           "</br>id: 1833</br>prediction: 0.062</br>shotType: 2.01</br></br>h_a: 0.0</br>situation: 2.0</br>lastAction: 0.0</br>minute: 3</br>distanceToGoal: 9.53310076709881</br>angleToGoal: 40.4664837945122</br>_original_yhat_: 0.053361547462168445</br>"
          ],
          [
           "</br>id: 1833</br>prediction: 0.062</br>shotType: 2.04</br></br>h_a: 0.0</br>situation: 2.0</br>lastAction: 0.0</br>minute: 3</br>distanceToGoal: 9.53310076709881</br>angleToGoal: 40.4664837945122</br>_original_yhat_: 0.053361547462168445</br>"
          ],
          [
           "</br>id: 1833</br>prediction: 0.062</br>shotType: 2.07</br></br>h_a: 0.0</br>situation: 2.0</br>lastAction: 0.0</br>minute: 3</br>distanceToGoal: 9.53310076709881</br>angleToGoal: 40.4664837945122</br>_original_yhat_: 0.053361547462168445</br>"
          ],
          [
           "</br>id: 1833</br>prediction: 0.062</br>shotType: 2.1</br></br>h_a: 0.0</br>situation: 2.0</br>lastAction: 0.0</br>minute: 3</br>distanceToGoal: 9.53310076709881</br>angleToGoal: 40.4664837945122</br>_original_yhat_: 0.053361547462168445</br>"
          ],
          [
           "</br>id: 1833</br>prediction: 0.062</br>shotType: 2.13</br></br>h_a: 0.0</br>situation: 2.0</br>lastAction: 0.0</br>minute: 3</br>distanceToGoal: 9.53310076709881</br>angleToGoal: 40.4664837945122</br>_original_yhat_: 0.053361547462168445</br>"
          ],
          [
           "</br>id: 1833</br>prediction: 0.062</br>shotType: 2.16</br></br>h_a: 0.0</br>situation: 2.0</br>lastAction: 0.0</br>minute: 3</br>distanceToGoal: 9.53310076709881</br>angleToGoal: 40.4664837945122</br>_original_yhat_: 0.053361547462168445</br>"
          ],
          [
           "</br>id: 1833</br>prediction: 0.062</br>shotType: 2.19</br></br>h_a: 0.0</br>situation: 2.0</br>lastAction: 0.0</br>minute: 3</br>distanceToGoal: 9.53310076709881</br>angleToGoal: 40.4664837945122</br>_original_yhat_: 0.053361547462168445</br>"
          ],
          [
           "</br>id: 1833</br>prediction: 0.062</br>shotType: 2.2199999999999998</br></br>h_a: 0.0</br>situation: 2.0</br>lastAction: 0.0</br>minute: 3</br>distanceToGoal: 9.53310076709881</br>angleToGoal: 40.4664837945122</br>_original_yhat_: 0.053361547462168445</br>"
          ],
          [
           "</br>id: 1833</br>prediction: 0.062</br>shotType: 2.25</br></br>h_a: 0.0</br>situation: 2.0</br>lastAction: 0.0</br>minute: 3</br>distanceToGoal: 9.53310076709881</br>angleToGoal: 40.4664837945122</br>_original_yhat_: 0.053361547462168445</br>"
          ],
          [
           "</br>id: 1833</br>prediction: 0.062</br>shotType: 2.28</br></br>h_a: 0.0</br>situation: 2.0</br>lastAction: 0.0</br>minute: 3</br>distanceToGoal: 9.53310076709881</br>angleToGoal: 40.4664837945122</br>_original_yhat_: 0.053361547462168445</br>"
          ],
          [
           "</br>id: 1833</br>prediction: 0.062</br>shotType: 2.31</br></br>h_a: 0.0</br>situation: 2.0</br>lastAction: 0.0</br>minute: 3</br>distanceToGoal: 9.53310076709881</br>angleToGoal: 40.4664837945122</br>_original_yhat_: 0.053361547462168445</br>"
          ],
          [
           "</br>id: 1833</br>prediction: 0.062</br>shotType: 2.34</br></br>h_a: 0.0</br>situation: 2.0</br>lastAction: 0.0</br>minute: 3</br>distanceToGoal: 9.53310076709881</br>angleToGoal: 40.4664837945122</br>_original_yhat_: 0.053361547462168445</br>"
          ],
          [
           "</br>id: 1833</br>prediction: 0.062</br>shotType: 2.37</br></br>h_a: 0.0</br>situation: 2.0</br>lastAction: 0.0</br>minute: 3</br>distanceToGoal: 9.53310076709881</br>angleToGoal: 40.4664837945122</br>_original_yhat_: 0.053361547462168445</br>"
          ],
          [
           "</br>id: 1833</br>prediction: 0.062</br>shotType: 2.4</br></br>h_a: 0.0</br>situation: 2.0</br>lastAction: 0.0</br>minute: 3</br>distanceToGoal: 9.53310076709881</br>angleToGoal: 40.4664837945122</br>_original_yhat_: 0.053361547462168445</br>"
          ],
          [
           "</br>id: 1833</br>prediction: 0.062</br>shotType: 2.4299999999999997</br></br>h_a: 0.0</br>situation: 2.0</br>lastAction: 0.0</br>minute: 3</br>distanceToGoal: 9.53310076709881</br>angleToGoal: 40.4664837945122</br>_original_yhat_: 0.053361547462168445</br>"
          ],
          [
           "</br>id: 1833</br>prediction: 0.062</br>shotType: 2.46</br></br>h_a: 0.0</br>situation: 2.0</br>lastAction: 0.0</br>minute: 3</br>distanceToGoal: 9.53310076709881</br>angleToGoal: 40.4664837945122</br>_original_yhat_: 0.053361547462168445</br>"
          ],
          [
           "</br>id: 1833</br>prediction: 0.062</br>shotType: 2.4899999999999998</br></br>h_a: 0.0</br>situation: 2.0</br>lastAction: 0.0</br>minute: 3</br>distanceToGoal: 9.53310076709881</br>angleToGoal: 40.4664837945122</br>_original_yhat_: 0.053361547462168445</br>"
          ],
          [
           "</br>id: 1833</br>prediction: 0.062</br>shotType: 2.52</br></br>h_a: 0.0</br>situation: 2.0</br>lastAction: 0.0</br>minute: 3</br>distanceToGoal: 9.53310076709881</br>angleToGoal: 40.4664837945122</br>_original_yhat_: 0.053361547462168445</br>"
          ],
          [
           "</br>id: 1833</br>prediction: 0.062</br>shotType: 2.55</br></br>h_a: 0.0</br>situation: 2.0</br>lastAction: 0.0</br>minute: 3</br>distanceToGoal: 9.53310076709881</br>angleToGoal: 40.4664837945122</br>_original_yhat_: 0.053361547462168445</br>"
          ],
          [
           "</br>id: 1833</br>prediction: 0.062</br>shotType: 2.58</br></br>h_a: 0.0</br>situation: 2.0</br>lastAction: 0.0</br>minute: 3</br>distanceToGoal: 9.53310076709881</br>angleToGoal: 40.4664837945122</br>_original_yhat_: 0.053361547462168445</br>"
          ],
          [
           "</br>id: 1833</br>prediction: 0.062</br>shotType: 2.61</br></br>h_a: 0.0</br>situation: 2.0</br>lastAction: 0.0</br>minute: 3</br>distanceToGoal: 9.53310076709881</br>angleToGoal: 40.4664837945122</br>_original_yhat_: 0.053361547462168445</br>"
          ],
          [
           "</br>id: 1833</br>prediction: 0.062</br>shotType: 2.6399999999999997</br></br>h_a: 0.0</br>situation: 2.0</br>lastAction: 0.0</br>minute: 3</br>distanceToGoal: 9.53310076709881</br>angleToGoal: 40.4664837945122</br>_original_yhat_: 0.053361547462168445</br>"
          ],
          [
           "</br>id: 1833</br>prediction: 0.062</br>shotType: 2.67</br></br>h_a: 0.0</br>situation: 2.0</br>lastAction: 0.0</br>minute: 3</br>distanceToGoal: 9.53310076709881</br>angleToGoal: 40.4664837945122</br>_original_yhat_: 0.053361547462168445</br>"
          ],
          [
           "</br>id: 1833</br>prediction: 0.062</br>shotType: 2.6999999999999997</br></br>h_a: 0.0</br>situation: 2.0</br>lastAction: 0.0</br>minute: 3</br>distanceToGoal: 9.53310076709881</br>angleToGoal: 40.4664837945122</br>_original_yhat_: 0.053361547462168445</br>"
          ],
          [
           "</br>id: 1833</br>prediction: 0.062</br>shotType: 2.73</br></br>h_a: 0.0</br>situation: 2.0</br>lastAction: 0.0</br>minute: 3</br>distanceToGoal: 9.53310076709881</br>angleToGoal: 40.4664837945122</br>_original_yhat_: 0.053361547462168445</br>"
          ],
          [
           "</br>id: 1833</br>prediction: 0.062</br>shotType: 2.76</br></br>h_a: 0.0</br>situation: 2.0</br>lastAction: 0.0</br>minute: 3</br>distanceToGoal: 9.53310076709881</br>angleToGoal: 40.4664837945122</br>_original_yhat_: 0.053361547462168445</br>"
          ],
          [
           "</br>id: 1833</br>prediction: 0.062</br>shotType: 2.79</br></br>h_a: 0.0</br>situation: 2.0</br>lastAction: 0.0</br>minute: 3</br>distanceToGoal: 9.53310076709881</br>angleToGoal: 40.4664837945122</br>_original_yhat_: 0.053361547462168445</br>"
          ],
          [
           "</br>id: 1833</br>prediction: 0.062</br>shotType: 2.82</br></br>h_a: 0.0</br>situation: 2.0</br>lastAction: 0.0</br>minute: 3</br>distanceToGoal: 9.53310076709881</br>angleToGoal: 40.4664837945122</br>_original_yhat_: 0.053361547462168445</br>"
          ],
          [
           "</br>id: 1833</br>prediction: 0.062</br>shotType: 2.85</br></br>h_a: 0.0</br>situation: 2.0</br>lastAction: 0.0</br>minute: 3</br>distanceToGoal: 9.53310076709881</br>angleToGoal: 40.4664837945122</br>_original_yhat_: 0.053361547462168445</br>"
          ],
          [
           "</br>id: 1833</br>prediction: 0.062</br>shotType: 2.88</br></br>h_a: 0.0</br>situation: 2.0</br>lastAction: 0.0</br>minute: 3</br>distanceToGoal: 9.53310076709881</br>angleToGoal: 40.4664837945122</br>_original_yhat_: 0.053361547462168445</br>"
          ],
          [
           "</br>id: 1833</br>prediction: 0.062</br>shotType: 2.9099999999999997</br></br>h_a: 0.0</br>situation: 2.0</br>lastAction: 0.0</br>minute: 3</br>distanceToGoal: 9.53310076709881</br>angleToGoal: 40.4664837945122</br>_original_yhat_: 0.053361547462168445</br>"
          ],
          [
           "</br>id: 1833</br>prediction: 0.062</br>shotType: 2.94</br></br>h_a: 0.0</br>situation: 2.0</br>lastAction: 0.0</br>minute: 3</br>distanceToGoal: 9.53310076709881</br>angleToGoal: 40.4664837945122</br>_original_yhat_: 0.053361547462168445</br>"
          ],
          [
           "</br>id: 1833</br>prediction: 0.062</br>shotType: 2.9699999999999998</br></br>h_a: 0.0</br>situation: 2.0</br>lastAction: 0.0</br>minute: 3</br>distanceToGoal: 9.53310076709881</br>angleToGoal: 40.4664837945122</br>_original_yhat_: 0.053361547462168445</br>"
          ],
          [
           "</br>id: 1833</br>prediction: 0.062</br>shotType: 3.0</br></br>h_a: 0.0</br>situation: 2.0</br>lastAction: 0.0</br>minute: 3</br>distanceToGoal: 9.53310076709881</br>angleToGoal: 40.4664837945122</br>_original_yhat_: 0.053361547462168445</br>"
          ]
         ],
         "hovertemplate": "%{customdata[0]}<extra></extra>",
         "legendgroup": "Gradient Boosting",
         "line": {
          "color": "#8bdcbe",
          "dash": "solid",
          "width": 2
         },
         "marker": {
          "symbol": "circle"
         },
         "mode": "lines",
         "name": "Gradient Boosting",
         "opacity": 1,
         "showlegend": false,
         "type": "scattergl",
         "x": [
          0,
          0.03,
          0.06,
          0.09,
          0.12,
          0.15,
          0.18,
          0.21,
          0.24,
          0.27,
          0.3,
          0.32999999999999996,
          0.36,
          0.39,
          0.42,
          0.44999999999999996,
          0.48,
          0.51,
          0.54,
          0.57,
          0.6,
          0.63,
          0.6599999999999999,
          0.69,
          0.72,
          0.75,
          0.78,
          0.8099999999999999,
          0.84,
          0.87,
          0.8999999999999999,
          0.9299999999999999,
          0.96,
          0.99,
          1.02,
          1.05,
          1.08,
          1.1099999999999999,
          1.14,
          1.17,
          1.2,
          1.23,
          1.26,
          1.29,
          1.3199999999999998,
          1.3499999999999999,
          1.38,
          1.41,
          1.44,
          1.47,
          1.5,
          1.53,
          1.56,
          1.5899999999999999,
          1.6199999999999999,
          1.65,
          1.68,
          1.71,
          1.74,
          1.77,
          1.7999999999999998,
          1.8299999999999998,
          1.8599999999999999,
          1.89,
          1.92,
          1.95,
          1.98,
          2.01,
          2.04,
          2.07,
          2.1,
          2.13,
          2.16,
          2.19,
          2.2199999999999998,
          2.25,
          2.28,
          2.31,
          2.34,
          2.37,
          2.4,
          2.4299999999999997,
          2.46,
          2.4899999999999998,
          2.52,
          2.55,
          2.58,
          2.61,
          2.6399999999999997,
          2.67,
          2.6999999999999997,
          2.73,
          2.76,
          2.79,
          2.82,
          2.85,
          2.88,
          2.9099999999999997,
          2.94,
          2.9699999999999998,
          3
         ],
         "xaxis": "x5",
         "y": [
          0.053361547462168445,
          0.053361547462168445,
          0.053361547462168445,
          0.053361547462168445,
          0.053361547462168445,
          0.053361547462168445,
          0.053361547462168445,
          0.053361547462168445,
          0.053361547462168445,
          0.053361547462168445,
          0.053361547462168445,
          0.053361547462168445,
          0.053361547462168445,
          0.053361547462168445,
          0.053361547462168445,
          0.053361547462168445,
          0.053361547462168445,
          0.06218095074043291,
          0.06218095074043291,
          0.06218095074043291,
          0.06218095074043291,
          0.06218095074043291,
          0.06218095074043291,
          0.06218095074043291,
          0.06218095074043291,
          0.06218095074043291,
          0.06218095074043291,
          0.06218095074043291,
          0.06218095074043291,
          0.06218095074043291,
          0.06218095074043291,
          0.06218095074043291,
          0.06218095074043291,
          0.06218095074043291,
          0.06218095074043291,
          0.06218095074043291,
          0.06218095074043291,
          0.06218095074043291,
          0.06218095074043291,
          0.06218095074043291,
          0.06218095074043291,
          0.06218095074043291,
          0.06218095074043291,
          0.06218095074043291,
          0.06218095074043291,
          0.06218095074043291,
          0.06218095074043291,
          0.06218095074043291,
          0.06218095074043291,
          0.06218095074043291,
          0.06218095074043291,
          0.06218095074043291,
          0.06218095074043291,
          0.06218095074043291,
          0.06218095074043291,
          0.06218095074043291,
          0.06218095074043291,
          0.06218095074043291,
          0.06218095074043291,
          0.06218095074043291,
          0.06218095074043291,
          0.06218095074043291,
          0.06218095074043291,
          0.06218095074043291,
          0.06218095074043291,
          0.06218095074043291,
          0.06218095074043291,
          0.06218095074043291,
          0.06218095074043291,
          0.06218095074043291,
          0.06218095074043291,
          0.06218095074043291,
          0.06218095074043291,
          0.06218095074043291,
          0.06218095074043291,
          0.06218095074043291,
          0.06218095074043291,
          0.06218095074043291,
          0.06218095074043291,
          0.06218095074043291,
          0.06218095074043291,
          0.06218095074043291,
          0.06218095074043291,
          0.06218095074043291,
          0.06218095074043291,
          0.06218095074043291,
          0.06218095074043291,
          0.06218095074043291,
          0.06218095074043291,
          0.06218095074043291,
          0.06218095074043291,
          0.06218095074043291,
          0.06218095074043291,
          0.06218095074043291,
          0.06218095074043291,
          0.06218095074043291,
          0.06218095074043291,
          0.06218095074043291,
          0.06218095074043291,
          0.06218095074043291,
          0.06218095074043291
         ],
         "yaxis": "y5"
        },
        {
         "customdata": [
          [
           "</br>id: 1833</br>prediction: 0.053</br>lastAction: 0.0</br></br>h_a: 0.0</br>situation: 2.0</br>shotType: 0.0</br>minute: 3</br>distanceToGoal: 9.53310076709881</br>angleToGoal: 40.4664837945122</br>_original_yhat_: 0.053361547462168445</br>"
          ],
          [
           "</br>id: 1833</br>prediction: 0.053</br>lastAction: 0.26</br></br>h_a: 0.0</br>situation: 2.0</br>shotType: 0.0</br>minute: 3</br>distanceToGoal: 9.53310076709881</br>angleToGoal: 40.4664837945122</br>_original_yhat_: 0.053361547462168445</br>"
          ],
          [
           "</br>id: 1833</br>prediction: 0.079</br>lastAction: 0.52</br></br>h_a: 0.0</br>situation: 2.0</br>shotType: 0.0</br>minute: 3</br>distanceToGoal: 9.53310076709881</br>angleToGoal: 40.4664837945122</br>_original_yhat_: 0.053361547462168445</br>"
          ],
          [
           "</br>id: 1833</br>prediction: 0.079</br>lastAction: 0.78</br></br>h_a: 0.0</br>situation: 2.0</br>shotType: 0.0</br>minute: 3</br>distanceToGoal: 9.53310076709881</br>angleToGoal: 40.4664837945122</br>_original_yhat_: 0.053361547462168445</br>"
          ],
          [
           "</br>id: 1833</br>prediction: 0.079</br>lastAction: 1.04</br></br>h_a: 0.0</br>situation: 2.0</br>shotType: 0.0</br>minute: 3</br>distanceToGoal: 9.53310076709881</br>angleToGoal: 40.4664837945122</br>_original_yhat_: 0.053361547462168445</br>"
          ],
          [
           "</br>id: 1833</br>prediction: 0.079</br>lastAction: 1.3</br></br>h_a: 0.0</br>situation: 2.0</br>shotType: 0.0</br>minute: 3</br>distanceToGoal: 9.53310076709881</br>angleToGoal: 40.4664837945122</br>_original_yhat_: 0.053361547462168445</br>"
          ],
          [
           "</br>id: 1833</br>prediction: 0.079</br>lastAction: 1.56</br></br>h_a: 0.0</br>situation: 2.0</br>shotType: 0.0</br>minute: 3</br>distanceToGoal: 9.53310076709881</br>angleToGoal: 40.4664837945122</br>_original_yhat_: 0.053361547462168445</br>"
          ],
          [
           "</br>id: 1833</br>prediction: 0.079</br>lastAction: 1.82</br></br>h_a: 0.0</br>situation: 2.0</br>shotType: 0.0</br>minute: 3</br>distanceToGoal: 9.53310076709881</br>angleToGoal: 40.4664837945122</br>_original_yhat_: 0.053361547462168445</br>"
          ],
          [
           "</br>id: 1833</br>prediction: 0.079</br>lastAction: 2.08</br></br>h_a: 0.0</br>situation: 2.0</br>shotType: 0.0</br>minute: 3</br>distanceToGoal: 9.53310076709881</br>angleToGoal: 40.4664837945122</br>_original_yhat_: 0.053361547462168445</br>"
          ],
          [
           "</br>id: 1833</br>prediction: 0.079</br>lastAction: 2.34</br></br>h_a: 0.0</br>situation: 2.0</br>shotType: 0.0</br>minute: 3</br>distanceToGoal: 9.53310076709881</br>angleToGoal: 40.4664837945122</br>_original_yhat_: 0.053361547462168445</br>"
          ],
          [
           "</br>id: 1833</br>prediction: 0.079</br>lastAction: 2.6</br></br>h_a: 0.0</br>situation: 2.0</br>shotType: 0.0</br>minute: 3</br>distanceToGoal: 9.53310076709881</br>angleToGoal: 40.4664837945122</br>_original_yhat_: 0.053361547462168445</br>"
          ],
          [
           "</br>id: 1833</br>prediction: 0.079</br>lastAction: 2.8600000000000003</br></br>h_a: 0.0</br>situation: 2.0</br>shotType: 0.0</br>minute: 3</br>distanceToGoal: 9.53310076709881</br>angleToGoal: 40.4664837945122</br>_original_yhat_: 0.053361547462168445</br>"
          ],
          [
           "</br>id: 1833</br>prediction: 0.079</br>lastAction: 3.12</br></br>h_a: 0.0</br>situation: 2.0</br>shotType: 0.0</br>minute: 3</br>distanceToGoal: 9.53310076709881</br>angleToGoal: 40.4664837945122</br>_original_yhat_: 0.053361547462168445</br>"
          ],
          [
           "</br>id: 1833</br>prediction: 0.079</br>lastAction: 3.38</br></br>h_a: 0.0</br>situation: 2.0</br>shotType: 0.0</br>minute: 3</br>distanceToGoal: 9.53310076709881</br>angleToGoal: 40.4664837945122</br>_original_yhat_: 0.053361547462168445</br>"
          ],
          [
           "</br>id: 1833</br>prediction: 0.079</br>lastAction: 3.64</br></br>h_a: 0.0</br>situation: 2.0</br>shotType: 0.0</br>minute: 3</br>distanceToGoal: 9.53310076709881</br>angleToGoal: 40.4664837945122</br>_original_yhat_: 0.053361547462168445</br>"
          ],
          [
           "</br>id: 1833</br>prediction: 0.079</br>lastAction: 3.9000000000000004</br></br>h_a: 0.0</br>situation: 2.0</br>shotType: 0.0</br>minute: 3</br>distanceToGoal: 9.53310076709881</br>angleToGoal: 40.4664837945122</br>_original_yhat_: 0.053361547462168445</br>"
          ],
          [
           "</br>id: 1833</br>prediction: 0.079</br>lastAction: 4.16</br></br>h_a: 0.0</br>situation: 2.0</br>shotType: 0.0</br>minute: 3</br>distanceToGoal: 9.53310076709881</br>angleToGoal: 40.4664837945122</br>_original_yhat_: 0.053361547462168445</br>"
          ],
          [
           "</br>id: 1833</br>prediction: 0.079</br>lastAction: 4.42</br></br>h_a: 0.0</br>situation: 2.0</br>shotType: 0.0</br>minute: 3</br>distanceToGoal: 9.53310076709881</br>angleToGoal: 40.4664837945122</br>_original_yhat_: 0.053361547462168445</br>"
          ],
          [
           "</br>id: 1833</br>prediction: 0.079</br>lastAction: 4.68</br></br>h_a: 0.0</br>situation: 2.0</br>shotType: 0.0</br>minute: 3</br>distanceToGoal: 9.53310076709881</br>angleToGoal: 40.4664837945122</br>_original_yhat_: 0.053361547462168445</br>"
          ],
          [
           "</br>id: 1833</br>prediction: 0.079</br>lastAction: 4.94</br></br>h_a: 0.0</br>situation: 2.0</br>shotType: 0.0</br>minute: 3</br>distanceToGoal: 9.53310076709881</br>angleToGoal: 40.4664837945122</br>_original_yhat_: 0.053361547462168445</br>"
          ],
          [
           "</br>id: 1833</br>prediction: 0.079</br>lastAction: 5.2</br></br>h_a: 0.0</br>situation: 2.0</br>shotType: 0.0</br>minute: 3</br>distanceToGoal: 9.53310076709881</br>angleToGoal: 40.4664837945122</br>_original_yhat_: 0.053361547462168445</br>"
          ],
          [
           "</br>id: 1833</br>prediction: 0.079</br>lastAction: 5.46</br></br>h_a: 0.0</br>situation: 2.0</br>shotType: 0.0</br>minute: 3</br>distanceToGoal: 9.53310076709881</br>angleToGoal: 40.4664837945122</br>_original_yhat_: 0.053361547462168445</br>"
          ],
          [
           "</br>id: 1833</br>prediction: 0.079</br>lastAction: 5.720000000000001</br></br>h_a: 0.0</br>situation: 2.0</br>shotType: 0.0</br>minute: 3</br>distanceToGoal: 9.53310076709881</br>angleToGoal: 40.4664837945122</br>_original_yhat_: 0.053361547462168445</br>"
          ],
          [
           "</br>id: 1833</br>prediction: 0.079</br>lastAction: 5.98</br></br>h_a: 0.0</br>situation: 2.0</br>shotType: 0.0</br>minute: 3</br>distanceToGoal: 9.53310076709881</br>angleToGoal: 40.4664837945122</br>_original_yhat_: 0.053361547462168445</br>"
          ],
          [
           "</br>id: 1833</br>prediction: 0.079</br>lastAction: 6.24</br></br>h_a: 0.0</br>situation: 2.0</br>shotType: 0.0</br>minute: 3</br>distanceToGoal: 9.53310076709881</br>angleToGoal: 40.4664837945122</br>_original_yhat_: 0.053361547462168445</br>"
          ],
          [
           "</br>id: 1833</br>prediction: 0.079</br>lastAction: 6.5</br></br>h_a: 0.0</br>situation: 2.0</br>shotType: 0.0</br>minute: 3</br>distanceToGoal: 9.53310076709881</br>angleToGoal: 40.4664837945122</br>_original_yhat_: 0.053361547462168445</br>"
          ],
          [
           "</br>id: 1833</br>prediction: 0.079</br>lastAction: 6.76</br></br>h_a: 0.0</br>situation: 2.0</br>shotType: 0.0</br>minute: 3</br>distanceToGoal: 9.53310076709881</br>angleToGoal: 40.4664837945122</br>_original_yhat_: 0.053361547462168445</br>"
          ],
          [
           "</br>id: 1833</br>prediction: 0.075</br>lastAction: 7.0200000000000005</br></br>h_a: 0.0</br>situation: 2.0</br>shotType: 0.0</br>minute: 3</br>distanceToGoal: 9.53310076709881</br>angleToGoal: 40.4664837945122</br>_original_yhat_: 0.053361547462168445</br>"
          ],
          [
           "</br>id: 1833</br>prediction: 0.075</br>lastAction: 7.28</br></br>h_a: 0.0</br>situation: 2.0</br>shotType: 0.0</br>minute: 3</br>distanceToGoal: 9.53310076709881</br>angleToGoal: 40.4664837945122</br>_original_yhat_: 0.053361547462168445</br>"
          ],
          [
           "</br>id: 1833</br>prediction: 0.075</br>lastAction: 7.54</br></br>h_a: 0.0</br>situation: 2.0</br>shotType: 0.0</br>minute: 3</br>distanceToGoal: 9.53310076709881</br>angleToGoal: 40.4664837945122</br>_original_yhat_: 0.053361547462168445</br>"
          ],
          [
           "</br>id: 1833</br>prediction: 0.075</br>lastAction: 7.800000000000001</br></br>h_a: 0.0</br>situation: 2.0</br>shotType: 0.0</br>minute: 3</br>distanceToGoal: 9.53310076709881</br>angleToGoal: 40.4664837945122</br>_original_yhat_: 0.053361547462168445</br>"
          ],
          [
           "</br>id: 1833</br>prediction: 0.075</br>lastAction: 8.06</br></br>h_a: 0.0</br>situation: 2.0</br>shotType: 0.0</br>minute: 3</br>distanceToGoal: 9.53310076709881</br>angleToGoal: 40.4664837945122</br>_original_yhat_: 0.053361547462168445</br>"
          ],
          [
           "</br>id: 1833</br>prediction: 0.075</br>lastAction: 8.32</br></br>h_a: 0.0</br>situation: 2.0</br>shotType: 0.0</br>minute: 3</br>distanceToGoal: 9.53310076709881</br>angleToGoal: 40.4664837945122</br>_original_yhat_: 0.053361547462168445</br>"
          ],
          [
           "</br>id: 1833</br>prediction: 0.075</br>lastAction: 8.58</br></br>h_a: 0.0</br>situation: 2.0</br>shotType: 0.0</br>minute: 3</br>distanceToGoal: 9.53310076709881</br>angleToGoal: 40.4664837945122</br>_original_yhat_: 0.053361547462168445</br>"
          ],
          [
           "</br>id: 1833</br>prediction: 0.075</br>lastAction: 8.84</br></br>h_a: 0.0</br>situation: 2.0</br>shotType: 0.0</br>minute: 3</br>distanceToGoal: 9.53310076709881</br>angleToGoal: 40.4664837945122</br>_original_yhat_: 0.053361547462168445</br>"
          ],
          [
           "</br>id: 1833</br>prediction: 0.075</br>lastAction: 9.1</br></br>h_a: 0.0</br>situation: 2.0</br>shotType: 0.0</br>minute: 3</br>distanceToGoal: 9.53310076709881</br>angleToGoal: 40.4664837945122</br>_original_yhat_: 0.053361547462168445</br>"
          ],
          [
           "</br>id: 1833</br>prediction: 0.075</br>lastAction: 9.36</br></br>h_a: 0.0</br>situation: 2.0</br>shotType: 0.0</br>minute: 3</br>distanceToGoal: 9.53310076709881</br>angleToGoal: 40.4664837945122</br>_original_yhat_: 0.053361547462168445</br>"
          ],
          [
           "</br>id: 1833</br>prediction: 0.075</br>lastAction: 9.620000000000001</br></br>h_a: 0.0</br>situation: 2.0</br>shotType: 0.0</br>minute: 3</br>distanceToGoal: 9.53310076709881</br>angleToGoal: 40.4664837945122</br>_original_yhat_: 0.053361547462168445</br>"
          ],
          [
           "</br>id: 1833</br>prediction: 0.075</br>lastAction: 9.88</br></br>h_a: 0.0</br>situation: 2.0</br>shotType: 0.0</br>minute: 3</br>distanceToGoal: 9.53310076709881</br>angleToGoal: 40.4664837945122</br>_original_yhat_: 0.053361547462168445</br>"
          ],
          [
           "</br>id: 1833</br>prediction: 0.075</br>lastAction: 10.14</br></br>h_a: 0.0</br>situation: 2.0</br>shotType: 0.0</br>minute: 3</br>distanceToGoal: 9.53310076709881</br>angleToGoal: 40.4664837945122</br>_original_yhat_: 0.053361547462168445</br>"
          ],
          [
           "</br>id: 1833</br>prediction: 0.075</br>lastAction: 10.4</br></br>h_a: 0.0</br>situation: 2.0</br>shotType: 0.0</br>minute: 3</br>distanceToGoal: 9.53310076709881</br>angleToGoal: 40.4664837945122</br>_original_yhat_: 0.053361547462168445</br>"
          ],
          [
           "</br>id: 1833</br>prediction: 0.075</br>lastAction: 10.66</br></br>h_a: 0.0</br>situation: 2.0</br>shotType: 0.0</br>minute: 3</br>distanceToGoal: 9.53310076709881</br>angleToGoal: 40.4664837945122</br>_original_yhat_: 0.053361547462168445</br>"
          ],
          [
           "</br>id: 1833</br>prediction: 0.075</br>lastAction: 10.92</br></br>h_a: 0.0</br>situation: 2.0</br>shotType: 0.0</br>minute: 3</br>distanceToGoal: 9.53310076709881</br>angleToGoal: 40.4664837945122</br>_original_yhat_: 0.053361547462168445</br>"
          ],
          [
           "</br>id: 1833</br>prediction: 0.075</br>lastAction: 11.18</br></br>h_a: 0.0</br>situation: 2.0</br>shotType: 0.0</br>minute: 3</br>distanceToGoal: 9.53310076709881</br>angleToGoal: 40.4664837945122</br>_original_yhat_: 0.053361547462168445</br>"
          ],
          [
           "</br>id: 1833</br>prediction: 0.075</br>lastAction: 11.440000000000001</br></br>h_a: 0.0</br>situation: 2.0</br>shotType: 0.0</br>minute: 3</br>distanceToGoal: 9.53310076709881</br>angleToGoal: 40.4664837945122</br>_original_yhat_: 0.053361547462168445</br>"
          ],
          [
           "</br>id: 1833</br>prediction: 0.075</br>lastAction: 11.700000000000001</br></br>h_a: 0.0</br>situation: 2.0</br>shotType: 0.0</br>minute: 3</br>distanceToGoal: 9.53310076709881</br>angleToGoal: 40.4664837945122</br>_original_yhat_: 0.053361547462168445</br>"
          ],
          [
           "</br>id: 1833</br>prediction: 0.075</br>lastAction: 11.96</br></br>h_a: 0.0</br>situation: 2.0</br>shotType: 0.0</br>minute: 3</br>distanceToGoal: 9.53310076709881</br>angleToGoal: 40.4664837945122</br>_original_yhat_: 0.053361547462168445</br>"
          ],
          [
           "</br>id: 1833</br>prediction: 0.075</br>lastAction: 12.22</br></br>h_a: 0.0</br>situation: 2.0</br>shotType: 0.0</br>minute: 3</br>distanceToGoal: 9.53310076709881</br>angleToGoal: 40.4664837945122</br>_original_yhat_: 0.053361547462168445</br>"
          ],
          [
           "</br>id: 1833</br>prediction: 0.075</br>lastAction: 12.48</br></br>h_a: 0.0</br>situation: 2.0</br>shotType: 0.0</br>minute: 3</br>distanceToGoal: 9.53310076709881</br>angleToGoal: 40.4664837945122</br>_original_yhat_: 0.053361547462168445</br>"
          ],
          [
           "</br>id: 1833</br>prediction: 0.075</br>lastAction: 12.74</br></br>h_a: 0.0</br>situation: 2.0</br>shotType: 0.0</br>minute: 3</br>distanceToGoal: 9.53310076709881</br>angleToGoal: 40.4664837945122</br>_original_yhat_: 0.053361547462168445</br>"
          ],
          [
           "</br>id: 1833</br>prediction: 0.075</br>lastAction: 13.0</br></br>h_a: 0.0</br>situation: 2.0</br>shotType: 0.0</br>minute: 3</br>distanceToGoal: 9.53310076709881</br>angleToGoal: 40.4664837945122</br>_original_yhat_: 0.053361547462168445</br>"
          ],
          [
           "</br>id: 1833</br>prediction: 0.075</br>lastAction: 13.26</br></br>h_a: 0.0</br>situation: 2.0</br>shotType: 0.0</br>minute: 3</br>distanceToGoal: 9.53310076709881</br>angleToGoal: 40.4664837945122</br>_original_yhat_: 0.053361547462168445</br>"
          ],
          [
           "</br>id: 1833</br>prediction: 0.075</br>lastAction: 13.52</br></br>h_a: 0.0</br>situation: 2.0</br>shotType: 0.0</br>minute: 3</br>distanceToGoal: 9.53310076709881</br>angleToGoal: 40.4664837945122</br>_original_yhat_: 0.053361547462168445</br>"
          ],
          [
           "</br>id: 1833</br>prediction: 0.075</br>lastAction: 13.780000000000001</br></br>h_a: 0.0</br>situation: 2.0</br>shotType: 0.0</br>minute: 3</br>distanceToGoal: 9.53310076709881</br>angleToGoal: 40.4664837945122</br>_original_yhat_: 0.053361547462168445</br>"
          ],
          [
           "</br>id: 1833</br>prediction: 0.075</br>lastAction: 14.040000000000001</br></br>h_a: 0.0</br>situation: 2.0</br>shotType: 0.0</br>minute: 3</br>distanceToGoal: 9.53310076709881</br>angleToGoal: 40.4664837945122</br>_original_yhat_: 0.053361547462168445</br>"
          ],
          [
           "</br>id: 1833</br>prediction: 0.075</br>lastAction: 14.3</br></br>h_a: 0.0</br>situation: 2.0</br>shotType: 0.0</br>minute: 3</br>distanceToGoal: 9.53310076709881</br>angleToGoal: 40.4664837945122</br>_original_yhat_: 0.053361547462168445</br>"
          ],
          [
           "</br>id: 1833</br>prediction: 0.053</br>lastAction: 14.56</br></br>h_a: 0.0</br>situation: 2.0</br>shotType: 0.0</br>minute: 3</br>distanceToGoal: 9.53310076709881</br>angleToGoal: 40.4664837945122</br>_original_yhat_: 0.053361547462168445</br>"
          ],
          [
           "</br>id: 1833</br>prediction: 0.053</br>lastAction: 14.82</br></br>h_a: 0.0</br>situation: 2.0</br>shotType: 0.0</br>minute: 3</br>distanceToGoal: 9.53310076709881</br>angleToGoal: 40.4664837945122</br>_original_yhat_: 0.053361547462168445</br>"
          ],
          [
           "</br>id: 1833</br>prediction: 0.053</br>lastAction: 15.08</br></br>h_a: 0.0</br>situation: 2.0</br>shotType: 0.0</br>minute: 3</br>distanceToGoal: 9.53310076709881</br>angleToGoal: 40.4664837945122</br>_original_yhat_: 0.053361547462168445</br>"
          ],
          [
           "</br>id: 1833</br>prediction: 0.053</br>lastAction: 15.34</br></br>h_a: 0.0</br>situation: 2.0</br>shotType: 0.0</br>minute: 3</br>distanceToGoal: 9.53310076709881</br>angleToGoal: 40.4664837945122</br>_original_yhat_: 0.053361547462168445</br>"
          ],
          [
           "</br>id: 1833</br>prediction: 0.053</br>lastAction: 15.600000000000001</br></br>h_a: 0.0</br>situation: 2.0</br>shotType: 0.0</br>minute: 3</br>distanceToGoal: 9.53310076709881</br>angleToGoal: 40.4664837945122</br>_original_yhat_: 0.053361547462168445</br>"
          ],
          [
           "</br>id: 1833</br>prediction: 0.053</br>lastAction: 15.860000000000001</br></br>h_a: 0.0</br>situation: 2.0</br>shotType: 0.0</br>minute: 3</br>distanceToGoal: 9.53310076709881</br>angleToGoal: 40.4664837945122</br>_original_yhat_: 0.053361547462168445</br>"
          ],
          [
           "</br>id: 1833</br>prediction: 0.053</br>lastAction: 16.12</br></br>h_a: 0.0</br>situation: 2.0</br>shotType: 0.0</br>minute: 3</br>distanceToGoal: 9.53310076709881</br>angleToGoal: 40.4664837945122</br>_original_yhat_: 0.053361547462168445</br>"
          ],
          [
           "</br>id: 1833</br>prediction: 0.053</br>lastAction: 16.38</br></br>h_a: 0.0</br>situation: 2.0</br>shotType: 0.0</br>minute: 3</br>distanceToGoal: 9.53310076709881</br>angleToGoal: 40.4664837945122</br>_original_yhat_: 0.053361547462168445</br>"
          ],
          [
           "</br>id: 1833</br>prediction: 0.053</br>lastAction: 16.64</br></br>h_a: 0.0</br>situation: 2.0</br>shotType: 0.0</br>minute: 3</br>distanceToGoal: 9.53310076709881</br>angleToGoal: 40.4664837945122</br>_original_yhat_: 0.053361547462168445</br>"
          ],
          [
           "</br>id: 1833</br>prediction: 0.053</br>lastAction: 16.900000000000002</br></br>h_a: 0.0</br>situation: 2.0</br>shotType: 0.0</br>minute: 3</br>distanceToGoal: 9.53310076709881</br>angleToGoal: 40.4664837945122</br>_original_yhat_: 0.053361547462168445</br>"
          ],
          [
           "</br>id: 1833</br>prediction: 0.053</br>lastAction: 17.16</br></br>h_a: 0.0</br>situation: 2.0</br>shotType: 0.0</br>minute: 3</br>distanceToGoal: 9.53310076709881</br>angleToGoal: 40.4664837945122</br>_original_yhat_: 0.053361547462168445</br>"
          ],
          [
           "</br>id: 1833</br>prediction: 0.053</br>lastAction: 17.42</br></br>h_a: 0.0</br>situation: 2.0</br>shotType: 0.0</br>minute: 3</br>distanceToGoal: 9.53310076709881</br>angleToGoal: 40.4664837945122</br>_original_yhat_: 0.053361547462168445</br>"
          ],
          [
           "</br>id: 1833</br>prediction: 0.053</br>lastAction: 17.68</br></br>h_a: 0.0</br>situation: 2.0</br>shotType: 0.0</br>minute: 3</br>distanceToGoal: 9.53310076709881</br>angleToGoal: 40.4664837945122</br>_original_yhat_: 0.053361547462168445</br>"
          ],
          [
           "</br>id: 1833</br>prediction: 0.053</br>lastAction: 17.94</br></br>h_a: 0.0</br>situation: 2.0</br>shotType: 0.0</br>minute: 3</br>distanceToGoal: 9.53310076709881</br>angleToGoal: 40.4664837945122</br>_original_yhat_: 0.053361547462168445</br>"
          ],
          [
           "</br>id: 1833</br>prediction: 0.053</br>lastAction: 18.2</br></br>h_a: 0.0</br>situation: 2.0</br>shotType: 0.0</br>minute: 3</br>distanceToGoal: 9.53310076709881</br>angleToGoal: 40.4664837945122</br>_original_yhat_: 0.053361547462168445</br>"
          ],
          [
           "</br>id: 1833</br>prediction: 0.053</br>lastAction: 18.46</br></br>h_a: 0.0</br>situation: 2.0</br>shotType: 0.0</br>minute: 3</br>distanceToGoal: 9.53310076709881</br>angleToGoal: 40.4664837945122</br>_original_yhat_: 0.053361547462168445</br>"
          ],
          [
           "</br>id: 1833</br>prediction: 0.053</br>lastAction: 18.72</br></br>h_a: 0.0</br>situation: 2.0</br>shotType: 0.0</br>minute: 3</br>distanceToGoal: 9.53310076709881</br>angleToGoal: 40.4664837945122</br>_original_yhat_: 0.053361547462168445</br>"
          ],
          [
           "</br>id: 1833</br>prediction: 0.053</br>lastAction: 18.98</br></br>h_a: 0.0</br>situation: 2.0</br>shotType: 0.0</br>minute: 3</br>distanceToGoal: 9.53310076709881</br>angleToGoal: 40.4664837945122</br>_original_yhat_: 0.053361547462168445</br>"
          ],
          [
           "</br>id: 1833</br>prediction: 0.134</br>lastAction: 19.240000000000002</br></br>h_a: 0.0</br>situation: 2.0</br>shotType: 0.0</br>minute: 3</br>distanceToGoal: 9.53310076709881</br>angleToGoal: 40.4664837945122</br>_original_yhat_: 0.053361547462168445</br>"
          ],
          [
           "</br>id: 1833</br>prediction: 0.134</br>lastAction: 19.5</br></br>h_a: 0.0</br>situation: 2.0</br>shotType: 0.0</br>minute: 3</br>distanceToGoal: 9.53310076709881</br>angleToGoal: 40.4664837945122</br>_original_yhat_: 0.053361547462168445</br>"
          ],
          [
           "</br>id: 1833</br>prediction: 0.205</br>lastAction: 19.76</br></br>h_a: 0.0</br>situation: 2.0</br>shotType: 0.0</br>minute: 3</br>distanceToGoal: 9.53310076709881</br>angleToGoal: 40.4664837945122</br>_original_yhat_: 0.053361547462168445</br>"
          ],
          [
           "</br>id: 1833</br>prediction: 0.205</br>lastAction: 20.02</br></br>h_a: 0.0</br>situation: 2.0</br>shotType: 0.0</br>minute: 3</br>distanceToGoal: 9.53310076709881</br>angleToGoal: 40.4664837945122</br>_original_yhat_: 0.053361547462168445</br>"
          ],
          [
           "</br>id: 1833</br>prediction: 0.205</br>lastAction: 20.28</br></br>h_a: 0.0</br>situation: 2.0</br>shotType: 0.0</br>minute: 3</br>distanceToGoal: 9.53310076709881</br>angleToGoal: 40.4664837945122</br>_original_yhat_: 0.053361547462168445</br>"
          ],
          [
           "</br>id: 1833</br>prediction: 0.205</br>lastAction: 20.54</br></br>h_a: 0.0</br>situation: 2.0</br>shotType: 0.0</br>minute: 3</br>distanceToGoal: 9.53310076709881</br>angleToGoal: 40.4664837945122</br>_original_yhat_: 0.053361547462168445</br>"
          ],
          [
           "</br>id: 1833</br>prediction: 0.205</br>lastAction: 20.8</br></br>h_a: 0.0</br>situation: 2.0</br>shotType: 0.0</br>minute: 3</br>distanceToGoal: 9.53310076709881</br>angleToGoal: 40.4664837945122</br>_original_yhat_: 0.053361547462168445</br>"
          ],
          [
           "</br>id: 1833</br>prediction: 0.205</br>lastAction: 21.060000000000002</br></br>h_a: 0.0</br>situation: 2.0</br>shotType: 0.0</br>minute: 3</br>distanceToGoal: 9.53310076709881</br>angleToGoal: 40.4664837945122</br>_original_yhat_: 0.053361547462168445</br>"
          ],
          [
           "</br>id: 1833</br>prediction: 0.205</br>lastAction: 21.32</br></br>h_a: 0.0</br>situation: 2.0</br>shotType: 0.0</br>minute: 3</br>distanceToGoal: 9.53310076709881</br>angleToGoal: 40.4664837945122</br>_original_yhat_: 0.053361547462168445</br>"
          ],
          [
           "</br>id: 1833</br>prediction: 0.267</br>lastAction: 21.580000000000002</br></br>h_a: 0.0</br>situation: 2.0</br>shotType: 0.0</br>minute: 3</br>distanceToGoal: 9.53310076709881</br>angleToGoal: 40.4664837945122</br>_original_yhat_: 0.053361547462168445</br>"
          ],
          [
           "</br>id: 1833</br>prediction: 0.267</br>lastAction: 21.84</br></br>h_a: 0.0</br>situation: 2.0</br>shotType: 0.0</br>minute: 3</br>distanceToGoal: 9.53310076709881</br>angleToGoal: 40.4664837945122</br>_original_yhat_: 0.053361547462168445</br>"
          ],
          [
           "</br>id: 1833</br>prediction: 0.267</br>lastAction: 22.1</br></br>h_a: 0.0</br>situation: 2.0</br>shotType: 0.0</br>minute: 3</br>distanceToGoal: 9.53310076709881</br>angleToGoal: 40.4664837945122</br>_original_yhat_: 0.053361547462168445</br>"
          ],
          [
           "</br>id: 1833</br>prediction: 0.267</br>lastAction: 22.36</br></br>h_a: 0.0</br>situation: 2.0</br>shotType: 0.0</br>minute: 3</br>distanceToGoal: 9.53310076709881</br>angleToGoal: 40.4664837945122</br>_original_yhat_: 0.053361547462168445</br>"
          ],
          [
           "</br>id: 1833</br>prediction: 0.267</br>lastAction: 22.62</br></br>h_a: 0.0</br>situation: 2.0</br>shotType: 0.0</br>minute: 3</br>distanceToGoal: 9.53310076709881</br>angleToGoal: 40.4664837945122</br>_original_yhat_: 0.053361547462168445</br>"
          ],
          [
           "</br>id: 1833</br>prediction: 0.267</br>lastAction: 22.880000000000003</br></br>h_a: 0.0</br>situation: 2.0</br>shotType: 0.0</br>minute: 3</br>distanceToGoal: 9.53310076709881</br>angleToGoal: 40.4664837945122</br>_original_yhat_: 0.053361547462168445</br>"
          ],
          [
           "</br>id: 1833</br>prediction: 0.206</br>lastAction: 23.14</br></br>h_a: 0.0</br>situation: 2.0</br>shotType: 0.0</br>minute: 3</br>distanceToGoal: 9.53310076709881</br>angleToGoal: 40.4664837945122</br>_original_yhat_: 0.053361547462168445</br>"
          ],
          [
           "</br>id: 1833</br>prediction: 0.206</br>lastAction: 23.400000000000002</br></br>h_a: 0.0</br>situation: 2.0</br>shotType: 0.0</br>minute: 3</br>distanceToGoal: 9.53310076709881</br>angleToGoal: 40.4664837945122</br>_original_yhat_: 0.053361547462168445</br>"
          ],
          [
           "</br>id: 1833</br>prediction: 0.206</br>lastAction: 23.66</br></br>h_a: 0.0</br>situation: 2.0</br>shotType: 0.0</br>minute: 3</br>distanceToGoal: 9.53310076709881</br>angleToGoal: 40.4664837945122</br>_original_yhat_: 0.053361547462168445</br>"
          ],
          [
           "</br>id: 1833</br>prediction: 0.206</br>lastAction: 23.92</br></br>h_a: 0.0</br>situation: 2.0</br>shotType: 0.0</br>minute: 3</br>distanceToGoal: 9.53310076709881</br>angleToGoal: 40.4664837945122</br>_original_yhat_: 0.053361547462168445</br>"
          ],
          [
           "</br>id: 1833</br>prediction: 0.206</br>lastAction: 24.18</br></br>h_a: 0.0</br>situation: 2.0</br>shotType: 0.0</br>minute: 3</br>distanceToGoal: 9.53310076709881</br>angleToGoal: 40.4664837945122</br>_original_yhat_: 0.053361547462168445</br>"
          ],
          [
           "</br>id: 1833</br>prediction: 0.206</br>lastAction: 24.44</br></br>h_a: 0.0</br>situation: 2.0</br>shotType: 0.0</br>minute: 3</br>distanceToGoal: 9.53310076709881</br>angleToGoal: 40.4664837945122</br>_original_yhat_: 0.053361547462168445</br>"
          ],
          [
           "</br>id: 1833</br>prediction: 0.206</br>lastAction: 24.7</br></br>h_a: 0.0</br>situation: 2.0</br>shotType: 0.0</br>minute: 3</br>distanceToGoal: 9.53310076709881</br>angleToGoal: 40.4664837945122</br>_original_yhat_: 0.053361547462168445</br>"
          ],
          [
           "</br>id: 1833</br>prediction: 0.206</br>lastAction: 24.96</br></br>h_a: 0.0</br>situation: 2.0</br>shotType: 0.0</br>minute: 3</br>distanceToGoal: 9.53310076709881</br>angleToGoal: 40.4664837945122</br>_original_yhat_: 0.053361547462168445</br>"
          ],
          [
           "</br>id: 1833</br>prediction: 0.206</br>lastAction: 25.220000000000002</br></br>h_a: 0.0</br>situation: 2.0</br>shotType: 0.0</br>minute: 3</br>distanceToGoal: 9.53310076709881</br>angleToGoal: 40.4664837945122</br>_original_yhat_: 0.053361547462168445</br>"
          ],
          [
           "</br>id: 1833</br>prediction: 0.206</br>lastAction: 25.48</br></br>h_a: 0.0</br>situation: 2.0</br>shotType: 0.0</br>minute: 3</br>distanceToGoal: 9.53310076709881</br>angleToGoal: 40.4664837945122</br>_original_yhat_: 0.053361547462168445</br>"
          ],
          [
           "</br>id: 1833</br>prediction: 0.156</br>lastAction: 25.740000000000002</br></br>h_a: 0.0</br>situation: 2.0</br>shotType: 0.0</br>minute: 3</br>distanceToGoal: 9.53310076709881</br>angleToGoal: 40.4664837945122</br>_original_yhat_: 0.053361547462168445</br>"
          ],
          [
           "</br>id: 1833</br>prediction: 0.156</br>lastAction: 26.0</br></br>h_a: 0.0</br>situation: 2.0</br>shotType: 0.0</br>minute: 3</br>distanceToGoal: 9.53310076709881</br>angleToGoal: 40.4664837945122</br>_original_yhat_: 0.053361547462168445</br>"
          ]
         ],
         "hovertemplate": "%{customdata[0]}<extra></extra>",
         "legendgroup": "Gradient Boosting",
         "line": {
          "color": "#8bdcbe",
          "dash": "solid",
          "width": 2
         },
         "marker": {
          "symbol": "circle"
         },
         "mode": "lines",
         "name": "Gradient Boosting",
         "opacity": 1,
         "showlegend": false,
         "type": "scattergl",
         "x": [
          0,
          0.26,
          0.52,
          0.78,
          1.04,
          1.3,
          1.56,
          1.82,
          2.08,
          2.34,
          2.6,
          2.8600000000000003,
          3.12,
          3.38,
          3.64,
          3.9000000000000004,
          4.16,
          4.42,
          4.68,
          4.94,
          5.2,
          5.46,
          5.720000000000001,
          5.98,
          6.24,
          6.5,
          6.76,
          7.0200000000000005,
          7.28,
          7.54,
          7.800000000000001,
          8.06,
          8.32,
          8.58,
          8.84,
          9.1,
          9.36,
          9.620000000000001,
          9.88,
          10.14,
          10.4,
          10.66,
          10.92,
          11.18,
          11.440000000000001,
          11.700000000000001,
          11.96,
          12.22,
          12.48,
          12.74,
          13,
          13.26,
          13.52,
          13.780000000000001,
          14.040000000000001,
          14.3,
          14.56,
          14.82,
          15.08,
          15.34,
          15.600000000000001,
          15.860000000000001,
          16.12,
          16.38,
          16.64,
          16.900000000000002,
          17.16,
          17.42,
          17.68,
          17.94,
          18.2,
          18.46,
          18.72,
          18.98,
          19.240000000000002,
          19.5,
          19.76,
          20.02,
          20.28,
          20.54,
          20.8,
          21.060000000000002,
          21.32,
          21.580000000000002,
          21.84,
          22.1,
          22.36,
          22.62,
          22.880000000000003,
          23.14,
          23.400000000000002,
          23.66,
          23.92,
          24.18,
          24.44,
          24.7,
          24.96,
          25.220000000000002,
          25.48,
          25.740000000000002,
          26
         ],
         "xaxis": "x6",
         "y": [
          0.053361547462168445,
          0.053361547462168445,
          0.07919299378319251,
          0.07919299378319251,
          0.07919299378319251,
          0.07919299378319251,
          0.07919299378319251,
          0.07919299378319251,
          0.07919299378319251,
          0.07919299378319251,
          0.07919299378319251,
          0.07919299378319251,
          0.07919299378319251,
          0.07919299378319251,
          0.07919299378319251,
          0.07919299378319251,
          0.07919299378319251,
          0.07919299378319251,
          0.07919299378319251,
          0.07919299378319251,
          0.07919299378319251,
          0.07919299378319251,
          0.07919299378319251,
          0.07919299378319251,
          0.07919299378319251,
          0.07919299378319251,
          0.07919299378319251,
          0.07477247002435754,
          0.07477247002435754,
          0.07477247002435754,
          0.07477247002435754,
          0.07477247002435754,
          0.07477247002435754,
          0.07477247002435754,
          0.07477247002435754,
          0.07477247002435754,
          0.07477247002435754,
          0.07477247002435754,
          0.07477247002435754,
          0.07477247002435754,
          0.07477247002435754,
          0.07477247002435754,
          0.07477247002435754,
          0.07477247002435754,
          0.07477247002435754,
          0.07477247002435754,
          0.07477247002435754,
          0.07477247002435754,
          0.07477247002435754,
          0.07477247002435754,
          0.07477247002435754,
          0.07477247002435754,
          0.07477247002435754,
          0.07477247002435754,
          0.07477247002435754,
          0.07477247002435754,
          0.05337293982779502,
          0.05337293982779502,
          0.05337293982779502,
          0.05337293982779502,
          0.05337293982779502,
          0.05337293982779502,
          0.05337293982779502,
          0.05337293982779502,
          0.05337293982779502,
          0.05337293982779502,
          0.05337293982779502,
          0.05337293982779502,
          0.05337293982779502,
          0.05337293982779502,
          0.05337293982779502,
          0.05337293982779502,
          0.05337293982779502,
          0.05337293982779502,
          0.13400293100626218,
          0.13400293100626218,
          0.2045741490614278,
          0.2045741490614278,
          0.2045741490614278,
          0.2045741490614278,
          0.2045741490614278,
          0.2045741490614278,
          0.2045741490614278,
          0.2670778498201852,
          0.2670778498201852,
          0.2670778498201852,
          0.2670778498201852,
          0.2670778498201852,
          0.2670778498201852,
          0.20611919953677266,
          0.20611919953677266,
          0.20611919953677266,
          0.20611919953677266,
          0.20611919953677266,
          0.20611919953677266,
          0.20611919953677266,
          0.20611919953677266,
          0.20611919953677266,
          0.20611919953677266,
          0.15628559986692614,
          0.15628559986692614
         ],
         "yaxis": "y6"
        },
        {
         "customdata": [
          [
           "</br>id: 1833</br>prediction: 0.053</br>minute: 0</br></br>h_a: 0.0</br>situation: 2.0</br>shotType: 0.0</br>lastAction: 0.0</br>distanceToGoal: 9.53310076709881</br>angleToGoal: 40.4664837945122</br>_original_yhat_: 0.053361547462168445</br>"
          ],
          [
           "</br>id: 1833</br>prediction: 0.053</br>minute: 1</br></br>h_a: 0.0</br>situation: 2.0</br>shotType: 0.0</br>lastAction: 0.0</br>distanceToGoal: 9.53310076709881</br>angleToGoal: 40.4664837945122</br>_original_yhat_: 0.053361547462168445</br>"
          ],
          [
           "</br>id: 1833</br>prediction: 0.053</br>minute: 2</br></br>h_a: 0.0</br>situation: 2.0</br>shotType: 0.0</br>lastAction: 0.0</br>distanceToGoal: 9.53310076709881</br>angleToGoal: 40.4664837945122</br>_original_yhat_: 0.053361547462168445</br>"
          ],
          [
           "</br>id: 1833</br>prediction: 0.053</br>minute: 3</br></br>h_a: 0.0</br>situation: 2.0</br>shotType: 0.0</br>lastAction: 0.0</br>distanceToGoal: 9.53310076709881</br>angleToGoal: 40.4664837945122</br>_original_yhat_: 0.053361547462168445</br>"
          ],
          [
           "</br>id: 1833</br>prediction: 0.106</br>minute: 4</br></br>h_a: 0.0</br>situation: 2.0</br>shotType: 0.0</br>lastAction: 0.0</br>distanceToGoal: 9.53310076709881</br>angleToGoal: 40.4664837945122</br>_original_yhat_: 0.053361547462168445</br>"
          ],
          [
           "</br>id: 1833</br>prediction: 0.106</br>minute: 5</br></br>h_a: 0.0</br>situation: 2.0</br>shotType: 0.0</br>lastAction: 0.0</br>distanceToGoal: 9.53310076709881</br>angleToGoal: 40.4664837945122</br>_original_yhat_: 0.053361547462168445</br>"
          ],
          [
           "</br>id: 1833</br>prediction: 0.112</br>minute: 6</br></br>h_a: 0.0</br>situation: 2.0</br>shotType: 0.0</br>lastAction: 0.0</br>distanceToGoal: 9.53310076709881</br>angleToGoal: 40.4664837945122</br>_original_yhat_: 0.053361547462168445</br>"
          ],
          [
           "</br>id: 1833</br>prediction: 0.112</br>minute: 7</br></br>h_a: 0.0</br>situation: 2.0</br>shotType: 0.0</br>lastAction: 0.0</br>distanceToGoal: 9.53310076709881</br>angleToGoal: 40.4664837945122</br>_original_yhat_: 0.053361547462168445</br>"
          ],
          [
           "</br>id: 1833</br>prediction: 0.112</br>minute: 8</br></br>h_a: 0.0</br>situation: 2.0</br>shotType: 0.0</br>lastAction: 0.0</br>distanceToGoal: 9.53310076709881</br>angleToGoal: 40.4664837945122</br>_original_yhat_: 0.053361547462168445</br>"
          ],
          [
           "</br>id: 1833</br>prediction: 0.112</br>minute: 9</br></br>h_a: 0.0</br>situation: 2.0</br>shotType: 0.0</br>lastAction: 0.0</br>distanceToGoal: 9.53310076709881</br>angleToGoal: 40.4664837945122</br>_original_yhat_: 0.053361547462168445</br>"
          ],
          [
           "</br>id: 1833</br>prediction: 0.083</br>minute: 10</br></br>h_a: 0.0</br>situation: 2.0</br>shotType: 0.0</br>lastAction: 0.0</br>distanceToGoal: 9.53310076709881</br>angleToGoal: 40.4664837945122</br>_original_yhat_: 0.053361547462168445</br>"
          ],
          [
           "</br>id: 1833</br>prediction: 0.094</br>minute: 11</br></br>h_a: 0.0</br>situation: 2.0</br>shotType: 0.0</br>lastAction: 0.0</br>distanceToGoal: 9.53310076709881</br>angleToGoal: 40.4664837945122</br>_original_yhat_: 0.053361547462168445</br>"
          ],
          [
           "</br>id: 1833</br>prediction: 0.098</br>minute: 12</br></br>h_a: 0.0</br>situation: 2.0</br>shotType: 0.0</br>lastAction: 0.0</br>distanceToGoal: 9.53310076709881</br>angleToGoal: 40.4664837945122</br>_original_yhat_: 0.053361547462168445</br>"
          ],
          [
           "</br>id: 1833</br>prediction: 0.098</br>minute: 13</br></br>h_a: 0.0</br>situation: 2.0</br>shotType: 0.0</br>lastAction: 0.0</br>distanceToGoal: 9.53310076709881</br>angleToGoal: 40.4664837945122</br>_original_yhat_: 0.053361547462168445</br>"
          ],
          [
           "</br>id: 1833</br>prediction: 0.097</br>minute: 14</br></br>h_a: 0.0</br>situation: 2.0</br>shotType: 0.0</br>lastAction: 0.0</br>distanceToGoal: 9.53310076709881</br>angleToGoal: 40.4664837945122</br>_original_yhat_: 0.053361547462168445</br>"
          ],
          [
           "</br>id: 1833</br>prediction: 0.097</br>minute: 15</br></br>h_a: 0.0</br>situation: 2.0</br>shotType: 0.0</br>lastAction: 0.0</br>distanceToGoal: 9.53310076709881</br>angleToGoal: 40.4664837945122</br>_original_yhat_: 0.053361547462168445</br>"
          ],
          [
           "</br>id: 1833</br>prediction: 0.097</br>minute: 16</br></br>h_a: 0.0</br>situation: 2.0</br>shotType: 0.0</br>lastAction: 0.0</br>distanceToGoal: 9.53310076709881</br>angleToGoal: 40.4664837945122</br>_original_yhat_: 0.053361547462168445</br>"
          ],
          [
           "</br>id: 1833</br>prediction: 0.097</br>minute: 17</br></br>h_a: 0.0</br>situation: 2.0</br>shotType: 0.0</br>lastAction: 0.0</br>distanceToGoal: 9.53310076709881</br>angleToGoal: 40.4664837945122</br>_original_yhat_: 0.053361547462168445</br>"
          ],
          [
           "</br>id: 1833</br>prediction: 0.097</br>minute: 18</br></br>h_a: 0.0</br>situation: 2.0</br>shotType: 0.0</br>lastAction: 0.0</br>distanceToGoal: 9.53310076709881</br>angleToGoal: 40.4664837945122</br>_original_yhat_: 0.053361547462168445</br>"
          ],
          [
           "</br>id: 1833</br>prediction: 0.097</br>minute: 19</br></br>h_a: 0.0</br>situation: 2.0</br>shotType: 0.0</br>lastAction: 0.0</br>distanceToGoal: 9.53310076709881</br>angleToGoal: 40.4664837945122</br>_original_yhat_: 0.053361547462168445</br>"
          ],
          [
           "</br>id: 1833</br>prediction: 0.097</br>minute: 20</br></br>h_a: 0.0</br>situation: 2.0</br>shotType: 0.0</br>lastAction: 0.0</br>distanceToGoal: 9.53310076709881</br>angleToGoal: 40.4664837945122</br>_original_yhat_: 0.053361547462168445</br>"
          ],
          [
           "</br>id: 1833</br>prediction: 0.097</br>minute: 21</br></br>h_a: 0.0</br>situation: 2.0</br>shotType: 0.0</br>lastAction: 0.0</br>distanceToGoal: 9.53310076709881</br>angleToGoal: 40.4664837945122</br>_original_yhat_: 0.053361547462168445</br>"
          ],
          [
           "</br>id: 1833</br>prediction: 0.097</br>minute: 22</br></br>h_a: 0.0</br>situation: 2.0</br>shotType: 0.0</br>lastAction: 0.0</br>distanceToGoal: 9.53310076709881</br>angleToGoal: 40.4664837945122</br>_original_yhat_: 0.053361547462168445</br>"
          ],
          [
           "</br>id: 1833</br>prediction: 0.097</br>minute: 23</br></br>h_a: 0.0</br>situation: 2.0</br>shotType: 0.0</br>lastAction: 0.0</br>distanceToGoal: 9.53310076709881</br>angleToGoal: 40.4664837945122</br>_original_yhat_: 0.053361547462168445</br>"
          ],
          [
           "</br>id: 1833</br>prediction: 0.097</br>minute: 24</br></br>h_a: 0.0</br>situation: 2.0</br>shotType: 0.0</br>lastAction: 0.0</br>distanceToGoal: 9.53310076709881</br>angleToGoal: 40.4664837945122</br>_original_yhat_: 0.053361547462168445</br>"
          ],
          [
           "</br>id: 1833</br>prediction: 0.097</br>minute: 25</br></br>h_a: 0.0</br>situation: 2.0</br>shotType: 0.0</br>lastAction: 0.0</br>distanceToGoal: 9.53310076709881</br>angleToGoal: 40.4664837945122</br>_original_yhat_: 0.053361547462168445</br>"
          ],
          [
           "</br>id: 1833</br>prediction: 0.097</br>minute: 26</br></br>h_a: 0.0</br>situation: 2.0</br>shotType: 0.0</br>lastAction: 0.0</br>distanceToGoal: 9.53310076709881</br>angleToGoal: 40.4664837945122</br>_original_yhat_: 0.053361547462168445</br>"
          ],
          [
           "</br>id: 1833</br>prediction: 0.097</br>minute: 27</br></br>h_a: 0.0</br>situation: 2.0</br>shotType: 0.0</br>lastAction: 0.0</br>distanceToGoal: 9.53310076709881</br>angleToGoal: 40.4664837945122</br>_original_yhat_: 0.053361547462168445</br>"
          ],
          [
           "</br>id: 1833</br>prediction: 0.097</br>minute: 28</br></br>h_a: 0.0</br>situation: 2.0</br>shotType: 0.0</br>lastAction: 0.0</br>distanceToGoal: 9.53310076709881</br>angleToGoal: 40.4664837945122</br>_original_yhat_: 0.053361547462168445</br>"
          ],
          [
           "</br>id: 1833</br>prediction: 0.097</br>minute: 29</br></br>h_a: 0.0</br>situation: 2.0</br>shotType: 0.0</br>lastAction: 0.0</br>distanceToGoal: 9.53310076709881</br>angleToGoal: 40.4664837945122</br>_original_yhat_: 0.053361547462168445</br>"
          ],
          [
           "</br>id: 1833</br>prediction: 0.097</br>minute: 30</br></br>h_a: 0.0</br>situation: 2.0</br>shotType: 0.0</br>lastAction: 0.0</br>distanceToGoal: 9.53310076709881</br>angleToGoal: 40.4664837945122</br>_original_yhat_: 0.053361547462168445</br>"
          ],
          [
           "</br>id: 1833</br>prediction: 0.097</br>minute: 31</br></br>h_a: 0.0</br>situation: 2.0</br>shotType: 0.0</br>lastAction: 0.0</br>distanceToGoal: 9.53310076709881</br>angleToGoal: 40.4664837945122</br>_original_yhat_: 0.053361547462168445</br>"
          ],
          [
           "</br>id: 1833</br>prediction: 0.097</br>minute: 32</br></br>h_a: 0.0</br>situation: 2.0</br>shotType: 0.0</br>lastAction: 0.0</br>distanceToGoal: 9.53310076709881</br>angleToGoal: 40.4664837945122</br>_original_yhat_: 0.053361547462168445</br>"
          ],
          [
           "</br>id: 1833</br>prediction: 0.097</br>minute: 33</br></br>h_a: 0.0</br>situation: 2.0</br>shotType: 0.0</br>lastAction: 0.0</br>distanceToGoal: 9.53310076709881</br>angleToGoal: 40.4664837945122</br>_original_yhat_: 0.053361547462168445</br>"
          ],
          [
           "</br>id: 1833</br>prediction: 0.087</br>minute: 34</br></br>h_a: 0.0</br>situation: 2.0</br>shotType: 0.0</br>lastAction: 0.0</br>distanceToGoal: 9.53310076709881</br>angleToGoal: 40.4664837945122</br>_original_yhat_: 0.053361547462168445</br>"
          ],
          [
           "</br>id: 1833</br>prediction: 0.087</br>minute: 35</br></br>h_a: 0.0</br>situation: 2.0</br>shotType: 0.0</br>lastAction: 0.0</br>distanceToGoal: 9.53310076709881</br>angleToGoal: 40.4664837945122</br>_original_yhat_: 0.053361547462168445</br>"
          ],
          [
           "</br>id: 1833</br>prediction: 0.087</br>minute: 36</br></br>h_a: 0.0</br>situation: 2.0</br>shotType: 0.0</br>lastAction: 0.0</br>distanceToGoal: 9.53310076709881</br>angleToGoal: 40.4664837945122</br>_original_yhat_: 0.053361547462168445</br>"
          ],
          [
           "</br>id: 1833</br>prediction: 0.087</br>minute: 37</br></br>h_a: 0.0</br>situation: 2.0</br>shotType: 0.0</br>lastAction: 0.0</br>distanceToGoal: 9.53310076709881</br>angleToGoal: 40.4664837945122</br>_original_yhat_: 0.053361547462168445</br>"
          ],
          [
           "</br>id: 1833</br>prediction: 0.087</br>minute: 38</br></br>h_a: 0.0</br>situation: 2.0</br>shotType: 0.0</br>lastAction: 0.0</br>distanceToGoal: 9.53310076709881</br>angleToGoal: 40.4664837945122</br>_original_yhat_: 0.053361547462168445</br>"
          ],
          [
           "</br>id: 1833</br>prediction: 0.087</br>minute: 39</br></br>h_a: 0.0</br>situation: 2.0</br>shotType: 0.0</br>lastAction: 0.0</br>distanceToGoal: 9.53310076709881</br>angleToGoal: 40.4664837945122</br>_original_yhat_: 0.053361547462168445</br>"
          ],
          [
           "</br>id: 1833</br>prediction: 0.087</br>minute: 40</br></br>h_a: 0.0</br>situation: 2.0</br>shotType: 0.0</br>lastAction: 0.0</br>distanceToGoal: 9.53310076709881</br>angleToGoal: 40.4664837945122</br>_original_yhat_: 0.053361547462168445</br>"
          ],
          [
           "</br>id: 1833</br>prediction: 0.087</br>minute: 41</br></br>h_a: 0.0</br>situation: 2.0</br>shotType: 0.0</br>lastAction: 0.0</br>distanceToGoal: 9.53310076709881</br>angleToGoal: 40.4664837945122</br>_original_yhat_: 0.053361547462168445</br>"
          ],
          [
           "</br>id: 1833</br>prediction: 0.087</br>minute: 42</br></br>h_a: 0.0</br>situation: 2.0</br>shotType: 0.0</br>lastAction: 0.0</br>distanceToGoal: 9.53310076709881</br>angleToGoal: 40.4664837945122</br>_original_yhat_: 0.053361547462168445</br>"
          ],
          [
           "</br>id: 1833</br>prediction: 0.087</br>minute: 43</br></br>h_a: 0.0</br>situation: 2.0</br>shotType: 0.0</br>lastAction: 0.0</br>distanceToGoal: 9.53310076709881</br>angleToGoal: 40.4664837945122</br>_original_yhat_: 0.053361547462168445</br>"
          ],
          [
           "</br>id: 1833</br>prediction: 0.087</br>minute: 44</br></br>h_a: 0.0</br>situation: 2.0</br>shotType: 0.0</br>lastAction: 0.0</br>distanceToGoal: 9.53310076709881</br>angleToGoal: 40.4664837945122</br>_original_yhat_: 0.053361547462168445</br>"
          ],
          [
           "</br>id: 1833</br>prediction: 0.087</br>minute: 45</br></br>h_a: 0.0</br>situation: 2.0</br>shotType: 0.0</br>lastAction: 0.0</br>distanceToGoal: 9.53310076709881</br>angleToGoal: 40.4664837945122</br>_original_yhat_: 0.053361547462168445</br>"
          ],
          [
           "</br>id: 1833</br>prediction: 0.087</br>minute: 46</br></br>h_a: 0.0</br>situation: 2.0</br>shotType: 0.0</br>lastAction: 0.0</br>distanceToGoal: 9.53310076709881</br>angleToGoal: 40.4664837945122</br>_original_yhat_: 0.053361547462168445</br>"
          ],
          [
           "</br>id: 1833</br>prediction: 0.087</br>minute: 47</br></br>h_a: 0.0</br>situation: 2.0</br>shotType: 0.0</br>lastAction: 0.0</br>distanceToGoal: 9.53310076709881</br>angleToGoal: 40.4664837945122</br>_original_yhat_: 0.053361547462168445</br>"
          ],
          [
           "</br>id: 1833</br>prediction: 0.087</br>minute: 48</br></br>h_a: 0.0</br>situation: 2.0</br>shotType: 0.0</br>lastAction: 0.0</br>distanceToGoal: 9.53310076709881</br>angleToGoal: 40.4664837945122</br>_original_yhat_: 0.053361547462168445</br>"
          ],
          [
           "</br>id: 1833</br>prediction: 0.087</br>minute: 49</br></br>h_a: 0.0</br>situation: 2.0</br>shotType: 0.0</br>lastAction: 0.0</br>distanceToGoal: 9.53310076709881</br>angleToGoal: 40.4664837945122</br>_original_yhat_: 0.053361547462168445</br>"
          ],
          [
           "</br>id: 1833</br>prediction: 0.087</br>minute: 50</br></br>h_a: 0.0</br>situation: 2.0</br>shotType: 0.0</br>lastAction: 0.0</br>distanceToGoal: 9.53310076709881</br>angleToGoal: 40.4664837945122</br>_original_yhat_: 0.053361547462168445</br>"
          ],
          [
           "</br>id: 1833</br>prediction: 0.087</br>minute: 51</br></br>h_a: 0.0</br>situation: 2.0</br>shotType: 0.0</br>lastAction: 0.0</br>distanceToGoal: 9.53310076709881</br>angleToGoal: 40.4664837945122</br>_original_yhat_: 0.053361547462168445</br>"
          ],
          [
           "</br>id: 1833</br>prediction: 0.087</br>minute: 52</br></br>h_a: 0.0</br>situation: 2.0</br>shotType: 0.0</br>lastAction: 0.0</br>distanceToGoal: 9.53310076709881</br>angleToGoal: 40.4664837945122</br>_original_yhat_: 0.053361547462168445</br>"
          ],
          [
           "</br>id: 1833</br>prediction: 0.089</br>minute: 53</br></br>h_a: 0.0</br>situation: 2.0</br>shotType: 0.0</br>lastAction: 0.0</br>distanceToGoal: 9.53310076709881</br>angleToGoal: 40.4664837945122</br>_original_yhat_: 0.053361547462168445</br>"
          ],
          [
           "</br>id: 1833</br>prediction: 0.089</br>minute: 54</br></br>h_a: 0.0</br>situation: 2.0</br>shotType: 0.0</br>lastAction: 0.0</br>distanceToGoal: 9.53310076709881</br>angleToGoal: 40.4664837945122</br>_original_yhat_: 0.053361547462168445</br>"
          ],
          [
           "</br>id: 1833</br>prediction: 0.089</br>minute: 55</br></br>h_a: 0.0</br>situation: 2.0</br>shotType: 0.0</br>lastAction: 0.0</br>distanceToGoal: 9.53310076709881</br>angleToGoal: 40.4664837945122</br>_original_yhat_: 0.053361547462168445</br>"
          ],
          [
           "</br>id: 1833</br>prediction: 0.089</br>minute: 56</br></br>h_a: 0.0</br>situation: 2.0</br>shotType: 0.0</br>lastAction: 0.0</br>distanceToGoal: 9.53310076709881</br>angleToGoal: 40.4664837945122</br>_original_yhat_: 0.053361547462168445</br>"
          ],
          [
           "</br>id: 1833</br>prediction: 0.089</br>minute: 57</br></br>h_a: 0.0</br>situation: 2.0</br>shotType: 0.0</br>lastAction: 0.0</br>distanceToGoal: 9.53310076709881</br>angleToGoal: 40.4664837945122</br>_original_yhat_: 0.053361547462168445</br>"
          ],
          [
           "</br>id: 1833</br>prediction: 0.089</br>minute: 58</br></br>h_a: 0.0</br>situation: 2.0</br>shotType: 0.0</br>lastAction: 0.0</br>distanceToGoal: 9.53310076709881</br>angleToGoal: 40.4664837945122</br>_original_yhat_: 0.053361547462168445</br>"
          ],
          [
           "</br>id: 1833</br>prediction: 0.089</br>minute: 59</br></br>h_a: 0.0</br>situation: 2.0</br>shotType: 0.0</br>lastAction: 0.0</br>distanceToGoal: 9.53310076709881</br>angleToGoal: 40.4664837945122</br>_original_yhat_: 0.053361547462168445</br>"
          ],
          [
           "</br>id: 1833</br>prediction: 0.089</br>minute: 60</br></br>h_a: 0.0</br>situation: 2.0</br>shotType: 0.0</br>lastAction: 0.0</br>distanceToGoal: 9.53310076709881</br>angleToGoal: 40.4664837945122</br>_original_yhat_: 0.053361547462168445</br>"
          ],
          [
           "</br>id: 1833</br>prediction: 0.089</br>minute: 61</br></br>h_a: 0.0</br>situation: 2.0</br>shotType: 0.0</br>lastAction: 0.0</br>distanceToGoal: 9.53310076709881</br>angleToGoal: 40.4664837945122</br>_original_yhat_: 0.053361547462168445</br>"
          ],
          [
           "</br>id: 1833</br>prediction: 0.089</br>minute: 62</br></br>h_a: 0.0</br>situation: 2.0</br>shotType: 0.0</br>lastAction: 0.0</br>distanceToGoal: 9.53310076709881</br>angleToGoal: 40.4664837945122</br>_original_yhat_: 0.053361547462168445</br>"
          ],
          [
           "</br>id: 1833</br>prediction: 0.089</br>minute: 63</br></br>h_a: 0.0</br>situation: 2.0</br>shotType: 0.0</br>lastAction: 0.0</br>distanceToGoal: 9.53310076709881</br>angleToGoal: 40.4664837945122</br>_original_yhat_: 0.053361547462168445</br>"
          ],
          [
           "</br>id: 1833</br>prediction: 0.089</br>minute: 64</br></br>h_a: 0.0</br>situation: 2.0</br>shotType: 0.0</br>lastAction: 0.0</br>distanceToGoal: 9.53310076709881</br>angleToGoal: 40.4664837945122</br>_original_yhat_: 0.053361547462168445</br>"
          ],
          [
           "</br>id: 1833</br>prediction: 0.089</br>minute: 65</br></br>h_a: 0.0</br>situation: 2.0</br>shotType: 0.0</br>lastAction: 0.0</br>distanceToGoal: 9.53310076709881</br>angleToGoal: 40.4664837945122</br>_original_yhat_: 0.053361547462168445</br>"
          ],
          [
           "</br>id: 1833</br>prediction: 0.089</br>minute: 66</br></br>h_a: 0.0</br>situation: 2.0</br>shotType: 0.0</br>lastAction: 0.0</br>distanceToGoal: 9.53310076709881</br>angleToGoal: 40.4664837945122</br>_original_yhat_: 0.053361547462168445</br>"
          ],
          [
           "</br>id: 1833</br>prediction: 0.089</br>minute: 67</br></br>h_a: 0.0</br>situation: 2.0</br>shotType: 0.0</br>lastAction: 0.0</br>distanceToGoal: 9.53310076709881</br>angleToGoal: 40.4664837945122</br>_original_yhat_: 0.053361547462168445</br>"
          ],
          [
           "</br>id: 1833</br>prediction: 0.089</br>minute: 68</br></br>h_a: 0.0</br>situation: 2.0</br>shotType: 0.0</br>lastAction: 0.0</br>distanceToGoal: 9.53310076709881</br>angleToGoal: 40.4664837945122</br>_original_yhat_: 0.053361547462168445</br>"
          ],
          [
           "</br>id: 1833</br>prediction: 0.089</br>minute: 69</br></br>h_a: 0.0</br>situation: 2.0</br>shotType: 0.0</br>lastAction: 0.0</br>distanceToGoal: 9.53310076709881</br>angleToGoal: 40.4664837945122</br>_original_yhat_: 0.053361547462168445</br>"
          ],
          [
           "</br>id: 1833</br>prediction: 0.089</br>minute: 70</br></br>h_a: 0.0</br>situation: 2.0</br>shotType: 0.0</br>lastAction: 0.0</br>distanceToGoal: 9.53310076709881</br>angleToGoal: 40.4664837945122</br>_original_yhat_: 0.053361547462168445</br>"
          ],
          [
           "</br>id: 1833</br>prediction: 0.089</br>minute: 71</br></br>h_a: 0.0</br>situation: 2.0</br>shotType: 0.0</br>lastAction: 0.0</br>distanceToGoal: 9.53310076709881</br>angleToGoal: 40.4664837945122</br>_original_yhat_: 0.053361547462168445</br>"
          ],
          [
           "</br>id: 1833</br>prediction: 0.089</br>minute: 72</br></br>h_a: 0.0</br>situation: 2.0</br>shotType: 0.0</br>lastAction: 0.0</br>distanceToGoal: 9.53310076709881</br>angleToGoal: 40.4664837945122</br>_original_yhat_: 0.053361547462168445</br>"
          ],
          [
           "</br>id: 1833</br>prediction: 0.089</br>minute: 73</br></br>h_a: 0.0</br>situation: 2.0</br>shotType: 0.0</br>lastAction: 0.0</br>distanceToGoal: 9.53310076709881</br>angleToGoal: 40.4664837945122</br>_original_yhat_: 0.053361547462168445</br>"
          ],
          [
           "</br>id: 1833</br>prediction: 0.089</br>minute: 74</br></br>h_a: 0.0</br>situation: 2.0</br>shotType: 0.0</br>lastAction: 0.0</br>distanceToGoal: 9.53310076709881</br>angleToGoal: 40.4664837945122</br>_original_yhat_: 0.053361547462168445</br>"
          ],
          [
           "</br>id: 1833</br>prediction: 0.092</br>minute: 75</br></br>h_a: 0.0</br>situation: 2.0</br>shotType: 0.0</br>lastAction: 0.0</br>distanceToGoal: 9.53310076709881</br>angleToGoal: 40.4664837945122</br>_original_yhat_: 0.053361547462168445</br>"
          ],
          [
           "</br>id: 1833</br>prediction: 0.092</br>minute: 76</br></br>h_a: 0.0</br>situation: 2.0</br>shotType: 0.0</br>lastAction: 0.0</br>distanceToGoal: 9.53310076709881</br>angleToGoal: 40.4664837945122</br>_original_yhat_: 0.053361547462168445</br>"
          ],
          [
           "</br>id: 1833</br>prediction: 0.092</br>minute: 77</br></br>h_a: 0.0</br>situation: 2.0</br>shotType: 0.0</br>lastAction: 0.0</br>distanceToGoal: 9.53310076709881</br>angleToGoal: 40.4664837945122</br>_original_yhat_: 0.053361547462168445</br>"
          ],
          [
           "</br>id: 1833</br>prediction: 0.092</br>minute: 78</br></br>h_a: 0.0</br>situation: 2.0</br>shotType: 0.0</br>lastAction: 0.0</br>distanceToGoal: 9.53310076709881</br>angleToGoal: 40.4664837945122</br>_original_yhat_: 0.053361547462168445</br>"
          ],
          [
           "</br>id: 1833</br>prediction: 0.092</br>minute: 79</br></br>h_a: 0.0</br>situation: 2.0</br>shotType: 0.0</br>lastAction: 0.0</br>distanceToGoal: 9.53310076709881</br>angleToGoal: 40.4664837945122</br>_original_yhat_: 0.053361547462168445</br>"
          ],
          [
           "</br>id: 1833</br>prediction: 0.092</br>minute: 80</br></br>h_a: 0.0</br>situation: 2.0</br>shotType: 0.0</br>lastAction: 0.0</br>distanceToGoal: 9.53310076709881</br>angleToGoal: 40.4664837945122</br>_original_yhat_: 0.053361547462168445</br>"
          ],
          [
           "</br>id: 1833</br>prediction: 0.092</br>minute: 81</br></br>h_a: 0.0</br>situation: 2.0</br>shotType: 0.0</br>lastAction: 0.0</br>distanceToGoal: 9.53310076709881</br>angleToGoal: 40.4664837945122</br>_original_yhat_: 0.053361547462168445</br>"
          ],
          [
           "</br>id: 1833</br>prediction: 0.092</br>minute: 82</br></br>h_a: 0.0</br>situation: 2.0</br>shotType: 0.0</br>lastAction: 0.0</br>distanceToGoal: 9.53310076709881</br>angleToGoal: 40.4664837945122</br>_original_yhat_: 0.053361547462168445</br>"
          ],
          [
           "</br>id: 1833</br>prediction: 0.092</br>minute: 83</br></br>h_a: 0.0</br>situation: 2.0</br>shotType: 0.0</br>lastAction: 0.0</br>distanceToGoal: 9.53310076709881</br>angleToGoal: 40.4664837945122</br>_original_yhat_: 0.053361547462168445</br>"
          ],
          [
           "</br>id: 1833</br>prediction: 0.092</br>minute: 84</br></br>h_a: 0.0</br>situation: 2.0</br>shotType: 0.0</br>lastAction: 0.0</br>distanceToGoal: 9.53310076709881</br>angleToGoal: 40.4664837945122</br>_original_yhat_: 0.053361547462168445</br>"
          ],
          [
           "</br>id: 1833</br>prediction: 0.092</br>minute: 85</br></br>h_a: 0.0</br>situation: 2.0</br>shotType: 0.0</br>lastAction: 0.0</br>distanceToGoal: 9.53310076709881</br>angleToGoal: 40.4664837945122</br>_original_yhat_: 0.053361547462168445</br>"
          ],
          [
           "</br>id: 1833</br>prediction: 0.092</br>minute: 86</br></br>h_a: 0.0</br>situation: 2.0</br>shotType: 0.0</br>lastAction: 0.0</br>distanceToGoal: 9.53310076709881</br>angleToGoal: 40.4664837945122</br>_original_yhat_: 0.053361547462168445</br>"
          ],
          [
           "</br>id: 1833</br>prediction: 0.092</br>minute: 87</br></br>h_a: 0.0</br>situation: 2.0</br>shotType: 0.0</br>lastAction: 0.0</br>distanceToGoal: 9.53310076709881</br>angleToGoal: 40.4664837945122</br>_original_yhat_: 0.053361547462168445</br>"
          ],
          [
           "</br>id: 1833</br>prediction: 0.092</br>minute: 88</br></br>h_a: 0.0</br>situation: 2.0</br>shotType: 0.0</br>lastAction: 0.0</br>distanceToGoal: 9.53310076709881</br>angleToGoal: 40.4664837945122</br>_original_yhat_: 0.053361547462168445</br>"
          ],
          [
           "</br>id: 1833</br>prediction: 0.101</br>minute: 89</br></br>h_a: 0.0</br>situation: 2.0</br>shotType: 0.0</br>lastAction: 0.0</br>distanceToGoal: 9.53310076709881</br>angleToGoal: 40.4664837945122</br>_original_yhat_: 0.053361547462168445</br>"
          ],
          [
           "</br>id: 1833</br>prediction: 0.184</br>minute: 90</br></br>h_a: 0.0</br>situation: 2.0</br>shotType: 0.0</br>lastAction: 0.0</br>distanceToGoal: 9.53310076709881</br>angleToGoal: 40.4664837945122</br>_original_yhat_: 0.053361547462168445</br>"
          ],
          [
           "</br>id: 1833</br>prediction: 0.184</br>minute: 91</br></br>h_a: 0.0</br>situation: 2.0</br>shotType: 0.0</br>lastAction: 0.0</br>distanceToGoal: 9.53310076709881</br>angleToGoal: 40.4664837945122</br>_original_yhat_: 0.053361547462168445</br>"
          ],
          [
           "</br>id: 1833</br>prediction: 0.184</br>minute: 92</br></br>h_a: 0.0</br>situation: 2.0</br>shotType: 0.0</br>lastAction: 0.0</br>distanceToGoal: 9.53310076709881</br>angleToGoal: 40.4664837945122</br>_original_yhat_: 0.053361547462168445</br>"
          ],
          [
           "</br>id: 1833</br>prediction: 0.184</br>minute: 93</br></br>h_a: 0.0</br>situation: 2.0</br>shotType: 0.0</br>lastAction: 0.0</br>distanceToGoal: 9.53310076709881</br>angleToGoal: 40.4664837945122</br>_original_yhat_: 0.053361547462168445</br>"
          ],
          [
           "</br>id: 1833</br>prediction: 0.184</br>minute: 94</br></br>h_a: 0.0</br>situation: 2.0</br>shotType: 0.0</br>lastAction: 0.0</br>distanceToGoal: 9.53310076709881</br>angleToGoal: 40.4664837945122</br>_original_yhat_: 0.053361547462168445</br>"
          ],
          [
           "</br>id: 1833</br>prediction: 0.184</br>minute: 95</br></br>h_a: 0.0</br>situation: 2.0</br>shotType: 0.0</br>lastAction: 0.0</br>distanceToGoal: 9.53310076709881</br>angleToGoal: 40.4664837945122</br>_original_yhat_: 0.053361547462168445</br>"
          ],
          [
           "</br>id: 1833</br>prediction: 0.184</br>minute: 96</br></br>h_a: 0.0</br>situation: 2.0</br>shotType: 0.0</br>lastAction: 0.0</br>distanceToGoal: 9.53310076709881</br>angleToGoal: 40.4664837945122</br>_original_yhat_: 0.053361547462168445</br>"
          ],
          [
           "</br>id: 1833</br>prediction: 0.184</br>minute: 97</br></br>h_a: 0.0</br>situation: 2.0</br>shotType: 0.0</br>lastAction: 0.0</br>distanceToGoal: 9.53310076709881</br>angleToGoal: 40.4664837945122</br>_original_yhat_: 0.053361547462168445</br>"
          ],
          [
           "</br>id: 1833</br>prediction: 0.184</br>minute: 98</br></br>h_a: 0.0</br>situation: 2.0</br>shotType: 0.0</br>lastAction: 0.0</br>distanceToGoal: 9.53310076709881</br>angleToGoal: 40.4664837945122</br>_original_yhat_: 0.053361547462168445</br>"
          ],
          [
           "</br>id: 1833</br>prediction: 0.184</br>minute: 99</br></br>h_a: 0.0</br>situation: 2.0</br>shotType: 0.0</br>lastAction: 0.0</br>distanceToGoal: 9.53310076709881</br>angleToGoal: 40.4664837945122</br>_original_yhat_: 0.053361547462168445</br>"
          ],
          [
           "</br>id: 1833</br>prediction: 0.184</br>minute: 100</br></br>h_a: 0.0</br>situation: 2.0</br>shotType: 0.0</br>lastAction: 0.0</br>distanceToGoal: 9.53310076709881</br>angleToGoal: 40.4664837945122</br>_original_yhat_: 0.053361547462168445</br>"
          ]
         ],
         "hovertemplate": "%{customdata[0]}<extra></extra>",
         "legendgroup": "Gradient Boosting",
         "line": {
          "color": "#8bdcbe",
          "dash": "solid",
          "width": 2
         },
         "marker": {
          "symbol": "circle"
         },
         "mode": "lines",
         "name": "Gradient Boosting",
         "opacity": 1,
         "showlegend": false,
         "type": "scattergl",
         "x": [
          0,
          1,
          2,
          3,
          4,
          5,
          6,
          7,
          8,
          9,
          10,
          11,
          12,
          13,
          14,
          15,
          16,
          17,
          18,
          19,
          20,
          21,
          22,
          23,
          24,
          25,
          26,
          27,
          28,
          29,
          30,
          31,
          32,
          33,
          34,
          35,
          36,
          37,
          38,
          39,
          40,
          41,
          42,
          43,
          44,
          45,
          46,
          47,
          48,
          49,
          50,
          51,
          52,
          53,
          54,
          55,
          56,
          57,
          58,
          59,
          60,
          61,
          62,
          63,
          64,
          65,
          66,
          67,
          68,
          69,
          70,
          71,
          72,
          73,
          74,
          75,
          76,
          77,
          78,
          79,
          80,
          81,
          82,
          83,
          84,
          85,
          86,
          87,
          88,
          89,
          90,
          91,
          92,
          93,
          94,
          95,
          96,
          97,
          98,
          99,
          100
         ],
         "xaxis": "x3",
         "y": [
          0.053361547462168445,
          0.053361547462168445,
          0.053361547462168445,
          0.053361547462168445,
          0.10642851286791513,
          0.10642851286791513,
          0.11199508160812548,
          0.11199508160812548,
          0.11199508160812548,
          0.11199508160812548,
          0.08339112495448098,
          0.09431184421558168,
          0.09809199514867127,
          0.09809199514867127,
          0.09693910542936295,
          0.09693910542936295,
          0.09693910542936295,
          0.09693910542936295,
          0.09693910542936295,
          0.09693910542936295,
          0.09693910542936295,
          0.09693910542936295,
          0.09693910542936295,
          0.09693910542936295,
          0.09693910542936295,
          0.09693910542936295,
          0.09693910542936295,
          0.09693910542936295,
          0.09693910542936295,
          0.09693910542936295,
          0.09693910542936295,
          0.09693910542936295,
          0.09693910542936295,
          0.09693910542936295,
          0.08749115260128443,
          0.08749115260128443,
          0.08749115260128443,
          0.08749115260128443,
          0.08749115260128443,
          0.08749115260128443,
          0.08749115260128443,
          0.08749115260128443,
          0.08749115260128443,
          0.08749115260128443,
          0.08749115260128443,
          0.08749115260128443,
          0.08749115260128443,
          0.08749115260128443,
          0.08749115260128443,
          0.08749115260128443,
          0.08749115260128443,
          0.08749115260128443,
          0.08749115260128443,
          0.08911017245157363,
          0.08911017245157363,
          0.08911017245157363,
          0.08911017245157363,
          0.08911017245157363,
          0.08911017245157363,
          0.08911017245157363,
          0.08911017245157363,
          0.08911017245157363,
          0.08911017245157363,
          0.08911017245157363,
          0.08911017245157363,
          0.08911017245157363,
          0.08911017245157363,
          0.08911017245157363,
          0.08911017245157363,
          0.08911017245157363,
          0.08911017245157363,
          0.08911017245157363,
          0.08911017245157363,
          0.08911017245157363,
          0.08911017245157363,
          0.09161876450192302,
          0.09161876450192302,
          0.09161876450192302,
          0.09161876450192302,
          0.09161876450192302,
          0.09161876450192302,
          0.09161876450192302,
          0.09161876450192302,
          0.09161876450192302,
          0.09161876450192302,
          0.09161876450192302,
          0.09161876450192302,
          0.09161876450192302,
          0.09161876450192302,
          0.10096330615003724,
          0.18379496037152002,
          0.18379496037152002,
          0.18379496037152002,
          0.18379496037152002,
          0.18379496037152002,
          0.18379496037152002,
          0.18379496037152002,
          0.18379496037152002,
          0.18379496037152002,
          0.18379496037152002,
          0.18379496037152002
         ],
         "yaxis": "y3"
        },
        {
         "customdata": [
          [
           "</br>id: 1833</br>prediction: 0.749</br>distanceToGoal: 1.7480560671752996</br></br>h_a: 0.0</br>situation: 2.0</br>shotType: 0.0</br>lastAction: 0.0</br>minute: 3</br>angleToGoal: 40.4664837945122</br>_original_yhat_: 0.053361547462168445</br>"
          ],
          [
           "</br>id: 1833</br>prediction: 0.751</br>distanceToGoal: 2.386852372856324</br></br>h_a: 0.0</br>situation: 2.0</br>shotType: 0.0</br>lastAction: 0.0</br>minute: 3</br>angleToGoal: 40.4664837945122</br>_original_yhat_: 0.053361547462168445</br>"
          ],
          [
           "</br>id: 1833</br>prediction: 0.289</br>distanceToGoal: 3.0256486785373475</br></br>h_a: 0.0</br>situation: 2.0</br>shotType: 0.0</br>lastAction: 0.0</br>minute: 3</br>angleToGoal: 40.4664837945122</br>_original_yhat_: 0.053361547462168445</br>"
          ],
          [
           "</br>id: 1833</br>prediction: 0.289</br>distanceToGoal: 3.6644449842183713</br></br>h_a: 0.0</br>situation: 2.0</br>shotType: 0.0</br>lastAction: 0.0</br>minute: 3</br>angleToGoal: 40.4664837945122</br>_original_yhat_: 0.053361547462168445</br>"
          ],
          [
           "</br>id: 1833</br>prediction: 0.178</br>distanceToGoal: 4.303241289899395</br></br>h_a: 0.0</br>situation: 2.0</br>shotType: 0.0</br>lastAction: 0.0</br>minute: 3</br>angleToGoal: 40.4664837945122</br>_original_yhat_: 0.053361547462168445</br>"
          ],
          [
           "</br>id: 1833</br>prediction: 0.156</br>distanceToGoal: 4.94203759558042</br></br>h_a: 0.0</br>situation: 2.0</br>shotType: 0.0</br>lastAction: 0.0</br>minute: 3</br>angleToGoal: 40.4664837945122</br>_original_yhat_: 0.053361547462168445</br>"
          ],
          [
           "</br>id: 1833</br>prediction: 0.158</br>distanceToGoal: 5.580833901261443</br></br>h_a: 0.0</br>situation: 2.0</br>shotType: 0.0</br>lastAction: 0.0</br>minute: 3</br>angleToGoal: 40.4664837945122</br>_original_yhat_: 0.053361547462168445</br>"
          ],
          [
           "</br>id: 1833</br>prediction: 0.346</br>distanceToGoal: 6.219630206942467</br></br>h_a: 0.0</br>situation: 2.0</br>shotType: 0.0</br>lastAction: 0.0</br>minute: 3</br>angleToGoal: 40.4664837945122</br>_original_yhat_: 0.053361547462168445</br>"
          ],
          [
           "</br>id: 1833</br>prediction: 0.067</br>distanceToGoal: 6.858426512623492</br></br>h_a: 0.0</br>situation: 2.0</br>shotType: 0.0</br>lastAction: 0.0</br>minute: 3</br>angleToGoal: 40.4664837945122</br>_original_yhat_: 0.053361547462168445</br>"
          ],
          [
           "</br>id: 1833</br>prediction: 0.067</br>distanceToGoal: 7.497222818304515</br></br>h_a: 0.0</br>situation: 2.0</br>shotType: 0.0</br>lastAction: 0.0</br>minute: 3</br>angleToGoal: 40.4664837945122</br>_original_yhat_: 0.053361547462168445</br>"
          ],
          [
           "</br>id: 1833</br>prediction: 0.065</br>distanceToGoal: 8.13601912398554</br></br>h_a: 0.0</br>situation: 2.0</br>shotType: 0.0</br>lastAction: 0.0</br>minute: 3</br>angleToGoal: 40.4664837945122</br>_original_yhat_: 0.053361547462168445</br>"
          ],
          [
           "</br>id: 1833</br>prediction: 0.063</br>distanceToGoal: 8.774815429666564</br></br>h_a: 0.0</br>situation: 2.0</br>shotType: 0.0</br>lastAction: 0.0</br>minute: 3</br>angleToGoal: 40.4664837945122</br>_original_yhat_: 0.053361547462168445</br>"
          ],
          [
           "</br>id: 1833</br>prediction: 0.078</br>distanceToGoal: 9.413611735347587</br></br>h_a: 0.0</br>situation: 2.0</br>shotType: 0.0</br>lastAction: 0.0</br>minute: 3</br>angleToGoal: 40.4664837945122</br>_original_yhat_: 0.053361547462168445</br>"
          ],
          [
           "</br>id: 1833</br>prediction: 0.053</br>distanceToGoal: 9.53310076709881</br></br>h_a: 0.0</br>situation: 2.0</br>shotType: 0.0</br>lastAction: 0.0</br>minute: 3</br>angleToGoal: 40.4664837945122</br>_original_yhat_: 0.053361547462168445</br>"
          ],
          [
           "</br>id: 1833</br>prediction: 0.053</br>distanceToGoal: 10.052408041028611</br></br>h_a: 0.0</br>situation: 2.0</br>shotType: 0.0</br>lastAction: 0.0</br>minute: 3</br>angleToGoal: 40.4664837945122</br>_original_yhat_: 0.053361547462168445</br>"
          ],
          [
           "</br>id: 1833</br>prediction: 0.044</br>distanceToGoal: 10.691204346709636</br></br>h_a: 0.0</br>situation: 2.0</br>shotType: 0.0</br>lastAction: 0.0</br>minute: 3</br>angleToGoal: 40.4664837945122</br>_original_yhat_: 0.053361547462168445</br>"
          ],
          [
           "</br>id: 1833</br>prediction: 0.044</br>distanceToGoal: 11.330000652390659</br></br>h_a: 0.0</br>situation: 2.0</br>shotType: 0.0</br>lastAction: 0.0</br>minute: 3</br>angleToGoal: 40.4664837945122</br>_original_yhat_: 0.053361547462168445</br>"
          ],
          [
           "</br>id: 1833</br>prediction: 0.042</br>distanceToGoal: 11.968796958071684</br></br>h_a: 0.0</br>situation: 2.0</br>shotType: 0.0</br>lastAction: 0.0</br>minute: 3</br>angleToGoal: 40.4664837945122</br>_original_yhat_: 0.053361547462168445</br>"
          ],
          [
           "</br>id: 1833</br>prediction: 0.042</br>distanceToGoal: 12.607593263752708</br></br>h_a: 0.0</br>situation: 2.0</br>shotType: 0.0</br>lastAction: 0.0</br>minute: 3</br>angleToGoal: 40.4664837945122</br>_original_yhat_: 0.053361547462168445</br>"
          ],
          [
           "</br>id: 1833</br>prediction: 0.078</br>distanceToGoal: 13.246389569433731</br></br>h_a: 0.0</br>situation: 2.0</br>shotType: 0.0</br>lastAction: 0.0</br>minute: 3</br>angleToGoal: 40.4664837945122</br>_original_yhat_: 0.053361547462168445</br>"
          ],
          [
           "</br>id: 1833</br>prediction: 0.067</br>distanceToGoal: 13.885185875114756</br></br>h_a: 0.0</br>situation: 2.0</br>shotType: 0.0</br>lastAction: 0.0</br>minute: 3</br>angleToGoal: 40.4664837945122</br>_original_yhat_: 0.053361547462168445</br>"
          ],
          [
           "</br>id: 1833</br>prediction: 0.067</br>distanceToGoal: 14.523982180795779</br></br>h_a: 0.0</br>situation: 2.0</br>shotType: 0.0</br>lastAction: 0.0</br>minute: 3</br>angleToGoal: 40.4664837945122</br>_original_yhat_: 0.053361547462168445</br>"
          ],
          [
           "</br>id: 1833</br>prediction: 0.067</br>distanceToGoal: 15.162778486476803</br></br>h_a: 0.0</br>situation: 2.0</br>shotType: 0.0</br>lastAction: 0.0</br>minute: 3</br>angleToGoal: 40.4664837945122</br>_original_yhat_: 0.053361547462168445</br>"
          ],
          [
           "</br>id: 1833</br>prediction: 0.066</br>distanceToGoal: 15.801574792157828</br></br>h_a: 0.0</br>situation: 2.0</br>shotType: 0.0</br>lastAction: 0.0</br>minute: 3</br>angleToGoal: 40.4664837945122</br>_original_yhat_: 0.053361547462168445</br>"
          ],
          [
           "</br>id: 1833</br>prediction: 0.066</br>distanceToGoal: 16.44037109783885</br></br>h_a: 0.0</br>situation: 2.0</br>shotType: 0.0</br>lastAction: 0.0</br>minute: 3</br>angleToGoal: 40.4664837945122</br>_original_yhat_: 0.053361547462168445</br>"
          ],
          [
           "</br>id: 1833</br>prediction: 0.066</br>distanceToGoal: 17.079167403519875</br></br>h_a: 0.0</br>situation: 2.0</br>shotType: 0.0</br>lastAction: 0.0</br>minute: 3</br>angleToGoal: 40.4664837945122</br>_original_yhat_: 0.053361547462168445</br>"
          ],
          [
           "</br>id: 1833</br>prediction: 0.066</br>distanceToGoal: 17.717963709200898</br></br>h_a: 0.0</br>situation: 2.0</br>shotType: 0.0</br>lastAction: 0.0</br>minute: 3</br>angleToGoal: 40.4664837945122</br>_original_yhat_: 0.053361547462168445</br>"
          ],
          [
           "</br>id: 1833</br>prediction: 0.066</br>distanceToGoal: 18.35676001488192</br></br>h_a: 0.0</br>situation: 2.0</br>shotType: 0.0</br>lastAction: 0.0</br>minute: 3</br>angleToGoal: 40.4664837945122</br>_original_yhat_: 0.053361547462168445</br>"
          ],
          [
           "</br>id: 1833</br>prediction: 0.068</br>distanceToGoal: 18.995556320562944</br></br>h_a: 0.0</br>situation: 2.0</br>shotType: 0.0</br>lastAction: 0.0</br>minute: 3</br>angleToGoal: 40.4664837945122</br>_original_yhat_: 0.053361547462168445</br>"
          ],
          [
           "</br>id: 1833</br>prediction: 0.069</br>distanceToGoal: 19.63435262624397</br></br>h_a: 0.0</br>situation: 2.0</br>shotType: 0.0</br>lastAction: 0.0</br>minute: 3</br>angleToGoal: 40.4664837945122</br>_original_yhat_: 0.053361547462168445</br>"
          ],
          [
           "</br>id: 1833</br>prediction: 0.077</br>distanceToGoal: 20.273148931924993</br></br>h_a: 0.0</br>situation: 2.0</br>shotType: 0.0</br>lastAction: 0.0</br>minute: 3</br>angleToGoal: 40.4664837945122</br>_original_yhat_: 0.053361547462168445</br>"
          ],
          [
           "</br>id: 1833</br>prediction: 0.077</br>distanceToGoal: 20.911945237606016</br></br>h_a: 0.0</br>situation: 2.0</br>shotType: 0.0</br>lastAction: 0.0</br>minute: 3</br>angleToGoal: 40.4664837945122</br>_original_yhat_: 0.053361547462168445</br>"
          ],
          [
           "</br>id: 1833</br>prediction: 0.077</br>distanceToGoal: 21.550741543287042</br></br>h_a: 0.0</br>situation: 2.0</br>shotType: 0.0</br>lastAction: 0.0</br>minute: 3</br>angleToGoal: 40.4664837945122</br>_original_yhat_: 0.053361547462168445</br>"
          ],
          [
           "</br>id: 1833</br>prediction: 0.077</br>distanceToGoal: 22.189537848968065</br></br>h_a: 0.0</br>situation: 2.0</br>shotType: 0.0</br>lastAction: 0.0</br>minute: 3</br>angleToGoal: 40.4664837945122</br>_original_yhat_: 0.053361547462168445</br>"
          ],
          [
           "</br>id: 1833</br>prediction: 0.05</br>distanceToGoal: 22.828334154649088</br></br>h_a: 0.0</br>situation: 2.0</br>shotType: 0.0</br>lastAction: 0.0</br>minute: 3</br>angleToGoal: 40.4664837945122</br>_original_yhat_: 0.053361547462168445</br>"
          ],
          [
           "</br>id: 1833</br>prediction: 0.05</br>distanceToGoal: 23.467130460330115</br></br>h_a: 0.0</br>situation: 2.0</br>shotType: 0.0</br>lastAction: 0.0</br>minute: 3</br>angleToGoal: 40.4664837945122</br>_original_yhat_: 0.053361547462168445</br>"
          ],
          [
           "</br>id: 1833</br>prediction: 0.05</br>distanceToGoal: 24.105926766011137</br></br>h_a: 0.0</br>situation: 2.0</br>shotType: 0.0</br>lastAction: 0.0</br>minute: 3</br>angleToGoal: 40.4664837945122</br>_original_yhat_: 0.053361547462168445</br>"
          ],
          [
           "</br>id: 1833</br>prediction: 0.05</br>distanceToGoal: 24.74472307169216</br></br>h_a: 0.0</br>situation: 2.0</br>shotType: 0.0</br>lastAction: 0.0</br>minute: 3</br>angleToGoal: 40.4664837945122</br>_original_yhat_: 0.053361547462168445</br>"
          ],
          [
           "</br>id: 1833</br>prediction: 0.05</br>distanceToGoal: 25.383519377373187</br></br>h_a: 0.0</br>situation: 2.0</br>shotType: 0.0</br>lastAction: 0.0</br>minute: 3</br>angleToGoal: 40.4664837945122</br>_original_yhat_: 0.053361547462168445</br>"
          ],
          [
           "</br>id: 1833</br>prediction: 0.621</br>distanceToGoal: 26.02231568305421</br></br>h_a: 0.0</br>situation: 2.0</br>shotType: 0.0</br>lastAction: 0.0</br>minute: 3</br>angleToGoal: 40.4664837945122</br>_original_yhat_: 0.053361547462168445</br>"
          ],
          [
           "</br>id: 1833</br>prediction: 0.621</br>distanceToGoal: 26.661111988735232</br></br>h_a: 0.0</br>situation: 2.0</br>shotType: 0.0</br>lastAction: 0.0</br>minute: 3</br>angleToGoal: 40.4664837945122</br>_original_yhat_: 0.053361547462168445</br>"
          ],
          [
           "</br>id: 1833</br>prediction: 0.621</br>distanceToGoal: 27.299908294416255</br></br>h_a: 0.0</br>situation: 2.0</br>shotType: 0.0</br>lastAction: 0.0</br>minute: 3</br>angleToGoal: 40.4664837945122</br>_original_yhat_: 0.053361547462168445</br>"
          ],
          [
           "</br>id: 1833</br>prediction: 0.621</br>distanceToGoal: 27.93870460009728</br></br>h_a: 0.0</br>situation: 2.0</br>shotType: 0.0</br>lastAction: 0.0</br>minute: 3</br>angleToGoal: 40.4664837945122</br>_original_yhat_: 0.053361547462168445</br>"
          ],
          [
           "</br>id: 1833</br>prediction: 0.621</br>distanceToGoal: 28.577500905778304</br></br>h_a: 0.0</br>situation: 2.0</br>shotType: 0.0</br>lastAction: 0.0</br>minute: 3</br>angleToGoal: 40.4664837945122</br>_original_yhat_: 0.053361547462168445</br>"
          ],
          [
           "</br>id: 1833</br>prediction: 0.621</br>distanceToGoal: 29.216297211459327</br></br>h_a: 0.0</br>situation: 2.0</br>shotType: 0.0</br>lastAction: 0.0</br>minute: 3</br>angleToGoal: 40.4664837945122</br>_original_yhat_: 0.053361547462168445</br>"
          ],
          [
           "</br>id: 1833</br>prediction: 0.621</br>distanceToGoal: 29.855093517140354</br></br>h_a: 0.0</br>situation: 2.0</br>shotType: 0.0</br>lastAction: 0.0</br>minute: 3</br>angleToGoal: 40.4664837945122</br>_original_yhat_: 0.053361547462168445</br>"
          ],
          [
           "</br>id: 1833</br>prediction: 0.621</br>distanceToGoal: 30.493889822821377</br></br>h_a: 0.0</br>situation: 2.0</br>shotType: 0.0</br>lastAction: 0.0</br>minute: 3</br>angleToGoal: 40.4664837945122</br>_original_yhat_: 0.053361547462168445</br>"
          ],
          [
           "</br>id: 1833</br>prediction: 0.621</br>distanceToGoal: 31.1326861285024</br></br>h_a: 0.0</br>situation: 2.0</br>shotType: 0.0</br>lastAction: 0.0</br>minute: 3</br>angleToGoal: 40.4664837945122</br>_original_yhat_: 0.053361547462168445</br>"
          ],
          [
           "</br>id: 1833</br>prediction: 0.545</br>distanceToGoal: 31.771482434183426</br></br>h_a: 0.0</br>situation: 2.0</br>shotType: 0.0</br>lastAction: 0.0</br>minute: 3</br>angleToGoal: 40.4664837945122</br>_original_yhat_: 0.053361547462168445</br>"
          ],
          [
           "</br>id: 1833</br>prediction: 0.545</br>distanceToGoal: 32.41027873986445</br></br>h_a: 0.0</br>situation: 2.0</br>shotType: 0.0</br>lastAction: 0.0</br>minute: 3</br>angleToGoal: 40.4664837945122</br>_original_yhat_: 0.053361547462168445</br>"
          ],
          [
           "</br>id: 1833</br>prediction: 0.545</br>distanceToGoal: 33.04907504554547</br></br>h_a: 0.0</br>situation: 2.0</br>shotType: 0.0</br>lastAction: 0.0</br>minute: 3</br>angleToGoal: 40.4664837945122</br>_original_yhat_: 0.053361547462168445</br>"
          ],
          [
           "</br>id: 1833</br>prediction: 0.545</br>distanceToGoal: 33.6878713512265</br></br>h_a: 0.0</br>situation: 2.0</br>shotType: 0.0</br>lastAction: 0.0</br>minute: 3</br>angleToGoal: 40.4664837945122</br>_original_yhat_: 0.053361547462168445</br>"
          ],
          [
           "</br>id: 1833</br>prediction: 0.545</br>distanceToGoal: 34.32666765690752</br></br>h_a: 0.0</br>situation: 2.0</br>shotType: 0.0</br>lastAction: 0.0</br>minute: 3</br>angleToGoal: 40.4664837945122</br>_original_yhat_: 0.053361547462168445</br>"
          ],
          [
           "</br>id: 1833</br>prediction: 0.545</br>distanceToGoal: 34.965463962588544</br></br>h_a: 0.0</br>situation: 2.0</br>shotType: 0.0</br>lastAction: 0.0</br>minute: 3</br>angleToGoal: 40.4664837945122</br>_original_yhat_: 0.053361547462168445</br>"
          ],
          [
           "</br>id: 1833</br>prediction: 0.545</br>distanceToGoal: 35.60426026826957</br></br>h_a: 0.0</br>situation: 2.0</br>shotType: 0.0</br>lastAction: 0.0</br>minute: 3</br>angleToGoal: 40.4664837945122</br>_original_yhat_: 0.053361547462168445</br>"
          ],
          [
           "</br>id: 1833</br>prediction: 0.545</br>distanceToGoal: 36.24305657395059</br></br>h_a: 0.0</br>situation: 2.0</br>shotType: 0.0</br>lastAction: 0.0</br>minute: 3</br>angleToGoal: 40.4664837945122</br>_original_yhat_: 0.053361547462168445</br>"
          ],
          [
           "</br>id: 1833</br>prediction: 0.545</br>distanceToGoal: 36.881852879631616</br></br>h_a: 0.0</br>situation: 2.0</br>shotType: 0.0</br>lastAction: 0.0</br>minute: 3</br>angleToGoal: 40.4664837945122</br>_original_yhat_: 0.053361547462168445</br>"
          ],
          [
           "</br>id: 1833</br>prediction: 0.545</br>distanceToGoal: 37.52064918531264</br></br>h_a: 0.0</br>situation: 2.0</br>shotType: 0.0</br>lastAction: 0.0</br>minute: 3</br>angleToGoal: 40.4664837945122</br>_original_yhat_: 0.053361547462168445</br>"
          ],
          [
           "</br>id: 1833</br>prediction: 0.545</br>distanceToGoal: 38.15944549099366</br></br>h_a: 0.0</br>situation: 2.0</br>shotType: 0.0</br>lastAction: 0.0</br>minute: 3</br>angleToGoal: 40.4664837945122</br>_original_yhat_: 0.053361547462168445</br>"
          ],
          [
           "</br>id: 1833</br>prediction: 0.545</br>distanceToGoal: 38.79824179667469</br></br>h_a: 0.0</br>situation: 2.0</br>shotType: 0.0</br>lastAction: 0.0</br>minute: 3</br>angleToGoal: 40.4664837945122</br>_original_yhat_: 0.053361547462168445</br>"
          ],
          [
           "</br>id: 1833</br>prediction: 0.545</br>distanceToGoal: 39.437038102355714</br></br>h_a: 0.0</br>situation: 2.0</br>shotType: 0.0</br>lastAction: 0.0</br>minute: 3</br>angleToGoal: 40.4664837945122</br>_original_yhat_: 0.053361547462168445</br>"
          ],
          [
           "</br>id: 1833</br>prediction: 0.545</br>distanceToGoal: 40.075834408036734</br></br>h_a: 0.0</br>situation: 2.0</br>shotType: 0.0</br>lastAction: 0.0</br>minute: 3</br>angleToGoal: 40.4664837945122</br>_original_yhat_: 0.053361547462168445</br>"
          ],
          [
           "</br>id: 1833</br>prediction: 0.545</br>distanceToGoal: 40.71463071371776</br></br>h_a: 0.0</br>situation: 2.0</br>shotType: 0.0</br>lastAction: 0.0</br>minute: 3</br>angleToGoal: 40.4664837945122</br>_original_yhat_: 0.053361547462168445</br>"
          ],
          [
           "</br>id: 1833</br>prediction: 0.545</br>distanceToGoal: 41.35342701939879</br></br>h_a: 0.0</br>situation: 2.0</br>shotType: 0.0</br>lastAction: 0.0</br>minute: 3</br>angleToGoal: 40.4664837945122</br>_original_yhat_: 0.053361547462168445</br>"
          ],
          [
           "</br>id: 1833</br>prediction: 0.545</br>distanceToGoal: 41.992223325079806</br></br>h_a: 0.0</br>situation: 2.0</br>shotType: 0.0</br>lastAction: 0.0</br>minute: 3</br>angleToGoal: 40.4664837945122</br>_original_yhat_: 0.053361547462168445</br>"
          ],
          [
           "</br>id: 1833</br>prediction: 0.545</br>distanceToGoal: 42.63101963076083</br></br>h_a: 0.0</br>situation: 2.0</br>shotType: 0.0</br>lastAction: 0.0</br>minute: 3</br>angleToGoal: 40.4664837945122</br>_original_yhat_: 0.053361547462168445</br>"
          ],
          [
           "</br>id: 1833</br>prediction: 0.545</br>distanceToGoal: 43.26981593644186</br></br>h_a: 0.0</br>situation: 2.0</br>shotType: 0.0</br>lastAction: 0.0</br>minute: 3</br>angleToGoal: 40.4664837945122</br>_original_yhat_: 0.053361547462168445</br>"
          ],
          [
           "</br>id: 1833</br>prediction: 0.545</br>distanceToGoal: 43.90861224212288</br></br>h_a: 0.0</br>situation: 2.0</br>shotType: 0.0</br>lastAction: 0.0</br>minute: 3</br>angleToGoal: 40.4664837945122</br>_original_yhat_: 0.053361547462168445</br>"
          ],
          [
           "</br>id: 1833</br>prediction: 0.545</br>distanceToGoal: 44.547408547803904</br></br>h_a: 0.0</br>situation: 2.0</br>shotType: 0.0</br>lastAction: 0.0</br>minute: 3</br>angleToGoal: 40.4664837945122</br>_original_yhat_: 0.053361547462168445</br>"
          ],
          [
           "</br>id: 1833</br>prediction: 0.545</br>distanceToGoal: 45.18620485348493</br></br>h_a: 0.0</br>situation: 2.0</br>shotType: 0.0</br>lastAction: 0.0</br>minute: 3</br>angleToGoal: 40.4664837945122</br>_original_yhat_: 0.053361547462168445</br>"
          ],
          [
           "</br>id: 1833</br>prediction: 0.545</br>distanceToGoal: 45.82500115916595</br></br>h_a: 0.0</br>situation: 2.0</br>shotType: 0.0</br>lastAction: 0.0</br>minute: 3</br>angleToGoal: 40.4664837945122</br>_original_yhat_: 0.053361547462168445</br>"
          ],
          [
           "</br>id: 1833</br>prediction: 0.545</br>distanceToGoal: 46.46379746484698</br></br>h_a: 0.0</br>situation: 2.0</br>shotType: 0.0</br>lastAction: 0.0</br>minute: 3</br>angleToGoal: 40.4664837945122</br>_original_yhat_: 0.053361547462168445</br>"
          ],
          [
           "</br>id: 1833</br>prediction: 0.545</br>distanceToGoal: 47.102593770528</br></br>h_a: 0.0</br>situation: 2.0</br>shotType: 0.0</br>lastAction: 0.0</br>minute: 3</br>angleToGoal: 40.4664837945122</br>_original_yhat_: 0.053361547462168445</br>"
          ],
          [
           "</br>id: 1833</br>prediction: 0.545</br>distanceToGoal: 47.74139007620902</br></br>h_a: 0.0</br>situation: 2.0</br>shotType: 0.0</br>lastAction: 0.0</br>minute: 3</br>angleToGoal: 40.4664837945122</br>_original_yhat_: 0.053361547462168445</br>"
          ],
          [
           "</br>id: 1833</br>prediction: 0.545</br>distanceToGoal: 48.38018638189005</br></br>h_a: 0.0</br>situation: 2.0</br>shotType: 0.0</br>lastAction: 0.0</br>minute: 3</br>angleToGoal: 40.4664837945122</br>_original_yhat_: 0.053361547462168445</br>"
          ],
          [
           "</br>id: 1833</br>prediction: 0.545</br>distanceToGoal: 49.018982687571075</br></br>h_a: 0.0</br>situation: 2.0</br>shotType: 0.0</br>lastAction: 0.0</br>minute: 3</br>angleToGoal: 40.4664837945122</br>_original_yhat_: 0.053361547462168445</br>"
          ],
          [
           "</br>id: 1833</br>prediction: 0.545</br>distanceToGoal: 49.657778993252094</br></br>h_a: 0.0</br>situation: 2.0</br>shotType: 0.0</br>lastAction: 0.0</br>minute: 3</br>angleToGoal: 40.4664837945122</br>_original_yhat_: 0.053361547462168445</br>"
          ],
          [
           "</br>id: 1833</br>prediction: 0.545</br>distanceToGoal: 50.29657529893312</br></br>h_a: 0.0</br>situation: 2.0</br>shotType: 0.0</br>lastAction: 0.0</br>minute: 3</br>angleToGoal: 40.4664837945122</br>_original_yhat_: 0.053361547462168445</br>"
          ],
          [
           "</br>id: 1833</br>prediction: 0.545</br>distanceToGoal: 50.93537160461415</br></br>h_a: 0.0</br>situation: 2.0</br>shotType: 0.0</br>lastAction: 0.0</br>minute: 3</br>angleToGoal: 40.4664837945122</br>_original_yhat_: 0.053361547462168445</br>"
          ],
          [
           "</br>id: 1833</br>prediction: 0.545</br>distanceToGoal: 51.57416791029517</br></br>h_a: 0.0</br>situation: 2.0</br>shotType: 0.0</br>lastAction: 0.0</br>minute: 3</br>angleToGoal: 40.4664837945122</br>_original_yhat_: 0.053361547462168445</br>"
          ],
          [
           "</br>id: 1833</br>prediction: 0.545</br>distanceToGoal: 52.21296421597619</br></br>h_a: 0.0</br>situation: 2.0</br>shotType: 0.0</br>lastAction: 0.0</br>minute: 3</br>angleToGoal: 40.4664837945122</br>_original_yhat_: 0.053361547462168445</br>"
          ],
          [
           "</br>id: 1833</br>prediction: 0.545</br>distanceToGoal: 52.85176052165721</br></br>h_a: 0.0</br>situation: 2.0</br>shotType: 0.0</br>lastAction: 0.0</br>minute: 3</br>angleToGoal: 40.4664837945122</br>_original_yhat_: 0.053361547462168445</br>"
          ],
          [
           "</br>id: 1833</br>prediction: 0.545</br>distanceToGoal: 53.49055682733824</br></br>h_a: 0.0</br>situation: 2.0</br>shotType: 0.0</br>lastAction: 0.0</br>minute: 3</br>angleToGoal: 40.4664837945122</br>_original_yhat_: 0.053361547462168445</br>"
          ],
          [
           "</br>id: 1833</br>prediction: 0.545</br>distanceToGoal: 54.129353133019265</br></br>h_a: 0.0</br>situation: 2.0</br>shotType: 0.0</br>lastAction: 0.0</br>minute: 3</br>angleToGoal: 40.4664837945122</br>_original_yhat_: 0.053361547462168445</br>"
          ],
          [
           "</br>id: 1833</br>prediction: 0.545</br>distanceToGoal: 54.768149438700284</br></br>h_a: 0.0</br>situation: 2.0</br>shotType: 0.0</br>lastAction: 0.0</br>minute: 3</br>angleToGoal: 40.4664837945122</br>_original_yhat_: 0.053361547462168445</br>"
          ],
          [
           "</br>id: 1833</br>prediction: 0.545</br>distanceToGoal: 55.40694574438131</br></br>h_a: 0.0</br>situation: 2.0</br>shotType: 0.0</br>lastAction: 0.0</br>minute: 3</br>angleToGoal: 40.4664837945122</br>_original_yhat_: 0.053361547462168445</br>"
          ],
          [
           "</br>id: 1833</br>prediction: 0.545</br>distanceToGoal: 56.04574205006234</br></br>h_a: 0.0</br>situation: 2.0</br>shotType: 0.0</br>lastAction: 0.0</br>minute: 3</br>angleToGoal: 40.4664837945122</br>_original_yhat_: 0.053361547462168445</br>"
          ],
          [
           "</br>id: 1833</br>prediction: 0.545</br>distanceToGoal: 56.684538355743356</br></br>h_a: 0.0</br>situation: 2.0</br>shotType: 0.0</br>lastAction: 0.0</br>minute: 3</br>angleToGoal: 40.4664837945122</br>_original_yhat_: 0.053361547462168445</br>"
          ],
          [
           "</br>id: 1833</br>prediction: 0.545</br>distanceToGoal: 57.32333466142438</br></br>h_a: 0.0</br>situation: 2.0</br>shotType: 0.0</br>lastAction: 0.0</br>minute: 3</br>angleToGoal: 40.4664837945122</br>_original_yhat_: 0.053361547462168445</br>"
          ],
          [
           "</br>id: 1833</br>prediction: 0.545</br>distanceToGoal: 57.96213096710541</br></br>h_a: 0.0</br>situation: 2.0</br>shotType: 0.0</br>lastAction: 0.0</br>minute: 3</br>angleToGoal: 40.4664837945122</br>_original_yhat_: 0.053361547462168445</br>"
          ],
          [
           "</br>id: 1833</br>prediction: 0.545</br>distanceToGoal: 58.60092727278643</br></br>h_a: 0.0</br>situation: 2.0</br>shotType: 0.0</br>lastAction: 0.0</br>minute: 3</br>angleToGoal: 40.4664837945122</br>_original_yhat_: 0.053361547462168445</br>"
          ],
          [
           "</br>id: 1833</br>prediction: 0.545</br>distanceToGoal: 59.239723578467455</br></br>h_a: 0.0</br>situation: 2.0</br>shotType: 0.0</br>lastAction: 0.0</br>minute: 3</br>angleToGoal: 40.4664837945122</br>_original_yhat_: 0.053361547462168445</br>"
          ],
          [
           "</br>id: 1833</br>prediction: 0.545</br>distanceToGoal: 59.87851988414848</br></br>h_a: 0.0</br>situation: 2.0</br>shotType: 0.0</br>lastAction: 0.0</br>minute: 3</br>angleToGoal: 40.4664837945122</br>_original_yhat_: 0.053361547462168445</br>"
          ],
          [
           "</br>id: 1833</br>prediction: 0.545</br>distanceToGoal: 60.5173161898295</br></br>h_a: 0.0</br>situation: 2.0</br>shotType: 0.0</br>lastAction: 0.0</br>minute: 3</br>angleToGoal: 40.4664837945122</br>_original_yhat_: 0.053361547462168445</br>"
          ],
          [
           "</br>id: 1833</br>prediction: 0.545</br>distanceToGoal: 61.15611249551053</br></br>h_a: 0.0</br>situation: 2.0</br>shotType: 0.0</br>lastAction: 0.0</br>minute: 3</br>angleToGoal: 40.4664837945122</br>_original_yhat_: 0.053361547462168445</br>"
          ],
          [
           "</br>id: 1833</br>prediction: 0.545</br>distanceToGoal: 61.79490880119155</br></br>h_a: 0.0</br>situation: 2.0</br>shotType: 0.0</br>lastAction: 0.0</br>minute: 3</br>angleToGoal: 40.4664837945122</br>_original_yhat_: 0.053361547462168445</br>"
          ],
          [
           "</br>id: 1833</br>prediction: 0.545</br>distanceToGoal: 62.43370510687257</br></br>h_a: 0.0</br>situation: 2.0</br>shotType: 0.0</br>lastAction: 0.0</br>minute: 3</br>angleToGoal: 40.4664837945122</br>_original_yhat_: 0.053361547462168445</br>"
          ],
          [
           "</br>id: 1833</br>prediction: 0.545</br>distanceToGoal: 63.0725014125536</br></br>h_a: 0.0</br>situation: 2.0</br>shotType: 0.0</br>lastAction: 0.0</br>minute: 3</br>angleToGoal: 40.4664837945122</br>_original_yhat_: 0.053361547462168445</br>"
          ],
          [
           "</br>id: 1833</br>prediction: 0.545</br>distanceToGoal: 63.711297718234626</br></br>h_a: 0.0</br>situation: 2.0</br>shotType: 0.0</br>lastAction: 0.0</br>minute: 3</br>angleToGoal: 40.4664837945122</br>_original_yhat_: 0.053361547462168445</br>"
          ],
          [
           "</br>id: 1833</br>prediction: 0.545</br>distanceToGoal: 64.35009402391564</br></br>h_a: 0.0</br>situation: 2.0</br>shotType: 0.0</br>lastAction: 0.0</br>minute: 3</br>angleToGoal: 40.4664837945122</br>_original_yhat_: 0.053361547462168445</br>"
          ],
          [
           "</br>id: 1833</br>prediction: 0.545</br>distanceToGoal: 64.98889032959667</br></br>h_a: 0.0</br>situation: 2.0</br>shotType: 0.0</br>lastAction: 0.0</br>minute: 3</br>angleToGoal: 40.4664837945122</br>_original_yhat_: 0.053361547462168445</br>"
          ],
          [
           "</br>id: 1833</br>prediction: 0.545</br>distanceToGoal: 65.6276866352777</br></br>h_a: 0.0</br>situation: 2.0</br>shotType: 0.0</br>lastAction: 0.0</br>minute: 3</br>angleToGoal: 40.4664837945122</br>_original_yhat_: 0.053361547462168445</br>"
          ]
         ],
         "hovertemplate": "%{customdata[0]}<extra></extra>",
         "legendgroup": "Gradient Boosting",
         "line": {
          "color": "#8bdcbe",
          "dash": "solid",
          "width": 2
         },
         "marker": {
          "symbol": "circle"
         },
         "mode": "lines",
         "name": "Gradient Boosting",
         "opacity": 1,
         "showlegend": false,
         "type": "scattergl",
         "x": [
          1.7480560671752996,
          2.386852372856324,
          3.0256486785373475,
          3.6644449842183713,
          4.303241289899395,
          4.94203759558042,
          5.580833901261443,
          6.219630206942467,
          6.858426512623492,
          7.497222818304515,
          8.13601912398554,
          8.774815429666564,
          9.413611735347587,
          9.53310076709881,
          10.052408041028611,
          10.691204346709636,
          11.330000652390659,
          11.968796958071684,
          12.607593263752708,
          13.246389569433731,
          13.885185875114756,
          14.523982180795779,
          15.162778486476803,
          15.801574792157828,
          16.44037109783885,
          17.079167403519875,
          17.717963709200898,
          18.35676001488192,
          18.995556320562944,
          19.63435262624397,
          20.273148931924993,
          20.911945237606016,
          21.550741543287042,
          22.189537848968065,
          22.828334154649088,
          23.467130460330115,
          24.105926766011137,
          24.74472307169216,
          25.383519377373187,
          26.02231568305421,
          26.661111988735232,
          27.299908294416255,
          27.93870460009728,
          28.577500905778304,
          29.216297211459327,
          29.855093517140354,
          30.493889822821377,
          31.1326861285024,
          31.771482434183426,
          32.41027873986445,
          33.04907504554547,
          33.6878713512265,
          34.32666765690752,
          34.965463962588544,
          35.60426026826957,
          36.24305657395059,
          36.881852879631616,
          37.52064918531264,
          38.15944549099366,
          38.79824179667469,
          39.437038102355714,
          40.075834408036734,
          40.71463071371776,
          41.35342701939879,
          41.992223325079806,
          42.63101963076083,
          43.26981593644186,
          43.90861224212288,
          44.547408547803904,
          45.18620485348493,
          45.82500115916595,
          46.46379746484698,
          47.102593770528,
          47.74139007620902,
          48.38018638189005,
          49.018982687571075,
          49.657778993252094,
          50.29657529893312,
          50.93537160461415,
          51.57416791029517,
          52.21296421597619,
          52.85176052165721,
          53.49055682733824,
          54.129353133019265,
          54.768149438700284,
          55.40694574438131,
          56.04574205006234,
          56.684538355743356,
          57.32333466142438,
          57.96213096710541,
          58.60092727278643,
          59.239723578467455,
          59.87851988414848,
          60.5173161898295,
          61.15611249551053,
          61.79490880119155,
          62.43370510687257,
          63.0725014125536,
          63.711297718234626,
          64.35009402391564,
          64.98889032959667,
          65.6276866352777
         ],
         "xaxis": "x4",
         "y": [
          0.7494279064656445,
          0.7508601671237939,
          0.2890602679586773,
          0.2890602679586773,
          0.1779457831831388,
          0.15607217787186597,
          0.15835136811594203,
          0.3455596676972013,
          0.06692883236869591,
          0.06692883236869591,
          0.0650287546998434,
          0.06319454615094695,
          0.07751780478406323,
          0.053361547462168445,
          0.053361547462168445,
          0.04379879730924684,
          0.04379879730924684,
          0.042414909915015855,
          0.042414909915015855,
          0.07770642566726964,
          0.06679561584913035,
          0.06679561584913035,
          0.06679561584913035,
          0.06577215829084476,
          0.06577215829084476,
          0.06577215829084476,
          0.06577215829084476,
          0.06577215829084476,
          0.06813725168489759,
          0.06919896380356579,
          0.07696277363547091,
          0.07696277363547091,
          0.07696277363547091,
          0.07696277363547091,
          0.04953932176810783,
          0.04953932176810783,
          0.04953932176810783,
          0.04953932176810783,
          0.04953932176810783,
          0.6206449498973647,
          0.6206449498973647,
          0.6206449498973647,
          0.6206449498973647,
          0.6206449498973647,
          0.6206449498973647,
          0.6206449498973647,
          0.6206449498973647,
          0.6206449498973647,
          0.5447750079267141,
          0.5447750079267141,
          0.5447750079267141,
          0.5447750079267141,
          0.5447750079267141,
          0.5447750079267141,
          0.5447750079267141,
          0.5447750079267141,
          0.5447750079267141,
          0.5447750079267141,
          0.5447750079267141,
          0.5447750079267141,
          0.5447750079267141,
          0.5447750079267141,
          0.5447750079267141,
          0.5447750079267141,
          0.5447750079267141,
          0.5447750079267141,
          0.5447750079267141,
          0.5447750079267141,
          0.5447750079267141,
          0.5447750079267141,
          0.5447750079267141,
          0.5447750079267141,
          0.5447750079267141,
          0.5447750079267141,
          0.5447750079267141,
          0.5447750079267141,
          0.5447750079267141,
          0.5447750079267141,
          0.5447750079267141,
          0.5447750079267141,
          0.5447750079267141,
          0.5447750079267141,
          0.5447750079267141,
          0.5447750079267141,
          0.5447750079267141,
          0.5447750079267141,
          0.5447750079267141,
          0.5447750079267141,
          0.5447750079267141,
          0.5447750079267141,
          0.5447750079267141,
          0.5447750079267141,
          0.5447750079267141,
          0.5447750079267141,
          0.5447750079267141,
          0.5447750079267141,
          0.5447750079267141,
          0.5447750079267141,
          0.5447750079267141,
          0.5447750079267141,
          0.5447750079267141,
          0.5447750079267141
         ],
         "yaxis": "y4"
        },
        {
         "customdata": [
          [
           "</br>id: 1833</br>prediction: 0.671</br>angleToGoal: 2.45563484478765</br></br>h_a: 0.0</br>situation: 2.0</br>shotType: 0.0</br>lastAction: 0.0</br>minute: 3</br>distanceToGoal: 9.53310076709881</br>_original_yhat_: 0.053361547462168445</br>"
          ],
          [
           "</br>id: 1833</br>prediction: 0.671</br>angleToGoal: 3.329788052577239</br></br>h_a: 0.0</br>situation: 2.0</br>shotType: 0.0</br>lastAction: 0.0</br>minute: 3</br>distanceToGoal: 9.53310076709881</br>_original_yhat_: 0.053361547462168445</br>"
          ],
          [
           "</br>id: 1833</br>prediction: 0.671</br>angleToGoal: 4.203941260366829</br></br>h_a: 0.0</br>situation: 2.0</br>shotType: 0.0</br>lastAction: 0.0</br>minute: 3</br>distanceToGoal: 9.53310076709881</br>_original_yhat_: 0.053361547462168445</br>"
          ],
          [
           "</br>id: 1833</br>prediction: 0.515</br>angleToGoal: 5.078094468156419</br></br>h_a: 0.0</br>situation: 2.0</br>shotType: 0.0</br>lastAction: 0.0</br>minute: 3</br>distanceToGoal: 9.53310076709881</br>_original_yhat_: 0.053361547462168445</br>"
          ],
          [
           "</br>id: 1833</br>prediction: 0.2</br>angleToGoal: 5.9522476759460075</br></br>h_a: 0.0</br>situation: 2.0</br>shotType: 0.0</br>lastAction: 0.0</br>minute: 3</br>distanceToGoal: 9.53310076709881</br>_original_yhat_: 0.053361547462168445</br>"
          ],
          [
           "</br>id: 1833</br>prediction: 0.2</br>angleToGoal: 6.826400883735596</br></br>h_a: 0.0</br>situation: 2.0</br>shotType: 0.0</br>lastAction: 0.0</br>minute: 3</br>distanceToGoal: 9.53310076709881</br>_original_yhat_: 0.053361547462168445</br>"
          ],
          [
           "</br>id: 1833</br>prediction: 0.2</br>angleToGoal: 7.700554091525186</br></br>h_a: 0.0</br>situation: 2.0</br>shotType: 0.0</br>lastAction: 0.0</br>minute: 3</br>distanceToGoal: 9.53310076709881</br>_original_yhat_: 0.053361547462168445</br>"
          ],
          [
           "</br>id: 1833</br>prediction: 0.2</br>angleToGoal: 8.574707299314776</br></br>h_a: 0.0</br>situation: 2.0</br>shotType: 0.0</br>lastAction: 0.0</br>minute: 3</br>distanceToGoal: 9.53310076709881</br>_original_yhat_: 0.053361547462168445</br>"
          ],
          [
           "</br>id: 1833</br>prediction: 0.231</br>angleToGoal: 9.448860507104365</br></br>h_a: 0.0</br>situation: 2.0</br>shotType: 0.0</br>lastAction: 0.0</br>minute: 3</br>distanceToGoal: 9.53310076709881</br>_original_yhat_: 0.053361547462168445</br>"
          ],
          [
           "</br>id: 1833</br>prediction: 0.231</br>angleToGoal: 10.323013714893955</br></br>h_a: 0.0</br>situation: 2.0</br>shotType: 0.0</br>lastAction: 0.0</br>minute: 3</br>distanceToGoal: 9.53310076709881</br>_original_yhat_: 0.053361547462168445</br>"
          ],
          [
           "</br>id: 1833</br>prediction: 0.231</br>angleToGoal: 11.197166922683543</br></br>h_a: 0.0</br>situation: 2.0</br>shotType: 0.0</br>lastAction: 0.0</br>minute: 3</br>distanceToGoal: 9.53310076709881</br>_original_yhat_: 0.053361547462168445</br>"
          ],
          [
           "</br>id: 1833</br>prediction: 0.231</br>angleToGoal: 12.071320130473133</br></br>h_a: 0.0</br>situation: 2.0</br>shotType: 0.0</br>lastAction: 0.0</br>minute: 3</br>distanceToGoal: 9.53310076709881</br>_original_yhat_: 0.053361547462168445</br>"
          ],
          [
           "</br>id: 1833</br>prediction: 0.231</br>angleToGoal: 12.945473338262723</br></br>h_a: 0.0</br>situation: 2.0</br>shotType: 0.0</br>lastAction: 0.0</br>minute: 3</br>distanceToGoal: 9.53310076709881</br>_original_yhat_: 0.053361547462168445</br>"
          ],
          [
           "</br>id: 1833</br>prediction: 0.046</br>angleToGoal: 13.819626546052312</br></br>h_a: 0.0</br>situation: 2.0</br>shotType: 0.0</br>lastAction: 0.0</br>minute: 3</br>distanceToGoal: 9.53310076709881</br>_original_yhat_: 0.053361547462168445</br>"
          ],
          [
           "</br>id: 1833</br>prediction: 0.046</br>angleToGoal: 14.6937797538419</br></br>h_a: 0.0</br>situation: 2.0</br>shotType: 0.0</br>lastAction: 0.0</br>minute: 3</br>distanceToGoal: 9.53310076709881</br>_original_yhat_: 0.053361547462168445</br>"
          ],
          [
           "</br>id: 1833</br>prediction: 0.046</br>angleToGoal: 15.56793296163149</br></br>h_a: 0.0</br>situation: 2.0</br>shotType: 0.0</br>lastAction: 0.0</br>minute: 3</br>distanceToGoal: 9.53310076709881</br>_original_yhat_: 0.053361547462168445</br>"
          ],
          [
           "</br>id: 1833</br>prediction: 0.026</br>angleToGoal: 16.44208616942108</br></br>h_a: 0.0</br>situation: 2.0</br>shotType: 0.0</br>lastAction: 0.0</br>minute: 3</br>distanceToGoal: 9.53310076709881</br>_original_yhat_: 0.053361547462168445</br>"
          ],
          [
           "</br>id: 1833</br>prediction: 0.026</br>angleToGoal: 17.31623937721067</br></br>h_a: 0.0</br>situation: 2.0</br>shotType: 0.0</br>lastAction: 0.0</br>minute: 3</br>distanceToGoal: 9.53310076709881</br>_original_yhat_: 0.053361547462168445</br>"
          ],
          [
           "</br>id: 1833</br>prediction: 0.026</br>angleToGoal: 18.19039258500026</br></br>h_a: 0.0</br>situation: 2.0</br>shotType: 0.0</br>lastAction: 0.0</br>minute: 3</br>distanceToGoal: 9.53310076709881</br>_original_yhat_: 0.053361547462168445</br>"
          ],
          [
           "</br>id: 1833</br>prediction: 0.026</br>angleToGoal: 19.064545792789847</br></br>h_a: 0.0</br>situation: 2.0</br>shotType: 0.0</br>lastAction: 0.0</br>minute: 3</br>distanceToGoal: 9.53310076709881</br>_original_yhat_: 0.053361547462168445</br>"
          ],
          [
           "</br>id: 1833</br>prediction: 0.026</br>angleToGoal: 19.938699000579437</br></br>h_a: 0.0</br>situation: 2.0</br>shotType: 0.0</br>lastAction: 0.0</br>minute: 3</br>distanceToGoal: 9.53310076709881</br>_original_yhat_: 0.053361547462168445</br>"
          ],
          [
           "</br>id: 1833</br>prediction: 0.025</br>angleToGoal: 20.812852208369026</br></br>h_a: 0.0</br>situation: 2.0</br>shotType: 0.0</br>lastAction: 0.0</br>minute: 3</br>distanceToGoal: 9.53310076709881</br>_original_yhat_: 0.053361547462168445</br>"
          ],
          [
           "</br>id: 1833</br>prediction: 0.025</br>angleToGoal: 21.687005416158616</br></br>h_a: 0.0</br>situation: 2.0</br>shotType: 0.0</br>lastAction: 0.0</br>minute: 3</br>distanceToGoal: 9.53310076709881</br>_original_yhat_: 0.053361547462168445</br>"
          ],
          [
           "</br>id: 1833</br>prediction: 0.027</br>angleToGoal: 22.561158623948206</br></br>h_a: 0.0</br>situation: 2.0</br>shotType: 0.0</br>lastAction: 0.0</br>minute: 3</br>distanceToGoal: 9.53310076709881</br>_original_yhat_: 0.053361547462168445</br>"
          ],
          [
           "</br>id: 1833</br>prediction: 0.027</br>angleToGoal: 23.435311831737796</br></br>h_a: 0.0</br>situation: 2.0</br>shotType: 0.0</br>lastAction: 0.0</br>minute: 3</br>distanceToGoal: 9.53310076709881</br>_original_yhat_: 0.053361547462168445</br>"
          ],
          [
           "</br>id: 1833</br>prediction: 0.027</br>angleToGoal: 24.309465039527385</br></br>h_a: 0.0</br>situation: 2.0</br>shotType: 0.0</br>lastAction: 0.0</br>minute: 3</br>distanceToGoal: 9.53310076709881</br>_original_yhat_: 0.053361547462168445</br>"
          ],
          [
           "</br>id: 1833</br>prediction: 0.027</br>angleToGoal: 25.183618247316975</br></br>h_a: 0.0</br>situation: 2.0</br>shotType: 0.0</br>lastAction: 0.0</br>minute: 3</br>distanceToGoal: 9.53310076709881</br>_original_yhat_: 0.053361547462168445</br>"
          ],
          [
           "</br>id: 1833</br>prediction: 0.016</br>angleToGoal: 26.05777145510656</br></br>h_a: 0.0</br>situation: 2.0</br>shotType: 0.0</br>lastAction: 0.0</br>minute: 3</br>distanceToGoal: 9.53310076709881</br>_original_yhat_: 0.053361547462168445</br>"
          ],
          [
           "</br>id: 1833</br>prediction: 0.016</br>angleToGoal: 26.93192466289615</br></br>h_a: 0.0</br>situation: 2.0</br>shotType: 0.0</br>lastAction: 0.0</br>minute: 3</br>distanceToGoal: 9.53310076709881</br>_original_yhat_: 0.053361547462168445</br>"
          ],
          [
           "</br>id: 1833</br>prediction: 0.016</br>angleToGoal: 27.80607787068574</br></br>h_a: 0.0</br>situation: 2.0</br>shotType: 0.0</br>lastAction: 0.0</br>minute: 3</br>distanceToGoal: 9.53310076709881</br>_original_yhat_: 0.053361547462168445</br>"
          ],
          [
           "</br>id: 1833</br>prediction: 0.016</br>angleToGoal: 28.68023107847533</br></br>h_a: 0.0</br>situation: 2.0</br>shotType: 0.0</br>lastAction: 0.0</br>minute: 3</br>distanceToGoal: 9.53310076709881</br>_original_yhat_: 0.053361547462168445</br>"
          ],
          [
           "</br>id: 1833</br>prediction: 0.016</br>angleToGoal: 29.55438428626492</br></br>h_a: 0.0</br>situation: 2.0</br>shotType: 0.0</br>lastAction: 0.0</br>minute: 3</br>distanceToGoal: 9.53310076709881</br>_original_yhat_: 0.053361547462168445</br>"
          ],
          [
           "</br>id: 1833</br>prediction: 0.016</br>angleToGoal: 30.42853749405451</br></br>h_a: 0.0</br>situation: 2.0</br>shotType: 0.0</br>lastAction: 0.0</br>minute: 3</br>distanceToGoal: 9.53310076709881</br>_original_yhat_: 0.053361547462168445</br>"
          ],
          [
           "</br>id: 1833</br>prediction: 0.016</br>angleToGoal: 31.3026907018441</br></br>h_a: 0.0</br>situation: 2.0</br>shotType: 0.0</br>lastAction: 0.0</br>minute: 3</br>distanceToGoal: 9.53310076709881</br>_original_yhat_: 0.053361547462168445</br>"
          ],
          [
           "</br>id: 1833</br>prediction: 0.016</br>angleToGoal: 32.17684390963369</br></br>h_a: 0.0</br>situation: 2.0</br>shotType: 0.0</br>lastAction: 0.0</br>minute: 3</br>distanceToGoal: 9.53310076709881</br>_original_yhat_: 0.053361547462168445</br>"
          ],
          [
           "</br>id: 1833</br>prediction: 0.016</br>angleToGoal: 33.05099711742328</br></br>h_a: 0.0</br>situation: 2.0</br>shotType: 0.0</br>lastAction: 0.0</br>minute: 3</br>distanceToGoal: 9.53310076709881</br>_original_yhat_: 0.053361547462168445</br>"
          ],
          [
           "</br>id: 1833</br>prediction: 0.029</br>angleToGoal: 33.92515032521287</br></br>h_a: 0.0</br>situation: 2.0</br>shotType: 0.0</br>lastAction: 0.0</br>minute: 3</br>distanceToGoal: 9.53310076709881</br>_original_yhat_: 0.053361547462168445</br>"
          ],
          [
           "</br>id: 1833</br>prediction: 0.029</br>angleToGoal: 34.79930353300246</br></br>h_a: 0.0</br>situation: 2.0</br>shotType: 0.0</br>lastAction: 0.0</br>minute: 3</br>distanceToGoal: 9.53310076709881</br>_original_yhat_: 0.053361547462168445</br>"
          ],
          [
           "</br>id: 1833</br>prediction: 0.029</br>angleToGoal: 35.67345674079205</br></br>h_a: 0.0</br>situation: 2.0</br>shotType: 0.0</br>lastAction: 0.0</br>minute: 3</br>distanceToGoal: 9.53310076709881</br>_original_yhat_: 0.053361547462168445</br>"
          ],
          [
           "</br>id: 1833</br>prediction: 0.025</br>angleToGoal: 36.54760994858164</br></br>h_a: 0.0</br>situation: 2.0</br>shotType: 0.0</br>lastAction: 0.0</br>minute: 3</br>distanceToGoal: 9.53310076709881</br>_original_yhat_: 0.053361547462168445</br>"
          ],
          [
           "</br>id: 1833</br>prediction: 0.025</br>angleToGoal: 37.42176315637123</br></br>h_a: 0.0</br>situation: 2.0</br>shotType: 0.0</br>lastAction: 0.0</br>minute: 3</br>distanceToGoal: 9.53310076709881</br>_original_yhat_: 0.053361547462168445</br>"
          ],
          [
           "</br>id: 1833</br>prediction: 0.042</br>angleToGoal: 38.29591636416082</br></br>h_a: 0.0</br>situation: 2.0</br>shotType: 0.0</br>lastAction: 0.0</br>minute: 3</br>distanceToGoal: 9.53310076709881</br>_original_yhat_: 0.053361547462168445</br>"
          ],
          [
           "</br>id: 1833</br>prediction: 0.043</br>angleToGoal: 39.17006957195041</br></br>h_a: 0.0</br>situation: 2.0</br>shotType: 0.0</br>lastAction: 0.0</br>minute: 3</br>distanceToGoal: 9.53310076709881</br>_original_yhat_: 0.053361547462168445</br>"
          ],
          [
           "</br>id: 1833</br>prediction: 0.053</br>angleToGoal: 40.04422277974</br></br>h_a: 0.0</br>situation: 2.0</br>shotType: 0.0</br>lastAction: 0.0</br>minute: 3</br>distanceToGoal: 9.53310076709881</br>_original_yhat_: 0.053361547462168445</br>"
          ],
          [
           "</br>id: 1833</br>prediction: 0.053</br>angleToGoal: 40.4664837945122</br></br>h_a: 0.0</br>situation: 2.0</br>shotType: 0.0</br>lastAction: 0.0</br>minute: 3</br>distanceToGoal: 9.53310076709881</br>_original_yhat_: 0.053361547462168445</br>"
          ],
          [
           "</br>id: 1833</br>prediction: 0.053</br>angleToGoal: 40.918375987529586</br></br>h_a: 0.0</br>situation: 2.0</br>shotType: 0.0</br>lastAction: 0.0</br>minute: 3</br>distanceToGoal: 9.53310076709881</br>_original_yhat_: 0.053361547462168445</br>"
          ],
          [
           "</br>id: 1833</br>prediction: 0.053</br>angleToGoal: 41.792529195319176</br></br>h_a: 0.0</br>situation: 2.0</br>shotType: 0.0</br>lastAction: 0.0</br>minute: 3</br>distanceToGoal: 9.53310076709881</br>_original_yhat_: 0.053361547462168445</br>"
          ],
          [
           "</br>id: 1833</br>prediction: 0.053</br>angleToGoal: 42.666682403108766</br></br>h_a: 0.0</br>situation: 2.0</br>shotType: 0.0</br>lastAction: 0.0</br>minute: 3</br>distanceToGoal: 9.53310076709881</br>_original_yhat_: 0.053361547462168445</br>"
          ],
          [
           "</br>id: 1833</br>prediction: 0.049</br>angleToGoal: 43.540835610898355</br></br>h_a: 0.0</br>situation: 2.0</br>shotType: 0.0</br>lastAction: 0.0</br>minute: 3</br>distanceToGoal: 9.53310076709881</br>_original_yhat_: 0.053361547462168445</br>"
          ],
          [
           "</br>id: 1833</br>prediction: 0.049</br>angleToGoal: 44.414988818687945</br></br>h_a: 0.0</br>situation: 2.0</br>shotType: 0.0</br>lastAction: 0.0</br>minute: 3</br>distanceToGoal: 9.53310076709881</br>_original_yhat_: 0.053361547462168445</br>"
          ],
          [
           "</br>id: 1833</br>prediction: 0.062</br>angleToGoal: 45.289142026477535</br></br>h_a: 0.0</br>situation: 2.0</br>shotType: 0.0</br>lastAction: 0.0</br>minute: 3</br>distanceToGoal: 9.53310076709881</br>_original_yhat_: 0.053361547462168445</br>"
          ],
          [
           "</br>id: 1833</br>prediction: 0.064</br>angleToGoal: 46.163295234267125</br></br>h_a: 0.0</br>situation: 2.0</br>shotType: 0.0</br>lastAction: 0.0</br>minute: 3</br>distanceToGoal: 9.53310076709881</br>_original_yhat_: 0.053361547462168445</br>"
          ],
          [
           "</br>id: 1833</br>prediction: 0.058</br>angleToGoal: 47.037448442056714</br></br>h_a: 0.0</br>situation: 2.0</br>shotType: 0.0</br>lastAction: 0.0</br>minute: 3</br>distanceToGoal: 9.53310076709881</br>_original_yhat_: 0.053361547462168445</br>"
          ],
          [
           "</br>id: 1833</br>prediction: 0.058</br>angleToGoal: 47.911601649846304</br></br>h_a: 0.0</br>situation: 2.0</br>shotType: 0.0</br>lastAction: 0.0</br>minute: 3</br>distanceToGoal: 9.53310076709881</br>_original_yhat_: 0.053361547462168445</br>"
          ],
          [
           "</br>id: 1833</br>prediction: 0.058</br>angleToGoal: 48.785754857635894</br></br>h_a: 0.0</br>situation: 2.0</br>shotType: 0.0</br>lastAction: 0.0</br>minute: 3</br>distanceToGoal: 9.53310076709881</br>_original_yhat_: 0.053361547462168445</br>"
          ],
          [
           "</br>id: 1833</br>prediction: 0.058</br>angleToGoal: 49.659908065425476</br></br>h_a: 0.0</br>situation: 2.0</br>shotType: 0.0</br>lastAction: 0.0</br>minute: 3</br>distanceToGoal: 9.53310076709881</br>_original_yhat_: 0.053361547462168445</br>"
          ],
          [
           "</br>id: 1833</br>prediction: 0.212</br>angleToGoal: 50.534061273215066</br></br>h_a: 0.0</br>situation: 2.0</br>shotType: 0.0</br>lastAction: 0.0</br>minute: 3</br>distanceToGoal: 9.53310076709881</br>_original_yhat_: 0.053361547462168445</br>"
          ],
          [
           "</br>id: 1833</br>prediction: 0.182</br>angleToGoal: 51.408214481004656</br></br>h_a: 0.0</br>situation: 2.0</br>shotType: 0.0</br>lastAction: 0.0</br>minute: 3</br>distanceToGoal: 9.53310076709881</br>_original_yhat_: 0.053361547462168445</br>"
          ],
          [
           "</br>id: 1833</br>prediction: 0.182</br>angleToGoal: 52.282367688794245</br></br>h_a: 0.0</br>situation: 2.0</br>shotType: 0.0</br>lastAction: 0.0</br>minute: 3</br>distanceToGoal: 9.53310076709881</br>_original_yhat_: 0.053361547462168445</br>"
          ],
          [
           "</br>id: 1833</br>prediction: 0.182</br>angleToGoal: 53.156520896583835</br></br>h_a: 0.0</br>situation: 2.0</br>shotType: 0.0</br>lastAction: 0.0</br>minute: 3</br>distanceToGoal: 9.53310076709881</br>_original_yhat_: 0.053361547462168445</br>"
          ],
          [
           "</br>id: 1833</br>prediction: 0.182</br>angleToGoal: 54.030674104373425</br></br>h_a: 0.0</br>situation: 2.0</br>shotType: 0.0</br>lastAction: 0.0</br>minute: 3</br>distanceToGoal: 9.53310076709881</br>_original_yhat_: 0.053361547462168445</br>"
          ],
          [
           "</br>id: 1833</br>prediction: 0.182</br>angleToGoal: 54.904827312163015</br></br>h_a: 0.0</br>situation: 2.0</br>shotType: 0.0</br>lastAction: 0.0</br>minute: 3</br>distanceToGoal: 9.53310076709881</br>_original_yhat_: 0.053361547462168445</br>"
          ],
          [
           "</br>id: 1833</br>prediction: 0.182</br>angleToGoal: 55.778980519952604</br></br>h_a: 0.0</br>situation: 2.0</br>shotType: 0.0</br>lastAction: 0.0</br>minute: 3</br>distanceToGoal: 9.53310076709881</br>_original_yhat_: 0.053361547462168445</br>"
          ],
          [
           "</br>id: 1833</br>prediction: 0.169</br>angleToGoal: 56.653133727742194</br></br>h_a: 0.0</br>situation: 2.0</br>shotType: 0.0</br>lastAction: 0.0</br>minute: 3</br>distanceToGoal: 9.53310076709881</br>_original_yhat_: 0.053361547462168445</br>"
          ],
          [
           "</br>id: 1833</br>prediction: 0.169</br>angleToGoal: 57.527286935531784</br></br>h_a: 0.0</br>situation: 2.0</br>shotType: 0.0</br>lastAction: 0.0</br>minute: 3</br>distanceToGoal: 9.53310076709881</br>_original_yhat_: 0.053361547462168445</br>"
          ],
          [
           "</br>id: 1833</br>prediction: 0.169</br>angleToGoal: 58.40144014332137</br></br>h_a: 0.0</br>situation: 2.0</br>shotType: 0.0</br>lastAction: 0.0</br>minute: 3</br>distanceToGoal: 9.53310076709881</br>_original_yhat_: 0.053361547462168445</br>"
          ],
          [
           "</br>id: 1833</br>prediction: 0.169</br>angleToGoal: 59.27559335111096</br></br>h_a: 0.0</br>situation: 2.0</br>shotType: 0.0</br>lastAction: 0.0</br>minute: 3</br>distanceToGoal: 9.53310076709881</br>_original_yhat_: 0.053361547462168445</br>"
          ],
          [
           "</br>id: 1833</br>prediction: 0.169</br>angleToGoal: 60.14974655890055</br></br>h_a: 0.0</br>situation: 2.0</br>shotType: 0.0</br>lastAction: 0.0</br>minute: 3</br>distanceToGoal: 9.53310076709881</br>_original_yhat_: 0.053361547462168445</br>"
          ],
          [
           "</br>id: 1833</br>prediction: 0.225</br>angleToGoal: 61.02389976669014</br></br>h_a: 0.0</br>situation: 2.0</br>shotType: 0.0</br>lastAction: 0.0</br>minute: 3</br>distanceToGoal: 9.53310076709881</br>_original_yhat_: 0.053361547462168445</br>"
          ],
          [
           "</br>id: 1833</br>prediction: 0.092</br>angleToGoal: 61.89805297447973</br></br>h_a: 0.0</br>situation: 2.0</br>shotType: 0.0</br>lastAction: 0.0</br>minute: 3</br>distanceToGoal: 9.53310076709881</br>_original_yhat_: 0.053361547462168445</br>"
          ],
          [
           "</br>id: 1833</br>prediction: 0.128</br>angleToGoal: 62.77220618226932</br></br>h_a: 0.0</br>situation: 2.0</br>shotType: 0.0</br>lastAction: 0.0</br>minute: 3</br>distanceToGoal: 9.53310076709881</br>_original_yhat_: 0.053361547462168445</br>"
          ],
          [
           "</br>id: 1833</br>prediction: 0.128</br>angleToGoal: 63.64635939005891</br></br>h_a: 0.0</br>situation: 2.0</br>shotType: 0.0</br>lastAction: 0.0</br>minute: 3</br>distanceToGoal: 9.53310076709881</br>_original_yhat_: 0.053361547462168445</br>"
          ],
          [
           "</br>id: 1833</br>prediction: 0.128</br>angleToGoal: 64.5205125978485</br></br>h_a: 0.0</br>situation: 2.0</br>shotType: 0.0</br>lastAction: 0.0</br>minute: 3</br>distanceToGoal: 9.53310076709881</br>_original_yhat_: 0.053361547462168445</br>"
          ],
          [
           "</br>id: 1833</br>prediction: 0.128</br>angleToGoal: 65.39466580563808</br></br>h_a: 0.0</br>situation: 2.0</br>shotType: 0.0</br>lastAction: 0.0</br>minute: 3</br>distanceToGoal: 9.53310076709881</br>_original_yhat_: 0.053361547462168445</br>"
          ],
          [
           "</br>id: 1833</br>prediction: 0.128</br>angleToGoal: 66.26881901342767</br></br>h_a: 0.0</br>situation: 2.0</br>shotType: 0.0</br>lastAction: 0.0</br>minute: 3</br>distanceToGoal: 9.53310076709881</br>_original_yhat_: 0.053361547462168445</br>"
          ],
          [
           "</br>id: 1833</br>prediction: 0.128</br>angleToGoal: 67.14297222121726</br></br>h_a: 0.0</br>situation: 2.0</br>shotType: 0.0</br>lastAction: 0.0</br>minute: 3</br>distanceToGoal: 9.53310076709881</br>_original_yhat_: 0.053361547462168445</br>"
          ],
          [
           "</br>id: 1833</br>prediction: 0.128</br>angleToGoal: 68.01712542900685</br></br>h_a: 0.0</br>situation: 2.0</br>shotType: 0.0</br>lastAction: 0.0</br>minute: 3</br>distanceToGoal: 9.53310076709881</br>_original_yhat_: 0.053361547462168445</br>"
          ],
          [
           "</br>id: 1833</br>prediction: 0.128</br>angleToGoal: 68.89127863679644</br></br>h_a: 0.0</br>situation: 2.0</br>shotType: 0.0</br>lastAction: 0.0</br>minute: 3</br>distanceToGoal: 9.53310076709881</br>_original_yhat_: 0.053361547462168445</br>"
          ],
          [
           "</br>id: 1833</br>prediction: 0.128</br>angleToGoal: 69.76543184458603</br></br>h_a: 0.0</br>situation: 2.0</br>shotType: 0.0</br>lastAction: 0.0</br>minute: 3</br>distanceToGoal: 9.53310076709881</br>_original_yhat_: 0.053361547462168445</br>"
          ],
          [
           "</br>id: 1833</br>prediction: 0.128</br>angleToGoal: 70.63958505237562</br></br>h_a: 0.0</br>situation: 2.0</br>shotType: 0.0</br>lastAction: 0.0</br>minute: 3</br>distanceToGoal: 9.53310076709881</br>_original_yhat_: 0.053361547462168445</br>"
          ],
          [
           "</br>id: 1833</br>prediction: 0.128</br>angleToGoal: 71.51373826016521</br></br>h_a: 0.0</br>situation: 2.0</br>shotType: 0.0</br>lastAction: 0.0</br>minute: 3</br>distanceToGoal: 9.53310076709881</br>_original_yhat_: 0.053361547462168445</br>"
          ],
          [
           "</br>id: 1833</br>prediction: 0.128</br>angleToGoal: 72.3878914679548</br></br>h_a: 0.0</br>situation: 2.0</br>shotType: 0.0</br>lastAction: 0.0</br>minute: 3</br>distanceToGoal: 9.53310076709881</br>_original_yhat_: 0.053361547462168445</br>"
          ],
          [
           "</br>id: 1833</br>prediction: 0.128</br>angleToGoal: 73.26204467574439</br></br>h_a: 0.0</br>situation: 2.0</br>shotType: 0.0</br>lastAction: 0.0</br>minute: 3</br>distanceToGoal: 9.53310076709881</br>_original_yhat_: 0.053361547462168445</br>"
          ],
          [
           "</br>id: 1833</br>prediction: 0.128</br>angleToGoal: 74.13619788353398</br></br>h_a: 0.0</br>situation: 2.0</br>shotType: 0.0</br>lastAction: 0.0</br>minute: 3</br>distanceToGoal: 9.53310076709881</br>_original_yhat_: 0.053361547462168445</br>"
          ],
          [
           "</br>id: 1833</br>prediction: 0.128</br>angleToGoal: 75.01035109132357</br></br>h_a: 0.0</br>situation: 2.0</br>shotType: 0.0</br>lastAction: 0.0</br>minute: 3</br>distanceToGoal: 9.53310076709881</br>_original_yhat_: 0.053361547462168445</br>"
          ],
          [
           "</br>id: 1833</br>prediction: 0.106</br>angleToGoal: 75.88450429911316</br></br>h_a: 0.0</br>situation: 2.0</br>shotType: 0.0</br>lastAction: 0.0</br>minute: 3</br>distanceToGoal: 9.53310076709881</br>_original_yhat_: 0.053361547462168445</br>"
          ],
          [
           "</br>id: 1833</br>prediction: 0.106</br>angleToGoal: 76.75865750690275</br></br>h_a: 0.0</br>situation: 2.0</br>shotType: 0.0</br>lastAction: 0.0</br>minute: 3</br>distanceToGoal: 9.53310076709881</br>_original_yhat_: 0.053361547462168445</br>"
          ],
          [
           "</br>id: 1833</br>prediction: 0.095</br>angleToGoal: 77.63281071469234</br></br>h_a: 0.0</br>situation: 2.0</br>shotType: 0.0</br>lastAction: 0.0</br>minute: 3</br>distanceToGoal: 9.53310076709881</br>_original_yhat_: 0.053361547462168445</br>"
          ],
          [
           "</br>id: 1833</br>prediction: 0.095</br>angleToGoal: 78.50696392248193</br></br>h_a: 0.0</br>situation: 2.0</br>shotType: 0.0</br>lastAction: 0.0</br>minute: 3</br>distanceToGoal: 9.53310076709881</br>_original_yhat_: 0.053361547462168445</br>"
          ],
          [
           "</br>id: 1833</br>prediction: 0.095</br>angleToGoal: 79.38111713027152</br></br>h_a: 0.0</br>situation: 2.0</br>shotType: 0.0</br>lastAction: 0.0</br>minute: 3</br>distanceToGoal: 9.53310076709881</br>_original_yhat_: 0.053361547462168445</br>"
          ],
          [
           "</br>id: 1833</br>prediction: 0.095</br>angleToGoal: 80.25527033806111</br></br>h_a: 0.0</br>situation: 2.0</br>shotType: 0.0</br>lastAction: 0.0</br>minute: 3</br>distanceToGoal: 9.53310076709881</br>_original_yhat_: 0.053361547462168445</br>"
          ],
          [
           "</br>id: 1833</br>prediction: 0.095</br>angleToGoal: 81.1294235458507</br></br>h_a: 0.0</br>situation: 2.0</br>shotType: 0.0</br>lastAction: 0.0</br>minute: 3</br>distanceToGoal: 9.53310076709881</br>_original_yhat_: 0.053361547462168445</br>"
          ],
          [
           "</br>id: 1833</br>prediction: 0.095</br>angleToGoal: 82.00357675364029</br></br>h_a: 0.0</br>situation: 2.0</br>shotType: 0.0</br>lastAction: 0.0</br>minute: 3</br>distanceToGoal: 9.53310076709881</br>_original_yhat_: 0.053361547462168445</br>"
          ],
          [
           "</br>id: 1833</br>prediction: 0.2</br>angleToGoal: 82.87772996142988</br></br>h_a: 0.0</br>situation: 2.0</br>shotType: 0.0</br>lastAction: 0.0</br>minute: 3</br>distanceToGoal: 9.53310076709881</br>_original_yhat_: 0.053361547462168445</br>"
          ],
          [
           "</br>id: 1833</br>prediction: 0.12</br>angleToGoal: 83.75188316921947</br></br>h_a: 0.0</br>situation: 2.0</br>shotType: 0.0</br>lastAction: 0.0</br>minute: 3</br>distanceToGoal: 9.53310076709881</br>_original_yhat_: 0.053361547462168445</br>"
          ],
          [
           "</br>id: 1833</br>prediction: 0.12</br>angleToGoal: 84.62603637700906</br></br>h_a: 0.0</br>situation: 2.0</br>shotType: 0.0</br>lastAction: 0.0</br>minute: 3</br>distanceToGoal: 9.53310076709881</br>_original_yhat_: 0.053361547462168445</br>"
          ],
          [
           "</br>id: 1833</br>prediction: 0.125</br>angleToGoal: 85.50018958479865</br></br>h_a: 0.0</br>situation: 2.0</br>shotType: 0.0</br>lastAction: 0.0</br>minute: 3</br>distanceToGoal: 9.53310076709881</br>_original_yhat_: 0.053361547462168445</br>"
          ],
          [
           "</br>id: 1833</br>prediction: 0.125</br>angleToGoal: 86.37434279258824</br></br>h_a: 0.0</br>situation: 2.0</br>shotType: 0.0</br>lastAction: 0.0</br>minute: 3</br>distanceToGoal: 9.53310076709881</br>_original_yhat_: 0.053361547462168445</br>"
          ],
          [
           "</br>id: 1833</br>prediction: 0.125</br>angleToGoal: 87.24849600037783</br></br>h_a: 0.0</br>situation: 2.0</br>shotType: 0.0</br>lastAction: 0.0</br>minute: 3</br>distanceToGoal: 9.53310076709881</br>_original_yhat_: 0.053361547462168445</br>"
          ],
          [
           "</br>id: 1833</br>prediction: 0.125</br>angleToGoal: 88.12264920816742</br></br>h_a: 0.0</br>situation: 2.0</br>shotType: 0.0</br>lastAction: 0.0</br>minute: 3</br>distanceToGoal: 9.53310076709881</br>_original_yhat_: 0.053361547462168445</br>"
          ],
          [
           "</br>id: 1833</br>prediction: 0.198</br>angleToGoal: 88.996802415957</br></br>h_a: 0.0</br>situation: 2.0</br>shotType: 0.0</br>lastAction: 0.0</br>minute: 3</br>distanceToGoal: 9.53310076709881</br>_original_yhat_: 0.053361547462168445</br>"
          ],
          [
           "</br>id: 1833</br>prediction: 0.414</br>angleToGoal: 89.8709556237466</br></br>h_a: 0.0</br>situation: 2.0</br>shotType: 0.0</br>lastAction: 0.0</br>minute: 3</br>distanceToGoal: 9.53310076709881</br>_original_yhat_: 0.053361547462168445</br>"
          ]
         ],
         "hovertemplate": "%{customdata[0]}<extra></extra>",
         "legendgroup": "Gradient Boosting",
         "line": {
          "color": "#8bdcbe",
          "dash": "solid",
          "width": 2
         },
         "marker": {
          "symbol": "circle"
         },
         "mode": "lines",
         "name": "Gradient Boosting",
         "opacity": 1,
         "showlegend": false,
         "type": "scattergl",
         "x": [
          2.45563484478765,
          3.329788052577239,
          4.203941260366829,
          5.078094468156419,
          5.9522476759460075,
          6.826400883735596,
          7.700554091525186,
          8.574707299314776,
          9.448860507104365,
          10.323013714893955,
          11.197166922683543,
          12.071320130473133,
          12.945473338262723,
          13.819626546052312,
          14.6937797538419,
          15.56793296163149,
          16.44208616942108,
          17.31623937721067,
          18.19039258500026,
          19.064545792789847,
          19.938699000579437,
          20.812852208369026,
          21.687005416158616,
          22.561158623948206,
          23.435311831737796,
          24.309465039527385,
          25.183618247316975,
          26.05777145510656,
          26.93192466289615,
          27.80607787068574,
          28.68023107847533,
          29.55438428626492,
          30.42853749405451,
          31.3026907018441,
          32.17684390963369,
          33.05099711742328,
          33.92515032521287,
          34.79930353300246,
          35.67345674079205,
          36.54760994858164,
          37.42176315637123,
          38.29591636416082,
          39.17006957195041,
          40.04422277974,
          40.4664837945122,
          40.918375987529586,
          41.792529195319176,
          42.666682403108766,
          43.540835610898355,
          44.414988818687945,
          45.289142026477535,
          46.163295234267125,
          47.037448442056714,
          47.911601649846304,
          48.785754857635894,
          49.659908065425476,
          50.534061273215066,
          51.408214481004656,
          52.282367688794245,
          53.156520896583835,
          54.030674104373425,
          54.904827312163015,
          55.778980519952604,
          56.653133727742194,
          57.527286935531784,
          58.40144014332137,
          59.27559335111096,
          60.14974655890055,
          61.02389976669014,
          61.89805297447973,
          62.77220618226932,
          63.64635939005891,
          64.5205125978485,
          65.39466580563808,
          66.26881901342767,
          67.14297222121726,
          68.01712542900685,
          68.89127863679644,
          69.76543184458603,
          70.63958505237562,
          71.51373826016521,
          72.3878914679548,
          73.26204467574439,
          74.13619788353398,
          75.01035109132357,
          75.88450429911316,
          76.75865750690275,
          77.63281071469234,
          78.50696392248193,
          79.38111713027152,
          80.25527033806111,
          81.1294235458507,
          82.00357675364029,
          82.87772996142988,
          83.75188316921947,
          84.62603637700906,
          85.50018958479865,
          86.37434279258824,
          87.24849600037783,
          88.12264920816742,
          88.996802415957,
          89.8709556237466
         ],
         "xaxis": "x",
         "y": [
          0.6709403964069722,
          0.6709403964069722,
          0.6709403964069722,
          0.5145463756192645,
          0.20040436794494465,
          0.20040436794494465,
          0.20040436794494465,
          0.20040436794494465,
          0.23137478353201302,
          0.23137478353201302,
          0.23137478353201302,
          0.23137478353201302,
          0.23137478353201302,
          0.045564598950213614,
          0.045564598950213614,
          0.045564598950213614,
          0.025921247889572018,
          0.025921247889572018,
          0.025921247889572018,
          0.025921247889572018,
          0.025921247889572018,
          0.02478915632149569,
          0.02478915632149569,
          0.026766575546228046,
          0.026766575546228046,
          0.026766575546228046,
          0.026766575546228046,
          0.015827521370278035,
          0.015827521370278035,
          0.015827521370278035,
          0.015827521370278035,
          0.015827521370278035,
          0.015827521370278035,
          0.015827521370278035,
          0.015827521370278035,
          0.015827521370278035,
          0.029480786656543797,
          0.029480786656543797,
          0.029480786656543797,
          0.024954220441190354,
          0.024954220441190354,
          0.04154581673814885,
          0.04349864889641993,
          0.053361547462168445,
          0.053361547462168445,
          0.053361547462168445,
          0.053361547462168445,
          0.053361547462168445,
          0.048592703989978434,
          0.048592703989978434,
          0.06221346698463704,
          0.06390672329114125,
          0.058164060228634164,
          0.058164060228634164,
          0.058164060228634164,
          0.058164060228634164,
          0.2120811261877218,
          0.1821990005972219,
          0.1821990005972219,
          0.1821990005972219,
          0.1821990005972219,
          0.1821990005972219,
          0.1821990005972219,
          0.16906115016158615,
          0.16906115016158615,
          0.16906115016158615,
          0.16906115016158615,
          0.16906115016158615,
          0.22457718519174238,
          0.09175069607000531,
          0.12822724142922204,
          0.12822724142922204,
          0.12822724142922204,
          0.12822724142922204,
          0.12822724142922204,
          0.12822724142922204,
          0.12822724142922204,
          0.12822724142922204,
          0.12822724142922204,
          0.12822724142922204,
          0.12822724142922204,
          0.12822724142922204,
          0.12822724142922204,
          0.12822724142922204,
          0.12822724142922204,
          0.10568357459970427,
          0.10568357459970427,
          0.0949130068558669,
          0.0949130068558669,
          0.0949130068558669,
          0.0949130068558669,
          0.0949130068558669,
          0.0949130068558669,
          0.20010710070255427,
          0.11992375711754341,
          0.11992375711754341,
          0.12481118551247324,
          0.12481118551247324,
          0.12481118551247324,
          0.12481118551247324,
          0.19780241491779244,
          0.41373967401866873
         ],
         "yaxis": "y"
        },
        {
         "customdata": [
          [
           "</br>id: 1833</br>prediction: 0.07</br>h_a: 0.0</br></br>situation: 2.0</br>shotType: 0.0</br>lastAction: 0.0</br>minute: 3</br>distanceToGoal: 9.53310076709881</br>angleToGoal: 40.4664837945122</br>_original_yhat_: 0.07</br>"
          ],
          [
           "</br>id: 1833</br>prediction: 0.07</br>h_a: 0.01</br></br>situation: 2.0</br>shotType: 0.0</br>lastAction: 0.0</br>minute: 3</br>distanceToGoal: 9.53310076709881</br>angleToGoal: 40.4664837945122</br>_original_yhat_: 0.07</br>"
          ],
          [
           "</br>id: 1833</br>prediction: 0.07</br>h_a: 0.02</br></br>situation: 2.0</br>shotType: 0.0</br>lastAction: 0.0</br>minute: 3</br>distanceToGoal: 9.53310076709881</br>angleToGoal: 40.4664837945122</br>_original_yhat_: 0.07</br>"
          ],
          [
           "</br>id: 1833</br>prediction: 0.07</br>h_a: 0.03</br></br>situation: 2.0</br>shotType: 0.0</br>lastAction: 0.0</br>minute: 3</br>distanceToGoal: 9.53310076709881</br>angleToGoal: 40.4664837945122</br>_original_yhat_: 0.07</br>"
          ],
          [
           "</br>id: 1833</br>prediction: 0.07</br>h_a: 0.04</br></br>situation: 2.0</br>shotType: 0.0</br>lastAction: 0.0</br>minute: 3</br>distanceToGoal: 9.53310076709881</br>angleToGoal: 40.4664837945122</br>_original_yhat_: 0.07</br>"
          ],
          [
           "</br>id: 1833</br>prediction: 0.07</br>h_a: 0.05</br></br>situation: 2.0</br>shotType: 0.0</br>lastAction: 0.0</br>minute: 3</br>distanceToGoal: 9.53310076709881</br>angleToGoal: 40.4664837945122</br>_original_yhat_: 0.07</br>"
          ],
          [
           "</br>id: 1833</br>prediction: 0.07</br>h_a: 0.06</br></br>situation: 2.0</br>shotType: 0.0</br>lastAction: 0.0</br>minute: 3</br>distanceToGoal: 9.53310076709881</br>angleToGoal: 40.4664837945122</br>_original_yhat_: 0.07</br>"
          ],
          [
           "</br>id: 1833</br>prediction: 0.07</br>h_a: 0.07</br></br>situation: 2.0</br>shotType: 0.0</br>lastAction: 0.0</br>minute: 3</br>distanceToGoal: 9.53310076709881</br>angleToGoal: 40.4664837945122</br>_original_yhat_: 0.07</br>"
          ],
          [
           "</br>id: 1833</br>prediction: 0.07</br>h_a: 0.08</br></br>situation: 2.0</br>shotType: 0.0</br>lastAction: 0.0</br>minute: 3</br>distanceToGoal: 9.53310076709881</br>angleToGoal: 40.4664837945122</br>_original_yhat_: 0.07</br>"
          ],
          [
           "</br>id: 1833</br>prediction: 0.07</br>h_a: 0.09</br></br>situation: 2.0</br>shotType: 0.0</br>lastAction: 0.0</br>minute: 3</br>distanceToGoal: 9.53310076709881</br>angleToGoal: 40.4664837945122</br>_original_yhat_: 0.07</br>"
          ],
          [
           "</br>id: 1833</br>prediction: 0.07</br>h_a: 0.1</br></br>situation: 2.0</br>shotType: 0.0</br>lastAction: 0.0</br>minute: 3</br>distanceToGoal: 9.53310076709881</br>angleToGoal: 40.4664837945122</br>_original_yhat_: 0.07</br>"
          ],
          [
           "</br>id: 1833</br>prediction: 0.07</br>h_a: 0.11</br></br>situation: 2.0</br>shotType: 0.0</br>lastAction: 0.0</br>minute: 3</br>distanceToGoal: 9.53310076709881</br>angleToGoal: 40.4664837945122</br>_original_yhat_: 0.07</br>"
          ],
          [
           "</br>id: 1833</br>prediction: 0.07</br>h_a: 0.12</br></br>situation: 2.0</br>shotType: 0.0</br>lastAction: 0.0</br>minute: 3</br>distanceToGoal: 9.53310076709881</br>angleToGoal: 40.4664837945122</br>_original_yhat_: 0.07</br>"
          ],
          [
           "</br>id: 1833</br>prediction: 0.07</br>h_a: 0.13</br></br>situation: 2.0</br>shotType: 0.0</br>lastAction: 0.0</br>minute: 3</br>distanceToGoal: 9.53310076709881</br>angleToGoal: 40.4664837945122</br>_original_yhat_: 0.07</br>"
          ],
          [
           "</br>id: 1833</br>prediction: 0.07</br>h_a: 0.14</br></br>situation: 2.0</br>shotType: 0.0</br>lastAction: 0.0</br>minute: 3</br>distanceToGoal: 9.53310076709881</br>angleToGoal: 40.4664837945122</br>_original_yhat_: 0.07</br>"
          ],
          [
           "</br>id: 1833</br>prediction: 0.07</br>h_a: 0.15</br></br>situation: 2.0</br>shotType: 0.0</br>lastAction: 0.0</br>minute: 3</br>distanceToGoal: 9.53310076709881</br>angleToGoal: 40.4664837945122</br>_original_yhat_: 0.07</br>"
          ],
          [
           "</br>id: 1833</br>prediction: 0.07</br>h_a: 0.16</br></br>situation: 2.0</br>shotType: 0.0</br>lastAction: 0.0</br>minute: 3</br>distanceToGoal: 9.53310076709881</br>angleToGoal: 40.4664837945122</br>_original_yhat_: 0.07</br>"
          ],
          [
           "</br>id: 1833</br>prediction: 0.07</br>h_a: 0.17</br></br>situation: 2.0</br>shotType: 0.0</br>lastAction: 0.0</br>minute: 3</br>distanceToGoal: 9.53310076709881</br>angleToGoal: 40.4664837945122</br>_original_yhat_: 0.07</br>"
          ],
          [
           "</br>id: 1833</br>prediction: 0.07</br>h_a: 0.18</br></br>situation: 2.0</br>shotType: 0.0</br>lastAction: 0.0</br>minute: 3</br>distanceToGoal: 9.53310076709881</br>angleToGoal: 40.4664837945122</br>_original_yhat_: 0.07</br>"
          ],
          [
           "</br>id: 1833</br>prediction: 0.07</br>h_a: 0.19</br></br>situation: 2.0</br>shotType: 0.0</br>lastAction: 0.0</br>minute: 3</br>distanceToGoal: 9.53310076709881</br>angleToGoal: 40.4664837945122</br>_original_yhat_: 0.07</br>"
          ],
          [
           "</br>id: 1833</br>prediction: 0.07</br>h_a: 0.2</br></br>situation: 2.0</br>shotType: 0.0</br>lastAction: 0.0</br>minute: 3</br>distanceToGoal: 9.53310076709881</br>angleToGoal: 40.4664837945122</br>_original_yhat_: 0.07</br>"
          ],
          [
           "</br>id: 1833</br>prediction: 0.07</br>h_a: 0.21</br></br>situation: 2.0</br>shotType: 0.0</br>lastAction: 0.0</br>minute: 3</br>distanceToGoal: 9.53310076709881</br>angleToGoal: 40.4664837945122</br>_original_yhat_: 0.07</br>"
          ],
          [
           "</br>id: 1833</br>prediction: 0.07</br>h_a: 0.22</br></br>situation: 2.0</br>shotType: 0.0</br>lastAction: 0.0</br>minute: 3</br>distanceToGoal: 9.53310076709881</br>angleToGoal: 40.4664837945122</br>_original_yhat_: 0.07</br>"
          ],
          [
           "</br>id: 1833</br>prediction: 0.07</br>h_a: 0.23</br></br>situation: 2.0</br>shotType: 0.0</br>lastAction: 0.0</br>minute: 3</br>distanceToGoal: 9.53310076709881</br>angleToGoal: 40.4664837945122</br>_original_yhat_: 0.07</br>"
          ],
          [
           "</br>id: 1833</br>prediction: 0.07</br>h_a: 0.24</br></br>situation: 2.0</br>shotType: 0.0</br>lastAction: 0.0</br>minute: 3</br>distanceToGoal: 9.53310076709881</br>angleToGoal: 40.4664837945122</br>_original_yhat_: 0.07</br>"
          ],
          [
           "</br>id: 1833</br>prediction: 0.07</br>h_a: 0.25</br></br>situation: 2.0</br>shotType: 0.0</br>lastAction: 0.0</br>minute: 3</br>distanceToGoal: 9.53310076709881</br>angleToGoal: 40.4664837945122</br>_original_yhat_: 0.07</br>"
          ],
          [
           "</br>id: 1833</br>prediction: 0.07</br>h_a: 0.26</br></br>situation: 2.0</br>shotType: 0.0</br>lastAction: 0.0</br>minute: 3</br>distanceToGoal: 9.53310076709881</br>angleToGoal: 40.4664837945122</br>_original_yhat_: 0.07</br>"
          ],
          [
           "</br>id: 1833</br>prediction: 0.07</br>h_a: 0.27</br></br>situation: 2.0</br>shotType: 0.0</br>lastAction: 0.0</br>minute: 3</br>distanceToGoal: 9.53310076709881</br>angleToGoal: 40.4664837945122</br>_original_yhat_: 0.07</br>"
          ],
          [
           "</br>id: 1833</br>prediction: 0.07</br>h_a: 0.28</br></br>situation: 2.0</br>shotType: 0.0</br>lastAction: 0.0</br>minute: 3</br>distanceToGoal: 9.53310076709881</br>angleToGoal: 40.4664837945122</br>_original_yhat_: 0.07</br>"
          ],
          [
           "</br>id: 1833</br>prediction: 0.07</br>h_a: 0.29</br></br>situation: 2.0</br>shotType: 0.0</br>lastAction: 0.0</br>minute: 3</br>distanceToGoal: 9.53310076709881</br>angleToGoal: 40.4664837945122</br>_original_yhat_: 0.07</br>"
          ],
          [
           "</br>id: 1833</br>prediction: 0.07</br>h_a: 0.3</br></br>situation: 2.0</br>shotType: 0.0</br>lastAction: 0.0</br>minute: 3</br>distanceToGoal: 9.53310076709881</br>angleToGoal: 40.4664837945122</br>_original_yhat_: 0.07</br>"
          ],
          [
           "</br>id: 1833</br>prediction: 0.07</br>h_a: 0.31</br></br>situation: 2.0</br>shotType: 0.0</br>lastAction: 0.0</br>minute: 3</br>distanceToGoal: 9.53310076709881</br>angleToGoal: 40.4664837945122</br>_original_yhat_: 0.07</br>"
          ],
          [
           "</br>id: 1833</br>prediction: 0.07</br>h_a: 0.32</br></br>situation: 2.0</br>shotType: 0.0</br>lastAction: 0.0</br>minute: 3</br>distanceToGoal: 9.53310076709881</br>angleToGoal: 40.4664837945122</br>_original_yhat_: 0.07</br>"
          ],
          [
           "</br>id: 1833</br>prediction: 0.07</br>h_a: 0.33</br></br>situation: 2.0</br>shotType: 0.0</br>lastAction: 0.0</br>minute: 3</br>distanceToGoal: 9.53310076709881</br>angleToGoal: 40.4664837945122</br>_original_yhat_: 0.07</br>"
          ],
          [
           "</br>id: 1833</br>prediction: 0.07</br>h_a: 0.34</br></br>situation: 2.0</br>shotType: 0.0</br>lastAction: 0.0</br>minute: 3</br>distanceToGoal: 9.53310076709881</br>angleToGoal: 40.4664837945122</br>_original_yhat_: 0.07</br>"
          ],
          [
           "</br>id: 1833</br>prediction: 0.07</br>h_a: 0.35000000000000003</br></br>situation: 2.0</br>shotType: 0.0</br>lastAction: 0.0</br>minute: 3</br>distanceToGoal: 9.53310076709881</br>angleToGoal: 40.4664837945122</br>_original_yhat_: 0.07</br>"
          ],
          [
           "</br>id: 1833</br>prediction: 0.07</br>h_a: 0.36</br></br>situation: 2.0</br>shotType: 0.0</br>lastAction: 0.0</br>minute: 3</br>distanceToGoal: 9.53310076709881</br>angleToGoal: 40.4664837945122</br>_original_yhat_: 0.07</br>"
          ],
          [
           "</br>id: 1833</br>prediction: 0.07</br>h_a: 0.37</br></br>situation: 2.0</br>shotType: 0.0</br>lastAction: 0.0</br>minute: 3</br>distanceToGoal: 9.53310076709881</br>angleToGoal: 40.4664837945122</br>_original_yhat_: 0.07</br>"
          ],
          [
           "</br>id: 1833</br>prediction: 0.07</br>h_a: 0.38</br></br>situation: 2.0</br>shotType: 0.0</br>lastAction: 0.0</br>minute: 3</br>distanceToGoal: 9.53310076709881</br>angleToGoal: 40.4664837945122</br>_original_yhat_: 0.07</br>"
          ],
          [
           "</br>id: 1833</br>prediction: 0.07</br>h_a: 0.39</br></br>situation: 2.0</br>shotType: 0.0</br>lastAction: 0.0</br>minute: 3</br>distanceToGoal: 9.53310076709881</br>angleToGoal: 40.4664837945122</br>_original_yhat_: 0.07</br>"
          ],
          [
           "</br>id: 1833</br>prediction: 0.07</br>h_a: 0.4</br></br>situation: 2.0</br>shotType: 0.0</br>lastAction: 0.0</br>minute: 3</br>distanceToGoal: 9.53310076709881</br>angleToGoal: 40.4664837945122</br>_original_yhat_: 0.07</br>"
          ],
          [
           "</br>id: 1833</br>prediction: 0.07</br>h_a: 0.41000000000000003</br></br>situation: 2.0</br>shotType: 0.0</br>lastAction: 0.0</br>minute: 3</br>distanceToGoal: 9.53310076709881</br>angleToGoal: 40.4664837945122</br>_original_yhat_: 0.07</br>"
          ],
          [
           "</br>id: 1833</br>prediction: 0.07</br>h_a: 0.42</br></br>situation: 2.0</br>shotType: 0.0</br>lastAction: 0.0</br>minute: 3</br>distanceToGoal: 9.53310076709881</br>angleToGoal: 40.4664837945122</br>_original_yhat_: 0.07</br>"
          ],
          [
           "</br>id: 1833</br>prediction: 0.07</br>h_a: 0.43</br></br>situation: 2.0</br>shotType: 0.0</br>lastAction: 0.0</br>minute: 3</br>distanceToGoal: 9.53310076709881</br>angleToGoal: 40.4664837945122</br>_original_yhat_: 0.07</br>"
          ],
          [
           "</br>id: 1833</br>prediction: 0.07</br>h_a: 0.44</br></br>situation: 2.0</br>shotType: 0.0</br>lastAction: 0.0</br>minute: 3</br>distanceToGoal: 9.53310076709881</br>angleToGoal: 40.4664837945122</br>_original_yhat_: 0.07</br>"
          ],
          [
           "</br>id: 1833</br>prediction: 0.07</br>h_a: 0.45</br></br>situation: 2.0</br>shotType: 0.0</br>lastAction: 0.0</br>minute: 3</br>distanceToGoal: 9.53310076709881</br>angleToGoal: 40.4664837945122</br>_original_yhat_: 0.07</br>"
          ],
          [
           "</br>id: 1833</br>prediction: 0.07</br>h_a: 0.46</br></br>situation: 2.0</br>shotType: 0.0</br>lastAction: 0.0</br>minute: 3</br>distanceToGoal: 9.53310076709881</br>angleToGoal: 40.4664837945122</br>_original_yhat_: 0.07</br>"
          ],
          [
           "</br>id: 1833</br>prediction: 0.07</br>h_a: 0.47000000000000003</br></br>situation: 2.0</br>shotType: 0.0</br>lastAction: 0.0</br>minute: 3</br>distanceToGoal: 9.53310076709881</br>angleToGoal: 40.4664837945122</br>_original_yhat_: 0.07</br>"
          ],
          [
           "</br>id: 1833</br>prediction: 0.07</br>h_a: 0.48</br></br>situation: 2.0</br>shotType: 0.0</br>lastAction: 0.0</br>minute: 3</br>distanceToGoal: 9.53310076709881</br>angleToGoal: 40.4664837945122</br>_original_yhat_: 0.07</br>"
          ],
          [
           "</br>id: 1833</br>prediction: 0.07</br>h_a: 0.49</br></br>situation: 2.0</br>shotType: 0.0</br>lastAction: 0.0</br>minute: 3</br>distanceToGoal: 9.53310076709881</br>angleToGoal: 40.4664837945122</br>_original_yhat_: 0.07</br>"
          ],
          [
           "</br>id: 1833</br>prediction: 0.07</br>h_a: 0.5</br></br>situation: 2.0</br>shotType: 0.0</br>lastAction: 0.0</br>minute: 3</br>distanceToGoal: 9.53310076709881</br>angleToGoal: 40.4664837945122</br>_original_yhat_: 0.07</br>"
          ],
          [
           "</br>id: 1833</br>prediction: 0.04</br>h_a: 0.51</br></br>situation: 2.0</br>shotType: 0.0</br>lastAction: 0.0</br>minute: 3</br>distanceToGoal: 9.53310076709881</br>angleToGoal: 40.4664837945122</br>_original_yhat_: 0.07</br>"
          ],
          [
           "</br>id: 1833</br>prediction: 0.04</br>h_a: 0.52</br></br>situation: 2.0</br>shotType: 0.0</br>lastAction: 0.0</br>minute: 3</br>distanceToGoal: 9.53310076709881</br>angleToGoal: 40.4664837945122</br>_original_yhat_: 0.07</br>"
          ],
          [
           "</br>id: 1833</br>prediction: 0.04</br>h_a: 0.53</br></br>situation: 2.0</br>shotType: 0.0</br>lastAction: 0.0</br>minute: 3</br>distanceToGoal: 9.53310076709881</br>angleToGoal: 40.4664837945122</br>_original_yhat_: 0.07</br>"
          ],
          [
           "</br>id: 1833</br>prediction: 0.04</br>h_a: 0.54</br></br>situation: 2.0</br>shotType: 0.0</br>lastAction: 0.0</br>minute: 3</br>distanceToGoal: 9.53310076709881</br>angleToGoal: 40.4664837945122</br>_original_yhat_: 0.07</br>"
          ],
          [
           "</br>id: 1833</br>prediction: 0.04</br>h_a: 0.55</br></br>situation: 2.0</br>shotType: 0.0</br>lastAction: 0.0</br>minute: 3</br>distanceToGoal: 9.53310076709881</br>angleToGoal: 40.4664837945122</br>_original_yhat_: 0.07</br>"
          ],
          [
           "</br>id: 1833</br>prediction: 0.04</br>h_a: 0.56</br></br>situation: 2.0</br>shotType: 0.0</br>lastAction: 0.0</br>minute: 3</br>distanceToGoal: 9.53310076709881</br>angleToGoal: 40.4664837945122</br>_original_yhat_: 0.07</br>"
          ],
          [
           "</br>id: 1833</br>prediction: 0.04</br>h_a: 0.5700000000000001</br></br>situation: 2.0</br>shotType: 0.0</br>lastAction: 0.0</br>minute: 3</br>distanceToGoal: 9.53310076709881</br>angleToGoal: 40.4664837945122</br>_original_yhat_: 0.07</br>"
          ],
          [
           "</br>id: 1833</br>prediction: 0.04</br>h_a: 0.58</br></br>situation: 2.0</br>shotType: 0.0</br>lastAction: 0.0</br>minute: 3</br>distanceToGoal: 9.53310076709881</br>angleToGoal: 40.4664837945122</br>_original_yhat_: 0.07</br>"
          ],
          [
           "</br>id: 1833</br>prediction: 0.04</br>h_a: 0.59</br></br>situation: 2.0</br>shotType: 0.0</br>lastAction: 0.0</br>minute: 3</br>distanceToGoal: 9.53310076709881</br>angleToGoal: 40.4664837945122</br>_original_yhat_: 0.07</br>"
          ],
          [
           "</br>id: 1833</br>prediction: 0.04</br>h_a: 0.6</br></br>situation: 2.0</br>shotType: 0.0</br>lastAction: 0.0</br>minute: 3</br>distanceToGoal: 9.53310076709881</br>angleToGoal: 40.4664837945122</br>_original_yhat_: 0.07</br>"
          ],
          [
           "</br>id: 1833</br>prediction: 0.04</br>h_a: 0.61</br></br>situation: 2.0</br>shotType: 0.0</br>lastAction: 0.0</br>minute: 3</br>distanceToGoal: 9.53310076709881</br>angleToGoal: 40.4664837945122</br>_original_yhat_: 0.07</br>"
          ],
          [
           "</br>id: 1833</br>prediction: 0.04</br>h_a: 0.62</br></br>situation: 2.0</br>shotType: 0.0</br>lastAction: 0.0</br>minute: 3</br>distanceToGoal: 9.53310076709881</br>angleToGoal: 40.4664837945122</br>_original_yhat_: 0.07</br>"
          ],
          [
           "</br>id: 1833</br>prediction: 0.04</br>h_a: 0.63</br></br>situation: 2.0</br>shotType: 0.0</br>lastAction: 0.0</br>minute: 3</br>distanceToGoal: 9.53310076709881</br>angleToGoal: 40.4664837945122</br>_original_yhat_: 0.07</br>"
          ],
          [
           "</br>id: 1833</br>prediction: 0.04</br>h_a: 0.64</br></br>situation: 2.0</br>shotType: 0.0</br>lastAction: 0.0</br>minute: 3</br>distanceToGoal: 9.53310076709881</br>angleToGoal: 40.4664837945122</br>_original_yhat_: 0.07</br>"
          ],
          [
           "</br>id: 1833</br>prediction: 0.04</br>h_a: 0.65</br></br>situation: 2.0</br>shotType: 0.0</br>lastAction: 0.0</br>minute: 3</br>distanceToGoal: 9.53310076709881</br>angleToGoal: 40.4664837945122</br>_original_yhat_: 0.07</br>"
          ],
          [
           "</br>id: 1833</br>prediction: 0.04</br>h_a: 0.66</br></br>situation: 2.0</br>shotType: 0.0</br>lastAction: 0.0</br>minute: 3</br>distanceToGoal: 9.53310076709881</br>angleToGoal: 40.4664837945122</br>_original_yhat_: 0.07</br>"
          ],
          [
           "</br>id: 1833</br>prediction: 0.04</br>h_a: 0.67</br></br>situation: 2.0</br>shotType: 0.0</br>lastAction: 0.0</br>minute: 3</br>distanceToGoal: 9.53310076709881</br>angleToGoal: 40.4664837945122</br>_original_yhat_: 0.07</br>"
          ],
          [
           "</br>id: 1833</br>prediction: 0.04</br>h_a: 0.68</br></br>situation: 2.0</br>shotType: 0.0</br>lastAction: 0.0</br>minute: 3</br>distanceToGoal: 9.53310076709881</br>angleToGoal: 40.4664837945122</br>_original_yhat_: 0.07</br>"
          ],
          [
           "</br>id: 1833</br>prediction: 0.04</br>h_a: 0.6900000000000001</br></br>situation: 2.0</br>shotType: 0.0</br>lastAction: 0.0</br>minute: 3</br>distanceToGoal: 9.53310076709881</br>angleToGoal: 40.4664837945122</br>_original_yhat_: 0.07</br>"
          ],
          [
           "</br>id: 1833</br>prediction: 0.04</br>h_a: 0.7000000000000001</br></br>situation: 2.0</br>shotType: 0.0</br>lastAction: 0.0</br>minute: 3</br>distanceToGoal: 9.53310076709881</br>angleToGoal: 40.4664837945122</br>_original_yhat_: 0.07</br>"
          ],
          [
           "</br>id: 1833</br>prediction: 0.04</br>h_a: 0.71</br></br>situation: 2.0</br>shotType: 0.0</br>lastAction: 0.0</br>minute: 3</br>distanceToGoal: 9.53310076709881</br>angleToGoal: 40.4664837945122</br>_original_yhat_: 0.07</br>"
          ],
          [
           "</br>id: 1833</br>prediction: 0.04</br>h_a: 0.72</br></br>situation: 2.0</br>shotType: 0.0</br>lastAction: 0.0</br>minute: 3</br>distanceToGoal: 9.53310076709881</br>angleToGoal: 40.4664837945122</br>_original_yhat_: 0.07</br>"
          ],
          [
           "</br>id: 1833</br>prediction: 0.04</br>h_a: 0.73</br></br>situation: 2.0</br>shotType: 0.0</br>lastAction: 0.0</br>minute: 3</br>distanceToGoal: 9.53310076709881</br>angleToGoal: 40.4664837945122</br>_original_yhat_: 0.07</br>"
          ],
          [
           "</br>id: 1833</br>prediction: 0.04</br>h_a: 0.74</br></br>situation: 2.0</br>shotType: 0.0</br>lastAction: 0.0</br>minute: 3</br>distanceToGoal: 9.53310076709881</br>angleToGoal: 40.4664837945122</br>_original_yhat_: 0.07</br>"
          ],
          [
           "</br>id: 1833</br>prediction: 0.04</br>h_a: 0.75</br></br>situation: 2.0</br>shotType: 0.0</br>lastAction: 0.0</br>minute: 3</br>distanceToGoal: 9.53310076709881</br>angleToGoal: 40.4664837945122</br>_original_yhat_: 0.07</br>"
          ],
          [
           "</br>id: 1833</br>prediction: 0.04</br>h_a: 0.76</br></br>situation: 2.0</br>shotType: 0.0</br>lastAction: 0.0</br>minute: 3</br>distanceToGoal: 9.53310076709881</br>angleToGoal: 40.4664837945122</br>_original_yhat_: 0.07</br>"
          ],
          [
           "</br>id: 1833</br>prediction: 0.04</br>h_a: 0.77</br></br>situation: 2.0</br>shotType: 0.0</br>lastAction: 0.0</br>minute: 3</br>distanceToGoal: 9.53310076709881</br>angleToGoal: 40.4664837945122</br>_original_yhat_: 0.07</br>"
          ],
          [
           "</br>id: 1833</br>prediction: 0.04</br>h_a: 0.78</br></br>situation: 2.0</br>shotType: 0.0</br>lastAction: 0.0</br>minute: 3</br>distanceToGoal: 9.53310076709881</br>angleToGoal: 40.4664837945122</br>_original_yhat_: 0.07</br>"
          ],
          [
           "</br>id: 1833</br>prediction: 0.04</br>h_a: 0.79</br></br>situation: 2.0</br>shotType: 0.0</br>lastAction: 0.0</br>minute: 3</br>distanceToGoal: 9.53310076709881</br>angleToGoal: 40.4664837945122</br>_original_yhat_: 0.07</br>"
          ],
          [
           "</br>id: 1833</br>prediction: 0.04</br>h_a: 0.8</br></br>situation: 2.0</br>shotType: 0.0</br>lastAction: 0.0</br>minute: 3</br>distanceToGoal: 9.53310076709881</br>angleToGoal: 40.4664837945122</br>_original_yhat_: 0.07</br>"
          ],
          [
           "</br>id: 1833</br>prediction: 0.04</br>h_a: 0.81</br></br>situation: 2.0</br>shotType: 0.0</br>lastAction: 0.0</br>minute: 3</br>distanceToGoal: 9.53310076709881</br>angleToGoal: 40.4664837945122</br>_original_yhat_: 0.07</br>"
          ],
          [
           "</br>id: 1833</br>prediction: 0.04</br>h_a: 0.8200000000000001</br></br>situation: 2.0</br>shotType: 0.0</br>lastAction: 0.0</br>minute: 3</br>distanceToGoal: 9.53310076709881</br>angleToGoal: 40.4664837945122</br>_original_yhat_: 0.07</br>"
          ],
          [
           "</br>id: 1833</br>prediction: 0.04</br>h_a: 0.8300000000000001</br></br>situation: 2.0</br>shotType: 0.0</br>lastAction: 0.0</br>minute: 3</br>distanceToGoal: 9.53310076709881</br>angleToGoal: 40.4664837945122</br>_original_yhat_: 0.07</br>"
          ],
          [
           "</br>id: 1833</br>prediction: 0.04</br>h_a: 0.84</br></br>situation: 2.0</br>shotType: 0.0</br>lastAction: 0.0</br>minute: 3</br>distanceToGoal: 9.53310076709881</br>angleToGoal: 40.4664837945122</br>_original_yhat_: 0.07</br>"
          ],
          [
           "</br>id: 1833</br>prediction: 0.04</br>h_a: 0.85</br></br>situation: 2.0</br>shotType: 0.0</br>lastAction: 0.0</br>minute: 3</br>distanceToGoal: 9.53310076709881</br>angleToGoal: 40.4664837945122</br>_original_yhat_: 0.07</br>"
          ],
          [
           "</br>id: 1833</br>prediction: 0.04</br>h_a: 0.86</br></br>situation: 2.0</br>shotType: 0.0</br>lastAction: 0.0</br>minute: 3</br>distanceToGoal: 9.53310076709881</br>angleToGoal: 40.4664837945122</br>_original_yhat_: 0.07</br>"
          ],
          [
           "</br>id: 1833</br>prediction: 0.04</br>h_a: 0.87</br></br>situation: 2.0</br>shotType: 0.0</br>lastAction: 0.0</br>minute: 3</br>distanceToGoal: 9.53310076709881</br>angleToGoal: 40.4664837945122</br>_original_yhat_: 0.07</br>"
          ],
          [
           "</br>id: 1833</br>prediction: 0.04</br>h_a: 0.88</br></br>situation: 2.0</br>shotType: 0.0</br>lastAction: 0.0</br>minute: 3</br>distanceToGoal: 9.53310076709881</br>angleToGoal: 40.4664837945122</br>_original_yhat_: 0.07</br>"
          ],
          [
           "</br>id: 1833</br>prediction: 0.04</br>h_a: 0.89</br></br>situation: 2.0</br>shotType: 0.0</br>lastAction: 0.0</br>minute: 3</br>distanceToGoal: 9.53310076709881</br>angleToGoal: 40.4664837945122</br>_original_yhat_: 0.07</br>"
          ],
          [
           "</br>id: 1833</br>prediction: 0.04</br>h_a: 0.9</br></br>situation: 2.0</br>shotType: 0.0</br>lastAction: 0.0</br>minute: 3</br>distanceToGoal: 9.53310076709881</br>angleToGoal: 40.4664837945122</br>_original_yhat_: 0.07</br>"
          ],
          [
           "</br>id: 1833</br>prediction: 0.04</br>h_a: 0.91</br></br>situation: 2.0</br>shotType: 0.0</br>lastAction: 0.0</br>minute: 3</br>distanceToGoal: 9.53310076709881</br>angleToGoal: 40.4664837945122</br>_original_yhat_: 0.07</br>"
          ],
          [
           "</br>id: 1833</br>prediction: 0.04</br>h_a: 0.92</br></br>situation: 2.0</br>shotType: 0.0</br>lastAction: 0.0</br>minute: 3</br>distanceToGoal: 9.53310076709881</br>angleToGoal: 40.4664837945122</br>_original_yhat_: 0.07</br>"
          ],
          [
           "</br>id: 1833</br>prediction: 0.04</br>h_a: 0.93</br></br>situation: 2.0</br>shotType: 0.0</br>lastAction: 0.0</br>minute: 3</br>distanceToGoal: 9.53310076709881</br>angleToGoal: 40.4664837945122</br>_original_yhat_: 0.07</br>"
          ],
          [
           "</br>id: 1833</br>prediction: 0.04</br>h_a: 0.9400000000000001</br></br>situation: 2.0</br>shotType: 0.0</br>lastAction: 0.0</br>minute: 3</br>distanceToGoal: 9.53310076709881</br>angleToGoal: 40.4664837945122</br>_original_yhat_: 0.07</br>"
          ],
          [
           "</br>id: 1833</br>prediction: 0.04</br>h_a: 0.9500000000000001</br></br>situation: 2.0</br>shotType: 0.0</br>lastAction: 0.0</br>minute: 3</br>distanceToGoal: 9.53310076709881</br>angleToGoal: 40.4664837945122</br>_original_yhat_: 0.07</br>"
          ],
          [
           "</br>id: 1833</br>prediction: 0.04</br>h_a: 0.96</br></br>situation: 2.0</br>shotType: 0.0</br>lastAction: 0.0</br>minute: 3</br>distanceToGoal: 9.53310076709881</br>angleToGoal: 40.4664837945122</br>_original_yhat_: 0.07</br>"
          ],
          [
           "</br>id: 1833</br>prediction: 0.04</br>h_a: 0.97</br></br>situation: 2.0</br>shotType: 0.0</br>lastAction: 0.0</br>minute: 3</br>distanceToGoal: 9.53310076709881</br>angleToGoal: 40.4664837945122</br>_original_yhat_: 0.07</br>"
          ],
          [
           "</br>id: 1833</br>prediction: 0.04</br>h_a: 0.98</br></br>situation: 2.0</br>shotType: 0.0</br>lastAction: 0.0</br>minute: 3</br>distanceToGoal: 9.53310076709881</br>angleToGoal: 40.4664837945122</br>_original_yhat_: 0.07</br>"
          ],
          [
           "</br>id: 1833</br>prediction: 0.04</br>h_a: 0.99</br></br>situation: 2.0</br>shotType: 0.0</br>lastAction: 0.0</br>minute: 3</br>distanceToGoal: 9.53310076709881</br>angleToGoal: 40.4664837945122</br>_original_yhat_: 0.07</br>"
          ],
          [
           "</br>id: 1833</br>prediction: 0.04</br>h_a: 1.0</br></br>situation: 2.0</br>shotType: 0.0</br>lastAction: 0.0</br>minute: 3</br>distanceToGoal: 9.53310076709881</br>angleToGoal: 40.4664837945122</br>_original_yhat_: 0.07</br>"
          ]
         ],
         "hovertemplate": "%{customdata[0]}<extra></extra>",
         "legendgroup": "Random Forest",
         "line": {
          "color": "#f05a71",
          "dash": "solid",
          "width": 2
         },
         "marker": {
          "symbol": "circle"
         },
         "mode": "lines",
         "name": "Random Forest",
         "opacity": 1,
         "showlegend": true,
         "type": "scattergl",
         "x": [
          0,
          0.01,
          0.02,
          0.03,
          0.04,
          0.05,
          0.06,
          0.07,
          0.08,
          0.09,
          0.1,
          0.11,
          0.12,
          0.13,
          0.14,
          0.15,
          0.16,
          0.17,
          0.18,
          0.19,
          0.2,
          0.21,
          0.22,
          0.23,
          0.24,
          0.25,
          0.26,
          0.27,
          0.28,
          0.29,
          0.3,
          0.31,
          0.32,
          0.33,
          0.34,
          0.35000000000000003,
          0.36,
          0.37,
          0.38,
          0.39,
          0.4,
          0.41000000000000003,
          0.42,
          0.43,
          0.44,
          0.45,
          0.46,
          0.47000000000000003,
          0.48,
          0.49,
          0.5,
          0.51,
          0.52,
          0.53,
          0.54,
          0.55,
          0.56,
          0.5700000000000001,
          0.58,
          0.59,
          0.6,
          0.61,
          0.62,
          0.63,
          0.64,
          0.65,
          0.66,
          0.67,
          0.68,
          0.6900000000000001,
          0.7000000000000001,
          0.71,
          0.72,
          0.73,
          0.74,
          0.75,
          0.76,
          0.77,
          0.78,
          0.79,
          0.8,
          0.81,
          0.8200000000000001,
          0.8300000000000001,
          0.84,
          0.85,
          0.86,
          0.87,
          0.88,
          0.89,
          0.9,
          0.91,
          0.92,
          0.93,
          0.9400000000000001,
          0.9500000000000001,
          0.96,
          0.97,
          0.98,
          0.99,
          1
         ],
         "xaxis": "x7",
         "y": [
          0.07,
          0.07,
          0.07,
          0.07,
          0.07,
          0.07,
          0.07,
          0.07,
          0.07,
          0.07,
          0.07,
          0.07,
          0.07,
          0.07,
          0.07,
          0.07,
          0.07,
          0.07,
          0.07,
          0.07,
          0.07,
          0.07,
          0.07,
          0.07,
          0.07,
          0.07,
          0.07,
          0.07,
          0.07,
          0.07,
          0.07,
          0.07,
          0.07,
          0.07,
          0.07,
          0.07,
          0.07,
          0.07,
          0.07,
          0.07,
          0.07,
          0.07,
          0.07,
          0.07,
          0.07,
          0.07,
          0.07,
          0.07,
          0.07,
          0.07,
          0.07,
          0.04,
          0.04,
          0.04,
          0.04,
          0.04,
          0.04,
          0.04,
          0.04,
          0.04,
          0.04,
          0.04,
          0.04,
          0.04,
          0.04,
          0.04,
          0.04,
          0.04,
          0.04,
          0.04,
          0.04,
          0.04,
          0.04,
          0.04,
          0.04,
          0.04,
          0.04,
          0.04,
          0.04,
          0.04,
          0.04,
          0.04,
          0.04,
          0.04,
          0.04,
          0.04,
          0.04,
          0.04,
          0.04,
          0.04,
          0.04,
          0.04,
          0.04,
          0.04,
          0.04,
          0.04,
          0.04,
          0.04,
          0.04,
          0.04,
          0.04
         ],
         "yaxis": "y7"
        },
        {
         "customdata": [
          [
           "</br>id: 1833</br>prediction: 0.06</br>situation: 0.0</br></br>h_a: 0.0</br>shotType: 0.0</br>lastAction: 0.0</br>minute: 3</br>distanceToGoal: 9.53310076709881</br>angleToGoal: 40.4664837945122</br>_original_yhat_: 0.07</br>"
          ],
          [
           "</br>id: 1833</br>prediction: 0.06</br>situation: 0.04</br></br>h_a: 0.0</br>shotType: 0.0</br>lastAction: 0.0</br>minute: 3</br>distanceToGoal: 9.53310076709881</br>angleToGoal: 40.4664837945122</br>_original_yhat_: 0.07</br>"
          ],
          [
           "</br>id: 1833</br>prediction: 0.06</br>situation: 0.08</br></br>h_a: 0.0</br>shotType: 0.0</br>lastAction: 0.0</br>minute: 3</br>distanceToGoal: 9.53310076709881</br>angleToGoal: 40.4664837945122</br>_original_yhat_: 0.07</br>"
          ],
          [
           "</br>id: 1833</br>prediction: 0.06</br>situation: 0.12</br></br>h_a: 0.0</br>shotType: 0.0</br>lastAction: 0.0</br>minute: 3</br>distanceToGoal: 9.53310076709881</br>angleToGoal: 40.4664837945122</br>_original_yhat_: 0.07</br>"
          ],
          [
           "</br>id: 1833</br>prediction: 0.06</br>situation: 0.16</br></br>h_a: 0.0</br>shotType: 0.0</br>lastAction: 0.0</br>minute: 3</br>distanceToGoal: 9.53310076709881</br>angleToGoal: 40.4664837945122</br>_original_yhat_: 0.07</br>"
          ],
          [
           "</br>id: 1833</br>prediction: 0.06</br>situation: 0.2</br></br>h_a: 0.0</br>shotType: 0.0</br>lastAction: 0.0</br>minute: 3</br>distanceToGoal: 9.53310076709881</br>angleToGoal: 40.4664837945122</br>_original_yhat_: 0.07</br>"
          ],
          [
           "</br>id: 1833</br>prediction: 0.06</br>situation: 0.24</br></br>h_a: 0.0</br>shotType: 0.0</br>lastAction: 0.0</br>minute: 3</br>distanceToGoal: 9.53310076709881</br>angleToGoal: 40.4664837945122</br>_original_yhat_: 0.07</br>"
          ],
          [
           "</br>id: 1833</br>prediction: 0.06</br>situation: 0.28</br></br>h_a: 0.0</br>shotType: 0.0</br>lastAction: 0.0</br>minute: 3</br>distanceToGoal: 9.53310076709881</br>angleToGoal: 40.4664837945122</br>_original_yhat_: 0.07</br>"
          ],
          [
           "</br>id: 1833</br>prediction: 0.06</br>situation: 0.32</br></br>h_a: 0.0</br>shotType: 0.0</br>lastAction: 0.0</br>minute: 3</br>distanceToGoal: 9.53310076709881</br>angleToGoal: 40.4664837945122</br>_original_yhat_: 0.07</br>"
          ],
          [
           "</br>id: 1833</br>prediction: 0.06</br>situation: 0.36</br></br>h_a: 0.0</br>shotType: 0.0</br>lastAction: 0.0</br>minute: 3</br>distanceToGoal: 9.53310076709881</br>angleToGoal: 40.4664837945122</br>_original_yhat_: 0.07</br>"
          ],
          [
           "</br>id: 1833</br>prediction: 0.06</br>situation: 0.4</br></br>h_a: 0.0</br>shotType: 0.0</br>lastAction: 0.0</br>minute: 3</br>distanceToGoal: 9.53310076709881</br>angleToGoal: 40.4664837945122</br>_original_yhat_: 0.07</br>"
          ],
          [
           "</br>id: 1833</br>prediction: 0.06</br>situation: 0.44</br></br>h_a: 0.0</br>shotType: 0.0</br>lastAction: 0.0</br>minute: 3</br>distanceToGoal: 9.53310076709881</br>angleToGoal: 40.4664837945122</br>_original_yhat_: 0.07</br>"
          ],
          [
           "</br>id: 1833</br>prediction: 0.06</br>situation: 0.48</br></br>h_a: 0.0</br>shotType: 0.0</br>lastAction: 0.0</br>minute: 3</br>distanceToGoal: 9.53310076709881</br>angleToGoal: 40.4664837945122</br>_original_yhat_: 0.07</br>"
          ],
          [
           "</br>id: 1833</br>prediction: 0.06</br>situation: 0.52</br></br>h_a: 0.0</br>shotType: 0.0</br>lastAction: 0.0</br>minute: 3</br>distanceToGoal: 9.53310076709881</br>angleToGoal: 40.4664837945122</br>_original_yhat_: 0.07</br>"
          ],
          [
           "</br>id: 1833</br>prediction: 0.06</br>situation: 0.56</br></br>h_a: 0.0</br>shotType: 0.0</br>lastAction: 0.0</br>minute: 3</br>distanceToGoal: 9.53310076709881</br>angleToGoal: 40.4664837945122</br>_original_yhat_: 0.07</br>"
          ],
          [
           "</br>id: 1833</br>prediction: 0.06</br>situation: 0.6</br></br>h_a: 0.0</br>shotType: 0.0</br>lastAction: 0.0</br>minute: 3</br>distanceToGoal: 9.53310076709881</br>angleToGoal: 40.4664837945122</br>_original_yhat_: 0.07</br>"
          ],
          [
           "</br>id: 1833</br>prediction: 0.06</br>situation: 0.64</br></br>h_a: 0.0</br>shotType: 0.0</br>lastAction: 0.0</br>minute: 3</br>distanceToGoal: 9.53310076709881</br>angleToGoal: 40.4664837945122</br>_original_yhat_: 0.07</br>"
          ],
          [
           "</br>id: 1833</br>prediction: 0.06</br>situation: 0.68</br></br>h_a: 0.0</br>shotType: 0.0</br>lastAction: 0.0</br>minute: 3</br>distanceToGoal: 9.53310076709881</br>angleToGoal: 40.4664837945122</br>_original_yhat_: 0.07</br>"
          ],
          [
           "</br>id: 1833</br>prediction: 0.06</br>situation: 0.72</br></br>h_a: 0.0</br>shotType: 0.0</br>lastAction: 0.0</br>minute: 3</br>distanceToGoal: 9.53310076709881</br>angleToGoal: 40.4664837945122</br>_original_yhat_: 0.07</br>"
          ],
          [
           "</br>id: 1833</br>prediction: 0.06</br>situation: 0.76</br></br>h_a: 0.0</br>shotType: 0.0</br>lastAction: 0.0</br>minute: 3</br>distanceToGoal: 9.53310076709881</br>angleToGoal: 40.4664837945122</br>_original_yhat_: 0.07</br>"
          ],
          [
           "</br>id: 1833</br>prediction: 0.06</br>situation: 0.8</br></br>h_a: 0.0</br>shotType: 0.0</br>lastAction: 0.0</br>minute: 3</br>distanceToGoal: 9.53310076709881</br>angleToGoal: 40.4664837945122</br>_original_yhat_: 0.07</br>"
          ],
          [
           "</br>id: 1833</br>prediction: 0.06</br>situation: 0.84</br></br>h_a: 0.0</br>shotType: 0.0</br>lastAction: 0.0</br>minute: 3</br>distanceToGoal: 9.53310076709881</br>angleToGoal: 40.4664837945122</br>_original_yhat_: 0.07</br>"
          ],
          [
           "</br>id: 1833</br>prediction: 0.06</br>situation: 0.88</br></br>h_a: 0.0</br>shotType: 0.0</br>lastAction: 0.0</br>minute: 3</br>distanceToGoal: 9.53310076709881</br>angleToGoal: 40.4664837945122</br>_original_yhat_: 0.07</br>"
          ],
          [
           "</br>id: 1833</br>prediction: 0.06</br>situation: 0.92</br></br>h_a: 0.0</br>shotType: 0.0</br>lastAction: 0.0</br>minute: 3</br>distanceToGoal: 9.53310076709881</br>angleToGoal: 40.4664837945122</br>_original_yhat_: 0.07</br>"
          ],
          [
           "</br>id: 1833</br>prediction: 0.06</br>situation: 0.96</br></br>h_a: 0.0</br>shotType: 0.0</br>lastAction: 0.0</br>minute: 3</br>distanceToGoal: 9.53310076709881</br>angleToGoal: 40.4664837945122</br>_original_yhat_: 0.07</br>"
          ],
          [
           "</br>id: 1833</br>prediction: 0.06</br>situation: 1.0</br></br>h_a: 0.0</br>shotType: 0.0</br>lastAction: 0.0</br>minute: 3</br>distanceToGoal: 9.53310076709881</br>angleToGoal: 40.4664837945122</br>_original_yhat_: 0.07</br>"
          ],
          [
           "</br>id: 1833</br>prediction: 0.06</br>situation: 1.04</br></br>h_a: 0.0</br>shotType: 0.0</br>lastAction: 0.0</br>minute: 3</br>distanceToGoal: 9.53310076709881</br>angleToGoal: 40.4664837945122</br>_original_yhat_: 0.07</br>"
          ],
          [
           "</br>id: 1833</br>prediction: 0.06</br>situation: 1.08</br></br>h_a: 0.0</br>shotType: 0.0</br>lastAction: 0.0</br>minute: 3</br>distanceToGoal: 9.53310076709881</br>angleToGoal: 40.4664837945122</br>_original_yhat_: 0.07</br>"
          ],
          [
           "</br>id: 1833</br>prediction: 0.06</br>situation: 1.12</br></br>h_a: 0.0</br>shotType: 0.0</br>lastAction: 0.0</br>minute: 3</br>distanceToGoal: 9.53310076709881</br>angleToGoal: 40.4664837945122</br>_original_yhat_: 0.07</br>"
          ],
          [
           "</br>id: 1833</br>prediction: 0.06</br>situation: 1.16</br></br>h_a: 0.0</br>shotType: 0.0</br>lastAction: 0.0</br>minute: 3</br>distanceToGoal: 9.53310076709881</br>angleToGoal: 40.4664837945122</br>_original_yhat_: 0.07</br>"
          ],
          [
           "</br>id: 1833</br>prediction: 0.06</br>situation: 1.2</br></br>h_a: 0.0</br>shotType: 0.0</br>lastAction: 0.0</br>minute: 3</br>distanceToGoal: 9.53310076709881</br>angleToGoal: 40.4664837945122</br>_original_yhat_: 0.07</br>"
          ],
          [
           "</br>id: 1833</br>prediction: 0.06</br>situation: 1.24</br></br>h_a: 0.0</br>shotType: 0.0</br>lastAction: 0.0</br>minute: 3</br>distanceToGoal: 9.53310076709881</br>angleToGoal: 40.4664837945122</br>_original_yhat_: 0.07</br>"
          ],
          [
           "</br>id: 1833</br>prediction: 0.06</br>situation: 1.28</br></br>h_a: 0.0</br>shotType: 0.0</br>lastAction: 0.0</br>minute: 3</br>distanceToGoal: 9.53310076709881</br>angleToGoal: 40.4664837945122</br>_original_yhat_: 0.07</br>"
          ],
          [
           "</br>id: 1833</br>prediction: 0.06</br>situation: 1.32</br></br>h_a: 0.0</br>shotType: 0.0</br>lastAction: 0.0</br>minute: 3</br>distanceToGoal: 9.53310076709881</br>angleToGoal: 40.4664837945122</br>_original_yhat_: 0.07</br>"
          ],
          [
           "</br>id: 1833</br>prediction: 0.06</br>situation: 1.36</br></br>h_a: 0.0</br>shotType: 0.0</br>lastAction: 0.0</br>minute: 3</br>distanceToGoal: 9.53310076709881</br>angleToGoal: 40.4664837945122</br>_original_yhat_: 0.07</br>"
          ],
          [
           "</br>id: 1833</br>prediction: 0.06</br>situation: 1.4000000000000001</br></br>h_a: 0.0</br>shotType: 0.0</br>lastAction: 0.0</br>minute: 3</br>distanceToGoal: 9.53310076709881</br>angleToGoal: 40.4664837945122</br>_original_yhat_: 0.07</br>"
          ],
          [
           "</br>id: 1833</br>prediction: 0.06</br>situation: 1.44</br></br>h_a: 0.0</br>shotType: 0.0</br>lastAction: 0.0</br>minute: 3</br>distanceToGoal: 9.53310076709881</br>angleToGoal: 40.4664837945122</br>_original_yhat_: 0.07</br>"
          ],
          [
           "</br>id: 1833</br>prediction: 0.06</br>situation: 1.48</br></br>h_a: 0.0</br>shotType: 0.0</br>lastAction: 0.0</br>minute: 3</br>distanceToGoal: 9.53310076709881</br>angleToGoal: 40.4664837945122</br>_original_yhat_: 0.07</br>"
          ],
          [
           "</br>id: 1833</br>prediction: 0.07</br>situation: 1.52</br></br>h_a: 0.0</br>shotType: 0.0</br>lastAction: 0.0</br>minute: 3</br>distanceToGoal: 9.53310076709881</br>angleToGoal: 40.4664837945122</br>_original_yhat_: 0.07</br>"
          ],
          [
           "</br>id: 1833</br>prediction: 0.07</br>situation: 1.56</br></br>h_a: 0.0</br>shotType: 0.0</br>lastAction: 0.0</br>minute: 3</br>distanceToGoal: 9.53310076709881</br>angleToGoal: 40.4664837945122</br>_original_yhat_: 0.07</br>"
          ],
          [
           "</br>id: 1833</br>prediction: 0.07</br>situation: 1.6</br></br>h_a: 0.0</br>shotType: 0.0</br>lastAction: 0.0</br>minute: 3</br>distanceToGoal: 9.53310076709881</br>angleToGoal: 40.4664837945122</br>_original_yhat_: 0.07</br>"
          ],
          [
           "</br>id: 1833</br>prediction: 0.07</br>situation: 1.6400000000000001</br></br>h_a: 0.0</br>shotType: 0.0</br>lastAction: 0.0</br>minute: 3</br>distanceToGoal: 9.53310076709881</br>angleToGoal: 40.4664837945122</br>_original_yhat_: 0.07</br>"
          ],
          [
           "</br>id: 1833</br>prediction: 0.07</br>situation: 1.68</br></br>h_a: 0.0</br>shotType: 0.0</br>lastAction: 0.0</br>minute: 3</br>distanceToGoal: 9.53310076709881</br>angleToGoal: 40.4664837945122</br>_original_yhat_: 0.07</br>"
          ],
          [
           "</br>id: 1833</br>prediction: 0.07</br>situation: 1.72</br></br>h_a: 0.0</br>shotType: 0.0</br>lastAction: 0.0</br>minute: 3</br>distanceToGoal: 9.53310076709881</br>angleToGoal: 40.4664837945122</br>_original_yhat_: 0.07</br>"
          ],
          [
           "</br>id: 1833</br>prediction: 0.07</br>situation: 1.76</br></br>h_a: 0.0</br>shotType: 0.0</br>lastAction: 0.0</br>minute: 3</br>distanceToGoal: 9.53310076709881</br>angleToGoal: 40.4664837945122</br>_original_yhat_: 0.07</br>"
          ],
          [
           "</br>id: 1833</br>prediction: 0.07</br>situation: 1.8</br></br>h_a: 0.0</br>shotType: 0.0</br>lastAction: 0.0</br>minute: 3</br>distanceToGoal: 9.53310076709881</br>angleToGoal: 40.4664837945122</br>_original_yhat_: 0.07</br>"
          ],
          [
           "</br>id: 1833</br>prediction: 0.07</br>situation: 1.84</br></br>h_a: 0.0</br>shotType: 0.0</br>lastAction: 0.0</br>minute: 3</br>distanceToGoal: 9.53310076709881</br>angleToGoal: 40.4664837945122</br>_original_yhat_: 0.07</br>"
          ],
          [
           "</br>id: 1833</br>prediction: 0.07</br>situation: 1.8800000000000001</br></br>h_a: 0.0</br>shotType: 0.0</br>lastAction: 0.0</br>minute: 3</br>distanceToGoal: 9.53310076709881</br>angleToGoal: 40.4664837945122</br>_original_yhat_: 0.07</br>"
          ],
          [
           "</br>id: 1833</br>prediction: 0.07</br>situation: 1.92</br></br>h_a: 0.0</br>shotType: 0.0</br>lastAction: 0.0</br>minute: 3</br>distanceToGoal: 9.53310076709881</br>angleToGoal: 40.4664837945122</br>_original_yhat_: 0.07</br>"
          ],
          [
           "</br>id: 1833</br>prediction: 0.07</br>situation: 1.96</br></br>h_a: 0.0</br>shotType: 0.0</br>lastAction: 0.0</br>minute: 3</br>distanceToGoal: 9.53310076709881</br>angleToGoal: 40.4664837945122</br>_original_yhat_: 0.07</br>"
          ],
          [
           "</br>id: 1833</br>prediction: 0.07</br>situation: 2.0</br></br>h_a: 0.0</br>shotType: 0.0</br>lastAction: 0.0</br>minute: 3</br>distanceToGoal: 9.53310076709881</br>angleToGoal: 40.4664837945122</br>_original_yhat_: 0.07</br>"
          ],
          [
           "</br>id: 1833</br>prediction: 0.07</br>situation: 2.04</br></br>h_a: 0.0</br>shotType: 0.0</br>lastAction: 0.0</br>minute: 3</br>distanceToGoal: 9.53310076709881</br>angleToGoal: 40.4664837945122</br>_original_yhat_: 0.07</br>"
          ],
          [
           "</br>id: 1833</br>prediction: 0.07</br>situation: 2.08</br></br>h_a: 0.0</br>shotType: 0.0</br>lastAction: 0.0</br>minute: 3</br>distanceToGoal: 9.53310076709881</br>angleToGoal: 40.4664837945122</br>_original_yhat_: 0.07</br>"
          ],
          [
           "</br>id: 1833</br>prediction: 0.07</br>situation: 2.12</br></br>h_a: 0.0</br>shotType: 0.0</br>lastAction: 0.0</br>minute: 3</br>distanceToGoal: 9.53310076709881</br>angleToGoal: 40.4664837945122</br>_original_yhat_: 0.07</br>"
          ],
          [
           "</br>id: 1833</br>prediction: 0.07</br>situation: 2.16</br></br>h_a: 0.0</br>shotType: 0.0</br>lastAction: 0.0</br>minute: 3</br>distanceToGoal: 9.53310076709881</br>angleToGoal: 40.4664837945122</br>_original_yhat_: 0.07</br>"
          ],
          [
           "</br>id: 1833</br>prediction: 0.07</br>situation: 2.2</br></br>h_a: 0.0</br>shotType: 0.0</br>lastAction: 0.0</br>minute: 3</br>distanceToGoal: 9.53310076709881</br>angleToGoal: 40.4664837945122</br>_original_yhat_: 0.07</br>"
          ],
          [
           "</br>id: 1833</br>prediction: 0.07</br>situation: 2.24</br></br>h_a: 0.0</br>shotType: 0.0</br>lastAction: 0.0</br>minute: 3</br>distanceToGoal: 9.53310076709881</br>angleToGoal: 40.4664837945122</br>_original_yhat_: 0.07</br>"
          ],
          [
           "</br>id: 1833</br>prediction: 0.07</br>situation: 2.2800000000000002</br></br>h_a: 0.0</br>shotType: 0.0</br>lastAction: 0.0</br>minute: 3</br>distanceToGoal: 9.53310076709881</br>angleToGoal: 40.4664837945122</br>_original_yhat_: 0.07</br>"
          ],
          [
           "</br>id: 1833</br>prediction: 0.07</br>situation: 2.32</br></br>h_a: 0.0</br>shotType: 0.0</br>lastAction: 0.0</br>minute: 3</br>distanceToGoal: 9.53310076709881</br>angleToGoal: 40.4664837945122</br>_original_yhat_: 0.07</br>"
          ],
          [
           "</br>id: 1833</br>prediction: 0.07</br>situation: 2.36</br></br>h_a: 0.0</br>shotType: 0.0</br>lastAction: 0.0</br>minute: 3</br>distanceToGoal: 9.53310076709881</br>angleToGoal: 40.4664837945122</br>_original_yhat_: 0.07</br>"
          ],
          [
           "</br>id: 1833</br>prediction: 0.07</br>situation: 2.4</br></br>h_a: 0.0</br>shotType: 0.0</br>lastAction: 0.0</br>minute: 3</br>distanceToGoal: 9.53310076709881</br>angleToGoal: 40.4664837945122</br>_original_yhat_: 0.07</br>"
          ],
          [
           "</br>id: 1833</br>prediction: 0.07</br>situation: 2.44</br></br>h_a: 0.0</br>shotType: 0.0</br>lastAction: 0.0</br>minute: 3</br>distanceToGoal: 9.53310076709881</br>angleToGoal: 40.4664837945122</br>_original_yhat_: 0.07</br>"
          ],
          [
           "</br>id: 1833</br>prediction: 0.07</br>situation: 2.48</br></br>h_a: 0.0</br>shotType: 0.0</br>lastAction: 0.0</br>minute: 3</br>distanceToGoal: 9.53310076709881</br>angleToGoal: 40.4664837945122</br>_original_yhat_: 0.07</br>"
          ],
          [
           "</br>id: 1833</br>prediction: 0.09</br>situation: 2.52</br></br>h_a: 0.0</br>shotType: 0.0</br>lastAction: 0.0</br>minute: 3</br>distanceToGoal: 9.53310076709881</br>angleToGoal: 40.4664837945122</br>_original_yhat_: 0.07</br>"
          ],
          [
           "</br>id: 1833</br>prediction: 0.09</br>situation: 2.56</br></br>h_a: 0.0</br>shotType: 0.0</br>lastAction: 0.0</br>minute: 3</br>distanceToGoal: 9.53310076709881</br>angleToGoal: 40.4664837945122</br>_original_yhat_: 0.07</br>"
          ],
          [
           "</br>id: 1833</br>prediction: 0.09</br>situation: 2.6</br></br>h_a: 0.0</br>shotType: 0.0</br>lastAction: 0.0</br>minute: 3</br>distanceToGoal: 9.53310076709881</br>angleToGoal: 40.4664837945122</br>_original_yhat_: 0.07</br>"
          ],
          [
           "</br>id: 1833</br>prediction: 0.09</br>situation: 2.64</br></br>h_a: 0.0</br>shotType: 0.0</br>lastAction: 0.0</br>minute: 3</br>distanceToGoal: 9.53310076709881</br>angleToGoal: 40.4664837945122</br>_original_yhat_: 0.07</br>"
          ],
          [
           "</br>id: 1833</br>prediction: 0.09</br>situation: 2.68</br></br>h_a: 0.0</br>shotType: 0.0</br>lastAction: 0.0</br>minute: 3</br>distanceToGoal: 9.53310076709881</br>angleToGoal: 40.4664837945122</br>_original_yhat_: 0.07</br>"
          ],
          [
           "</br>id: 1833</br>prediction: 0.09</br>situation: 2.72</br></br>h_a: 0.0</br>shotType: 0.0</br>lastAction: 0.0</br>minute: 3</br>distanceToGoal: 9.53310076709881</br>angleToGoal: 40.4664837945122</br>_original_yhat_: 0.07</br>"
          ],
          [
           "</br>id: 1833</br>prediction: 0.09</br>situation: 2.7600000000000002</br></br>h_a: 0.0</br>shotType: 0.0</br>lastAction: 0.0</br>minute: 3</br>distanceToGoal: 9.53310076709881</br>angleToGoal: 40.4664837945122</br>_original_yhat_: 0.07</br>"
          ],
          [
           "</br>id: 1833</br>prediction: 0.09</br>situation: 2.8000000000000003</br></br>h_a: 0.0</br>shotType: 0.0</br>lastAction: 0.0</br>minute: 3</br>distanceToGoal: 9.53310076709881</br>angleToGoal: 40.4664837945122</br>_original_yhat_: 0.07</br>"
          ],
          [
           "</br>id: 1833</br>prediction: 0.09</br>situation: 2.84</br></br>h_a: 0.0</br>shotType: 0.0</br>lastAction: 0.0</br>minute: 3</br>distanceToGoal: 9.53310076709881</br>angleToGoal: 40.4664837945122</br>_original_yhat_: 0.07</br>"
          ],
          [
           "</br>id: 1833</br>prediction: 0.09</br>situation: 2.88</br></br>h_a: 0.0</br>shotType: 0.0</br>lastAction: 0.0</br>minute: 3</br>distanceToGoal: 9.53310076709881</br>angleToGoal: 40.4664837945122</br>_original_yhat_: 0.07</br>"
          ],
          [
           "</br>id: 1833</br>prediction: 0.09</br>situation: 2.92</br></br>h_a: 0.0</br>shotType: 0.0</br>lastAction: 0.0</br>minute: 3</br>distanceToGoal: 9.53310076709881</br>angleToGoal: 40.4664837945122</br>_original_yhat_: 0.07</br>"
          ],
          [
           "</br>id: 1833</br>prediction: 0.09</br>situation: 2.96</br></br>h_a: 0.0</br>shotType: 0.0</br>lastAction: 0.0</br>minute: 3</br>distanceToGoal: 9.53310076709881</br>angleToGoal: 40.4664837945122</br>_original_yhat_: 0.07</br>"
          ],
          [
           "</br>id: 1833</br>prediction: 0.09</br>situation: 3.0</br></br>h_a: 0.0</br>shotType: 0.0</br>lastAction: 0.0</br>minute: 3</br>distanceToGoal: 9.53310076709881</br>angleToGoal: 40.4664837945122</br>_original_yhat_: 0.07</br>"
          ],
          [
           "</br>id: 1833</br>prediction: 0.06</br>situation: 3.04</br></br>h_a: 0.0</br>shotType: 0.0</br>lastAction: 0.0</br>minute: 3</br>distanceToGoal: 9.53310076709881</br>angleToGoal: 40.4664837945122</br>_original_yhat_: 0.07</br>"
          ],
          [
           "</br>id: 1833</br>prediction: 0.06</br>situation: 3.08</br></br>h_a: 0.0</br>shotType: 0.0</br>lastAction: 0.0</br>minute: 3</br>distanceToGoal: 9.53310076709881</br>angleToGoal: 40.4664837945122</br>_original_yhat_: 0.07</br>"
          ],
          [
           "</br>id: 1833</br>prediction: 0.06</br>situation: 3.12</br></br>h_a: 0.0</br>shotType: 0.0</br>lastAction: 0.0</br>minute: 3</br>distanceToGoal: 9.53310076709881</br>angleToGoal: 40.4664837945122</br>_original_yhat_: 0.07</br>"
          ],
          [
           "</br>id: 1833</br>prediction: 0.06</br>situation: 3.16</br></br>h_a: 0.0</br>shotType: 0.0</br>lastAction: 0.0</br>minute: 3</br>distanceToGoal: 9.53310076709881</br>angleToGoal: 40.4664837945122</br>_original_yhat_: 0.07</br>"
          ],
          [
           "</br>id: 1833</br>prediction: 0.06</br>situation: 3.2</br></br>h_a: 0.0</br>shotType: 0.0</br>lastAction: 0.0</br>minute: 3</br>distanceToGoal: 9.53310076709881</br>angleToGoal: 40.4664837945122</br>_original_yhat_: 0.07</br>"
          ],
          [
           "</br>id: 1833</br>prediction: 0.06</br>situation: 3.24</br></br>h_a: 0.0</br>shotType: 0.0</br>lastAction: 0.0</br>minute: 3</br>distanceToGoal: 9.53310076709881</br>angleToGoal: 40.4664837945122</br>_original_yhat_: 0.07</br>"
          ],
          [
           "</br>id: 1833</br>prediction: 0.06</br>situation: 3.2800000000000002</br></br>h_a: 0.0</br>shotType: 0.0</br>lastAction: 0.0</br>minute: 3</br>distanceToGoal: 9.53310076709881</br>angleToGoal: 40.4664837945122</br>_original_yhat_: 0.07</br>"
          ],
          [
           "</br>id: 1833</br>prediction: 0.06</br>situation: 3.3200000000000003</br></br>h_a: 0.0</br>shotType: 0.0</br>lastAction: 0.0</br>minute: 3</br>distanceToGoal: 9.53310076709881</br>angleToGoal: 40.4664837945122</br>_original_yhat_: 0.07</br>"
          ],
          [
           "</br>id: 1833</br>prediction: 0.06</br>situation: 3.36</br></br>h_a: 0.0</br>shotType: 0.0</br>lastAction: 0.0</br>minute: 3</br>distanceToGoal: 9.53310076709881</br>angleToGoal: 40.4664837945122</br>_original_yhat_: 0.07</br>"
          ],
          [
           "</br>id: 1833</br>prediction: 0.06</br>situation: 3.4</br></br>h_a: 0.0</br>shotType: 0.0</br>lastAction: 0.0</br>minute: 3</br>distanceToGoal: 9.53310076709881</br>angleToGoal: 40.4664837945122</br>_original_yhat_: 0.07</br>"
          ],
          [
           "</br>id: 1833</br>prediction: 0.06</br>situation: 3.44</br></br>h_a: 0.0</br>shotType: 0.0</br>lastAction: 0.0</br>minute: 3</br>distanceToGoal: 9.53310076709881</br>angleToGoal: 40.4664837945122</br>_original_yhat_: 0.07</br>"
          ],
          [
           "</br>id: 1833</br>prediction: 0.06</br>situation: 3.48</br></br>h_a: 0.0</br>shotType: 0.0</br>lastAction: 0.0</br>minute: 3</br>distanceToGoal: 9.53310076709881</br>angleToGoal: 40.4664837945122</br>_original_yhat_: 0.07</br>"
          ],
          [
           "</br>id: 1833</br>prediction: 0.02</br>situation: 3.52</br></br>h_a: 0.0</br>shotType: 0.0</br>lastAction: 0.0</br>minute: 3</br>distanceToGoal: 9.53310076709881</br>angleToGoal: 40.4664837945122</br>_original_yhat_: 0.07</br>"
          ],
          [
           "</br>id: 1833</br>prediction: 0.02</br>situation: 3.56</br></br>h_a: 0.0</br>shotType: 0.0</br>lastAction: 0.0</br>minute: 3</br>distanceToGoal: 9.53310076709881</br>angleToGoal: 40.4664837945122</br>_original_yhat_: 0.07</br>"
          ],
          [
           "</br>id: 1833</br>prediction: 0.02</br>situation: 3.6</br></br>h_a: 0.0</br>shotType: 0.0</br>lastAction: 0.0</br>minute: 3</br>distanceToGoal: 9.53310076709881</br>angleToGoal: 40.4664837945122</br>_original_yhat_: 0.07</br>"
          ],
          [
           "</br>id: 1833</br>prediction: 0.02</br>situation: 3.64</br></br>h_a: 0.0</br>shotType: 0.0</br>lastAction: 0.0</br>minute: 3</br>distanceToGoal: 9.53310076709881</br>angleToGoal: 40.4664837945122</br>_original_yhat_: 0.07</br>"
          ],
          [
           "</br>id: 1833</br>prediction: 0.02</br>situation: 3.68</br></br>h_a: 0.0</br>shotType: 0.0</br>lastAction: 0.0</br>minute: 3</br>distanceToGoal: 9.53310076709881</br>angleToGoal: 40.4664837945122</br>_original_yhat_: 0.07</br>"
          ],
          [
           "</br>id: 1833</br>prediction: 0.02</br>situation: 3.72</br></br>h_a: 0.0</br>shotType: 0.0</br>lastAction: 0.0</br>minute: 3</br>distanceToGoal: 9.53310076709881</br>angleToGoal: 40.4664837945122</br>_original_yhat_: 0.07</br>"
          ],
          [
           "</br>id: 1833</br>prediction: 0.02</br>situation: 3.7600000000000002</br></br>h_a: 0.0</br>shotType: 0.0</br>lastAction: 0.0</br>minute: 3</br>distanceToGoal: 9.53310076709881</br>angleToGoal: 40.4664837945122</br>_original_yhat_: 0.07</br>"
          ],
          [
           "</br>id: 1833</br>prediction: 0.02</br>situation: 3.8000000000000003</br></br>h_a: 0.0</br>shotType: 0.0</br>lastAction: 0.0</br>minute: 3</br>distanceToGoal: 9.53310076709881</br>angleToGoal: 40.4664837945122</br>_original_yhat_: 0.07</br>"
          ],
          [
           "</br>id: 1833</br>prediction: 0.02</br>situation: 3.84</br></br>h_a: 0.0</br>shotType: 0.0</br>lastAction: 0.0</br>minute: 3</br>distanceToGoal: 9.53310076709881</br>angleToGoal: 40.4664837945122</br>_original_yhat_: 0.07</br>"
          ],
          [
           "</br>id: 1833</br>prediction: 0.02</br>situation: 3.88</br></br>h_a: 0.0</br>shotType: 0.0</br>lastAction: 0.0</br>minute: 3</br>distanceToGoal: 9.53310076709881</br>angleToGoal: 40.4664837945122</br>_original_yhat_: 0.07</br>"
          ],
          [
           "</br>id: 1833</br>prediction: 0.02</br>situation: 3.92</br></br>h_a: 0.0</br>shotType: 0.0</br>lastAction: 0.0</br>minute: 3</br>distanceToGoal: 9.53310076709881</br>angleToGoal: 40.4664837945122</br>_original_yhat_: 0.07</br>"
          ],
          [
           "</br>id: 1833</br>prediction: 0.02</br>situation: 3.96</br></br>h_a: 0.0</br>shotType: 0.0</br>lastAction: 0.0</br>minute: 3</br>distanceToGoal: 9.53310076709881</br>angleToGoal: 40.4664837945122</br>_original_yhat_: 0.07</br>"
          ],
          [
           "</br>id: 1833</br>prediction: 0.02</br>situation: 4.0</br></br>h_a: 0.0</br>shotType: 0.0</br>lastAction: 0.0</br>minute: 3</br>distanceToGoal: 9.53310076709881</br>angleToGoal: 40.4664837945122</br>_original_yhat_: 0.07</br>"
          ]
         ],
         "hovertemplate": "%{customdata[0]}<extra></extra>",
         "legendgroup": "Random Forest",
         "line": {
          "color": "#f05a71",
          "dash": "solid",
          "width": 2
         },
         "marker": {
          "symbol": "circle"
         },
         "mode": "lines",
         "name": "Random Forest",
         "opacity": 1,
         "showlegend": false,
         "type": "scattergl",
         "x": [
          0,
          0.04,
          0.08,
          0.12,
          0.16,
          0.2,
          0.24,
          0.28,
          0.32,
          0.36,
          0.4,
          0.44,
          0.48,
          0.52,
          0.56,
          0.6,
          0.64,
          0.68,
          0.72,
          0.76,
          0.8,
          0.84,
          0.88,
          0.92,
          0.96,
          1,
          1.04,
          1.08,
          1.12,
          1.16,
          1.2,
          1.24,
          1.28,
          1.32,
          1.36,
          1.4000000000000001,
          1.44,
          1.48,
          1.52,
          1.56,
          1.6,
          1.6400000000000001,
          1.68,
          1.72,
          1.76,
          1.8,
          1.84,
          1.8800000000000001,
          1.92,
          1.96,
          2,
          2.04,
          2.08,
          2.12,
          2.16,
          2.2,
          2.24,
          2.2800000000000002,
          2.32,
          2.36,
          2.4,
          2.44,
          2.48,
          2.52,
          2.56,
          2.6,
          2.64,
          2.68,
          2.72,
          2.7600000000000002,
          2.8000000000000003,
          2.84,
          2.88,
          2.92,
          2.96,
          3,
          3.04,
          3.08,
          3.12,
          3.16,
          3.2,
          3.24,
          3.2800000000000002,
          3.3200000000000003,
          3.36,
          3.4,
          3.44,
          3.48,
          3.52,
          3.56,
          3.6,
          3.64,
          3.68,
          3.72,
          3.7600000000000002,
          3.8000000000000003,
          3.84,
          3.88,
          3.92,
          3.96,
          4
         ],
         "xaxis": "x8",
         "y": [
          0.06,
          0.06,
          0.06,
          0.06,
          0.06,
          0.06,
          0.06,
          0.06,
          0.06,
          0.06,
          0.06,
          0.06,
          0.06,
          0.06,
          0.06,
          0.06,
          0.06,
          0.06,
          0.06,
          0.06,
          0.06,
          0.06,
          0.06,
          0.06,
          0.06,
          0.06,
          0.06,
          0.06,
          0.06,
          0.06,
          0.06,
          0.06,
          0.06,
          0.06,
          0.06,
          0.06,
          0.06,
          0.06,
          0.07,
          0.07,
          0.07,
          0.07,
          0.07,
          0.07,
          0.07,
          0.07,
          0.07,
          0.07,
          0.07,
          0.07,
          0.07,
          0.07,
          0.07,
          0.07,
          0.07,
          0.07,
          0.07,
          0.07,
          0.07,
          0.07,
          0.07,
          0.07,
          0.07,
          0.09,
          0.09,
          0.09,
          0.09,
          0.09,
          0.09,
          0.09,
          0.09,
          0.09,
          0.09,
          0.09,
          0.09,
          0.09,
          0.06,
          0.06,
          0.06,
          0.06,
          0.06,
          0.06,
          0.06,
          0.06,
          0.06,
          0.06,
          0.06,
          0.06,
          0.02,
          0.02,
          0.02,
          0.02,
          0.02,
          0.02,
          0.02,
          0.02,
          0.02,
          0.02,
          0.02,
          0.02,
          0.02
         ],
         "yaxis": "y8"
        },
        {
         "customdata": [
          [
           "</br>id: 1833</br>prediction: 0.07</br>shotType: 0.0</br></br>h_a: 0.0</br>situation: 2.0</br>lastAction: 0.0</br>minute: 3</br>distanceToGoal: 9.53310076709881</br>angleToGoal: 40.4664837945122</br>_original_yhat_: 0.07</br>"
          ],
          [
           "</br>id: 1833</br>prediction: 0.07</br>shotType: 0.03</br></br>h_a: 0.0</br>situation: 2.0</br>lastAction: 0.0</br>minute: 3</br>distanceToGoal: 9.53310076709881</br>angleToGoal: 40.4664837945122</br>_original_yhat_: 0.07</br>"
          ],
          [
           "</br>id: 1833</br>prediction: 0.07</br>shotType: 0.06</br></br>h_a: 0.0</br>situation: 2.0</br>lastAction: 0.0</br>minute: 3</br>distanceToGoal: 9.53310076709881</br>angleToGoal: 40.4664837945122</br>_original_yhat_: 0.07</br>"
          ],
          [
           "</br>id: 1833</br>prediction: 0.07</br>shotType: 0.09</br></br>h_a: 0.0</br>situation: 2.0</br>lastAction: 0.0</br>minute: 3</br>distanceToGoal: 9.53310076709881</br>angleToGoal: 40.4664837945122</br>_original_yhat_: 0.07</br>"
          ],
          [
           "</br>id: 1833</br>prediction: 0.07</br>shotType: 0.12</br></br>h_a: 0.0</br>situation: 2.0</br>lastAction: 0.0</br>minute: 3</br>distanceToGoal: 9.53310076709881</br>angleToGoal: 40.4664837945122</br>_original_yhat_: 0.07</br>"
          ],
          [
           "</br>id: 1833</br>prediction: 0.07</br>shotType: 0.15</br></br>h_a: 0.0</br>situation: 2.0</br>lastAction: 0.0</br>minute: 3</br>distanceToGoal: 9.53310076709881</br>angleToGoal: 40.4664837945122</br>_original_yhat_: 0.07</br>"
          ],
          [
           "</br>id: 1833</br>prediction: 0.07</br>shotType: 0.18</br></br>h_a: 0.0</br>situation: 2.0</br>lastAction: 0.0</br>minute: 3</br>distanceToGoal: 9.53310076709881</br>angleToGoal: 40.4664837945122</br>_original_yhat_: 0.07</br>"
          ],
          [
           "</br>id: 1833</br>prediction: 0.07</br>shotType: 0.21</br></br>h_a: 0.0</br>situation: 2.0</br>lastAction: 0.0</br>minute: 3</br>distanceToGoal: 9.53310076709881</br>angleToGoal: 40.4664837945122</br>_original_yhat_: 0.07</br>"
          ],
          [
           "</br>id: 1833</br>prediction: 0.07</br>shotType: 0.24</br></br>h_a: 0.0</br>situation: 2.0</br>lastAction: 0.0</br>minute: 3</br>distanceToGoal: 9.53310076709881</br>angleToGoal: 40.4664837945122</br>_original_yhat_: 0.07</br>"
          ],
          [
           "</br>id: 1833</br>prediction: 0.07</br>shotType: 0.27</br></br>h_a: 0.0</br>situation: 2.0</br>lastAction: 0.0</br>minute: 3</br>distanceToGoal: 9.53310076709881</br>angleToGoal: 40.4664837945122</br>_original_yhat_: 0.07</br>"
          ],
          [
           "</br>id: 1833</br>prediction: 0.07</br>shotType: 0.3</br></br>h_a: 0.0</br>situation: 2.0</br>lastAction: 0.0</br>minute: 3</br>distanceToGoal: 9.53310076709881</br>angleToGoal: 40.4664837945122</br>_original_yhat_: 0.07</br>"
          ],
          [
           "</br>id: 1833</br>prediction: 0.07</br>shotType: 0.32999999999999996</br></br>h_a: 0.0</br>situation: 2.0</br>lastAction: 0.0</br>minute: 3</br>distanceToGoal: 9.53310076709881</br>angleToGoal: 40.4664837945122</br>_original_yhat_: 0.07</br>"
          ],
          [
           "</br>id: 1833</br>prediction: 0.07</br>shotType: 0.36</br></br>h_a: 0.0</br>situation: 2.0</br>lastAction: 0.0</br>minute: 3</br>distanceToGoal: 9.53310076709881</br>angleToGoal: 40.4664837945122</br>_original_yhat_: 0.07</br>"
          ],
          [
           "</br>id: 1833</br>prediction: 0.07</br>shotType: 0.39</br></br>h_a: 0.0</br>situation: 2.0</br>lastAction: 0.0</br>minute: 3</br>distanceToGoal: 9.53310076709881</br>angleToGoal: 40.4664837945122</br>_original_yhat_: 0.07</br>"
          ],
          [
           "</br>id: 1833</br>prediction: 0.07</br>shotType: 0.42</br></br>h_a: 0.0</br>situation: 2.0</br>lastAction: 0.0</br>minute: 3</br>distanceToGoal: 9.53310076709881</br>angleToGoal: 40.4664837945122</br>_original_yhat_: 0.07</br>"
          ],
          [
           "</br>id: 1833</br>prediction: 0.07</br>shotType: 0.44999999999999996</br></br>h_a: 0.0</br>situation: 2.0</br>lastAction: 0.0</br>minute: 3</br>distanceToGoal: 9.53310076709881</br>angleToGoal: 40.4664837945122</br>_original_yhat_: 0.07</br>"
          ],
          [
           "</br>id: 1833</br>prediction: 0.07</br>shotType: 0.48</br></br>h_a: 0.0</br>situation: 2.0</br>lastAction: 0.0</br>minute: 3</br>distanceToGoal: 9.53310076709881</br>angleToGoal: 40.4664837945122</br>_original_yhat_: 0.07</br>"
          ],
          [
           "</br>id: 1833</br>prediction: 0.1</br>shotType: 0.51</br></br>h_a: 0.0</br>situation: 2.0</br>lastAction: 0.0</br>minute: 3</br>distanceToGoal: 9.53310076709881</br>angleToGoal: 40.4664837945122</br>_original_yhat_: 0.07</br>"
          ],
          [
           "</br>id: 1833</br>prediction: 0.1</br>shotType: 0.54</br></br>h_a: 0.0</br>situation: 2.0</br>lastAction: 0.0</br>minute: 3</br>distanceToGoal: 9.53310076709881</br>angleToGoal: 40.4664837945122</br>_original_yhat_: 0.07</br>"
          ],
          [
           "</br>id: 1833</br>prediction: 0.1</br>shotType: 0.57</br></br>h_a: 0.0</br>situation: 2.0</br>lastAction: 0.0</br>minute: 3</br>distanceToGoal: 9.53310076709881</br>angleToGoal: 40.4664837945122</br>_original_yhat_: 0.07</br>"
          ],
          [
           "</br>id: 1833</br>prediction: 0.1</br>shotType: 0.6</br></br>h_a: 0.0</br>situation: 2.0</br>lastAction: 0.0</br>minute: 3</br>distanceToGoal: 9.53310076709881</br>angleToGoal: 40.4664837945122</br>_original_yhat_: 0.07</br>"
          ],
          [
           "</br>id: 1833</br>prediction: 0.1</br>shotType: 0.63</br></br>h_a: 0.0</br>situation: 2.0</br>lastAction: 0.0</br>minute: 3</br>distanceToGoal: 9.53310076709881</br>angleToGoal: 40.4664837945122</br>_original_yhat_: 0.07</br>"
          ],
          [
           "</br>id: 1833</br>prediction: 0.1</br>shotType: 0.6599999999999999</br></br>h_a: 0.0</br>situation: 2.0</br>lastAction: 0.0</br>minute: 3</br>distanceToGoal: 9.53310076709881</br>angleToGoal: 40.4664837945122</br>_original_yhat_: 0.07</br>"
          ],
          [
           "</br>id: 1833</br>prediction: 0.1</br>shotType: 0.69</br></br>h_a: 0.0</br>situation: 2.0</br>lastAction: 0.0</br>minute: 3</br>distanceToGoal: 9.53310076709881</br>angleToGoal: 40.4664837945122</br>_original_yhat_: 0.07</br>"
          ],
          [
           "</br>id: 1833</br>prediction: 0.1</br>shotType: 0.72</br></br>h_a: 0.0</br>situation: 2.0</br>lastAction: 0.0</br>minute: 3</br>distanceToGoal: 9.53310076709881</br>angleToGoal: 40.4664837945122</br>_original_yhat_: 0.07</br>"
          ],
          [
           "</br>id: 1833</br>prediction: 0.1</br>shotType: 0.75</br></br>h_a: 0.0</br>situation: 2.0</br>lastAction: 0.0</br>minute: 3</br>distanceToGoal: 9.53310076709881</br>angleToGoal: 40.4664837945122</br>_original_yhat_: 0.07</br>"
          ],
          [
           "</br>id: 1833</br>prediction: 0.1</br>shotType: 0.78</br></br>h_a: 0.0</br>situation: 2.0</br>lastAction: 0.0</br>minute: 3</br>distanceToGoal: 9.53310076709881</br>angleToGoal: 40.4664837945122</br>_original_yhat_: 0.07</br>"
          ],
          [
           "</br>id: 1833</br>prediction: 0.1</br>shotType: 0.8099999999999999</br></br>h_a: 0.0</br>situation: 2.0</br>lastAction: 0.0</br>minute: 3</br>distanceToGoal: 9.53310076709881</br>angleToGoal: 40.4664837945122</br>_original_yhat_: 0.07</br>"
          ],
          [
           "</br>id: 1833</br>prediction: 0.1</br>shotType: 0.84</br></br>h_a: 0.0</br>situation: 2.0</br>lastAction: 0.0</br>minute: 3</br>distanceToGoal: 9.53310076709881</br>angleToGoal: 40.4664837945122</br>_original_yhat_: 0.07</br>"
          ],
          [
           "</br>id: 1833</br>prediction: 0.1</br>shotType: 0.87</br></br>h_a: 0.0</br>situation: 2.0</br>lastAction: 0.0</br>minute: 3</br>distanceToGoal: 9.53310076709881</br>angleToGoal: 40.4664837945122</br>_original_yhat_: 0.07</br>"
          ],
          [
           "</br>id: 1833</br>prediction: 0.1</br>shotType: 0.8999999999999999</br></br>h_a: 0.0</br>situation: 2.0</br>lastAction: 0.0</br>minute: 3</br>distanceToGoal: 9.53310076709881</br>angleToGoal: 40.4664837945122</br>_original_yhat_: 0.07</br>"
          ],
          [
           "</br>id: 1833</br>prediction: 0.1</br>shotType: 0.9299999999999999</br></br>h_a: 0.0</br>situation: 2.0</br>lastAction: 0.0</br>minute: 3</br>distanceToGoal: 9.53310076709881</br>angleToGoal: 40.4664837945122</br>_original_yhat_: 0.07</br>"
          ],
          [
           "</br>id: 1833</br>prediction: 0.1</br>shotType: 0.96</br></br>h_a: 0.0</br>situation: 2.0</br>lastAction: 0.0</br>minute: 3</br>distanceToGoal: 9.53310076709881</br>angleToGoal: 40.4664837945122</br>_original_yhat_: 0.07</br>"
          ],
          [
           "</br>id: 1833</br>prediction: 0.1</br>shotType: 0.99</br></br>h_a: 0.0</br>situation: 2.0</br>lastAction: 0.0</br>minute: 3</br>distanceToGoal: 9.53310076709881</br>angleToGoal: 40.4664837945122</br>_original_yhat_: 0.07</br>"
          ],
          [
           "</br>id: 1833</br>prediction: 0.09</br>shotType: 1.02</br></br>h_a: 0.0</br>situation: 2.0</br>lastAction: 0.0</br>minute: 3</br>distanceToGoal: 9.53310076709881</br>angleToGoal: 40.4664837945122</br>_original_yhat_: 0.07</br>"
          ],
          [
           "</br>id: 1833</br>prediction: 0.09</br>shotType: 1.05</br></br>h_a: 0.0</br>situation: 2.0</br>lastAction: 0.0</br>minute: 3</br>distanceToGoal: 9.53310076709881</br>angleToGoal: 40.4664837945122</br>_original_yhat_: 0.07</br>"
          ],
          [
           "</br>id: 1833</br>prediction: 0.09</br>shotType: 1.08</br></br>h_a: 0.0</br>situation: 2.0</br>lastAction: 0.0</br>minute: 3</br>distanceToGoal: 9.53310076709881</br>angleToGoal: 40.4664837945122</br>_original_yhat_: 0.07</br>"
          ],
          [
           "</br>id: 1833</br>prediction: 0.09</br>shotType: 1.1099999999999999</br></br>h_a: 0.0</br>situation: 2.0</br>lastAction: 0.0</br>minute: 3</br>distanceToGoal: 9.53310076709881</br>angleToGoal: 40.4664837945122</br>_original_yhat_: 0.07</br>"
          ],
          [
           "</br>id: 1833</br>prediction: 0.09</br>shotType: 1.14</br></br>h_a: 0.0</br>situation: 2.0</br>lastAction: 0.0</br>minute: 3</br>distanceToGoal: 9.53310076709881</br>angleToGoal: 40.4664837945122</br>_original_yhat_: 0.07</br>"
          ],
          [
           "</br>id: 1833</br>prediction: 0.09</br>shotType: 1.17</br></br>h_a: 0.0</br>situation: 2.0</br>lastAction: 0.0</br>minute: 3</br>distanceToGoal: 9.53310076709881</br>angleToGoal: 40.4664837945122</br>_original_yhat_: 0.07</br>"
          ],
          [
           "</br>id: 1833</br>prediction: 0.09</br>shotType: 1.2</br></br>h_a: 0.0</br>situation: 2.0</br>lastAction: 0.0</br>minute: 3</br>distanceToGoal: 9.53310076709881</br>angleToGoal: 40.4664837945122</br>_original_yhat_: 0.07</br>"
          ],
          [
           "</br>id: 1833</br>prediction: 0.09</br>shotType: 1.23</br></br>h_a: 0.0</br>situation: 2.0</br>lastAction: 0.0</br>minute: 3</br>distanceToGoal: 9.53310076709881</br>angleToGoal: 40.4664837945122</br>_original_yhat_: 0.07</br>"
          ],
          [
           "</br>id: 1833</br>prediction: 0.09</br>shotType: 1.26</br></br>h_a: 0.0</br>situation: 2.0</br>lastAction: 0.0</br>minute: 3</br>distanceToGoal: 9.53310076709881</br>angleToGoal: 40.4664837945122</br>_original_yhat_: 0.07</br>"
          ],
          [
           "</br>id: 1833</br>prediction: 0.09</br>shotType: 1.29</br></br>h_a: 0.0</br>situation: 2.0</br>lastAction: 0.0</br>minute: 3</br>distanceToGoal: 9.53310076709881</br>angleToGoal: 40.4664837945122</br>_original_yhat_: 0.07</br>"
          ],
          [
           "</br>id: 1833</br>prediction: 0.09</br>shotType: 1.3199999999999998</br></br>h_a: 0.0</br>situation: 2.0</br>lastAction: 0.0</br>minute: 3</br>distanceToGoal: 9.53310076709881</br>angleToGoal: 40.4664837945122</br>_original_yhat_: 0.07</br>"
          ],
          [
           "</br>id: 1833</br>prediction: 0.09</br>shotType: 1.3499999999999999</br></br>h_a: 0.0</br>situation: 2.0</br>lastAction: 0.0</br>minute: 3</br>distanceToGoal: 9.53310076709881</br>angleToGoal: 40.4664837945122</br>_original_yhat_: 0.07</br>"
          ],
          [
           "</br>id: 1833</br>prediction: 0.09</br>shotType: 1.38</br></br>h_a: 0.0</br>situation: 2.0</br>lastAction: 0.0</br>minute: 3</br>distanceToGoal: 9.53310076709881</br>angleToGoal: 40.4664837945122</br>_original_yhat_: 0.07</br>"
          ],
          [
           "</br>id: 1833</br>prediction: 0.09</br>shotType: 1.41</br></br>h_a: 0.0</br>situation: 2.0</br>lastAction: 0.0</br>minute: 3</br>distanceToGoal: 9.53310076709881</br>angleToGoal: 40.4664837945122</br>_original_yhat_: 0.07</br>"
          ],
          [
           "</br>id: 1833</br>prediction: 0.09</br>shotType: 1.44</br></br>h_a: 0.0</br>situation: 2.0</br>lastAction: 0.0</br>minute: 3</br>distanceToGoal: 9.53310076709881</br>angleToGoal: 40.4664837945122</br>_original_yhat_: 0.07</br>"
          ],
          [
           "</br>id: 1833</br>prediction: 0.09</br>shotType: 1.47</br></br>h_a: 0.0</br>situation: 2.0</br>lastAction: 0.0</br>minute: 3</br>distanceToGoal: 9.53310076709881</br>angleToGoal: 40.4664837945122</br>_original_yhat_: 0.07</br>"
          ],
          [
           "</br>id: 1833</br>prediction: 0.09</br>shotType: 1.5</br></br>h_a: 0.0</br>situation: 2.0</br>lastAction: 0.0</br>minute: 3</br>distanceToGoal: 9.53310076709881</br>angleToGoal: 40.4664837945122</br>_original_yhat_: 0.07</br>"
          ],
          [
           "</br>id: 1833</br>prediction: 0.04</br>shotType: 1.53</br></br>h_a: 0.0</br>situation: 2.0</br>lastAction: 0.0</br>minute: 3</br>distanceToGoal: 9.53310076709881</br>angleToGoal: 40.4664837945122</br>_original_yhat_: 0.07</br>"
          ],
          [
           "</br>id: 1833</br>prediction: 0.04</br>shotType: 1.56</br></br>h_a: 0.0</br>situation: 2.0</br>lastAction: 0.0</br>minute: 3</br>distanceToGoal: 9.53310076709881</br>angleToGoal: 40.4664837945122</br>_original_yhat_: 0.07</br>"
          ],
          [
           "</br>id: 1833</br>prediction: 0.04</br>shotType: 1.5899999999999999</br></br>h_a: 0.0</br>situation: 2.0</br>lastAction: 0.0</br>minute: 3</br>distanceToGoal: 9.53310076709881</br>angleToGoal: 40.4664837945122</br>_original_yhat_: 0.07</br>"
          ],
          [
           "</br>id: 1833</br>prediction: 0.04</br>shotType: 1.6199999999999999</br></br>h_a: 0.0</br>situation: 2.0</br>lastAction: 0.0</br>minute: 3</br>distanceToGoal: 9.53310076709881</br>angleToGoal: 40.4664837945122</br>_original_yhat_: 0.07</br>"
          ],
          [
           "</br>id: 1833</br>prediction: 0.04</br>shotType: 1.65</br></br>h_a: 0.0</br>situation: 2.0</br>lastAction: 0.0</br>minute: 3</br>distanceToGoal: 9.53310076709881</br>angleToGoal: 40.4664837945122</br>_original_yhat_: 0.07</br>"
          ],
          [
           "</br>id: 1833</br>prediction: 0.04</br>shotType: 1.68</br></br>h_a: 0.0</br>situation: 2.0</br>lastAction: 0.0</br>minute: 3</br>distanceToGoal: 9.53310076709881</br>angleToGoal: 40.4664837945122</br>_original_yhat_: 0.07</br>"
          ],
          [
           "</br>id: 1833</br>prediction: 0.04</br>shotType: 1.71</br></br>h_a: 0.0</br>situation: 2.0</br>lastAction: 0.0</br>minute: 3</br>distanceToGoal: 9.53310076709881</br>angleToGoal: 40.4664837945122</br>_original_yhat_: 0.07</br>"
          ],
          [
           "</br>id: 1833</br>prediction: 0.04</br>shotType: 1.74</br></br>h_a: 0.0</br>situation: 2.0</br>lastAction: 0.0</br>minute: 3</br>distanceToGoal: 9.53310076709881</br>angleToGoal: 40.4664837945122</br>_original_yhat_: 0.07</br>"
          ],
          [
           "</br>id: 1833</br>prediction: 0.04</br>shotType: 1.77</br></br>h_a: 0.0</br>situation: 2.0</br>lastAction: 0.0</br>minute: 3</br>distanceToGoal: 9.53310076709881</br>angleToGoal: 40.4664837945122</br>_original_yhat_: 0.07</br>"
          ],
          [
           "</br>id: 1833</br>prediction: 0.04</br>shotType: 1.7999999999999998</br></br>h_a: 0.0</br>situation: 2.0</br>lastAction: 0.0</br>minute: 3</br>distanceToGoal: 9.53310076709881</br>angleToGoal: 40.4664837945122</br>_original_yhat_: 0.07</br>"
          ],
          [
           "</br>id: 1833</br>prediction: 0.04</br>shotType: 1.8299999999999998</br></br>h_a: 0.0</br>situation: 2.0</br>lastAction: 0.0</br>minute: 3</br>distanceToGoal: 9.53310076709881</br>angleToGoal: 40.4664837945122</br>_original_yhat_: 0.07</br>"
          ],
          [
           "</br>id: 1833</br>prediction: 0.04</br>shotType: 1.8599999999999999</br></br>h_a: 0.0</br>situation: 2.0</br>lastAction: 0.0</br>minute: 3</br>distanceToGoal: 9.53310076709881</br>angleToGoal: 40.4664837945122</br>_original_yhat_: 0.07</br>"
          ],
          [
           "</br>id: 1833</br>prediction: 0.04</br>shotType: 1.89</br></br>h_a: 0.0</br>situation: 2.0</br>lastAction: 0.0</br>minute: 3</br>distanceToGoal: 9.53310076709881</br>angleToGoal: 40.4664837945122</br>_original_yhat_: 0.07</br>"
          ],
          [
           "</br>id: 1833</br>prediction: 0.04</br>shotType: 1.92</br></br>h_a: 0.0</br>situation: 2.0</br>lastAction: 0.0</br>minute: 3</br>distanceToGoal: 9.53310076709881</br>angleToGoal: 40.4664837945122</br>_original_yhat_: 0.07</br>"
          ],
          [
           "</br>id: 1833</br>prediction: 0.04</br>shotType: 1.95</br></br>h_a: 0.0</br>situation: 2.0</br>lastAction: 0.0</br>minute: 3</br>distanceToGoal: 9.53310076709881</br>angleToGoal: 40.4664837945122</br>_original_yhat_: 0.07</br>"
          ],
          [
           "</br>id: 1833</br>prediction: 0.04</br>shotType: 1.98</br></br>h_a: 0.0</br>situation: 2.0</br>lastAction: 0.0</br>minute: 3</br>distanceToGoal: 9.53310076709881</br>angleToGoal: 40.4664837945122</br>_original_yhat_: 0.07</br>"
          ],
          [
           "</br>id: 1833</br>prediction: 0.04</br>shotType: 2.01</br></br>h_a: 0.0</br>situation: 2.0</br>lastAction: 0.0</br>minute: 3</br>distanceToGoal: 9.53310076709881</br>angleToGoal: 40.4664837945122</br>_original_yhat_: 0.07</br>"
          ],
          [
           "</br>id: 1833</br>prediction: 0.04</br>shotType: 2.04</br></br>h_a: 0.0</br>situation: 2.0</br>lastAction: 0.0</br>minute: 3</br>distanceToGoal: 9.53310076709881</br>angleToGoal: 40.4664837945122</br>_original_yhat_: 0.07</br>"
          ],
          [
           "</br>id: 1833</br>prediction: 0.04</br>shotType: 2.07</br></br>h_a: 0.0</br>situation: 2.0</br>lastAction: 0.0</br>minute: 3</br>distanceToGoal: 9.53310076709881</br>angleToGoal: 40.4664837945122</br>_original_yhat_: 0.07</br>"
          ],
          [
           "</br>id: 1833</br>prediction: 0.04</br>shotType: 2.1</br></br>h_a: 0.0</br>situation: 2.0</br>lastAction: 0.0</br>minute: 3</br>distanceToGoal: 9.53310076709881</br>angleToGoal: 40.4664837945122</br>_original_yhat_: 0.07</br>"
          ],
          [
           "</br>id: 1833</br>prediction: 0.04</br>shotType: 2.13</br></br>h_a: 0.0</br>situation: 2.0</br>lastAction: 0.0</br>minute: 3</br>distanceToGoal: 9.53310076709881</br>angleToGoal: 40.4664837945122</br>_original_yhat_: 0.07</br>"
          ],
          [
           "</br>id: 1833</br>prediction: 0.04</br>shotType: 2.16</br></br>h_a: 0.0</br>situation: 2.0</br>lastAction: 0.0</br>minute: 3</br>distanceToGoal: 9.53310076709881</br>angleToGoal: 40.4664837945122</br>_original_yhat_: 0.07</br>"
          ],
          [
           "</br>id: 1833</br>prediction: 0.04</br>shotType: 2.19</br></br>h_a: 0.0</br>situation: 2.0</br>lastAction: 0.0</br>minute: 3</br>distanceToGoal: 9.53310076709881</br>angleToGoal: 40.4664837945122</br>_original_yhat_: 0.07</br>"
          ],
          [
           "</br>id: 1833</br>prediction: 0.04</br>shotType: 2.2199999999999998</br></br>h_a: 0.0</br>situation: 2.0</br>lastAction: 0.0</br>minute: 3</br>distanceToGoal: 9.53310076709881</br>angleToGoal: 40.4664837945122</br>_original_yhat_: 0.07</br>"
          ],
          [
           "</br>id: 1833</br>prediction: 0.04</br>shotType: 2.25</br></br>h_a: 0.0</br>situation: 2.0</br>lastAction: 0.0</br>minute: 3</br>distanceToGoal: 9.53310076709881</br>angleToGoal: 40.4664837945122</br>_original_yhat_: 0.07</br>"
          ],
          [
           "</br>id: 1833</br>prediction: 0.04</br>shotType: 2.28</br></br>h_a: 0.0</br>situation: 2.0</br>lastAction: 0.0</br>minute: 3</br>distanceToGoal: 9.53310076709881</br>angleToGoal: 40.4664837945122</br>_original_yhat_: 0.07</br>"
          ],
          [
           "</br>id: 1833</br>prediction: 0.04</br>shotType: 2.31</br></br>h_a: 0.0</br>situation: 2.0</br>lastAction: 0.0</br>minute: 3</br>distanceToGoal: 9.53310076709881</br>angleToGoal: 40.4664837945122</br>_original_yhat_: 0.07</br>"
          ],
          [
           "</br>id: 1833</br>prediction: 0.04</br>shotType: 2.34</br></br>h_a: 0.0</br>situation: 2.0</br>lastAction: 0.0</br>minute: 3</br>distanceToGoal: 9.53310076709881</br>angleToGoal: 40.4664837945122</br>_original_yhat_: 0.07</br>"
          ],
          [
           "</br>id: 1833</br>prediction: 0.04</br>shotType: 2.37</br></br>h_a: 0.0</br>situation: 2.0</br>lastAction: 0.0</br>minute: 3</br>distanceToGoal: 9.53310076709881</br>angleToGoal: 40.4664837945122</br>_original_yhat_: 0.07</br>"
          ],
          [
           "</br>id: 1833</br>prediction: 0.04</br>shotType: 2.4</br></br>h_a: 0.0</br>situation: 2.0</br>lastAction: 0.0</br>minute: 3</br>distanceToGoal: 9.53310076709881</br>angleToGoal: 40.4664837945122</br>_original_yhat_: 0.07</br>"
          ],
          [
           "</br>id: 1833</br>prediction: 0.04</br>shotType: 2.4299999999999997</br></br>h_a: 0.0</br>situation: 2.0</br>lastAction: 0.0</br>minute: 3</br>distanceToGoal: 9.53310076709881</br>angleToGoal: 40.4664837945122</br>_original_yhat_: 0.07</br>"
          ],
          [
           "</br>id: 1833</br>prediction: 0.04</br>shotType: 2.46</br></br>h_a: 0.0</br>situation: 2.0</br>lastAction: 0.0</br>minute: 3</br>distanceToGoal: 9.53310076709881</br>angleToGoal: 40.4664837945122</br>_original_yhat_: 0.07</br>"
          ],
          [
           "</br>id: 1833</br>prediction: 0.04</br>shotType: 2.4899999999999998</br></br>h_a: 0.0</br>situation: 2.0</br>lastAction: 0.0</br>minute: 3</br>distanceToGoal: 9.53310076709881</br>angleToGoal: 40.4664837945122</br>_original_yhat_: 0.07</br>"
          ],
          [
           "</br>id: 1833</br>prediction: 0.05</br>shotType: 2.52</br></br>h_a: 0.0</br>situation: 2.0</br>lastAction: 0.0</br>minute: 3</br>distanceToGoal: 9.53310076709881</br>angleToGoal: 40.4664837945122</br>_original_yhat_: 0.07</br>"
          ],
          [
           "</br>id: 1833</br>prediction: 0.05</br>shotType: 2.55</br></br>h_a: 0.0</br>situation: 2.0</br>lastAction: 0.0</br>minute: 3</br>distanceToGoal: 9.53310076709881</br>angleToGoal: 40.4664837945122</br>_original_yhat_: 0.07</br>"
          ],
          [
           "</br>id: 1833</br>prediction: 0.05</br>shotType: 2.58</br></br>h_a: 0.0</br>situation: 2.0</br>lastAction: 0.0</br>minute: 3</br>distanceToGoal: 9.53310076709881</br>angleToGoal: 40.4664837945122</br>_original_yhat_: 0.07</br>"
          ],
          [
           "</br>id: 1833</br>prediction: 0.05</br>shotType: 2.61</br></br>h_a: 0.0</br>situation: 2.0</br>lastAction: 0.0</br>minute: 3</br>distanceToGoal: 9.53310076709881</br>angleToGoal: 40.4664837945122</br>_original_yhat_: 0.07</br>"
          ],
          [
           "</br>id: 1833</br>prediction: 0.05</br>shotType: 2.6399999999999997</br></br>h_a: 0.0</br>situation: 2.0</br>lastAction: 0.0</br>minute: 3</br>distanceToGoal: 9.53310076709881</br>angleToGoal: 40.4664837945122</br>_original_yhat_: 0.07</br>"
          ],
          [
           "</br>id: 1833</br>prediction: 0.05</br>shotType: 2.67</br></br>h_a: 0.0</br>situation: 2.0</br>lastAction: 0.0</br>minute: 3</br>distanceToGoal: 9.53310076709881</br>angleToGoal: 40.4664837945122</br>_original_yhat_: 0.07</br>"
          ],
          [
           "</br>id: 1833</br>prediction: 0.05</br>shotType: 2.6999999999999997</br></br>h_a: 0.0</br>situation: 2.0</br>lastAction: 0.0</br>minute: 3</br>distanceToGoal: 9.53310076709881</br>angleToGoal: 40.4664837945122</br>_original_yhat_: 0.07</br>"
          ],
          [
           "</br>id: 1833</br>prediction: 0.05</br>shotType: 2.73</br></br>h_a: 0.0</br>situation: 2.0</br>lastAction: 0.0</br>minute: 3</br>distanceToGoal: 9.53310076709881</br>angleToGoal: 40.4664837945122</br>_original_yhat_: 0.07</br>"
          ],
          [
           "</br>id: 1833</br>prediction: 0.05</br>shotType: 2.76</br></br>h_a: 0.0</br>situation: 2.0</br>lastAction: 0.0</br>minute: 3</br>distanceToGoal: 9.53310076709881</br>angleToGoal: 40.4664837945122</br>_original_yhat_: 0.07</br>"
          ],
          [
           "</br>id: 1833</br>prediction: 0.05</br>shotType: 2.79</br></br>h_a: 0.0</br>situation: 2.0</br>lastAction: 0.0</br>minute: 3</br>distanceToGoal: 9.53310076709881</br>angleToGoal: 40.4664837945122</br>_original_yhat_: 0.07</br>"
          ],
          [
           "</br>id: 1833</br>prediction: 0.05</br>shotType: 2.82</br></br>h_a: 0.0</br>situation: 2.0</br>lastAction: 0.0</br>minute: 3</br>distanceToGoal: 9.53310076709881</br>angleToGoal: 40.4664837945122</br>_original_yhat_: 0.07</br>"
          ],
          [
           "</br>id: 1833</br>prediction: 0.05</br>shotType: 2.85</br></br>h_a: 0.0</br>situation: 2.0</br>lastAction: 0.0</br>minute: 3</br>distanceToGoal: 9.53310076709881</br>angleToGoal: 40.4664837945122</br>_original_yhat_: 0.07</br>"
          ],
          [
           "</br>id: 1833</br>prediction: 0.05</br>shotType: 2.88</br></br>h_a: 0.0</br>situation: 2.0</br>lastAction: 0.0</br>minute: 3</br>distanceToGoal: 9.53310076709881</br>angleToGoal: 40.4664837945122</br>_original_yhat_: 0.07</br>"
          ],
          [
           "</br>id: 1833</br>prediction: 0.05</br>shotType: 2.9099999999999997</br></br>h_a: 0.0</br>situation: 2.0</br>lastAction: 0.0</br>minute: 3</br>distanceToGoal: 9.53310076709881</br>angleToGoal: 40.4664837945122</br>_original_yhat_: 0.07</br>"
          ],
          [
           "</br>id: 1833</br>prediction: 0.05</br>shotType: 2.94</br></br>h_a: 0.0</br>situation: 2.0</br>lastAction: 0.0</br>minute: 3</br>distanceToGoal: 9.53310076709881</br>angleToGoal: 40.4664837945122</br>_original_yhat_: 0.07</br>"
          ],
          [
           "</br>id: 1833</br>prediction: 0.05</br>shotType: 2.9699999999999998</br></br>h_a: 0.0</br>situation: 2.0</br>lastAction: 0.0</br>minute: 3</br>distanceToGoal: 9.53310076709881</br>angleToGoal: 40.4664837945122</br>_original_yhat_: 0.07</br>"
          ],
          [
           "</br>id: 1833</br>prediction: 0.05</br>shotType: 3.0</br></br>h_a: 0.0</br>situation: 2.0</br>lastAction: 0.0</br>minute: 3</br>distanceToGoal: 9.53310076709881</br>angleToGoal: 40.4664837945122</br>_original_yhat_: 0.07</br>"
          ]
         ],
         "hovertemplate": "%{customdata[0]}<extra></extra>",
         "legendgroup": "Random Forest",
         "line": {
          "color": "#f05a71",
          "dash": "solid",
          "width": 2
         },
         "marker": {
          "symbol": "circle"
         },
         "mode": "lines",
         "name": "Random Forest",
         "opacity": 1,
         "showlegend": false,
         "type": "scattergl",
         "x": [
          0,
          0.03,
          0.06,
          0.09,
          0.12,
          0.15,
          0.18,
          0.21,
          0.24,
          0.27,
          0.3,
          0.32999999999999996,
          0.36,
          0.39,
          0.42,
          0.44999999999999996,
          0.48,
          0.51,
          0.54,
          0.57,
          0.6,
          0.63,
          0.6599999999999999,
          0.69,
          0.72,
          0.75,
          0.78,
          0.8099999999999999,
          0.84,
          0.87,
          0.8999999999999999,
          0.9299999999999999,
          0.96,
          0.99,
          1.02,
          1.05,
          1.08,
          1.1099999999999999,
          1.14,
          1.17,
          1.2,
          1.23,
          1.26,
          1.29,
          1.3199999999999998,
          1.3499999999999999,
          1.38,
          1.41,
          1.44,
          1.47,
          1.5,
          1.53,
          1.56,
          1.5899999999999999,
          1.6199999999999999,
          1.65,
          1.68,
          1.71,
          1.74,
          1.77,
          1.7999999999999998,
          1.8299999999999998,
          1.8599999999999999,
          1.89,
          1.92,
          1.95,
          1.98,
          2.01,
          2.04,
          2.07,
          2.1,
          2.13,
          2.16,
          2.19,
          2.2199999999999998,
          2.25,
          2.28,
          2.31,
          2.34,
          2.37,
          2.4,
          2.4299999999999997,
          2.46,
          2.4899999999999998,
          2.52,
          2.55,
          2.58,
          2.61,
          2.6399999999999997,
          2.67,
          2.6999999999999997,
          2.73,
          2.76,
          2.79,
          2.82,
          2.85,
          2.88,
          2.9099999999999997,
          2.94,
          2.9699999999999998,
          3
         ],
         "xaxis": "x5",
         "y": [
          0.07,
          0.07,
          0.07,
          0.07,
          0.07,
          0.07,
          0.07,
          0.07,
          0.07,
          0.07,
          0.07,
          0.07,
          0.07,
          0.07,
          0.07,
          0.07,
          0.07,
          0.1,
          0.1,
          0.1,
          0.1,
          0.1,
          0.1,
          0.1,
          0.1,
          0.1,
          0.1,
          0.1,
          0.1,
          0.1,
          0.1,
          0.1,
          0.1,
          0.1,
          0.09,
          0.09,
          0.09,
          0.09,
          0.09,
          0.09,
          0.09,
          0.09,
          0.09,
          0.09,
          0.09,
          0.09,
          0.09,
          0.09,
          0.09,
          0.09,
          0.09,
          0.04,
          0.04,
          0.04,
          0.04,
          0.04,
          0.04,
          0.04,
          0.04,
          0.04,
          0.04,
          0.04,
          0.04,
          0.04,
          0.04,
          0.04,
          0.04,
          0.04,
          0.04,
          0.04,
          0.04,
          0.04,
          0.04,
          0.04,
          0.04,
          0.04,
          0.04,
          0.04,
          0.04,
          0.04,
          0.04,
          0.04,
          0.04,
          0.04,
          0.05,
          0.05,
          0.05,
          0.05,
          0.05,
          0.05,
          0.05,
          0.05,
          0.05,
          0.05,
          0.05,
          0.05,
          0.05,
          0.05,
          0.05,
          0.05,
          0.05
         ],
         "yaxis": "y5"
        },
        {
         "customdata": [
          [
           "</br>id: 1833</br>prediction: 0.07</br>lastAction: 0.0</br></br>h_a: 0.0</br>situation: 2.0</br>shotType: 0.0</br>minute: 3</br>distanceToGoal: 9.53310076709881</br>angleToGoal: 40.4664837945122</br>_original_yhat_: 0.07</br>"
          ],
          [
           "</br>id: 1833</br>prediction: 0.07</br>lastAction: 0.26</br></br>h_a: 0.0</br>situation: 2.0</br>shotType: 0.0</br>minute: 3</br>distanceToGoal: 9.53310076709881</br>angleToGoal: 40.4664837945122</br>_original_yhat_: 0.07</br>"
          ],
          [
           "</br>id: 1833</br>prediction: 0.06</br>lastAction: 0.52</br></br>h_a: 0.0</br>situation: 2.0</br>shotType: 0.0</br>minute: 3</br>distanceToGoal: 9.53310076709881</br>angleToGoal: 40.4664837945122</br>_original_yhat_: 0.07</br>"
          ],
          [
           "</br>id: 1833</br>prediction: 0.06</br>lastAction: 0.78</br></br>h_a: 0.0</br>situation: 2.0</br>shotType: 0.0</br>minute: 3</br>distanceToGoal: 9.53310076709881</br>angleToGoal: 40.4664837945122</br>_original_yhat_: 0.07</br>"
          ],
          [
           "</br>id: 1833</br>prediction: 0.03</br>lastAction: 1.04</br></br>h_a: 0.0</br>situation: 2.0</br>shotType: 0.0</br>minute: 3</br>distanceToGoal: 9.53310076709881</br>angleToGoal: 40.4664837945122</br>_original_yhat_: 0.07</br>"
          ],
          [
           "</br>id: 1833</br>prediction: 0.03</br>lastAction: 1.3</br></br>h_a: 0.0</br>situation: 2.0</br>shotType: 0.0</br>minute: 3</br>distanceToGoal: 9.53310076709881</br>angleToGoal: 40.4664837945122</br>_original_yhat_: 0.07</br>"
          ],
          [
           "</br>id: 1833</br>prediction: 0.06</br>lastAction: 1.56</br></br>h_a: 0.0</br>situation: 2.0</br>shotType: 0.0</br>minute: 3</br>distanceToGoal: 9.53310076709881</br>angleToGoal: 40.4664837945122</br>_original_yhat_: 0.07</br>"
          ],
          [
           "</br>id: 1833</br>prediction: 0.06</br>lastAction: 1.82</br></br>h_a: 0.0</br>situation: 2.0</br>shotType: 0.0</br>minute: 3</br>distanceToGoal: 9.53310076709881</br>angleToGoal: 40.4664837945122</br>_original_yhat_: 0.07</br>"
          ],
          [
           "</br>id: 1833</br>prediction: 0.06</br>lastAction: 2.08</br></br>h_a: 0.0</br>situation: 2.0</br>shotType: 0.0</br>minute: 3</br>distanceToGoal: 9.53310076709881</br>angleToGoal: 40.4664837945122</br>_original_yhat_: 0.07</br>"
          ],
          [
           "</br>id: 1833</br>prediction: 0.06</br>lastAction: 2.34</br></br>h_a: 0.0</br>situation: 2.0</br>shotType: 0.0</br>minute: 3</br>distanceToGoal: 9.53310076709881</br>angleToGoal: 40.4664837945122</br>_original_yhat_: 0.07</br>"
          ],
          [
           "</br>id: 1833</br>prediction: 0.06</br>lastAction: 2.6</br></br>h_a: 0.0</br>situation: 2.0</br>shotType: 0.0</br>minute: 3</br>distanceToGoal: 9.53310076709881</br>angleToGoal: 40.4664837945122</br>_original_yhat_: 0.07</br>"
          ],
          [
           "</br>id: 1833</br>prediction: 0.06</br>lastAction: 2.8600000000000003</br></br>h_a: 0.0</br>situation: 2.0</br>shotType: 0.0</br>minute: 3</br>distanceToGoal: 9.53310076709881</br>angleToGoal: 40.4664837945122</br>_original_yhat_: 0.07</br>"
          ],
          [
           "</br>id: 1833</br>prediction: 0.06</br>lastAction: 3.12</br></br>h_a: 0.0</br>situation: 2.0</br>shotType: 0.0</br>minute: 3</br>distanceToGoal: 9.53310076709881</br>angleToGoal: 40.4664837945122</br>_original_yhat_: 0.07</br>"
          ],
          [
           "</br>id: 1833</br>prediction: 0.06</br>lastAction: 3.38</br></br>h_a: 0.0</br>situation: 2.0</br>shotType: 0.0</br>minute: 3</br>distanceToGoal: 9.53310076709881</br>angleToGoal: 40.4664837945122</br>_original_yhat_: 0.07</br>"
          ],
          [
           "</br>id: 1833</br>prediction: 0.08</br>lastAction: 3.64</br></br>h_a: 0.0</br>situation: 2.0</br>shotType: 0.0</br>minute: 3</br>distanceToGoal: 9.53310076709881</br>angleToGoal: 40.4664837945122</br>_original_yhat_: 0.07</br>"
          ],
          [
           "</br>id: 1833</br>prediction: 0.08</br>lastAction: 3.9000000000000004</br></br>h_a: 0.0</br>situation: 2.0</br>shotType: 0.0</br>minute: 3</br>distanceToGoal: 9.53310076709881</br>angleToGoal: 40.4664837945122</br>_original_yhat_: 0.07</br>"
          ],
          [
           "</br>id: 1833</br>prediction: 0.08</br>lastAction: 4.16</br></br>h_a: 0.0</br>situation: 2.0</br>shotType: 0.0</br>minute: 3</br>distanceToGoal: 9.53310076709881</br>angleToGoal: 40.4664837945122</br>_original_yhat_: 0.07</br>"
          ],
          [
           "</br>id: 1833</br>prediction: 0.08</br>lastAction: 4.42</br></br>h_a: 0.0</br>situation: 2.0</br>shotType: 0.0</br>minute: 3</br>distanceToGoal: 9.53310076709881</br>angleToGoal: 40.4664837945122</br>_original_yhat_: 0.07</br>"
          ],
          [
           "</br>id: 1833</br>prediction: 0.08</br>lastAction: 4.68</br></br>h_a: 0.0</br>situation: 2.0</br>shotType: 0.0</br>minute: 3</br>distanceToGoal: 9.53310076709881</br>angleToGoal: 40.4664837945122</br>_original_yhat_: 0.07</br>"
          ],
          [
           "</br>id: 1833</br>prediction: 0.08</br>lastAction: 4.94</br></br>h_a: 0.0</br>situation: 2.0</br>shotType: 0.0</br>minute: 3</br>distanceToGoal: 9.53310076709881</br>angleToGoal: 40.4664837945122</br>_original_yhat_: 0.07</br>"
          ],
          [
           "</br>id: 1833</br>prediction: 0.08</br>lastAction: 5.2</br></br>h_a: 0.0</br>situation: 2.0</br>shotType: 0.0</br>minute: 3</br>distanceToGoal: 9.53310076709881</br>angleToGoal: 40.4664837945122</br>_original_yhat_: 0.07</br>"
          ],
          [
           "</br>id: 1833</br>prediction: 0.08</br>lastAction: 5.46</br></br>h_a: 0.0</br>situation: 2.0</br>shotType: 0.0</br>minute: 3</br>distanceToGoal: 9.53310076709881</br>angleToGoal: 40.4664837945122</br>_original_yhat_: 0.07</br>"
          ],
          [
           "</br>id: 1833</br>prediction: 0.08</br>lastAction: 5.720000000000001</br></br>h_a: 0.0</br>situation: 2.0</br>shotType: 0.0</br>minute: 3</br>distanceToGoal: 9.53310076709881</br>angleToGoal: 40.4664837945122</br>_original_yhat_: 0.07</br>"
          ],
          [
           "</br>id: 1833</br>prediction: 0.08</br>lastAction: 5.98</br></br>h_a: 0.0</br>situation: 2.0</br>shotType: 0.0</br>minute: 3</br>distanceToGoal: 9.53310076709881</br>angleToGoal: 40.4664837945122</br>_original_yhat_: 0.07</br>"
          ],
          [
           "</br>id: 1833</br>prediction: 0.08</br>lastAction: 6.24</br></br>h_a: 0.0</br>situation: 2.0</br>shotType: 0.0</br>minute: 3</br>distanceToGoal: 9.53310076709881</br>angleToGoal: 40.4664837945122</br>_original_yhat_: 0.07</br>"
          ],
          [
           "</br>id: 1833</br>prediction: 0.08</br>lastAction: 6.5</br></br>h_a: 0.0</br>situation: 2.0</br>shotType: 0.0</br>minute: 3</br>distanceToGoal: 9.53310076709881</br>angleToGoal: 40.4664837945122</br>_original_yhat_: 0.07</br>"
          ],
          [
           "</br>id: 1833</br>prediction: 0.08</br>lastAction: 6.76</br></br>h_a: 0.0</br>situation: 2.0</br>shotType: 0.0</br>minute: 3</br>distanceToGoal: 9.53310076709881</br>angleToGoal: 40.4664837945122</br>_original_yhat_: 0.07</br>"
          ],
          [
           "</br>id: 1833</br>prediction: 0.07</br>lastAction: 7.0200000000000005</br></br>h_a: 0.0</br>situation: 2.0</br>shotType: 0.0</br>minute: 3</br>distanceToGoal: 9.53310076709881</br>angleToGoal: 40.4664837945122</br>_original_yhat_: 0.07</br>"
          ],
          [
           "</br>id: 1833</br>prediction: 0.07</br>lastAction: 7.28</br></br>h_a: 0.0</br>situation: 2.0</br>shotType: 0.0</br>minute: 3</br>distanceToGoal: 9.53310076709881</br>angleToGoal: 40.4664837945122</br>_original_yhat_: 0.07</br>"
          ],
          [
           "</br>id: 1833</br>prediction: 0.06</br>lastAction: 7.54</br></br>h_a: 0.0</br>situation: 2.0</br>shotType: 0.0</br>minute: 3</br>distanceToGoal: 9.53310076709881</br>angleToGoal: 40.4664837945122</br>_original_yhat_: 0.07</br>"
          ],
          [
           "</br>id: 1833</br>prediction: 0.06</br>lastAction: 7.800000000000001</br></br>h_a: 0.0</br>situation: 2.0</br>shotType: 0.0</br>minute: 3</br>distanceToGoal: 9.53310076709881</br>angleToGoal: 40.4664837945122</br>_original_yhat_: 0.07</br>"
          ],
          [
           "</br>id: 1833</br>prediction: 0.06</br>lastAction: 8.06</br></br>h_a: 0.0</br>situation: 2.0</br>shotType: 0.0</br>minute: 3</br>distanceToGoal: 9.53310076709881</br>angleToGoal: 40.4664837945122</br>_original_yhat_: 0.07</br>"
          ],
          [
           "</br>id: 1833</br>prediction: 0.06</br>lastAction: 8.32</br></br>h_a: 0.0</br>situation: 2.0</br>shotType: 0.0</br>minute: 3</br>distanceToGoal: 9.53310076709881</br>angleToGoal: 40.4664837945122</br>_original_yhat_: 0.07</br>"
          ],
          [
           "</br>id: 1833</br>prediction: 0.07</br>lastAction: 8.58</br></br>h_a: 0.0</br>situation: 2.0</br>shotType: 0.0</br>minute: 3</br>distanceToGoal: 9.53310076709881</br>angleToGoal: 40.4664837945122</br>_original_yhat_: 0.07</br>"
          ],
          [
           "</br>id: 1833</br>prediction: 0.07</br>lastAction: 8.84</br></br>h_a: 0.0</br>situation: 2.0</br>shotType: 0.0</br>minute: 3</br>distanceToGoal: 9.53310076709881</br>angleToGoal: 40.4664837945122</br>_original_yhat_: 0.07</br>"
          ],
          [
           "</br>id: 1833</br>prediction: 0.07</br>lastAction: 9.1</br></br>h_a: 0.0</br>situation: 2.0</br>shotType: 0.0</br>minute: 3</br>distanceToGoal: 9.53310076709881</br>angleToGoal: 40.4664837945122</br>_original_yhat_: 0.07</br>"
          ],
          [
           "</br>id: 1833</br>prediction: 0.07</br>lastAction: 9.36</br></br>h_a: 0.0</br>situation: 2.0</br>shotType: 0.0</br>minute: 3</br>distanceToGoal: 9.53310076709881</br>angleToGoal: 40.4664837945122</br>_original_yhat_: 0.07</br>"
          ],
          [
           "</br>id: 1833</br>prediction: 0.07</br>lastAction: 9.620000000000001</br></br>h_a: 0.0</br>situation: 2.0</br>shotType: 0.0</br>minute: 3</br>distanceToGoal: 9.53310076709881</br>angleToGoal: 40.4664837945122</br>_original_yhat_: 0.07</br>"
          ],
          [
           "</br>id: 1833</br>prediction: 0.07</br>lastAction: 9.88</br></br>h_a: 0.0</br>situation: 2.0</br>shotType: 0.0</br>minute: 3</br>distanceToGoal: 9.53310076709881</br>angleToGoal: 40.4664837945122</br>_original_yhat_: 0.07</br>"
          ],
          [
           "</br>id: 1833</br>prediction: 0.07</br>lastAction: 10.14</br></br>h_a: 0.0</br>situation: 2.0</br>shotType: 0.0</br>minute: 3</br>distanceToGoal: 9.53310076709881</br>angleToGoal: 40.4664837945122</br>_original_yhat_: 0.07</br>"
          ],
          [
           "</br>id: 1833</br>prediction: 0.07</br>lastAction: 10.4</br></br>h_a: 0.0</br>situation: 2.0</br>shotType: 0.0</br>minute: 3</br>distanceToGoal: 9.53310076709881</br>angleToGoal: 40.4664837945122</br>_original_yhat_: 0.07</br>"
          ],
          [
           "</br>id: 1833</br>prediction: 0.07</br>lastAction: 10.66</br></br>h_a: 0.0</br>situation: 2.0</br>shotType: 0.0</br>minute: 3</br>distanceToGoal: 9.53310076709881</br>angleToGoal: 40.4664837945122</br>_original_yhat_: 0.07</br>"
          ],
          [
           "</br>id: 1833</br>prediction: 0.07</br>lastAction: 10.92</br></br>h_a: 0.0</br>situation: 2.0</br>shotType: 0.0</br>minute: 3</br>distanceToGoal: 9.53310076709881</br>angleToGoal: 40.4664837945122</br>_original_yhat_: 0.07</br>"
          ],
          [
           "</br>id: 1833</br>prediction: 0.07</br>lastAction: 11.18</br></br>h_a: 0.0</br>situation: 2.0</br>shotType: 0.0</br>minute: 3</br>distanceToGoal: 9.53310076709881</br>angleToGoal: 40.4664837945122</br>_original_yhat_: 0.07</br>"
          ],
          [
           "</br>id: 1833</br>prediction: 0.07</br>lastAction: 11.440000000000001</br></br>h_a: 0.0</br>situation: 2.0</br>shotType: 0.0</br>minute: 3</br>distanceToGoal: 9.53310076709881</br>angleToGoal: 40.4664837945122</br>_original_yhat_: 0.07</br>"
          ],
          [
           "</br>id: 1833</br>prediction: 0.08</br>lastAction: 11.700000000000001</br></br>h_a: 0.0</br>situation: 2.0</br>shotType: 0.0</br>minute: 3</br>distanceToGoal: 9.53310076709881</br>angleToGoal: 40.4664837945122</br>_original_yhat_: 0.07</br>"
          ],
          [
           "</br>id: 1833</br>prediction: 0.08</br>lastAction: 11.96</br></br>h_a: 0.0</br>situation: 2.0</br>shotType: 0.0</br>minute: 3</br>distanceToGoal: 9.53310076709881</br>angleToGoal: 40.4664837945122</br>_original_yhat_: 0.07</br>"
          ],
          [
           "</br>id: 1833</br>prediction: 0.08</br>lastAction: 12.22</br></br>h_a: 0.0</br>situation: 2.0</br>shotType: 0.0</br>minute: 3</br>distanceToGoal: 9.53310076709881</br>angleToGoal: 40.4664837945122</br>_original_yhat_: 0.07</br>"
          ],
          [
           "</br>id: 1833</br>prediction: 0.08</br>lastAction: 12.48</br></br>h_a: 0.0</br>situation: 2.0</br>shotType: 0.0</br>minute: 3</br>distanceToGoal: 9.53310076709881</br>angleToGoal: 40.4664837945122</br>_original_yhat_: 0.07</br>"
          ],
          [
           "</br>id: 1833</br>prediction: 0.08</br>lastAction: 12.74</br></br>h_a: 0.0</br>situation: 2.0</br>shotType: 0.0</br>minute: 3</br>distanceToGoal: 9.53310076709881</br>angleToGoal: 40.4664837945122</br>_original_yhat_: 0.07</br>"
          ],
          [
           "</br>id: 1833</br>prediction: 0.08</br>lastAction: 13.0</br></br>h_a: 0.0</br>situation: 2.0</br>shotType: 0.0</br>minute: 3</br>distanceToGoal: 9.53310076709881</br>angleToGoal: 40.4664837945122</br>_original_yhat_: 0.07</br>"
          ],
          [
           "</br>id: 1833</br>prediction: 0.08</br>lastAction: 13.26</br></br>h_a: 0.0</br>situation: 2.0</br>shotType: 0.0</br>minute: 3</br>distanceToGoal: 9.53310076709881</br>angleToGoal: 40.4664837945122</br>_original_yhat_: 0.07</br>"
          ],
          [
           "</br>id: 1833</br>prediction: 0.09</br>lastAction: 13.52</br></br>h_a: 0.0</br>situation: 2.0</br>shotType: 0.0</br>minute: 3</br>distanceToGoal: 9.53310076709881</br>angleToGoal: 40.4664837945122</br>_original_yhat_: 0.07</br>"
          ],
          [
           "</br>id: 1833</br>prediction: 0.09</br>lastAction: 13.780000000000001</br></br>h_a: 0.0</br>situation: 2.0</br>shotType: 0.0</br>minute: 3</br>distanceToGoal: 9.53310076709881</br>angleToGoal: 40.4664837945122</br>_original_yhat_: 0.07</br>"
          ],
          [
           "</br>id: 1833</br>prediction: 0.09</br>lastAction: 14.040000000000001</br></br>h_a: 0.0</br>situation: 2.0</br>shotType: 0.0</br>minute: 3</br>distanceToGoal: 9.53310076709881</br>angleToGoal: 40.4664837945122</br>_original_yhat_: 0.07</br>"
          ],
          [
           "</br>id: 1833</br>prediction: 0.09</br>lastAction: 14.3</br></br>h_a: 0.0</br>situation: 2.0</br>shotType: 0.0</br>minute: 3</br>distanceToGoal: 9.53310076709881</br>angleToGoal: 40.4664837945122</br>_original_yhat_: 0.07</br>"
          ],
          [
           "</br>id: 1833</br>prediction: 0.09</br>lastAction: 14.56</br></br>h_a: 0.0</br>situation: 2.0</br>shotType: 0.0</br>minute: 3</br>distanceToGoal: 9.53310076709881</br>angleToGoal: 40.4664837945122</br>_original_yhat_: 0.07</br>"
          ],
          [
           "</br>id: 1833</br>prediction: 0.09</br>lastAction: 14.82</br></br>h_a: 0.0</br>situation: 2.0</br>shotType: 0.0</br>minute: 3</br>distanceToGoal: 9.53310076709881</br>angleToGoal: 40.4664837945122</br>_original_yhat_: 0.07</br>"
          ],
          [
           "</br>id: 1833</br>prediction: 0.08</br>lastAction: 15.08</br></br>h_a: 0.0</br>situation: 2.0</br>shotType: 0.0</br>minute: 3</br>distanceToGoal: 9.53310076709881</br>angleToGoal: 40.4664837945122</br>_original_yhat_: 0.07</br>"
          ],
          [
           "</br>id: 1833</br>prediction: 0.08</br>lastAction: 15.34</br></br>h_a: 0.0</br>situation: 2.0</br>shotType: 0.0</br>minute: 3</br>distanceToGoal: 9.53310076709881</br>angleToGoal: 40.4664837945122</br>_original_yhat_: 0.07</br>"
          ],
          [
           "</br>id: 1833</br>prediction: 0.08</br>lastAction: 15.600000000000001</br></br>h_a: 0.0</br>situation: 2.0</br>shotType: 0.0</br>minute: 3</br>distanceToGoal: 9.53310076709881</br>angleToGoal: 40.4664837945122</br>_original_yhat_: 0.07</br>"
          ],
          [
           "</br>id: 1833</br>prediction: 0.08</br>lastAction: 15.860000000000001</br></br>h_a: 0.0</br>situation: 2.0</br>shotType: 0.0</br>minute: 3</br>distanceToGoal: 9.53310076709881</br>angleToGoal: 40.4664837945122</br>_original_yhat_: 0.07</br>"
          ],
          [
           "</br>id: 1833</br>prediction: 0.09</br>lastAction: 16.12</br></br>h_a: 0.0</br>situation: 2.0</br>shotType: 0.0</br>minute: 3</br>distanceToGoal: 9.53310076709881</br>angleToGoal: 40.4664837945122</br>_original_yhat_: 0.07</br>"
          ],
          [
           "</br>id: 1833</br>prediction: 0.09</br>lastAction: 16.38</br></br>h_a: 0.0</br>situation: 2.0</br>shotType: 0.0</br>minute: 3</br>distanceToGoal: 9.53310076709881</br>angleToGoal: 40.4664837945122</br>_original_yhat_: 0.07</br>"
          ],
          [
           "</br>id: 1833</br>prediction: 0.09</br>lastAction: 16.64</br></br>h_a: 0.0</br>situation: 2.0</br>shotType: 0.0</br>minute: 3</br>distanceToGoal: 9.53310076709881</br>angleToGoal: 40.4664837945122</br>_original_yhat_: 0.07</br>"
          ],
          [
           "</br>id: 1833</br>prediction: 0.09</br>lastAction: 16.900000000000002</br></br>h_a: 0.0</br>situation: 2.0</br>shotType: 0.0</br>minute: 3</br>distanceToGoal: 9.53310076709881</br>angleToGoal: 40.4664837945122</br>_original_yhat_: 0.07</br>"
          ],
          [
           "</br>id: 1833</br>prediction: 0.09</br>lastAction: 17.16</br></br>h_a: 0.0</br>situation: 2.0</br>shotType: 0.0</br>minute: 3</br>distanceToGoal: 9.53310076709881</br>angleToGoal: 40.4664837945122</br>_original_yhat_: 0.07</br>"
          ],
          [
           "</br>id: 1833</br>prediction: 0.09</br>lastAction: 17.42</br></br>h_a: 0.0</br>situation: 2.0</br>shotType: 0.0</br>minute: 3</br>distanceToGoal: 9.53310076709881</br>angleToGoal: 40.4664837945122</br>_original_yhat_: 0.07</br>"
          ],
          [
           "</br>id: 1833</br>prediction: 0.09</br>lastAction: 17.68</br></br>h_a: 0.0</br>situation: 2.0</br>shotType: 0.0</br>minute: 3</br>distanceToGoal: 9.53310076709881</br>angleToGoal: 40.4664837945122</br>_original_yhat_: 0.07</br>"
          ],
          [
           "</br>id: 1833</br>prediction: 0.09</br>lastAction: 17.94</br></br>h_a: 0.0</br>situation: 2.0</br>shotType: 0.0</br>minute: 3</br>distanceToGoal: 9.53310076709881</br>angleToGoal: 40.4664837945122</br>_original_yhat_: 0.07</br>"
          ],
          [
           "</br>id: 1833</br>prediction: 0.09</br>lastAction: 18.2</br></br>h_a: 0.0</br>situation: 2.0</br>shotType: 0.0</br>minute: 3</br>distanceToGoal: 9.53310076709881</br>angleToGoal: 40.4664837945122</br>_original_yhat_: 0.07</br>"
          ],
          [
           "</br>id: 1833</br>prediction: 0.09</br>lastAction: 18.46</br></br>h_a: 0.0</br>situation: 2.0</br>shotType: 0.0</br>minute: 3</br>distanceToGoal: 9.53310076709881</br>angleToGoal: 40.4664837945122</br>_original_yhat_: 0.07</br>"
          ],
          [
           "</br>id: 1833</br>prediction: 0.09</br>lastAction: 18.72</br></br>h_a: 0.0</br>situation: 2.0</br>shotType: 0.0</br>minute: 3</br>distanceToGoal: 9.53310076709881</br>angleToGoal: 40.4664837945122</br>_original_yhat_: 0.07</br>"
          ],
          [
           "</br>id: 1833</br>prediction: 0.09</br>lastAction: 18.98</br></br>h_a: 0.0</br>situation: 2.0</br>shotType: 0.0</br>minute: 3</br>distanceToGoal: 9.53310076709881</br>angleToGoal: 40.4664837945122</br>_original_yhat_: 0.07</br>"
          ],
          [
           "</br>id: 1833</br>prediction: 0.08</br>lastAction: 19.240000000000002</br></br>h_a: 0.0</br>situation: 2.0</br>shotType: 0.0</br>minute: 3</br>distanceToGoal: 9.53310076709881</br>angleToGoal: 40.4664837945122</br>_original_yhat_: 0.07</br>"
          ],
          [
           "</br>id: 1833</br>prediction: 0.08</br>lastAction: 19.5</br></br>h_a: 0.0</br>situation: 2.0</br>shotType: 0.0</br>minute: 3</br>distanceToGoal: 9.53310076709881</br>angleToGoal: 40.4664837945122</br>_original_yhat_: 0.07</br>"
          ],
          [
           "</br>id: 1833</br>prediction: 0.06</br>lastAction: 19.76</br></br>h_a: 0.0</br>situation: 2.0</br>shotType: 0.0</br>minute: 3</br>distanceToGoal: 9.53310076709881</br>angleToGoal: 40.4664837945122</br>_original_yhat_: 0.07</br>"
          ],
          [
           "</br>id: 1833</br>prediction: 0.06</br>lastAction: 20.02</br></br>h_a: 0.0</br>situation: 2.0</br>shotType: 0.0</br>minute: 3</br>distanceToGoal: 9.53310076709881</br>angleToGoal: 40.4664837945122</br>_original_yhat_: 0.07</br>"
          ],
          [
           "</br>id: 1833</br>prediction: 0.06</br>lastAction: 20.28</br></br>h_a: 0.0</br>situation: 2.0</br>shotType: 0.0</br>minute: 3</br>distanceToGoal: 9.53310076709881</br>angleToGoal: 40.4664837945122</br>_original_yhat_: 0.07</br>"
          ],
          [
           "</br>id: 1833</br>prediction: 0.14</br>lastAction: 20.54</br></br>h_a: 0.0</br>situation: 2.0</br>shotType: 0.0</br>minute: 3</br>distanceToGoal: 9.53310076709881</br>angleToGoal: 40.4664837945122</br>_original_yhat_: 0.07</br>"
          ],
          [
           "</br>id: 1833</br>prediction: 0.14</br>lastAction: 20.8</br></br>h_a: 0.0</br>situation: 2.0</br>shotType: 0.0</br>minute: 3</br>distanceToGoal: 9.53310076709881</br>angleToGoal: 40.4664837945122</br>_original_yhat_: 0.07</br>"
          ],
          [
           "</br>id: 1833</br>prediction: 0.14</br>lastAction: 21.060000000000002</br></br>h_a: 0.0</br>situation: 2.0</br>shotType: 0.0</br>minute: 3</br>distanceToGoal: 9.53310076709881</br>angleToGoal: 40.4664837945122</br>_original_yhat_: 0.07</br>"
          ],
          [
           "</br>id: 1833</br>prediction: 0.14</br>lastAction: 21.32</br></br>h_a: 0.0</br>situation: 2.0</br>shotType: 0.0</br>minute: 3</br>distanceToGoal: 9.53310076709881</br>angleToGoal: 40.4664837945122</br>_original_yhat_: 0.07</br>"
          ],
          [
           "</br>id: 1833</br>prediction: 0.16</br>lastAction: 21.580000000000002</br></br>h_a: 0.0</br>situation: 2.0</br>shotType: 0.0</br>minute: 3</br>distanceToGoal: 9.53310076709881</br>angleToGoal: 40.4664837945122</br>_original_yhat_: 0.07</br>"
          ],
          [
           "</br>id: 1833</br>prediction: 0.16</br>lastAction: 21.84</br></br>h_a: 0.0</br>situation: 2.0</br>shotType: 0.0</br>minute: 3</br>distanceToGoal: 9.53310076709881</br>angleToGoal: 40.4664837945122</br>_original_yhat_: 0.07</br>"
          ],
          [
           "</br>id: 1833</br>prediction: 0.16</br>lastAction: 22.1</br></br>h_a: 0.0</br>situation: 2.0</br>shotType: 0.0</br>minute: 3</br>distanceToGoal: 9.53310076709881</br>angleToGoal: 40.4664837945122</br>_original_yhat_: 0.07</br>"
          ],
          [
           "</br>id: 1833</br>prediction: 0.16</br>lastAction: 22.36</br></br>h_a: 0.0</br>situation: 2.0</br>shotType: 0.0</br>minute: 3</br>distanceToGoal: 9.53310076709881</br>angleToGoal: 40.4664837945122</br>_original_yhat_: 0.07</br>"
          ],
          [
           "</br>id: 1833</br>prediction: 0.16</br>lastAction: 22.62</br></br>h_a: 0.0</br>situation: 2.0</br>shotType: 0.0</br>minute: 3</br>distanceToGoal: 9.53310076709881</br>angleToGoal: 40.4664837945122</br>_original_yhat_: 0.07</br>"
          ],
          [
           "</br>id: 1833</br>prediction: 0.16</br>lastAction: 22.880000000000003</br></br>h_a: 0.0</br>situation: 2.0</br>shotType: 0.0</br>minute: 3</br>distanceToGoal: 9.53310076709881</br>angleToGoal: 40.4664837945122</br>_original_yhat_: 0.07</br>"
          ],
          [
           "</br>id: 1833</br>prediction: 0.24</br>lastAction: 23.14</br></br>h_a: 0.0</br>situation: 2.0</br>shotType: 0.0</br>minute: 3</br>distanceToGoal: 9.53310076709881</br>angleToGoal: 40.4664837945122</br>_original_yhat_: 0.07</br>"
          ],
          [
           "</br>id: 1833</br>prediction: 0.24</br>lastAction: 23.400000000000002</br></br>h_a: 0.0</br>situation: 2.0</br>shotType: 0.0</br>minute: 3</br>distanceToGoal: 9.53310076709881</br>angleToGoal: 40.4664837945122</br>_original_yhat_: 0.07</br>"
          ],
          [
           "</br>id: 1833</br>prediction: 0.24</br>lastAction: 23.66</br></br>h_a: 0.0</br>situation: 2.0</br>shotType: 0.0</br>minute: 3</br>distanceToGoal: 9.53310076709881</br>angleToGoal: 40.4664837945122</br>_original_yhat_: 0.07</br>"
          ],
          [
           "</br>id: 1833</br>prediction: 0.24</br>lastAction: 23.92</br></br>h_a: 0.0</br>situation: 2.0</br>shotType: 0.0</br>minute: 3</br>distanceToGoal: 9.53310076709881</br>angleToGoal: 40.4664837945122</br>_original_yhat_: 0.07</br>"
          ],
          [
           "</br>id: 1833</br>prediction: 0.24</br>lastAction: 24.18</br></br>h_a: 0.0</br>situation: 2.0</br>shotType: 0.0</br>minute: 3</br>distanceToGoal: 9.53310076709881</br>angleToGoal: 40.4664837945122</br>_original_yhat_: 0.07</br>"
          ],
          [
           "</br>id: 1833</br>prediction: 0.24</br>lastAction: 24.44</br></br>h_a: 0.0</br>situation: 2.0</br>shotType: 0.0</br>minute: 3</br>distanceToGoal: 9.53310076709881</br>angleToGoal: 40.4664837945122</br>_original_yhat_: 0.07</br>"
          ],
          [
           "</br>id: 1833</br>prediction: 0.24</br>lastAction: 24.7</br></br>h_a: 0.0</br>situation: 2.0</br>shotType: 0.0</br>minute: 3</br>distanceToGoal: 9.53310076709881</br>angleToGoal: 40.4664837945122</br>_original_yhat_: 0.07</br>"
          ],
          [
           "</br>id: 1833</br>prediction: 0.24</br>lastAction: 24.96</br></br>h_a: 0.0</br>situation: 2.0</br>shotType: 0.0</br>minute: 3</br>distanceToGoal: 9.53310076709881</br>angleToGoal: 40.4664837945122</br>_original_yhat_: 0.07</br>"
          ],
          [
           "</br>id: 1833</br>prediction: 0.24</br>lastAction: 25.220000000000002</br></br>h_a: 0.0</br>situation: 2.0</br>shotType: 0.0</br>minute: 3</br>distanceToGoal: 9.53310076709881</br>angleToGoal: 40.4664837945122</br>_original_yhat_: 0.07</br>"
          ],
          [
           "</br>id: 1833</br>prediction: 0.24</br>lastAction: 25.48</br></br>h_a: 0.0</br>situation: 2.0</br>shotType: 0.0</br>minute: 3</br>distanceToGoal: 9.53310076709881</br>angleToGoal: 40.4664837945122</br>_original_yhat_: 0.07</br>"
          ],
          [
           "</br>id: 1833</br>prediction: 0.19</br>lastAction: 25.740000000000002</br></br>h_a: 0.0</br>situation: 2.0</br>shotType: 0.0</br>minute: 3</br>distanceToGoal: 9.53310076709881</br>angleToGoal: 40.4664837945122</br>_original_yhat_: 0.07</br>"
          ],
          [
           "</br>id: 1833</br>prediction: 0.19</br>lastAction: 26.0</br></br>h_a: 0.0</br>situation: 2.0</br>shotType: 0.0</br>minute: 3</br>distanceToGoal: 9.53310076709881</br>angleToGoal: 40.4664837945122</br>_original_yhat_: 0.07</br>"
          ]
         ],
         "hovertemplate": "%{customdata[0]}<extra></extra>",
         "legendgroup": "Random Forest",
         "line": {
          "color": "#f05a71",
          "dash": "solid",
          "width": 2
         },
         "marker": {
          "symbol": "circle"
         },
         "mode": "lines",
         "name": "Random Forest",
         "opacity": 1,
         "showlegend": false,
         "type": "scattergl",
         "x": [
          0,
          0.26,
          0.52,
          0.78,
          1.04,
          1.3,
          1.56,
          1.82,
          2.08,
          2.34,
          2.6,
          2.8600000000000003,
          3.12,
          3.38,
          3.64,
          3.9000000000000004,
          4.16,
          4.42,
          4.68,
          4.94,
          5.2,
          5.46,
          5.720000000000001,
          5.98,
          6.24,
          6.5,
          6.76,
          7.0200000000000005,
          7.28,
          7.54,
          7.800000000000001,
          8.06,
          8.32,
          8.58,
          8.84,
          9.1,
          9.36,
          9.620000000000001,
          9.88,
          10.14,
          10.4,
          10.66,
          10.92,
          11.18,
          11.440000000000001,
          11.700000000000001,
          11.96,
          12.22,
          12.48,
          12.74,
          13,
          13.26,
          13.52,
          13.780000000000001,
          14.040000000000001,
          14.3,
          14.56,
          14.82,
          15.08,
          15.34,
          15.600000000000001,
          15.860000000000001,
          16.12,
          16.38,
          16.64,
          16.900000000000002,
          17.16,
          17.42,
          17.68,
          17.94,
          18.2,
          18.46,
          18.72,
          18.98,
          19.240000000000002,
          19.5,
          19.76,
          20.02,
          20.28,
          20.54,
          20.8,
          21.060000000000002,
          21.32,
          21.580000000000002,
          21.84,
          22.1,
          22.36,
          22.62,
          22.880000000000003,
          23.14,
          23.400000000000002,
          23.66,
          23.92,
          24.18,
          24.44,
          24.7,
          24.96,
          25.220000000000002,
          25.48,
          25.740000000000002,
          26
         ],
         "xaxis": "x6",
         "y": [
          0.07,
          0.07,
          0.06,
          0.06,
          0.03,
          0.03,
          0.06,
          0.06,
          0.06,
          0.06,
          0.06,
          0.06,
          0.06,
          0.06,
          0.08,
          0.08,
          0.08,
          0.08,
          0.08,
          0.08,
          0.08,
          0.08,
          0.08,
          0.08,
          0.08,
          0.08,
          0.08,
          0.07,
          0.07,
          0.06,
          0.06,
          0.06,
          0.06,
          0.07,
          0.07,
          0.07,
          0.07,
          0.07,
          0.07,
          0.07,
          0.07,
          0.07,
          0.07,
          0.07,
          0.07,
          0.08,
          0.08,
          0.08,
          0.08,
          0.08,
          0.08,
          0.08,
          0.09,
          0.09,
          0.09,
          0.09,
          0.09,
          0.09,
          0.08,
          0.08,
          0.08,
          0.08,
          0.09,
          0.09,
          0.09,
          0.09,
          0.09,
          0.09,
          0.09,
          0.09,
          0.09,
          0.09,
          0.09,
          0.09,
          0.08,
          0.08,
          0.06,
          0.06,
          0.06,
          0.14,
          0.14,
          0.14,
          0.14,
          0.16,
          0.16,
          0.16,
          0.16,
          0.16,
          0.16,
          0.24,
          0.24,
          0.24,
          0.24,
          0.24,
          0.24,
          0.24,
          0.24,
          0.24,
          0.24,
          0.19,
          0.19
         ],
         "yaxis": "y6"
        },
        {
         "customdata": [
          [
           "</br>id: 1833</br>prediction: 0.08</br>minute: 0</br></br>h_a: 0.0</br>situation: 2.0</br>shotType: 0.0</br>lastAction: 0.0</br>distanceToGoal: 9.53310076709881</br>angleToGoal: 40.4664837945122</br>_original_yhat_: 0.07</br>"
          ],
          [
           "</br>id: 1833</br>prediction: 0.08</br>minute: 1</br></br>h_a: 0.0</br>situation: 2.0</br>shotType: 0.0</br>lastAction: 0.0</br>distanceToGoal: 9.53310076709881</br>angleToGoal: 40.4664837945122</br>_original_yhat_: 0.07</br>"
          ],
          [
           "</br>id: 1833</br>prediction: 0.09</br>minute: 2</br></br>h_a: 0.0</br>situation: 2.0</br>shotType: 0.0</br>lastAction: 0.0</br>distanceToGoal: 9.53310076709881</br>angleToGoal: 40.4664837945122</br>_original_yhat_: 0.07</br>"
          ],
          [
           "</br>id: 1833</br>prediction: 0.07</br>minute: 3</br></br>h_a: 0.0</br>situation: 2.0</br>shotType: 0.0</br>lastAction: 0.0</br>distanceToGoal: 9.53310076709881</br>angleToGoal: 40.4664837945122</br>_original_yhat_: 0.07</br>"
          ],
          [
           "</br>id: 1833</br>prediction: 0.07</br>minute: 4</br></br>h_a: 0.0</br>situation: 2.0</br>shotType: 0.0</br>lastAction: 0.0</br>distanceToGoal: 9.53310076709881</br>angleToGoal: 40.4664837945122</br>_original_yhat_: 0.07</br>"
          ],
          [
           "</br>id: 1833</br>prediction: 0.08</br>minute: 5</br></br>h_a: 0.0</br>situation: 2.0</br>shotType: 0.0</br>lastAction: 0.0</br>distanceToGoal: 9.53310076709881</br>angleToGoal: 40.4664837945122</br>_original_yhat_: 0.07</br>"
          ],
          [
           "</br>id: 1833</br>prediction: 0.08</br>minute: 6</br></br>h_a: 0.0</br>situation: 2.0</br>shotType: 0.0</br>lastAction: 0.0</br>distanceToGoal: 9.53310076709881</br>angleToGoal: 40.4664837945122</br>_original_yhat_: 0.07</br>"
          ],
          [
           "</br>id: 1833</br>prediction: 0.11</br>minute: 7</br></br>h_a: 0.0</br>situation: 2.0</br>shotType: 0.0</br>lastAction: 0.0</br>distanceToGoal: 9.53310076709881</br>angleToGoal: 40.4664837945122</br>_original_yhat_: 0.07</br>"
          ],
          [
           "</br>id: 1833</br>prediction: 0.12</br>minute: 8</br></br>h_a: 0.0</br>situation: 2.0</br>shotType: 0.0</br>lastAction: 0.0</br>distanceToGoal: 9.53310076709881</br>angleToGoal: 40.4664837945122</br>_original_yhat_: 0.07</br>"
          ],
          [
           "</br>id: 1833</br>prediction: 0.1</br>minute: 9</br></br>h_a: 0.0</br>situation: 2.0</br>shotType: 0.0</br>lastAction: 0.0</br>distanceToGoal: 9.53310076709881</br>angleToGoal: 40.4664837945122</br>_original_yhat_: 0.07</br>"
          ],
          [
           "</br>id: 1833</br>prediction: 0.1</br>minute: 10</br></br>h_a: 0.0</br>situation: 2.0</br>shotType: 0.0</br>lastAction: 0.0</br>distanceToGoal: 9.53310076709881</br>angleToGoal: 40.4664837945122</br>_original_yhat_: 0.07</br>"
          ],
          [
           "</br>id: 1833</br>prediction: 0.1</br>minute: 11</br></br>h_a: 0.0</br>situation: 2.0</br>shotType: 0.0</br>lastAction: 0.0</br>distanceToGoal: 9.53310076709881</br>angleToGoal: 40.4664837945122</br>_original_yhat_: 0.07</br>"
          ],
          [
           "</br>id: 1833</br>prediction: 0.14</br>minute: 12</br></br>h_a: 0.0</br>situation: 2.0</br>shotType: 0.0</br>lastAction: 0.0</br>distanceToGoal: 9.53310076709881</br>angleToGoal: 40.4664837945122</br>_original_yhat_: 0.07</br>"
          ],
          [
           "</br>id: 1833</br>prediction: 0.14</br>minute: 13</br></br>h_a: 0.0</br>situation: 2.0</br>shotType: 0.0</br>lastAction: 0.0</br>distanceToGoal: 9.53310076709881</br>angleToGoal: 40.4664837945122</br>_original_yhat_: 0.07</br>"
          ],
          [
           "</br>id: 1833</br>prediction: 0.13</br>minute: 14</br></br>h_a: 0.0</br>situation: 2.0</br>shotType: 0.0</br>lastAction: 0.0</br>distanceToGoal: 9.53310076709881</br>angleToGoal: 40.4664837945122</br>_original_yhat_: 0.07</br>"
          ],
          [
           "</br>id: 1833</br>prediction: 0.15</br>minute: 15</br></br>h_a: 0.0</br>situation: 2.0</br>shotType: 0.0</br>lastAction: 0.0</br>distanceToGoal: 9.53310076709881</br>angleToGoal: 40.4664837945122</br>_original_yhat_: 0.07</br>"
          ],
          [
           "</br>id: 1833</br>prediction: 0.15</br>minute: 16</br></br>h_a: 0.0</br>situation: 2.0</br>shotType: 0.0</br>lastAction: 0.0</br>distanceToGoal: 9.53310076709881</br>angleToGoal: 40.4664837945122</br>_original_yhat_: 0.07</br>"
          ],
          [
           "</br>id: 1833</br>prediction: 0.18</br>minute: 17</br></br>h_a: 0.0</br>situation: 2.0</br>shotType: 0.0</br>lastAction: 0.0</br>distanceToGoal: 9.53310076709881</br>angleToGoal: 40.4664837945122</br>_original_yhat_: 0.07</br>"
          ],
          [
           "</br>id: 1833</br>prediction: 0.12</br>minute: 18</br></br>h_a: 0.0</br>situation: 2.0</br>shotType: 0.0</br>lastAction: 0.0</br>distanceToGoal: 9.53310076709881</br>angleToGoal: 40.4664837945122</br>_original_yhat_: 0.07</br>"
          ],
          [
           "</br>id: 1833</br>prediction: 0.12</br>minute: 19</br></br>h_a: 0.0</br>situation: 2.0</br>shotType: 0.0</br>lastAction: 0.0</br>distanceToGoal: 9.53310076709881</br>angleToGoal: 40.4664837945122</br>_original_yhat_: 0.07</br>"
          ],
          [
           "</br>id: 1833</br>prediction: 0.12</br>minute: 20</br></br>h_a: 0.0</br>situation: 2.0</br>shotType: 0.0</br>lastAction: 0.0</br>distanceToGoal: 9.53310076709881</br>angleToGoal: 40.4664837945122</br>_original_yhat_: 0.07</br>"
          ],
          [
           "</br>id: 1833</br>prediction: 0.13</br>minute: 21</br></br>h_a: 0.0</br>situation: 2.0</br>shotType: 0.0</br>lastAction: 0.0</br>distanceToGoal: 9.53310076709881</br>angleToGoal: 40.4664837945122</br>_original_yhat_: 0.07</br>"
          ],
          [
           "</br>id: 1833</br>prediction: 0.14</br>minute: 22</br></br>h_a: 0.0</br>situation: 2.0</br>shotType: 0.0</br>lastAction: 0.0</br>distanceToGoal: 9.53310076709881</br>angleToGoal: 40.4664837945122</br>_original_yhat_: 0.07</br>"
          ],
          [
           "</br>id: 1833</br>prediction: 0.15</br>minute: 23</br></br>h_a: 0.0</br>situation: 2.0</br>shotType: 0.0</br>lastAction: 0.0</br>distanceToGoal: 9.53310076709881</br>angleToGoal: 40.4664837945122</br>_original_yhat_: 0.07</br>"
          ],
          [
           "</br>id: 1833</br>prediction: 0.18</br>minute: 24</br></br>h_a: 0.0</br>situation: 2.0</br>shotType: 0.0</br>lastAction: 0.0</br>distanceToGoal: 9.53310076709881</br>angleToGoal: 40.4664837945122</br>_original_yhat_: 0.07</br>"
          ],
          [
           "</br>id: 1833</br>prediction: 0.2</br>minute: 25</br></br>h_a: 0.0</br>situation: 2.0</br>shotType: 0.0</br>lastAction: 0.0</br>distanceToGoal: 9.53310076709881</br>angleToGoal: 40.4664837945122</br>_original_yhat_: 0.07</br>"
          ],
          [
           "</br>id: 1833</br>prediction: 0.23</br>minute: 26</br></br>h_a: 0.0</br>situation: 2.0</br>shotType: 0.0</br>lastAction: 0.0</br>distanceToGoal: 9.53310076709881</br>angleToGoal: 40.4664837945122</br>_original_yhat_: 0.07</br>"
          ],
          [
           "</br>id: 1833</br>prediction: 0.23</br>minute: 27</br></br>h_a: 0.0</br>situation: 2.0</br>shotType: 0.0</br>lastAction: 0.0</br>distanceToGoal: 9.53310076709881</br>angleToGoal: 40.4664837945122</br>_original_yhat_: 0.07</br>"
          ],
          [
           "</br>id: 1833</br>prediction: 0.24</br>minute: 28</br></br>h_a: 0.0</br>situation: 2.0</br>shotType: 0.0</br>lastAction: 0.0</br>distanceToGoal: 9.53310076709881</br>angleToGoal: 40.4664837945122</br>_original_yhat_: 0.07</br>"
          ],
          [
           "</br>id: 1833</br>prediction: 0.24</br>minute: 29</br></br>h_a: 0.0</br>situation: 2.0</br>shotType: 0.0</br>lastAction: 0.0</br>distanceToGoal: 9.53310076709881</br>angleToGoal: 40.4664837945122</br>_original_yhat_: 0.07</br>"
          ],
          [
           "</br>id: 1833</br>prediction: 0.26</br>minute: 30</br></br>h_a: 0.0</br>situation: 2.0</br>shotType: 0.0</br>lastAction: 0.0</br>distanceToGoal: 9.53310076709881</br>angleToGoal: 40.4664837945122</br>_original_yhat_: 0.07</br>"
          ],
          [
           "</br>id: 1833</br>prediction: 0.31</br>minute: 31</br></br>h_a: 0.0</br>situation: 2.0</br>shotType: 0.0</br>lastAction: 0.0</br>distanceToGoal: 9.53310076709881</br>angleToGoal: 40.4664837945122</br>_original_yhat_: 0.07</br>"
          ],
          [
           "</br>id: 1833</br>prediction: 0.29</br>minute: 32</br></br>h_a: 0.0</br>situation: 2.0</br>shotType: 0.0</br>lastAction: 0.0</br>distanceToGoal: 9.53310076709881</br>angleToGoal: 40.4664837945122</br>_original_yhat_: 0.07</br>"
          ],
          [
           "</br>id: 1833</br>prediction: 0.27</br>minute: 33</br></br>h_a: 0.0</br>situation: 2.0</br>shotType: 0.0</br>lastAction: 0.0</br>distanceToGoal: 9.53310076709881</br>angleToGoal: 40.4664837945122</br>_original_yhat_: 0.07</br>"
          ],
          [
           "</br>id: 1833</br>prediction: 0.2</br>minute: 34</br></br>h_a: 0.0</br>situation: 2.0</br>shotType: 0.0</br>lastAction: 0.0</br>distanceToGoal: 9.53310076709881</br>angleToGoal: 40.4664837945122</br>_original_yhat_: 0.07</br>"
          ],
          [
           "</br>id: 1833</br>prediction: 0.18</br>minute: 35</br></br>h_a: 0.0</br>situation: 2.0</br>shotType: 0.0</br>lastAction: 0.0</br>distanceToGoal: 9.53310076709881</br>angleToGoal: 40.4664837945122</br>_original_yhat_: 0.07</br>"
          ],
          [
           "</br>id: 1833</br>prediction: 0.18</br>minute: 36</br></br>h_a: 0.0</br>situation: 2.0</br>shotType: 0.0</br>lastAction: 0.0</br>distanceToGoal: 9.53310076709881</br>angleToGoal: 40.4664837945122</br>_original_yhat_: 0.07</br>"
          ],
          [
           "</br>id: 1833</br>prediction: 0.17</br>minute: 37</br></br>h_a: 0.0</br>situation: 2.0</br>shotType: 0.0</br>lastAction: 0.0</br>distanceToGoal: 9.53310076709881</br>angleToGoal: 40.4664837945122</br>_original_yhat_: 0.07</br>"
          ],
          [
           "</br>id: 1833</br>prediction: 0.15</br>minute: 38</br></br>h_a: 0.0</br>situation: 2.0</br>shotType: 0.0</br>lastAction: 0.0</br>distanceToGoal: 9.53310076709881</br>angleToGoal: 40.4664837945122</br>_original_yhat_: 0.07</br>"
          ],
          [
           "</br>id: 1833</br>prediction: 0.14</br>minute: 39</br></br>h_a: 0.0</br>situation: 2.0</br>shotType: 0.0</br>lastAction: 0.0</br>distanceToGoal: 9.53310076709881</br>angleToGoal: 40.4664837945122</br>_original_yhat_: 0.07</br>"
          ],
          [
           "</br>id: 1833</br>prediction: 0.14</br>minute: 40</br></br>h_a: 0.0</br>situation: 2.0</br>shotType: 0.0</br>lastAction: 0.0</br>distanceToGoal: 9.53310076709881</br>angleToGoal: 40.4664837945122</br>_original_yhat_: 0.07</br>"
          ],
          [
           "</br>id: 1833</br>prediction: 0.14</br>minute: 41</br></br>h_a: 0.0</br>situation: 2.0</br>shotType: 0.0</br>lastAction: 0.0</br>distanceToGoal: 9.53310076709881</br>angleToGoal: 40.4664837945122</br>_original_yhat_: 0.07</br>"
          ],
          [
           "</br>id: 1833</br>prediction: 0.14</br>minute: 42</br></br>h_a: 0.0</br>situation: 2.0</br>shotType: 0.0</br>lastAction: 0.0</br>distanceToGoal: 9.53310076709881</br>angleToGoal: 40.4664837945122</br>_original_yhat_: 0.07</br>"
          ],
          [
           "</br>id: 1833</br>prediction: 0.15</br>minute: 43</br></br>h_a: 0.0</br>situation: 2.0</br>shotType: 0.0</br>lastAction: 0.0</br>distanceToGoal: 9.53310076709881</br>angleToGoal: 40.4664837945122</br>_original_yhat_: 0.07</br>"
          ],
          [
           "</br>id: 1833</br>prediction: 0.15</br>minute: 44</br></br>h_a: 0.0</br>situation: 2.0</br>shotType: 0.0</br>lastAction: 0.0</br>distanceToGoal: 9.53310076709881</br>angleToGoal: 40.4664837945122</br>_original_yhat_: 0.07</br>"
          ],
          [
           "</br>id: 1833</br>prediction: 0.15</br>minute: 45</br></br>h_a: 0.0</br>situation: 2.0</br>shotType: 0.0</br>lastAction: 0.0</br>distanceToGoal: 9.53310076709881</br>angleToGoal: 40.4664837945122</br>_original_yhat_: 0.07</br>"
          ],
          [
           "</br>id: 1833</br>prediction: 0.15</br>minute: 46</br></br>h_a: 0.0</br>situation: 2.0</br>shotType: 0.0</br>lastAction: 0.0</br>distanceToGoal: 9.53310076709881</br>angleToGoal: 40.4664837945122</br>_original_yhat_: 0.07</br>"
          ],
          [
           "</br>id: 1833</br>prediction: 0.19</br>minute: 47</br></br>h_a: 0.0</br>situation: 2.0</br>shotType: 0.0</br>lastAction: 0.0</br>distanceToGoal: 9.53310076709881</br>angleToGoal: 40.4664837945122</br>_original_yhat_: 0.07</br>"
          ],
          [
           "</br>id: 1833</br>prediction: 0.22</br>minute: 48</br></br>h_a: 0.0</br>situation: 2.0</br>shotType: 0.0</br>lastAction: 0.0</br>distanceToGoal: 9.53310076709881</br>angleToGoal: 40.4664837945122</br>_original_yhat_: 0.07</br>"
          ],
          [
           "</br>id: 1833</br>prediction: 0.21</br>minute: 49</br></br>h_a: 0.0</br>situation: 2.0</br>shotType: 0.0</br>lastAction: 0.0</br>distanceToGoal: 9.53310076709881</br>angleToGoal: 40.4664837945122</br>_original_yhat_: 0.07</br>"
          ],
          [
           "</br>id: 1833</br>prediction: 0.19</br>minute: 50</br></br>h_a: 0.0</br>situation: 2.0</br>shotType: 0.0</br>lastAction: 0.0</br>distanceToGoal: 9.53310076709881</br>angleToGoal: 40.4664837945122</br>_original_yhat_: 0.07</br>"
          ],
          [
           "</br>id: 1833</br>prediction: 0.17</br>minute: 51</br></br>h_a: 0.0</br>situation: 2.0</br>shotType: 0.0</br>lastAction: 0.0</br>distanceToGoal: 9.53310076709881</br>angleToGoal: 40.4664837945122</br>_original_yhat_: 0.07</br>"
          ],
          [
           "</br>id: 1833</br>prediction: 0.16</br>minute: 52</br></br>h_a: 0.0</br>situation: 2.0</br>shotType: 0.0</br>lastAction: 0.0</br>distanceToGoal: 9.53310076709881</br>angleToGoal: 40.4664837945122</br>_original_yhat_: 0.07</br>"
          ],
          [
           "</br>id: 1833</br>prediction: 0.16</br>minute: 53</br></br>h_a: 0.0</br>situation: 2.0</br>shotType: 0.0</br>lastAction: 0.0</br>distanceToGoal: 9.53310076709881</br>angleToGoal: 40.4664837945122</br>_original_yhat_: 0.07</br>"
          ],
          [
           "</br>id: 1833</br>prediction: 0.19</br>minute: 54</br></br>h_a: 0.0</br>situation: 2.0</br>shotType: 0.0</br>lastAction: 0.0</br>distanceToGoal: 9.53310076709881</br>angleToGoal: 40.4664837945122</br>_original_yhat_: 0.07</br>"
          ],
          [
           "</br>id: 1833</br>prediction: 0.16</br>minute: 55</br></br>h_a: 0.0</br>situation: 2.0</br>shotType: 0.0</br>lastAction: 0.0</br>distanceToGoal: 9.53310076709881</br>angleToGoal: 40.4664837945122</br>_original_yhat_: 0.07</br>"
          ],
          [
           "</br>id: 1833</br>prediction: 0.16</br>minute: 56</br></br>h_a: 0.0</br>situation: 2.0</br>shotType: 0.0</br>lastAction: 0.0</br>distanceToGoal: 9.53310076709881</br>angleToGoal: 40.4664837945122</br>_original_yhat_: 0.07</br>"
          ],
          [
           "</br>id: 1833</br>prediction: 0.14</br>minute: 57</br></br>h_a: 0.0</br>situation: 2.0</br>shotType: 0.0</br>lastAction: 0.0</br>distanceToGoal: 9.53310076709881</br>angleToGoal: 40.4664837945122</br>_original_yhat_: 0.07</br>"
          ],
          [
           "</br>id: 1833</br>prediction: 0.14</br>minute: 58</br></br>h_a: 0.0</br>situation: 2.0</br>shotType: 0.0</br>lastAction: 0.0</br>distanceToGoal: 9.53310076709881</br>angleToGoal: 40.4664837945122</br>_original_yhat_: 0.07</br>"
          ],
          [
           "</br>id: 1833</br>prediction: 0.14</br>minute: 59</br></br>h_a: 0.0</br>situation: 2.0</br>shotType: 0.0</br>lastAction: 0.0</br>distanceToGoal: 9.53310076709881</br>angleToGoal: 40.4664837945122</br>_original_yhat_: 0.07</br>"
          ],
          [
           "</br>id: 1833</br>prediction: 0.12</br>minute: 60</br></br>h_a: 0.0</br>situation: 2.0</br>shotType: 0.0</br>lastAction: 0.0</br>distanceToGoal: 9.53310076709881</br>angleToGoal: 40.4664837945122</br>_original_yhat_: 0.07</br>"
          ],
          [
           "</br>id: 1833</br>prediction: 0.12</br>minute: 61</br></br>h_a: 0.0</br>situation: 2.0</br>shotType: 0.0</br>lastAction: 0.0</br>distanceToGoal: 9.53310076709881</br>angleToGoal: 40.4664837945122</br>_original_yhat_: 0.07</br>"
          ],
          [
           "</br>id: 1833</br>prediction: 0.12</br>minute: 62</br></br>h_a: 0.0</br>situation: 2.0</br>shotType: 0.0</br>lastAction: 0.0</br>distanceToGoal: 9.53310076709881</br>angleToGoal: 40.4664837945122</br>_original_yhat_: 0.07</br>"
          ],
          [
           "</br>id: 1833</br>prediction: 0.13</br>minute: 63</br></br>h_a: 0.0</br>situation: 2.0</br>shotType: 0.0</br>lastAction: 0.0</br>distanceToGoal: 9.53310076709881</br>angleToGoal: 40.4664837945122</br>_original_yhat_: 0.07</br>"
          ],
          [
           "</br>id: 1833</br>prediction: 0.13</br>minute: 64</br></br>h_a: 0.0</br>situation: 2.0</br>shotType: 0.0</br>lastAction: 0.0</br>distanceToGoal: 9.53310076709881</br>angleToGoal: 40.4664837945122</br>_original_yhat_: 0.07</br>"
          ],
          [
           "</br>id: 1833</br>prediction: 0.13</br>minute: 65</br></br>h_a: 0.0</br>situation: 2.0</br>shotType: 0.0</br>lastAction: 0.0</br>distanceToGoal: 9.53310076709881</br>angleToGoal: 40.4664837945122</br>_original_yhat_: 0.07</br>"
          ],
          [
           "</br>id: 1833</br>prediction: 0.14</br>minute: 66</br></br>h_a: 0.0</br>situation: 2.0</br>shotType: 0.0</br>lastAction: 0.0</br>distanceToGoal: 9.53310076709881</br>angleToGoal: 40.4664837945122</br>_original_yhat_: 0.07</br>"
          ],
          [
           "</br>id: 1833</br>prediction: 0.14</br>minute: 67</br></br>h_a: 0.0</br>situation: 2.0</br>shotType: 0.0</br>lastAction: 0.0</br>distanceToGoal: 9.53310076709881</br>angleToGoal: 40.4664837945122</br>_original_yhat_: 0.07</br>"
          ],
          [
           "</br>id: 1833</br>prediction: 0.16</br>minute: 68</br></br>h_a: 0.0</br>situation: 2.0</br>shotType: 0.0</br>lastAction: 0.0</br>distanceToGoal: 9.53310076709881</br>angleToGoal: 40.4664837945122</br>_original_yhat_: 0.07</br>"
          ],
          [
           "</br>id: 1833</br>prediction: 0.18</br>minute: 69</br></br>h_a: 0.0</br>situation: 2.0</br>shotType: 0.0</br>lastAction: 0.0</br>distanceToGoal: 9.53310076709881</br>angleToGoal: 40.4664837945122</br>_original_yhat_: 0.07</br>"
          ],
          [
           "</br>id: 1833</br>prediction: 0.17</br>minute: 70</br></br>h_a: 0.0</br>situation: 2.0</br>shotType: 0.0</br>lastAction: 0.0</br>distanceToGoal: 9.53310076709881</br>angleToGoal: 40.4664837945122</br>_original_yhat_: 0.07</br>"
          ],
          [
           "</br>id: 1833</br>prediction: 0.17</br>minute: 71</br></br>h_a: 0.0</br>situation: 2.0</br>shotType: 0.0</br>lastAction: 0.0</br>distanceToGoal: 9.53310076709881</br>angleToGoal: 40.4664837945122</br>_original_yhat_: 0.07</br>"
          ],
          [
           "</br>id: 1833</br>prediction: 0.18</br>minute: 72</br></br>h_a: 0.0</br>situation: 2.0</br>shotType: 0.0</br>lastAction: 0.0</br>distanceToGoal: 9.53310076709881</br>angleToGoal: 40.4664837945122</br>_original_yhat_: 0.07</br>"
          ],
          [
           "</br>id: 1833</br>prediction: 0.19</br>minute: 73</br></br>h_a: 0.0</br>situation: 2.0</br>shotType: 0.0</br>lastAction: 0.0</br>distanceToGoal: 9.53310076709881</br>angleToGoal: 40.4664837945122</br>_original_yhat_: 0.07</br>"
          ],
          [
           "</br>id: 1833</br>prediction: 0.19</br>minute: 74</br></br>h_a: 0.0</br>situation: 2.0</br>shotType: 0.0</br>lastAction: 0.0</br>distanceToGoal: 9.53310076709881</br>angleToGoal: 40.4664837945122</br>_original_yhat_: 0.07</br>"
          ],
          [
           "</br>id: 1833</br>prediction: 0.18</br>minute: 75</br></br>h_a: 0.0</br>situation: 2.0</br>shotType: 0.0</br>lastAction: 0.0</br>distanceToGoal: 9.53310076709881</br>angleToGoal: 40.4664837945122</br>_original_yhat_: 0.07</br>"
          ],
          [
           "</br>id: 1833</br>prediction: 0.17</br>minute: 76</br></br>h_a: 0.0</br>situation: 2.0</br>shotType: 0.0</br>lastAction: 0.0</br>distanceToGoal: 9.53310076709881</br>angleToGoal: 40.4664837945122</br>_original_yhat_: 0.07</br>"
          ],
          [
           "</br>id: 1833</br>prediction: 0.2</br>minute: 77</br></br>h_a: 0.0</br>situation: 2.0</br>shotType: 0.0</br>lastAction: 0.0</br>distanceToGoal: 9.53310076709881</br>angleToGoal: 40.4664837945122</br>_original_yhat_: 0.07</br>"
          ],
          [
           "</br>id: 1833</br>prediction: 0.21</br>minute: 78</br></br>h_a: 0.0</br>situation: 2.0</br>shotType: 0.0</br>lastAction: 0.0</br>distanceToGoal: 9.53310076709881</br>angleToGoal: 40.4664837945122</br>_original_yhat_: 0.07</br>"
          ],
          [
           "</br>id: 1833</br>prediction: 0.24</br>minute: 79</br></br>h_a: 0.0</br>situation: 2.0</br>shotType: 0.0</br>lastAction: 0.0</br>distanceToGoal: 9.53310076709881</br>angleToGoal: 40.4664837945122</br>_original_yhat_: 0.07</br>"
          ],
          [
           "</br>id: 1833</br>prediction: 0.2</br>minute: 80</br></br>h_a: 0.0</br>situation: 2.0</br>shotType: 0.0</br>lastAction: 0.0</br>distanceToGoal: 9.53310076709881</br>angleToGoal: 40.4664837945122</br>_original_yhat_: 0.07</br>"
          ],
          [
           "</br>id: 1833</br>prediction: 0.18</br>minute: 81</br></br>h_a: 0.0</br>situation: 2.0</br>shotType: 0.0</br>lastAction: 0.0</br>distanceToGoal: 9.53310076709881</br>angleToGoal: 40.4664837945122</br>_original_yhat_: 0.07</br>"
          ],
          [
           "</br>id: 1833</br>prediction: 0.17</br>minute: 82</br></br>h_a: 0.0</br>situation: 2.0</br>shotType: 0.0</br>lastAction: 0.0</br>distanceToGoal: 9.53310076709881</br>angleToGoal: 40.4664837945122</br>_original_yhat_: 0.07</br>"
          ],
          [
           "</br>id: 1833</br>prediction: 0.18</br>minute: 83</br></br>h_a: 0.0</br>situation: 2.0</br>shotType: 0.0</br>lastAction: 0.0</br>distanceToGoal: 9.53310076709881</br>angleToGoal: 40.4664837945122</br>_original_yhat_: 0.07</br>"
          ],
          [
           "</br>id: 1833</br>prediction: 0.17</br>minute: 84</br></br>h_a: 0.0</br>situation: 2.0</br>shotType: 0.0</br>lastAction: 0.0</br>distanceToGoal: 9.53310076709881</br>angleToGoal: 40.4664837945122</br>_original_yhat_: 0.07</br>"
          ],
          [
           "</br>id: 1833</br>prediction: 0.2</br>minute: 85</br></br>h_a: 0.0</br>situation: 2.0</br>shotType: 0.0</br>lastAction: 0.0</br>distanceToGoal: 9.53310076709881</br>angleToGoal: 40.4664837945122</br>_original_yhat_: 0.07</br>"
          ],
          [
           "</br>id: 1833</br>prediction: 0.21</br>minute: 86</br></br>h_a: 0.0</br>situation: 2.0</br>shotType: 0.0</br>lastAction: 0.0</br>distanceToGoal: 9.53310076709881</br>angleToGoal: 40.4664837945122</br>_original_yhat_: 0.07</br>"
          ],
          [
           "</br>id: 1833</br>prediction: 0.37</br>minute: 87</br></br>h_a: 0.0</br>situation: 2.0</br>shotType: 0.0</br>lastAction: 0.0</br>distanceToGoal: 9.53310076709881</br>angleToGoal: 40.4664837945122</br>_original_yhat_: 0.07</br>"
          ],
          [
           "</br>id: 1833</br>prediction: 0.37</br>minute: 88</br></br>h_a: 0.0</br>situation: 2.0</br>shotType: 0.0</br>lastAction: 0.0</br>distanceToGoal: 9.53310076709881</br>angleToGoal: 40.4664837945122</br>_original_yhat_: 0.07</br>"
          ],
          [
           "</br>id: 1833</br>prediction: 0.36</br>minute: 89</br></br>h_a: 0.0</br>situation: 2.0</br>shotType: 0.0</br>lastAction: 0.0</br>distanceToGoal: 9.53310076709881</br>angleToGoal: 40.4664837945122</br>_original_yhat_: 0.07</br>"
          ],
          [
           "</br>id: 1833</br>prediction: 0.46</br>minute: 90</br></br>h_a: 0.0</br>situation: 2.0</br>shotType: 0.0</br>lastAction: 0.0</br>distanceToGoal: 9.53310076709881</br>angleToGoal: 40.4664837945122</br>_original_yhat_: 0.07</br>"
          ],
          [
           "</br>id: 1833</br>prediction: 0.41</br>minute: 91</br></br>h_a: 0.0</br>situation: 2.0</br>shotType: 0.0</br>lastAction: 0.0</br>distanceToGoal: 9.53310076709881</br>angleToGoal: 40.4664837945122</br>_original_yhat_: 0.07</br>"
          ],
          [
           "</br>id: 1833</br>prediction: 0.37</br>minute: 92</br></br>h_a: 0.0</br>situation: 2.0</br>shotType: 0.0</br>lastAction: 0.0</br>distanceToGoal: 9.53310076709881</br>angleToGoal: 40.4664837945122</br>_original_yhat_: 0.07</br>"
          ],
          [
           "</br>id: 1833</br>prediction: 0.36</br>minute: 93</br></br>h_a: 0.0</br>situation: 2.0</br>shotType: 0.0</br>lastAction: 0.0</br>distanceToGoal: 9.53310076709881</br>angleToGoal: 40.4664837945122</br>_original_yhat_: 0.07</br>"
          ],
          [
           "</br>id: 1833</br>prediction: 0.39</br>minute: 94</br></br>h_a: 0.0</br>situation: 2.0</br>shotType: 0.0</br>lastAction: 0.0</br>distanceToGoal: 9.53310076709881</br>angleToGoal: 40.4664837945122</br>_original_yhat_: 0.07</br>"
          ],
          [
           "</br>id: 1833</br>prediction: 0.38</br>minute: 95</br></br>h_a: 0.0</br>situation: 2.0</br>shotType: 0.0</br>lastAction: 0.0</br>distanceToGoal: 9.53310076709881</br>angleToGoal: 40.4664837945122</br>_original_yhat_: 0.07</br>"
          ],
          [
           "</br>id: 1833</br>prediction: 0.37</br>minute: 96</br></br>h_a: 0.0</br>situation: 2.0</br>shotType: 0.0</br>lastAction: 0.0</br>distanceToGoal: 9.53310076709881</br>angleToGoal: 40.4664837945122</br>_original_yhat_: 0.07</br>"
          ],
          [
           "</br>id: 1833</br>prediction: 0.37</br>minute: 97</br></br>h_a: 0.0</br>situation: 2.0</br>shotType: 0.0</br>lastAction: 0.0</br>distanceToGoal: 9.53310076709881</br>angleToGoal: 40.4664837945122</br>_original_yhat_: 0.07</br>"
          ],
          [
           "</br>id: 1833</br>prediction: 0.38</br>minute: 98</br></br>h_a: 0.0</br>situation: 2.0</br>shotType: 0.0</br>lastAction: 0.0</br>distanceToGoal: 9.53310076709881</br>angleToGoal: 40.4664837945122</br>_original_yhat_: 0.07</br>"
          ],
          [
           "</br>id: 1833</br>prediction: 0.38</br>minute: 99</br></br>h_a: 0.0</br>situation: 2.0</br>shotType: 0.0</br>lastAction: 0.0</br>distanceToGoal: 9.53310076709881</br>angleToGoal: 40.4664837945122</br>_original_yhat_: 0.07</br>"
          ],
          [
           "</br>id: 1833</br>prediction: 0.38</br>minute: 100</br></br>h_a: 0.0</br>situation: 2.0</br>shotType: 0.0</br>lastAction: 0.0</br>distanceToGoal: 9.53310076709881</br>angleToGoal: 40.4664837945122</br>_original_yhat_: 0.07</br>"
          ]
         ],
         "hovertemplate": "%{customdata[0]}<extra></extra>",
         "legendgroup": "Random Forest",
         "line": {
          "color": "#f05a71",
          "dash": "solid",
          "width": 2
         },
         "marker": {
          "symbol": "circle"
         },
         "mode": "lines",
         "name": "Random Forest",
         "opacity": 1,
         "showlegend": false,
         "type": "scattergl",
         "x": [
          0,
          1,
          2,
          3,
          4,
          5,
          6,
          7,
          8,
          9,
          10,
          11,
          12,
          13,
          14,
          15,
          16,
          17,
          18,
          19,
          20,
          21,
          22,
          23,
          24,
          25,
          26,
          27,
          28,
          29,
          30,
          31,
          32,
          33,
          34,
          35,
          36,
          37,
          38,
          39,
          40,
          41,
          42,
          43,
          44,
          45,
          46,
          47,
          48,
          49,
          50,
          51,
          52,
          53,
          54,
          55,
          56,
          57,
          58,
          59,
          60,
          61,
          62,
          63,
          64,
          65,
          66,
          67,
          68,
          69,
          70,
          71,
          72,
          73,
          74,
          75,
          76,
          77,
          78,
          79,
          80,
          81,
          82,
          83,
          84,
          85,
          86,
          87,
          88,
          89,
          90,
          91,
          92,
          93,
          94,
          95,
          96,
          97,
          98,
          99,
          100
         ],
         "xaxis": "x3",
         "y": [
          0.08,
          0.08,
          0.09,
          0.07,
          0.07,
          0.08,
          0.08,
          0.11,
          0.12,
          0.1,
          0.1,
          0.1,
          0.14,
          0.14,
          0.13,
          0.15,
          0.15,
          0.18,
          0.12,
          0.12,
          0.12,
          0.13,
          0.14,
          0.15,
          0.18,
          0.2,
          0.23,
          0.23,
          0.24,
          0.24,
          0.26,
          0.31,
          0.29,
          0.27,
          0.2,
          0.18,
          0.18,
          0.17,
          0.15,
          0.14,
          0.14,
          0.14,
          0.14,
          0.15,
          0.15,
          0.15,
          0.15,
          0.19,
          0.22,
          0.21,
          0.19,
          0.17,
          0.16,
          0.16,
          0.19,
          0.16,
          0.16,
          0.14,
          0.14,
          0.14,
          0.12,
          0.12,
          0.12,
          0.13,
          0.13,
          0.13,
          0.14,
          0.14,
          0.16,
          0.18,
          0.17,
          0.17,
          0.18,
          0.19,
          0.19,
          0.18,
          0.17,
          0.2,
          0.21,
          0.24,
          0.2,
          0.18,
          0.17,
          0.18,
          0.17,
          0.2,
          0.21,
          0.37,
          0.37,
          0.36,
          0.46,
          0.41,
          0.37,
          0.36,
          0.39,
          0.38,
          0.37,
          0.37,
          0.38,
          0.38,
          0.38
         ],
         "yaxis": "y3"
        },
        {
         "customdata": [
          [
           "</br>id: 1833</br>prediction: 0.67</br>distanceToGoal: 1.7480560671752996</br></br>h_a: 0.0</br>situation: 2.0</br>shotType: 0.0</br>lastAction: 0.0</br>minute: 3</br>angleToGoal: 40.4664837945122</br>_original_yhat_: 0.07</br>"
          ],
          [
           "</br>id: 1833</br>prediction: 0.67</br>distanceToGoal: 2.386852372856324</br></br>h_a: 0.0</br>situation: 2.0</br>shotType: 0.0</br>lastAction: 0.0</br>minute: 3</br>angleToGoal: 40.4664837945122</br>_original_yhat_: 0.07</br>"
          ],
          [
           "</br>id: 1833</br>prediction: 0.55</br>distanceToGoal: 3.0256486785373475</br></br>h_a: 0.0</br>situation: 2.0</br>shotType: 0.0</br>lastAction: 0.0</br>minute: 3</br>angleToGoal: 40.4664837945122</br>_original_yhat_: 0.07</br>"
          ],
          [
           "</br>id: 1833</br>prediction: 0.43</br>distanceToGoal: 3.6644449842183713</br></br>h_a: 0.0</br>situation: 2.0</br>shotType: 0.0</br>lastAction: 0.0</br>minute: 3</br>angleToGoal: 40.4664837945122</br>_original_yhat_: 0.07</br>"
          ],
          [
           "</br>id: 1833</br>prediction: 0.43</br>distanceToGoal: 4.303241289899395</br></br>h_a: 0.0</br>situation: 2.0</br>shotType: 0.0</br>lastAction: 0.0</br>minute: 3</br>angleToGoal: 40.4664837945122</br>_original_yhat_: 0.07</br>"
          ],
          [
           "</br>id: 1833</br>prediction: 0.4</br>distanceToGoal: 4.94203759558042</br></br>h_a: 0.0</br>situation: 2.0</br>shotType: 0.0</br>lastAction: 0.0</br>minute: 3</br>angleToGoal: 40.4664837945122</br>_original_yhat_: 0.07</br>"
          ],
          [
           "</br>id: 1833</br>prediction: 0.43</br>distanceToGoal: 5.580833901261443</br></br>h_a: 0.0</br>situation: 2.0</br>shotType: 0.0</br>lastAction: 0.0</br>minute: 3</br>angleToGoal: 40.4664837945122</br>_original_yhat_: 0.07</br>"
          ],
          [
           "</br>id: 1833</br>prediction: 0.44</br>distanceToGoal: 6.219630206942467</br></br>h_a: 0.0</br>situation: 2.0</br>shotType: 0.0</br>lastAction: 0.0</br>minute: 3</br>angleToGoal: 40.4664837945122</br>_original_yhat_: 0.07</br>"
          ],
          [
           "</br>id: 1833</br>prediction: 0.19</br>distanceToGoal: 6.858426512623492</br></br>h_a: 0.0</br>situation: 2.0</br>shotType: 0.0</br>lastAction: 0.0</br>minute: 3</br>angleToGoal: 40.4664837945122</br>_original_yhat_: 0.07</br>"
          ],
          [
           "</br>id: 1833</br>prediction: 0.18</br>distanceToGoal: 7.497222818304515</br></br>h_a: 0.0</br>situation: 2.0</br>shotType: 0.0</br>lastAction: 0.0</br>minute: 3</br>angleToGoal: 40.4664837945122</br>_original_yhat_: 0.07</br>"
          ],
          [
           "</br>id: 1833</br>prediction: 0.18</br>distanceToGoal: 8.13601912398554</br></br>h_a: 0.0</br>situation: 2.0</br>shotType: 0.0</br>lastAction: 0.0</br>minute: 3</br>angleToGoal: 40.4664837945122</br>_original_yhat_: 0.07</br>"
          ],
          [
           "</br>id: 1833</br>prediction: 0.18</br>distanceToGoal: 8.774815429666564</br></br>h_a: 0.0</br>situation: 2.0</br>shotType: 0.0</br>lastAction: 0.0</br>minute: 3</br>angleToGoal: 40.4664837945122</br>_original_yhat_: 0.07</br>"
          ],
          [
           "</br>id: 1833</br>prediction: 0.18</br>distanceToGoal: 9.413611735347587</br></br>h_a: 0.0</br>situation: 2.0</br>shotType: 0.0</br>lastAction: 0.0</br>minute: 3</br>angleToGoal: 40.4664837945122</br>_original_yhat_: 0.07</br>"
          ],
          [
           "</br>id: 1833</br>prediction: 0.07</br>distanceToGoal: 9.53310076709881</br></br>h_a: 0.0</br>situation: 2.0</br>shotType: 0.0</br>lastAction: 0.0</br>minute: 3</br>angleToGoal: 40.4664837945122</br>_original_yhat_: 0.07</br>"
          ],
          [
           "</br>id: 1833</br>prediction: 0.1</br>distanceToGoal: 10.052408041028611</br></br>h_a: 0.0</br>situation: 2.0</br>shotType: 0.0</br>lastAction: 0.0</br>minute: 3</br>angleToGoal: 40.4664837945122</br>_original_yhat_: 0.07</br>"
          ],
          [
           "</br>id: 1833</br>prediction: 0.19</br>distanceToGoal: 10.691204346709636</br></br>h_a: 0.0</br>situation: 2.0</br>shotType: 0.0</br>lastAction: 0.0</br>minute: 3</br>angleToGoal: 40.4664837945122</br>_original_yhat_: 0.07</br>"
          ],
          [
           "</br>id: 1833</br>prediction: 0.18</br>distanceToGoal: 11.330000652390659</br></br>h_a: 0.0</br>situation: 2.0</br>shotType: 0.0</br>lastAction: 0.0</br>minute: 3</br>angleToGoal: 40.4664837945122</br>_original_yhat_: 0.07</br>"
          ],
          [
           "</br>id: 1833</br>prediction: 0.17</br>distanceToGoal: 11.968796958071684</br></br>h_a: 0.0</br>situation: 2.0</br>shotType: 0.0</br>lastAction: 0.0</br>minute: 3</br>angleToGoal: 40.4664837945122</br>_original_yhat_: 0.07</br>"
          ],
          [
           "</br>id: 1833</br>prediction: 0.24</br>distanceToGoal: 12.607593263752708</br></br>h_a: 0.0</br>situation: 2.0</br>shotType: 0.0</br>lastAction: 0.0</br>minute: 3</br>angleToGoal: 40.4664837945122</br>_original_yhat_: 0.07</br>"
          ],
          [
           "</br>id: 1833</br>prediction: 0.24</br>distanceToGoal: 13.246389569433731</br></br>h_a: 0.0</br>situation: 2.0</br>shotType: 0.0</br>lastAction: 0.0</br>minute: 3</br>angleToGoal: 40.4664837945122</br>_original_yhat_: 0.07</br>"
          ],
          [
           "</br>id: 1833</br>prediction: 0.24</br>distanceToGoal: 13.885185875114756</br></br>h_a: 0.0</br>situation: 2.0</br>shotType: 0.0</br>lastAction: 0.0</br>minute: 3</br>angleToGoal: 40.4664837945122</br>_original_yhat_: 0.07</br>"
          ],
          [
           "</br>id: 1833</br>prediction: 0.24</br>distanceToGoal: 14.523982180795779</br></br>h_a: 0.0</br>situation: 2.0</br>shotType: 0.0</br>lastAction: 0.0</br>minute: 3</br>angleToGoal: 40.4664837945122</br>_original_yhat_: 0.07</br>"
          ],
          [
           "</br>id: 1833</br>prediction: 0.24</br>distanceToGoal: 15.162778486476803</br></br>h_a: 0.0</br>situation: 2.0</br>shotType: 0.0</br>lastAction: 0.0</br>minute: 3</br>angleToGoal: 40.4664837945122</br>_original_yhat_: 0.07</br>"
          ],
          [
           "</br>id: 1833</br>prediction: 0.24</br>distanceToGoal: 15.801574792157828</br></br>h_a: 0.0</br>situation: 2.0</br>shotType: 0.0</br>lastAction: 0.0</br>minute: 3</br>angleToGoal: 40.4664837945122</br>_original_yhat_: 0.07</br>"
          ],
          [
           "</br>id: 1833</br>prediction: 0.24</br>distanceToGoal: 16.44037109783885</br></br>h_a: 0.0</br>situation: 2.0</br>shotType: 0.0</br>lastAction: 0.0</br>minute: 3</br>angleToGoal: 40.4664837945122</br>_original_yhat_: 0.07</br>"
          ],
          [
           "</br>id: 1833</br>prediction: 0.25</br>distanceToGoal: 17.079167403519875</br></br>h_a: 0.0</br>situation: 2.0</br>shotType: 0.0</br>lastAction: 0.0</br>minute: 3</br>angleToGoal: 40.4664837945122</br>_original_yhat_: 0.07</br>"
          ],
          [
           "</br>id: 1833</br>prediction: 0.27</br>distanceToGoal: 17.717963709200898</br></br>h_a: 0.0</br>situation: 2.0</br>shotType: 0.0</br>lastAction: 0.0</br>minute: 3</br>angleToGoal: 40.4664837945122</br>_original_yhat_: 0.07</br>"
          ],
          [
           "</br>id: 1833</br>prediction: 0.26</br>distanceToGoal: 18.35676001488192</br></br>h_a: 0.0</br>situation: 2.0</br>shotType: 0.0</br>lastAction: 0.0</br>minute: 3</br>angleToGoal: 40.4664837945122</br>_original_yhat_: 0.07</br>"
          ],
          [
           "</br>id: 1833</br>prediction: 0.26</br>distanceToGoal: 18.995556320562944</br></br>h_a: 0.0</br>situation: 2.0</br>shotType: 0.0</br>lastAction: 0.0</br>minute: 3</br>angleToGoal: 40.4664837945122</br>_original_yhat_: 0.07</br>"
          ],
          [
           "</br>id: 1833</br>prediction: 0.24</br>distanceToGoal: 19.63435262624397</br></br>h_a: 0.0</br>situation: 2.0</br>shotType: 0.0</br>lastAction: 0.0</br>minute: 3</br>angleToGoal: 40.4664837945122</br>_original_yhat_: 0.07</br>"
          ],
          [
           "</br>id: 1833</br>prediction: 0.23</br>distanceToGoal: 20.273148931924993</br></br>h_a: 0.0</br>situation: 2.0</br>shotType: 0.0</br>lastAction: 0.0</br>minute: 3</br>angleToGoal: 40.4664837945122</br>_original_yhat_: 0.07</br>"
          ],
          [
           "</br>id: 1833</br>prediction: 0.24</br>distanceToGoal: 20.911945237606016</br></br>h_a: 0.0</br>situation: 2.0</br>shotType: 0.0</br>lastAction: 0.0</br>minute: 3</br>angleToGoal: 40.4664837945122</br>_original_yhat_: 0.07</br>"
          ],
          [
           "</br>id: 1833</br>prediction: 0.24</br>distanceToGoal: 21.550741543287042</br></br>h_a: 0.0</br>situation: 2.0</br>shotType: 0.0</br>lastAction: 0.0</br>minute: 3</br>angleToGoal: 40.4664837945122</br>_original_yhat_: 0.07</br>"
          ],
          [
           "</br>id: 1833</br>prediction: 0.24</br>distanceToGoal: 22.189537848968065</br></br>h_a: 0.0</br>situation: 2.0</br>shotType: 0.0</br>lastAction: 0.0</br>minute: 3</br>angleToGoal: 40.4664837945122</br>_original_yhat_: 0.07</br>"
          ],
          [
           "</br>id: 1833</br>prediction: 0.23</br>distanceToGoal: 22.828334154649088</br></br>h_a: 0.0</br>situation: 2.0</br>shotType: 0.0</br>lastAction: 0.0</br>minute: 3</br>angleToGoal: 40.4664837945122</br>_original_yhat_: 0.07</br>"
          ],
          [
           "</br>id: 1833</br>prediction: 0.24</br>distanceToGoal: 23.467130460330115</br></br>h_a: 0.0</br>situation: 2.0</br>shotType: 0.0</br>lastAction: 0.0</br>minute: 3</br>angleToGoal: 40.4664837945122</br>_original_yhat_: 0.07</br>"
          ],
          [
           "</br>id: 1833</br>prediction: 0.24</br>distanceToGoal: 24.105926766011137</br></br>h_a: 0.0</br>situation: 2.0</br>shotType: 0.0</br>lastAction: 0.0</br>minute: 3</br>angleToGoal: 40.4664837945122</br>_original_yhat_: 0.07</br>"
          ],
          [
           "</br>id: 1833</br>prediction: 0.26</br>distanceToGoal: 24.74472307169216</br></br>h_a: 0.0</br>situation: 2.0</br>shotType: 0.0</br>lastAction: 0.0</br>minute: 3</br>angleToGoal: 40.4664837945122</br>_original_yhat_: 0.07</br>"
          ],
          [
           "</br>id: 1833</br>prediction: 0.26</br>distanceToGoal: 25.383519377373187</br></br>h_a: 0.0</br>situation: 2.0</br>shotType: 0.0</br>lastAction: 0.0</br>minute: 3</br>angleToGoal: 40.4664837945122</br>_original_yhat_: 0.07</br>"
          ],
          [
           "</br>id: 1833</br>prediction: 0.26</br>distanceToGoal: 26.02231568305421</br></br>h_a: 0.0</br>situation: 2.0</br>shotType: 0.0</br>lastAction: 0.0</br>minute: 3</br>angleToGoal: 40.4664837945122</br>_original_yhat_: 0.07</br>"
          ],
          [
           "</br>id: 1833</br>prediction: 0.25</br>distanceToGoal: 26.661111988735232</br></br>h_a: 0.0</br>situation: 2.0</br>shotType: 0.0</br>lastAction: 0.0</br>minute: 3</br>angleToGoal: 40.4664837945122</br>_original_yhat_: 0.07</br>"
          ],
          [
           "</br>id: 1833</br>prediction: 0.25</br>distanceToGoal: 27.299908294416255</br></br>h_a: 0.0</br>situation: 2.0</br>shotType: 0.0</br>lastAction: 0.0</br>minute: 3</br>angleToGoal: 40.4664837945122</br>_original_yhat_: 0.07</br>"
          ],
          [
           "</br>id: 1833</br>prediction: 0.25</br>distanceToGoal: 27.93870460009728</br></br>h_a: 0.0</br>situation: 2.0</br>shotType: 0.0</br>lastAction: 0.0</br>minute: 3</br>angleToGoal: 40.4664837945122</br>_original_yhat_: 0.07</br>"
          ],
          [
           "</br>id: 1833</br>prediction: 0.25</br>distanceToGoal: 28.577500905778304</br></br>h_a: 0.0</br>situation: 2.0</br>shotType: 0.0</br>lastAction: 0.0</br>minute: 3</br>angleToGoal: 40.4664837945122</br>_original_yhat_: 0.07</br>"
          ],
          [
           "</br>id: 1833</br>prediction: 0.25</br>distanceToGoal: 29.216297211459327</br></br>h_a: 0.0</br>situation: 2.0</br>shotType: 0.0</br>lastAction: 0.0</br>minute: 3</br>angleToGoal: 40.4664837945122</br>_original_yhat_: 0.07</br>"
          ],
          [
           "</br>id: 1833</br>prediction: 0.25</br>distanceToGoal: 29.855093517140354</br></br>h_a: 0.0</br>situation: 2.0</br>shotType: 0.0</br>lastAction: 0.0</br>minute: 3</br>angleToGoal: 40.4664837945122</br>_original_yhat_: 0.07</br>"
          ],
          [
           "</br>id: 1833</br>prediction: 0.25</br>distanceToGoal: 30.493889822821377</br></br>h_a: 0.0</br>situation: 2.0</br>shotType: 0.0</br>lastAction: 0.0</br>minute: 3</br>angleToGoal: 40.4664837945122</br>_original_yhat_: 0.07</br>"
          ],
          [
           "</br>id: 1833</br>prediction: 0.25</br>distanceToGoal: 31.1326861285024</br></br>h_a: 0.0</br>situation: 2.0</br>shotType: 0.0</br>lastAction: 0.0</br>minute: 3</br>angleToGoal: 40.4664837945122</br>_original_yhat_: 0.07</br>"
          ],
          [
           "</br>id: 1833</br>prediction: 0.25</br>distanceToGoal: 31.771482434183426</br></br>h_a: 0.0</br>situation: 2.0</br>shotType: 0.0</br>lastAction: 0.0</br>minute: 3</br>angleToGoal: 40.4664837945122</br>_original_yhat_: 0.07</br>"
          ],
          [
           "</br>id: 1833</br>prediction: 0.25</br>distanceToGoal: 32.41027873986445</br></br>h_a: 0.0</br>situation: 2.0</br>shotType: 0.0</br>lastAction: 0.0</br>minute: 3</br>angleToGoal: 40.4664837945122</br>_original_yhat_: 0.07</br>"
          ],
          [
           "</br>id: 1833</br>prediction: 0.25</br>distanceToGoal: 33.04907504554547</br></br>h_a: 0.0</br>situation: 2.0</br>shotType: 0.0</br>lastAction: 0.0</br>minute: 3</br>angleToGoal: 40.4664837945122</br>_original_yhat_: 0.07</br>"
          ],
          [
           "</br>id: 1833</br>prediction: 0.25</br>distanceToGoal: 33.6878713512265</br></br>h_a: 0.0</br>situation: 2.0</br>shotType: 0.0</br>lastAction: 0.0</br>minute: 3</br>angleToGoal: 40.4664837945122</br>_original_yhat_: 0.07</br>"
          ],
          [
           "</br>id: 1833</br>prediction: 0.25</br>distanceToGoal: 34.32666765690752</br></br>h_a: 0.0</br>situation: 2.0</br>shotType: 0.0</br>lastAction: 0.0</br>minute: 3</br>angleToGoal: 40.4664837945122</br>_original_yhat_: 0.07</br>"
          ],
          [
           "</br>id: 1833</br>prediction: 0.25</br>distanceToGoal: 34.965463962588544</br></br>h_a: 0.0</br>situation: 2.0</br>shotType: 0.0</br>lastAction: 0.0</br>minute: 3</br>angleToGoal: 40.4664837945122</br>_original_yhat_: 0.07</br>"
          ],
          [
           "</br>id: 1833</br>prediction: 0.25</br>distanceToGoal: 35.60426026826957</br></br>h_a: 0.0</br>situation: 2.0</br>shotType: 0.0</br>lastAction: 0.0</br>minute: 3</br>angleToGoal: 40.4664837945122</br>_original_yhat_: 0.07</br>"
          ],
          [
           "</br>id: 1833</br>prediction: 0.25</br>distanceToGoal: 36.24305657395059</br></br>h_a: 0.0</br>situation: 2.0</br>shotType: 0.0</br>lastAction: 0.0</br>minute: 3</br>angleToGoal: 40.4664837945122</br>_original_yhat_: 0.07</br>"
          ],
          [
           "</br>id: 1833</br>prediction: 0.25</br>distanceToGoal: 36.881852879631616</br></br>h_a: 0.0</br>situation: 2.0</br>shotType: 0.0</br>lastAction: 0.0</br>minute: 3</br>angleToGoal: 40.4664837945122</br>_original_yhat_: 0.07</br>"
          ],
          [
           "</br>id: 1833</br>prediction: 0.25</br>distanceToGoal: 37.52064918531264</br></br>h_a: 0.0</br>situation: 2.0</br>shotType: 0.0</br>lastAction: 0.0</br>minute: 3</br>angleToGoal: 40.4664837945122</br>_original_yhat_: 0.07</br>"
          ],
          [
           "</br>id: 1833</br>prediction: 0.25</br>distanceToGoal: 38.15944549099366</br></br>h_a: 0.0</br>situation: 2.0</br>shotType: 0.0</br>lastAction: 0.0</br>minute: 3</br>angleToGoal: 40.4664837945122</br>_original_yhat_: 0.07</br>"
          ],
          [
           "</br>id: 1833</br>prediction: 0.25</br>distanceToGoal: 38.79824179667469</br></br>h_a: 0.0</br>situation: 2.0</br>shotType: 0.0</br>lastAction: 0.0</br>minute: 3</br>angleToGoal: 40.4664837945122</br>_original_yhat_: 0.07</br>"
          ],
          [
           "</br>id: 1833</br>prediction: 0.25</br>distanceToGoal: 39.437038102355714</br></br>h_a: 0.0</br>situation: 2.0</br>shotType: 0.0</br>lastAction: 0.0</br>minute: 3</br>angleToGoal: 40.4664837945122</br>_original_yhat_: 0.07</br>"
          ],
          [
           "</br>id: 1833</br>prediction: 0.25</br>distanceToGoal: 40.075834408036734</br></br>h_a: 0.0</br>situation: 2.0</br>shotType: 0.0</br>lastAction: 0.0</br>minute: 3</br>angleToGoal: 40.4664837945122</br>_original_yhat_: 0.07</br>"
          ],
          [
           "</br>id: 1833</br>prediction: 0.25</br>distanceToGoal: 40.71463071371776</br></br>h_a: 0.0</br>situation: 2.0</br>shotType: 0.0</br>lastAction: 0.0</br>minute: 3</br>angleToGoal: 40.4664837945122</br>_original_yhat_: 0.07</br>"
          ],
          [
           "</br>id: 1833</br>prediction: 0.25</br>distanceToGoal: 41.35342701939879</br></br>h_a: 0.0</br>situation: 2.0</br>shotType: 0.0</br>lastAction: 0.0</br>minute: 3</br>angleToGoal: 40.4664837945122</br>_original_yhat_: 0.07</br>"
          ],
          [
           "</br>id: 1833</br>prediction: 0.25</br>distanceToGoal: 41.992223325079806</br></br>h_a: 0.0</br>situation: 2.0</br>shotType: 0.0</br>lastAction: 0.0</br>minute: 3</br>angleToGoal: 40.4664837945122</br>_original_yhat_: 0.07</br>"
          ],
          [
           "</br>id: 1833</br>prediction: 0.25</br>distanceToGoal: 42.63101963076083</br></br>h_a: 0.0</br>situation: 2.0</br>shotType: 0.0</br>lastAction: 0.0</br>minute: 3</br>angleToGoal: 40.4664837945122</br>_original_yhat_: 0.07</br>"
          ],
          [
           "</br>id: 1833</br>prediction: 0.25</br>distanceToGoal: 43.26981593644186</br></br>h_a: 0.0</br>situation: 2.0</br>shotType: 0.0</br>lastAction: 0.0</br>minute: 3</br>angleToGoal: 40.4664837945122</br>_original_yhat_: 0.07</br>"
          ],
          [
           "</br>id: 1833</br>prediction: 0.25</br>distanceToGoal: 43.90861224212288</br></br>h_a: 0.0</br>situation: 2.0</br>shotType: 0.0</br>lastAction: 0.0</br>minute: 3</br>angleToGoal: 40.4664837945122</br>_original_yhat_: 0.07</br>"
          ],
          [
           "</br>id: 1833</br>prediction: 0.25</br>distanceToGoal: 44.547408547803904</br></br>h_a: 0.0</br>situation: 2.0</br>shotType: 0.0</br>lastAction: 0.0</br>minute: 3</br>angleToGoal: 40.4664837945122</br>_original_yhat_: 0.07</br>"
          ],
          [
           "</br>id: 1833</br>prediction: 0.25</br>distanceToGoal: 45.18620485348493</br></br>h_a: 0.0</br>situation: 2.0</br>shotType: 0.0</br>lastAction: 0.0</br>minute: 3</br>angleToGoal: 40.4664837945122</br>_original_yhat_: 0.07</br>"
          ],
          [
           "</br>id: 1833</br>prediction: 0.25</br>distanceToGoal: 45.82500115916595</br></br>h_a: 0.0</br>situation: 2.0</br>shotType: 0.0</br>lastAction: 0.0</br>minute: 3</br>angleToGoal: 40.4664837945122</br>_original_yhat_: 0.07</br>"
          ],
          [
           "</br>id: 1833</br>prediction: 0.25</br>distanceToGoal: 46.46379746484698</br></br>h_a: 0.0</br>situation: 2.0</br>shotType: 0.0</br>lastAction: 0.0</br>minute: 3</br>angleToGoal: 40.4664837945122</br>_original_yhat_: 0.07</br>"
          ],
          [
           "</br>id: 1833</br>prediction: 0.25</br>distanceToGoal: 47.102593770528</br></br>h_a: 0.0</br>situation: 2.0</br>shotType: 0.0</br>lastAction: 0.0</br>minute: 3</br>angleToGoal: 40.4664837945122</br>_original_yhat_: 0.07</br>"
          ],
          [
           "</br>id: 1833</br>prediction: 0.25</br>distanceToGoal: 47.74139007620902</br></br>h_a: 0.0</br>situation: 2.0</br>shotType: 0.0</br>lastAction: 0.0</br>minute: 3</br>angleToGoal: 40.4664837945122</br>_original_yhat_: 0.07</br>"
          ],
          [
           "</br>id: 1833</br>prediction: 0.25</br>distanceToGoal: 48.38018638189005</br></br>h_a: 0.0</br>situation: 2.0</br>shotType: 0.0</br>lastAction: 0.0</br>minute: 3</br>angleToGoal: 40.4664837945122</br>_original_yhat_: 0.07</br>"
          ],
          [
           "</br>id: 1833</br>prediction: 0.25</br>distanceToGoal: 49.018982687571075</br></br>h_a: 0.0</br>situation: 2.0</br>shotType: 0.0</br>lastAction: 0.0</br>minute: 3</br>angleToGoal: 40.4664837945122</br>_original_yhat_: 0.07</br>"
          ],
          [
           "</br>id: 1833</br>prediction: 0.25</br>distanceToGoal: 49.657778993252094</br></br>h_a: 0.0</br>situation: 2.0</br>shotType: 0.0</br>lastAction: 0.0</br>minute: 3</br>angleToGoal: 40.4664837945122</br>_original_yhat_: 0.07</br>"
          ],
          [
           "</br>id: 1833</br>prediction: 0.25</br>distanceToGoal: 50.29657529893312</br></br>h_a: 0.0</br>situation: 2.0</br>shotType: 0.0</br>lastAction: 0.0</br>minute: 3</br>angleToGoal: 40.4664837945122</br>_original_yhat_: 0.07</br>"
          ],
          [
           "</br>id: 1833</br>prediction: 0.25</br>distanceToGoal: 50.93537160461415</br></br>h_a: 0.0</br>situation: 2.0</br>shotType: 0.0</br>lastAction: 0.0</br>minute: 3</br>angleToGoal: 40.4664837945122</br>_original_yhat_: 0.07</br>"
          ],
          [
           "</br>id: 1833</br>prediction: 0.25</br>distanceToGoal: 51.57416791029517</br></br>h_a: 0.0</br>situation: 2.0</br>shotType: 0.0</br>lastAction: 0.0</br>minute: 3</br>angleToGoal: 40.4664837945122</br>_original_yhat_: 0.07</br>"
          ],
          [
           "</br>id: 1833</br>prediction: 0.25</br>distanceToGoal: 52.21296421597619</br></br>h_a: 0.0</br>situation: 2.0</br>shotType: 0.0</br>lastAction: 0.0</br>minute: 3</br>angleToGoal: 40.4664837945122</br>_original_yhat_: 0.07</br>"
          ],
          [
           "</br>id: 1833</br>prediction: 0.25</br>distanceToGoal: 52.85176052165721</br></br>h_a: 0.0</br>situation: 2.0</br>shotType: 0.0</br>lastAction: 0.0</br>minute: 3</br>angleToGoal: 40.4664837945122</br>_original_yhat_: 0.07</br>"
          ],
          [
           "</br>id: 1833</br>prediction: 0.25</br>distanceToGoal: 53.49055682733824</br></br>h_a: 0.0</br>situation: 2.0</br>shotType: 0.0</br>lastAction: 0.0</br>minute: 3</br>angleToGoal: 40.4664837945122</br>_original_yhat_: 0.07</br>"
          ],
          [
           "</br>id: 1833</br>prediction: 0.25</br>distanceToGoal: 54.129353133019265</br></br>h_a: 0.0</br>situation: 2.0</br>shotType: 0.0</br>lastAction: 0.0</br>minute: 3</br>angleToGoal: 40.4664837945122</br>_original_yhat_: 0.07</br>"
          ],
          [
           "</br>id: 1833</br>prediction: 0.25</br>distanceToGoal: 54.768149438700284</br></br>h_a: 0.0</br>situation: 2.0</br>shotType: 0.0</br>lastAction: 0.0</br>minute: 3</br>angleToGoal: 40.4664837945122</br>_original_yhat_: 0.07</br>"
          ],
          [
           "</br>id: 1833</br>prediction: 0.25</br>distanceToGoal: 55.40694574438131</br></br>h_a: 0.0</br>situation: 2.0</br>shotType: 0.0</br>lastAction: 0.0</br>minute: 3</br>angleToGoal: 40.4664837945122</br>_original_yhat_: 0.07</br>"
          ],
          [
           "</br>id: 1833</br>prediction: 0.25</br>distanceToGoal: 56.04574205006234</br></br>h_a: 0.0</br>situation: 2.0</br>shotType: 0.0</br>lastAction: 0.0</br>minute: 3</br>angleToGoal: 40.4664837945122</br>_original_yhat_: 0.07</br>"
          ],
          [
           "</br>id: 1833</br>prediction: 0.25</br>distanceToGoal: 56.684538355743356</br></br>h_a: 0.0</br>situation: 2.0</br>shotType: 0.0</br>lastAction: 0.0</br>minute: 3</br>angleToGoal: 40.4664837945122</br>_original_yhat_: 0.07</br>"
          ],
          [
           "</br>id: 1833</br>prediction: 0.25</br>distanceToGoal: 57.32333466142438</br></br>h_a: 0.0</br>situation: 2.0</br>shotType: 0.0</br>lastAction: 0.0</br>minute: 3</br>angleToGoal: 40.4664837945122</br>_original_yhat_: 0.07</br>"
          ],
          [
           "</br>id: 1833</br>prediction: 0.25</br>distanceToGoal: 57.96213096710541</br></br>h_a: 0.0</br>situation: 2.0</br>shotType: 0.0</br>lastAction: 0.0</br>minute: 3</br>angleToGoal: 40.4664837945122</br>_original_yhat_: 0.07</br>"
          ],
          [
           "</br>id: 1833</br>prediction: 0.25</br>distanceToGoal: 58.60092727278643</br></br>h_a: 0.0</br>situation: 2.0</br>shotType: 0.0</br>lastAction: 0.0</br>minute: 3</br>angleToGoal: 40.4664837945122</br>_original_yhat_: 0.07</br>"
          ],
          [
           "</br>id: 1833</br>prediction: 0.25</br>distanceToGoal: 59.239723578467455</br></br>h_a: 0.0</br>situation: 2.0</br>shotType: 0.0</br>lastAction: 0.0</br>minute: 3</br>angleToGoal: 40.4664837945122</br>_original_yhat_: 0.07</br>"
          ],
          [
           "</br>id: 1833</br>prediction: 0.25</br>distanceToGoal: 59.87851988414848</br></br>h_a: 0.0</br>situation: 2.0</br>shotType: 0.0</br>lastAction: 0.0</br>minute: 3</br>angleToGoal: 40.4664837945122</br>_original_yhat_: 0.07</br>"
          ],
          [
           "</br>id: 1833</br>prediction: 0.25</br>distanceToGoal: 60.5173161898295</br></br>h_a: 0.0</br>situation: 2.0</br>shotType: 0.0</br>lastAction: 0.0</br>minute: 3</br>angleToGoal: 40.4664837945122</br>_original_yhat_: 0.07</br>"
          ],
          [
           "</br>id: 1833</br>prediction: 0.25</br>distanceToGoal: 61.15611249551053</br></br>h_a: 0.0</br>situation: 2.0</br>shotType: 0.0</br>lastAction: 0.0</br>minute: 3</br>angleToGoal: 40.4664837945122</br>_original_yhat_: 0.07</br>"
          ],
          [
           "</br>id: 1833</br>prediction: 0.25</br>distanceToGoal: 61.79490880119155</br></br>h_a: 0.0</br>situation: 2.0</br>shotType: 0.0</br>lastAction: 0.0</br>minute: 3</br>angleToGoal: 40.4664837945122</br>_original_yhat_: 0.07</br>"
          ],
          [
           "</br>id: 1833</br>prediction: 0.25</br>distanceToGoal: 62.43370510687257</br></br>h_a: 0.0</br>situation: 2.0</br>shotType: 0.0</br>lastAction: 0.0</br>minute: 3</br>angleToGoal: 40.4664837945122</br>_original_yhat_: 0.07</br>"
          ],
          [
           "</br>id: 1833</br>prediction: 0.25</br>distanceToGoal: 63.0725014125536</br></br>h_a: 0.0</br>situation: 2.0</br>shotType: 0.0</br>lastAction: 0.0</br>minute: 3</br>angleToGoal: 40.4664837945122</br>_original_yhat_: 0.07</br>"
          ],
          [
           "</br>id: 1833</br>prediction: 0.25</br>distanceToGoal: 63.711297718234626</br></br>h_a: 0.0</br>situation: 2.0</br>shotType: 0.0</br>lastAction: 0.0</br>minute: 3</br>angleToGoal: 40.4664837945122</br>_original_yhat_: 0.07</br>"
          ],
          [
           "</br>id: 1833</br>prediction: 0.25</br>distanceToGoal: 64.35009402391564</br></br>h_a: 0.0</br>situation: 2.0</br>shotType: 0.0</br>lastAction: 0.0</br>minute: 3</br>angleToGoal: 40.4664837945122</br>_original_yhat_: 0.07</br>"
          ],
          [
           "</br>id: 1833</br>prediction: 0.25</br>distanceToGoal: 64.98889032959667</br></br>h_a: 0.0</br>situation: 2.0</br>shotType: 0.0</br>lastAction: 0.0</br>minute: 3</br>angleToGoal: 40.4664837945122</br>_original_yhat_: 0.07</br>"
          ],
          [
           "</br>id: 1833</br>prediction: 0.25</br>distanceToGoal: 65.6276866352777</br></br>h_a: 0.0</br>situation: 2.0</br>shotType: 0.0</br>lastAction: 0.0</br>minute: 3</br>angleToGoal: 40.4664837945122</br>_original_yhat_: 0.07</br>"
          ]
         ],
         "hovertemplate": "%{customdata[0]}<extra></extra>",
         "legendgroup": "Random Forest",
         "line": {
          "color": "#f05a71",
          "dash": "solid",
          "width": 2
         },
         "marker": {
          "symbol": "circle"
         },
         "mode": "lines",
         "name": "Random Forest",
         "opacity": 1,
         "showlegend": false,
         "type": "scattergl",
         "x": [
          1.7480560671752996,
          2.386852372856324,
          3.0256486785373475,
          3.6644449842183713,
          4.303241289899395,
          4.94203759558042,
          5.580833901261443,
          6.219630206942467,
          6.858426512623492,
          7.497222818304515,
          8.13601912398554,
          8.774815429666564,
          9.413611735347587,
          9.53310076709881,
          10.052408041028611,
          10.691204346709636,
          11.330000652390659,
          11.968796958071684,
          12.607593263752708,
          13.246389569433731,
          13.885185875114756,
          14.523982180795779,
          15.162778486476803,
          15.801574792157828,
          16.44037109783885,
          17.079167403519875,
          17.717963709200898,
          18.35676001488192,
          18.995556320562944,
          19.63435262624397,
          20.273148931924993,
          20.911945237606016,
          21.550741543287042,
          22.189537848968065,
          22.828334154649088,
          23.467130460330115,
          24.105926766011137,
          24.74472307169216,
          25.383519377373187,
          26.02231568305421,
          26.661111988735232,
          27.299908294416255,
          27.93870460009728,
          28.577500905778304,
          29.216297211459327,
          29.855093517140354,
          30.493889822821377,
          31.1326861285024,
          31.771482434183426,
          32.41027873986445,
          33.04907504554547,
          33.6878713512265,
          34.32666765690752,
          34.965463962588544,
          35.60426026826957,
          36.24305657395059,
          36.881852879631616,
          37.52064918531264,
          38.15944549099366,
          38.79824179667469,
          39.437038102355714,
          40.075834408036734,
          40.71463071371776,
          41.35342701939879,
          41.992223325079806,
          42.63101963076083,
          43.26981593644186,
          43.90861224212288,
          44.547408547803904,
          45.18620485348493,
          45.82500115916595,
          46.46379746484698,
          47.102593770528,
          47.74139007620902,
          48.38018638189005,
          49.018982687571075,
          49.657778993252094,
          50.29657529893312,
          50.93537160461415,
          51.57416791029517,
          52.21296421597619,
          52.85176052165721,
          53.49055682733824,
          54.129353133019265,
          54.768149438700284,
          55.40694574438131,
          56.04574205006234,
          56.684538355743356,
          57.32333466142438,
          57.96213096710541,
          58.60092727278643,
          59.239723578467455,
          59.87851988414848,
          60.5173161898295,
          61.15611249551053,
          61.79490880119155,
          62.43370510687257,
          63.0725014125536,
          63.711297718234626,
          64.35009402391564,
          64.98889032959667,
          65.6276866352777
         ],
         "xaxis": "x4",
         "y": [
          0.67,
          0.67,
          0.55,
          0.43,
          0.43,
          0.4,
          0.43,
          0.44,
          0.19,
          0.18,
          0.18,
          0.18,
          0.18,
          0.07,
          0.1,
          0.19,
          0.18,
          0.17,
          0.24,
          0.24,
          0.24,
          0.24,
          0.24,
          0.24,
          0.24,
          0.25,
          0.27,
          0.26,
          0.26,
          0.24,
          0.23,
          0.24,
          0.24,
          0.24,
          0.23,
          0.24,
          0.24,
          0.26,
          0.26,
          0.26,
          0.25,
          0.25,
          0.25,
          0.25,
          0.25,
          0.25,
          0.25,
          0.25,
          0.25,
          0.25,
          0.25,
          0.25,
          0.25,
          0.25,
          0.25,
          0.25,
          0.25,
          0.25,
          0.25,
          0.25,
          0.25,
          0.25,
          0.25,
          0.25,
          0.25,
          0.25,
          0.25,
          0.25,
          0.25,
          0.25,
          0.25,
          0.25,
          0.25,
          0.25,
          0.25,
          0.25,
          0.25,
          0.25,
          0.25,
          0.25,
          0.25,
          0.25,
          0.25,
          0.25,
          0.25,
          0.25,
          0.25,
          0.25,
          0.25,
          0.25,
          0.25,
          0.25,
          0.25,
          0.25,
          0.25,
          0.25,
          0.25,
          0.25,
          0.25,
          0.25,
          0.25,
          0.25
         ],
         "yaxis": "y4"
        },
        {
         "customdata": [
          [
           "</br>id: 1833</br>prediction: 0.16</br>angleToGoal: 2.45563484478765</br></br>h_a: 0.0</br>situation: 2.0</br>shotType: 0.0</br>lastAction: 0.0</br>minute: 3</br>distanceToGoal: 9.53310076709881</br>_original_yhat_: 0.07</br>"
          ],
          [
           "</br>id: 1833</br>prediction: 0.16</br>angleToGoal: 3.329788052577239</br></br>h_a: 0.0</br>situation: 2.0</br>shotType: 0.0</br>lastAction: 0.0</br>minute: 3</br>distanceToGoal: 9.53310076709881</br>_original_yhat_: 0.07</br>"
          ],
          [
           "</br>id: 1833</br>prediction: 0.17</br>angleToGoal: 4.203941260366829</br></br>h_a: 0.0</br>situation: 2.0</br>shotType: 0.0</br>lastAction: 0.0</br>minute: 3</br>distanceToGoal: 9.53310076709881</br>_original_yhat_: 0.07</br>"
          ],
          [
           "</br>id: 1833</br>prediction: 0.15</br>angleToGoal: 5.078094468156419</br></br>h_a: 0.0</br>situation: 2.0</br>shotType: 0.0</br>lastAction: 0.0</br>minute: 3</br>distanceToGoal: 9.53310076709881</br>_original_yhat_: 0.07</br>"
          ],
          [
           "</br>id: 1833</br>prediction: 0.08</br>angleToGoal: 5.9522476759460075</br></br>h_a: 0.0</br>situation: 2.0</br>shotType: 0.0</br>lastAction: 0.0</br>minute: 3</br>distanceToGoal: 9.53310076709881</br>_original_yhat_: 0.07</br>"
          ],
          [
           "</br>id: 1833</br>prediction: 0.05</br>angleToGoal: 6.826400883735596</br></br>h_a: 0.0</br>situation: 2.0</br>shotType: 0.0</br>lastAction: 0.0</br>minute: 3</br>distanceToGoal: 9.53310076709881</br>_original_yhat_: 0.07</br>"
          ],
          [
           "</br>id: 1833</br>prediction: 0.04</br>angleToGoal: 7.700554091525186</br></br>h_a: 0.0</br>situation: 2.0</br>shotType: 0.0</br>lastAction: 0.0</br>minute: 3</br>distanceToGoal: 9.53310076709881</br>_original_yhat_: 0.07</br>"
          ],
          [
           "</br>id: 1833</br>prediction: 0.04</br>angleToGoal: 8.574707299314776</br></br>h_a: 0.0</br>situation: 2.0</br>shotType: 0.0</br>lastAction: 0.0</br>minute: 3</br>distanceToGoal: 9.53310076709881</br>_original_yhat_: 0.07</br>"
          ],
          [
           "</br>id: 1833</br>prediction: 0.04</br>angleToGoal: 9.448860507104365</br></br>h_a: 0.0</br>situation: 2.0</br>shotType: 0.0</br>lastAction: 0.0</br>minute: 3</br>distanceToGoal: 9.53310076709881</br>_original_yhat_: 0.07</br>"
          ],
          [
           "</br>id: 1833</br>prediction: 0.04</br>angleToGoal: 10.323013714893955</br></br>h_a: 0.0</br>situation: 2.0</br>shotType: 0.0</br>lastAction: 0.0</br>minute: 3</br>distanceToGoal: 9.53310076709881</br>_original_yhat_: 0.07</br>"
          ],
          [
           "</br>id: 1833</br>prediction: 0.04</br>angleToGoal: 11.197166922683543</br></br>h_a: 0.0</br>situation: 2.0</br>shotType: 0.0</br>lastAction: 0.0</br>minute: 3</br>distanceToGoal: 9.53310076709881</br>_original_yhat_: 0.07</br>"
          ],
          [
           "</br>id: 1833</br>prediction: 0.04</br>angleToGoal: 12.071320130473133</br></br>h_a: 0.0</br>situation: 2.0</br>shotType: 0.0</br>lastAction: 0.0</br>minute: 3</br>distanceToGoal: 9.53310076709881</br>_original_yhat_: 0.07</br>"
          ],
          [
           "</br>id: 1833</br>prediction: 0.03</br>angleToGoal: 12.945473338262723</br></br>h_a: 0.0</br>situation: 2.0</br>shotType: 0.0</br>lastAction: 0.0</br>minute: 3</br>distanceToGoal: 9.53310076709881</br>_original_yhat_: 0.07</br>"
          ],
          [
           "</br>id: 1833</br>prediction: 0.03</br>angleToGoal: 13.819626546052312</br></br>h_a: 0.0</br>situation: 2.0</br>shotType: 0.0</br>lastAction: 0.0</br>minute: 3</br>distanceToGoal: 9.53310076709881</br>_original_yhat_: 0.07</br>"
          ],
          [
           "</br>id: 1833</br>prediction: 0.04</br>angleToGoal: 14.6937797538419</br></br>h_a: 0.0</br>situation: 2.0</br>shotType: 0.0</br>lastAction: 0.0</br>minute: 3</br>distanceToGoal: 9.53310076709881</br>_original_yhat_: 0.07</br>"
          ],
          [
           "</br>id: 1833</br>prediction: 0.05</br>angleToGoal: 15.56793296163149</br></br>h_a: 0.0</br>situation: 2.0</br>shotType: 0.0</br>lastAction: 0.0</br>minute: 3</br>distanceToGoal: 9.53310076709881</br>_original_yhat_: 0.07</br>"
          ],
          [
           "</br>id: 1833</br>prediction: 0.02</br>angleToGoal: 16.44208616942108</br></br>h_a: 0.0</br>situation: 2.0</br>shotType: 0.0</br>lastAction: 0.0</br>minute: 3</br>distanceToGoal: 9.53310076709881</br>_original_yhat_: 0.07</br>"
          ],
          [
           "</br>id: 1833</br>prediction: 0.05</br>angleToGoal: 17.31623937721067</br></br>h_a: 0.0</br>situation: 2.0</br>shotType: 0.0</br>lastAction: 0.0</br>minute: 3</br>distanceToGoal: 9.53310076709881</br>_original_yhat_: 0.07</br>"
          ],
          [
           "</br>id: 1833</br>prediction: 0.05</br>angleToGoal: 18.19039258500026</br></br>h_a: 0.0</br>situation: 2.0</br>shotType: 0.0</br>lastAction: 0.0</br>minute: 3</br>distanceToGoal: 9.53310076709881</br>_original_yhat_: 0.07</br>"
          ],
          [
           "</br>id: 1833</br>prediction: 0.02</br>angleToGoal: 19.064545792789847</br></br>h_a: 0.0</br>situation: 2.0</br>shotType: 0.0</br>lastAction: 0.0</br>minute: 3</br>distanceToGoal: 9.53310076709881</br>_original_yhat_: 0.07</br>"
          ],
          [
           "</br>id: 1833</br>prediction: 0.01</br>angleToGoal: 19.938699000579437</br></br>h_a: 0.0</br>situation: 2.0</br>shotType: 0.0</br>lastAction: 0.0</br>minute: 3</br>distanceToGoal: 9.53310076709881</br>_original_yhat_: 0.07</br>"
          ],
          [
           "</br>id: 1833</br>prediction: 0.01</br>angleToGoal: 20.812852208369026</br></br>h_a: 0.0</br>situation: 2.0</br>shotType: 0.0</br>lastAction: 0.0</br>minute: 3</br>distanceToGoal: 9.53310076709881</br>_original_yhat_: 0.07</br>"
          ],
          [
           "</br>id: 1833</br>prediction: 0.0</br>angleToGoal: 21.687005416158616</br></br>h_a: 0.0</br>situation: 2.0</br>shotType: 0.0</br>lastAction: 0.0</br>minute: 3</br>distanceToGoal: 9.53310076709881</br>_original_yhat_: 0.07</br>"
          ],
          [
           "</br>id: 1833</br>prediction: 0.0</br>angleToGoal: 22.561158623948206</br></br>h_a: 0.0</br>situation: 2.0</br>shotType: 0.0</br>lastAction: 0.0</br>minute: 3</br>distanceToGoal: 9.53310076709881</br>_original_yhat_: 0.07</br>"
          ],
          [
           "</br>id: 1833</br>prediction: 0.01</br>angleToGoal: 23.435311831737796</br></br>h_a: 0.0</br>situation: 2.0</br>shotType: 0.0</br>lastAction: 0.0</br>minute: 3</br>distanceToGoal: 9.53310076709881</br>_original_yhat_: 0.07</br>"
          ],
          [
           "</br>id: 1833</br>prediction: 0.01</br>angleToGoal: 24.309465039527385</br></br>h_a: 0.0</br>situation: 2.0</br>shotType: 0.0</br>lastAction: 0.0</br>minute: 3</br>distanceToGoal: 9.53310076709881</br>_original_yhat_: 0.07</br>"
          ],
          [
           "</br>id: 1833</br>prediction: 0.01</br>angleToGoal: 25.183618247316975</br></br>h_a: 0.0</br>situation: 2.0</br>shotType: 0.0</br>lastAction: 0.0</br>minute: 3</br>distanceToGoal: 9.53310076709881</br>_original_yhat_: 0.07</br>"
          ],
          [
           "</br>id: 1833</br>prediction: 0.0</br>angleToGoal: 26.05777145510656</br></br>h_a: 0.0</br>situation: 2.0</br>shotType: 0.0</br>lastAction: 0.0</br>minute: 3</br>distanceToGoal: 9.53310076709881</br>_original_yhat_: 0.07</br>"
          ],
          [
           "</br>id: 1833</br>prediction: 0.0</br>angleToGoal: 26.93192466289615</br></br>h_a: 0.0</br>situation: 2.0</br>shotType: 0.0</br>lastAction: 0.0</br>minute: 3</br>distanceToGoal: 9.53310076709881</br>_original_yhat_: 0.07</br>"
          ],
          [
           "</br>id: 1833</br>prediction: 0.0</br>angleToGoal: 27.80607787068574</br></br>h_a: 0.0</br>situation: 2.0</br>shotType: 0.0</br>lastAction: 0.0</br>minute: 3</br>distanceToGoal: 9.53310076709881</br>_original_yhat_: 0.07</br>"
          ],
          [
           "</br>id: 1833</br>prediction: 0.0</br>angleToGoal: 28.68023107847533</br></br>h_a: 0.0</br>situation: 2.0</br>shotType: 0.0</br>lastAction: 0.0</br>minute: 3</br>distanceToGoal: 9.53310076709881</br>_original_yhat_: 0.07</br>"
          ],
          [
           "</br>id: 1833</br>prediction: 0.0</br>angleToGoal: 29.55438428626492</br></br>h_a: 0.0</br>situation: 2.0</br>shotType: 0.0</br>lastAction: 0.0</br>minute: 3</br>distanceToGoal: 9.53310076709881</br>_original_yhat_: 0.07</br>"
          ],
          [
           "</br>id: 1833</br>prediction: 0.0</br>angleToGoal: 30.42853749405451</br></br>h_a: 0.0</br>situation: 2.0</br>shotType: 0.0</br>lastAction: 0.0</br>minute: 3</br>distanceToGoal: 9.53310076709881</br>_original_yhat_: 0.07</br>"
          ],
          [
           "</br>id: 1833</br>prediction: 0.01</br>angleToGoal: 31.3026907018441</br></br>h_a: 0.0</br>situation: 2.0</br>shotType: 0.0</br>lastAction: 0.0</br>minute: 3</br>distanceToGoal: 9.53310076709881</br>_original_yhat_: 0.07</br>"
          ],
          [
           "</br>id: 1833</br>prediction: 0.0</br>angleToGoal: 32.17684390963369</br></br>h_a: 0.0</br>situation: 2.0</br>shotType: 0.0</br>lastAction: 0.0</br>minute: 3</br>distanceToGoal: 9.53310076709881</br>_original_yhat_: 0.07</br>"
          ],
          [
           "</br>id: 1833</br>prediction: 0.0</br>angleToGoal: 33.05099711742328</br></br>h_a: 0.0</br>situation: 2.0</br>shotType: 0.0</br>lastAction: 0.0</br>minute: 3</br>distanceToGoal: 9.53310076709881</br>_original_yhat_: 0.07</br>"
          ],
          [
           "</br>id: 1833</br>prediction: 0.03</br>angleToGoal: 33.92515032521287</br></br>h_a: 0.0</br>situation: 2.0</br>shotType: 0.0</br>lastAction: 0.0</br>minute: 3</br>distanceToGoal: 9.53310076709881</br>_original_yhat_: 0.07</br>"
          ],
          [
           "</br>id: 1833</br>prediction: 0.04</br>angleToGoal: 34.79930353300246</br></br>h_a: 0.0</br>situation: 2.0</br>shotType: 0.0</br>lastAction: 0.0</br>minute: 3</br>distanceToGoal: 9.53310076709881</br>_original_yhat_: 0.07</br>"
          ],
          [
           "</br>id: 1833</br>prediction: 0.02</br>angleToGoal: 35.67345674079205</br></br>h_a: 0.0</br>situation: 2.0</br>shotType: 0.0</br>lastAction: 0.0</br>minute: 3</br>distanceToGoal: 9.53310076709881</br>_original_yhat_: 0.07</br>"
          ],
          [
           "</br>id: 1833</br>prediction: 0.02</br>angleToGoal: 36.54760994858164</br></br>h_a: 0.0</br>situation: 2.0</br>shotType: 0.0</br>lastAction: 0.0</br>minute: 3</br>distanceToGoal: 9.53310076709881</br>_original_yhat_: 0.07</br>"
          ],
          [
           "</br>id: 1833</br>prediction: 0.01</br>angleToGoal: 37.42176315637123</br></br>h_a: 0.0</br>situation: 2.0</br>shotType: 0.0</br>lastAction: 0.0</br>minute: 3</br>distanceToGoal: 9.53310076709881</br>_original_yhat_: 0.07</br>"
          ],
          [
           "</br>id: 1833</br>prediction: 0.04</br>angleToGoal: 38.29591636416082</br></br>h_a: 0.0</br>situation: 2.0</br>shotType: 0.0</br>lastAction: 0.0</br>minute: 3</br>distanceToGoal: 9.53310076709881</br>_original_yhat_: 0.07</br>"
          ],
          [
           "</br>id: 1833</br>prediction: 0.04</br>angleToGoal: 39.17006957195041</br></br>h_a: 0.0</br>situation: 2.0</br>shotType: 0.0</br>lastAction: 0.0</br>minute: 3</br>distanceToGoal: 9.53310076709881</br>_original_yhat_: 0.07</br>"
          ],
          [
           "</br>id: 1833</br>prediction: 0.1</br>angleToGoal: 40.04422277974</br></br>h_a: 0.0</br>situation: 2.0</br>shotType: 0.0</br>lastAction: 0.0</br>minute: 3</br>distanceToGoal: 9.53310076709881</br>_original_yhat_: 0.07</br>"
          ],
          [
           "</br>id: 1833</br>prediction: 0.07</br>angleToGoal: 40.4664837945122</br></br>h_a: 0.0</br>situation: 2.0</br>shotType: 0.0</br>lastAction: 0.0</br>minute: 3</br>distanceToGoal: 9.53310076709881</br>_original_yhat_: 0.07</br>"
          ],
          [
           "</br>id: 1833</br>prediction: 0.1</br>angleToGoal: 40.918375987529586</br></br>h_a: 0.0</br>situation: 2.0</br>shotType: 0.0</br>lastAction: 0.0</br>minute: 3</br>distanceToGoal: 9.53310076709881</br>_original_yhat_: 0.07</br>"
          ],
          [
           "</br>id: 1833</br>prediction: 0.17</br>angleToGoal: 41.792529195319176</br></br>h_a: 0.0</br>situation: 2.0</br>shotType: 0.0</br>lastAction: 0.0</br>minute: 3</br>distanceToGoal: 9.53310076709881</br>_original_yhat_: 0.07</br>"
          ],
          [
           "</br>id: 1833</br>prediction: 0.28</br>angleToGoal: 42.666682403108766</br></br>h_a: 0.0</br>situation: 2.0</br>shotType: 0.0</br>lastAction: 0.0</br>minute: 3</br>distanceToGoal: 9.53310076709881</br>_original_yhat_: 0.07</br>"
          ],
          [
           "</br>id: 1833</br>prediction: 0.32</br>angleToGoal: 43.540835610898355</br></br>h_a: 0.0</br>situation: 2.0</br>shotType: 0.0</br>lastAction: 0.0</br>minute: 3</br>distanceToGoal: 9.53310076709881</br>_original_yhat_: 0.07</br>"
          ],
          [
           "</br>id: 1833</br>prediction: 0.29</br>angleToGoal: 44.414988818687945</br></br>h_a: 0.0</br>situation: 2.0</br>shotType: 0.0</br>lastAction: 0.0</br>minute: 3</br>distanceToGoal: 9.53310076709881</br>_original_yhat_: 0.07</br>"
          ],
          [
           "</br>id: 1833</br>prediction: 0.3</br>angleToGoal: 45.289142026477535</br></br>h_a: 0.0</br>situation: 2.0</br>shotType: 0.0</br>lastAction: 0.0</br>minute: 3</br>distanceToGoal: 9.53310076709881</br>_original_yhat_: 0.07</br>"
          ],
          [
           "</br>id: 1833</br>prediction: 0.29</br>angleToGoal: 46.163295234267125</br></br>h_a: 0.0</br>situation: 2.0</br>shotType: 0.0</br>lastAction: 0.0</br>minute: 3</br>distanceToGoal: 9.53310076709881</br>_original_yhat_: 0.07</br>"
          ],
          [
           "</br>id: 1833</br>prediction: 0.27</br>angleToGoal: 47.037448442056714</br></br>h_a: 0.0</br>situation: 2.0</br>shotType: 0.0</br>lastAction: 0.0</br>minute: 3</br>distanceToGoal: 9.53310076709881</br>_original_yhat_: 0.07</br>"
          ],
          [
           "</br>id: 1833</br>prediction: 0.27</br>angleToGoal: 47.911601649846304</br></br>h_a: 0.0</br>situation: 2.0</br>shotType: 0.0</br>lastAction: 0.0</br>minute: 3</br>distanceToGoal: 9.53310076709881</br>_original_yhat_: 0.07</br>"
          ],
          [
           "</br>id: 1833</br>prediction: 0.24</br>angleToGoal: 48.785754857635894</br></br>h_a: 0.0</br>situation: 2.0</br>shotType: 0.0</br>lastAction: 0.0</br>minute: 3</br>distanceToGoal: 9.53310076709881</br>_original_yhat_: 0.07</br>"
          ],
          [
           "</br>id: 1833</br>prediction: 0.24</br>angleToGoal: 49.659908065425476</br></br>h_a: 0.0</br>situation: 2.0</br>shotType: 0.0</br>lastAction: 0.0</br>minute: 3</br>distanceToGoal: 9.53310076709881</br>_original_yhat_: 0.07</br>"
          ],
          [
           "</br>id: 1833</br>prediction: 0.28</br>angleToGoal: 50.534061273215066</br></br>h_a: 0.0</br>situation: 2.0</br>shotType: 0.0</br>lastAction: 0.0</br>minute: 3</br>distanceToGoal: 9.53310076709881</br>_original_yhat_: 0.07</br>"
          ],
          [
           "</br>id: 1833</br>prediction: 0.26</br>angleToGoal: 51.408214481004656</br></br>h_a: 0.0</br>situation: 2.0</br>shotType: 0.0</br>lastAction: 0.0</br>minute: 3</br>distanceToGoal: 9.53310076709881</br>_original_yhat_: 0.07</br>"
          ],
          [
           "</br>id: 1833</br>prediction: 0.26</br>angleToGoal: 52.282367688794245</br></br>h_a: 0.0</br>situation: 2.0</br>shotType: 0.0</br>lastAction: 0.0</br>minute: 3</br>distanceToGoal: 9.53310076709881</br>_original_yhat_: 0.07</br>"
          ],
          [
           "</br>id: 1833</br>prediction: 0.27</br>angleToGoal: 53.156520896583835</br></br>h_a: 0.0</br>situation: 2.0</br>shotType: 0.0</br>lastAction: 0.0</br>minute: 3</br>distanceToGoal: 9.53310076709881</br>_original_yhat_: 0.07</br>"
          ],
          [
           "</br>id: 1833</br>prediction: 0.27</br>angleToGoal: 54.030674104373425</br></br>h_a: 0.0</br>situation: 2.0</br>shotType: 0.0</br>lastAction: 0.0</br>minute: 3</br>distanceToGoal: 9.53310076709881</br>_original_yhat_: 0.07</br>"
          ],
          [
           "</br>id: 1833</br>prediction: 0.26</br>angleToGoal: 54.904827312163015</br></br>h_a: 0.0</br>situation: 2.0</br>shotType: 0.0</br>lastAction: 0.0</br>minute: 3</br>distanceToGoal: 9.53310076709881</br>_original_yhat_: 0.07</br>"
          ],
          [
           "</br>id: 1833</br>prediction: 0.26</br>angleToGoal: 55.778980519952604</br></br>h_a: 0.0</br>situation: 2.0</br>shotType: 0.0</br>lastAction: 0.0</br>minute: 3</br>distanceToGoal: 9.53310076709881</br>_original_yhat_: 0.07</br>"
          ],
          [
           "</br>id: 1833</br>prediction: 0.24</br>angleToGoal: 56.653133727742194</br></br>h_a: 0.0</br>situation: 2.0</br>shotType: 0.0</br>lastAction: 0.0</br>minute: 3</br>distanceToGoal: 9.53310076709881</br>_original_yhat_: 0.07</br>"
          ],
          [
           "</br>id: 1833</br>prediction: 0.24</br>angleToGoal: 57.527286935531784</br></br>h_a: 0.0</br>situation: 2.0</br>shotType: 0.0</br>lastAction: 0.0</br>minute: 3</br>distanceToGoal: 9.53310076709881</br>_original_yhat_: 0.07</br>"
          ],
          [
           "</br>id: 1833</br>prediction: 0.24</br>angleToGoal: 58.40144014332137</br></br>h_a: 0.0</br>situation: 2.0</br>shotType: 0.0</br>lastAction: 0.0</br>minute: 3</br>distanceToGoal: 9.53310076709881</br>_original_yhat_: 0.07</br>"
          ],
          [
           "</br>id: 1833</br>prediction: 0.24</br>angleToGoal: 59.27559335111096</br></br>h_a: 0.0</br>situation: 2.0</br>shotType: 0.0</br>lastAction: 0.0</br>minute: 3</br>distanceToGoal: 9.53310076709881</br>_original_yhat_: 0.07</br>"
          ],
          [
           "</br>id: 1833</br>prediction: 0.24</br>angleToGoal: 60.14974655890055</br></br>h_a: 0.0</br>situation: 2.0</br>shotType: 0.0</br>lastAction: 0.0</br>minute: 3</br>distanceToGoal: 9.53310076709881</br>_original_yhat_: 0.07</br>"
          ],
          [
           "</br>id: 1833</br>prediction: 0.25</br>angleToGoal: 61.02389976669014</br></br>h_a: 0.0</br>situation: 2.0</br>shotType: 0.0</br>lastAction: 0.0</br>minute: 3</br>distanceToGoal: 9.53310076709881</br>_original_yhat_: 0.07</br>"
          ],
          [
           "</br>id: 1833</br>prediction: 0.28</br>angleToGoal: 61.89805297447973</br></br>h_a: 0.0</br>situation: 2.0</br>shotType: 0.0</br>lastAction: 0.0</br>minute: 3</br>distanceToGoal: 9.53310076709881</br>_original_yhat_: 0.07</br>"
          ],
          [
           "</br>id: 1833</br>prediction: 0.29</br>angleToGoal: 62.77220618226932</br></br>h_a: 0.0</br>situation: 2.0</br>shotType: 0.0</br>lastAction: 0.0</br>minute: 3</br>distanceToGoal: 9.53310076709881</br>_original_yhat_: 0.07</br>"
          ],
          [
           "</br>id: 1833</br>prediction: 0.28</br>angleToGoal: 63.64635939005891</br></br>h_a: 0.0</br>situation: 2.0</br>shotType: 0.0</br>lastAction: 0.0</br>minute: 3</br>distanceToGoal: 9.53310076709881</br>_original_yhat_: 0.07</br>"
          ],
          [
           "</br>id: 1833</br>prediction: 0.28</br>angleToGoal: 64.5205125978485</br></br>h_a: 0.0</br>situation: 2.0</br>shotType: 0.0</br>lastAction: 0.0</br>minute: 3</br>distanceToGoal: 9.53310076709881</br>_original_yhat_: 0.07</br>"
          ],
          [
           "</br>id: 1833</br>prediction: 0.28</br>angleToGoal: 65.39466580563808</br></br>h_a: 0.0</br>situation: 2.0</br>shotType: 0.0</br>lastAction: 0.0</br>minute: 3</br>distanceToGoal: 9.53310076709881</br>_original_yhat_: 0.07</br>"
          ],
          [
           "</br>id: 1833</br>prediction: 0.27</br>angleToGoal: 66.26881901342767</br></br>h_a: 0.0</br>situation: 2.0</br>shotType: 0.0</br>lastAction: 0.0</br>minute: 3</br>distanceToGoal: 9.53310076709881</br>_original_yhat_: 0.07</br>"
          ],
          [
           "</br>id: 1833</br>prediction: 0.27</br>angleToGoal: 67.14297222121726</br></br>h_a: 0.0</br>situation: 2.0</br>shotType: 0.0</br>lastAction: 0.0</br>minute: 3</br>distanceToGoal: 9.53310076709881</br>_original_yhat_: 0.07</br>"
          ],
          [
           "</br>id: 1833</br>prediction: 0.27</br>angleToGoal: 68.01712542900685</br></br>h_a: 0.0</br>situation: 2.0</br>shotType: 0.0</br>lastAction: 0.0</br>minute: 3</br>distanceToGoal: 9.53310076709881</br>_original_yhat_: 0.07</br>"
          ],
          [
           "</br>id: 1833</br>prediction: 0.26</br>angleToGoal: 68.89127863679644</br></br>h_a: 0.0</br>situation: 2.0</br>shotType: 0.0</br>lastAction: 0.0</br>minute: 3</br>distanceToGoal: 9.53310076709881</br>_original_yhat_: 0.07</br>"
          ],
          [
           "</br>id: 1833</br>prediction: 0.26</br>angleToGoal: 69.76543184458603</br></br>h_a: 0.0</br>situation: 2.0</br>shotType: 0.0</br>lastAction: 0.0</br>minute: 3</br>distanceToGoal: 9.53310076709881</br>_original_yhat_: 0.07</br>"
          ],
          [
           "</br>id: 1833</br>prediction: 0.26</br>angleToGoal: 70.63958505237562</br></br>h_a: 0.0</br>situation: 2.0</br>shotType: 0.0</br>lastAction: 0.0</br>minute: 3</br>distanceToGoal: 9.53310076709881</br>_original_yhat_: 0.07</br>"
          ],
          [
           "</br>id: 1833</br>prediction: 0.27</br>angleToGoal: 71.51373826016521</br></br>h_a: 0.0</br>situation: 2.0</br>shotType: 0.0</br>lastAction: 0.0</br>minute: 3</br>distanceToGoal: 9.53310076709881</br>_original_yhat_: 0.07</br>"
          ],
          [
           "</br>id: 1833</br>prediction: 0.27</br>angleToGoal: 72.3878914679548</br></br>h_a: 0.0</br>situation: 2.0</br>shotType: 0.0</br>lastAction: 0.0</br>minute: 3</br>distanceToGoal: 9.53310076709881</br>_original_yhat_: 0.07</br>"
          ],
          [
           "</br>id: 1833</br>prediction: 0.27</br>angleToGoal: 73.26204467574439</br></br>h_a: 0.0</br>situation: 2.0</br>shotType: 0.0</br>lastAction: 0.0</br>minute: 3</br>distanceToGoal: 9.53310076709881</br>_original_yhat_: 0.07</br>"
          ],
          [
           "</br>id: 1833</br>prediction: 0.26</br>angleToGoal: 74.13619788353398</br></br>h_a: 0.0</br>situation: 2.0</br>shotType: 0.0</br>lastAction: 0.0</br>minute: 3</br>distanceToGoal: 9.53310076709881</br>_original_yhat_: 0.07</br>"
          ],
          [
           "</br>id: 1833</br>prediction: 0.26</br>angleToGoal: 75.01035109132357</br></br>h_a: 0.0</br>situation: 2.0</br>shotType: 0.0</br>lastAction: 0.0</br>minute: 3</br>distanceToGoal: 9.53310076709881</br>_original_yhat_: 0.07</br>"
          ],
          [
           "</br>id: 1833</br>prediction: 0.26</br>angleToGoal: 75.88450429911316</br></br>h_a: 0.0</br>situation: 2.0</br>shotType: 0.0</br>lastAction: 0.0</br>minute: 3</br>distanceToGoal: 9.53310076709881</br>_original_yhat_: 0.07</br>"
          ],
          [
           "</br>id: 1833</br>prediction: 0.26</br>angleToGoal: 76.75865750690275</br></br>h_a: 0.0</br>situation: 2.0</br>shotType: 0.0</br>lastAction: 0.0</br>minute: 3</br>distanceToGoal: 9.53310076709881</br>_original_yhat_: 0.07</br>"
          ],
          [
           "</br>id: 1833</br>prediction: 0.26</br>angleToGoal: 77.63281071469234</br></br>h_a: 0.0</br>situation: 2.0</br>shotType: 0.0</br>lastAction: 0.0</br>minute: 3</br>distanceToGoal: 9.53310076709881</br>_original_yhat_: 0.07</br>"
          ],
          [
           "</br>id: 1833</br>prediction: 0.26</br>angleToGoal: 78.50696392248193</br></br>h_a: 0.0</br>situation: 2.0</br>shotType: 0.0</br>lastAction: 0.0</br>minute: 3</br>distanceToGoal: 9.53310076709881</br>_original_yhat_: 0.07</br>"
          ],
          [
           "</br>id: 1833</br>prediction: 0.26</br>angleToGoal: 79.38111713027152</br></br>h_a: 0.0</br>situation: 2.0</br>shotType: 0.0</br>lastAction: 0.0</br>minute: 3</br>distanceToGoal: 9.53310076709881</br>_original_yhat_: 0.07</br>"
          ],
          [
           "</br>id: 1833</br>prediction: 0.26</br>angleToGoal: 80.25527033806111</br></br>h_a: 0.0</br>situation: 2.0</br>shotType: 0.0</br>lastAction: 0.0</br>minute: 3</br>distanceToGoal: 9.53310076709881</br>_original_yhat_: 0.07</br>"
          ],
          [
           "</br>id: 1833</br>prediction: 0.26</br>angleToGoal: 81.1294235458507</br></br>h_a: 0.0</br>situation: 2.0</br>shotType: 0.0</br>lastAction: 0.0</br>minute: 3</br>distanceToGoal: 9.53310076709881</br>_original_yhat_: 0.07</br>"
          ],
          [
           "</br>id: 1833</br>prediction: 0.26</br>angleToGoal: 82.00357675364029</br></br>h_a: 0.0</br>situation: 2.0</br>shotType: 0.0</br>lastAction: 0.0</br>minute: 3</br>distanceToGoal: 9.53310076709881</br>_original_yhat_: 0.07</br>"
          ],
          [
           "</br>id: 1833</br>prediction: 0.25</br>angleToGoal: 82.87772996142988</br></br>h_a: 0.0</br>situation: 2.0</br>shotType: 0.0</br>lastAction: 0.0</br>minute: 3</br>distanceToGoal: 9.53310076709881</br>_original_yhat_: 0.07</br>"
          ],
          [
           "</br>id: 1833</br>prediction: 0.23</br>angleToGoal: 83.75188316921947</br></br>h_a: 0.0</br>situation: 2.0</br>shotType: 0.0</br>lastAction: 0.0</br>minute: 3</br>distanceToGoal: 9.53310076709881</br>_original_yhat_: 0.07</br>"
          ],
          [
           "</br>id: 1833</br>prediction: 0.23</br>angleToGoal: 84.62603637700906</br></br>h_a: 0.0</br>situation: 2.0</br>shotType: 0.0</br>lastAction: 0.0</br>minute: 3</br>distanceToGoal: 9.53310076709881</br>_original_yhat_: 0.07</br>"
          ],
          [
           "</br>id: 1833</br>prediction: 0.24</br>angleToGoal: 85.50018958479865</br></br>h_a: 0.0</br>situation: 2.0</br>shotType: 0.0</br>lastAction: 0.0</br>minute: 3</br>distanceToGoal: 9.53310076709881</br>_original_yhat_: 0.07</br>"
          ],
          [
           "</br>id: 1833</br>prediction: 0.24</br>angleToGoal: 86.37434279258824</br></br>h_a: 0.0</br>situation: 2.0</br>shotType: 0.0</br>lastAction: 0.0</br>minute: 3</br>distanceToGoal: 9.53310076709881</br>_original_yhat_: 0.07</br>"
          ],
          [
           "</br>id: 1833</br>prediction: 0.24</br>angleToGoal: 87.24849600037783</br></br>h_a: 0.0</br>situation: 2.0</br>shotType: 0.0</br>lastAction: 0.0</br>minute: 3</br>distanceToGoal: 9.53310076709881</br>_original_yhat_: 0.07</br>"
          ],
          [
           "</br>id: 1833</br>prediction: 0.24</br>angleToGoal: 88.12264920816742</br></br>h_a: 0.0</br>situation: 2.0</br>shotType: 0.0</br>lastAction: 0.0</br>minute: 3</br>distanceToGoal: 9.53310076709881</br>_original_yhat_: 0.07</br>"
          ],
          [
           "</br>id: 1833</br>prediction: 0.23</br>angleToGoal: 88.996802415957</br></br>h_a: 0.0</br>situation: 2.0</br>shotType: 0.0</br>lastAction: 0.0</br>minute: 3</br>distanceToGoal: 9.53310076709881</br>_original_yhat_: 0.07</br>"
          ],
          [
           "</br>id: 1833</br>prediction: 0.23</br>angleToGoal: 89.8709556237466</br></br>h_a: 0.0</br>situation: 2.0</br>shotType: 0.0</br>lastAction: 0.0</br>minute: 3</br>distanceToGoal: 9.53310076709881</br>_original_yhat_: 0.07</br>"
          ]
         ],
         "hovertemplate": "%{customdata[0]}<extra></extra>",
         "legendgroup": "Random Forest",
         "line": {
          "color": "#f05a71",
          "dash": "solid",
          "width": 2
         },
         "marker": {
          "symbol": "circle"
         },
         "mode": "lines",
         "name": "Random Forest",
         "opacity": 1,
         "showlegend": false,
         "type": "scattergl",
         "x": [
          2.45563484478765,
          3.329788052577239,
          4.203941260366829,
          5.078094468156419,
          5.9522476759460075,
          6.826400883735596,
          7.700554091525186,
          8.574707299314776,
          9.448860507104365,
          10.323013714893955,
          11.197166922683543,
          12.071320130473133,
          12.945473338262723,
          13.819626546052312,
          14.6937797538419,
          15.56793296163149,
          16.44208616942108,
          17.31623937721067,
          18.19039258500026,
          19.064545792789847,
          19.938699000579437,
          20.812852208369026,
          21.687005416158616,
          22.561158623948206,
          23.435311831737796,
          24.309465039527385,
          25.183618247316975,
          26.05777145510656,
          26.93192466289615,
          27.80607787068574,
          28.68023107847533,
          29.55438428626492,
          30.42853749405451,
          31.3026907018441,
          32.17684390963369,
          33.05099711742328,
          33.92515032521287,
          34.79930353300246,
          35.67345674079205,
          36.54760994858164,
          37.42176315637123,
          38.29591636416082,
          39.17006957195041,
          40.04422277974,
          40.4664837945122,
          40.918375987529586,
          41.792529195319176,
          42.666682403108766,
          43.540835610898355,
          44.414988818687945,
          45.289142026477535,
          46.163295234267125,
          47.037448442056714,
          47.911601649846304,
          48.785754857635894,
          49.659908065425476,
          50.534061273215066,
          51.408214481004656,
          52.282367688794245,
          53.156520896583835,
          54.030674104373425,
          54.904827312163015,
          55.778980519952604,
          56.653133727742194,
          57.527286935531784,
          58.40144014332137,
          59.27559335111096,
          60.14974655890055,
          61.02389976669014,
          61.89805297447973,
          62.77220618226932,
          63.64635939005891,
          64.5205125978485,
          65.39466580563808,
          66.26881901342767,
          67.14297222121726,
          68.01712542900685,
          68.89127863679644,
          69.76543184458603,
          70.63958505237562,
          71.51373826016521,
          72.3878914679548,
          73.26204467574439,
          74.13619788353398,
          75.01035109132357,
          75.88450429911316,
          76.75865750690275,
          77.63281071469234,
          78.50696392248193,
          79.38111713027152,
          80.25527033806111,
          81.1294235458507,
          82.00357675364029,
          82.87772996142988,
          83.75188316921947,
          84.62603637700906,
          85.50018958479865,
          86.37434279258824,
          87.24849600037783,
          88.12264920816742,
          88.996802415957,
          89.8709556237466
         ],
         "xaxis": "x",
         "y": [
          0.16,
          0.16,
          0.17,
          0.15,
          0.08,
          0.05,
          0.04,
          0.04,
          0.04,
          0.04,
          0.04,
          0.04,
          0.03,
          0.03,
          0.04,
          0.05,
          0.02,
          0.05,
          0.05,
          0.02,
          0.01,
          0.01,
          0,
          0,
          0.01,
          0.01,
          0.01,
          0,
          0,
          0,
          0,
          0,
          0,
          0.01,
          0,
          0,
          0.03,
          0.04,
          0.02,
          0.02,
          0.01,
          0.04,
          0.04,
          0.1,
          0.07,
          0.1,
          0.17,
          0.28,
          0.32,
          0.29,
          0.3,
          0.29,
          0.27,
          0.27,
          0.24,
          0.24,
          0.28,
          0.26,
          0.26,
          0.27,
          0.27,
          0.26,
          0.26,
          0.24,
          0.24,
          0.24,
          0.24,
          0.24,
          0.25,
          0.28,
          0.29,
          0.28,
          0.28,
          0.28,
          0.27,
          0.27,
          0.27,
          0.26,
          0.26,
          0.26,
          0.27,
          0.27,
          0.27,
          0.26,
          0.26,
          0.26,
          0.26,
          0.26,
          0.26,
          0.26,
          0.26,
          0.26,
          0.26,
          0.25,
          0.23,
          0.23,
          0.24,
          0.24,
          0.24,
          0.24,
          0.23,
          0.23
         ],
         "yaxis": "y"
        },
        {
         "customdata": [
          [
           "</br>id: 1833</br>prediction: 0.075</br>h_a: 0.0</br></br>situation: 2.0</br>shotType: 0.0</br>lastAction: 0.0</br>minute: 3</br>distanceToGoal: 9.53310076709881</br>angleToGoal: 40.4664837945122</br>_original_yhat_: 0.07474706388596017</br>"
          ],
          [
           "</br>id: 1833</br>prediction: 0.075</br>h_a: 0.01</br></br>situation: 2.0</br>shotType: 0.0</br>lastAction: 0.0</br>minute: 3</br>distanceToGoal: 9.53310076709881</br>angleToGoal: 40.4664837945122</br>_original_yhat_: 0.07474706388596017</br>"
          ],
          [
           "</br>id: 1833</br>prediction: 0.075</br>h_a: 0.02</br></br>situation: 2.0</br>shotType: 0.0</br>lastAction: 0.0</br>minute: 3</br>distanceToGoal: 9.53310076709881</br>angleToGoal: 40.4664837945122</br>_original_yhat_: 0.07474706388596017</br>"
          ],
          [
           "</br>id: 1833</br>prediction: 0.075</br>h_a: 0.03</br></br>situation: 2.0</br>shotType: 0.0</br>lastAction: 0.0</br>minute: 3</br>distanceToGoal: 9.53310076709881</br>angleToGoal: 40.4664837945122</br>_original_yhat_: 0.07474706388596017</br>"
          ],
          [
           "</br>id: 1833</br>prediction: 0.074</br>h_a: 0.04</br></br>situation: 2.0</br>shotType: 0.0</br>lastAction: 0.0</br>minute: 3</br>distanceToGoal: 9.53310076709881</br>angleToGoal: 40.4664837945122</br>_original_yhat_: 0.07474706388596017</br>"
          ],
          [
           "</br>id: 1833</br>prediction: 0.074</br>h_a: 0.05</br></br>situation: 2.0</br>shotType: 0.0</br>lastAction: 0.0</br>minute: 3</br>distanceToGoal: 9.53310076709881</br>angleToGoal: 40.4664837945122</br>_original_yhat_: 0.07474706388596017</br>"
          ],
          [
           "</br>id: 1833</br>prediction: 0.074</br>h_a: 0.06</br></br>situation: 2.0</br>shotType: 0.0</br>lastAction: 0.0</br>minute: 3</br>distanceToGoal: 9.53310076709881</br>angleToGoal: 40.4664837945122</br>_original_yhat_: 0.07474706388596017</br>"
          ],
          [
           "</br>id: 1833</br>prediction: 0.074</br>h_a: 0.07</br></br>situation: 2.0</br>shotType: 0.0</br>lastAction: 0.0</br>minute: 3</br>distanceToGoal: 9.53310076709881</br>angleToGoal: 40.4664837945122</br>_original_yhat_: 0.07474706388596017</br>"
          ],
          [
           "</br>id: 1833</br>prediction: 0.074</br>h_a: 0.08</br></br>situation: 2.0</br>shotType: 0.0</br>lastAction: 0.0</br>minute: 3</br>distanceToGoal: 9.53310076709881</br>angleToGoal: 40.4664837945122</br>_original_yhat_: 0.07474706388596017</br>"
          ],
          [
           "</br>id: 1833</br>prediction: 0.074</br>h_a: 0.09</br></br>situation: 2.0</br>shotType: 0.0</br>lastAction: 0.0</br>minute: 3</br>distanceToGoal: 9.53310076709881</br>angleToGoal: 40.4664837945122</br>_original_yhat_: 0.07474706388596017</br>"
          ],
          [
           "</br>id: 1833</br>prediction: 0.074</br>h_a: 0.1</br></br>situation: 2.0</br>shotType: 0.0</br>lastAction: 0.0</br>minute: 3</br>distanceToGoal: 9.53310076709881</br>angleToGoal: 40.4664837945122</br>_original_yhat_: 0.07474706388596017</br>"
          ],
          [
           "</br>id: 1833</br>prediction: 0.074</br>h_a: 0.11</br></br>situation: 2.0</br>shotType: 0.0</br>lastAction: 0.0</br>minute: 3</br>distanceToGoal: 9.53310076709881</br>angleToGoal: 40.4664837945122</br>_original_yhat_: 0.07474706388596017</br>"
          ],
          [
           "</br>id: 1833</br>prediction: 0.074</br>h_a: 0.12</br></br>situation: 2.0</br>shotType: 0.0</br>lastAction: 0.0</br>minute: 3</br>distanceToGoal: 9.53310076709881</br>angleToGoal: 40.4664837945122</br>_original_yhat_: 0.07474706388596017</br>"
          ],
          [
           "</br>id: 1833</br>prediction: 0.074</br>h_a: 0.13</br></br>situation: 2.0</br>shotType: 0.0</br>lastAction: 0.0</br>minute: 3</br>distanceToGoal: 9.53310076709881</br>angleToGoal: 40.4664837945122</br>_original_yhat_: 0.07474706388596017</br>"
          ],
          [
           "</br>id: 1833</br>prediction: 0.074</br>h_a: 0.14</br></br>situation: 2.0</br>shotType: 0.0</br>lastAction: 0.0</br>minute: 3</br>distanceToGoal: 9.53310076709881</br>angleToGoal: 40.4664837945122</br>_original_yhat_: 0.07474706388596017</br>"
          ],
          [
           "</br>id: 1833</br>prediction: 0.074</br>h_a: 0.15</br></br>situation: 2.0</br>shotType: 0.0</br>lastAction: 0.0</br>minute: 3</br>distanceToGoal: 9.53310076709881</br>angleToGoal: 40.4664837945122</br>_original_yhat_: 0.07474706388596017</br>"
          ],
          [
           "</br>id: 1833</br>prediction: 0.074</br>h_a: 0.16</br></br>situation: 2.0</br>shotType: 0.0</br>lastAction: 0.0</br>minute: 3</br>distanceToGoal: 9.53310076709881</br>angleToGoal: 40.4664837945122</br>_original_yhat_: 0.07474706388596017</br>"
          ],
          [
           "</br>id: 1833</br>prediction: 0.073</br>h_a: 0.17</br></br>situation: 2.0</br>shotType: 0.0</br>lastAction: 0.0</br>minute: 3</br>distanceToGoal: 9.53310076709881</br>angleToGoal: 40.4664837945122</br>_original_yhat_: 0.07474706388596017</br>"
          ],
          [
           "</br>id: 1833</br>prediction: 0.073</br>h_a: 0.18</br></br>situation: 2.0</br>shotType: 0.0</br>lastAction: 0.0</br>minute: 3</br>distanceToGoal: 9.53310076709881</br>angleToGoal: 40.4664837945122</br>_original_yhat_: 0.07474706388596017</br>"
          ],
          [
           "</br>id: 1833</br>prediction: 0.073</br>h_a: 0.19</br></br>situation: 2.0</br>shotType: 0.0</br>lastAction: 0.0</br>minute: 3</br>distanceToGoal: 9.53310076709881</br>angleToGoal: 40.4664837945122</br>_original_yhat_: 0.07474706388596017</br>"
          ],
          [
           "</br>id: 1833</br>prediction: 0.073</br>h_a: 0.2</br></br>situation: 2.0</br>shotType: 0.0</br>lastAction: 0.0</br>minute: 3</br>distanceToGoal: 9.53310076709881</br>angleToGoal: 40.4664837945122</br>_original_yhat_: 0.07474706388596017</br>"
          ],
          [
           "</br>id: 1833</br>prediction: 0.073</br>h_a: 0.21</br></br>situation: 2.0</br>shotType: 0.0</br>lastAction: 0.0</br>minute: 3</br>distanceToGoal: 9.53310076709881</br>angleToGoal: 40.4664837945122</br>_original_yhat_: 0.07474706388596017</br>"
          ],
          [
           "</br>id: 1833</br>prediction: 0.073</br>h_a: 0.22</br></br>situation: 2.0</br>shotType: 0.0</br>lastAction: 0.0</br>minute: 3</br>distanceToGoal: 9.53310076709881</br>angleToGoal: 40.4664837945122</br>_original_yhat_: 0.07474706388596017</br>"
          ],
          [
           "</br>id: 1833</br>prediction: 0.073</br>h_a: 0.23</br></br>situation: 2.0</br>shotType: 0.0</br>lastAction: 0.0</br>minute: 3</br>distanceToGoal: 9.53310076709881</br>angleToGoal: 40.4664837945122</br>_original_yhat_: 0.07474706388596017</br>"
          ],
          [
           "</br>id: 1833</br>prediction: 0.073</br>h_a: 0.24</br></br>situation: 2.0</br>shotType: 0.0</br>lastAction: 0.0</br>minute: 3</br>distanceToGoal: 9.53310076709881</br>angleToGoal: 40.4664837945122</br>_original_yhat_: 0.07474706388596017</br>"
          ],
          [
           "</br>id: 1833</br>prediction: 0.073</br>h_a: 0.25</br></br>situation: 2.0</br>shotType: 0.0</br>lastAction: 0.0</br>minute: 3</br>distanceToGoal: 9.53310076709881</br>angleToGoal: 40.4664837945122</br>_original_yhat_: 0.07474706388596017</br>"
          ],
          [
           "</br>id: 1833</br>prediction: 0.073</br>h_a: 0.26</br></br>situation: 2.0</br>shotType: 0.0</br>lastAction: 0.0</br>minute: 3</br>distanceToGoal: 9.53310076709881</br>angleToGoal: 40.4664837945122</br>_original_yhat_: 0.07474706388596017</br>"
          ],
          [
           "</br>id: 1833</br>prediction: 0.073</br>h_a: 0.27</br></br>situation: 2.0</br>shotType: 0.0</br>lastAction: 0.0</br>minute: 3</br>distanceToGoal: 9.53310076709881</br>angleToGoal: 40.4664837945122</br>_original_yhat_: 0.07474706388596017</br>"
          ],
          [
           "</br>id: 1833</br>prediction: 0.073</br>h_a: 0.28</br></br>situation: 2.0</br>shotType: 0.0</br>lastAction: 0.0</br>minute: 3</br>distanceToGoal: 9.53310076709881</br>angleToGoal: 40.4664837945122</br>_original_yhat_: 0.07474706388596017</br>"
          ],
          [
           "</br>id: 1833</br>prediction: 0.073</br>h_a: 0.29</br></br>situation: 2.0</br>shotType: 0.0</br>lastAction: 0.0</br>minute: 3</br>distanceToGoal: 9.53310076709881</br>angleToGoal: 40.4664837945122</br>_original_yhat_: 0.07474706388596017</br>"
          ],
          [
           "</br>id: 1833</br>prediction: 0.073</br>h_a: 0.3</br></br>situation: 2.0</br>shotType: 0.0</br>lastAction: 0.0</br>minute: 3</br>distanceToGoal: 9.53310076709881</br>angleToGoal: 40.4664837945122</br>_original_yhat_: 0.07474706388596017</br>"
          ],
          [
           "</br>id: 1833</br>prediction: 0.072</br>h_a: 0.31</br></br>situation: 2.0</br>shotType: 0.0</br>lastAction: 0.0</br>minute: 3</br>distanceToGoal: 9.53310076709881</br>angleToGoal: 40.4664837945122</br>_original_yhat_: 0.07474706388596017</br>"
          ],
          [
           "</br>id: 1833</br>prediction: 0.072</br>h_a: 0.32</br></br>situation: 2.0</br>shotType: 0.0</br>lastAction: 0.0</br>minute: 3</br>distanceToGoal: 9.53310076709881</br>angleToGoal: 40.4664837945122</br>_original_yhat_: 0.07474706388596017</br>"
          ],
          [
           "</br>id: 1833</br>prediction: 0.072</br>h_a: 0.33</br></br>situation: 2.0</br>shotType: 0.0</br>lastAction: 0.0</br>minute: 3</br>distanceToGoal: 9.53310076709881</br>angleToGoal: 40.4664837945122</br>_original_yhat_: 0.07474706388596017</br>"
          ],
          [
           "</br>id: 1833</br>prediction: 0.072</br>h_a: 0.34</br></br>situation: 2.0</br>shotType: 0.0</br>lastAction: 0.0</br>minute: 3</br>distanceToGoal: 9.53310076709881</br>angleToGoal: 40.4664837945122</br>_original_yhat_: 0.07474706388596017</br>"
          ],
          [
           "</br>id: 1833</br>prediction: 0.072</br>h_a: 0.35000000000000003</br></br>situation: 2.0</br>shotType: 0.0</br>lastAction: 0.0</br>minute: 3</br>distanceToGoal: 9.53310076709881</br>angleToGoal: 40.4664837945122</br>_original_yhat_: 0.07474706388596017</br>"
          ],
          [
           "</br>id: 1833</br>prediction: 0.072</br>h_a: 0.36</br></br>situation: 2.0</br>shotType: 0.0</br>lastAction: 0.0</br>minute: 3</br>distanceToGoal: 9.53310076709881</br>angleToGoal: 40.4664837945122</br>_original_yhat_: 0.07474706388596017</br>"
          ],
          [
           "</br>id: 1833</br>prediction: 0.072</br>h_a: 0.37</br></br>situation: 2.0</br>shotType: 0.0</br>lastAction: 0.0</br>minute: 3</br>distanceToGoal: 9.53310076709881</br>angleToGoal: 40.4664837945122</br>_original_yhat_: 0.07474706388596017</br>"
          ],
          [
           "</br>id: 1833</br>prediction: 0.072</br>h_a: 0.38</br></br>situation: 2.0</br>shotType: 0.0</br>lastAction: 0.0</br>minute: 3</br>distanceToGoal: 9.53310076709881</br>angleToGoal: 40.4664837945122</br>_original_yhat_: 0.07474706388596017</br>"
          ],
          [
           "</br>id: 1833</br>prediction: 0.072</br>h_a: 0.39</br></br>situation: 2.0</br>shotType: 0.0</br>lastAction: 0.0</br>minute: 3</br>distanceToGoal: 9.53310076709881</br>angleToGoal: 40.4664837945122</br>_original_yhat_: 0.07474706388596017</br>"
          ],
          [
           "</br>id: 1833</br>prediction: 0.072</br>h_a: 0.4</br></br>situation: 2.0</br>shotType: 0.0</br>lastAction: 0.0</br>minute: 3</br>distanceToGoal: 9.53310076709881</br>angleToGoal: 40.4664837945122</br>_original_yhat_: 0.07474706388596017</br>"
          ],
          [
           "</br>id: 1833</br>prediction: 0.072</br>h_a: 0.41000000000000003</br></br>situation: 2.0</br>shotType: 0.0</br>lastAction: 0.0</br>minute: 3</br>distanceToGoal: 9.53310076709881</br>angleToGoal: 40.4664837945122</br>_original_yhat_: 0.07474706388596017</br>"
          ],
          [
           "</br>id: 1833</br>prediction: 0.072</br>h_a: 0.42</br></br>situation: 2.0</br>shotType: 0.0</br>lastAction: 0.0</br>minute: 3</br>distanceToGoal: 9.53310076709881</br>angleToGoal: 40.4664837945122</br>_original_yhat_: 0.07474706388596017</br>"
          ],
          [
           "</br>id: 1833</br>prediction: 0.072</br>h_a: 0.43</br></br>situation: 2.0</br>shotType: 0.0</br>lastAction: 0.0</br>minute: 3</br>distanceToGoal: 9.53310076709881</br>angleToGoal: 40.4664837945122</br>_original_yhat_: 0.07474706388596017</br>"
          ],
          [
           "</br>id: 1833</br>prediction: 0.072</br>h_a: 0.44</br></br>situation: 2.0</br>shotType: 0.0</br>lastAction: 0.0</br>minute: 3</br>distanceToGoal: 9.53310076709881</br>angleToGoal: 40.4664837945122</br>_original_yhat_: 0.07474706388596017</br>"
          ],
          [
           "</br>id: 1833</br>prediction: 0.071</br>h_a: 0.45</br></br>situation: 2.0</br>shotType: 0.0</br>lastAction: 0.0</br>minute: 3</br>distanceToGoal: 9.53310076709881</br>angleToGoal: 40.4664837945122</br>_original_yhat_: 0.07474706388596017</br>"
          ],
          [
           "</br>id: 1833</br>prediction: 0.071</br>h_a: 0.46</br></br>situation: 2.0</br>shotType: 0.0</br>lastAction: 0.0</br>minute: 3</br>distanceToGoal: 9.53310076709881</br>angleToGoal: 40.4664837945122</br>_original_yhat_: 0.07474706388596017</br>"
          ],
          [
           "</br>id: 1833</br>prediction: 0.071</br>h_a: 0.47000000000000003</br></br>situation: 2.0</br>shotType: 0.0</br>lastAction: 0.0</br>minute: 3</br>distanceToGoal: 9.53310076709881</br>angleToGoal: 40.4664837945122</br>_original_yhat_: 0.07474706388596017</br>"
          ],
          [
           "</br>id: 1833</br>prediction: 0.071</br>h_a: 0.48</br></br>situation: 2.0</br>shotType: 0.0</br>lastAction: 0.0</br>minute: 3</br>distanceToGoal: 9.53310076709881</br>angleToGoal: 40.4664837945122</br>_original_yhat_: 0.07474706388596017</br>"
          ],
          [
           "</br>id: 1833</br>prediction: 0.071</br>h_a: 0.49</br></br>situation: 2.0</br>shotType: 0.0</br>lastAction: 0.0</br>minute: 3</br>distanceToGoal: 9.53310076709881</br>angleToGoal: 40.4664837945122</br>_original_yhat_: 0.07474706388596017</br>"
          ],
          [
           "</br>id: 1833</br>prediction: 0.071</br>h_a: 0.5</br></br>situation: 2.0</br>shotType: 0.0</br>lastAction: 0.0</br>minute: 3</br>distanceToGoal: 9.53310076709881</br>angleToGoal: 40.4664837945122</br>_original_yhat_: 0.07474706388596017</br>"
          ],
          [
           "</br>id: 1833</br>prediction: 0.071</br>h_a: 0.51</br></br>situation: 2.0</br>shotType: 0.0</br>lastAction: 0.0</br>minute: 3</br>distanceToGoal: 9.53310076709881</br>angleToGoal: 40.4664837945122</br>_original_yhat_: 0.07474706388596017</br>"
          ],
          [
           "</br>id: 1833</br>prediction: 0.071</br>h_a: 0.52</br></br>situation: 2.0</br>shotType: 0.0</br>lastAction: 0.0</br>minute: 3</br>distanceToGoal: 9.53310076709881</br>angleToGoal: 40.4664837945122</br>_original_yhat_: 0.07474706388596017</br>"
          ],
          [
           "</br>id: 1833</br>prediction: 0.071</br>h_a: 0.53</br></br>situation: 2.0</br>shotType: 0.0</br>lastAction: 0.0</br>minute: 3</br>distanceToGoal: 9.53310076709881</br>angleToGoal: 40.4664837945122</br>_original_yhat_: 0.07474706388596017</br>"
          ],
          [
           "</br>id: 1833</br>prediction: 0.071</br>h_a: 0.54</br></br>situation: 2.0</br>shotType: 0.0</br>lastAction: 0.0</br>minute: 3</br>distanceToGoal: 9.53310076709881</br>angleToGoal: 40.4664837945122</br>_original_yhat_: 0.07474706388596017</br>"
          ],
          [
           "</br>id: 1833</br>prediction: 0.071</br>h_a: 0.55</br></br>situation: 2.0</br>shotType: 0.0</br>lastAction: 0.0</br>minute: 3</br>distanceToGoal: 9.53310076709881</br>angleToGoal: 40.4664837945122</br>_original_yhat_: 0.07474706388596017</br>"
          ],
          [
           "</br>id: 1833</br>prediction: 0.071</br>h_a: 0.56</br></br>situation: 2.0</br>shotType: 0.0</br>lastAction: 0.0</br>minute: 3</br>distanceToGoal: 9.53310076709881</br>angleToGoal: 40.4664837945122</br>_original_yhat_: 0.07474706388596017</br>"
          ],
          [
           "</br>id: 1833</br>prediction: 0.071</br>h_a: 0.5700000000000001</br></br>situation: 2.0</br>shotType: 0.0</br>lastAction: 0.0</br>minute: 3</br>distanceToGoal: 9.53310076709881</br>angleToGoal: 40.4664837945122</br>_original_yhat_: 0.07474706388596017</br>"
          ],
          [
           "</br>id: 1833</br>prediction: 0.071</br>h_a: 0.58</br></br>situation: 2.0</br>shotType: 0.0</br>lastAction: 0.0</br>minute: 3</br>distanceToGoal: 9.53310076709881</br>angleToGoal: 40.4664837945122</br>_original_yhat_: 0.07474706388596017</br>"
          ],
          [
           "</br>id: 1833</br>prediction: 0.07</br>h_a: 0.59</br></br>situation: 2.0</br>shotType: 0.0</br>lastAction: 0.0</br>minute: 3</br>distanceToGoal: 9.53310076709881</br>angleToGoal: 40.4664837945122</br>_original_yhat_: 0.07474706388596017</br>"
          ],
          [
           "</br>id: 1833</br>prediction: 0.07</br>h_a: 0.6</br></br>situation: 2.0</br>shotType: 0.0</br>lastAction: 0.0</br>minute: 3</br>distanceToGoal: 9.53310076709881</br>angleToGoal: 40.4664837945122</br>_original_yhat_: 0.07474706388596017</br>"
          ],
          [
           "</br>id: 1833</br>prediction: 0.07</br>h_a: 0.61</br></br>situation: 2.0</br>shotType: 0.0</br>lastAction: 0.0</br>minute: 3</br>distanceToGoal: 9.53310076709881</br>angleToGoal: 40.4664837945122</br>_original_yhat_: 0.07474706388596017</br>"
          ],
          [
           "</br>id: 1833</br>prediction: 0.07</br>h_a: 0.62</br></br>situation: 2.0</br>shotType: 0.0</br>lastAction: 0.0</br>minute: 3</br>distanceToGoal: 9.53310076709881</br>angleToGoal: 40.4664837945122</br>_original_yhat_: 0.07474706388596017</br>"
          ],
          [
           "</br>id: 1833</br>prediction: 0.07</br>h_a: 0.63</br></br>situation: 2.0</br>shotType: 0.0</br>lastAction: 0.0</br>minute: 3</br>distanceToGoal: 9.53310076709881</br>angleToGoal: 40.4664837945122</br>_original_yhat_: 0.07474706388596017</br>"
          ],
          [
           "</br>id: 1833</br>prediction: 0.07</br>h_a: 0.64</br></br>situation: 2.0</br>shotType: 0.0</br>lastAction: 0.0</br>minute: 3</br>distanceToGoal: 9.53310076709881</br>angleToGoal: 40.4664837945122</br>_original_yhat_: 0.07474706388596017</br>"
          ],
          [
           "</br>id: 1833</br>prediction: 0.07</br>h_a: 0.65</br></br>situation: 2.0</br>shotType: 0.0</br>lastAction: 0.0</br>minute: 3</br>distanceToGoal: 9.53310076709881</br>angleToGoal: 40.4664837945122</br>_original_yhat_: 0.07474706388596017</br>"
          ],
          [
           "</br>id: 1833</br>prediction: 0.07</br>h_a: 0.66</br></br>situation: 2.0</br>shotType: 0.0</br>lastAction: 0.0</br>minute: 3</br>distanceToGoal: 9.53310076709881</br>angleToGoal: 40.4664837945122</br>_original_yhat_: 0.07474706388596017</br>"
          ],
          [
           "</br>id: 1833</br>prediction: 0.07</br>h_a: 0.67</br></br>situation: 2.0</br>shotType: 0.0</br>lastAction: 0.0</br>minute: 3</br>distanceToGoal: 9.53310076709881</br>angleToGoal: 40.4664837945122</br>_original_yhat_: 0.07474706388596017</br>"
          ],
          [
           "</br>id: 1833</br>prediction: 0.07</br>h_a: 0.68</br></br>situation: 2.0</br>shotType: 0.0</br>lastAction: 0.0</br>minute: 3</br>distanceToGoal: 9.53310076709881</br>angleToGoal: 40.4664837945122</br>_original_yhat_: 0.07474706388596017</br>"
          ],
          [
           "</br>id: 1833</br>prediction: 0.07</br>h_a: 0.6900000000000001</br></br>situation: 2.0</br>shotType: 0.0</br>lastAction: 0.0</br>minute: 3</br>distanceToGoal: 9.53310076709881</br>angleToGoal: 40.4664837945122</br>_original_yhat_: 0.07474706388596017</br>"
          ],
          [
           "</br>id: 1833</br>prediction: 0.07</br>h_a: 0.7000000000000001</br></br>situation: 2.0</br>shotType: 0.0</br>lastAction: 0.0</br>minute: 3</br>distanceToGoal: 9.53310076709881</br>angleToGoal: 40.4664837945122</br>_original_yhat_: 0.07474706388596017</br>"
          ],
          [
           "</br>id: 1833</br>prediction: 0.07</br>h_a: 0.71</br></br>situation: 2.0</br>shotType: 0.0</br>lastAction: 0.0</br>minute: 3</br>distanceToGoal: 9.53310076709881</br>angleToGoal: 40.4664837945122</br>_original_yhat_: 0.07474706388596017</br>"
          ],
          [
           "</br>id: 1833</br>prediction: 0.07</br>h_a: 0.72</br></br>situation: 2.0</br>shotType: 0.0</br>lastAction: 0.0</br>minute: 3</br>distanceToGoal: 9.53310076709881</br>angleToGoal: 40.4664837945122</br>_original_yhat_: 0.07474706388596017</br>"
          ],
          [
           "</br>id: 1833</br>prediction: 0.069</br>h_a: 0.73</br></br>situation: 2.0</br>shotType: 0.0</br>lastAction: 0.0</br>minute: 3</br>distanceToGoal: 9.53310076709881</br>angleToGoal: 40.4664837945122</br>_original_yhat_: 0.07474706388596017</br>"
          ],
          [
           "</br>id: 1833</br>prediction: 0.069</br>h_a: 0.74</br></br>situation: 2.0</br>shotType: 0.0</br>lastAction: 0.0</br>minute: 3</br>distanceToGoal: 9.53310076709881</br>angleToGoal: 40.4664837945122</br>_original_yhat_: 0.07474706388596017</br>"
          ],
          [
           "</br>id: 1833</br>prediction: 0.069</br>h_a: 0.75</br></br>situation: 2.0</br>shotType: 0.0</br>lastAction: 0.0</br>minute: 3</br>distanceToGoal: 9.53310076709881</br>angleToGoal: 40.4664837945122</br>_original_yhat_: 0.07474706388596017</br>"
          ],
          [
           "</br>id: 1833</br>prediction: 0.069</br>h_a: 0.76</br></br>situation: 2.0</br>shotType: 0.0</br>lastAction: 0.0</br>minute: 3</br>distanceToGoal: 9.53310076709881</br>angleToGoal: 40.4664837945122</br>_original_yhat_: 0.07474706388596017</br>"
          ],
          [
           "</br>id: 1833</br>prediction: 0.069</br>h_a: 0.77</br></br>situation: 2.0</br>shotType: 0.0</br>lastAction: 0.0</br>minute: 3</br>distanceToGoal: 9.53310076709881</br>angleToGoal: 40.4664837945122</br>_original_yhat_: 0.07474706388596017</br>"
          ],
          [
           "</br>id: 1833</br>prediction: 0.069</br>h_a: 0.78</br></br>situation: 2.0</br>shotType: 0.0</br>lastAction: 0.0</br>minute: 3</br>distanceToGoal: 9.53310076709881</br>angleToGoal: 40.4664837945122</br>_original_yhat_: 0.07474706388596017</br>"
          ],
          [
           "</br>id: 1833</br>prediction: 0.069</br>h_a: 0.79</br></br>situation: 2.0</br>shotType: 0.0</br>lastAction: 0.0</br>minute: 3</br>distanceToGoal: 9.53310076709881</br>angleToGoal: 40.4664837945122</br>_original_yhat_: 0.07474706388596017</br>"
          ],
          [
           "</br>id: 1833</br>prediction: 0.069</br>h_a: 0.8</br></br>situation: 2.0</br>shotType: 0.0</br>lastAction: 0.0</br>minute: 3</br>distanceToGoal: 9.53310076709881</br>angleToGoal: 40.4664837945122</br>_original_yhat_: 0.07474706388596017</br>"
          ],
          [
           "</br>id: 1833</br>prediction: 0.069</br>h_a: 0.81</br></br>situation: 2.0</br>shotType: 0.0</br>lastAction: 0.0</br>minute: 3</br>distanceToGoal: 9.53310076709881</br>angleToGoal: 40.4664837945122</br>_original_yhat_: 0.07474706388596017</br>"
          ],
          [
           "</br>id: 1833</br>prediction: 0.069</br>h_a: 0.8200000000000001</br></br>situation: 2.0</br>shotType: 0.0</br>lastAction: 0.0</br>minute: 3</br>distanceToGoal: 9.53310076709881</br>angleToGoal: 40.4664837945122</br>_original_yhat_: 0.07474706388596017</br>"
          ],
          [
           "</br>id: 1833</br>prediction: 0.069</br>h_a: 0.8300000000000001</br></br>situation: 2.0</br>shotType: 0.0</br>lastAction: 0.0</br>minute: 3</br>distanceToGoal: 9.53310076709881</br>angleToGoal: 40.4664837945122</br>_original_yhat_: 0.07474706388596017</br>"
          ],
          [
           "</br>id: 1833</br>prediction: 0.069</br>h_a: 0.84</br></br>situation: 2.0</br>shotType: 0.0</br>lastAction: 0.0</br>minute: 3</br>distanceToGoal: 9.53310076709881</br>angleToGoal: 40.4664837945122</br>_original_yhat_: 0.07474706388596017</br>"
          ],
          [
           "</br>id: 1833</br>prediction: 0.069</br>h_a: 0.85</br></br>situation: 2.0</br>shotType: 0.0</br>lastAction: 0.0</br>minute: 3</br>distanceToGoal: 9.53310076709881</br>angleToGoal: 40.4664837945122</br>_original_yhat_: 0.07474706388596017</br>"
          ],
          [
           "</br>id: 1833</br>prediction: 0.069</br>h_a: 0.86</br></br>situation: 2.0</br>shotType: 0.0</br>lastAction: 0.0</br>minute: 3</br>distanceToGoal: 9.53310076709881</br>angleToGoal: 40.4664837945122</br>_original_yhat_: 0.07474706388596017</br>"
          ],
          [
           "</br>id: 1833</br>prediction: 0.069</br>h_a: 0.87</br></br>situation: 2.0</br>shotType: 0.0</br>lastAction: 0.0</br>minute: 3</br>distanceToGoal: 9.53310076709881</br>angleToGoal: 40.4664837945122</br>_original_yhat_: 0.07474706388596017</br>"
          ],
          [
           "</br>id: 1833</br>prediction: 0.068</br>h_a: 0.88</br></br>situation: 2.0</br>shotType: 0.0</br>lastAction: 0.0</br>minute: 3</br>distanceToGoal: 9.53310076709881</br>angleToGoal: 40.4664837945122</br>_original_yhat_: 0.07474706388596017</br>"
          ],
          [
           "</br>id: 1833</br>prediction: 0.068</br>h_a: 0.89</br></br>situation: 2.0</br>shotType: 0.0</br>lastAction: 0.0</br>minute: 3</br>distanceToGoal: 9.53310076709881</br>angleToGoal: 40.4664837945122</br>_original_yhat_: 0.07474706388596017</br>"
          ],
          [
           "</br>id: 1833</br>prediction: 0.068</br>h_a: 0.9</br></br>situation: 2.0</br>shotType: 0.0</br>lastAction: 0.0</br>minute: 3</br>distanceToGoal: 9.53310076709881</br>angleToGoal: 40.4664837945122</br>_original_yhat_: 0.07474706388596017</br>"
          ],
          [
           "</br>id: 1833</br>prediction: 0.068</br>h_a: 0.91</br></br>situation: 2.0</br>shotType: 0.0</br>lastAction: 0.0</br>minute: 3</br>distanceToGoal: 9.53310076709881</br>angleToGoal: 40.4664837945122</br>_original_yhat_: 0.07474706388596017</br>"
          ],
          [
           "</br>id: 1833</br>prediction: 0.068</br>h_a: 0.92</br></br>situation: 2.0</br>shotType: 0.0</br>lastAction: 0.0</br>minute: 3</br>distanceToGoal: 9.53310076709881</br>angleToGoal: 40.4664837945122</br>_original_yhat_: 0.07474706388596017</br>"
          ],
          [
           "</br>id: 1833</br>prediction: 0.068</br>h_a: 0.93</br></br>situation: 2.0</br>shotType: 0.0</br>lastAction: 0.0</br>minute: 3</br>distanceToGoal: 9.53310076709881</br>angleToGoal: 40.4664837945122</br>_original_yhat_: 0.07474706388596017</br>"
          ],
          [
           "</br>id: 1833</br>prediction: 0.068</br>h_a: 0.9400000000000001</br></br>situation: 2.0</br>shotType: 0.0</br>lastAction: 0.0</br>minute: 3</br>distanceToGoal: 9.53310076709881</br>angleToGoal: 40.4664837945122</br>_original_yhat_: 0.07474706388596017</br>"
          ],
          [
           "</br>id: 1833</br>prediction: 0.068</br>h_a: 0.9500000000000001</br></br>situation: 2.0</br>shotType: 0.0</br>lastAction: 0.0</br>minute: 3</br>distanceToGoal: 9.53310076709881</br>angleToGoal: 40.4664837945122</br>_original_yhat_: 0.07474706388596017</br>"
          ],
          [
           "</br>id: 1833</br>prediction: 0.068</br>h_a: 0.96</br></br>situation: 2.0</br>shotType: 0.0</br>lastAction: 0.0</br>minute: 3</br>distanceToGoal: 9.53310076709881</br>angleToGoal: 40.4664837945122</br>_original_yhat_: 0.07474706388596017</br>"
          ],
          [
           "</br>id: 1833</br>prediction: 0.068</br>h_a: 0.97</br></br>situation: 2.0</br>shotType: 0.0</br>lastAction: 0.0</br>minute: 3</br>distanceToGoal: 9.53310076709881</br>angleToGoal: 40.4664837945122</br>_original_yhat_: 0.07474706388596017</br>"
          ],
          [
           "</br>id: 1833</br>prediction: 0.068</br>h_a: 0.98</br></br>situation: 2.0</br>shotType: 0.0</br>lastAction: 0.0</br>minute: 3</br>distanceToGoal: 9.53310076709881</br>angleToGoal: 40.4664837945122</br>_original_yhat_: 0.07474706388596017</br>"
          ],
          [
           "</br>id: 1833</br>prediction: 0.068</br>h_a: 0.99</br></br>situation: 2.0</br>shotType: 0.0</br>lastAction: 0.0</br>minute: 3</br>distanceToGoal: 9.53310076709881</br>angleToGoal: 40.4664837945122</br>_original_yhat_: 0.07474706388596017</br>"
          ],
          [
           "</br>id: 1833</br>prediction: 0.068</br>h_a: 1.0</br></br>situation: 2.0</br>shotType: 0.0</br>lastAction: 0.0</br>minute: 3</br>distanceToGoal: 9.53310076709881</br>angleToGoal: 40.4664837945122</br>_original_yhat_: 0.07474706388596017</br>"
          ]
         ],
         "hovertemplate": "%{customdata[0]}<extra></extra>",
         "legendgroup": "Logistic Regression",
         "line": {
          "color": "#4378bf",
          "dash": "solid",
          "width": 2
         },
         "marker": {
          "symbol": "circle"
         },
         "mode": "lines",
         "name": "Logistic Regression",
         "opacity": 1,
         "showlegend": true,
         "type": "scattergl",
         "x": [
          0,
          0.01,
          0.02,
          0.03,
          0.04,
          0.05,
          0.06,
          0.07,
          0.08,
          0.09,
          0.1,
          0.11,
          0.12,
          0.13,
          0.14,
          0.15,
          0.16,
          0.17,
          0.18,
          0.19,
          0.2,
          0.21,
          0.22,
          0.23,
          0.24,
          0.25,
          0.26,
          0.27,
          0.28,
          0.29,
          0.3,
          0.31,
          0.32,
          0.33,
          0.34,
          0.35000000000000003,
          0.36,
          0.37,
          0.38,
          0.39,
          0.4,
          0.41000000000000003,
          0.42,
          0.43,
          0.44,
          0.45,
          0.46,
          0.47000000000000003,
          0.48,
          0.49,
          0.5,
          0.51,
          0.52,
          0.53,
          0.54,
          0.55,
          0.56,
          0.5700000000000001,
          0.58,
          0.59,
          0.6,
          0.61,
          0.62,
          0.63,
          0.64,
          0.65,
          0.66,
          0.67,
          0.68,
          0.6900000000000001,
          0.7000000000000001,
          0.71,
          0.72,
          0.73,
          0.74,
          0.75,
          0.76,
          0.77,
          0.78,
          0.79,
          0.8,
          0.81,
          0.8200000000000001,
          0.8300000000000001,
          0.84,
          0.85,
          0.86,
          0.87,
          0.88,
          0.89,
          0.9,
          0.91,
          0.92,
          0.93,
          0.9400000000000001,
          0.9500000000000001,
          0.96,
          0.97,
          0.98,
          0.99,
          1
         ],
         "xaxis": "x7",
         "y": [
          0.07474706388596017,
          0.074672629930354,
          0.07459826412082807,
          0.07452396640689148,
          0.07444973673806694,
          0.0743755750638908,
          0.07430148133391305,
          0.07422745549769731,
          0.07415349750482103,
          0.07407960730487538,
          0.07400578484746544,
          0.07393203008221015,
          0.07385834295874238,
          0.07378472342670904,
          0.073711171435771,
          0.07363768693560328,
          0.07356426987589507,
          0.07349092020634963,
          0.0734176378766846,
          0.07334442283663173,
          0.07327127503593724,
          0.0731981944243617,
          0.07312518095168007,
          0.07305223456768176,
          0.07297935522217074,
          0.07290654286496556,
          0.07283379744589939,
          0.07276111891482,
          0.07268850722158988,
          0.07261596231608632,
          0.07254348414820139,
          0.07247107266784203,
          0.07239872782493001,
          0.07232644956940207,
          0.07225423785120993,
          0.07218209262032042,
          0.07211001382671532,
          0.07203800142039164,
          0.07196605535136147,
          0.07189417556965216,
          0.07182236202530638,
          0.07175061466838197,
          0.07167893344895224,
          0.0716073183171058,
          0.07153576922294677,
          0.07146428611659478,
          0.07139286894818486,
          0.07132151766786776,
          0.07125023222580973,
          0.07117901257219275,
          0.07110785865721454,
          0.07103677043108847,
          0.07096574784404375,
          0.07089479084632544,
          0.07082389938819447,
          0.07075307341992775,
          0.07068231289181806,
          0.07061161775417421,
          0.07054098795732114,
          0.07047042345159985,
          0.07039992418736742,
          0.0703294901149972,
          0.0702591211848787,
          0.07018881734741775,
          0.07011857855303649,
          0.07004840475217333,
          0.06997829589528322,
          0.06990825193283737,
          0.06983827281532361,
          0.06976835849324627,
          0.06969850891712615,
          0.06962872403750078,
          0.06955900380492422,
          0.06948934816996731,
          0.06941975708321758,
          0.0693502304952793,
          0.0692807683567736,
          0.06921137061833842,
          0.06914203723062862,
          0.06907276814431601,
          0.0690035633100893,
          0.06893442267865427,
          0.06886534620073372,
          0.06879633382706758,
          0.06872738550841294,
          0.06865850119554397,
          0.06858968083925208,
          0.06852092439034599,
          0.0684522317996517,
          0.06838360301801244,
          0.06831503799628898,
          0.06824653668535932,
          0.06817809903611903,
          0.06810972499948117,
          0.06804141452637624,
          0.06797316756775239,
          0.0679049840745753,
          0.06783686399782836,
          0.06776880728851263,
          0.06770081389764682,
          0.0676328837762675
         ],
         "yaxis": "y7"
        },
        {
         "customdata": [
          [
           "</br>id: 1833</br>prediction: 0.057</br>situation: 0.0</br></br>h_a: 0.0</br>shotType: 0.0</br>lastAction: 0.0</br>minute: 3</br>distanceToGoal: 9.53310076709881</br>angleToGoal: 40.4664837945122</br>_original_yhat_: 0.07474706388596017</br>"
          ],
          [
           "</br>id: 1833</br>prediction: 0.057</br>situation: 0.04</br></br>h_a: 0.0</br>shotType: 0.0</br>lastAction: 0.0</br>minute: 3</br>distanceToGoal: 9.53310076709881</br>angleToGoal: 40.4664837945122</br>_original_yhat_: 0.07474706388596017</br>"
          ],
          [
           "</br>id: 1833</br>prediction: 0.057</br>situation: 0.08</br></br>h_a: 0.0</br>shotType: 0.0</br>lastAction: 0.0</br>minute: 3</br>distanceToGoal: 9.53310076709881</br>angleToGoal: 40.4664837945122</br>_original_yhat_: 0.07474706388596017</br>"
          ],
          [
           "</br>id: 1833</br>prediction: 0.058</br>situation: 0.12</br></br>h_a: 0.0</br>shotType: 0.0</br>lastAction: 0.0</br>minute: 3</br>distanceToGoal: 9.53310076709881</br>angleToGoal: 40.4664837945122</br>_original_yhat_: 0.07474706388596017</br>"
          ],
          [
           "</br>id: 1833</br>prediction: 0.058</br>situation: 0.16</br></br>h_a: 0.0</br>shotType: 0.0</br>lastAction: 0.0</br>minute: 3</br>distanceToGoal: 9.53310076709881</br>angleToGoal: 40.4664837945122</br>_original_yhat_: 0.07474706388596017</br>"
          ],
          [
           "</br>id: 1833</br>prediction: 0.058</br>situation: 0.2</br></br>h_a: 0.0</br>shotType: 0.0</br>lastAction: 0.0</br>minute: 3</br>distanceToGoal: 9.53310076709881</br>angleToGoal: 40.4664837945122</br>_original_yhat_: 0.07474706388596017</br>"
          ],
          [
           "</br>id: 1833</br>prediction: 0.059</br>situation: 0.24</br></br>h_a: 0.0</br>shotType: 0.0</br>lastAction: 0.0</br>minute: 3</br>distanceToGoal: 9.53310076709881</br>angleToGoal: 40.4664837945122</br>_original_yhat_: 0.07474706388596017</br>"
          ],
          [
           "</br>id: 1833</br>prediction: 0.059</br>situation: 0.28</br></br>h_a: 0.0</br>shotType: 0.0</br>lastAction: 0.0</br>minute: 3</br>distanceToGoal: 9.53310076709881</br>angleToGoal: 40.4664837945122</br>_original_yhat_: 0.07474706388596017</br>"
          ],
          [
           "</br>id: 1833</br>prediction: 0.059</br>situation: 0.32</br></br>h_a: 0.0</br>shotType: 0.0</br>lastAction: 0.0</br>minute: 3</br>distanceToGoal: 9.53310076709881</br>angleToGoal: 40.4664837945122</br>_original_yhat_: 0.07474706388596017</br>"
          ],
          [
           "</br>id: 1833</br>prediction: 0.06</br>situation: 0.36</br></br>h_a: 0.0</br>shotType: 0.0</br>lastAction: 0.0</br>minute: 3</br>distanceToGoal: 9.53310076709881</br>angleToGoal: 40.4664837945122</br>_original_yhat_: 0.07474706388596017</br>"
          ],
          [
           "</br>id: 1833</br>prediction: 0.06</br>situation: 0.4</br></br>h_a: 0.0</br>shotType: 0.0</br>lastAction: 0.0</br>minute: 3</br>distanceToGoal: 9.53310076709881</br>angleToGoal: 40.4664837945122</br>_original_yhat_: 0.07474706388596017</br>"
          ],
          [
           "</br>id: 1833</br>prediction: 0.06</br>situation: 0.44</br></br>h_a: 0.0</br>shotType: 0.0</br>lastAction: 0.0</br>minute: 3</br>distanceToGoal: 9.53310076709881</br>angleToGoal: 40.4664837945122</br>_original_yhat_: 0.07474706388596017</br>"
          ],
          [
           "</br>id: 1833</br>prediction: 0.061</br>situation: 0.48</br></br>h_a: 0.0</br>shotType: 0.0</br>lastAction: 0.0</br>minute: 3</br>distanceToGoal: 9.53310076709881</br>angleToGoal: 40.4664837945122</br>_original_yhat_: 0.07474706388596017</br>"
          ],
          [
           "</br>id: 1833</br>prediction: 0.061</br>situation: 0.52</br></br>h_a: 0.0</br>shotType: 0.0</br>lastAction: 0.0</br>minute: 3</br>distanceToGoal: 9.53310076709881</br>angleToGoal: 40.4664837945122</br>_original_yhat_: 0.07474706388596017</br>"
          ],
          [
           "</br>id: 1833</br>prediction: 0.061</br>situation: 0.56</br></br>h_a: 0.0</br>shotType: 0.0</br>lastAction: 0.0</br>minute: 3</br>distanceToGoal: 9.53310076709881</br>angleToGoal: 40.4664837945122</br>_original_yhat_: 0.07474706388596017</br>"
          ],
          [
           "</br>id: 1833</br>prediction: 0.062</br>situation: 0.6</br></br>h_a: 0.0</br>shotType: 0.0</br>lastAction: 0.0</br>minute: 3</br>distanceToGoal: 9.53310076709881</br>angleToGoal: 40.4664837945122</br>_original_yhat_: 0.07474706388596017</br>"
          ],
          [
           "</br>id: 1833</br>prediction: 0.062</br>situation: 0.64</br></br>h_a: 0.0</br>shotType: 0.0</br>lastAction: 0.0</br>minute: 3</br>distanceToGoal: 9.53310076709881</br>angleToGoal: 40.4664837945122</br>_original_yhat_: 0.07474706388596017</br>"
          ],
          [
           "</br>id: 1833</br>prediction: 0.062</br>situation: 0.68</br></br>h_a: 0.0</br>shotType: 0.0</br>lastAction: 0.0</br>minute: 3</br>distanceToGoal: 9.53310076709881</br>angleToGoal: 40.4664837945122</br>_original_yhat_: 0.07474706388596017</br>"
          ],
          [
           "</br>id: 1833</br>prediction: 0.063</br>situation: 0.72</br></br>h_a: 0.0</br>shotType: 0.0</br>lastAction: 0.0</br>minute: 3</br>distanceToGoal: 9.53310076709881</br>angleToGoal: 40.4664837945122</br>_original_yhat_: 0.07474706388596017</br>"
          ],
          [
           "</br>id: 1833</br>prediction: 0.063</br>situation: 0.76</br></br>h_a: 0.0</br>shotType: 0.0</br>lastAction: 0.0</br>minute: 3</br>distanceToGoal: 9.53310076709881</br>angleToGoal: 40.4664837945122</br>_original_yhat_: 0.07474706388596017</br>"
          ],
          [
           "</br>id: 1833</br>prediction: 0.063</br>situation: 0.8</br></br>h_a: 0.0</br>shotType: 0.0</br>lastAction: 0.0</br>minute: 3</br>distanceToGoal: 9.53310076709881</br>angleToGoal: 40.4664837945122</br>_original_yhat_: 0.07474706388596017</br>"
          ],
          [
           "</br>id: 1833</br>prediction: 0.064</br>situation: 0.84</br></br>h_a: 0.0</br>shotType: 0.0</br>lastAction: 0.0</br>minute: 3</br>distanceToGoal: 9.53310076709881</br>angleToGoal: 40.4664837945122</br>_original_yhat_: 0.07474706388596017</br>"
          ],
          [
           "</br>id: 1833</br>prediction: 0.064</br>situation: 0.88</br></br>h_a: 0.0</br>shotType: 0.0</br>lastAction: 0.0</br>minute: 3</br>distanceToGoal: 9.53310076709881</br>angleToGoal: 40.4664837945122</br>_original_yhat_: 0.07474706388596017</br>"
          ],
          [
           "</br>id: 1833</br>prediction: 0.064</br>situation: 0.92</br></br>h_a: 0.0</br>shotType: 0.0</br>lastAction: 0.0</br>minute: 3</br>distanceToGoal: 9.53310076709881</br>angleToGoal: 40.4664837945122</br>_original_yhat_: 0.07474706388596017</br>"
          ],
          [
           "</br>id: 1833</br>prediction: 0.065</br>situation: 0.96</br></br>h_a: 0.0</br>shotType: 0.0</br>lastAction: 0.0</br>minute: 3</br>distanceToGoal: 9.53310076709881</br>angleToGoal: 40.4664837945122</br>_original_yhat_: 0.07474706388596017</br>"
          ],
          [
           "</br>id: 1833</br>prediction: 0.065</br>situation: 1.0</br></br>h_a: 0.0</br>shotType: 0.0</br>lastAction: 0.0</br>minute: 3</br>distanceToGoal: 9.53310076709881</br>angleToGoal: 40.4664837945122</br>_original_yhat_: 0.07474706388596017</br>"
          ],
          [
           "</br>id: 1833</br>prediction: 0.065</br>situation: 1.04</br></br>h_a: 0.0</br>shotType: 0.0</br>lastAction: 0.0</br>minute: 3</br>distanceToGoal: 9.53310076709881</br>angleToGoal: 40.4664837945122</br>_original_yhat_: 0.07474706388596017</br>"
          ],
          [
           "</br>id: 1833</br>prediction: 0.066</br>situation: 1.08</br></br>h_a: 0.0</br>shotType: 0.0</br>lastAction: 0.0</br>minute: 3</br>distanceToGoal: 9.53310076709881</br>angleToGoal: 40.4664837945122</br>_original_yhat_: 0.07474706388596017</br>"
          ],
          [
           "</br>id: 1833</br>prediction: 0.066</br>situation: 1.12</br></br>h_a: 0.0</br>shotType: 0.0</br>lastAction: 0.0</br>minute: 3</br>distanceToGoal: 9.53310076709881</br>angleToGoal: 40.4664837945122</br>_original_yhat_: 0.07474706388596017</br>"
          ],
          [
           "</br>id: 1833</br>prediction: 0.067</br>situation: 1.16</br></br>h_a: 0.0</br>shotType: 0.0</br>lastAction: 0.0</br>minute: 3</br>distanceToGoal: 9.53310076709881</br>angleToGoal: 40.4664837945122</br>_original_yhat_: 0.07474706388596017</br>"
          ],
          [
           "</br>id: 1833</br>prediction: 0.067</br>situation: 1.2</br></br>h_a: 0.0</br>shotType: 0.0</br>lastAction: 0.0</br>minute: 3</br>distanceToGoal: 9.53310076709881</br>angleToGoal: 40.4664837945122</br>_original_yhat_: 0.07474706388596017</br>"
          ],
          [
           "</br>id: 1833</br>prediction: 0.067</br>situation: 1.24</br></br>h_a: 0.0</br>shotType: 0.0</br>lastAction: 0.0</br>minute: 3</br>distanceToGoal: 9.53310076709881</br>angleToGoal: 40.4664837945122</br>_original_yhat_: 0.07474706388596017</br>"
          ],
          [
           "</br>id: 1833</br>prediction: 0.068</br>situation: 1.28</br></br>h_a: 0.0</br>shotType: 0.0</br>lastAction: 0.0</br>minute: 3</br>distanceToGoal: 9.53310076709881</br>angleToGoal: 40.4664837945122</br>_original_yhat_: 0.07474706388596017</br>"
          ],
          [
           "</br>id: 1833</br>prediction: 0.068</br>situation: 1.32</br></br>h_a: 0.0</br>shotType: 0.0</br>lastAction: 0.0</br>minute: 3</br>distanceToGoal: 9.53310076709881</br>angleToGoal: 40.4664837945122</br>_original_yhat_: 0.07474706388596017</br>"
          ],
          [
           "</br>id: 1833</br>prediction: 0.068</br>situation: 1.36</br></br>h_a: 0.0</br>shotType: 0.0</br>lastAction: 0.0</br>minute: 3</br>distanceToGoal: 9.53310076709881</br>angleToGoal: 40.4664837945122</br>_original_yhat_: 0.07474706388596017</br>"
          ],
          [
           "</br>id: 1833</br>prediction: 0.069</br>situation: 1.4000000000000001</br></br>h_a: 0.0</br>shotType: 0.0</br>lastAction: 0.0</br>minute: 3</br>distanceToGoal: 9.53310076709881</br>angleToGoal: 40.4664837945122</br>_original_yhat_: 0.07474706388596017</br>"
          ],
          [
           "</br>id: 1833</br>prediction: 0.069</br>situation: 1.44</br></br>h_a: 0.0</br>shotType: 0.0</br>lastAction: 0.0</br>minute: 3</br>distanceToGoal: 9.53310076709881</br>angleToGoal: 40.4664837945122</br>_original_yhat_: 0.07474706388596017</br>"
          ],
          [
           "</br>id: 1833</br>prediction: 0.07</br>situation: 1.48</br></br>h_a: 0.0</br>shotType: 0.0</br>lastAction: 0.0</br>minute: 3</br>distanceToGoal: 9.53310076709881</br>angleToGoal: 40.4664837945122</br>_original_yhat_: 0.07474706388596017</br>"
          ],
          [
           "</br>id: 1833</br>prediction: 0.07</br>situation: 1.52</br></br>h_a: 0.0</br>shotType: 0.0</br>lastAction: 0.0</br>minute: 3</br>distanceToGoal: 9.53310076709881</br>angleToGoal: 40.4664837945122</br>_original_yhat_: 0.07474706388596017</br>"
          ],
          [
           "</br>id: 1833</br>prediction: 0.07</br>situation: 1.56</br></br>h_a: 0.0</br>shotType: 0.0</br>lastAction: 0.0</br>minute: 3</br>distanceToGoal: 9.53310076709881</br>angleToGoal: 40.4664837945122</br>_original_yhat_: 0.07474706388596017</br>"
          ],
          [
           "</br>id: 1833</br>prediction: 0.071</br>situation: 1.6</br></br>h_a: 0.0</br>shotType: 0.0</br>lastAction: 0.0</br>minute: 3</br>distanceToGoal: 9.53310076709881</br>angleToGoal: 40.4664837945122</br>_original_yhat_: 0.07474706388596017</br>"
          ],
          [
           "</br>id: 1833</br>prediction: 0.071</br>situation: 1.6400000000000001</br></br>h_a: 0.0</br>shotType: 0.0</br>lastAction: 0.0</br>minute: 3</br>distanceToGoal: 9.53310076709881</br>angleToGoal: 40.4664837945122</br>_original_yhat_: 0.07474706388596017</br>"
          ],
          [
           "</br>id: 1833</br>prediction: 0.072</br>situation: 1.68</br></br>h_a: 0.0</br>shotType: 0.0</br>lastAction: 0.0</br>minute: 3</br>distanceToGoal: 9.53310076709881</br>angleToGoal: 40.4664837945122</br>_original_yhat_: 0.07474706388596017</br>"
          ],
          [
           "</br>id: 1833</br>prediction: 0.072</br>situation: 1.72</br></br>h_a: 0.0</br>shotType: 0.0</br>lastAction: 0.0</br>minute: 3</br>distanceToGoal: 9.53310076709881</br>angleToGoal: 40.4664837945122</br>_original_yhat_: 0.07474706388596017</br>"
          ],
          [
           "</br>id: 1833</br>prediction: 0.072</br>situation: 1.76</br></br>h_a: 0.0</br>shotType: 0.0</br>lastAction: 0.0</br>minute: 3</br>distanceToGoal: 9.53310076709881</br>angleToGoal: 40.4664837945122</br>_original_yhat_: 0.07474706388596017</br>"
          ],
          [
           "</br>id: 1833</br>prediction: 0.073</br>situation: 1.8</br></br>h_a: 0.0</br>shotType: 0.0</br>lastAction: 0.0</br>minute: 3</br>distanceToGoal: 9.53310076709881</br>angleToGoal: 40.4664837945122</br>_original_yhat_: 0.07474706388596017</br>"
          ],
          [
           "</br>id: 1833</br>prediction: 0.073</br>situation: 1.84</br></br>h_a: 0.0</br>shotType: 0.0</br>lastAction: 0.0</br>minute: 3</br>distanceToGoal: 9.53310076709881</br>angleToGoal: 40.4664837945122</br>_original_yhat_: 0.07474706388596017</br>"
          ],
          [
           "</br>id: 1833</br>prediction: 0.074</br>situation: 1.8800000000000001</br></br>h_a: 0.0</br>shotType: 0.0</br>lastAction: 0.0</br>minute: 3</br>distanceToGoal: 9.53310076709881</br>angleToGoal: 40.4664837945122</br>_original_yhat_: 0.07474706388596017</br>"
          ],
          [
           "</br>id: 1833</br>prediction: 0.074</br>situation: 1.92</br></br>h_a: 0.0</br>shotType: 0.0</br>lastAction: 0.0</br>minute: 3</br>distanceToGoal: 9.53310076709881</br>angleToGoal: 40.4664837945122</br>_original_yhat_: 0.07474706388596017</br>"
          ],
          [
           "</br>id: 1833</br>prediction: 0.074</br>situation: 1.96</br></br>h_a: 0.0</br>shotType: 0.0</br>lastAction: 0.0</br>minute: 3</br>distanceToGoal: 9.53310076709881</br>angleToGoal: 40.4664837945122</br>_original_yhat_: 0.07474706388596017</br>"
          ],
          [
           "</br>id: 1833</br>prediction: 0.075</br>situation: 2.0</br></br>h_a: 0.0</br>shotType: 0.0</br>lastAction: 0.0</br>minute: 3</br>distanceToGoal: 9.53310076709881</br>angleToGoal: 40.4664837945122</br>_original_yhat_: 0.07474706388596017</br>"
          ],
          [
           "</br>id: 1833</br>prediction: 0.075</br>situation: 2.04</br></br>h_a: 0.0</br>shotType: 0.0</br>lastAction: 0.0</br>minute: 3</br>distanceToGoal: 9.53310076709881</br>angleToGoal: 40.4664837945122</br>_original_yhat_: 0.07474706388596017</br>"
          ],
          [
           "</br>id: 1833</br>prediction: 0.076</br>situation: 2.08</br></br>h_a: 0.0</br>shotType: 0.0</br>lastAction: 0.0</br>minute: 3</br>distanceToGoal: 9.53310076709881</br>angleToGoal: 40.4664837945122</br>_original_yhat_: 0.07474706388596017</br>"
          ],
          [
           "</br>id: 1833</br>prediction: 0.076</br>situation: 2.12</br></br>h_a: 0.0</br>shotType: 0.0</br>lastAction: 0.0</br>minute: 3</br>distanceToGoal: 9.53310076709881</br>angleToGoal: 40.4664837945122</br>_original_yhat_: 0.07474706388596017</br>"
          ],
          [
           "</br>id: 1833</br>prediction: 0.076</br>situation: 2.16</br></br>h_a: 0.0</br>shotType: 0.0</br>lastAction: 0.0</br>minute: 3</br>distanceToGoal: 9.53310076709881</br>angleToGoal: 40.4664837945122</br>_original_yhat_: 0.07474706388596017</br>"
          ],
          [
           "</br>id: 1833</br>prediction: 0.077</br>situation: 2.2</br></br>h_a: 0.0</br>shotType: 0.0</br>lastAction: 0.0</br>minute: 3</br>distanceToGoal: 9.53310076709881</br>angleToGoal: 40.4664837945122</br>_original_yhat_: 0.07474706388596017</br>"
          ],
          [
           "</br>id: 1833</br>prediction: 0.077</br>situation: 2.24</br></br>h_a: 0.0</br>shotType: 0.0</br>lastAction: 0.0</br>minute: 3</br>distanceToGoal: 9.53310076709881</br>angleToGoal: 40.4664837945122</br>_original_yhat_: 0.07474706388596017</br>"
          ],
          [
           "</br>id: 1833</br>prediction: 0.078</br>situation: 2.2800000000000002</br></br>h_a: 0.0</br>shotType: 0.0</br>lastAction: 0.0</br>minute: 3</br>distanceToGoal: 9.53310076709881</br>angleToGoal: 40.4664837945122</br>_original_yhat_: 0.07474706388596017</br>"
          ],
          [
           "</br>id: 1833</br>prediction: 0.078</br>situation: 2.32</br></br>h_a: 0.0</br>shotType: 0.0</br>lastAction: 0.0</br>minute: 3</br>distanceToGoal: 9.53310076709881</br>angleToGoal: 40.4664837945122</br>_original_yhat_: 0.07474706388596017</br>"
          ],
          [
           "</br>id: 1833</br>prediction: 0.079</br>situation: 2.36</br></br>h_a: 0.0</br>shotType: 0.0</br>lastAction: 0.0</br>minute: 3</br>distanceToGoal: 9.53310076709881</br>angleToGoal: 40.4664837945122</br>_original_yhat_: 0.07474706388596017</br>"
          ],
          [
           "</br>id: 1833</br>prediction: 0.079</br>situation: 2.4</br></br>h_a: 0.0</br>shotType: 0.0</br>lastAction: 0.0</br>minute: 3</br>distanceToGoal: 9.53310076709881</br>angleToGoal: 40.4664837945122</br>_original_yhat_: 0.07474706388596017</br>"
          ],
          [
           "</br>id: 1833</br>prediction: 0.079</br>situation: 2.44</br></br>h_a: 0.0</br>shotType: 0.0</br>lastAction: 0.0</br>minute: 3</br>distanceToGoal: 9.53310076709881</br>angleToGoal: 40.4664837945122</br>_original_yhat_: 0.07474706388596017</br>"
          ],
          [
           "</br>id: 1833</br>prediction: 0.08</br>situation: 2.48</br></br>h_a: 0.0</br>shotType: 0.0</br>lastAction: 0.0</br>minute: 3</br>distanceToGoal: 9.53310076709881</br>angleToGoal: 40.4664837945122</br>_original_yhat_: 0.07474706388596017</br>"
          ],
          [
           "</br>id: 1833</br>prediction: 0.08</br>situation: 2.52</br></br>h_a: 0.0</br>shotType: 0.0</br>lastAction: 0.0</br>minute: 3</br>distanceToGoal: 9.53310076709881</br>angleToGoal: 40.4664837945122</br>_original_yhat_: 0.07474706388596017</br>"
          ],
          [
           "</br>id: 1833</br>prediction: 0.081</br>situation: 2.56</br></br>h_a: 0.0</br>shotType: 0.0</br>lastAction: 0.0</br>minute: 3</br>distanceToGoal: 9.53310076709881</br>angleToGoal: 40.4664837945122</br>_original_yhat_: 0.07474706388596017</br>"
          ],
          [
           "</br>id: 1833</br>prediction: 0.081</br>situation: 2.6</br></br>h_a: 0.0</br>shotType: 0.0</br>lastAction: 0.0</br>minute: 3</br>distanceToGoal: 9.53310076709881</br>angleToGoal: 40.4664837945122</br>_original_yhat_: 0.07474706388596017</br>"
          ],
          [
           "</br>id: 1833</br>prediction: 0.082</br>situation: 2.64</br></br>h_a: 0.0</br>shotType: 0.0</br>lastAction: 0.0</br>minute: 3</br>distanceToGoal: 9.53310076709881</br>angleToGoal: 40.4664837945122</br>_original_yhat_: 0.07474706388596017</br>"
          ],
          [
           "</br>id: 1833</br>prediction: 0.082</br>situation: 2.68</br></br>h_a: 0.0</br>shotType: 0.0</br>lastAction: 0.0</br>minute: 3</br>distanceToGoal: 9.53310076709881</br>angleToGoal: 40.4664837945122</br>_original_yhat_: 0.07474706388596017</br>"
          ],
          [
           "</br>id: 1833</br>prediction: 0.083</br>situation: 2.72</br></br>h_a: 0.0</br>shotType: 0.0</br>lastAction: 0.0</br>minute: 3</br>distanceToGoal: 9.53310076709881</br>angleToGoal: 40.4664837945122</br>_original_yhat_: 0.07474706388596017</br>"
          ],
          [
           "</br>id: 1833</br>prediction: 0.083</br>situation: 2.7600000000000002</br></br>h_a: 0.0</br>shotType: 0.0</br>lastAction: 0.0</br>minute: 3</br>distanceToGoal: 9.53310076709881</br>angleToGoal: 40.4664837945122</br>_original_yhat_: 0.07474706388596017</br>"
          ],
          [
           "</br>id: 1833</br>prediction: 0.083</br>situation: 2.8000000000000003</br></br>h_a: 0.0</br>shotType: 0.0</br>lastAction: 0.0</br>minute: 3</br>distanceToGoal: 9.53310076709881</br>angleToGoal: 40.4664837945122</br>_original_yhat_: 0.07474706388596017</br>"
          ],
          [
           "</br>id: 1833</br>prediction: 0.084</br>situation: 2.84</br></br>h_a: 0.0</br>shotType: 0.0</br>lastAction: 0.0</br>minute: 3</br>distanceToGoal: 9.53310076709881</br>angleToGoal: 40.4664837945122</br>_original_yhat_: 0.07474706388596017</br>"
          ],
          [
           "</br>id: 1833</br>prediction: 0.084</br>situation: 2.88</br></br>h_a: 0.0</br>shotType: 0.0</br>lastAction: 0.0</br>minute: 3</br>distanceToGoal: 9.53310076709881</br>angleToGoal: 40.4664837945122</br>_original_yhat_: 0.07474706388596017</br>"
          ],
          [
           "</br>id: 1833</br>prediction: 0.085</br>situation: 2.92</br></br>h_a: 0.0</br>shotType: 0.0</br>lastAction: 0.0</br>minute: 3</br>distanceToGoal: 9.53310076709881</br>angleToGoal: 40.4664837945122</br>_original_yhat_: 0.07474706388596017</br>"
          ],
          [
           "</br>id: 1833</br>prediction: 0.085</br>situation: 2.96</br></br>h_a: 0.0</br>shotType: 0.0</br>lastAction: 0.0</br>minute: 3</br>distanceToGoal: 9.53310076709881</br>angleToGoal: 40.4664837945122</br>_original_yhat_: 0.07474706388596017</br>"
          ],
          [
           "</br>id: 1833</br>prediction: 0.086</br>situation: 3.0</br></br>h_a: 0.0</br>shotType: 0.0</br>lastAction: 0.0</br>minute: 3</br>distanceToGoal: 9.53310076709881</br>angleToGoal: 40.4664837945122</br>_original_yhat_: 0.07474706388596017</br>"
          ],
          [
           "</br>id: 1833</br>prediction: 0.086</br>situation: 3.04</br></br>h_a: 0.0</br>shotType: 0.0</br>lastAction: 0.0</br>minute: 3</br>distanceToGoal: 9.53310076709881</br>angleToGoal: 40.4664837945122</br>_original_yhat_: 0.07474706388596017</br>"
          ],
          [
           "</br>id: 1833</br>prediction: 0.087</br>situation: 3.08</br></br>h_a: 0.0</br>shotType: 0.0</br>lastAction: 0.0</br>minute: 3</br>distanceToGoal: 9.53310076709881</br>angleToGoal: 40.4664837945122</br>_original_yhat_: 0.07474706388596017</br>"
          ],
          [
           "</br>id: 1833</br>prediction: 0.087</br>situation: 3.12</br></br>h_a: 0.0</br>shotType: 0.0</br>lastAction: 0.0</br>minute: 3</br>distanceToGoal: 9.53310076709881</br>angleToGoal: 40.4664837945122</br>_original_yhat_: 0.07474706388596017</br>"
          ],
          [
           "</br>id: 1833</br>prediction: 0.088</br>situation: 3.16</br></br>h_a: 0.0</br>shotType: 0.0</br>lastAction: 0.0</br>minute: 3</br>distanceToGoal: 9.53310076709881</br>angleToGoal: 40.4664837945122</br>_original_yhat_: 0.07474706388596017</br>"
          ],
          [
           "</br>id: 1833</br>prediction: 0.088</br>situation: 3.2</br></br>h_a: 0.0</br>shotType: 0.0</br>lastAction: 0.0</br>minute: 3</br>distanceToGoal: 9.53310076709881</br>angleToGoal: 40.4664837945122</br>_original_yhat_: 0.07474706388596017</br>"
          ],
          [
           "</br>id: 1833</br>prediction: 0.089</br>situation: 3.24</br></br>h_a: 0.0</br>shotType: 0.0</br>lastAction: 0.0</br>minute: 3</br>distanceToGoal: 9.53310076709881</br>angleToGoal: 40.4664837945122</br>_original_yhat_: 0.07474706388596017</br>"
          ],
          [
           "</br>id: 1833</br>prediction: 0.089</br>situation: 3.2800000000000002</br></br>h_a: 0.0</br>shotType: 0.0</br>lastAction: 0.0</br>minute: 3</br>distanceToGoal: 9.53310076709881</br>angleToGoal: 40.4664837945122</br>_original_yhat_: 0.07474706388596017</br>"
          ],
          [
           "</br>id: 1833</br>prediction: 0.09</br>situation: 3.3200000000000003</br></br>h_a: 0.0</br>shotType: 0.0</br>lastAction: 0.0</br>minute: 3</br>distanceToGoal: 9.53310076709881</br>angleToGoal: 40.4664837945122</br>_original_yhat_: 0.07474706388596017</br>"
          ],
          [
           "</br>id: 1833</br>prediction: 0.09</br>situation: 3.36</br></br>h_a: 0.0</br>shotType: 0.0</br>lastAction: 0.0</br>minute: 3</br>distanceToGoal: 9.53310076709881</br>angleToGoal: 40.4664837945122</br>_original_yhat_: 0.07474706388596017</br>"
          ],
          [
           "</br>id: 1833</br>prediction: 0.091</br>situation: 3.4</br></br>h_a: 0.0</br>shotType: 0.0</br>lastAction: 0.0</br>minute: 3</br>distanceToGoal: 9.53310076709881</br>angleToGoal: 40.4664837945122</br>_original_yhat_: 0.07474706388596017</br>"
          ],
          [
           "</br>id: 1833</br>prediction: 0.091</br>situation: 3.44</br></br>h_a: 0.0</br>shotType: 0.0</br>lastAction: 0.0</br>minute: 3</br>distanceToGoal: 9.53310076709881</br>angleToGoal: 40.4664837945122</br>_original_yhat_: 0.07474706388596017</br>"
          ],
          [
           "</br>id: 1833</br>prediction: 0.092</br>situation: 3.48</br></br>h_a: 0.0</br>shotType: 0.0</br>lastAction: 0.0</br>minute: 3</br>distanceToGoal: 9.53310076709881</br>angleToGoal: 40.4664837945122</br>_original_yhat_: 0.07474706388596017</br>"
          ],
          [
           "</br>id: 1833</br>prediction: 0.092</br>situation: 3.52</br></br>h_a: 0.0</br>shotType: 0.0</br>lastAction: 0.0</br>minute: 3</br>distanceToGoal: 9.53310076709881</br>angleToGoal: 40.4664837945122</br>_original_yhat_: 0.07474706388596017</br>"
          ],
          [
           "</br>id: 1833</br>prediction: 0.093</br>situation: 3.56</br></br>h_a: 0.0</br>shotType: 0.0</br>lastAction: 0.0</br>minute: 3</br>distanceToGoal: 9.53310076709881</br>angleToGoal: 40.4664837945122</br>_original_yhat_: 0.07474706388596017</br>"
          ],
          [
           "</br>id: 1833</br>prediction: 0.093</br>situation: 3.6</br></br>h_a: 0.0</br>shotType: 0.0</br>lastAction: 0.0</br>minute: 3</br>distanceToGoal: 9.53310076709881</br>angleToGoal: 40.4664837945122</br>_original_yhat_: 0.07474706388596017</br>"
          ],
          [
           "</br>id: 1833</br>prediction: 0.094</br>situation: 3.64</br></br>h_a: 0.0</br>shotType: 0.0</br>lastAction: 0.0</br>minute: 3</br>distanceToGoal: 9.53310076709881</br>angleToGoal: 40.4664837945122</br>_original_yhat_: 0.07474706388596017</br>"
          ],
          [
           "</br>id: 1833</br>prediction: 0.094</br>situation: 3.68</br></br>h_a: 0.0</br>shotType: 0.0</br>lastAction: 0.0</br>minute: 3</br>distanceToGoal: 9.53310076709881</br>angleToGoal: 40.4664837945122</br>_original_yhat_: 0.07474706388596017</br>"
          ],
          [
           "</br>id: 1833</br>prediction: 0.095</br>situation: 3.72</br></br>h_a: 0.0</br>shotType: 0.0</br>lastAction: 0.0</br>minute: 3</br>distanceToGoal: 9.53310076709881</br>angleToGoal: 40.4664837945122</br>_original_yhat_: 0.07474706388596017</br>"
          ],
          [
           "</br>id: 1833</br>prediction: 0.095</br>situation: 3.7600000000000002</br></br>h_a: 0.0</br>shotType: 0.0</br>lastAction: 0.0</br>minute: 3</br>distanceToGoal: 9.53310076709881</br>angleToGoal: 40.4664837945122</br>_original_yhat_: 0.07474706388596017</br>"
          ],
          [
           "</br>id: 1833</br>prediction: 0.096</br>situation: 3.8000000000000003</br></br>h_a: 0.0</br>shotType: 0.0</br>lastAction: 0.0</br>minute: 3</br>distanceToGoal: 9.53310076709881</br>angleToGoal: 40.4664837945122</br>_original_yhat_: 0.07474706388596017</br>"
          ],
          [
           "</br>id: 1833</br>prediction: 0.096</br>situation: 3.84</br></br>h_a: 0.0</br>shotType: 0.0</br>lastAction: 0.0</br>minute: 3</br>distanceToGoal: 9.53310076709881</br>angleToGoal: 40.4664837945122</br>_original_yhat_: 0.07474706388596017</br>"
          ],
          [
           "</br>id: 1833</br>prediction: 0.097</br>situation: 3.88</br></br>h_a: 0.0</br>shotType: 0.0</br>lastAction: 0.0</br>minute: 3</br>distanceToGoal: 9.53310076709881</br>angleToGoal: 40.4664837945122</br>_original_yhat_: 0.07474706388596017</br>"
          ],
          [
           "</br>id: 1833</br>prediction: 0.097</br>situation: 3.92</br></br>h_a: 0.0</br>shotType: 0.0</br>lastAction: 0.0</br>minute: 3</br>distanceToGoal: 9.53310076709881</br>angleToGoal: 40.4664837945122</br>_original_yhat_: 0.07474706388596017</br>"
          ],
          [
           "</br>id: 1833</br>prediction: 0.098</br>situation: 3.96</br></br>h_a: 0.0</br>shotType: 0.0</br>lastAction: 0.0</br>minute: 3</br>distanceToGoal: 9.53310076709881</br>angleToGoal: 40.4664837945122</br>_original_yhat_: 0.07474706388596017</br>"
          ],
          [
           "</br>id: 1833</br>prediction: 0.098</br>situation: 4.0</br></br>h_a: 0.0</br>shotType: 0.0</br>lastAction: 0.0</br>minute: 3</br>distanceToGoal: 9.53310076709881</br>angleToGoal: 40.4664837945122</br>_original_yhat_: 0.07474706388596017</br>"
          ]
         ],
         "hovertemplate": "%{customdata[0]}<extra></extra>",
         "legendgroup": "Logistic Regression",
         "line": {
          "color": "#4378bf",
          "dash": "solid",
          "width": 2
         },
         "marker": {
          "symbol": "circle"
         },
         "mode": "lines",
         "name": "Logistic Regression",
         "opacity": 1,
         "showlegend": false,
         "type": "scattergl",
         "x": [
          0,
          0.04,
          0.08,
          0.12,
          0.16,
          0.2,
          0.24,
          0.28,
          0.32,
          0.36,
          0.4,
          0.44,
          0.48,
          0.52,
          0.56,
          0.6,
          0.64,
          0.68,
          0.72,
          0.76,
          0.8,
          0.84,
          0.88,
          0.92,
          0.96,
          1,
          1.04,
          1.08,
          1.12,
          1.16,
          1.2,
          1.24,
          1.28,
          1.32,
          1.36,
          1.4000000000000001,
          1.44,
          1.48,
          1.52,
          1.56,
          1.6,
          1.6400000000000001,
          1.68,
          1.72,
          1.76,
          1.8,
          1.84,
          1.8800000000000001,
          1.92,
          1.96,
          2,
          2.04,
          2.08,
          2.12,
          2.16,
          2.2,
          2.24,
          2.2800000000000002,
          2.32,
          2.36,
          2.4,
          2.44,
          2.48,
          2.52,
          2.56,
          2.6,
          2.64,
          2.68,
          2.72,
          2.7600000000000002,
          2.8000000000000003,
          2.84,
          2.88,
          2.92,
          2.96,
          3,
          3.04,
          3.08,
          3.12,
          3.16,
          3.2,
          3.24,
          3.2800000000000002,
          3.3200000000000003,
          3.36,
          3.4,
          3.44,
          3.48,
          3.52,
          3.56,
          3.6,
          3.64,
          3.68,
          3.72,
          3.7600000000000002,
          3.8000000000000003,
          3.84,
          3.88,
          3.92,
          3.96,
          4
         ],
         "xaxis": "x8",
         "y": [
          0.056569987201614665,
          0.056889005977939285,
          0.057209714722002654,
          0.05753212115335211,
          0.057856233012819766,
          0.05818205806241216,
          0.05850960408519694,
          0.058838878885187185,
          0.05916989028722315,
          0.05950264613685109,
          0.05983715430019981,
          0.06017342266385406,
          0.06051145913472563,
          0.060851271639921434,
          0.061192868126608846,
          0.06153625656187837,
          0.0618814449326034,
          0.06222844124529697,
          0.06257725352596605,
          0.06292788981996252,
          0.06328035819183132,
          0.06363466672515591,
          0.06399082352240044,
          0.06434883670474892,
          0.06470871441194166,
          0.06507046480210842,
          0.06543409605159844,
          0.0657996163548075,
          0.06616703392400186,
          0.06653635698913894,
          0.06690759379768481,
          0.06728075261442859,
          0.06765584172129359,
          0.06803286941714497,
          0.06841184401759454,
          0.06879277385480184,
          0.06917566727727201,
          0.06956053264965047,
          0.06994737835251404,
          0.07033621278215853,
          0.07072704435038324,
          0.0711198814842717,
          0.0715147326259689,
          0.07191160623245534,
          0.07231051077531717,
          0.07271145474051284,
          0.07311444662813633,
          0.07351949495217663,
          0.0739266082402736,
          0.07433579503346999,
          0.07474706388596017,
          0.0751604233648348,
          0.0755758820498217,
          0.07599344853302335,
          0.07641313141865021,
          0.07683493932275028,
          0.07725888087293506,
          0.0776849647081014,
          0.07811319947814946,
          0.07854359384369684,
          0.07897615647578894,
          0.07941089605560477,
          0.07984782127415957,
          0.08028694083200276,
          0.08072826343891215,
          0.08117179781358401,
          0.08161755268331919,
          0.08206553678370501,
          0.0825157588582928,
          0.0829682276582719,
          0.08342295194213883,
          0.08387994047536258,
          0.08433920203004575,
          0.0848007453845813,
          0.08526457932330492,
          0.08573071263614351,
          0.08619915411825903,
          0.0866699125696879,
          0.08714299679497658,
          0.08761841560281236,
          0.08809617780564961,
          0.08857629221933229,
          0.08905876766271127,
          0.08954361295725774,
          0.09003083692667185,
          0.09052044839648712,
          0.09101245619367004,
          0.09150686914621538,
          0.09200369608273687,
          0.09250294583205347,
          0.0930046272227707,
          0.09350874908285782,
          0.09401532023922018,
          0.09452434951726679,
          0.0950358457404737,
          0.09554981772994227,
          0.09606627430395295,
          0.0965852242775145,
          0.09710667646190838,
          0.09763063966422827,
          0.09815712268691534
         ],
         "yaxis": "y8"
        },
        {
         "customdata": [
          [
           "</br>id: 1833</br>prediction: 0.075</br>shotType: 0.0</br></br>h_a: 0.0</br>situation: 2.0</br>lastAction: 0.0</br>minute: 3</br>distanceToGoal: 9.53310076709881</br>angleToGoal: 40.4664837945122</br>_original_yhat_: 0.07474706388596017</br>"
          ],
          [
           "</br>id: 1833</br>prediction: 0.075</br>shotType: 0.03</br></br>h_a: 0.0</br>situation: 2.0</br>lastAction: 0.0</br>minute: 3</br>distanceToGoal: 9.53310076709881</br>angleToGoal: 40.4664837945122</br>_original_yhat_: 0.07474706388596017</br>"
          ],
          [
           "</br>id: 1833</br>prediction: 0.075</br>shotType: 0.06</br></br>h_a: 0.0</br>situation: 2.0</br>lastAction: 0.0</br>minute: 3</br>distanceToGoal: 9.53310076709881</br>angleToGoal: 40.4664837945122</br>_original_yhat_: 0.07474706388596017</br>"
          ],
          [
           "</br>id: 1833</br>prediction: 0.076</br>shotType: 0.09</br></br>h_a: 0.0</br>situation: 2.0</br>lastAction: 0.0</br>minute: 3</br>distanceToGoal: 9.53310076709881</br>angleToGoal: 40.4664837945122</br>_original_yhat_: 0.07474706388596017</br>"
          ],
          [
           "</br>id: 1833</br>prediction: 0.076</br>shotType: 0.12</br></br>h_a: 0.0</br>situation: 2.0</br>lastAction: 0.0</br>minute: 3</br>distanceToGoal: 9.53310076709881</br>angleToGoal: 40.4664837945122</br>_original_yhat_: 0.07474706388596017</br>"
          ],
          [
           "</br>id: 1833</br>prediction: 0.076</br>shotType: 0.15</br></br>h_a: 0.0</br>situation: 2.0</br>lastAction: 0.0</br>minute: 3</br>distanceToGoal: 9.53310076709881</br>angleToGoal: 40.4664837945122</br>_original_yhat_: 0.07474706388596017</br>"
          ],
          [
           "</br>id: 1833</br>prediction: 0.077</br>shotType: 0.18</br></br>h_a: 0.0</br>situation: 2.0</br>lastAction: 0.0</br>minute: 3</br>distanceToGoal: 9.53310076709881</br>angleToGoal: 40.4664837945122</br>_original_yhat_: 0.07474706388596017</br>"
          ],
          [
           "</br>id: 1833</br>prediction: 0.077</br>shotType: 0.21</br></br>h_a: 0.0</br>situation: 2.0</br>lastAction: 0.0</br>minute: 3</br>distanceToGoal: 9.53310076709881</br>angleToGoal: 40.4664837945122</br>_original_yhat_: 0.07474706388596017</br>"
          ],
          [
           "</br>id: 1833</br>prediction: 0.077</br>shotType: 0.24</br></br>h_a: 0.0</br>situation: 2.0</br>lastAction: 0.0</br>minute: 3</br>distanceToGoal: 9.53310076709881</br>angleToGoal: 40.4664837945122</br>_original_yhat_: 0.07474706388596017</br>"
          ],
          [
           "</br>id: 1833</br>prediction: 0.078</br>shotType: 0.27</br></br>h_a: 0.0</br>situation: 2.0</br>lastAction: 0.0</br>minute: 3</br>distanceToGoal: 9.53310076709881</br>angleToGoal: 40.4664837945122</br>_original_yhat_: 0.07474706388596017</br>"
          ],
          [
           "</br>id: 1833</br>prediction: 0.078</br>shotType: 0.3</br></br>h_a: 0.0</br>situation: 2.0</br>lastAction: 0.0</br>minute: 3</br>distanceToGoal: 9.53310076709881</br>angleToGoal: 40.4664837945122</br>_original_yhat_: 0.07474706388596017</br>"
          ],
          [
           "</br>id: 1833</br>prediction: 0.079</br>shotType: 0.32999999999999996</br></br>h_a: 0.0</br>situation: 2.0</br>lastAction: 0.0</br>minute: 3</br>distanceToGoal: 9.53310076709881</br>angleToGoal: 40.4664837945122</br>_original_yhat_: 0.07474706388596017</br>"
          ],
          [
           "</br>id: 1833</br>prediction: 0.079</br>shotType: 0.36</br></br>h_a: 0.0</br>situation: 2.0</br>lastAction: 0.0</br>minute: 3</br>distanceToGoal: 9.53310076709881</br>angleToGoal: 40.4664837945122</br>_original_yhat_: 0.07474706388596017</br>"
          ],
          [
           "</br>id: 1833</br>prediction: 0.079</br>shotType: 0.39</br></br>h_a: 0.0</br>situation: 2.0</br>lastAction: 0.0</br>minute: 3</br>distanceToGoal: 9.53310076709881</br>angleToGoal: 40.4664837945122</br>_original_yhat_: 0.07474706388596017</br>"
          ],
          [
           "</br>id: 1833</br>prediction: 0.08</br>shotType: 0.42</br></br>h_a: 0.0</br>situation: 2.0</br>lastAction: 0.0</br>minute: 3</br>distanceToGoal: 9.53310076709881</br>angleToGoal: 40.4664837945122</br>_original_yhat_: 0.07474706388596017</br>"
          ],
          [
           "</br>id: 1833</br>prediction: 0.08</br>shotType: 0.44999999999999996</br></br>h_a: 0.0</br>situation: 2.0</br>lastAction: 0.0</br>minute: 3</br>distanceToGoal: 9.53310076709881</br>angleToGoal: 40.4664837945122</br>_original_yhat_: 0.07474706388596017</br>"
          ],
          [
           "</br>id: 1833</br>prediction: 0.08</br>shotType: 0.48</br></br>h_a: 0.0</br>situation: 2.0</br>lastAction: 0.0</br>minute: 3</br>distanceToGoal: 9.53310076709881</br>angleToGoal: 40.4664837945122</br>_original_yhat_: 0.07474706388596017</br>"
          ],
          [
           "</br>id: 1833</br>prediction: 0.081</br>shotType: 0.51</br></br>h_a: 0.0</br>situation: 2.0</br>lastAction: 0.0</br>minute: 3</br>distanceToGoal: 9.53310076709881</br>angleToGoal: 40.4664837945122</br>_original_yhat_: 0.07474706388596017</br>"
          ],
          [
           "</br>id: 1833</br>prediction: 0.081</br>shotType: 0.54</br></br>h_a: 0.0</br>situation: 2.0</br>lastAction: 0.0</br>minute: 3</br>distanceToGoal: 9.53310076709881</br>angleToGoal: 40.4664837945122</br>_original_yhat_: 0.07474706388596017</br>"
          ],
          [
           "</br>id: 1833</br>prediction: 0.081</br>shotType: 0.57</br></br>h_a: 0.0</br>situation: 2.0</br>lastAction: 0.0</br>minute: 3</br>distanceToGoal: 9.53310076709881</br>angleToGoal: 40.4664837945122</br>_original_yhat_: 0.07474706388596017</br>"
          ],
          [
           "</br>id: 1833</br>prediction: 0.082</br>shotType: 0.6</br></br>h_a: 0.0</br>situation: 2.0</br>lastAction: 0.0</br>minute: 3</br>distanceToGoal: 9.53310076709881</br>angleToGoal: 40.4664837945122</br>_original_yhat_: 0.07474706388596017</br>"
          ],
          [
           "</br>id: 1833</br>prediction: 0.082</br>shotType: 0.63</br></br>h_a: 0.0</br>situation: 2.0</br>lastAction: 0.0</br>minute: 3</br>distanceToGoal: 9.53310076709881</br>angleToGoal: 40.4664837945122</br>_original_yhat_: 0.07474706388596017</br>"
          ],
          [
           "</br>id: 1833</br>prediction: 0.082</br>shotType: 0.6599999999999999</br></br>h_a: 0.0</br>situation: 2.0</br>lastAction: 0.0</br>minute: 3</br>distanceToGoal: 9.53310076709881</br>angleToGoal: 40.4664837945122</br>_original_yhat_: 0.07474706388596017</br>"
          ],
          [
           "</br>id: 1833</br>prediction: 0.083</br>shotType: 0.69</br></br>h_a: 0.0</br>situation: 2.0</br>lastAction: 0.0</br>minute: 3</br>distanceToGoal: 9.53310076709881</br>angleToGoal: 40.4664837945122</br>_original_yhat_: 0.07474706388596017</br>"
          ],
          [
           "</br>id: 1833</br>prediction: 0.083</br>shotType: 0.72</br></br>h_a: 0.0</br>situation: 2.0</br>lastAction: 0.0</br>minute: 3</br>distanceToGoal: 9.53310076709881</br>angleToGoal: 40.4664837945122</br>_original_yhat_: 0.07474706388596017</br>"
          ],
          [
           "</br>id: 1833</br>prediction: 0.084</br>shotType: 0.75</br></br>h_a: 0.0</br>situation: 2.0</br>lastAction: 0.0</br>minute: 3</br>distanceToGoal: 9.53310076709881</br>angleToGoal: 40.4664837945122</br>_original_yhat_: 0.07474706388596017</br>"
          ],
          [
           "</br>id: 1833</br>prediction: 0.084</br>shotType: 0.78</br></br>h_a: 0.0</br>situation: 2.0</br>lastAction: 0.0</br>minute: 3</br>distanceToGoal: 9.53310076709881</br>angleToGoal: 40.4664837945122</br>_original_yhat_: 0.07474706388596017</br>"
          ],
          [
           "</br>id: 1833</br>prediction: 0.084</br>shotType: 0.8099999999999999</br></br>h_a: 0.0</br>situation: 2.0</br>lastAction: 0.0</br>minute: 3</br>distanceToGoal: 9.53310076709881</br>angleToGoal: 40.4664837945122</br>_original_yhat_: 0.07474706388596017</br>"
          ],
          [
           "</br>id: 1833</br>prediction: 0.085</br>shotType: 0.84</br></br>h_a: 0.0</br>situation: 2.0</br>lastAction: 0.0</br>minute: 3</br>distanceToGoal: 9.53310076709881</br>angleToGoal: 40.4664837945122</br>_original_yhat_: 0.07474706388596017</br>"
          ],
          [
           "</br>id: 1833</br>prediction: 0.085</br>shotType: 0.87</br></br>h_a: 0.0</br>situation: 2.0</br>lastAction: 0.0</br>minute: 3</br>distanceToGoal: 9.53310076709881</br>angleToGoal: 40.4664837945122</br>_original_yhat_: 0.07474706388596017</br>"
          ],
          [
           "</br>id: 1833</br>prediction: 0.085</br>shotType: 0.8999999999999999</br></br>h_a: 0.0</br>situation: 2.0</br>lastAction: 0.0</br>minute: 3</br>distanceToGoal: 9.53310076709881</br>angleToGoal: 40.4664837945122</br>_original_yhat_: 0.07474706388596017</br>"
          ],
          [
           "</br>id: 1833</br>prediction: 0.086</br>shotType: 0.9299999999999999</br></br>h_a: 0.0</br>situation: 2.0</br>lastAction: 0.0</br>minute: 3</br>distanceToGoal: 9.53310076709881</br>angleToGoal: 40.4664837945122</br>_original_yhat_: 0.07474706388596017</br>"
          ],
          [
           "</br>id: 1833</br>prediction: 0.086</br>shotType: 0.96</br></br>h_a: 0.0</br>situation: 2.0</br>lastAction: 0.0</br>minute: 3</br>distanceToGoal: 9.53310076709881</br>angleToGoal: 40.4664837945122</br>_original_yhat_: 0.07474706388596017</br>"
          ],
          [
           "</br>id: 1833</br>prediction: 0.087</br>shotType: 0.99</br></br>h_a: 0.0</br>situation: 2.0</br>lastAction: 0.0</br>minute: 3</br>distanceToGoal: 9.53310076709881</br>angleToGoal: 40.4664837945122</br>_original_yhat_: 0.07474706388596017</br>"
          ],
          [
           "</br>id: 1833</br>prediction: 0.087</br>shotType: 1.02</br></br>h_a: 0.0</br>situation: 2.0</br>lastAction: 0.0</br>minute: 3</br>distanceToGoal: 9.53310076709881</br>angleToGoal: 40.4664837945122</br>_original_yhat_: 0.07474706388596017</br>"
          ],
          [
           "</br>id: 1833</br>prediction: 0.087</br>shotType: 1.05</br></br>h_a: 0.0</br>situation: 2.0</br>lastAction: 0.0</br>minute: 3</br>distanceToGoal: 9.53310076709881</br>angleToGoal: 40.4664837945122</br>_original_yhat_: 0.07474706388596017</br>"
          ],
          [
           "</br>id: 1833</br>prediction: 0.088</br>shotType: 1.08</br></br>h_a: 0.0</br>situation: 2.0</br>lastAction: 0.0</br>minute: 3</br>distanceToGoal: 9.53310076709881</br>angleToGoal: 40.4664837945122</br>_original_yhat_: 0.07474706388596017</br>"
          ],
          [
           "</br>id: 1833</br>prediction: 0.088</br>shotType: 1.1099999999999999</br></br>h_a: 0.0</br>situation: 2.0</br>lastAction: 0.0</br>minute: 3</br>distanceToGoal: 9.53310076709881</br>angleToGoal: 40.4664837945122</br>_original_yhat_: 0.07474706388596017</br>"
          ],
          [
           "</br>id: 1833</br>prediction: 0.088</br>shotType: 1.14</br></br>h_a: 0.0</br>situation: 2.0</br>lastAction: 0.0</br>minute: 3</br>distanceToGoal: 9.53310076709881</br>angleToGoal: 40.4664837945122</br>_original_yhat_: 0.07474706388596017</br>"
          ],
          [
           "</br>id: 1833</br>prediction: 0.089</br>shotType: 1.17</br></br>h_a: 0.0</br>situation: 2.0</br>lastAction: 0.0</br>minute: 3</br>distanceToGoal: 9.53310076709881</br>angleToGoal: 40.4664837945122</br>_original_yhat_: 0.07474706388596017</br>"
          ],
          [
           "</br>id: 1833</br>prediction: 0.089</br>shotType: 1.2</br></br>h_a: 0.0</br>situation: 2.0</br>lastAction: 0.0</br>minute: 3</br>distanceToGoal: 9.53310076709881</br>angleToGoal: 40.4664837945122</br>_original_yhat_: 0.07474706388596017</br>"
          ],
          [
           "</br>id: 1833</br>prediction: 0.09</br>shotType: 1.23</br></br>h_a: 0.0</br>situation: 2.0</br>lastAction: 0.0</br>minute: 3</br>distanceToGoal: 9.53310076709881</br>angleToGoal: 40.4664837945122</br>_original_yhat_: 0.07474706388596017</br>"
          ],
          [
           "</br>id: 1833</br>prediction: 0.09</br>shotType: 1.26</br></br>h_a: 0.0</br>situation: 2.0</br>lastAction: 0.0</br>minute: 3</br>distanceToGoal: 9.53310076709881</br>angleToGoal: 40.4664837945122</br>_original_yhat_: 0.07474706388596017</br>"
          ],
          [
           "</br>id: 1833</br>prediction: 0.09</br>shotType: 1.29</br></br>h_a: 0.0</br>situation: 2.0</br>lastAction: 0.0</br>minute: 3</br>distanceToGoal: 9.53310076709881</br>angleToGoal: 40.4664837945122</br>_original_yhat_: 0.07474706388596017</br>"
          ],
          [
           "</br>id: 1833</br>prediction: 0.091</br>shotType: 1.3199999999999998</br></br>h_a: 0.0</br>situation: 2.0</br>lastAction: 0.0</br>minute: 3</br>distanceToGoal: 9.53310076709881</br>angleToGoal: 40.4664837945122</br>_original_yhat_: 0.07474706388596017</br>"
          ],
          [
           "</br>id: 1833</br>prediction: 0.091</br>shotType: 1.3499999999999999</br></br>h_a: 0.0</br>situation: 2.0</br>lastAction: 0.0</br>minute: 3</br>distanceToGoal: 9.53310076709881</br>angleToGoal: 40.4664837945122</br>_original_yhat_: 0.07474706388596017</br>"
          ],
          [
           "</br>id: 1833</br>prediction: 0.092</br>shotType: 1.38</br></br>h_a: 0.0</br>situation: 2.0</br>lastAction: 0.0</br>minute: 3</br>distanceToGoal: 9.53310076709881</br>angleToGoal: 40.4664837945122</br>_original_yhat_: 0.07474706388596017</br>"
          ],
          [
           "</br>id: 1833</br>prediction: 0.092</br>shotType: 1.41</br></br>h_a: 0.0</br>situation: 2.0</br>lastAction: 0.0</br>minute: 3</br>distanceToGoal: 9.53310076709881</br>angleToGoal: 40.4664837945122</br>_original_yhat_: 0.07474706388596017</br>"
          ],
          [
           "</br>id: 1833</br>prediction: 0.092</br>shotType: 1.44</br></br>h_a: 0.0</br>situation: 2.0</br>lastAction: 0.0</br>minute: 3</br>distanceToGoal: 9.53310076709881</br>angleToGoal: 40.4664837945122</br>_original_yhat_: 0.07474706388596017</br>"
          ],
          [
           "</br>id: 1833</br>prediction: 0.093</br>shotType: 1.47</br></br>h_a: 0.0</br>situation: 2.0</br>lastAction: 0.0</br>minute: 3</br>distanceToGoal: 9.53310076709881</br>angleToGoal: 40.4664837945122</br>_original_yhat_: 0.07474706388596017</br>"
          ],
          [
           "</br>id: 1833</br>prediction: 0.093</br>shotType: 1.5</br></br>h_a: 0.0</br>situation: 2.0</br>lastAction: 0.0</br>minute: 3</br>distanceToGoal: 9.53310076709881</br>angleToGoal: 40.4664837945122</br>_original_yhat_: 0.07474706388596017</br>"
          ],
          [
           "</br>id: 1833</br>prediction: 0.094</br>shotType: 1.53</br></br>h_a: 0.0</br>situation: 2.0</br>lastAction: 0.0</br>minute: 3</br>distanceToGoal: 9.53310076709881</br>angleToGoal: 40.4664837945122</br>_original_yhat_: 0.07474706388596017</br>"
          ],
          [
           "</br>id: 1833</br>prediction: 0.094</br>shotType: 1.56</br></br>h_a: 0.0</br>situation: 2.0</br>lastAction: 0.0</br>minute: 3</br>distanceToGoal: 9.53310076709881</br>angleToGoal: 40.4664837945122</br>_original_yhat_: 0.07474706388596017</br>"
          ],
          [
           "</br>id: 1833</br>prediction: 0.095</br>shotType: 1.5899999999999999</br></br>h_a: 0.0</br>situation: 2.0</br>lastAction: 0.0</br>minute: 3</br>distanceToGoal: 9.53310076709881</br>angleToGoal: 40.4664837945122</br>_original_yhat_: 0.07474706388596017</br>"
          ],
          [
           "</br>id: 1833</br>prediction: 0.095</br>shotType: 1.6199999999999999</br></br>h_a: 0.0</br>situation: 2.0</br>lastAction: 0.0</br>minute: 3</br>distanceToGoal: 9.53310076709881</br>angleToGoal: 40.4664837945122</br>_original_yhat_: 0.07474706388596017</br>"
          ],
          [
           "</br>id: 1833</br>prediction: 0.095</br>shotType: 1.65</br></br>h_a: 0.0</br>situation: 2.0</br>lastAction: 0.0</br>minute: 3</br>distanceToGoal: 9.53310076709881</br>angleToGoal: 40.4664837945122</br>_original_yhat_: 0.07474706388596017</br>"
          ],
          [
           "</br>id: 1833</br>prediction: 0.096</br>shotType: 1.68</br></br>h_a: 0.0</br>situation: 2.0</br>lastAction: 0.0</br>minute: 3</br>distanceToGoal: 9.53310076709881</br>angleToGoal: 40.4664837945122</br>_original_yhat_: 0.07474706388596017</br>"
          ],
          [
           "</br>id: 1833</br>prediction: 0.096</br>shotType: 1.71</br></br>h_a: 0.0</br>situation: 2.0</br>lastAction: 0.0</br>minute: 3</br>distanceToGoal: 9.53310076709881</br>angleToGoal: 40.4664837945122</br>_original_yhat_: 0.07474706388596017</br>"
          ],
          [
           "</br>id: 1833</br>prediction: 0.097</br>shotType: 1.74</br></br>h_a: 0.0</br>situation: 2.0</br>lastAction: 0.0</br>minute: 3</br>distanceToGoal: 9.53310076709881</br>angleToGoal: 40.4664837945122</br>_original_yhat_: 0.07474706388596017</br>"
          ],
          [
           "</br>id: 1833</br>prediction: 0.097</br>shotType: 1.77</br></br>h_a: 0.0</br>situation: 2.0</br>lastAction: 0.0</br>minute: 3</br>distanceToGoal: 9.53310076709881</br>angleToGoal: 40.4664837945122</br>_original_yhat_: 0.07474706388596017</br>"
          ],
          [
           "</br>id: 1833</br>prediction: 0.097</br>shotType: 1.7999999999999998</br></br>h_a: 0.0</br>situation: 2.0</br>lastAction: 0.0</br>minute: 3</br>distanceToGoal: 9.53310076709881</br>angleToGoal: 40.4664837945122</br>_original_yhat_: 0.07474706388596017</br>"
          ],
          [
           "</br>id: 1833</br>prediction: 0.098</br>shotType: 1.8299999999999998</br></br>h_a: 0.0</br>situation: 2.0</br>lastAction: 0.0</br>minute: 3</br>distanceToGoal: 9.53310076709881</br>angleToGoal: 40.4664837945122</br>_original_yhat_: 0.07474706388596017</br>"
          ],
          [
           "</br>id: 1833</br>prediction: 0.098</br>shotType: 1.8599999999999999</br></br>h_a: 0.0</br>situation: 2.0</br>lastAction: 0.0</br>minute: 3</br>distanceToGoal: 9.53310076709881</br>angleToGoal: 40.4664837945122</br>_original_yhat_: 0.07474706388596017</br>"
          ],
          [
           "</br>id: 1833</br>prediction: 0.099</br>shotType: 1.89</br></br>h_a: 0.0</br>situation: 2.0</br>lastAction: 0.0</br>minute: 3</br>distanceToGoal: 9.53310076709881</br>angleToGoal: 40.4664837945122</br>_original_yhat_: 0.07474706388596017</br>"
          ],
          [
           "</br>id: 1833</br>prediction: 0.099</br>shotType: 1.92</br></br>h_a: 0.0</br>situation: 2.0</br>lastAction: 0.0</br>minute: 3</br>distanceToGoal: 9.53310076709881</br>angleToGoal: 40.4664837945122</br>_original_yhat_: 0.07474706388596017</br>"
          ],
          [
           "</br>id: 1833</br>prediction: 0.1</br>shotType: 1.95</br></br>h_a: 0.0</br>situation: 2.0</br>lastAction: 0.0</br>minute: 3</br>distanceToGoal: 9.53310076709881</br>angleToGoal: 40.4664837945122</br>_original_yhat_: 0.07474706388596017</br>"
          ],
          [
           "</br>id: 1833</br>prediction: 0.1</br>shotType: 1.98</br></br>h_a: 0.0</br>situation: 2.0</br>lastAction: 0.0</br>minute: 3</br>distanceToGoal: 9.53310076709881</br>angleToGoal: 40.4664837945122</br>_original_yhat_: 0.07474706388596017</br>"
          ],
          [
           "</br>id: 1833</br>prediction: 0.1</br>shotType: 2.01</br></br>h_a: 0.0</br>situation: 2.0</br>lastAction: 0.0</br>minute: 3</br>distanceToGoal: 9.53310076709881</br>angleToGoal: 40.4664837945122</br>_original_yhat_: 0.07474706388596017</br>"
          ],
          [
           "</br>id: 1833</br>prediction: 0.101</br>shotType: 2.04</br></br>h_a: 0.0</br>situation: 2.0</br>lastAction: 0.0</br>minute: 3</br>distanceToGoal: 9.53310076709881</br>angleToGoal: 40.4664837945122</br>_original_yhat_: 0.07474706388596017</br>"
          ],
          [
           "</br>id: 1833</br>prediction: 0.101</br>shotType: 2.07</br></br>h_a: 0.0</br>situation: 2.0</br>lastAction: 0.0</br>minute: 3</br>distanceToGoal: 9.53310076709881</br>angleToGoal: 40.4664837945122</br>_original_yhat_: 0.07474706388596017</br>"
          ],
          [
           "</br>id: 1833</br>prediction: 0.102</br>shotType: 2.1</br></br>h_a: 0.0</br>situation: 2.0</br>lastAction: 0.0</br>minute: 3</br>distanceToGoal: 9.53310076709881</br>angleToGoal: 40.4664837945122</br>_original_yhat_: 0.07474706388596017</br>"
          ],
          [
           "</br>id: 1833</br>prediction: 0.102</br>shotType: 2.13</br></br>h_a: 0.0</br>situation: 2.0</br>lastAction: 0.0</br>minute: 3</br>distanceToGoal: 9.53310076709881</br>angleToGoal: 40.4664837945122</br>_original_yhat_: 0.07474706388596017</br>"
          ],
          [
           "</br>id: 1833</br>prediction: 0.103</br>shotType: 2.16</br></br>h_a: 0.0</br>situation: 2.0</br>lastAction: 0.0</br>minute: 3</br>distanceToGoal: 9.53310076709881</br>angleToGoal: 40.4664837945122</br>_original_yhat_: 0.07474706388596017</br>"
          ],
          [
           "</br>id: 1833</br>prediction: 0.103</br>shotType: 2.19</br></br>h_a: 0.0</br>situation: 2.0</br>lastAction: 0.0</br>minute: 3</br>distanceToGoal: 9.53310076709881</br>angleToGoal: 40.4664837945122</br>_original_yhat_: 0.07474706388596017</br>"
          ],
          [
           "</br>id: 1833</br>prediction: 0.104</br>shotType: 2.2199999999999998</br></br>h_a: 0.0</br>situation: 2.0</br>lastAction: 0.0</br>minute: 3</br>distanceToGoal: 9.53310076709881</br>angleToGoal: 40.4664837945122</br>_original_yhat_: 0.07474706388596017</br>"
          ],
          [
           "</br>id: 1833</br>prediction: 0.104</br>shotType: 2.25</br></br>h_a: 0.0</br>situation: 2.0</br>lastAction: 0.0</br>minute: 3</br>distanceToGoal: 9.53310076709881</br>angleToGoal: 40.4664837945122</br>_original_yhat_: 0.07474706388596017</br>"
          ],
          [
           "</br>id: 1833</br>prediction: 0.104</br>shotType: 2.28</br></br>h_a: 0.0</br>situation: 2.0</br>lastAction: 0.0</br>minute: 3</br>distanceToGoal: 9.53310076709881</br>angleToGoal: 40.4664837945122</br>_original_yhat_: 0.07474706388596017</br>"
          ],
          [
           "</br>id: 1833</br>prediction: 0.105</br>shotType: 2.31</br></br>h_a: 0.0</br>situation: 2.0</br>lastAction: 0.0</br>minute: 3</br>distanceToGoal: 9.53310076709881</br>angleToGoal: 40.4664837945122</br>_original_yhat_: 0.07474706388596017</br>"
          ],
          [
           "</br>id: 1833</br>prediction: 0.105</br>shotType: 2.34</br></br>h_a: 0.0</br>situation: 2.0</br>lastAction: 0.0</br>minute: 3</br>distanceToGoal: 9.53310076709881</br>angleToGoal: 40.4664837945122</br>_original_yhat_: 0.07474706388596017</br>"
          ],
          [
           "</br>id: 1833</br>prediction: 0.106</br>shotType: 2.37</br></br>h_a: 0.0</br>situation: 2.0</br>lastAction: 0.0</br>minute: 3</br>distanceToGoal: 9.53310076709881</br>angleToGoal: 40.4664837945122</br>_original_yhat_: 0.07474706388596017</br>"
          ],
          [
           "</br>id: 1833</br>prediction: 0.106</br>shotType: 2.4</br></br>h_a: 0.0</br>situation: 2.0</br>lastAction: 0.0</br>minute: 3</br>distanceToGoal: 9.53310076709881</br>angleToGoal: 40.4664837945122</br>_original_yhat_: 0.07474706388596017</br>"
          ],
          [
           "</br>id: 1833</br>prediction: 0.107</br>shotType: 2.4299999999999997</br></br>h_a: 0.0</br>situation: 2.0</br>lastAction: 0.0</br>minute: 3</br>distanceToGoal: 9.53310076709881</br>angleToGoal: 40.4664837945122</br>_original_yhat_: 0.07474706388596017</br>"
          ],
          [
           "</br>id: 1833</br>prediction: 0.107</br>shotType: 2.46</br></br>h_a: 0.0</br>situation: 2.0</br>lastAction: 0.0</br>minute: 3</br>distanceToGoal: 9.53310076709881</br>angleToGoal: 40.4664837945122</br>_original_yhat_: 0.07474706388596017</br>"
          ],
          [
           "</br>id: 1833</br>prediction: 0.108</br>shotType: 2.4899999999999998</br></br>h_a: 0.0</br>situation: 2.0</br>lastAction: 0.0</br>minute: 3</br>distanceToGoal: 9.53310076709881</br>angleToGoal: 40.4664837945122</br>_original_yhat_: 0.07474706388596017</br>"
          ],
          [
           "</br>id: 1833</br>prediction: 0.108</br>shotType: 2.52</br></br>h_a: 0.0</br>situation: 2.0</br>lastAction: 0.0</br>minute: 3</br>distanceToGoal: 9.53310076709881</br>angleToGoal: 40.4664837945122</br>_original_yhat_: 0.07474706388596017</br>"
          ],
          [
           "</br>id: 1833</br>prediction: 0.109</br>shotType: 2.55</br></br>h_a: 0.0</br>situation: 2.0</br>lastAction: 0.0</br>minute: 3</br>distanceToGoal: 9.53310076709881</br>angleToGoal: 40.4664837945122</br>_original_yhat_: 0.07474706388596017</br>"
          ],
          [
           "</br>id: 1833</br>prediction: 0.109</br>shotType: 2.58</br></br>h_a: 0.0</br>situation: 2.0</br>lastAction: 0.0</br>minute: 3</br>distanceToGoal: 9.53310076709881</br>angleToGoal: 40.4664837945122</br>_original_yhat_: 0.07474706388596017</br>"
          ],
          [
           "</br>id: 1833</br>prediction: 0.11</br>shotType: 2.61</br></br>h_a: 0.0</br>situation: 2.0</br>lastAction: 0.0</br>minute: 3</br>distanceToGoal: 9.53310076709881</br>angleToGoal: 40.4664837945122</br>_original_yhat_: 0.07474706388596017</br>"
          ],
          [
           "</br>id: 1833</br>prediction: 0.11</br>shotType: 2.6399999999999997</br></br>h_a: 0.0</br>situation: 2.0</br>lastAction: 0.0</br>minute: 3</br>distanceToGoal: 9.53310076709881</br>angleToGoal: 40.4664837945122</br>_original_yhat_: 0.07474706388596017</br>"
          ],
          [
           "</br>id: 1833</br>prediction: 0.11</br>shotType: 2.67</br></br>h_a: 0.0</br>situation: 2.0</br>lastAction: 0.0</br>minute: 3</br>distanceToGoal: 9.53310076709881</br>angleToGoal: 40.4664837945122</br>_original_yhat_: 0.07474706388596017</br>"
          ],
          [
           "</br>id: 1833</br>prediction: 0.111</br>shotType: 2.6999999999999997</br></br>h_a: 0.0</br>situation: 2.0</br>lastAction: 0.0</br>minute: 3</br>distanceToGoal: 9.53310076709881</br>angleToGoal: 40.4664837945122</br>_original_yhat_: 0.07474706388596017</br>"
          ],
          [
           "</br>id: 1833</br>prediction: 0.111</br>shotType: 2.73</br></br>h_a: 0.0</br>situation: 2.0</br>lastAction: 0.0</br>minute: 3</br>distanceToGoal: 9.53310076709881</br>angleToGoal: 40.4664837945122</br>_original_yhat_: 0.07474706388596017</br>"
          ],
          [
           "</br>id: 1833</br>prediction: 0.112</br>shotType: 2.76</br></br>h_a: 0.0</br>situation: 2.0</br>lastAction: 0.0</br>minute: 3</br>distanceToGoal: 9.53310076709881</br>angleToGoal: 40.4664837945122</br>_original_yhat_: 0.07474706388596017</br>"
          ],
          [
           "</br>id: 1833</br>prediction: 0.112</br>shotType: 2.79</br></br>h_a: 0.0</br>situation: 2.0</br>lastAction: 0.0</br>minute: 3</br>distanceToGoal: 9.53310076709881</br>angleToGoal: 40.4664837945122</br>_original_yhat_: 0.07474706388596017</br>"
          ],
          [
           "</br>id: 1833</br>prediction: 0.113</br>shotType: 2.82</br></br>h_a: 0.0</br>situation: 2.0</br>lastAction: 0.0</br>minute: 3</br>distanceToGoal: 9.53310076709881</br>angleToGoal: 40.4664837945122</br>_original_yhat_: 0.07474706388596017</br>"
          ],
          [
           "</br>id: 1833</br>prediction: 0.113</br>shotType: 2.85</br></br>h_a: 0.0</br>situation: 2.0</br>lastAction: 0.0</br>minute: 3</br>distanceToGoal: 9.53310076709881</br>angleToGoal: 40.4664837945122</br>_original_yhat_: 0.07474706388596017</br>"
          ],
          [
           "</br>id: 1833</br>prediction: 0.114</br>shotType: 2.88</br></br>h_a: 0.0</br>situation: 2.0</br>lastAction: 0.0</br>minute: 3</br>distanceToGoal: 9.53310076709881</br>angleToGoal: 40.4664837945122</br>_original_yhat_: 0.07474706388596017</br>"
          ],
          [
           "</br>id: 1833</br>prediction: 0.114</br>shotType: 2.9099999999999997</br></br>h_a: 0.0</br>situation: 2.0</br>lastAction: 0.0</br>minute: 3</br>distanceToGoal: 9.53310076709881</br>angleToGoal: 40.4664837945122</br>_original_yhat_: 0.07474706388596017</br>"
          ],
          [
           "</br>id: 1833</br>prediction: 0.115</br>shotType: 2.94</br></br>h_a: 0.0</br>situation: 2.0</br>lastAction: 0.0</br>minute: 3</br>distanceToGoal: 9.53310076709881</br>angleToGoal: 40.4664837945122</br>_original_yhat_: 0.07474706388596017</br>"
          ],
          [
           "</br>id: 1833</br>prediction: 0.115</br>shotType: 2.9699999999999998</br></br>h_a: 0.0</br>situation: 2.0</br>lastAction: 0.0</br>minute: 3</br>distanceToGoal: 9.53310076709881</br>angleToGoal: 40.4664837945122</br>_original_yhat_: 0.07474706388596017</br>"
          ],
          [
           "</br>id: 1833</br>prediction: 0.116</br>shotType: 3.0</br></br>h_a: 0.0</br>situation: 2.0</br>lastAction: 0.0</br>minute: 3</br>distanceToGoal: 9.53310076709881</br>angleToGoal: 40.4664837945122</br>_original_yhat_: 0.07474706388596017</br>"
          ]
         ],
         "hovertemplate": "%{customdata[0]}<extra></extra>",
         "legendgroup": "Logistic Regression",
         "line": {
          "color": "#4378bf",
          "dash": "solid",
          "width": 2
         },
         "marker": {
          "symbol": "circle"
         },
         "mode": "lines",
         "name": "Logistic Regression",
         "opacity": 1,
         "showlegend": false,
         "type": "scattergl",
         "x": [
          0,
          0.03,
          0.06,
          0.09,
          0.12,
          0.15,
          0.18,
          0.21,
          0.24,
          0.27,
          0.3,
          0.32999999999999996,
          0.36,
          0.39,
          0.42,
          0.44999999999999996,
          0.48,
          0.51,
          0.54,
          0.57,
          0.6,
          0.63,
          0.6599999999999999,
          0.69,
          0.72,
          0.75,
          0.78,
          0.8099999999999999,
          0.84,
          0.87,
          0.8999999999999999,
          0.9299999999999999,
          0.96,
          0.99,
          1.02,
          1.05,
          1.08,
          1.1099999999999999,
          1.14,
          1.17,
          1.2,
          1.23,
          1.26,
          1.29,
          1.3199999999999998,
          1.3499999999999999,
          1.38,
          1.41,
          1.44,
          1.47,
          1.5,
          1.53,
          1.56,
          1.5899999999999999,
          1.6199999999999999,
          1.65,
          1.68,
          1.71,
          1.74,
          1.77,
          1.7999999999999998,
          1.8299999999999998,
          1.8599999999999999,
          1.89,
          1.92,
          1.95,
          1.98,
          2.01,
          2.04,
          2.07,
          2.1,
          2.13,
          2.16,
          2.19,
          2.2199999999999998,
          2.25,
          2.28,
          2.31,
          2.34,
          2.37,
          2.4,
          2.4299999999999997,
          2.46,
          2.4899999999999998,
          2.52,
          2.55,
          2.58,
          2.61,
          2.6399999999999997,
          2.67,
          2.6999999999999997,
          2.73,
          2.76,
          2.79,
          2.82,
          2.85,
          2.88,
          2.9099999999999997,
          2.94,
          2.9699999999999998,
          3
         ],
         "xaxis": "x5",
         "y": [
          0.07474706388596017,
          0.0750819200189983,
          0.07541815398448183,
          0.0757557703547742,
          0.07609477370750699,
          0.07643516862548609,
          0.07677695969659659,
          0.07712015151370685,
          0.07746474867457119,
          0.07781075578173167,
          0.07815817744241864,
          0.07850701826845027,
          0.07885728287613086,
          0.07920897588614814,
          0.07956210192346944,
          0.07991666561723651,
          0.0802726716006595,
          0.08063012451090959,
          0.08098902898901053,
          0.08134938967972903,
          0.08171121123146399,
          0.08207449829613453,
          0.08243925552906688,
          0.08280548758888005,
          0.08317319913737048,
          0.08354239483939507,
          0.08391307936275366,
          0.08428525737806977,
          0.08465893355867034,
          0.08503411258046431,
          0.0854107991218199,
          0.0857889978634407,
          0.08616871348824046,
          0.08654995068121688,
          0.08693271412932396,
          0.08731700852134307,
          0.08770283854775301,
          0.0880902089005986,
          0.08847912427335812,
          0.08886958936080953,
          0.08926160885889528,
          0.08965518746458613,
          0.09005032987574327,
          0.09044704079097972,
          0.09084532490951984,
          0.09124518693105814,
          0.0916466315556164,
          0.09204966348339973,
          0.09245428741465106,
          0.09286050804950474,
          0.09326833008783846,
          0.09367775822912414,
          0.09408879717227717,
          0.09450145161550486,
          0.09491572625615301,
          0.09533162579055166,
          0.09574915491385899,
          0.09616831831990445,
          0.09658912070103017,
          0.09701156674793107,
          0.09743566114949397,
          0.09786140859263487,
          0.09828881376213525,
          0.09871788134047696,
          0.09914861600767548,
          0.0995810224411124,
          0.10001510531536591,
          0.10045086930204042,
          0.10088831906959454,
          0.10132745928316785,
          0.10176829460440616,
          0.10221082969128571,
          0.10265506919793549,
          0.10310101777445876,
          0.1035486800667528,
          0.10399806071632751,
          0.10444916436012247,
          0.10490199563032275,
          0.10535655915417326,
          0.10581285955379185,
          0.10627090144598089,
          0.1067306894420375,
          0.10719222814756252,
          0.10765552216226781,
          0.10812057607978265,
          0.10858739448745826,
          0.10905598196617118,
          0.10952634309012531,
          0.10999848242665243,
          0.1104724045360114,
          0.110948113971186,
          0.1114256152776814,
          0.11190491299331899,
          0.11238601164803039,
          0.1128689157636495,
          0.11335362985370348,
          0.11384015842320219,
          0.11432850596842646,
          0.11481867697671472,
          0.11531067592624854,
          0.11580450728583647
         ],
         "yaxis": "y5"
        },
        {
         "customdata": [
          [
           "</br>id: 1833</br>prediction: 0.075</br>lastAction: 0.0</br></br>h_a: 0.0</br>situation: 2.0</br>shotType: 0.0</br>minute: 3</br>distanceToGoal: 9.53310076709881</br>angleToGoal: 40.4664837945122</br>_original_yhat_: 0.07474706388596017</br>"
          ],
          [
           "</br>id: 1833</br>prediction: 0.076</br>lastAction: 0.26</br></br>h_a: 0.0</br>situation: 2.0</br>shotType: 0.0</br>minute: 3</br>distanceToGoal: 9.53310076709881</br>angleToGoal: 40.4664837945122</br>_original_yhat_: 0.07474706388596017</br>"
          ],
          [
           "</br>id: 1833</br>prediction: 0.077</br>lastAction: 0.52</br></br>h_a: 0.0</br>situation: 2.0</br>shotType: 0.0</br>minute: 3</br>distanceToGoal: 9.53310076709881</br>angleToGoal: 40.4664837945122</br>_original_yhat_: 0.07474706388596017</br>"
          ],
          [
           "</br>id: 1833</br>prediction: 0.078</br>lastAction: 0.78</br></br>h_a: 0.0</br>situation: 2.0</br>shotType: 0.0</br>minute: 3</br>distanceToGoal: 9.53310076709881</br>angleToGoal: 40.4664837945122</br>_original_yhat_: 0.07474706388596017</br>"
          ],
          [
           "</br>id: 1833</br>prediction: 0.079</br>lastAction: 1.04</br></br>h_a: 0.0</br>situation: 2.0</br>shotType: 0.0</br>minute: 3</br>distanceToGoal: 9.53310076709881</br>angleToGoal: 40.4664837945122</br>_original_yhat_: 0.07474706388596017</br>"
          ],
          [
           "</br>id: 1833</br>prediction: 0.08</br>lastAction: 1.3</br></br>h_a: 0.0</br>situation: 2.0</br>shotType: 0.0</br>minute: 3</br>distanceToGoal: 9.53310076709881</br>angleToGoal: 40.4664837945122</br>_original_yhat_: 0.07474706388596017</br>"
          ],
          [
           "</br>id: 1833</br>prediction: 0.081</br>lastAction: 1.56</br></br>h_a: 0.0</br>situation: 2.0</br>shotType: 0.0</br>minute: 3</br>distanceToGoal: 9.53310076709881</br>angleToGoal: 40.4664837945122</br>_original_yhat_: 0.07474706388596017</br>"
          ],
          [
           "</br>id: 1833</br>prediction: 0.082</br>lastAction: 1.82</br></br>h_a: 0.0</br>situation: 2.0</br>shotType: 0.0</br>minute: 3</br>distanceToGoal: 9.53310076709881</br>angleToGoal: 40.4664837945122</br>_original_yhat_: 0.07474706388596017</br>"
          ],
          [
           "</br>id: 1833</br>prediction: 0.083</br>lastAction: 2.08</br></br>h_a: 0.0</br>situation: 2.0</br>shotType: 0.0</br>minute: 3</br>distanceToGoal: 9.53310076709881</br>angleToGoal: 40.4664837945122</br>_original_yhat_: 0.07474706388596017</br>"
          ],
          [
           "</br>id: 1833</br>prediction: 0.084</br>lastAction: 2.34</br></br>h_a: 0.0</br>situation: 2.0</br>shotType: 0.0</br>minute: 3</br>distanceToGoal: 9.53310076709881</br>angleToGoal: 40.4664837945122</br>_original_yhat_: 0.07474706388596017</br>"
          ],
          [
           "</br>id: 1833</br>prediction: 0.086</br>lastAction: 2.6</br></br>h_a: 0.0</br>situation: 2.0</br>shotType: 0.0</br>minute: 3</br>distanceToGoal: 9.53310076709881</br>angleToGoal: 40.4664837945122</br>_original_yhat_: 0.07474706388596017</br>"
          ],
          [
           "</br>id: 1833</br>prediction: 0.087</br>lastAction: 2.8600000000000003</br></br>h_a: 0.0</br>situation: 2.0</br>shotType: 0.0</br>minute: 3</br>distanceToGoal: 9.53310076709881</br>angleToGoal: 40.4664837945122</br>_original_yhat_: 0.07474706388596017</br>"
          ],
          [
           "</br>id: 1833</br>prediction: 0.088</br>lastAction: 3.12</br></br>h_a: 0.0</br>situation: 2.0</br>shotType: 0.0</br>minute: 3</br>distanceToGoal: 9.53310076709881</br>angleToGoal: 40.4664837945122</br>_original_yhat_: 0.07474706388596017</br>"
          ],
          [
           "</br>id: 1833</br>prediction: 0.089</br>lastAction: 3.38</br></br>h_a: 0.0</br>situation: 2.0</br>shotType: 0.0</br>minute: 3</br>distanceToGoal: 9.53310076709881</br>angleToGoal: 40.4664837945122</br>_original_yhat_: 0.07474706388596017</br>"
          ],
          [
           "</br>id: 1833</br>prediction: 0.09</br>lastAction: 3.64</br></br>h_a: 0.0</br>situation: 2.0</br>shotType: 0.0</br>minute: 3</br>distanceToGoal: 9.53310076709881</br>angleToGoal: 40.4664837945122</br>_original_yhat_: 0.07474706388596017</br>"
          ],
          [
           "</br>id: 1833</br>prediction: 0.092</br>lastAction: 3.9000000000000004</br></br>h_a: 0.0</br>situation: 2.0</br>shotType: 0.0</br>minute: 3</br>distanceToGoal: 9.53310076709881</br>angleToGoal: 40.4664837945122</br>_original_yhat_: 0.07474706388596017</br>"
          ],
          [
           "</br>id: 1833</br>prediction: 0.093</br>lastAction: 4.16</br></br>h_a: 0.0</br>situation: 2.0</br>shotType: 0.0</br>minute: 3</br>distanceToGoal: 9.53310076709881</br>angleToGoal: 40.4664837945122</br>_original_yhat_: 0.07474706388596017</br>"
          ],
          [
           "</br>id: 1833</br>prediction: 0.094</br>lastAction: 4.42</br></br>h_a: 0.0</br>situation: 2.0</br>shotType: 0.0</br>minute: 3</br>distanceToGoal: 9.53310076709881</br>angleToGoal: 40.4664837945122</br>_original_yhat_: 0.07474706388596017</br>"
          ],
          [
           "</br>id: 1833</br>prediction: 0.095</br>lastAction: 4.68</br></br>h_a: 0.0</br>situation: 2.0</br>shotType: 0.0</br>minute: 3</br>distanceToGoal: 9.53310076709881</br>angleToGoal: 40.4664837945122</br>_original_yhat_: 0.07474706388596017</br>"
          ],
          [
           "</br>id: 1833</br>prediction: 0.097</br>lastAction: 4.94</br></br>h_a: 0.0</br>situation: 2.0</br>shotType: 0.0</br>minute: 3</br>distanceToGoal: 9.53310076709881</br>angleToGoal: 40.4664837945122</br>_original_yhat_: 0.07474706388596017</br>"
          ],
          [
           "</br>id: 1833</br>prediction: 0.098</br>lastAction: 5.2</br></br>h_a: 0.0</br>situation: 2.0</br>shotType: 0.0</br>minute: 3</br>distanceToGoal: 9.53310076709881</br>angleToGoal: 40.4664837945122</br>_original_yhat_: 0.07474706388596017</br>"
          ],
          [
           "</br>id: 1833</br>prediction: 0.099</br>lastAction: 5.46</br></br>h_a: 0.0</br>situation: 2.0</br>shotType: 0.0</br>minute: 3</br>distanceToGoal: 9.53310076709881</br>angleToGoal: 40.4664837945122</br>_original_yhat_: 0.07474706388596017</br>"
          ],
          [
           "</br>id: 1833</br>prediction: 0.101</br>lastAction: 5.720000000000001</br></br>h_a: 0.0</br>situation: 2.0</br>shotType: 0.0</br>minute: 3</br>distanceToGoal: 9.53310076709881</br>angleToGoal: 40.4664837945122</br>_original_yhat_: 0.07474706388596017</br>"
          ],
          [
           "</br>id: 1833</br>prediction: 0.102</br>lastAction: 5.98</br></br>h_a: 0.0</br>situation: 2.0</br>shotType: 0.0</br>minute: 3</br>distanceToGoal: 9.53310076709881</br>angleToGoal: 40.4664837945122</br>_original_yhat_: 0.07474706388596017</br>"
          ],
          [
           "</br>id: 1833</br>prediction: 0.103</br>lastAction: 6.24</br></br>h_a: 0.0</br>situation: 2.0</br>shotType: 0.0</br>minute: 3</br>distanceToGoal: 9.53310076709881</br>angleToGoal: 40.4664837945122</br>_original_yhat_: 0.07474706388596017</br>"
          ],
          [
           "</br>id: 1833</br>prediction: 0.105</br>lastAction: 6.5</br></br>h_a: 0.0</br>situation: 2.0</br>shotType: 0.0</br>minute: 3</br>distanceToGoal: 9.53310076709881</br>angleToGoal: 40.4664837945122</br>_original_yhat_: 0.07474706388596017</br>"
          ],
          [
           "</br>id: 1833</br>prediction: 0.106</br>lastAction: 6.76</br></br>h_a: 0.0</br>situation: 2.0</br>shotType: 0.0</br>minute: 3</br>distanceToGoal: 9.53310076709881</br>angleToGoal: 40.4664837945122</br>_original_yhat_: 0.07474706388596017</br>"
          ],
          [
           "</br>id: 1833</br>prediction: 0.107</br>lastAction: 7.0200000000000005</br></br>h_a: 0.0</br>situation: 2.0</br>shotType: 0.0</br>minute: 3</br>distanceToGoal: 9.53310076709881</br>angleToGoal: 40.4664837945122</br>_original_yhat_: 0.07474706388596017</br>"
          ],
          [
           "</br>id: 1833</br>prediction: 0.109</br>lastAction: 7.28</br></br>h_a: 0.0</br>situation: 2.0</br>shotType: 0.0</br>minute: 3</br>distanceToGoal: 9.53310076709881</br>angleToGoal: 40.4664837945122</br>_original_yhat_: 0.07474706388596017</br>"
          ],
          [
           "</br>id: 1833</br>prediction: 0.11</br>lastAction: 7.54</br></br>h_a: 0.0</br>situation: 2.0</br>shotType: 0.0</br>minute: 3</br>distanceToGoal: 9.53310076709881</br>angleToGoal: 40.4664837945122</br>_original_yhat_: 0.07474706388596017</br>"
          ],
          [
           "</br>id: 1833</br>prediction: 0.112</br>lastAction: 7.800000000000001</br></br>h_a: 0.0</br>situation: 2.0</br>shotType: 0.0</br>minute: 3</br>distanceToGoal: 9.53310076709881</br>angleToGoal: 40.4664837945122</br>_original_yhat_: 0.07474706388596017</br>"
          ],
          [
           "</br>id: 1833</br>prediction: 0.113</br>lastAction: 8.06</br></br>h_a: 0.0</br>situation: 2.0</br>shotType: 0.0</br>minute: 3</br>distanceToGoal: 9.53310076709881</br>angleToGoal: 40.4664837945122</br>_original_yhat_: 0.07474706388596017</br>"
          ],
          [
           "</br>id: 1833</br>prediction: 0.115</br>lastAction: 8.32</br></br>h_a: 0.0</br>situation: 2.0</br>shotType: 0.0</br>minute: 3</br>distanceToGoal: 9.53310076709881</br>angleToGoal: 40.4664837945122</br>_original_yhat_: 0.07474706388596017</br>"
          ],
          [
           "</br>id: 1833</br>prediction: 0.116</br>lastAction: 8.58</br></br>h_a: 0.0</br>situation: 2.0</br>shotType: 0.0</br>minute: 3</br>distanceToGoal: 9.53310076709881</br>angleToGoal: 40.4664837945122</br>_original_yhat_: 0.07474706388596017</br>"
          ],
          [
           "</br>id: 1833</br>prediction: 0.118</br>lastAction: 8.84</br></br>h_a: 0.0</br>situation: 2.0</br>shotType: 0.0</br>minute: 3</br>distanceToGoal: 9.53310076709881</br>angleToGoal: 40.4664837945122</br>_original_yhat_: 0.07474706388596017</br>"
          ],
          [
           "</br>id: 1833</br>prediction: 0.119</br>lastAction: 9.1</br></br>h_a: 0.0</br>situation: 2.0</br>shotType: 0.0</br>minute: 3</br>distanceToGoal: 9.53310076709881</br>angleToGoal: 40.4664837945122</br>_original_yhat_: 0.07474706388596017</br>"
          ],
          [
           "</br>id: 1833</br>prediction: 0.121</br>lastAction: 9.36</br></br>h_a: 0.0</br>situation: 2.0</br>shotType: 0.0</br>minute: 3</br>distanceToGoal: 9.53310076709881</br>angleToGoal: 40.4664837945122</br>_original_yhat_: 0.07474706388596017</br>"
          ],
          [
           "</br>id: 1833</br>prediction: 0.122</br>lastAction: 9.620000000000001</br></br>h_a: 0.0</br>situation: 2.0</br>shotType: 0.0</br>minute: 3</br>distanceToGoal: 9.53310076709881</br>angleToGoal: 40.4664837945122</br>_original_yhat_: 0.07474706388596017</br>"
          ],
          [
           "</br>id: 1833</br>prediction: 0.124</br>lastAction: 9.88</br></br>h_a: 0.0</br>situation: 2.0</br>shotType: 0.0</br>minute: 3</br>distanceToGoal: 9.53310076709881</br>angleToGoal: 40.4664837945122</br>_original_yhat_: 0.07474706388596017</br>"
          ],
          [
           "</br>id: 1833</br>prediction: 0.126</br>lastAction: 10.14</br></br>h_a: 0.0</br>situation: 2.0</br>shotType: 0.0</br>minute: 3</br>distanceToGoal: 9.53310076709881</br>angleToGoal: 40.4664837945122</br>_original_yhat_: 0.07474706388596017</br>"
          ],
          [
           "</br>id: 1833</br>prediction: 0.127</br>lastAction: 10.4</br></br>h_a: 0.0</br>situation: 2.0</br>shotType: 0.0</br>minute: 3</br>distanceToGoal: 9.53310076709881</br>angleToGoal: 40.4664837945122</br>_original_yhat_: 0.07474706388596017</br>"
          ],
          [
           "</br>id: 1833</br>prediction: 0.129</br>lastAction: 10.66</br></br>h_a: 0.0</br>situation: 2.0</br>shotType: 0.0</br>minute: 3</br>distanceToGoal: 9.53310076709881</br>angleToGoal: 40.4664837945122</br>_original_yhat_: 0.07474706388596017</br>"
          ],
          [
           "</br>id: 1833</br>prediction: 0.131</br>lastAction: 10.92</br></br>h_a: 0.0</br>situation: 2.0</br>shotType: 0.0</br>minute: 3</br>distanceToGoal: 9.53310076709881</br>angleToGoal: 40.4664837945122</br>_original_yhat_: 0.07474706388596017</br>"
          ],
          [
           "</br>id: 1833</br>prediction: 0.132</br>lastAction: 11.18</br></br>h_a: 0.0</br>situation: 2.0</br>shotType: 0.0</br>minute: 3</br>distanceToGoal: 9.53310076709881</br>angleToGoal: 40.4664837945122</br>_original_yhat_: 0.07474706388596017</br>"
          ],
          [
           "</br>id: 1833</br>prediction: 0.134</br>lastAction: 11.440000000000001</br></br>h_a: 0.0</br>situation: 2.0</br>shotType: 0.0</br>minute: 3</br>distanceToGoal: 9.53310076709881</br>angleToGoal: 40.4664837945122</br>_original_yhat_: 0.07474706388596017</br>"
          ],
          [
           "</br>id: 1833</br>prediction: 0.136</br>lastAction: 11.700000000000001</br></br>h_a: 0.0</br>situation: 2.0</br>shotType: 0.0</br>minute: 3</br>distanceToGoal: 9.53310076709881</br>angleToGoal: 40.4664837945122</br>_original_yhat_: 0.07474706388596017</br>"
          ],
          [
           "</br>id: 1833</br>prediction: 0.137</br>lastAction: 11.96</br></br>h_a: 0.0</br>situation: 2.0</br>shotType: 0.0</br>minute: 3</br>distanceToGoal: 9.53310076709881</br>angleToGoal: 40.4664837945122</br>_original_yhat_: 0.07474706388596017</br>"
          ],
          [
           "</br>id: 1833</br>prediction: 0.139</br>lastAction: 12.22</br></br>h_a: 0.0</br>situation: 2.0</br>shotType: 0.0</br>minute: 3</br>distanceToGoal: 9.53310076709881</br>angleToGoal: 40.4664837945122</br>_original_yhat_: 0.07474706388596017</br>"
          ],
          [
           "</br>id: 1833</br>prediction: 0.141</br>lastAction: 12.48</br></br>h_a: 0.0</br>situation: 2.0</br>shotType: 0.0</br>minute: 3</br>distanceToGoal: 9.53310076709881</br>angleToGoal: 40.4664837945122</br>_original_yhat_: 0.07474706388596017</br>"
          ],
          [
           "</br>id: 1833</br>prediction: 0.143</br>lastAction: 12.74</br></br>h_a: 0.0</br>situation: 2.0</br>shotType: 0.0</br>minute: 3</br>distanceToGoal: 9.53310076709881</br>angleToGoal: 40.4664837945122</br>_original_yhat_: 0.07474706388596017</br>"
          ],
          [
           "</br>id: 1833</br>prediction: 0.145</br>lastAction: 13.0</br></br>h_a: 0.0</br>situation: 2.0</br>shotType: 0.0</br>minute: 3</br>distanceToGoal: 9.53310076709881</br>angleToGoal: 40.4664837945122</br>_original_yhat_: 0.07474706388596017</br>"
          ],
          [
           "</br>id: 1833</br>prediction: 0.146</br>lastAction: 13.26</br></br>h_a: 0.0</br>situation: 2.0</br>shotType: 0.0</br>minute: 3</br>distanceToGoal: 9.53310076709881</br>angleToGoal: 40.4664837945122</br>_original_yhat_: 0.07474706388596017</br>"
          ],
          [
           "</br>id: 1833</br>prediction: 0.148</br>lastAction: 13.52</br></br>h_a: 0.0</br>situation: 2.0</br>shotType: 0.0</br>minute: 3</br>distanceToGoal: 9.53310076709881</br>angleToGoal: 40.4664837945122</br>_original_yhat_: 0.07474706388596017</br>"
          ],
          [
           "</br>id: 1833</br>prediction: 0.15</br>lastAction: 13.780000000000001</br></br>h_a: 0.0</br>situation: 2.0</br>shotType: 0.0</br>minute: 3</br>distanceToGoal: 9.53310076709881</br>angleToGoal: 40.4664837945122</br>_original_yhat_: 0.07474706388596017</br>"
          ],
          [
           "</br>id: 1833</br>prediction: 0.152</br>lastAction: 14.040000000000001</br></br>h_a: 0.0</br>situation: 2.0</br>shotType: 0.0</br>minute: 3</br>distanceToGoal: 9.53310076709881</br>angleToGoal: 40.4664837945122</br>_original_yhat_: 0.07474706388596017</br>"
          ],
          [
           "</br>id: 1833</br>prediction: 0.154</br>lastAction: 14.3</br></br>h_a: 0.0</br>situation: 2.0</br>shotType: 0.0</br>minute: 3</br>distanceToGoal: 9.53310076709881</br>angleToGoal: 40.4664837945122</br>_original_yhat_: 0.07474706388596017</br>"
          ],
          [
           "</br>id: 1833</br>prediction: 0.156</br>lastAction: 14.56</br></br>h_a: 0.0</br>situation: 2.0</br>shotType: 0.0</br>minute: 3</br>distanceToGoal: 9.53310076709881</br>angleToGoal: 40.4664837945122</br>_original_yhat_: 0.07474706388596017</br>"
          ],
          [
           "</br>id: 1833</br>prediction: 0.158</br>lastAction: 14.82</br></br>h_a: 0.0</br>situation: 2.0</br>shotType: 0.0</br>minute: 3</br>distanceToGoal: 9.53310076709881</br>angleToGoal: 40.4664837945122</br>_original_yhat_: 0.07474706388596017</br>"
          ],
          [
           "</br>id: 1833</br>prediction: 0.16</br>lastAction: 15.08</br></br>h_a: 0.0</br>situation: 2.0</br>shotType: 0.0</br>minute: 3</br>distanceToGoal: 9.53310076709881</br>angleToGoal: 40.4664837945122</br>_original_yhat_: 0.07474706388596017</br>"
          ],
          [
           "</br>id: 1833</br>prediction: 0.162</br>lastAction: 15.34</br></br>h_a: 0.0</br>situation: 2.0</br>shotType: 0.0</br>minute: 3</br>distanceToGoal: 9.53310076709881</br>angleToGoal: 40.4664837945122</br>_original_yhat_: 0.07474706388596017</br>"
          ],
          [
           "</br>id: 1833</br>prediction: 0.164</br>lastAction: 15.600000000000001</br></br>h_a: 0.0</br>situation: 2.0</br>shotType: 0.0</br>minute: 3</br>distanceToGoal: 9.53310076709881</br>angleToGoal: 40.4664837945122</br>_original_yhat_: 0.07474706388596017</br>"
          ],
          [
           "</br>id: 1833</br>prediction: 0.166</br>lastAction: 15.860000000000001</br></br>h_a: 0.0</br>situation: 2.0</br>shotType: 0.0</br>minute: 3</br>distanceToGoal: 9.53310076709881</br>angleToGoal: 40.4664837945122</br>_original_yhat_: 0.07474706388596017</br>"
          ],
          [
           "</br>id: 1833</br>prediction: 0.168</br>lastAction: 16.12</br></br>h_a: 0.0</br>situation: 2.0</br>shotType: 0.0</br>minute: 3</br>distanceToGoal: 9.53310076709881</br>angleToGoal: 40.4664837945122</br>_original_yhat_: 0.07474706388596017</br>"
          ],
          [
           "</br>id: 1833</br>prediction: 0.17</br>lastAction: 16.38</br></br>h_a: 0.0</br>situation: 2.0</br>shotType: 0.0</br>minute: 3</br>distanceToGoal: 9.53310076709881</br>angleToGoal: 40.4664837945122</br>_original_yhat_: 0.07474706388596017</br>"
          ],
          [
           "</br>id: 1833</br>prediction: 0.172</br>lastAction: 16.64</br></br>h_a: 0.0</br>situation: 2.0</br>shotType: 0.0</br>minute: 3</br>distanceToGoal: 9.53310076709881</br>angleToGoal: 40.4664837945122</br>_original_yhat_: 0.07474706388596017</br>"
          ],
          [
           "</br>id: 1833</br>prediction: 0.174</br>lastAction: 16.900000000000002</br></br>h_a: 0.0</br>situation: 2.0</br>shotType: 0.0</br>minute: 3</br>distanceToGoal: 9.53310076709881</br>angleToGoal: 40.4664837945122</br>_original_yhat_: 0.07474706388596017</br>"
          ],
          [
           "</br>id: 1833</br>prediction: 0.176</br>lastAction: 17.16</br></br>h_a: 0.0</br>situation: 2.0</br>shotType: 0.0</br>minute: 3</br>distanceToGoal: 9.53310076709881</br>angleToGoal: 40.4664837945122</br>_original_yhat_: 0.07474706388596017</br>"
          ],
          [
           "</br>id: 1833</br>prediction: 0.179</br>lastAction: 17.42</br></br>h_a: 0.0</br>situation: 2.0</br>shotType: 0.0</br>minute: 3</br>distanceToGoal: 9.53310076709881</br>angleToGoal: 40.4664837945122</br>_original_yhat_: 0.07474706388596017</br>"
          ],
          [
           "</br>id: 1833</br>prediction: 0.181</br>lastAction: 17.68</br></br>h_a: 0.0</br>situation: 2.0</br>shotType: 0.0</br>minute: 3</br>distanceToGoal: 9.53310076709881</br>angleToGoal: 40.4664837945122</br>_original_yhat_: 0.07474706388596017</br>"
          ],
          [
           "</br>id: 1833</br>prediction: 0.183</br>lastAction: 17.94</br></br>h_a: 0.0</br>situation: 2.0</br>shotType: 0.0</br>minute: 3</br>distanceToGoal: 9.53310076709881</br>angleToGoal: 40.4664837945122</br>_original_yhat_: 0.07474706388596017</br>"
          ],
          [
           "</br>id: 1833</br>prediction: 0.185</br>lastAction: 18.2</br></br>h_a: 0.0</br>situation: 2.0</br>shotType: 0.0</br>minute: 3</br>distanceToGoal: 9.53310076709881</br>angleToGoal: 40.4664837945122</br>_original_yhat_: 0.07474706388596017</br>"
          ],
          [
           "</br>id: 1833</br>prediction: 0.187</br>lastAction: 18.46</br></br>h_a: 0.0</br>situation: 2.0</br>shotType: 0.0</br>minute: 3</br>distanceToGoal: 9.53310076709881</br>angleToGoal: 40.4664837945122</br>_original_yhat_: 0.07474706388596017</br>"
          ],
          [
           "</br>id: 1833</br>prediction: 0.19</br>lastAction: 18.72</br></br>h_a: 0.0</br>situation: 2.0</br>shotType: 0.0</br>minute: 3</br>distanceToGoal: 9.53310076709881</br>angleToGoal: 40.4664837945122</br>_original_yhat_: 0.07474706388596017</br>"
          ],
          [
           "</br>id: 1833</br>prediction: 0.192</br>lastAction: 18.98</br></br>h_a: 0.0</br>situation: 2.0</br>shotType: 0.0</br>minute: 3</br>distanceToGoal: 9.53310076709881</br>angleToGoal: 40.4664837945122</br>_original_yhat_: 0.07474706388596017</br>"
          ],
          [
           "</br>id: 1833</br>prediction: 0.194</br>lastAction: 19.240000000000002</br></br>h_a: 0.0</br>situation: 2.0</br>shotType: 0.0</br>minute: 3</br>distanceToGoal: 9.53310076709881</br>angleToGoal: 40.4664837945122</br>_original_yhat_: 0.07474706388596017</br>"
          ],
          [
           "</br>id: 1833</br>prediction: 0.197</br>lastAction: 19.5</br></br>h_a: 0.0</br>situation: 2.0</br>shotType: 0.0</br>minute: 3</br>distanceToGoal: 9.53310076709881</br>angleToGoal: 40.4664837945122</br>_original_yhat_: 0.07474706388596017</br>"
          ],
          [
           "</br>id: 1833</br>prediction: 0.199</br>lastAction: 19.76</br></br>h_a: 0.0</br>situation: 2.0</br>shotType: 0.0</br>minute: 3</br>distanceToGoal: 9.53310076709881</br>angleToGoal: 40.4664837945122</br>_original_yhat_: 0.07474706388596017</br>"
          ],
          [
           "</br>id: 1833</br>prediction: 0.201</br>lastAction: 20.02</br></br>h_a: 0.0</br>situation: 2.0</br>shotType: 0.0</br>minute: 3</br>distanceToGoal: 9.53310076709881</br>angleToGoal: 40.4664837945122</br>_original_yhat_: 0.07474706388596017</br>"
          ],
          [
           "</br>id: 1833</br>prediction: 0.204</br>lastAction: 20.28</br></br>h_a: 0.0</br>situation: 2.0</br>shotType: 0.0</br>minute: 3</br>distanceToGoal: 9.53310076709881</br>angleToGoal: 40.4664837945122</br>_original_yhat_: 0.07474706388596017</br>"
          ],
          [
           "</br>id: 1833</br>prediction: 0.206</br>lastAction: 20.54</br></br>h_a: 0.0</br>situation: 2.0</br>shotType: 0.0</br>minute: 3</br>distanceToGoal: 9.53310076709881</br>angleToGoal: 40.4664837945122</br>_original_yhat_: 0.07474706388596017</br>"
          ],
          [
           "</br>id: 1833</br>prediction: 0.208</br>lastAction: 20.8</br></br>h_a: 0.0</br>situation: 2.0</br>shotType: 0.0</br>minute: 3</br>distanceToGoal: 9.53310076709881</br>angleToGoal: 40.4664837945122</br>_original_yhat_: 0.07474706388596017</br>"
          ],
          [
           "</br>id: 1833</br>prediction: 0.211</br>lastAction: 21.060000000000002</br></br>h_a: 0.0</br>situation: 2.0</br>shotType: 0.0</br>minute: 3</br>distanceToGoal: 9.53310076709881</br>angleToGoal: 40.4664837945122</br>_original_yhat_: 0.07474706388596017</br>"
          ],
          [
           "</br>id: 1833</br>prediction: 0.213</br>lastAction: 21.32</br></br>h_a: 0.0</br>situation: 2.0</br>shotType: 0.0</br>minute: 3</br>distanceToGoal: 9.53310076709881</br>angleToGoal: 40.4664837945122</br>_original_yhat_: 0.07474706388596017</br>"
          ],
          [
           "</br>id: 1833</br>prediction: 0.216</br>lastAction: 21.580000000000002</br></br>h_a: 0.0</br>situation: 2.0</br>shotType: 0.0</br>minute: 3</br>distanceToGoal: 9.53310076709881</br>angleToGoal: 40.4664837945122</br>_original_yhat_: 0.07474706388596017</br>"
          ],
          [
           "</br>id: 1833</br>prediction: 0.218</br>lastAction: 21.84</br></br>h_a: 0.0</br>situation: 2.0</br>shotType: 0.0</br>minute: 3</br>distanceToGoal: 9.53310076709881</br>angleToGoal: 40.4664837945122</br>_original_yhat_: 0.07474706388596017</br>"
          ],
          [
           "</br>id: 1833</br>prediction: 0.221</br>lastAction: 22.1</br></br>h_a: 0.0</br>situation: 2.0</br>shotType: 0.0</br>minute: 3</br>distanceToGoal: 9.53310076709881</br>angleToGoal: 40.4664837945122</br>_original_yhat_: 0.07474706388596017</br>"
          ],
          [
           "</br>id: 1833</br>prediction: 0.223</br>lastAction: 22.36</br></br>h_a: 0.0</br>situation: 2.0</br>shotType: 0.0</br>minute: 3</br>distanceToGoal: 9.53310076709881</br>angleToGoal: 40.4664837945122</br>_original_yhat_: 0.07474706388596017</br>"
          ],
          [
           "</br>id: 1833</br>prediction: 0.226</br>lastAction: 22.62</br></br>h_a: 0.0</br>situation: 2.0</br>shotType: 0.0</br>minute: 3</br>distanceToGoal: 9.53310076709881</br>angleToGoal: 40.4664837945122</br>_original_yhat_: 0.07474706388596017</br>"
          ],
          [
           "</br>id: 1833</br>prediction: 0.229</br>lastAction: 22.880000000000003</br></br>h_a: 0.0</br>situation: 2.0</br>shotType: 0.0</br>minute: 3</br>distanceToGoal: 9.53310076709881</br>angleToGoal: 40.4664837945122</br>_original_yhat_: 0.07474706388596017</br>"
          ],
          [
           "</br>id: 1833</br>prediction: 0.231</br>lastAction: 23.14</br></br>h_a: 0.0</br>situation: 2.0</br>shotType: 0.0</br>minute: 3</br>distanceToGoal: 9.53310076709881</br>angleToGoal: 40.4664837945122</br>_original_yhat_: 0.07474706388596017</br>"
          ],
          [
           "</br>id: 1833</br>prediction: 0.234</br>lastAction: 23.400000000000002</br></br>h_a: 0.0</br>situation: 2.0</br>shotType: 0.0</br>minute: 3</br>distanceToGoal: 9.53310076709881</br>angleToGoal: 40.4664837945122</br>_original_yhat_: 0.07474706388596017</br>"
          ],
          [
           "</br>id: 1833</br>prediction: 0.237</br>lastAction: 23.66</br></br>h_a: 0.0</br>situation: 2.0</br>shotType: 0.0</br>minute: 3</br>distanceToGoal: 9.53310076709881</br>angleToGoal: 40.4664837945122</br>_original_yhat_: 0.07474706388596017</br>"
          ],
          [
           "</br>id: 1833</br>prediction: 0.239</br>lastAction: 23.92</br></br>h_a: 0.0</br>situation: 2.0</br>shotType: 0.0</br>minute: 3</br>distanceToGoal: 9.53310076709881</br>angleToGoal: 40.4664837945122</br>_original_yhat_: 0.07474706388596017</br>"
          ],
          [
           "</br>id: 1833</br>prediction: 0.242</br>lastAction: 24.18</br></br>h_a: 0.0</br>situation: 2.0</br>shotType: 0.0</br>minute: 3</br>distanceToGoal: 9.53310076709881</br>angleToGoal: 40.4664837945122</br>_original_yhat_: 0.07474706388596017</br>"
          ],
          [
           "</br>id: 1833</br>prediction: 0.245</br>lastAction: 24.44</br></br>h_a: 0.0</br>situation: 2.0</br>shotType: 0.0</br>minute: 3</br>distanceToGoal: 9.53310076709881</br>angleToGoal: 40.4664837945122</br>_original_yhat_: 0.07474706388596017</br>"
          ],
          [
           "</br>id: 1833</br>prediction: 0.247</br>lastAction: 24.7</br></br>h_a: 0.0</br>situation: 2.0</br>shotType: 0.0</br>minute: 3</br>distanceToGoal: 9.53310076709881</br>angleToGoal: 40.4664837945122</br>_original_yhat_: 0.07474706388596017</br>"
          ],
          [
           "</br>id: 1833</br>prediction: 0.25</br>lastAction: 24.96</br></br>h_a: 0.0</br>situation: 2.0</br>shotType: 0.0</br>minute: 3</br>distanceToGoal: 9.53310076709881</br>angleToGoal: 40.4664837945122</br>_original_yhat_: 0.07474706388596017</br>"
          ],
          [
           "</br>id: 1833</br>prediction: 0.253</br>lastAction: 25.220000000000002</br></br>h_a: 0.0</br>situation: 2.0</br>shotType: 0.0</br>minute: 3</br>distanceToGoal: 9.53310076709881</br>angleToGoal: 40.4664837945122</br>_original_yhat_: 0.07474706388596017</br>"
          ],
          [
           "</br>id: 1833</br>prediction: 0.256</br>lastAction: 25.48</br></br>h_a: 0.0</br>situation: 2.0</br>shotType: 0.0</br>minute: 3</br>distanceToGoal: 9.53310076709881</br>angleToGoal: 40.4664837945122</br>_original_yhat_: 0.07474706388596017</br>"
          ],
          [
           "</br>id: 1833</br>prediction: 0.259</br>lastAction: 25.740000000000002</br></br>h_a: 0.0</br>situation: 2.0</br>shotType: 0.0</br>minute: 3</br>distanceToGoal: 9.53310076709881</br>angleToGoal: 40.4664837945122</br>_original_yhat_: 0.07474706388596017</br>"
          ],
          [
           "</br>id: 1833</br>prediction: 0.261</br>lastAction: 26.0</br></br>h_a: 0.0</br>situation: 2.0</br>shotType: 0.0</br>minute: 3</br>distanceToGoal: 9.53310076709881</br>angleToGoal: 40.4664837945122</br>_original_yhat_: 0.07474706388596017</br>"
          ]
         ],
         "hovertemplate": "%{customdata[0]}<extra></extra>",
         "legendgroup": "Logistic Regression",
         "line": {
          "color": "#4378bf",
          "dash": "solid",
          "width": 2
         },
         "marker": {
          "symbol": "circle"
         },
         "mode": "lines",
         "name": "Logistic Regression",
         "opacity": 1,
         "showlegend": false,
         "type": "scattergl",
         "x": [
          0,
          0.26,
          0.52,
          0.78,
          1.04,
          1.3,
          1.56,
          1.82,
          2.08,
          2.34,
          2.6,
          2.8600000000000003,
          3.12,
          3.38,
          3.64,
          3.9000000000000004,
          4.16,
          4.42,
          4.68,
          4.94,
          5.2,
          5.46,
          5.720000000000001,
          5.98,
          6.24,
          6.5,
          6.76,
          7.0200000000000005,
          7.28,
          7.54,
          7.800000000000001,
          8.06,
          8.32,
          8.58,
          8.84,
          9.1,
          9.36,
          9.620000000000001,
          9.88,
          10.14,
          10.4,
          10.66,
          10.92,
          11.18,
          11.440000000000001,
          11.700000000000001,
          11.96,
          12.22,
          12.48,
          12.74,
          13,
          13.26,
          13.52,
          13.780000000000001,
          14.040000000000001,
          14.3,
          14.56,
          14.82,
          15.08,
          15.34,
          15.600000000000001,
          15.860000000000001,
          16.12,
          16.38,
          16.64,
          16.900000000000002,
          17.16,
          17.42,
          17.68,
          17.94,
          18.2,
          18.46,
          18.72,
          18.98,
          19.240000000000002,
          19.5,
          19.76,
          20.02,
          20.28,
          20.54,
          20.8,
          21.060000000000002,
          21.32,
          21.580000000000002,
          21.84,
          22.1,
          22.36,
          22.62,
          22.880000000000003,
          23.14,
          23.400000000000002,
          23.66,
          23.92,
          24.18,
          24.44,
          24.7,
          24.96,
          25.220000000000002,
          25.48,
          25.740000000000002,
          26
         ],
         "xaxis": "x6",
         "y": [
          0.07474706388596017,
          0.07577503259567867,
          0.07681596487983731,
          0.07786999180750974,
          0.0789372448733366,
          0.0800178559709467,
          0.08111195736546407,
          0.08221968166508754,
          0.0833411617917285,
          0.0844765309506945,
          0.08562592259940541,
          0.08678947041512952,
          0.08796730826172694,
          0.08915957015538879,
          0.09036639022936042,
          0.09158790269763675,
          0.09282424181762007,
          0.09407554185172892,
          0.0953419370279486,
          0.09662356149931398,
          0.09792054930231536,
          0.09923303431421965,
          0.10056115020929896,
          0.10190503041395912,
          0.10326480806076281,
          0.10464061594134048,
          0.10603258645818497,
          0.10744085157532557,
          0.10886554276787755,
          0.11030679097046558,
          0.1117647265245191,
          0.1132394791244385,
          0.1147311777626331,
          0.11623995067343201,
          0.11776592527586974,
          0.11930922811535077,
          0.1208699848041966,
          0.12244831996108206,
          0.12404435714936676,
          0.12565821881433004,
          0.12729002621931942,
          0.12893989938082193,
          0.13060795700247152,
          0.13229431640800543,
          0.13399909347318384,
          0.1357224025566901,
          0.1374643564300285,
          0.1392250662064388,
          0.141004641268849,
          0.14280318919688828,
          0.144620815692984,
          0.14645762450756933,
          0.14831371736342772,
          0.1501891938792046,
          0.15208415149211604,
          0.1539986853798879,
          0.15593288838195982,
          0.15788685091998939,
          0.1598606609176962,
          0.1618544037200849,
          0.16386816201208815,
          0.16590201573667585,
          0.16795604201247383,
          0.17003031505094054,
          0.172124906073152,
          0.17423988322624492,
          0.17637531149957286,
          0.1785312526406302,
          0.18070776507080022,
          0.18290490380098884,
          0.185122720347202,
          0.18736126264613254,
          0.18962057497081944,
          0.19190069784644678,
          0.19420166796635133,
          0.19652351810830837,
          0.19886627705116805,
          0.20122996949191616,
          0.203614615963235,
          0.2060202327516404,
          0.20844683181627505,
          0.21089442070843686,
          0.21336300249192508,
          0.21585257566428645,
          0.21836313407904606,
          0.22089466686900872,
          0.22344715837071685,
          0.2260205880501536,
          0.22861493042977954,
          0.23123015501699243,
          0.23386622623410183,
          0.23652310334990756,
          0.2392007404129762,
          0.24189908618670697,
          0.24461808408627814,
          0.2473576721175704,
          0.2501177828181566,
          0.252898343200453,
          0.2556992746971243,
          0.25852049310883496,
          0.26136190855443914
         ],
         "yaxis": "y6"
        },
        {
         "customdata": [
          [
           "</br>id: 1833</br>prediction: 0.074</br>minute: 0</br></br>h_a: 0.0</br>situation: 2.0</br>shotType: 0.0</br>lastAction: 0.0</br>distanceToGoal: 9.53310076709881</br>angleToGoal: 40.4664837945122</br>_original_yhat_: 0.07474706388596017</br>"
          ],
          [
           "</br>id: 1833</br>prediction: 0.074</br>minute: 1</br></br>h_a: 0.0</br>situation: 2.0</br>shotType: 0.0</br>lastAction: 0.0</br>distanceToGoal: 9.53310076709881</br>angleToGoal: 40.4664837945122</br>_original_yhat_: 0.07474706388596017</br>"
          ],
          [
           "</br>id: 1833</br>prediction: 0.075</br>minute: 2</br></br>h_a: 0.0</br>situation: 2.0</br>shotType: 0.0</br>lastAction: 0.0</br>distanceToGoal: 9.53310076709881</br>angleToGoal: 40.4664837945122</br>_original_yhat_: 0.07474706388596017</br>"
          ],
          [
           "</br>id: 1833</br>prediction: 0.075</br>minute: 3</br></br>h_a: 0.0</br>situation: 2.0</br>shotType: 0.0</br>lastAction: 0.0</br>distanceToGoal: 9.53310076709881</br>angleToGoal: 40.4664837945122</br>_original_yhat_: 0.07474706388596017</br>"
          ],
          [
           "</br>id: 1833</br>prediction: 0.075</br>minute: 4</br></br>h_a: 0.0</br>situation: 2.0</br>shotType: 0.0</br>lastAction: 0.0</br>distanceToGoal: 9.53310076709881</br>angleToGoal: 40.4664837945122</br>_original_yhat_: 0.07474706388596017</br>"
          ],
          [
           "</br>id: 1833</br>prediction: 0.075</br>minute: 5</br></br>h_a: 0.0</br>situation: 2.0</br>shotType: 0.0</br>lastAction: 0.0</br>distanceToGoal: 9.53310076709881</br>angleToGoal: 40.4664837945122</br>_original_yhat_: 0.07474706388596017</br>"
          ],
          [
           "</br>id: 1833</br>prediction: 0.075</br>minute: 6</br></br>h_a: 0.0</br>situation: 2.0</br>shotType: 0.0</br>lastAction: 0.0</br>distanceToGoal: 9.53310076709881</br>angleToGoal: 40.4664837945122</br>_original_yhat_: 0.07474706388596017</br>"
          ],
          [
           "</br>id: 1833</br>prediction: 0.075</br>minute: 7</br></br>h_a: 0.0</br>situation: 2.0</br>shotType: 0.0</br>lastAction: 0.0</br>distanceToGoal: 9.53310076709881</br>angleToGoal: 40.4664837945122</br>_original_yhat_: 0.07474706388596017</br>"
          ],
          [
           "</br>id: 1833</br>prediction: 0.076</br>minute: 8</br></br>h_a: 0.0</br>situation: 2.0</br>shotType: 0.0</br>lastAction: 0.0</br>distanceToGoal: 9.53310076709881</br>angleToGoal: 40.4664837945122</br>_original_yhat_: 0.07474706388596017</br>"
          ],
          [
           "</br>id: 1833</br>prediction: 0.076</br>minute: 9</br></br>h_a: 0.0</br>situation: 2.0</br>shotType: 0.0</br>lastAction: 0.0</br>distanceToGoal: 9.53310076709881</br>angleToGoal: 40.4664837945122</br>_original_yhat_: 0.07474706388596017</br>"
          ],
          [
           "</br>id: 1833</br>prediction: 0.076</br>minute: 10</br></br>h_a: 0.0</br>situation: 2.0</br>shotType: 0.0</br>lastAction: 0.0</br>distanceToGoal: 9.53310076709881</br>angleToGoal: 40.4664837945122</br>_original_yhat_: 0.07474706388596017</br>"
          ],
          [
           "</br>id: 1833</br>prediction: 0.076</br>minute: 11</br></br>h_a: 0.0</br>situation: 2.0</br>shotType: 0.0</br>lastAction: 0.0</br>distanceToGoal: 9.53310076709881</br>angleToGoal: 40.4664837945122</br>_original_yhat_: 0.07474706388596017</br>"
          ],
          [
           "</br>id: 1833</br>prediction: 0.076</br>minute: 12</br></br>h_a: 0.0</br>situation: 2.0</br>shotType: 0.0</br>lastAction: 0.0</br>distanceToGoal: 9.53310076709881</br>angleToGoal: 40.4664837945122</br>_original_yhat_: 0.07474706388596017</br>"
          ],
          [
           "</br>id: 1833</br>prediction: 0.076</br>minute: 13</br></br>h_a: 0.0</br>situation: 2.0</br>shotType: 0.0</br>lastAction: 0.0</br>distanceToGoal: 9.53310076709881</br>angleToGoal: 40.4664837945122</br>_original_yhat_: 0.07474706388596017</br>"
          ],
          [
           "</br>id: 1833</br>prediction: 0.076</br>minute: 14</br></br>h_a: 0.0</br>situation: 2.0</br>shotType: 0.0</br>lastAction: 0.0</br>distanceToGoal: 9.53310076709881</br>angleToGoal: 40.4664837945122</br>_original_yhat_: 0.07474706388596017</br>"
          ],
          [
           "</br>id: 1833</br>prediction: 0.077</br>minute: 15</br></br>h_a: 0.0</br>situation: 2.0</br>shotType: 0.0</br>lastAction: 0.0</br>distanceToGoal: 9.53310076709881</br>angleToGoal: 40.4664837945122</br>_original_yhat_: 0.07474706388596017</br>"
          ],
          [
           "</br>id: 1833</br>prediction: 0.077</br>minute: 16</br></br>h_a: 0.0</br>situation: 2.0</br>shotType: 0.0</br>lastAction: 0.0</br>distanceToGoal: 9.53310076709881</br>angleToGoal: 40.4664837945122</br>_original_yhat_: 0.07474706388596017</br>"
          ],
          [
           "</br>id: 1833</br>prediction: 0.077</br>minute: 17</br></br>h_a: 0.0</br>situation: 2.0</br>shotType: 0.0</br>lastAction: 0.0</br>distanceToGoal: 9.53310076709881</br>angleToGoal: 40.4664837945122</br>_original_yhat_: 0.07474706388596017</br>"
          ],
          [
           "</br>id: 1833</br>prediction: 0.077</br>minute: 18</br></br>h_a: 0.0</br>situation: 2.0</br>shotType: 0.0</br>lastAction: 0.0</br>distanceToGoal: 9.53310076709881</br>angleToGoal: 40.4664837945122</br>_original_yhat_: 0.07474706388596017</br>"
          ],
          [
           "</br>id: 1833</br>prediction: 0.077</br>minute: 19</br></br>h_a: 0.0</br>situation: 2.0</br>shotType: 0.0</br>lastAction: 0.0</br>distanceToGoal: 9.53310076709881</br>angleToGoal: 40.4664837945122</br>_original_yhat_: 0.07474706388596017</br>"
          ],
          [
           "</br>id: 1833</br>prediction: 0.077</br>minute: 20</br></br>h_a: 0.0</br>situation: 2.0</br>shotType: 0.0</br>lastAction: 0.0</br>distanceToGoal: 9.53310076709881</br>angleToGoal: 40.4664837945122</br>_original_yhat_: 0.07474706388596017</br>"
          ],
          [
           "</br>id: 1833</br>prediction: 0.078</br>minute: 21</br></br>h_a: 0.0</br>situation: 2.0</br>shotType: 0.0</br>lastAction: 0.0</br>distanceToGoal: 9.53310076709881</br>angleToGoal: 40.4664837945122</br>_original_yhat_: 0.07474706388596017</br>"
          ],
          [
           "</br>id: 1833</br>prediction: 0.078</br>minute: 22</br></br>h_a: 0.0</br>situation: 2.0</br>shotType: 0.0</br>lastAction: 0.0</br>distanceToGoal: 9.53310076709881</br>angleToGoal: 40.4664837945122</br>_original_yhat_: 0.07474706388596017</br>"
          ],
          [
           "</br>id: 1833</br>prediction: 0.078</br>minute: 23</br></br>h_a: 0.0</br>situation: 2.0</br>shotType: 0.0</br>lastAction: 0.0</br>distanceToGoal: 9.53310076709881</br>angleToGoal: 40.4664837945122</br>_original_yhat_: 0.07474706388596017</br>"
          ],
          [
           "</br>id: 1833</br>prediction: 0.078</br>minute: 24</br></br>h_a: 0.0</br>situation: 2.0</br>shotType: 0.0</br>lastAction: 0.0</br>distanceToGoal: 9.53310076709881</br>angleToGoal: 40.4664837945122</br>_original_yhat_: 0.07474706388596017</br>"
          ],
          [
           "</br>id: 1833</br>prediction: 0.078</br>minute: 25</br></br>h_a: 0.0</br>situation: 2.0</br>shotType: 0.0</br>lastAction: 0.0</br>distanceToGoal: 9.53310076709881</br>angleToGoal: 40.4664837945122</br>_original_yhat_: 0.07474706388596017</br>"
          ],
          [
           "</br>id: 1833</br>prediction: 0.078</br>minute: 26</br></br>h_a: 0.0</br>situation: 2.0</br>shotType: 0.0</br>lastAction: 0.0</br>distanceToGoal: 9.53310076709881</br>angleToGoal: 40.4664837945122</br>_original_yhat_: 0.07474706388596017</br>"
          ],
          [
           "</br>id: 1833</br>prediction: 0.079</br>minute: 27</br></br>h_a: 0.0</br>situation: 2.0</br>shotType: 0.0</br>lastAction: 0.0</br>distanceToGoal: 9.53310076709881</br>angleToGoal: 40.4664837945122</br>_original_yhat_: 0.07474706388596017</br>"
          ],
          [
           "</br>id: 1833</br>prediction: 0.079</br>minute: 28</br></br>h_a: 0.0</br>situation: 2.0</br>shotType: 0.0</br>lastAction: 0.0</br>distanceToGoal: 9.53310076709881</br>angleToGoal: 40.4664837945122</br>_original_yhat_: 0.07474706388596017</br>"
          ],
          [
           "</br>id: 1833</br>prediction: 0.079</br>minute: 29</br></br>h_a: 0.0</br>situation: 2.0</br>shotType: 0.0</br>lastAction: 0.0</br>distanceToGoal: 9.53310076709881</br>angleToGoal: 40.4664837945122</br>_original_yhat_: 0.07474706388596017</br>"
          ],
          [
           "</br>id: 1833</br>prediction: 0.079</br>minute: 30</br></br>h_a: 0.0</br>situation: 2.0</br>shotType: 0.0</br>lastAction: 0.0</br>distanceToGoal: 9.53310076709881</br>angleToGoal: 40.4664837945122</br>_original_yhat_: 0.07474706388596017</br>"
          ],
          [
           "</br>id: 1833</br>prediction: 0.079</br>minute: 31</br></br>h_a: 0.0</br>situation: 2.0</br>shotType: 0.0</br>lastAction: 0.0</br>distanceToGoal: 9.53310076709881</br>angleToGoal: 40.4664837945122</br>_original_yhat_: 0.07474706388596017</br>"
          ],
          [
           "</br>id: 1833</br>prediction: 0.079</br>minute: 32</br></br>h_a: 0.0</br>situation: 2.0</br>shotType: 0.0</br>lastAction: 0.0</br>distanceToGoal: 9.53310076709881</br>angleToGoal: 40.4664837945122</br>_original_yhat_: 0.07474706388596017</br>"
          ],
          [
           "</br>id: 1833</br>prediction: 0.079</br>minute: 33</br></br>h_a: 0.0</br>situation: 2.0</br>shotType: 0.0</br>lastAction: 0.0</br>distanceToGoal: 9.53310076709881</br>angleToGoal: 40.4664837945122</br>_original_yhat_: 0.07474706388596017</br>"
          ],
          [
           "</br>id: 1833</br>prediction: 0.08</br>minute: 34</br></br>h_a: 0.0</br>situation: 2.0</br>shotType: 0.0</br>lastAction: 0.0</br>distanceToGoal: 9.53310076709881</br>angleToGoal: 40.4664837945122</br>_original_yhat_: 0.07474706388596017</br>"
          ],
          [
           "</br>id: 1833</br>prediction: 0.08</br>minute: 35</br></br>h_a: 0.0</br>situation: 2.0</br>shotType: 0.0</br>lastAction: 0.0</br>distanceToGoal: 9.53310076709881</br>angleToGoal: 40.4664837945122</br>_original_yhat_: 0.07474706388596017</br>"
          ],
          [
           "</br>id: 1833</br>prediction: 0.08</br>minute: 36</br></br>h_a: 0.0</br>situation: 2.0</br>shotType: 0.0</br>lastAction: 0.0</br>distanceToGoal: 9.53310076709881</br>angleToGoal: 40.4664837945122</br>_original_yhat_: 0.07474706388596017</br>"
          ],
          [
           "</br>id: 1833</br>prediction: 0.08</br>minute: 37</br></br>h_a: 0.0</br>situation: 2.0</br>shotType: 0.0</br>lastAction: 0.0</br>distanceToGoal: 9.53310076709881</br>angleToGoal: 40.4664837945122</br>_original_yhat_: 0.07474706388596017</br>"
          ],
          [
           "</br>id: 1833</br>prediction: 0.08</br>minute: 38</br></br>h_a: 0.0</br>situation: 2.0</br>shotType: 0.0</br>lastAction: 0.0</br>distanceToGoal: 9.53310076709881</br>angleToGoal: 40.4664837945122</br>_original_yhat_: 0.07474706388596017</br>"
          ],
          [
           "</br>id: 1833</br>prediction: 0.08</br>minute: 39</br></br>h_a: 0.0</br>situation: 2.0</br>shotType: 0.0</br>lastAction: 0.0</br>distanceToGoal: 9.53310076709881</br>angleToGoal: 40.4664837945122</br>_original_yhat_: 0.07474706388596017</br>"
          ],
          [
           "</br>id: 1833</br>prediction: 0.081</br>minute: 40</br></br>h_a: 0.0</br>situation: 2.0</br>shotType: 0.0</br>lastAction: 0.0</br>distanceToGoal: 9.53310076709881</br>angleToGoal: 40.4664837945122</br>_original_yhat_: 0.07474706388596017</br>"
          ],
          [
           "</br>id: 1833</br>prediction: 0.081</br>minute: 41</br></br>h_a: 0.0</br>situation: 2.0</br>shotType: 0.0</br>lastAction: 0.0</br>distanceToGoal: 9.53310076709881</br>angleToGoal: 40.4664837945122</br>_original_yhat_: 0.07474706388596017</br>"
          ],
          [
           "</br>id: 1833</br>prediction: 0.081</br>minute: 42</br></br>h_a: 0.0</br>situation: 2.0</br>shotType: 0.0</br>lastAction: 0.0</br>distanceToGoal: 9.53310076709881</br>angleToGoal: 40.4664837945122</br>_original_yhat_: 0.07474706388596017</br>"
          ],
          [
           "</br>id: 1833</br>prediction: 0.081</br>minute: 43</br></br>h_a: 0.0</br>situation: 2.0</br>shotType: 0.0</br>lastAction: 0.0</br>distanceToGoal: 9.53310076709881</br>angleToGoal: 40.4664837945122</br>_original_yhat_: 0.07474706388596017</br>"
          ],
          [
           "</br>id: 1833</br>prediction: 0.081</br>minute: 44</br></br>h_a: 0.0</br>situation: 2.0</br>shotType: 0.0</br>lastAction: 0.0</br>distanceToGoal: 9.53310076709881</br>angleToGoal: 40.4664837945122</br>_original_yhat_: 0.07474706388596017</br>"
          ],
          [
           "</br>id: 1833</br>prediction: 0.081</br>minute: 45</br></br>h_a: 0.0</br>situation: 2.0</br>shotType: 0.0</br>lastAction: 0.0</br>distanceToGoal: 9.53310076709881</br>angleToGoal: 40.4664837945122</br>_original_yhat_: 0.07474706388596017</br>"
          ],
          [
           "</br>id: 1833</br>prediction: 0.082</br>minute: 46</br></br>h_a: 0.0</br>situation: 2.0</br>shotType: 0.0</br>lastAction: 0.0</br>distanceToGoal: 9.53310076709881</br>angleToGoal: 40.4664837945122</br>_original_yhat_: 0.07474706388596017</br>"
          ],
          [
           "</br>id: 1833</br>prediction: 0.082</br>minute: 47</br></br>h_a: 0.0</br>situation: 2.0</br>shotType: 0.0</br>lastAction: 0.0</br>distanceToGoal: 9.53310076709881</br>angleToGoal: 40.4664837945122</br>_original_yhat_: 0.07474706388596017</br>"
          ],
          [
           "</br>id: 1833</br>prediction: 0.082</br>minute: 48</br></br>h_a: 0.0</br>situation: 2.0</br>shotType: 0.0</br>lastAction: 0.0</br>distanceToGoal: 9.53310076709881</br>angleToGoal: 40.4664837945122</br>_original_yhat_: 0.07474706388596017</br>"
          ],
          [
           "</br>id: 1833</br>prediction: 0.082</br>minute: 49</br></br>h_a: 0.0</br>situation: 2.0</br>shotType: 0.0</br>lastAction: 0.0</br>distanceToGoal: 9.53310076709881</br>angleToGoal: 40.4664837945122</br>_original_yhat_: 0.07474706388596017</br>"
          ],
          [
           "</br>id: 1833</br>prediction: 0.082</br>minute: 50</br></br>h_a: 0.0</br>situation: 2.0</br>shotType: 0.0</br>lastAction: 0.0</br>distanceToGoal: 9.53310076709881</br>angleToGoal: 40.4664837945122</br>_original_yhat_: 0.07474706388596017</br>"
          ],
          [
           "</br>id: 1833</br>prediction: 0.082</br>minute: 51</br></br>h_a: 0.0</br>situation: 2.0</br>shotType: 0.0</br>lastAction: 0.0</br>distanceToGoal: 9.53310076709881</br>angleToGoal: 40.4664837945122</br>_original_yhat_: 0.07474706388596017</br>"
          ],
          [
           "</br>id: 1833</br>prediction: 0.083</br>minute: 52</br></br>h_a: 0.0</br>situation: 2.0</br>shotType: 0.0</br>lastAction: 0.0</br>distanceToGoal: 9.53310076709881</br>angleToGoal: 40.4664837945122</br>_original_yhat_: 0.07474706388596017</br>"
          ],
          [
           "</br>id: 1833</br>prediction: 0.083</br>minute: 53</br></br>h_a: 0.0</br>situation: 2.0</br>shotType: 0.0</br>lastAction: 0.0</br>distanceToGoal: 9.53310076709881</br>angleToGoal: 40.4664837945122</br>_original_yhat_: 0.07474706388596017</br>"
          ],
          [
           "</br>id: 1833</br>prediction: 0.083</br>minute: 54</br></br>h_a: 0.0</br>situation: 2.0</br>shotType: 0.0</br>lastAction: 0.0</br>distanceToGoal: 9.53310076709881</br>angleToGoal: 40.4664837945122</br>_original_yhat_: 0.07474706388596017</br>"
          ],
          [
           "</br>id: 1833</br>prediction: 0.083</br>minute: 55</br></br>h_a: 0.0</br>situation: 2.0</br>shotType: 0.0</br>lastAction: 0.0</br>distanceToGoal: 9.53310076709881</br>angleToGoal: 40.4664837945122</br>_original_yhat_: 0.07474706388596017</br>"
          ],
          [
           "</br>id: 1833</br>prediction: 0.083</br>minute: 56</br></br>h_a: 0.0</br>situation: 2.0</br>shotType: 0.0</br>lastAction: 0.0</br>distanceToGoal: 9.53310076709881</br>angleToGoal: 40.4664837945122</br>_original_yhat_: 0.07474706388596017</br>"
          ],
          [
           "</br>id: 1833</br>prediction: 0.083</br>minute: 57</br></br>h_a: 0.0</br>situation: 2.0</br>shotType: 0.0</br>lastAction: 0.0</br>distanceToGoal: 9.53310076709881</br>angleToGoal: 40.4664837945122</br>_original_yhat_: 0.07474706388596017</br>"
          ],
          [
           "</br>id: 1833</br>prediction: 0.084</br>minute: 58</br></br>h_a: 0.0</br>situation: 2.0</br>shotType: 0.0</br>lastAction: 0.0</br>distanceToGoal: 9.53310076709881</br>angleToGoal: 40.4664837945122</br>_original_yhat_: 0.07474706388596017</br>"
          ],
          [
           "</br>id: 1833</br>prediction: 0.084</br>minute: 59</br></br>h_a: 0.0</br>situation: 2.0</br>shotType: 0.0</br>lastAction: 0.0</br>distanceToGoal: 9.53310076709881</br>angleToGoal: 40.4664837945122</br>_original_yhat_: 0.07474706388596017</br>"
          ],
          [
           "</br>id: 1833</br>prediction: 0.084</br>minute: 60</br></br>h_a: 0.0</br>situation: 2.0</br>shotType: 0.0</br>lastAction: 0.0</br>distanceToGoal: 9.53310076709881</br>angleToGoal: 40.4664837945122</br>_original_yhat_: 0.07474706388596017</br>"
          ],
          [
           "</br>id: 1833</br>prediction: 0.084</br>minute: 61</br></br>h_a: 0.0</br>situation: 2.0</br>shotType: 0.0</br>lastAction: 0.0</br>distanceToGoal: 9.53310076709881</br>angleToGoal: 40.4664837945122</br>_original_yhat_: 0.07474706388596017</br>"
          ],
          [
           "</br>id: 1833</br>prediction: 0.084</br>minute: 62</br></br>h_a: 0.0</br>situation: 2.0</br>shotType: 0.0</br>lastAction: 0.0</br>distanceToGoal: 9.53310076709881</br>angleToGoal: 40.4664837945122</br>_original_yhat_: 0.07474706388596017</br>"
          ],
          [
           "</br>id: 1833</br>prediction: 0.085</br>minute: 63</br></br>h_a: 0.0</br>situation: 2.0</br>shotType: 0.0</br>lastAction: 0.0</br>distanceToGoal: 9.53310076709881</br>angleToGoal: 40.4664837945122</br>_original_yhat_: 0.07474706388596017</br>"
          ],
          [
           "</br>id: 1833</br>prediction: 0.085</br>minute: 64</br></br>h_a: 0.0</br>situation: 2.0</br>shotType: 0.0</br>lastAction: 0.0</br>distanceToGoal: 9.53310076709881</br>angleToGoal: 40.4664837945122</br>_original_yhat_: 0.07474706388596017</br>"
          ],
          [
           "</br>id: 1833</br>prediction: 0.085</br>minute: 65</br></br>h_a: 0.0</br>situation: 2.0</br>shotType: 0.0</br>lastAction: 0.0</br>distanceToGoal: 9.53310076709881</br>angleToGoal: 40.4664837945122</br>_original_yhat_: 0.07474706388596017</br>"
          ],
          [
           "</br>id: 1833</br>prediction: 0.085</br>minute: 66</br></br>h_a: 0.0</br>situation: 2.0</br>shotType: 0.0</br>lastAction: 0.0</br>distanceToGoal: 9.53310076709881</br>angleToGoal: 40.4664837945122</br>_original_yhat_: 0.07474706388596017</br>"
          ],
          [
           "</br>id: 1833</br>prediction: 0.085</br>minute: 67</br></br>h_a: 0.0</br>situation: 2.0</br>shotType: 0.0</br>lastAction: 0.0</br>distanceToGoal: 9.53310076709881</br>angleToGoal: 40.4664837945122</br>_original_yhat_: 0.07474706388596017</br>"
          ],
          [
           "</br>id: 1833</br>prediction: 0.085</br>minute: 68</br></br>h_a: 0.0</br>situation: 2.0</br>shotType: 0.0</br>lastAction: 0.0</br>distanceToGoal: 9.53310076709881</br>angleToGoal: 40.4664837945122</br>_original_yhat_: 0.07474706388596017</br>"
          ],
          [
           "</br>id: 1833</br>prediction: 0.086</br>minute: 69</br></br>h_a: 0.0</br>situation: 2.0</br>shotType: 0.0</br>lastAction: 0.0</br>distanceToGoal: 9.53310076709881</br>angleToGoal: 40.4664837945122</br>_original_yhat_: 0.07474706388596017</br>"
          ],
          [
           "</br>id: 1833</br>prediction: 0.086</br>minute: 70</br></br>h_a: 0.0</br>situation: 2.0</br>shotType: 0.0</br>lastAction: 0.0</br>distanceToGoal: 9.53310076709881</br>angleToGoal: 40.4664837945122</br>_original_yhat_: 0.07474706388596017</br>"
          ],
          [
           "</br>id: 1833</br>prediction: 0.086</br>minute: 71</br></br>h_a: 0.0</br>situation: 2.0</br>shotType: 0.0</br>lastAction: 0.0</br>distanceToGoal: 9.53310076709881</br>angleToGoal: 40.4664837945122</br>_original_yhat_: 0.07474706388596017</br>"
          ],
          [
           "</br>id: 1833</br>prediction: 0.086</br>minute: 72</br></br>h_a: 0.0</br>situation: 2.0</br>shotType: 0.0</br>lastAction: 0.0</br>distanceToGoal: 9.53310076709881</br>angleToGoal: 40.4664837945122</br>_original_yhat_: 0.07474706388596017</br>"
          ],
          [
           "</br>id: 1833</br>prediction: 0.086</br>minute: 73</br></br>h_a: 0.0</br>situation: 2.0</br>shotType: 0.0</br>lastAction: 0.0</br>distanceToGoal: 9.53310076709881</br>angleToGoal: 40.4664837945122</br>_original_yhat_: 0.07474706388596017</br>"
          ],
          [
           "</br>id: 1833</br>prediction: 0.086</br>minute: 74</br></br>h_a: 0.0</br>situation: 2.0</br>shotType: 0.0</br>lastAction: 0.0</br>distanceToGoal: 9.53310076709881</br>angleToGoal: 40.4664837945122</br>_original_yhat_: 0.07474706388596017</br>"
          ],
          [
           "</br>id: 1833</br>prediction: 0.087</br>minute: 75</br></br>h_a: 0.0</br>situation: 2.0</br>shotType: 0.0</br>lastAction: 0.0</br>distanceToGoal: 9.53310076709881</br>angleToGoal: 40.4664837945122</br>_original_yhat_: 0.07474706388596017</br>"
          ],
          [
           "</br>id: 1833</br>prediction: 0.087</br>minute: 76</br></br>h_a: 0.0</br>situation: 2.0</br>shotType: 0.0</br>lastAction: 0.0</br>distanceToGoal: 9.53310076709881</br>angleToGoal: 40.4664837945122</br>_original_yhat_: 0.07474706388596017</br>"
          ],
          [
           "</br>id: 1833</br>prediction: 0.087</br>minute: 77</br></br>h_a: 0.0</br>situation: 2.0</br>shotType: 0.0</br>lastAction: 0.0</br>distanceToGoal: 9.53310076709881</br>angleToGoal: 40.4664837945122</br>_original_yhat_: 0.07474706388596017</br>"
          ],
          [
           "</br>id: 1833</br>prediction: 0.087</br>minute: 78</br></br>h_a: 0.0</br>situation: 2.0</br>shotType: 0.0</br>lastAction: 0.0</br>distanceToGoal: 9.53310076709881</br>angleToGoal: 40.4664837945122</br>_original_yhat_: 0.07474706388596017</br>"
          ],
          [
           "</br>id: 1833</br>prediction: 0.087</br>minute: 79</br></br>h_a: 0.0</br>situation: 2.0</br>shotType: 0.0</br>lastAction: 0.0</br>distanceToGoal: 9.53310076709881</br>angleToGoal: 40.4664837945122</br>_original_yhat_: 0.07474706388596017</br>"
          ],
          [
           "</br>id: 1833</br>prediction: 0.087</br>minute: 80</br></br>h_a: 0.0</br>situation: 2.0</br>shotType: 0.0</br>lastAction: 0.0</br>distanceToGoal: 9.53310076709881</br>angleToGoal: 40.4664837945122</br>_original_yhat_: 0.07474706388596017</br>"
          ],
          [
           "</br>id: 1833</br>prediction: 0.088</br>minute: 81</br></br>h_a: 0.0</br>situation: 2.0</br>shotType: 0.0</br>lastAction: 0.0</br>distanceToGoal: 9.53310076709881</br>angleToGoal: 40.4664837945122</br>_original_yhat_: 0.07474706388596017</br>"
          ],
          [
           "</br>id: 1833</br>prediction: 0.088</br>minute: 82</br></br>h_a: 0.0</br>situation: 2.0</br>shotType: 0.0</br>lastAction: 0.0</br>distanceToGoal: 9.53310076709881</br>angleToGoal: 40.4664837945122</br>_original_yhat_: 0.07474706388596017</br>"
          ],
          [
           "</br>id: 1833</br>prediction: 0.088</br>minute: 83</br></br>h_a: 0.0</br>situation: 2.0</br>shotType: 0.0</br>lastAction: 0.0</br>distanceToGoal: 9.53310076709881</br>angleToGoal: 40.4664837945122</br>_original_yhat_: 0.07474706388596017</br>"
          ],
          [
           "</br>id: 1833</br>prediction: 0.088</br>minute: 84</br></br>h_a: 0.0</br>situation: 2.0</br>shotType: 0.0</br>lastAction: 0.0</br>distanceToGoal: 9.53310076709881</br>angleToGoal: 40.4664837945122</br>_original_yhat_: 0.07474706388596017</br>"
          ],
          [
           "</br>id: 1833</br>prediction: 0.088</br>minute: 85</br></br>h_a: 0.0</br>situation: 2.0</br>shotType: 0.0</br>lastAction: 0.0</br>distanceToGoal: 9.53310076709881</br>angleToGoal: 40.4664837945122</br>_original_yhat_: 0.07474706388596017</br>"
          ],
          [
           "</br>id: 1833</br>prediction: 0.089</br>minute: 86</br></br>h_a: 0.0</br>situation: 2.0</br>shotType: 0.0</br>lastAction: 0.0</br>distanceToGoal: 9.53310076709881</br>angleToGoal: 40.4664837945122</br>_original_yhat_: 0.07474706388596017</br>"
          ],
          [
           "</br>id: 1833</br>prediction: 0.089</br>minute: 87</br></br>h_a: 0.0</br>situation: 2.0</br>shotType: 0.0</br>lastAction: 0.0</br>distanceToGoal: 9.53310076709881</br>angleToGoal: 40.4664837945122</br>_original_yhat_: 0.07474706388596017</br>"
          ],
          [
           "</br>id: 1833</br>prediction: 0.089</br>minute: 88</br></br>h_a: 0.0</br>situation: 2.0</br>shotType: 0.0</br>lastAction: 0.0</br>distanceToGoal: 9.53310076709881</br>angleToGoal: 40.4664837945122</br>_original_yhat_: 0.07474706388596017</br>"
          ],
          [
           "</br>id: 1833</br>prediction: 0.089</br>minute: 89</br></br>h_a: 0.0</br>situation: 2.0</br>shotType: 0.0</br>lastAction: 0.0</br>distanceToGoal: 9.53310076709881</br>angleToGoal: 40.4664837945122</br>_original_yhat_: 0.07474706388596017</br>"
          ],
          [
           "</br>id: 1833</br>prediction: 0.089</br>minute: 90</br></br>h_a: 0.0</br>situation: 2.0</br>shotType: 0.0</br>lastAction: 0.0</br>distanceToGoal: 9.53310076709881</br>angleToGoal: 40.4664837945122</br>_original_yhat_: 0.07474706388596017</br>"
          ],
          [
           "</br>id: 1833</br>prediction: 0.089</br>minute: 91</br></br>h_a: 0.0</br>situation: 2.0</br>shotType: 0.0</br>lastAction: 0.0</br>distanceToGoal: 9.53310076709881</br>angleToGoal: 40.4664837945122</br>_original_yhat_: 0.07474706388596017</br>"
          ],
          [
           "</br>id: 1833</br>prediction: 0.09</br>minute: 92</br></br>h_a: 0.0</br>situation: 2.0</br>shotType: 0.0</br>lastAction: 0.0</br>distanceToGoal: 9.53310076709881</br>angleToGoal: 40.4664837945122</br>_original_yhat_: 0.07474706388596017</br>"
          ],
          [
           "</br>id: 1833</br>prediction: 0.09</br>minute: 93</br></br>h_a: 0.0</br>situation: 2.0</br>shotType: 0.0</br>lastAction: 0.0</br>distanceToGoal: 9.53310076709881</br>angleToGoal: 40.4664837945122</br>_original_yhat_: 0.07474706388596017</br>"
          ],
          [
           "</br>id: 1833</br>prediction: 0.09</br>minute: 94</br></br>h_a: 0.0</br>situation: 2.0</br>shotType: 0.0</br>lastAction: 0.0</br>distanceToGoal: 9.53310076709881</br>angleToGoal: 40.4664837945122</br>_original_yhat_: 0.07474706388596017</br>"
          ],
          [
           "</br>id: 1833</br>prediction: 0.09</br>minute: 95</br></br>h_a: 0.0</br>situation: 2.0</br>shotType: 0.0</br>lastAction: 0.0</br>distanceToGoal: 9.53310076709881</br>angleToGoal: 40.4664837945122</br>_original_yhat_: 0.07474706388596017</br>"
          ],
          [
           "</br>id: 1833</br>prediction: 0.09</br>minute: 96</br></br>h_a: 0.0</br>situation: 2.0</br>shotType: 0.0</br>lastAction: 0.0</br>distanceToGoal: 9.53310076709881</br>angleToGoal: 40.4664837945122</br>_original_yhat_: 0.07474706388596017</br>"
          ],
          [
           "</br>id: 1833</br>prediction: 0.091</br>minute: 97</br></br>h_a: 0.0</br>situation: 2.0</br>shotType: 0.0</br>lastAction: 0.0</br>distanceToGoal: 9.53310076709881</br>angleToGoal: 40.4664837945122</br>_original_yhat_: 0.07474706388596017</br>"
          ],
          [
           "</br>id: 1833</br>prediction: 0.091</br>minute: 98</br></br>h_a: 0.0</br>situation: 2.0</br>shotType: 0.0</br>lastAction: 0.0</br>distanceToGoal: 9.53310076709881</br>angleToGoal: 40.4664837945122</br>_original_yhat_: 0.07474706388596017</br>"
          ],
          [
           "</br>id: 1833</br>prediction: 0.091</br>minute: 99</br></br>h_a: 0.0</br>situation: 2.0</br>shotType: 0.0</br>lastAction: 0.0</br>distanceToGoal: 9.53310076709881</br>angleToGoal: 40.4664837945122</br>_original_yhat_: 0.07474706388596017</br>"
          ],
          [
           "</br>id: 1833</br>prediction: 0.091</br>minute: 100</br></br>h_a: 0.0</br>situation: 2.0</br>shotType: 0.0</br>lastAction: 0.0</br>distanceToGoal: 9.53310076709881</br>angleToGoal: 40.4664837945122</br>_original_yhat_: 0.07474706388596017</br>"
          ]
         ],
         "hovertemplate": "%{customdata[0]}<extra></extra>",
         "legendgroup": "Logistic Regression",
         "line": {
          "color": "#4378bf",
          "dash": "solid",
          "width": 2
         },
         "marker": {
          "symbol": "circle"
         },
         "mode": "lines",
         "name": "Logistic Regression",
         "opacity": 1,
         "showlegend": false,
         "type": "scattergl",
         "x": [
          0,
          1,
          2,
          3,
          4,
          5,
          6,
          7,
          8,
          9,
          10,
          11,
          12,
          13,
          14,
          15,
          16,
          17,
          18,
          19,
          20,
          21,
          22,
          23,
          24,
          25,
          26,
          27,
          28,
          29,
          30,
          31,
          32,
          33,
          34,
          35,
          36,
          37,
          38,
          39,
          40,
          41,
          42,
          43,
          44,
          45,
          46,
          47,
          48,
          49,
          50,
          51,
          52,
          53,
          54,
          55,
          56,
          57,
          58,
          59,
          60,
          61,
          62,
          63,
          64,
          65,
          66,
          67,
          68,
          69,
          70,
          71,
          72,
          73,
          74,
          75,
          76,
          77,
          78,
          79,
          80,
          81,
          82,
          83,
          84,
          85,
          86,
          87,
          88,
          89,
          90,
          91,
          92,
          93,
          94,
          95,
          96,
          97,
          98,
          99,
          100
         ],
         "xaxis": "x3",
         "y": [
          0.07428761803666614,
          0.07444047731684726,
          0.07459362578569938,
          0.07474706388596017,
          0.0749007920606125,
          0.07505481075288241,
          0.07520912040623746,
          0.07536372146438476,
          0.07551861437126899,
          0.0756737995710706,
          0.07582927750820387,
          0.07598504862731496,
          0.07614111337328003,
          0.07629747219120311,
          0.07645412552641445,
          0.07661107382446831,
          0.07676831753114102,
          0.07692585709242909,
          0.07708369295454714,
          0.07724182556392585,
          0.07740025536721006,
          0.07755898281125662,
          0.07771800834313246,
          0.07787733241011241,
          0.07803695545967725,
          0.0781968779395116,
          0.07835710029750186,
          0.07851762298173401,
          0.07867844644049168,
          0.07883957112225391,
          0.07900099747569304,
          0.07916272594967264,
          0.07932475699324532,
          0.07948709105565047,
          0.07964972858631232,
          0.07981267003483762,
          0.0799759158510134,
          0.08013946648480494,
          0.08030332238635332,
          0.08046748400597344,
          0.08063195179415168,
          0.0807967262015436,
          0.08096180767897179,
          0.08112719667742357,
          0.08129289364804865,
          0.08145889904215692,
          0.08162521331121618,
          0.0817918369068497,
          0.08195877028083405,
          0.0821260138850966,
          0.08229356817171338,
          0.08246143359290656,
          0.08262961060104211,
          0.08279809964862757,
          0.08296690118830947,
          0.08313601567287099,
          0.08330544355522963,
          0.08347518528843476,
          0.08364524132566503,
          0.08381561212022616,
          0.08398629812554836,
          0.08415729979518391,
          0.08432861758280462,
          0.08450025194219933,
          0.08467220332727153,
          0.0848444721920368,
          0.08501705899062015,
          0.08518996417725365,
          0.08536318820627392,
          0.08553673153211931,
          0.0857105946093276,
          0.08588477789253332,
          0.08605928183646516,
          0.08623410689594337,
          0.08640925352587703,
          0.08658472218126165,
          0.08676051331717642,
          0.0869366273887814,
          0.08711306485131518,
          0.08728982616009194,
          0.08746691177049884,
          0.0876443221379934,
          0.08782205771810071,
          0.08800011896641065,
          0.08817850633857532,
          0.08835722029030617,
          0.08853626127737131,
          0.08871562975559269,
          0.0888953261808433,
          0.08907535100904444,
          0.08925570469616301,
          0.08943638769820832,
          0.08961740047122975,
          0.0897987434713136,
          0.08998041715458024,
          0.09016242197718141,
          0.09034475839529724,
          0.09052742686513332,
          0.09071042784291793,
          0.09089376178489893,
          0.09107742914734103
         ],
         "yaxis": "y3"
        },
        {
         "customdata": [
          [
           "</br>id: 1833</br>prediction: 0.153</br>distanceToGoal: 1.7480560671752996</br></br>h_a: 0.0</br>situation: 2.0</br>shotType: 0.0</br>lastAction: 0.0</br>minute: 3</br>angleToGoal: 40.4664837945122</br>_original_yhat_: 0.07474706388596017</br>"
          ],
          [
           "</br>id: 1833</br>prediction: 0.144</br>distanceToGoal: 2.386852372856324</br></br>h_a: 0.0</br>situation: 2.0</br>shotType: 0.0</br>lastAction: 0.0</br>minute: 3</br>angleToGoal: 40.4664837945122</br>_original_yhat_: 0.07474706388596017</br>"
          ],
          [
           "</br>id: 1833</br>prediction: 0.136</br>distanceToGoal: 3.0256486785373475</br></br>h_a: 0.0</br>situation: 2.0</br>shotType: 0.0</br>lastAction: 0.0</br>minute: 3</br>angleToGoal: 40.4664837945122</br>_original_yhat_: 0.07474706388596017</br>"
          ],
          [
           "</br>id: 1833</br>prediction: 0.129</br>distanceToGoal: 3.6644449842183713</br></br>h_a: 0.0</br>situation: 2.0</br>shotType: 0.0</br>lastAction: 0.0</br>minute: 3</br>angleToGoal: 40.4664837945122</br>_original_yhat_: 0.07474706388596017</br>"
          ],
          [
           "</br>id: 1833</br>prediction: 0.122</br>distanceToGoal: 4.303241289899395</br></br>h_a: 0.0</br>situation: 2.0</br>shotType: 0.0</br>lastAction: 0.0</br>minute: 3</br>angleToGoal: 40.4664837945122</br>_original_yhat_: 0.07474706388596017</br>"
          ],
          [
           "</br>id: 1833</br>prediction: 0.115</br>distanceToGoal: 4.94203759558042</br></br>h_a: 0.0</br>situation: 2.0</br>shotType: 0.0</br>lastAction: 0.0</br>minute: 3</br>angleToGoal: 40.4664837945122</br>_original_yhat_: 0.07474706388596017</br>"
          ],
          [
           "</br>id: 1833</br>prediction: 0.108</br>distanceToGoal: 5.580833901261443</br></br>h_a: 0.0</br>situation: 2.0</br>shotType: 0.0</br>lastAction: 0.0</br>minute: 3</br>angleToGoal: 40.4664837945122</br>_original_yhat_: 0.07474706388596017</br>"
          ],
          [
           "</br>id: 1833</br>prediction: 0.102</br>distanceToGoal: 6.219630206942467</br></br>h_a: 0.0</br>situation: 2.0</br>shotType: 0.0</br>lastAction: 0.0</br>minute: 3</br>angleToGoal: 40.4664837945122</br>_original_yhat_: 0.07474706388596017</br>"
          ],
          [
           "</br>id: 1833</br>prediction: 0.096</br>distanceToGoal: 6.858426512623492</br></br>h_a: 0.0</br>situation: 2.0</br>shotType: 0.0</br>lastAction: 0.0</br>minute: 3</br>angleToGoal: 40.4664837945122</br>_original_yhat_: 0.07474706388596017</br>"
          ],
          [
           "</br>id: 1833</br>prediction: 0.091</br>distanceToGoal: 7.497222818304515</br></br>h_a: 0.0</br>situation: 2.0</br>shotType: 0.0</br>lastAction: 0.0</br>minute: 3</br>angleToGoal: 40.4664837945122</br>_original_yhat_: 0.07474706388596017</br>"
          ],
          [
           "</br>id: 1833</br>prediction: 0.085</br>distanceToGoal: 8.13601912398554</br></br>h_a: 0.0</br>situation: 2.0</br>shotType: 0.0</br>lastAction: 0.0</br>minute: 3</br>angleToGoal: 40.4664837945122</br>_original_yhat_: 0.07474706388596017</br>"
          ],
          [
           "</br>id: 1833</br>prediction: 0.08</br>distanceToGoal: 8.774815429666564</br></br>h_a: 0.0</br>situation: 2.0</br>shotType: 0.0</br>lastAction: 0.0</br>minute: 3</br>angleToGoal: 40.4664837945122</br>_original_yhat_: 0.07474706388596017</br>"
          ],
          [
           "</br>id: 1833</br>prediction: 0.076</br>distanceToGoal: 9.413611735347587</br></br>h_a: 0.0</br>situation: 2.0</br>shotType: 0.0</br>lastAction: 0.0</br>minute: 3</br>angleToGoal: 40.4664837945122</br>_original_yhat_: 0.07474706388596017</br>"
          ],
          [
           "</br>id: 1833</br>prediction: 0.075</br>distanceToGoal: 9.53310076709881</br></br>h_a: 0.0</br>situation: 2.0</br>shotType: 0.0</br>lastAction: 0.0</br>minute: 3</br>angleToGoal: 40.4664837945122</br>_original_yhat_: 0.07474706388596017</br>"
          ],
          [
           "</br>id: 1833</br>prediction: 0.071</br>distanceToGoal: 10.052408041028611</br></br>h_a: 0.0</br>situation: 2.0</br>shotType: 0.0</br>lastAction: 0.0</br>minute: 3</br>angleToGoal: 40.4664837945122</br>_original_yhat_: 0.07474706388596017</br>"
          ],
          [
           "</br>id: 1833</br>prediction: 0.067</br>distanceToGoal: 10.691204346709636</br></br>h_a: 0.0</br>situation: 2.0</br>shotType: 0.0</br>lastAction: 0.0</br>minute: 3</br>angleToGoal: 40.4664837945122</br>_original_yhat_: 0.07474706388596017</br>"
          ],
          [
           "</br>id: 1833</br>prediction: 0.063</br>distanceToGoal: 11.330000652390659</br></br>h_a: 0.0</br>situation: 2.0</br>shotType: 0.0</br>lastAction: 0.0</br>minute: 3</br>angleToGoal: 40.4664837945122</br>_original_yhat_: 0.07474706388596017</br>"
          ],
          [
           "</br>id: 1833</br>prediction: 0.059</br>distanceToGoal: 11.968796958071684</br></br>h_a: 0.0</br>situation: 2.0</br>shotType: 0.0</br>lastAction: 0.0</br>minute: 3</br>angleToGoal: 40.4664837945122</br>_original_yhat_: 0.07474706388596017</br>"
          ],
          [
           "</br>id: 1833</br>prediction: 0.056</br>distanceToGoal: 12.607593263752708</br></br>h_a: 0.0</br>situation: 2.0</br>shotType: 0.0</br>lastAction: 0.0</br>minute: 3</br>angleToGoal: 40.4664837945122</br>_original_yhat_: 0.07474706388596017</br>"
          ],
          [
           "</br>id: 1833</br>prediction: 0.052</br>distanceToGoal: 13.246389569433731</br></br>h_a: 0.0</br>situation: 2.0</br>shotType: 0.0</br>lastAction: 0.0</br>minute: 3</br>angleToGoal: 40.4664837945122</br>_original_yhat_: 0.07474706388596017</br>"
          ],
          [
           "</br>id: 1833</br>prediction: 0.049</br>distanceToGoal: 13.885185875114756</br></br>h_a: 0.0</br>situation: 2.0</br>shotType: 0.0</br>lastAction: 0.0</br>minute: 3</br>angleToGoal: 40.4664837945122</br>_original_yhat_: 0.07474706388596017</br>"
          ],
          [
           "</br>id: 1833</br>prediction: 0.046</br>distanceToGoal: 14.523982180795779</br></br>h_a: 0.0</br>situation: 2.0</br>shotType: 0.0</br>lastAction: 0.0</br>minute: 3</br>angleToGoal: 40.4664837945122</br>_original_yhat_: 0.07474706388596017</br>"
          ],
          [
           "</br>id: 1833</br>prediction: 0.043</br>distanceToGoal: 15.162778486476803</br></br>h_a: 0.0</br>situation: 2.0</br>shotType: 0.0</br>lastAction: 0.0</br>minute: 3</br>angleToGoal: 40.4664837945122</br>_original_yhat_: 0.07474706388596017</br>"
          ],
          [
           "</br>id: 1833</br>prediction: 0.041</br>distanceToGoal: 15.801574792157828</br></br>h_a: 0.0</br>situation: 2.0</br>shotType: 0.0</br>lastAction: 0.0</br>minute: 3</br>angleToGoal: 40.4664837945122</br>_original_yhat_: 0.07474706388596017</br>"
          ],
          [
           "</br>id: 1833</br>prediction: 0.038</br>distanceToGoal: 16.44037109783885</br></br>h_a: 0.0</br>situation: 2.0</br>shotType: 0.0</br>lastAction: 0.0</br>minute: 3</br>angleToGoal: 40.4664837945122</br>_original_yhat_: 0.07474706388596017</br>"
          ],
          [
           "</br>id: 1833</br>prediction: 0.036</br>distanceToGoal: 17.079167403519875</br></br>h_a: 0.0</br>situation: 2.0</br>shotType: 0.0</br>lastAction: 0.0</br>minute: 3</br>angleToGoal: 40.4664837945122</br>_original_yhat_: 0.07474706388596017</br>"
          ],
          [
           "</br>id: 1833</br>prediction: 0.034</br>distanceToGoal: 17.717963709200898</br></br>h_a: 0.0</br>situation: 2.0</br>shotType: 0.0</br>lastAction: 0.0</br>minute: 3</br>angleToGoal: 40.4664837945122</br>_original_yhat_: 0.07474706388596017</br>"
          ],
          [
           "</br>id: 1833</br>prediction: 0.032</br>distanceToGoal: 18.35676001488192</br></br>h_a: 0.0</br>situation: 2.0</br>shotType: 0.0</br>lastAction: 0.0</br>minute: 3</br>angleToGoal: 40.4664837945122</br>_original_yhat_: 0.07474706388596017</br>"
          ],
          [
           "</br>id: 1833</br>prediction: 0.03</br>distanceToGoal: 18.995556320562944</br></br>h_a: 0.0</br>situation: 2.0</br>shotType: 0.0</br>lastAction: 0.0</br>minute: 3</br>angleToGoal: 40.4664837945122</br>_original_yhat_: 0.07474706388596017</br>"
          ],
          [
           "</br>id: 1833</br>prediction: 0.028</br>distanceToGoal: 19.63435262624397</br></br>h_a: 0.0</br>situation: 2.0</br>shotType: 0.0</br>lastAction: 0.0</br>minute: 3</br>angleToGoal: 40.4664837945122</br>_original_yhat_: 0.07474706388596017</br>"
          ],
          [
           "</br>id: 1833</br>prediction: 0.026</br>distanceToGoal: 20.273148931924993</br></br>h_a: 0.0</br>situation: 2.0</br>shotType: 0.0</br>lastAction: 0.0</br>minute: 3</br>angleToGoal: 40.4664837945122</br>_original_yhat_: 0.07474706388596017</br>"
          ],
          [
           "</br>id: 1833</br>prediction: 0.024</br>distanceToGoal: 20.911945237606016</br></br>h_a: 0.0</br>situation: 2.0</br>shotType: 0.0</br>lastAction: 0.0</br>minute: 3</br>angleToGoal: 40.4664837945122</br>_original_yhat_: 0.07474706388596017</br>"
          ],
          [
           "</br>id: 1833</br>prediction: 0.023</br>distanceToGoal: 21.550741543287042</br></br>h_a: 0.0</br>situation: 2.0</br>shotType: 0.0</br>lastAction: 0.0</br>minute: 3</br>angleToGoal: 40.4664837945122</br>_original_yhat_: 0.07474706388596017</br>"
          ],
          [
           "</br>id: 1833</br>prediction: 0.021</br>distanceToGoal: 22.189537848968065</br></br>h_a: 0.0</br>situation: 2.0</br>shotType: 0.0</br>lastAction: 0.0</br>minute: 3</br>angleToGoal: 40.4664837945122</br>_original_yhat_: 0.07474706388596017</br>"
          ],
          [
           "</br>id: 1833</br>prediction: 0.02</br>distanceToGoal: 22.828334154649088</br></br>h_a: 0.0</br>situation: 2.0</br>shotType: 0.0</br>lastAction: 0.0</br>minute: 3</br>angleToGoal: 40.4664837945122</br>_original_yhat_: 0.07474706388596017</br>"
          ],
          [
           "</br>id: 1833</br>prediction: 0.019</br>distanceToGoal: 23.467130460330115</br></br>h_a: 0.0</br>situation: 2.0</br>shotType: 0.0</br>lastAction: 0.0</br>minute: 3</br>angleToGoal: 40.4664837945122</br>_original_yhat_: 0.07474706388596017</br>"
          ],
          [
           "</br>id: 1833</br>prediction: 0.018</br>distanceToGoal: 24.105926766011137</br></br>h_a: 0.0</br>situation: 2.0</br>shotType: 0.0</br>lastAction: 0.0</br>minute: 3</br>angleToGoal: 40.4664837945122</br>_original_yhat_: 0.07474706388596017</br>"
          ],
          [
           "</br>id: 1833</br>prediction: 0.017</br>distanceToGoal: 24.74472307169216</br></br>h_a: 0.0</br>situation: 2.0</br>shotType: 0.0</br>lastAction: 0.0</br>minute: 3</br>angleToGoal: 40.4664837945122</br>_original_yhat_: 0.07474706388596017</br>"
          ],
          [
           "</br>id: 1833</br>prediction: 0.016</br>distanceToGoal: 25.383519377373187</br></br>h_a: 0.0</br>situation: 2.0</br>shotType: 0.0</br>lastAction: 0.0</br>minute: 3</br>angleToGoal: 40.4664837945122</br>_original_yhat_: 0.07474706388596017</br>"
          ],
          [
           "</br>id: 1833</br>prediction: 0.015</br>distanceToGoal: 26.02231568305421</br></br>h_a: 0.0</br>situation: 2.0</br>shotType: 0.0</br>lastAction: 0.0</br>minute: 3</br>angleToGoal: 40.4664837945122</br>_original_yhat_: 0.07474706388596017</br>"
          ],
          [
           "</br>id: 1833</br>prediction: 0.014</br>distanceToGoal: 26.661111988735232</br></br>h_a: 0.0</br>situation: 2.0</br>shotType: 0.0</br>lastAction: 0.0</br>minute: 3</br>angleToGoal: 40.4664837945122</br>_original_yhat_: 0.07474706388596017</br>"
          ],
          [
           "</br>id: 1833</br>prediction: 0.013</br>distanceToGoal: 27.299908294416255</br></br>h_a: 0.0</br>situation: 2.0</br>shotType: 0.0</br>lastAction: 0.0</br>minute: 3</br>angleToGoal: 40.4664837945122</br>_original_yhat_: 0.07474706388596017</br>"
          ],
          [
           "</br>id: 1833</br>prediction: 0.012</br>distanceToGoal: 27.93870460009728</br></br>h_a: 0.0</br>situation: 2.0</br>shotType: 0.0</br>lastAction: 0.0</br>minute: 3</br>angleToGoal: 40.4664837945122</br>_original_yhat_: 0.07474706388596017</br>"
          ],
          [
           "</br>id: 1833</br>prediction: 0.011</br>distanceToGoal: 28.577500905778304</br></br>h_a: 0.0</br>situation: 2.0</br>shotType: 0.0</br>lastAction: 0.0</br>minute: 3</br>angleToGoal: 40.4664837945122</br>_original_yhat_: 0.07474706388596017</br>"
          ],
          [
           "</br>id: 1833</br>prediction: 0.011</br>distanceToGoal: 29.216297211459327</br></br>h_a: 0.0</br>situation: 2.0</br>shotType: 0.0</br>lastAction: 0.0</br>minute: 3</br>angleToGoal: 40.4664837945122</br>_original_yhat_: 0.07474706388596017</br>"
          ],
          [
           "</br>id: 1833</br>prediction: 0.01</br>distanceToGoal: 29.855093517140354</br></br>h_a: 0.0</br>situation: 2.0</br>shotType: 0.0</br>lastAction: 0.0</br>minute: 3</br>angleToGoal: 40.4664837945122</br>_original_yhat_: 0.07474706388596017</br>"
          ],
          [
           "</br>id: 1833</br>prediction: 0.009</br>distanceToGoal: 30.493889822821377</br></br>h_a: 0.0</br>situation: 2.0</br>shotType: 0.0</br>lastAction: 0.0</br>minute: 3</br>angleToGoal: 40.4664837945122</br>_original_yhat_: 0.07474706388596017</br>"
          ],
          [
           "</br>id: 1833</br>prediction: 0.009</br>distanceToGoal: 31.1326861285024</br></br>h_a: 0.0</br>situation: 2.0</br>shotType: 0.0</br>lastAction: 0.0</br>minute: 3</br>angleToGoal: 40.4664837945122</br>_original_yhat_: 0.07474706388596017</br>"
          ],
          [
           "</br>id: 1833</br>prediction: 0.008</br>distanceToGoal: 31.771482434183426</br></br>h_a: 0.0</br>situation: 2.0</br>shotType: 0.0</br>lastAction: 0.0</br>minute: 3</br>angleToGoal: 40.4664837945122</br>_original_yhat_: 0.07474706388596017</br>"
          ],
          [
           "</br>id: 1833</br>prediction: 0.008</br>distanceToGoal: 32.41027873986445</br></br>h_a: 0.0</br>situation: 2.0</br>shotType: 0.0</br>lastAction: 0.0</br>minute: 3</br>angleToGoal: 40.4664837945122</br>_original_yhat_: 0.07474706388596017</br>"
          ],
          [
           "</br>id: 1833</br>prediction: 0.007</br>distanceToGoal: 33.04907504554547</br></br>h_a: 0.0</br>situation: 2.0</br>shotType: 0.0</br>lastAction: 0.0</br>minute: 3</br>angleToGoal: 40.4664837945122</br>_original_yhat_: 0.07474706388596017</br>"
          ],
          [
           "</br>id: 1833</br>prediction: 0.007</br>distanceToGoal: 33.6878713512265</br></br>h_a: 0.0</br>situation: 2.0</br>shotType: 0.0</br>lastAction: 0.0</br>minute: 3</br>angleToGoal: 40.4664837945122</br>_original_yhat_: 0.07474706388596017</br>"
          ],
          [
           "</br>id: 1833</br>prediction: 0.006</br>distanceToGoal: 34.32666765690752</br></br>h_a: 0.0</br>situation: 2.0</br>shotType: 0.0</br>lastAction: 0.0</br>minute: 3</br>angleToGoal: 40.4664837945122</br>_original_yhat_: 0.07474706388596017</br>"
          ],
          [
           "</br>id: 1833</br>prediction: 0.006</br>distanceToGoal: 34.965463962588544</br></br>h_a: 0.0</br>situation: 2.0</br>shotType: 0.0</br>lastAction: 0.0</br>minute: 3</br>angleToGoal: 40.4664837945122</br>_original_yhat_: 0.07474706388596017</br>"
          ],
          [
           "</br>id: 1833</br>prediction: 0.005</br>distanceToGoal: 35.60426026826957</br></br>h_a: 0.0</br>situation: 2.0</br>shotType: 0.0</br>lastAction: 0.0</br>minute: 3</br>angleToGoal: 40.4664837945122</br>_original_yhat_: 0.07474706388596017</br>"
          ],
          [
           "</br>id: 1833</br>prediction: 0.005</br>distanceToGoal: 36.24305657395059</br></br>h_a: 0.0</br>situation: 2.0</br>shotType: 0.0</br>lastAction: 0.0</br>minute: 3</br>angleToGoal: 40.4664837945122</br>_original_yhat_: 0.07474706388596017</br>"
          ],
          [
           "</br>id: 1833</br>prediction: 0.005</br>distanceToGoal: 36.881852879631616</br></br>h_a: 0.0</br>situation: 2.0</br>shotType: 0.0</br>lastAction: 0.0</br>minute: 3</br>angleToGoal: 40.4664837945122</br>_original_yhat_: 0.07474706388596017</br>"
          ],
          [
           "</br>id: 1833</br>prediction: 0.005</br>distanceToGoal: 37.52064918531264</br></br>h_a: 0.0</br>situation: 2.0</br>shotType: 0.0</br>lastAction: 0.0</br>minute: 3</br>angleToGoal: 40.4664837945122</br>_original_yhat_: 0.07474706388596017</br>"
          ],
          [
           "</br>id: 1833</br>prediction: 0.004</br>distanceToGoal: 38.15944549099366</br></br>h_a: 0.0</br>situation: 2.0</br>shotType: 0.0</br>lastAction: 0.0</br>minute: 3</br>angleToGoal: 40.4664837945122</br>_original_yhat_: 0.07474706388596017</br>"
          ],
          [
           "</br>id: 1833</br>prediction: 0.004</br>distanceToGoal: 38.79824179667469</br></br>h_a: 0.0</br>situation: 2.0</br>shotType: 0.0</br>lastAction: 0.0</br>minute: 3</br>angleToGoal: 40.4664837945122</br>_original_yhat_: 0.07474706388596017</br>"
          ],
          [
           "</br>id: 1833</br>prediction: 0.004</br>distanceToGoal: 39.437038102355714</br></br>h_a: 0.0</br>situation: 2.0</br>shotType: 0.0</br>lastAction: 0.0</br>minute: 3</br>angleToGoal: 40.4664837945122</br>_original_yhat_: 0.07474706388596017</br>"
          ],
          [
           "</br>id: 1833</br>prediction: 0.003</br>distanceToGoal: 40.075834408036734</br></br>h_a: 0.0</br>situation: 2.0</br>shotType: 0.0</br>lastAction: 0.0</br>minute: 3</br>angleToGoal: 40.4664837945122</br>_original_yhat_: 0.07474706388596017</br>"
          ],
          [
           "</br>id: 1833</br>prediction: 0.003</br>distanceToGoal: 40.71463071371776</br></br>h_a: 0.0</br>situation: 2.0</br>shotType: 0.0</br>lastAction: 0.0</br>minute: 3</br>angleToGoal: 40.4664837945122</br>_original_yhat_: 0.07474706388596017</br>"
          ],
          [
           "</br>id: 1833</br>prediction: 0.003</br>distanceToGoal: 41.35342701939879</br></br>h_a: 0.0</br>situation: 2.0</br>shotType: 0.0</br>lastAction: 0.0</br>minute: 3</br>angleToGoal: 40.4664837945122</br>_original_yhat_: 0.07474706388596017</br>"
          ],
          [
           "</br>id: 1833</br>prediction: 0.003</br>distanceToGoal: 41.992223325079806</br></br>h_a: 0.0</br>situation: 2.0</br>shotType: 0.0</br>lastAction: 0.0</br>minute: 3</br>angleToGoal: 40.4664837945122</br>_original_yhat_: 0.07474706388596017</br>"
          ],
          [
           "</br>id: 1833</br>prediction: 0.003</br>distanceToGoal: 42.63101963076083</br></br>h_a: 0.0</br>situation: 2.0</br>shotType: 0.0</br>lastAction: 0.0</br>minute: 3</br>angleToGoal: 40.4664837945122</br>_original_yhat_: 0.07474706388596017</br>"
          ],
          [
           "</br>id: 1833</br>prediction: 0.003</br>distanceToGoal: 43.26981593644186</br></br>h_a: 0.0</br>situation: 2.0</br>shotType: 0.0</br>lastAction: 0.0</br>minute: 3</br>angleToGoal: 40.4664837945122</br>_original_yhat_: 0.07474706388596017</br>"
          ],
          [
           "</br>id: 1833</br>prediction: 0.002</br>distanceToGoal: 43.90861224212288</br></br>h_a: 0.0</br>situation: 2.0</br>shotType: 0.0</br>lastAction: 0.0</br>minute: 3</br>angleToGoal: 40.4664837945122</br>_original_yhat_: 0.07474706388596017</br>"
          ],
          [
           "</br>id: 1833</br>prediction: 0.002</br>distanceToGoal: 44.547408547803904</br></br>h_a: 0.0</br>situation: 2.0</br>shotType: 0.0</br>lastAction: 0.0</br>minute: 3</br>angleToGoal: 40.4664837945122</br>_original_yhat_: 0.07474706388596017</br>"
          ],
          [
           "</br>id: 1833</br>prediction: 0.002</br>distanceToGoal: 45.18620485348493</br></br>h_a: 0.0</br>situation: 2.0</br>shotType: 0.0</br>lastAction: 0.0</br>minute: 3</br>angleToGoal: 40.4664837945122</br>_original_yhat_: 0.07474706388596017</br>"
          ],
          [
           "</br>id: 1833</br>prediction: 0.002</br>distanceToGoal: 45.82500115916595</br></br>h_a: 0.0</br>situation: 2.0</br>shotType: 0.0</br>lastAction: 0.0</br>minute: 3</br>angleToGoal: 40.4664837945122</br>_original_yhat_: 0.07474706388596017</br>"
          ],
          [
           "</br>id: 1833</br>prediction: 0.002</br>distanceToGoal: 46.46379746484698</br></br>h_a: 0.0</br>situation: 2.0</br>shotType: 0.0</br>lastAction: 0.0</br>minute: 3</br>angleToGoal: 40.4664837945122</br>_original_yhat_: 0.07474706388596017</br>"
          ],
          [
           "</br>id: 1833</br>prediction: 0.002</br>distanceToGoal: 47.102593770528</br></br>h_a: 0.0</br>situation: 2.0</br>shotType: 0.0</br>lastAction: 0.0</br>minute: 3</br>angleToGoal: 40.4664837945122</br>_original_yhat_: 0.07474706388596017</br>"
          ],
          [
           "</br>id: 1833</br>prediction: 0.002</br>distanceToGoal: 47.74139007620902</br></br>h_a: 0.0</br>situation: 2.0</br>shotType: 0.0</br>lastAction: 0.0</br>minute: 3</br>angleToGoal: 40.4664837945122</br>_original_yhat_: 0.07474706388596017</br>"
          ],
          [
           "</br>id: 1833</br>prediction: 0.001</br>distanceToGoal: 48.38018638189005</br></br>h_a: 0.0</br>situation: 2.0</br>shotType: 0.0</br>lastAction: 0.0</br>minute: 3</br>angleToGoal: 40.4664837945122</br>_original_yhat_: 0.07474706388596017</br>"
          ],
          [
           "</br>id: 1833</br>prediction: 0.001</br>distanceToGoal: 49.018982687571075</br></br>h_a: 0.0</br>situation: 2.0</br>shotType: 0.0</br>lastAction: 0.0</br>minute: 3</br>angleToGoal: 40.4664837945122</br>_original_yhat_: 0.07474706388596017</br>"
          ],
          [
           "</br>id: 1833</br>prediction: 0.001</br>distanceToGoal: 49.657778993252094</br></br>h_a: 0.0</br>situation: 2.0</br>shotType: 0.0</br>lastAction: 0.0</br>minute: 3</br>angleToGoal: 40.4664837945122</br>_original_yhat_: 0.07474706388596017</br>"
          ],
          [
           "</br>id: 1833</br>prediction: 0.001</br>distanceToGoal: 50.29657529893312</br></br>h_a: 0.0</br>situation: 2.0</br>shotType: 0.0</br>lastAction: 0.0</br>minute: 3</br>angleToGoal: 40.4664837945122</br>_original_yhat_: 0.07474706388596017</br>"
          ],
          [
           "</br>id: 1833</br>prediction: 0.001</br>distanceToGoal: 50.93537160461415</br></br>h_a: 0.0</br>situation: 2.0</br>shotType: 0.0</br>lastAction: 0.0</br>minute: 3</br>angleToGoal: 40.4664837945122</br>_original_yhat_: 0.07474706388596017</br>"
          ],
          [
           "</br>id: 1833</br>prediction: 0.001</br>distanceToGoal: 51.57416791029517</br></br>h_a: 0.0</br>situation: 2.0</br>shotType: 0.0</br>lastAction: 0.0</br>minute: 3</br>angleToGoal: 40.4664837945122</br>_original_yhat_: 0.07474706388596017</br>"
          ],
          [
           "</br>id: 1833</br>prediction: 0.001</br>distanceToGoal: 52.21296421597619</br></br>h_a: 0.0</br>situation: 2.0</br>shotType: 0.0</br>lastAction: 0.0</br>minute: 3</br>angleToGoal: 40.4664837945122</br>_original_yhat_: 0.07474706388596017</br>"
          ],
          [
           "</br>id: 1833</br>prediction: 0.001</br>distanceToGoal: 52.85176052165721</br></br>h_a: 0.0</br>situation: 2.0</br>shotType: 0.0</br>lastAction: 0.0</br>minute: 3</br>angleToGoal: 40.4664837945122</br>_original_yhat_: 0.07474706388596017</br>"
          ],
          [
           "</br>id: 1833</br>prediction: 0.001</br>distanceToGoal: 53.49055682733824</br></br>h_a: 0.0</br>situation: 2.0</br>shotType: 0.0</br>lastAction: 0.0</br>minute: 3</br>angleToGoal: 40.4664837945122</br>_original_yhat_: 0.07474706388596017</br>"
          ],
          [
           "</br>id: 1833</br>prediction: 0.001</br>distanceToGoal: 54.129353133019265</br></br>h_a: 0.0</br>situation: 2.0</br>shotType: 0.0</br>lastAction: 0.0</br>minute: 3</br>angleToGoal: 40.4664837945122</br>_original_yhat_: 0.07474706388596017</br>"
          ],
          [
           "</br>id: 1833</br>prediction: 0.001</br>distanceToGoal: 54.768149438700284</br></br>h_a: 0.0</br>situation: 2.0</br>shotType: 0.0</br>lastAction: 0.0</br>minute: 3</br>angleToGoal: 40.4664837945122</br>_original_yhat_: 0.07474706388596017</br>"
          ],
          [
           "</br>id: 1833</br>prediction: 0.001</br>distanceToGoal: 55.40694574438131</br></br>h_a: 0.0</br>situation: 2.0</br>shotType: 0.0</br>lastAction: 0.0</br>minute: 3</br>angleToGoal: 40.4664837945122</br>_original_yhat_: 0.07474706388596017</br>"
          ],
          [
           "</br>id: 1833</br>prediction: 0.001</br>distanceToGoal: 56.04574205006234</br></br>h_a: 0.0</br>situation: 2.0</br>shotType: 0.0</br>lastAction: 0.0</br>minute: 3</br>angleToGoal: 40.4664837945122</br>_original_yhat_: 0.07474706388596017</br>"
          ],
          [
           "</br>id: 1833</br>prediction: 0.001</br>distanceToGoal: 56.684538355743356</br></br>h_a: 0.0</br>situation: 2.0</br>shotType: 0.0</br>lastAction: 0.0</br>minute: 3</br>angleToGoal: 40.4664837945122</br>_original_yhat_: 0.07474706388596017</br>"
          ],
          [
           "</br>id: 1833</br>prediction: 0.001</br>distanceToGoal: 57.32333466142438</br></br>h_a: 0.0</br>situation: 2.0</br>shotType: 0.0</br>lastAction: 0.0</br>minute: 3</br>angleToGoal: 40.4664837945122</br>_original_yhat_: 0.07474706388596017</br>"
          ],
          [
           "</br>id: 1833</br>prediction: 0.001</br>distanceToGoal: 57.96213096710541</br></br>h_a: 0.0</br>situation: 2.0</br>shotType: 0.0</br>lastAction: 0.0</br>minute: 3</br>angleToGoal: 40.4664837945122</br>_original_yhat_: 0.07474706388596017</br>"
          ],
          [
           "</br>id: 1833</br>prediction: 0.001</br>distanceToGoal: 58.60092727278643</br></br>h_a: 0.0</br>situation: 2.0</br>shotType: 0.0</br>lastAction: 0.0</br>minute: 3</br>angleToGoal: 40.4664837945122</br>_original_yhat_: 0.07474706388596017</br>"
          ],
          [
           "</br>id: 1833</br>prediction: 0.0</br>distanceToGoal: 59.239723578467455</br></br>h_a: 0.0</br>situation: 2.0</br>shotType: 0.0</br>lastAction: 0.0</br>minute: 3</br>angleToGoal: 40.4664837945122</br>_original_yhat_: 0.07474706388596017</br>"
          ],
          [
           "</br>id: 1833</br>prediction: 0.0</br>distanceToGoal: 59.87851988414848</br></br>h_a: 0.0</br>situation: 2.0</br>shotType: 0.0</br>lastAction: 0.0</br>minute: 3</br>angleToGoal: 40.4664837945122</br>_original_yhat_: 0.07474706388596017</br>"
          ],
          [
           "</br>id: 1833</br>prediction: 0.0</br>distanceToGoal: 60.5173161898295</br></br>h_a: 0.0</br>situation: 2.0</br>shotType: 0.0</br>lastAction: 0.0</br>minute: 3</br>angleToGoal: 40.4664837945122</br>_original_yhat_: 0.07474706388596017</br>"
          ],
          [
           "</br>id: 1833</br>prediction: 0.0</br>distanceToGoal: 61.15611249551053</br></br>h_a: 0.0</br>situation: 2.0</br>shotType: 0.0</br>lastAction: 0.0</br>minute: 3</br>angleToGoal: 40.4664837945122</br>_original_yhat_: 0.07474706388596017</br>"
          ],
          [
           "</br>id: 1833</br>prediction: 0.0</br>distanceToGoal: 61.79490880119155</br></br>h_a: 0.0</br>situation: 2.0</br>shotType: 0.0</br>lastAction: 0.0</br>minute: 3</br>angleToGoal: 40.4664837945122</br>_original_yhat_: 0.07474706388596017</br>"
          ],
          [
           "</br>id: 1833</br>prediction: 0.0</br>distanceToGoal: 62.43370510687257</br></br>h_a: 0.0</br>situation: 2.0</br>shotType: 0.0</br>lastAction: 0.0</br>minute: 3</br>angleToGoal: 40.4664837945122</br>_original_yhat_: 0.07474706388596017</br>"
          ],
          [
           "</br>id: 1833</br>prediction: 0.0</br>distanceToGoal: 63.0725014125536</br></br>h_a: 0.0</br>situation: 2.0</br>shotType: 0.0</br>lastAction: 0.0</br>minute: 3</br>angleToGoal: 40.4664837945122</br>_original_yhat_: 0.07474706388596017</br>"
          ],
          [
           "</br>id: 1833</br>prediction: 0.0</br>distanceToGoal: 63.711297718234626</br></br>h_a: 0.0</br>situation: 2.0</br>shotType: 0.0</br>lastAction: 0.0</br>minute: 3</br>angleToGoal: 40.4664837945122</br>_original_yhat_: 0.07474706388596017</br>"
          ],
          [
           "</br>id: 1833</br>prediction: 0.0</br>distanceToGoal: 64.35009402391564</br></br>h_a: 0.0</br>situation: 2.0</br>shotType: 0.0</br>lastAction: 0.0</br>minute: 3</br>angleToGoal: 40.4664837945122</br>_original_yhat_: 0.07474706388596017</br>"
          ],
          [
           "</br>id: 1833</br>prediction: 0.0</br>distanceToGoal: 64.98889032959667</br></br>h_a: 0.0</br>situation: 2.0</br>shotType: 0.0</br>lastAction: 0.0</br>minute: 3</br>angleToGoal: 40.4664837945122</br>_original_yhat_: 0.07474706388596017</br>"
          ],
          [
           "</br>id: 1833</br>prediction: 0.0</br>distanceToGoal: 65.6276866352777</br></br>h_a: 0.0</br>situation: 2.0</br>shotType: 0.0</br>lastAction: 0.0</br>minute: 3</br>angleToGoal: 40.4664837945122</br>_original_yhat_: 0.07474706388596017</br>"
          ]
         ],
         "hovertemplate": "%{customdata[0]}<extra></extra>",
         "legendgroup": "Logistic Regression",
         "line": {
          "color": "#4378bf",
          "dash": "solid",
          "width": 2
         },
         "marker": {
          "symbol": "circle"
         },
         "mode": "lines",
         "name": "Logistic Regression",
         "opacity": 1,
         "showlegend": false,
         "type": "scattergl",
         "x": [
          1.7480560671752996,
          2.386852372856324,
          3.0256486785373475,
          3.6644449842183713,
          4.303241289899395,
          4.94203759558042,
          5.580833901261443,
          6.219630206942467,
          6.858426512623492,
          7.497222818304515,
          8.13601912398554,
          8.774815429666564,
          9.413611735347587,
          9.53310076709881,
          10.052408041028611,
          10.691204346709636,
          11.330000652390659,
          11.968796958071684,
          12.607593263752708,
          13.246389569433731,
          13.885185875114756,
          14.523982180795779,
          15.162778486476803,
          15.801574792157828,
          16.44037109783885,
          17.079167403519875,
          17.717963709200898,
          18.35676001488192,
          18.995556320562944,
          19.63435262624397,
          20.273148931924993,
          20.911945237606016,
          21.550741543287042,
          22.189537848968065,
          22.828334154649088,
          23.467130460330115,
          24.105926766011137,
          24.74472307169216,
          25.383519377373187,
          26.02231568305421,
          26.661111988735232,
          27.299908294416255,
          27.93870460009728,
          28.577500905778304,
          29.216297211459327,
          29.855093517140354,
          30.493889822821377,
          31.1326861285024,
          31.771482434183426,
          32.41027873986445,
          33.04907504554547,
          33.6878713512265,
          34.32666765690752,
          34.965463962588544,
          35.60426026826957,
          36.24305657395059,
          36.881852879631616,
          37.52064918531264,
          38.15944549099366,
          38.79824179667469,
          39.437038102355714,
          40.075834408036734,
          40.71463071371776,
          41.35342701939879,
          41.992223325079806,
          42.63101963076083,
          43.26981593644186,
          43.90861224212288,
          44.547408547803904,
          45.18620485348493,
          45.82500115916595,
          46.46379746484698,
          47.102593770528,
          47.74139007620902,
          48.38018638189005,
          49.018982687571075,
          49.657778993252094,
          50.29657529893312,
          50.93537160461415,
          51.57416791029517,
          52.21296421597619,
          52.85176052165721,
          53.49055682733824,
          54.129353133019265,
          54.768149438700284,
          55.40694574438131,
          56.04574205006234,
          56.684538355743356,
          57.32333466142438,
          57.96213096710541,
          58.60092727278643,
          59.239723578467455,
          59.87851988414848,
          60.5173161898295,
          61.15611249551053,
          61.79490880119155,
          62.43370510687257,
          63.0725014125536,
          63.711297718234626,
          64.35009402391564,
          64.98889032959667,
          65.6276866352777
         ],
         "xaxis": "x4",
         "y": [
          0.15253356024182196,
          0.14422912121078307,
          0.1363040857774316,
          0.1287489972900681,
          0.1215537380700881,
          0.11470765097207226,
          0.1081996529333553,
          0.10201834008378174,
          0.09615208418368076,
          0.09058912032925,
          0.08531762600977975,
          0.08032579172144202,
          0.07560188343923271,
          0.07474706388596017,
          0.07113429732400046,
          0.06691160709744978,
          0.06292260455683406,
          0.059156333725018016,
          0.05560211914291016,
          0.052249588812033405,
          0.04908869228716548,
          0.04610971440430111,
          0.043303285109238546,
          0.04066038582825429,
          0.03817235279578595,
          0.035830877725806516,
          0.03362800618447713,
          0.03155613399239913,
          0.029608001955896763,
          0.02777668919867869,
          0.026055605338270896,
          0.024438481726023392,
          0.022919361945424623,
          0.02149259174101014,
          0.02015280852937137,
          0.018894930624662108,
          0.01771414629353984,
          0.016605902738614405,
          0.015565895095141983,
          0.014590055512815026,
          0.01367454238297151,
          0.01281572976128547,
          0.012010197026909955,
          0.011254718811028089,
          0.010546255220735276,
          0.009881942378036383,
          0.009259083288409117,
          0.00867513904878079,
          0.008127720400811837,
          0.007614579632008974,
          0.007133602824336455,
          0.006682802447598542,
          0.0062603102928747625,
          0.0058643707396531485,
          0.0054933343489815675,
          0.005145651773902639,
          0.004819867977619208,
          0.004514616749221358,
          0.0042286155063652525,
          0.0039606603740032,
          0.0037096215281001237,
          0.0034744387932155534,
          0.0032541174828639337,
          0.0030477244716751637,
          0.0028543844885477463,
          0.0026732766202078847,
          0.002503631014848907,
          0.0023447257758178325,
          0.002195884035632657,
          0.002056471200948045,
          0.00192589235943358,
          0.0018035898398828414,
          0.0016890409172291073,
          0.0015817556545016452,
          0.0014812748741121508,
          0.001387168251212137,
          0.0012990325222066482,
          0.0012164898018465532,
          0.0011391860026494236,
          0.0010667893507167743,
          0.0009989889923227434,
          0.0009354936859453423,
          0.0008760305746962099,
          0.0008203440343780006,
          0.0007681945926601046,
          0.0007193579151134917,
          0.0006736238540840246,
          0.0006307955566109487,
          0.0005906886278136505,
          0.0005531303463753515,
          0.0005179589289476578,
          0.0004850228404849965,
          0.0004541801476934319,
          0.00042529791294440637,
          0.0003982516261610706,
          0.0003729246723333814,
          0.0003492078324584201,
          0.0003269988158348574,
          0.0003062018217654266,
          0.00028672712883913984,
          0.0002684907100760398,
          0.00025141387232196014
         ],
         "yaxis": "y4"
        },
        {
         "customdata": [
          [
           "</br>id: 1833</br>prediction: 0.031</br>angleToGoal: 2.45563484478765</br></br>h_a: 0.0</br>situation: 2.0</br>shotType: 0.0</br>lastAction: 0.0</br>minute: 3</br>distanceToGoal: 9.53310076709881</br>_original_yhat_: 0.07474706388596017</br>"
          ],
          [
           "</br>id: 1833</br>prediction: 0.032</br>angleToGoal: 3.329788052577239</br></br>h_a: 0.0</br>situation: 2.0</br>shotType: 0.0</br>lastAction: 0.0</br>minute: 3</br>distanceToGoal: 9.53310076709881</br>_original_yhat_: 0.07474706388596017</br>"
          ],
          [
           "</br>id: 1833</br>prediction: 0.033</br>angleToGoal: 4.203941260366829</br></br>h_a: 0.0</br>situation: 2.0</br>shotType: 0.0</br>lastAction: 0.0</br>minute: 3</br>distanceToGoal: 9.53310076709881</br>_original_yhat_: 0.07474706388596017</br>"
          ],
          [
           "</br>id: 1833</br>prediction: 0.033</br>angleToGoal: 5.078094468156419</br></br>h_a: 0.0</br>situation: 2.0</br>shotType: 0.0</br>lastAction: 0.0</br>minute: 3</br>distanceToGoal: 9.53310076709881</br>_original_yhat_: 0.07474706388596017</br>"
          ],
          [
           "</br>id: 1833</br>prediction: 0.034</br>angleToGoal: 5.9522476759460075</br></br>h_a: 0.0</br>situation: 2.0</br>shotType: 0.0</br>lastAction: 0.0</br>minute: 3</br>distanceToGoal: 9.53310076709881</br>_original_yhat_: 0.07474706388596017</br>"
          ],
          [
           "</br>id: 1833</br>prediction: 0.035</br>angleToGoal: 6.826400883735596</br></br>h_a: 0.0</br>situation: 2.0</br>shotType: 0.0</br>lastAction: 0.0</br>minute: 3</br>distanceToGoal: 9.53310076709881</br>_original_yhat_: 0.07474706388596017</br>"
          ],
          [
           "</br>id: 1833</br>prediction: 0.035</br>angleToGoal: 7.700554091525186</br></br>h_a: 0.0</br>situation: 2.0</br>shotType: 0.0</br>lastAction: 0.0</br>minute: 3</br>distanceToGoal: 9.53310076709881</br>_original_yhat_: 0.07474706388596017</br>"
          ],
          [
           "</br>id: 1833</br>prediction: 0.036</br>angleToGoal: 8.574707299314776</br></br>h_a: 0.0</br>situation: 2.0</br>shotType: 0.0</br>lastAction: 0.0</br>minute: 3</br>distanceToGoal: 9.53310076709881</br>_original_yhat_: 0.07474706388596017</br>"
          ],
          [
           "</br>id: 1833</br>prediction: 0.037</br>angleToGoal: 9.448860507104365</br></br>h_a: 0.0</br>situation: 2.0</br>shotType: 0.0</br>lastAction: 0.0</br>minute: 3</br>distanceToGoal: 9.53310076709881</br>_original_yhat_: 0.07474706388596017</br>"
          ],
          [
           "</br>id: 1833</br>prediction: 0.038</br>angleToGoal: 10.323013714893955</br></br>h_a: 0.0</br>situation: 2.0</br>shotType: 0.0</br>lastAction: 0.0</br>minute: 3</br>distanceToGoal: 9.53310076709881</br>_original_yhat_: 0.07474706388596017</br>"
          ],
          [
           "</br>id: 1833</br>prediction: 0.038</br>angleToGoal: 11.197166922683543</br></br>h_a: 0.0</br>situation: 2.0</br>shotType: 0.0</br>lastAction: 0.0</br>minute: 3</br>distanceToGoal: 9.53310076709881</br>_original_yhat_: 0.07474706388596017</br>"
          ],
          [
           "</br>id: 1833</br>prediction: 0.039</br>angleToGoal: 12.071320130473133</br></br>h_a: 0.0</br>situation: 2.0</br>shotType: 0.0</br>lastAction: 0.0</br>minute: 3</br>distanceToGoal: 9.53310076709881</br>_original_yhat_: 0.07474706388596017</br>"
          ],
          [
           "</br>id: 1833</br>prediction: 0.04</br>angleToGoal: 12.945473338262723</br></br>h_a: 0.0</br>situation: 2.0</br>shotType: 0.0</br>lastAction: 0.0</br>minute: 3</br>distanceToGoal: 9.53310076709881</br>_original_yhat_: 0.07474706388596017</br>"
          ],
          [
           "</br>id: 1833</br>prediction: 0.041</br>angleToGoal: 13.819626546052312</br></br>h_a: 0.0</br>situation: 2.0</br>shotType: 0.0</br>lastAction: 0.0</br>minute: 3</br>distanceToGoal: 9.53310076709881</br>_original_yhat_: 0.07474706388596017</br>"
          ],
          [
           "</br>id: 1833</br>prediction: 0.042</br>angleToGoal: 14.6937797538419</br></br>h_a: 0.0</br>situation: 2.0</br>shotType: 0.0</br>lastAction: 0.0</br>minute: 3</br>distanceToGoal: 9.53310076709881</br>_original_yhat_: 0.07474706388596017</br>"
          ],
          [
           "</br>id: 1833</br>prediction: 0.043</br>angleToGoal: 15.56793296163149</br></br>h_a: 0.0</br>situation: 2.0</br>shotType: 0.0</br>lastAction: 0.0</br>minute: 3</br>distanceToGoal: 9.53310076709881</br>_original_yhat_: 0.07474706388596017</br>"
          ],
          [
           "</br>id: 1833</br>prediction: 0.043</br>angleToGoal: 16.44208616942108</br></br>h_a: 0.0</br>situation: 2.0</br>shotType: 0.0</br>lastAction: 0.0</br>minute: 3</br>distanceToGoal: 9.53310076709881</br>_original_yhat_: 0.07474706388596017</br>"
          ],
          [
           "</br>id: 1833</br>prediction: 0.044</br>angleToGoal: 17.31623937721067</br></br>h_a: 0.0</br>situation: 2.0</br>shotType: 0.0</br>lastAction: 0.0</br>minute: 3</br>distanceToGoal: 9.53310076709881</br>_original_yhat_: 0.07474706388596017</br>"
          ],
          [
           "</br>id: 1833</br>prediction: 0.045</br>angleToGoal: 18.19039258500026</br></br>h_a: 0.0</br>situation: 2.0</br>shotType: 0.0</br>lastAction: 0.0</br>minute: 3</br>distanceToGoal: 9.53310076709881</br>_original_yhat_: 0.07474706388596017</br>"
          ],
          [
           "</br>id: 1833</br>prediction: 0.046</br>angleToGoal: 19.064545792789847</br></br>h_a: 0.0</br>situation: 2.0</br>shotType: 0.0</br>lastAction: 0.0</br>minute: 3</br>distanceToGoal: 9.53310076709881</br>_original_yhat_: 0.07474706388596017</br>"
          ],
          [
           "</br>id: 1833</br>prediction: 0.047</br>angleToGoal: 19.938699000579437</br></br>h_a: 0.0</br>situation: 2.0</br>shotType: 0.0</br>lastAction: 0.0</br>minute: 3</br>distanceToGoal: 9.53310076709881</br>_original_yhat_: 0.07474706388596017</br>"
          ],
          [
           "</br>id: 1833</br>prediction: 0.048</br>angleToGoal: 20.812852208369026</br></br>h_a: 0.0</br>situation: 2.0</br>shotType: 0.0</br>lastAction: 0.0</br>minute: 3</br>distanceToGoal: 9.53310076709881</br>_original_yhat_: 0.07474706388596017</br>"
          ],
          [
           "</br>id: 1833</br>prediction: 0.049</br>angleToGoal: 21.687005416158616</br></br>h_a: 0.0</br>situation: 2.0</br>shotType: 0.0</br>lastAction: 0.0</br>minute: 3</br>distanceToGoal: 9.53310076709881</br>_original_yhat_: 0.07474706388596017</br>"
          ],
          [
           "</br>id: 1833</br>prediction: 0.05</br>angleToGoal: 22.561158623948206</br></br>h_a: 0.0</br>situation: 2.0</br>shotType: 0.0</br>lastAction: 0.0</br>minute: 3</br>distanceToGoal: 9.53310076709881</br>_original_yhat_: 0.07474706388596017</br>"
          ],
          [
           "</br>id: 1833</br>prediction: 0.051</br>angleToGoal: 23.435311831737796</br></br>h_a: 0.0</br>situation: 2.0</br>shotType: 0.0</br>lastAction: 0.0</br>minute: 3</br>distanceToGoal: 9.53310076709881</br>_original_yhat_: 0.07474706388596017</br>"
          ],
          [
           "</br>id: 1833</br>prediction: 0.052</br>angleToGoal: 24.309465039527385</br></br>h_a: 0.0</br>situation: 2.0</br>shotType: 0.0</br>lastAction: 0.0</br>minute: 3</br>distanceToGoal: 9.53310076709881</br>_original_yhat_: 0.07474706388596017</br>"
          ],
          [
           "</br>id: 1833</br>prediction: 0.053</br>angleToGoal: 25.183618247316975</br></br>h_a: 0.0</br>situation: 2.0</br>shotType: 0.0</br>lastAction: 0.0</br>minute: 3</br>distanceToGoal: 9.53310076709881</br>_original_yhat_: 0.07474706388596017</br>"
          ],
          [
           "</br>id: 1833</br>prediction: 0.054</br>angleToGoal: 26.05777145510656</br></br>h_a: 0.0</br>situation: 2.0</br>shotType: 0.0</br>lastAction: 0.0</br>minute: 3</br>distanceToGoal: 9.53310076709881</br>_original_yhat_: 0.07474706388596017</br>"
          ],
          [
           "</br>id: 1833</br>prediction: 0.055</br>angleToGoal: 26.93192466289615</br></br>h_a: 0.0</br>situation: 2.0</br>shotType: 0.0</br>lastAction: 0.0</br>minute: 3</br>distanceToGoal: 9.53310076709881</br>_original_yhat_: 0.07474706388596017</br>"
          ],
          [
           "</br>id: 1833</br>prediction: 0.056</br>angleToGoal: 27.80607787068574</br></br>h_a: 0.0</br>situation: 2.0</br>shotType: 0.0</br>lastAction: 0.0</br>minute: 3</br>distanceToGoal: 9.53310076709881</br>_original_yhat_: 0.07474706388596017</br>"
          ],
          [
           "</br>id: 1833</br>prediction: 0.057</br>angleToGoal: 28.68023107847533</br></br>h_a: 0.0</br>situation: 2.0</br>shotType: 0.0</br>lastAction: 0.0</br>minute: 3</br>distanceToGoal: 9.53310076709881</br>_original_yhat_: 0.07474706388596017</br>"
          ],
          [
           "</br>id: 1833</br>prediction: 0.059</br>angleToGoal: 29.55438428626492</br></br>h_a: 0.0</br>situation: 2.0</br>shotType: 0.0</br>lastAction: 0.0</br>minute: 3</br>distanceToGoal: 9.53310076709881</br>_original_yhat_: 0.07474706388596017</br>"
          ],
          [
           "</br>id: 1833</br>prediction: 0.06</br>angleToGoal: 30.42853749405451</br></br>h_a: 0.0</br>situation: 2.0</br>shotType: 0.0</br>lastAction: 0.0</br>minute: 3</br>distanceToGoal: 9.53310076709881</br>_original_yhat_: 0.07474706388596017</br>"
          ],
          [
           "</br>id: 1833</br>prediction: 0.061</br>angleToGoal: 31.3026907018441</br></br>h_a: 0.0</br>situation: 2.0</br>shotType: 0.0</br>lastAction: 0.0</br>minute: 3</br>distanceToGoal: 9.53310076709881</br>_original_yhat_: 0.07474706388596017</br>"
          ],
          [
           "</br>id: 1833</br>prediction: 0.062</br>angleToGoal: 32.17684390963369</br></br>h_a: 0.0</br>situation: 2.0</br>shotType: 0.0</br>lastAction: 0.0</br>minute: 3</br>distanceToGoal: 9.53310076709881</br>_original_yhat_: 0.07474706388596017</br>"
          ],
          [
           "</br>id: 1833</br>prediction: 0.063</br>angleToGoal: 33.05099711742328</br></br>h_a: 0.0</br>situation: 2.0</br>shotType: 0.0</br>lastAction: 0.0</br>minute: 3</br>distanceToGoal: 9.53310076709881</br>_original_yhat_: 0.07474706388596017</br>"
          ],
          [
           "</br>id: 1833</br>prediction: 0.065</br>angleToGoal: 33.92515032521287</br></br>h_a: 0.0</br>situation: 2.0</br>shotType: 0.0</br>lastAction: 0.0</br>minute: 3</br>distanceToGoal: 9.53310076709881</br>_original_yhat_: 0.07474706388596017</br>"
          ],
          [
           "</br>id: 1833</br>prediction: 0.066</br>angleToGoal: 34.79930353300246</br></br>h_a: 0.0</br>situation: 2.0</br>shotType: 0.0</br>lastAction: 0.0</br>minute: 3</br>distanceToGoal: 9.53310076709881</br>_original_yhat_: 0.07474706388596017</br>"
          ],
          [
           "</br>id: 1833</br>prediction: 0.067</br>angleToGoal: 35.67345674079205</br></br>h_a: 0.0</br>situation: 2.0</br>shotType: 0.0</br>lastAction: 0.0</br>minute: 3</br>distanceToGoal: 9.53310076709881</br>_original_yhat_: 0.07474706388596017</br>"
          ],
          [
           "</br>id: 1833</br>prediction: 0.068</br>angleToGoal: 36.54760994858164</br></br>h_a: 0.0</br>situation: 2.0</br>shotType: 0.0</br>lastAction: 0.0</br>minute: 3</br>distanceToGoal: 9.53310076709881</br>_original_yhat_: 0.07474706388596017</br>"
          ],
          [
           "</br>id: 1833</br>prediction: 0.07</br>angleToGoal: 37.42176315637123</br></br>h_a: 0.0</br>situation: 2.0</br>shotType: 0.0</br>lastAction: 0.0</br>minute: 3</br>distanceToGoal: 9.53310076709881</br>_original_yhat_: 0.07474706388596017</br>"
          ],
          [
           "</br>id: 1833</br>prediction: 0.071</br>angleToGoal: 38.29591636416082</br></br>h_a: 0.0</br>situation: 2.0</br>shotType: 0.0</br>lastAction: 0.0</br>minute: 3</br>distanceToGoal: 9.53310076709881</br>_original_yhat_: 0.07474706388596017</br>"
          ],
          [
           "</br>id: 1833</br>prediction: 0.073</br>angleToGoal: 39.17006957195041</br></br>h_a: 0.0</br>situation: 2.0</br>shotType: 0.0</br>lastAction: 0.0</br>minute: 3</br>distanceToGoal: 9.53310076709881</br>_original_yhat_: 0.07474706388596017</br>"
          ],
          [
           "</br>id: 1833</br>prediction: 0.074</br>angleToGoal: 40.04422277974</br></br>h_a: 0.0</br>situation: 2.0</br>shotType: 0.0</br>lastAction: 0.0</br>minute: 3</br>distanceToGoal: 9.53310076709881</br>_original_yhat_: 0.07474706388596017</br>"
          ],
          [
           "</br>id: 1833</br>prediction: 0.075</br>angleToGoal: 40.4664837945122</br></br>h_a: 0.0</br>situation: 2.0</br>shotType: 0.0</br>lastAction: 0.0</br>minute: 3</br>distanceToGoal: 9.53310076709881</br>_original_yhat_: 0.07474706388596017</br>"
          ],
          [
           "</br>id: 1833</br>prediction: 0.076</br>angleToGoal: 40.918375987529586</br></br>h_a: 0.0</br>situation: 2.0</br>shotType: 0.0</br>lastAction: 0.0</br>minute: 3</br>distanceToGoal: 9.53310076709881</br>_original_yhat_: 0.07474706388596017</br>"
          ],
          [
           "</br>id: 1833</br>prediction: 0.077</br>angleToGoal: 41.792529195319176</br></br>h_a: 0.0</br>situation: 2.0</br>shotType: 0.0</br>lastAction: 0.0</br>minute: 3</br>distanceToGoal: 9.53310076709881</br>_original_yhat_: 0.07474706388596017</br>"
          ],
          [
           "</br>id: 1833</br>prediction: 0.078</br>angleToGoal: 42.666682403108766</br></br>h_a: 0.0</br>situation: 2.0</br>shotType: 0.0</br>lastAction: 0.0</br>minute: 3</br>distanceToGoal: 9.53310076709881</br>_original_yhat_: 0.07474706388596017</br>"
          ],
          [
           "</br>id: 1833</br>prediction: 0.08</br>angleToGoal: 43.540835610898355</br></br>h_a: 0.0</br>situation: 2.0</br>shotType: 0.0</br>lastAction: 0.0</br>minute: 3</br>distanceToGoal: 9.53310076709881</br>_original_yhat_: 0.07474706388596017</br>"
          ],
          [
           "</br>id: 1833</br>prediction: 0.082</br>angleToGoal: 44.414988818687945</br></br>h_a: 0.0</br>situation: 2.0</br>shotType: 0.0</br>lastAction: 0.0</br>minute: 3</br>distanceToGoal: 9.53310076709881</br>_original_yhat_: 0.07474706388596017</br>"
          ],
          [
           "</br>id: 1833</br>prediction: 0.083</br>angleToGoal: 45.289142026477535</br></br>h_a: 0.0</br>situation: 2.0</br>shotType: 0.0</br>lastAction: 0.0</br>minute: 3</br>distanceToGoal: 9.53310076709881</br>_original_yhat_: 0.07474706388596017</br>"
          ],
          [
           "</br>id: 1833</br>prediction: 0.085</br>angleToGoal: 46.163295234267125</br></br>h_a: 0.0</br>situation: 2.0</br>shotType: 0.0</br>lastAction: 0.0</br>minute: 3</br>distanceToGoal: 9.53310076709881</br>_original_yhat_: 0.07474706388596017</br>"
          ],
          [
           "</br>id: 1833</br>prediction: 0.086</br>angleToGoal: 47.037448442056714</br></br>h_a: 0.0</br>situation: 2.0</br>shotType: 0.0</br>lastAction: 0.0</br>minute: 3</br>distanceToGoal: 9.53310076709881</br>_original_yhat_: 0.07474706388596017</br>"
          ],
          [
           "</br>id: 1833</br>prediction: 0.088</br>angleToGoal: 47.911601649846304</br></br>h_a: 0.0</br>situation: 2.0</br>shotType: 0.0</br>lastAction: 0.0</br>minute: 3</br>distanceToGoal: 9.53310076709881</br>_original_yhat_: 0.07474706388596017</br>"
          ],
          [
           "</br>id: 1833</br>prediction: 0.09</br>angleToGoal: 48.785754857635894</br></br>h_a: 0.0</br>situation: 2.0</br>shotType: 0.0</br>lastAction: 0.0</br>minute: 3</br>distanceToGoal: 9.53310076709881</br>_original_yhat_: 0.07474706388596017</br>"
          ],
          [
           "</br>id: 1833</br>prediction: 0.092</br>angleToGoal: 49.659908065425476</br></br>h_a: 0.0</br>situation: 2.0</br>shotType: 0.0</br>lastAction: 0.0</br>minute: 3</br>distanceToGoal: 9.53310076709881</br>_original_yhat_: 0.07474706388596017</br>"
          ],
          [
           "</br>id: 1833</br>prediction: 0.093</br>angleToGoal: 50.534061273215066</br></br>h_a: 0.0</br>situation: 2.0</br>shotType: 0.0</br>lastAction: 0.0</br>minute: 3</br>distanceToGoal: 9.53310076709881</br>_original_yhat_: 0.07474706388596017</br>"
          ],
          [
           "</br>id: 1833</br>prediction: 0.095</br>angleToGoal: 51.408214481004656</br></br>h_a: 0.0</br>situation: 2.0</br>shotType: 0.0</br>lastAction: 0.0</br>minute: 3</br>distanceToGoal: 9.53310076709881</br>_original_yhat_: 0.07474706388596017</br>"
          ],
          [
           "</br>id: 1833</br>prediction: 0.097</br>angleToGoal: 52.282367688794245</br></br>h_a: 0.0</br>situation: 2.0</br>shotType: 0.0</br>lastAction: 0.0</br>minute: 3</br>distanceToGoal: 9.53310076709881</br>_original_yhat_: 0.07474706388596017</br>"
          ],
          [
           "</br>id: 1833</br>prediction: 0.099</br>angleToGoal: 53.156520896583835</br></br>h_a: 0.0</br>situation: 2.0</br>shotType: 0.0</br>lastAction: 0.0</br>minute: 3</br>distanceToGoal: 9.53310076709881</br>_original_yhat_: 0.07474706388596017</br>"
          ],
          [
           "</br>id: 1833</br>prediction: 0.101</br>angleToGoal: 54.030674104373425</br></br>h_a: 0.0</br>situation: 2.0</br>shotType: 0.0</br>lastAction: 0.0</br>minute: 3</br>distanceToGoal: 9.53310076709881</br>_original_yhat_: 0.07474706388596017</br>"
          ],
          [
           "</br>id: 1833</br>prediction: 0.103</br>angleToGoal: 54.904827312163015</br></br>h_a: 0.0</br>situation: 2.0</br>shotType: 0.0</br>lastAction: 0.0</br>minute: 3</br>distanceToGoal: 9.53310076709881</br>_original_yhat_: 0.07474706388596017</br>"
          ],
          [
           "</br>id: 1833</br>prediction: 0.105</br>angleToGoal: 55.778980519952604</br></br>h_a: 0.0</br>situation: 2.0</br>shotType: 0.0</br>lastAction: 0.0</br>minute: 3</br>distanceToGoal: 9.53310076709881</br>_original_yhat_: 0.07474706388596017</br>"
          ],
          [
           "</br>id: 1833</br>prediction: 0.106</br>angleToGoal: 56.653133727742194</br></br>h_a: 0.0</br>situation: 2.0</br>shotType: 0.0</br>lastAction: 0.0</br>minute: 3</br>distanceToGoal: 9.53310076709881</br>_original_yhat_: 0.07474706388596017</br>"
          ],
          [
           "</br>id: 1833</br>prediction: 0.108</br>angleToGoal: 57.527286935531784</br></br>h_a: 0.0</br>situation: 2.0</br>shotType: 0.0</br>lastAction: 0.0</br>minute: 3</br>distanceToGoal: 9.53310076709881</br>_original_yhat_: 0.07474706388596017</br>"
          ],
          [
           "</br>id: 1833</br>prediction: 0.111</br>angleToGoal: 58.40144014332137</br></br>h_a: 0.0</br>situation: 2.0</br>shotType: 0.0</br>lastAction: 0.0</br>minute: 3</br>distanceToGoal: 9.53310076709881</br>_original_yhat_: 0.07474706388596017</br>"
          ],
          [
           "</br>id: 1833</br>prediction: 0.113</br>angleToGoal: 59.27559335111096</br></br>h_a: 0.0</br>situation: 2.0</br>shotType: 0.0</br>lastAction: 0.0</br>minute: 3</br>distanceToGoal: 9.53310076709881</br>_original_yhat_: 0.07474706388596017</br>"
          ],
          [
           "</br>id: 1833</br>prediction: 0.115</br>angleToGoal: 60.14974655890055</br></br>h_a: 0.0</br>situation: 2.0</br>shotType: 0.0</br>lastAction: 0.0</br>minute: 3</br>distanceToGoal: 9.53310076709881</br>_original_yhat_: 0.07474706388596017</br>"
          ],
          [
           "</br>id: 1833</br>prediction: 0.117</br>angleToGoal: 61.02389976669014</br></br>h_a: 0.0</br>situation: 2.0</br>shotType: 0.0</br>lastAction: 0.0</br>minute: 3</br>distanceToGoal: 9.53310076709881</br>_original_yhat_: 0.07474706388596017</br>"
          ],
          [
           "</br>id: 1833</br>prediction: 0.119</br>angleToGoal: 61.89805297447973</br></br>h_a: 0.0</br>situation: 2.0</br>shotType: 0.0</br>lastAction: 0.0</br>minute: 3</br>distanceToGoal: 9.53310076709881</br>_original_yhat_: 0.07474706388596017</br>"
          ],
          [
           "</br>id: 1833</br>prediction: 0.121</br>angleToGoal: 62.77220618226932</br></br>h_a: 0.0</br>situation: 2.0</br>shotType: 0.0</br>lastAction: 0.0</br>minute: 3</br>distanceToGoal: 9.53310076709881</br>_original_yhat_: 0.07474706388596017</br>"
          ],
          [
           "</br>id: 1833</br>prediction: 0.124</br>angleToGoal: 63.64635939005891</br></br>h_a: 0.0</br>situation: 2.0</br>shotType: 0.0</br>lastAction: 0.0</br>minute: 3</br>distanceToGoal: 9.53310076709881</br>_original_yhat_: 0.07474706388596017</br>"
          ],
          [
           "</br>id: 1833</br>prediction: 0.126</br>angleToGoal: 64.5205125978485</br></br>h_a: 0.0</br>situation: 2.0</br>shotType: 0.0</br>lastAction: 0.0</br>minute: 3</br>distanceToGoal: 9.53310076709881</br>_original_yhat_: 0.07474706388596017</br>"
          ],
          [
           "</br>id: 1833</br>prediction: 0.128</br>angleToGoal: 65.39466580563808</br></br>h_a: 0.0</br>situation: 2.0</br>shotType: 0.0</br>lastAction: 0.0</br>minute: 3</br>distanceToGoal: 9.53310076709881</br>_original_yhat_: 0.07474706388596017</br>"
          ],
          [
           "</br>id: 1833</br>prediction: 0.131</br>angleToGoal: 66.26881901342767</br></br>h_a: 0.0</br>situation: 2.0</br>shotType: 0.0</br>lastAction: 0.0</br>minute: 3</br>distanceToGoal: 9.53310076709881</br>_original_yhat_: 0.07474706388596017</br>"
          ],
          [
           "</br>id: 1833</br>prediction: 0.133</br>angleToGoal: 67.14297222121726</br></br>h_a: 0.0</br>situation: 2.0</br>shotType: 0.0</br>lastAction: 0.0</br>minute: 3</br>distanceToGoal: 9.53310076709881</br>_original_yhat_: 0.07474706388596017</br>"
          ],
          [
           "</br>id: 1833</br>prediction: 0.135</br>angleToGoal: 68.01712542900685</br></br>h_a: 0.0</br>situation: 2.0</br>shotType: 0.0</br>lastAction: 0.0</br>minute: 3</br>distanceToGoal: 9.53310076709881</br>_original_yhat_: 0.07474706388596017</br>"
          ],
          [
           "</br>id: 1833</br>prediction: 0.138</br>angleToGoal: 68.89127863679644</br></br>h_a: 0.0</br>situation: 2.0</br>shotType: 0.0</br>lastAction: 0.0</br>minute: 3</br>distanceToGoal: 9.53310076709881</br>_original_yhat_: 0.07474706388596017</br>"
          ],
          [
           "</br>id: 1833</br>prediction: 0.14</br>angleToGoal: 69.76543184458603</br></br>h_a: 0.0</br>situation: 2.0</br>shotType: 0.0</br>lastAction: 0.0</br>minute: 3</br>distanceToGoal: 9.53310076709881</br>_original_yhat_: 0.07474706388596017</br>"
          ],
          [
           "</br>id: 1833</br>prediction: 0.143</br>angleToGoal: 70.63958505237562</br></br>h_a: 0.0</br>situation: 2.0</br>shotType: 0.0</br>lastAction: 0.0</br>minute: 3</br>distanceToGoal: 9.53310076709881</br>_original_yhat_: 0.07474706388596017</br>"
          ],
          [
           "</br>id: 1833</br>prediction: 0.146</br>angleToGoal: 71.51373826016521</br></br>h_a: 0.0</br>situation: 2.0</br>shotType: 0.0</br>lastAction: 0.0</br>minute: 3</br>distanceToGoal: 9.53310076709881</br>_original_yhat_: 0.07474706388596017</br>"
          ],
          [
           "</br>id: 1833</br>prediction: 0.148</br>angleToGoal: 72.3878914679548</br></br>h_a: 0.0</br>situation: 2.0</br>shotType: 0.0</br>lastAction: 0.0</br>minute: 3</br>distanceToGoal: 9.53310076709881</br>_original_yhat_: 0.07474706388596017</br>"
          ],
          [
           "</br>id: 1833</br>prediction: 0.151</br>angleToGoal: 73.26204467574439</br></br>h_a: 0.0</br>situation: 2.0</br>shotType: 0.0</br>lastAction: 0.0</br>minute: 3</br>distanceToGoal: 9.53310076709881</br>_original_yhat_: 0.07474706388596017</br>"
          ],
          [
           "</br>id: 1833</br>prediction: 0.154</br>angleToGoal: 74.13619788353398</br></br>h_a: 0.0</br>situation: 2.0</br>shotType: 0.0</br>lastAction: 0.0</br>minute: 3</br>distanceToGoal: 9.53310076709881</br>_original_yhat_: 0.07474706388596017</br>"
          ],
          [
           "</br>id: 1833</br>prediction: 0.156</br>angleToGoal: 75.01035109132357</br></br>h_a: 0.0</br>situation: 2.0</br>shotType: 0.0</br>lastAction: 0.0</br>minute: 3</br>distanceToGoal: 9.53310076709881</br>_original_yhat_: 0.07474706388596017</br>"
          ],
          [
           "</br>id: 1833</br>prediction: 0.159</br>angleToGoal: 75.88450429911316</br></br>h_a: 0.0</br>situation: 2.0</br>shotType: 0.0</br>lastAction: 0.0</br>minute: 3</br>distanceToGoal: 9.53310076709881</br>_original_yhat_: 0.07474706388596017</br>"
          ],
          [
           "</br>id: 1833</br>prediction: 0.162</br>angleToGoal: 76.75865750690275</br></br>h_a: 0.0</br>situation: 2.0</br>shotType: 0.0</br>lastAction: 0.0</br>minute: 3</br>distanceToGoal: 9.53310076709881</br>_original_yhat_: 0.07474706388596017</br>"
          ],
          [
           "</br>id: 1833</br>prediction: 0.165</br>angleToGoal: 77.63281071469234</br></br>h_a: 0.0</br>situation: 2.0</br>shotType: 0.0</br>lastAction: 0.0</br>minute: 3</br>distanceToGoal: 9.53310076709881</br>_original_yhat_: 0.07474706388596017</br>"
          ],
          [
           "</br>id: 1833</br>prediction: 0.168</br>angleToGoal: 78.50696392248193</br></br>h_a: 0.0</br>situation: 2.0</br>shotType: 0.0</br>lastAction: 0.0</br>minute: 3</br>distanceToGoal: 9.53310076709881</br>_original_yhat_: 0.07474706388596017</br>"
          ],
          [
           "</br>id: 1833</br>prediction: 0.171</br>angleToGoal: 79.38111713027152</br></br>h_a: 0.0</br>situation: 2.0</br>shotType: 0.0</br>lastAction: 0.0</br>minute: 3</br>distanceToGoal: 9.53310076709881</br>_original_yhat_: 0.07474706388596017</br>"
          ],
          [
           "</br>id: 1833</br>prediction: 0.174</br>angleToGoal: 80.25527033806111</br></br>h_a: 0.0</br>situation: 2.0</br>shotType: 0.0</br>lastAction: 0.0</br>minute: 3</br>distanceToGoal: 9.53310076709881</br>_original_yhat_: 0.07474706388596017</br>"
          ],
          [
           "</br>id: 1833</br>prediction: 0.177</br>angleToGoal: 81.1294235458507</br></br>h_a: 0.0</br>situation: 2.0</br>shotType: 0.0</br>lastAction: 0.0</br>minute: 3</br>distanceToGoal: 9.53310076709881</br>_original_yhat_: 0.07474706388596017</br>"
          ],
          [
           "</br>id: 1833</br>prediction: 0.18</br>angleToGoal: 82.00357675364029</br></br>h_a: 0.0</br>situation: 2.0</br>shotType: 0.0</br>lastAction: 0.0</br>minute: 3</br>distanceToGoal: 9.53310076709881</br>_original_yhat_: 0.07474706388596017</br>"
          ],
          [
           "</br>id: 1833</br>prediction: 0.183</br>angleToGoal: 82.87772996142988</br></br>h_a: 0.0</br>situation: 2.0</br>shotType: 0.0</br>lastAction: 0.0</br>minute: 3</br>distanceToGoal: 9.53310076709881</br>_original_yhat_: 0.07474706388596017</br>"
          ],
          [
           "</br>id: 1833</br>prediction: 0.186</br>angleToGoal: 83.75188316921947</br></br>h_a: 0.0</br>situation: 2.0</br>shotType: 0.0</br>lastAction: 0.0</br>minute: 3</br>distanceToGoal: 9.53310076709881</br>_original_yhat_: 0.07474706388596017</br>"
          ],
          [
           "</br>id: 1833</br>prediction: 0.189</br>angleToGoal: 84.62603637700906</br></br>h_a: 0.0</br>situation: 2.0</br>shotType: 0.0</br>lastAction: 0.0</br>minute: 3</br>distanceToGoal: 9.53310076709881</br>_original_yhat_: 0.07474706388596017</br>"
          ],
          [
           "</br>id: 1833</br>prediction: 0.192</br>angleToGoal: 85.50018958479865</br></br>h_a: 0.0</br>situation: 2.0</br>shotType: 0.0</br>lastAction: 0.0</br>minute: 3</br>distanceToGoal: 9.53310076709881</br>_original_yhat_: 0.07474706388596017</br>"
          ],
          [
           "</br>id: 1833</br>prediction: 0.196</br>angleToGoal: 86.37434279258824</br></br>h_a: 0.0</br>situation: 2.0</br>shotType: 0.0</br>lastAction: 0.0</br>minute: 3</br>distanceToGoal: 9.53310076709881</br>_original_yhat_: 0.07474706388596017</br>"
          ],
          [
           "</br>id: 1833</br>prediction: 0.199</br>angleToGoal: 87.24849600037783</br></br>h_a: 0.0</br>situation: 2.0</br>shotType: 0.0</br>lastAction: 0.0</br>minute: 3</br>distanceToGoal: 9.53310076709881</br>_original_yhat_: 0.07474706388596017</br>"
          ],
          [
           "</br>id: 1833</br>prediction: 0.202</br>angleToGoal: 88.12264920816742</br></br>h_a: 0.0</br>situation: 2.0</br>shotType: 0.0</br>lastAction: 0.0</br>minute: 3</br>distanceToGoal: 9.53310076709881</br>_original_yhat_: 0.07474706388596017</br>"
          ],
          [
           "</br>id: 1833</br>prediction: 0.206</br>angleToGoal: 88.996802415957</br></br>h_a: 0.0</br>situation: 2.0</br>shotType: 0.0</br>lastAction: 0.0</br>minute: 3</br>distanceToGoal: 9.53310076709881</br>_original_yhat_: 0.07474706388596017</br>"
          ],
          [
           "</br>id: 1833</br>prediction: 0.209</br>angleToGoal: 89.8709556237466</br></br>h_a: 0.0</br>situation: 2.0</br>shotType: 0.0</br>lastAction: 0.0</br>minute: 3</br>distanceToGoal: 9.53310076709881</br>_original_yhat_: 0.07474706388596017</br>"
          ]
         ],
         "hovertemplate": "%{customdata[0]}<extra></extra>",
         "legendgroup": "Logistic Regression",
         "line": {
          "color": "#4378bf",
          "dash": "solid",
          "width": 2
         },
         "marker": {
          "symbol": "circle"
         },
         "mode": "lines",
         "name": "Logistic Regression",
         "opacity": 1,
         "showlegend": false,
         "type": "scattergl",
         "x": [
          2.45563484478765,
          3.329788052577239,
          4.203941260366829,
          5.078094468156419,
          5.9522476759460075,
          6.826400883735596,
          7.700554091525186,
          8.574707299314776,
          9.448860507104365,
          10.323013714893955,
          11.197166922683543,
          12.071320130473133,
          12.945473338262723,
          13.819626546052312,
          14.6937797538419,
          15.56793296163149,
          16.44208616942108,
          17.31623937721067,
          18.19039258500026,
          19.064545792789847,
          19.938699000579437,
          20.812852208369026,
          21.687005416158616,
          22.561158623948206,
          23.435311831737796,
          24.309465039527385,
          25.183618247316975,
          26.05777145510656,
          26.93192466289615,
          27.80607787068574,
          28.68023107847533,
          29.55438428626492,
          30.42853749405451,
          31.3026907018441,
          32.17684390963369,
          33.05099711742328,
          33.92515032521287,
          34.79930353300246,
          35.67345674079205,
          36.54760994858164,
          37.42176315637123,
          38.29591636416082,
          39.17006957195041,
          40.04422277974,
          40.4664837945122,
          40.918375987529586,
          41.792529195319176,
          42.666682403108766,
          43.540835610898355,
          44.414988818687945,
          45.289142026477535,
          46.163295234267125,
          47.037448442056714,
          47.911601649846304,
          48.785754857635894,
          49.659908065425476,
          50.534061273215066,
          51.408214481004656,
          52.282367688794245,
          53.156520896583835,
          54.030674104373425,
          54.904827312163015,
          55.778980519952604,
          56.653133727742194,
          57.527286935531784,
          58.40144014332137,
          59.27559335111096,
          60.14974655890055,
          61.02389976669014,
          61.89805297447973,
          62.77220618226932,
          63.64635939005891,
          64.5205125978485,
          65.39466580563808,
          66.26881901342767,
          67.14297222121726,
          68.01712542900685,
          68.89127863679644,
          69.76543184458603,
          70.63958505237562,
          71.51373826016521,
          72.3878914679548,
          73.26204467574439,
          74.13619788353398,
          75.01035109132357,
          75.88450429911316,
          76.75865750690275,
          77.63281071469234,
          78.50696392248193,
          79.38111713027152,
          80.25527033806111,
          81.1294235458507,
          82.00357675364029,
          82.87772996142988,
          83.75188316921947,
          84.62603637700906,
          85.50018958479865,
          86.37434279258824,
          87.24849600037783,
          88.12264920816742,
          88.996802415957,
          89.8709556237466
         ],
         "xaxis": "x",
         "y": [
          0.03140519069912109,
          0.032050149557241114,
          0.03270790646591143,
          0.0333786968516207,
          0.03406275970435183,
          0.03476033759893717,
          0.035471676714966094,
          0.036197026855157376,
          0.03693664146210563,
          0.03769077763330818,
          0.03845969613437594,
          0.039243661410328305,
          0.040042941594869375,
          0.040857808517539625,
          0.04168853770863374,
          0.0425354084017727,
          0.04339870353401421,
          0.04427870974338322,
          0.0451757173637006,
          0.04609002041658481,
          0.04702191660049872,
          0.047971707276709956,
          0.048939697452030445,
          0.049926195758197595,
          0.05093151442775654,
          0.051955969266300056,
          0.05299987962091927,
          0.054063568344716297,
          0.055147361757226385,
          0.05625158960059513,
          0.05737658499135322,
          0.05852268436762923,
          0.059690227431638605,
          0.060879557087284486,
          0.06209101937270455,
          0.06332496338759644,
          0.06458174121515182,
          0.06586170783842908,
          0.06716522105099268,
          0.06849264136164673,
          0.06984433189308964,
          0.07122065827431692,
          0.07262198852659836,
          0.07404869294285737,
          0.07474706388596017,
          0.07550114396028003,
          0.07697971602598362,
          0.07848478545557477,
          0.08001673028443067,
          0.08157593011153812,
          0.08316276593572915,
          0.08477761998415494,
          0.08642087553284342,
          0.0880929167191915,
          0.08979412834624721,
          0.09152489567864276,
          0.09328560423004738,
          0.09507663954201287,
          0.0968983869540968,
          0.09875123136515217,
          0.10063555698568535,
          0.10255174708119204,
          0.10450018370639173,
          0.10648124743029445,
          0.10849531705204317,
          0.11054276930749131,
          0.1126239785664866,
          0.11473931652084922,
          0.11688915186304638,
          0.1190738499555836,
          0.1212937724911498,
          0.12354927714357192,
          0.12584071720965473,
          0.12816844124200114,
          0.13053279267293,
          0.13293410942963085,
          0.13537272354071764,
          0.13784896073436761,
          0.14036314002825617,
          0.14291557331152532,
          0.1455065649190478,
          0.14813641119827795,
          0.1508054000690077,
          0.15351381057637523,
          0.15626191243750223,
          0.15904996558216675,
          0.1618782196879487,
          0.16474691371031563,
          0.16765627540814926,
          0.17060652086524236,
          0.17359785400833055,
          0.17663046612225322,
          0.1797045353628714,
          0.18282022626840244,
          0.18597768926986202,
          0.1891770602013371,
          0.19241845981084496,
          0.19570199327256232,
          0.19902774970124085,
          0.20239580166965343,
          0.20580620472994435,
          0.2092589969397847
         ],
         "yaxis": "y"
        },
        {
         "customdata": [
          [
           "</br>id: 1833</br>prediction: 0.053</br>h_a: 0.0</br></br>situation: 2.0</br>shotType: 0.0</br>lastAction: 0.0</br>minute: 3</br>distanceToGoal: 9.53310076709881</br>angleToGoal: 40.4664837945122</br>_original_yhat_: 0.053361547462168445</br>"
          ],
          [
           "</br>id: 1833</br>prediction: 0.07</br>h_a: 0.0</br></br>situation: 2.0</br>shotType: 0.0</br>lastAction: 0.0</br>minute: 3</br>distanceToGoal: 9.53310076709881</br>angleToGoal: 40.4664837945122</br>_original_yhat_: 0.07</br>"
          ],
          [
           "</br>id: 1833</br>prediction: 0.075</br>h_a: 0.0</br></br>situation: 2.0</br>shotType: 0.0</br>lastAction: 0.0</br>minute: 3</br>distanceToGoal: 9.53310076709881</br>angleToGoal: 40.4664837945122</br>_original_yhat_: 0.07474706388596017</br>"
          ]
         ],
         "hovertemplate": "%{customdata[0]}<extra></extra>",
         "legendgroup": "",
         "marker": {
          "color": "#371ea3",
          "size": 10,
          "symbol": "circle"
         },
         "mode": "markers",
         "name": "",
         "opacity": 1,
         "orientation": "v",
         "showlegend": false,
         "type": "scatter",
         "x": [
          0,
          0,
          0
         ],
         "xaxis": "x7",
         "y": [
          0.053361547462168445,
          0.07,
          0.07474706388596017
         ],
         "yaxis": "y7"
        },
        {
         "customdata": [
          [
           "</br>id: 1833</br>prediction: 0.053</br>situation: 2.0</br></br>h_a: 0.0</br>shotType: 0.0</br>lastAction: 0.0</br>minute: 3</br>distanceToGoal: 9.53310076709881</br>angleToGoal: 40.4664837945122</br>_original_yhat_: 0.053361547462168445</br>"
          ],
          [
           "</br>id: 1833</br>prediction: 0.07</br>situation: 2.0</br></br>h_a: 0.0</br>shotType: 0.0</br>lastAction: 0.0</br>minute: 3</br>distanceToGoal: 9.53310076709881</br>angleToGoal: 40.4664837945122</br>_original_yhat_: 0.07</br>"
          ],
          [
           "</br>id: 1833</br>prediction: 0.075</br>situation: 2.0</br></br>h_a: 0.0</br>shotType: 0.0</br>lastAction: 0.0</br>minute: 3</br>distanceToGoal: 9.53310076709881</br>angleToGoal: 40.4664837945122</br>_original_yhat_: 0.07474706388596017</br>"
          ]
         ],
         "hovertemplate": "%{customdata[0]}<extra></extra>",
         "legendgroup": "",
         "marker": {
          "color": "#371ea3",
          "size": 10,
          "symbol": "circle"
         },
         "mode": "markers",
         "name": "",
         "opacity": 1,
         "orientation": "v",
         "showlegend": false,
         "type": "scatter",
         "x": [
          2,
          2,
          2
         ],
         "xaxis": "x8",
         "y": [
          0.053361547462168445,
          0.07,
          0.07474706388596017
         ],
         "yaxis": "y8"
        },
        {
         "customdata": [
          [
           "</br>id: 1833</br>prediction: 0.053</br>shotType: 0.0</br></br>h_a: 0.0</br>situation: 2.0</br>lastAction: 0.0</br>minute: 3</br>distanceToGoal: 9.53310076709881</br>angleToGoal: 40.4664837945122</br>_original_yhat_: 0.053361547462168445</br>"
          ],
          [
           "</br>id: 1833</br>prediction: 0.07</br>shotType: 0.0</br></br>h_a: 0.0</br>situation: 2.0</br>lastAction: 0.0</br>minute: 3</br>distanceToGoal: 9.53310076709881</br>angleToGoal: 40.4664837945122</br>_original_yhat_: 0.07</br>"
          ],
          [
           "</br>id: 1833</br>prediction: 0.075</br>shotType: 0.0</br></br>h_a: 0.0</br>situation: 2.0</br>lastAction: 0.0</br>minute: 3</br>distanceToGoal: 9.53310076709881</br>angleToGoal: 40.4664837945122</br>_original_yhat_: 0.07474706388596017</br>"
          ]
         ],
         "hovertemplate": "%{customdata[0]}<extra></extra>",
         "legendgroup": "",
         "marker": {
          "color": "#371ea3",
          "size": 10,
          "symbol": "circle"
         },
         "mode": "markers",
         "name": "",
         "opacity": 1,
         "orientation": "v",
         "showlegend": false,
         "type": "scatter",
         "x": [
          0,
          0,
          0
         ],
         "xaxis": "x5",
         "y": [
          0.053361547462168445,
          0.07,
          0.07474706388596017
         ],
         "yaxis": "y5"
        },
        {
         "customdata": [
          [
           "</br>id: 1833</br>prediction: 0.053</br>lastAction: 0.0</br></br>h_a: 0.0</br>situation: 2.0</br>shotType: 0.0</br>minute: 3</br>distanceToGoal: 9.53310076709881</br>angleToGoal: 40.4664837945122</br>_original_yhat_: 0.053361547462168445</br>"
          ],
          [
           "</br>id: 1833</br>prediction: 0.07</br>lastAction: 0.0</br></br>h_a: 0.0</br>situation: 2.0</br>shotType: 0.0</br>minute: 3</br>distanceToGoal: 9.53310076709881</br>angleToGoal: 40.4664837945122</br>_original_yhat_: 0.07</br>"
          ],
          [
           "</br>id: 1833</br>prediction: 0.075</br>lastAction: 0.0</br></br>h_a: 0.0</br>situation: 2.0</br>shotType: 0.0</br>minute: 3</br>distanceToGoal: 9.53310076709881</br>angleToGoal: 40.4664837945122</br>_original_yhat_: 0.07474706388596017</br>"
          ]
         ],
         "hovertemplate": "%{customdata[0]}<extra></extra>",
         "legendgroup": "",
         "marker": {
          "color": "#371ea3",
          "size": 10,
          "symbol": "circle"
         },
         "mode": "markers",
         "name": "",
         "opacity": 1,
         "orientation": "v",
         "showlegend": false,
         "type": "scatter",
         "x": [
          0,
          0,
          0
         ],
         "xaxis": "x6",
         "y": [
          0.053361547462168445,
          0.07,
          0.07474706388596017
         ],
         "yaxis": "y6"
        },
        {
         "customdata": [
          [
           "</br>id: 1833</br>prediction: 0.053</br>minute: 3</br></br>h_a: 0.0</br>situation: 2.0</br>shotType: 0.0</br>lastAction: 0.0</br>distanceToGoal: 9.53310076709881</br>angleToGoal: 40.4664837945122</br>_original_yhat_: 0.053361547462168445</br>"
          ],
          [
           "</br>id: 1833</br>prediction: 0.07</br>minute: 3</br></br>h_a: 0.0</br>situation: 2.0</br>shotType: 0.0</br>lastAction: 0.0</br>distanceToGoal: 9.53310076709881</br>angleToGoal: 40.4664837945122</br>_original_yhat_: 0.07</br>"
          ],
          [
           "</br>id: 1833</br>prediction: 0.075</br>minute: 3</br></br>h_a: 0.0</br>situation: 2.0</br>shotType: 0.0</br>lastAction: 0.0</br>distanceToGoal: 9.53310076709881</br>angleToGoal: 40.4664837945122</br>_original_yhat_: 0.07474706388596017</br>"
          ]
         ],
         "hovertemplate": "%{customdata[0]}<extra></extra>",
         "legendgroup": "",
         "marker": {
          "color": "#371ea3",
          "size": 10,
          "symbol": "circle"
         },
         "mode": "markers",
         "name": "",
         "opacity": 1,
         "orientation": "v",
         "showlegend": false,
         "type": "scatter",
         "x": [
          3,
          3,
          3
         ],
         "xaxis": "x3",
         "y": [
          0.053361547462168445,
          0.07,
          0.07474706388596017
         ],
         "yaxis": "y3"
        },
        {
         "customdata": [
          [
           "</br>id: 1833</br>prediction: 0.053</br>distanceToGoal: 9.53310076709881</br></br>h_a: 0.0</br>situation: 2.0</br>shotType: 0.0</br>lastAction: 0.0</br>minute: 3</br>angleToGoal: 40.4664837945122</br>_original_yhat_: 0.053361547462168445</br>"
          ],
          [
           "</br>id: 1833</br>prediction: 0.07</br>distanceToGoal: 9.53310076709881</br></br>h_a: 0.0</br>situation: 2.0</br>shotType: 0.0</br>lastAction: 0.0</br>minute: 3</br>angleToGoal: 40.4664837945122</br>_original_yhat_: 0.07</br>"
          ],
          [
           "</br>id: 1833</br>prediction: 0.075</br>distanceToGoal: 9.53310076709881</br></br>h_a: 0.0</br>situation: 2.0</br>shotType: 0.0</br>lastAction: 0.0</br>minute: 3</br>angleToGoal: 40.4664837945122</br>_original_yhat_: 0.07474706388596017</br>"
          ]
         ],
         "hovertemplate": "%{customdata[0]}<extra></extra>",
         "legendgroup": "",
         "marker": {
          "color": "#371ea3",
          "size": 10,
          "symbol": "circle"
         },
         "mode": "markers",
         "name": "",
         "opacity": 1,
         "orientation": "v",
         "showlegend": false,
         "type": "scatter",
         "x": [
          9.53310076709881,
          9.53310076709881,
          9.53310076709881
         ],
         "xaxis": "x4",
         "y": [
          0.053361547462168445,
          0.07,
          0.07474706388596017
         ],
         "yaxis": "y4"
        },
        {
         "customdata": [
          [
           "</br>id: 1833</br>prediction: 0.053</br>angleToGoal: 40.4664837945122</br></br>h_a: 0.0</br>situation: 2.0</br>shotType: 0.0</br>lastAction: 0.0</br>minute: 3</br>distanceToGoal: 9.53310076709881</br>_original_yhat_: 0.053361547462168445</br>"
          ],
          [
           "</br>id: 1833</br>prediction: 0.07</br>angleToGoal: 40.4664837945122</br></br>h_a: 0.0</br>situation: 2.0</br>shotType: 0.0</br>lastAction: 0.0</br>minute: 3</br>distanceToGoal: 9.53310076709881</br>_original_yhat_: 0.07</br>"
          ],
          [
           "</br>id: 1833</br>prediction: 0.075</br>angleToGoal: 40.4664837945122</br></br>h_a: 0.0</br>situation: 2.0</br>shotType: 0.0</br>lastAction: 0.0</br>minute: 3</br>distanceToGoal: 9.53310076709881</br>_original_yhat_: 0.07474706388596017</br>"
          ]
         ],
         "hovertemplate": "%{customdata[0]}<extra></extra>",
         "legendgroup": "",
         "marker": {
          "color": "#371ea3",
          "size": 10,
          "symbol": "circle"
         },
         "mode": "markers",
         "name": "",
         "opacity": 1,
         "orientation": "v",
         "showlegend": false,
         "type": "scatter",
         "x": [
          40.4664837945122,
          40.4664837945122,
          40.4664837945122
         ],
         "xaxis": "x",
         "y": [
          0.053361547462168445,
          0.07,
          0.07474706388596017
         ],
         "yaxis": "y"
        }
       ],
       "layout": {
        "annotations": [
         {
          "font": {
           "size": 13
          },
          "showarrow": false,
          "text": "angleToGoal",
          "x": 0.2375,
          "xanchor": "center",
          "xref": "paper",
          "y": 0.19375,
          "yanchor": "bottom",
          "yref": "paper"
         },
         {
          "font": {
           "size": 13
          },
          "showarrow": false,
          "text": "minute",
          "x": 0.2375,
          "xanchor": "center",
          "xref": "paper",
          "y": 0.4625,
          "yanchor": "bottom",
          "yref": "paper"
         },
         {
          "font": {
           "size": 13
          },
          "showarrow": false,
          "text": "distanceToGoal",
          "x": 0.7625,
          "xanchor": "center",
          "xref": "paper",
          "y": 0.4625,
          "yanchor": "bottom",
          "yref": "paper"
         },
         {
          "font": {
           "size": 13
          },
          "showarrow": false,
          "text": "shotType",
          "x": 0.2375,
          "xanchor": "center",
          "xref": "paper",
          "y": 0.73125,
          "yanchor": "bottom",
          "yref": "paper"
         },
         {
          "font": {
           "size": 13
          },
          "showarrow": false,
          "text": "lastAction",
          "x": 0.7625,
          "xanchor": "center",
          "xref": "paper",
          "y": 0.73125,
          "yanchor": "bottom",
          "yref": "paper"
         },
         {
          "font": {
           "size": 13
          },
          "showarrow": false,
          "text": "h_a",
          "x": 0.2375,
          "xanchor": "center",
          "xref": "paper",
          "y": 1,
          "yanchor": "bottom",
          "yref": "paper"
         },
         {
          "font": {
           "size": 13
          },
          "showarrow": false,
          "text": "situation",
          "x": 0.7625,
          "xanchor": "center",
          "xref": "paper",
          "y": 1,
          "yanchor": "bottom",
          "yref": "paper"
         },
         {
          "font": {
           "size": 13
          },
          "showarrow": false,
          "text": "prediction",
          "textangle": -90,
          "x": -0.07,
          "xref": "paper",
          "y": 0.5,
          "yref": "paper"
         }
        ],
        "font": {
         "color": "#371ea3"
        },
        "height": 1509,
        "hoverlabel": {
         "bgcolor": "rgba(0,0,0,0.8)"
        },
        "hovermode": "closest",
        "legend": {
         "font": {
          "size": 11
         },
         "itemsizing": "constant",
         "orientation": "h",
         "title": {
          "font": {
           "size": 12
          },
          "text": "label"
         },
         "tracegroupgap": 0,
         "x": 1,
         "xanchor": "right",
         "y": 1.0198807157057654,
         "yanchor": "bottom"
        },
        "margin": {
         "b": 71,
         "r": 30,
         "t": 78
        },
        "template": {
         "data": {
          "scatter": [
           {
            "type": "scatter"
           }
          ]
         }
        },
        "title": {
         "font": {
          "size": 16
         },
         "text": "Ceteris Paribus Profiles",
         "x": 0.15
        },
        "xaxis": {
         "anchor": "y",
         "automargin": true,
         "domain": [
          0,
          0.475
         ],
         "fixedrange": true,
         "gridwidth": 2,
         "showticklabels": true,
         "tickcolor": "white",
         "ticklen": 3,
         "ticks": "outside",
         "title": {
          "text": ""
         },
         "type": "linear",
         "zeroline": false
        },
        "xaxis2": {
         "anchor": "y2",
         "automargin": true,
         "domain": [
          0.525,
          1
         ],
         "fixedrange": true,
         "gridwidth": 2,
         "showticklabels": true,
         "tickcolor": "white",
         "ticklen": 3,
         "ticks": "outside",
         "title": {
          "text": ""
         },
         "type": "linear",
         "zeroline": false
        },
        "xaxis3": {
         "anchor": "y3",
         "automargin": true,
         "domain": [
          0,
          0.475
         ],
         "fixedrange": true,
         "gridwidth": 2,
         "showticklabels": true,
         "tickcolor": "white",
         "ticklen": 3,
         "ticks": "outside",
         "title": {
          "text": ""
         },
         "type": "linear",
         "zeroline": false
        },
        "xaxis4": {
         "anchor": "y4",
         "automargin": true,
         "domain": [
          0.525,
          1
         ],
         "fixedrange": true,
         "gridwidth": 2,
         "showticklabels": true,
         "tickcolor": "white",
         "ticklen": 3,
         "ticks": "outside",
         "title": {
          "text": ""
         },
         "type": "linear",
         "zeroline": false
        },
        "xaxis5": {
         "anchor": "y5",
         "automargin": true,
         "domain": [
          0,
          0.475
         ],
         "fixedrange": true,
         "gridwidth": 2,
         "showticklabels": true,
         "tickcolor": "white",
         "ticklen": 3,
         "ticks": "outside",
         "title": {
          "text": ""
         },
         "type": "linear",
         "zeroline": false
        },
        "xaxis6": {
         "anchor": "y6",
         "automargin": true,
         "domain": [
          0.525,
          1
         ],
         "fixedrange": true,
         "gridwidth": 2,
         "showticklabels": true,
         "tickcolor": "white",
         "ticklen": 3,
         "ticks": "outside",
         "title": {
          "text": ""
         },
         "type": "linear",
         "zeroline": false
        },
        "xaxis7": {
         "anchor": "y7",
         "automargin": true,
         "domain": [
          0,
          0.475
         ],
         "fixedrange": true,
         "gridwidth": 2,
         "showticklabels": true,
         "tickcolor": "white",
         "ticklen": 3,
         "ticks": "outside",
         "title": {
          "text": ""
         },
         "type": "linear",
         "zeroline": false
        },
        "xaxis8": {
         "anchor": "y8",
         "automargin": true,
         "domain": [
          0.525,
          1
         ],
         "fixedrange": true,
         "gridwidth": 2,
         "showticklabels": true,
         "tickcolor": "white",
         "ticklen": 3,
         "ticks": "outside",
         "title": {
          "text": ""
         },
         "type": "linear",
         "zeroline": false
        },
        "yaxis": {
         "anchor": "x",
         "automargin": true,
         "domain": [
          0,
          0.19375
         ],
         "fixedrange": true,
         "gridwidth": 2,
         "range": [
          -0.0750860167123794,
          0.8259461838361732
         ],
         "tickcolor": "white",
         "ticklen": 3,
         "ticks": "outside",
         "title": {
          "text": ""
         },
         "type": "linear",
         "zeroline": false
        },
        "yaxis2": {
         "anchor": "x2",
         "automargin": true,
         "domain": [
          0,
          0.19375
         ],
         "fixedrange": true,
         "gridwidth": 2,
         "matches": "y",
         "range": [
          -0.0750860167123794,
          0.8259461838361732
         ],
         "showticklabels": false,
         "tickcolor": "white",
         "ticklen": 3,
         "ticks": "outside",
         "title": {
          "text": ""
         },
         "type": "linear",
         "zeroline": false
        },
        "yaxis3": {
         "anchor": "x3",
         "automargin": true,
         "domain": [
          0.26875,
          0.4625
         ],
         "fixedrange": true,
         "gridwidth": 2,
         "matches": "y",
         "range": [
          -0.0750860167123794,
          0.8259461838361732
         ],
         "tickcolor": "white",
         "ticklen": 3,
         "ticks": "outside",
         "title": {
          "text": ""
         },
         "type": "linear",
         "zeroline": false
        },
        "yaxis4": {
         "anchor": "x4",
         "automargin": true,
         "domain": [
          0.26875,
          0.4625
         ],
         "fixedrange": true,
         "gridwidth": 2,
         "matches": "y",
         "range": [
          -0.0750860167123794,
          0.8259461838361732
         ],
         "showticklabels": false,
         "tickcolor": "white",
         "ticklen": 3,
         "ticks": "outside",
         "title": {
          "text": ""
         },
         "type": "linear",
         "zeroline": false
        },
        "yaxis5": {
         "anchor": "x5",
         "automargin": true,
         "domain": [
          0.5375,
          0.73125
         ],
         "fixedrange": true,
         "gridwidth": 2,
         "matches": "y",
         "range": [
          -0.0750860167123794,
          0.8259461838361732
         ],
         "tickcolor": "white",
         "ticklen": 3,
         "ticks": "outside",
         "title": {
          "text": ""
         },
         "type": "linear",
         "zeroline": false
        },
        "yaxis6": {
         "anchor": "x6",
         "automargin": true,
         "domain": [
          0.5375,
          0.73125
         ],
         "fixedrange": true,
         "gridwidth": 2,
         "matches": "y",
         "range": [
          -0.0750860167123794,
          0.8259461838361732
         ],
         "showticklabels": false,
         "tickcolor": "white",
         "ticklen": 3,
         "ticks": "outside",
         "title": {
          "text": ""
         },
         "type": "linear",
         "zeroline": false
        },
        "yaxis7": {
         "anchor": "x7",
         "automargin": true,
         "domain": [
          0.80625,
          1
         ],
         "fixedrange": true,
         "gridwidth": 2,
         "matches": "y",
         "range": [
          -0.0750860167123794,
          0.8259461838361732
         ],
         "tickcolor": "white",
         "ticklen": 3,
         "ticks": "outside",
         "title": {
          "text": ""
         },
         "type": "linear",
         "zeroline": false
        },
        "yaxis8": {
         "anchor": "x8",
         "automargin": true,
         "domain": [
          0.80625,
          1
         ],
         "fixedrange": true,
         "gridwidth": 2,
         "matches": "y",
         "range": [
          -0.0750860167123794,
          0.8259461838361732
         ],
         "showticklabels": false,
         "tickcolor": "white",
         "ticklen": 3,
         "ticks": "outside",
         "title": {
          "text": ""
         },
         "type": "linear",
         "zeroline": false
        }
       }
      }
     },
     "metadata": {},
     "output_type": "display_data"
    }
   ],
   "source": [
    "cp_obs_lr = lr_exp.predict_profile(obs)\n",
    "cp_obs_rf = rf_exp.predict_profile(obs)\n",
    "cp_obs_gb.plot([cp_obs_rf, cp_obs_lr])"
   ]
  },
  {
   "cell_type": "markdown",
   "metadata": {},
   "source": [
    "After viewing the results, we can see that Random Forest and XGBoost are mostly similar. On all variables we can see stairs that are characteristic do this models. Logistic Regression on the other hand is pretty smooth. This is for sure the trait of the model.\n",
    "\n",
    "Probably the main difference in all models is distance to goal variable. Its really intreating how Gradient boosting seem to give better prediction for shots further away. It shows that although with the best score this model may be poor explainer of the real word cause and effect. We need to remember although, that CP profiles don't take into account corelation between variables.\n",
    "\n",
    "The results show us that even tho model scores are pretty similar, the CP profiles are very different. However we can see how complicated are some of the models and also that random forest witch came in second has much more similar CP profile to the best's model CP, than Logistic regression. I"
   ]
  }
 ],
 "metadata": {
  "interpreter": {
   "hash": "26efd7dd90c38bed04cf13f5b8d2d268a0d11c5f18993a102272f7be9f63253b"
  },
  "kernelspec": {
   "display_name": "Python 3.9.6 64-bit",
   "language": "python",
   "name": "python3"
  },
  "language_info": {
   "codemirror_mode": {
    "name": "ipython",
    "version": 3
   },
   "file_extension": ".py",
   "mimetype": "text/x-python",
   "name": "python",
   "nbconvert_exporter": "python",
   "pygments_lexer": "ipython3",
   "version": "3.9.6"
  },
  "orig_nbformat": 4
 },
 "nbformat": 4,
 "nbformat_minor": 2
}
