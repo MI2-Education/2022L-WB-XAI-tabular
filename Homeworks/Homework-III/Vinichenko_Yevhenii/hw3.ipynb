{
 "cells": [
  {
   "cell_type": "markdown",
   "id": "32943634",
   "metadata": {},
   "source": [
    "# Homework 3"
   ]
  },
  {
   "cell_type": "code",
   "execution_count": 56,
   "id": "2eb754f8",
   "metadata": {},
   "outputs": [],
   "source": [
    "import dalex as dx\n",
    "import pandas as pd\n",
    "import warnings\n",
    "warnings.filterwarnings('ignore')\n",
    "\n",
    "from sklearn.ensemble import RandomForestClassifier, AdaBoostClassifier\n",
    "from sklearn.model_selection import train_test_split\n",
    "from sklearn.metrics import f1_score\n",
    "\n",
    "from keras.models import Sequential\n",
    "from keras.layers import Dense\n",
    "import keras.backend as K"
   ]
  },
  {
   "cell_type": "code",
   "execution_count": 2,
   "id": "a4bbee01",
   "metadata": {},
   "outputs": [
    {
     "data": {
      "text/html": [
       "<div>\n",
       "<style scoped>\n",
       "    .dataframe tbody tr th:only-of-type {\n",
       "        vertical-align: middle;\n",
       "    }\n",
       "\n",
       "    .dataframe tbody tr th {\n",
       "        vertical-align: top;\n",
       "    }\n",
       "\n",
       "    .dataframe thead th {\n",
       "        text-align: right;\n",
       "    }\n",
       "</style>\n",
       "<table border=\"1\" class=\"dataframe\">\n",
       "  <thead>\n",
       "    <tr style=\"text-align: right;\">\n",
       "      <th></th>\n",
       "      <th>hotel</th>\n",
       "      <th>is_canceled</th>\n",
       "      <th>lead_time</th>\n",
       "      <th>arrival_date_year</th>\n",
       "      <th>arrival_date_month</th>\n",
       "      <th>arrival_date_week_number</th>\n",
       "      <th>arrival_date_day_of_month</th>\n",
       "      <th>stays_in_weekend_nights</th>\n",
       "      <th>stays_in_week_nights</th>\n",
       "      <th>adults</th>\n",
       "      <th>...</th>\n",
       "      <th>deposit_type</th>\n",
       "      <th>agent</th>\n",
       "      <th>company</th>\n",
       "      <th>days_in_waiting_list</th>\n",
       "      <th>customer_type</th>\n",
       "      <th>adr</th>\n",
       "      <th>required_car_parking_spaces</th>\n",
       "      <th>total_of_special_requests</th>\n",
       "      <th>reservation_status</th>\n",
       "      <th>reservation_status_date</th>\n",
       "    </tr>\n",
       "  </thead>\n",
       "  <tbody>\n",
       "    <tr>\n",
       "      <th>0</th>\n",
       "      <td>Resort Hotel</td>\n",
       "      <td>0</td>\n",
       "      <td>342</td>\n",
       "      <td>2015</td>\n",
       "      <td>July</td>\n",
       "      <td>27</td>\n",
       "      <td>1</td>\n",
       "      <td>0</td>\n",
       "      <td>0</td>\n",
       "      <td>2</td>\n",
       "      <td>...</td>\n",
       "      <td>No Deposit</td>\n",
       "      <td>NaN</td>\n",
       "      <td>NaN</td>\n",
       "      <td>0</td>\n",
       "      <td>Transient</td>\n",
       "      <td>0.0</td>\n",
       "      <td>0</td>\n",
       "      <td>0</td>\n",
       "      <td>Check-Out</td>\n",
       "      <td>2015-07-01</td>\n",
       "    </tr>\n",
       "    <tr>\n",
       "      <th>1</th>\n",
       "      <td>Resort Hotel</td>\n",
       "      <td>0</td>\n",
       "      <td>737</td>\n",
       "      <td>2015</td>\n",
       "      <td>July</td>\n",
       "      <td>27</td>\n",
       "      <td>1</td>\n",
       "      <td>0</td>\n",
       "      <td>0</td>\n",
       "      <td>2</td>\n",
       "      <td>...</td>\n",
       "      <td>No Deposit</td>\n",
       "      <td>NaN</td>\n",
       "      <td>NaN</td>\n",
       "      <td>0</td>\n",
       "      <td>Transient</td>\n",
       "      <td>0.0</td>\n",
       "      <td>0</td>\n",
       "      <td>0</td>\n",
       "      <td>Check-Out</td>\n",
       "      <td>2015-07-01</td>\n",
       "    </tr>\n",
       "    <tr>\n",
       "      <th>2</th>\n",
       "      <td>Resort Hotel</td>\n",
       "      <td>0</td>\n",
       "      <td>7</td>\n",
       "      <td>2015</td>\n",
       "      <td>July</td>\n",
       "      <td>27</td>\n",
       "      <td>1</td>\n",
       "      <td>0</td>\n",
       "      <td>1</td>\n",
       "      <td>1</td>\n",
       "      <td>...</td>\n",
       "      <td>No Deposit</td>\n",
       "      <td>NaN</td>\n",
       "      <td>NaN</td>\n",
       "      <td>0</td>\n",
       "      <td>Transient</td>\n",
       "      <td>75.0</td>\n",
       "      <td>0</td>\n",
       "      <td>0</td>\n",
       "      <td>Check-Out</td>\n",
       "      <td>2015-07-02</td>\n",
       "    </tr>\n",
       "    <tr>\n",
       "      <th>3</th>\n",
       "      <td>Resort Hotel</td>\n",
       "      <td>0</td>\n",
       "      <td>13</td>\n",
       "      <td>2015</td>\n",
       "      <td>July</td>\n",
       "      <td>27</td>\n",
       "      <td>1</td>\n",
       "      <td>0</td>\n",
       "      <td>1</td>\n",
       "      <td>1</td>\n",
       "      <td>...</td>\n",
       "      <td>No Deposit</td>\n",
       "      <td>304.0</td>\n",
       "      <td>NaN</td>\n",
       "      <td>0</td>\n",
       "      <td>Transient</td>\n",
       "      <td>75.0</td>\n",
       "      <td>0</td>\n",
       "      <td>0</td>\n",
       "      <td>Check-Out</td>\n",
       "      <td>2015-07-02</td>\n",
       "    </tr>\n",
       "    <tr>\n",
       "      <th>4</th>\n",
       "      <td>Resort Hotel</td>\n",
       "      <td>0</td>\n",
       "      <td>14</td>\n",
       "      <td>2015</td>\n",
       "      <td>July</td>\n",
       "      <td>27</td>\n",
       "      <td>1</td>\n",
       "      <td>0</td>\n",
       "      <td>2</td>\n",
       "      <td>2</td>\n",
       "      <td>...</td>\n",
       "      <td>No Deposit</td>\n",
       "      <td>240.0</td>\n",
       "      <td>NaN</td>\n",
       "      <td>0</td>\n",
       "      <td>Transient</td>\n",
       "      <td>98.0</td>\n",
       "      <td>0</td>\n",
       "      <td>1</td>\n",
       "      <td>Check-Out</td>\n",
       "      <td>2015-07-03</td>\n",
       "    </tr>\n",
       "  </tbody>\n",
       "</table>\n",
       "<p>5 rows × 32 columns</p>\n",
       "</div>"
      ],
      "text/plain": [
       "          hotel  is_canceled  lead_time  arrival_date_year arrival_date_month  \\\n",
       "0  Resort Hotel            0        342               2015               July   \n",
       "1  Resort Hotel            0        737               2015               July   \n",
       "2  Resort Hotel            0          7               2015               July   \n",
       "3  Resort Hotel            0         13               2015               July   \n",
       "4  Resort Hotel            0         14               2015               July   \n",
       "\n",
       "   arrival_date_week_number  arrival_date_day_of_month  \\\n",
       "0                        27                          1   \n",
       "1                        27                          1   \n",
       "2                        27                          1   \n",
       "3                        27                          1   \n",
       "4                        27                          1   \n",
       "\n",
       "   stays_in_weekend_nights  stays_in_week_nights  adults  ...  deposit_type  \\\n",
       "0                        0                     0       2  ...    No Deposit   \n",
       "1                        0                     0       2  ...    No Deposit   \n",
       "2                        0                     1       1  ...    No Deposit   \n",
       "3                        0                     1       1  ...    No Deposit   \n",
       "4                        0                     2       2  ...    No Deposit   \n",
       "\n",
       "   agent company days_in_waiting_list customer_type   adr  \\\n",
       "0    NaN     NaN                    0     Transient   0.0   \n",
       "1    NaN     NaN                    0     Transient   0.0   \n",
       "2    NaN     NaN                    0     Transient  75.0   \n",
       "3  304.0     NaN                    0     Transient  75.0   \n",
       "4  240.0     NaN                    0     Transient  98.0   \n",
       "\n",
       "   required_car_parking_spaces  total_of_special_requests  reservation_status  \\\n",
       "0                            0                          0           Check-Out   \n",
       "1                            0                          0           Check-Out   \n",
       "2                            0                          0           Check-Out   \n",
       "3                            0                          0           Check-Out   \n",
       "4                            0                          1           Check-Out   \n",
       "\n",
       "  reservation_status_date  \n",
       "0              2015-07-01  \n",
       "1              2015-07-01  \n",
       "2              2015-07-02  \n",
       "3              2015-07-02  \n",
       "4              2015-07-03  \n",
       "\n",
       "[5 rows x 32 columns]"
      ]
     },
     "execution_count": 2,
     "metadata": {},
     "output_type": "execute_result"
    }
   ],
   "source": [
    "data = pd.read_csv('hotel_bookings.csv')\n",
    "data.head()"
   ]
  },
  {
   "cell_type": "code",
   "execution_count": 3,
   "id": "63d0d431",
   "metadata": {},
   "outputs": [],
   "source": [
    "# in order to simplify plots I decided to use only a subset of variables\n",
    "data = data[['is_canceled', 'lead_time', 'arrival_date_year', 'adults', 'children', 'babies', 'booking_changes']]\n",
    "data = data.dropna()\n",
    "X, y = data.loc[:, data.columns != 'is_canceled'], data[['is_canceled']]\n",
    "X_train, X_test, y_train, y_test = train_test_split(X, y, test_size=0.1, random_state=42)"
   ]
  },
  {
   "cell_type": "code",
   "execution_count": 44,
   "id": "44236deb",
   "metadata": {},
   "outputs": [],
   "source": [
    "observation = pd.DataFrame({'lead_time': [203.0],\n",
    "                       'arrival_date_year': [2016.0],\n",
    "                       'adults': [2.0],\n",
    "                       'children': [0.0],\n",
    "                       'babies': [0.0],\n",
    "                       'booking_changes': [4.]},\n",
    "                      index = ['observation'])"
   ]
  },
  {
   "cell_type": "markdown",
   "id": "6b8dec29",
   "metadata": {},
   "source": [
    "## Neural network"
   ]
  },
  {
   "cell_type": "code",
   "execution_count": 36,
   "id": "7cef326d",
   "metadata": {},
   "outputs": [],
   "source": [
    "def f1_metric(y_true, y_pred):\n",
    "    true_positives = K.sum(K.round(K.clip(y_true * y_pred, 0, 1)))\n",
    "    possible_positives = K.sum(K.round(K.clip(y_true, 0, 1)))\n",
    "    predicted_positives = K.sum(K.round(K.clip(y_pred, 0, 1)))\n",
    "    precision = true_positives / (predicted_positives + K.epsilon())\n",
    "    recall = true_positives / (possible_positives + K.epsilon())\n",
    "    f1_val = 2*(precision*recall)/(precision+recall+K.epsilon())\n",
    "    return f1_val"
   ]
  },
  {
   "cell_type": "code",
   "execution_count": 39,
   "id": "c96f2a6a",
   "metadata": {},
   "outputs": [],
   "source": [
    "model = Sequential()\n",
    "model.add(Dense(20, input_dim=6, activation='sigmoid'))\n",
    "model.add(Dense(1, activation='sigmoid'))\n",
    "model.compile(loss='binary_crossentropy', optimizer='adam', metrics=['accuracy', f1_metric])"
   ]
  },
  {
   "cell_type": "code",
   "execution_count": 40,
   "id": "d9dbbead",
   "metadata": {
    "scrolled": true
   },
   "outputs": [
    {
     "name": "stdout",
     "output_type": "stream",
     "text": [
      "Epoch 1/150\n",
      "10745/10745 [==============================] - 7s 681us/step - loss: 0.6242 - accuracy: 0.6447 - f1_metric: 0.1800\n",
      "Epoch 2/150\n",
      "10745/10745 [==============================] - 7s 611us/step - loss: 0.6236 - accuracy: 0.6500 - f1_metric: 0.1983\n",
      "Epoch 3/150\n",
      "10745/10745 [==============================] - 6s 605us/step - loss: 0.6206 - accuracy: 0.6287 - f1_metric: 0.0306\n",
      "Epoch 4/150\n",
      "10745/10745 [==============================] - 6s 605us/step - loss: 0.6220 - accuracy: 0.6278 - f1_metric: 0.1062\n",
      "Epoch 5/150\n",
      "10745/10745 [==============================] - 7s 606us/step - loss: 0.6208 - accuracy: 0.6341 - f1_metric: 0.0870\n",
      "Epoch 6/150\n",
      "10745/10745 [==============================] - 7s 605us/step - loss: 0.6089 - accuracy: 0.6622 - f1_metric: 0.2700\n",
      "Epoch 7/150\n",
      "10745/10745 [==============================] - 7s 624us/step - loss: 0.6119 - accuracy: 0.6560 - f1_metric: 0.3245\n",
      "Epoch 8/150\n",
      "10745/10745 [==============================] - 7s 617us/step - loss: 0.6101 - accuracy: 0.6632 - f1_metric: 0.2624\n",
      "Epoch 9/150\n",
      "10745/10745 [==============================] - 7s 620us/step - loss: 0.6107 - accuracy: 0.6489 - f1_metric: 0.2918\n",
      "Epoch 10/150\n",
      "10745/10745 [==============================] - 7s 620us/step - loss: 0.6072 - accuracy: 0.6615 - f1_metric: 0.2682\n",
      "Epoch 11/150\n",
      "10745/10745 [==============================] - 7s 623us/step - loss: 0.6106 - accuracy: 0.6603 - f1_metric: 0.2631\n",
      "Epoch 12/150\n",
      "10745/10745 [==============================] - 7s 624us/step - loss: 0.6115 - accuracy: 0.6484 - f1_metric: 0.3148\n",
      "Epoch 13/150\n",
      "10745/10745 [==============================] - 7s 621us/step - loss: 0.6116 - accuracy: 0.6483 - f1_metric: 0.3082\n",
      "Epoch 14/150\n",
      "10745/10745 [==============================] - 7s 618us/step - loss: 0.6081 - accuracy: 0.6640 - f1_metric: 0.2718\n",
      "Epoch 15/150\n",
      "10745/10745 [==============================] - 7s 626us/step - loss: 0.6079 - accuracy: 0.6649 - f1_metric: 0.2759\n",
      "Epoch 16/150\n",
      "10745/10745 [==============================] - 7s 631us/step - loss: 0.6074 - accuracy: 0.6623 - f1_metric: 0.2425\n",
      "Epoch 17/150\n",
      "10745/10745 [==============================] - 7s 632us/step - loss: 0.6084 - accuracy: 0.6616 - f1_metric: 0.2988\n",
      "Epoch 18/150\n",
      "10745/10745 [==============================] - 7s 633us/step - loss: 0.6094 - accuracy: 0.6542 - f1_metric: 0.3787\n",
      "Epoch 19/150\n",
      "10745/10745 [==============================] - 7s 634us/step - loss: 0.6095 - accuracy: 0.6601 - f1_metric: 0.3206\n",
      "Epoch 20/150\n",
      "10745/10745 [==============================] - 7s 652us/step - loss: 0.6095 - accuracy: 0.6497 - f1_metric: 0.3729\n",
      "Epoch 21/150\n",
      "10745/10745 [==============================] - 7s 634us/step - loss: 0.6078 - accuracy: 0.6610 - f1_metric: 0.3155\n",
      "Epoch 22/150\n",
      "10745/10745 [==============================] - 7s 638us/step - loss: 0.6097 - accuracy: 0.6632 - f1_metric: 0.2569\n",
      "Epoch 23/150\n",
      "10745/10745 [==============================] - 7s 637us/step - loss: 0.6079 - accuracy: 0.6622 - f1_metric: 0.2907\n",
      "Epoch 24/150\n",
      "10745/10745 [==============================] - 7s 637us/step - loss: 0.6082 - accuracy: 0.6616 - f1_metric: 0.3081\n",
      "Epoch 25/150\n",
      "10745/10745 [==============================] - 7s 636us/step - loss: 0.6111 - accuracy: 0.6637 - f1_metric: 0.3052\n",
      "Epoch 26/150\n",
      "10745/10745 [==============================] - 7s 640us/step - loss: 0.6084 - accuracy: 0.6534 - f1_metric: 0.3699\n",
      "Epoch 27/150\n",
      "10745/10745 [==============================] - 7s 638us/step - loss: 0.6077 - accuracy: 0.6580 - f1_metric: 0.2322\n",
      "Epoch 28/150\n",
      "10745/10745 [==============================] - 7s 638us/step - loss: 0.6066 - accuracy: 0.6646 - f1_metric: 0.2698\n",
      "Epoch 29/150\n",
      "10745/10745 [==============================] - 7s 639us/step - loss: 0.6082 - accuracy: 0.6618 - f1_metric: 0.2738\n",
      "Epoch 30/150\n",
      "10745/10745 [==============================] - 7s 640us/step - loss: 0.6076 - accuracy: 0.6656 - f1_metric: 0.2657\n",
      "Epoch 31/150\n",
      "10745/10745 [==============================] - 7s 640us/step - loss: 0.6066 - accuracy: 0.6659 - f1_metric: 0.2727\n",
      "Epoch 32/150\n",
      "10745/10745 [==============================] - 7s 643us/step - loss: 0.6111 - accuracy: 0.6440 - f1_metric: 0.2870\n",
      "Epoch 33/150\n",
      "10745/10745 [==============================] - 7s 642us/step - loss: 0.6084 - accuracy: 0.6648 - f1_metric: 0.2839\n",
      "Epoch 34/150\n",
      "10745/10745 [==============================] - 7s 643us/step - loss: 0.6096 - accuracy: 0.6631 - f1_metric: 0.3248\n",
      "Epoch 35/150\n",
      "10745/10745 [==============================] - 7s 640us/step - loss: 0.6136 - accuracy: 0.6400 - f1_metric: 0.1442\n",
      "Epoch 36/150\n",
      "10745/10745 [==============================] - 7s 638us/step - loss: 0.6152 - accuracy: 0.6636 - f1_metric: 0.3247\n",
      "Epoch 37/150\n",
      "10745/10745 [==============================] - 7s 650us/step - loss: 0.6066 - accuracy: 0.6660 - f1_metric: 0.3140\n",
      "Epoch 38/150\n",
      "10745/10745 [==============================] - 7s 646us/step - loss: 0.6074 - accuracy: 0.6634 - f1_metric: 0.3024\n",
      "Epoch 39/150\n",
      "10745/10745 [==============================] - 7s 646us/step - loss: 0.6063 - accuracy: 0.6659 - f1_metric: 0.2775\n",
      "Epoch 40/150\n",
      "10745/10745 [==============================] - 7s 644us/step - loss: 0.6076 - accuracy: 0.6617 - f1_metric: 0.2557\n",
      "Epoch 41/150\n",
      "10745/10745 [==============================] - 7s 639us/step - loss: 0.6073 - accuracy: 0.6654 - f1_metric: 0.3048\n",
      "Epoch 42/150\n",
      "10745/10745 [==============================] - 7s 643us/step - loss: 0.6059 - accuracy: 0.6663 - f1_metric: 0.2681\n",
      "Epoch 43/150\n",
      "10745/10745 [==============================] - 7s 646us/step - loss: 0.6056 - accuracy: 0.6663 - f1_metric: 0.2589\n",
      "Epoch 44/150\n",
      "10745/10745 [==============================] - 7s 665us/step - loss: 0.6063 - accuracy: 0.6668 - f1_metric: 0.2927\n",
      "Epoch 45/150\n",
      "10745/10745 [==============================] - 7s 643us/step - loss: 0.6063 - accuracy: 0.6659 - f1_metric: 0.3110\n",
      "Epoch 46/150\n",
      "10745/10745 [==============================] - 7s 647us/step - loss: 0.6057 - accuracy: 0.6650 - f1_metric: 0.2561\n",
      "Epoch 47/150\n",
      "10745/10745 [==============================] - 7s 658us/step - loss: 0.6062 - accuracy: 0.6647 - f1_metric: 0.2693\n",
      "Epoch 48/150\n",
      "10745/10745 [==============================] - 7s 663us/step - loss: 0.6065 - accuracy: 0.6647 - f1_metric: 0.3440\n",
      "Epoch 49/150\n",
      "10745/10745 [==============================] - 7s 663us/step - loss: 0.6069 - accuracy: 0.6574 - f1_metric: 0.3638\n",
      "Epoch 50/150\n",
      "10745/10745 [==============================] - 7s 662us/step - loss: 0.6058 - accuracy: 0.6668 - f1_metric: 0.2607\n",
      "Epoch 51/150\n",
      "10745/10745 [==============================] - 7s 662us/step - loss: 0.6058 - accuracy: 0.6667 - f1_metric: 0.2727\n",
      "Epoch 52/150\n",
      "10745/10745 [==============================] - 7s 660us/step - loss: 0.6057 - accuracy: 0.6652 - f1_metric: 0.2450\n",
      "Epoch 53/150\n",
      "10745/10745 [==============================] - 7s 662us/step - loss: 0.6072 - accuracy: 0.6642 - f1_metric: 0.2967\n",
      "Epoch 54/150\n",
      "10745/10745 [==============================] - 7s 662us/step - loss: 0.6073 - accuracy: 0.6586 - f1_metric: 0.3692\n",
      "Epoch 55/150\n",
      "10745/10745 [==============================] - 10s 916us/step - loss: 0.6054 - accuracy: 0.6669 - f1_metric: 0.2786\n",
      "Epoch 56/150\n",
      "10745/10745 [==============================] - 8s 729us/step - loss: 0.6052 - accuracy: 0.6669 - f1_metric: 0.2711\n",
      "Epoch 57/150\n",
      "10745/10745 [==============================] - 7s 662us/step - loss: 0.6068 - accuracy: 0.6612 - f1_metric: 0.3482\n",
      "Epoch 58/150\n",
      "10745/10745 [==============================] - 7s 665us/step - loss: 0.6054 - accuracy: 0.6669 - f1_metric: 0.3130\n",
      "Epoch 59/150\n",
      "10745/10745 [==============================] - 7s 664us/step - loss: 0.6067 - accuracy: 0.6655 - f1_metric: 0.2902\n",
      "Epoch 60/150\n",
      "10745/10745 [==============================] - 7s 666us/step - loss: 0.6063 - accuracy: 0.6593 - f1_metric: 0.3018\n",
      "Epoch 61/150\n",
      "10745/10745 [==============================] - 7s 664us/step - loss: 0.6046 - accuracy: 0.6681 - f1_metric: 0.2830\n",
      "Epoch 62/150\n",
      "10745/10745 [==============================] - 7s 664us/step - loss: 0.6049 - accuracy: 0.6677 - f1_metric: 0.2725\n",
      "Epoch 63/150\n",
      "10745/10745 [==============================] - 7s 665us/step - loss: 0.6040 - accuracy: 0.6691 - f1_metric: 0.2687\n",
      "Epoch 64/150\n",
      "10745/10745 [==============================] - 7s 667us/step - loss: 0.6050 - accuracy: 0.6638 - f1_metric: 0.3364\n",
      "Epoch 65/150\n"
     ]
    },
    {
     "name": "stdout",
     "output_type": "stream",
     "text": [
      "10745/10745 [==============================] - 7s 628us/step - loss: 0.6066 - accuracy: 0.6664 - f1_metric: 0.2600\n",
      "Epoch 66/150\n",
      "10745/10745 [==============================] - 7s 628us/step - loss: 0.6061 - accuracy: 0.6506 - f1_metric: 0.3560\n",
      "Epoch 67/150\n",
      "10745/10745 [==============================] - 7s 631us/step - loss: 0.6058 - accuracy: 0.6652 - f1_metric: 0.2551\n",
      "Epoch 68/150\n",
      "10745/10745 [==============================] - 7s 627us/step - loss: 0.6057 - accuracy: 0.6687 - f1_metric: 0.2925\n",
      "Epoch 69/150\n",
      "10745/10745 [==============================] - 7s 626us/step - loss: 0.6073 - accuracy: 0.6566 - f1_metric: 0.2305\n",
      "Epoch 70/150\n",
      "10745/10745 [==============================] - 7s 628us/step - loss: 0.6042 - accuracy: 0.6652 - f1_metric: 0.3437\n",
      "Epoch 71/150\n",
      "10745/10745 [==============================] - 7s 638us/step - loss: 0.6043 - accuracy: 0.6669 - f1_metric: 0.3701\n",
      "Epoch 72/150\n",
      "10745/10745 [==============================] - 9s 818us/step - loss: 0.6044 - accuracy: 0.6576 - f1_metric: 0.2743\n",
      "Epoch 73/150\n",
      "10745/10745 [==============================] - 8s 717us/step - loss: 0.6026 - accuracy: 0.6676 - f1_metric: 0.3214\n",
      "Epoch 74/150\n",
      "10745/10745 [==============================] - 7s 632us/step - loss: 0.6047 - accuracy: 0.6501 - f1_metric: 0.3089\n",
      "Epoch 75/150\n",
      "10745/10745 [==============================] - 7s 633us/step - loss: 0.6039 - accuracy: 0.6665 - f1_metric: 0.3355\n",
      "Epoch 76/150\n",
      "10745/10745 [==============================] - 7s 634us/step - loss: 0.6035 - accuracy: 0.6651 - f1_metric: 0.3034\n",
      "Epoch 77/150\n",
      "10745/10745 [==============================] - 7s 631us/step - loss: 0.6043 - accuracy: 0.6691 - f1_metric: 0.3657\n",
      "Epoch 78/150\n",
      "10745/10745 [==============================] - 7s 631us/step - loss: 0.6039 - accuracy: 0.6693 - f1_metric: 0.2886\n",
      "Epoch 79/150\n",
      "10745/10745 [==============================] - 7s 635us/step - loss: 0.6047 - accuracy: 0.6559 - f1_metric: 0.2534\n",
      "Epoch 80/150\n",
      "10745/10745 [==============================] - 7s 630us/step - loss: 0.6039 - accuracy: 0.6620 - f1_metric: 0.3143\n",
      "Epoch 81/150\n",
      "10745/10745 [==============================] - 7s 631us/step - loss: 0.6048 - accuracy: 0.6648 - f1_metric: 0.2765\n",
      "Epoch 82/150\n",
      "10745/10745 [==============================] - 7s 643us/step - loss: 0.6030 - accuracy: 0.6606 - f1_metric: 0.3584\n",
      "Epoch 83/150\n",
      "10745/10745 [==============================] - 7s 634us/step - loss: 0.6044 - accuracy: 0.6464 - f1_metric: 0.2074\n",
      "Epoch 84/150\n",
      "10745/10745 [==============================] - 7s 632us/step - loss: 0.6018 - accuracy: 0.6416 - f1_metric: 0.2339\n",
      "Epoch 85/150\n",
      "10745/10745 [==============================] - 7s 630us/step - loss: 0.6057 - accuracy: 0.6409 - f1_metric: 0.4118\n",
      "Epoch 86/150\n",
      "10745/10745 [==============================] - 7s 635us/step - loss: 0.6192 - accuracy: 0.6294 - f1_metric: 0.0055\n",
      "Epoch 87/150\n",
      "10745/10745 [==============================] - 7s 633us/step - loss: 0.6178 - accuracy: 0.6294 - f1_metric: 0.0022\n",
      "Epoch 88/150\n",
      "10745/10745 [==============================] - 7s 637us/step - loss: 0.6189 - accuracy: 0.6297 - f1_metric: 0.0000e+00\n",
      "Epoch 89/150\n",
      "10745/10745 [==============================] - 7s 638us/step - loss: 0.6179 - accuracy: 0.6294 - f1_metric: 0.0025\n",
      "Epoch 90/150\n",
      "10745/10745 [==============================] - 7s 630us/step - loss: 0.6177 - accuracy: 0.6296 - f1_metric: 0.0011\n",
      "Epoch 91/150\n",
      "10745/10745 [==============================] - 7s 631us/step - loss: 0.6217 - accuracy: 0.6273 - f1_metric: 0.0373\n",
      "Epoch 92/150\n",
      "10745/10745 [==============================] - 7s 634us/step - loss: 0.6210 - accuracy: 0.6270 - f1_metric: 0.0476\n",
      "Epoch 93/150\n",
      "10745/10745 [==============================] - 7s 634us/step - loss: 0.6211 - accuracy: 0.6290 - f1_metric: 0.0240\n",
      "Epoch 94/150\n",
      "10745/10745 [==============================] - 7s 634us/step - loss: 0.6186 - accuracy: 0.6291 - f1_metric: 0.0054\n",
      "Epoch 95/150\n",
      "10745/10745 [==============================] - 7s 633us/step - loss: 0.6186 - accuracy: 0.6289 - f1_metric: 0.0070\n",
      "Epoch 96/150\n",
      "10745/10745 [==============================] - 7s 632us/step - loss: 0.6180 - accuracy: 0.6294 - f1_metric: 0.0078\n",
      "Epoch 97/150\n",
      "10745/10745 [==============================] - 7s 634us/step - loss: 0.6177 - accuracy: 0.6292 - f1_metric: 0.0019\n",
      "Epoch 98/150\n",
      "10745/10745 [==============================] - 7s 636us/step - loss: 0.6180 - accuracy: 0.6288 - f1_metric: 0.0119\n",
      "Epoch 99/150\n",
      "10745/10745 [==============================] - 7s 669us/step - loss: 0.6229 - accuracy: 0.6270 - f1_metric: 0.0979\n",
      "Epoch 100/150\n",
      "10745/10745 [==============================] - 7s 652us/step - loss: 0.6242 - accuracy: 0.6270 - f1_metric: 0.1073\n",
      "Epoch 101/150\n",
      "10745/10745 [==============================] - 7s 633us/step - loss: 0.6191 - accuracy: 0.6292 - f1_metric: 0.0079\n",
      "Epoch 102/150\n",
      "10745/10745 [==============================] - 7s 636us/step - loss: 0.6185 - accuracy: 0.6290 - f1_metric: 0.0041\n",
      "Epoch 103/150\n",
      "10745/10745 [==============================] - 7s 634us/step - loss: 0.6181 - accuracy: 0.6286 - f1_metric: 0.0116\n",
      "Epoch 104/150\n",
      "10745/10745 [==============================] - 7s 635us/step - loss: 0.6181 - accuracy: 0.6296 - f1_metric: 0.0023\n",
      "Epoch 105/150\n",
      "10745/10745 [==============================] - 7s 638us/step - loss: 0.6176 - accuracy: 0.6297 - f1_metric: 0.0000e+00\n",
      "Epoch 106/150\n",
      "10745/10745 [==============================] - 7s 654us/step - loss: 0.6181 - accuracy: 0.6291 - f1_metric: 0.0034\n",
      "Epoch 107/150\n",
      "10745/10745 [==============================] - 7s 639us/step - loss: 0.6181 - accuracy: 0.6290 - f1_metric: 0.0064\n",
      "Epoch 108/150\n",
      "10745/10745 [==============================] - 7s 638us/step - loss: 0.6181 - accuracy: 0.6291 - f1_metric: 0.0060\n",
      "Epoch 109/150\n",
      "10745/10745 [==============================] - 7s 634us/step - loss: 0.6180 - accuracy: 0.6286 - f1_metric: 0.0134\n",
      "Epoch 110/150\n",
      "10745/10745 [==============================] - 7s 638us/step - loss: 0.6184 - accuracy: 0.6292 - f1_metric: 0.0045\n",
      "Epoch 111/150\n",
      "10745/10745 [==============================] - 7s 637us/step - loss: 0.6176 - accuracy: 0.6291 - f1_metric: 0.0035\n",
      "Epoch 112/150\n",
      "10745/10745 [==============================] - 7s 639us/step - loss: 0.6182 - accuracy: 0.6292 - f1_metric: 0.0045\n",
      "Epoch 113/150\n",
      "10745/10745 [==============================] - 7s 637us/step - loss: 0.6182 - accuracy: 0.6293 - f1_metric: 0.0052\n",
      "Epoch 114/150\n",
      "10745/10745 [==============================] - 7s 640us/step - loss: 0.6178 - accuracy: 0.6292 - f1_metric: 0.0049\n",
      "Epoch 115/150\n",
      "10745/10745 [==============================] - 7s 636us/step - loss: 0.6183 - accuracy: 0.6295 - f1_metric: 0.0024\n",
      "Epoch 116/150\n",
      "10745/10745 [==============================] - 7s 639us/step - loss: 0.6179 - accuracy: 0.6294 - f1_metric: 0.0024\n",
      "Epoch 117/150\n",
      "10745/10745 [==============================] - 7s 642us/step - loss: 0.6180 - accuracy: 0.6296 - f1_metric: 3.3194e-04\n",
      "Epoch 118/150\n",
      "10745/10745 [==============================] - 7s 641us/step - loss: 0.6171 - accuracy: 0.6292 - f1_metric: 0.0030\n",
      "Epoch 119/150\n",
      "10745/10745 [==============================] - 7s 641us/step - loss: 0.6171 - accuracy: 0.6297 - f1_metric: 0.0000e+00\n",
      "Epoch 120/150\n",
      "10745/10745 [==============================] - 7s 641us/step - loss: 0.6174 - accuracy: 0.6285 - f1_metric: 0.0118\n",
      "Epoch 121/150\n",
      "10745/10745 [==============================] - 7s 640us/step - loss: 0.6179 - accuracy: 0.6287 - f1_metric: 0.0147\n",
      "Epoch 122/150\n",
      "10745/10745 [==============================] - 7s 642us/step - loss: 0.6177 - accuracy: 0.6297 - f1_metric: 0.0000e+00\n",
      "Epoch 123/150\n",
      "10745/10745 [==============================] - 7s 644us/step - loss: 0.6181 - accuracy: 0.6288 - f1_metric: 0.0077\n",
      "Epoch 124/150\n",
      "10745/10745 [==============================] - 8s 733us/step - loss: 0.6174 - accuracy: 0.6287 - f1_metric: 0.0135\n",
      "Epoch 125/150\n",
      "10745/10745 [==============================] - 7s 660us/step - loss: 0.6178 - accuracy: 0.6297 - f1_metric: 0.0000e+00\n",
      "Epoch 126/150\n",
      "10745/10745 [==============================] - 7s 662us/step - loss: 0.6265 - accuracy: 0.6303 - f1_metric: 0.1806\n",
      "Epoch 127/150\n",
      "10745/10745 [==============================] - 7s 660us/step - loss: 0.6238 - accuracy: 0.6314 - f1_metric: 0.1189\n",
      "Epoch 128/150\n"
     ]
    },
    {
     "name": "stdout",
     "output_type": "stream",
     "text": [
      "10745/10745 [==============================] - 7s 635us/step - loss: 0.6195 - accuracy: 0.6275 - f1_metric: 0.0254\n",
      "Epoch 129/150\n",
      "10745/10745 [==============================] - 7s 635us/step - loss: 0.6196 - accuracy: 0.6289 - f1_metric: 0.0214\n",
      "Epoch 130/150\n",
      "10745/10745 [==============================] - 7s 637us/step - loss: 0.6175 - accuracy: 0.6295 - f1_metric: 0.0034\n",
      "Epoch 131/150\n",
      "10745/10745 [==============================] - 7s 641us/step - loss: 0.6201 - accuracy: 0.6282 - f1_metric: 0.03500s - loss: 0.6201 - accuracy: 0.6282 - f\n",
      "Epoch 132/150\n",
      "10745/10745 [==============================] - 7s 656us/step - loss: 0.6179 - accuracy: 0.6294 - f1_metric: 0.0031\n",
      "Epoch 133/150\n",
      "10745/10745 [==============================] - 7s 649us/step - loss: 0.6182 - accuracy: 0.6293 - f1_metric: 0.0084\n",
      "Epoch 134/150\n",
      "10745/10745 [==============================] - 7s 641us/step - loss: 0.6180 - accuracy: 0.6295 - f1_metric: 0.0022\n",
      "Epoch 135/150\n",
      "10745/10745 [==============================] - 7s 636us/step - loss: 0.6178 - accuracy: 0.6287 - f1_metric: 0.0230\n",
      "Epoch 136/150\n",
      "10745/10745 [==============================] - 7s 639us/step - loss: 0.6192 - accuracy: 0.6291 - f1_metric: 0.0086\n",
      "Epoch 137/150\n",
      "10745/10745 [==============================] - 7s 647us/step - loss: 0.6180 - accuracy: 0.6289 - f1_metric: 0.0091\n",
      "Epoch 138/150\n",
      "10745/10745 [==============================] - 7s 640us/step - loss: 0.6176 - accuracy: 0.6296 - f1_metric: 0.0012\n",
      "Epoch 139/150\n",
      "10745/10745 [==============================] - 7s 641us/step - loss: 0.6177 - accuracy: 0.6292 - f1_metric: 0.0122\n",
      "Epoch 140/150\n",
      "10745/10745 [==============================] - 7s 642us/step - loss: 0.6176 - accuracy: 0.6295 - f1_metric: 0.0020\n",
      "Epoch 141/150\n",
      "10745/10745 [==============================] - 7s 665us/step - loss: 0.6174 - accuracy: 0.6292 - f1_metric: 0.0094\n",
      "Epoch 142/150\n",
      "10745/10745 [==============================] - 7s 657us/step - loss: 0.6172 - accuracy: 0.6293 - f1_metric: 0.0064\n",
      "Epoch 143/150\n",
      "10745/10745 [==============================] - 7s 646us/step - loss: 0.6163 - accuracy: 0.6293 - f1_metric: 0.00381s - los\n",
      "Epoch 144/150\n",
      "10745/10745 [==============================] - 7s 643us/step - loss: 0.6196 - accuracy: 0.6280 - f1_metric: 0.0377\n",
      "Epoch 145/150\n",
      "10745/10745 [==============================] - 7s 655us/step - loss: 0.6175 - accuracy: 0.6289 - f1_metric: 0.0064\n",
      "Epoch 146/150\n",
      "10745/10745 [==============================] - 7s 643us/step - loss: 0.6170 - accuracy: 0.6295 - f1_metric: 0.0052\n",
      "Epoch 147/150\n",
      "10745/10745 [==============================] - 7s 643us/step - loss: 0.6235 - accuracy: 0.6260 - f1_metric: 0.1046\n",
      "Epoch 148/150\n",
      "10745/10745 [==============================] - 7s 649us/step - loss: 0.6178 - accuracy: 0.6295 - f1_metric: 0.0011\n",
      "Epoch 149/150\n",
      "10745/10745 [==============================] - 7s 640us/step - loss: 0.6174 - accuracy: 0.6291 - f1_metric: 0.0051\n",
      "Epoch 150/150\n",
      "10745/10745 [==============================] - 7s 643us/step - loss: 0.6173 - accuracy: 0.6293 - f1_metric: 9.5204e-04\n"
     ]
    },
    {
     "data": {
      "text/plain": [
       "<tensorflow.python.keras.callbacks.History at 0x228b9b7d9d0>"
      ]
     },
     "execution_count": 40,
     "metadata": {},
     "output_type": "execute_result"
    }
   ],
   "source": [
    "model.fit(X_train, y_train, epochs=150, batch_size=10)"
   ]
  },
  {
   "cell_type": "code",
   "execution_count": 41,
   "id": "1ee168cf",
   "metadata": {},
   "outputs": [
    {
     "name": "stdout",
     "output_type": "stream",
     "text": [
      "374/374 [==============================] - 0s 652us/step - loss: 0.6143 - accuracy: 0.6286 - f1_metric: 0.0000e+00\n"
     ]
    },
    {
     "data": {
      "text/plain": [
       "[0.6142608523368835, 0.6286121010780334, 0.0]"
      ]
     },
     "execution_count": 41,
     "metadata": {},
     "output_type": "execute_result"
    }
   ],
   "source": [
    "model.evaluate(X_test, y_test) # parameters were not tuned, so results are bad"
   ]
  },
  {
   "cell_type": "code",
   "execution_count": 53,
   "id": "250e88d1",
   "metadata": {},
   "outputs": [
    {
     "data": {
      "text/plain": [
       "array([[0.47649106]], dtype=float32)"
      ]
     },
     "execution_count": 53,
     "metadata": {},
     "output_type": "execute_result"
    }
   ],
   "source": [
    "model.predict(observation) # prediction"
   ]
  },
  {
   "cell_type": "code",
   "execution_count": 43,
   "id": "d8746699",
   "metadata": {},
   "outputs": [
    {
     "name": "stdout",
     "output_type": "stream",
     "text": [
      "Preparation of a new explainer is initiated\n",
      "\n",
      "  -> data              : 107447 rows 6 cols\n",
      "  -> target variable   : Parameter 'y' was a pandas.DataFrame. Converted to a numpy.ndarray.\n",
      "  -> target variable   : 107447 values\n",
      "  -> model_class       : tensorflow.python.keras.engine.sequential.Sequential (default)\n",
      "  -> label             : neural_network\n",
      "  -> predict function  : <function yhat_tf_regression at 0x00000228ADDB3DC0> will be used (default)\n",
      "  -> predict function  : Accepts pandas.DataFrame and numpy.ndarray.\n",
      "  -> predicted values  : min = 0.157, mean = 0.378, max = 0.476\n",
      "  -> model type        : regression will be used (default)\n",
      "  -> residual function : difference between y and yhat (default)\n",
      "  -> residuals         : min = -0.476, mean = -0.00776, max = 0.843\n",
      "  -> model_info        : package tensorflow\n",
      "\n",
      "A new explainer has been created!\n"
     ]
    }
   ],
   "source": [
    "exp_nn = dx.Explainer(model, X_train, y_train, label='neural_network')"
   ]
  },
  {
   "cell_type": "code",
   "execution_count": 50,
   "id": "619adfb5",
   "metadata": {},
   "outputs": [
    {
     "name": "stderr",
     "output_type": "stream",
     "text": [
      "Calculating ceteris paribus: 100%|███████████████████████████████████████████████████████| 6/6 [00:00<00:00, 24.33it/s]\n"
     ]
    },
    {
     "data": {
      "application/vnd.plotly.v1+json": {
       "config": {
        "displaylogo": false,
        "modeBarButtonsToRemove": [
         "sendDataToCloud",
         "lasso2d",
         "autoScale2d",
         "select2d",
         "zoom2d",
         "pan2d",
         "zoomIn2d",
         "zoomOut2d",
         "resetScale2d",
         "toggleSpikelines",
         "hoverCompareCartesian",
         "hoverClosestCartesian"
        ],
        "plotlyServerURL": "https://plot.ly",
        "staticPlot": false,
        "toImageButtonOptions": {
         "height": null,
         "width": null
        }
       },
       "data": [
        {
         "customdata": [
          [
           "</br>id: observation</br>prediction: 0.157</br>lead_time: 0.0</br></br>arrival_date_year: 2016.0</br>adults: 2.0</br>children: 0.0</br>babies: 0.0</br>booking_changes: 4.0</br>_original_yhat_: 0.4764910638332367</br>"
          ],
          [
           "</br>id: observation</br>prediction: 0.157</br>lead_time: 7.37</br></br>arrival_date_year: 2016.0</br>adults: 2.0</br>children: 0.0</br>babies: 0.0</br>booking_changes: 4.0</br>_original_yhat_: 0.4764910638332367</br>"
          ],
          [
           "</br>id: observation</br>prediction: 0.157</br>lead_time: 14.74</br></br>arrival_date_year: 2016.0</br>adults: 2.0</br>children: 0.0</br>babies: 0.0</br>booking_changes: 4.0</br>_original_yhat_: 0.4764910638332367</br>"
          ],
          [
           "</br>id: observation</br>prediction: 0.157</br>lead_time: 22.11</br></br>arrival_date_year: 2016.0</br>adults: 2.0</br>children: 0.0</br>babies: 0.0</br>booking_changes: 4.0</br>_original_yhat_: 0.4764910638332367</br>"
          ],
          [
           "</br>id: observation</br>prediction: 0.157</br>lead_time: 29.48</br></br>arrival_date_year: 2016.0</br>adults: 2.0</br>children: 0.0</br>babies: 0.0</br>booking_changes: 4.0</br>_original_yhat_: 0.4764910638332367</br>"
          ],
          [
           "</br>id: observation</br>prediction: 0.157</br>lead_time: 36.85</br></br>arrival_date_year: 2016.0</br>adults: 2.0</br>children: 0.0</br>babies: 0.0</br>booking_changes: 4.0</br>_original_yhat_: 0.4764910638332367</br>"
          ],
          [
           "</br>id: observation</br>prediction: 0.157</br>lead_time: 44.22</br></br>arrival_date_year: 2016.0</br>adults: 2.0</br>children: 0.0</br>babies: 0.0</br>booking_changes: 4.0</br>_original_yhat_: 0.4764910638332367</br>"
          ],
          [
           "</br>id: observation</br>prediction: 0.157</br>lead_time: 51.59</br></br>arrival_date_year: 2016.0</br>adults: 2.0</br>children: 0.0</br>babies: 0.0</br>booking_changes: 4.0</br>_original_yhat_: 0.4764910638332367</br>"
          ],
          [
           "</br>id: observation</br>prediction: 0.157</br>lead_time: 58.96</br></br>arrival_date_year: 2016.0</br>adults: 2.0</br>children: 0.0</br>babies: 0.0</br>booking_changes: 4.0</br>_original_yhat_: 0.4764910638332367</br>"
          ],
          [
           "</br>id: observation</br>prediction: 0.157</br>lead_time: 66.33</br></br>arrival_date_year: 2016.0</br>adults: 2.0</br>children: 0.0</br>babies: 0.0</br>booking_changes: 4.0</br>_original_yhat_: 0.4764910638332367</br>"
          ],
          [
           "</br>id: observation</br>prediction: 0.476</br>lead_time: 73.7</br></br>arrival_date_year: 2016.0</br>adults: 2.0</br>children: 0.0</br>babies: 0.0</br>booking_changes: 4.0</br>_original_yhat_: 0.4764910638332367</br>"
          ],
          [
           "</br>id: observation</br>prediction: 0.476</br>lead_time: 81.07000000000001</br></br>arrival_date_year: 2016.0</br>adults: 2.0</br>children: 0.0</br>babies: 0.0</br>booking_changes: 4.0</br>_original_yhat_: 0.4764910638332367</br>"
          ],
          [
           "</br>id: observation</br>prediction: 0.476</br>lead_time: 88.44</br></br>arrival_date_year: 2016.0</br>adults: 2.0</br>children: 0.0</br>babies: 0.0</br>booking_changes: 4.0</br>_original_yhat_: 0.4764910638332367</br>"
          ],
          [
           "</br>id: observation</br>prediction: 0.476</br>lead_time: 95.81</br></br>arrival_date_year: 2016.0</br>adults: 2.0</br>children: 0.0</br>babies: 0.0</br>booking_changes: 4.0</br>_original_yhat_: 0.4764910638332367</br>"
          ],
          [
           "</br>id: observation</br>prediction: 0.476</br>lead_time: 103.18</br></br>arrival_date_year: 2016.0</br>adults: 2.0</br>children: 0.0</br>babies: 0.0</br>booking_changes: 4.0</br>_original_yhat_: 0.4764910638332367</br>"
          ],
          [
           "</br>id: observation</br>prediction: 0.476</br>lead_time: 110.55</br></br>arrival_date_year: 2016.0</br>adults: 2.0</br>children: 0.0</br>babies: 0.0</br>booking_changes: 4.0</br>_original_yhat_: 0.4764910638332367</br>"
          ],
          [
           "</br>id: observation</br>prediction: 0.476</br>lead_time: 117.92</br></br>arrival_date_year: 2016.0</br>adults: 2.0</br>children: 0.0</br>babies: 0.0</br>booking_changes: 4.0</br>_original_yhat_: 0.4764910638332367</br>"
          ],
          [
           "</br>id: observation</br>prediction: 0.476</br>lead_time: 125.29</br></br>arrival_date_year: 2016.0</br>adults: 2.0</br>children: 0.0</br>babies: 0.0</br>booking_changes: 4.0</br>_original_yhat_: 0.4764910638332367</br>"
          ],
          [
           "</br>id: observation</br>prediction: 0.476</br>lead_time: 132.66</br></br>arrival_date_year: 2016.0</br>adults: 2.0</br>children: 0.0</br>babies: 0.0</br>booking_changes: 4.0</br>_original_yhat_: 0.4764910638332367</br>"
          ],
          [
           "</br>id: observation</br>prediction: 0.476</br>lead_time: 140.03</br></br>arrival_date_year: 2016.0</br>adults: 2.0</br>children: 0.0</br>babies: 0.0</br>booking_changes: 4.0</br>_original_yhat_: 0.4764910638332367</br>"
          ],
          [
           "</br>id: observation</br>prediction: 0.476</br>lead_time: 147.4</br></br>arrival_date_year: 2016.0</br>adults: 2.0</br>children: 0.0</br>babies: 0.0</br>booking_changes: 4.0</br>_original_yhat_: 0.4764910638332367</br>"
          ],
          [
           "</br>id: observation</br>prediction: 0.476</br>lead_time: 154.77</br></br>arrival_date_year: 2016.0</br>adults: 2.0</br>children: 0.0</br>babies: 0.0</br>booking_changes: 4.0</br>_original_yhat_: 0.4764910638332367</br>"
          ],
          [
           "</br>id: observation</br>prediction: 0.476</br>lead_time: 162.14000000000001</br></br>arrival_date_year: 2016.0</br>adults: 2.0</br>children: 0.0</br>babies: 0.0</br>booking_changes: 4.0</br>_original_yhat_: 0.4764910638332367</br>"
          ],
          [
           "</br>id: observation</br>prediction: 0.476</br>lead_time: 169.51</br></br>arrival_date_year: 2016.0</br>adults: 2.0</br>children: 0.0</br>babies: 0.0</br>booking_changes: 4.0</br>_original_yhat_: 0.4764910638332367</br>"
          ],
          [
           "</br>id: observation</br>prediction: 0.476</br>lead_time: 176.88</br></br>arrival_date_year: 2016.0</br>adults: 2.0</br>children: 0.0</br>babies: 0.0</br>booking_changes: 4.0</br>_original_yhat_: 0.4764910638332367</br>"
          ],
          [
           "</br>id: observation</br>prediction: 0.476</br>lead_time: 184.25</br></br>arrival_date_year: 2016.0</br>adults: 2.0</br>children: 0.0</br>babies: 0.0</br>booking_changes: 4.0</br>_original_yhat_: 0.4764910638332367</br>"
          ],
          [
           "</br>id: observation</br>prediction: 0.476</br>lead_time: 191.62</br></br>arrival_date_year: 2016.0</br>adults: 2.0</br>children: 0.0</br>babies: 0.0</br>booking_changes: 4.0</br>_original_yhat_: 0.4764910638332367</br>"
          ],
          [
           "</br>id: observation</br>prediction: 0.476</br>lead_time: 198.99</br></br>arrival_date_year: 2016.0</br>adults: 2.0</br>children: 0.0</br>babies: 0.0</br>booking_changes: 4.0</br>_original_yhat_: 0.4764910638332367</br>"
          ],
          [
           "</br>id: observation</br>prediction: 0.476</br>lead_time: 203.0</br></br>arrival_date_year: 2016.0</br>adults: 2.0</br>children: 0.0</br>babies: 0.0</br>booking_changes: 4.0</br>_original_yhat_: 0.4764910638332367</br>"
          ],
          [
           "</br>id: observation</br>prediction: 0.476</br>lead_time: 206.36</br></br>arrival_date_year: 2016.0</br>adults: 2.0</br>children: 0.0</br>babies: 0.0</br>booking_changes: 4.0</br>_original_yhat_: 0.4764910638332367</br>"
          ],
          [
           "</br>id: observation</br>prediction: 0.476</br>lead_time: 213.73</br></br>arrival_date_year: 2016.0</br>adults: 2.0</br>children: 0.0</br>babies: 0.0</br>booking_changes: 4.0</br>_original_yhat_: 0.4764910638332367</br>"
          ],
          [
           "</br>id: observation</br>prediction: 0.476</br>lead_time: 221.1</br></br>arrival_date_year: 2016.0</br>adults: 2.0</br>children: 0.0</br>babies: 0.0</br>booking_changes: 4.0</br>_original_yhat_: 0.4764910638332367</br>"
          ],
          [
           "</br>id: observation</br>prediction: 0.476</br>lead_time: 228.47</br></br>arrival_date_year: 2016.0</br>adults: 2.0</br>children: 0.0</br>babies: 0.0</br>booking_changes: 4.0</br>_original_yhat_: 0.4764910638332367</br>"
          ],
          [
           "</br>id: observation</br>prediction: 0.476</br>lead_time: 235.84</br></br>arrival_date_year: 2016.0</br>adults: 2.0</br>children: 0.0</br>babies: 0.0</br>booking_changes: 4.0</br>_original_yhat_: 0.4764910638332367</br>"
          ],
          [
           "</br>id: observation</br>prediction: 0.476</br>lead_time: 243.21</br></br>arrival_date_year: 2016.0</br>adults: 2.0</br>children: 0.0</br>babies: 0.0</br>booking_changes: 4.0</br>_original_yhat_: 0.4764910638332367</br>"
          ],
          [
           "</br>id: observation</br>prediction: 0.476</br>lead_time: 250.58</br></br>arrival_date_year: 2016.0</br>adults: 2.0</br>children: 0.0</br>babies: 0.0</br>booking_changes: 4.0</br>_original_yhat_: 0.4764910638332367</br>"
          ],
          [
           "</br>id: observation</br>prediction: 0.476</br>lead_time: 257.95</br></br>arrival_date_year: 2016.0</br>adults: 2.0</br>children: 0.0</br>babies: 0.0</br>booking_changes: 4.0</br>_original_yhat_: 0.4764910638332367</br>"
          ],
          [
           "</br>id: observation</br>prediction: 0.476</br>lead_time: 265.32</br></br>arrival_date_year: 2016.0</br>adults: 2.0</br>children: 0.0</br>babies: 0.0</br>booking_changes: 4.0</br>_original_yhat_: 0.4764910638332367</br>"
          ],
          [
           "</br>id: observation</br>prediction: 0.476</br>lead_time: 272.69</br></br>arrival_date_year: 2016.0</br>adults: 2.0</br>children: 0.0</br>babies: 0.0</br>booking_changes: 4.0</br>_original_yhat_: 0.4764910638332367</br>"
          ],
          [
           "</br>id: observation</br>prediction: 0.476</br>lead_time: 280.06</br></br>arrival_date_year: 2016.0</br>adults: 2.0</br>children: 0.0</br>babies: 0.0</br>booking_changes: 4.0</br>_original_yhat_: 0.4764910638332367</br>"
          ],
          [
           "</br>id: observation</br>prediction: 0.476</br>lead_time: 287.43</br></br>arrival_date_year: 2016.0</br>adults: 2.0</br>children: 0.0</br>babies: 0.0</br>booking_changes: 4.0</br>_original_yhat_: 0.4764910638332367</br>"
          ],
          [
           "</br>id: observation</br>prediction: 0.476</br>lead_time: 294.8</br></br>arrival_date_year: 2016.0</br>adults: 2.0</br>children: 0.0</br>babies: 0.0</br>booking_changes: 4.0</br>_original_yhat_: 0.4764910638332367</br>"
          ],
          [
           "</br>id: observation</br>prediction: 0.476</br>lead_time: 302.17</br></br>arrival_date_year: 2016.0</br>adults: 2.0</br>children: 0.0</br>babies: 0.0</br>booking_changes: 4.0</br>_original_yhat_: 0.4764910638332367</br>"
          ],
          [
           "</br>id: observation</br>prediction: 0.476</br>lead_time: 309.54</br></br>arrival_date_year: 2016.0</br>adults: 2.0</br>children: 0.0</br>babies: 0.0</br>booking_changes: 4.0</br>_original_yhat_: 0.4764910638332367</br>"
          ],
          [
           "</br>id: observation</br>prediction: 0.476</br>lead_time: 316.91</br></br>arrival_date_year: 2016.0</br>adults: 2.0</br>children: 0.0</br>babies: 0.0</br>booking_changes: 4.0</br>_original_yhat_: 0.4764910638332367</br>"
          ],
          [
           "</br>id: observation</br>prediction: 0.476</br>lead_time: 324.28000000000003</br></br>arrival_date_year: 2016.0</br>adults: 2.0</br>children: 0.0</br>babies: 0.0</br>booking_changes: 4.0</br>_original_yhat_: 0.4764910638332367</br>"
          ],
          [
           "</br>id: observation</br>prediction: 0.476</br>lead_time: 331.65</br></br>arrival_date_year: 2016.0</br>adults: 2.0</br>children: 0.0</br>babies: 0.0</br>booking_changes: 4.0</br>_original_yhat_: 0.4764910638332367</br>"
          ],
          [
           "</br>id: observation</br>prediction: 0.476</br>lead_time: 339.02</br></br>arrival_date_year: 2016.0</br>adults: 2.0</br>children: 0.0</br>babies: 0.0</br>booking_changes: 4.0</br>_original_yhat_: 0.4764910638332367</br>"
          ],
          [
           "</br>id: observation</br>prediction: 0.476</br>lead_time: 346.39</br></br>arrival_date_year: 2016.0</br>adults: 2.0</br>children: 0.0</br>babies: 0.0</br>booking_changes: 4.0</br>_original_yhat_: 0.4764910638332367</br>"
          ],
          [
           "</br>id: observation</br>prediction: 0.476</br>lead_time: 353.76</br></br>arrival_date_year: 2016.0</br>adults: 2.0</br>children: 0.0</br>babies: 0.0</br>booking_changes: 4.0</br>_original_yhat_: 0.4764910638332367</br>"
          ],
          [
           "</br>id: observation</br>prediction: 0.476</br>lead_time: 361.13</br></br>arrival_date_year: 2016.0</br>adults: 2.0</br>children: 0.0</br>babies: 0.0</br>booking_changes: 4.0</br>_original_yhat_: 0.4764910638332367</br>"
          ],
          [
           "</br>id: observation</br>prediction: 0.476</br>lead_time: 368.5</br></br>arrival_date_year: 2016.0</br>adults: 2.0</br>children: 0.0</br>babies: 0.0</br>booking_changes: 4.0</br>_original_yhat_: 0.4764910638332367</br>"
          ],
          [
           "</br>id: observation</br>prediction: 0.476</br>lead_time: 375.87</br></br>arrival_date_year: 2016.0</br>adults: 2.0</br>children: 0.0</br>babies: 0.0</br>booking_changes: 4.0</br>_original_yhat_: 0.4764910638332367</br>"
          ],
          [
           "</br>id: observation</br>prediction: 0.476</br>lead_time: 383.24</br></br>arrival_date_year: 2016.0</br>adults: 2.0</br>children: 0.0</br>babies: 0.0</br>booking_changes: 4.0</br>_original_yhat_: 0.4764910638332367</br>"
          ],
          [
           "</br>id: observation</br>prediction: 0.476</br>lead_time: 390.61</br></br>arrival_date_year: 2016.0</br>adults: 2.0</br>children: 0.0</br>babies: 0.0</br>booking_changes: 4.0</br>_original_yhat_: 0.4764910638332367</br>"
          ],
          [
           "</br>id: observation</br>prediction: 0.476</br>lead_time: 397.98</br></br>arrival_date_year: 2016.0</br>adults: 2.0</br>children: 0.0</br>babies: 0.0</br>booking_changes: 4.0</br>_original_yhat_: 0.4764910638332367</br>"
          ],
          [
           "</br>id: observation</br>prediction: 0.476</br>lead_time: 405.35</br></br>arrival_date_year: 2016.0</br>adults: 2.0</br>children: 0.0</br>babies: 0.0</br>booking_changes: 4.0</br>_original_yhat_: 0.4764910638332367</br>"
          ],
          [
           "</br>id: observation</br>prediction: 0.476</br>lead_time: 412.72</br></br>arrival_date_year: 2016.0</br>adults: 2.0</br>children: 0.0</br>babies: 0.0</br>booking_changes: 4.0</br>_original_yhat_: 0.4764910638332367</br>"
          ],
          [
           "</br>id: observation</br>prediction: 0.476</br>lead_time: 420.09000000000003</br></br>arrival_date_year: 2016.0</br>adults: 2.0</br>children: 0.0</br>babies: 0.0</br>booking_changes: 4.0</br>_original_yhat_: 0.4764910638332367</br>"
          ],
          [
           "</br>id: observation</br>prediction: 0.476</br>lead_time: 427.46</br></br>arrival_date_year: 2016.0</br>adults: 2.0</br>children: 0.0</br>babies: 0.0</br>booking_changes: 4.0</br>_original_yhat_: 0.4764910638332367</br>"
          ],
          [
           "</br>id: observation</br>prediction: 0.476</br>lead_time: 434.83</br></br>arrival_date_year: 2016.0</br>adults: 2.0</br>children: 0.0</br>babies: 0.0</br>booking_changes: 4.0</br>_original_yhat_: 0.4764910638332367</br>"
          ],
          [
           "</br>id: observation</br>prediction: 0.476</br>lead_time: 442.2</br></br>arrival_date_year: 2016.0</br>adults: 2.0</br>children: 0.0</br>babies: 0.0</br>booking_changes: 4.0</br>_original_yhat_: 0.4764910638332367</br>"
          ],
          [
           "</br>id: observation</br>prediction: 0.476</br>lead_time: 449.57</br></br>arrival_date_year: 2016.0</br>adults: 2.0</br>children: 0.0</br>babies: 0.0</br>booking_changes: 4.0</br>_original_yhat_: 0.4764910638332367</br>"
          ],
          [
           "</br>id: observation</br>prediction: 0.476</br>lead_time: 456.94</br></br>arrival_date_year: 2016.0</br>adults: 2.0</br>children: 0.0</br>babies: 0.0</br>booking_changes: 4.0</br>_original_yhat_: 0.4764910638332367</br>"
          ],
          [
           "</br>id: observation</br>prediction: 0.476</br>lead_time: 464.31</br></br>arrival_date_year: 2016.0</br>adults: 2.0</br>children: 0.0</br>babies: 0.0</br>booking_changes: 4.0</br>_original_yhat_: 0.4764910638332367</br>"
          ],
          [
           "</br>id: observation</br>prediction: 0.476</br>lead_time: 471.68</br></br>arrival_date_year: 2016.0</br>adults: 2.0</br>children: 0.0</br>babies: 0.0</br>booking_changes: 4.0</br>_original_yhat_: 0.4764910638332367</br>"
          ],
          [
           "</br>id: observation</br>prediction: 0.476</br>lead_time: 479.05</br></br>arrival_date_year: 2016.0</br>adults: 2.0</br>children: 0.0</br>babies: 0.0</br>booking_changes: 4.0</br>_original_yhat_: 0.4764910638332367</br>"
          ],
          [
           "</br>id: observation</br>prediction: 0.476</br>lead_time: 486.42</br></br>arrival_date_year: 2016.0</br>adults: 2.0</br>children: 0.0</br>babies: 0.0</br>booking_changes: 4.0</br>_original_yhat_: 0.4764910638332367</br>"
          ],
          [
           "</br>id: observation</br>prediction: 0.476</br>lead_time: 493.79</br></br>arrival_date_year: 2016.0</br>adults: 2.0</br>children: 0.0</br>babies: 0.0</br>booking_changes: 4.0</br>_original_yhat_: 0.4764910638332367</br>"
          ],
          [
           "</br>id: observation</br>prediction: 0.476</br>lead_time: 501.16</br></br>arrival_date_year: 2016.0</br>adults: 2.0</br>children: 0.0</br>babies: 0.0</br>booking_changes: 4.0</br>_original_yhat_: 0.4764910638332367</br>"
          ],
          [
           "</br>id: observation</br>prediction: 0.476</br>lead_time: 508.53000000000003</br></br>arrival_date_year: 2016.0</br>adults: 2.0</br>children: 0.0</br>babies: 0.0</br>booking_changes: 4.0</br>_original_yhat_: 0.4764910638332367</br>"
          ],
          [
           "</br>id: observation</br>prediction: 0.476</br>lead_time: 515.9</br></br>arrival_date_year: 2016.0</br>adults: 2.0</br>children: 0.0</br>babies: 0.0</br>booking_changes: 4.0</br>_original_yhat_: 0.4764910638332367</br>"
          ],
          [
           "</br>id: observation</br>prediction: 0.476</br>lead_time: 523.27</br></br>arrival_date_year: 2016.0</br>adults: 2.0</br>children: 0.0</br>babies: 0.0</br>booking_changes: 4.0</br>_original_yhat_: 0.4764910638332367</br>"
          ],
          [
           "</br>id: observation</br>prediction: 0.476</br>lead_time: 530.64</br></br>arrival_date_year: 2016.0</br>adults: 2.0</br>children: 0.0</br>babies: 0.0</br>booking_changes: 4.0</br>_original_yhat_: 0.4764910638332367</br>"
          ],
          [
           "</br>id: observation</br>prediction: 0.476</br>lead_time: 538.01</br></br>arrival_date_year: 2016.0</br>adults: 2.0</br>children: 0.0</br>babies: 0.0</br>booking_changes: 4.0</br>_original_yhat_: 0.4764910638332367</br>"
          ],
          [
           "</br>id: observation</br>prediction: 0.476</br>lead_time: 545.38</br></br>arrival_date_year: 2016.0</br>adults: 2.0</br>children: 0.0</br>babies: 0.0</br>booking_changes: 4.0</br>_original_yhat_: 0.4764910638332367</br>"
          ],
          [
           "</br>id: observation</br>prediction: 0.476</br>lead_time: 552.75</br></br>arrival_date_year: 2016.0</br>adults: 2.0</br>children: 0.0</br>babies: 0.0</br>booking_changes: 4.0</br>_original_yhat_: 0.4764910638332367</br>"
          ],
          [
           "</br>id: observation</br>prediction: 0.476</br>lead_time: 560.12</br></br>arrival_date_year: 2016.0</br>adults: 2.0</br>children: 0.0</br>babies: 0.0</br>booking_changes: 4.0</br>_original_yhat_: 0.4764910638332367</br>"
          ],
          [
           "</br>id: observation</br>prediction: 0.476</br>lead_time: 567.49</br></br>arrival_date_year: 2016.0</br>adults: 2.0</br>children: 0.0</br>babies: 0.0</br>booking_changes: 4.0</br>_original_yhat_: 0.4764910638332367</br>"
          ],
          [
           "</br>id: observation</br>prediction: 0.476</br>lead_time: 574.86</br></br>arrival_date_year: 2016.0</br>adults: 2.0</br>children: 0.0</br>babies: 0.0</br>booking_changes: 4.0</br>_original_yhat_: 0.4764910638332367</br>"
          ],
          [
           "</br>id: observation</br>prediction: 0.476</br>lead_time: 582.23</br></br>arrival_date_year: 2016.0</br>adults: 2.0</br>children: 0.0</br>babies: 0.0</br>booking_changes: 4.0</br>_original_yhat_: 0.4764910638332367</br>"
          ],
          [
           "</br>id: observation</br>prediction: 0.476</br>lead_time: 589.6</br></br>arrival_date_year: 2016.0</br>adults: 2.0</br>children: 0.0</br>babies: 0.0</br>booking_changes: 4.0</br>_original_yhat_: 0.4764910638332367</br>"
          ],
          [
           "</br>id: observation</br>prediction: 0.476</br>lead_time: 596.97</br></br>arrival_date_year: 2016.0</br>adults: 2.0</br>children: 0.0</br>babies: 0.0</br>booking_changes: 4.0</br>_original_yhat_: 0.4764910638332367</br>"
          ],
          [
           "</br>id: observation</br>prediction: 0.476</br>lead_time: 604.34</br></br>arrival_date_year: 2016.0</br>adults: 2.0</br>children: 0.0</br>babies: 0.0</br>booking_changes: 4.0</br>_original_yhat_: 0.4764910638332367</br>"
          ],
          [
           "</br>id: observation</br>prediction: 0.476</br>lead_time: 611.71</br></br>arrival_date_year: 2016.0</br>adults: 2.0</br>children: 0.0</br>babies: 0.0</br>booking_changes: 4.0</br>_original_yhat_: 0.4764910638332367</br>"
          ],
          [
           "</br>id: observation</br>prediction: 0.476</br>lead_time: 619.08</br></br>arrival_date_year: 2016.0</br>adults: 2.0</br>children: 0.0</br>babies: 0.0</br>booking_changes: 4.0</br>_original_yhat_: 0.4764910638332367</br>"
          ],
          [
           "</br>id: observation</br>prediction: 0.476</br>lead_time: 626.45</br></br>arrival_date_year: 2016.0</br>adults: 2.0</br>children: 0.0</br>babies: 0.0</br>booking_changes: 4.0</br>_original_yhat_: 0.4764910638332367</br>"
          ],
          [
           "</br>id: observation</br>prediction: 0.476</br>lead_time: 633.82</br></br>arrival_date_year: 2016.0</br>adults: 2.0</br>children: 0.0</br>babies: 0.0</br>booking_changes: 4.0</br>_original_yhat_: 0.4764910638332367</br>"
          ],
          [
           "</br>id: observation</br>prediction: 0.476</br>lead_time: 641.19</br></br>arrival_date_year: 2016.0</br>adults: 2.0</br>children: 0.0</br>babies: 0.0</br>booking_changes: 4.0</br>_original_yhat_: 0.4764910638332367</br>"
          ],
          [
           "</br>id: observation</br>prediction: 0.476</br>lead_time: 648.5600000000001</br></br>arrival_date_year: 2016.0</br>adults: 2.0</br>children: 0.0</br>babies: 0.0</br>booking_changes: 4.0</br>_original_yhat_: 0.4764910638332367</br>"
          ],
          [
           "</br>id: observation</br>prediction: 0.476</br>lead_time: 655.9300000000001</br></br>arrival_date_year: 2016.0</br>adults: 2.0</br>children: 0.0</br>babies: 0.0</br>booking_changes: 4.0</br>_original_yhat_: 0.4764910638332367</br>"
          ],
          [
           "</br>id: observation</br>prediction: 0.476</br>lead_time: 663.3</br></br>arrival_date_year: 2016.0</br>adults: 2.0</br>children: 0.0</br>babies: 0.0</br>booking_changes: 4.0</br>_original_yhat_: 0.4764910638332367</br>"
          ],
          [
           "</br>id: observation</br>prediction: 0.476</br>lead_time: 670.67</br></br>arrival_date_year: 2016.0</br>adults: 2.0</br>children: 0.0</br>babies: 0.0</br>booking_changes: 4.0</br>_original_yhat_: 0.4764910638332367</br>"
          ],
          [
           "</br>id: observation</br>prediction: 0.476</br>lead_time: 678.04</br></br>arrival_date_year: 2016.0</br>adults: 2.0</br>children: 0.0</br>babies: 0.0</br>booking_changes: 4.0</br>_original_yhat_: 0.4764910638332367</br>"
          ],
          [
           "</br>id: observation</br>prediction: 0.476</br>lead_time: 685.41</br></br>arrival_date_year: 2016.0</br>adults: 2.0</br>children: 0.0</br>babies: 0.0</br>booking_changes: 4.0</br>_original_yhat_: 0.4764910638332367</br>"
          ],
          [
           "</br>id: observation</br>prediction: 0.476</br>lead_time: 692.78</br></br>arrival_date_year: 2016.0</br>adults: 2.0</br>children: 0.0</br>babies: 0.0</br>booking_changes: 4.0</br>_original_yhat_: 0.4764910638332367</br>"
          ],
          [
           "</br>id: observation</br>prediction: 0.476</br>lead_time: 700.15</br></br>arrival_date_year: 2016.0</br>adults: 2.0</br>children: 0.0</br>babies: 0.0</br>booking_changes: 4.0</br>_original_yhat_: 0.4764910638332367</br>"
          ],
          [
           "</br>id: observation</br>prediction: 0.476</br>lead_time: 707.52</br></br>arrival_date_year: 2016.0</br>adults: 2.0</br>children: 0.0</br>babies: 0.0</br>booking_changes: 4.0</br>_original_yhat_: 0.4764910638332367</br>"
          ],
          [
           "</br>id: observation</br>prediction: 0.476</br>lead_time: 714.89</br></br>arrival_date_year: 2016.0</br>adults: 2.0</br>children: 0.0</br>babies: 0.0</br>booking_changes: 4.0</br>_original_yhat_: 0.4764910638332367</br>"
          ],
          [
           "</br>id: observation</br>prediction: 0.476</br>lead_time: 722.26</br></br>arrival_date_year: 2016.0</br>adults: 2.0</br>children: 0.0</br>babies: 0.0</br>booking_changes: 4.0</br>_original_yhat_: 0.4764910638332367</br>"
          ],
          [
           "</br>id: observation</br>prediction: 0.476</br>lead_time: 729.63</br></br>arrival_date_year: 2016.0</br>adults: 2.0</br>children: 0.0</br>babies: 0.0</br>booking_changes: 4.0</br>_original_yhat_: 0.4764910638332367</br>"
          ],
          [
           "</br>id: observation</br>prediction: 0.476</br>lead_time: 737.0</br></br>arrival_date_year: 2016.0</br>adults: 2.0</br>children: 0.0</br>babies: 0.0</br>booking_changes: 4.0</br>_original_yhat_: 0.4764910638332367</br>"
          ]
         ],
         "hovertemplate": "%{customdata[0]}<extra></extra>",
         "legendgroup": "neural_network",
         "line": {
          "color": "#46bac2",
          "dash": "solid",
          "width": 2
         },
         "marker": {
          "symbol": "circle"
         },
         "mode": "lines",
         "name": "neural_network",
         "opacity": 1,
         "orientation": "v",
         "showlegend": true,
         "type": "scatter",
         "x": [
          0,
          7.37,
          14.74,
          22.11,
          29.48,
          36.85,
          44.22,
          51.59,
          58.96,
          66.33,
          73.7,
          81.07000000000001,
          88.44,
          95.81,
          103.18,
          110.55,
          117.92,
          125.29,
          132.66,
          140.03,
          147.4,
          154.77,
          162.14000000000001,
          169.51,
          176.88,
          184.25,
          191.62,
          198.99,
          203,
          206.36,
          213.73,
          221.1,
          228.47,
          235.84,
          243.21,
          250.58,
          257.95,
          265.32,
          272.69,
          280.06,
          287.43,
          294.8,
          302.17,
          309.54,
          316.91,
          324.28000000000003,
          331.65,
          339.02,
          346.39,
          353.76,
          361.13,
          368.5,
          375.87,
          383.24,
          390.61,
          397.98,
          405.35,
          412.72,
          420.09000000000003,
          427.46,
          434.83,
          442.2,
          449.57,
          456.94,
          464.31,
          471.68,
          479.05,
          486.42,
          493.79,
          501.16,
          508.53000000000003,
          515.9,
          523.27,
          530.64,
          538.01,
          545.38,
          552.75,
          560.12,
          567.49,
          574.86,
          582.23,
          589.6,
          596.97,
          604.34,
          611.71,
          619.08,
          626.45,
          633.82,
          641.19,
          648.5600000000001,
          655.9300000000001,
          663.3,
          670.67,
          678.04,
          685.41,
          692.78,
          700.15,
          707.52,
          714.89,
          722.26,
          729.63,
          737
         ],
         "xaxis": "x3",
         "y": [
          0.15656164288520813,
          0.15656164288520813,
          0.15656164288520813,
          0.15656164288520813,
          0.15656164288520813,
          0.15656164288520813,
          0.15656164288520813,
          0.15656164288520813,
          0.15656164288520813,
          0.15656164288520813,
          0.4764910638332367,
          0.4764910638332367,
          0.4764910638332367,
          0.4764910638332367,
          0.4764910638332367,
          0.4764910638332367,
          0.4764910638332367,
          0.4764910638332367,
          0.4764910638332367,
          0.4764910638332367,
          0.4764910638332367,
          0.4764910638332367,
          0.4764910638332367,
          0.4764910638332367,
          0.4764910638332367,
          0.4764910638332367,
          0.4764910638332367,
          0.4764910638332367,
          0.4764910638332367,
          0.4764910638332367,
          0.4764910638332367,
          0.4764910638332367,
          0.4764910638332367,
          0.4764910638332367,
          0.4764910638332367,
          0.4764910638332367,
          0.4764910638332367,
          0.4764910638332367,
          0.4764910638332367,
          0.4764910638332367,
          0.4764910638332367,
          0.4764910638332367,
          0.4764910638332367,
          0.4764910638332367,
          0.4764910638332367,
          0.4764910638332367,
          0.4764910638332367,
          0.4764910638332367,
          0.4764910638332367,
          0.4764910638332367,
          0.4764910638332367,
          0.4764910638332367,
          0.4764910638332367,
          0.4764910638332367,
          0.4764910638332367,
          0.4764910638332367,
          0.4764910638332367,
          0.4764910638332367,
          0.4764910638332367,
          0.4764910638332367,
          0.4764910638332367,
          0.4764910638332367,
          0.4764910638332367,
          0.4764910638332367,
          0.4764910638332367,
          0.4764910638332367,
          0.4764910638332367,
          0.4764910638332367,
          0.4764910638332367,
          0.4764910638332367,
          0.4764910638332367,
          0.4764910638332367,
          0.4764910638332367,
          0.4764910638332367,
          0.4764910638332367,
          0.4764910638332367,
          0.4764910638332367,
          0.4764910638332367,
          0.4764910638332367,
          0.4764910638332367,
          0.4764910638332367,
          0.4764910638332367,
          0.4764910638332367,
          0.4764910638332367,
          0.4764910638332367,
          0.4764910638332367,
          0.4764910638332367,
          0.4764910638332367,
          0.4764910638332367,
          0.4764910638332367,
          0.4764910638332367,
          0.4764910638332367,
          0.4764910638332367,
          0.4764910638332367,
          0.4764910638332367,
          0.4764910638332367,
          0.4764910638332367,
          0.4764910638332367,
          0.4764910638332367,
          0.4764910638332367,
          0.4764910638332367,
          0.4764910638332367
         ],
         "yaxis": "y3"
        },
        {
         "customdata": [
          [
           "</br>id: observation</br>prediction: 0.476</br>children: 0.0</br></br>lead_time: 203.0</br>arrival_date_year: 2016.0</br>adults: 2.0</br>babies: 0.0</br>booking_changes: 4.0</br>_original_yhat_: 0.4764910638332367</br>"
          ],
          [
           "</br>id: observation</br>prediction: 0.476</br>children: 0.1</br></br>lead_time: 203.0</br>arrival_date_year: 2016.0</br>adults: 2.0</br>babies: 0.0</br>booking_changes: 4.0</br>_original_yhat_: 0.4764910638332367</br>"
          ],
          [
           "</br>id: observation</br>prediction: 0.476</br>children: 0.2</br></br>lead_time: 203.0</br>arrival_date_year: 2016.0</br>adults: 2.0</br>babies: 0.0</br>booking_changes: 4.0</br>_original_yhat_: 0.4764910638332367</br>"
          ],
          [
           "</br>id: observation</br>prediction: 0.476</br>children: 0.30000000000000004</br></br>lead_time: 203.0</br>arrival_date_year: 2016.0</br>adults: 2.0</br>babies: 0.0</br>booking_changes: 4.0</br>_original_yhat_: 0.4764910638332367</br>"
          ],
          [
           "</br>id: observation</br>prediction: 0.476</br>children: 0.4</br></br>lead_time: 203.0</br>arrival_date_year: 2016.0</br>adults: 2.0</br>babies: 0.0</br>booking_changes: 4.0</br>_original_yhat_: 0.4764910638332367</br>"
          ],
          [
           "</br>id: observation</br>prediction: 0.476</br>children: 0.5</br></br>lead_time: 203.0</br>arrival_date_year: 2016.0</br>adults: 2.0</br>babies: 0.0</br>booking_changes: 4.0</br>_original_yhat_: 0.4764910638332367</br>"
          ],
          [
           "</br>id: observation</br>prediction: 0.476</br>children: 0.6000000000000001</br></br>lead_time: 203.0</br>arrival_date_year: 2016.0</br>adults: 2.0</br>babies: 0.0</br>booking_changes: 4.0</br>_original_yhat_: 0.4764910638332367</br>"
          ],
          [
           "</br>id: observation</br>prediction: 0.476</br>children: 0.7000000000000001</br></br>lead_time: 203.0</br>arrival_date_year: 2016.0</br>adults: 2.0</br>babies: 0.0</br>booking_changes: 4.0</br>_original_yhat_: 0.4764910638332367</br>"
          ],
          [
           "</br>id: observation</br>prediction: 0.476</br>children: 0.8</br></br>lead_time: 203.0</br>arrival_date_year: 2016.0</br>adults: 2.0</br>babies: 0.0</br>booking_changes: 4.0</br>_original_yhat_: 0.4764910638332367</br>"
          ],
          [
           "</br>id: observation</br>prediction: 0.476</br>children: 0.9</br></br>lead_time: 203.0</br>arrival_date_year: 2016.0</br>adults: 2.0</br>babies: 0.0</br>booking_changes: 4.0</br>_original_yhat_: 0.4764910638332367</br>"
          ],
          [
           "</br>id: observation</br>prediction: 0.476</br>children: 1.0</br></br>lead_time: 203.0</br>arrival_date_year: 2016.0</br>adults: 2.0</br>babies: 0.0</br>booking_changes: 4.0</br>_original_yhat_: 0.4764910638332367</br>"
          ],
          [
           "</br>id: observation</br>prediction: 0.476</br>children: 1.1</br></br>lead_time: 203.0</br>arrival_date_year: 2016.0</br>adults: 2.0</br>babies: 0.0</br>booking_changes: 4.0</br>_original_yhat_: 0.4764910638332367</br>"
          ],
          [
           "</br>id: observation</br>prediction: 0.476</br>children: 1.2000000000000002</br></br>lead_time: 203.0</br>arrival_date_year: 2016.0</br>adults: 2.0</br>babies: 0.0</br>booking_changes: 4.0</br>_original_yhat_: 0.4764910638332367</br>"
          ],
          [
           "</br>id: observation</br>prediction: 0.476</br>children: 1.3</br></br>lead_time: 203.0</br>arrival_date_year: 2016.0</br>adults: 2.0</br>babies: 0.0</br>booking_changes: 4.0</br>_original_yhat_: 0.4764910638332367</br>"
          ],
          [
           "</br>id: observation</br>prediction: 0.476</br>children: 1.4000000000000001</br></br>lead_time: 203.0</br>arrival_date_year: 2016.0</br>adults: 2.0</br>babies: 0.0</br>booking_changes: 4.0</br>_original_yhat_: 0.4764910638332367</br>"
          ],
          [
           "</br>id: observation</br>prediction: 0.476</br>children: 1.5</br></br>lead_time: 203.0</br>arrival_date_year: 2016.0</br>adults: 2.0</br>babies: 0.0</br>booking_changes: 4.0</br>_original_yhat_: 0.4764910638332367</br>"
          ],
          [
           "</br>id: observation</br>prediction: 0.476</br>children: 1.6</br></br>lead_time: 203.0</br>arrival_date_year: 2016.0</br>adults: 2.0</br>babies: 0.0</br>booking_changes: 4.0</br>_original_yhat_: 0.4764910638332367</br>"
          ],
          [
           "</br>id: observation</br>prediction: 0.476</br>children: 1.7000000000000002</br></br>lead_time: 203.0</br>arrival_date_year: 2016.0</br>adults: 2.0</br>babies: 0.0</br>booking_changes: 4.0</br>_original_yhat_: 0.4764910638332367</br>"
          ],
          [
           "</br>id: observation</br>prediction: 0.476</br>children: 1.8</br></br>lead_time: 203.0</br>arrival_date_year: 2016.0</br>adults: 2.0</br>babies: 0.0</br>booking_changes: 4.0</br>_original_yhat_: 0.4764910638332367</br>"
          ],
          [
           "</br>id: observation</br>prediction: 0.476</br>children: 1.9000000000000001</br></br>lead_time: 203.0</br>arrival_date_year: 2016.0</br>adults: 2.0</br>babies: 0.0</br>booking_changes: 4.0</br>_original_yhat_: 0.4764910638332367</br>"
          ],
          [
           "</br>id: observation</br>prediction: 0.476</br>children: 2.0</br></br>lead_time: 203.0</br>arrival_date_year: 2016.0</br>adults: 2.0</br>babies: 0.0</br>booking_changes: 4.0</br>_original_yhat_: 0.4764910638332367</br>"
          ],
          [
           "</br>id: observation</br>prediction: 0.476</br>children: 2.1</br></br>lead_time: 203.0</br>arrival_date_year: 2016.0</br>adults: 2.0</br>babies: 0.0</br>booking_changes: 4.0</br>_original_yhat_: 0.4764910638332367</br>"
          ],
          [
           "</br>id: observation</br>prediction: 0.476</br>children: 2.2</br></br>lead_time: 203.0</br>arrival_date_year: 2016.0</br>adults: 2.0</br>babies: 0.0</br>booking_changes: 4.0</br>_original_yhat_: 0.4764910638332367</br>"
          ],
          [
           "</br>id: observation</br>prediction: 0.476</br>children: 2.3000000000000003</br></br>lead_time: 203.0</br>arrival_date_year: 2016.0</br>adults: 2.0</br>babies: 0.0</br>booking_changes: 4.0</br>_original_yhat_: 0.4764910638332367</br>"
          ],
          [
           "</br>id: observation</br>prediction: 0.476</br>children: 2.4000000000000004</br></br>lead_time: 203.0</br>arrival_date_year: 2016.0</br>adults: 2.0</br>babies: 0.0</br>booking_changes: 4.0</br>_original_yhat_: 0.4764910638332367</br>"
          ],
          [
           "</br>id: observation</br>prediction: 0.476</br>children: 2.5</br></br>lead_time: 203.0</br>arrival_date_year: 2016.0</br>adults: 2.0</br>babies: 0.0</br>booking_changes: 4.0</br>_original_yhat_: 0.4764910638332367</br>"
          ],
          [
           "</br>id: observation</br>prediction: 0.476</br>children: 2.6</br></br>lead_time: 203.0</br>arrival_date_year: 2016.0</br>adults: 2.0</br>babies: 0.0</br>booking_changes: 4.0</br>_original_yhat_: 0.4764910638332367</br>"
          ],
          [
           "</br>id: observation</br>prediction: 0.476</br>children: 2.7</br></br>lead_time: 203.0</br>arrival_date_year: 2016.0</br>adults: 2.0</br>babies: 0.0</br>booking_changes: 4.0</br>_original_yhat_: 0.4764910638332367</br>"
          ],
          [
           "</br>id: observation</br>prediction: 0.476</br>children: 2.8000000000000003</br></br>lead_time: 203.0</br>arrival_date_year: 2016.0</br>adults: 2.0</br>babies: 0.0</br>booking_changes: 4.0</br>_original_yhat_: 0.4764910638332367</br>"
          ],
          [
           "</br>id: observation</br>prediction: 0.476</br>children: 2.9000000000000004</br></br>lead_time: 203.0</br>arrival_date_year: 2016.0</br>adults: 2.0</br>babies: 0.0</br>booking_changes: 4.0</br>_original_yhat_: 0.4764910638332367</br>"
          ],
          [
           "</br>id: observation</br>prediction: 0.476</br>children: 3.0</br></br>lead_time: 203.0</br>arrival_date_year: 2016.0</br>adults: 2.0</br>babies: 0.0</br>booking_changes: 4.0</br>_original_yhat_: 0.4764910638332367</br>"
          ],
          [
           "</br>id: observation</br>prediction: 0.476</br>children: 3.1</br></br>lead_time: 203.0</br>arrival_date_year: 2016.0</br>adults: 2.0</br>babies: 0.0</br>booking_changes: 4.0</br>_original_yhat_: 0.4764910638332367</br>"
          ],
          [
           "</br>id: observation</br>prediction: 0.476</br>children: 3.2</br></br>lead_time: 203.0</br>arrival_date_year: 2016.0</br>adults: 2.0</br>babies: 0.0</br>booking_changes: 4.0</br>_original_yhat_: 0.4764910638332367</br>"
          ],
          [
           "</br>id: observation</br>prediction: 0.476</br>children: 3.3000000000000003</br></br>lead_time: 203.0</br>arrival_date_year: 2016.0</br>adults: 2.0</br>babies: 0.0</br>booking_changes: 4.0</br>_original_yhat_: 0.4764910638332367</br>"
          ],
          [
           "</br>id: observation</br>prediction: 0.476</br>children: 3.4000000000000004</br></br>lead_time: 203.0</br>arrival_date_year: 2016.0</br>adults: 2.0</br>babies: 0.0</br>booking_changes: 4.0</br>_original_yhat_: 0.4764910638332367</br>"
          ],
          [
           "</br>id: observation</br>prediction: 0.476</br>children: 3.5</br></br>lead_time: 203.0</br>arrival_date_year: 2016.0</br>adults: 2.0</br>babies: 0.0</br>booking_changes: 4.0</br>_original_yhat_: 0.4764910638332367</br>"
          ],
          [
           "</br>id: observation</br>prediction: 0.476</br>children: 3.6</br></br>lead_time: 203.0</br>arrival_date_year: 2016.0</br>adults: 2.0</br>babies: 0.0</br>booking_changes: 4.0</br>_original_yhat_: 0.4764910638332367</br>"
          ],
          [
           "</br>id: observation</br>prediction: 0.476</br>children: 3.7</br></br>lead_time: 203.0</br>arrival_date_year: 2016.0</br>adults: 2.0</br>babies: 0.0</br>booking_changes: 4.0</br>_original_yhat_: 0.4764910638332367</br>"
          ],
          [
           "</br>id: observation</br>prediction: 0.476</br>children: 3.8000000000000003</br></br>lead_time: 203.0</br>arrival_date_year: 2016.0</br>adults: 2.0</br>babies: 0.0</br>booking_changes: 4.0</br>_original_yhat_: 0.4764910638332367</br>"
          ],
          [
           "</br>id: observation</br>prediction: 0.476</br>children: 3.9000000000000004</br></br>lead_time: 203.0</br>arrival_date_year: 2016.0</br>adults: 2.0</br>babies: 0.0</br>booking_changes: 4.0</br>_original_yhat_: 0.4764910638332367</br>"
          ],
          [
           "</br>id: observation</br>prediction: 0.476</br>children: 4.0</br></br>lead_time: 203.0</br>arrival_date_year: 2016.0</br>adults: 2.0</br>babies: 0.0</br>booking_changes: 4.0</br>_original_yhat_: 0.4764910638332367</br>"
          ],
          [
           "</br>id: observation</br>prediction: 0.476</br>children: 4.1000000000000005</br></br>lead_time: 203.0</br>arrival_date_year: 2016.0</br>adults: 2.0</br>babies: 0.0</br>booking_changes: 4.0</br>_original_yhat_: 0.4764910638332367</br>"
          ],
          [
           "</br>id: observation</br>prediction: 0.476</br>children: 4.2</br></br>lead_time: 203.0</br>arrival_date_year: 2016.0</br>adults: 2.0</br>babies: 0.0</br>booking_changes: 4.0</br>_original_yhat_: 0.4764910638332367</br>"
          ],
          [
           "</br>id: observation</br>prediction: 0.476</br>children: 4.3</br></br>lead_time: 203.0</br>arrival_date_year: 2016.0</br>adults: 2.0</br>babies: 0.0</br>booking_changes: 4.0</br>_original_yhat_: 0.4764910638332367</br>"
          ],
          [
           "</br>id: observation</br>prediction: 0.476</br>children: 4.4</br></br>lead_time: 203.0</br>arrival_date_year: 2016.0</br>adults: 2.0</br>babies: 0.0</br>booking_changes: 4.0</br>_original_yhat_: 0.4764910638332367</br>"
          ],
          [
           "</br>id: observation</br>prediction: 0.476</br>children: 4.5</br></br>lead_time: 203.0</br>arrival_date_year: 2016.0</br>adults: 2.0</br>babies: 0.0</br>booking_changes: 4.0</br>_original_yhat_: 0.4764910638332367</br>"
          ],
          [
           "</br>id: observation</br>prediction: 0.476</br>children: 4.6000000000000005</br></br>lead_time: 203.0</br>arrival_date_year: 2016.0</br>adults: 2.0</br>babies: 0.0</br>booking_changes: 4.0</br>_original_yhat_: 0.4764910638332367</br>"
          ],
          [
           "</br>id: observation</br>prediction: 0.476</br>children: 4.7</br></br>lead_time: 203.0</br>arrival_date_year: 2016.0</br>adults: 2.0</br>babies: 0.0</br>booking_changes: 4.0</br>_original_yhat_: 0.4764910638332367</br>"
          ],
          [
           "</br>id: observation</br>prediction: 0.476</br>children: 4.800000000000001</br></br>lead_time: 203.0</br>arrival_date_year: 2016.0</br>adults: 2.0</br>babies: 0.0</br>booking_changes: 4.0</br>_original_yhat_: 0.4764910638332367</br>"
          ],
          [
           "</br>id: observation</br>prediction: 0.476</br>children: 4.9</br></br>lead_time: 203.0</br>arrival_date_year: 2016.0</br>adults: 2.0</br>babies: 0.0</br>booking_changes: 4.0</br>_original_yhat_: 0.4764910638332367</br>"
          ],
          [
           "</br>id: observation</br>prediction: 0.476</br>children: 5.0</br></br>lead_time: 203.0</br>arrival_date_year: 2016.0</br>adults: 2.0</br>babies: 0.0</br>booking_changes: 4.0</br>_original_yhat_: 0.4764910638332367</br>"
          ],
          [
           "</br>id: observation</br>prediction: 0.476</br>children: 5.1000000000000005</br></br>lead_time: 203.0</br>arrival_date_year: 2016.0</br>adults: 2.0</br>babies: 0.0</br>booking_changes: 4.0</br>_original_yhat_: 0.4764910638332367</br>"
          ],
          [
           "</br>id: observation</br>prediction: 0.476</br>children: 5.2</br></br>lead_time: 203.0</br>arrival_date_year: 2016.0</br>adults: 2.0</br>babies: 0.0</br>booking_changes: 4.0</br>_original_yhat_: 0.4764910638332367</br>"
          ],
          [
           "</br>id: observation</br>prediction: 0.476</br>children: 5.300000000000001</br></br>lead_time: 203.0</br>arrival_date_year: 2016.0</br>adults: 2.0</br>babies: 0.0</br>booking_changes: 4.0</br>_original_yhat_: 0.4764910638332367</br>"
          ],
          [
           "</br>id: observation</br>prediction: 0.476</br>children: 5.4</br></br>lead_time: 203.0</br>arrival_date_year: 2016.0</br>adults: 2.0</br>babies: 0.0</br>booking_changes: 4.0</br>_original_yhat_: 0.4764910638332367</br>"
          ],
          [
           "</br>id: observation</br>prediction: 0.476</br>children: 5.5</br></br>lead_time: 203.0</br>arrival_date_year: 2016.0</br>adults: 2.0</br>babies: 0.0</br>booking_changes: 4.0</br>_original_yhat_: 0.4764910638332367</br>"
          ],
          [
           "</br>id: observation</br>prediction: 0.476</br>children: 5.6000000000000005</br></br>lead_time: 203.0</br>arrival_date_year: 2016.0</br>adults: 2.0</br>babies: 0.0</br>booking_changes: 4.0</br>_original_yhat_: 0.4764910638332367</br>"
          ],
          [
           "</br>id: observation</br>prediction: 0.476</br>children: 5.7</br></br>lead_time: 203.0</br>arrival_date_year: 2016.0</br>adults: 2.0</br>babies: 0.0</br>booking_changes: 4.0</br>_original_yhat_: 0.4764910638332367</br>"
          ],
          [
           "</br>id: observation</br>prediction: 0.476</br>children: 5.800000000000001</br></br>lead_time: 203.0</br>arrival_date_year: 2016.0</br>adults: 2.0</br>babies: 0.0</br>booking_changes: 4.0</br>_original_yhat_: 0.4764910638332367</br>"
          ],
          [
           "</br>id: observation</br>prediction: 0.476</br>children: 5.9</br></br>lead_time: 203.0</br>arrival_date_year: 2016.0</br>adults: 2.0</br>babies: 0.0</br>booking_changes: 4.0</br>_original_yhat_: 0.4764910638332367</br>"
          ],
          [
           "</br>id: observation</br>prediction: 0.476</br>children: 6.0</br></br>lead_time: 203.0</br>arrival_date_year: 2016.0</br>adults: 2.0</br>babies: 0.0</br>booking_changes: 4.0</br>_original_yhat_: 0.4764910638332367</br>"
          ],
          [
           "</br>id: observation</br>prediction: 0.476</br>children: 6.1000000000000005</br></br>lead_time: 203.0</br>arrival_date_year: 2016.0</br>adults: 2.0</br>babies: 0.0</br>booking_changes: 4.0</br>_original_yhat_: 0.4764910638332367</br>"
          ],
          [
           "</br>id: observation</br>prediction: 0.476</br>children: 6.2</br></br>lead_time: 203.0</br>arrival_date_year: 2016.0</br>adults: 2.0</br>babies: 0.0</br>booking_changes: 4.0</br>_original_yhat_: 0.4764910638332367</br>"
          ],
          [
           "</br>id: observation</br>prediction: 0.476</br>children: 6.300000000000001</br></br>lead_time: 203.0</br>arrival_date_year: 2016.0</br>adults: 2.0</br>babies: 0.0</br>booking_changes: 4.0</br>_original_yhat_: 0.4764910638332367</br>"
          ],
          [
           "</br>id: observation</br>prediction: 0.476</br>children: 6.4</br></br>lead_time: 203.0</br>arrival_date_year: 2016.0</br>adults: 2.0</br>babies: 0.0</br>booking_changes: 4.0</br>_original_yhat_: 0.4764910638332367</br>"
          ],
          [
           "</br>id: observation</br>prediction: 0.476</br>children: 6.5</br></br>lead_time: 203.0</br>arrival_date_year: 2016.0</br>adults: 2.0</br>babies: 0.0</br>booking_changes: 4.0</br>_original_yhat_: 0.4764910638332367</br>"
          ],
          [
           "</br>id: observation</br>prediction: 0.476</br>children: 6.6000000000000005</br></br>lead_time: 203.0</br>arrival_date_year: 2016.0</br>adults: 2.0</br>babies: 0.0</br>booking_changes: 4.0</br>_original_yhat_: 0.4764910638332367</br>"
          ],
          [
           "</br>id: observation</br>prediction: 0.476</br>children: 6.7</br></br>lead_time: 203.0</br>arrival_date_year: 2016.0</br>adults: 2.0</br>babies: 0.0</br>booking_changes: 4.0</br>_original_yhat_: 0.4764910638332367</br>"
          ],
          [
           "</br>id: observation</br>prediction: 0.476</br>children: 6.800000000000001</br></br>lead_time: 203.0</br>arrival_date_year: 2016.0</br>adults: 2.0</br>babies: 0.0</br>booking_changes: 4.0</br>_original_yhat_: 0.4764910638332367</br>"
          ],
          [
           "</br>id: observation</br>prediction: 0.476</br>children: 6.9</br></br>lead_time: 203.0</br>arrival_date_year: 2016.0</br>adults: 2.0</br>babies: 0.0</br>booking_changes: 4.0</br>_original_yhat_: 0.4764910638332367</br>"
          ],
          [
           "</br>id: observation</br>prediction: 0.476</br>children: 7.0</br></br>lead_time: 203.0</br>arrival_date_year: 2016.0</br>adults: 2.0</br>babies: 0.0</br>booking_changes: 4.0</br>_original_yhat_: 0.4764910638332367</br>"
          ],
          [
           "</br>id: observation</br>prediction: 0.476</br>children: 7.1000000000000005</br></br>lead_time: 203.0</br>arrival_date_year: 2016.0</br>adults: 2.0</br>babies: 0.0</br>booking_changes: 4.0</br>_original_yhat_: 0.4764910638332367</br>"
          ],
          [
           "</br>id: observation</br>prediction: 0.476</br>children: 7.2</br></br>lead_time: 203.0</br>arrival_date_year: 2016.0</br>adults: 2.0</br>babies: 0.0</br>booking_changes: 4.0</br>_original_yhat_: 0.4764910638332367</br>"
          ],
          [
           "</br>id: observation</br>prediction: 0.476</br>children: 7.300000000000001</br></br>lead_time: 203.0</br>arrival_date_year: 2016.0</br>adults: 2.0</br>babies: 0.0</br>booking_changes: 4.0</br>_original_yhat_: 0.4764910638332367</br>"
          ],
          [
           "</br>id: observation</br>prediction: 0.476</br>children: 7.4</br></br>lead_time: 203.0</br>arrival_date_year: 2016.0</br>adults: 2.0</br>babies: 0.0</br>booking_changes: 4.0</br>_original_yhat_: 0.4764910638332367</br>"
          ],
          [
           "</br>id: observation</br>prediction: 0.476</br>children: 7.5</br></br>lead_time: 203.0</br>arrival_date_year: 2016.0</br>adults: 2.0</br>babies: 0.0</br>booking_changes: 4.0</br>_original_yhat_: 0.4764910638332367</br>"
          ],
          [
           "</br>id: observation</br>prediction: 0.476</br>children: 7.6000000000000005</br></br>lead_time: 203.0</br>arrival_date_year: 2016.0</br>adults: 2.0</br>babies: 0.0</br>booking_changes: 4.0</br>_original_yhat_: 0.4764910638332367</br>"
          ],
          [
           "</br>id: observation</br>prediction: 0.476</br>children: 7.7</br></br>lead_time: 203.0</br>arrival_date_year: 2016.0</br>adults: 2.0</br>babies: 0.0</br>booking_changes: 4.0</br>_original_yhat_: 0.4764910638332367</br>"
          ],
          [
           "</br>id: observation</br>prediction: 0.476</br>children: 7.800000000000001</br></br>lead_time: 203.0</br>arrival_date_year: 2016.0</br>adults: 2.0</br>babies: 0.0</br>booking_changes: 4.0</br>_original_yhat_: 0.4764910638332367</br>"
          ],
          [
           "</br>id: observation</br>prediction: 0.476</br>children: 7.9</br></br>lead_time: 203.0</br>arrival_date_year: 2016.0</br>adults: 2.0</br>babies: 0.0</br>booking_changes: 4.0</br>_original_yhat_: 0.4764910638332367</br>"
          ],
          [
           "</br>id: observation</br>prediction: 0.476</br>children: 8.0</br></br>lead_time: 203.0</br>arrival_date_year: 2016.0</br>adults: 2.0</br>babies: 0.0</br>booking_changes: 4.0</br>_original_yhat_: 0.4764910638332367</br>"
          ],
          [
           "</br>id: observation</br>prediction: 0.476</br>children: 8.1</br></br>lead_time: 203.0</br>arrival_date_year: 2016.0</br>adults: 2.0</br>babies: 0.0</br>booking_changes: 4.0</br>_original_yhat_: 0.4764910638332367</br>"
          ],
          [
           "</br>id: observation</br>prediction: 0.476</br>children: 8.200000000000001</br></br>lead_time: 203.0</br>arrival_date_year: 2016.0</br>adults: 2.0</br>babies: 0.0</br>booking_changes: 4.0</br>_original_yhat_: 0.4764910638332367</br>"
          ],
          [
           "</br>id: observation</br>prediction: 0.476</br>children: 8.3</br></br>lead_time: 203.0</br>arrival_date_year: 2016.0</br>adults: 2.0</br>babies: 0.0</br>booking_changes: 4.0</br>_original_yhat_: 0.4764910638332367</br>"
          ],
          [
           "</br>id: observation</br>prediction: 0.476</br>children: 8.4</br></br>lead_time: 203.0</br>arrival_date_year: 2016.0</br>adults: 2.0</br>babies: 0.0</br>booking_changes: 4.0</br>_original_yhat_: 0.4764910638332367</br>"
          ],
          [
           "</br>id: observation</br>prediction: 0.476</br>children: 8.5</br></br>lead_time: 203.0</br>arrival_date_year: 2016.0</br>adults: 2.0</br>babies: 0.0</br>booking_changes: 4.0</br>_original_yhat_: 0.4764910638332367</br>"
          ],
          [
           "</br>id: observation</br>prediction: 0.476</br>children: 8.6</br></br>lead_time: 203.0</br>arrival_date_year: 2016.0</br>adults: 2.0</br>babies: 0.0</br>booking_changes: 4.0</br>_original_yhat_: 0.4764910638332367</br>"
          ],
          [
           "</br>id: observation</br>prediction: 0.476</br>children: 8.700000000000001</br></br>lead_time: 203.0</br>arrival_date_year: 2016.0</br>adults: 2.0</br>babies: 0.0</br>booking_changes: 4.0</br>_original_yhat_: 0.4764910638332367</br>"
          ],
          [
           "</br>id: observation</br>prediction: 0.476</br>children: 8.8</br></br>lead_time: 203.0</br>arrival_date_year: 2016.0</br>adults: 2.0</br>babies: 0.0</br>booking_changes: 4.0</br>_original_yhat_: 0.4764910638332367</br>"
          ],
          [
           "</br>id: observation</br>prediction: 0.476</br>children: 8.9</br></br>lead_time: 203.0</br>arrival_date_year: 2016.0</br>adults: 2.0</br>babies: 0.0</br>booking_changes: 4.0</br>_original_yhat_: 0.4764910638332367</br>"
          ],
          [
           "</br>id: observation</br>prediction: 0.476</br>children: 9.0</br></br>lead_time: 203.0</br>arrival_date_year: 2016.0</br>adults: 2.0</br>babies: 0.0</br>booking_changes: 4.0</br>_original_yhat_: 0.4764910638332367</br>"
          ],
          [
           "</br>id: observation</br>prediction: 0.476</br>children: 9.1</br></br>lead_time: 203.0</br>arrival_date_year: 2016.0</br>adults: 2.0</br>babies: 0.0</br>booking_changes: 4.0</br>_original_yhat_: 0.4764910638332367</br>"
          ],
          [
           "</br>id: observation</br>prediction: 0.476</br>children: 9.200000000000001</br></br>lead_time: 203.0</br>arrival_date_year: 2016.0</br>adults: 2.0</br>babies: 0.0</br>booking_changes: 4.0</br>_original_yhat_: 0.4764910638332367</br>"
          ],
          [
           "</br>id: observation</br>prediction: 0.476</br>children: 9.3</br></br>lead_time: 203.0</br>arrival_date_year: 2016.0</br>adults: 2.0</br>babies: 0.0</br>booking_changes: 4.0</br>_original_yhat_: 0.4764910638332367</br>"
          ],
          [
           "</br>id: observation</br>prediction: 0.476</br>children: 9.4</br></br>lead_time: 203.0</br>arrival_date_year: 2016.0</br>adults: 2.0</br>babies: 0.0</br>booking_changes: 4.0</br>_original_yhat_: 0.4764910638332367</br>"
          ],
          [
           "</br>id: observation</br>prediction: 0.476</br>children: 9.5</br></br>lead_time: 203.0</br>arrival_date_year: 2016.0</br>adults: 2.0</br>babies: 0.0</br>booking_changes: 4.0</br>_original_yhat_: 0.4764910638332367</br>"
          ],
          [
           "</br>id: observation</br>prediction: 0.476</br>children: 9.600000000000001</br></br>lead_time: 203.0</br>arrival_date_year: 2016.0</br>adults: 2.0</br>babies: 0.0</br>booking_changes: 4.0</br>_original_yhat_: 0.4764910638332367</br>"
          ],
          [
           "</br>id: observation</br>prediction: 0.476</br>children: 9.700000000000001</br></br>lead_time: 203.0</br>arrival_date_year: 2016.0</br>adults: 2.0</br>babies: 0.0</br>booking_changes: 4.0</br>_original_yhat_: 0.4764910638332367</br>"
          ],
          [
           "</br>id: observation</br>prediction: 0.476</br>children: 9.8</br></br>lead_time: 203.0</br>arrival_date_year: 2016.0</br>adults: 2.0</br>babies: 0.0</br>booking_changes: 4.0</br>_original_yhat_: 0.4764910638332367</br>"
          ],
          [
           "</br>id: observation</br>prediction: 0.476</br>children: 9.9</br></br>lead_time: 203.0</br>arrival_date_year: 2016.0</br>adults: 2.0</br>babies: 0.0</br>booking_changes: 4.0</br>_original_yhat_: 0.4764910638332367</br>"
          ],
          [
           "</br>id: observation</br>prediction: 0.476</br>children: 10.0</br></br>lead_time: 203.0</br>arrival_date_year: 2016.0</br>adults: 2.0</br>babies: 0.0</br>booking_changes: 4.0</br>_original_yhat_: 0.4764910638332367</br>"
          ]
         ],
         "hovertemplate": "%{customdata[0]}<extra></extra>",
         "legendgroup": "neural_network",
         "line": {
          "color": "#46bac2",
          "dash": "solid",
          "width": 2
         },
         "marker": {
          "symbol": "circle"
         },
         "mode": "lines",
         "name": "neural_network",
         "opacity": 1,
         "orientation": "v",
         "showlegend": false,
         "type": "scatter",
         "x": [
          0,
          0.1,
          0.2,
          0.30000000000000004,
          0.4,
          0.5,
          0.6000000000000001,
          0.7000000000000001,
          0.8,
          0.9,
          1,
          1.1,
          1.2000000000000002,
          1.3,
          1.4000000000000001,
          1.5,
          1.6,
          1.7000000000000002,
          1.8,
          1.9000000000000001,
          2,
          2.1,
          2.2,
          2.3000000000000003,
          2.4000000000000004,
          2.5,
          2.6,
          2.7,
          2.8000000000000003,
          2.9000000000000004,
          3,
          3.1,
          3.2,
          3.3000000000000003,
          3.4000000000000004,
          3.5,
          3.6,
          3.7,
          3.8000000000000003,
          3.9000000000000004,
          4,
          4.1000000000000005,
          4.2,
          4.3,
          4.4,
          4.5,
          4.6000000000000005,
          4.7,
          4.800000000000001,
          4.9,
          5,
          5.1000000000000005,
          5.2,
          5.300000000000001,
          5.4,
          5.5,
          5.6000000000000005,
          5.7,
          5.800000000000001,
          5.9,
          6,
          6.1000000000000005,
          6.2,
          6.300000000000001,
          6.4,
          6.5,
          6.6000000000000005,
          6.7,
          6.800000000000001,
          6.9,
          7,
          7.1000000000000005,
          7.2,
          7.300000000000001,
          7.4,
          7.5,
          7.6000000000000005,
          7.7,
          7.800000000000001,
          7.9,
          8,
          8.1,
          8.200000000000001,
          8.3,
          8.4,
          8.5,
          8.6,
          8.700000000000001,
          8.8,
          8.9,
          9,
          9.1,
          9.200000000000001,
          9.3,
          9.4,
          9.5,
          9.600000000000001,
          9.700000000000001,
          9.8,
          9.9,
          10
         ],
         "xaxis": "x4",
         "y": [
          0.4764910638332367,
          0.4764910638332367,
          0.4764910638332367,
          0.4764910638332367,
          0.4764910638332367,
          0.4764910638332367,
          0.4764910638332367,
          0.4764910638332367,
          0.4764910638332367,
          0.4764910638332367,
          0.4764910638332367,
          0.4764910638332367,
          0.4764910638332367,
          0.4764910638332367,
          0.4764910638332367,
          0.4764910638332367,
          0.4764910638332367,
          0.4764910638332367,
          0.4764910638332367,
          0.4764910638332367,
          0.4764910638332367,
          0.4764910638332367,
          0.4764910638332367,
          0.4764910638332367,
          0.4764910638332367,
          0.4764910638332367,
          0.4764910638332367,
          0.4764910638332367,
          0.4764910638332367,
          0.4764910638332367,
          0.4764910638332367,
          0.4764910638332367,
          0.4764910638332367,
          0.4764910638332367,
          0.4764910638332367,
          0.4764910638332367,
          0.4764910638332367,
          0.4764910638332367,
          0.4764910638332367,
          0.4764910638332367,
          0.4764910638332367,
          0.4764910638332367,
          0.4764910638332367,
          0.4764910638332367,
          0.4764910638332367,
          0.4764910638332367,
          0.4764910638332367,
          0.4764910638332367,
          0.4764910638332367,
          0.4764910638332367,
          0.4764910638332367,
          0.4764910638332367,
          0.4764910638332367,
          0.4764910638332367,
          0.4764910638332367,
          0.4764910638332367,
          0.4764910638332367,
          0.4764910638332367,
          0.4764910638332367,
          0.4764910638332367,
          0.4764910638332367,
          0.4764910638332367,
          0.4764910638332367,
          0.4764910638332367,
          0.4764910638332367,
          0.4764910638332367,
          0.4764910638332367,
          0.4764910638332367,
          0.4764910638332367,
          0.4764910638332367,
          0.4764910638332367,
          0.4764910638332367,
          0.4764910638332367,
          0.4764910638332367,
          0.4764910638332367,
          0.4764910638332367,
          0.4764910638332367,
          0.4764910638332367,
          0.4764910638332367,
          0.4764910638332367,
          0.4764910638332367,
          0.4764910638332367,
          0.4764910638332367,
          0.4764910638332367,
          0.4764910638332367,
          0.4764910638332367,
          0.4764910638332367,
          0.4764910638332367,
          0.4764910638332367,
          0.4764910638332367,
          0.4764910638332367,
          0.4764910638332367,
          0.4764910638332367,
          0.4764910638332367,
          0.4764910638332367,
          0.4764910638332367,
          0.4764910638332367,
          0.4764910638332367,
          0.4764910638332367,
          0.4764910638332367,
          0.4764910638332367
         ],
         "yaxis": "y4"
        },
        {
         "customdata": [
          [
           "</br>id: observation</br>prediction: 0.476</br>babies: 0.0</br></br>lead_time: 203.0</br>arrival_date_year: 2016.0</br>adults: 2.0</br>children: 0.0</br>booking_changes: 4.0</br>_original_yhat_: 0.4764910638332367</br>"
          ],
          [
           "</br>id: observation</br>prediction: 0.476</br>babies: 0.1</br></br>lead_time: 203.0</br>arrival_date_year: 2016.0</br>adults: 2.0</br>children: 0.0</br>booking_changes: 4.0</br>_original_yhat_: 0.4764910638332367</br>"
          ],
          [
           "</br>id: observation</br>prediction: 0.476</br>babies: 0.2</br></br>lead_time: 203.0</br>arrival_date_year: 2016.0</br>adults: 2.0</br>children: 0.0</br>booking_changes: 4.0</br>_original_yhat_: 0.4764910638332367</br>"
          ],
          [
           "</br>id: observation</br>prediction: 0.476</br>babies: 0.30000000000000004</br></br>lead_time: 203.0</br>arrival_date_year: 2016.0</br>adults: 2.0</br>children: 0.0</br>booking_changes: 4.0</br>_original_yhat_: 0.4764910638332367</br>"
          ],
          [
           "</br>id: observation</br>prediction: 0.476</br>babies: 0.4</br></br>lead_time: 203.0</br>arrival_date_year: 2016.0</br>adults: 2.0</br>children: 0.0</br>booking_changes: 4.0</br>_original_yhat_: 0.4764910638332367</br>"
          ],
          [
           "</br>id: observation</br>prediction: 0.476</br>babies: 0.5</br></br>lead_time: 203.0</br>arrival_date_year: 2016.0</br>adults: 2.0</br>children: 0.0</br>booking_changes: 4.0</br>_original_yhat_: 0.4764910638332367</br>"
          ],
          [
           "</br>id: observation</br>prediction: 0.476</br>babies: 0.6000000000000001</br></br>lead_time: 203.0</br>arrival_date_year: 2016.0</br>adults: 2.0</br>children: 0.0</br>booking_changes: 4.0</br>_original_yhat_: 0.4764910638332367</br>"
          ],
          [
           "</br>id: observation</br>prediction: 0.476</br>babies: 0.7000000000000001</br></br>lead_time: 203.0</br>arrival_date_year: 2016.0</br>adults: 2.0</br>children: 0.0</br>booking_changes: 4.0</br>_original_yhat_: 0.4764910638332367</br>"
          ],
          [
           "</br>id: observation</br>prediction: 0.476</br>babies: 0.8</br></br>lead_time: 203.0</br>arrival_date_year: 2016.0</br>adults: 2.0</br>children: 0.0</br>booking_changes: 4.0</br>_original_yhat_: 0.4764910638332367</br>"
          ],
          [
           "</br>id: observation</br>prediction: 0.476</br>babies: 0.9</br></br>lead_time: 203.0</br>arrival_date_year: 2016.0</br>adults: 2.0</br>children: 0.0</br>booking_changes: 4.0</br>_original_yhat_: 0.4764910638332367</br>"
          ],
          [
           "</br>id: observation</br>prediction: 0.476</br>babies: 1.0</br></br>lead_time: 203.0</br>arrival_date_year: 2016.0</br>adults: 2.0</br>children: 0.0</br>booking_changes: 4.0</br>_original_yhat_: 0.4764910638332367</br>"
          ],
          [
           "</br>id: observation</br>prediction: 0.476</br>babies: 1.1</br></br>lead_time: 203.0</br>arrival_date_year: 2016.0</br>adults: 2.0</br>children: 0.0</br>booking_changes: 4.0</br>_original_yhat_: 0.4764910638332367</br>"
          ],
          [
           "</br>id: observation</br>prediction: 0.476</br>babies: 1.2000000000000002</br></br>lead_time: 203.0</br>arrival_date_year: 2016.0</br>adults: 2.0</br>children: 0.0</br>booking_changes: 4.0</br>_original_yhat_: 0.4764910638332367</br>"
          ],
          [
           "</br>id: observation</br>prediction: 0.476</br>babies: 1.3</br></br>lead_time: 203.0</br>arrival_date_year: 2016.0</br>adults: 2.0</br>children: 0.0</br>booking_changes: 4.0</br>_original_yhat_: 0.4764910638332367</br>"
          ],
          [
           "</br>id: observation</br>prediction: 0.476</br>babies: 1.4000000000000001</br></br>lead_time: 203.0</br>arrival_date_year: 2016.0</br>adults: 2.0</br>children: 0.0</br>booking_changes: 4.0</br>_original_yhat_: 0.4764910638332367</br>"
          ],
          [
           "</br>id: observation</br>prediction: 0.476</br>babies: 1.5</br></br>lead_time: 203.0</br>arrival_date_year: 2016.0</br>adults: 2.0</br>children: 0.0</br>booking_changes: 4.0</br>_original_yhat_: 0.4764910638332367</br>"
          ],
          [
           "</br>id: observation</br>prediction: 0.476</br>babies: 1.6</br></br>lead_time: 203.0</br>arrival_date_year: 2016.0</br>adults: 2.0</br>children: 0.0</br>booking_changes: 4.0</br>_original_yhat_: 0.4764910638332367</br>"
          ],
          [
           "</br>id: observation</br>prediction: 0.476</br>babies: 1.7000000000000002</br></br>lead_time: 203.0</br>arrival_date_year: 2016.0</br>adults: 2.0</br>children: 0.0</br>booking_changes: 4.0</br>_original_yhat_: 0.4764910638332367</br>"
          ],
          [
           "</br>id: observation</br>prediction: 0.476</br>babies: 1.8</br></br>lead_time: 203.0</br>arrival_date_year: 2016.0</br>adults: 2.0</br>children: 0.0</br>booking_changes: 4.0</br>_original_yhat_: 0.4764910638332367</br>"
          ],
          [
           "</br>id: observation</br>prediction: 0.476</br>babies: 1.9000000000000001</br></br>lead_time: 203.0</br>arrival_date_year: 2016.0</br>adults: 2.0</br>children: 0.0</br>booking_changes: 4.0</br>_original_yhat_: 0.4764910638332367</br>"
          ],
          [
           "</br>id: observation</br>prediction: 0.476</br>babies: 2.0</br></br>lead_time: 203.0</br>arrival_date_year: 2016.0</br>adults: 2.0</br>children: 0.0</br>booking_changes: 4.0</br>_original_yhat_: 0.4764910638332367</br>"
          ],
          [
           "</br>id: observation</br>prediction: 0.476</br>babies: 2.1</br></br>lead_time: 203.0</br>arrival_date_year: 2016.0</br>adults: 2.0</br>children: 0.0</br>booking_changes: 4.0</br>_original_yhat_: 0.4764910638332367</br>"
          ],
          [
           "</br>id: observation</br>prediction: 0.476</br>babies: 2.2</br></br>lead_time: 203.0</br>arrival_date_year: 2016.0</br>adults: 2.0</br>children: 0.0</br>booking_changes: 4.0</br>_original_yhat_: 0.4764910638332367</br>"
          ],
          [
           "</br>id: observation</br>prediction: 0.476</br>babies: 2.3000000000000003</br></br>lead_time: 203.0</br>arrival_date_year: 2016.0</br>adults: 2.0</br>children: 0.0</br>booking_changes: 4.0</br>_original_yhat_: 0.4764910638332367</br>"
          ],
          [
           "</br>id: observation</br>prediction: 0.476</br>babies: 2.4000000000000004</br></br>lead_time: 203.0</br>arrival_date_year: 2016.0</br>adults: 2.0</br>children: 0.0</br>booking_changes: 4.0</br>_original_yhat_: 0.4764910638332367</br>"
          ],
          [
           "</br>id: observation</br>prediction: 0.476</br>babies: 2.5</br></br>lead_time: 203.0</br>arrival_date_year: 2016.0</br>adults: 2.0</br>children: 0.0</br>booking_changes: 4.0</br>_original_yhat_: 0.4764910638332367</br>"
          ],
          [
           "</br>id: observation</br>prediction: 0.476</br>babies: 2.6</br></br>lead_time: 203.0</br>arrival_date_year: 2016.0</br>adults: 2.0</br>children: 0.0</br>booking_changes: 4.0</br>_original_yhat_: 0.4764910638332367</br>"
          ],
          [
           "</br>id: observation</br>prediction: 0.476</br>babies: 2.7</br></br>lead_time: 203.0</br>arrival_date_year: 2016.0</br>adults: 2.0</br>children: 0.0</br>booking_changes: 4.0</br>_original_yhat_: 0.4764910638332367</br>"
          ],
          [
           "</br>id: observation</br>prediction: 0.476</br>babies: 2.8000000000000003</br></br>lead_time: 203.0</br>arrival_date_year: 2016.0</br>adults: 2.0</br>children: 0.0</br>booking_changes: 4.0</br>_original_yhat_: 0.4764910638332367</br>"
          ],
          [
           "</br>id: observation</br>prediction: 0.476</br>babies: 2.9000000000000004</br></br>lead_time: 203.0</br>arrival_date_year: 2016.0</br>adults: 2.0</br>children: 0.0</br>booking_changes: 4.0</br>_original_yhat_: 0.4764910638332367</br>"
          ],
          [
           "</br>id: observation</br>prediction: 0.476</br>babies: 3.0</br></br>lead_time: 203.0</br>arrival_date_year: 2016.0</br>adults: 2.0</br>children: 0.0</br>booking_changes: 4.0</br>_original_yhat_: 0.4764910638332367</br>"
          ],
          [
           "</br>id: observation</br>prediction: 0.476</br>babies: 3.1</br></br>lead_time: 203.0</br>arrival_date_year: 2016.0</br>adults: 2.0</br>children: 0.0</br>booking_changes: 4.0</br>_original_yhat_: 0.4764910638332367</br>"
          ],
          [
           "</br>id: observation</br>prediction: 0.476</br>babies: 3.2</br></br>lead_time: 203.0</br>arrival_date_year: 2016.0</br>adults: 2.0</br>children: 0.0</br>booking_changes: 4.0</br>_original_yhat_: 0.4764910638332367</br>"
          ],
          [
           "</br>id: observation</br>prediction: 0.476</br>babies: 3.3000000000000003</br></br>lead_time: 203.0</br>arrival_date_year: 2016.0</br>adults: 2.0</br>children: 0.0</br>booking_changes: 4.0</br>_original_yhat_: 0.4764910638332367</br>"
          ],
          [
           "</br>id: observation</br>prediction: 0.476</br>babies: 3.4000000000000004</br></br>lead_time: 203.0</br>arrival_date_year: 2016.0</br>adults: 2.0</br>children: 0.0</br>booking_changes: 4.0</br>_original_yhat_: 0.4764910638332367</br>"
          ],
          [
           "</br>id: observation</br>prediction: 0.476</br>babies: 3.5</br></br>lead_time: 203.0</br>arrival_date_year: 2016.0</br>adults: 2.0</br>children: 0.0</br>booking_changes: 4.0</br>_original_yhat_: 0.4764910638332367</br>"
          ],
          [
           "</br>id: observation</br>prediction: 0.476</br>babies: 3.6</br></br>lead_time: 203.0</br>arrival_date_year: 2016.0</br>adults: 2.0</br>children: 0.0</br>booking_changes: 4.0</br>_original_yhat_: 0.4764910638332367</br>"
          ],
          [
           "</br>id: observation</br>prediction: 0.476</br>babies: 3.7</br></br>lead_time: 203.0</br>arrival_date_year: 2016.0</br>adults: 2.0</br>children: 0.0</br>booking_changes: 4.0</br>_original_yhat_: 0.4764910638332367</br>"
          ],
          [
           "</br>id: observation</br>prediction: 0.476</br>babies: 3.8000000000000003</br></br>lead_time: 203.0</br>arrival_date_year: 2016.0</br>adults: 2.0</br>children: 0.0</br>booking_changes: 4.0</br>_original_yhat_: 0.4764910638332367</br>"
          ],
          [
           "</br>id: observation</br>prediction: 0.476</br>babies: 3.9000000000000004</br></br>lead_time: 203.0</br>arrival_date_year: 2016.0</br>adults: 2.0</br>children: 0.0</br>booking_changes: 4.0</br>_original_yhat_: 0.4764910638332367</br>"
          ],
          [
           "</br>id: observation</br>prediction: 0.476</br>babies: 4.0</br></br>lead_time: 203.0</br>arrival_date_year: 2016.0</br>adults: 2.0</br>children: 0.0</br>booking_changes: 4.0</br>_original_yhat_: 0.4764910638332367</br>"
          ],
          [
           "</br>id: observation</br>prediction: 0.476</br>babies: 4.1000000000000005</br></br>lead_time: 203.0</br>arrival_date_year: 2016.0</br>adults: 2.0</br>children: 0.0</br>booking_changes: 4.0</br>_original_yhat_: 0.4764910638332367</br>"
          ],
          [
           "</br>id: observation</br>prediction: 0.476</br>babies: 4.2</br></br>lead_time: 203.0</br>arrival_date_year: 2016.0</br>adults: 2.0</br>children: 0.0</br>booking_changes: 4.0</br>_original_yhat_: 0.4764910638332367</br>"
          ],
          [
           "</br>id: observation</br>prediction: 0.476</br>babies: 4.3</br></br>lead_time: 203.0</br>arrival_date_year: 2016.0</br>adults: 2.0</br>children: 0.0</br>booking_changes: 4.0</br>_original_yhat_: 0.4764910638332367</br>"
          ],
          [
           "</br>id: observation</br>prediction: 0.476</br>babies: 4.4</br></br>lead_time: 203.0</br>arrival_date_year: 2016.0</br>adults: 2.0</br>children: 0.0</br>booking_changes: 4.0</br>_original_yhat_: 0.4764910638332367</br>"
          ],
          [
           "</br>id: observation</br>prediction: 0.476</br>babies: 4.5</br></br>lead_time: 203.0</br>arrival_date_year: 2016.0</br>adults: 2.0</br>children: 0.0</br>booking_changes: 4.0</br>_original_yhat_: 0.4764910638332367</br>"
          ],
          [
           "</br>id: observation</br>prediction: 0.476</br>babies: 4.6000000000000005</br></br>lead_time: 203.0</br>arrival_date_year: 2016.0</br>adults: 2.0</br>children: 0.0</br>booking_changes: 4.0</br>_original_yhat_: 0.4764910638332367</br>"
          ],
          [
           "</br>id: observation</br>prediction: 0.476</br>babies: 4.7</br></br>lead_time: 203.0</br>arrival_date_year: 2016.0</br>adults: 2.0</br>children: 0.0</br>booking_changes: 4.0</br>_original_yhat_: 0.4764910638332367</br>"
          ],
          [
           "</br>id: observation</br>prediction: 0.476</br>babies: 4.800000000000001</br></br>lead_time: 203.0</br>arrival_date_year: 2016.0</br>adults: 2.0</br>children: 0.0</br>booking_changes: 4.0</br>_original_yhat_: 0.4764910638332367</br>"
          ],
          [
           "</br>id: observation</br>prediction: 0.476</br>babies: 4.9</br></br>lead_time: 203.0</br>arrival_date_year: 2016.0</br>adults: 2.0</br>children: 0.0</br>booking_changes: 4.0</br>_original_yhat_: 0.4764910638332367</br>"
          ],
          [
           "</br>id: observation</br>prediction: 0.476</br>babies: 5.0</br></br>lead_time: 203.0</br>arrival_date_year: 2016.0</br>adults: 2.0</br>children: 0.0</br>booking_changes: 4.0</br>_original_yhat_: 0.4764910638332367</br>"
          ],
          [
           "</br>id: observation</br>prediction: 0.476</br>babies: 5.1000000000000005</br></br>lead_time: 203.0</br>arrival_date_year: 2016.0</br>adults: 2.0</br>children: 0.0</br>booking_changes: 4.0</br>_original_yhat_: 0.4764910638332367</br>"
          ],
          [
           "</br>id: observation</br>prediction: 0.476</br>babies: 5.2</br></br>lead_time: 203.0</br>arrival_date_year: 2016.0</br>adults: 2.0</br>children: 0.0</br>booking_changes: 4.0</br>_original_yhat_: 0.4764910638332367</br>"
          ],
          [
           "</br>id: observation</br>prediction: 0.476</br>babies: 5.300000000000001</br></br>lead_time: 203.0</br>arrival_date_year: 2016.0</br>adults: 2.0</br>children: 0.0</br>booking_changes: 4.0</br>_original_yhat_: 0.4764910638332367</br>"
          ],
          [
           "</br>id: observation</br>prediction: 0.476</br>babies: 5.4</br></br>lead_time: 203.0</br>arrival_date_year: 2016.0</br>adults: 2.0</br>children: 0.0</br>booking_changes: 4.0</br>_original_yhat_: 0.4764910638332367</br>"
          ],
          [
           "</br>id: observation</br>prediction: 0.476</br>babies: 5.5</br></br>lead_time: 203.0</br>arrival_date_year: 2016.0</br>adults: 2.0</br>children: 0.0</br>booking_changes: 4.0</br>_original_yhat_: 0.4764910638332367</br>"
          ],
          [
           "</br>id: observation</br>prediction: 0.476</br>babies: 5.6000000000000005</br></br>lead_time: 203.0</br>arrival_date_year: 2016.0</br>adults: 2.0</br>children: 0.0</br>booking_changes: 4.0</br>_original_yhat_: 0.4764910638332367</br>"
          ],
          [
           "</br>id: observation</br>prediction: 0.476</br>babies: 5.7</br></br>lead_time: 203.0</br>arrival_date_year: 2016.0</br>adults: 2.0</br>children: 0.0</br>booking_changes: 4.0</br>_original_yhat_: 0.4764910638332367</br>"
          ],
          [
           "</br>id: observation</br>prediction: 0.476</br>babies: 5.800000000000001</br></br>lead_time: 203.0</br>arrival_date_year: 2016.0</br>adults: 2.0</br>children: 0.0</br>booking_changes: 4.0</br>_original_yhat_: 0.4764910638332367</br>"
          ],
          [
           "</br>id: observation</br>prediction: 0.476</br>babies: 5.9</br></br>lead_time: 203.0</br>arrival_date_year: 2016.0</br>adults: 2.0</br>children: 0.0</br>booking_changes: 4.0</br>_original_yhat_: 0.4764910638332367</br>"
          ],
          [
           "</br>id: observation</br>prediction: 0.476</br>babies: 6.0</br></br>lead_time: 203.0</br>arrival_date_year: 2016.0</br>adults: 2.0</br>children: 0.0</br>booking_changes: 4.0</br>_original_yhat_: 0.4764910638332367</br>"
          ],
          [
           "</br>id: observation</br>prediction: 0.476</br>babies: 6.1000000000000005</br></br>lead_time: 203.0</br>arrival_date_year: 2016.0</br>adults: 2.0</br>children: 0.0</br>booking_changes: 4.0</br>_original_yhat_: 0.4764910638332367</br>"
          ],
          [
           "</br>id: observation</br>prediction: 0.476</br>babies: 6.2</br></br>lead_time: 203.0</br>arrival_date_year: 2016.0</br>adults: 2.0</br>children: 0.0</br>booking_changes: 4.0</br>_original_yhat_: 0.4764910638332367</br>"
          ],
          [
           "</br>id: observation</br>prediction: 0.476</br>babies: 6.300000000000001</br></br>lead_time: 203.0</br>arrival_date_year: 2016.0</br>adults: 2.0</br>children: 0.0</br>booking_changes: 4.0</br>_original_yhat_: 0.4764910638332367</br>"
          ],
          [
           "</br>id: observation</br>prediction: 0.476</br>babies: 6.4</br></br>lead_time: 203.0</br>arrival_date_year: 2016.0</br>adults: 2.0</br>children: 0.0</br>booking_changes: 4.0</br>_original_yhat_: 0.4764910638332367</br>"
          ],
          [
           "</br>id: observation</br>prediction: 0.476</br>babies: 6.5</br></br>lead_time: 203.0</br>arrival_date_year: 2016.0</br>adults: 2.0</br>children: 0.0</br>booking_changes: 4.0</br>_original_yhat_: 0.4764910638332367</br>"
          ],
          [
           "</br>id: observation</br>prediction: 0.476</br>babies: 6.6000000000000005</br></br>lead_time: 203.0</br>arrival_date_year: 2016.0</br>adults: 2.0</br>children: 0.0</br>booking_changes: 4.0</br>_original_yhat_: 0.4764910638332367</br>"
          ],
          [
           "</br>id: observation</br>prediction: 0.476</br>babies: 6.7</br></br>lead_time: 203.0</br>arrival_date_year: 2016.0</br>adults: 2.0</br>children: 0.0</br>booking_changes: 4.0</br>_original_yhat_: 0.4764910638332367</br>"
          ],
          [
           "</br>id: observation</br>prediction: 0.476</br>babies: 6.800000000000001</br></br>lead_time: 203.0</br>arrival_date_year: 2016.0</br>adults: 2.0</br>children: 0.0</br>booking_changes: 4.0</br>_original_yhat_: 0.4764910638332367</br>"
          ],
          [
           "</br>id: observation</br>prediction: 0.476</br>babies: 6.9</br></br>lead_time: 203.0</br>arrival_date_year: 2016.0</br>adults: 2.0</br>children: 0.0</br>booking_changes: 4.0</br>_original_yhat_: 0.4764910638332367</br>"
          ],
          [
           "</br>id: observation</br>prediction: 0.476</br>babies: 7.0</br></br>lead_time: 203.0</br>arrival_date_year: 2016.0</br>adults: 2.0</br>children: 0.0</br>booking_changes: 4.0</br>_original_yhat_: 0.4764910638332367</br>"
          ],
          [
           "</br>id: observation</br>prediction: 0.476</br>babies: 7.1000000000000005</br></br>lead_time: 203.0</br>arrival_date_year: 2016.0</br>adults: 2.0</br>children: 0.0</br>booking_changes: 4.0</br>_original_yhat_: 0.4764910638332367</br>"
          ],
          [
           "</br>id: observation</br>prediction: 0.476</br>babies: 7.2</br></br>lead_time: 203.0</br>arrival_date_year: 2016.0</br>adults: 2.0</br>children: 0.0</br>booking_changes: 4.0</br>_original_yhat_: 0.4764910638332367</br>"
          ],
          [
           "</br>id: observation</br>prediction: 0.476</br>babies: 7.300000000000001</br></br>lead_time: 203.0</br>arrival_date_year: 2016.0</br>adults: 2.0</br>children: 0.0</br>booking_changes: 4.0</br>_original_yhat_: 0.4764910638332367</br>"
          ],
          [
           "</br>id: observation</br>prediction: 0.476</br>babies: 7.4</br></br>lead_time: 203.0</br>arrival_date_year: 2016.0</br>adults: 2.0</br>children: 0.0</br>booking_changes: 4.0</br>_original_yhat_: 0.4764910638332367</br>"
          ],
          [
           "</br>id: observation</br>prediction: 0.476</br>babies: 7.5</br></br>lead_time: 203.0</br>arrival_date_year: 2016.0</br>adults: 2.0</br>children: 0.0</br>booking_changes: 4.0</br>_original_yhat_: 0.4764910638332367</br>"
          ],
          [
           "</br>id: observation</br>prediction: 0.476</br>babies: 7.6000000000000005</br></br>lead_time: 203.0</br>arrival_date_year: 2016.0</br>adults: 2.0</br>children: 0.0</br>booking_changes: 4.0</br>_original_yhat_: 0.4764910638332367</br>"
          ],
          [
           "</br>id: observation</br>prediction: 0.476</br>babies: 7.7</br></br>lead_time: 203.0</br>arrival_date_year: 2016.0</br>adults: 2.0</br>children: 0.0</br>booking_changes: 4.0</br>_original_yhat_: 0.4764910638332367</br>"
          ],
          [
           "</br>id: observation</br>prediction: 0.476</br>babies: 7.800000000000001</br></br>lead_time: 203.0</br>arrival_date_year: 2016.0</br>adults: 2.0</br>children: 0.0</br>booking_changes: 4.0</br>_original_yhat_: 0.4764910638332367</br>"
          ],
          [
           "</br>id: observation</br>prediction: 0.476</br>babies: 7.9</br></br>lead_time: 203.0</br>arrival_date_year: 2016.0</br>adults: 2.0</br>children: 0.0</br>booking_changes: 4.0</br>_original_yhat_: 0.4764910638332367</br>"
          ],
          [
           "</br>id: observation</br>prediction: 0.476</br>babies: 8.0</br></br>lead_time: 203.0</br>arrival_date_year: 2016.0</br>adults: 2.0</br>children: 0.0</br>booking_changes: 4.0</br>_original_yhat_: 0.4764910638332367</br>"
          ],
          [
           "</br>id: observation</br>prediction: 0.476</br>babies: 8.1</br></br>lead_time: 203.0</br>arrival_date_year: 2016.0</br>adults: 2.0</br>children: 0.0</br>booking_changes: 4.0</br>_original_yhat_: 0.4764910638332367</br>"
          ],
          [
           "</br>id: observation</br>prediction: 0.476</br>babies: 8.200000000000001</br></br>lead_time: 203.0</br>arrival_date_year: 2016.0</br>adults: 2.0</br>children: 0.0</br>booking_changes: 4.0</br>_original_yhat_: 0.4764910638332367</br>"
          ],
          [
           "</br>id: observation</br>prediction: 0.476</br>babies: 8.3</br></br>lead_time: 203.0</br>arrival_date_year: 2016.0</br>adults: 2.0</br>children: 0.0</br>booking_changes: 4.0</br>_original_yhat_: 0.4764910638332367</br>"
          ],
          [
           "</br>id: observation</br>prediction: 0.476</br>babies: 8.4</br></br>lead_time: 203.0</br>arrival_date_year: 2016.0</br>adults: 2.0</br>children: 0.0</br>booking_changes: 4.0</br>_original_yhat_: 0.4764910638332367</br>"
          ],
          [
           "</br>id: observation</br>prediction: 0.476</br>babies: 8.5</br></br>lead_time: 203.0</br>arrival_date_year: 2016.0</br>adults: 2.0</br>children: 0.0</br>booking_changes: 4.0</br>_original_yhat_: 0.4764910638332367</br>"
          ],
          [
           "</br>id: observation</br>prediction: 0.476</br>babies: 8.6</br></br>lead_time: 203.0</br>arrival_date_year: 2016.0</br>adults: 2.0</br>children: 0.0</br>booking_changes: 4.0</br>_original_yhat_: 0.4764910638332367</br>"
          ],
          [
           "</br>id: observation</br>prediction: 0.476</br>babies: 8.700000000000001</br></br>lead_time: 203.0</br>arrival_date_year: 2016.0</br>adults: 2.0</br>children: 0.0</br>booking_changes: 4.0</br>_original_yhat_: 0.4764910638332367</br>"
          ],
          [
           "</br>id: observation</br>prediction: 0.476</br>babies: 8.8</br></br>lead_time: 203.0</br>arrival_date_year: 2016.0</br>adults: 2.0</br>children: 0.0</br>booking_changes: 4.0</br>_original_yhat_: 0.4764910638332367</br>"
          ],
          [
           "</br>id: observation</br>prediction: 0.476</br>babies: 8.9</br></br>lead_time: 203.0</br>arrival_date_year: 2016.0</br>adults: 2.0</br>children: 0.0</br>booking_changes: 4.0</br>_original_yhat_: 0.4764910638332367</br>"
          ],
          [
           "</br>id: observation</br>prediction: 0.476</br>babies: 9.0</br></br>lead_time: 203.0</br>arrival_date_year: 2016.0</br>adults: 2.0</br>children: 0.0</br>booking_changes: 4.0</br>_original_yhat_: 0.4764910638332367</br>"
          ],
          [
           "</br>id: observation</br>prediction: 0.476</br>babies: 9.1</br></br>lead_time: 203.0</br>arrival_date_year: 2016.0</br>adults: 2.0</br>children: 0.0</br>booking_changes: 4.0</br>_original_yhat_: 0.4764910638332367</br>"
          ],
          [
           "</br>id: observation</br>prediction: 0.476</br>babies: 9.200000000000001</br></br>lead_time: 203.0</br>arrival_date_year: 2016.0</br>adults: 2.0</br>children: 0.0</br>booking_changes: 4.0</br>_original_yhat_: 0.4764910638332367</br>"
          ],
          [
           "</br>id: observation</br>prediction: 0.476</br>babies: 9.3</br></br>lead_time: 203.0</br>arrival_date_year: 2016.0</br>adults: 2.0</br>children: 0.0</br>booking_changes: 4.0</br>_original_yhat_: 0.4764910638332367</br>"
          ],
          [
           "</br>id: observation</br>prediction: 0.476</br>babies: 9.4</br></br>lead_time: 203.0</br>arrival_date_year: 2016.0</br>adults: 2.0</br>children: 0.0</br>booking_changes: 4.0</br>_original_yhat_: 0.4764910638332367</br>"
          ],
          [
           "</br>id: observation</br>prediction: 0.476</br>babies: 9.5</br></br>lead_time: 203.0</br>arrival_date_year: 2016.0</br>adults: 2.0</br>children: 0.0</br>booking_changes: 4.0</br>_original_yhat_: 0.4764910638332367</br>"
          ],
          [
           "</br>id: observation</br>prediction: 0.476</br>babies: 9.600000000000001</br></br>lead_time: 203.0</br>arrival_date_year: 2016.0</br>adults: 2.0</br>children: 0.0</br>booking_changes: 4.0</br>_original_yhat_: 0.4764910638332367</br>"
          ],
          [
           "</br>id: observation</br>prediction: 0.476</br>babies: 9.700000000000001</br></br>lead_time: 203.0</br>arrival_date_year: 2016.0</br>adults: 2.0</br>children: 0.0</br>booking_changes: 4.0</br>_original_yhat_: 0.4764910638332367</br>"
          ],
          [
           "</br>id: observation</br>prediction: 0.476</br>babies: 9.8</br></br>lead_time: 203.0</br>arrival_date_year: 2016.0</br>adults: 2.0</br>children: 0.0</br>booking_changes: 4.0</br>_original_yhat_: 0.4764910638332367</br>"
          ],
          [
           "</br>id: observation</br>prediction: 0.476</br>babies: 9.9</br></br>lead_time: 203.0</br>arrival_date_year: 2016.0</br>adults: 2.0</br>children: 0.0</br>booking_changes: 4.0</br>_original_yhat_: 0.4764910638332367</br>"
          ],
          [
           "</br>id: observation</br>prediction: 0.476</br>babies: 10.0</br></br>lead_time: 203.0</br>arrival_date_year: 2016.0</br>adults: 2.0</br>children: 0.0</br>booking_changes: 4.0</br>_original_yhat_: 0.4764910638332367</br>"
          ]
         ],
         "hovertemplate": "%{customdata[0]}<extra></extra>",
         "legendgroup": "neural_network",
         "line": {
          "color": "#46bac2",
          "dash": "solid",
          "width": 2
         },
         "marker": {
          "symbol": "circle"
         },
         "mode": "lines",
         "name": "neural_network",
         "opacity": 1,
         "orientation": "v",
         "showlegend": false,
         "type": "scatter",
         "x": [
          0,
          0.1,
          0.2,
          0.30000000000000004,
          0.4,
          0.5,
          0.6000000000000001,
          0.7000000000000001,
          0.8,
          0.9,
          1,
          1.1,
          1.2000000000000002,
          1.3,
          1.4000000000000001,
          1.5,
          1.6,
          1.7000000000000002,
          1.8,
          1.9000000000000001,
          2,
          2.1,
          2.2,
          2.3000000000000003,
          2.4000000000000004,
          2.5,
          2.6,
          2.7,
          2.8000000000000003,
          2.9000000000000004,
          3,
          3.1,
          3.2,
          3.3000000000000003,
          3.4000000000000004,
          3.5,
          3.6,
          3.7,
          3.8000000000000003,
          3.9000000000000004,
          4,
          4.1000000000000005,
          4.2,
          4.3,
          4.4,
          4.5,
          4.6000000000000005,
          4.7,
          4.800000000000001,
          4.9,
          5,
          5.1000000000000005,
          5.2,
          5.300000000000001,
          5.4,
          5.5,
          5.6000000000000005,
          5.7,
          5.800000000000001,
          5.9,
          6,
          6.1000000000000005,
          6.2,
          6.300000000000001,
          6.4,
          6.5,
          6.6000000000000005,
          6.7,
          6.800000000000001,
          6.9,
          7,
          7.1000000000000005,
          7.2,
          7.300000000000001,
          7.4,
          7.5,
          7.6000000000000005,
          7.7,
          7.800000000000001,
          7.9,
          8,
          8.1,
          8.200000000000001,
          8.3,
          8.4,
          8.5,
          8.6,
          8.700000000000001,
          8.8,
          8.9,
          9,
          9.1,
          9.200000000000001,
          9.3,
          9.4,
          9.5,
          9.600000000000001,
          9.700000000000001,
          9.8,
          9.9,
          10
         ],
         "xaxis": "x",
         "y": [
          0.4764910638332367,
          0.4764910638332367,
          0.4764910638332367,
          0.4764910638332367,
          0.4764910638332367,
          0.4764910638332367,
          0.4764910638332367,
          0.4764910638332367,
          0.4764910638332367,
          0.4764910638332367,
          0.4764910638332367,
          0.4764910638332367,
          0.4764910638332367,
          0.4764910638332367,
          0.4764910638332367,
          0.4764910638332367,
          0.4764910638332367,
          0.4764910638332367,
          0.4764910638332367,
          0.4764910638332367,
          0.4764910638332367,
          0.4764910638332367,
          0.4764910638332367,
          0.4764910638332367,
          0.4764910638332367,
          0.4764910638332367,
          0.4764910638332367,
          0.4764910638332367,
          0.4764910638332367,
          0.4764910638332367,
          0.4764910638332367,
          0.4764910638332367,
          0.4764910638332367,
          0.4764910638332367,
          0.4764910638332367,
          0.4764910638332367,
          0.4764910638332367,
          0.4764910638332367,
          0.4764910638332367,
          0.4764910638332367,
          0.4764910638332367,
          0.4764910638332367,
          0.4764910638332367,
          0.4764910638332367,
          0.4764910638332367,
          0.4764910638332367,
          0.4764910638332367,
          0.4764910638332367,
          0.4764910638332367,
          0.4764910638332367,
          0.4764910638332367,
          0.4764910638332367,
          0.4764910638332367,
          0.4764910638332367,
          0.4764910638332367,
          0.4764910638332367,
          0.4764910638332367,
          0.4764910638332367,
          0.4764910638332367,
          0.4764910638332367,
          0.4764910638332367,
          0.4764910638332367,
          0.4764910638332367,
          0.4764910638332367,
          0.4764910638332367,
          0.4764910638332367,
          0.4764910638332367,
          0.4764910638332367,
          0.4764910638332367,
          0.4764910638332367,
          0.4764910638332367,
          0.4764910638332367,
          0.4764910638332367,
          0.4764910638332367,
          0.4764910638332367,
          0.4764910638332367,
          0.4764910638332367,
          0.4764910638332367,
          0.4764910638332367,
          0.4764910638332367,
          0.4764910638332367,
          0.4764910638332367,
          0.4764910638332367,
          0.4764910638332367,
          0.4764910638332367,
          0.4764910638332367,
          0.4764910638332367,
          0.4764910638332367,
          0.4764910638332367,
          0.4764910638332367,
          0.4764910638332367,
          0.4764910638332367,
          0.4764910638332367,
          0.4764910638332367,
          0.4764910638332367,
          0.4764910638332367,
          0.4764910638332367,
          0.4764910638332367,
          0.4764910638332367,
          0.4764910638332367,
          0.4764910638332367
         ],
         "yaxis": "y"
        },
        {
         "customdata": [
          [
           "</br>id: observation</br>prediction: 0.476</br>booking_changes: 0.0</br></br>lead_time: 203.0</br>arrival_date_year: 2016.0</br>adults: 2.0</br>children: 0.0</br>babies: 0.0</br>_original_yhat_: 0.4764910638332367</br>"
          ],
          [
           "</br>id: observation</br>prediction: 0.476</br>booking_changes: 0.21</br></br>lead_time: 203.0</br>arrival_date_year: 2016.0</br>adults: 2.0</br>children: 0.0</br>babies: 0.0</br>_original_yhat_: 0.4764910638332367</br>"
          ],
          [
           "</br>id: observation</br>prediction: 0.476</br>booking_changes: 0.42</br></br>lead_time: 203.0</br>arrival_date_year: 2016.0</br>adults: 2.0</br>children: 0.0</br>babies: 0.0</br>_original_yhat_: 0.4764910638332367</br>"
          ],
          [
           "</br>id: observation</br>prediction: 0.476</br>booking_changes: 0.63</br></br>lead_time: 203.0</br>arrival_date_year: 2016.0</br>adults: 2.0</br>children: 0.0</br>babies: 0.0</br>_original_yhat_: 0.4764910638332367</br>"
          ],
          [
           "</br>id: observation</br>prediction: 0.476</br>booking_changes: 0.84</br></br>lead_time: 203.0</br>arrival_date_year: 2016.0</br>adults: 2.0</br>children: 0.0</br>babies: 0.0</br>_original_yhat_: 0.4764910638332367</br>"
          ],
          [
           "</br>id: observation</br>prediction: 0.476</br>booking_changes: 1.05</br></br>lead_time: 203.0</br>arrival_date_year: 2016.0</br>adults: 2.0</br>children: 0.0</br>babies: 0.0</br>_original_yhat_: 0.4764910638332367</br>"
          ],
          [
           "</br>id: observation</br>prediction: 0.476</br>booking_changes: 1.26</br></br>lead_time: 203.0</br>arrival_date_year: 2016.0</br>adults: 2.0</br>children: 0.0</br>babies: 0.0</br>_original_yhat_: 0.4764910638332367</br>"
          ],
          [
           "</br>id: observation</br>prediction: 0.476</br>booking_changes: 1.47</br></br>lead_time: 203.0</br>arrival_date_year: 2016.0</br>adults: 2.0</br>children: 0.0</br>babies: 0.0</br>_original_yhat_: 0.4764910638332367</br>"
          ],
          [
           "</br>id: observation</br>prediction: 0.476</br>booking_changes: 1.68</br></br>lead_time: 203.0</br>arrival_date_year: 2016.0</br>adults: 2.0</br>children: 0.0</br>babies: 0.0</br>_original_yhat_: 0.4764910638332367</br>"
          ],
          [
           "</br>id: observation</br>prediction: 0.476</br>booking_changes: 1.89</br></br>lead_time: 203.0</br>arrival_date_year: 2016.0</br>adults: 2.0</br>children: 0.0</br>babies: 0.0</br>_original_yhat_: 0.4764910638332367</br>"
          ],
          [
           "</br>id: observation</br>prediction: 0.476</br>booking_changes: 2.1</br></br>lead_time: 203.0</br>arrival_date_year: 2016.0</br>adults: 2.0</br>children: 0.0</br>babies: 0.0</br>_original_yhat_: 0.4764910638332367</br>"
          ],
          [
           "</br>id: observation</br>prediction: 0.476</br>booking_changes: 2.31</br></br>lead_time: 203.0</br>arrival_date_year: 2016.0</br>adults: 2.0</br>children: 0.0</br>babies: 0.0</br>_original_yhat_: 0.4764910638332367</br>"
          ],
          [
           "</br>id: observation</br>prediction: 0.476</br>booking_changes: 2.52</br></br>lead_time: 203.0</br>arrival_date_year: 2016.0</br>adults: 2.0</br>children: 0.0</br>babies: 0.0</br>_original_yhat_: 0.4764910638332367</br>"
          ],
          [
           "</br>id: observation</br>prediction: 0.476</br>booking_changes: 2.73</br></br>lead_time: 203.0</br>arrival_date_year: 2016.0</br>adults: 2.0</br>children: 0.0</br>babies: 0.0</br>_original_yhat_: 0.4764910638332367</br>"
          ],
          [
           "</br>id: observation</br>prediction: 0.476</br>booking_changes: 2.94</br></br>lead_time: 203.0</br>arrival_date_year: 2016.0</br>adults: 2.0</br>children: 0.0</br>babies: 0.0</br>_original_yhat_: 0.4764910638332367</br>"
          ],
          [
           "</br>id: observation</br>prediction: 0.476</br>booking_changes: 3.15</br></br>lead_time: 203.0</br>arrival_date_year: 2016.0</br>adults: 2.0</br>children: 0.0</br>babies: 0.0</br>_original_yhat_: 0.4764910638332367</br>"
          ],
          [
           "</br>id: observation</br>prediction: 0.476</br>booking_changes: 3.36</br></br>lead_time: 203.0</br>arrival_date_year: 2016.0</br>adults: 2.0</br>children: 0.0</br>babies: 0.0</br>_original_yhat_: 0.4764910638332367</br>"
          ],
          [
           "</br>id: observation</br>prediction: 0.476</br>booking_changes: 3.57</br></br>lead_time: 203.0</br>arrival_date_year: 2016.0</br>adults: 2.0</br>children: 0.0</br>babies: 0.0</br>_original_yhat_: 0.4764910638332367</br>"
          ],
          [
           "</br>id: observation</br>prediction: 0.476</br>booking_changes: 3.78</br></br>lead_time: 203.0</br>arrival_date_year: 2016.0</br>adults: 2.0</br>children: 0.0</br>babies: 0.0</br>_original_yhat_: 0.4764910638332367</br>"
          ],
          [
           "</br>id: observation</br>prediction: 0.476</br>booking_changes: 3.9899999999999998</br></br>lead_time: 203.0</br>arrival_date_year: 2016.0</br>adults: 2.0</br>children: 0.0</br>babies: 0.0</br>_original_yhat_: 0.4764910638332367</br>"
          ],
          [
           "</br>id: observation</br>prediction: 0.476</br>booking_changes: 4.0</br></br>lead_time: 203.0</br>arrival_date_year: 2016.0</br>adults: 2.0</br>children: 0.0</br>babies: 0.0</br>_original_yhat_: 0.4764910638332367</br>"
          ],
          [
           "</br>id: observation</br>prediction: 0.476</br>booking_changes: 4.2</br></br>lead_time: 203.0</br>arrival_date_year: 2016.0</br>adults: 2.0</br>children: 0.0</br>babies: 0.0</br>_original_yhat_: 0.4764910638332367</br>"
          ],
          [
           "</br>id: observation</br>prediction: 0.476</br>booking_changes: 4.41</br></br>lead_time: 203.0</br>arrival_date_year: 2016.0</br>adults: 2.0</br>children: 0.0</br>babies: 0.0</br>_original_yhat_: 0.4764910638332367</br>"
          ],
          [
           "</br>id: observation</br>prediction: 0.476</br>booking_changes: 4.62</br></br>lead_time: 203.0</br>arrival_date_year: 2016.0</br>adults: 2.0</br>children: 0.0</br>babies: 0.0</br>_original_yhat_: 0.4764910638332367</br>"
          ],
          [
           "</br>id: observation</br>prediction: 0.476</br>booking_changes: 4.83</br></br>lead_time: 203.0</br>arrival_date_year: 2016.0</br>adults: 2.0</br>children: 0.0</br>babies: 0.0</br>_original_yhat_: 0.4764910638332367</br>"
          ],
          [
           "</br>id: observation</br>prediction: 0.476</br>booking_changes: 5.04</br></br>lead_time: 203.0</br>arrival_date_year: 2016.0</br>adults: 2.0</br>children: 0.0</br>babies: 0.0</br>_original_yhat_: 0.4764910638332367</br>"
          ],
          [
           "</br>id: observation</br>prediction: 0.476</br>booking_changes: 5.25</br></br>lead_time: 203.0</br>arrival_date_year: 2016.0</br>adults: 2.0</br>children: 0.0</br>babies: 0.0</br>_original_yhat_: 0.4764910638332367</br>"
          ],
          [
           "</br>id: observation</br>prediction: 0.476</br>booking_changes: 5.46</br></br>lead_time: 203.0</br>arrival_date_year: 2016.0</br>adults: 2.0</br>children: 0.0</br>babies: 0.0</br>_original_yhat_: 0.4764910638332367</br>"
          ],
          [
           "</br>id: observation</br>prediction: 0.476</br>booking_changes: 5.67</br></br>lead_time: 203.0</br>arrival_date_year: 2016.0</br>adults: 2.0</br>children: 0.0</br>babies: 0.0</br>_original_yhat_: 0.4764910638332367</br>"
          ],
          [
           "</br>id: observation</br>prediction: 0.476</br>booking_changes: 5.88</br></br>lead_time: 203.0</br>arrival_date_year: 2016.0</br>adults: 2.0</br>children: 0.0</br>babies: 0.0</br>_original_yhat_: 0.4764910638332367</br>"
          ],
          [
           "</br>id: observation</br>prediction: 0.476</br>booking_changes: 6.09</br></br>lead_time: 203.0</br>arrival_date_year: 2016.0</br>adults: 2.0</br>children: 0.0</br>babies: 0.0</br>_original_yhat_: 0.4764910638332367</br>"
          ],
          [
           "</br>id: observation</br>prediction: 0.476</br>booking_changes: 6.3</br></br>lead_time: 203.0</br>arrival_date_year: 2016.0</br>adults: 2.0</br>children: 0.0</br>babies: 0.0</br>_original_yhat_: 0.4764910638332367</br>"
          ],
          [
           "</br>id: observation</br>prediction: 0.476</br>booking_changes: 6.51</br></br>lead_time: 203.0</br>arrival_date_year: 2016.0</br>adults: 2.0</br>children: 0.0</br>babies: 0.0</br>_original_yhat_: 0.4764910638332367</br>"
          ],
          [
           "</br>id: observation</br>prediction: 0.476</br>booking_changes: 6.72</br></br>lead_time: 203.0</br>arrival_date_year: 2016.0</br>adults: 2.0</br>children: 0.0</br>babies: 0.0</br>_original_yhat_: 0.4764910638332367</br>"
          ],
          [
           "</br>id: observation</br>prediction: 0.476</br>booking_changes: 6.93</br></br>lead_time: 203.0</br>arrival_date_year: 2016.0</br>adults: 2.0</br>children: 0.0</br>babies: 0.0</br>_original_yhat_: 0.4764910638332367</br>"
          ],
          [
           "</br>id: observation</br>prediction: 0.476</br>booking_changes: 7.14</br></br>lead_time: 203.0</br>arrival_date_year: 2016.0</br>adults: 2.0</br>children: 0.0</br>babies: 0.0</br>_original_yhat_: 0.4764910638332367</br>"
          ],
          [
           "</br>id: observation</br>prediction: 0.476</br>booking_changes: 7.35</br></br>lead_time: 203.0</br>arrival_date_year: 2016.0</br>adults: 2.0</br>children: 0.0</br>babies: 0.0</br>_original_yhat_: 0.4764910638332367</br>"
          ],
          [
           "</br>id: observation</br>prediction: 0.476</br>booking_changes: 7.56</br></br>lead_time: 203.0</br>arrival_date_year: 2016.0</br>adults: 2.0</br>children: 0.0</br>babies: 0.0</br>_original_yhat_: 0.4764910638332367</br>"
          ],
          [
           "</br>id: observation</br>prediction: 0.476</br>booking_changes: 7.77</br></br>lead_time: 203.0</br>arrival_date_year: 2016.0</br>adults: 2.0</br>children: 0.0</br>babies: 0.0</br>_original_yhat_: 0.4764910638332367</br>"
          ],
          [
           "</br>id: observation</br>prediction: 0.476</br>booking_changes: 7.9799999999999995</br></br>lead_time: 203.0</br>arrival_date_year: 2016.0</br>adults: 2.0</br>children: 0.0</br>babies: 0.0</br>_original_yhat_: 0.4764910638332367</br>"
          ],
          [
           "</br>id: observation</br>prediction: 0.476</br>booking_changes: 8.19</br></br>lead_time: 203.0</br>arrival_date_year: 2016.0</br>adults: 2.0</br>children: 0.0</br>babies: 0.0</br>_original_yhat_: 0.4764910638332367</br>"
          ],
          [
           "</br>id: observation</br>prediction: 0.476</br>booking_changes: 8.4</br></br>lead_time: 203.0</br>arrival_date_year: 2016.0</br>adults: 2.0</br>children: 0.0</br>babies: 0.0</br>_original_yhat_: 0.4764910638332367</br>"
          ],
          [
           "</br>id: observation</br>prediction: 0.476</br>booking_changes: 8.61</br></br>lead_time: 203.0</br>arrival_date_year: 2016.0</br>adults: 2.0</br>children: 0.0</br>babies: 0.0</br>_original_yhat_: 0.4764910638332367</br>"
          ],
          [
           "</br>id: observation</br>prediction: 0.476</br>booking_changes: 8.82</br></br>lead_time: 203.0</br>arrival_date_year: 2016.0</br>adults: 2.0</br>children: 0.0</br>babies: 0.0</br>_original_yhat_: 0.4764910638332367</br>"
          ],
          [
           "</br>id: observation</br>prediction: 0.476</br>booking_changes: 9.03</br></br>lead_time: 203.0</br>arrival_date_year: 2016.0</br>adults: 2.0</br>children: 0.0</br>babies: 0.0</br>_original_yhat_: 0.4764910638332367</br>"
          ],
          [
           "</br>id: observation</br>prediction: 0.476</br>booking_changes: 9.24</br></br>lead_time: 203.0</br>arrival_date_year: 2016.0</br>adults: 2.0</br>children: 0.0</br>babies: 0.0</br>_original_yhat_: 0.4764910638332367</br>"
          ],
          [
           "</br>id: observation</br>prediction: 0.476</br>booking_changes: 9.45</br></br>lead_time: 203.0</br>arrival_date_year: 2016.0</br>adults: 2.0</br>children: 0.0</br>babies: 0.0</br>_original_yhat_: 0.4764910638332367</br>"
          ],
          [
           "</br>id: observation</br>prediction: 0.476</br>booking_changes: 9.66</br></br>lead_time: 203.0</br>arrival_date_year: 2016.0</br>adults: 2.0</br>children: 0.0</br>babies: 0.0</br>_original_yhat_: 0.4764910638332367</br>"
          ],
          [
           "</br>id: observation</br>prediction: 0.476</br>booking_changes: 9.87</br></br>lead_time: 203.0</br>arrival_date_year: 2016.0</br>adults: 2.0</br>children: 0.0</br>babies: 0.0</br>_original_yhat_: 0.4764910638332367</br>"
          ],
          [
           "</br>id: observation</br>prediction: 0.476</br>booking_changes: 10.08</br></br>lead_time: 203.0</br>arrival_date_year: 2016.0</br>adults: 2.0</br>children: 0.0</br>babies: 0.0</br>_original_yhat_: 0.4764910638332367</br>"
          ],
          [
           "</br>id: observation</br>prediction: 0.476</br>booking_changes: 10.29</br></br>lead_time: 203.0</br>arrival_date_year: 2016.0</br>adults: 2.0</br>children: 0.0</br>babies: 0.0</br>_original_yhat_: 0.4764910638332367</br>"
          ],
          [
           "</br>id: observation</br>prediction: 0.476</br>booking_changes: 10.5</br></br>lead_time: 203.0</br>arrival_date_year: 2016.0</br>adults: 2.0</br>children: 0.0</br>babies: 0.0</br>_original_yhat_: 0.4764910638332367</br>"
          ],
          [
           "</br>id: observation</br>prediction: 0.476</br>booking_changes: 10.709999999999999</br></br>lead_time: 203.0</br>arrival_date_year: 2016.0</br>adults: 2.0</br>children: 0.0</br>babies: 0.0</br>_original_yhat_: 0.4764910638332367</br>"
          ],
          [
           "</br>id: observation</br>prediction: 0.476</br>booking_changes: 10.92</br></br>lead_time: 203.0</br>arrival_date_year: 2016.0</br>adults: 2.0</br>children: 0.0</br>babies: 0.0</br>_original_yhat_: 0.4764910638332367</br>"
          ],
          [
           "</br>id: observation</br>prediction: 0.476</br>booking_changes: 11.129999999999999</br></br>lead_time: 203.0</br>arrival_date_year: 2016.0</br>adults: 2.0</br>children: 0.0</br>babies: 0.0</br>_original_yhat_: 0.4764910638332367</br>"
          ],
          [
           "</br>id: observation</br>prediction: 0.476</br>booking_changes: 11.34</br></br>lead_time: 203.0</br>arrival_date_year: 2016.0</br>adults: 2.0</br>children: 0.0</br>babies: 0.0</br>_original_yhat_: 0.4764910638332367</br>"
          ],
          [
           "</br>id: observation</br>prediction: 0.476</br>booking_changes: 11.549999999999999</br></br>lead_time: 203.0</br>arrival_date_year: 2016.0</br>adults: 2.0</br>children: 0.0</br>babies: 0.0</br>_original_yhat_: 0.4764910638332367</br>"
          ],
          [
           "</br>id: observation</br>prediction: 0.476</br>booking_changes: 11.76</br></br>lead_time: 203.0</br>arrival_date_year: 2016.0</br>adults: 2.0</br>children: 0.0</br>babies: 0.0</br>_original_yhat_: 0.4764910638332367</br>"
          ],
          [
           "</br>id: observation</br>prediction: 0.476</br>booking_changes: 11.969999999999999</br></br>lead_time: 203.0</br>arrival_date_year: 2016.0</br>adults: 2.0</br>children: 0.0</br>babies: 0.0</br>_original_yhat_: 0.4764910638332367</br>"
          ],
          [
           "</br>id: observation</br>prediction: 0.476</br>booking_changes: 12.18</br></br>lead_time: 203.0</br>arrival_date_year: 2016.0</br>adults: 2.0</br>children: 0.0</br>babies: 0.0</br>_original_yhat_: 0.4764910638332367</br>"
          ],
          [
           "</br>id: observation</br>prediction: 0.476</br>booking_changes: 12.389999999999999</br></br>lead_time: 203.0</br>arrival_date_year: 2016.0</br>adults: 2.0</br>children: 0.0</br>babies: 0.0</br>_original_yhat_: 0.4764910638332367</br>"
          ],
          [
           "</br>id: observation</br>prediction: 0.476</br>booking_changes: 12.6</br></br>lead_time: 203.0</br>arrival_date_year: 2016.0</br>adults: 2.0</br>children: 0.0</br>babies: 0.0</br>_original_yhat_: 0.4764910638332367</br>"
          ],
          [
           "</br>id: observation</br>prediction: 0.476</br>booking_changes: 12.809999999999999</br></br>lead_time: 203.0</br>arrival_date_year: 2016.0</br>adults: 2.0</br>children: 0.0</br>babies: 0.0</br>_original_yhat_: 0.4764910638332367</br>"
          ],
          [
           "</br>id: observation</br>prediction: 0.476</br>booking_changes: 13.02</br></br>lead_time: 203.0</br>arrival_date_year: 2016.0</br>adults: 2.0</br>children: 0.0</br>babies: 0.0</br>_original_yhat_: 0.4764910638332367</br>"
          ],
          [
           "</br>id: observation</br>prediction: 0.476</br>booking_changes: 13.229999999999999</br></br>lead_time: 203.0</br>arrival_date_year: 2016.0</br>adults: 2.0</br>children: 0.0</br>babies: 0.0</br>_original_yhat_: 0.4764910638332367</br>"
          ],
          [
           "</br>id: observation</br>prediction: 0.476</br>booking_changes: 13.44</br></br>lead_time: 203.0</br>arrival_date_year: 2016.0</br>adults: 2.0</br>children: 0.0</br>babies: 0.0</br>_original_yhat_: 0.4764910638332367</br>"
          ],
          [
           "</br>id: observation</br>prediction: 0.476</br>booking_changes: 13.65</br></br>lead_time: 203.0</br>arrival_date_year: 2016.0</br>adults: 2.0</br>children: 0.0</br>babies: 0.0</br>_original_yhat_: 0.4764910638332367</br>"
          ],
          [
           "</br>id: observation</br>prediction: 0.476</br>booking_changes: 13.86</br></br>lead_time: 203.0</br>arrival_date_year: 2016.0</br>adults: 2.0</br>children: 0.0</br>babies: 0.0</br>_original_yhat_: 0.4764910638332367</br>"
          ],
          [
           "</br>id: observation</br>prediction: 0.476</br>booking_changes: 14.07</br></br>lead_time: 203.0</br>arrival_date_year: 2016.0</br>adults: 2.0</br>children: 0.0</br>babies: 0.0</br>_original_yhat_: 0.4764910638332367</br>"
          ],
          [
           "</br>id: observation</br>prediction: 0.476</br>booking_changes: 14.28</br></br>lead_time: 203.0</br>arrival_date_year: 2016.0</br>adults: 2.0</br>children: 0.0</br>babies: 0.0</br>_original_yhat_: 0.4764910638332367</br>"
          ],
          [
           "</br>id: observation</br>prediction: 0.476</br>booking_changes: 14.49</br></br>lead_time: 203.0</br>arrival_date_year: 2016.0</br>adults: 2.0</br>children: 0.0</br>babies: 0.0</br>_original_yhat_: 0.4764910638332367</br>"
          ],
          [
           "</br>id: observation</br>prediction: 0.476</br>booking_changes: 14.7</br></br>lead_time: 203.0</br>arrival_date_year: 2016.0</br>adults: 2.0</br>children: 0.0</br>babies: 0.0</br>_original_yhat_: 0.4764910638332367</br>"
          ],
          [
           "</br>id: observation</br>prediction: 0.476</br>booking_changes: 14.91</br></br>lead_time: 203.0</br>arrival_date_year: 2016.0</br>adults: 2.0</br>children: 0.0</br>babies: 0.0</br>_original_yhat_: 0.4764910638332367</br>"
          ],
          [
           "</br>id: observation</br>prediction: 0.476</br>booking_changes: 15.12</br></br>lead_time: 203.0</br>arrival_date_year: 2016.0</br>adults: 2.0</br>children: 0.0</br>babies: 0.0</br>_original_yhat_: 0.4764910638332367</br>"
          ],
          [
           "</br>id: observation</br>prediction: 0.476</br>booking_changes: 15.33</br></br>lead_time: 203.0</br>arrival_date_year: 2016.0</br>adults: 2.0</br>children: 0.0</br>babies: 0.0</br>_original_yhat_: 0.4764910638332367</br>"
          ],
          [
           "</br>id: observation</br>prediction: 0.476</br>booking_changes: 15.54</br></br>lead_time: 203.0</br>arrival_date_year: 2016.0</br>adults: 2.0</br>children: 0.0</br>babies: 0.0</br>_original_yhat_: 0.4764910638332367</br>"
          ],
          [
           "</br>id: observation</br>prediction: 0.476</br>booking_changes: 15.75</br></br>lead_time: 203.0</br>arrival_date_year: 2016.0</br>adults: 2.0</br>children: 0.0</br>babies: 0.0</br>_original_yhat_: 0.4764910638332367</br>"
          ],
          [
           "</br>id: observation</br>prediction: 0.244</br>booking_changes: 15.959999999999999</br></br>lead_time: 203.0</br>arrival_date_year: 2016.0</br>adults: 2.0</br>children: 0.0</br>babies: 0.0</br>_original_yhat_: 0.4764910638332367</br>"
          ],
          [
           "</br>id: observation</br>prediction: 0.157</br>booking_changes: 16.169999999999998</br></br>lead_time: 203.0</br>arrival_date_year: 2016.0</br>adults: 2.0</br>children: 0.0</br>babies: 0.0</br>_original_yhat_: 0.4764910638332367</br>"
          ],
          [
           "</br>id: observation</br>prediction: 0.157</br>booking_changes: 16.38</br></br>lead_time: 203.0</br>arrival_date_year: 2016.0</br>adults: 2.0</br>children: 0.0</br>babies: 0.0</br>_original_yhat_: 0.4764910638332367</br>"
          ],
          [
           "</br>id: observation</br>prediction: 0.157</br>booking_changes: 16.59</br></br>lead_time: 203.0</br>arrival_date_year: 2016.0</br>adults: 2.0</br>children: 0.0</br>babies: 0.0</br>_original_yhat_: 0.4764910638332367</br>"
          ],
          [
           "</br>id: observation</br>prediction: 0.157</br>booking_changes: 16.8</br></br>lead_time: 203.0</br>arrival_date_year: 2016.0</br>adults: 2.0</br>children: 0.0</br>babies: 0.0</br>_original_yhat_: 0.4764910638332367</br>"
          ],
          [
           "</br>id: observation</br>prediction: 0.157</br>booking_changes: 17.009999999999998</br></br>lead_time: 203.0</br>arrival_date_year: 2016.0</br>adults: 2.0</br>children: 0.0</br>babies: 0.0</br>_original_yhat_: 0.4764910638332367</br>"
          ],
          [
           "</br>id: observation</br>prediction: 0.157</br>booking_changes: 17.22</br></br>lead_time: 203.0</br>arrival_date_year: 2016.0</br>adults: 2.0</br>children: 0.0</br>babies: 0.0</br>_original_yhat_: 0.4764910638332367</br>"
          ],
          [
           "</br>id: observation</br>prediction: 0.157</br>booking_changes: 17.43</br></br>lead_time: 203.0</br>arrival_date_year: 2016.0</br>adults: 2.0</br>children: 0.0</br>babies: 0.0</br>_original_yhat_: 0.4764910638332367</br>"
          ],
          [
           "</br>id: observation</br>prediction: 0.157</br>booking_changes: 17.64</br></br>lead_time: 203.0</br>arrival_date_year: 2016.0</br>adults: 2.0</br>children: 0.0</br>babies: 0.0</br>_original_yhat_: 0.4764910638332367</br>"
          ],
          [
           "</br>id: observation</br>prediction: 0.157</br>booking_changes: 17.849999999999998</br></br>lead_time: 203.0</br>arrival_date_year: 2016.0</br>adults: 2.0</br>children: 0.0</br>babies: 0.0</br>_original_yhat_: 0.4764910638332367</br>"
          ],
          [
           "</br>id: observation</br>prediction: 0.157</br>booking_changes: 18.06</br></br>lead_time: 203.0</br>arrival_date_year: 2016.0</br>adults: 2.0</br>children: 0.0</br>babies: 0.0</br>_original_yhat_: 0.4764910638332367</br>"
          ],
          [
           "</br>id: observation</br>prediction: 0.157</br>booking_changes: 18.27</br></br>lead_time: 203.0</br>arrival_date_year: 2016.0</br>adults: 2.0</br>children: 0.0</br>babies: 0.0</br>_original_yhat_: 0.4764910638332367</br>"
          ],
          [
           "</br>id: observation</br>prediction: 0.157</br>booking_changes: 18.48</br></br>lead_time: 203.0</br>arrival_date_year: 2016.0</br>adults: 2.0</br>children: 0.0</br>babies: 0.0</br>_original_yhat_: 0.4764910638332367</br>"
          ],
          [
           "</br>id: observation</br>prediction: 0.157</br>booking_changes: 18.689999999999998</br></br>lead_time: 203.0</br>arrival_date_year: 2016.0</br>adults: 2.0</br>children: 0.0</br>babies: 0.0</br>_original_yhat_: 0.4764910638332367</br>"
          ],
          [
           "</br>id: observation</br>prediction: 0.157</br>booking_changes: 18.9</br></br>lead_time: 203.0</br>arrival_date_year: 2016.0</br>adults: 2.0</br>children: 0.0</br>babies: 0.0</br>_original_yhat_: 0.4764910638332367</br>"
          ],
          [
           "</br>id: observation</br>prediction: 0.157</br>booking_changes: 19.11</br></br>lead_time: 203.0</br>arrival_date_year: 2016.0</br>adults: 2.0</br>children: 0.0</br>babies: 0.0</br>_original_yhat_: 0.4764910638332367</br>"
          ],
          [
           "</br>id: observation</br>prediction: 0.157</br>booking_changes: 19.32</br></br>lead_time: 203.0</br>arrival_date_year: 2016.0</br>adults: 2.0</br>children: 0.0</br>babies: 0.0</br>_original_yhat_: 0.4764910638332367</br>"
          ],
          [
           "</br>id: observation</br>prediction: 0.157</br>booking_changes: 19.529999999999998</br></br>lead_time: 203.0</br>arrival_date_year: 2016.0</br>adults: 2.0</br>children: 0.0</br>babies: 0.0</br>_original_yhat_: 0.4764910638332367</br>"
          ],
          [
           "</br>id: observation</br>prediction: 0.157</br>booking_changes: 19.74</br></br>lead_time: 203.0</br>arrival_date_year: 2016.0</br>adults: 2.0</br>children: 0.0</br>babies: 0.0</br>_original_yhat_: 0.4764910638332367</br>"
          ],
          [
           "</br>id: observation</br>prediction: 0.157</br>booking_changes: 19.95</br></br>lead_time: 203.0</br>arrival_date_year: 2016.0</br>adults: 2.0</br>children: 0.0</br>babies: 0.0</br>_original_yhat_: 0.4764910638332367</br>"
          ],
          [
           "</br>id: observation</br>prediction: 0.157</br>booking_changes: 20.16</br></br>lead_time: 203.0</br>arrival_date_year: 2016.0</br>adults: 2.0</br>children: 0.0</br>babies: 0.0</br>_original_yhat_: 0.4764910638332367</br>"
          ],
          [
           "</br>id: observation</br>prediction: 0.157</br>booking_changes: 20.37</br></br>lead_time: 203.0</br>arrival_date_year: 2016.0</br>adults: 2.0</br>children: 0.0</br>babies: 0.0</br>_original_yhat_: 0.4764910638332367</br>"
          ],
          [
           "</br>id: observation</br>prediction: 0.157</br>booking_changes: 20.58</br></br>lead_time: 203.0</br>arrival_date_year: 2016.0</br>adults: 2.0</br>children: 0.0</br>babies: 0.0</br>_original_yhat_: 0.4764910638332367</br>"
          ],
          [
           "</br>id: observation</br>prediction: 0.157</br>booking_changes: 20.79</br></br>lead_time: 203.0</br>arrival_date_year: 2016.0</br>adults: 2.0</br>children: 0.0</br>babies: 0.0</br>_original_yhat_: 0.4764910638332367</br>"
          ],
          [
           "</br>id: observation</br>prediction: 0.157</br>booking_changes: 21.0</br></br>lead_time: 203.0</br>arrival_date_year: 2016.0</br>adults: 2.0</br>children: 0.0</br>babies: 0.0</br>_original_yhat_: 0.4764910638332367</br>"
          ]
         ],
         "hovertemplate": "%{customdata[0]}<extra></extra>",
         "legendgroup": "neural_network",
         "line": {
          "color": "#46bac2",
          "dash": "solid",
          "width": 2
         },
         "marker": {
          "symbol": "circle"
         },
         "mode": "lines",
         "name": "neural_network",
         "opacity": 1,
         "orientation": "v",
         "showlegend": false,
         "type": "scatter",
         "x": [
          0,
          0.21,
          0.42,
          0.63,
          0.84,
          1.05,
          1.26,
          1.47,
          1.68,
          1.89,
          2.1,
          2.31,
          2.52,
          2.73,
          2.94,
          3.15,
          3.36,
          3.57,
          3.78,
          3.9899999999999998,
          4,
          4.2,
          4.41,
          4.62,
          4.83,
          5.04,
          5.25,
          5.46,
          5.67,
          5.88,
          6.09,
          6.3,
          6.51,
          6.72,
          6.93,
          7.14,
          7.35,
          7.56,
          7.77,
          7.9799999999999995,
          8.19,
          8.4,
          8.61,
          8.82,
          9.03,
          9.24,
          9.45,
          9.66,
          9.87,
          10.08,
          10.29,
          10.5,
          10.709999999999999,
          10.92,
          11.129999999999999,
          11.34,
          11.549999999999999,
          11.76,
          11.969999999999999,
          12.18,
          12.389999999999999,
          12.6,
          12.809999999999999,
          13.02,
          13.229999999999999,
          13.44,
          13.65,
          13.86,
          14.07,
          14.28,
          14.49,
          14.7,
          14.91,
          15.12,
          15.33,
          15.54,
          15.75,
          15.959999999999999,
          16.169999999999998,
          16.38,
          16.59,
          16.8,
          17.009999999999998,
          17.22,
          17.43,
          17.64,
          17.849999999999998,
          18.06,
          18.27,
          18.48,
          18.689999999999998,
          18.9,
          19.11,
          19.32,
          19.529999999999998,
          19.74,
          19.95,
          20.16,
          20.37,
          20.58,
          20.79,
          21
         ],
         "xaxis": "x2",
         "y": [
          0.4764910638332367,
          0.4764910638332367,
          0.4764910638332367,
          0.4764910638332367,
          0.4764910638332367,
          0.4764910638332367,
          0.4764910638332367,
          0.4764910638332367,
          0.4764910638332367,
          0.4764910638332367,
          0.4764910638332367,
          0.4764910638332367,
          0.4764910638332367,
          0.4764910638332367,
          0.4764910638332367,
          0.4764910638332367,
          0.4764910638332367,
          0.4764910638332367,
          0.4764910638332367,
          0.4764910638332367,
          0.4764910638332367,
          0.4764910638332367,
          0.4764910638332367,
          0.4764910638332367,
          0.4764910638332367,
          0.4764910638332367,
          0.4764910638332367,
          0.4764910638332367,
          0.4764910638332367,
          0.4764910638332367,
          0.4764910638332367,
          0.4764910638332367,
          0.4764910638332367,
          0.4764910638332367,
          0.4764910638332367,
          0.4764910638332367,
          0.4764910638332367,
          0.4764910638332367,
          0.4764910638332367,
          0.4764910638332367,
          0.4764910638332367,
          0.4764910638332367,
          0.4764910638332367,
          0.4764910638332367,
          0.4764910638332367,
          0.4764910638332367,
          0.4764910638332367,
          0.4764910638332367,
          0.4764910638332367,
          0.4764910638332367,
          0.4764910638332367,
          0.4764910638332367,
          0.4764910638332367,
          0.4764910638332367,
          0.4764910638332367,
          0.4764910638332367,
          0.4764910638332367,
          0.4764910638332367,
          0.4764910638332367,
          0.4764910638332367,
          0.4764910638332367,
          0.4764910638332367,
          0.4764910638332367,
          0.4764910638332367,
          0.4764910638332367,
          0.4764910638332367,
          0.4764910638332367,
          0.4764910638332367,
          0.4764910638332367,
          0.4764910638332367,
          0.4764910638332367,
          0.4764910638332367,
          0.4764910638332367,
          0.4764910638332367,
          0.4764910638332367,
          0.4764910638332367,
          0.4764851927757263,
          0.24369511008262634,
          0.15656250715255737,
          0.15656164288520813,
          0.15656164288520813,
          0.15656164288520813,
          0.15656164288520813,
          0.15656164288520813,
          0.15656164288520813,
          0.15656164288520813,
          0.15656164288520813,
          0.15656164288520813,
          0.15656164288520813,
          0.15656164288520813,
          0.15656164288520813,
          0.15656164288520813,
          0.15656164288520813,
          0.15656164288520813,
          0.15656164288520813,
          0.15656164288520813,
          0.15656164288520813,
          0.15656164288520813,
          0.15656164288520813,
          0.15656164288520813,
          0.15656164288520813,
          0.15656164288520813
         ],
         "yaxis": "y2"
        },
        {
         "customdata": [
          [
           "</br>id: observation</br>prediction: 0.476</br>lead_time: 203.0</br></br>arrival_date_year: 2016.0</br>adults: 2.0</br>children: 0.0</br>babies: 0.0</br>booking_changes: 4.0</br>_original_yhat_: 0.4764910638332367</br>"
          ]
         ],
         "hovertemplate": "%{customdata[0]}<extra></extra>",
         "legendgroup": "",
         "marker": {
          "color": "#371ea3",
          "size": 10,
          "symbol": "circle"
         },
         "mode": "markers",
         "name": "",
         "opacity": 1,
         "orientation": "v",
         "showlegend": false,
         "type": "scatter",
         "x": [
          203
         ],
         "xaxis": "x3",
         "y": [
          0.4764910638332367
         ],
         "yaxis": "y3"
        },
        {
         "customdata": [
          [
           "</br>id: observation</br>prediction: 0.476</br>children: 0.0</br></br>lead_time: 203.0</br>arrival_date_year: 2016.0</br>adults: 2.0</br>babies: 0.0</br>booking_changes: 4.0</br>_original_yhat_: 0.4764910638332367</br>"
          ]
         ],
         "hovertemplate": "%{customdata[0]}<extra></extra>",
         "legendgroup": "",
         "marker": {
          "color": "#371ea3",
          "size": 10,
          "symbol": "circle"
         },
         "mode": "markers",
         "name": "",
         "opacity": 1,
         "orientation": "v",
         "showlegend": false,
         "type": "scatter",
         "x": [
          0
         ],
         "xaxis": "x4",
         "y": [
          0.4764910638332367
         ],
         "yaxis": "y4"
        },
        {
         "customdata": [
          [
           "</br>id: observation</br>prediction: 0.476</br>babies: 0.0</br></br>lead_time: 203.0</br>arrival_date_year: 2016.0</br>adults: 2.0</br>children: 0.0</br>booking_changes: 4.0</br>_original_yhat_: 0.4764910638332367</br>"
          ]
         ],
         "hovertemplate": "%{customdata[0]}<extra></extra>",
         "legendgroup": "",
         "marker": {
          "color": "#371ea3",
          "size": 10,
          "symbol": "circle"
         },
         "mode": "markers",
         "name": "",
         "opacity": 1,
         "orientation": "v",
         "showlegend": false,
         "type": "scatter",
         "x": [
          0
         ],
         "xaxis": "x",
         "y": [
          0.4764910638332367
         ],
         "yaxis": "y"
        },
        {
         "customdata": [
          [
           "</br>id: observation</br>prediction: 0.476</br>booking_changes: 4.0</br></br>lead_time: 203.0</br>arrival_date_year: 2016.0</br>adults: 2.0</br>children: 0.0</br>babies: 0.0</br>_original_yhat_: 0.4764910638332367</br>"
          ]
         ],
         "hovertemplate": "%{customdata[0]}<extra></extra>",
         "legendgroup": "",
         "marker": {
          "color": "#371ea3",
          "size": 10,
          "symbol": "circle"
         },
         "mode": "markers",
         "name": "",
         "opacity": 1,
         "orientation": "v",
         "showlegend": false,
         "type": "scatter",
         "x": [
          4
         ],
         "xaxis": "x2",
         "y": [
          0.4764910638332367
         ],
         "yaxis": "y2"
        }
       ],
       "layout": {
        "annotations": [
         {
          "font": {
           "size": 13
          },
          "showarrow": false,
          "text": "babies",
          "x": 0.2375,
          "xanchor": "center",
          "xref": "paper",
          "y": 0.425,
          "yanchor": "bottom",
          "yref": "paper"
         },
         {
          "font": {
           "size": 13
          },
          "showarrow": false,
          "text": "booking_changes",
          "x": 0.7625,
          "xanchor": "center",
          "xref": "paper",
          "y": 0.425,
          "yanchor": "bottom",
          "yref": "paper"
         },
         {
          "font": {
           "size": 13
          },
          "showarrow": false,
          "text": "lead_time",
          "x": 0.2375,
          "xanchor": "center",
          "xref": "paper",
          "y": 1,
          "yanchor": "bottom",
          "yref": "paper"
         },
         {
          "font": {
           "size": 13
          },
          "showarrow": false,
          "text": "children",
          "x": 0.7625,
          "xanchor": "center",
          "xref": "paper",
          "y": 1,
          "yanchor": "bottom",
          "yref": "paper"
         },
         {
          "font": {
           "size": 13
          },
          "showarrow": false,
          "text": "prediction",
          "textangle": -90,
          "x": -0.07,
          "xref": "paper",
          "y": 0.5,
          "yref": "paper"
         }
        ],
        "font": {
         "color": "#371ea3"
        },
        "height": 829,
        "hoverlabel": {
         "bgcolor": "rgba(0,0,0,0.8)"
        },
        "hovermode": "closest",
        "legend": {
         "font": {
          "size": 11
         },
         "itemsizing": "constant",
         "orientation": "h",
         "title": {
          "font": {
           "size": 12
          },
          "text": "label"
         },
         "tracegroupgap": 0,
         "x": 1,
         "xanchor": "right",
         "y": 1.0361881785283473,
         "yanchor": "bottom"
        },
        "margin": {
         "b": 71,
         "r": 30,
         "t": 78
        },
        "template": {
         "data": {
          "scatter": [
           {
            "type": "scatter"
           }
          ]
         }
        },
        "title": {
         "font": {
          "size": 16
         },
         "text": "Ceteris Paribus Profiles",
         "x": 0.15
        },
        "xaxis": {
         "anchor": "y",
         "automargin": true,
         "domain": [
          0,
          0.475
         ],
         "fixedrange": true,
         "gridwidth": 2,
         "showticklabels": true,
         "tickcolor": "white",
         "ticklen": 3,
         "ticks": "outside",
         "title": {
          "text": ""
         },
         "type": "linear",
         "zeroline": false
        },
        "xaxis2": {
         "anchor": "y2",
         "automargin": true,
         "domain": [
          0.525,
          1
         ],
         "fixedrange": true,
         "gridwidth": 2,
         "showticklabels": true,
         "tickcolor": "white",
         "ticklen": 3,
         "ticks": "outside",
         "title": {
          "text": ""
         },
         "type": "linear",
         "zeroline": false
        },
        "xaxis3": {
         "anchor": "y3",
         "automargin": true,
         "domain": [
          0,
          0.475
         ],
         "fixedrange": true,
         "gridwidth": 2,
         "showticklabels": true,
         "tickcolor": "white",
         "ticklen": 3,
         "ticks": "outside",
         "title": {
          "text": ""
         },
         "type": "linear",
         "zeroline": false
        },
        "xaxis4": {
         "anchor": "y4",
         "automargin": true,
         "domain": [
          0.525,
          1
         ],
         "fixedrange": true,
         "gridwidth": 2,
         "showticklabels": true,
         "tickcolor": "white",
         "ticklen": 3,
         "ticks": "outside",
         "title": {
          "text": ""
         },
         "type": "linear",
         "zeroline": false
        },
        "yaxis": {
         "anchor": "x",
         "automargin": true,
         "domain": [
          0,
          0.425
         ],
         "fixedrange": true,
         "gridwidth": 2,
         "range": [
          0.12456870079040527,
          0.5084840059280396
         ],
         "tickcolor": "white",
         "ticklen": 3,
         "ticks": "outside",
         "title": {
          "text": ""
         },
         "type": "linear",
         "zeroline": false
        },
        "yaxis2": {
         "anchor": "x2",
         "automargin": true,
         "domain": [
          0,
          0.425
         ],
         "fixedrange": true,
         "gridwidth": 2,
         "matches": "y",
         "range": [
          0.12456870079040527,
          0.5084840059280396
         ],
         "showticklabels": false,
         "tickcolor": "white",
         "ticklen": 3,
         "ticks": "outside",
         "title": {
          "text": ""
         },
         "type": "linear",
         "zeroline": false
        },
        "yaxis3": {
         "anchor": "x3",
         "automargin": true,
         "domain": [
          0.575,
          1
         ],
         "fixedrange": true,
         "gridwidth": 2,
         "matches": "y",
         "range": [
          0.12456870079040527,
          0.5084840059280396
         ],
         "tickcolor": "white",
         "ticklen": 3,
         "ticks": "outside",
         "title": {
          "text": ""
         },
         "type": "linear",
         "zeroline": false
        },
        "yaxis4": {
         "anchor": "x4",
         "automargin": true,
         "domain": [
          0.575,
          1
         ],
         "fixedrange": true,
         "gridwidth": 2,
         "matches": "y",
         "range": [
          0.12456870079040527,
          0.5084840059280396
         ],
         "showticklabels": false,
         "tickcolor": "white",
         "ticklen": 3,
         "ticks": "outside",
         "title": {
          "text": ""
         },
         "type": "linear",
         "zeroline": false
        }
       }
      },
      "text/html": [
       "<div>                            <div id=\"cdb2bf8c-68f9-47fc-9f66-1fe2c17de307\" class=\"plotly-graph-div\" style=\"height:829px; width:100%;\"></div>            <script type=\"text/javascript\">                require([\"plotly\"], function(Plotly) {                    window.PLOTLYENV=window.PLOTLYENV || {};                                    if (document.getElementById(\"cdb2bf8c-68f9-47fc-9f66-1fe2c17de307\")) {                    Plotly.newPlot(                        \"cdb2bf8c-68f9-47fc-9f66-1fe2c17de307\",                        [{\"customdata\":[[\"</br>id: observation</br>prediction: 0.157</br>lead_time: 0.0</br></br>arrival_date_year: 2016.0</br>adults: 2.0</br>children: 0.0</br>babies: 0.0</br>booking_changes: 4.0</br>_original_yhat_: 0.4764910638332367</br>\"],[\"</br>id: observation</br>prediction: 0.157</br>lead_time: 7.37</br></br>arrival_date_year: 2016.0</br>adults: 2.0</br>children: 0.0</br>babies: 0.0</br>booking_changes: 4.0</br>_original_yhat_: 0.4764910638332367</br>\"],[\"</br>id: observation</br>prediction: 0.157</br>lead_time: 14.74</br></br>arrival_date_year: 2016.0</br>adults: 2.0</br>children: 0.0</br>babies: 0.0</br>booking_changes: 4.0</br>_original_yhat_: 0.4764910638332367</br>\"],[\"</br>id: observation</br>prediction: 0.157</br>lead_time: 22.11</br></br>arrival_date_year: 2016.0</br>adults: 2.0</br>children: 0.0</br>babies: 0.0</br>booking_changes: 4.0</br>_original_yhat_: 0.4764910638332367</br>\"],[\"</br>id: observation</br>prediction: 0.157</br>lead_time: 29.48</br></br>arrival_date_year: 2016.0</br>adults: 2.0</br>children: 0.0</br>babies: 0.0</br>booking_changes: 4.0</br>_original_yhat_: 0.4764910638332367</br>\"],[\"</br>id: observation</br>prediction: 0.157</br>lead_time: 36.85</br></br>arrival_date_year: 2016.0</br>adults: 2.0</br>children: 0.0</br>babies: 0.0</br>booking_changes: 4.0</br>_original_yhat_: 0.4764910638332367</br>\"],[\"</br>id: observation</br>prediction: 0.157</br>lead_time: 44.22</br></br>arrival_date_year: 2016.0</br>adults: 2.0</br>children: 0.0</br>babies: 0.0</br>booking_changes: 4.0</br>_original_yhat_: 0.4764910638332367</br>\"],[\"</br>id: observation</br>prediction: 0.157</br>lead_time: 51.59</br></br>arrival_date_year: 2016.0</br>adults: 2.0</br>children: 0.0</br>babies: 0.0</br>booking_changes: 4.0</br>_original_yhat_: 0.4764910638332367</br>\"],[\"</br>id: observation</br>prediction: 0.157</br>lead_time: 58.96</br></br>arrival_date_year: 2016.0</br>adults: 2.0</br>children: 0.0</br>babies: 0.0</br>booking_changes: 4.0</br>_original_yhat_: 0.4764910638332367</br>\"],[\"</br>id: observation</br>prediction: 0.157</br>lead_time: 66.33</br></br>arrival_date_year: 2016.0</br>adults: 2.0</br>children: 0.0</br>babies: 0.0</br>booking_changes: 4.0</br>_original_yhat_: 0.4764910638332367</br>\"],[\"</br>id: observation</br>prediction: 0.476</br>lead_time: 73.7</br></br>arrival_date_year: 2016.0</br>adults: 2.0</br>children: 0.0</br>babies: 0.0</br>booking_changes: 4.0</br>_original_yhat_: 0.4764910638332367</br>\"],[\"</br>id: observation</br>prediction: 0.476</br>lead_time: 81.07000000000001</br></br>arrival_date_year: 2016.0</br>adults: 2.0</br>children: 0.0</br>babies: 0.0</br>booking_changes: 4.0</br>_original_yhat_: 0.4764910638332367</br>\"],[\"</br>id: observation</br>prediction: 0.476</br>lead_time: 88.44</br></br>arrival_date_year: 2016.0</br>adults: 2.0</br>children: 0.0</br>babies: 0.0</br>booking_changes: 4.0</br>_original_yhat_: 0.4764910638332367</br>\"],[\"</br>id: observation</br>prediction: 0.476</br>lead_time: 95.81</br></br>arrival_date_year: 2016.0</br>adults: 2.0</br>children: 0.0</br>babies: 0.0</br>booking_changes: 4.0</br>_original_yhat_: 0.4764910638332367</br>\"],[\"</br>id: observation</br>prediction: 0.476</br>lead_time: 103.18</br></br>arrival_date_year: 2016.0</br>adults: 2.0</br>children: 0.0</br>babies: 0.0</br>booking_changes: 4.0</br>_original_yhat_: 0.4764910638332367</br>\"],[\"</br>id: observation</br>prediction: 0.476</br>lead_time: 110.55</br></br>arrival_date_year: 2016.0</br>adults: 2.0</br>children: 0.0</br>babies: 0.0</br>booking_changes: 4.0</br>_original_yhat_: 0.4764910638332367</br>\"],[\"</br>id: observation</br>prediction: 0.476</br>lead_time: 117.92</br></br>arrival_date_year: 2016.0</br>adults: 2.0</br>children: 0.0</br>babies: 0.0</br>booking_changes: 4.0</br>_original_yhat_: 0.4764910638332367</br>\"],[\"</br>id: observation</br>prediction: 0.476</br>lead_time: 125.29</br></br>arrival_date_year: 2016.0</br>adults: 2.0</br>children: 0.0</br>babies: 0.0</br>booking_changes: 4.0</br>_original_yhat_: 0.4764910638332367</br>\"],[\"</br>id: observation</br>prediction: 0.476</br>lead_time: 132.66</br></br>arrival_date_year: 2016.0</br>adults: 2.0</br>children: 0.0</br>babies: 0.0</br>booking_changes: 4.0</br>_original_yhat_: 0.4764910638332367</br>\"],[\"</br>id: observation</br>prediction: 0.476</br>lead_time: 140.03</br></br>arrival_date_year: 2016.0</br>adults: 2.0</br>children: 0.0</br>babies: 0.0</br>booking_changes: 4.0</br>_original_yhat_: 0.4764910638332367</br>\"],[\"</br>id: observation</br>prediction: 0.476</br>lead_time: 147.4</br></br>arrival_date_year: 2016.0</br>adults: 2.0</br>children: 0.0</br>babies: 0.0</br>booking_changes: 4.0</br>_original_yhat_: 0.4764910638332367</br>\"],[\"</br>id: observation</br>prediction: 0.476</br>lead_time: 154.77</br></br>arrival_date_year: 2016.0</br>adults: 2.0</br>children: 0.0</br>babies: 0.0</br>booking_changes: 4.0</br>_original_yhat_: 0.4764910638332367</br>\"],[\"</br>id: observation</br>prediction: 0.476</br>lead_time: 162.14000000000001</br></br>arrival_date_year: 2016.0</br>adults: 2.0</br>children: 0.0</br>babies: 0.0</br>booking_changes: 4.0</br>_original_yhat_: 0.4764910638332367</br>\"],[\"</br>id: observation</br>prediction: 0.476</br>lead_time: 169.51</br></br>arrival_date_year: 2016.0</br>adults: 2.0</br>children: 0.0</br>babies: 0.0</br>booking_changes: 4.0</br>_original_yhat_: 0.4764910638332367</br>\"],[\"</br>id: observation</br>prediction: 0.476</br>lead_time: 176.88</br></br>arrival_date_year: 2016.0</br>adults: 2.0</br>children: 0.0</br>babies: 0.0</br>booking_changes: 4.0</br>_original_yhat_: 0.4764910638332367</br>\"],[\"</br>id: observation</br>prediction: 0.476</br>lead_time: 184.25</br></br>arrival_date_year: 2016.0</br>adults: 2.0</br>children: 0.0</br>babies: 0.0</br>booking_changes: 4.0</br>_original_yhat_: 0.4764910638332367</br>\"],[\"</br>id: observation</br>prediction: 0.476</br>lead_time: 191.62</br></br>arrival_date_year: 2016.0</br>adults: 2.0</br>children: 0.0</br>babies: 0.0</br>booking_changes: 4.0</br>_original_yhat_: 0.4764910638332367</br>\"],[\"</br>id: observation</br>prediction: 0.476</br>lead_time: 198.99</br></br>arrival_date_year: 2016.0</br>adults: 2.0</br>children: 0.0</br>babies: 0.0</br>booking_changes: 4.0</br>_original_yhat_: 0.4764910638332367</br>\"],[\"</br>id: observation</br>prediction: 0.476</br>lead_time: 203.0</br></br>arrival_date_year: 2016.0</br>adults: 2.0</br>children: 0.0</br>babies: 0.0</br>booking_changes: 4.0</br>_original_yhat_: 0.4764910638332367</br>\"],[\"</br>id: observation</br>prediction: 0.476</br>lead_time: 206.36</br></br>arrival_date_year: 2016.0</br>adults: 2.0</br>children: 0.0</br>babies: 0.0</br>booking_changes: 4.0</br>_original_yhat_: 0.4764910638332367</br>\"],[\"</br>id: observation</br>prediction: 0.476</br>lead_time: 213.73</br></br>arrival_date_year: 2016.0</br>adults: 2.0</br>children: 0.0</br>babies: 0.0</br>booking_changes: 4.0</br>_original_yhat_: 0.4764910638332367</br>\"],[\"</br>id: observation</br>prediction: 0.476</br>lead_time: 221.1</br></br>arrival_date_year: 2016.0</br>adults: 2.0</br>children: 0.0</br>babies: 0.0</br>booking_changes: 4.0</br>_original_yhat_: 0.4764910638332367</br>\"],[\"</br>id: observation</br>prediction: 0.476</br>lead_time: 228.47</br></br>arrival_date_year: 2016.0</br>adults: 2.0</br>children: 0.0</br>babies: 0.0</br>booking_changes: 4.0</br>_original_yhat_: 0.4764910638332367</br>\"],[\"</br>id: observation</br>prediction: 0.476</br>lead_time: 235.84</br></br>arrival_date_year: 2016.0</br>adults: 2.0</br>children: 0.0</br>babies: 0.0</br>booking_changes: 4.0</br>_original_yhat_: 0.4764910638332367</br>\"],[\"</br>id: observation</br>prediction: 0.476</br>lead_time: 243.21</br></br>arrival_date_year: 2016.0</br>adults: 2.0</br>children: 0.0</br>babies: 0.0</br>booking_changes: 4.0</br>_original_yhat_: 0.4764910638332367</br>\"],[\"</br>id: observation</br>prediction: 0.476</br>lead_time: 250.58</br></br>arrival_date_year: 2016.0</br>adults: 2.0</br>children: 0.0</br>babies: 0.0</br>booking_changes: 4.0</br>_original_yhat_: 0.4764910638332367</br>\"],[\"</br>id: observation</br>prediction: 0.476</br>lead_time: 257.95</br></br>arrival_date_year: 2016.0</br>adults: 2.0</br>children: 0.0</br>babies: 0.0</br>booking_changes: 4.0</br>_original_yhat_: 0.4764910638332367</br>\"],[\"</br>id: observation</br>prediction: 0.476</br>lead_time: 265.32</br></br>arrival_date_year: 2016.0</br>adults: 2.0</br>children: 0.0</br>babies: 0.0</br>booking_changes: 4.0</br>_original_yhat_: 0.4764910638332367</br>\"],[\"</br>id: observation</br>prediction: 0.476</br>lead_time: 272.69</br></br>arrival_date_year: 2016.0</br>adults: 2.0</br>children: 0.0</br>babies: 0.0</br>booking_changes: 4.0</br>_original_yhat_: 0.4764910638332367</br>\"],[\"</br>id: observation</br>prediction: 0.476</br>lead_time: 280.06</br></br>arrival_date_year: 2016.0</br>adults: 2.0</br>children: 0.0</br>babies: 0.0</br>booking_changes: 4.0</br>_original_yhat_: 0.4764910638332367</br>\"],[\"</br>id: observation</br>prediction: 0.476</br>lead_time: 287.43</br></br>arrival_date_year: 2016.0</br>adults: 2.0</br>children: 0.0</br>babies: 0.0</br>booking_changes: 4.0</br>_original_yhat_: 0.4764910638332367</br>\"],[\"</br>id: observation</br>prediction: 0.476</br>lead_time: 294.8</br></br>arrival_date_year: 2016.0</br>adults: 2.0</br>children: 0.0</br>babies: 0.0</br>booking_changes: 4.0</br>_original_yhat_: 0.4764910638332367</br>\"],[\"</br>id: observation</br>prediction: 0.476</br>lead_time: 302.17</br></br>arrival_date_year: 2016.0</br>adults: 2.0</br>children: 0.0</br>babies: 0.0</br>booking_changes: 4.0</br>_original_yhat_: 0.4764910638332367</br>\"],[\"</br>id: observation</br>prediction: 0.476</br>lead_time: 309.54</br></br>arrival_date_year: 2016.0</br>adults: 2.0</br>children: 0.0</br>babies: 0.0</br>booking_changes: 4.0</br>_original_yhat_: 0.4764910638332367</br>\"],[\"</br>id: observation</br>prediction: 0.476</br>lead_time: 316.91</br></br>arrival_date_year: 2016.0</br>adults: 2.0</br>children: 0.0</br>babies: 0.0</br>booking_changes: 4.0</br>_original_yhat_: 0.4764910638332367</br>\"],[\"</br>id: observation</br>prediction: 0.476</br>lead_time: 324.28000000000003</br></br>arrival_date_year: 2016.0</br>adults: 2.0</br>children: 0.0</br>babies: 0.0</br>booking_changes: 4.0</br>_original_yhat_: 0.4764910638332367</br>\"],[\"</br>id: observation</br>prediction: 0.476</br>lead_time: 331.65</br></br>arrival_date_year: 2016.0</br>adults: 2.0</br>children: 0.0</br>babies: 0.0</br>booking_changes: 4.0</br>_original_yhat_: 0.4764910638332367</br>\"],[\"</br>id: observation</br>prediction: 0.476</br>lead_time: 339.02</br></br>arrival_date_year: 2016.0</br>adults: 2.0</br>children: 0.0</br>babies: 0.0</br>booking_changes: 4.0</br>_original_yhat_: 0.4764910638332367</br>\"],[\"</br>id: observation</br>prediction: 0.476</br>lead_time: 346.39</br></br>arrival_date_year: 2016.0</br>adults: 2.0</br>children: 0.0</br>babies: 0.0</br>booking_changes: 4.0</br>_original_yhat_: 0.4764910638332367</br>\"],[\"</br>id: observation</br>prediction: 0.476</br>lead_time: 353.76</br></br>arrival_date_year: 2016.0</br>adults: 2.0</br>children: 0.0</br>babies: 0.0</br>booking_changes: 4.0</br>_original_yhat_: 0.4764910638332367</br>\"],[\"</br>id: observation</br>prediction: 0.476</br>lead_time: 361.13</br></br>arrival_date_year: 2016.0</br>adults: 2.0</br>children: 0.0</br>babies: 0.0</br>booking_changes: 4.0</br>_original_yhat_: 0.4764910638332367</br>\"],[\"</br>id: observation</br>prediction: 0.476</br>lead_time: 368.5</br></br>arrival_date_year: 2016.0</br>adults: 2.0</br>children: 0.0</br>babies: 0.0</br>booking_changes: 4.0</br>_original_yhat_: 0.4764910638332367</br>\"],[\"</br>id: observation</br>prediction: 0.476</br>lead_time: 375.87</br></br>arrival_date_year: 2016.0</br>adults: 2.0</br>children: 0.0</br>babies: 0.0</br>booking_changes: 4.0</br>_original_yhat_: 0.4764910638332367</br>\"],[\"</br>id: observation</br>prediction: 0.476</br>lead_time: 383.24</br></br>arrival_date_year: 2016.0</br>adults: 2.0</br>children: 0.0</br>babies: 0.0</br>booking_changes: 4.0</br>_original_yhat_: 0.4764910638332367</br>\"],[\"</br>id: observation</br>prediction: 0.476</br>lead_time: 390.61</br></br>arrival_date_year: 2016.0</br>adults: 2.0</br>children: 0.0</br>babies: 0.0</br>booking_changes: 4.0</br>_original_yhat_: 0.4764910638332367</br>\"],[\"</br>id: observation</br>prediction: 0.476</br>lead_time: 397.98</br></br>arrival_date_year: 2016.0</br>adults: 2.0</br>children: 0.0</br>babies: 0.0</br>booking_changes: 4.0</br>_original_yhat_: 0.4764910638332367</br>\"],[\"</br>id: observation</br>prediction: 0.476</br>lead_time: 405.35</br></br>arrival_date_year: 2016.0</br>adults: 2.0</br>children: 0.0</br>babies: 0.0</br>booking_changes: 4.0</br>_original_yhat_: 0.4764910638332367</br>\"],[\"</br>id: observation</br>prediction: 0.476</br>lead_time: 412.72</br></br>arrival_date_year: 2016.0</br>adults: 2.0</br>children: 0.0</br>babies: 0.0</br>booking_changes: 4.0</br>_original_yhat_: 0.4764910638332367</br>\"],[\"</br>id: observation</br>prediction: 0.476</br>lead_time: 420.09000000000003</br></br>arrival_date_year: 2016.0</br>adults: 2.0</br>children: 0.0</br>babies: 0.0</br>booking_changes: 4.0</br>_original_yhat_: 0.4764910638332367</br>\"],[\"</br>id: observation</br>prediction: 0.476</br>lead_time: 427.46</br></br>arrival_date_year: 2016.0</br>adults: 2.0</br>children: 0.0</br>babies: 0.0</br>booking_changes: 4.0</br>_original_yhat_: 0.4764910638332367</br>\"],[\"</br>id: observation</br>prediction: 0.476</br>lead_time: 434.83</br></br>arrival_date_year: 2016.0</br>adults: 2.0</br>children: 0.0</br>babies: 0.0</br>booking_changes: 4.0</br>_original_yhat_: 0.4764910638332367</br>\"],[\"</br>id: observation</br>prediction: 0.476</br>lead_time: 442.2</br></br>arrival_date_year: 2016.0</br>adults: 2.0</br>children: 0.0</br>babies: 0.0</br>booking_changes: 4.0</br>_original_yhat_: 0.4764910638332367</br>\"],[\"</br>id: observation</br>prediction: 0.476</br>lead_time: 449.57</br></br>arrival_date_year: 2016.0</br>adults: 2.0</br>children: 0.0</br>babies: 0.0</br>booking_changes: 4.0</br>_original_yhat_: 0.4764910638332367</br>\"],[\"</br>id: observation</br>prediction: 0.476</br>lead_time: 456.94</br></br>arrival_date_year: 2016.0</br>adults: 2.0</br>children: 0.0</br>babies: 0.0</br>booking_changes: 4.0</br>_original_yhat_: 0.4764910638332367</br>\"],[\"</br>id: observation</br>prediction: 0.476</br>lead_time: 464.31</br></br>arrival_date_year: 2016.0</br>adults: 2.0</br>children: 0.0</br>babies: 0.0</br>booking_changes: 4.0</br>_original_yhat_: 0.4764910638332367</br>\"],[\"</br>id: observation</br>prediction: 0.476</br>lead_time: 471.68</br></br>arrival_date_year: 2016.0</br>adults: 2.0</br>children: 0.0</br>babies: 0.0</br>booking_changes: 4.0</br>_original_yhat_: 0.4764910638332367</br>\"],[\"</br>id: observation</br>prediction: 0.476</br>lead_time: 479.05</br></br>arrival_date_year: 2016.0</br>adults: 2.0</br>children: 0.0</br>babies: 0.0</br>booking_changes: 4.0</br>_original_yhat_: 0.4764910638332367</br>\"],[\"</br>id: observation</br>prediction: 0.476</br>lead_time: 486.42</br></br>arrival_date_year: 2016.0</br>adults: 2.0</br>children: 0.0</br>babies: 0.0</br>booking_changes: 4.0</br>_original_yhat_: 0.4764910638332367</br>\"],[\"</br>id: observation</br>prediction: 0.476</br>lead_time: 493.79</br></br>arrival_date_year: 2016.0</br>adults: 2.0</br>children: 0.0</br>babies: 0.0</br>booking_changes: 4.0</br>_original_yhat_: 0.4764910638332367</br>\"],[\"</br>id: observation</br>prediction: 0.476</br>lead_time: 501.16</br></br>arrival_date_year: 2016.0</br>adults: 2.0</br>children: 0.0</br>babies: 0.0</br>booking_changes: 4.0</br>_original_yhat_: 0.4764910638332367</br>\"],[\"</br>id: observation</br>prediction: 0.476</br>lead_time: 508.53000000000003</br></br>arrival_date_year: 2016.0</br>adults: 2.0</br>children: 0.0</br>babies: 0.0</br>booking_changes: 4.0</br>_original_yhat_: 0.4764910638332367</br>\"],[\"</br>id: observation</br>prediction: 0.476</br>lead_time: 515.9</br></br>arrival_date_year: 2016.0</br>adults: 2.0</br>children: 0.0</br>babies: 0.0</br>booking_changes: 4.0</br>_original_yhat_: 0.4764910638332367</br>\"],[\"</br>id: observation</br>prediction: 0.476</br>lead_time: 523.27</br></br>arrival_date_year: 2016.0</br>adults: 2.0</br>children: 0.0</br>babies: 0.0</br>booking_changes: 4.0</br>_original_yhat_: 0.4764910638332367</br>\"],[\"</br>id: observation</br>prediction: 0.476</br>lead_time: 530.64</br></br>arrival_date_year: 2016.0</br>adults: 2.0</br>children: 0.0</br>babies: 0.0</br>booking_changes: 4.0</br>_original_yhat_: 0.4764910638332367</br>\"],[\"</br>id: observation</br>prediction: 0.476</br>lead_time: 538.01</br></br>arrival_date_year: 2016.0</br>adults: 2.0</br>children: 0.0</br>babies: 0.0</br>booking_changes: 4.0</br>_original_yhat_: 0.4764910638332367</br>\"],[\"</br>id: observation</br>prediction: 0.476</br>lead_time: 545.38</br></br>arrival_date_year: 2016.0</br>adults: 2.0</br>children: 0.0</br>babies: 0.0</br>booking_changes: 4.0</br>_original_yhat_: 0.4764910638332367</br>\"],[\"</br>id: observation</br>prediction: 0.476</br>lead_time: 552.75</br></br>arrival_date_year: 2016.0</br>adults: 2.0</br>children: 0.0</br>babies: 0.0</br>booking_changes: 4.0</br>_original_yhat_: 0.4764910638332367</br>\"],[\"</br>id: observation</br>prediction: 0.476</br>lead_time: 560.12</br></br>arrival_date_year: 2016.0</br>adults: 2.0</br>children: 0.0</br>babies: 0.0</br>booking_changes: 4.0</br>_original_yhat_: 0.4764910638332367</br>\"],[\"</br>id: observation</br>prediction: 0.476</br>lead_time: 567.49</br></br>arrival_date_year: 2016.0</br>adults: 2.0</br>children: 0.0</br>babies: 0.0</br>booking_changes: 4.0</br>_original_yhat_: 0.4764910638332367</br>\"],[\"</br>id: observation</br>prediction: 0.476</br>lead_time: 574.86</br></br>arrival_date_year: 2016.0</br>adults: 2.0</br>children: 0.0</br>babies: 0.0</br>booking_changes: 4.0</br>_original_yhat_: 0.4764910638332367</br>\"],[\"</br>id: observation</br>prediction: 0.476</br>lead_time: 582.23</br></br>arrival_date_year: 2016.0</br>adults: 2.0</br>children: 0.0</br>babies: 0.0</br>booking_changes: 4.0</br>_original_yhat_: 0.4764910638332367</br>\"],[\"</br>id: observation</br>prediction: 0.476</br>lead_time: 589.6</br></br>arrival_date_year: 2016.0</br>adults: 2.0</br>children: 0.0</br>babies: 0.0</br>booking_changes: 4.0</br>_original_yhat_: 0.4764910638332367</br>\"],[\"</br>id: observation</br>prediction: 0.476</br>lead_time: 596.97</br></br>arrival_date_year: 2016.0</br>adults: 2.0</br>children: 0.0</br>babies: 0.0</br>booking_changes: 4.0</br>_original_yhat_: 0.4764910638332367</br>\"],[\"</br>id: observation</br>prediction: 0.476</br>lead_time: 604.34</br></br>arrival_date_year: 2016.0</br>adults: 2.0</br>children: 0.0</br>babies: 0.0</br>booking_changes: 4.0</br>_original_yhat_: 0.4764910638332367</br>\"],[\"</br>id: observation</br>prediction: 0.476</br>lead_time: 611.71</br></br>arrival_date_year: 2016.0</br>adults: 2.0</br>children: 0.0</br>babies: 0.0</br>booking_changes: 4.0</br>_original_yhat_: 0.4764910638332367</br>\"],[\"</br>id: observation</br>prediction: 0.476</br>lead_time: 619.08</br></br>arrival_date_year: 2016.0</br>adults: 2.0</br>children: 0.0</br>babies: 0.0</br>booking_changes: 4.0</br>_original_yhat_: 0.4764910638332367</br>\"],[\"</br>id: observation</br>prediction: 0.476</br>lead_time: 626.45</br></br>arrival_date_year: 2016.0</br>adults: 2.0</br>children: 0.0</br>babies: 0.0</br>booking_changes: 4.0</br>_original_yhat_: 0.4764910638332367</br>\"],[\"</br>id: observation</br>prediction: 0.476</br>lead_time: 633.82</br></br>arrival_date_year: 2016.0</br>adults: 2.0</br>children: 0.0</br>babies: 0.0</br>booking_changes: 4.0</br>_original_yhat_: 0.4764910638332367</br>\"],[\"</br>id: observation</br>prediction: 0.476</br>lead_time: 641.19</br></br>arrival_date_year: 2016.0</br>adults: 2.0</br>children: 0.0</br>babies: 0.0</br>booking_changes: 4.0</br>_original_yhat_: 0.4764910638332367</br>\"],[\"</br>id: observation</br>prediction: 0.476</br>lead_time: 648.5600000000001</br></br>arrival_date_year: 2016.0</br>adults: 2.0</br>children: 0.0</br>babies: 0.0</br>booking_changes: 4.0</br>_original_yhat_: 0.4764910638332367</br>\"],[\"</br>id: observation</br>prediction: 0.476</br>lead_time: 655.9300000000001</br></br>arrival_date_year: 2016.0</br>adults: 2.0</br>children: 0.0</br>babies: 0.0</br>booking_changes: 4.0</br>_original_yhat_: 0.4764910638332367</br>\"],[\"</br>id: observation</br>prediction: 0.476</br>lead_time: 663.3</br></br>arrival_date_year: 2016.0</br>adults: 2.0</br>children: 0.0</br>babies: 0.0</br>booking_changes: 4.0</br>_original_yhat_: 0.4764910638332367</br>\"],[\"</br>id: observation</br>prediction: 0.476</br>lead_time: 670.67</br></br>arrival_date_year: 2016.0</br>adults: 2.0</br>children: 0.0</br>babies: 0.0</br>booking_changes: 4.0</br>_original_yhat_: 0.4764910638332367</br>\"],[\"</br>id: observation</br>prediction: 0.476</br>lead_time: 678.04</br></br>arrival_date_year: 2016.0</br>adults: 2.0</br>children: 0.0</br>babies: 0.0</br>booking_changes: 4.0</br>_original_yhat_: 0.4764910638332367</br>\"],[\"</br>id: observation</br>prediction: 0.476</br>lead_time: 685.41</br></br>arrival_date_year: 2016.0</br>adults: 2.0</br>children: 0.0</br>babies: 0.0</br>booking_changes: 4.0</br>_original_yhat_: 0.4764910638332367</br>\"],[\"</br>id: observation</br>prediction: 0.476</br>lead_time: 692.78</br></br>arrival_date_year: 2016.0</br>adults: 2.0</br>children: 0.0</br>babies: 0.0</br>booking_changes: 4.0</br>_original_yhat_: 0.4764910638332367</br>\"],[\"</br>id: observation</br>prediction: 0.476</br>lead_time: 700.15</br></br>arrival_date_year: 2016.0</br>adults: 2.0</br>children: 0.0</br>babies: 0.0</br>booking_changes: 4.0</br>_original_yhat_: 0.4764910638332367</br>\"],[\"</br>id: observation</br>prediction: 0.476</br>lead_time: 707.52</br></br>arrival_date_year: 2016.0</br>adults: 2.0</br>children: 0.0</br>babies: 0.0</br>booking_changes: 4.0</br>_original_yhat_: 0.4764910638332367</br>\"],[\"</br>id: observation</br>prediction: 0.476</br>lead_time: 714.89</br></br>arrival_date_year: 2016.0</br>adults: 2.0</br>children: 0.0</br>babies: 0.0</br>booking_changes: 4.0</br>_original_yhat_: 0.4764910638332367</br>\"],[\"</br>id: observation</br>prediction: 0.476</br>lead_time: 722.26</br></br>arrival_date_year: 2016.0</br>adults: 2.0</br>children: 0.0</br>babies: 0.0</br>booking_changes: 4.0</br>_original_yhat_: 0.4764910638332367</br>\"],[\"</br>id: observation</br>prediction: 0.476</br>lead_time: 729.63</br></br>arrival_date_year: 2016.0</br>adults: 2.0</br>children: 0.0</br>babies: 0.0</br>booking_changes: 4.0</br>_original_yhat_: 0.4764910638332367</br>\"],[\"</br>id: observation</br>prediction: 0.476</br>lead_time: 737.0</br></br>arrival_date_year: 2016.0</br>adults: 2.0</br>children: 0.0</br>babies: 0.0</br>booking_changes: 4.0</br>_original_yhat_: 0.4764910638332367</br>\"]],\"hovertemplate\":\"%{customdata[0]}<extra></extra>\",\"legendgroup\":\"neural_network\",\"line\":{\"color\":\"#46bac2\",\"dash\":\"solid\",\"width\":2},\"marker\":{\"symbol\":\"circle\"},\"mode\":\"lines\",\"name\":\"neural_network\",\"orientation\":\"v\",\"showlegend\":true,\"x\":[0.0,7.37,14.74,22.11,29.48,36.85,44.22,51.59,58.96,66.33,73.7,81.07000000000001,88.44,95.81,103.18,110.55,117.92,125.29,132.66,140.03,147.4,154.77,162.14000000000001,169.51,176.88,184.25,191.62,198.99,203.0,206.36,213.73,221.1,228.47,235.84,243.21,250.58,257.95,265.32,272.69,280.06,287.43,294.8,302.17,309.54,316.91,324.28000000000003,331.65,339.02,346.39,353.76,361.13,368.5,375.87,383.24,390.61,397.98,405.35,412.72,420.09000000000003,427.46,434.83,442.2,449.57,456.94,464.31,471.68,479.05,486.42,493.79,501.16,508.53000000000003,515.9,523.27,530.64,538.01,545.38,552.75,560.12,567.49,574.86,582.23,589.6,596.97,604.34,611.71,619.08,626.45,633.82,641.19,648.5600000000001,655.9300000000001,663.3,670.67,678.04,685.41,692.78,700.15,707.52,714.89,722.26,729.63,737.0],\"xaxis\":\"x3\",\"y\":[0.15656164288520813,0.15656164288520813,0.15656164288520813,0.15656164288520813,0.15656164288520813,0.15656164288520813,0.15656164288520813,0.15656164288520813,0.15656164288520813,0.15656164288520813,0.4764910638332367,0.4764910638332367,0.4764910638332367,0.4764910638332367,0.4764910638332367,0.4764910638332367,0.4764910638332367,0.4764910638332367,0.4764910638332367,0.4764910638332367,0.4764910638332367,0.4764910638332367,0.4764910638332367,0.4764910638332367,0.4764910638332367,0.4764910638332367,0.4764910638332367,0.4764910638332367,0.4764910638332367,0.4764910638332367,0.4764910638332367,0.4764910638332367,0.4764910638332367,0.4764910638332367,0.4764910638332367,0.4764910638332367,0.4764910638332367,0.4764910638332367,0.4764910638332367,0.4764910638332367,0.4764910638332367,0.4764910638332367,0.4764910638332367,0.4764910638332367,0.4764910638332367,0.4764910638332367,0.4764910638332367,0.4764910638332367,0.4764910638332367,0.4764910638332367,0.4764910638332367,0.4764910638332367,0.4764910638332367,0.4764910638332367,0.4764910638332367,0.4764910638332367,0.4764910638332367,0.4764910638332367,0.4764910638332367,0.4764910638332367,0.4764910638332367,0.4764910638332367,0.4764910638332367,0.4764910638332367,0.4764910638332367,0.4764910638332367,0.4764910638332367,0.4764910638332367,0.4764910638332367,0.4764910638332367,0.4764910638332367,0.4764910638332367,0.4764910638332367,0.4764910638332367,0.4764910638332367,0.4764910638332367,0.4764910638332367,0.4764910638332367,0.4764910638332367,0.4764910638332367,0.4764910638332367,0.4764910638332367,0.4764910638332367,0.4764910638332367,0.4764910638332367,0.4764910638332367,0.4764910638332367,0.4764910638332367,0.4764910638332367,0.4764910638332367,0.4764910638332367,0.4764910638332367,0.4764910638332367,0.4764910638332367,0.4764910638332367,0.4764910638332367,0.4764910638332367,0.4764910638332367,0.4764910638332367,0.4764910638332367,0.4764910638332367,0.4764910638332367],\"yaxis\":\"y3\",\"type\":\"scatter\",\"opacity\":1},{\"customdata\":[[\"</br>id: observation</br>prediction: 0.476</br>children: 0.0</br></br>lead_time: 203.0</br>arrival_date_year: 2016.0</br>adults: 2.0</br>babies: 0.0</br>booking_changes: 4.0</br>_original_yhat_: 0.4764910638332367</br>\"],[\"</br>id: observation</br>prediction: 0.476</br>children: 0.1</br></br>lead_time: 203.0</br>arrival_date_year: 2016.0</br>adults: 2.0</br>babies: 0.0</br>booking_changes: 4.0</br>_original_yhat_: 0.4764910638332367</br>\"],[\"</br>id: observation</br>prediction: 0.476</br>children: 0.2</br></br>lead_time: 203.0</br>arrival_date_year: 2016.0</br>adults: 2.0</br>babies: 0.0</br>booking_changes: 4.0</br>_original_yhat_: 0.4764910638332367</br>\"],[\"</br>id: observation</br>prediction: 0.476</br>children: 0.30000000000000004</br></br>lead_time: 203.0</br>arrival_date_year: 2016.0</br>adults: 2.0</br>babies: 0.0</br>booking_changes: 4.0</br>_original_yhat_: 0.4764910638332367</br>\"],[\"</br>id: observation</br>prediction: 0.476</br>children: 0.4</br></br>lead_time: 203.0</br>arrival_date_year: 2016.0</br>adults: 2.0</br>babies: 0.0</br>booking_changes: 4.0</br>_original_yhat_: 0.4764910638332367</br>\"],[\"</br>id: observation</br>prediction: 0.476</br>children: 0.5</br></br>lead_time: 203.0</br>arrival_date_year: 2016.0</br>adults: 2.0</br>babies: 0.0</br>booking_changes: 4.0</br>_original_yhat_: 0.4764910638332367</br>\"],[\"</br>id: observation</br>prediction: 0.476</br>children: 0.6000000000000001</br></br>lead_time: 203.0</br>arrival_date_year: 2016.0</br>adults: 2.0</br>babies: 0.0</br>booking_changes: 4.0</br>_original_yhat_: 0.4764910638332367</br>\"],[\"</br>id: observation</br>prediction: 0.476</br>children: 0.7000000000000001</br></br>lead_time: 203.0</br>arrival_date_year: 2016.0</br>adults: 2.0</br>babies: 0.0</br>booking_changes: 4.0</br>_original_yhat_: 0.4764910638332367</br>\"],[\"</br>id: observation</br>prediction: 0.476</br>children: 0.8</br></br>lead_time: 203.0</br>arrival_date_year: 2016.0</br>adults: 2.0</br>babies: 0.0</br>booking_changes: 4.0</br>_original_yhat_: 0.4764910638332367</br>\"],[\"</br>id: observation</br>prediction: 0.476</br>children: 0.9</br></br>lead_time: 203.0</br>arrival_date_year: 2016.0</br>adults: 2.0</br>babies: 0.0</br>booking_changes: 4.0</br>_original_yhat_: 0.4764910638332367</br>\"],[\"</br>id: observation</br>prediction: 0.476</br>children: 1.0</br></br>lead_time: 203.0</br>arrival_date_year: 2016.0</br>adults: 2.0</br>babies: 0.0</br>booking_changes: 4.0</br>_original_yhat_: 0.4764910638332367</br>\"],[\"</br>id: observation</br>prediction: 0.476</br>children: 1.1</br></br>lead_time: 203.0</br>arrival_date_year: 2016.0</br>adults: 2.0</br>babies: 0.0</br>booking_changes: 4.0</br>_original_yhat_: 0.4764910638332367</br>\"],[\"</br>id: observation</br>prediction: 0.476</br>children: 1.2000000000000002</br></br>lead_time: 203.0</br>arrival_date_year: 2016.0</br>adults: 2.0</br>babies: 0.0</br>booking_changes: 4.0</br>_original_yhat_: 0.4764910638332367</br>\"],[\"</br>id: observation</br>prediction: 0.476</br>children: 1.3</br></br>lead_time: 203.0</br>arrival_date_year: 2016.0</br>adults: 2.0</br>babies: 0.0</br>booking_changes: 4.0</br>_original_yhat_: 0.4764910638332367</br>\"],[\"</br>id: observation</br>prediction: 0.476</br>children: 1.4000000000000001</br></br>lead_time: 203.0</br>arrival_date_year: 2016.0</br>adults: 2.0</br>babies: 0.0</br>booking_changes: 4.0</br>_original_yhat_: 0.4764910638332367</br>\"],[\"</br>id: observation</br>prediction: 0.476</br>children: 1.5</br></br>lead_time: 203.0</br>arrival_date_year: 2016.0</br>adults: 2.0</br>babies: 0.0</br>booking_changes: 4.0</br>_original_yhat_: 0.4764910638332367</br>\"],[\"</br>id: observation</br>prediction: 0.476</br>children: 1.6</br></br>lead_time: 203.0</br>arrival_date_year: 2016.0</br>adults: 2.0</br>babies: 0.0</br>booking_changes: 4.0</br>_original_yhat_: 0.4764910638332367</br>\"],[\"</br>id: observation</br>prediction: 0.476</br>children: 1.7000000000000002</br></br>lead_time: 203.0</br>arrival_date_year: 2016.0</br>adults: 2.0</br>babies: 0.0</br>booking_changes: 4.0</br>_original_yhat_: 0.4764910638332367</br>\"],[\"</br>id: observation</br>prediction: 0.476</br>children: 1.8</br></br>lead_time: 203.0</br>arrival_date_year: 2016.0</br>adults: 2.0</br>babies: 0.0</br>booking_changes: 4.0</br>_original_yhat_: 0.4764910638332367</br>\"],[\"</br>id: observation</br>prediction: 0.476</br>children: 1.9000000000000001</br></br>lead_time: 203.0</br>arrival_date_year: 2016.0</br>adults: 2.0</br>babies: 0.0</br>booking_changes: 4.0</br>_original_yhat_: 0.4764910638332367</br>\"],[\"</br>id: observation</br>prediction: 0.476</br>children: 2.0</br></br>lead_time: 203.0</br>arrival_date_year: 2016.0</br>adults: 2.0</br>babies: 0.0</br>booking_changes: 4.0</br>_original_yhat_: 0.4764910638332367</br>\"],[\"</br>id: observation</br>prediction: 0.476</br>children: 2.1</br></br>lead_time: 203.0</br>arrival_date_year: 2016.0</br>adults: 2.0</br>babies: 0.0</br>booking_changes: 4.0</br>_original_yhat_: 0.4764910638332367</br>\"],[\"</br>id: observation</br>prediction: 0.476</br>children: 2.2</br></br>lead_time: 203.0</br>arrival_date_year: 2016.0</br>adults: 2.0</br>babies: 0.0</br>booking_changes: 4.0</br>_original_yhat_: 0.4764910638332367</br>\"],[\"</br>id: observation</br>prediction: 0.476</br>children: 2.3000000000000003</br></br>lead_time: 203.0</br>arrival_date_year: 2016.0</br>adults: 2.0</br>babies: 0.0</br>booking_changes: 4.0</br>_original_yhat_: 0.4764910638332367</br>\"],[\"</br>id: observation</br>prediction: 0.476</br>children: 2.4000000000000004</br></br>lead_time: 203.0</br>arrival_date_year: 2016.0</br>adults: 2.0</br>babies: 0.0</br>booking_changes: 4.0</br>_original_yhat_: 0.4764910638332367</br>\"],[\"</br>id: observation</br>prediction: 0.476</br>children: 2.5</br></br>lead_time: 203.0</br>arrival_date_year: 2016.0</br>adults: 2.0</br>babies: 0.0</br>booking_changes: 4.0</br>_original_yhat_: 0.4764910638332367</br>\"],[\"</br>id: observation</br>prediction: 0.476</br>children: 2.6</br></br>lead_time: 203.0</br>arrival_date_year: 2016.0</br>adults: 2.0</br>babies: 0.0</br>booking_changes: 4.0</br>_original_yhat_: 0.4764910638332367</br>\"],[\"</br>id: observation</br>prediction: 0.476</br>children: 2.7</br></br>lead_time: 203.0</br>arrival_date_year: 2016.0</br>adults: 2.0</br>babies: 0.0</br>booking_changes: 4.0</br>_original_yhat_: 0.4764910638332367</br>\"],[\"</br>id: observation</br>prediction: 0.476</br>children: 2.8000000000000003</br></br>lead_time: 203.0</br>arrival_date_year: 2016.0</br>adults: 2.0</br>babies: 0.0</br>booking_changes: 4.0</br>_original_yhat_: 0.4764910638332367</br>\"],[\"</br>id: observation</br>prediction: 0.476</br>children: 2.9000000000000004</br></br>lead_time: 203.0</br>arrival_date_year: 2016.0</br>adults: 2.0</br>babies: 0.0</br>booking_changes: 4.0</br>_original_yhat_: 0.4764910638332367</br>\"],[\"</br>id: observation</br>prediction: 0.476</br>children: 3.0</br></br>lead_time: 203.0</br>arrival_date_year: 2016.0</br>adults: 2.0</br>babies: 0.0</br>booking_changes: 4.0</br>_original_yhat_: 0.4764910638332367</br>\"],[\"</br>id: observation</br>prediction: 0.476</br>children: 3.1</br></br>lead_time: 203.0</br>arrival_date_year: 2016.0</br>adults: 2.0</br>babies: 0.0</br>booking_changes: 4.0</br>_original_yhat_: 0.4764910638332367</br>\"],[\"</br>id: observation</br>prediction: 0.476</br>children: 3.2</br></br>lead_time: 203.0</br>arrival_date_year: 2016.0</br>adults: 2.0</br>babies: 0.0</br>booking_changes: 4.0</br>_original_yhat_: 0.4764910638332367</br>\"],[\"</br>id: observation</br>prediction: 0.476</br>children: 3.3000000000000003</br></br>lead_time: 203.0</br>arrival_date_year: 2016.0</br>adults: 2.0</br>babies: 0.0</br>booking_changes: 4.0</br>_original_yhat_: 0.4764910638332367</br>\"],[\"</br>id: observation</br>prediction: 0.476</br>children: 3.4000000000000004</br></br>lead_time: 203.0</br>arrival_date_year: 2016.0</br>adults: 2.0</br>babies: 0.0</br>booking_changes: 4.0</br>_original_yhat_: 0.4764910638332367</br>\"],[\"</br>id: observation</br>prediction: 0.476</br>children: 3.5</br></br>lead_time: 203.0</br>arrival_date_year: 2016.0</br>adults: 2.0</br>babies: 0.0</br>booking_changes: 4.0</br>_original_yhat_: 0.4764910638332367</br>\"],[\"</br>id: observation</br>prediction: 0.476</br>children: 3.6</br></br>lead_time: 203.0</br>arrival_date_year: 2016.0</br>adults: 2.0</br>babies: 0.0</br>booking_changes: 4.0</br>_original_yhat_: 0.4764910638332367</br>\"],[\"</br>id: observation</br>prediction: 0.476</br>children: 3.7</br></br>lead_time: 203.0</br>arrival_date_year: 2016.0</br>adults: 2.0</br>babies: 0.0</br>booking_changes: 4.0</br>_original_yhat_: 0.4764910638332367</br>\"],[\"</br>id: observation</br>prediction: 0.476</br>children: 3.8000000000000003</br></br>lead_time: 203.0</br>arrival_date_year: 2016.0</br>adults: 2.0</br>babies: 0.0</br>booking_changes: 4.0</br>_original_yhat_: 0.4764910638332367</br>\"],[\"</br>id: observation</br>prediction: 0.476</br>children: 3.9000000000000004</br></br>lead_time: 203.0</br>arrival_date_year: 2016.0</br>adults: 2.0</br>babies: 0.0</br>booking_changes: 4.0</br>_original_yhat_: 0.4764910638332367</br>\"],[\"</br>id: observation</br>prediction: 0.476</br>children: 4.0</br></br>lead_time: 203.0</br>arrival_date_year: 2016.0</br>adults: 2.0</br>babies: 0.0</br>booking_changes: 4.0</br>_original_yhat_: 0.4764910638332367</br>\"],[\"</br>id: observation</br>prediction: 0.476</br>children: 4.1000000000000005</br></br>lead_time: 203.0</br>arrival_date_year: 2016.0</br>adults: 2.0</br>babies: 0.0</br>booking_changes: 4.0</br>_original_yhat_: 0.4764910638332367</br>\"],[\"</br>id: observation</br>prediction: 0.476</br>children: 4.2</br></br>lead_time: 203.0</br>arrival_date_year: 2016.0</br>adults: 2.0</br>babies: 0.0</br>booking_changes: 4.0</br>_original_yhat_: 0.4764910638332367</br>\"],[\"</br>id: observation</br>prediction: 0.476</br>children: 4.3</br></br>lead_time: 203.0</br>arrival_date_year: 2016.0</br>adults: 2.0</br>babies: 0.0</br>booking_changes: 4.0</br>_original_yhat_: 0.4764910638332367</br>\"],[\"</br>id: observation</br>prediction: 0.476</br>children: 4.4</br></br>lead_time: 203.0</br>arrival_date_year: 2016.0</br>adults: 2.0</br>babies: 0.0</br>booking_changes: 4.0</br>_original_yhat_: 0.4764910638332367</br>\"],[\"</br>id: observation</br>prediction: 0.476</br>children: 4.5</br></br>lead_time: 203.0</br>arrival_date_year: 2016.0</br>adults: 2.0</br>babies: 0.0</br>booking_changes: 4.0</br>_original_yhat_: 0.4764910638332367</br>\"],[\"</br>id: observation</br>prediction: 0.476</br>children: 4.6000000000000005</br></br>lead_time: 203.0</br>arrival_date_year: 2016.0</br>adults: 2.0</br>babies: 0.0</br>booking_changes: 4.0</br>_original_yhat_: 0.4764910638332367</br>\"],[\"</br>id: observation</br>prediction: 0.476</br>children: 4.7</br></br>lead_time: 203.0</br>arrival_date_year: 2016.0</br>adults: 2.0</br>babies: 0.0</br>booking_changes: 4.0</br>_original_yhat_: 0.4764910638332367</br>\"],[\"</br>id: observation</br>prediction: 0.476</br>children: 4.800000000000001</br></br>lead_time: 203.0</br>arrival_date_year: 2016.0</br>adults: 2.0</br>babies: 0.0</br>booking_changes: 4.0</br>_original_yhat_: 0.4764910638332367</br>\"],[\"</br>id: observation</br>prediction: 0.476</br>children: 4.9</br></br>lead_time: 203.0</br>arrival_date_year: 2016.0</br>adults: 2.0</br>babies: 0.0</br>booking_changes: 4.0</br>_original_yhat_: 0.4764910638332367</br>\"],[\"</br>id: observation</br>prediction: 0.476</br>children: 5.0</br></br>lead_time: 203.0</br>arrival_date_year: 2016.0</br>adults: 2.0</br>babies: 0.0</br>booking_changes: 4.0</br>_original_yhat_: 0.4764910638332367</br>\"],[\"</br>id: observation</br>prediction: 0.476</br>children: 5.1000000000000005</br></br>lead_time: 203.0</br>arrival_date_year: 2016.0</br>adults: 2.0</br>babies: 0.0</br>booking_changes: 4.0</br>_original_yhat_: 0.4764910638332367</br>\"],[\"</br>id: observation</br>prediction: 0.476</br>children: 5.2</br></br>lead_time: 203.0</br>arrival_date_year: 2016.0</br>adults: 2.0</br>babies: 0.0</br>booking_changes: 4.0</br>_original_yhat_: 0.4764910638332367</br>\"],[\"</br>id: observation</br>prediction: 0.476</br>children: 5.300000000000001</br></br>lead_time: 203.0</br>arrival_date_year: 2016.0</br>adults: 2.0</br>babies: 0.0</br>booking_changes: 4.0</br>_original_yhat_: 0.4764910638332367</br>\"],[\"</br>id: observation</br>prediction: 0.476</br>children: 5.4</br></br>lead_time: 203.0</br>arrival_date_year: 2016.0</br>adults: 2.0</br>babies: 0.0</br>booking_changes: 4.0</br>_original_yhat_: 0.4764910638332367</br>\"],[\"</br>id: observation</br>prediction: 0.476</br>children: 5.5</br></br>lead_time: 203.0</br>arrival_date_year: 2016.0</br>adults: 2.0</br>babies: 0.0</br>booking_changes: 4.0</br>_original_yhat_: 0.4764910638332367</br>\"],[\"</br>id: observation</br>prediction: 0.476</br>children: 5.6000000000000005</br></br>lead_time: 203.0</br>arrival_date_year: 2016.0</br>adults: 2.0</br>babies: 0.0</br>booking_changes: 4.0</br>_original_yhat_: 0.4764910638332367</br>\"],[\"</br>id: observation</br>prediction: 0.476</br>children: 5.7</br></br>lead_time: 203.0</br>arrival_date_year: 2016.0</br>adults: 2.0</br>babies: 0.0</br>booking_changes: 4.0</br>_original_yhat_: 0.4764910638332367</br>\"],[\"</br>id: observation</br>prediction: 0.476</br>children: 5.800000000000001</br></br>lead_time: 203.0</br>arrival_date_year: 2016.0</br>adults: 2.0</br>babies: 0.0</br>booking_changes: 4.0</br>_original_yhat_: 0.4764910638332367</br>\"],[\"</br>id: observation</br>prediction: 0.476</br>children: 5.9</br></br>lead_time: 203.0</br>arrival_date_year: 2016.0</br>adults: 2.0</br>babies: 0.0</br>booking_changes: 4.0</br>_original_yhat_: 0.4764910638332367</br>\"],[\"</br>id: observation</br>prediction: 0.476</br>children: 6.0</br></br>lead_time: 203.0</br>arrival_date_year: 2016.0</br>adults: 2.0</br>babies: 0.0</br>booking_changes: 4.0</br>_original_yhat_: 0.4764910638332367</br>\"],[\"</br>id: observation</br>prediction: 0.476</br>children: 6.1000000000000005</br></br>lead_time: 203.0</br>arrival_date_year: 2016.0</br>adults: 2.0</br>babies: 0.0</br>booking_changes: 4.0</br>_original_yhat_: 0.4764910638332367</br>\"],[\"</br>id: observation</br>prediction: 0.476</br>children: 6.2</br></br>lead_time: 203.0</br>arrival_date_year: 2016.0</br>adults: 2.0</br>babies: 0.0</br>booking_changes: 4.0</br>_original_yhat_: 0.4764910638332367</br>\"],[\"</br>id: observation</br>prediction: 0.476</br>children: 6.300000000000001</br></br>lead_time: 203.0</br>arrival_date_year: 2016.0</br>adults: 2.0</br>babies: 0.0</br>booking_changes: 4.0</br>_original_yhat_: 0.4764910638332367</br>\"],[\"</br>id: observation</br>prediction: 0.476</br>children: 6.4</br></br>lead_time: 203.0</br>arrival_date_year: 2016.0</br>adults: 2.0</br>babies: 0.0</br>booking_changes: 4.0</br>_original_yhat_: 0.4764910638332367</br>\"],[\"</br>id: observation</br>prediction: 0.476</br>children: 6.5</br></br>lead_time: 203.0</br>arrival_date_year: 2016.0</br>adults: 2.0</br>babies: 0.0</br>booking_changes: 4.0</br>_original_yhat_: 0.4764910638332367</br>\"],[\"</br>id: observation</br>prediction: 0.476</br>children: 6.6000000000000005</br></br>lead_time: 203.0</br>arrival_date_year: 2016.0</br>adults: 2.0</br>babies: 0.0</br>booking_changes: 4.0</br>_original_yhat_: 0.4764910638332367</br>\"],[\"</br>id: observation</br>prediction: 0.476</br>children: 6.7</br></br>lead_time: 203.0</br>arrival_date_year: 2016.0</br>adults: 2.0</br>babies: 0.0</br>booking_changes: 4.0</br>_original_yhat_: 0.4764910638332367</br>\"],[\"</br>id: observation</br>prediction: 0.476</br>children: 6.800000000000001</br></br>lead_time: 203.0</br>arrival_date_year: 2016.0</br>adults: 2.0</br>babies: 0.0</br>booking_changes: 4.0</br>_original_yhat_: 0.4764910638332367</br>\"],[\"</br>id: observation</br>prediction: 0.476</br>children: 6.9</br></br>lead_time: 203.0</br>arrival_date_year: 2016.0</br>adults: 2.0</br>babies: 0.0</br>booking_changes: 4.0</br>_original_yhat_: 0.4764910638332367</br>\"],[\"</br>id: observation</br>prediction: 0.476</br>children: 7.0</br></br>lead_time: 203.0</br>arrival_date_year: 2016.0</br>adults: 2.0</br>babies: 0.0</br>booking_changes: 4.0</br>_original_yhat_: 0.4764910638332367</br>\"],[\"</br>id: observation</br>prediction: 0.476</br>children: 7.1000000000000005</br></br>lead_time: 203.0</br>arrival_date_year: 2016.0</br>adults: 2.0</br>babies: 0.0</br>booking_changes: 4.0</br>_original_yhat_: 0.4764910638332367</br>\"],[\"</br>id: observation</br>prediction: 0.476</br>children: 7.2</br></br>lead_time: 203.0</br>arrival_date_year: 2016.0</br>adults: 2.0</br>babies: 0.0</br>booking_changes: 4.0</br>_original_yhat_: 0.4764910638332367</br>\"],[\"</br>id: observation</br>prediction: 0.476</br>children: 7.300000000000001</br></br>lead_time: 203.0</br>arrival_date_year: 2016.0</br>adults: 2.0</br>babies: 0.0</br>booking_changes: 4.0</br>_original_yhat_: 0.4764910638332367</br>\"],[\"</br>id: observation</br>prediction: 0.476</br>children: 7.4</br></br>lead_time: 203.0</br>arrival_date_year: 2016.0</br>adults: 2.0</br>babies: 0.0</br>booking_changes: 4.0</br>_original_yhat_: 0.4764910638332367</br>\"],[\"</br>id: observation</br>prediction: 0.476</br>children: 7.5</br></br>lead_time: 203.0</br>arrival_date_year: 2016.0</br>adults: 2.0</br>babies: 0.0</br>booking_changes: 4.0</br>_original_yhat_: 0.4764910638332367</br>\"],[\"</br>id: observation</br>prediction: 0.476</br>children: 7.6000000000000005</br></br>lead_time: 203.0</br>arrival_date_year: 2016.0</br>adults: 2.0</br>babies: 0.0</br>booking_changes: 4.0</br>_original_yhat_: 0.4764910638332367</br>\"],[\"</br>id: observation</br>prediction: 0.476</br>children: 7.7</br></br>lead_time: 203.0</br>arrival_date_year: 2016.0</br>adults: 2.0</br>babies: 0.0</br>booking_changes: 4.0</br>_original_yhat_: 0.4764910638332367</br>\"],[\"</br>id: observation</br>prediction: 0.476</br>children: 7.800000000000001</br></br>lead_time: 203.0</br>arrival_date_year: 2016.0</br>adults: 2.0</br>babies: 0.0</br>booking_changes: 4.0</br>_original_yhat_: 0.4764910638332367</br>\"],[\"</br>id: observation</br>prediction: 0.476</br>children: 7.9</br></br>lead_time: 203.0</br>arrival_date_year: 2016.0</br>adults: 2.0</br>babies: 0.0</br>booking_changes: 4.0</br>_original_yhat_: 0.4764910638332367</br>\"],[\"</br>id: observation</br>prediction: 0.476</br>children: 8.0</br></br>lead_time: 203.0</br>arrival_date_year: 2016.0</br>adults: 2.0</br>babies: 0.0</br>booking_changes: 4.0</br>_original_yhat_: 0.4764910638332367</br>\"],[\"</br>id: observation</br>prediction: 0.476</br>children: 8.1</br></br>lead_time: 203.0</br>arrival_date_year: 2016.0</br>adults: 2.0</br>babies: 0.0</br>booking_changes: 4.0</br>_original_yhat_: 0.4764910638332367</br>\"],[\"</br>id: observation</br>prediction: 0.476</br>children: 8.200000000000001</br></br>lead_time: 203.0</br>arrival_date_year: 2016.0</br>adults: 2.0</br>babies: 0.0</br>booking_changes: 4.0</br>_original_yhat_: 0.4764910638332367</br>\"],[\"</br>id: observation</br>prediction: 0.476</br>children: 8.3</br></br>lead_time: 203.0</br>arrival_date_year: 2016.0</br>adults: 2.0</br>babies: 0.0</br>booking_changes: 4.0</br>_original_yhat_: 0.4764910638332367</br>\"],[\"</br>id: observation</br>prediction: 0.476</br>children: 8.4</br></br>lead_time: 203.0</br>arrival_date_year: 2016.0</br>adults: 2.0</br>babies: 0.0</br>booking_changes: 4.0</br>_original_yhat_: 0.4764910638332367</br>\"],[\"</br>id: observation</br>prediction: 0.476</br>children: 8.5</br></br>lead_time: 203.0</br>arrival_date_year: 2016.0</br>adults: 2.0</br>babies: 0.0</br>booking_changes: 4.0</br>_original_yhat_: 0.4764910638332367</br>\"],[\"</br>id: observation</br>prediction: 0.476</br>children: 8.6</br></br>lead_time: 203.0</br>arrival_date_year: 2016.0</br>adults: 2.0</br>babies: 0.0</br>booking_changes: 4.0</br>_original_yhat_: 0.4764910638332367</br>\"],[\"</br>id: observation</br>prediction: 0.476</br>children: 8.700000000000001</br></br>lead_time: 203.0</br>arrival_date_year: 2016.0</br>adults: 2.0</br>babies: 0.0</br>booking_changes: 4.0</br>_original_yhat_: 0.4764910638332367</br>\"],[\"</br>id: observation</br>prediction: 0.476</br>children: 8.8</br></br>lead_time: 203.0</br>arrival_date_year: 2016.0</br>adults: 2.0</br>babies: 0.0</br>booking_changes: 4.0</br>_original_yhat_: 0.4764910638332367</br>\"],[\"</br>id: observation</br>prediction: 0.476</br>children: 8.9</br></br>lead_time: 203.0</br>arrival_date_year: 2016.0</br>adults: 2.0</br>babies: 0.0</br>booking_changes: 4.0</br>_original_yhat_: 0.4764910638332367</br>\"],[\"</br>id: observation</br>prediction: 0.476</br>children: 9.0</br></br>lead_time: 203.0</br>arrival_date_year: 2016.0</br>adults: 2.0</br>babies: 0.0</br>booking_changes: 4.0</br>_original_yhat_: 0.4764910638332367</br>\"],[\"</br>id: observation</br>prediction: 0.476</br>children: 9.1</br></br>lead_time: 203.0</br>arrival_date_year: 2016.0</br>adults: 2.0</br>babies: 0.0</br>booking_changes: 4.0</br>_original_yhat_: 0.4764910638332367</br>\"],[\"</br>id: observation</br>prediction: 0.476</br>children: 9.200000000000001</br></br>lead_time: 203.0</br>arrival_date_year: 2016.0</br>adults: 2.0</br>babies: 0.0</br>booking_changes: 4.0</br>_original_yhat_: 0.4764910638332367</br>\"],[\"</br>id: observation</br>prediction: 0.476</br>children: 9.3</br></br>lead_time: 203.0</br>arrival_date_year: 2016.0</br>adults: 2.0</br>babies: 0.0</br>booking_changes: 4.0</br>_original_yhat_: 0.4764910638332367</br>\"],[\"</br>id: observation</br>prediction: 0.476</br>children: 9.4</br></br>lead_time: 203.0</br>arrival_date_year: 2016.0</br>adults: 2.0</br>babies: 0.0</br>booking_changes: 4.0</br>_original_yhat_: 0.4764910638332367</br>\"],[\"</br>id: observation</br>prediction: 0.476</br>children: 9.5</br></br>lead_time: 203.0</br>arrival_date_year: 2016.0</br>adults: 2.0</br>babies: 0.0</br>booking_changes: 4.0</br>_original_yhat_: 0.4764910638332367</br>\"],[\"</br>id: observation</br>prediction: 0.476</br>children: 9.600000000000001</br></br>lead_time: 203.0</br>arrival_date_year: 2016.0</br>adults: 2.0</br>babies: 0.0</br>booking_changes: 4.0</br>_original_yhat_: 0.4764910638332367</br>\"],[\"</br>id: observation</br>prediction: 0.476</br>children: 9.700000000000001</br></br>lead_time: 203.0</br>arrival_date_year: 2016.0</br>adults: 2.0</br>babies: 0.0</br>booking_changes: 4.0</br>_original_yhat_: 0.4764910638332367</br>\"],[\"</br>id: observation</br>prediction: 0.476</br>children: 9.8</br></br>lead_time: 203.0</br>arrival_date_year: 2016.0</br>adults: 2.0</br>babies: 0.0</br>booking_changes: 4.0</br>_original_yhat_: 0.4764910638332367</br>\"],[\"</br>id: observation</br>prediction: 0.476</br>children: 9.9</br></br>lead_time: 203.0</br>arrival_date_year: 2016.0</br>adults: 2.0</br>babies: 0.0</br>booking_changes: 4.0</br>_original_yhat_: 0.4764910638332367</br>\"],[\"</br>id: observation</br>prediction: 0.476</br>children: 10.0</br></br>lead_time: 203.0</br>arrival_date_year: 2016.0</br>adults: 2.0</br>babies: 0.0</br>booking_changes: 4.0</br>_original_yhat_: 0.4764910638332367</br>\"]],\"hovertemplate\":\"%{customdata[0]}<extra></extra>\",\"legendgroup\":\"neural_network\",\"line\":{\"color\":\"#46bac2\",\"dash\":\"solid\",\"width\":2},\"marker\":{\"symbol\":\"circle\"},\"mode\":\"lines\",\"name\":\"neural_network\",\"orientation\":\"v\",\"showlegend\":false,\"x\":[0.0,0.1,0.2,0.30000000000000004,0.4,0.5,0.6000000000000001,0.7000000000000001,0.8,0.9,1.0,1.1,1.2000000000000002,1.3,1.4000000000000001,1.5,1.6,1.7000000000000002,1.8,1.9000000000000001,2.0,2.1,2.2,2.3000000000000003,2.4000000000000004,2.5,2.6,2.7,2.8000000000000003,2.9000000000000004,3.0,3.1,3.2,3.3000000000000003,3.4000000000000004,3.5,3.6,3.7,3.8000000000000003,3.9000000000000004,4.0,4.1000000000000005,4.2,4.3,4.4,4.5,4.6000000000000005,4.7,4.800000000000001,4.9,5.0,5.1000000000000005,5.2,5.300000000000001,5.4,5.5,5.6000000000000005,5.7,5.800000000000001,5.9,6.0,6.1000000000000005,6.2,6.300000000000001,6.4,6.5,6.6000000000000005,6.7,6.800000000000001,6.9,7.0,7.1000000000000005,7.2,7.300000000000001,7.4,7.5,7.6000000000000005,7.7,7.800000000000001,7.9,8.0,8.1,8.200000000000001,8.3,8.4,8.5,8.6,8.700000000000001,8.8,8.9,9.0,9.1,9.200000000000001,9.3,9.4,9.5,9.600000000000001,9.700000000000001,9.8,9.9,10.0],\"xaxis\":\"x4\",\"y\":[0.4764910638332367,0.4764910638332367,0.4764910638332367,0.4764910638332367,0.4764910638332367,0.4764910638332367,0.4764910638332367,0.4764910638332367,0.4764910638332367,0.4764910638332367,0.4764910638332367,0.4764910638332367,0.4764910638332367,0.4764910638332367,0.4764910638332367,0.4764910638332367,0.4764910638332367,0.4764910638332367,0.4764910638332367,0.4764910638332367,0.4764910638332367,0.4764910638332367,0.4764910638332367,0.4764910638332367,0.4764910638332367,0.4764910638332367,0.4764910638332367,0.4764910638332367,0.4764910638332367,0.4764910638332367,0.4764910638332367,0.4764910638332367,0.4764910638332367,0.4764910638332367,0.4764910638332367,0.4764910638332367,0.4764910638332367,0.4764910638332367,0.4764910638332367,0.4764910638332367,0.4764910638332367,0.4764910638332367,0.4764910638332367,0.4764910638332367,0.4764910638332367,0.4764910638332367,0.4764910638332367,0.4764910638332367,0.4764910638332367,0.4764910638332367,0.4764910638332367,0.4764910638332367,0.4764910638332367,0.4764910638332367,0.4764910638332367,0.4764910638332367,0.4764910638332367,0.4764910638332367,0.4764910638332367,0.4764910638332367,0.4764910638332367,0.4764910638332367,0.4764910638332367,0.4764910638332367,0.4764910638332367,0.4764910638332367,0.4764910638332367,0.4764910638332367,0.4764910638332367,0.4764910638332367,0.4764910638332367,0.4764910638332367,0.4764910638332367,0.4764910638332367,0.4764910638332367,0.4764910638332367,0.4764910638332367,0.4764910638332367,0.4764910638332367,0.4764910638332367,0.4764910638332367,0.4764910638332367,0.4764910638332367,0.4764910638332367,0.4764910638332367,0.4764910638332367,0.4764910638332367,0.4764910638332367,0.4764910638332367,0.4764910638332367,0.4764910638332367,0.4764910638332367,0.4764910638332367,0.4764910638332367,0.4764910638332367,0.4764910638332367,0.4764910638332367,0.4764910638332367,0.4764910638332367,0.4764910638332367,0.4764910638332367],\"yaxis\":\"y4\",\"type\":\"scatter\",\"opacity\":1},{\"customdata\":[[\"</br>id: observation</br>prediction: 0.476</br>babies: 0.0</br></br>lead_time: 203.0</br>arrival_date_year: 2016.0</br>adults: 2.0</br>children: 0.0</br>booking_changes: 4.0</br>_original_yhat_: 0.4764910638332367</br>\"],[\"</br>id: observation</br>prediction: 0.476</br>babies: 0.1</br></br>lead_time: 203.0</br>arrival_date_year: 2016.0</br>adults: 2.0</br>children: 0.0</br>booking_changes: 4.0</br>_original_yhat_: 0.4764910638332367</br>\"],[\"</br>id: observation</br>prediction: 0.476</br>babies: 0.2</br></br>lead_time: 203.0</br>arrival_date_year: 2016.0</br>adults: 2.0</br>children: 0.0</br>booking_changes: 4.0</br>_original_yhat_: 0.4764910638332367</br>\"],[\"</br>id: observation</br>prediction: 0.476</br>babies: 0.30000000000000004</br></br>lead_time: 203.0</br>arrival_date_year: 2016.0</br>adults: 2.0</br>children: 0.0</br>booking_changes: 4.0</br>_original_yhat_: 0.4764910638332367</br>\"],[\"</br>id: observation</br>prediction: 0.476</br>babies: 0.4</br></br>lead_time: 203.0</br>arrival_date_year: 2016.0</br>adults: 2.0</br>children: 0.0</br>booking_changes: 4.0</br>_original_yhat_: 0.4764910638332367</br>\"],[\"</br>id: observation</br>prediction: 0.476</br>babies: 0.5</br></br>lead_time: 203.0</br>arrival_date_year: 2016.0</br>adults: 2.0</br>children: 0.0</br>booking_changes: 4.0</br>_original_yhat_: 0.4764910638332367</br>\"],[\"</br>id: observation</br>prediction: 0.476</br>babies: 0.6000000000000001</br></br>lead_time: 203.0</br>arrival_date_year: 2016.0</br>adults: 2.0</br>children: 0.0</br>booking_changes: 4.0</br>_original_yhat_: 0.4764910638332367</br>\"],[\"</br>id: observation</br>prediction: 0.476</br>babies: 0.7000000000000001</br></br>lead_time: 203.0</br>arrival_date_year: 2016.0</br>adults: 2.0</br>children: 0.0</br>booking_changes: 4.0</br>_original_yhat_: 0.4764910638332367</br>\"],[\"</br>id: observation</br>prediction: 0.476</br>babies: 0.8</br></br>lead_time: 203.0</br>arrival_date_year: 2016.0</br>adults: 2.0</br>children: 0.0</br>booking_changes: 4.0</br>_original_yhat_: 0.4764910638332367</br>\"],[\"</br>id: observation</br>prediction: 0.476</br>babies: 0.9</br></br>lead_time: 203.0</br>arrival_date_year: 2016.0</br>adults: 2.0</br>children: 0.0</br>booking_changes: 4.0</br>_original_yhat_: 0.4764910638332367</br>\"],[\"</br>id: observation</br>prediction: 0.476</br>babies: 1.0</br></br>lead_time: 203.0</br>arrival_date_year: 2016.0</br>adults: 2.0</br>children: 0.0</br>booking_changes: 4.0</br>_original_yhat_: 0.4764910638332367</br>\"],[\"</br>id: observation</br>prediction: 0.476</br>babies: 1.1</br></br>lead_time: 203.0</br>arrival_date_year: 2016.0</br>adults: 2.0</br>children: 0.0</br>booking_changes: 4.0</br>_original_yhat_: 0.4764910638332367</br>\"],[\"</br>id: observation</br>prediction: 0.476</br>babies: 1.2000000000000002</br></br>lead_time: 203.0</br>arrival_date_year: 2016.0</br>adults: 2.0</br>children: 0.0</br>booking_changes: 4.0</br>_original_yhat_: 0.4764910638332367</br>\"],[\"</br>id: observation</br>prediction: 0.476</br>babies: 1.3</br></br>lead_time: 203.0</br>arrival_date_year: 2016.0</br>adults: 2.0</br>children: 0.0</br>booking_changes: 4.0</br>_original_yhat_: 0.4764910638332367</br>\"],[\"</br>id: observation</br>prediction: 0.476</br>babies: 1.4000000000000001</br></br>lead_time: 203.0</br>arrival_date_year: 2016.0</br>adults: 2.0</br>children: 0.0</br>booking_changes: 4.0</br>_original_yhat_: 0.4764910638332367</br>\"],[\"</br>id: observation</br>prediction: 0.476</br>babies: 1.5</br></br>lead_time: 203.0</br>arrival_date_year: 2016.0</br>adults: 2.0</br>children: 0.0</br>booking_changes: 4.0</br>_original_yhat_: 0.4764910638332367</br>\"],[\"</br>id: observation</br>prediction: 0.476</br>babies: 1.6</br></br>lead_time: 203.0</br>arrival_date_year: 2016.0</br>adults: 2.0</br>children: 0.0</br>booking_changes: 4.0</br>_original_yhat_: 0.4764910638332367</br>\"],[\"</br>id: observation</br>prediction: 0.476</br>babies: 1.7000000000000002</br></br>lead_time: 203.0</br>arrival_date_year: 2016.0</br>adults: 2.0</br>children: 0.0</br>booking_changes: 4.0</br>_original_yhat_: 0.4764910638332367</br>\"],[\"</br>id: observation</br>prediction: 0.476</br>babies: 1.8</br></br>lead_time: 203.0</br>arrival_date_year: 2016.0</br>adults: 2.0</br>children: 0.0</br>booking_changes: 4.0</br>_original_yhat_: 0.4764910638332367</br>\"],[\"</br>id: observation</br>prediction: 0.476</br>babies: 1.9000000000000001</br></br>lead_time: 203.0</br>arrival_date_year: 2016.0</br>adults: 2.0</br>children: 0.0</br>booking_changes: 4.0</br>_original_yhat_: 0.4764910638332367</br>\"],[\"</br>id: observation</br>prediction: 0.476</br>babies: 2.0</br></br>lead_time: 203.0</br>arrival_date_year: 2016.0</br>adults: 2.0</br>children: 0.0</br>booking_changes: 4.0</br>_original_yhat_: 0.4764910638332367</br>\"],[\"</br>id: observation</br>prediction: 0.476</br>babies: 2.1</br></br>lead_time: 203.0</br>arrival_date_year: 2016.0</br>adults: 2.0</br>children: 0.0</br>booking_changes: 4.0</br>_original_yhat_: 0.4764910638332367</br>\"],[\"</br>id: observation</br>prediction: 0.476</br>babies: 2.2</br></br>lead_time: 203.0</br>arrival_date_year: 2016.0</br>adults: 2.0</br>children: 0.0</br>booking_changes: 4.0</br>_original_yhat_: 0.4764910638332367</br>\"],[\"</br>id: observation</br>prediction: 0.476</br>babies: 2.3000000000000003</br></br>lead_time: 203.0</br>arrival_date_year: 2016.0</br>adults: 2.0</br>children: 0.0</br>booking_changes: 4.0</br>_original_yhat_: 0.4764910638332367</br>\"],[\"</br>id: observation</br>prediction: 0.476</br>babies: 2.4000000000000004</br></br>lead_time: 203.0</br>arrival_date_year: 2016.0</br>adults: 2.0</br>children: 0.0</br>booking_changes: 4.0</br>_original_yhat_: 0.4764910638332367</br>\"],[\"</br>id: observation</br>prediction: 0.476</br>babies: 2.5</br></br>lead_time: 203.0</br>arrival_date_year: 2016.0</br>adults: 2.0</br>children: 0.0</br>booking_changes: 4.0</br>_original_yhat_: 0.4764910638332367</br>\"],[\"</br>id: observation</br>prediction: 0.476</br>babies: 2.6</br></br>lead_time: 203.0</br>arrival_date_year: 2016.0</br>adults: 2.0</br>children: 0.0</br>booking_changes: 4.0</br>_original_yhat_: 0.4764910638332367</br>\"],[\"</br>id: observation</br>prediction: 0.476</br>babies: 2.7</br></br>lead_time: 203.0</br>arrival_date_year: 2016.0</br>adults: 2.0</br>children: 0.0</br>booking_changes: 4.0</br>_original_yhat_: 0.4764910638332367</br>\"],[\"</br>id: observation</br>prediction: 0.476</br>babies: 2.8000000000000003</br></br>lead_time: 203.0</br>arrival_date_year: 2016.0</br>adults: 2.0</br>children: 0.0</br>booking_changes: 4.0</br>_original_yhat_: 0.4764910638332367</br>\"],[\"</br>id: observation</br>prediction: 0.476</br>babies: 2.9000000000000004</br></br>lead_time: 203.0</br>arrival_date_year: 2016.0</br>adults: 2.0</br>children: 0.0</br>booking_changes: 4.0</br>_original_yhat_: 0.4764910638332367</br>\"],[\"</br>id: observation</br>prediction: 0.476</br>babies: 3.0</br></br>lead_time: 203.0</br>arrival_date_year: 2016.0</br>adults: 2.0</br>children: 0.0</br>booking_changes: 4.0</br>_original_yhat_: 0.4764910638332367</br>\"],[\"</br>id: observation</br>prediction: 0.476</br>babies: 3.1</br></br>lead_time: 203.0</br>arrival_date_year: 2016.0</br>adults: 2.0</br>children: 0.0</br>booking_changes: 4.0</br>_original_yhat_: 0.4764910638332367</br>\"],[\"</br>id: observation</br>prediction: 0.476</br>babies: 3.2</br></br>lead_time: 203.0</br>arrival_date_year: 2016.0</br>adults: 2.0</br>children: 0.0</br>booking_changes: 4.0</br>_original_yhat_: 0.4764910638332367</br>\"],[\"</br>id: observation</br>prediction: 0.476</br>babies: 3.3000000000000003</br></br>lead_time: 203.0</br>arrival_date_year: 2016.0</br>adults: 2.0</br>children: 0.0</br>booking_changes: 4.0</br>_original_yhat_: 0.4764910638332367</br>\"],[\"</br>id: observation</br>prediction: 0.476</br>babies: 3.4000000000000004</br></br>lead_time: 203.0</br>arrival_date_year: 2016.0</br>adults: 2.0</br>children: 0.0</br>booking_changes: 4.0</br>_original_yhat_: 0.4764910638332367</br>\"],[\"</br>id: observation</br>prediction: 0.476</br>babies: 3.5</br></br>lead_time: 203.0</br>arrival_date_year: 2016.0</br>adults: 2.0</br>children: 0.0</br>booking_changes: 4.0</br>_original_yhat_: 0.4764910638332367</br>\"],[\"</br>id: observation</br>prediction: 0.476</br>babies: 3.6</br></br>lead_time: 203.0</br>arrival_date_year: 2016.0</br>adults: 2.0</br>children: 0.0</br>booking_changes: 4.0</br>_original_yhat_: 0.4764910638332367</br>\"],[\"</br>id: observation</br>prediction: 0.476</br>babies: 3.7</br></br>lead_time: 203.0</br>arrival_date_year: 2016.0</br>adults: 2.0</br>children: 0.0</br>booking_changes: 4.0</br>_original_yhat_: 0.4764910638332367</br>\"],[\"</br>id: observation</br>prediction: 0.476</br>babies: 3.8000000000000003</br></br>lead_time: 203.0</br>arrival_date_year: 2016.0</br>adults: 2.0</br>children: 0.0</br>booking_changes: 4.0</br>_original_yhat_: 0.4764910638332367</br>\"],[\"</br>id: observation</br>prediction: 0.476</br>babies: 3.9000000000000004</br></br>lead_time: 203.0</br>arrival_date_year: 2016.0</br>adults: 2.0</br>children: 0.0</br>booking_changes: 4.0</br>_original_yhat_: 0.4764910638332367</br>\"],[\"</br>id: observation</br>prediction: 0.476</br>babies: 4.0</br></br>lead_time: 203.0</br>arrival_date_year: 2016.0</br>adults: 2.0</br>children: 0.0</br>booking_changes: 4.0</br>_original_yhat_: 0.4764910638332367</br>\"],[\"</br>id: observation</br>prediction: 0.476</br>babies: 4.1000000000000005</br></br>lead_time: 203.0</br>arrival_date_year: 2016.0</br>adults: 2.0</br>children: 0.0</br>booking_changes: 4.0</br>_original_yhat_: 0.4764910638332367</br>\"],[\"</br>id: observation</br>prediction: 0.476</br>babies: 4.2</br></br>lead_time: 203.0</br>arrival_date_year: 2016.0</br>adults: 2.0</br>children: 0.0</br>booking_changes: 4.0</br>_original_yhat_: 0.4764910638332367</br>\"],[\"</br>id: observation</br>prediction: 0.476</br>babies: 4.3</br></br>lead_time: 203.0</br>arrival_date_year: 2016.0</br>adults: 2.0</br>children: 0.0</br>booking_changes: 4.0</br>_original_yhat_: 0.4764910638332367</br>\"],[\"</br>id: observation</br>prediction: 0.476</br>babies: 4.4</br></br>lead_time: 203.0</br>arrival_date_year: 2016.0</br>adults: 2.0</br>children: 0.0</br>booking_changes: 4.0</br>_original_yhat_: 0.4764910638332367</br>\"],[\"</br>id: observation</br>prediction: 0.476</br>babies: 4.5</br></br>lead_time: 203.0</br>arrival_date_year: 2016.0</br>adults: 2.0</br>children: 0.0</br>booking_changes: 4.0</br>_original_yhat_: 0.4764910638332367</br>\"],[\"</br>id: observation</br>prediction: 0.476</br>babies: 4.6000000000000005</br></br>lead_time: 203.0</br>arrival_date_year: 2016.0</br>adults: 2.0</br>children: 0.0</br>booking_changes: 4.0</br>_original_yhat_: 0.4764910638332367</br>\"],[\"</br>id: observation</br>prediction: 0.476</br>babies: 4.7</br></br>lead_time: 203.0</br>arrival_date_year: 2016.0</br>adults: 2.0</br>children: 0.0</br>booking_changes: 4.0</br>_original_yhat_: 0.4764910638332367</br>\"],[\"</br>id: observation</br>prediction: 0.476</br>babies: 4.800000000000001</br></br>lead_time: 203.0</br>arrival_date_year: 2016.0</br>adults: 2.0</br>children: 0.0</br>booking_changes: 4.0</br>_original_yhat_: 0.4764910638332367</br>\"],[\"</br>id: observation</br>prediction: 0.476</br>babies: 4.9</br></br>lead_time: 203.0</br>arrival_date_year: 2016.0</br>adults: 2.0</br>children: 0.0</br>booking_changes: 4.0</br>_original_yhat_: 0.4764910638332367</br>\"],[\"</br>id: observation</br>prediction: 0.476</br>babies: 5.0</br></br>lead_time: 203.0</br>arrival_date_year: 2016.0</br>adults: 2.0</br>children: 0.0</br>booking_changes: 4.0</br>_original_yhat_: 0.4764910638332367</br>\"],[\"</br>id: observation</br>prediction: 0.476</br>babies: 5.1000000000000005</br></br>lead_time: 203.0</br>arrival_date_year: 2016.0</br>adults: 2.0</br>children: 0.0</br>booking_changes: 4.0</br>_original_yhat_: 0.4764910638332367</br>\"],[\"</br>id: observation</br>prediction: 0.476</br>babies: 5.2</br></br>lead_time: 203.0</br>arrival_date_year: 2016.0</br>adults: 2.0</br>children: 0.0</br>booking_changes: 4.0</br>_original_yhat_: 0.4764910638332367</br>\"],[\"</br>id: observation</br>prediction: 0.476</br>babies: 5.300000000000001</br></br>lead_time: 203.0</br>arrival_date_year: 2016.0</br>adults: 2.0</br>children: 0.0</br>booking_changes: 4.0</br>_original_yhat_: 0.4764910638332367</br>\"],[\"</br>id: observation</br>prediction: 0.476</br>babies: 5.4</br></br>lead_time: 203.0</br>arrival_date_year: 2016.0</br>adults: 2.0</br>children: 0.0</br>booking_changes: 4.0</br>_original_yhat_: 0.4764910638332367</br>\"],[\"</br>id: observation</br>prediction: 0.476</br>babies: 5.5</br></br>lead_time: 203.0</br>arrival_date_year: 2016.0</br>adults: 2.0</br>children: 0.0</br>booking_changes: 4.0</br>_original_yhat_: 0.4764910638332367</br>\"],[\"</br>id: observation</br>prediction: 0.476</br>babies: 5.6000000000000005</br></br>lead_time: 203.0</br>arrival_date_year: 2016.0</br>adults: 2.0</br>children: 0.0</br>booking_changes: 4.0</br>_original_yhat_: 0.4764910638332367</br>\"],[\"</br>id: observation</br>prediction: 0.476</br>babies: 5.7</br></br>lead_time: 203.0</br>arrival_date_year: 2016.0</br>adults: 2.0</br>children: 0.0</br>booking_changes: 4.0</br>_original_yhat_: 0.4764910638332367</br>\"],[\"</br>id: observation</br>prediction: 0.476</br>babies: 5.800000000000001</br></br>lead_time: 203.0</br>arrival_date_year: 2016.0</br>adults: 2.0</br>children: 0.0</br>booking_changes: 4.0</br>_original_yhat_: 0.4764910638332367</br>\"],[\"</br>id: observation</br>prediction: 0.476</br>babies: 5.9</br></br>lead_time: 203.0</br>arrival_date_year: 2016.0</br>adults: 2.0</br>children: 0.0</br>booking_changes: 4.0</br>_original_yhat_: 0.4764910638332367</br>\"],[\"</br>id: observation</br>prediction: 0.476</br>babies: 6.0</br></br>lead_time: 203.0</br>arrival_date_year: 2016.0</br>adults: 2.0</br>children: 0.0</br>booking_changes: 4.0</br>_original_yhat_: 0.4764910638332367</br>\"],[\"</br>id: observation</br>prediction: 0.476</br>babies: 6.1000000000000005</br></br>lead_time: 203.0</br>arrival_date_year: 2016.0</br>adults: 2.0</br>children: 0.0</br>booking_changes: 4.0</br>_original_yhat_: 0.4764910638332367</br>\"],[\"</br>id: observation</br>prediction: 0.476</br>babies: 6.2</br></br>lead_time: 203.0</br>arrival_date_year: 2016.0</br>adults: 2.0</br>children: 0.0</br>booking_changes: 4.0</br>_original_yhat_: 0.4764910638332367</br>\"],[\"</br>id: observation</br>prediction: 0.476</br>babies: 6.300000000000001</br></br>lead_time: 203.0</br>arrival_date_year: 2016.0</br>adults: 2.0</br>children: 0.0</br>booking_changes: 4.0</br>_original_yhat_: 0.4764910638332367</br>\"],[\"</br>id: observation</br>prediction: 0.476</br>babies: 6.4</br></br>lead_time: 203.0</br>arrival_date_year: 2016.0</br>adults: 2.0</br>children: 0.0</br>booking_changes: 4.0</br>_original_yhat_: 0.4764910638332367</br>\"],[\"</br>id: observation</br>prediction: 0.476</br>babies: 6.5</br></br>lead_time: 203.0</br>arrival_date_year: 2016.0</br>adults: 2.0</br>children: 0.0</br>booking_changes: 4.0</br>_original_yhat_: 0.4764910638332367</br>\"],[\"</br>id: observation</br>prediction: 0.476</br>babies: 6.6000000000000005</br></br>lead_time: 203.0</br>arrival_date_year: 2016.0</br>adults: 2.0</br>children: 0.0</br>booking_changes: 4.0</br>_original_yhat_: 0.4764910638332367</br>\"],[\"</br>id: observation</br>prediction: 0.476</br>babies: 6.7</br></br>lead_time: 203.0</br>arrival_date_year: 2016.0</br>adults: 2.0</br>children: 0.0</br>booking_changes: 4.0</br>_original_yhat_: 0.4764910638332367</br>\"],[\"</br>id: observation</br>prediction: 0.476</br>babies: 6.800000000000001</br></br>lead_time: 203.0</br>arrival_date_year: 2016.0</br>adults: 2.0</br>children: 0.0</br>booking_changes: 4.0</br>_original_yhat_: 0.4764910638332367</br>\"],[\"</br>id: observation</br>prediction: 0.476</br>babies: 6.9</br></br>lead_time: 203.0</br>arrival_date_year: 2016.0</br>adults: 2.0</br>children: 0.0</br>booking_changes: 4.0</br>_original_yhat_: 0.4764910638332367</br>\"],[\"</br>id: observation</br>prediction: 0.476</br>babies: 7.0</br></br>lead_time: 203.0</br>arrival_date_year: 2016.0</br>adults: 2.0</br>children: 0.0</br>booking_changes: 4.0</br>_original_yhat_: 0.4764910638332367</br>\"],[\"</br>id: observation</br>prediction: 0.476</br>babies: 7.1000000000000005</br></br>lead_time: 203.0</br>arrival_date_year: 2016.0</br>adults: 2.0</br>children: 0.0</br>booking_changes: 4.0</br>_original_yhat_: 0.4764910638332367</br>\"],[\"</br>id: observation</br>prediction: 0.476</br>babies: 7.2</br></br>lead_time: 203.0</br>arrival_date_year: 2016.0</br>adults: 2.0</br>children: 0.0</br>booking_changes: 4.0</br>_original_yhat_: 0.4764910638332367</br>\"],[\"</br>id: observation</br>prediction: 0.476</br>babies: 7.300000000000001</br></br>lead_time: 203.0</br>arrival_date_year: 2016.0</br>adults: 2.0</br>children: 0.0</br>booking_changes: 4.0</br>_original_yhat_: 0.4764910638332367</br>\"],[\"</br>id: observation</br>prediction: 0.476</br>babies: 7.4</br></br>lead_time: 203.0</br>arrival_date_year: 2016.0</br>adults: 2.0</br>children: 0.0</br>booking_changes: 4.0</br>_original_yhat_: 0.4764910638332367</br>\"],[\"</br>id: observation</br>prediction: 0.476</br>babies: 7.5</br></br>lead_time: 203.0</br>arrival_date_year: 2016.0</br>adults: 2.0</br>children: 0.0</br>booking_changes: 4.0</br>_original_yhat_: 0.4764910638332367</br>\"],[\"</br>id: observation</br>prediction: 0.476</br>babies: 7.6000000000000005</br></br>lead_time: 203.0</br>arrival_date_year: 2016.0</br>adults: 2.0</br>children: 0.0</br>booking_changes: 4.0</br>_original_yhat_: 0.4764910638332367</br>\"],[\"</br>id: observation</br>prediction: 0.476</br>babies: 7.7</br></br>lead_time: 203.0</br>arrival_date_year: 2016.0</br>adults: 2.0</br>children: 0.0</br>booking_changes: 4.0</br>_original_yhat_: 0.4764910638332367</br>\"],[\"</br>id: observation</br>prediction: 0.476</br>babies: 7.800000000000001</br></br>lead_time: 203.0</br>arrival_date_year: 2016.0</br>adults: 2.0</br>children: 0.0</br>booking_changes: 4.0</br>_original_yhat_: 0.4764910638332367</br>\"],[\"</br>id: observation</br>prediction: 0.476</br>babies: 7.9</br></br>lead_time: 203.0</br>arrival_date_year: 2016.0</br>adults: 2.0</br>children: 0.0</br>booking_changes: 4.0</br>_original_yhat_: 0.4764910638332367</br>\"],[\"</br>id: observation</br>prediction: 0.476</br>babies: 8.0</br></br>lead_time: 203.0</br>arrival_date_year: 2016.0</br>adults: 2.0</br>children: 0.0</br>booking_changes: 4.0</br>_original_yhat_: 0.4764910638332367</br>\"],[\"</br>id: observation</br>prediction: 0.476</br>babies: 8.1</br></br>lead_time: 203.0</br>arrival_date_year: 2016.0</br>adults: 2.0</br>children: 0.0</br>booking_changes: 4.0</br>_original_yhat_: 0.4764910638332367</br>\"],[\"</br>id: observation</br>prediction: 0.476</br>babies: 8.200000000000001</br></br>lead_time: 203.0</br>arrival_date_year: 2016.0</br>adults: 2.0</br>children: 0.0</br>booking_changes: 4.0</br>_original_yhat_: 0.4764910638332367</br>\"],[\"</br>id: observation</br>prediction: 0.476</br>babies: 8.3</br></br>lead_time: 203.0</br>arrival_date_year: 2016.0</br>adults: 2.0</br>children: 0.0</br>booking_changes: 4.0</br>_original_yhat_: 0.4764910638332367</br>\"],[\"</br>id: observation</br>prediction: 0.476</br>babies: 8.4</br></br>lead_time: 203.0</br>arrival_date_year: 2016.0</br>adults: 2.0</br>children: 0.0</br>booking_changes: 4.0</br>_original_yhat_: 0.4764910638332367</br>\"],[\"</br>id: observation</br>prediction: 0.476</br>babies: 8.5</br></br>lead_time: 203.0</br>arrival_date_year: 2016.0</br>adults: 2.0</br>children: 0.0</br>booking_changes: 4.0</br>_original_yhat_: 0.4764910638332367</br>\"],[\"</br>id: observation</br>prediction: 0.476</br>babies: 8.6</br></br>lead_time: 203.0</br>arrival_date_year: 2016.0</br>adults: 2.0</br>children: 0.0</br>booking_changes: 4.0</br>_original_yhat_: 0.4764910638332367</br>\"],[\"</br>id: observation</br>prediction: 0.476</br>babies: 8.700000000000001</br></br>lead_time: 203.0</br>arrival_date_year: 2016.0</br>adults: 2.0</br>children: 0.0</br>booking_changes: 4.0</br>_original_yhat_: 0.4764910638332367</br>\"],[\"</br>id: observation</br>prediction: 0.476</br>babies: 8.8</br></br>lead_time: 203.0</br>arrival_date_year: 2016.0</br>adults: 2.0</br>children: 0.0</br>booking_changes: 4.0</br>_original_yhat_: 0.4764910638332367</br>\"],[\"</br>id: observation</br>prediction: 0.476</br>babies: 8.9</br></br>lead_time: 203.0</br>arrival_date_year: 2016.0</br>adults: 2.0</br>children: 0.0</br>booking_changes: 4.0</br>_original_yhat_: 0.4764910638332367</br>\"],[\"</br>id: observation</br>prediction: 0.476</br>babies: 9.0</br></br>lead_time: 203.0</br>arrival_date_year: 2016.0</br>adults: 2.0</br>children: 0.0</br>booking_changes: 4.0</br>_original_yhat_: 0.4764910638332367</br>\"],[\"</br>id: observation</br>prediction: 0.476</br>babies: 9.1</br></br>lead_time: 203.0</br>arrival_date_year: 2016.0</br>adults: 2.0</br>children: 0.0</br>booking_changes: 4.0</br>_original_yhat_: 0.4764910638332367</br>\"],[\"</br>id: observation</br>prediction: 0.476</br>babies: 9.200000000000001</br></br>lead_time: 203.0</br>arrival_date_year: 2016.0</br>adults: 2.0</br>children: 0.0</br>booking_changes: 4.0</br>_original_yhat_: 0.4764910638332367</br>\"],[\"</br>id: observation</br>prediction: 0.476</br>babies: 9.3</br></br>lead_time: 203.0</br>arrival_date_year: 2016.0</br>adults: 2.0</br>children: 0.0</br>booking_changes: 4.0</br>_original_yhat_: 0.4764910638332367</br>\"],[\"</br>id: observation</br>prediction: 0.476</br>babies: 9.4</br></br>lead_time: 203.0</br>arrival_date_year: 2016.0</br>adults: 2.0</br>children: 0.0</br>booking_changes: 4.0</br>_original_yhat_: 0.4764910638332367</br>\"],[\"</br>id: observation</br>prediction: 0.476</br>babies: 9.5</br></br>lead_time: 203.0</br>arrival_date_year: 2016.0</br>adults: 2.0</br>children: 0.0</br>booking_changes: 4.0</br>_original_yhat_: 0.4764910638332367</br>\"],[\"</br>id: observation</br>prediction: 0.476</br>babies: 9.600000000000001</br></br>lead_time: 203.0</br>arrival_date_year: 2016.0</br>adults: 2.0</br>children: 0.0</br>booking_changes: 4.0</br>_original_yhat_: 0.4764910638332367</br>\"],[\"</br>id: observation</br>prediction: 0.476</br>babies: 9.700000000000001</br></br>lead_time: 203.0</br>arrival_date_year: 2016.0</br>adults: 2.0</br>children: 0.0</br>booking_changes: 4.0</br>_original_yhat_: 0.4764910638332367</br>\"],[\"</br>id: observation</br>prediction: 0.476</br>babies: 9.8</br></br>lead_time: 203.0</br>arrival_date_year: 2016.0</br>adults: 2.0</br>children: 0.0</br>booking_changes: 4.0</br>_original_yhat_: 0.4764910638332367</br>\"],[\"</br>id: observation</br>prediction: 0.476</br>babies: 9.9</br></br>lead_time: 203.0</br>arrival_date_year: 2016.0</br>adults: 2.0</br>children: 0.0</br>booking_changes: 4.0</br>_original_yhat_: 0.4764910638332367</br>\"],[\"</br>id: observation</br>prediction: 0.476</br>babies: 10.0</br></br>lead_time: 203.0</br>arrival_date_year: 2016.0</br>adults: 2.0</br>children: 0.0</br>booking_changes: 4.0</br>_original_yhat_: 0.4764910638332367</br>\"]],\"hovertemplate\":\"%{customdata[0]}<extra></extra>\",\"legendgroup\":\"neural_network\",\"line\":{\"color\":\"#46bac2\",\"dash\":\"solid\",\"width\":2},\"marker\":{\"symbol\":\"circle\"},\"mode\":\"lines\",\"name\":\"neural_network\",\"orientation\":\"v\",\"showlegend\":false,\"x\":[0.0,0.1,0.2,0.30000000000000004,0.4,0.5,0.6000000000000001,0.7000000000000001,0.8,0.9,1.0,1.1,1.2000000000000002,1.3,1.4000000000000001,1.5,1.6,1.7000000000000002,1.8,1.9000000000000001,2.0,2.1,2.2,2.3000000000000003,2.4000000000000004,2.5,2.6,2.7,2.8000000000000003,2.9000000000000004,3.0,3.1,3.2,3.3000000000000003,3.4000000000000004,3.5,3.6,3.7,3.8000000000000003,3.9000000000000004,4.0,4.1000000000000005,4.2,4.3,4.4,4.5,4.6000000000000005,4.7,4.800000000000001,4.9,5.0,5.1000000000000005,5.2,5.300000000000001,5.4,5.5,5.6000000000000005,5.7,5.800000000000001,5.9,6.0,6.1000000000000005,6.2,6.300000000000001,6.4,6.5,6.6000000000000005,6.7,6.800000000000001,6.9,7.0,7.1000000000000005,7.2,7.300000000000001,7.4,7.5,7.6000000000000005,7.7,7.800000000000001,7.9,8.0,8.1,8.200000000000001,8.3,8.4,8.5,8.6,8.700000000000001,8.8,8.9,9.0,9.1,9.200000000000001,9.3,9.4,9.5,9.600000000000001,9.700000000000001,9.8,9.9,10.0],\"xaxis\":\"x\",\"y\":[0.4764910638332367,0.4764910638332367,0.4764910638332367,0.4764910638332367,0.4764910638332367,0.4764910638332367,0.4764910638332367,0.4764910638332367,0.4764910638332367,0.4764910638332367,0.4764910638332367,0.4764910638332367,0.4764910638332367,0.4764910638332367,0.4764910638332367,0.4764910638332367,0.4764910638332367,0.4764910638332367,0.4764910638332367,0.4764910638332367,0.4764910638332367,0.4764910638332367,0.4764910638332367,0.4764910638332367,0.4764910638332367,0.4764910638332367,0.4764910638332367,0.4764910638332367,0.4764910638332367,0.4764910638332367,0.4764910638332367,0.4764910638332367,0.4764910638332367,0.4764910638332367,0.4764910638332367,0.4764910638332367,0.4764910638332367,0.4764910638332367,0.4764910638332367,0.4764910638332367,0.4764910638332367,0.4764910638332367,0.4764910638332367,0.4764910638332367,0.4764910638332367,0.4764910638332367,0.4764910638332367,0.4764910638332367,0.4764910638332367,0.4764910638332367,0.4764910638332367,0.4764910638332367,0.4764910638332367,0.4764910638332367,0.4764910638332367,0.4764910638332367,0.4764910638332367,0.4764910638332367,0.4764910638332367,0.4764910638332367,0.4764910638332367,0.4764910638332367,0.4764910638332367,0.4764910638332367,0.4764910638332367,0.4764910638332367,0.4764910638332367,0.4764910638332367,0.4764910638332367,0.4764910638332367,0.4764910638332367,0.4764910638332367,0.4764910638332367,0.4764910638332367,0.4764910638332367,0.4764910638332367,0.4764910638332367,0.4764910638332367,0.4764910638332367,0.4764910638332367,0.4764910638332367,0.4764910638332367,0.4764910638332367,0.4764910638332367,0.4764910638332367,0.4764910638332367,0.4764910638332367,0.4764910638332367,0.4764910638332367,0.4764910638332367,0.4764910638332367,0.4764910638332367,0.4764910638332367,0.4764910638332367,0.4764910638332367,0.4764910638332367,0.4764910638332367,0.4764910638332367,0.4764910638332367,0.4764910638332367,0.4764910638332367],\"yaxis\":\"y\",\"type\":\"scatter\",\"opacity\":1},{\"customdata\":[[\"</br>id: observation</br>prediction: 0.476</br>booking_changes: 0.0</br></br>lead_time: 203.0</br>arrival_date_year: 2016.0</br>adults: 2.0</br>children: 0.0</br>babies: 0.0</br>_original_yhat_: 0.4764910638332367</br>\"],[\"</br>id: observation</br>prediction: 0.476</br>booking_changes: 0.21</br></br>lead_time: 203.0</br>arrival_date_year: 2016.0</br>adults: 2.0</br>children: 0.0</br>babies: 0.0</br>_original_yhat_: 0.4764910638332367</br>\"],[\"</br>id: observation</br>prediction: 0.476</br>booking_changes: 0.42</br></br>lead_time: 203.0</br>arrival_date_year: 2016.0</br>adults: 2.0</br>children: 0.0</br>babies: 0.0</br>_original_yhat_: 0.4764910638332367</br>\"],[\"</br>id: observation</br>prediction: 0.476</br>booking_changes: 0.63</br></br>lead_time: 203.0</br>arrival_date_year: 2016.0</br>adults: 2.0</br>children: 0.0</br>babies: 0.0</br>_original_yhat_: 0.4764910638332367</br>\"],[\"</br>id: observation</br>prediction: 0.476</br>booking_changes: 0.84</br></br>lead_time: 203.0</br>arrival_date_year: 2016.0</br>adults: 2.0</br>children: 0.0</br>babies: 0.0</br>_original_yhat_: 0.4764910638332367</br>\"],[\"</br>id: observation</br>prediction: 0.476</br>booking_changes: 1.05</br></br>lead_time: 203.0</br>arrival_date_year: 2016.0</br>adults: 2.0</br>children: 0.0</br>babies: 0.0</br>_original_yhat_: 0.4764910638332367</br>\"],[\"</br>id: observation</br>prediction: 0.476</br>booking_changes: 1.26</br></br>lead_time: 203.0</br>arrival_date_year: 2016.0</br>adults: 2.0</br>children: 0.0</br>babies: 0.0</br>_original_yhat_: 0.4764910638332367</br>\"],[\"</br>id: observation</br>prediction: 0.476</br>booking_changes: 1.47</br></br>lead_time: 203.0</br>arrival_date_year: 2016.0</br>adults: 2.0</br>children: 0.0</br>babies: 0.0</br>_original_yhat_: 0.4764910638332367</br>\"],[\"</br>id: observation</br>prediction: 0.476</br>booking_changes: 1.68</br></br>lead_time: 203.0</br>arrival_date_year: 2016.0</br>adults: 2.0</br>children: 0.0</br>babies: 0.0</br>_original_yhat_: 0.4764910638332367</br>\"],[\"</br>id: observation</br>prediction: 0.476</br>booking_changes: 1.89</br></br>lead_time: 203.0</br>arrival_date_year: 2016.0</br>adults: 2.0</br>children: 0.0</br>babies: 0.0</br>_original_yhat_: 0.4764910638332367</br>\"],[\"</br>id: observation</br>prediction: 0.476</br>booking_changes: 2.1</br></br>lead_time: 203.0</br>arrival_date_year: 2016.0</br>adults: 2.0</br>children: 0.0</br>babies: 0.0</br>_original_yhat_: 0.4764910638332367</br>\"],[\"</br>id: observation</br>prediction: 0.476</br>booking_changes: 2.31</br></br>lead_time: 203.0</br>arrival_date_year: 2016.0</br>adults: 2.0</br>children: 0.0</br>babies: 0.0</br>_original_yhat_: 0.4764910638332367</br>\"],[\"</br>id: observation</br>prediction: 0.476</br>booking_changes: 2.52</br></br>lead_time: 203.0</br>arrival_date_year: 2016.0</br>adults: 2.0</br>children: 0.0</br>babies: 0.0</br>_original_yhat_: 0.4764910638332367</br>\"],[\"</br>id: observation</br>prediction: 0.476</br>booking_changes: 2.73</br></br>lead_time: 203.0</br>arrival_date_year: 2016.0</br>adults: 2.0</br>children: 0.0</br>babies: 0.0</br>_original_yhat_: 0.4764910638332367</br>\"],[\"</br>id: observation</br>prediction: 0.476</br>booking_changes: 2.94</br></br>lead_time: 203.0</br>arrival_date_year: 2016.0</br>adults: 2.0</br>children: 0.0</br>babies: 0.0</br>_original_yhat_: 0.4764910638332367</br>\"],[\"</br>id: observation</br>prediction: 0.476</br>booking_changes: 3.15</br></br>lead_time: 203.0</br>arrival_date_year: 2016.0</br>adults: 2.0</br>children: 0.0</br>babies: 0.0</br>_original_yhat_: 0.4764910638332367</br>\"],[\"</br>id: observation</br>prediction: 0.476</br>booking_changes: 3.36</br></br>lead_time: 203.0</br>arrival_date_year: 2016.0</br>adults: 2.0</br>children: 0.0</br>babies: 0.0</br>_original_yhat_: 0.4764910638332367</br>\"],[\"</br>id: observation</br>prediction: 0.476</br>booking_changes: 3.57</br></br>lead_time: 203.0</br>arrival_date_year: 2016.0</br>adults: 2.0</br>children: 0.0</br>babies: 0.0</br>_original_yhat_: 0.4764910638332367</br>\"],[\"</br>id: observation</br>prediction: 0.476</br>booking_changes: 3.78</br></br>lead_time: 203.0</br>arrival_date_year: 2016.0</br>adults: 2.0</br>children: 0.0</br>babies: 0.0</br>_original_yhat_: 0.4764910638332367</br>\"],[\"</br>id: observation</br>prediction: 0.476</br>booking_changes: 3.9899999999999998</br></br>lead_time: 203.0</br>arrival_date_year: 2016.0</br>adults: 2.0</br>children: 0.0</br>babies: 0.0</br>_original_yhat_: 0.4764910638332367</br>\"],[\"</br>id: observation</br>prediction: 0.476</br>booking_changes: 4.0</br></br>lead_time: 203.0</br>arrival_date_year: 2016.0</br>adults: 2.0</br>children: 0.0</br>babies: 0.0</br>_original_yhat_: 0.4764910638332367</br>\"],[\"</br>id: observation</br>prediction: 0.476</br>booking_changes: 4.2</br></br>lead_time: 203.0</br>arrival_date_year: 2016.0</br>adults: 2.0</br>children: 0.0</br>babies: 0.0</br>_original_yhat_: 0.4764910638332367</br>\"],[\"</br>id: observation</br>prediction: 0.476</br>booking_changes: 4.41</br></br>lead_time: 203.0</br>arrival_date_year: 2016.0</br>adults: 2.0</br>children: 0.0</br>babies: 0.0</br>_original_yhat_: 0.4764910638332367</br>\"],[\"</br>id: observation</br>prediction: 0.476</br>booking_changes: 4.62</br></br>lead_time: 203.0</br>arrival_date_year: 2016.0</br>adults: 2.0</br>children: 0.0</br>babies: 0.0</br>_original_yhat_: 0.4764910638332367</br>\"],[\"</br>id: observation</br>prediction: 0.476</br>booking_changes: 4.83</br></br>lead_time: 203.0</br>arrival_date_year: 2016.0</br>adults: 2.0</br>children: 0.0</br>babies: 0.0</br>_original_yhat_: 0.4764910638332367</br>\"],[\"</br>id: observation</br>prediction: 0.476</br>booking_changes: 5.04</br></br>lead_time: 203.0</br>arrival_date_year: 2016.0</br>adults: 2.0</br>children: 0.0</br>babies: 0.0</br>_original_yhat_: 0.4764910638332367</br>\"],[\"</br>id: observation</br>prediction: 0.476</br>booking_changes: 5.25</br></br>lead_time: 203.0</br>arrival_date_year: 2016.0</br>adults: 2.0</br>children: 0.0</br>babies: 0.0</br>_original_yhat_: 0.4764910638332367</br>\"],[\"</br>id: observation</br>prediction: 0.476</br>booking_changes: 5.46</br></br>lead_time: 203.0</br>arrival_date_year: 2016.0</br>adults: 2.0</br>children: 0.0</br>babies: 0.0</br>_original_yhat_: 0.4764910638332367</br>\"],[\"</br>id: observation</br>prediction: 0.476</br>booking_changes: 5.67</br></br>lead_time: 203.0</br>arrival_date_year: 2016.0</br>adults: 2.0</br>children: 0.0</br>babies: 0.0</br>_original_yhat_: 0.4764910638332367</br>\"],[\"</br>id: observation</br>prediction: 0.476</br>booking_changes: 5.88</br></br>lead_time: 203.0</br>arrival_date_year: 2016.0</br>adults: 2.0</br>children: 0.0</br>babies: 0.0</br>_original_yhat_: 0.4764910638332367</br>\"],[\"</br>id: observation</br>prediction: 0.476</br>booking_changes: 6.09</br></br>lead_time: 203.0</br>arrival_date_year: 2016.0</br>adults: 2.0</br>children: 0.0</br>babies: 0.0</br>_original_yhat_: 0.4764910638332367</br>\"],[\"</br>id: observation</br>prediction: 0.476</br>booking_changes: 6.3</br></br>lead_time: 203.0</br>arrival_date_year: 2016.0</br>adults: 2.0</br>children: 0.0</br>babies: 0.0</br>_original_yhat_: 0.4764910638332367</br>\"],[\"</br>id: observation</br>prediction: 0.476</br>booking_changes: 6.51</br></br>lead_time: 203.0</br>arrival_date_year: 2016.0</br>adults: 2.0</br>children: 0.0</br>babies: 0.0</br>_original_yhat_: 0.4764910638332367</br>\"],[\"</br>id: observation</br>prediction: 0.476</br>booking_changes: 6.72</br></br>lead_time: 203.0</br>arrival_date_year: 2016.0</br>adults: 2.0</br>children: 0.0</br>babies: 0.0</br>_original_yhat_: 0.4764910638332367</br>\"],[\"</br>id: observation</br>prediction: 0.476</br>booking_changes: 6.93</br></br>lead_time: 203.0</br>arrival_date_year: 2016.0</br>adults: 2.0</br>children: 0.0</br>babies: 0.0</br>_original_yhat_: 0.4764910638332367</br>\"],[\"</br>id: observation</br>prediction: 0.476</br>booking_changes: 7.14</br></br>lead_time: 203.0</br>arrival_date_year: 2016.0</br>adults: 2.0</br>children: 0.0</br>babies: 0.0</br>_original_yhat_: 0.4764910638332367</br>\"],[\"</br>id: observation</br>prediction: 0.476</br>booking_changes: 7.35</br></br>lead_time: 203.0</br>arrival_date_year: 2016.0</br>adults: 2.0</br>children: 0.0</br>babies: 0.0</br>_original_yhat_: 0.4764910638332367</br>\"],[\"</br>id: observation</br>prediction: 0.476</br>booking_changes: 7.56</br></br>lead_time: 203.0</br>arrival_date_year: 2016.0</br>adults: 2.0</br>children: 0.0</br>babies: 0.0</br>_original_yhat_: 0.4764910638332367</br>\"],[\"</br>id: observation</br>prediction: 0.476</br>booking_changes: 7.77</br></br>lead_time: 203.0</br>arrival_date_year: 2016.0</br>adults: 2.0</br>children: 0.0</br>babies: 0.0</br>_original_yhat_: 0.4764910638332367</br>\"],[\"</br>id: observation</br>prediction: 0.476</br>booking_changes: 7.9799999999999995</br></br>lead_time: 203.0</br>arrival_date_year: 2016.0</br>adults: 2.0</br>children: 0.0</br>babies: 0.0</br>_original_yhat_: 0.4764910638332367</br>\"],[\"</br>id: observation</br>prediction: 0.476</br>booking_changes: 8.19</br></br>lead_time: 203.0</br>arrival_date_year: 2016.0</br>adults: 2.0</br>children: 0.0</br>babies: 0.0</br>_original_yhat_: 0.4764910638332367</br>\"],[\"</br>id: observation</br>prediction: 0.476</br>booking_changes: 8.4</br></br>lead_time: 203.0</br>arrival_date_year: 2016.0</br>adults: 2.0</br>children: 0.0</br>babies: 0.0</br>_original_yhat_: 0.4764910638332367</br>\"],[\"</br>id: observation</br>prediction: 0.476</br>booking_changes: 8.61</br></br>lead_time: 203.0</br>arrival_date_year: 2016.0</br>adults: 2.0</br>children: 0.0</br>babies: 0.0</br>_original_yhat_: 0.4764910638332367</br>\"],[\"</br>id: observation</br>prediction: 0.476</br>booking_changes: 8.82</br></br>lead_time: 203.0</br>arrival_date_year: 2016.0</br>adults: 2.0</br>children: 0.0</br>babies: 0.0</br>_original_yhat_: 0.4764910638332367</br>\"],[\"</br>id: observation</br>prediction: 0.476</br>booking_changes: 9.03</br></br>lead_time: 203.0</br>arrival_date_year: 2016.0</br>adults: 2.0</br>children: 0.0</br>babies: 0.0</br>_original_yhat_: 0.4764910638332367</br>\"],[\"</br>id: observation</br>prediction: 0.476</br>booking_changes: 9.24</br></br>lead_time: 203.0</br>arrival_date_year: 2016.0</br>adults: 2.0</br>children: 0.0</br>babies: 0.0</br>_original_yhat_: 0.4764910638332367</br>\"],[\"</br>id: observation</br>prediction: 0.476</br>booking_changes: 9.45</br></br>lead_time: 203.0</br>arrival_date_year: 2016.0</br>adults: 2.0</br>children: 0.0</br>babies: 0.0</br>_original_yhat_: 0.4764910638332367</br>\"],[\"</br>id: observation</br>prediction: 0.476</br>booking_changes: 9.66</br></br>lead_time: 203.0</br>arrival_date_year: 2016.0</br>adults: 2.0</br>children: 0.0</br>babies: 0.0</br>_original_yhat_: 0.4764910638332367</br>\"],[\"</br>id: observation</br>prediction: 0.476</br>booking_changes: 9.87</br></br>lead_time: 203.0</br>arrival_date_year: 2016.0</br>adults: 2.0</br>children: 0.0</br>babies: 0.0</br>_original_yhat_: 0.4764910638332367</br>\"],[\"</br>id: observation</br>prediction: 0.476</br>booking_changes: 10.08</br></br>lead_time: 203.0</br>arrival_date_year: 2016.0</br>adults: 2.0</br>children: 0.0</br>babies: 0.0</br>_original_yhat_: 0.4764910638332367</br>\"],[\"</br>id: observation</br>prediction: 0.476</br>booking_changes: 10.29</br></br>lead_time: 203.0</br>arrival_date_year: 2016.0</br>adults: 2.0</br>children: 0.0</br>babies: 0.0</br>_original_yhat_: 0.4764910638332367</br>\"],[\"</br>id: observation</br>prediction: 0.476</br>booking_changes: 10.5</br></br>lead_time: 203.0</br>arrival_date_year: 2016.0</br>adults: 2.0</br>children: 0.0</br>babies: 0.0</br>_original_yhat_: 0.4764910638332367</br>\"],[\"</br>id: observation</br>prediction: 0.476</br>booking_changes: 10.709999999999999</br></br>lead_time: 203.0</br>arrival_date_year: 2016.0</br>adults: 2.0</br>children: 0.0</br>babies: 0.0</br>_original_yhat_: 0.4764910638332367</br>\"],[\"</br>id: observation</br>prediction: 0.476</br>booking_changes: 10.92</br></br>lead_time: 203.0</br>arrival_date_year: 2016.0</br>adults: 2.0</br>children: 0.0</br>babies: 0.0</br>_original_yhat_: 0.4764910638332367</br>\"],[\"</br>id: observation</br>prediction: 0.476</br>booking_changes: 11.129999999999999</br></br>lead_time: 203.0</br>arrival_date_year: 2016.0</br>adults: 2.0</br>children: 0.0</br>babies: 0.0</br>_original_yhat_: 0.4764910638332367</br>\"],[\"</br>id: observation</br>prediction: 0.476</br>booking_changes: 11.34</br></br>lead_time: 203.0</br>arrival_date_year: 2016.0</br>adults: 2.0</br>children: 0.0</br>babies: 0.0</br>_original_yhat_: 0.4764910638332367</br>\"],[\"</br>id: observation</br>prediction: 0.476</br>booking_changes: 11.549999999999999</br></br>lead_time: 203.0</br>arrival_date_year: 2016.0</br>adults: 2.0</br>children: 0.0</br>babies: 0.0</br>_original_yhat_: 0.4764910638332367</br>\"],[\"</br>id: observation</br>prediction: 0.476</br>booking_changes: 11.76</br></br>lead_time: 203.0</br>arrival_date_year: 2016.0</br>adults: 2.0</br>children: 0.0</br>babies: 0.0</br>_original_yhat_: 0.4764910638332367</br>\"],[\"</br>id: observation</br>prediction: 0.476</br>booking_changes: 11.969999999999999</br></br>lead_time: 203.0</br>arrival_date_year: 2016.0</br>adults: 2.0</br>children: 0.0</br>babies: 0.0</br>_original_yhat_: 0.4764910638332367</br>\"],[\"</br>id: observation</br>prediction: 0.476</br>booking_changes: 12.18</br></br>lead_time: 203.0</br>arrival_date_year: 2016.0</br>adults: 2.0</br>children: 0.0</br>babies: 0.0</br>_original_yhat_: 0.4764910638332367</br>\"],[\"</br>id: observation</br>prediction: 0.476</br>booking_changes: 12.389999999999999</br></br>lead_time: 203.0</br>arrival_date_year: 2016.0</br>adults: 2.0</br>children: 0.0</br>babies: 0.0</br>_original_yhat_: 0.4764910638332367</br>\"],[\"</br>id: observation</br>prediction: 0.476</br>booking_changes: 12.6</br></br>lead_time: 203.0</br>arrival_date_year: 2016.0</br>adults: 2.0</br>children: 0.0</br>babies: 0.0</br>_original_yhat_: 0.4764910638332367</br>\"],[\"</br>id: observation</br>prediction: 0.476</br>booking_changes: 12.809999999999999</br></br>lead_time: 203.0</br>arrival_date_year: 2016.0</br>adults: 2.0</br>children: 0.0</br>babies: 0.0</br>_original_yhat_: 0.4764910638332367</br>\"],[\"</br>id: observation</br>prediction: 0.476</br>booking_changes: 13.02</br></br>lead_time: 203.0</br>arrival_date_year: 2016.0</br>adults: 2.0</br>children: 0.0</br>babies: 0.0</br>_original_yhat_: 0.4764910638332367</br>\"],[\"</br>id: observation</br>prediction: 0.476</br>booking_changes: 13.229999999999999</br></br>lead_time: 203.0</br>arrival_date_year: 2016.0</br>adults: 2.0</br>children: 0.0</br>babies: 0.0</br>_original_yhat_: 0.4764910638332367</br>\"],[\"</br>id: observation</br>prediction: 0.476</br>booking_changes: 13.44</br></br>lead_time: 203.0</br>arrival_date_year: 2016.0</br>adults: 2.0</br>children: 0.0</br>babies: 0.0</br>_original_yhat_: 0.4764910638332367</br>\"],[\"</br>id: observation</br>prediction: 0.476</br>booking_changes: 13.65</br></br>lead_time: 203.0</br>arrival_date_year: 2016.0</br>adults: 2.0</br>children: 0.0</br>babies: 0.0</br>_original_yhat_: 0.4764910638332367</br>\"],[\"</br>id: observation</br>prediction: 0.476</br>booking_changes: 13.86</br></br>lead_time: 203.0</br>arrival_date_year: 2016.0</br>adults: 2.0</br>children: 0.0</br>babies: 0.0</br>_original_yhat_: 0.4764910638332367</br>\"],[\"</br>id: observation</br>prediction: 0.476</br>booking_changes: 14.07</br></br>lead_time: 203.0</br>arrival_date_year: 2016.0</br>adults: 2.0</br>children: 0.0</br>babies: 0.0</br>_original_yhat_: 0.4764910638332367</br>\"],[\"</br>id: observation</br>prediction: 0.476</br>booking_changes: 14.28</br></br>lead_time: 203.0</br>arrival_date_year: 2016.0</br>adults: 2.0</br>children: 0.0</br>babies: 0.0</br>_original_yhat_: 0.4764910638332367</br>\"],[\"</br>id: observation</br>prediction: 0.476</br>booking_changes: 14.49</br></br>lead_time: 203.0</br>arrival_date_year: 2016.0</br>adults: 2.0</br>children: 0.0</br>babies: 0.0</br>_original_yhat_: 0.4764910638332367</br>\"],[\"</br>id: observation</br>prediction: 0.476</br>booking_changes: 14.7</br></br>lead_time: 203.0</br>arrival_date_year: 2016.0</br>adults: 2.0</br>children: 0.0</br>babies: 0.0</br>_original_yhat_: 0.4764910638332367</br>\"],[\"</br>id: observation</br>prediction: 0.476</br>booking_changes: 14.91</br></br>lead_time: 203.0</br>arrival_date_year: 2016.0</br>adults: 2.0</br>children: 0.0</br>babies: 0.0</br>_original_yhat_: 0.4764910638332367</br>\"],[\"</br>id: observation</br>prediction: 0.476</br>booking_changes: 15.12</br></br>lead_time: 203.0</br>arrival_date_year: 2016.0</br>adults: 2.0</br>children: 0.0</br>babies: 0.0</br>_original_yhat_: 0.4764910638332367</br>\"],[\"</br>id: observation</br>prediction: 0.476</br>booking_changes: 15.33</br></br>lead_time: 203.0</br>arrival_date_year: 2016.0</br>adults: 2.0</br>children: 0.0</br>babies: 0.0</br>_original_yhat_: 0.4764910638332367</br>\"],[\"</br>id: observation</br>prediction: 0.476</br>booking_changes: 15.54</br></br>lead_time: 203.0</br>arrival_date_year: 2016.0</br>adults: 2.0</br>children: 0.0</br>babies: 0.0</br>_original_yhat_: 0.4764910638332367</br>\"],[\"</br>id: observation</br>prediction: 0.476</br>booking_changes: 15.75</br></br>lead_time: 203.0</br>arrival_date_year: 2016.0</br>adults: 2.0</br>children: 0.0</br>babies: 0.0</br>_original_yhat_: 0.4764910638332367</br>\"],[\"</br>id: observation</br>prediction: 0.244</br>booking_changes: 15.959999999999999</br></br>lead_time: 203.0</br>arrival_date_year: 2016.0</br>adults: 2.0</br>children: 0.0</br>babies: 0.0</br>_original_yhat_: 0.4764910638332367</br>\"],[\"</br>id: observation</br>prediction: 0.157</br>booking_changes: 16.169999999999998</br></br>lead_time: 203.0</br>arrival_date_year: 2016.0</br>adults: 2.0</br>children: 0.0</br>babies: 0.0</br>_original_yhat_: 0.4764910638332367</br>\"],[\"</br>id: observation</br>prediction: 0.157</br>booking_changes: 16.38</br></br>lead_time: 203.0</br>arrival_date_year: 2016.0</br>adults: 2.0</br>children: 0.0</br>babies: 0.0</br>_original_yhat_: 0.4764910638332367</br>\"],[\"</br>id: observation</br>prediction: 0.157</br>booking_changes: 16.59</br></br>lead_time: 203.0</br>arrival_date_year: 2016.0</br>adults: 2.0</br>children: 0.0</br>babies: 0.0</br>_original_yhat_: 0.4764910638332367</br>\"],[\"</br>id: observation</br>prediction: 0.157</br>booking_changes: 16.8</br></br>lead_time: 203.0</br>arrival_date_year: 2016.0</br>adults: 2.0</br>children: 0.0</br>babies: 0.0</br>_original_yhat_: 0.4764910638332367</br>\"],[\"</br>id: observation</br>prediction: 0.157</br>booking_changes: 17.009999999999998</br></br>lead_time: 203.0</br>arrival_date_year: 2016.0</br>adults: 2.0</br>children: 0.0</br>babies: 0.0</br>_original_yhat_: 0.4764910638332367</br>\"],[\"</br>id: observation</br>prediction: 0.157</br>booking_changes: 17.22</br></br>lead_time: 203.0</br>arrival_date_year: 2016.0</br>adults: 2.0</br>children: 0.0</br>babies: 0.0</br>_original_yhat_: 0.4764910638332367</br>\"],[\"</br>id: observation</br>prediction: 0.157</br>booking_changes: 17.43</br></br>lead_time: 203.0</br>arrival_date_year: 2016.0</br>adults: 2.0</br>children: 0.0</br>babies: 0.0</br>_original_yhat_: 0.4764910638332367</br>\"],[\"</br>id: observation</br>prediction: 0.157</br>booking_changes: 17.64</br></br>lead_time: 203.0</br>arrival_date_year: 2016.0</br>adults: 2.0</br>children: 0.0</br>babies: 0.0</br>_original_yhat_: 0.4764910638332367</br>\"],[\"</br>id: observation</br>prediction: 0.157</br>booking_changes: 17.849999999999998</br></br>lead_time: 203.0</br>arrival_date_year: 2016.0</br>adults: 2.0</br>children: 0.0</br>babies: 0.0</br>_original_yhat_: 0.4764910638332367</br>\"],[\"</br>id: observation</br>prediction: 0.157</br>booking_changes: 18.06</br></br>lead_time: 203.0</br>arrival_date_year: 2016.0</br>adults: 2.0</br>children: 0.0</br>babies: 0.0</br>_original_yhat_: 0.4764910638332367</br>\"],[\"</br>id: observation</br>prediction: 0.157</br>booking_changes: 18.27</br></br>lead_time: 203.0</br>arrival_date_year: 2016.0</br>adults: 2.0</br>children: 0.0</br>babies: 0.0</br>_original_yhat_: 0.4764910638332367</br>\"],[\"</br>id: observation</br>prediction: 0.157</br>booking_changes: 18.48</br></br>lead_time: 203.0</br>arrival_date_year: 2016.0</br>adults: 2.0</br>children: 0.0</br>babies: 0.0</br>_original_yhat_: 0.4764910638332367</br>\"],[\"</br>id: observation</br>prediction: 0.157</br>booking_changes: 18.689999999999998</br></br>lead_time: 203.0</br>arrival_date_year: 2016.0</br>adults: 2.0</br>children: 0.0</br>babies: 0.0</br>_original_yhat_: 0.4764910638332367</br>\"],[\"</br>id: observation</br>prediction: 0.157</br>booking_changes: 18.9</br></br>lead_time: 203.0</br>arrival_date_year: 2016.0</br>adults: 2.0</br>children: 0.0</br>babies: 0.0</br>_original_yhat_: 0.4764910638332367</br>\"],[\"</br>id: observation</br>prediction: 0.157</br>booking_changes: 19.11</br></br>lead_time: 203.0</br>arrival_date_year: 2016.0</br>adults: 2.0</br>children: 0.0</br>babies: 0.0</br>_original_yhat_: 0.4764910638332367</br>\"],[\"</br>id: observation</br>prediction: 0.157</br>booking_changes: 19.32</br></br>lead_time: 203.0</br>arrival_date_year: 2016.0</br>adults: 2.0</br>children: 0.0</br>babies: 0.0</br>_original_yhat_: 0.4764910638332367</br>\"],[\"</br>id: observation</br>prediction: 0.157</br>booking_changes: 19.529999999999998</br></br>lead_time: 203.0</br>arrival_date_year: 2016.0</br>adults: 2.0</br>children: 0.0</br>babies: 0.0</br>_original_yhat_: 0.4764910638332367</br>\"],[\"</br>id: observation</br>prediction: 0.157</br>booking_changes: 19.74</br></br>lead_time: 203.0</br>arrival_date_year: 2016.0</br>adults: 2.0</br>children: 0.0</br>babies: 0.0</br>_original_yhat_: 0.4764910638332367</br>\"],[\"</br>id: observation</br>prediction: 0.157</br>booking_changes: 19.95</br></br>lead_time: 203.0</br>arrival_date_year: 2016.0</br>adults: 2.0</br>children: 0.0</br>babies: 0.0</br>_original_yhat_: 0.4764910638332367</br>\"],[\"</br>id: observation</br>prediction: 0.157</br>booking_changes: 20.16</br></br>lead_time: 203.0</br>arrival_date_year: 2016.0</br>adults: 2.0</br>children: 0.0</br>babies: 0.0</br>_original_yhat_: 0.4764910638332367</br>\"],[\"</br>id: observation</br>prediction: 0.157</br>booking_changes: 20.37</br></br>lead_time: 203.0</br>arrival_date_year: 2016.0</br>adults: 2.0</br>children: 0.0</br>babies: 0.0</br>_original_yhat_: 0.4764910638332367</br>\"],[\"</br>id: observation</br>prediction: 0.157</br>booking_changes: 20.58</br></br>lead_time: 203.0</br>arrival_date_year: 2016.0</br>adults: 2.0</br>children: 0.0</br>babies: 0.0</br>_original_yhat_: 0.4764910638332367</br>\"],[\"</br>id: observation</br>prediction: 0.157</br>booking_changes: 20.79</br></br>lead_time: 203.0</br>arrival_date_year: 2016.0</br>adults: 2.0</br>children: 0.0</br>babies: 0.0</br>_original_yhat_: 0.4764910638332367</br>\"],[\"</br>id: observation</br>prediction: 0.157</br>booking_changes: 21.0</br></br>lead_time: 203.0</br>arrival_date_year: 2016.0</br>adults: 2.0</br>children: 0.0</br>babies: 0.0</br>_original_yhat_: 0.4764910638332367</br>\"]],\"hovertemplate\":\"%{customdata[0]}<extra></extra>\",\"legendgroup\":\"neural_network\",\"line\":{\"color\":\"#46bac2\",\"dash\":\"solid\",\"width\":2},\"marker\":{\"symbol\":\"circle\"},\"mode\":\"lines\",\"name\":\"neural_network\",\"orientation\":\"v\",\"showlegend\":false,\"x\":[0.0,0.21,0.42,0.63,0.84,1.05,1.26,1.47,1.68,1.89,2.1,2.31,2.52,2.73,2.94,3.15,3.36,3.57,3.78,3.9899999999999998,4.0,4.2,4.41,4.62,4.83,5.04,5.25,5.46,5.67,5.88,6.09,6.3,6.51,6.72,6.93,7.14,7.35,7.56,7.77,7.9799999999999995,8.19,8.4,8.61,8.82,9.03,9.24,9.45,9.66,9.87,10.08,10.29,10.5,10.709999999999999,10.92,11.129999999999999,11.34,11.549999999999999,11.76,11.969999999999999,12.18,12.389999999999999,12.6,12.809999999999999,13.02,13.229999999999999,13.44,13.65,13.86,14.07,14.28,14.49,14.7,14.91,15.12,15.33,15.54,15.75,15.959999999999999,16.169999999999998,16.38,16.59,16.8,17.009999999999998,17.22,17.43,17.64,17.849999999999998,18.06,18.27,18.48,18.689999999999998,18.9,19.11,19.32,19.529999999999998,19.74,19.95,20.16,20.37,20.58,20.79,21.0],\"xaxis\":\"x2\",\"y\":[0.4764910638332367,0.4764910638332367,0.4764910638332367,0.4764910638332367,0.4764910638332367,0.4764910638332367,0.4764910638332367,0.4764910638332367,0.4764910638332367,0.4764910638332367,0.4764910638332367,0.4764910638332367,0.4764910638332367,0.4764910638332367,0.4764910638332367,0.4764910638332367,0.4764910638332367,0.4764910638332367,0.4764910638332367,0.4764910638332367,0.4764910638332367,0.4764910638332367,0.4764910638332367,0.4764910638332367,0.4764910638332367,0.4764910638332367,0.4764910638332367,0.4764910638332367,0.4764910638332367,0.4764910638332367,0.4764910638332367,0.4764910638332367,0.4764910638332367,0.4764910638332367,0.4764910638332367,0.4764910638332367,0.4764910638332367,0.4764910638332367,0.4764910638332367,0.4764910638332367,0.4764910638332367,0.4764910638332367,0.4764910638332367,0.4764910638332367,0.4764910638332367,0.4764910638332367,0.4764910638332367,0.4764910638332367,0.4764910638332367,0.4764910638332367,0.4764910638332367,0.4764910638332367,0.4764910638332367,0.4764910638332367,0.4764910638332367,0.4764910638332367,0.4764910638332367,0.4764910638332367,0.4764910638332367,0.4764910638332367,0.4764910638332367,0.4764910638332367,0.4764910638332367,0.4764910638332367,0.4764910638332367,0.4764910638332367,0.4764910638332367,0.4764910638332367,0.4764910638332367,0.4764910638332367,0.4764910638332367,0.4764910638332367,0.4764910638332367,0.4764910638332367,0.4764910638332367,0.4764910638332367,0.4764851927757263,0.24369511008262634,0.15656250715255737,0.15656164288520813,0.15656164288520813,0.15656164288520813,0.15656164288520813,0.15656164288520813,0.15656164288520813,0.15656164288520813,0.15656164288520813,0.15656164288520813,0.15656164288520813,0.15656164288520813,0.15656164288520813,0.15656164288520813,0.15656164288520813,0.15656164288520813,0.15656164288520813,0.15656164288520813,0.15656164288520813,0.15656164288520813,0.15656164288520813,0.15656164288520813,0.15656164288520813,0.15656164288520813],\"yaxis\":\"y2\",\"type\":\"scatter\",\"opacity\":1},{\"customdata\":[[\"</br>id: observation</br>prediction: 0.476</br>lead_time: 203.0</br></br>arrival_date_year: 2016.0</br>adults: 2.0</br>children: 0.0</br>babies: 0.0</br>booking_changes: 4.0</br>_original_yhat_: 0.4764910638332367</br>\"]],\"hovertemplate\":\"%{customdata[0]}<extra></extra>\",\"legendgroup\":\"\",\"marker\":{\"color\":\"#371ea3\",\"size\":10,\"symbol\":\"circle\"},\"mode\":\"markers\",\"name\":\"\",\"opacity\":1,\"orientation\":\"v\",\"showlegend\":false,\"x\":[203.0],\"xaxis\":\"x3\",\"y\":[0.4764910638332367],\"yaxis\":\"y3\",\"type\":\"scatter\"},{\"customdata\":[[\"</br>id: observation</br>prediction: 0.476</br>children: 0.0</br></br>lead_time: 203.0</br>arrival_date_year: 2016.0</br>adults: 2.0</br>babies: 0.0</br>booking_changes: 4.0</br>_original_yhat_: 0.4764910638332367</br>\"]],\"hovertemplate\":\"%{customdata[0]}<extra></extra>\",\"legendgroup\":\"\",\"marker\":{\"color\":\"#371ea3\",\"size\":10,\"symbol\":\"circle\"},\"mode\":\"markers\",\"name\":\"\",\"opacity\":1,\"orientation\":\"v\",\"showlegend\":false,\"x\":[0.0],\"xaxis\":\"x4\",\"y\":[0.4764910638332367],\"yaxis\":\"y4\",\"type\":\"scatter\"},{\"customdata\":[[\"</br>id: observation</br>prediction: 0.476</br>babies: 0.0</br></br>lead_time: 203.0</br>arrival_date_year: 2016.0</br>adults: 2.0</br>children: 0.0</br>booking_changes: 4.0</br>_original_yhat_: 0.4764910638332367</br>\"]],\"hovertemplate\":\"%{customdata[0]}<extra></extra>\",\"legendgroup\":\"\",\"marker\":{\"color\":\"#371ea3\",\"size\":10,\"symbol\":\"circle\"},\"mode\":\"markers\",\"name\":\"\",\"opacity\":1,\"orientation\":\"v\",\"showlegend\":false,\"x\":[0.0],\"xaxis\":\"x\",\"y\":[0.4764910638332367],\"yaxis\":\"y\",\"type\":\"scatter\"},{\"customdata\":[[\"</br>id: observation</br>prediction: 0.476</br>booking_changes: 4.0</br></br>lead_time: 203.0</br>arrival_date_year: 2016.0</br>adults: 2.0</br>children: 0.0</br>babies: 0.0</br>_original_yhat_: 0.4764910638332367</br>\"]],\"hovertemplate\":\"%{customdata[0]}<extra></extra>\",\"legendgroup\":\"\",\"marker\":{\"color\":\"#371ea3\",\"size\":10,\"symbol\":\"circle\"},\"mode\":\"markers\",\"name\":\"\",\"opacity\":1,\"orientation\":\"v\",\"showlegend\":false,\"x\":[4.0],\"xaxis\":\"x2\",\"y\":[0.4764910638332367],\"yaxis\":\"y2\",\"type\":\"scatter\"}],                        {\"template\":{\"data\":{\"scatter\":[{\"type\":\"scatter\"}]}},\"xaxis\":{\"anchor\":\"y\",\"domain\":[0.0,0.475],\"title\":{\"text\":\"\"},\"showticklabels\":true,\"type\":\"linear\",\"gridwidth\":2,\"zeroline\":false,\"automargin\":true,\"ticks\":\"outside\",\"tickcolor\":\"white\",\"ticklen\":3,\"fixedrange\":true},\"yaxis\":{\"anchor\":\"x\",\"domain\":[0.0,0.425],\"title\":{\"text\":\"\"},\"type\":\"linear\",\"gridwidth\":2,\"zeroline\":false,\"automargin\":true,\"ticks\":\"outside\",\"tickcolor\":\"white\",\"ticklen\":3,\"fixedrange\":true,\"range\":[0.12456870079040527,0.5084840059280396]},\"xaxis2\":{\"anchor\":\"y2\",\"domain\":[0.525,1.0],\"title\":{\"text\":\"\"},\"showticklabels\":true,\"type\":\"linear\",\"gridwidth\":2,\"zeroline\":false,\"automargin\":true,\"ticks\":\"outside\",\"tickcolor\":\"white\",\"ticklen\":3,\"fixedrange\":true},\"yaxis2\":{\"anchor\":\"x2\",\"domain\":[0.0,0.425],\"matches\":\"y\",\"showticklabels\":false,\"type\":\"linear\",\"gridwidth\":2,\"zeroline\":false,\"automargin\":true,\"ticks\":\"outside\",\"tickcolor\":\"white\",\"ticklen\":3,\"fixedrange\":true,\"range\":[0.12456870079040527,0.5084840059280396],\"title\":{\"text\":\"\"}},\"xaxis3\":{\"anchor\":\"y3\",\"domain\":[0.0,0.475],\"showticklabels\":true,\"type\":\"linear\",\"gridwidth\":2,\"zeroline\":false,\"automargin\":true,\"ticks\":\"outside\",\"tickcolor\":\"white\",\"ticklen\":3,\"fixedrange\":true,\"title\":{\"text\":\"\"}},\"yaxis3\":{\"anchor\":\"x3\",\"domain\":[0.575,1.0],\"matches\":\"y\",\"title\":{\"text\":\"\"},\"type\":\"linear\",\"gridwidth\":2,\"zeroline\":false,\"automargin\":true,\"ticks\":\"outside\",\"tickcolor\":\"white\",\"ticklen\":3,\"fixedrange\":true,\"range\":[0.12456870079040527,0.5084840059280396]},\"xaxis4\":{\"anchor\":\"y4\",\"domain\":[0.525,1.0],\"showticklabels\":true,\"type\":\"linear\",\"gridwidth\":2,\"zeroline\":false,\"automargin\":true,\"ticks\":\"outside\",\"tickcolor\":\"white\",\"ticklen\":3,\"fixedrange\":true,\"title\":{\"text\":\"\"}},\"yaxis4\":{\"anchor\":\"x4\",\"domain\":[0.575,1.0],\"matches\":\"y\",\"showticklabels\":false,\"type\":\"linear\",\"gridwidth\":2,\"zeroline\":false,\"automargin\":true,\"ticks\":\"outside\",\"tickcolor\":\"white\",\"ticklen\":3,\"fixedrange\":true,\"range\":[0.12456870079040527,0.5084840059280396],\"title\":{\"text\":\"\"}},\"annotations\":[{\"font\":{\"size\":13},\"showarrow\":false,\"text\":\"babies\",\"x\":0.2375,\"xanchor\":\"center\",\"xref\":\"paper\",\"y\":0.425,\"yanchor\":\"bottom\",\"yref\":\"paper\"},{\"font\":{\"size\":13},\"showarrow\":false,\"text\":\"booking_changes\",\"x\":0.7625,\"xanchor\":\"center\",\"xref\":\"paper\",\"y\":0.425,\"yanchor\":\"bottom\",\"yref\":\"paper\"},{\"font\":{\"size\":13},\"showarrow\":false,\"text\":\"lead_time\",\"x\":0.2375,\"xanchor\":\"center\",\"xref\":\"paper\",\"y\":1.0,\"yanchor\":\"bottom\",\"yref\":\"paper\"},{\"font\":{\"size\":13},\"showarrow\":false,\"text\":\"children\",\"x\":0.7625,\"xanchor\":\"center\",\"xref\":\"paper\",\"y\":1.0,\"yanchor\":\"bottom\",\"yref\":\"paper\"},{\"font\":{\"size\":13},\"showarrow\":false,\"text\":\"prediction\",\"textangle\":-90,\"x\":-0.07,\"xref\":\"paper\",\"y\":0.5,\"yref\":\"paper\"}],\"legend\":{\"title\":{\"text\":\"label\",\"font\":{\"size\":12}},\"tracegroupgap\":0,\"font\":{\"size\":11},\"orientation\":\"h\",\"yanchor\":\"bottom\",\"y\":1.0361881785283473,\"xanchor\":\"right\",\"x\":1,\"itemsizing\":\"constant\"},\"margin\":{\"t\":78,\"b\":71,\"r\":30},\"font\":{\"color\":\"#371ea3\"},\"title\":{\"font\":{\"size\":16},\"text\":\"Ceteris Paribus Profiles\",\"x\":0.15},\"hovermode\":\"closest\",\"height\":829,\"hoverlabel\":{\"bgcolor\":\"rgba(0,0,0,0.8)\"}},                        {\"displaylogo\": false, \"staticPlot\": false, \"toImageButtonOptions\": {\"height\": null, \"width\": null}, \"modeBarButtonsToRemove\": [\"sendDataToCloud\", \"lasso2d\", \"autoScale2d\", \"select2d\", \"zoom2d\", \"pan2d\", \"zoomIn2d\", \"zoomOut2d\", \"resetScale2d\", \"toggleSpikelines\", \"hoverCompareCartesian\", \"hoverClosestCartesian\"], \"responsive\": true}                    ).then(function(){\n",
       "                            \n",
       "var gd = document.getElementById('cdb2bf8c-68f9-47fc-9f66-1fe2c17de307');\n",
       "var x = new MutationObserver(function (mutations, observer) {{\n",
       "        var display = window.getComputedStyle(gd).display;\n",
       "        if (!display || display === 'none') {{\n",
       "            console.log([gd, 'removed!']);\n",
       "            Plotly.purge(gd);\n",
       "            observer.disconnect();\n",
       "        }}\n",
       "}});\n",
       "\n",
       "// Listen for the removal of the full notebook cells\n",
       "var notebookContainer = gd.closest('#notebook-container');\n",
       "if (notebookContainer) {{\n",
       "    x.observe(notebookContainer, {childList: true});\n",
       "}}\n",
       "\n",
       "// Listen for the clearing of the current output cell\n",
       "var outputEl = gd.closest('.output');\n",
       "if (outputEl) {{\n",
       "    x.observe(outputEl, {childList: true});\n",
       "}}\n",
       "\n",
       "                        })                };                });            </script>        </div>"
      ]
     },
     "metadata": {},
     "output_type": "display_data"
    }
   ],
   "source": [
    "nn_profile = exp_nn.predict_profile(new_observation = observation)\n",
    "\n",
    "# plot Ceteris Paribus profile\n",
    "nn_profile.plot(variables = ['lead_time', 'children', 'babies', 'booking_changes'])\n",
    "# in this model chidren and babies variables did not matter at all\n",
    "# bigger lead time(>81 days) increased probability of cancelation\n",
    "# alternatively bigger number of booking changes decreased chances of clients not coming"
   ]
  },
  {
   "cell_type": "markdown",
   "id": "8b662400",
   "metadata": {},
   "source": [
    "## Random forest"
   ]
  },
  {
   "cell_type": "code",
   "execution_count": 51,
   "id": "49ec6fd7",
   "metadata": {},
   "outputs": [
    {
     "data": {
      "text/plain": [
       "RandomForestClassifier(max_depth=2, random_state=0)"
      ]
     },
     "execution_count": 51,
     "metadata": {},
     "output_type": "execute_result"
    }
   ],
   "source": [
    "forest = RandomForestClassifier(max_depth=2, random_state=0)\n",
    "forest.fit(X_train, y_train)"
   ]
  },
  {
   "cell_type": "code",
   "execution_count": 52,
   "id": "5556472f",
   "metadata": {},
   "outputs": [
    {
     "data": {
      "text/plain": [
       "array([0], dtype=int64)"
      ]
     },
     "execution_count": 52,
     "metadata": {},
     "output_type": "execute_result"
    }
   ],
   "source": [
    "forest.predict(observation) # prediction"
   ]
  },
  {
   "cell_type": "code",
   "execution_count": 54,
   "id": "fd445b41",
   "metadata": {},
   "outputs": [
    {
     "name": "stdout",
     "output_type": "stream",
     "text": [
      "Preparation of a new explainer is initiated\n",
      "\n",
      "  -> data              : 107447 rows 6 cols\n",
      "  -> target variable   : Parameter 'y' was a pandas.DataFrame. Converted to a numpy.ndarray.\n",
      "  -> target variable   : 107447 values\n",
      "  -> model_class       : sklearn.ensemble._forest.RandomForestClassifier (default)\n",
      "  -> label             : random_forest\n",
      "  -> predict function  : <function yhat_proba_default at 0x00000228ADDB3C10> will be used (default)\n",
      "  -> predict function  : Accepts pandas.DataFrame and numpy.ndarray.\n",
      "  -> predicted values  : min = 0.139, mean = 0.37, max = 0.45\n",
      "  -> model type        : classification will be used (default)\n",
      "  -> residual function : difference between y and yhat (default)\n",
      "  -> residuals         : min = -0.45, mean = -3.51e-05, max = 0.861\n",
      "  -> model_info        : package sklearn\n",
      "\n",
      "A new explainer has been created!\n"
     ]
    }
   ],
   "source": [
    "exp_forest = dx.Explainer(forest, X_train, y_train, label='random_forest')"
   ]
  },
  {
   "cell_type": "code",
   "execution_count": 55,
   "id": "26a126e8",
   "metadata": {},
   "outputs": [
    {
     "name": "stderr",
     "output_type": "stream",
     "text": [
      "Calculating ceteris paribus: 100%|███████████████████████████████████████████████████████| 6/6 [00:00<00:00, 62.67it/s]\n"
     ]
    },
    {
     "data": {
      "application/vnd.plotly.v1+json": {
       "config": {
        "displaylogo": false,
        "modeBarButtonsToRemove": [
         "sendDataToCloud",
         "lasso2d",
         "autoScale2d",
         "select2d",
         "zoom2d",
         "pan2d",
         "zoomIn2d",
         "zoomOut2d",
         "resetScale2d",
         "toggleSpikelines",
         "hoverCompareCartesian",
         "hoverClosestCartesian"
        ],
        "plotlyServerURL": "https://plot.ly",
        "staticPlot": false,
        "toImageButtonOptions": {
         "height": null,
         "width": null
        }
       },
       "data": [
        {
         "customdata": [
          [
           "</br>id: observation</br>prediction: 0.187</br>lead_time: 0.0</br></br>arrival_date_year: 2016.0</br>adults: 2.0</br>children: 0.0</br>babies: 0.0</br>booking_changes: 4.0</br>_original_yhat_: 0.3079200979422798</br>"
          ],
          [
           "</br>id: observation</br>prediction: 0.187</br>lead_time: 7.37</br></br>arrival_date_year: 2016.0</br>adults: 2.0</br>children: 0.0</br>babies: 0.0</br>booking_changes: 4.0</br>_original_yhat_: 0.3079200979422798</br>"
          ],
          [
           "</br>id: observation</br>prediction: 0.215</br>lead_time: 14.74</br></br>arrival_date_year: 2016.0</br>adults: 2.0</br>children: 0.0</br>babies: 0.0</br>booking_changes: 4.0</br>_original_yhat_: 0.3079200979422798</br>"
          ],
          [
           "</br>id: observation</br>prediction: 0.242</br>lead_time: 22.11</br></br>arrival_date_year: 2016.0</br>adults: 2.0</br>children: 0.0</br>babies: 0.0</br>booking_changes: 4.0</br>_original_yhat_: 0.3079200979422798</br>"
          ],
          [
           "</br>id: observation</br>prediction: 0.308</br>lead_time: 29.48</br></br>arrival_date_year: 2016.0</br>adults: 2.0</br>children: 0.0</br>babies: 0.0</br>booking_changes: 4.0</br>_original_yhat_: 0.3079200979422798</br>"
          ],
          [
           "</br>id: observation</br>prediction: 0.308</br>lead_time: 36.85</br></br>arrival_date_year: 2016.0</br>adults: 2.0</br>children: 0.0</br>babies: 0.0</br>booking_changes: 4.0</br>_original_yhat_: 0.3079200979422798</br>"
          ],
          [
           "</br>id: observation</br>prediction: 0.308</br>lead_time: 44.22</br></br>arrival_date_year: 2016.0</br>adults: 2.0</br>children: 0.0</br>babies: 0.0</br>booking_changes: 4.0</br>_original_yhat_: 0.3079200979422798</br>"
          ],
          [
           "</br>id: observation</br>prediction: 0.308</br>lead_time: 51.59</br></br>arrival_date_year: 2016.0</br>adults: 2.0</br>children: 0.0</br>babies: 0.0</br>booking_changes: 4.0</br>_original_yhat_: 0.3079200979422798</br>"
          ],
          [
           "</br>id: observation</br>prediction: 0.308</br>lead_time: 58.96</br></br>arrival_date_year: 2016.0</br>adults: 2.0</br>children: 0.0</br>babies: 0.0</br>booking_changes: 4.0</br>_original_yhat_: 0.3079200979422798</br>"
          ],
          [
           "</br>id: observation</br>prediction: 0.308</br>lead_time: 66.33</br></br>arrival_date_year: 2016.0</br>adults: 2.0</br>children: 0.0</br>babies: 0.0</br>booking_changes: 4.0</br>_original_yhat_: 0.3079200979422798</br>"
          ],
          [
           "</br>id: observation</br>prediction: 0.308</br>lead_time: 73.7</br></br>arrival_date_year: 2016.0</br>adults: 2.0</br>children: 0.0</br>babies: 0.0</br>booking_changes: 4.0</br>_original_yhat_: 0.3079200979422798</br>"
          ],
          [
           "</br>id: observation</br>prediction: 0.308</br>lead_time: 81.07000000000001</br></br>arrival_date_year: 2016.0</br>adults: 2.0</br>children: 0.0</br>babies: 0.0</br>booking_changes: 4.0</br>_original_yhat_: 0.3079200979422798</br>"
          ],
          [
           "</br>id: observation</br>prediction: 0.308</br>lead_time: 88.44</br></br>arrival_date_year: 2016.0</br>adults: 2.0</br>children: 0.0</br>babies: 0.0</br>booking_changes: 4.0</br>_original_yhat_: 0.3079200979422798</br>"
          ],
          [
           "</br>id: observation</br>prediction: 0.308</br>lead_time: 95.81</br></br>arrival_date_year: 2016.0</br>adults: 2.0</br>children: 0.0</br>babies: 0.0</br>booking_changes: 4.0</br>_original_yhat_: 0.3079200979422798</br>"
          ],
          [
           "</br>id: observation</br>prediction: 0.308</br>lead_time: 103.18</br></br>arrival_date_year: 2016.0</br>adults: 2.0</br>children: 0.0</br>babies: 0.0</br>booking_changes: 4.0</br>_original_yhat_: 0.3079200979422798</br>"
          ],
          [
           "</br>id: observation</br>prediction: 0.308</br>lead_time: 110.55</br></br>arrival_date_year: 2016.0</br>adults: 2.0</br>children: 0.0</br>babies: 0.0</br>booking_changes: 4.0</br>_original_yhat_: 0.3079200979422798</br>"
          ],
          [
           "</br>id: observation</br>prediction: 0.308</br>lead_time: 117.92</br></br>arrival_date_year: 2016.0</br>adults: 2.0</br>children: 0.0</br>babies: 0.0</br>booking_changes: 4.0</br>_original_yhat_: 0.3079200979422798</br>"
          ],
          [
           "</br>id: observation</br>prediction: 0.308</br>lead_time: 125.29</br></br>arrival_date_year: 2016.0</br>adults: 2.0</br>children: 0.0</br>babies: 0.0</br>booking_changes: 4.0</br>_original_yhat_: 0.3079200979422798</br>"
          ],
          [
           "</br>id: observation</br>prediction: 0.308</br>lead_time: 132.66</br></br>arrival_date_year: 2016.0</br>adults: 2.0</br>children: 0.0</br>babies: 0.0</br>booking_changes: 4.0</br>_original_yhat_: 0.3079200979422798</br>"
          ],
          [
           "</br>id: observation</br>prediction: 0.308</br>lead_time: 140.03</br></br>arrival_date_year: 2016.0</br>adults: 2.0</br>children: 0.0</br>babies: 0.0</br>booking_changes: 4.0</br>_original_yhat_: 0.3079200979422798</br>"
          ],
          [
           "</br>id: observation</br>prediction: 0.308</br>lead_time: 147.4</br></br>arrival_date_year: 2016.0</br>adults: 2.0</br>children: 0.0</br>babies: 0.0</br>booking_changes: 4.0</br>_original_yhat_: 0.3079200979422798</br>"
          ],
          [
           "</br>id: observation</br>prediction: 0.308</br>lead_time: 154.77</br></br>arrival_date_year: 2016.0</br>adults: 2.0</br>children: 0.0</br>babies: 0.0</br>booking_changes: 4.0</br>_original_yhat_: 0.3079200979422798</br>"
          ],
          [
           "</br>id: observation</br>prediction: 0.308</br>lead_time: 162.14000000000001</br></br>arrival_date_year: 2016.0</br>adults: 2.0</br>children: 0.0</br>babies: 0.0</br>booking_changes: 4.0</br>_original_yhat_: 0.3079200979422798</br>"
          ],
          [
           "</br>id: observation</br>prediction: 0.308</br>lead_time: 169.51</br></br>arrival_date_year: 2016.0</br>adults: 2.0</br>children: 0.0</br>babies: 0.0</br>booking_changes: 4.0</br>_original_yhat_: 0.3079200979422798</br>"
          ],
          [
           "</br>id: observation</br>prediction: 0.308</br>lead_time: 176.88</br></br>arrival_date_year: 2016.0</br>adults: 2.0</br>children: 0.0</br>babies: 0.0</br>booking_changes: 4.0</br>_original_yhat_: 0.3079200979422798</br>"
          ],
          [
           "</br>id: observation</br>prediction: 0.308</br>lead_time: 184.25</br></br>arrival_date_year: 2016.0</br>adults: 2.0</br>children: 0.0</br>babies: 0.0</br>booking_changes: 4.0</br>_original_yhat_: 0.3079200979422798</br>"
          ],
          [
           "</br>id: observation</br>prediction: 0.308</br>lead_time: 191.62</br></br>arrival_date_year: 2016.0</br>adults: 2.0</br>children: 0.0</br>babies: 0.0</br>booking_changes: 4.0</br>_original_yhat_: 0.3079200979422798</br>"
          ],
          [
           "</br>id: observation</br>prediction: 0.308</br>lead_time: 198.99</br></br>arrival_date_year: 2016.0</br>adults: 2.0</br>children: 0.0</br>babies: 0.0</br>booking_changes: 4.0</br>_original_yhat_: 0.3079200979422798</br>"
          ],
          [
           "</br>id: observation</br>prediction: 0.308</br>lead_time: 203.0</br></br>arrival_date_year: 2016.0</br>adults: 2.0</br>children: 0.0</br>babies: 0.0</br>booking_changes: 4.0</br>_original_yhat_: 0.3079200979422798</br>"
          ],
          [
           "</br>id: observation</br>prediction: 0.308</br>lead_time: 206.36</br></br>arrival_date_year: 2016.0</br>adults: 2.0</br>children: 0.0</br>babies: 0.0</br>booking_changes: 4.0</br>_original_yhat_: 0.3079200979422798</br>"
          ],
          [
           "</br>id: observation</br>prediction: 0.308</br>lead_time: 213.73</br></br>arrival_date_year: 2016.0</br>adults: 2.0</br>children: 0.0</br>babies: 0.0</br>booking_changes: 4.0</br>_original_yhat_: 0.3079200979422798</br>"
          ],
          [
           "</br>id: observation</br>prediction: 0.308</br>lead_time: 221.1</br></br>arrival_date_year: 2016.0</br>adults: 2.0</br>children: 0.0</br>babies: 0.0</br>booking_changes: 4.0</br>_original_yhat_: 0.3079200979422798</br>"
          ],
          [
           "</br>id: observation</br>prediction: 0.308</br>lead_time: 228.47</br></br>arrival_date_year: 2016.0</br>adults: 2.0</br>children: 0.0</br>babies: 0.0</br>booking_changes: 4.0</br>_original_yhat_: 0.3079200979422798</br>"
          ],
          [
           "</br>id: observation</br>prediction: 0.308</br>lead_time: 235.84</br></br>arrival_date_year: 2016.0</br>adults: 2.0</br>children: 0.0</br>babies: 0.0</br>booking_changes: 4.0</br>_original_yhat_: 0.3079200979422798</br>"
          ],
          [
           "</br>id: observation</br>prediction: 0.308</br>lead_time: 243.21</br></br>arrival_date_year: 2016.0</br>adults: 2.0</br>children: 0.0</br>babies: 0.0</br>booking_changes: 4.0</br>_original_yhat_: 0.3079200979422798</br>"
          ],
          [
           "</br>id: observation</br>prediction: 0.308</br>lead_time: 250.58</br></br>arrival_date_year: 2016.0</br>adults: 2.0</br>children: 0.0</br>babies: 0.0</br>booking_changes: 4.0</br>_original_yhat_: 0.3079200979422798</br>"
          ],
          [
           "</br>id: observation</br>prediction: 0.321</br>lead_time: 257.95</br></br>arrival_date_year: 2016.0</br>adults: 2.0</br>children: 0.0</br>babies: 0.0</br>booking_changes: 4.0</br>_original_yhat_: 0.3079200979422798</br>"
          ],
          [
           "</br>id: observation</br>prediction: 0.321</br>lead_time: 265.32</br></br>arrival_date_year: 2016.0</br>adults: 2.0</br>children: 0.0</br>babies: 0.0</br>booking_changes: 4.0</br>_original_yhat_: 0.3079200979422798</br>"
          ],
          [
           "</br>id: observation</br>prediction: 0.321</br>lead_time: 272.69</br></br>arrival_date_year: 2016.0</br>adults: 2.0</br>children: 0.0</br>babies: 0.0</br>booking_changes: 4.0</br>_original_yhat_: 0.3079200979422798</br>"
          ],
          [
           "</br>id: observation</br>prediction: 0.321</br>lead_time: 280.06</br></br>arrival_date_year: 2016.0</br>adults: 2.0</br>children: 0.0</br>babies: 0.0</br>booking_changes: 4.0</br>_original_yhat_: 0.3079200979422798</br>"
          ],
          [
           "</br>id: observation</br>prediction: 0.321</br>lead_time: 287.43</br></br>arrival_date_year: 2016.0</br>adults: 2.0</br>children: 0.0</br>babies: 0.0</br>booking_changes: 4.0</br>_original_yhat_: 0.3079200979422798</br>"
          ],
          [
           "</br>id: observation</br>prediction: 0.321</br>lead_time: 294.8</br></br>arrival_date_year: 2016.0</br>adults: 2.0</br>children: 0.0</br>babies: 0.0</br>booking_changes: 4.0</br>_original_yhat_: 0.3079200979422798</br>"
          ],
          [
           "</br>id: observation</br>prediction: 0.321</br>lead_time: 302.17</br></br>arrival_date_year: 2016.0</br>adults: 2.0</br>children: 0.0</br>babies: 0.0</br>booking_changes: 4.0</br>_original_yhat_: 0.3079200979422798</br>"
          ],
          [
           "</br>id: observation</br>prediction: 0.321</br>lead_time: 309.54</br></br>arrival_date_year: 2016.0</br>adults: 2.0</br>children: 0.0</br>babies: 0.0</br>booking_changes: 4.0</br>_original_yhat_: 0.3079200979422798</br>"
          ],
          [
           "</br>id: observation</br>prediction: 0.321</br>lead_time: 316.91</br></br>arrival_date_year: 2016.0</br>adults: 2.0</br>children: 0.0</br>babies: 0.0</br>booking_changes: 4.0</br>_original_yhat_: 0.3079200979422798</br>"
          ],
          [
           "</br>id: observation</br>prediction: 0.321</br>lead_time: 324.28000000000003</br></br>arrival_date_year: 2016.0</br>adults: 2.0</br>children: 0.0</br>babies: 0.0</br>booking_changes: 4.0</br>_original_yhat_: 0.3079200979422798</br>"
          ],
          [
           "</br>id: observation</br>prediction: 0.321</br>lead_time: 331.65</br></br>arrival_date_year: 2016.0</br>adults: 2.0</br>children: 0.0</br>babies: 0.0</br>booking_changes: 4.0</br>_original_yhat_: 0.3079200979422798</br>"
          ],
          [
           "</br>id: observation</br>prediction: 0.321</br>lead_time: 339.02</br></br>arrival_date_year: 2016.0</br>adults: 2.0</br>children: 0.0</br>babies: 0.0</br>booking_changes: 4.0</br>_original_yhat_: 0.3079200979422798</br>"
          ],
          [
           "</br>id: observation</br>prediction: 0.321</br>lead_time: 346.39</br></br>arrival_date_year: 2016.0</br>adults: 2.0</br>children: 0.0</br>babies: 0.0</br>booking_changes: 4.0</br>_original_yhat_: 0.3079200979422798</br>"
          ],
          [
           "</br>id: observation</br>prediction: 0.321</br>lead_time: 353.76</br></br>arrival_date_year: 2016.0</br>adults: 2.0</br>children: 0.0</br>babies: 0.0</br>booking_changes: 4.0</br>_original_yhat_: 0.3079200979422798</br>"
          ],
          [
           "</br>id: observation</br>prediction: 0.321</br>lead_time: 361.13</br></br>arrival_date_year: 2016.0</br>adults: 2.0</br>children: 0.0</br>babies: 0.0</br>booking_changes: 4.0</br>_original_yhat_: 0.3079200979422798</br>"
          ],
          [
           "</br>id: observation</br>prediction: 0.321</br>lead_time: 368.5</br></br>arrival_date_year: 2016.0</br>adults: 2.0</br>children: 0.0</br>babies: 0.0</br>booking_changes: 4.0</br>_original_yhat_: 0.3079200979422798</br>"
          ],
          [
           "</br>id: observation</br>prediction: 0.321</br>lead_time: 375.87</br></br>arrival_date_year: 2016.0</br>adults: 2.0</br>children: 0.0</br>babies: 0.0</br>booking_changes: 4.0</br>_original_yhat_: 0.3079200979422798</br>"
          ],
          [
           "</br>id: observation</br>prediction: 0.321</br>lead_time: 383.24</br></br>arrival_date_year: 2016.0</br>adults: 2.0</br>children: 0.0</br>babies: 0.0</br>booking_changes: 4.0</br>_original_yhat_: 0.3079200979422798</br>"
          ],
          [
           "</br>id: observation</br>prediction: 0.321</br>lead_time: 390.61</br></br>arrival_date_year: 2016.0</br>adults: 2.0</br>children: 0.0</br>babies: 0.0</br>booking_changes: 4.0</br>_original_yhat_: 0.3079200979422798</br>"
          ],
          [
           "</br>id: observation</br>prediction: 0.321</br>lead_time: 397.98</br></br>arrival_date_year: 2016.0</br>adults: 2.0</br>children: 0.0</br>babies: 0.0</br>booking_changes: 4.0</br>_original_yhat_: 0.3079200979422798</br>"
          ],
          [
           "</br>id: observation</br>prediction: 0.321</br>lead_time: 405.35</br></br>arrival_date_year: 2016.0</br>adults: 2.0</br>children: 0.0</br>babies: 0.0</br>booking_changes: 4.0</br>_original_yhat_: 0.3079200979422798</br>"
          ],
          [
           "</br>id: observation</br>prediction: 0.321</br>lead_time: 412.72</br></br>arrival_date_year: 2016.0</br>adults: 2.0</br>children: 0.0</br>babies: 0.0</br>booking_changes: 4.0</br>_original_yhat_: 0.3079200979422798</br>"
          ],
          [
           "</br>id: observation</br>prediction: 0.321</br>lead_time: 420.09000000000003</br></br>arrival_date_year: 2016.0</br>adults: 2.0</br>children: 0.0</br>babies: 0.0</br>booking_changes: 4.0</br>_original_yhat_: 0.3079200979422798</br>"
          ],
          [
           "</br>id: observation</br>prediction: 0.321</br>lead_time: 427.46</br></br>arrival_date_year: 2016.0</br>adults: 2.0</br>children: 0.0</br>babies: 0.0</br>booking_changes: 4.0</br>_original_yhat_: 0.3079200979422798</br>"
          ],
          [
           "</br>id: observation</br>prediction: 0.321</br>lead_time: 434.83</br></br>arrival_date_year: 2016.0</br>adults: 2.0</br>children: 0.0</br>babies: 0.0</br>booking_changes: 4.0</br>_original_yhat_: 0.3079200979422798</br>"
          ],
          [
           "</br>id: observation</br>prediction: 0.321</br>lead_time: 442.2</br></br>arrival_date_year: 2016.0</br>adults: 2.0</br>children: 0.0</br>babies: 0.0</br>booking_changes: 4.0</br>_original_yhat_: 0.3079200979422798</br>"
          ],
          [
           "</br>id: observation</br>prediction: 0.321</br>lead_time: 449.57</br></br>arrival_date_year: 2016.0</br>adults: 2.0</br>children: 0.0</br>babies: 0.0</br>booking_changes: 4.0</br>_original_yhat_: 0.3079200979422798</br>"
          ],
          [
           "</br>id: observation</br>prediction: 0.321</br>lead_time: 456.94</br></br>arrival_date_year: 2016.0</br>adults: 2.0</br>children: 0.0</br>babies: 0.0</br>booking_changes: 4.0</br>_original_yhat_: 0.3079200979422798</br>"
          ],
          [
           "</br>id: observation</br>prediction: 0.321</br>lead_time: 464.31</br></br>arrival_date_year: 2016.0</br>adults: 2.0</br>children: 0.0</br>babies: 0.0</br>booking_changes: 4.0</br>_original_yhat_: 0.3079200979422798</br>"
          ],
          [
           "</br>id: observation</br>prediction: 0.321</br>lead_time: 471.68</br></br>arrival_date_year: 2016.0</br>adults: 2.0</br>children: 0.0</br>babies: 0.0</br>booking_changes: 4.0</br>_original_yhat_: 0.3079200979422798</br>"
          ],
          [
           "</br>id: observation</br>prediction: 0.321</br>lead_time: 479.05</br></br>arrival_date_year: 2016.0</br>adults: 2.0</br>children: 0.0</br>babies: 0.0</br>booking_changes: 4.0</br>_original_yhat_: 0.3079200979422798</br>"
          ],
          [
           "</br>id: observation</br>prediction: 0.321</br>lead_time: 486.42</br></br>arrival_date_year: 2016.0</br>adults: 2.0</br>children: 0.0</br>babies: 0.0</br>booking_changes: 4.0</br>_original_yhat_: 0.3079200979422798</br>"
          ],
          [
           "</br>id: observation</br>prediction: 0.321</br>lead_time: 493.79</br></br>arrival_date_year: 2016.0</br>adults: 2.0</br>children: 0.0</br>babies: 0.0</br>booking_changes: 4.0</br>_original_yhat_: 0.3079200979422798</br>"
          ],
          [
           "</br>id: observation</br>prediction: 0.321</br>lead_time: 501.16</br></br>arrival_date_year: 2016.0</br>adults: 2.0</br>children: 0.0</br>babies: 0.0</br>booking_changes: 4.0</br>_original_yhat_: 0.3079200979422798</br>"
          ],
          [
           "</br>id: observation</br>prediction: 0.321</br>lead_time: 508.53000000000003</br></br>arrival_date_year: 2016.0</br>adults: 2.0</br>children: 0.0</br>babies: 0.0</br>booking_changes: 4.0</br>_original_yhat_: 0.3079200979422798</br>"
          ],
          [
           "</br>id: observation</br>prediction: 0.321</br>lead_time: 515.9</br></br>arrival_date_year: 2016.0</br>adults: 2.0</br>children: 0.0</br>babies: 0.0</br>booking_changes: 4.0</br>_original_yhat_: 0.3079200979422798</br>"
          ],
          [
           "</br>id: observation</br>prediction: 0.321</br>lead_time: 523.27</br></br>arrival_date_year: 2016.0</br>adults: 2.0</br>children: 0.0</br>babies: 0.0</br>booking_changes: 4.0</br>_original_yhat_: 0.3079200979422798</br>"
          ],
          [
           "</br>id: observation</br>prediction: 0.321</br>lead_time: 530.64</br></br>arrival_date_year: 2016.0</br>adults: 2.0</br>children: 0.0</br>babies: 0.0</br>booking_changes: 4.0</br>_original_yhat_: 0.3079200979422798</br>"
          ],
          [
           "</br>id: observation</br>prediction: 0.321</br>lead_time: 538.01</br></br>arrival_date_year: 2016.0</br>adults: 2.0</br>children: 0.0</br>babies: 0.0</br>booking_changes: 4.0</br>_original_yhat_: 0.3079200979422798</br>"
          ],
          [
           "</br>id: observation</br>prediction: 0.321</br>lead_time: 545.38</br></br>arrival_date_year: 2016.0</br>adults: 2.0</br>children: 0.0</br>babies: 0.0</br>booking_changes: 4.0</br>_original_yhat_: 0.3079200979422798</br>"
          ],
          [
           "</br>id: observation</br>prediction: 0.321</br>lead_time: 552.75</br></br>arrival_date_year: 2016.0</br>adults: 2.0</br>children: 0.0</br>babies: 0.0</br>booking_changes: 4.0</br>_original_yhat_: 0.3079200979422798</br>"
          ],
          [
           "</br>id: observation</br>prediction: 0.321</br>lead_time: 560.12</br></br>arrival_date_year: 2016.0</br>adults: 2.0</br>children: 0.0</br>babies: 0.0</br>booking_changes: 4.0</br>_original_yhat_: 0.3079200979422798</br>"
          ],
          [
           "</br>id: observation</br>prediction: 0.321</br>lead_time: 567.49</br></br>arrival_date_year: 2016.0</br>adults: 2.0</br>children: 0.0</br>babies: 0.0</br>booking_changes: 4.0</br>_original_yhat_: 0.3079200979422798</br>"
          ],
          [
           "</br>id: observation</br>prediction: 0.321</br>lead_time: 574.86</br></br>arrival_date_year: 2016.0</br>adults: 2.0</br>children: 0.0</br>babies: 0.0</br>booking_changes: 4.0</br>_original_yhat_: 0.3079200979422798</br>"
          ],
          [
           "</br>id: observation</br>prediction: 0.321</br>lead_time: 582.23</br></br>arrival_date_year: 2016.0</br>adults: 2.0</br>children: 0.0</br>babies: 0.0</br>booking_changes: 4.0</br>_original_yhat_: 0.3079200979422798</br>"
          ],
          [
           "</br>id: observation</br>prediction: 0.321</br>lead_time: 589.6</br></br>arrival_date_year: 2016.0</br>adults: 2.0</br>children: 0.0</br>babies: 0.0</br>booking_changes: 4.0</br>_original_yhat_: 0.3079200979422798</br>"
          ],
          [
           "</br>id: observation</br>prediction: 0.321</br>lead_time: 596.97</br></br>arrival_date_year: 2016.0</br>adults: 2.0</br>children: 0.0</br>babies: 0.0</br>booking_changes: 4.0</br>_original_yhat_: 0.3079200979422798</br>"
          ],
          [
           "</br>id: observation</br>prediction: 0.321</br>lead_time: 604.34</br></br>arrival_date_year: 2016.0</br>adults: 2.0</br>children: 0.0</br>babies: 0.0</br>booking_changes: 4.0</br>_original_yhat_: 0.3079200979422798</br>"
          ],
          [
           "</br>id: observation</br>prediction: 0.321</br>lead_time: 611.71</br></br>arrival_date_year: 2016.0</br>adults: 2.0</br>children: 0.0</br>babies: 0.0</br>booking_changes: 4.0</br>_original_yhat_: 0.3079200979422798</br>"
          ],
          [
           "</br>id: observation</br>prediction: 0.321</br>lead_time: 619.08</br></br>arrival_date_year: 2016.0</br>adults: 2.0</br>children: 0.0</br>babies: 0.0</br>booking_changes: 4.0</br>_original_yhat_: 0.3079200979422798</br>"
          ],
          [
           "</br>id: observation</br>prediction: 0.321</br>lead_time: 626.45</br></br>arrival_date_year: 2016.0</br>adults: 2.0</br>children: 0.0</br>babies: 0.0</br>booking_changes: 4.0</br>_original_yhat_: 0.3079200979422798</br>"
          ],
          [
           "</br>id: observation</br>prediction: 0.321</br>lead_time: 633.82</br></br>arrival_date_year: 2016.0</br>adults: 2.0</br>children: 0.0</br>babies: 0.0</br>booking_changes: 4.0</br>_original_yhat_: 0.3079200979422798</br>"
          ],
          [
           "</br>id: observation</br>prediction: 0.321</br>lead_time: 641.19</br></br>arrival_date_year: 2016.0</br>adults: 2.0</br>children: 0.0</br>babies: 0.0</br>booking_changes: 4.0</br>_original_yhat_: 0.3079200979422798</br>"
          ],
          [
           "</br>id: observation</br>prediction: 0.321</br>lead_time: 648.5600000000001</br></br>arrival_date_year: 2016.0</br>adults: 2.0</br>children: 0.0</br>babies: 0.0</br>booking_changes: 4.0</br>_original_yhat_: 0.3079200979422798</br>"
          ],
          [
           "</br>id: observation</br>prediction: 0.321</br>lead_time: 655.9300000000001</br></br>arrival_date_year: 2016.0</br>adults: 2.0</br>children: 0.0</br>babies: 0.0</br>booking_changes: 4.0</br>_original_yhat_: 0.3079200979422798</br>"
          ],
          [
           "</br>id: observation</br>prediction: 0.321</br>lead_time: 663.3</br></br>arrival_date_year: 2016.0</br>adults: 2.0</br>children: 0.0</br>babies: 0.0</br>booking_changes: 4.0</br>_original_yhat_: 0.3079200979422798</br>"
          ],
          [
           "</br>id: observation</br>prediction: 0.321</br>lead_time: 670.67</br></br>arrival_date_year: 2016.0</br>adults: 2.0</br>children: 0.0</br>babies: 0.0</br>booking_changes: 4.0</br>_original_yhat_: 0.3079200979422798</br>"
          ],
          [
           "</br>id: observation</br>prediction: 0.321</br>lead_time: 678.04</br></br>arrival_date_year: 2016.0</br>adults: 2.0</br>children: 0.0</br>babies: 0.0</br>booking_changes: 4.0</br>_original_yhat_: 0.3079200979422798</br>"
          ],
          [
           "</br>id: observation</br>prediction: 0.321</br>lead_time: 685.41</br></br>arrival_date_year: 2016.0</br>adults: 2.0</br>children: 0.0</br>babies: 0.0</br>booking_changes: 4.0</br>_original_yhat_: 0.3079200979422798</br>"
          ],
          [
           "</br>id: observation</br>prediction: 0.321</br>lead_time: 692.78</br></br>arrival_date_year: 2016.0</br>adults: 2.0</br>children: 0.0</br>babies: 0.0</br>booking_changes: 4.0</br>_original_yhat_: 0.3079200979422798</br>"
          ],
          [
           "</br>id: observation</br>prediction: 0.321</br>lead_time: 700.15</br></br>arrival_date_year: 2016.0</br>adults: 2.0</br>children: 0.0</br>babies: 0.0</br>booking_changes: 4.0</br>_original_yhat_: 0.3079200979422798</br>"
          ],
          [
           "</br>id: observation</br>prediction: 0.321</br>lead_time: 707.52</br></br>arrival_date_year: 2016.0</br>adults: 2.0</br>children: 0.0</br>babies: 0.0</br>booking_changes: 4.0</br>_original_yhat_: 0.3079200979422798</br>"
          ],
          [
           "</br>id: observation</br>prediction: 0.321</br>lead_time: 714.89</br></br>arrival_date_year: 2016.0</br>adults: 2.0</br>children: 0.0</br>babies: 0.0</br>booking_changes: 4.0</br>_original_yhat_: 0.3079200979422798</br>"
          ],
          [
           "</br>id: observation</br>prediction: 0.321</br>lead_time: 722.26</br></br>arrival_date_year: 2016.0</br>adults: 2.0</br>children: 0.0</br>babies: 0.0</br>booking_changes: 4.0</br>_original_yhat_: 0.3079200979422798</br>"
          ],
          [
           "</br>id: observation</br>prediction: 0.321</br>lead_time: 729.63</br></br>arrival_date_year: 2016.0</br>adults: 2.0</br>children: 0.0</br>babies: 0.0</br>booking_changes: 4.0</br>_original_yhat_: 0.3079200979422798</br>"
          ],
          [
           "</br>id: observation</br>prediction: 0.321</br>lead_time: 737.0</br></br>arrival_date_year: 2016.0</br>adults: 2.0</br>children: 0.0</br>babies: 0.0</br>booking_changes: 4.0</br>_original_yhat_: 0.3079200979422798</br>"
          ]
         ],
         "hovertemplate": "%{customdata[0]}<extra></extra>",
         "legendgroup": "random_forest",
         "line": {
          "color": "#46bac2",
          "dash": "solid",
          "width": 2
         },
         "marker": {
          "symbol": "circle"
         },
         "mode": "lines",
         "name": "random_forest",
         "opacity": 1,
         "orientation": "v",
         "showlegend": true,
         "type": "scatter",
         "x": [
          0,
          7.37,
          14.74,
          22.11,
          29.48,
          36.85,
          44.22,
          51.59,
          58.96,
          66.33,
          73.7,
          81.07000000000001,
          88.44,
          95.81,
          103.18,
          110.55,
          117.92,
          125.29,
          132.66,
          140.03,
          147.4,
          154.77,
          162.14000000000001,
          169.51,
          176.88,
          184.25,
          191.62,
          198.99,
          203,
          206.36,
          213.73,
          221.1,
          228.47,
          235.84,
          243.21,
          250.58,
          257.95,
          265.32,
          272.69,
          280.06,
          287.43,
          294.8,
          302.17,
          309.54,
          316.91,
          324.28000000000003,
          331.65,
          339.02,
          346.39,
          353.76,
          361.13,
          368.5,
          375.87,
          383.24,
          390.61,
          397.98,
          405.35,
          412.72,
          420.09000000000003,
          427.46,
          434.83,
          442.2,
          449.57,
          456.94,
          464.31,
          471.68,
          479.05,
          486.42,
          493.79,
          501.16,
          508.53000000000003,
          515.9,
          523.27,
          530.64,
          538.01,
          545.38,
          552.75,
          560.12,
          567.49,
          574.86,
          582.23,
          589.6,
          596.97,
          604.34,
          611.71,
          619.08,
          626.45,
          633.82,
          641.19,
          648.5600000000001,
          655.9300000000001,
          663.3,
          670.67,
          678.04,
          685.41,
          692.78,
          700.15,
          707.52,
          714.89,
          722.26,
          729.63,
          737
         ],
         "xaxis": "x3",
         "y": [
          0.18727236460113716,
          0.18727236460113716,
          0.21549213407747508,
          0.2416304201218299,
          0.3079200979422798,
          0.3079200979422798,
          0.3079200979422798,
          0.3079200979422798,
          0.3079200979422798,
          0.3079200979422798,
          0.3079200979422798,
          0.3079200979422798,
          0.3079200979422798,
          0.3079200979422798,
          0.3079200979422798,
          0.3079200979422798,
          0.3079200979422798,
          0.3079200979422798,
          0.3079200979422798,
          0.3079200979422798,
          0.3079200979422798,
          0.3079200979422798,
          0.3079200979422798,
          0.3079200979422798,
          0.3079200979422798,
          0.3079200979422798,
          0.3079200979422798,
          0.3079200979422798,
          0.3079200979422798,
          0.3079200979422798,
          0.3079200979422798,
          0.3079200979422798,
          0.3079200979422798,
          0.3079200979422798,
          0.3079200979422798,
          0.3079200979422798,
          0.3208765601120674,
          0.3208765601120674,
          0.3208765601120674,
          0.3208765601120674,
          0.3208765601120674,
          0.3208765601120674,
          0.3208765601120674,
          0.3208765601120674,
          0.3208765601120674,
          0.3208765601120674,
          0.3208765601120674,
          0.3208765601120674,
          0.3208765601120674,
          0.3208765601120674,
          0.3208765601120674,
          0.3208765601120674,
          0.3208765601120674,
          0.3208765601120674,
          0.3208765601120674,
          0.3208765601120674,
          0.3208765601120674,
          0.3208765601120674,
          0.3208765601120674,
          0.3208765601120674,
          0.3208765601120674,
          0.3208765601120674,
          0.3208765601120674,
          0.3208765601120674,
          0.3208765601120674,
          0.3208765601120674,
          0.3208765601120674,
          0.3208765601120674,
          0.3208765601120674,
          0.3208765601120674,
          0.3208765601120674,
          0.3208765601120674,
          0.3208765601120674,
          0.3208765601120674,
          0.3208765601120674,
          0.3208765601120674,
          0.3208765601120674,
          0.3208765601120674,
          0.3208765601120674,
          0.3208765601120674,
          0.3208765601120674,
          0.3208765601120674,
          0.3208765601120674,
          0.3208765601120674,
          0.3208765601120674,
          0.3208765601120674,
          0.3208765601120674,
          0.3208765601120674,
          0.3208765601120674,
          0.3208765601120674,
          0.3208765601120674,
          0.3208765601120674,
          0.3208765601120674,
          0.3208765601120674,
          0.3208765601120674,
          0.3208765601120674,
          0.3208765601120674,
          0.3208765601120674,
          0.3208765601120674,
          0.3208765601120674,
          0.3208765601120674,
          0.3208765601120674
         ],
         "yaxis": "y3"
        },
        {
         "customdata": [
          [
           "</br>id: observation</br>prediction: 0.308</br>children: 0.0</br></br>lead_time: 203.0</br>arrival_date_year: 2016.0</br>adults: 2.0</br>babies: 0.0</br>booking_changes: 4.0</br>_original_yhat_: 0.3079200979422798</br>"
          ],
          [
           "</br>id: observation</br>prediction: 0.308</br>children: 0.1</br></br>lead_time: 203.0</br>arrival_date_year: 2016.0</br>adults: 2.0</br>babies: 0.0</br>booking_changes: 4.0</br>_original_yhat_: 0.3079200979422798</br>"
          ],
          [
           "</br>id: observation</br>prediction: 0.308</br>children: 0.2</br></br>lead_time: 203.0</br>arrival_date_year: 2016.0</br>adults: 2.0</br>babies: 0.0</br>booking_changes: 4.0</br>_original_yhat_: 0.3079200979422798</br>"
          ],
          [
           "</br>id: observation</br>prediction: 0.308</br>children: 0.30000000000000004</br></br>lead_time: 203.0</br>arrival_date_year: 2016.0</br>adults: 2.0</br>babies: 0.0</br>booking_changes: 4.0</br>_original_yhat_: 0.3079200979422798</br>"
          ],
          [
           "</br>id: observation</br>prediction: 0.308</br>children: 0.4</br></br>lead_time: 203.0</br>arrival_date_year: 2016.0</br>adults: 2.0</br>babies: 0.0</br>booking_changes: 4.0</br>_original_yhat_: 0.3079200979422798</br>"
          ],
          [
           "</br>id: observation</br>prediction: 0.308</br>children: 0.5</br></br>lead_time: 203.0</br>arrival_date_year: 2016.0</br>adults: 2.0</br>babies: 0.0</br>booking_changes: 4.0</br>_original_yhat_: 0.3079200979422798</br>"
          ],
          [
           "</br>id: observation</br>prediction: 0.308</br>children: 0.6000000000000001</br></br>lead_time: 203.0</br>arrival_date_year: 2016.0</br>adults: 2.0</br>babies: 0.0</br>booking_changes: 4.0</br>_original_yhat_: 0.3079200979422798</br>"
          ],
          [
           "</br>id: observation</br>prediction: 0.308</br>children: 0.7000000000000001</br></br>lead_time: 203.0</br>arrival_date_year: 2016.0</br>adults: 2.0</br>babies: 0.0</br>booking_changes: 4.0</br>_original_yhat_: 0.3079200979422798</br>"
          ],
          [
           "</br>id: observation</br>prediction: 0.308</br>children: 0.8</br></br>lead_time: 203.0</br>arrival_date_year: 2016.0</br>adults: 2.0</br>babies: 0.0</br>booking_changes: 4.0</br>_original_yhat_: 0.3079200979422798</br>"
          ],
          [
           "</br>id: observation</br>prediction: 0.308</br>children: 0.9</br></br>lead_time: 203.0</br>arrival_date_year: 2016.0</br>adults: 2.0</br>babies: 0.0</br>booking_changes: 4.0</br>_original_yhat_: 0.3079200979422798</br>"
          ],
          [
           "</br>id: observation</br>prediction: 0.308</br>children: 1.0</br></br>lead_time: 203.0</br>arrival_date_year: 2016.0</br>adults: 2.0</br>babies: 0.0</br>booking_changes: 4.0</br>_original_yhat_: 0.3079200979422798</br>"
          ],
          [
           "</br>id: observation</br>prediction: 0.308</br>children: 1.1</br></br>lead_time: 203.0</br>arrival_date_year: 2016.0</br>adults: 2.0</br>babies: 0.0</br>booking_changes: 4.0</br>_original_yhat_: 0.3079200979422798</br>"
          ],
          [
           "</br>id: observation</br>prediction: 0.308</br>children: 1.2000000000000002</br></br>lead_time: 203.0</br>arrival_date_year: 2016.0</br>adults: 2.0</br>babies: 0.0</br>booking_changes: 4.0</br>_original_yhat_: 0.3079200979422798</br>"
          ],
          [
           "</br>id: observation</br>prediction: 0.308</br>children: 1.3</br></br>lead_time: 203.0</br>arrival_date_year: 2016.0</br>adults: 2.0</br>babies: 0.0</br>booking_changes: 4.0</br>_original_yhat_: 0.3079200979422798</br>"
          ],
          [
           "</br>id: observation</br>prediction: 0.308</br>children: 1.4000000000000001</br></br>lead_time: 203.0</br>arrival_date_year: 2016.0</br>adults: 2.0</br>babies: 0.0</br>booking_changes: 4.0</br>_original_yhat_: 0.3079200979422798</br>"
          ],
          [
           "</br>id: observation</br>prediction: 0.308</br>children: 1.5</br></br>lead_time: 203.0</br>arrival_date_year: 2016.0</br>adults: 2.0</br>babies: 0.0</br>booking_changes: 4.0</br>_original_yhat_: 0.3079200979422798</br>"
          ],
          [
           "</br>id: observation</br>prediction: 0.313</br>children: 1.6</br></br>lead_time: 203.0</br>arrival_date_year: 2016.0</br>adults: 2.0</br>babies: 0.0</br>booking_changes: 4.0</br>_original_yhat_: 0.3079200979422798</br>"
          ],
          [
           "</br>id: observation</br>prediction: 0.313</br>children: 1.7000000000000002</br></br>lead_time: 203.0</br>arrival_date_year: 2016.0</br>adults: 2.0</br>babies: 0.0</br>booking_changes: 4.0</br>_original_yhat_: 0.3079200979422798</br>"
          ],
          [
           "</br>id: observation</br>prediction: 0.313</br>children: 1.8</br></br>lead_time: 203.0</br>arrival_date_year: 2016.0</br>adults: 2.0</br>babies: 0.0</br>booking_changes: 4.0</br>_original_yhat_: 0.3079200979422798</br>"
          ],
          [
           "</br>id: observation</br>prediction: 0.313</br>children: 1.9000000000000001</br></br>lead_time: 203.0</br>arrival_date_year: 2016.0</br>adults: 2.0</br>babies: 0.0</br>booking_changes: 4.0</br>_original_yhat_: 0.3079200979422798</br>"
          ],
          [
           "</br>id: observation</br>prediction: 0.313</br>children: 2.0</br></br>lead_time: 203.0</br>arrival_date_year: 2016.0</br>adults: 2.0</br>babies: 0.0</br>booking_changes: 4.0</br>_original_yhat_: 0.3079200979422798</br>"
          ],
          [
           "</br>id: observation</br>prediction: 0.313</br>children: 2.1</br></br>lead_time: 203.0</br>arrival_date_year: 2016.0</br>adults: 2.0</br>babies: 0.0</br>booking_changes: 4.0</br>_original_yhat_: 0.3079200979422798</br>"
          ],
          [
           "</br>id: observation</br>prediction: 0.313</br>children: 2.2</br></br>lead_time: 203.0</br>arrival_date_year: 2016.0</br>adults: 2.0</br>babies: 0.0</br>booking_changes: 4.0</br>_original_yhat_: 0.3079200979422798</br>"
          ],
          [
           "</br>id: observation</br>prediction: 0.313</br>children: 2.3000000000000003</br></br>lead_time: 203.0</br>arrival_date_year: 2016.0</br>adults: 2.0</br>babies: 0.0</br>booking_changes: 4.0</br>_original_yhat_: 0.3079200979422798</br>"
          ],
          [
           "</br>id: observation</br>prediction: 0.313</br>children: 2.4000000000000004</br></br>lead_time: 203.0</br>arrival_date_year: 2016.0</br>adults: 2.0</br>babies: 0.0</br>booking_changes: 4.0</br>_original_yhat_: 0.3079200979422798</br>"
          ],
          [
           "</br>id: observation</br>prediction: 0.313</br>children: 2.5</br></br>lead_time: 203.0</br>arrival_date_year: 2016.0</br>adults: 2.0</br>babies: 0.0</br>booking_changes: 4.0</br>_original_yhat_: 0.3079200979422798</br>"
          ],
          [
           "</br>id: observation</br>prediction: 0.313</br>children: 2.6</br></br>lead_time: 203.0</br>arrival_date_year: 2016.0</br>adults: 2.0</br>babies: 0.0</br>booking_changes: 4.0</br>_original_yhat_: 0.3079200979422798</br>"
          ],
          [
           "</br>id: observation</br>prediction: 0.313</br>children: 2.7</br></br>lead_time: 203.0</br>arrival_date_year: 2016.0</br>adults: 2.0</br>babies: 0.0</br>booking_changes: 4.0</br>_original_yhat_: 0.3079200979422798</br>"
          ],
          [
           "</br>id: observation</br>prediction: 0.313</br>children: 2.8000000000000003</br></br>lead_time: 203.0</br>arrival_date_year: 2016.0</br>adults: 2.0</br>babies: 0.0</br>booking_changes: 4.0</br>_original_yhat_: 0.3079200979422798</br>"
          ],
          [
           "</br>id: observation</br>prediction: 0.313</br>children: 2.9000000000000004</br></br>lead_time: 203.0</br>arrival_date_year: 2016.0</br>adults: 2.0</br>babies: 0.0</br>booking_changes: 4.0</br>_original_yhat_: 0.3079200979422798</br>"
          ],
          [
           "</br>id: observation</br>prediction: 0.313</br>children: 3.0</br></br>lead_time: 203.0</br>arrival_date_year: 2016.0</br>adults: 2.0</br>babies: 0.0</br>booking_changes: 4.0</br>_original_yhat_: 0.3079200979422798</br>"
          ],
          [
           "</br>id: observation</br>prediction: 0.313</br>children: 3.1</br></br>lead_time: 203.0</br>arrival_date_year: 2016.0</br>adults: 2.0</br>babies: 0.0</br>booking_changes: 4.0</br>_original_yhat_: 0.3079200979422798</br>"
          ],
          [
           "</br>id: observation</br>prediction: 0.313</br>children: 3.2</br></br>lead_time: 203.0</br>arrival_date_year: 2016.0</br>adults: 2.0</br>babies: 0.0</br>booking_changes: 4.0</br>_original_yhat_: 0.3079200979422798</br>"
          ],
          [
           "</br>id: observation</br>prediction: 0.313</br>children: 3.3000000000000003</br></br>lead_time: 203.0</br>arrival_date_year: 2016.0</br>adults: 2.0</br>babies: 0.0</br>booking_changes: 4.0</br>_original_yhat_: 0.3079200979422798</br>"
          ],
          [
           "</br>id: observation</br>prediction: 0.313</br>children: 3.4000000000000004</br></br>lead_time: 203.0</br>arrival_date_year: 2016.0</br>adults: 2.0</br>babies: 0.0</br>booking_changes: 4.0</br>_original_yhat_: 0.3079200979422798</br>"
          ],
          [
           "</br>id: observation</br>prediction: 0.313</br>children: 3.5</br></br>lead_time: 203.0</br>arrival_date_year: 2016.0</br>adults: 2.0</br>babies: 0.0</br>booking_changes: 4.0</br>_original_yhat_: 0.3079200979422798</br>"
          ],
          [
           "</br>id: observation</br>prediction: 0.313</br>children: 3.6</br></br>lead_time: 203.0</br>arrival_date_year: 2016.0</br>adults: 2.0</br>babies: 0.0</br>booking_changes: 4.0</br>_original_yhat_: 0.3079200979422798</br>"
          ],
          [
           "</br>id: observation</br>prediction: 0.313</br>children: 3.7</br></br>lead_time: 203.0</br>arrival_date_year: 2016.0</br>adults: 2.0</br>babies: 0.0</br>booking_changes: 4.0</br>_original_yhat_: 0.3079200979422798</br>"
          ],
          [
           "</br>id: observation</br>prediction: 0.313</br>children: 3.8000000000000003</br></br>lead_time: 203.0</br>arrival_date_year: 2016.0</br>adults: 2.0</br>babies: 0.0</br>booking_changes: 4.0</br>_original_yhat_: 0.3079200979422798</br>"
          ],
          [
           "</br>id: observation</br>prediction: 0.313</br>children: 3.9000000000000004</br></br>lead_time: 203.0</br>arrival_date_year: 2016.0</br>adults: 2.0</br>babies: 0.0</br>booking_changes: 4.0</br>_original_yhat_: 0.3079200979422798</br>"
          ],
          [
           "</br>id: observation</br>prediction: 0.313</br>children: 4.0</br></br>lead_time: 203.0</br>arrival_date_year: 2016.0</br>adults: 2.0</br>babies: 0.0</br>booking_changes: 4.0</br>_original_yhat_: 0.3079200979422798</br>"
          ],
          [
           "</br>id: observation</br>prediction: 0.313</br>children: 4.1000000000000005</br></br>lead_time: 203.0</br>arrival_date_year: 2016.0</br>adults: 2.0</br>babies: 0.0</br>booking_changes: 4.0</br>_original_yhat_: 0.3079200979422798</br>"
          ],
          [
           "</br>id: observation</br>prediction: 0.313</br>children: 4.2</br></br>lead_time: 203.0</br>arrival_date_year: 2016.0</br>adults: 2.0</br>babies: 0.0</br>booking_changes: 4.0</br>_original_yhat_: 0.3079200979422798</br>"
          ],
          [
           "</br>id: observation</br>prediction: 0.313</br>children: 4.3</br></br>lead_time: 203.0</br>arrival_date_year: 2016.0</br>adults: 2.0</br>babies: 0.0</br>booking_changes: 4.0</br>_original_yhat_: 0.3079200979422798</br>"
          ],
          [
           "</br>id: observation</br>prediction: 0.313</br>children: 4.4</br></br>lead_time: 203.0</br>arrival_date_year: 2016.0</br>adults: 2.0</br>babies: 0.0</br>booking_changes: 4.0</br>_original_yhat_: 0.3079200979422798</br>"
          ],
          [
           "</br>id: observation</br>prediction: 0.313</br>children: 4.5</br></br>lead_time: 203.0</br>arrival_date_year: 2016.0</br>adults: 2.0</br>babies: 0.0</br>booking_changes: 4.0</br>_original_yhat_: 0.3079200979422798</br>"
          ],
          [
           "</br>id: observation</br>prediction: 0.313</br>children: 4.6000000000000005</br></br>lead_time: 203.0</br>arrival_date_year: 2016.0</br>adults: 2.0</br>babies: 0.0</br>booking_changes: 4.0</br>_original_yhat_: 0.3079200979422798</br>"
          ],
          [
           "</br>id: observation</br>prediction: 0.313</br>children: 4.7</br></br>lead_time: 203.0</br>arrival_date_year: 2016.0</br>adults: 2.0</br>babies: 0.0</br>booking_changes: 4.0</br>_original_yhat_: 0.3079200979422798</br>"
          ],
          [
           "</br>id: observation</br>prediction: 0.313</br>children: 4.800000000000001</br></br>lead_time: 203.0</br>arrival_date_year: 2016.0</br>adults: 2.0</br>babies: 0.0</br>booking_changes: 4.0</br>_original_yhat_: 0.3079200979422798</br>"
          ],
          [
           "</br>id: observation</br>prediction: 0.313</br>children: 4.9</br></br>lead_time: 203.0</br>arrival_date_year: 2016.0</br>adults: 2.0</br>babies: 0.0</br>booking_changes: 4.0</br>_original_yhat_: 0.3079200979422798</br>"
          ],
          [
           "</br>id: observation</br>prediction: 0.313</br>children: 5.0</br></br>lead_time: 203.0</br>arrival_date_year: 2016.0</br>adults: 2.0</br>babies: 0.0</br>booking_changes: 4.0</br>_original_yhat_: 0.3079200979422798</br>"
          ],
          [
           "</br>id: observation</br>prediction: 0.313</br>children: 5.1000000000000005</br></br>lead_time: 203.0</br>arrival_date_year: 2016.0</br>adults: 2.0</br>babies: 0.0</br>booking_changes: 4.0</br>_original_yhat_: 0.3079200979422798</br>"
          ],
          [
           "</br>id: observation</br>prediction: 0.313</br>children: 5.2</br></br>lead_time: 203.0</br>arrival_date_year: 2016.0</br>adults: 2.0</br>babies: 0.0</br>booking_changes: 4.0</br>_original_yhat_: 0.3079200979422798</br>"
          ],
          [
           "</br>id: observation</br>prediction: 0.313</br>children: 5.300000000000001</br></br>lead_time: 203.0</br>arrival_date_year: 2016.0</br>adults: 2.0</br>babies: 0.0</br>booking_changes: 4.0</br>_original_yhat_: 0.3079200979422798</br>"
          ],
          [
           "</br>id: observation</br>prediction: 0.313</br>children: 5.4</br></br>lead_time: 203.0</br>arrival_date_year: 2016.0</br>adults: 2.0</br>babies: 0.0</br>booking_changes: 4.0</br>_original_yhat_: 0.3079200979422798</br>"
          ],
          [
           "</br>id: observation</br>prediction: 0.313</br>children: 5.5</br></br>lead_time: 203.0</br>arrival_date_year: 2016.0</br>adults: 2.0</br>babies: 0.0</br>booking_changes: 4.0</br>_original_yhat_: 0.3079200979422798</br>"
          ],
          [
           "</br>id: observation</br>prediction: 0.313</br>children: 5.6000000000000005</br></br>lead_time: 203.0</br>arrival_date_year: 2016.0</br>adults: 2.0</br>babies: 0.0</br>booking_changes: 4.0</br>_original_yhat_: 0.3079200979422798</br>"
          ],
          [
           "</br>id: observation</br>prediction: 0.313</br>children: 5.7</br></br>lead_time: 203.0</br>arrival_date_year: 2016.0</br>adults: 2.0</br>babies: 0.0</br>booking_changes: 4.0</br>_original_yhat_: 0.3079200979422798</br>"
          ],
          [
           "</br>id: observation</br>prediction: 0.313</br>children: 5.800000000000001</br></br>lead_time: 203.0</br>arrival_date_year: 2016.0</br>adults: 2.0</br>babies: 0.0</br>booking_changes: 4.0</br>_original_yhat_: 0.3079200979422798</br>"
          ],
          [
           "</br>id: observation</br>prediction: 0.313</br>children: 5.9</br></br>lead_time: 203.0</br>arrival_date_year: 2016.0</br>adults: 2.0</br>babies: 0.0</br>booking_changes: 4.0</br>_original_yhat_: 0.3079200979422798</br>"
          ],
          [
           "</br>id: observation</br>prediction: 0.313</br>children: 6.0</br></br>lead_time: 203.0</br>arrival_date_year: 2016.0</br>adults: 2.0</br>babies: 0.0</br>booking_changes: 4.0</br>_original_yhat_: 0.3079200979422798</br>"
          ],
          [
           "</br>id: observation</br>prediction: 0.313</br>children: 6.1000000000000005</br></br>lead_time: 203.0</br>arrival_date_year: 2016.0</br>adults: 2.0</br>babies: 0.0</br>booking_changes: 4.0</br>_original_yhat_: 0.3079200979422798</br>"
          ],
          [
           "</br>id: observation</br>prediction: 0.313</br>children: 6.2</br></br>lead_time: 203.0</br>arrival_date_year: 2016.0</br>adults: 2.0</br>babies: 0.0</br>booking_changes: 4.0</br>_original_yhat_: 0.3079200979422798</br>"
          ],
          [
           "</br>id: observation</br>prediction: 0.313</br>children: 6.300000000000001</br></br>lead_time: 203.0</br>arrival_date_year: 2016.0</br>adults: 2.0</br>babies: 0.0</br>booking_changes: 4.0</br>_original_yhat_: 0.3079200979422798</br>"
          ],
          [
           "</br>id: observation</br>prediction: 0.313</br>children: 6.4</br></br>lead_time: 203.0</br>arrival_date_year: 2016.0</br>adults: 2.0</br>babies: 0.0</br>booking_changes: 4.0</br>_original_yhat_: 0.3079200979422798</br>"
          ],
          [
           "</br>id: observation</br>prediction: 0.313</br>children: 6.5</br></br>lead_time: 203.0</br>arrival_date_year: 2016.0</br>adults: 2.0</br>babies: 0.0</br>booking_changes: 4.0</br>_original_yhat_: 0.3079200979422798</br>"
          ],
          [
           "</br>id: observation</br>prediction: 0.313</br>children: 6.6000000000000005</br></br>lead_time: 203.0</br>arrival_date_year: 2016.0</br>adults: 2.0</br>babies: 0.0</br>booking_changes: 4.0</br>_original_yhat_: 0.3079200979422798</br>"
          ],
          [
           "</br>id: observation</br>prediction: 0.313</br>children: 6.7</br></br>lead_time: 203.0</br>arrival_date_year: 2016.0</br>adults: 2.0</br>babies: 0.0</br>booking_changes: 4.0</br>_original_yhat_: 0.3079200979422798</br>"
          ],
          [
           "</br>id: observation</br>prediction: 0.313</br>children: 6.800000000000001</br></br>lead_time: 203.0</br>arrival_date_year: 2016.0</br>adults: 2.0</br>babies: 0.0</br>booking_changes: 4.0</br>_original_yhat_: 0.3079200979422798</br>"
          ],
          [
           "</br>id: observation</br>prediction: 0.313</br>children: 6.9</br></br>lead_time: 203.0</br>arrival_date_year: 2016.0</br>adults: 2.0</br>babies: 0.0</br>booking_changes: 4.0</br>_original_yhat_: 0.3079200979422798</br>"
          ],
          [
           "</br>id: observation</br>prediction: 0.313</br>children: 7.0</br></br>lead_time: 203.0</br>arrival_date_year: 2016.0</br>adults: 2.0</br>babies: 0.0</br>booking_changes: 4.0</br>_original_yhat_: 0.3079200979422798</br>"
          ],
          [
           "</br>id: observation</br>prediction: 0.313</br>children: 7.1000000000000005</br></br>lead_time: 203.0</br>arrival_date_year: 2016.0</br>adults: 2.0</br>babies: 0.0</br>booking_changes: 4.0</br>_original_yhat_: 0.3079200979422798</br>"
          ],
          [
           "</br>id: observation</br>prediction: 0.313</br>children: 7.2</br></br>lead_time: 203.0</br>arrival_date_year: 2016.0</br>adults: 2.0</br>babies: 0.0</br>booking_changes: 4.0</br>_original_yhat_: 0.3079200979422798</br>"
          ],
          [
           "</br>id: observation</br>prediction: 0.313</br>children: 7.300000000000001</br></br>lead_time: 203.0</br>arrival_date_year: 2016.0</br>adults: 2.0</br>babies: 0.0</br>booking_changes: 4.0</br>_original_yhat_: 0.3079200979422798</br>"
          ],
          [
           "</br>id: observation</br>prediction: 0.313</br>children: 7.4</br></br>lead_time: 203.0</br>arrival_date_year: 2016.0</br>adults: 2.0</br>babies: 0.0</br>booking_changes: 4.0</br>_original_yhat_: 0.3079200979422798</br>"
          ],
          [
           "</br>id: observation</br>prediction: 0.313</br>children: 7.5</br></br>lead_time: 203.0</br>arrival_date_year: 2016.0</br>adults: 2.0</br>babies: 0.0</br>booking_changes: 4.0</br>_original_yhat_: 0.3079200979422798</br>"
          ],
          [
           "</br>id: observation</br>prediction: 0.313</br>children: 7.6000000000000005</br></br>lead_time: 203.0</br>arrival_date_year: 2016.0</br>adults: 2.0</br>babies: 0.0</br>booking_changes: 4.0</br>_original_yhat_: 0.3079200979422798</br>"
          ],
          [
           "</br>id: observation</br>prediction: 0.313</br>children: 7.7</br></br>lead_time: 203.0</br>arrival_date_year: 2016.0</br>adults: 2.0</br>babies: 0.0</br>booking_changes: 4.0</br>_original_yhat_: 0.3079200979422798</br>"
          ],
          [
           "</br>id: observation</br>prediction: 0.313</br>children: 7.800000000000001</br></br>lead_time: 203.0</br>arrival_date_year: 2016.0</br>adults: 2.0</br>babies: 0.0</br>booking_changes: 4.0</br>_original_yhat_: 0.3079200979422798</br>"
          ],
          [
           "</br>id: observation</br>prediction: 0.313</br>children: 7.9</br></br>lead_time: 203.0</br>arrival_date_year: 2016.0</br>adults: 2.0</br>babies: 0.0</br>booking_changes: 4.0</br>_original_yhat_: 0.3079200979422798</br>"
          ],
          [
           "</br>id: observation</br>prediction: 0.313</br>children: 8.0</br></br>lead_time: 203.0</br>arrival_date_year: 2016.0</br>adults: 2.0</br>babies: 0.0</br>booking_changes: 4.0</br>_original_yhat_: 0.3079200979422798</br>"
          ],
          [
           "</br>id: observation</br>prediction: 0.313</br>children: 8.1</br></br>lead_time: 203.0</br>arrival_date_year: 2016.0</br>adults: 2.0</br>babies: 0.0</br>booking_changes: 4.0</br>_original_yhat_: 0.3079200979422798</br>"
          ],
          [
           "</br>id: observation</br>prediction: 0.313</br>children: 8.200000000000001</br></br>lead_time: 203.0</br>arrival_date_year: 2016.0</br>adults: 2.0</br>babies: 0.0</br>booking_changes: 4.0</br>_original_yhat_: 0.3079200979422798</br>"
          ],
          [
           "</br>id: observation</br>prediction: 0.313</br>children: 8.3</br></br>lead_time: 203.0</br>arrival_date_year: 2016.0</br>adults: 2.0</br>babies: 0.0</br>booking_changes: 4.0</br>_original_yhat_: 0.3079200979422798</br>"
          ],
          [
           "</br>id: observation</br>prediction: 0.313</br>children: 8.4</br></br>lead_time: 203.0</br>arrival_date_year: 2016.0</br>adults: 2.0</br>babies: 0.0</br>booking_changes: 4.0</br>_original_yhat_: 0.3079200979422798</br>"
          ],
          [
           "</br>id: observation</br>prediction: 0.313</br>children: 8.5</br></br>lead_time: 203.0</br>arrival_date_year: 2016.0</br>adults: 2.0</br>babies: 0.0</br>booking_changes: 4.0</br>_original_yhat_: 0.3079200979422798</br>"
          ],
          [
           "</br>id: observation</br>prediction: 0.313</br>children: 8.6</br></br>lead_time: 203.0</br>arrival_date_year: 2016.0</br>adults: 2.0</br>babies: 0.0</br>booking_changes: 4.0</br>_original_yhat_: 0.3079200979422798</br>"
          ],
          [
           "</br>id: observation</br>prediction: 0.313</br>children: 8.700000000000001</br></br>lead_time: 203.0</br>arrival_date_year: 2016.0</br>adults: 2.0</br>babies: 0.0</br>booking_changes: 4.0</br>_original_yhat_: 0.3079200979422798</br>"
          ],
          [
           "</br>id: observation</br>prediction: 0.313</br>children: 8.8</br></br>lead_time: 203.0</br>arrival_date_year: 2016.0</br>adults: 2.0</br>babies: 0.0</br>booking_changes: 4.0</br>_original_yhat_: 0.3079200979422798</br>"
          ],
          [
           "</br>id: observation</br>prediction: 0.313</br>children: 8.9</br></br>lead_time: 203.0</br>arrival_date_year: 2016.0</br>adults: 2.0</br>babies: 0.0</br>booking_changes: 4.0</br>_original_yhat_: 0.3079200979422798</br>"
          ],
          [
           "</br>id: observation</br>prediction: 0.313</br>children: 9.0</br></br>lead_time: 203.0</br>arrival_date_year: 2016.0</br>adults: 2.0</br>babies: 0.0</br>booking_changes: 4.0</br>_original_yhat_: 0.3079200979422798</br>"
          ],
          [
           "</br>id: observation</br>prediction: 0.313</br>children: 9.1</br></br>lead_time: 203.0</br>arrival_date_year: 2016.0</br>adults: 2.0</br>babies: 0.0</br>booking_changes: 4.0</br>_original_yhat_: 0.3079200979422798</br>"
          ],
          [
           "</br>id: observation</br>prediction: 0.313</br>children: 9.200000000000001</br></br>lead_time: 203.0</br>arrival_date_year: 2016.0</br>adults: 2.0</br>babies: 0.0</br>booking_changes: 4.0</br>_original_yhat_: 0.3079200979422798</br>"
          ],
          [
           "</br>id: observation</br>prediction: 0.313</br>children: 9.3</br></br>lead_time: 203.0</br>arrival_date_year: 2016.0</br>adults: 2.0</br>babies: 0.0</br>booking_changes: 4.0</br>_original_yhat_: 0.3079200979422798</br>"
          ],
          [
           "</br>id: observation</br>prediction: 0.313</br>children: 9.4</br></br>lead_time: 203.0</br>arrival_date_year: 2016.0</br>adults: 2.0</br>babies: 0.0</br>booking_changes: 4.0</br>_original_yhat_: 0.3079200979422798</br>"
          ],
          [
           "</br>id: observation</br>prediction: 0.313</br>children: 9.5</br></br>lead_time: 203.0</br>arrival_date_year: 2016.0</br>adults: 2.0</br>babies: 0.0</br>booking_changes: 4.0</br>_original_yhat_: 0.3079200979422798</br>"
          ],
          [
           "</br>id: observation</br>prediction: 0.313</br>children: 9.600000000000001</br></br>lead_time: 203.0</br>arrival_date_year: 2016.0</br>adults: 2.0</br>babies: 0.0</br>booking_changes: 4.0</br>_original_yhat_: 0.3079200979422798</br>"
          ],
          [
           "</br>id: observation</br>prediction: 0.313</br>children: 9.700000000000001</br></br>lead_time: 203.0</br>arrival_date_year: 2016.0</br>adults: 2.0</br>babies: 0.0</br>booking_changes: 4.0</br>_original_yhat_: 0.3079200979422798</br>"
          ],
          [
           "</br>id: observation</br>prediction: 0.313</br>children: 9.8</br></br>lead_time: 203.0</br>arrival_date_year: 2016.0</br>adults: 2.0</br>babies: 0.0</br>booking_changes: 4.0</br>_original_yhat_: 0.3079200979422798</br>"
          ],
          [
           "</br>id: observation</br>prediction: 0.313</br>children: 9.9</br></br>lead_time: 203.0</br>arrival_date_year: 2016.0</br>adults: 2.0</br>babies: 0.0</br>booking_changes: 4.0</br>_original_yhat_: 0.3079200979422798</br>"
          ],
          [
           "</br>id: observation</br>prediction: 0.313</br>children: 10.0</br></br>lead_time: 203.0</br>arrival_date_year: 2016.0</br>adults: 2.0</br>babies: 0.0</br>booking_changes: 4.0</br>_original_yhat_: 0.3079200979422798</br>"
          ]
         ],
         "hovertemplate": "%{customdata[0]}<extra></extra>",
         "legendgroup": "random_forest",
         "line": {
          "color": "#46bac2",
          "dash": "solid",
          "width": 2
         },
         "marker": {
          "symbol": "circle"
         },
         "mode": "lines",
         "name": "random_forest",
         "opacity": 1,
         "orientation": "v",
         "showlegend": false,
         "type": "scatter",
         "x": [
          0,
          0.1,
          0.2,
          0.30000000000000004,
          0.4,
          0.5,
          0.6000000000000001,
          0.7000000000000001,
          0.8,
          0.9,
          1,
          1.1,
          1.2000000000000002,
          1.3,
          1.4000000000000001,
          1.5,
          1.6,
          1.7000000000000002,
          1.8,
          1.9000000000000001,
          2,
          2.1,
          2.2,
          2.3000000000000003,
          2.4000000000000004,
          2.5,
          2.6,
          2.7,
          2.8000000000000003,
          2.9000000000000004,
          3,
          3.1,
          3.2,
          3.3000000000000003,
          3.4000000000000004,
          3.5,
          3.6,
          3.7,
          3.8000000000000003,
          3.9000000000000004,
          4,
          4.1000000000000005,
          4.2,
          4.3,
          4.4,
          4.5,
          4.6000000000000005,
          4.7,
          4.800000000000001,
          4.9,
          5,
          5.1000000000000005,
          5.2,
          5.300000000000001,
          5.4,
          5.5,
          5.6000000000000005,
          5.7,
          5.800000000000001,
          5.9,
          6,
          6.1000000000000005,
          6.2,
          6.300000000000001,
          6.4,
          6.5,
          6.6000000000000005,
          6.7,
          6.800000000000001,
          6.9,
          7,
          7.1000000000000005,
          7.2,
          7.300000000000001,
          7.4,
          7.5,
          7.6000000000000005,
          7.7,
          7.800000000000001,
          7.9,
          8,
          8.1,
          8.200000000000001,
          8.3,
          8.4,
          8.5,
          8.6,
          8.700000000000001,
          8.8,
          8.9,
          9,
          9.1,
          9.200000000000001,
          9.3,
          9.4,
          9.5,
          9.600000000000001,
          9.700000000000001,
          9.8,
          9.9,
          10
         ],
         "xaxis": "x4",
         "y": [
          0.3079200979422798,
          0.3079200979422798,
          0.3079200979422798,
          0.3079200979422798,
          0.3079200979422798,
          0.3079200979422798,
          0.3075058550190946,
          0.3075058550190946,
          0.3075058550190946,
          0.3075058550190946,
          0.3075058550190946,
          0.3075058550190946,
          0.3075058550190946,
          0.3075058550190946,
          0.3075058550190946,
          0.3075058550190946,
          0.31314267897598774,
          0.31314267897598774,
          0.31314267897598774,
          0.31314267897598774,
          0.31314267897598774,
          0.31314267897598774,
          0.31314267897598774,
          0.31314267897598774,
          0.31314267897598774,
          0.31314267897598774,
          0.31314267897598774,
          0.31314267897598774,
          0.31314267897598774,
          0.31314267897598774,
          0.31314267897598774,
          0.31314267897598774,
          0.31314267897598774,
          0.31314267897598774,
          0.31314267897598774,
          0.31314267897598774,
          0.31314267897598774,
          0.31314267897598774,
          0.31314267897598774,
          0.31314267897598774,
          0.31314267897598774,
          0.31314267897598774,
          0.31314267897598774,
          0.31314267897598774,
          0.31314267897598774,
          0.31314267897598774,
          0.31314267897598774,
          0.31314267897598774,
          0.31314267897598774,
          0.31314267897598774,
          0.31314267897598774,
          0.31314267897598774,
          0.31314267897598774,
          0.31314267897598774,
          0.31314267897598774,
          0.31314267897598774,
          0.31314267897598774,
          0.31314267897598774,
          0.31314267897598774,
          0.31314267897598774,
          0.31314267897598774,
          0.31314267897598774,
          0.31314267897598774,
          0.31314267897598774,
          0.31314267897598774,
          0.31314267897598774,
          0.31314267897598774,
          0.31314267897598774,
          0.31314267897598774,
          0.31314267897598774,
          0.31314267897598774,
          0.31314267897598774,
          0.31314267897598774,
          0.31314267897598774,
          0.31314267897598774,
          0.31314267897598774,
          0.31314267897598774,
          0.31314267897598774,
          0.31314267897598774,
          0.31314267897598774,
          0.31314267897598774,
          0.31314267897598774,
          0.31314267897598774,
          0.31314267897598774,
          0.31314267897598774,
          0.31314267897598774,
          0.31314267897598774,
          0.31314267897598774,
          0.31314267897598774,
          0.31314267897598774,
          0.31314267897598774,
          0.31314267897598774,
          0.31314267897598774,
          0.31314267897598774,
          0.31314267897598774,
          0.31314267897598774,
          0.31314267897598774,
          0.31314267897598774,
          0.31314267897598774,
          0.31314267897598774,
          0.31314267897598774
         ],
         "yaxis": "y4"
        },
        {
         "customdata": [
          [
           "</br>id: observation</br>prediction: 0.308</br>babies: 0.0</br></br>lead_time: 203.0</br>arrival_date_year: 2016.0</br>adults: 2.0</br>children: 0.0</br>booking_changes: 4.0</br>_original_yhat_: 0.3079200979422798</br>"
          ],
          [
           "</br>id: observation</br>prediction: 0.308</br>babies: 0.1</br></br>lead_time: 203.0</br>arrival_date_year: 2016.0</br>adults: 2.0</br>children: 0.0</br>booking_changes: 4.0</br>_original_yhat_: 0.3079200979422798</br>"
          ],
          [
           "</br>id: observation</br>prediction: 0.308</br>babies: 0.2</br></br>lead_time: 203.0</br>arrival_date_year: 2016.0</br>adults: 2.0</br>children: 0.0</br>booking_changes: 4.0</br>_original_yhat_: 0.3079200979422798</br>"
          ],
          [
           "</br>id: observation</br>prediction: 0.308</br>babies: 0.30000000000000004</br></br>lead_time: 203.0</br>arrival_date_year: 2016.0</br>adults: 2.0</br>children: 0.0</br>booking_changes: 4.0</br>_original_yhat_: 0.3079200979422798</br>"
          ],
          [
           "</br>id: observation</br>prediction: 0.308</br>babies: 0.4</br></br>lead_time: 203.0</br>arrival_date_year: 2016.0</br>adults: 2.0</br>children: 0.0</br>booking_changes: 4.0</br>_original_yhat_: 0.3079200979422798</br>"
          ],
          [
           "</br>id: observation</br>prediction: 0.308</br>babies: 0.5</br></br>lead_time: 203.0</br>arrival_date_year: 2016.0</br>adults: 2.0</br>children: 0.0</br>booking_changes: 4.0</br>_original_yhat_: 0.3079200979422798</br>"
          ],
          [
           "</br>id: observation</br>prediction: 0.262</br>babies: 0.6000000000000001</br></br>lead_time: 203.0</br>arrival_date_year: 2016.0</br>adults: 2.0</br>children: 0.0</br>booking_changes: 4.0</br>_original_yhat_: 0.3079200979422798</br>"
          ],
          [
           "</br>id: observation</br>prediction: 0.262</br>babies: 0.7000000000000001</br></br>lead_time: 203.0</br>arrival_date_year: 2016.0</br>adults: 2.0</br>children: 0.0</br>booking_changes: 4.0</br>_original_yhat_: 0.3079200979422798</br>"
          ],
          [
           "</br>id: observation</br>prediction: 0.262</br>babies: 0.8</br></br>lead_time: 203.0</br>arrival_date_year: 2016.0</br>adults: 2.0</br>children: 0.0</br>booking_changes: 4.0</br>_original_yhat_: 0.3079200979422798</br>"
          ],
          [
           "</br>id: observation</br>prediction: 0.262</br>babies: 0.9</br></br>lead_time: 203.0</br>arrival_date_year: 2016.0</br>adults: 2.0</br>children: 0.0</br>booking_changes: 4.0</br>_original_yhat_: 0.3079200979422798</br>"
          ],
          [
           "</br>id: observation</br>prediction: 0.262</br>babies: 1.0</br></br>lead_time: 203.0</br>arrival_date_year: 2016.0</br>adults: 2.0</br>children: 0.0</br>booking_changes: 4.0</br>_original_yhat_: 0.3079200979422798</br>"
          ],
          [
           "</br>id: observation</br>prediction: 0.262</br>babies: 1.1</br></br>lead_time: 203.0</br>arrival_date_year: 2016.0</br>adults: 2.0</br>children: 0.0</br>booking_changes: 4.0</br>_original_yhat_: 0.3079200979422798</br>"
          ],
          [
           "</br>id: observation</br>prediction: 0.262</br>babies: 1.2000000000000002</br></br>lead_time: 203.0</br>arrival_date_year: 2016.0</br>adults: 2.0</br>children: 0.0</br>booking_changes: 4.0</br>_original_yhat_: 0.3079200979422798</br>"
          ],
          [
           "</br>id: observation</br>prediction: 0.262</br>babies: 1.3</br></br>lead_time: 203.0</br>arrival_date_year: 2016.0</br>adults: 2.0</br>children: 0.0</br>booking_changes: 4.0</br>_original_yhat_: 0.3079200979422798</br>"
          ],
          [
           "</br>id: observation</br>prediction: 0.262</br>babies: 1.4000000000000001</br></br>lead_time: 203.0</br>arrival_date_year: 2016.0</br>adults: 2.0</br>children: 0.0</br>booking_changes: 4.0</br>_original_yhat_: 0.3079200979422798</br>"
          ],
          [
           "</br>id: observation</br>prediction: 0.262</br>babies: 1.5</br></br>lead_time: 203.0</br>arrival_date_year: 2016.0</br>adults: 2.0</br>children: 0.0</br>booking_changes: 4.0</br>_original_yhat_: 0.3079200979422798</br>"
          ],
          [
           "</br>id: observation</br>prediction: 0.262</br>babies: 1.6</br></br>lead_time: 203.0</br>arrival_date_year: 2016.0</br>adults: 2.0</br>children: 0.0</br>booking_changes: 4.0</br>_original_yhat_: 0.3079200979422798</br>"
          ],
          [
           "</br>id: observation</br>prediction: 0.262</br>babies: 1.7000000000000002</br></br>lead_time: 203.0</br>arrival_date_year: 2016.0</br>adults: 2.0</br>children: 0.0</br>booking_changes: 4.0</br>_original_yhat_: 0.3079200979422798</br>"
          ],
          [
           "</br>id: observation</br>prediction: 0.262</br>babies: 1.8</br></br>lead_time: 203.0</br>arrival_date_year: 2016.0</br>adults: 2.0</br>children: 0.0</br>booking_changes: 4.0</br>_original_yhat_: 0.3079200979422798</br>"
          ],
          [
           "</br>id: observation</br>prediction: 0.262</br>babies: 1.9000000000000001</br></br>lead_time: 203.0</br>arrival_date_year: 2016.0</br>adults: 2.0</br>children: 0.0</br>booking_changes: 4.0</br>_original_yhat_: 0.3079200979422798</br>"
          ],
          [
           "</br>id: observation</br>prediction: 0.262</br>babies: 2.0</br></br>lead_time: 203.0</br>arrival_date_year: 2016.0</br>adults: 2.0</br>children: 0.0</br>booking_changes: 4.0</br>_original_yhat_: 0.3079200979422798</br>"
          ],
          [
           "</br>id: observation</br>prediction: 0.262</br>babies: 2.1</br></br>lead_time: 203.0</br>arrival_date_year: 2016.0</br>adults: 2.0</br>children: 0.0</br>booking_changes: 4.0</br>_original_yhat_: 0.3079200979422798</br>"
          ],
          [
           "</br>id: observation</br>prediction: 0.262</br>babies: 2.2</br></br>lead_time: 203.0</br>arrival_date_year: 2016.0</br>adults: 2.0</br>children: 0.0</br>booking_changes: 4.0</br>_original_yhat_: 0.3079200979422798</br>"
          ],
          [
           "</br>id: observation</br>prediction: 0.262</br>babies: 2.3000000000000003</br></br>lead_time: 203.0</br>arrival_date_year: 2016.0</br>adults: 2.0</br>children: 0.0</br>booking_changes: 4.0</br>_original_yhat_: 0.3079200979422798</br>"
          ],
          [
           "</br>id: observation</br>prediction: 0.262</br>babies: 2.4000000000000004</br></br>lead_time: 203.0</br>arrival_date_year: 2016.0</br>adults: 2.0</br>children: 0.0</br>booking_changes: 4.0</br>_original_yhat_: 0.3079200979422798</br>"
          ],
          [
           "</br>id: observation</br>prediction: 0.262</br>babies: 2.5</br></br>lead_time: 203.0</br>arrival_date_year: 2016.0</br>adults: 2.0</br>children: 0.0</br>booking_changes: 4.0</br>_original_yhat_: 0.3079200979422798</br>"
          ],
          [
           "</br>id: observation</br>prediction: 0.262</br>babies: 2.6</br></br>lead_time: 203.0</br>arrival_date_year: 2016.0</br>adults: 2.0</br>children: 0.0</br>booking_changes: 4.0</br>_original_yhat_: 0.3079200979422798</br>"
          ],
          [
           "</br>id: observation</br>prediction: 0.262</br>babies: 2.7</br></br>lead_time: 203.0</br>arrival_date_year: 2016.0</br>adults: 2.0</br>children: 0.0</br>booking_changes: 4.0</br>_original_yhat_: 0.3079200979422798</br>"
          ],
          [
           "</br>id: observation</br>prediction: 0.262</br>babies: 2.8000000000000003</br></br>lead_time: 203.0</br>arrival_date_year: 2016.0</br>adults: 2.0</br>children: 0.0</br>booking_changes: 4.0</br>_original_yhat_: 0.3079200979422798</br>"
          ],
          [
           "</br>id: observation</br>prediction: 0.262</br>babies: 2.9000000000000004</br></br>lead_time: 203.0</br>arrival_date_year: 2016.0</br>adults: 2.0</br>children: 0.0</br>booking_changes: 4.0</br>_original_yhat_: 0.3079200979422798</br>"
          ],
          [
           "</br>id: observation</br>prediction: 0.262</br>babies: 3.0</br></br>lead_time: 203.0</br>arrival_date_year: 2016.0</br>adults: 2.0</br>children: 0.0</br>booking_changes: 4.0</br>_original_yhat_: 0.3079200979422798</br>"
          ],
          [
           "</br>id: observation</br>prediction: 0.262</br>babies: 3.1</br></br>lead_time: 203.0</br>arrival_date_year: 2016.0</br>adults: 2.0</br>children: 0.0</br>booking_changes: 4.0</br>_original_yhat_: 0.3079200979422798</br>"
          ],
          [
           "</br>id: observation</br>prediction: 0.262</br>babies: 3.2</br></br>lead_time: 203.0</br>arrival_date_year: 2016.0</br>adults: 2.0</br>children: 0.0</br>booking_changes: 4.0</br>_original_yhat_: 0.3079200979422798</br>"
          ],
          [
           "</br>id: observation</br>prediction: 0.262</br>babies: 3.3000000000000003</br></br>lead_time: 203.0</br>arrival_date_year: 2016.0</br>adults: 2.0</br>children: 0.0</br>booking_changes: 4.0</br>_original_yhat_: 0.3079200979422798</br>"
          ],
          [
           "</br>id: observation</br>prediction: 0.262</br>babies: 3.4000000000000004</br></br>lead_time: 203.0</br>arrival_date_year: 2016.0</br>adults: 2.0</br>children: 0.0</br>booking_changes: 4.0</br>_original_yhat_: 0.3079200979422798</br>"
          ],
          [
           "</br>id: observation</br>prediction: 0.262</br>babies: 3.5</br></br>lead_time: 203.0</br>arrival_date_year: 2016.0</br>adults: 2.0</br>children: 0.0</br>booking_changes: 4.0</br>_original_yhat_: 0.3079200979422798</br>"
          ],
          [
           "</br>id: observation</br>prediction: 0.262</br>babies: 3.6</br></br>lead_time: 203.0</br>arrival_date_year: 2016.0</br>adults: 2.0</br>children: 0.0</br>booking_changes: 4.0</br>_original_yhat_: 0.3079200979422798</br>"
          ],
          [
           "</br>id: observation</br>prediction: 0.262</br>babies: 3.7</br></br>lead_time: 203.0</br>arrival_date_year: 2016.0</br>adults: 2.0</br>children: 0.0</br>booking_changes: 4.0</br>_original_yhat_: 0.3079200979422798</br>"
          ],
          [
           "</br>id: observation</br>prediction: 0.262</br>babies: 3.8000000000000003</br></br>lead_time: 203.0</br>arrival_date_year: 2016.0</br>adults: 2.0</br>children: 0.0</br>booking_changes: 4.0</br>_original_yhat_: 0.3079200979422798</br>"
          ],
          [
           "</br>id: observation</br>prediction: 0.262</br>babies: 3.9000000000000004</br></br>lead_time: 203.0</br>arrival_date_year: 2016.0</br>adults: 2.0</br>children: 0.0</br>booking_changes: 4.0</br>_original_yhat_: 0.3079200979422798</br>"
          ],
          [
           "</br>id: observation</br>prediction: 0.262</br>babies: 4.0</br></br>lead_time: 203.0</br>arrival_date_year: 2016.0</br>adults: 2.0</br>children: 0.0</br>booking_changes: 4.0</br>_original_yhat_: 0.3079200979422798</br>"
          ],
          [
           "</br>id: observation</br>prediction: 0.262</br>babies: 4.1000000000000005</br></br>lead_time: 203.0</br>arrival_date_year: 2016.0</br>adults: 2.0</br>children: 0.0</br>booking_changes: 4.0</br>_original_yhat_: 0.3079200979422798</br>"
          ],
          [
           "</br>id: observation</br>prediction: 0.262</br>babies: 4.2</br></br>lead_time: 203.0</br>arrival_date_year: 2016.0</br>adults: 2.0</br>children: 0.0</br>booking_changes: 4.0</br>_original_yhat_: 0.3079200979422798</br>"
          ],
          [
           "</br>id: observation</br>prediction: 0.262</br>babies: 4.3</br></br>lead_time: 203.0</br>arrival_date_year: 2016.0</br>adults: 2.0</br>children: 0.0</br>booking_changes: 4.0</br>_original_yhat_: 0.3079200979422798</br>"
          ],
          [
           "</br>id: observation</br>prediction: 0.262</br>babies: 4.4</br></br>lead_time: 203.0</br>arrival_date_year: 2016.0</br>adults: 2.0</br>children: 0.0</br>booking_changes: 4.0</br>_original_yhat_: 0.3079200979422798</br>"
          ],
          [
           "</br>id: observation</br>prediction: 0.262</br>babies: 4.5</br></br>lead_time: 203.0</br>arrival_date_year: 2016.0</br>adults: 2.0</br>children: 0.0</br>booking_changes: 4.0</br>_original_yhat_: 0.3079200979422798</br>"
          ],
          [
           "</br>id: observation</br>prediction: 0.262</br>babies: 4.6000000000000005</br></br>lead_time: 203.0</br>arrival_date_year: 2016.0</br>adults: 2.0</br>children: 0.0</br>booking_changes: 4.0</br>_original_yhat_: 0.3079200979422798</br>"
          ],
          [
           "</br>id: observation</br>prediction: 0.262</br>babies: 4.7</br></br>lead_time: 203.0</br>arrival_date_year: 2016.0</br>adults: 2.0</br>children: 0.0</br>booking_changes: 4.0</br>_original_yhat_: 0.3079200979422798</br>"
          ],
          [
           "</br>id: observation</br>prediction: 0.262</br>babies: 4.800000000000001</br></br>lead_time: 203.0</br>arrival_date_year: 2016.0</br>adults: 2.0</br>children: 0.0</br>booking_changes: 4.0</br>_original_yhat_: 0.3079200979422798</br>"
          ],
          [
           "</br>id: observation</br>prediction: 0.262</br>babies: 4.9</br></br>lead_time: 203.0</br>arrival_date_year: 2016.0</br>adults: 2.0</br>children: 0.0</br>booking_changes: 4.0</br>_original_yhat_: 0.3079200979422798</br>"
          ],
          [
           "</br>id: observation</br>prediction: 0.262</br>babies: 5.0</br></br>lead_time: 203.0</br>arrival_date_year: 2016.0</br>adults: 2.0</br>children: 0.0</br>booking_changes: 4.0</br>_original_yhat_: 0.3079200979422798</br>"
          ],
          [
           "</br>id: observation</br>prediction: 0.262</br>babies: 5.1000000000000005</br></br>lead_time: 203.0</br>arrival_date_year: 2016.0</br>adults: 2.0</br>children: 0.0</br>booking_changes: 4.0</br>_original_yhat_: 0.3079200979422798</br>"
          ],
          [
           "</br>id: observation</br>prediction: 0.262</br>babies: 5.2</br></br>lead_time: 203.0</br>arrival_date_year: 2016.0</br>adults: 2.0</br>children: 0.0</br>booking_changes: 4.0</br>_original_yhat_: 0.3079200979422798</br>"
          ],
          [
           "</br>id: observation</br>prediction: 0.262</br>babies: 5.300000000000001</br></br>lead_time: 203.0</br>arrival_date_year: 2016.0</br>adults: 2.0</br>children: 0.0</br>booking_changes: 4.0</br>_original_yhat_: 0.3079200979422798</br>"
          ],
          [
           "</br>id: observation</br>prediction: 0.262</br>babies: 5.4</br></br>lead_time: 203.0</br>arrival_date_year: 2016.0</br>adults: 2.0</br>children: 0.0</br>booking_changes: 4.0</br>_original_yhat_: 0.3079200979422798</br>"
          ],
          [
           "</br>id: observation</br>prediction: 0.262</br>babies: 5.5</br></br>lead_time: 203.0</br>arrival_date_year: 2016.0</br>adults: 2.0</br>children: 0.0</br>booking_changes: 4.0</br>_original_yhat_: 0.3079200979422798</br>"
          ],
          [
           "</br>id: observation</br>prediction: 0.262</br>babies: 5.6000000000000005</br></br>lead_time: 203.0</br>arrival_date_year: 2016.0</br>adults: 2.0</br>children: 0.0</br>booking_changes: 4.0</br>_original_yhat_: 0.3079200979422798</br>"
          ],
          [
           "</br>id: observation</br>prediction: 0.262</br>babies: 5.7</br></br>lead_time: 203.0</br>arrival_date_year: 2016.0</br>adults: 2.0</br>children: 0.0</br>booking_changes: 4.0</br>_original_yhat_: 0.3079200979422798</br>"
          ],
          [
           "</br>id: observation</br>prediction: 0.262</br>babies: 5.800000000000001</br></br>lead_time: 203.0</br>arrival_date_year: 2016.0</br>adults: 2.0</br>children: 0.0</br>booking_changes: 4.0</br>_original_yhat_: 0.3079200979422798</br>"
          ],
          [
           "</br>id: observation</br>prediction: 0.262</br>babies: 5.9</br></br>lead_time: 203.0</br>arrival_date_year: 2016.0</br>adults: 2.0</br>children: 0.0</br>booking_changes: 4.0</br>_original_yhat_: 0.3079200979422798</br>"
          ],
          [
           "</br>id: observation</br>prediction: 0.262</br>babies: 6.0</br></br>lead_time: 203.0</br>arrival_date_year: 2016.0</br>adults: 2.0</br>children: 0.0</br>booking_changes: 4.0</br>_original_yhat_: 0.3079200979422798</br>"
          ],
          [
           "</br>id: observation</br>prediction: 0.262</br>babies: 6.1000000000000005</br></br>lead_time: 203.0</br>arrival_date_year: 2016.0</br>adults: 2.0</br>children: 0.0</br>booking_changes: 4.0</br>_original_yhat_: 0.3079200979422798</br>"
          ],
          [
           "</br>id: observation</br>prediction: 0.262</br>babies: 6.2</br></br>lead_time: 203.0</br>arrival_date_year: 2016.0</br>adults: 2.0</br>children: 0.0</br>booking_changes: 4.0</br>_original_yhat_: 0.3079200979422798</br>"
          ],
          [
           "</br>id: observation</br>prediction: 0.262</br>babies: 6.300000000000001</br></br>lead_time: 203.0</br>arrival_date_year: 2016.0</br>adults: 2.0</br>children: 0.0</br>booking_changes: 4.0</br>_original_yhat_: 0.3079200979422798</br>"
          ],
          [
           "</br>id: observation</br>prediction: 0.262</br>babies: 6.4</br></br>lead_time: 203.0</br>arrival_date_year: 2016.0</br>adults: 2.0</br>children: 0.0</br>booking_changes: 4.0</br>_original_yhat_: 0.3079200979422798</br>"
          ],
          [
           "</br>id: observation</br>prediction: 0.262</br>babies: 6.5</br></br>lead_time: 203.0</br>arrival_date_year: 2016.0</br>adults: 2.0</br>children: 0.0</br>booking_changes: 4.0</br>_original_yhat_: 0.3079200979422798</br>"
          ],
          [
           "</br>id: observation</br>prediction: 0.262</br>babies: 6.6000000000000005</br></br>lead_time: 203.0</br>arrival_date_year: 2016.0</br>adults: 2.0</br>children: 0.0</br>booking_changes: 4.0</br>_original_yhat_: 0.3079200979422798</br>"
          ],
          [
           "</br>id: observation</br>prediction: 0.262</br>babies: 6.7</br></br>lead_time: 203.0</br>arrival_date_year: 2016.0</br>adults: 2.0</br>children: 0.0</br>booking_changes: 4.0</br>_original_yhat_: 0.3079200979422798</br>"
          ],
          [
           "</br>id: observation</br>prediction: 0.262</br>babies: 6.800000000000001</br></br>lead_time: 203.0</br>arrival_date_year: 2016.0</br>adults: 2.0</br>children: 0.0</br>booking_changes: 4.0</br>_original_yhat_: 0.3079200979422798</br>"
          ],
          [
           "</br>id: observation</br>prediction: 0.262</br>babies: 6.9</br></br>lead_time: 203.0</br>arrival_date_year: 2016.0</br>adults: 2.0</br>children: 0.0</br>booking_changes: 4.0</br>_original_yhat_: 0.3079200979422798</br>"
          ],
          [
           "</br>id: observation</br>prediction: 0.262</br>babies: 7.0</br></br>lead_time: 203.0</br>arrival_date_year: 2016.0</br>adults: 2.0</br>children: 0.0</br>booking_changes: 4.0</br>_original_yhat_: 0.3079200979422798</br>"
          ],
          [
           "</br>id: observation</br>prediction: 0.262</br>babies: 7.1000000000000005</br></br>lead_time: 203.0</br>arrival_date_year: 2016.0</br>adults: 2.0</br>children: 0.0</br>booking_changes: 4.0</br>_original_yhat_: 0.3079200979422798</br>"
          ],
          [
           "</br>id: observation</br>prediction: 0.262</br>babies: 7.2</br></br>lead_time: 203.0</br>arrival_date_year: 2016.0</br>adults: 2.0</br>children: 0.0</br>booking_changes: 4.0</br>_original_yhat_: 0.3079200979422798</br>"
          ],
          [
           "</br>id: observation</br>prediction: 0.262</br>babies: 7.300000000000001</br></br>lead_time: 203.0</br>arrival_date_year: 2016.0</br>adults: 2.0</br>children: 0.0</br>booking_changes: 4.0</br>_original_yhat_: 0.3079200979422798</br>"
          ],
          [
           "</br>id: observation</br>prediction: 0.262</br>babies: 7.4</br></br>lead_time: 203.0</br>arrival_date_year: 2016.0</br>adults: 2.0</br>children: 0.0</br>booking_changes: 4.0</br>_original_yhat_: 0.3079200979422798</br>"
          ],
          [
           "</br>id: observation</br>prediction: 0.262</br>babies: 7.5</br></br>lead_time: 203.0</br>arrival_date_year: 2016.0</br>adults: 2.0</br>children: 0.0</br>booking_changes: 4.0</br>_original_yhat_: 0.3079200979422798</br>"
          ],
          [
           "</br>id: observation</br>prediction: 0.262</br>babies: 7.6000000000000005</br></br>lead_time: 203.0</br>arrival_date_year: 2016.0</br>adults: 2.0</br>children: 0.0</br>booking_changes: 4.0</br>_original_yhat_: 0.3079200979422798</br>"
          ],
          [
           "</br>id: observation</br>prediction: 0.262</br>babies: 7.7</br></br>lead_time: 203.0</br>arrival_date_year: 2016.0</br>adults: 2.0</br>children: 0.0</br>booking_changes: 4.0</br>_original_yhat_: 0.3079200979422798</br>"
          ],
          [
           "</br>id: observation</br>prediction: 0.262</br>babies: 7.800000000000001</br></br>lead_time: 203.0</br>arrival_date_year: 2016.0</br>adults: 2.0</br>children: 0.0</br>booking_changes: 4.0</br>_original_yhat_: 0.3079200979422798</br>"
          ],
          [
           "</br>id: observation</br>prediction: 0.262</br>babies: 7.9</br></br>lead_time: 203.0</br>arrival_date_year: 2016.0</br>adults: 2.0</br>children: 0.0</br>booking_changes: 4.0</br>_original_yhat_: 0.3079200979422798</br>"
          ],
          [
           "</br>id: observation</br>prediction: 0.262</br>babies: 8.0</br></br>lead_time: 203.0</br>arrival_date_year: 2016.0</br>adults: 2.0</br>children: 0.0</br>booking_changes: 4.0</br>_original_yhat_: 0.3079200979422798</br>"
          ],
          [
           "</br>id: observation</br>prediction: 0.262</br>babies: 8.1</br></br>lead_time: 203.0</br>arrival_date_year: 2016.0</br>adults: 2.0</br>children: 0.0</br>booking_changes: 4.0</br>_original_yhat_: 0.3079200979422798</br>"
          ],
          [
           "</br>id: observation</br>prediction: 0.262</br>babies: 8.200000000000001</br></br>lead_time: 203.0</br>arrival_date_year: 2016.0</br>adults: 2.0</br>children: 0.0</br>booking_changes: 4.0</br>_original_yhat_: 0.3079200979422798</br>"
          ],
          [
           "</br>id: observation</br>prediction: 0.262</br>babies: 8.3</br></br>lead_time: 203.0</br>arrival_date_year: 2016.0</br>adults: 2.0</br>children: 0.0</br>booking_changes: 4.0</br>_original_yhat_: 0.3079200979422798</br>"
          ],
          [
           "</br>id: observation</br>prediction: 0.262</br>babies: 8.4</br></br>lead_time: 203.0</br>arrival_date_year: 2016.0</br>adults: 2.0</br>children: 0.0</br>booking_changes: 4.0</br>_original_yhat_: 0.3079200979422798</br>"
          ],
          [
           "</br>id: observation</br>prediction: 0.262</br>babies: 8.5</br></br>lead_time: 203.0</br>arrival_date_year: 2016.0</br>adults: 2.0</br>children: 0.0</br>booking_changes: 4.0</br>_original_yhat_: 0.3079200979422798</br>"
          ],
          [
           "</br>id: observation</br>prediction: 0.262</br>babies: 8.6</br></br>lead_time: 203.0</br>arrival_date_year: 2016.0</br>adults: 2.0</br>children: 0.0</br>booking_changes: 4.0</br>_original_yhat_: 0.3079200979422798</br>"
          ],
          [
           "</br>id: observation</br>prediction: 0.262</br>babies: 8.700000000000001</br></br>lead_time: 203.0</br>arrival_date_year: 2016.0</br>adults: 2.0</br>children: 0.0</br>booking_changes: 4.0</br>_original_yhat_: 0.3079200979422798</br>"
          ],
          [
           "</br>id: observation</br>prediction: 0.262</br>babies: 8.8</br></br>lead_time: 203.0</br>arrival_date_year: 2016.0</br>adults: 2.0</br>children: 0.0</br>booking_changes: 4.0</br>_original_yhat_: 0.3079200979422798</br>"
          ],
          [
           "</br>id: observation</br>prediction: 0.262</br>babies: 8.9</br></br>lead_time: 203.0</br>arrival_date_year: 2016.0</br>adults: 2.0</br>children: 0.0</br>booking_changes: 4.0</br>_original_yhat_: 0.3079200979422798</br>"
          ],
          [
           "</br>id: observation</br>prediction: 0.262</br>babies: 9.0</br></br>lead_time: 203.0</br>arrival_date_year: 2016.0</br>adults: 2.0</br>children: 0.0</br>booking_changes: 4.0</br>_original_yhat_: 0.3079200979422798</br>"
          ],
          [
           "</br>id: observation</br>prediction: 0.262</br>babies: 9.1</br></br>lead_time: 203.0</br>arrival_date_year: 2016.0</br>adults: 2.0</br>children: 0.0</br>booking_changes: 4.0</br>_original_yhat_: 0.3079200979422798</br>"
          ],
          [
           "</br>id: observation</br>prediction: 0.262</br>babies: 9.200000000000001</br></br>lead_time: 203.0</br>arrival_date_year: 2016.0</br>adults: 2.0</br>children: 0.0</br>booking_changes: 4.0</br>_original_yhat_: 0.3079200979422798</br>"
          ],
          [
           "</br>id: observation</br>prediction: 0.262</br>babies: 9.3</br></br>lead_time: 203.0</br>arrival_date_year: 2016.0</br>adults: 2.0</br>children: 0.0</br>booking_changes: 4.0</br>_original_yhat_: 0.3079200979422798</br>"
          ],
          [
           "</br>id: observation</br>prediction: 0.262</br>babies: 9.4</br></br>lead_time: 203.0</br>arrival_date_year: 2016.0</br>adults: 2.0</br>children: 0.0</br>booking_changes: 4.0</br>_original_yhat_: 0.3079200979422798</br>"
          ],
          [
           "</br>id: observation</br>prediction: 0.262</br>babies: 9.5</br></br>lead_time: 203.0</br>arrival_date_year: 2016.0</br>adults: 2.0</br>children: 0.0</br>booking_changes: 4.0</br>_original_yhat_: 0.3079200979422798</br>"
          ],
          [
           "</br>id: observation</br>prediction: 0.262</br>babies: 9.600000000000001</br></br>lead_time: 203.0</br>arrival_date_year: 2016.0</br>adults: 2.0</br>children: 0.0</br>booking_changes: 4.0</br>_original_yhat_: 0.3079200979422798</br>"
          ],
          [
           "</br>id: observation</br>prediction: 0.262</br>babies: 9.700000000000001</br></br>lead_time: 203.0</br>arrival_date_year: 2016.0</br>adults: 2.0</br>children: 0.0</br>booking_changes: 4.0</br>_original_yhat_: 0.3079200979422798</br>"
          ],
          [
           "</br>id: observation</br>prediction: 0.262</br>babies: 9.8</br></br>lead_time: 203.0</br>arrival_date_year: 2016.0</br>adults: 2.0</br>children: 0.0</br>booking_changes: 4.0</br>_original_yhat_: 0.3079200979422798</br>"
          ],
          [
           "</br>id: observation</br>prediction: 0.262</br>babies: 9.9</br></br>lead_time: 203.0</br>arrival_date_year: 2016.0</br>adults: 2.0</br>children: 0.0</br>booking_changes: 4.0</br>_original_yhat_: 0.3079200979422798</br>"
          ],
          [
           "</br>id: observation</br>prediction: 0.262</br>babies: 10.0</br></br>lead_time: 203.0</br>arrival_date_year: 2016.0</br>adults: 2.0</br>children: 0.0</br>booking_changes: 4.0</br>_original_yhat_: 0.3079200979422798</br>"
          ]
         ],
         "hovertemplate": "%{customdata[0]}<extra></extra>",
         "legendgroup": "random_forest",
         "line": {
          "color": "#46bac2",
          "dash": "solid",
          "width": 2
         },
         "marker": {
          "symbol": "circle"
         },
         "mode": "lines",
         "name": "random_forest",
         "opacity": 1,
         "orientation": "v",
         "showlegend": false,
         "type": "scatter",
         "x": [
          0,
          0.1,
          0.2,
          0.30000000000000004,
          0.4,
          0.5,
          0.6000000000000001,
          0.7000000000000001,
          0.8,
          0.9,
          1,
          1.1,
          1.2000000000000002,
          1.3,
          1.4000000000000001,
          1.5,
          1.6,
          1.7000000000000002,
          1.8,
          1.9000000000000001,
          2,
          2.1,
          2.2,
          2.3000000000000003,
          2.4000000000000004,
          2.5,
          2.6,
          2.7,
          2.8000000000000003,
          2.9000000000000004,
          3,
          3.1,
          3.2,
          3.3000000000000003,
          3.4000000000000004,
          3.5,
          3.6,
          3.7,
          3.8000000000000003,
          3.9000000000000004,
          4,
          4.1000000000000005,
          4.2,
          4.3,
          4.4,
          4.5,
          4.6000000000000005,
          4.7,
          4.800000000000001,
          4.9,
          5,
          5.1000000000000005,
          5.2,
          5.300000000000001,
          5.4,
          5.5,
          5.6000000000000005,
          5.7,
          5.800000000000001,
          5.9,
          6,
          6.1000000000000005,
          6.2,
          6.300000000000001,
          6.4,
          6.5,
          6.6000000000000005,
          6.7,
          6.800000000000001,
          6.9,
          7,
          7.1000000000000005,
          7.2,
          7.300000000000001,
          7.4,
          7.5,
          7.6000000000000005,
          7.7,
          7.800000000000001,
          7.9,
          8,
          8.1,
          8.200000000000001,
          8.3,
          8.4,
          8.5,
          8.6,
          8.700000000000001,
          8.8,
          8.9,
          9,
          9.1,
          9.200000000000001,
          9.3,
          9.4,
          9.5,
          9.600000000000001,
          9.700000000000001,
          9.8,
          9.9,
          10
         ],
         "xaxis": "x",
         "y": [
          0.3079200979422798,
          0.3079200979422798,
          0.3079200979422798,
          0.3079200979422798,
          0.3079200979422798,
          0.3079200979422798,
          0.262131500212599,
          0.262131500212599,
          0.262131500212599,
          0.262131500212599,
          0.262131500212599,
          0.262131500212599,
          0.262131500212599,
          0.262131500212599,
          0.262131500212599,
          0.262131500212599,
          0.262131500212599,
          0.262131500212599,
          0.262131500212599,
          0.262131500212599,
          0.262131500212599,
          0.262131500212599,
          0.262131500212599,
          0.262131500212599,
          0.262131500212599,
          0.262131500212599,
          0.262131500212599,
          0.262131500212599,
          0.262131500212599,
          0.262131500212599,
          0.262131500212599,
          0.262131500212599,
          0.262131500212599,
          0.262131500212599,
          0.262131500212599,
          0.262131500212599,
          0.262131500212599,
          0.262131500212599,
          0.262131500212599,
          0.262131500212599,
          0.262131500212599,
          0.262131500212599,
          0.262131500212599,
          0.262131500212599,
          0.262131500212599,
          0.262131500212599,
          0.262131500212599,
          0.262131500212599,
          0.262131500212599,
          0.262131500212599,
          0.262131500212599,
          0.262131500212599,
          0.262131500212599,
          0.262131500212599,
          0.262131500212599,
          0.262131500212599,
          0.262131500212599,
          0.262131500212599,
          0.262131500212599,
          0.262131500212599,
          0.262131500212599,
          0.262131500212599,
          0.262131500212599,
          0.262131500212599,
          0.262131500212599,
          0.262131500212599,
          0.262131500212599,
          0.262131500212599,
          0.262131500212599,
          0.262131500212599,
          0.262131500212599,
          0.262131500212599,
          0.262131500212599,
          0.262131500212599,
          0.262131500212599,
          0.262131500212599,
          0.262131500212599,
          0.262131500212599,
          0.262131500212599,
          0.262131500212599,
          0.262131500212599,
          0.262131500212599,
          0.262131500212599,
          0.262131500212599,
          0.262131500212599,
          0.262131500212599,
          0.262131500212599,
          0.262131500212599,
          0.262131500212599,
          0.262131500212599,
          0.262131500212599,
          0.262131500212599,
          0.262131500212599,
          0.262131500212599,
          0.262131500212599,
          0.262131500212599,
          0.262131500212599,
          0.262131500212599,
          0.262131500212599,
          0.262131500212599,
          0.262131500212599
         ],
         "yaxis": "y"
        },
        {
         "customdata": [
          [
           "</br>id: observation</br>prediction: 0.429</br>booking_changes: 0.0</br></br>lead_time: 203.0</br>arrival_date_year: 2016.0</br>adults: 2.0</br>children: 0.0</br>babies: 0.0</br>_original_yhat_: 0.3079200979422798</br>"
          ],
          [
           "</br>id: observation</br>prediction: 0.429</br>booking_changes: 0.21</br></br>lead_time: 203.0</br>arrival_date_year: 2016.0</br>adults: 2.0</br>children: 0.0</br>babies: 0.0</br>_original_yhat_: 0.3079200979422798</br>"
          ],
          [
           "</br>id: observation</br>prediction: 0.429</br>booking_changes: 0.42</br></br>lead_time: 203.0</br>arrival_date_year: 2016.0</br>adults: 2.0</br>children: 0.0</br>babies: 0.0</br>_original_yhat_: 0.3079200979422798</br>"
          ],
          [
           "</br>id: observation</br>prediction: 0.304</br>booking_changes: 0.63</br></br>lead_time: 203.0</br>arrival_date_year: 2016.0</br>adults: 2.0</br>children: 0.0</br>babies: 0.0</br>_original_yhat_: 0.3079200979422798</br>"
          ],
          [
           "</br>id: observation</br>prediction: 0.304</br>booking_changes: 0.84</br></br>lead_time: 203.0</br>arrival_date_year: 2016.0</br>adults: 2.0</br>children: 0.0</br>babies: 0.0</br>_original_yhat_: 0.3079200979422798</br>"
          ],
          [
           "</br>id: observation</br>prediction: 0.304</br>booking_changes: 1.05</br></br>lead_time: 203.0</br>arrival_date_year: 2016.0</br>adults: 2.0</br>children: 0.0</br>babies: 0.0</br>_original_yhat_: 0.3079200979422798</br>"
          ],
          [
           "</br>id: observation</br>prediction: 0.304</br>booking_changes: 1.26</br></br>lead_time: 203.0</br>arrival_date_year: 2016.0</br>adults: 2.0</br>children: 0.0</br>babies: 0.0</br>_original_yhat_: 0.3079200979422798</br>"
          ],
          [
           "</br>id: observation</br>prediction: 0.304</br>booking_changes: 1.47</br></br>lead_time: 203.0</br>arrival_date_year: 2016.0</br>adults: 2.0</br>children: 0.0</br>babies: 0.0</br>_original_yhat_: 0.3079200979422798</br>"
          ],
          [
           "</br>id: observation</br>prediction: 0.308</br>booking_changes: 1.68</br></br>lead_time: 203.0</br>arrival_date_year: 2016.0</br>adults: 2.0</br>children: 0.0</br>babies: 0.0</br>_original_yhat_: 0.3079200979422798</br>"
          ],
          [
           "</br>id: observation</br>prediction: 0.308</br>booking_changes: 1.89</br></br>lead_time: 203.0</br>arrival_date_year: 2016.0</br>adults: 2.0</br>children: 0.0</br>babies: 0.0</br>_original_yhat_: 0.3079200979422798</br>"
          ],
          [
           "</br>id: observation</br>prediction: 0.308</br>booking_changes: 2.1</br></br>lead_time: 203.0</br>arrival_date_year: 2016.0</br>adults: 2.0</br>children: 0.0</br>babies: 0.0</br>_original_yhat_: 0.3079200979422798</br>"
          ],
          [
           "</br>id: observation</br>prediction: 0.308</br>booking_changes: 2.31</br></br>lead_time: 203.0</br>arrival_date_year: 2016.0</br>adults: 2.0</br>children: 0.0</br>babies: 0.0</br>_original_yhat_: 0.3079200979422798</br>"
          ],
          [
           "</br>id: observation</br>prediction: 0.308</br>booking_changes: 2.52</br></br>lead_time: 203.0</br>arrival_date_year: 2016.0</br>adults: 2.0</br>children: 0.0</br>babies: 0.0</br>_original_yhat_: 0.3079200979422798</br>"
          ],
          [
           "</br>id: observation</br>prediction: 0.308</br>booking_changes: 2.73</br></br>lead_time: 203.0</br>arrival_date_year: 2016.0</br>adults: 2.0</br>children: 0.0</br>babies: 0.0</br>_original_yhat_: 0.3079200979422798</br>"
          ],
          [
           "</br>id: observation</br>prediction: 0.308</br>booking_changes: 2.94</br></br>lead_time: 203.0</br>arrival_date_year: 2016.0</br>adults: 2.0</br>children: 0.0</br>babies: 0.0</br>_original_yhat_: 0.3079200979422798</br>"
          ],
          [
           "</br>id: observation</br>prediction: 0.308</br>booking_changes: 3.15</br></br>lead_time: 203.0</br>arrival_date_year: 2016.0</br>adults: 2.0</br>children: 0.0</br>babies: 0.0</br>_original_yhat_: 0.3079200979422798</br>"
          ],
          [
           "</br>id: observation</br>prediction: 0.308</br>booking_changes: 3.36</br></br>lead_time: 203.0</br>arrival_date_year: 2016.0</br>adults: 2.0</br>children: 0.0</br>babies: 0.0</br>_original_yhat_: 0.3079200979422798</br>"
          ],
          [
           "</br>id: observation</br>prediction: 0.308</br>booking_changes: 3.57</br></br>lead_time: 203.0</br>arrival_date_year: 2016.0</br>adults: 2.0</br>children: 0.0</br>babies: 0.0</br>_original_yhat_: 0.3079200979422798</br>"
          ],
          [
           "</br>id: observation</br>prediction: 0.308</br>booking_changes: 3.78</br></br>lead_time: 203.0</br>arrival_date_year: 2016.0</br>adults: 2.0</br>children: 0.0</br>babies: 0.0</br>_original_yhat_: 0.3079200979422798</br>"
          ],
          [
           "</br>id: observation</br>prediction: 0.308</br>booking_changes: 3.9899999999999998</br></br>lead_time: 203.0</br>arrival_date_year: 2016.0</br>adults: 2.0</br>children: 0.0</br>babies: 0.0</br>_original_yhat_: 0.3079200979422798</br>"
          ],
          [
           "</br>id: observation</br>prediction: 0.308</br>booking_changes: 4.0</br></br>lead_time: 203.0</br>arrival_date_year: 2016.0</br>adults: 2.0</br>children: 0.0</br>babies: 0.0</br>_original_yhat_: 0.3079200979422798</br>"
          ],
          [
           "</br>id: observation</br>prediction: 0.308</br>booking_changes: 4.2</br></br>lead_time: 203.0</br>arrival_date_year: 2016.0</br>adults: 2.0</br>children: 0.0</br>babies: 0.0</br>_original_yhat_: 0.3079200979422798</br>"
          ],
          [
           "</br>id: observation</br>prediction: 0.308</br>booking_changes: 4.41</br></br>lead_time: 203.0</br>arrival_date_year: 2016.0</br>adults: 2.0</br>children: 0.0</br>babies: 0.0</br>_original_yhat_: 0.3079200979422798</br>"
          ],
          [
           "</br>id: observation</br>prediction: 0.308</br>booking_changes: 4.62</br></br>lead_time: 203.0</br>arrival_date_year: 2016.0</br>adults: 2.0</br>children: 0.0</br>babies: 0.0</br>_original_yhat_: 0.3079200979422798</br>"
          ],
          [
           "</br>id: observation</br>prediction: 0.308</br>booking_changes: 4.83</br></br>lead_time: 203.0</br>arrival_date_year: 2016.0</br>adults: 2.0</br>children: 0.0</br>babies: 0.0</br>_original_yhat_: 0.3079200979422798</br>"
          ],
          [
           "</br>id: observation</br>prediction: 0.308</br>booking_changes: 5.04</br></br>lead_time: 203.0</br>arrival_date_year: 2016.0</br>adults: 2.0</br>children: 0.0</br>babies: 0.0</br>_original_yhat_: 0.3079200979422798</br>"
          ],
          [
           "</br>id: observation</br>prediction: 0.308</br>booking_changes: 5.25</br></br>lead_time: 203.0</br>arrival_date_year: 2016.0</br>adults: 2.0</br>children: 0.0</br>babies: 0.0</br>_original_yhat_: 0.3079200979422798</br>"
          ],
          [
           "</br>id: observation</br>prediction: 0.308</br>booking_changes: 5.46</br></br>lead_time: 203.0</br>arrival_date_year: 2016.0</br>adults: 2.0</br>children: 0.0</br>babies: 0.0</br>_original_yhat_: 0.3079200979422798</br>"
          ],
          [
           "</br>id: observation</br>prediction: 0.308</br>booking_changes: 5.67</br></br>lead_time: 203.0</br>arrival_date_year: 2016.0</br>adults: 2.0</br>children: 0.0</br>babies: 0.0</br>_original_yhat_: 0.3079200979422798</br>"
          ],
          [
           "</br>id: observation</br>prediction: 0.308</br>booking_changes: 5.88</br></br>lead_time: 203.0</br>arrival_date_year: 2016.0</br>adults: 2.0</br>children: 0.0</br>babies: 0.0</br>_original_yhat_: 0.3079200979422798</br>"
          ],
          [
           "</br>id: observation</br>prediction: 0.308</br>booking_changes: 6.09</br></br>lead_time: 203.0</br>arrival_date_year: 2016.0</br>adults: 2.0</br>children: 0.0</br>babies: 0.0</br>_original_yhat_: 0.3079200979422798</br>"
          ],
          [
           "</br>id: observation</br>prediction: 0.308</br>booking_changes: 6.3</br></br>lead_time: 203.0</br>arrival_date_year: 2016.0</br>adults: 2.0</br>children: 0.0</br>babies: 0.0</br>_original_yhat_: 0.3079200979422798</br>"
          ],
          [
           "</br>id: observation</br>prediction: 0.308</br>booking_changes: 6.51</br></br>lead_time: 203.0</br>arrival_date_year: 2016.0</br>adults: 2.0</br>children: 0.0</br>babies: 0.0</br>_original_yhat_: 0.3079200979422798</br>"
          ],
          [
           "</br>id: observation</br>prediction: 0.308</br>booking_changes: 6.72</br></br>lead_time: 203.0</br>arrival_date_year: 2016.0</br>adults: 2.0</br>children: 0.0</br>babies: 0.0</br>_original_yhat_: 0.3079200979422798</br>"
          ],
          [
           "</br>id: observation</br>prediction: 0.308</br>booking_changes: 6.93</br></br>lead_time: 203.0</br>arrival_date_year: 2016.0</br>adults: 2.0</br>children: 0.0</br>babies: 0.0</br>_original_yhat_: 0.3079200979422798</br>"
          ],
          [
           "</br>id: observation</br>prediction: 0.308</br>booking_changes: 7.14</br></br>lead_time: 203.0</br>arrival_date_year: 2016.0</br>adults: 2.0</br>children: 0.0</br>babies: 0.0</br>_original_yhat_: 0.3079200979422798</br>"
          ],
          [
           "</br>id: observation</br>prediction: 0.308</br>booking_changes: 7.35</br></br>lead_time: 203.0</br>arrival_date_year: 2016.0</br>adults: 2.0</br>children: 0.0</br>babies: 0.0</br>_original_yhat_: 0.3079200979422798</br>"
          ],
          [
           "</br>id: observation</br>prediction: 0.308</br>booking_changes: 7.56</br></br>lead_time: 203.0</br>arrival_date_year: 2016.0</br>adults: 2.0</br>children: 0.0</br>babies: 0.0</br>_original_yhat_: 0.3079200979422798</br>"
          ],
          [
           "</br>id: observation</br>prediction: 0.308</br>booking_changes: 7.77</br></br>lead_time: 203.0</br>arrival_date_year: 2016.0</br>adults: 2.0</br>children: 0.0</br>babies: 0.0</br>_original_yhat_: 0.3079200979422798</br>"
          ],
          [
           "</br>id: observation</br>prediction: 0.308</br>booking_changes: 7.9799999999999995</br></br>lead_time: 203.0</br>arrival_date_year: 2016.0</br>adults: 2.0</br>children: 0.0</br>babies: 0.0</br>_original_yhat_: 0.3079200979422798</br>"
          ],
          [
           "</br>id: observation</br>prediction: 0.308</br>booking_changes: 8.19</br></br>lead_time: 203.0</br>arrival_date_year: 2016.0</br>adults: 2.0</br>children: 0.0</br>babies: 0.0</br>_original_yhat_: 0.3079200979422798</br>"
          ],
          [
           "</br>id: observation</br>prediction: 0.308</br>booking_changes: 8.4</br></br>lead_time: 203.0</br>arrival_date_year: 2016.0</br>adults: 2.0</br>children: 0.0</br>babies: 0.0</br>_original_yhat_: 0.3079200979422798</br>"
          ],
          [
           "</br>id: observation</br>prediction: 0.308</br>booking_changes: 8.61</br></br>lead_time: 203.0</br>arrival_date_year: 2016.0</br>adults: 2.0</br>children: 0.0</br>babies: 0.0</br>_original_yhat_: 0.3079200979422798</br>"
          ],
          [
           "</br>id: observation</br>prediction: 0.308</br>booking_changes: 8.82</br></br>lead_time: 203.0</br>arrival_date_year: 2016.0</br>adults: 2.0</br>children: 0.0</br>babies: 0.0</br>_original_yhat_: 0.3079200979422798</br>"
          ],
          [
           "</br>id: observation</br>prediction: 0.308</br>booking_changes: 9.03</br></br>lead_time: 203.0</br>arrival_date_year: 2016.0</br>adults: 2.0</br>children: 0.0</br>babies: 0.0</br>_original_yhat_: 0.3079200979422798</br>"
          ],
          [
           "</br>id: observation</br>prediction: 0.308</br>booking_changes: 9.24</br></br>lead_time: 203.0</br>arrival_date_year: 2016.0</br>adults: 2.0</br>children: 0.0</br>babies: 0.0</br>_original_yhat_: 0.3079200979422798</br>"
          ],
          [
           "</br>id: observation</br>prediction: 0.308</br>booking_changes: 9.45</br></br>lead_time: 203.0</br>arrival_date_year: 2016.0</br>adults: 2.0</br>children: 0.0</br>babies: 0.0</br>_original_yhat_: 0.3079200979422798</br>"
          ],
          [
           "</br>id: observation</br>prediction: 0.308</br>booking_changes: 9.66</br></br>lead_time: 203.0</br>arrival_date_year: 2016.0</br>adults: 2.0</br>children: 0.0</br>babies: 0.0</br>_original_yhat_: 0.3079200979422798</br>"
          ],
          [
           "</br>id: observation</br>prediction: 0.308</br>booking_changes: 9.87</br></br>lead_time: 203.0</br>arrival_date_year: 2016.0</br>adults: 2.0</br>children: 0.0</br>babies: 0.0</br>_original_yhat_: 0.3079200979422798</br>"
          ],
          [
           "</br>id: observation</br>prediction: 0.308</br>booking_changes: 10.08</br></br>lead_time: 203.0</br>arrival_date_year: 2016.0</br>adults: 2.0</br>children: 0.0</br>babies: 0.0</br>_original_yhat_: 0.3079200979422798</br>"
          ],
          [
           "</br>id: observation</br>prediction: 0.308</br>booking_changes: 10.29</br></br>lead_time: 203.0</br>arrival_date_year: 2016.0</br>adults: 2.0</br>children: 0.0</br>babies: 0.0</br>_original_yhat_: 0.3079200979422798</br>"
          ],
          [
           "</br>id: observation</br>prediction: 0.308</br>booking_changes: 10.5</br></br>lead_time: 203.0</br>arrival_date_year: 2016.0</br>adults: 2.0</br>children: 0.0</br>babies: 0.0</br>_original_yhat_: 0.3079200979422798</br>"
          ],
          [
           "</br>id: observation</br>prediction: 0.308</br>booking_changes: 10.709999999999999</br></br>lead_time: 203.0</br>arrival_date_year: 2016.0</br>adults: 2.0</br>children: 0.0</br>babies: 0.0</br>_original_yhat_: 0.3079200979422798</br>"
          ],
          [
           "</br>id: observation</br>prediction: 0.308</br>booking_changes: 10.92</br></br>lead_time: 203.0</br>arrival_date_year: 2016.0</br>adults: 2.0</br>children: 0.0</br>babies: 0.0</br>_original_yhat_: 0.3079200979422798</br>"
          ],
          [
           "</br>id: observation</br>prediction: 0.308</br>booking_changes: 11.129999999999999</br></br>lead_time: 203.0</br>arrival_date_year: 2016.0</br>adults: 2.0</br>children: 0.0</br>babies: 0.0</br>_original_yhat_: 0.3079200979422798</br>"
          ],
          [
           "</br>id: observation</br>prediction: 0.308</br>booking_changes: 11.34</br></br>lead_time: 203.0</br>arrival_date_year: 2016.0</br>adults: 2.0</br>children: 0.0</br>babies: 0.0</br>_original_yhat_: 0.3079200979422798</br>"
          ],
          [
           "</br>id: observation</br>prediction: 0.308</br>booking_changes: 11.549999999999999</br></br>lead_time: 203.0</br>arrival_date_year: 2016.0</br>adults: 2.0</br>children: 0.0</br>babies: 0.0</br>_original_yhat_: 0.3079200979422798</br>"
          ],
          [
           "</br>id: observation</br>prediction: 0.308</br>booking_changes: 11.76</br></br>lead_time: 203.0</br>arrival_date_year: 2016.0</br>adults: 2.0</br>children: 0.0</br>babies: 0.0</br>_original_yhat_: 0.3079200979422798</br>"
          ],
          [
           "</br>id: observation</br>prediction: 0.308</br>booking_changes: 11.969999999999999</br></br>lead_time: 203.0</br>arrival_date_year: 2016.0</br>adults: 2.0</br>children: 0.0</br>babies: 0.0</br>_original_yhat_: 0.3079200979422798</br>"
          ],
          [
           "</br>id: observation</br>prediction: 0.308</br>booking_changes: 12.18</br></br>lead_time: 203.0</br>arrival_date_year: 2016.0</br>adults: 2.0</br>children: 0.0</br>babies: 0.0</br>_original_yhat_: 0.3079200979422798</br>"
          ],
          [
           "</br>id: observation</br>prediction: 0.308</br>booking_changes: 12.389999999999999</br></br>lead_time: 203.0</br>arrival_date_year: 2016.0</br>adults: 2.0</br>children: 0.0</br>babies: 0.0</br>_original_yhat_: 0.3079200979422798</br>"
          ],
          [
           "</br>id: observation</br>prediction: 0.308</br>booking_changes: 12.6</br></br>lead_time: 203.0</br>arrival_date_year: 2016.0</br>adults: 2.0</br>children: 0.0</br>babies: 0.0</br>_original_yhat_: 0.3079200979422798</br>"
          ],
          [
           "</br>id: observation</br>prediction: 0.308</br>booking_changes: 12.809999999999999</br></br>lead_time: 203.0</br>arrival_date_year: 2016.0</br>adults: 2.0</br>children: 0.0</br>babies: 0.0</br>_original_yhat_: 0.3079200979422798</br>"
          ],
          [
           "</br>id: observation</br>prediction: 0.308</br>booking_changes: 13.02</br></br>lead_time: 203.0</br>arrival_date_year: 2016.0</br>adults: 2.0</br>children: 0.0</br>babies: 0.0</br>_original_yhat_: 0.3079200979422798</br>"
          ],
          [
           "</br>id: observation</br>prediction: 0.308</br>booking_changes: 13.229999999999999</br></br>lead_time: 203.0</br>arrival_date_year: 2016.0</br>adults: 2.0</br>children: 0.0</br>babies: 0.0</br>_original_yhat_: 0.3079200979422798</br>"
          ],
          [
           "</br>id: observation</br>prediction: 0.308</br>booking_changes: 13.44</br></br>lead_time: 203.0</br>arrival_date_year: 2016.0</br>adults: 2.0</br>children: 0.0</br>babies: 0.0</br>_original_yhat_: 0.3079200979422798</br>"
          ],
          [
           "</br>id: observation</br>prediction: 0.308</br>booking_changes: 13.65</br></br>lead_time: 203.0</br>arrival_date_year: 2016.0</br>adults: 2.0</br>children: 0.0</br>babies: 0.0</br>_original_yhat_: 0.3079200979422798</br>"
          ],
          [
           "</br>id: observation</br>prediction: 0.308</br>booking_changes: 13.86</br></br>lead_time: 203.0</br>arrival_date_year: 2016.0</br>adults: 2.0</br>children: 0.0</br>babies: 0.0</br>_original_yhat_: 0.3079200979422798</br>"
          ],
          [
           "</br>id: observation</br>prediction: 0.308</br>booking_changes: 14.07</br></br>lead_time: 203.0</br>arrival_date_year: 2016.0</br>adults: 2.0</br>children: 0.0</br>babies: 0.0</br>_original_yhat_: 0.3079200979422798</br>"
          ],
          [
           "</br>id: observation</br>prediction: 0.308</br>booking_changes: 14.28</br></br>lead_time: 203.0</br>arrival_date_year: 2016.0</br>adults: 2.0</br>children: 0.0</br>babies: 0.0</br>_original_yhat_: 0.3079200979422798</br>"
          ],
          [
           "</br>id: observation</br>prediction: 0.308</br>booking_changes: 14.49</br></br>lead_time: 203.0</br>arrival_date_year: 2016.0</br>adults: 2.0</br>children: 0.0</br>babies: 0.0</br>_original_yhat_: 0.3079200979422798</br>"
          ],
          [
           "</br>id: observation</br>prediction: 0.308</br>booking_changes: 14.7</br></br>lead_time: 203.0</br>arrival_date_year: 2016.0</br>adults: 2.0</br>children: 0.0</br>babies: 0.0</br>_original_yhat_: 0.3079200979422798</br>"
          ],
          [
           "</br>id: observation</br>prediction: 0.308</br>booking_changes: 14.91</br></br>lead_time: 203.0</br>arrival_date_year: 2016.0</br>adults: 2.0</br>children: 0.0</br>babies: 0.0</br>_original_yhat_: 0.3079200979422798</br>"
          ],
          [
           "</br>id: observation</br>prediction: 0.308</br>booking_changes: 15.12</br></br>lead_time: 203.0</br>arrival_date_year: 2016.0</br>adults: 2.0</br>children: 0.0</br>babies: 0.0</br>_original_yhat_: 0.3079200979422798</br>"
          ],
          [
           "</br>id: observation</br>prediction: 0.308</br>booking_changes: 15.33</br></br>lead_time: 203.0</br>arrival_date_year: 2016.0</br>adults: 2.0</br>children: 0.0</br>babies: 0.0</br>_original_yhat_: 0.3079200979422798</br>"
          ],
          [
           "</br>id: observation</br>prediction: 0.308</br>booking_changes: 15.54</br></br>lead_time: 203.0</br>arrival_date_year: 2016.0</br>adults: 2.0</br>children: 0.0</br>babies: 0.0</br>_original_yhat_: 0.3079200979422798</br>"
          ],
          [
           "</br>id: observation</br>prediction: 0.308</br>booking_changes: 15.75</br></br>lead_time: 203.0</br>arrival_date_year: 2016.0</br>adults: 2.0</br>children: 0.0</br>babies: 0.0</br>_original_yhat_: 0.3079200979422798</br>"
          ],
          [
           "</br>id: observation</br>prediction: 0.308</br>booking_changes: 15.959999999999999</br></br>lead_time: 203.0</br>arrival_date_year: 2016.0</br>adults: 2.0</br>children: 0.0</br>babies: 0.0</br>_original_yhat_: 0.3079200979422798</br>"
          ],
          [
           "</br>id: observation</br>prediction: 0.308</br>booking_changes: 16.169999999999998</br></br>lead_time: 203.0</br>arrival_date_year: 2016.0</br>adults: 2.0</br>children: 0.0</br>babies: 0.0</br>_original_yhat_: 0.3079200979422798</br>"
          ],
          [
           "</br>id: observation</br>prediction: 0.308</br>booking_changes: 16.38</br></br>lead_time: 203.0</br>arrival_date_year: 2016.0</br>adults: 2.0</br>children: 0.0</br>babies: 0.0</br>_original_yhat_: 0.3079200979422798</br>"
          ],
          [
           "</br>id: observation</br>prediction: 0.308</br>booking_changes: 16.59</br></br>lead_time: 203.0</br>arrival_date_year: 2016.0</br>adults: 2.0</br>children: 0.0</br>babies: 0.0</br>_original_yhat_: 0.3079200979422798</br>"
          ],
          [
           "</br>id: observation</br>prediction: 0.308</br>booking_changes: 16.8</br></br>lead_time: 203.0</br>arrival_date_year: 2016.0</br>adults: 2.0</br>children: 0.0</br>babies: 0.0</br>_original_yhat_: 0.3079200979422798</br>"
          ],
          [
           "</br>id: observation</br>prediction: 0.308</br>booking_changes: 17.009999999999998</br></br>lead_time: 203.0</br>arrival_date_year: 2016.0</br>adults: 2.0</br>children: 0.0</br>babies: 0.0</br>_original_yhat_: 0.3079200979422798</br>"
          ],
          [
           "</br>id: observation</br>prediction: 0.308</br>booking_changes: 17.22</br></br>lead_time: 203.0</br>arrival_date_year: 2016.0</br>adults: 2.0</br>children: 0.0</br>babies: 0.0</br>_original_yhat_: 0.3079200979422798</br>"
          ],
          [
           "</br>id: observation</br>prediction: 0.308</br>booking_changes: 17.43</br></br>lead_time: 203.0</br>arrival_date_year: 2016.0</br>adults: 2.0</br>children: 0.0</br>babies: 0.0</br>_original_yhat_: 0.3079200979422798</br>"
          ],
          [
           "</br>id: observation</br>prediction: 0.308</br>booking_changes: 17.64</br></br>lead_time: 203.0</br>arrival_date_year: 2016.0</br>adults: 2.0</br>children: 0.0</br>babies: 0.0</br>_original_yhat_: 0.3079200979422798</br>"
          ],
          [
           "</br>id: observation</br>prediction: 0.308</br>booking_changes: 17.849999999999998</br></br>lead_time: 203.0</br>arrival_date_year: 2016.0</br>adults: 2.0</br>children: 0.0</br>babies: 0.0</br>_original_yhat_: 0.3079200979422798</br>"
          ],
          [
           "</br>id: observation</br>prediction: 0.308</br>booking_changes: 18.06</br></br>lead_time: 203.0</br>arrival_date_year: 2016.0</br>adults: 2.0</br>children: 0.0</br>babies: 0.0</br>_original_yhat_: 0.3079200979422798</br>"
          ],
          [
           "</br>id: observation</br>prediction: 0.308</br>booking_changes: 18.27</br></br>lead_time: 203.0</br>arrival_date_year: 2016.0</br>adults: 2.0</br>children: 0.0</br>babies: 0.0</br>_original_yhat_: 0.3079200979422798</br>"
          ],
          [
           "</br>id: observation</br>prediction: 0.308</br>booking_changes: 18.48</br></br>lead_time: 203.0</br>arrival_date_year: 2016.0</br>adults: 2.0</br>children: 0.0</br>babies: 0.0</br>_original_yhat_: 0.3079200979422798</br>"
          ],
          [
           "</br>id: observation</br>prediction: 0.308</br>booking_changes: 18.689999999999998</br></br>lead_time: 203.0</br>arrival_date_year: 2016.0</br>adults: 2.0</br>children: 0.0</br>babies: 0.0</br>_original_yhat_: 0.3079200979422798</br>"
          ],
          [
           "</br>id: observation</br>prediction: 0.308</br>booking_changes: 18.9</br></br>lead_time: 203.0</br>arrival_date_year: 2016.0</br>adults: 2.0</br>children: 0.0</br>babies: 0.0</br>_original_yhat_: 0.3079200979422798</br>"
          ],
          [
           "</br>id: observation</br>prediction: 0.308</br>booking_changes: 19.11</br></br>lead_time: 203.0</br>arrival_date_year: 2016.0</br>adults: 2.0</br>children: 0.0</br>babies: 0.0</br>_original_yhat_: 0.3079200979422798</br>"
          ],
          [
           "</br>id: observation</br>prediction: 0.308</br>booking_changes: 19.32</br></br>lead_time: 203.0</br>arrival_date_year: 2016.0</br>adults: 2.0</br>children: 0.0</br>babies: 0.0</br>_original_yhat_: 0.3079200979422798</br>"
          ],
          [
           "</br>id: observation</br>prediction: 0.308</br>booking_changes: 19.529999999999998</br></br>lead_time: 203.0</br>arrival_date_year: 2016.0</br>adults: 2.0</br>children: 0.0</br>babies: 0.0</br>_original_yhat_: 0.3079200979422798</br>"
          ],
          [
           "</br>id: observation</br>prediction: 0.308</br>booking_changes: 19.74</br></br>lead_time: 203.0</br>arrival_date_year: 2016.0</br>adults: 2.0</br>children: 0.0</br>babies: 0.0</br>_original_yhat_: 0.3079200979422798</br>"
          ],
          [
           "</br>id: observation</br>prediction: 0.308</br>booking_changes: 19.95</br></br>lead_time: 203.0</br>arrival_date_year: 2016.0</br>adults: 2.0</br>children: 0.0</br>babies: 0.0</br>_original_yhat_: 0.3079200979422798</br>"
          ],
          [
           "</br>id: observation</br>prediction: 0.308</br>booking_changes: 20.16</br></br>lead_time: 203.0</br>arrival_date_year: 2016.0</br>adults: 2.0</br>children: 0.0</br>babies: 0.0</br>_original_yhat_: 0.3079200979422798</br>"
          ],
          [
           "</br>id: observation</br>prediction: 0.308</br>booking_changes: 20.37</br></br>lead_time: 203.0</br>arrival_date_year: 2016.0</br>adults: 2.0</br>children: 0.0</br>babies: 0.0</br>_original_yhat_: 0.3079200979422798</br>"
          ],
          [
           "</br>id: observation</br>prediction: 0.308</br>booking_changes: 20.58</br></br>lead_time: 203.0</br>arrival_date_year: 2016.0</br>adults: 2.0</br>children: 0.0</br>babies: 0.0</br>_original_yhat_: 0.3079200979422798</br>"
          ],
          [
           "</br>id: observation</br>prediction: 0.308</br>booking_changes: 20.79</br></br>lead_time: 203.0</br>arrival_date_year: 2016.0</br>adults: 2.0</br>children: 0.0</br>babies: 0.0</br>_original_yhat_: 0.3079200979422798</br>"
          ],
          [
           "</br>id: observation</br>prediction: 0.308</br>booking_changes: 21.0</br></br>lead_time: 203.0</br>arrival_date_year: 2016.0</br>adults: 2.0</br>children: 0.0</br>babies: 0.0</br>_original_yhat_: 0.3079200979422798</br>"
          ]
         ],
         "hovertemplate": "%{customdata[0]}<extra></extra>",
         "legendgroup": "random_forest",
         "line": {
          "color": "#46bac2",
          "dash": "solid",
          "width": 2
         },
         "marker": {
          "symbol": "circle"
         },
         "mode": "lines",
         "name": "random_forest",
         "opacity": 1,
         "orientation": "v",
         "showlegend": false,
         "type": "scatter",
         "x": [
          0,
          0.21,
          0.42,
          0.63,
          0.84,
          1.05,
          1.26,
          1.47,
          1.68,
          1.89,
          2.1,
          2.31,
          2.52,
          2.73,
          2.94,
          3.15,
          3.36,
          3.57,
          3.78,
          3.9899999999999998,
          4,
          4.2,
          4.41,
          4.62,
          4.83,
          5.04,
          5.25,
          5.46,
          5.67,
          5.88,
          6.09,
          6.3,
          6.51,
          6.72,
          6.93,
          7.14,
          7.35,
          7.56,
          7.77,
          7.9799999999999995,
          8.19,
          8.4,
          8.61,
          8.82,
          9.03,
          9.24,
          9.45,
          9.66,
          9.87,
          10.08,
          10.29,
          10.5,
          10.709999999999999,
          10.92,
          11.129999999999999,
          11.34,
          11.549999999999999,
          11.76,
          11.969999999999999,
          12.18,
          12.389999999999999,
          12.6,
          12.809999999999999,
          13.02,
          13.229999999999999,
          13.44,
          13.65,
          13.86,
          14.07,
          14.28,
          14.49,
          14.7,
          14.91,
          15.12,
          15.33,
          15.54,
          15.75,
          15.959999999999999,
          16.169999999999998,
          16.38,
          16.59,
          16.8,
          17.009999999999998,
          17.22,
          17.43,
          17.64,
          17.849999999999998,
          18.06,
          18.27,
          18.48,
          18.689999999999998,
          18.9,
          19.11,
          19.32,
          19.529999999999998,
          19.74,
          19.95,
          20.16,
          20.37,
          20.58,
          20.79,
          21
         ],
         "xaxis": "x2",
         "y": [
          0.42943462250390285,
          0.42943462250390285,
          0.42943462250390285,
          0.3041444900516478,
          0.3041444900516478,
          0.3041444900516478,
          0.3041444900516478,
          0.3041444900516478,
          0.3079200979422798,
          0.3079200979422798,
          0.3079200979422798,
          0.3079200979422798,
          0.3079200979422798,
          0.3079200979422798,
          0.3079200979422798,
          0.3079200979422798,
          0.3079200979422798,
          0.3079200979422798,
          0.3079200979422798,
          0.3079200979422798,
          0.3079200979422798,
          0.3079200979422798,
          0.3079200979422798,
          0.3079200979422798,
          0.3079200979422798,
          0.3079200979422798,
          0.3079200979422798,
          0.3079200979422798,
          0.3079200979422798,
          0.3079200979422798,
          0.3079200979422798,
          0.3079200979422798,
          0.3079200979422798,
          0.3079200979422798,
          0.3079200979422798,
          0.3079200979422798,
          0.3079200979422798,
          0.3079200979422798,
          0.3079200979422798,
          0.3079200979422798,
          0.3079200979422798,
          0.3079200979422798,
          0.3079200979422798,
          0.3079200979422798,
          0.3079200979422798,
          0.3079200979422798,
          0.3079200979422798,
          0.3079200979422798,
          0.3079200979422798,
          0.3079200979422798,
          0.3079200979422798,
          0.3079200979422798,
          0.3079200979422798,
          0.3079200979422798,
          0.3079200979422798,
          0.3079200979422798,
          0.3079200979422798,
          0.3079200979422798,
          0.3079200979422798,
          0.3079200979422798,
          0.3079200979422798,
          0.3079200979422798,
          0.3079200979422798,
          0.3079200979422798,
          0.3079200979422798,
          0.3079200979422798,
          0.3079200979422798,
          0.3079200979422798,
          0.3079200979422798,
          0.3079200979422798,
          0.3079200979422798,
          0.3079200979422798,
          0.3079200979422798,
          0.3079200979422798,
          0.3079200979422798,
          0.3079200979422798,
          0.3079200979422798,
          0.3079200979422798,
          0.3079200979422798,
          0.3079200979422798,
          0.3079200979422798,
          0.3079200979422798,
          0.3079200979422798,
          0.3079200979422798,
          0.3079200979422798,
          0.3079200979422798,
          0.3079200979422798,
          0.3079200979422798,
          0.3079200979422798,
          0.3079200979422798,
          0.3079200979422798,
          0.3079200979422798,
          0.3079200979422798,
          0.3079200979422798,
          0.3079200979422798,
          0.3079200979422798,
          0.3079200979422798,
          0.3079200979422798,
          0.3079200979422798,
          0.3079200979422798,
          0.3079200979422798,
          0.3079200979422798
         ],
         "yaxis": "y2"
        },
        {
         "customdata": [
          [
           "</br>id: observation</br>prediction: 0.308</br>lead_time: 203.0</br></br>arrival_date_year: 2016.0</br>adults: 2.0</br>children: 0.0</br>babies: 0.0</br>booking_changes: 4.0</br>_original_yhat_: 0.3079200979422798</br>"
          ]
         ],
         "hovertemplate": "%{customdata[0]}<extra></extra>",
         "legendgroup": "",
         "marker": {
          "color": "#371ea3",
          "size": 10,
          "symbol": "circle"
         },
         "mode": "markers",
         "name": "",
         "opacity": 1,
         "orientation": "v",
         "showlegend": false,
         "type": "scatter",
         "x": [
          203
         ],
         "xaxis": "x3",
         "y": [
          0.3079200979422798
         ],
         "yaxis": "y3"
        },
        {
         "customdata": [
          [
           "</br>id: observation</br>prediction: 0.308</br>children: 0.0</br></br>lead_time: 203.0</br>arrival_date_year: 2016.0</br>adults: 2.0</br>babies: 0.0</br>booking_changes: 4.0</br>_original_yhat_: 0.3079200979422798</br>"
          ]
         ],
         "hovertemplate": "%{customdata[0]}<extra></extra>",
         "legendgroup": "",
         "marker": {
          "color": "#371ea3",
          "size": 10,
          "symbol": "circle"
         },
         "mode": "markers",
         "name": "",
         "opacity": 1,
         "orientation": "v",
         "showlegend": false,
         "type": "scatter",
         "x": [
          0
         ],
         "xaxis": "x4",
         "y": [
          0.3079200979422798
         ],
         "yaxis": "y4"
        },
        {
         "customdata": [
          [
           "</br>id: observation</br>prediction: 0.308</br>babies: 0.0</br></br>lead_time: 203.0</br>arrival_date_year: 2016.0</br>adults: 2.0</br>children: 0.0</br>booking_changes: 4.0</br>_original_yhat_: 0.3079200979422798</br>"
          ]
         ],
         "hovertemplate": "%{customdata[0]}<extra></extra>",
         "legendgroup": "",
         "marker": {
          "color": "#371ea3",
          "size": 10,
          "symbol": "circle"
         },
         "mode": "markers",
         "name": "",
         "opacity": 1,
         "orientation": "v",
         "showlegend": false,
         "type": "scatter",
         "x": [
          0
         ],
         "xaxis": "x",
         "y": [
          0.3079200979422798
         ],
         "yaxis": "y"
        },
        {
         "customdata": [
          [
           "</br>id: observation</br>prediction: 0.308</br>booking_changes: 4.0</br></br>lead_time: 203.0</br>arrival_date_year: 2016.0</br>adults: 2.0</br>children: 0.0</br>babies: 0.0</br>_original_yhat_: 0.3079200979422798</br>"
          ]
         ],
         "hovertemplate": "%{customdata[0]}<extra></extra>",
         "legendgroup": "",
         "marker": {
          "color": "#371ea3",
          "size": 10,
          "symbol": "circle"
         },
         "mode": "markers",
         "name": "",
         "opacity": 1,
         "orientation": "v",
         "showlegend": false,
         "type": "scatter",
         "x": [
          4
         ],
         "xaxis": "x2",
         "y": [
          0.3079200979422798
         ],
         "yaxis": "y2"
        }
       ],
       "layout": {
        "annotations": [
         {
          "font": {
           "size": 13
          },
          "showarrow": false,
          "text": "babies",
          "x": 0.2375,
          "xanchor": "center",
          "xref": "paper",
          "y": 0.425,
          "yanchor": "bottom",
          "yref": "paper"
         },
         {
          "font": {
           "size": 13
          },
          "showarrow": false,
          "text": "booking_changes",
          "x": 0.7625,
          "xanchor": "center",
          "xref": "paper",
          "y": 0.425,
          "yanchor": "bottom",
          "yref": "paper"
         },
         {
          "font": {
           "size": 13
          },
          "showarrow": false,
          "text": "lead_time",
          "x": 0.2375,
          "xanchor": "center",
          "xref": "paper",
          "y": 1,
          "yanchor": "bottom",
          "yref": "paper"
         },
         {
          "font": {
           "size": 13
          },
          "showarrow": false,
          "text": "children",
          "x": 0.7625,
          "xanchor": "center",
          "xref": "paper",
          "y": 1,
          "yanchor": "bottom",
          "yref": "paper"
         },
         {
          "font": {
           "size": 13
          },
          "showarrow": false,
          "text": "prediction",
          "textangle": -90,
          "x": -0.07,
          "xref": "paper",
          "y": 0.5,
          "yref": "paper"
         }
        ],
        "font": {
         "color": "#371ea3"
        },
        "height": 829,
        "hoverlabel": {
         "bgcolor": "rgba(0,0,0,0.8)"
        },
        "hovermode": "closest",
        "legend": {
         "font": {
          "size": 11
         },
         "itemsizing": "constant",
         "orientation": "h",
         "title": {
          "font": {
           "size": 12
          },
          "text": "label"
         },
         "tracegroupgap": 0,
         "x": 1,
         "xanchor": "right",
         "y": 1.0361881785283473,
         "yanchor": "bottom"
        },
        "margin": {
         "b": 71,
         "r": 30,
         "t": 78
        },
        "template": {
         "data": {
          "scatter": [
           {
            "type": "scatter"
           }
          ]
         }
        },
        "title": {
         "font": {
          "size": 16
         },
         "text": "Ceteris Paribus Profiles",
         "x": 0.15
        },
        "xaxis": {
         "anchor": "y",
         "automargin": true,
         "domain": [
          0,
          0.475
         ],
         "fixedrange": true,
         "gridwidth": 2,
         "showticklabels": true,
         "tickcolor": "white",
         "ticklen": 3,
         "ticks": "outside",
         "title": {
          "text": ""
         },
         "type": "linear",
         "zeroline": false
        },
        "xaxis2": {
         "anchor": "y2",
         "automargin": true,
         "domain": [
          0.525,
          1
         ],
         "fixedrange": true,
         "gridwidth": 2,
         "showticklabels": true,
         "tickcolor": "white",
         "ticklen": 3,
         "ticks": "outside",
         "title": {
          "text": ""
         },
         "type": "linear",
         "zeroline": false
        },
        "xaxis3": {
         "anchor": "y3",
         "automargin": true,
         "domain": [
          0,
          0.475
         ],
         "fixedrange": true,
         "gridwidth": 2,
         "showticklabels": true,
         "tickcolor": "white",
         "ticklen": 3,
         "ticks": "outside",
         "title": {
          "text": ""
         },
         "type": "linear",
         "zeroline": false
        },
        "xaxis4": {
         "anchor": "y4",
         "automargin": true,
         "domain": [
          0.525,
          1
         ],
         "fixedrange": true,
         "gridwidth": 2,
         "showticklabels": true,
         "tickcolor": "white",
         "ticklen": 3,
         "ticks": "outside",
         "title": {
          "text": ""
         },
         "type": "linear",
         "zeroline": false
        },
        "yaxis": {
         "anchor": "x",
         "automargin": true,
         "domain": [
          0,
          0.425
         ],
         "fixedrange": true,
         "gridwidth": 2,
         "range": [
          0.1630561388108606,
          0.4536508482941794
         ],
         "tickcolor": "white",
         "ticklen": 3,
         "ticks": "outside",
         "title": {
          "text": ""
         },
         "type": "linear",
         "zeroline": false
        },
        "yaxis2": {
         "anchor": "x2",
         "automargin": true,
         "domain": [
          0,
          0.425
         ],
         "fixedrange": true,
         "gridwidth": 2,
         "matches": "y",
         "range": [
          0.1630561388108606,
          0.4536508482941794
         ],
         "showticklabels": false,
         "tickcolor": "white",
         "ticklen": 3,
         "ticks": "outside",
         "title": {
          "text": ""
         },
         "type": "linear",
         "zeroline": false
        },
        "yaxis3": {
         "anchor": "x3",
         "automargin": true,
         "domain": [
          0.575,
          1
         ],
         "fixedrange": true,
         "gridwidth": 2,
         "matches": "y",
         "range": [
          0.1630561388108606,
          0.4536508482941794
         ],
         "tickcolor": "white",
         "ticklen": 3,
         "ticks": "outside",
         "title": {
          "text": ""
         },
         "type": "linear",
         "zeroline": false
        },
        "yaxis4": {
         "anchor": "x4",
         "automargin": true,
         "domain": [
          0.575,
          1
         ],
         "fixedrange": true,
         "gridwidth": 2,
         "matches": "y",
         "range": [
          0.1630561388108606,
          0.4536508482941794
         ],
         "showticklabels": false,
         "tickcolor": "white",
         "ticklen": 3,
         "ticks": "outside",
         "title": {
          "text": ""
         },
         "type": "linear",
         "zeroline": false
        }
       }
      },
      "text/html": [
       "<div>                            <div id=\"7d8b0507-f2c0-46bc-a8e2-89bdc90a73ee\" class=\"plotly-graph-div\" style=\"height:829px; width:100%;\"></div>            <script type=\"text/javascript\">                require([\"plotly\"], function(Plotly) {                    window.PLOTLYENV=window.PLOTLYENV || {};                                    if (document.getElementById(\"7d8b0507-f2c0-46bc-a8e2-89bdc90a73ee\")) {                    Plotly.newPlot(                        \"7d8b0507-f2c0-46bc-a8e2-89bdc90a73ee\",                        [{\"customdata\":[[\"</br>id: observation</br>prediction: 0.187</br>lead_time: 0.0</br></br>arrival_date_year: 2016.0</br>adults: 2.0</br>children: 0.0</br>babies: 0.0</br>booking_changes: 4.0</br>_original_yhat_: 0.3079200979422798</br>\"],[\"</br>id: observation</br>prediction: 0.187</br>lead_time: 7.37</br></br>arrival_date_year: 2016.0</br>adults: 2.0</br>children: 0.0</br>babies: 0.0</br>booking_changes: 4.0</br>_original_yhat_: 0.3079200979422798</br>\"],[\"</br>id: observation</br>prediction: 0.215</br>lead_time: 14.74</br></br>arrival_date_year: 2016.0</br>adults: 2.0</br>children: 0.0</br>babies: 0.0</br>booking_changes: 4.0</br>_original_yhat_: 0.3079200979422798</br>\"],[\"</br>id: observation</br>prediction: 0.242</br>lead_time: 22.11</br></br>arrival_date_year: 2016.0</br>adults: 2.0</br>children: 0.0</br>babies: 0.0</br>booking_changes: 4.0</br>_original_yhat_: 0.3079200979422798</br>\"],[\"</br>id: observation</br>prediction: 0.308</br>lead_time: 29.48</br></br>arrival_date_year: 2016.0</br>adults: 2.0</br>children: 0.0</br>babies: 0.0</br>booking_changes: 4.0</br>_original_yhat_: 0.3079200979422798</br>\"],[\"</br>id: observation</br>prediction: 0.308</br>lead_time: 36.85</br></br>arrival_date_year: 2016.0</br>adults: 2.0</br>children: 0.0</br>babies: 0.0</br>booking_changes: 4.0</br>_original_yhat_: 0.3079200979422798</br>\"],[\"</br>id: observation</br>prediction: 0.308</br>lead_time: 44.22</br></br>arrival_date_year: 2016.0</br>adults: 2.0</br>children: 0.0</br>babies: 0.0</br>booking_changes: 4.0</br>_original_yhat_: 0.3079200979422798</br>\"],[\"</br>id: observation</br>prediction: 0.308</br>lead_time: 51.59</br></br>arrival_date_year: 2016.0</br>adults: 2.0</br>children: 0.0</br>babies: 0.0</br>booking_changes: 4.0</br>_original_yhat_: 0.3079200979422798</br>\"],[\"</br>id: observation</br>prediction: 0.308</br>lead_time: 58.96</br></br>arrival_date_year: 2016.0</br>adults: 2.0</br>children: 0.0</br>babies: 0.0</br>booking_changes: 4.0</br>_original_yhat_: 0.3079200979422798</br>\"],[\"</br>id: observation</br>prediction: 0.308</br>lead_time: 66.33</br></br>arrival_date_year: 2016.0</br>adults: 2.0</br>children: 0.0</br>babies: 0.0</br>booking_changes: 4.0</br>_original_yhat_: 0.3079200979422798</br>\"],[\"</br>id: observation</br>prediction: 0.308</br>lead_time: 73.7</br></br>arrival_date_year: 2016.0</br>adults: 2.0</br>children: 0.0</br>babies: 0.0</br>booking_changes: 4.0</br>_original_yhat_: 0.3079200979422798</br>\"],[\"</br>id: observation</br>prediction: 0.308</br>lead_time: 81.07000000000001</br></br>arrival_date_year: 2016.0</br>adults: 2.0</br>children: 0.0</br>babies: 0.0</br>booking_changes: 4.0</br>_original_yhat_: 0.3079200979422798</br>\"],[\"</br>id: observation</br>prediction: 0.308</br>lead_time: 88.44</br></br>arrival_date_year: 2016.0</br>adults: 2.0</br>children: 0.0</br>babies: 0.0</br>booking_changes: 4.0</br>_original_yhat_: 0.3079200979422798</br>\"],[\"</br>id: observation</br>prediction: 0.308</br>lead_time: 95.81</br></br>arrival_date_year: 2016.0</br>adults: 2.0</br>children: 0.0</br>babies: 0.0</br>booking_changes: 4.0</br>_original_yhat_: 0.3079200979422798</br>\"],[\"</br>id: observation</br>prediction: 0.308</br>lead_time: 103.18</br></br>arrival_date_year: 2016.0</br>adults: 2.0</br>children: 0.0</br>babies: 0.0</br>booking_changes: 4.0</br>_original_yhat_: 0.3079200979422798</br>\"],[\"</br>id: observation</br>prediction: 0.308</br>lead_time: 110.55</br></br>arrival_date_year: 2016.0</br>adults: 2.0</br>children: 0.0</br>babies: 0.0</br>booking_changes: 4.0</br>_original_yhat_: 0.3079200979422798</br>\"],[\"</br>id: observation</br>prediction: 0.308</br>lead_time: 117.92</br></br>arrival_date_year: 2016.0</br>adults: 2.0</br>children: 0.0</br>babies: 0.0</br>booking_changes: 4.0</br>_original_yhat_: 0.3079200979422798</br>\"],[\"</br>id: observation</br>prediction: 0.308</br>lead_time: 125.29</br></br>arrival_date_year: 2016.0</br>adults: 2.0</br>children: 0.0</br>babies: 0.0</br>booking_changes: 4.0</br>_original_yhat_: 0.3079200979422798</br>\"],[\"</br>id: observation</br>prediction: 0.308</br>lead_time: 132.66</br></br>arrival_date_year: 2016.0</br>adults: 2.0</br>children: 0.0</br>babies: 0.0</br>booking_changes: 4.0</br>_original_yhat_: 0.3079200979422798</br>\"],[\"</br>id: observation</br>prediction: 0.308</br>lead_time: 140.03</br></br>arrival_date_year: 2016.0</br>adults: 2.0</br>children: 0.0</br>babies: 0.0</br>booking_changes: 4.0</br>_original_yhat_: 0.3079200979422798</br>\"],[\"</br>id: observation</br>prediction: 0.308</br>lead_time: 147.4</br></br>arrival_date_year: 2016.0</br>adults: 2.0</br>children: 0.0</br>babies: 0.0</br>booking_changes: 4.0</br>_original_yhat_: 0.3079200979422798</br>\"],[\"</br>id: observation</br>prediction: 0.308</br>lead_time: 154.77</br></br>arrival_date_year: 2016.0</br>adults: 2.0</br>children: 0.0</br>babies: 0.0</br>booking_changes: 4.0</br>_original_yhat_: 0.3079200979422798</br>\"],[\"</br>id: observation</br>prediction: 0.308</br>lead_time: 162.14000000000001</br></br>arrival_date_year: 2016.0</br>adults: 2.0</br>children: 0.0</br>babies: 0.0</br>booking_changes: 4.0</br>_original_yhat_: 0.3079200979422798</br>\"],[\"</br>id: observation</br>prediction: 0.308</br>lead_time: 169.51</br></br>arrival_date_year: 2016.0</br>adults: 2.0</br>children: 0.0</br>babies: 0.0</br>booking_changes: 4.0</br>_original_yhat_: 0.3079200979422798</br>\"],[\"</br>id: observation</br>prediction: 0.308</br>lead_time: 176.88</br></br>arrival_date_year: 2016.0</br>adults: 2.0</br>children: 0.0</br>babies: 0.0</br>booking_changes: 4.0</br>_original_yhat_: 0.3079200979422798</br>\"],[\"</br>id: observation</br>prediction: 0.308</br>lead_time: 184.25</br></br>arrival_date_year: 2016.0</br>adults: 2.0</br>children: 0.0</br>babies: 0.0</br>booking_changes: 4.0</br>_original_yhat_: 0.3079200979422798</br>\"],[\"</br>id: observation</br>prediction: 0.308</br>lead_time: 191.62</br></br>arrival_date_year: 2016.0</br>adults: 2.0</br>children: 0.0</br>babies: 0.0</br>booking_changes: 4.0</br>_original_yhat_: 0.3079200979422798</br>\"],[\"</br>id: observation</br>prediction: 0.308</br>lead_time: 198.99</br></br>arrival_date_year: 2016.0</br>adults: 2.0</br>children: 0.0</br>babies: 0.0</br>booking_changes: 4.0</br>_original_yhat_: 0.3079200979422798</br>\"],[\"</br>id: observation</br>prediction: 0.308</br>lead_time: 203.0</br></br>arrival_date_year: 2016.0</br>adults: 2.0</br>children: 0.0</br>babies: 0.0</br>booking_changes: 4.0</br>_original_yhat_: 0.3079200979422798</br>\"],[\"</br>id: observation</br>prediction: 0.308</br>lead_time: 206.36</br></br>arrival_date_year: 2016.0</br>adults: 2.0</br>children: 0.0</br>babies: 0.0</br>booking_changes: 4.0</br>_original_yhat_: 0.3079200979422798</br>\"],[\"</br>id: observation</br>prediction: 0.308</br>lead_time: 213.73</br></br>arrival_date_year: 2016.0</br>adults: 2.0</br>children: 0.0</br>babies: 0.0</br>booking_changes: 4.0</br>_original_yhat_: 0.3079200979422798</br>\"],[\"</br>id: observation</br>prediction: 0.308</br>lead_time: 221.1</br></br>arrival_date_year: 2016.0</br>adults: 2.0</br>children: 0.0</br>babies: 0.0</br>booking_changes: 4.0</br>_original_yhat_: 0.3079200979422798</br>\"],[\"</br>id: observation</br>prediction: 0.308</br>lead_time: 228.47</br></br>arrival_date_year: 2016.0</br>adults: 2.0</br>children: 0.0</br>babies: 0.0</br>booking_changes: 4.0</br>_original_yhat_: 0.3079200979422798</br>\"],[\"</br>id: observation</br>prediction: 0.308</br>lead_time: 235.84</br></br>arrival_date_year: 2016.0</br>adults: 2.0</br>children: 0.0</br>babies: 0.0</br>booking_changes: 4.0</br>_original_yhat_: 0.3079200979422798</br>\"],[\"</br>id: observation</br>prediction: 0.308</br>lead_time: 243.21</br></br>arrival_date_year: 2016.0</br>adults: 2.0</br>children: 0.0</br>babies: 0.0</br>booking_changes: 4.0</br>_original_yhat_: 0.3079200979422798</br>\"],[\"</br>id: observation</br>prediction: 0.308</br>lead_time: 250.58</br></br>arrival_date_year: 2016.0</br>adults: 2.0</br>children: 0.0</br>babies: 0.0</br>booking_changes: 4.0</br>_original_yhat_: 0.3079200979422798</br>\"],[\"</br>id: observation</br>prediction: 0.321</br>lead_time: 257.95</br></br>arrival_date_year: 2016.0</br>adults: 2.0</br>children: 0.0</br>babies: 0.0</br>booking_changes: 4.0</br>_original_yhat_: 0.3079200979422798</br>\"],[\"</br>id: observation</br>prediction: 0.321</br>lead_time: 265.32</br></br>arrival_date_year: 2016.0</br>adults: 2.0</br>children: 0.0</br>babies: 0.0</br>booking_changes: 4.0</br>_original_yhat_: 0.3079200979422798</br>\"],[\"</br>id: observation</br>prediction: 0.321</br>lead_time: 272.69</br></br>arrival_date_year: 2016.0</br>adults: 2.0</br>children: 0.0</br>babies: 0.0</br>booking_changes: 4.0</br>_original_yhat_: 0.3079200979422798</br>\"],[\"</br>id: observation</br>prediction: 0.321</br>lead_time: 280.06</br></br>arrival_date_year: 2016.0</br>adults: 2.0</br>children: 0.0</br>babies: 0.0</br>booking_changes: 4.0</br>_original_yhat_: 0.3079200979422798</br>\"],[\"</br>id: observation</br>prediction: 0.321</br>lead_time: 287.43</br></br>arrival_date_year: 2016.0</br>adults: 2.0</br>children: 0.0</br>babies: 0.0</br>booking_changes: 4.0</br>_original_yhat_: 0.3079200979422798</br>\"],[\"</br>id: observation</br>prediction: 0.321</br>lead_time: 294.8</br></br>arrival_date_year: 2016.0</br>adults: 2.0</br>children: 0.0</br>babies: 0.0</br>booking_changes: 4.0</br>_original_yhat_: 0.3079200979422798</br>\"],[\"</br>id: observation</br>prediction: 0.321</br>lead_time: 302.17</br></br>arrival_date_year: 2016.0</br>adults: 2.0</br>children: 0.0</br>babies: 0.0</br>booking_changes: 4.0</br>_original_yhat_: 0.3079200979422798</br>\"],[\"</br>id: observation</br>prediction: 0.321</br>lead_time: 309.54</br></br>arrival_date_year: 2016.0</br>adults: 2.0</br>children: 0.0</br>babies: 0.0</br>booking_changes: 4.0</br>_original_yhat_: 0.3079200979422798</br>\"],[\"</br>id: observation</br>prediction: 0.321</br>lead_time: 316.91</br></br>arrival_date_year: 2016.0</br>adults: 2.0</br>children: 0.0</br>babies: 0.0</br>booking_changes: 4.0</br>_original_yhat_: 0.3079200979422798</br>\"],[\"</br>id: observation</br>prediction: 0.321</br>lead_time: 324.28000000000003</br></br>arrival_date_year: 2016.0</br>adults: 2.0</br>children: 0.0</br>babies: 0.0</br>booking_changes: 4.0</br>_original_yhat_: 0.3079200979422798</br>\"],[\"</br>id: observation</br>prediction: 0.321</br>lead_time: 331.65</br></br>arrival_date_year: 2016.0</br>adults: 2.0</br>children: 0.0</br>babies: 0.0</br>booking_changes: 4.0</br>_original_yhat_: 0.3079200979422798</br>\"],[\"</br>id: observation</br>prediction: 0.321</br>lead_time: 339.02</br></br>arrival_date_year: 2016.0</br>adults: 2.0</br>children: 0.0</br>babies: 0.0</br>booking_changes: 4.0</br>_original_yhat_: 0.3079200979422798</br>\"],[\"</br>id: observation</br>prediction: 0.321</br>lead_time: 346.39</br></br>arrival_date_year: 2016.0</br>adults: 2.0</br>children: 0.0</br>babies: 0.0</br>booking_changes: 4.0</br>_original_yhat_: 0.3079200979422798</br>\"],[\"</br>id: observation</br>prediction: 0.321</br>lead_time: 353.76</br></br>arrival_date_year: 2016.0</br>adults: 2.0</br>children: 0.0</br>babies: 0.0</br>booking_changes: 4.0</br>_original_yhat_: 0.3079200979422798</br>\"],[\"</br>id: observation</br>prediction: 0.321</br>lead_time: 361.13</br></br>arrival_date_year: 2016.0</br>adults: 2.0</br>children: 0.0</br>babies: 0.0</br>booking_changes: 4.0</br>_original_yhat_: 0.3079200979422798</br>\"],[\"</br>id: observation</br>prediction: 0.321</br>lead_time: 368.5</br></br>arrival_date_year: 2016.0</br>adults: 2.0</br>children: 0.0</br>babies: 0.0</br>booking_changes: 4.0</br>_original_yhat_: 0.3079200979422798</br>\"],[\"</br>id: observation</br>prediction: 0.321</br>lead_time: 375.87</br></br>arrival_date_year: 2016.0</br>adults: 2.0</br>children: 0.0</br>babies: 0.0</br>booking_changes: 4.0</br>_original_yhat_: 0.3079200979422798</br>\"],[\"</br>id: observation</br>prediction: 0.321</br>lead_time: 383.24</br></br>arrival_date_year: 2016.0</br>adults: 2.0</br>children: 0.0</br>babies: 0.0</br>booking_changes: 4.0</br>_original_yhat_: 0.3079200979422798</br>\"],[\"</br>id: observation</br>prediction: 0.321</br>lead_time: 390.61</br></br>arrival_date_year: 2016.0</br>adults: 2.0</br>children: 0.0</br>babies: 0.0</br>booking_changes: 4.0</br>_original_yhat_: 0.3079200979422798</br>\"],[\"</br>id: observation</br>prediction: 0.321</br>lead_time: 397.98</br></br>arrival_date_year: 2016.0</br>adults: 2.0</br>children: 0.0</br>babies: 0.0</br>booking_changes: 4.0</br>_original_yhat_: 0.3079200979422798</br>\"],[\"</br>id: observation</br>prediction: 0.321</br>lead_time: 405.35</br></br>arrival_date_year: 2016.0</br>adults: 2.0</br>children: 0.0</br>babies: 0.0</br>booking_changes: 4.0</br>_original_yhat_: 0.3079200979422798</br>\"],[\"</br>id: observation</br>prediction: 0.321</br>lead_time: 412.72</br></br>arrival_date_year: 2016.0</br>adults: 2.0</br>children: 0.0</br>babies: 0.0</br>booking_changes: 4.0</br>_original_yhat_: 0.3079200979422798</br>\"],[\"</br>id: observation</br>prediction: 0.321</br>lead_time: 420.09000000000003</br></br>arrival_date_year: 2016.0</br>adults: 2.0</br>children: 0.0</br>babies: 0.0</br>booking_changes: 4.0</br>_original_yhat_: 0.3079200979422798</br>\"],[\"</br>id: observation</br>prediction: 0.321</br>lead_time: 427.46</br></br>arrival_date_year: 2016.0</br>adults: 2.0</br>children: 0.0</br>babies: 0.0</br>booking_changes: 4.0</br>_original_yhat_: 0.3079200979422798</br>\"],[\"</br>id: observation</br>prediction: 0.321</br>lead_time: 434.83</br></br>arrival_date_year: 2016.0</br>adults: 2.0</br>children: 0.0</br>babies: 0.0</br>booking_changes: 4.0</br>_original_yhat_: 0.3079200979422798</br>\"],[\"</br>id: observation</br>prediction: 0.321</br>lead_time: 442.2</br></br>arrival_date_year: 2016.0</br>adults: 2.0</br>children: 0.0</br>babies: 0.0</br>booking_changes: 4.0</br>_original_yhat_: 0.3079200979422798</br>\"],[\"</br>id: observation</br>prediction: 0.321</br>lead_time: 449.57</br></br>arrival_date_year: 2016.0</br>adults: 2.0</br>children: 0.0</br>babies: 0.0</br>booking_changes: 4.0</br>_original_yhat_: 0.3079200979422798</br>\"],[\"</br>id: observation</br>prediction: 0.321</br>lead_time: 456.94</br></br>arrival_date_year: 2016.0</br>adults: 2.0</br>children: 0.0</br>babies: 0.0</br>booking_changes: 4.0</br>_original_yhat_: 0.3079200979422798</br>\"],[\"</br>id: observation</br>prediction: 0.321</br>lead_time: 464.31</br></br>arrival_date_year: 2016.0</br>adults: 2.0</br>children: 0.0</br>babies: 0.0</br>booking_changes: 4.0</br>_original_yhat_: 0.3079200979422798</br>\"],[\"</br>id: observation</br>prediction: 0.321</br>lead_time: 471.68</br></br>arrival_date_year: 2016.0</br>adults: 2.0</br>children: 0.0</br>babies: 0.0</br>booking_changes: 4.0</br>_original_yhat_: 0.3079200979422798</br>\"],[\"</br>id: observation</br>prediction: 0.321</br>lead_time: 479.05</br></br>arrival_date_year: 2016.0</br>adults: 2.0</br>children: 0.0</br>babies: 0.0</br>booking_changes: 4.0</br>_original_yhat_: 0.3079200979422798</br>\"],[\"</br>id: observation</br>prediction: 0.321</br>lead_time: 486.42</br></br>arrival_date_year: 2016.0</br>adults: 2.0</br>children: 0.0</br>babies: 0.0</br>booking_changes: 4.0</br>_original_yhat_: 0.3079200979422798</br>\"],[\"</br>id: observation</br>prediction: 0.321</br>lead_time: 493.79</br></br>arrival_date_year: 2016.0</br>adults: 2.0</br>children: 0.0</br>babies: 0.0</br>booking_changes: 4.0</br>_original_yhat_: 0.3079200979422798</br>\"],[\"</br>id: observation</br>prediction: 0.321</br>lead_time: 501.16</br></br>arrival_date_year: 2016.0</br>adults: 2.0</br>children: 0.0</br>babies: 0.0</br>booking_changes: 4.0</br>_original_yhat_: 0.3079200979422798</br>\"],[\"</br>id: observation</br>prediction: 0.321</br>lead_time: 508.53000000000003</br></br>arrival_date_year: 2016.0</br>adults: 2.0</br>children: 0.0</br>babies: 0.0</br>booking_changes: 4.0</br>_original_yhat_: 0.3079200979422798</br>\"],[\"</br>id: observation</br>prediction: 0.321</br>lead_time: 515.9</br></br>arrival_date_year: 2016.0</br>adults: 2.0</br>children: 0.0</br>babies: 0.0</br>booking_changes: 4.0</br>_original_yhat_: 0.3079200979422798</br>\"],[\"</br>id: observation</br>prediction: 0.321</br>lead_time: 523.27</br></br>arrival_date_year: 2016.0</br>adults: 2.0</br>children: 0.0</br>babies: 0.0</br>booking_changes: 4.0</br>_original_yhat_: 0.3079200979422798</br>\"],[\"</br>id: observation</br>prediction: 0.321</br>lead_time: 530.64</br></br>arrival_date_year: 2016.0</br>adults: 2.0</br>children: 0.0</br>babies: 0.0</br>booking_changes: 4.0</br>_original_yhat_: 0.3079200979422798</br>\"],[\"</br>id: observation</br>prediction: 0.321</br>lead_time: 538.01</br></br>arrival_date_year: 2016.0</br>adults: 2.0</br>children: 0.0</br>babies: 0.0</br>booking_changes: 4.0</br>_original_yhat_: 0.3079200979422798</br>\"],[\"</br>id: observation</br>prediction: 0.321</br>lead_time: 545.38</br></br>arrival_date_year: 2016.0</br>adults: 2.0</br>children: 0.0</br>babies: 0.0</br>booking_changes: 4.0</br>_original_yhat_: 0.3079200979422798</br>\"],[\"</br>id: observation</br>prediction: 0.321</br>lead_time: 552.75</br></br>arrival_date_year: 2016.0</br>adults: 2.0</br>children: 0.0</br>babies: 0.0</br>booking_changes: 4.0</br>_original_yhat_: 0.3079200979422798</br>\"],[\"</br>id: observation</br>prediction: 0.321</br>lead_time: 560.12</br></br>arrival_date_year: 2016.0</br>adults: 2.0</br>children: 0.0</br>babies: 0.0</br>booking_changes: 4.0</br>_original_yhat_: 0.3079200979422798</br>\"],[\"</br>id: observation</br>prediction: 0.321</br>lead_time: 567.49</br></br>arrival_date_year: 2016.0</br>adults: 2.0</br>children: 0.0</br>babies: 0.0</br>booking_changes: 4.0</br>_original_yhat_: 0.3079200979422798</br>\"],[\"</br>id: observation</br>prediction: 0.321</br>lead_time: 574.86</br></br>arrival_date_year: 2016.0</br>adults: 2.0</br>children: 0.0</br>babies: 0.0</br>booking_changes: 4.0</br>_original_yhat_: 0.3079200979422798</br>\"],[\"</br>id: observation</br>prediction: 0.321</br>lead_time: 582.23</br></br>arrival_date_year: 2016.0</br>adults: 2.0</br>children: 0.0</br>babies: 0.0</br>booking_changes: 4.0</br>_original_yhat_: 0.3079200979422798</br>\"],[\"</br>id: observation</br>prediction: 0.321</br>lead_time: 589.6</br></br>arrival_date_year: 2016.0</br>adults: 2.0</br>children: 0.0</br>babies: 0.0</br>booking_changes: 4.0</br>_original_yhat_: 0.3079200979422798</br>\"],[\"</br>id: observation</br>prediction: 0.321</br>lead_time: 596.97</br></br>arrival_date_year: 2016.0</br>adults: 2.0</br>children: 0.0</br>babies: 0.0</br>booking_changes: 4.0</br>_original_yhat_: 0.3079200979422798</br>\"],[\"</br>id: observation</br>prediction: 0.321</br>lead_time: 604.34</br></br>arrival_date_year: 2016.0</br>adults: 2.0</br>children: 0.0</br>babies: 0.0</br>booking_changes: 4.0</br>_original_yhat_: 0.3079200979422798</br>\"],[\"</br>id: observation</br>prediction: 0.321</br>lead_time: 611.71</br></br>arrival_date_year: 2016.0</br>adults: 2.0</br>children: 0.0</br>babies: 0.0</br>booking_changes: 4.0</br>_original_yhat_: 0.3079200979422798</br>\"],[\"</br>id: observation</br>prediction: 0.321</br>lead_time: 619.08</br></br>arrival_date_year: 2016.0</br>adults: 2.0</br>children: 0.0</br>babies: 0.0</br>booking_changes: 4.0</br>_original_yhat_: 0.3079200979422798</br>\"],[\"</br>id: observation</br>prediction: 0.321</br>lead_time: 626.45</br></br>arrival_date_year: 2016.0</br>adults: 2.0</br>children: 0.0</br>babies: 0.0</br>booking_changes: 4.0</br>_original_yhat_: 0.3079200979422798</br>\"],[\"</br>id: observation</br>prediction: 0.321</br>lead_time: 633.82</br></br>arrival_date_year: 2016.0</br>adults: 2.0</br>children: 0.0</br>babies: 0.0</br>booking_changes: 4.0</br>_original_yhat_: 0.3079200979422798</br>\"],[\"</br>id: observation</br>prediction: 0.321</br>lead_time: 641.19</br></br>arrival_date_year: 2016.0</br>adults: 2.0</br>children: 0.0</br>babies: 0.0</br>booking_changes: 4.0</br>_original_yhat_: 0.3079200979422798</br>\"],[\"</br>id: observation</br>prediction: 0.321</br>lead_time: 648.5600000000001</br></br>arrival_date_year: 2016.0</br>adults: 2.0</br>children: 0.0</br>babies: 0.0</br>booking_changes: 4.0</br>_original_yhat_: 0.3079200979422798</br>\"],[\"</br>id: observation</br>prediction: 0.321</br>lead_time: 655.9300000000001</br></br>arrival_date_year: 2016.0</br>adults: 2.0</br>children: 0.0</br>babies: 0.0</br>booking_changes: 4.0</br>_original_yhat_: 0.3079200979422798</br>\"],[\"</br>id: observation</br>prediction: 0.321</br>lead_time: 663.3</br></br>arrival_date_year: 2016.0</br>adults: 2.0</br>children: 0.0</br>babies: 0.0</br>booking_changes: 4.0</br>_original_yhat_: 0.3079200979422798</br>\"],[\"</br>id: observation</br>prediction: 0.321</br>lead_time: 670.67</br></br>arrival_date_year: 2016.0</br>adults: 2.0</br>children: 0.0</br>babies: 0.0</br>booking_changes: 4.0</br>_original_yhat_: 0.3079200979422798</br>\"],[\"</br>id: observation</br>prediction: 0.321</br>lead_time: 678.04</br></br>arrival_date_year: 2016.0</br>adults: 2.0</br>children: 0.0</br>babies: 0.0</br>booking_changes: 4.0</br>_original_yhat_: 0.3079200979422798</br>\"],[\"</br>id: observation</br>prediction: 0.321</br>lead_time: 685.41</br></br>arrival_date_year: 2016.0</br>adults: 2.0</br>children: 0.0</br>babies: 0.0</br>booking_changes: 4.0</br>_original_yhat_: 0.3079200979422798</br>\"],[\"</br>id: observation</br>prediction: 0.321</br>lead_time: 692.78</br></br>arrival_date_year: 2016.0</br>adults: 2.0</br>children: 0.0</br>babies: 0.0</br>booking_changes: 4.0</br>_original_yhat_: 0.3079200979422798</br>\"],[\"</br>id: observation</br>prediction: 0.321</br>lead_time: 700.15</br></br>arrival_date_year: 2016.0</br>adults: 2.0</br>children: 0.0</br>babies: 0.0</br>booking_changes: 4.0</br>_original_yhat_: 0.3079200979422798</br>\"],[\"</br>id: observation</br>prediction: 0.321</br>lead_time: 707.52</br></br>arrival_date_year: 2016.0</br>adults: 2.0</br>children: 0.0</br>babies: 0.0</br>booking_changes: 4.0</br>_original_yhat_: 0.3079200979422798</br>\"],[\"</br>id: observation</br>prediction: 0.321</br>lead_time: 714.89</br></br>arrival_date_year: 2016.0</br>adults: 2.0</br>children: 0.0</br>babies: 0.0</br>booking_changes: 4.0</br>_original_yhat_: 0.3079200979422798</br>\"],[\"</br>id: observation</br>prediction: 0.321</br>lead_time: 722.26</br></br>arrival_date_year: 2016.0</br>adults: 2.0</br>children: 0.0</br>babies: 0.0</br>booking_changes: 4.0</br>_original_yhat_: 0.3079200979422798</br>\"],[\"</br>id: observation</br>prediction: 0.321</br>lead_time: 729.63</br></br>arrival_date_year: 2016.0</br>adults: 2.0</br>children: 0.0</br>babies: 0.0</br>booking_changes: 4.0</br>_original_yhat_: 0.3079200979422798</br>\"],[\"</br>id: observation</br>prediction: 0.321</br>lead_time: 737.0</br></br>arrival_date_year: 2016.0</br>adults: 2.0</br>children: 0.0</br>babies: 0.0</br>booking_changes: 4.0</br>_original_yhat_: 0.3079200979422798</br>\"]],\"hovertemplate\":\"%{customdata[0]}<extra></extra>\",\"legendgroup\":\"random_forest\",\"line\":{\"color\":\"#46bac2\",\"dash\":\"solid\",\"width\":2},\"marker\":{\"symbol\":\"circle\"},\"mode\":\"lines\",\"name\":\"random_forest\",\"orientation\":\"v\",\"showlegend\":true,\"x\":[0.0,7.37,14.74,22.11,29.48,36.85,44.22,51.59,58.96,66.33,73.7,81.07000000000001,88.44,95.81,103.18,110.55,117.92,125.29,132.66,140.03,147.4,154.77,162.14000000000001,169.51,176.88,184.25,191.62,198.99,203.0,206.36,213.73,221.1,228.47,235.84,243.21,250.58,257.95,265.32,272.69,280.06,287.43,294.8,302.17,309.54,316.91,324.28000000000003,331.65,339.02,346.39,353.76,361.13,368.5,375.87,383.24,390.61,397.98,405.35,412.72,420.09000000000003,427.46,434.83,442.2,449.57,456.94,464.31,471.68,479.05,486.42,493.79,501.16,508.53000000000003,515.9,523.27,530.64,538.01,545.38,552.75,560.12,567.49,574.86,582.23,589.6,596.97,604.34,611.71,619.08,626.45,633.82,641.19,648.5600000000001,655.9300000000001,663.3,670.67,678.04,685.41,692.78,700.15,707.52,714.89,722.26,729.63,737.0],\"xaxis\":\"x3\",\"y\":[0.18727236460113716,0.18727236460113716,0.21549213407747508,0.2416304201218299,0.3079200979422798,0.3079200979422798,0.3079200979422798,0.3079200979422798,0.3079200979422798,0.3079200979422798,0.3079200979422798,0.3079200979422798,0.3079200979422798,0.3079200979422798,0.3079200979422798,0.3079200979422798,0.3079200979422798,0.3079200979422798,0.3079200979422798,0.3079200979422798,0.3079200979422798,0.3079200979422798,0.3079200979422798,0.3079200979422798,0.3079200979422798,0.3079200979422798,0.3079200979422798,0.3079200979422798,0.3079200979422798,0.3079200979422798,0.3079200979422798,0.3079200979422798,0.3079200979422798,0.3079200979422798,0.3079200979422798,0.3079200979422798,0.3208765601120674,0.3208765601120674,0.3208765601120674,0.3208765601120674,0.3208765601120674,0.3208765601120674,0.3208765601120674,0.3208765601120674,0.3208765601120674,0.3208765601120674,0.3208765601120674,0.3208765601120674,0.3208765601120674,0.3208765601120674,0.3208765601120674,0.3208765601120674,0.3208765601120674,0.3208765601120674,0.3208765601120674,0.3208765601120674,0.3208765601120674,0.3208765601120674,0.3208765601120674,0.3208765601120674,0.3208765601120674,0.3208765601120674,0.3208765601120674,0.3208765601120674,0.3208765601120674,0.3208765601120674,0.3208765601120674,0.3208765601120674,0.3208765601120674,0.3208765601120674,0.3208765601120674,0.3208765601120674,0.3208765601120674,0.3208765601120674,0.3208765601120674,0.3208765601120674,0.3208765601120674,0.3208765601120674,0.3208765601120674,0.3208765601120674,0.3208765601120674,0.3208765601120674,0.3208765601120674,0.3208765601120674,0.3208765601120674,0.3208765601120674,0.3208765601120674,0.3208765601120674,0.3208765601120674,0.3208765601120674,0.3208765601120674,0.3208765601120674,0.3208765601120674,0.3208765601120674,0.3208765601120674,0.3208765601120674,0.3208765601120674,0.3208765601120674,0.3208765601120674,0.3208765601120674,0.3208765601120674,0.3208765601120674],\"yaxis\":\"y3\",\"type\":\"scatter\",\"opacity\":1},{\"customdata\":[[\"</br>id: observation</br>prediction: 0.308</br>children: 0.0</br></br>lead_time: 203.0</br>arrival_date_year: 2016.0</br>adults: 2.0</br>babies: 0.0</br>booking_changes: 4.0</br>_original_yhat_: 0.3079200979422798</br>\"],[\"</br>id: observation</br>prediction: 0.308</br>children: 0.1</br></br>lead_time: 203.0</br>arrival_date_year: 2016.0</br>adults: 2.0</br>babies: 0.0</br>booking_changes: 4.0</br>_original_yhat_: 0.3079200979422798</br>\"],[\"</br>id: observation</br>prediction: 0.308</br>children: 0.2</br></br>lead_time: 203.0</br>arrival_date_year: 2016.0</br>adults: 2.0</br>babies: 0.0</br>booking_changes: 4.0</br>_original_yhat_: 0.3079200979422798</br>\"],[\"</br>id: observation</br>prediction: 0.308</br>children: 0.30000000000000004</br></br>lead_time: 203.0</br>arrival_date_year: 2016.0</br>adults: 2.0</br>babies: 0.0</br>booking_changes: 4.0</br>_original_yhat_: 0.3079200979422798</br>\"],[\"</br>id: observation</br>prediction: 0.308</br>children: 0.4</br></br>lead_time: 203.0</br>arrival_date_year: 2016.0</br>adults: 2.0</br>babies: 0.0</br>booking_changes: 4.0</br>_original_yhat_: 0.3079200979422798</br>\"],[\"</br>id: observation</br>prediction: 0.308</br>children: 0.5</br></br>lead_time: 203.0</br>arrival_date_year: 2016.0</br>adults: 2.0</br>babies: 0.0</br>booking_changes: 4.0</br>_original_yhat_: 0.3079200979422798</br>\"],[\"</br>id: observation</br>prediction: 0.308</br>children: 0.6000000000000001</br></br>lead_time: 203.0</br>arrival_date_year: 2016.0</br>adults: 2.0</br>babies: 0.0</br>booking_changes: 4.0</br>_original_yhat_: 0.3079200979422798</br>\"],[\"</br>id: observation</br>prediction: 0.308</br>children: 0.7000000000000001</br></br>lead_time: 203.0</br>arrival_date_year: 2016.0</br>adults: 2.0</br>babies: 0.0</br>booking_changes: 4.0</br>_original_yhat_: 0.3079200979422798</br>\"],[\"</br>id: observation</br>prediction: 0.308</br>children: 0.8</br></br>lead_time: 203.0</br>arrival_date_year: 2016.0</br>adults: 2.0</br>babies: 0.0</br>booking_changes: 4.0</br>_original_yhat_: 0.3079200979422798</br>\"],[\"</br>id: observation</br>prediction: 0.308</br>children: 0.9</br></br>lead_time: 203.0</br>arrival_date_year: 2016.0</br>adults: 2.0</br>babies: 0.0</br>booking_changes: 4.0</br>_original_yhat_: 0.3079200979422798</br>\"],[\"</br>id: observation</br>prediction: 0.308</br>children: 1.0</br></br>lead_time: 203.0</br>arrival_date_year: 2016.0</br>adults: 2.0</br>babies: 0.0</br>booking_changes: 4.0</br>_original_yhat_: 0.3079200979422798</br>\"],[\"</br>id: observation</br>prediction: 0.308</br>children: 1.1</br></br>lead_time: 203.0</br>arrival_date_year: 2016.0</br>adults: 2.0</br>babies: 0.0</br>booking_changes: 4.0</br>_original_yhat_: 0.3079200979422798</br>\"],[\"</br>id: observation</br>prediction: 0.308</br>children: 1.2000000000000002</br></br>lead_time: 203.0</br>arrival_date_year: 2016.0</br>adults: 2.0</br>babies: 0.0</br>booking_changes: 4.0</br>_original_yhat_: 0.3079200979422798</br>\"],[\"</br>id: observation</br>prediction: 0.308</br>children: 1.3</br></br>lead_time: 203.0</br>arrival_date_year: 2016.0</br>adults: 2.0</br>babies: 0.0</br>booking_changes: 4.0</br>_original_yhat_: 0.3079200979422798</br>\"],[\"</br>id: observation</br>prediction: 0.308</br>children: 1.4000000000000001</br></br>lead_time: 203.0</br>arrival_date_year: 2016.0</br>adults: 2.0</br>babies: 0.0</br>booking_changes: 4.0</br>_original_yhat_: 0.3079200979422798</br>\"],[\"</br>id: observation</br>prediction: 0.308</br>children: 1.5</br></br>lead_time: 203.0</br>arrival_date_year: 2016.0</br>adults: 2.0</br>babies: 0.0</br>booking_changes: 4.0</br>_original_yhat_: 0.3079200979422798</br>\"],[\"</br>id: observation</br>prediction: 0.313</br>children: 1.6</br></br>lead_time: 203.0</br>arrival_date_year: 2016.0</br>adults: 2.0</br>babies: 0.0</br>booking_changes: 4.0</br>_original_yhat_: 0.3079200979422798</br>\"],[\"</br>id: observation</br>prediction: 0.313</br>children: 1.7000000000000002</br></br>lead_time: 203.0</br>arrival_date_year: 2016.0</br>adults: 2.0</br>babies: 0.0</br>booking_changes: 4.0</br>_original_yhat_: 0.3079200979422798</br>\"],[\"</br>id: observation</br>prediction: 0.313</br>children: 1.8</br></br>lead_time: 203.0</br>arrival_date_year: 2016.0</br>adults: 2.0</br>babies: 0.0</br>booking_changes: 4.0</br>_original_yhat_: 0.3079200979422798</br>\"],[\"</br>id: observation</br>prediction: 0.313</br>children: 1.9000000000000001</br></br>lead_time: 203.0</br>arrival_date_year: 2016.0</br>adults: 2.0</br>babies: 0.0</br>booking_changes: 4.0</br>_original_yhat_: 0.3079200979422798</br>\"],[\"</br>id: observation</br>prediction: 0.313</br>children: 2.0</br></br>lead_time: 203.0</br>arrival_date_year: 2016.0</br>adults: 2.0</br>babies: 0.0</br>booking_changes: 4.0</br>_original_yhat_: 0.3079200979422798</br>\"],[\"</br>id: observation</br>prediction: 0.313</br>children: 2.1</br></br>lead_time: 203.0</br>arrival_date_year: 2016.0</br>adults: 2.0</br>babies: 0.0</br>booking_changes: 4.0</br>_original_yhat_: 0.3079200979422798</br>\"],[\"</br>id: observation</br>prediction: 0.313</br>children: 2.2</br></br>lead_time: 203.0</br>arrival_date_year: 2016.0</br>adults: 2.0</br>babies: 0.0</br>booking_changes: 4.0</br>_original_yhat_: 0.3079200979422798</br>\"],[\"</br>id: observation</br>prediction: 0.313</br>children: 2.3000000000000003</br></br>lead_time: 203.0</br>arrival_date_year: 2016.0</br>adults: 2.0</br>babies: 0.0</br>booking_changes: 4.0</br>_original_yhat_: 0.3079200979422798</br>\"],[\"</br>id: observation</br>prediction: 0.313</br>children: 2.4000000000000004</br></br>lead_time: 203.0</br>arrival_date_year: 2016.0</br>adults: 2.0</br>babies: 0.0</br>booking_changes: 4.0</br>_original_yhat_: 0.3079200979422798</br>\"],[\"</br>id: observation</br>prediction: 0.313</br>children: 2.5</br></br>lead_time: 203.0</br>arrival_date_year: 2016.0</br>adults: 2.0</br>babies: 0.0</br>booking_changes: 4.0</br>_original_yhat_: 0.3079200979422798</br>\"],[\"</br>id: observation</br>prediction: 0.313</br>children: 2.6</br></br>lead_time: 203.0</br>arrival_date_year: 2016.0</br>adults: 2.0</br>babies: 0.0</br>booking_changes: 4.0</br>_original_yhat_: 0.3079200979422798</br>\"],[\"</br>id: observation</br>prediction: 0.313</br>children: 2.7</br></br>lead_time: 203.0</br>arrival_date_year: 2016.0</br>adults: 2.0</br>babies: 0.0</br>booking_changes: 4.0</br>_original_yhat_: 0.3079200979422798</br>\"],[\"</br>id: observation</br>prediction: 0.313</br>children: 2.8000000000000003</br></br>lead_time: 203.0</br>arrival_date_year: 2016.0</br>adults: 2.0</br>babies: 0.0</br>booking_changes: 4.0</br>_original_yhat_: 0.3079200979422798</br>\"],[\"</br>id: observation</br>prediction: 0.313</br>children: 2.9000000000000004</br></br>lead_time: 203.0</br>arrival_date_year: 2016.0</br>adults: 2.0</br>babies: 0.0</br>booking_changes: 4.0</br>_original_yhat_: 0.3079200979422798</br>\"],[\"</br>id: observation</br>prediction: 0.313</br>children: 3.0</br></br>lead_time: 203.0</br>arrival_date_year: 2016.0</br>adults: 2.0</br>babies: 0.0</br>booking_changes: 4.0</br>_original_yhat_: 0.3079200979422798</br>\"],[\"</br>id: observation</br>prediction: 0.313</br>children: 3.1</br></br>lead_time: 203.0</br>arrival_date_year: 2016.0</br>adults: 2.0</br>babies: 0.0</br>booking_changes: 4.0</br>_original_yhat_: 0.3079200979422798</br>\"],[\"</br>id: observation</br>prediction: 0.313</br>children: 3.2</br></br>lead_time: 203.0</br>arrival_date_year: 2016.0</br>adults: 2.0</br>babies: 0.0</br>booking_changes: 4.0</br>_original_yhat_: 0.3079200979422798</br>\"],[\"</br>id: observation</br>prediction: 0.313</br>children: 3.3000000000000003</br></br>lead_time: 203.0</br>arrival_date_year: 2016.0</br>adults: 2.0</br>babies: 0.0</br>booking_changes: 4.0</br>_original_yhat_: 0.3079200979422798</br>\"],[\"</br>id: observation</br>prediction: 0.313</br>children: 3.4000000000000004</br></br>lead_time: 203.0</br>arrival_date_year: 2016.0</br>adults: 2.0</br>babies: 0.0</br>booking_changes: 4.0</br>_original_yhat_: 0.3079200979422798</br>\"],[\"</br>id: observation</br>prediction: 0.313</br>children: 3.5</br></br>lead_time: 203.0</br>arrival_date_year: 2016.0</br>adults: 2.0</br>babies: 0.0</br>booking_changes: 4.0</br>_original_yhat_: 0.3079200979422798</br>\"],[\"</br>id: observation</br>prediction: 0.313</br>children: 3.6</br></br>lead_time: 203.0</br>arrival_date_year: 2016.0</br>adults: 2.0</br>babies: 0.0</br>booking_changes: 4.0</br>_original_yhat_: 0.3079200979422798</br>\"],[\"</br>id: observation</br>prediction: 0.313</br>children: 3.7</br></br>lead_time: 203.0</br>arrival_date_year: 2016.0</br>adults: 2.0</br>babies: 0.0</br>booking_changes: 4.0</br>_original_yhat_: 0.3079200979422798</br>\"],[\"</br>id: observation</br>prediction: 0.313</br>children: 3.8000000000000003</br></br>lead_time: 203.0</br>arrival_date_year: 2016.0</br>adults: 2.0</br>babies: 0.0</br>booking_changes: 4.0</br>_original_yhat_: 0.3079200979422798</br>\"],[\"</br>id: observation</br>prediction: 0.313</br>children: 3.9000000000000004</br></br>lead_time: 203.0</br>arrival_date_year: 2016.0</br>adults: 2.0</br>babies: 0.0</br>booking_changes: 4.0</br>_original_yhat_: 0.3079200979422798</br>\"],[\"</br>id: observation</br>prediction: 0.313</br>children: 4.0</br></br>lead_time: 203.0</br>arrival_date_year: 2016.0</br>adults: 2.0</br>babies: 0.0</br>booking_changes: 4.0</br>_original_yhat_: 0.3079200979422798</br>\"],[\"</br>id: observation</br>prediction: 0.313</br>children: 4.1000000000000005</br></br>lead_time: 203.0</br>arrival_date_year: 2016.0</br>adults: 2.0</br>babies: 0.0</br>booking_changes: 4.0</br>_original_yhat_: 0.3079200979422798</br>\"],[\"</br>id: observation</br>prediction: 0.313</br>children: 4.2</br></br>lead_time: 203.0</br>arrival_date_year: 2016.0</br>adults: 2.0</br>babies: 0.0</br>booking_changes: 4.0</br>_original_yhat_: 0.3079200979422798</br>\"],[\"</br>id: observation</br>prediction: 0.313</br>children: 4.3</br></br>lead_time: 203.0</br>arrival_date_year: 2016.0</br>adults: 2.0</br>babies: 0.0</br>booking_changes: 4.0</br>_original_yhat_: 0.3079200979422798</br>\"],[\"</br>id: observation</br>prediction: 0.313</br>children: 4.4</br></br>lead_time: 203.0</br>arrival_date_year: 2016.0</br>adults: 2.0</br>babies: 0.0</br>booking_changes: 4.0</br>_original_yhat_: 0.3079200979422798</br>\"],[\"</br>id: observation</br>prediction: 0.313</br>children: 4.5</br></br>lead_time: 203.0</br>arrival_date_year: 2016.0</br>adults: 2.0</br>babies: 0.0</br>booking_changes: 4.0</br>_original_yhat_: 0.3079200979422798</br>\"],[\"</br>id: observation</br>prediction: 0.313</br>children: 4.6000000000000005</br></br>lead_time: 203.0</br>arrival_date_year: 2016.0</br>adults: 2.0</br>babies: 0.0</br>booking_changes: 4.0</br>_original_yhat_: 0.3079200979422798</br>\"],[\"</br>id: observation</br>prediction: 0.313</br>children: 4.7</br></br>lead_time: 203.0</br>arrival_date_year: 2016.0</br>adults: 2.0</br>babies: 0.0</br>booking_changes: 4.0</br>_original_yhat_: 0.3079200979422798</br>\"],[\"</br>id: observation</br>prediction: 0.313</br>children: 4.800000000000001</br></br>lead_time: 203.0</br>arrival_date_year: 2016.0</br>adults: 2.0</br>babies: 0.0</br>booking_changes: 4.0</br>_original_yhat_: 0.3079200979422798</br>\"],[\"</br>id: observation</br>prediction: 0.313</br>children: 4.9</br></br>lead_time: 203.0</br>arrival_date_year: 2016.0</br>adults: 2.0</br>babies: 0.0</br>booking_changes: 4.0</br>_original_yhat_: 0.3079200979422798</br>\"],[\"</br>id: observation</br>prediction: 0.313</br>children: 5.0</br></br>lead_time: 203.0</br>arrival_date_year: 2016.0</br>adults: 2.0</br>babies: 0.0</br>booking_changes: 4.0</br>_original_yhat_: 0.3079200979422798</br>\"],[\"</br>id: observation</br>prediction: 0.313</br>children: 5.1000000000000005</br></br>lead_time: 203.0</br>arrival_date_year: 2016.0</br>adults: 2.0</br>babies: 0.0</br>booking_changes: 4.0</br>_original_yhat_: 0.3079200979422798</br>\"],[\"</br>id: observation</br>prediction: 0.313</br>children: 5.2</br></br>lead_time: 203.0</br>arrival_date_year: 2016.0</br>adults: 2.0</br>babies: 0.0</br>booking_changes: 4.0</br>_original_yhat_: 0.3079200979422798</br>\"],[\"</br>id: observation</br>prediction: 0.313</br>children: 5.300000000000001</br></br>lead_time: 203.0</br>arrival_date_year: 2016.0</br>adults: 2.0</br>babies: 0.0</br>booking_changes: 4.0</br>_original_yhat_: 0.3079200979422798</br>\"],[\"</br>id: observation</br>prediction: 0.313</br>children: 5.4</br></br>lead_time: 203.0</br>arrival_date_year: 2016.0</br>adults: 2.0</br>babies: 0.0</br>booking_changes: 4.0</br>_original_yhat_: 0.3079200979422798</br>\"],[\"</br>id: observation</br>prediction: 0.313</br>children: 5.5</br></br>lead_time: 203.0</br>arrival_date_year: 2016.0</br>adults: 2.0</br>babies: 0.0</br>booking_changes: 4.0</br>_original_yhat_: 0.3079200979422798</br>\"],[\"</br>id: observation</br>prediction: 0.313</br>children: 5.6000000000000005</br></br>lead_time: 203.0</br>arrival_date_year: 2016.0</br>adults: 2.0</br>babies: 0.0</br>booking_changes: 4.0</br>_original_yhat_: 0.3079200979422798</br>\"],[\"</br>id: observation</br>prediction: 0.313</br>children: 5.7</br></br>lead_time: 203.0</br>arrival_date_year: 2016.0</br>adults: 2.0</br>babies: 0.0</br>booking_changes: 4.0</br>_original_yhat_: 0.3079200979422798</br>\"],[\"</br>id: observation</br>prediction: 0.313</br>children: 5.800000000000001</br></br>lead_time: 203.0</br>arrival_date_year: 2016.0</br>adults: 2.0</br>babies: 0.0</br>booking_changes: 4.0</br>_original_yhat_: 0.3079200979422798</br>\"],[\"</br>id: observation</br>prediction: 0.313</br>children: 5.9</br></br>lead_time: 203.0</br>arrival_date_year: 2016.0</br>adults: 2.0</br>babies: 0.0</br>booking_changes: 4.0</br>_original_yhat_: 0.3079200979422798</br>\"],[\"</br>id: observation</br>prediction: 0.313</br>children: 6.0</br></br>lead_time: 203.0</br>arrival_date_year: 2016.0</br>adults: 2.0</br>babies: 0.0</br>booking_changes: 4.0</br>_original_yhat_: 0.3079200979422798</br>\"],[\"</br>id: observation</br>prediction: 0.313</br>children: 6.1000000000000005</br></br>lead_time: 203.0</br>arrival_date_year: 2016.0</br>adults: 2.0</br>babies: 0.0</br>booking_changes: 4.0</br>_original_yhat_: 0.3079200979422798</br>\"],[\"</br>id: observation</br>prediction: 0.313</br>children: 6.2</br></br>lead_time: 203.0</br>arrival_date_year: 2016.0</br>adults: 2.0</br>babies: 0.0</br>booking_changes: 4.0</br>_original_yhat_: 0.3079200979422798</br>\"],[\"</br>id: observation</br>prediction: 0.313</br>children: 6.300000000000001</br></br>lead_time: 203.0</br>arrival_date_year: 2016.0</br>adults: 2.0</br>babies: 0.0</br>booking_changes: 4.0</br>_original_yhat_: 0.3079200979422798</br>\"],[\"</br>id: observation</br>prediction: 0.313</br>children: 6.4</br></br>lead_time: 203.0</br>arrival_date_year: 2016.0</br>adults: 2.0</br>babies: 0.0</br>booking_changes: 4.0</br>_original_yhat_: 0.3079200979422798</br>\"],[\"</br>id: observation</br>prediction: 0.313</br>children: 6.5</br></br>lead_time: 203.0</br>arrival_date_year: 2016.0</br>adults: 2.0</br>babies: 0.0</br>booking_changes: 4.0</br>_original_yhat_: 0.3079200979422798</br>\"],[\"</br>id: observation</br>prediction: 0.313</br>children: 6.6000000000000005</br></br>lead_time: 203.0</br>arrival_date_year: 2016.0</br>adults: 2.0</br>babies: 0.0</br>booking_changes: 4.0</br>_original_yhat_: 0.3079200979422798</br>\"],[\"</br>id: observation</br>prediction: 0.313</br>children: 6.7</br></br>lead_time: 203.0</br>arrival_date_year: 2016.0</br>adults: 2.0</br>babies: 0.0</br>booking_changes: 4.0</br>_original_yhat_: 0.3079200979422798</br>\"],[\"</br>id: observation</br>prediction: 0.313</br>children: 6.800000000000001</br></br>lead_time: 203.0</br>arrival_date_year: 2016.0</br>adults: 2.0</br>babies: 0.0</br>booking_changes: 4.0</br>_original_yhat_: 0.3079200979422798</br>\"],[\"</br>id: observation</br>prediction: 0.313</br>children: 6.9</br></br>lead_time: 203.0</br>arrival_date_year: 2016.0</br>adults: 2.0</br>babies: 0.0</br>booking_changes: 4.0</br>_original_yhat_: 0.3079200979422798</br>\"],[\"</br>id: observation</br>prediction: 0.313</br>children: 7.0</br></br>lead_time: 203.0</br>arrival_date_year: 2016.0</br>adults: 2.0</br>babies: 0.0</br>booking_changes: 4.0</br>_original_yhat_: 0.3079200979422798</br>\"],[\"</br>id: observation</br>prediction: 0.313</br>children: 7.1000000000000005</br></br>lead_time: 203.0</br>arrival_date_year: 2016.0</br>adults: 2.0</br>babies: 0.0</br>booking_changes: 4.0</br>_original_yhat_: 0.3079200979422798</br>\"],[\"</br>id: observation</br>prediction: 0.313</br>children: 7.2</br></br>lead_time: 203.0</br>arrival_date_year: 2016.0</br>adults: 2.0</br>babies: 0.0</br>booking_changes: 4.0</br>_original_yhat_: 0.3079200979422798</br>\"],[\"</br>id: observation</br>prediction: 0.313</br>children: 7.300000000000001</br></br>lead_time: 203.0</br>arrival_date_year: 2016.0</br>adults: 2.0</br>babies: 0.0</br>booking_changes: 4.0</br>_original_yhat_: 0.3079200979422798</br>\"],[\"</br>id: observation</br>prediction: 0.313</br>children: 7.4</br></br>lead_time: 203.0</br>arrival_date_year: 2016.0</br>adults: 2.0</br>babies: 0.0</br>booking_changes: 4.0</br>_original_yhat_: 0.3079200979422798</br>\"],[\"</br>id: observation</br>prediction: 0.313</br>children: 7.5</br></br>lead_time: 203.0</br>arrival_date_year: 2016.0</br>adults: 2.0</br>babies: 0.0</br>booking_changes: 4.0</br>_original_yhat_: 0.3079200979422798</br>\"],[\"</br>id: observation</br>prediction: 0.313</br>children: 7.6000000000000005</br></br>lead_time: 203.0</br>arrival_date_year: 2016.0</br>adults: 2.0</br>babies: 0.0</br>booking_changes: 4.0</br>_original_yhat_: 0.3079200979422798</br>\"],[\"</br>id: observation</br>prediction: 0.313</br>children: 7.7</br></br>lead_time: 203.0</br>arrival_date_year: 2016.0</br>adults: 2.0</br>babies: 0.0</br>booking_changes: 4.0</br>_original_yhat_: 0.3079200979422798</br>\"],[\"</br>id: observation</br>prediction: 0.313</br>children: 7.800000000000001</br></br>lead_time: 203.0</br>arrival_date_year: 2016.0</br>adults: 2.0</br>babies: 0.0</br>booking_changes: 4.0</br>_original_yhat_: 0.3079200979422798</br>\"],[\"</br>id: observation</br>prediction: 0.313</br>children: 7.9</br></br>lead_time: 203.0</br>arrival_date_year: 2016.0</br>adults: 2.0</br>babies: 0.0</br>booking_changes: 4.0</br>_original_yhat_: 0.3079200979422798</br>\"],[\"</br>id: observation</br>prediction: 0.313</br>children: 8.0</br></br>lead_time: 203.0</br>arrival_date_year: 2016.0</br>adults: 2.0</br>babies: 0.0</br>booking_changes: 4.0</br>_original_yhat_: 0.3079200979422798</br>\"],[\"</br>id: observation</br>prediction: 0.313</br>children: 8.1</br></br>lead_time: 203.0</br>arrival_date_year: 2016.0</br>adults: 2.0</br>babies: 0.0</br>booking_changes: 4.0</br>_original_yhat_: 0.3079200979422798</br>\"],[\"</br>id: observation</br>prediction: 0.313</br>children: 8.200000000000001</br></br>lead_time: 203.0</br>arrival_date_year: 2016.0</br>adults: 2.0</br>babies: 0.0</br>booking_changes: 4.0</br>_original_yhat_: 0.3079200979422798</br>\"],[\"</br>id: observation</br>prediction: 0.313</br>children: 8.3</br></br>lead_time: 203.0</br>arrival_date_year: 2016.0</br>adults: 2.0</br>babies: 0.0</br>booking_changes: 4.0</br>_original_yhat_: 0.3079200979422798</br>\"],[\"</br>id: observation</br>prediction: 0.313</br>children: 8.4</br></br>lead_time: 203.0</br>arrival_date_year: 2016.0</br>adults: 2.0</br>babies: 0.0</br>booking_changes: 4.0</br>_original_yhat_: 0.3079200979422798</br>\"],[\"</br>id: observation</br>prediction: 0.313</br>children: 8.5</br></br>lead_time: 203.0</br>arrival_date_year: 2016.0</br>adults: 2.0</br>babies: 0.0</br>booking_changes: 4.0</br>_original_yhat_: 0.3079200979422798</br>\"],[\"</br>id: observation</br>prediction: 0.313</br>children: 8.6</br></br>lead_time: 203.0</br>arrival_date_year: 2016.0</br>adults: 2.0</br>babies: 0.0</br>booking_changes: 4.0</br>_original_yhat_: 0.3079200979422798</br>\"],[\"</br>id: observation</br>prediction: 0.313</br>children: 8.700000000000001</br></br>lead_time: 203.0</br>arrival_date_year: 2016.0</br>adults: 2.0</br>babies: 0.0</br>booking_changes: 4.0</br>_original_yhat_: 0.3079200979422798</br>\"],[\"</br>id: observation</br>prediction: 0.313</br>children: 8.8</br></br>lead_time: 203.0</br>arrival_date_year: 2016.0</br>adults: 2.0</br>babies: 0.0</br>booking_changes: 4.0</br>_original_yhat_: 0.3079200979422798</br>\"],[\"</br>id: observation</br>prediction: 0.313</br>children: 8.9</br></br>lead_time: 203.0</br>arrival_date_year: 2016.0</br>adults: 2.0</br>babies: 0.0</br>booking_changes: 4.0</br>_original_yhat_: 0.3079200979422798</br>\"],[\"</br>id: observation</br>prediction: 0.313</br>children: 9.0</br></br>lead_time: 203.0</br>arrival_date_year: 2016.0</br>adults: 2.0</br>babies: 0.0</br>booking_changes: 4.0</br>_original_yhat_: 0.3079200979422798</br>\"],[\"</br>id: observation</br>prediction: 0.313</br>children: 9.1</br></br>lead_time: 203.0</br>arrival_date_year: 2016.0</br>adults: 2.0</br>babies: 0.0</br>booking_changes: 4.0</br>_original_yhat_: 0.3079200979422798</br>\"],[\"</br>id: observation</br>prediction: 0.313</br>children: 9.200000000000001</br></br>lead_time: 203.0</br>arrival_date_year: 2016.0</br>adults: 2.0</br>babies: 0.0</br>booking_changes: 4.0</br>_original_yhat_: 0.3079200979422798</br>\"],[\"</br>id: observation</br>prediction: 0.313</br>children: 9.3</br></br>lead_time: 203.0</br>arrival_date_year: 2016.0</br>adults: 2.0</br>babies: 0.0</br>booking_changes: 4.0</br>_original_yhat_: 0.3079200979422798</br>\"],[\"</br>id: observation</br>prediction: 0.313</br>children: 9.4</br></br>lead_time: 203.0</br>arrival_date_year: 2016.0</br>adults: 2.0</br>babies: 0.0</br>booking_changes: 4.0</br>_original_yhat_: 0.3079200979422798</br>\"],[\"</br>id: observation</br>prediction: 0.313</br>children: 9.5</br></br>lead_time: 203.0</br>arrival_date_year: 2016.0</br>adults: 2.0</br>babies: 0.0</br>booking_changes: 4.0</br>_original_yhat_: 0.3079200979422798</br>\"],[\"</br>id: observation</br>prediction: 0.313</br>children: 9.600000000000001</br></br>lead_time: 203.0</br>arrival_date_year: 2016.0</br>adults: 2.0</br>babies: 0.0</br>booking_changes: 4.0</br>_original_yhat_: 0.3079200979422798</br>\"],[\"</br>id: observation</br>prediction: 0.313</br>children: 9.700000000000001</br></br>lead_time: 203.0</br>arrival_date_year: 2016.0</br>adults: 2.0</br>babies: 0.0</br>booking_changes: 4.0</br>_original_yhat_: 0.3079200979422798</br>\"],[\"</br>id: observation</br>prediction: 0.313</br>children: 9.8</br></br>lead_time: 203.0</br>arrival_date_year: 2016.0</br>adults: 2.0</br>babies: 0.0</br>booking_changes: 4.0</br>_original_yhat_: 0.3079200979422798</br>\"],[\"</br>id: observation</br>prediction: 0.313</br>children: 9.9</br></br>lead_time: 203.0</br>arrival_date_year: 2016.0</br>adults: 2.0</br>babies: 0.0</br>booking_changes: 4.0</br>_original_yhat_: 0.3079200979422798</br>\"],[\"</br>id: observation</br>prediction: 0.313</br>children: 10.0</br></br>lead_time: 203.0</br>arrival_date_year: 2016.0</br>adults: 2.0</br>babies: 0.0</br>booking_changes: 4.0</br>_original_yhat_: 0.3079200979422798</br>\"]],\"hovertemplate\":\"%{customdata[0]}<extra></extra>\",\"legendgroup\":\"random_forest\",\"line\":{\"color\":\"#46bac2\",\"dash\":\"solid\",\"width\":2},\"marker\":{\"symbol\":\"circle\"},\"mode\":\"lines\",\"name\":\"random_forest\",\"orientation\":\"v\",\"showlegend\":false,\"x\":[0.0,0.1,0.2,0.30000000000000004,0.4,0.5,0.6000000000000001,0.7000000000000001,0.8,0.9,1.0,1.1,1.2000000000000002,1.3,1.4000000000000001,1.5,1.6,1.7000000000000002,1.8,1.9000000000000001,2.0,2.1,2.2,2.3000000000000003,2.4000000000000004,2.5,2.6,2.7,2.8000000000000003,2.9000000000000004,3.0,3.1,3.2,3.3000000000000003,3.4000000000000004,3.5,3.6,3.7,3.8000000000000003,3.9000000000000004,4.0,4.1000000000000005,4.2,4.3,4.4,4.5,4.6000000000000005,4.7,4.800000000000001,4.9,5.0,5.1000000000000005,5.2,5.300000000000001,5.4,5.5,5.6000000000000005,5.7,5.800000000000001,5.9,6.0,6.1000000000000005,6.2,6.300000000000001,6.4,6.5,6.6000000000000005,6.7,6.800000000000001,6.9,7.0,7.1000000000000005,7.2,7.300000000000001,7.4,7.5,7.6000000000000005,7.7,7.800000000000001,7.9,8.0,8.1,8.200000000000001,8.3,8.4,8.5,8.6,8.700000000000001,8.8,8.9,9.0,9.1,9.200000000000001,9.3,9.4,9.5,9.600000000000001,9.700000000000001,9.8,9.9,10.0],\"xaxis\":\"x4\",\"y\":[0.3079200979422798,0.3079200979422798,0.3079200979422798,0.3079200979422798,0.3079200979422798,0.3079200979422798,0.3075058550190946,0.3075058550190946,0.3075058550190946,0.3075058550190946,0.3075058550190946,0.3075058550190946,0.3075058550190946,0.3075058550190946,0.3075058550190946,0.3075058550190946,0.31314267897598774,0.31314267897598774,0.31314267897598774,0.31314267897598774,0.31314267897598774,0.31314267897598774,0.31314267897598774,0.31314267897598774,0.31314267897598774,0.31314267897598774,0.31314267897598774,0.31314267897598774,0.31314267897598774,0.31314267897598774,0.31314267897598774,0.31314267897598774,0.31314267897598774,0.31314267897598774,0.31314267897598774,0.31314267897598774,0.31314267897598774,0.31314267897598774,0.31314267897598774,0.31314267897598774,0.31314267897598774,0.31314267897598774,0.31314267897598774,0.31314267897598774,0.31314267897598774,0.31314267897598774,0.31314267897598774,0.31314267897598774,0.31314267897598774,0.31314267897598774,0.31314267897598774,0.31314267897598774,0.31314267897598774,0.31314267897598774,0.31314267897598774,0.31314267897598774,0.31314267897598774,0.31314267897598774,0.31314267897598774,0.31314267897598774,0.31314267897598774,0.31314267897598774,0.31314267897598774,0.31314267897598774,0.31314267897598774,0.31314267897598774,0.31314267897598774,0.31314267897598774,0.31314267897598774,0.31314267897598774,0.31314267897598774,0.31314267897598774,0.31314267897598774,0.31314267897598774,0.31314267897598774,0.31314267897598774,0.31314267897598774,0.31314267897598774,0.31314267897598774,0.31314267897598774,0.31314267897598774,0.31314267897598774,0.31314267897598774,0.31314267897598774,0.31314267897598774,0.31314267897598774,0.31314267897598774,0.31314267897598774,0.31314267897598774,0.31314267897598774,0.31314267897598774,0.31314267897598774,0.31314267897598774,0.31314267897598774,0.31314267897598774,0.31314267897598774,0.31314267897598774,0.31314267897598774,0.31314267897598774,0.31314267897598774,0.31314267897598774],\"yaxis\":\"y4\",\"type\":\"scatter\",\"opacity\":1},{\"customdata\":[[\"</br>id: observation</br>prediction: 0.308</br>babies: 0.0</br></br>lead_time: 203.0</br>arrival_date_year: 2016.0</br>adults: 2.0</br>children: 0.0</br>booking_changes: 4.0</br>_original_yhat_: 0.3079200979422798</br>\"],[\"</br>id: observation</br>prediction: 0.308</br>babies: 0.1</br></br>lead_time: 203.0</br>arrival_date_year: 2016.0</br>adults: 2.0</br>children: 0.0</br>booking_changes: 4.0</br>_original_yhat_: 0.3079200979422798</br>\"],[\"</br>id: observation</br>prediction: 0.308</br>babies: 0.2</br></br>lead_time: 203.0</br>arrival_date_year: 2016.0</br>adults: 2.0</br>children: 0.0</br>booking_changes: 4.0</br>_original_yhat_: 0.3079200979422798</br>\"],[\"</br>id: observation</br>prediction: 0.308</br>babies: 0.30000000000000004</br></br>lead_time: 203.0</br>arrival_date_year: 2016.0</br>adults: 2.0</br>children: 0.0</br>booking_changes: 4.0</br>_original_yhat_: 0.3079200979422798</br>\"],[\"</br>id: observation</br>prediction: 0.308</br>babies: 0.4</br></br>lead_time: 203.0</br>arrival_date_year: 2016.0</br>adults: 2.0</br>children: 0.0</br>booking_changes: 4.0</br>_original_yhat_: 0.3079200979422798</br>\"],[\"</br>id: observation</br>prediction: 0.308</br>babies: 0.5</br></br>lead_time: 203.0</br>arrival_date_year: 2016.0</br>adults: 2.0</br>children: 0.0</br>booking_changes: 4.0</br>_original_yhat_: 0.3079200979422798</br>\"],[\"</br>id: observation</br>prediction: 0.262</br>babies: 0.6000000000000001</br></br>lead_time: 203.0</br>arrival_date_year: 2016.0</br>adults: 2.0</br>children: 0.0</br>booking_changes: 4.0</br>_original_yhat_: 0.3079200979422798</br>\"],[\"</br>id: observation</br>prediction: 0.262</br>babies: 0.7000000000000001</br></br>lead_time: 203.0</br>arrival_date_year: 2016.0</br>adults: 2.0</br>children: 0.0</br>booking_changes: 4.0</br>_original_yhat_: 0.3079200979422798</br>\"],[\"</br>id: observation</br>prediction: 0.262</br>babies: 0.8</br></br>lead_time: 203.0</br>arrival_date_year: 2016.0</br>adults: 2.0</br>children: 0.0</br>booking_changes: 4.0</br>_original_yhat_: 0.3079200979422798</br>\"],[\"</br>id: observation</br>prediction: 0.262</br>babies: 0.9</br></br>lead_time: 203.0</br>arrival_date_year: 2016.0</br>adults: 2.0</br>children: 0.0</br>booking_changes: 4.0</br>_original_yhat_: 0.3079200979422798</br>\"],[\"</br>id: observation</br>prediction: 0.262</br>babies: 1.0</br></br>lead_time: 203.0</br>arrival_date_year: 2016.0</br>adults: 2.0</br>children: 0.0</br>booking_changes: 4.0</br>_original_yhat_: 0.3079200979422798</br>\"],[\"</br>id: observation</br>prediction: 0.262</br>babies: 1.1</br></br>lead_time: 203.0</br>arrival_date_year: 2016.0</br>adults: 2.0</br>children: 0.0</br>booking_changes: 4.0</br>_original_yhat_: 0.3079200979422798</br>\"],[\"</br>id: observation</br>prediction: 0.262</br>babies: 1.2000000000000002</br></br>lead_time: 203.0</br>arrival_date_year: 2016.0</br>adults: 2.0</br>children: 0.0</br>booking_changes: 4.0</br>_original_yhat_: 0.3079200979422798</br>\"],[\"</br>id: observation</br>prediction: 0.262</br>babies: 1.3</br></br>lead_time: 203.0</br>arrival_date_year: 2016.0</br>adults: 2.0</br>children: 0.0</br>booking_changes: 4.0</br>_original_yhat_: 0.3079200979422798</br>\"],[\"</br>id: observation</br>prediction: 0.262</br>babies: 1.4000000000000001</br></br>lead_time: 203.0</br>arrival_date_year: 2016.0</br>adults: 2.0</br>children: 0.0</br>booking_changes: 4.0</br>_original_yhat_: 0.3079200979422798</br>\"],[\"</br>id: observation</br>prediction: 0.262</br>babies: 1.5</br></br>lead_time: 203.0</br>arrival_date_year: 2016.0</br>adults: 2.0</br>children: 0.0</br>booking_changes: 4.0</br>_original_yhat_: 0.3079200979422798</br>\"],[\"</br>id: observation</br>prediction: 0.262</br>babies: 1.6</br></br>lead_time: 203.0</br>arrival_date_year: 2016.0</br>adults: 2.0</br>children: 0.0</br>booking_changes: 4.0</br>_original_yhat_: 0.3079200979422798</br>\"],[\"</br>id: observation</br>prediction: 0.262</br>babies: 1.7000000000000002</br></br>lead_time: 203.0</br>arrival_date_year: 2016.0</br>adults: 2.0</br>children: 0.0</br>booking_changes: 4.0</br>_original_yhat_: 0.3079200979422798</br>\"],[\"</br>id: observation</br>prediction: 0.262</br>babies: 1.8</br></br>lead_time: 203.0</br>arrival_date_year: 2016.0</br>adults: 2.0</br>children: 0.0</br>booking_changes: 4.0</br>_original_yhat_: 0.3079200979422798</br>\"],[\"</br>id: observation</br>prediction: 0.262</br>babies: 1.9000000000000001</br></br>lead_time: 203.0</br>arrival_date_year: 2016.0</br>adults: 2.0</br>children: 0.0</br>booking_changes: 4.0</br>_original_yhat_: 0.3079200979422798</br>\"],[\"</br>id: observation</br>prediction: 0.262</br>babies: 2.0</br></br>lead_time: 203.0</br>arrival_date_year: 2016.0</br>adults: 2.0</br>children: 0.0</br>booking_changes: 4.0</br>_original_yhat_: 0.3079200979422798</br>\"],[\"</br>id: observation</br>prediction: 0.262</br>babies: 2.1</br></br>lead_time: 203.0</br>arrival_date_year: 2016.0</br>adults: 2.0</br>children: 0.0</br>booking_changes: 4.0</br>_original_yhat_: 0.3079200979422798</br>\"],[\"</br>id: observation</br>prediction: 0.262</br>babies: 2.2</br></br>lead_time: 203.0</br>arrival_date_year: 2016.0</br>adults: 2.0</br>children: 0.0</br>booking_changes: 4.0</br>_original_yhat_: 0.3079200979422798</br>\"],[\"</br>id: observation</br>prediction: 0.262</br>babies: 2.3000000000000003</br></br>lead_time: 203.0</br>arrival_date_year: 2016.0</br>adults: 2.0</br>children: 0.0</br>booking_changes: 4.0</br>_original_yhat_: 0.3079200979422798</br>\"],[\"</br>id: observation</br>prediction: 0.262</br>babies: 2.4000000000000004</br></br>lead_time: 203.0</br>arrival_date_year: 2016.0</br>adults: 2.0</br>children: 0.0</br>booking_changes: 4.0</br>_original_yhat_: 0.3079200979422798</br>\"],[\"</br>id: observation</br>prediction: 0.262</br>babies: 2.5</br></br>lead_time: 203.0</br>arrival_date_year: 2016.0</br>adults: 2.0</br>children: 0.0</br>booking_changes: 4.0</br>_original_yhat_: 0.3079200979422798</br>\"],[\"</br>id: observation</br>prediction: 0.262</br>babies: 2.6</br></br>lead_time: 203.0</br>arrival_date_year: 2016.0</br>adults: 2.0</br>children: 0.0</br>booking_changes: 4.0</br>_original_yhat_: 0.3079200979422798</br>\"],[\"</br>id: observation</br>prediction: 0.262</br>babies: 2.7</br></br>lead_time: 203.0</br>arrival_date_year: 2016.0</br>adults: 2.0</br>children: 0.0</br>booking_changes: 4.0</br>_original_yhat_: 0.3079200979422798</br>\"],[\"</br>id: observation</br>prediction: 0.262</br>babies: 2.8000000000000003</br></br>lead_time: 203.0</br>arrival_date_year: 2016.0</br>adults: 2.0</br>children: 0.0</br>booking_changes: 4.0</br>_original_yhat_: 0.3079200979422798</br>\"],[\"</br>id: observation</br>prediction: 0.262</br>babies: 2.9000000000000004</br></br>lead_time: 203.0</br>arrival_date_year: 2016.0</br>adults: 2.0</br>children: 0.0</br>booking_changes: 4.0</br>_original_yhat_: 0.3079200979422798</br>\"],[\"</br>id: observation</br>prediction: 0.262</br>babies: 3.0</br></br>lead_time: 203.0</br>arrival_date_year: 2016.0</br>adults: 2.0</br>children: 0.0</br>booking_changes: 4.0</br>_original_yhat_: 0.3079200979422798</br>\"],[\"</br>id: observation</br>prediction: 0.262</br>babies: 3.1</br></br>lead_time: 203.0</br>arrival_date_year: 2016.0</br>adults: 2.0</br>children: 0.0</br>booking_changes: 4.0</br>_original_yhat_: 0.3079200979422798</br>\"],[\"</br>id: observation</br>prediction: 0.262</br>babies: 3.2</br></br>lead_time: 203.0</br>arrival_date_year: 2016.0</br>adults: 2.0</br>children: 0.0</br>booking_changes: 4.0</br>_original_yhat_: 0.3079200979422798</br>\"],[\"</br>id: observation</br>prediction: 0.262</br>babies: 3.3000000000000003</br></br>lead_time: 203.0</br>arrival_date_year: 2016.0</br>adults: 2.0</br>children: 0.0</br>booking_changes: 4.0</br>_original_yhat_: 0.3079200979422798</br>\"],[\"</br>id: observation</br>prediction: 0.262</br>babies: 3.4000000000000004</br></br>lead_time: 203.0</br>arrival_date_year: 2016.0</br>adults: 2.0</br>children: 0.0</br>booking_changes: 4.0</br>_original_yhat_: 0.3079200979422798</br>\"],[\"</br>id: observation</br>prediction: 0.262</br>babies: 3.5</br></br>lead_time: 203.0</br>arrival_date_year: 2016.0</br>adults: 2.0</br>children: 0.0</br>booking_changes: 4.0</br>_original_yhat_: 0.3079200979422798</br>\"],[\"</br>id: observation</br>prediction: 0.262</br>babies: 3.6</br></br>lead_time: 203.0</br>arrival_date_year: 2016.0</br>adults: 2.0</br>children: 0.0</br>booking_changes: 4.0</br>_original_yhat_: 0.3079200979422798</br>\"],[\"</br>id: observation</br>prediction: 0.262</br>babies: 3.7</br></br>lead_time: 203.0</br>arrival_date_year: 2016.0</br>adults: 2.0</br>children: 0.0</br>booking_changes: 4.0</br>_original_yhat_: 0.3079200979422798</br>\"],[\"</br>id: observation</br>prediction: 0.262</br>babies: 3.8000000000000003</br></br>lead_time: 203.0</br>arrival_date_year: 2016.0</br>adults: 2.0</br>children: 0.0</br>booking_changes: 4.0</br>_original_yhat_: 0.3079200979422798</br>\"],[\"</br>id: observation</br>prediction: 0.262</br>babies: 3.9000000000000004</br></br>lead_time: 203.0</br>arrival_date_year: 2016.0</br>adults: 2.0</br>children: 0.0</br>booking_changes: 4.0</br>_original_yhat_: 0.3079200979422798</br>\"],[\"</br>id: observation</br>prediction: 0.262</br>babies: 4.0</br></br>lead_time: 203.0</br>arrival_date_year: 2016.0</br>adults: 2.0</br>children: 0.0</br>booking_changes: 4.0</br>_original_yhat_: 0.3079200979422798</br>\"],[\"</br>id: observation</br>prediction: 0.262</br>babies: 4.1000000000000005</br></br>lead_time: 203.0</br>arrival_date_year: 2016.0</br>adults: 2.0</br>children: 0.0</br>booking_changes: 4.0</br>_original_yhat_: 0.3079200979422798</br>\"],[\"</br>id: observation</br>prediction: 0.262</br>babies: 4.2</br></br>lead_time: 203.0</br>arrival_date_year: 2016.0</br>adults: 2.0</br>children: 0.0</br>booking_changes: 4.0</br>_original_yhat_: 0.3079200979422798</br>\"],[\"</br>id: observation</br>prediction: 0.262</br>babies: 4.3</br></br>lead_time: 203.0</br>arrival_date_year: 2016.0</br>adults: 2.0</br>children: 0.0</br>booking_changes: 4.0</br>_original_yhat_: 0.3079200979422798</br>\"],[\"</br>id: observation</br>prediction: 0.262</br>babies: 4.4</br></br>lead_time: 203.0</br>arrival_date_year: 2016.0</br>adults: 2.0</br>children: 0.0</br>booking_changes: 4.0</br>_original_yhat_: 0.3079200979422798</br>\"],[\"</br>id: observation</br>prediction: 0.262</br>babies: 4.5</br></br>lead_time: 203.0</br>arrival_date_year: 2016.0</br>adults: 2.0</br>children: 0.0</br>booking_changes: 4.0</br>_original_yhat_: 0.3079200979422798</br>\"],[\"</br>id: observation</br>prediction: 0.262</br>babies: 4.6000000000000005</br></br>lead_time: 203.0</br>arrival_date_year: 2016.0</br>adults: 2.0</br>children: 0.0</br>booking_changes: 4.0</br>_original_yhat_: 0.3079200979422798</br>\"],[\"</br>id: observation</br>prediction: 0.262</br>babies: 4.7</br></br>lead_time: 203.0</br>arrival_date_year: 2016.0</br>adults: 2.0</br>children: 0.0</br>booking_changes: 4.0</br>_original_yhat_: 0.3079200979422798</br>\"],[\"</br>id: observation</br>prediction: 0.262</br>babies: 4.800000000000001</br></br>lead_time: 203.0</br>arrival_date_year: 2016.0</br>adults: 2.0</br>children: 0.0</br>booking_changes: 4.0</br>_original_yhat_: 0.3079200979422798</br>\"],[\"</br>id: observation</br>prediction: 0.262</br>babies: 4.9</br></br>lead_time: 203.0</br>arrival_date_year: 2016.0</br>adults: 2.0</br>children: 0.0</br>booking_changes: 4.0</br>_original_yhat_: 0.3079200979422798</br>\"],[\"</br>id: observation</br>prediction: 0.262</br>babies: 5.0</br></br>lead_time: 203.0</br>arrival_date_year: 2016.0</br>adults: 2.0</br>children: 0.0</br>booking_changes: 4.0</br>_original_yhat_: 0.3079200979422798</br>\"],[\"</br>id: observation</br>prediction: 0.262</br>babies: 5.1000000000000005</br></br>lead_time: 203.0</br>arrival_date_year: 2016.0</br>adults: 2.0</br>children: 0.0</br>booking_changes: 4.0</br>_original_yhat_: 0.3079200979422798</br>\"],[\"</br>id: observation</br>prediction: 0.262</br>babies: 5.2</br></br>lead_time: 203.0</br>arrival_date_year: 2016.0</br>adults: 2.0</br>children: 0.0</br>booking_changes: 4.0</br>_original_yhat_: 0.3079200979422798</br>\"],[\"</br>id: observation</br>prediction: 0.262</br>babies: 5.300000000000001</br></br>lead_time: 203.0</br>arrival_date_year: 2016.0</br>adults: 2.0</br>children: 0.0</br>booking_changes: 4.0</br>_original_yhat_: 0.3079200979422798</br>\"],[\"</br>id: observation</br>prediction: 0.262</br>babies: 5.4</br></br>lead_time: 203.0</br>arrival_date_year: 2016.0</br>adults: 2.0</br>children: 0.0</br>booking_changes: 4.0</br>_original_yhat_: 0.3079200979422798</br>\"],[\"</br>id: observation</br>prediction: 0.262</br>babies: 5.5</br></br>lead_time: 203.0</br>arrival_date_year: 2016.0</br>adults: 2.0</br>children: 0.0</br>booking_changes: 4.0</br>_original_yhat_: 0.3079200979422798</br>\"],[\"</br>id: observation</br>prediction: 0.262</br>babies: 5.6000000000000005</br></br>lead_time: 203.0</br>arrival_date_year: 2016.0</br>adults: 2.0</br>children: 0.0</br>booking_changes: 4.0</br>_original_yhat_: 0.3079200979422798</br>\"],[\"</br>id: observation</br>prediction: 0.262</br>babies: 5.7</br></br>lead_time: 203.0</br>arrival_date_year: 2016.0</br>adults: 2.0</br>children: 0.0</br>booking_changes: 4.0</br>_original_yhat_: 0.3079200979422798</br>\"],[\"</br>id: observation</br>prediction: 0.262</br>babies: 5.800000000000001</br></br>lead_time: 203.0</br>arrival_date_year: 2016.0</br>adults: 2.0</br>children: 0.0</br>booking_changes: 4.0</br>_original_yhat_: 0.3079200979422798</br>\"],[\"</br>id: observation</br>prediction: 0.262</br>babies: 5.9</br></br>lead_time: 203.0</br>arrival_date_year: 2016.0</br>adults: 2.0</br>children: 0.0</br>booking_changes: 4.0</br>_original_yhat_: 0.3079200979422798</br>\"],[\"</br>id: observation</br>prediction: 0.262</br>babies: 6.0</br></br>lead_time: 203.0</br>arrival_date_year: 2016.0</br>adults: 2.0</br>children: 0.0</br>booking_changes: 4.0</br>_original_yhat_: 0.3079200979422798</br>\"],[\"</br>id: observation</br>prediction: 0.262</br>babies: 6.1000000000000005</br></br>lead_time: 203.0</br>arrival_date_year: 2016.0</br>adults: 2.0</br>children: 0.0</br>booking_changes: 4.0</br>_original_yhat_: 0.3079200979422798</br>\"],[\"</br>id: observation</br>prediction: 0.262</br>babies: 6.2</br></br>lead_time: 203.0</br>arrival_date_year: 2016.0</br>adults: 2.0</br>children: 0.0</br>booking_changes: 4.0</br>_original_yhat_: 0.3079200979422798</br>\"],[\"</br>id: observation</br>prediction: 0.262</br>babies: 6.300000000000001</br></br>lead_time: 203.0</br>arrival_date_year: 2016.0</br>adults: 2.0</br>children: 0.0</br>booking_changes: 4.0</br>_original_yhat_: 0.3079200979422798</br>\"],[\"</br>id: observation</br>prediction: 0.262</br>babies: 6.4</br></br>lead_time: 203.0</br>arrival_date_year: 2016.0</br>adults: 2.0</br>children: 0.0</br>booking_changes: 4.0</br>_original_yhat_: 0.3079200979422798</br>\"],[\"</br>id: observation</br>prediction: 0.262</br>babies: 6.5</br></br>lead_time: 203.0</br>arrival_date_year: 2016.0</br>adults: 2.0</br>children: 0.0</br>booking_changes: 4.0</br>_original_yhat_: 0.3079200979422798</br>\"],[\"</br>id: observation</br>prediction: 0.262</br>babies: 6.6000000000000005</br></br>lead_time: 203.0</br>arrival_date_year: 2016.0</br>adults: 2.0</br>children: 0.0</br>booking_changes: 4.0</br>_original_yhat_: 0.3079200979422798</br>\"],[\"</br>id: observation</br>prediction: 0.262</br>babies: 6.7</br></br>lead_time: 203.0</br>arrival_date_year: 2016.0</br>adults: 2.0</br>children: 0.0</br>booking_changes: 4.0</br>_original_yhat_: 0.3079200979422798</br>\"],[\"</br>id: observation</br>prediction: 0.262</br>babies: 6.800000000000001</br></br>lead_time: 203.0</br>arrival_date_year: 2016.0</br>adults: 2.0</br>children: 0.0</br>booking_changes: 4.0</br>_original_yhat_: 0.3079200979422798</br>\"],[\"</br>id: observation</br>prediction: 0.262</br>babies: 6.9</br></br>lead_time: 203.0</br>arrival_date_year: 2016.0</br>adults: 2.0</br>children: 0.0</br>booking_changes: 4.0</br>_original_yhat_: 0.3079200979422798</br>\"],[\"</br>id: observation</br>prediction: 0.262</br>babies: 7.0</br></br>lead_time: 203.0</br>arrival_date_year: 2016.0</br>adults: 2.0</br>children: 0.0</br>booking_changes: 4.0</br>_original_yhat_: 0.3079200979422798</br>\"],[\"</br>id: observation</br>prediction: 0.262</br>babies: 7.1000000000000005</br></br>lead_time: 203.0</br>arrival_date_year: 2016.0</br>adults: 2.0</br>children: 0.0</br>booking_changes: 4.0</br>_original_yhat_: 0.3079200979422798</br>\"],[\"</br>id: observation</br>prediction: 0.262</br>babies: 7.2</br></br>lead_time: 203.0</br>arrival_date_year: 2016.0</br>adults: 2.0</br>children: 0.0</br>booking_changes: 4.0</br>_original_yhat_: 0.3079200979422798</br>\"],[\"</br>id: observation</br>prediction: 0.262</br>babies: 7.300000000000001</br></br>lead_time: 203.0</br>arrival_date_year: 2016.0</br>adults: 2.0</br>children: 0.0</br>booking_changes: 4.0</br>_original_yhat_: 0.3079200979422798</br>\"],[\"</br>id: observation</br>prediction: 0.262</br>babies: 7.4</br></br>lead_time: 203.0</br>arrival_date_year: 2016.0</br>adults: 2.0</br>children: 0.0</br>booking_changes: 4.0</br>_original_yhat_: 0.3079200979422798</br>\"],[\"</br>id: observation</br>prediction: 0.262</br>babies: 7.5</br></br>lead_time: 203.0</br>arrival_date_year: 2016.0</br>adults: 2.0</br>children: 0.0</br>booking_changes: 4.0</br>_original_yhat_: 0.3079200979422798</br>\"],[\"</br>id: observation</br>prediction: 0.262</br>babies: 7.6000000000000005</br></br>lead_time: 203.0</br>arrival_date_year: 2016.0</br>adults: 2.0</br>children: 0.0</br>booking_changes: 4.0</br>_original_yhat_: 0.3079200979422798</br>\"],[\"</br>id: observation</br>prediction: 0.262</br>babies: 7.7</br></br>lead_time: 203.0</br>arrival_date_year: 2016.0</br>adults: 2.0</br>children: 0.0</br>booking_changes: 4.0</br>_original_yhat_: 0.3079200979422798</br>\"],[\"</br>id: observation</br>prediction: 0.262</br>babies: 7.800000000000001</br></br>lead_time: 203.0</br>arrival_date_year: 2016.0</br>adults: 2.0</br>children: 0.0</br>booking_changes: 4.0</br>_original_yhat_: 0.3079200979422798</br>\"],[\"</br>id: observation</br>prediction: 0.262</br>babies: 7.9</br></br>lead_time: 203.0</br>arrival_date_year: 2016.0</br>adults: 2.0</br>children: 0.0</br>booking_changes: 4.0</br>_original_yhat_: 0.3079200979422798</br>\"],[\"</br>id: observation</br>prediction: 0.262</br>babies: 8.0</br></br>lead_time: 203.0</br>arrival_date_year: 2016.0</br>adults: 2.0</br>children: 0.0</br>booking_changes: 4.0</br>_original_yhat_: 0.3079200979422798</br>\"],[\"</br>id: observation</br>prediction: 0.262</br>babies: 8.1</br></br>lead_time: 203.0</br>arrival_date_year: 2016.0</br>adults: 2.0</br>children: 0.0</br>booking_changes: 4.0</br>_original_yhat_: 0.3079200979422798</br>\"],[\"</br>id: observation</br>prediction: 0.262</br>babies: 8.200000000000001</br></br>lead_time: 203.0</br>arrival_date_year: 2016.0</br>adults: 2.0</br>children: 0.0</br>booking_changes: 4.0</br>_original_yhat_: 0.3079200979422798</br>\"],[\"</br>id: observation</br>prediction: 0.262</br>babies: 8.3</br></br>lead_time: 203.0</br>arrival_date_year: 2016.0</br>adults: 2.0</br>children: 0.0</br>booking_changes: 4.0</br>_original_yhat_: 0.3079200979422798</br>\"],[\"</br>id: observation</br>prediction: 0.262</br>babies: 8.4</br></br>lead_time: 203.0</br>arrival_date_year: 2016.0</br>adults: 2.0</br>children: 0.0</br>booking_changes: 4.0</br>_original_yhat_: 0.3079200979422798</br>\"],[\"</br>id: observation</br>prediction: 0.262</br>babies: 8.5</br></br>lead_time: 203.0</br>arrival_date_year: 2016.0</br>adults: 2.0</br>children: 0.0</br>booking_changes: 4.0</br>_original_yhat_: 0.3079200979422798</br>\"],[\"</br>id: observation</br>prediction: 0.262</br>babies: 8.6</br></br>lead_time: 203.0</br>arrival_date_year: 2016.0</br>adults: 2.0</br>children: 0.0</br>booking_changes: 4.0</br>_original_yhat_: 0.3079200979422798</br>\"],[\"</br>id: observation</br>prediction: 0.262</br>babies: 8.700000000000001</br></br>lead_time: 203.0</br>arrival_date_year: 2016.0</br>adults: 2.0</br>children: 0.0</br>booking_changes: 4.0</br>_original_yhat_: 0.3079200979422798</br>\"],[\"</br>id: observation</br>prediction: 0.262</br>babies: 8.8</br></br>lead_time: 203.0</br>arrival_date_year: 2016.0</br>adults: 2.0</br>children: 0.0</br>booking_changes: 4.0</br>_original_yhat_: 0.3079200979422798</br>\"],[\"</br>id: observation</br>prediction: 0.262</br>babies: 8.9</br></br>lead_time: 203.0</br>arrival_date_year: 2016.0</br>adults: 2.0</br>children: 0.0</br>booking_changes: 4.0</br>_original_yhat_: 0.3079200979422798</br>\"],[\"</br>id: observation</br>prediction: 0.262</br>babies: 9.0</br></br>lead_time: 203.0</br>arrival_date_year: 2016.0</br>adults: 2.0</br>children: 0.0</br>booking_changes: 4.0</br>_original_yhat_: 0.3079200979422798</br>\"],[\"</br>id: observation</br>prediction: 0.262</br>babies: 9.1</br></br>lead_time: 203.0</br>arrival_date_year: 2016.0</br>adults: 2.0</br>children: 0.0</br>booking_changes: 4.0</br>_original_yhat_: 0.3079200979422798</br>\"],[\"</br>id: observation</br>prediction: 0.262</br>babies: 9.200000000000001</br></br>lead_time: 203.0</br>arrival_date_year: 2016.0</br>adults: 2.0</br>children: 0.0</br>booking_changes: 4.0</br>_original_yhat_: 0.3079200979422798</br>\"],[\"</br>id: observation</br>prediction: 0.262</br>babies: 9.3</br></br>lead_time: 203.0</br>arrival_date_year: 2016.0</br>adults: 2.0</br>children: 0.0</br>booking_changes: 4.0</br>_original_yhat_: 0.3079200979422798</br>\"],[\"</br>id: observation</br>prediction: 0.262</br>babies: 9.4</br></br>lead_time: 203.0</br>arrival_date_year: 2016.0</br>adults: 2.0</br>children: 0.0</br>booking_changes: 4.0</br>_original_yhat_: 0.3079200979422798</br>\"],[\"</br>id: observation</br>prediction: 0.262</br>babies: 9.5</br></br>lead_time: 203.0</br>arrival_date_year: 2016.0</br>adults: 2.0</br>children: 0.0</br>booking_changes: 4.0</br>_original_yhat_: 0.3079200979422798</br>\"],[\"</br>id: observation</br>prediction: 0.262</br>babies: 9.600000000000001</br></br>lead_time: 203.0</br>arrival_date_year: 2016.0</br>adults: 2.0</br>children: 0.0</br>booking_changes: 4.0</br>_original_yhat_: 0.3079200979422798</br>\"],[\"</br>id: observation</br>prediction: 0.262</br>babies: 9.700000000000001</br></br>lead_time: 203.0</br>arrival_date_year: 2016.0</br>adults: 2.0</br>children: 0.0</br>booking_changes: 4.0</br>_original_yhat_: 0.3079200979422798</br>\"],[\"</br>id: observation</br>prediction: 0.262</br>babies: 9.8</br></br>lead_time: 203.0</br>arrival_date_year: 2016.0</br>adults: 2.0</br>children: 0.0</br>booking_changes: 4.0</br>_original_yhat_: 0.3079200979422798</br>\"],[\"</br>id: observation</br>prediction: 0.262</br>babies: 9.9</br></br>lead_time: 203.0</br>arrival_date_year: 2016.0</br>adults: 2.0</br>children: 0.0</br>booking_changes: 4.0</br>_original_yhat_: 0.3079200979422798</br>\"],[\"</br>id: observation</br>prediction: 0.262</br>babies: 10.0</br></br>lead_time: 203.0</br>arrival_date_year: 2016.0</br>adults: 2.0</br>children: 0.0</br>booking_changes: 4.0</br>_original_yhat_: 0.3079200979422798</br>\"]],\"hovertemplate\":\"%{customdata[0]}<extra></extra>\",\"legendgroup\":\"random_forest\",\"line\":{\"color\":\"#46bac2\",\"dash\":\"solid\",\"width\":2},\"marker\":{\"symbol\":\"circle\"},\"mode\":\"lines\",\"name\":\"random_forest\",\"orientation\":\"v\",\"showlegend\":false,\"x\":[0.0,0.1,0.2,0.30000000000000004,0.4,0.5,0.6000000000000001,0.7000000000000001,0.8,0.9,1.0,1.1,1.2000000000000002,1.3,1.4000000000000001,1.5,1.6,1.7000000000000002,1.8,1.9000000000000001,2.0,2.1,2.2,2.3000000000000003,2.4000000000000004,2.5,2.6,2.7,2.8000000000000003,2.9000000000000004,3.0,3.1,3.2,3.3000000000000003,3.4000000000000004,3.5,3.6,3.7,3.8000000000000003,3.9000000000000004,4.0,4.1000000000000005,4.2,4.3,4.4,4.5,4.6000000000000005,4.7,4.800000000000001,4.9,5.0,5.1000000000000005,5.2,5.300000000000001,5.4,5.5,5.6000000000000005,5.7,5.800000000000001,5.9,6.0,6.1000000000000005,6.2,6.300000000000001,6.4,6.5,6.6000000000000005,6.7,6.800000000000001,6.9,7.0,7.1000000000000005,7.2,7.300000000000001,7.4,7.5,7.6000000000000005,7.7,7.800000000000001,7.9,8.0,8.1,8.200000000000001,8.3,8.4,8.5,8.6,8.700000000000001,8.8,8.9,9.0,9.1,9.200000000000001,9.3,9.4,9.5,9.600000000000001,9.700000000000001,9.8,9.9,10.0],\"xaxis\":\"x\",\"y\":[0.3079200979422798,0.3079200979422798,0.3079200979422798,0.3079200979422798,0.3079200979422798,0.3079200979422798,0.262131500212599,0.262131500212599,0.262131500212599,0.262131500212599,0.262131500212599,0.262131500212599,0.262131500212599,0.262131500212599,0.262131500212599,0.262131500212599,0.262131500212599,0.262131500212599,0.262131500212599,0.262131500212599,0.262131500212599,0.262131500212599,0.262131500212599,0.262131500212599,0.262131500212599,0.262131500212599,0.262131500212599,0.262131500212599,0.262131500212599,0.262131500212599,0.262131500212599,0.262131500212599,0.262131500212599,0.262131500212599,0.262131500212599,0.262131500212599,0.262131500212599,0.262131500212599,0.262131500212599,0.262131500212599,0.262131500212599,0.262131500212599,0.262131500212599,0.262131500212599,0.262131500212599,0.262131500212599,0.262131500212599,0.262131500212599,0.262131500212599,0.262131500212599,0.262131500212599,0.262131500212599,0.262131500212599,0.262131500212599,0.262131500212599,0.262131500212599,0.262131500212599,0.262131500212599,0.262131500212599,0.262131500212599,0.262131500212599,0.262131500212599,0.262131500212599,0.262131500212599,0.262131500212599,0.262131500212599,0.262131500212599,0.262131500212599,0.262131500212599,0.262131500212599,0.262131500212599,0.262131500212599,0.262131500212599,0.262131500212599,0.262131500212599,0.262131500212599,0.262131500212599,0.262131500212599,0.262131500212599,0.262131500212599,0.262131500212599,0.262131500212599,0.262131500212599,0.262131500212599,0.262131500212599,0.262131500212599,0.262131500212599,0.262131500212599,0.262131500212599,0.262131500212599,0.262131500212599,0.262131500212599,0.262131500212599,0.262131500212599,0.262131500212599,0.262131500212599,0.262131500212599,0.262131500212599,0.262131500212599,0.262131500212599,0.262131500212599],\"yaxis\":\"y\",\"type\":\"scatter\",\"opacity\":1},{\"customdata\":[[\"</br>id: observation</br>prediction: 0.429</br>booking_changes: 0.0</br></br>lead_time: 203.0</br>arrival_date_year: 2016.0</br>adults: 2.0</br>children: 0.0</br>babies: 0.0</br>_original_yhat_: 0.3079200979422798</br>\"],[\"</br>id: observation</br>prediction: 0.429</br>booking_changes: 0.21</br></br>lead_time: 203.0</br>arrival_date_year: 2016.0</br>adults: 2.0</br>children: 0.0</br>babies: 0.0</br>_original_yhat_: 0.3079200979422798</br>\"],[\"</br>id: observation</br>prediction: 0.429</br>booking_changes: 0.42</br></br>lead_time: 203.0</br>arrival_date_year: 2016.0</br>adults: 2.0</br>children: 0.0</br>babies: 0.0</br>_original_yhat_: 0.3079200979422798</br>\"],[\"</br>id: observation</br>prediction: 0.304</br>booking_changes: 0.63</br></br>lead_time: 203.0</br>arrival_date_year: 2016.0</br>adults: 2.0</br>children: 0.0</br>babies: 0.0</br>_original_yhat_: 0.3079200979422798</br>\"],[\"</br>id: observation</br>prediction: 0.304</br>booking_changes: 0.84</br></br>lead_time: 203.0</br>arrival_date_year: 2016.0</br>adults: 2.0</br>children: 0.0</br>babies: 0.0</br>_original_yhat_: 0.3079200979422798</br>\"],[\"</br>id: observation</br>prediction: 0.304</br>booking_changes: 1.05</br></br>lead_time: 203.0</br>arrival_date_year: 2016.0</br>adults: 2.0</br>children: 0.0</br>babies: 0.0</br>_original_yhat_: 0.3079200979422798</br>\"],[\"</br>id: observation</br>prediction: 0.304</br>booking_changes: 1.26</br></br>lead_time: 203.0</br>arrival_date_year: 2016.0</br>adults: 2.0</br>children: 0.0</br>babies: 0.0</br>_original_yhat_: 0.3079200979422798</br>\"],[\"</br>id: observation</br>prediction: 0.304</br>booking_changes: 1.47</br></br>lead_time: 203.0</br>arrival_date_year: 2016.0</br>adults: 2.0</br>children: 0.0</br>babies: 0.0</br>_original_yhat_: 0.3079200979422798</br>\"],[\"</br>id: observation</br>prediction: 0.308</br>booking_changes: 1.68</br></br>lead_time: 203.0</br>arrival_date_year: 2016.0</br>adults: 2.0</br>children: 0.0</br>babies: 0.0</br>_original_yhat_: 0.3079200979422798</br>\"],[\"</br>id: observation</br>prediction: 0.308</br>booking_changes: 1.89</br></br>lead_time: 203.0</br>arrival_date_year: 2016.0</br>adults: 2.0</br>children: 0.0</br>babies: 0.0</br>_original_yhat_: 0.3079200979422798</br>\"],[\"</br>id: observation</br>prediction: 0.308</br>booking_changes: 2.1</br></br>lead_time: 203.0</br>arrival_date_year: 2016.0</br>adults: 2.0</br>children: 0.0</br>babies: 0.0</br>_original_yhat_: 0.3079200979422798</br>\"],[\"</br>id: observation</br>prediction: 0.308</br>booking_changes: 2.31</br></br>lead_time: 203.0</br>arrival_date_year: 2016.0</br>adults: 2.0</br>children: 0.0</br>babies: 0.0</br>_original_yhat_: 0.3079200979422798</br>\"],[\"</br>id: observation</br>prediction: 0.308</br>booking_changes: 2.52</br></br>lead_time: 203.0</br>arrival_date_year: 2016.0</br>adults: 2.0</br>children: 0.0</br>babies: 0.0</br>_original_yhat_: 0.3079200979422798</br>\"],[\"</br>id: observation</br>prediction: 0.308</br>booking_changes: 2.73</br></br>lead_time: 203.0</br>arrival_date_year: 2016.0</br>adults: 2.0</br>children: 0.0</br>babies: 0.0</br>_original_yhat_: 0.3079200979422798</br>\"],[\"</br>id: observation</br>prediction: 0.308</br>booking_changes: 2.94</br></br>lead_time: 203.0</br>arrival_date_year: 2016.0</br>adults: 2.0</br>children: 0.0</br>babies: 0.0</br>_original_yhat_: 0.3079200979422798</br>\"],[\"</br>id: observation</br>prediction: 0.308</br>booking_changes: 3.15</br></br>lead_time: 203.0</br>arrival_date_year: 2016.0</br>adults: 2.0</br>children: 0.0</br>babies: 0.0</br>_original_yhat_: 0.3079200979422798</br>\"],[\"</br>id: observation</br>prediction: 0.308</br>booking_changes: 3.36</br></br>lead_time: 203.0</br>arrival_date_year: 2016.0</br>adults: 2.0</br>children: 0.0</br>babies: 0.0</br>_original_yhat_: 0.3079200979422798</br>\"],[\"</br>id: observation</br>prediction: 0.308</br>booking_changes: 3.57</br></br>lead_time: 203.0</br>arrival_date_year: 2016.0</br>adults: 2.0</br>children: 0.0</br>babies: 0.0</br>_original_yhat_: 0.3079200979422798</br>\"],[\"</br>id: observation</br>prediction: 0.308</br>booking_changes: 3.78</br></br>lead_time: 203.0</br>arrival_date_year: 2016.0</br>adults: 2.0</br>children: 0.0</br>babies: 0.0</br>_original_yhat_: 0.3079200979422798</br>\"],[\"</br>id: observation</br>prediction: 0.308</br>booking_changes: 3.9899999999999998</br></br>lead_time: 203.0</br>arrival_date_year: 2016.0</br>adults: 2.0</br>children: 0.0</br>babies: 0.0</br>_original_yhat_: 0.3079200979422798</br>\"],[\"</br>id: observation</br>prediction: 0.308</br>booking_changes: 4.0</br></br>lead_time: 203.0</br>arrival_date_year: 2016.0</br>adults: 2.0</br>children: 0.0</br>babies: 0.0</br>_original_yhat_: 0.3079200979422798</br>\"],[\"</br>id: observation</br>prediction: 0.308</br>booking_changes: 4.2</br></br>lead_time: 203.0</br>arrival_date_year: 2016.0</br>adults: 2.0</br>children: 0.0</br>babies: 0.0</br>_original_yhat_: 0.3079200979422798</br>\"],[\"</br>id: observation</br>prediction: 0.308</br>booking_changes: 4.41</br></br>lead_time: 203.0</br>arrival_date_year: 2016.0</br>adults: 2.0</br>children: 0.0</br>babies: 0.0</br>_original_yhat_: 0.3079200979422798</br>\"],[\"</br>id: observation</br>prediction: 0.308</br>booking_changes: 4.62</br></br>lead_time: 203.0</br>arrival_date_year: 2016.0</br>adults: 2.0</br>children: 0.0</br>babies: 0.0</br>_original_yhat_: 0.3079200979422798</br>\"],[\"</br>id: observation</br>prediction: 0.308</br>booking_changes: 4.83</br></br>lead_time: 203.0</br>arrival_date_year: 2016.0</br>adults: 2.0</br>children: 0.0</br>babies: 0.0</br>_original_yhat_: 0.3079200979422798</br>\"],[\"</br>id: observation</br>prediction: 0.308</br>booking_changes: 5.04</br></br>lead_time: 203.0</br>arrival_date_year: 2016.0</br>adults: 2.0</br>children: 0.0</br>babies: 0.0</br>_original_yhat_: 0.3079200979422798</br>\"],[\"</br>id: observation</br>prediction: 0.308</br>booking_changes: 5.25</br></br>lead_time: 203.0</br>arrival_date_year: 2016.0</br>adults: 2.0</br>children: 0.0</br>babies: 0.0</br>_original_yhat_: 0.3079200979422798</br>\"],[\"</br>id: observation</br>prediction: 0.308</br>booking_changes: 5.46</br></br>lead_time: 203.0</br>arrival_date_year: 2016.0</br>adults: 2.0</br>children: 0.0</br>babies: 0.0</br>_original_yhat_: 0.3079200979422798</br>\"],[\"</br>id: observation</br>prediction: 0.308</br>booking_changes: 5.67</br></br>lead_time: 203.0</br>arrival_date_year: 2016.0</br>adults: 2.0</br>children: 0.0</br>babies: 0.0</br>_original_yhat_: 0.3079200979422798</br>\"],[\"</br>id: observation</br>prediction: 0.308</br>booking_changes: 5.88</br></br>lead_time: 203.0</br>arrival_date_year: 2016.0</br>adults: 2.0</br>children: 0.0</br>babies: 0.0</br>_original_yhat_: 0.3079200979422798</br>\"],[\"</br>id: observation</br>prediction: 0.308</br>booking_changes: 6.09</br></br>lead_time: 203.0</br>arrival_date_year: 2016.0</br>adults: 2.0</br>children: 0.0</br>babies: 0.0</br>_original_yhat_: 0.3079200979422798</br>\"],[\"</br>id: observation</br>prediction: 0.308</br>booking_changes: 6.3</br></br>lead_time: 203.0</br>arrival_date_year: 2016.0</br>adults: 2.0</br>children: 0.0</br>babies: 0.0</br>_original_yhat_: 0.3079200979422798</br>\"],[\"</br>id: observation</br>prediction: 0.308</br>booking_changes: 6.51</br></br>lead_time: 203.0</br>arrival_date_year: 2016.0</br>adults: 2.0</br>children: 0.0</br>babies: 0.0</br>_original_yhat_: 0.3079200979422798</br>\"],[\"</br>id: observation</br>prediction: 0.308</br>booking_changes: 6.72</br></br>lead_time: 203.0</br>arrival_date_year: 2016.0</br>adults: 2.0</br>children: 0.0</br>babies: 0.0</br>_original_yhat_: 0.3079200979422798</br>\"],[\"</br>id: observation</br>prediction: 0.308</br>booking_changes: 6.93</br></br>lead_time: 203.0</br>arrival_date_year: 2016.0</br>adults: 2.0</br>children: 0.0</br>babies: 0.0</br>_original_yhat_: 0.3079200979422798</br>\"],[\"</br>id: observation</br>prediction: 0.308</br>booking_changes: 7.14</br></br>lead_time: 203.0</br>arrival_date_year: 2016.0</br>adults: 2.0</br>children: 0.0</br>babies: 0.0</br>_original_yhat_: 0.3079200979422798</br>\"],[\"</br>id: observation</br>prediction: 0.308</br>booking_changes: 7.35</br></br>lead_time: 203.0</br>arrival_date_year: 2016.0</br>adults: 2.0</br>children: 0.0</br>babies: 0.0</br>_original_yhat_: 0.3079200979422798</br>\"],[\"</br>id: observation</br>prediction: 0.308</br>booking_changes: 7.56</br></br>lead_time: 203.0</br>arrival_date_year: 2016.0</br>adults: 2.0</br>children: 0.0</br>babies: 0.0</br>_original_yhat_: 0.3079200979422798</br>\"],[\"</br>id: observation</br>prediction: 0.308</br>booking_changes: 7.77</br></br>lead_time: 203.0</br>arrival_date_year: 2016.0</br>adults: 2.0</br>children: 0.0</br>babies: 0.0</br>_original_yhat_: 0.3079200979422798</br>\"],[\"</br>id: observation</br>prediction: 0.308</br>booking_changes: 7.9799999999999995</br></br>lead_time: 203.0</br>arrival_date_year: 2016.0</br>adults: 2.0</br>children: 0.0</br>babies: 0.0</br>_original_yhat_: 0.3079200979422798</br>\"],[\"</br>id: observation</br>prediction: 0.308</br>booking_changes: 8.19</br></br>lead_time: 203.0</br>arrival_date_year: 2016.0</br>adults: 2.0</br>children: 0.0</br>babies: 0.0</br>_original_yhat_: 0.3079200979422798</br>\"],[\"</br>id: observation</br>prediction: 0.308</br>booking_changes: 8.4</br></br>lead_time: 203.0</br>arrival_date_year: 2016.0</br>adults: 2.0</br>children: 0.0</br>babies: 0.0</br>_original_yhat_: 0.3079200979422798</br>\"],[\"</br>id: observation</br>prediction: 0.308</br>booking_changes: 8.61</br></br>lead_time: 203.0</br>arrival_date_year: 2016.0</br>adults: 2.0</br>children: 0.0</br>babies: 0.0</br>_original_yhat_: 0.3079200979422798</br>\"],[\"</br>id: observation</br>prediction: 0.308</br>booking_changes: 8.82</br></br>lead_time: 203.0</br>arrival_date_year: 2016.0</br>adults: 2.0</br>children: 0.0</br>babies: 0.0</br>_original_yhat_: 0.3079200979422798</br>\"],[\"</br>id: observation</br>prediction: 0.308</br>booking_changes: 9.03</br></br>lead_time: 203.0</br>arrival_date_year: 2016.0</br>adults: 2.0</br>children: 0.0</br>babies: 0.0</br>_original_yhat_: 0.3079200979422798</br>\"],[\"</br>id: observation</br>prediction: 0.308</br>booking_changes: 9.24</br></br>lead_time: 203.0</br>arrival_date_year: 2016.0</br>adults: 2.0</br>children: 0.0</br>babies: 0.0</br>_original_yhat_: 0.3079200979422798</br>\"],[\"</br>id: observation</br>prediction: 0.308</br>booking_changes: 9.45</br></br>lead_time: 203.0</br>arrival_date_year: 2016.0</br>adults: 2.0</br>children: 0.0</br>babies: 0.0</br>_original_yhat_: 0.3079200979422798</br>\"],[\"</br>id: observation</br>prediction: 0.308</br>booking_changes: 9.66</br></br>lead_time: 203.0</br>arrival_date_year: 2016.0</br>adults: 2.0</br>children: 0.0</br>babies: 0.0</br>_original_yhat_: 0.3079200979422798</br>\"],[\"</br>id: observation</br>prediction: 0.308</br>booking_changes: 9.87</br></br>lead_time: 203.0</br>arrival_date_year: 2016.0</br>adults: 2.0</br>children: 0.0</br>babies: 0.0</br>_original_yhat_: 0.3079200979422798</br>\"],[\"</br>id: observation</br>prediction: 0.308</br>booking_changes: 10.08</br></br>lead_time: 203.0</br>arrival_date_year: 2016.0</br>adults: 2.0</br>children: 0.0</br>babies: 0.0</br>_original_yhat_: 0.3079200979422798</br>\"],[\"</br>id: observation</br>prediction: 0.308</br>booking_changes: 10.29</br></br>lead_time: 203.0</br>arrival_date_year: 2016.0</br>adults: 2.0</br>children: 0.0</br>babies: 0.0</br>_original_yhat_: 0.3079200979422798</br>\"],[\"</br>id: observation</br>prediction: 0.308</br>booking_changes: 10.5</br></br>lead_time: 203.0</br>arrival_date_year: 2016.0</br>adults: 2.0</br>children: 0.0</br>babies: 0.0</br>_original_yhat_: 0.3079200979422798</br>\"],[\"</br>id: observation</br>prediction: 0.308</br>booking_changes: 10.709999999999999</br></br>lead_time: 203.0</br>arrival_date_year: 2016.0</br>adults: 2.0</br>children: 0.0</br>babies: 0.0</br>_original_yhat_: 0.3079200979422798</br>\"],[\"</br>id: observation</br>prediction: 0.308</br>booking_changes: 10.92</br></br>lead_time: 203.0</br>arrival_date_year: 2016.0</br>adults: 2.0</br>children: 0.0</br>babies: 0.0</br>_original_yhat_: 0.3079200979422798</br>\"],[\"</br>id: observation</br>prediction: 0.308</br>booking_changes: 11.129999999999999</br></br>lead_time: 203.0</br>arrival_date_year: 2016.0</br>adults: 2.0</br>children: 0.0</br>babies: 0.0</br>_original_yhat_: 0.3079200979422798</br>\"],[\"</br>id: observation</br>prediction: 0.308</br>booking_changes: 11.34</br></br>lead_time: 203.0</br>arrival_date_year: 2016.0</br>adults: 2.0</br>children: 0.0</br>babies: 0.0</br>_original_yhat_: 0.3079200979422798</br>\"],[\"</br>id: observation</br>prediction: 0.308</br>booking_changes: 11.549999999999999</br></br>lead_time: 203.0</br>arrival_date_year: 2016.0</br>adults: 2.0</br>children: 0.0</br>babies: 0.0</br>_original_yhat_: 0.3079200979422798</br>\"],[\"</br>id: observation</br>prediction: 0.308</br>booking_changes: 11.76</br></br>lead_time: 203.0</br>arrival_date_year: 2016.0</br>adults: 2.0</br>children: 0.0</br>babies: 0.0</br>_original_yhat_: 0.3079200979422798</br>\"],[\"</br>id: observation</br>prediction: 0.308</br>booking_changes: 11.969999999999999</br></br>lead_time: 203.0</br>arrival_date_year: 2016.0</br>adults: 2.0</br>children: 0.0</br>babies: 0.0</br>_original_yhat_: 0.3079200979422798</br>\"],[\"</br>id: observation</br>prediction: 0.308</br>booking_changes: 12.18</br></br>lead_time: 203.0</br>arrival_date_year: 2016.0</br>adults: 2.0</br>children: 0.0</br>babies: 0.0</br>_original_yhat_: 0.3079200979422798</br>\"],[\"</br>id: observation</br>prediction: 0.308</br>booking_changes: 12.389999999999999</br></br>lead_time: 203.0</br>arrival_date_year: 2016.0</br>adults: 2.0</br>children: 0.0</br>babies: 0.0</br>_original_yhat_: 0.3079200979422798</br>\"],[\"</br>id: observation</br>prediction: 0.308</br>booking_changes: 12.6</br></br>lead_time: 203.0</br>arrival_date_year: 2016.0</br>adults: 2.0</br>children: 0.0</br>babies: 0.0</br>_original_yhat_: 0.3079200979422798</br>\"],[\"</br>id: observation</br>prediction: 0.308</br>booking_changes: 12.809999999999999</br></br>lead_time: 203.0</br>arrival_date_year: 2016.0</br>adults: 2.0</br>children: 0.0</br>babies: 0.0</br>_original_yhat_: 0.3079200979422798</br>\"],[\"</br>id: observation</br>prediction: 0.308</br>booking_changes: 13.02</br></br>lead_time: 203.0</br>arrival_date_year: 2016.0</br>adults: 2.0</br>children: 0.0</br>babies: 0.0</br>_original_yhat_: 0.3079200979422798</br>\"],[\"</br>id: observation</br>prediction: 0.308</br>booking_changes: 13.229999999999999</br></br>lead_time: 203.0</br>arrival_date_year: 2016.0</br>adults: 2.0</br>children: 0.0</br>babies: 0.0</br>_original_yhat_: 0.3079200979422798</br>\"],[\"</br>id: observation</br>prediction: 0.308</br>booking_changes: 13.44</br></br>lead_time: 203.0</br>arrival_date_year: 2016.0</br>adults: 2.0</br>children: 0.0</br>babies: 0.0</br>_original_yhat_: 0.3079200979422798</br>\"],[\"</br>id: observation</br>prediction: 0.308</br>booking_changes: 13.65</br></br>lead_time: 203.0</br>arrival_date_year: 2016.0</br>adults: 2.0</br>children: 0.0</br>babies: 0.0</br>_original_yhat_: 0.3079200979422798</br>\"],[\"</br>id: observation</br>prediction: 0.308</br>booking_changes: 13.86</br></br>lead_time: 203.0</br>arrival_date_year: 2016.0</br>adults: 2.0</br>children: 0.0</br>babies: 0.0</br>_original_yhat_: 0.3079200979422798</br>\"],[\"</br>id: observation</br>prediction: 0.308</br>booking_changes: 14.07</br></br>lead_time: 203.0</br>arrival_date_year: 2016.0</br>adults: 2.0</br>children: 0.0</br>babies: 0.0</br>_original_yhat_: 0.3079200979422798</br>\"],[\"</br>id: observation</br>prediction: 0.308</br>booking_changes: 14.28</br></br>lead_time: 203.0</br>arrival_date_year: 2016.0</br>adults: 2.0</br>children: 0.0</br>babies: 0.0</br>_original_yhat_: 0.3079200979422798</br>\"],[\"</br>id: observation</br>prediction: 0.308</br>booking_changes: 14.49</br></br>lead_time: 203.0</br>arrival_date_year: 2016.0</br>adults: 2.0</br>children: 0.0</br>babies: 0.0</br>_original_yhat_: 0.3079200979422798</br>\"],[\"</br>id: observation</br>prediction: 0.308</br>booking_changes: 14.7</br></br>lead_time: 203.0</br>arrival_date_year: 2016.0</br>adults: 2.0</br>children: 0.0</br>babies: 0.0</br>_original_yhat_: 0.3079200979422798</br>\"],[\"</br>id: observation</br>prediction: 0.308</br>booking_changes: 14.91</br></br>lead_time: 203.0</br>arrival_date_year: 2016.0</br>adults: 2.0</br>children: 0.0</br>babies: 0.0</br>_original_yhat_: 0.3079200979422798</br>\"],[\"</br>id: observation</br>prediction: 0.308</br>booking_changes: 15.12</br></br>lead_time: 203.0</br>arrival_date_year: 2016.0</br>adults: 2.0</br>children: 0.0</br>babies: 0.0</br>_original_yhat_: 0.3079200979422798</br>\"],[\"</br>id: observation</br>prediction: 0.308</br>booking_changes: 15.33</br></br>lead_time: 203.0</br>arrival_date_year: 2016.0</br>adults: 2.0</br>children: 0.0</br>babies: 0.0</br>_original_yhat_: 0.3079200979422798</br>\"],[\"</br>id: observation</br>prediction: 0.308</br>booking_changes: 15.54</br></br>lead_time: 203.0</br>arrival_date_year: 2016.0</br>adults: 2.0</br>children: 0.0</br>babies: 0.0</br>_original_yhat_: 0.3079200979422798</br>\"],[\"</br>id: observation</br>prediction: 0.308</br>booking_changes: 15.75</br></br>lead_time: 203.0</br>arrival_date_year: 2016.0</br>adults: 2.0</br>children: 0.0</br>babies: 0.0</br>_original_yhat_: 0.3079200979422798</br>\"],[\"</br>id: observation</br>prediction: 0.308</br>booking_changes: 15.959999999999999</br></br>lead_time: 203.0</br>arrival_date_year: 2016.0</br>adults: 2.0</br>children: 0.0</br>babies: 0.0</br>_original_yhat_: 0.3079200979422798</br>\"],[\"</br>id: observation</br>prediction: 0.308</br>booking_changes: 16.169999999999998</br></br>lead_time: 203.0</br>arrival_date_year: 2016.0</br>adults: 2.0</br>children: 0.0</br>babies: 0.0</br>_original_yhat_: 0.3079200979422798</br>\"],[\"</br>id: observation</br>prediction: 0.308</br>booking_changes: 16.38</br></br>lead_time: 203.0</br>arrival_date_year: 2016.0</br>adults: 2.0</br>children: 0.0</br>babies: 0.0</br>_original_yhat_: 0.3079200979422798</br>\"],[\"</br>id: observation</br>prediction: 0.308</br>booking_changes: 16.59</br></br>lead_time: 203.0</br>arrival_date_year: 2016.0</br>adults: 2.0</br>children: 0.0</br>babies: 0.0</br>_original_yhat_: 0.3079200979422798</br>\"],[\"</br>id: observation</br>prediction: 0.308</br>booking_changes: 16.8</br></br>lead_time: 203.0</br>arrival_date_year: 2016.0</br>adults: 2.0</br>children: 0.0</br>babies: 0.0</br>_original_yhat_: 0.3079200979422798</br>\"],[\"</br>id: observation</br>prediction: 0.308</br>booking_changes: 17.009999999999998</br></br>lead_time: 203.0</br>arrival_date_year: 2016.0</br>adults: 2.0</br>children: 0.0</br>babies: 0.0</br>_original_yhat_: 0.3079200979422798</br>\"],[\"</br>id: observation</br>prediction: 0.308</br>booking_changes: 17.22</br></br>lead_time: 203.0</br>arrival_date_year: 2016.0</br>adults: 2.0</br>children: 0.0</br>babies: 0.0</br>_original_yhat_: 0.3079200979422798</br>\"],[\"</br>id: observation</br>prediction: 0.308</br>booking_changes: 17.43</br></br>lead_time: 203.0</br>arrival_date_year: 2016.0</br>adults: 2.0</br>children: 0.0</br>babies: 0.0</br>_original_yhat_: 0.3079200979422798</br>\"],[\"</br>id: observation</br>prediction: 0.308</br>booking_changes: 17.64</br></br>lead_time: 203.0</br>arrival_date_year: 2016.0</br>adults: 2.0</br>children: 0.0</br>babies: 0.0</br>_original_yhat_: 0.3079200979422798</br>\"],[\"</br>id: observation</br>prediction: 0.308</br>booking_changes: 17.849999999999998</br></br>lead_time: 203.0</br>arrival_date_year: 2016.0</br>adults: 2.0</br>children: 0.0</br>babies: 0.0</br>_original_yhat_: 0.3079200979422798</br>\"],[\"</br>id: observation</br>prediction: 0.308</br>booking_changes: 18.06</br></br>lead_time: 203.0</br>arrival_date_year: 2016.0</br>adults: 2.0</br>children: 0.0</br>babies: 0.0</br>_original_yhat_: 0.3079200979422798</br>\"],[\"</br>id: observation</br>prediction: 0.308</br>booking_changes: 18.27</br></br>lead_time: 203.0</br>arrival_date_year: 2016.0</br>adults: 2.0</br>children: 0.0</br>babies: 0.0</br>_original_yhat_: 0.3079200979422798</br>\"],[\"</br>id: observation</br>prediction: 0.308</br>booking_changes: 18.48</br></br>lead_time: 203.0</br>arrival_date_year: 2016.0</br>adults: 2.0</br>children: 0.0</br>babies: 0.0</br>_original_yhat_: 0.3079200979422798</br>\"],[\"</br>id: observation</br>prediction: 0.308</br>booking_changes: 18.689999999999998</br></br>lead_time: 203.0</br>arrival_date_year: 2016.0</br>adults: 2.0</br>children: 0.0</br>babies: 0.0</br>_original_yhat_: 0.3079200979422798</br>\"],[\"</br>id: observation</br>prediction: 0.308</br>booking_changes: 18.9</br></br>lead_time: 203.0</br>arrival_date_year: 2016.0</br>adults: 2.0</br>children: 0.0</br>babies: 0.0</br>_original_yhat_: 0.3079200979422798</br>\"],[\"</br>id: observation</br>prediction: 0.308</br>booking_changes: 19.11</br></br>lead_time: 203.0</br>arrival_date_year: 2016.0</br>adults: 2.0</br>children: 0.0</br>babies: 0.0</br>_original_yhat_: 0.3079200979422798</br>\"],[\"</br>id: observation</br>prediction: 0.308</br>booking_changes: 19.32</br></br>lead_time: 203.0</br>arrival_date_year: 2016.0</br>adults: 2.0</br>children: 0.0</br>babies: 0.0</br>_original_yhat_: 0.3079200979422798</br>\"],[\"</br>id: observation</br>prediction: 0.308</br>booking_changes: 19.529999999999998</br></br>lead_time: 203.0</br>arrival_date_year: 2016.0</br>adults: 2.0</br>children: 0.0</br>babies: 0.0</br>_original_yhat_: 0.3079200979422798</br>\"],[\"</br>id: observation</br>prediction: 0.308</br>booking_changes: 19.74</br></br>lead_time: 203.0</br>arrival_date_year: 2016.0</br>adults: 2.0</br>children: 0.0</br>babies: 0.0</br>_original_yhat_: 0.3079200979422798</br>\"],[\"</br>id: observation</br>prediction: 0.308</br>booking_changes: 19.95</br></br>lead_time: 203.0</br>arrival_date_year: 2016.0</br>adults: 2.0</br>children: 0.0</br>babies: 0.0</br>_original_yhat_: 0.3079200979422798</br>\"],[\"</br>id: observation</br>prediction: 0.308</br>booking_changes: 20.16</br></br>lead_time: 203.0</br>arrival_date_year: 2016.0</br>adults: 2.0</br>children: 0.0</br>babies: 0.0</br>_original_yhat_: 0.3079200979422798</br>\"],[\"</br>id: observation</br>prediction: 0.308</br>booking_changes: 20.37</br></br>lead_time: 203.0</br>arrival_date_year: 2016.0</br>adults: 2.0</br>children: 0.0</br>babies: 0.0</br>_original_yhat_: 0.3079200979422798</br>\"],[\"</br>id: observation</br>prediction: 0.308</br>booking_changes: 20.58</br></br>lead_time: 203.0</br>arrival_date_year: 2016.0</br>adults: 2.0</br>children: 0.0</br>babies: 0.0</br>_original_yhat_: 0.3079200979422798</br>\"],[\"</br>id: observation</br>prediction: 0.308</br>booking_changes: 20.79</br></br>lead_time: 203.0</br>arrival_date_year: 2016.0</br>adults: 2.0</br>children: 0.0</br>babies: 0.0</br>_original_yhat_: 0.3079200979422798</br>\"],[\"</br>id: observation</br>prediction: 0.308</br>booking_changes: 21.0</br></br>lead_time: 203.0</br>arrival_date_year: 2016.0</br>adults: 2.0</br>children: 0.0</br>babies: 0.0</br>_original_yhat_: 0.3079200979422798</br>\"]],\"hovertemplate\":\"%{customdata[0]}<extra></extra>\",\"legendgroup\":\"random_forest\",\"line\":{\"color\":\"#46bac2\",\"dash\":\"solid\",\"width\":2},\"marker\":{\"symbol\":\"circle\"},\"mode\":\"lines\",\"name\":\"random_forest\",\"orientation\":\"v\",\"showlegend\":false,\"x\":[0.0,0.21,0.42,0.63,0.84,1.05,1.26,1.47,1.68,1.89,2.1,2.31,2.52,2.73,2.94,3.15,3.36,3.57,3.78,3.9899999999999998,4.0,4.2,4.41,4.62,4.83,5.04,5.25,5.46,5.67,5.88,6.09,6.3,6.51,6.72,6.93,7.14,7.35,7.56,7.77,7.9799999999999995,8.19,8.4,8.61,8.82,9.03,9.24,9.45,9.66,9.87,10.08,10.29,10.5,10.709999999999999,10.92,11.129999999999999,11.34,11.549999999999999,11.76,11.969999999999999,12.18,12.389999999999999,12.6,12.809999999999999,13.02,13.229999999999999,13.44,13.65,13.86,14.07,14.28,14.49,14.7,14.91,15.12,15.33,15.54,15.75,15.959999999999999,16.169999999999998,16.38,16.59,16.8,17.009999999999998,17.22,17.43,17.64,17.849999999999998,18.06,18.27,18.48,18.689999999999998,18.9,19.11,19.32,19.529999999999998,19.74,19.95,20.16,20.37,20.58,20.79,21.0],\"xaxis\":\"x2\",\"y\":[0.42943462250390285,0.42943462250390285,0.42943462250390285,0.3041444900516478,0.3041444900516478,0.3041444900516478,0.3041444900516478,0.3041444900516478,0.3079200979422798,0.3079200979422798,0.3079200979422798,0.3079200979422798,0.3079200979422798,0.3079200979422798,0.3079200979422798,0.3079200979422798,0.3079200979422798,0.3079200979422798,0.3079200979422798,0.3079200979422798,0.3079200979422798,0.3079200979422798,0.3079200979422798,0.3079200979422798,0.3079200979422798,0.3079200979422798,0.3079200979422798,0.3079200979422798,0.3079200979422798,0.3079200979422798,0.3079200979422798,0.3079200979422798,0.3079200979422798,0.3079200979422798,0.3079200979422798,0.3079200979422798,0.3079200979422798,0.3079200979422798,0.3079200979422798,0.3079200979422798,0.3079200979422798,0.3079200979422798,0.3079200979422798,0.3079200979422798,0.3079200979422798,0.3079200979422798,0.3079200979422798,0.3079200979422798,0.3079200979422798,0.3079200979422798,0.3079200979422798,0.3079200979422798,0.3079200979422798,0.3079200979422798,0.3079200979422798,0.3079200979422798,0.3079200979422798,0.3079200979422798,0.3079200979422798,0.3079200979422798,0.3079200979422798,0.3079200979422798,0.3079200979422798,0.3079200979422798,0.3079200979422798,0.3079200979422798,0.3079200979422798,0.3079200979422798,0.3079200979422798,0.3079200979422798,0.3079200979422798,0.3079200979422798,0.3079200979422798,0.3079200979422798,0.3079200979422798,0.3079200979422798,0.3079200979422798,0.3079200979422798,0.3079200979422798,0.3079200979422798,0.3079200979422798,0.3079200979422798,0.3079200979422798,0.3079200979422798,0.3079200979422798,0.3079200979422798,0.3079200979422798,0.3079200979422798,0.3079200979422798,0.3079200979422798,0.3079200979422798,0.3079200979422798,0.3079200979422798,0.3079200979422798,0.3079200979422798,0.3079200979422798,0.3079200979422798,0.3079200979422798,0.3079200979422798,0.3079200979422798,0.3079200979422798,0.3079200979422798],\"yaxis\":\"y2\",\"type\":\"scatter\",\"opacity\":1},{\"customdata\":[[\"</br>id: observation</br>prediction: 0.308</br>lead_time: 203.0</br></br>arrival_date_year: 2016.0</br>adults: 2.0</br>children: 0.0</br>babies: 0.0</br>booking_changes: 4.0</br>_original_yhat_: 0.3079200979422798</br>\"]],\"hovertemplate\":\"%{customdata[0]}<extra></extra>\",\"legendgroup\":\"\",\"marker\":{\"color\":\"#371ea3\",\"size\":10,\"symbol\":\"circle\"},\"mode\":\"markers\",\"name\":\"\",\"opacity\":1,\"orientation\":\"v\",\"showlegend\":false,\"x\":[203.0],\"xaxis\":\"x3\",\"y\":[0.3079200979422798],\"yaxis\":\"y3\",\"type\":\"scatter\"},{\"customdata\":[[\"</br>id: observation</br>prediction: 0.308</br>children: 0.0</br></br>lead_time: 203.0</br>arrival_date_year: 2016.0</br>adults: 2.0</br>babies: 0.0</br>booking_changes: 4.0</br>_original_yhat_: 0.3079200979422798</br>\"]],\"hovertemplate\":\"%{customdata[0]}<extra></extra>\",\"legendgroup\":\"\",\"marker\":{\"color\":\"#371ea3\",\"size\":10,\"symbol\":\"circle\"},\"mode\":\"markers\",\"name\":\"\",\"opacity\":1,\"orientation\":\"v\",\"showlegend\":false,\"x\":[0.0],\"xaxis\":\"x4\",\"y\":[0.3079200979422798],\"yaxis\":\"y4\",\"type\":\"scatter\"},{\"customdata\":[[\"</br>id: observation</br>prediction: 0.308</br>babies: 0.0</br></br>lead_time: 203.0</br>arrival_date_year: 2016.0</br>adults: 2.0</br>children: 0.0</br>booking_changes: 4.0</br>_original_yhat_: 0.3079200979422798</br>\"]],\"hovertemplate\":\"%{customdata[0]}<extra></extra>\",\"legendgroup\":\"\",\"marker\":{\"color\":\"#371ea3\",\"size\":10,\"symbol\":\"circle\"},\"mode\":\"markers\",\"name\":\"\",\"opacity\":1,\"orientation\":\"v\",\"showlegend\":false,\"x\":[0.0],\"xaxis\":\"x\",\"y\":[0.3079200979422798],\"yaxis\":\"y\",\"type\":\"scatter\"},{\"customdata\":[[\"</br>id: observation</br>prediction: 0.308</br>booking_changes: 4.0</br></br>lead_time: 203.0</br>arrival_date_year: 2016.0</br>adults: 2.0</br>children: 0.0</br>babies: 0.0</br>_original_yhat_: 0.3079200979422798</br>\"]],\"hovertemplate\":\"%{customdata[0]}<extra></extra>\",\"legendgroup\":\"\",\"marker\":{\"color\":\"#371ea3\",\"size\":10,\"symbol\":\"circle\"},\"mode\":\"markers\",\"name\":\"\",\"opacity\":1,\"orientation\":\"v\",\"showlegend\":false,\"x\":[4.0],\"xaxis\":\"x2\",\"y\":[0.3079200979422798],\"yaxis\":\"y2\",\"type\":\"scatter\"}],                        {\"template\":{\"data\":{\"scatter\":[{\"type\":\"scatter\"}]}},\"xaxis\":{\"anchor\":\"y\",\"domain\":[0.0,0.475],\"title\":{\"text\":\"\"},\"showticklabels\":true,\"type\":\"linear\",\"gridwidth\":2,\"zeroline\":false,\"automargin\":true,\"ticks\":\"outside\",\"tickcolor\":\"white\",\"ticklen\":3,\"fixedrange\":true},\"yaxis\":{\"anchor\":\"x\",\"domain\":[0.0,0.425],\"title\":{\"text\":\"\"},\"type\":\"linear\",\"gridwidth\":2,\"zeroline\":false,\"automargin\":true,\"ticks\":\"outside\",\"tickcolor\":\"white\",\"ticklen\":3,\"fixedrange\":true,\"range\":[0.1630561388108606,0.4536508482941794]},\"xaxis2\":{\"anchor\":\"y2\",\"domain\":[0.525,1.0],\"title\":{\"text\":\"\"},\"showticklabels\":true,\"type\":\"linear\",\"gridwidth\":2,\"zeroline\":false,\"automargin\":true,\"ticks\":\"outside\",\"tickcolor\":\"white\",\"ticklen\":3,\"fixedrange\":true},\"yaxis2\":{\"anchor\":\"x2\",\"domain\":[0.0,0.425],\"matches\":\"y\",\"showticklabels\":false,\"type\":\"linear\",\"gridwidth\":2,\"zeroline\":false,\"automargin\":true,\"ticks\":\"outside\",\"tickcolor\":\"white\",\"ticklen\":3,\"fixedrange\":true,\"range\":[0.1630561388108606,0.4536508482941794],\"title\":{\"text\":\"\"}},\"xaxis3\":{\"anchor\":\"y3\",\"domain\":[0.0,0.475],\"showticklabels\":true,\"type\":\"linear\",\"gridwidth\":2,\"zeroline\":false,\"automargin\":true,\"ticks\":\"outside\",\"tickcolor\":\"white\",\"ticklen\":3,\"fixedrange\":true,\"title\":{\"text\":\"\"}},\"yaxis3\":{\"anchor\":\"x3\",\"domain\":[0.575,1.0],\"matches\":\"y\",\"title\":{\"text\":\"\"},\"type\":\"linear\",\"gridwidth\":2,\"zeroline\":false,\"automargin\":true,\"ticks\":\"outside\",\"tickcolor\":\"white\",\"ticklen\":3,\"fixedrange\":true,\"range\":[0.1630561388108606,0.4536508482941794]},\"xaxis4\":{\"anchor\":\"y4\",\"domain\":[0.525,1.0],\"showticklabels\":true,\"type\":\"linear\",\"gridwidth\":2,\"zeroline\":false,\"automargin\":true,\"ticks\":\"outside\",\"tickcolor\":\"white\",\"ticklen\":3,\"fixedrange\":true,\"title\":{\"text\":\"\"}},\"yaxis4\":{\"anchor\":\"x4\",\"domain\":[0.575,1.0],\"matches\":\"y\",\"showticklabels\":false,\"type\":\"linear\",\"gridwidth\":2,\"zeroline\":false,\"automargin\":true,\"ticks\":\"outside\",\"tickcolor\":\"white\",\"ticklen\":3,\"fixedrange\":true,\"range\":[0.1630561388108606,0.4536508482941794],\"title\":{\"text\":\"\"}},\"annotations\":[{\"font\":{\"size\":13},\"showarrow\":false,\"text\":\"babies\",\"x\":0.2375,\"xanchor\":\"center\",\"xref\":\"paper\",\"y\":0.425,\"yanchor\":\"bottom\",\"yref\":\"paper\"},{\"font\":{\"size\":13},\"showarrow\":false,\"text\":\"booking_changes\",\"x\":0.7625,\"xanchor\":\"center\",\"xref\":\"paper\",\"y\":0.425,\"yanchor\":\"bottom\",\"yref\":\"paper\"},{\"font\":{\"size\":13},\"showarrow\":false,\"text\":\"lead_time\",\"x\":0.2375,\"xanchor\":\"center\",\"xref\":\"paper\",\"y\":1.0,\"yanchor\":\"bottom\",\"yref\":\"paper\"},{\"font\":{\"size\":13},\"showarrow\":false,\"text\":\"children\",\"x\":0.7625,\"xanchor\":\"center\",\"xref\":\"paper\",\"y\":1.0,\"yanchor\":\"bottom\",\"yref\":\"paper\"},{\"font\":{\"size\":13},\"showarrow\":false,\"text\":\"prediction\",\"textangle\":-90,\"x\":-0.07,\"xref\":\"paper\",\"y\":0.5,\"yref\":\"paper\"}],\"legend\":{\"title\":{\"text\":\"label\",\"font\":{\"size\":12}},\"tracegroupgap\":0,\"font\":{\"size\":11},\"orientation\":\"h\",\"yanchor\":\"bottom\",\"y\":1.0361881785283473,\"xanchor\":\"right\",\"x\":1,\"itemsizing\":\"constant\"},\"margin\":{\"t\":78,\"b\":71,\"r\":30},\"font\":{\"color\":\"#371ea3\"},\"title\":{\"font\":{\"size\":16},\"text\":\"Ceteris Paribus Profiles\",\"x\":0.15},\"hovermode\":\"closest\",\"height\":829,\"hoverlabel\":{\"bgcolor\":\"rgba(0,0,0,0.8)\"}},                        {\"displaylogo\": false, \"staticPlot\": false, \"toImageButtonOptions\": {\"height\": null, \"width\": null}, \"modeBarButtonsToRemove\": [\"sendDataToCloud\", \"lasso2d\", \"autoScale2d\", \"select2d\", \"zoom2d\", \"pan2d\", \"zoomIn2d\", \"zoomOut2d\", \"resetScale2d\", \"toggleSpikelines\", \"hoverCompareCartesian\", \"hoverClosestCartesian\"], \"responsive\": true}                    ).then(function(){\n",
       "                            \n",
       "var gd = document.getElementById('7d8b0507-f2c0-46bc-a8e2-89bdc90a73ee');\n",
       "var x = new MutationObserver(function (mutations, observer) {{\n",
       "        var display = window.getComputedStyle(gd).display;\n",
       "        if (!display || display === 'none') {{\n",
       "            console.log([gd, 'removed!']);\n",
       "            Plotly.purge(gd);\n",
       "            observer.disconnect();\n",
       "        }}\n",
       "}});\n",
       "\n",
       "// Listen for the removal of the full notebook cells\n",
       "var notebookContainer = gd.closest('#notebook-container');\n",
       "if (notebookContainer) {{\n",
       "    x.observe(notebookContainer, {childList: true});\n",
       "}}\n",
       "\n",
       "// Listen for the clearing of the current output cell\n",
       "var outputEl = gd.closest('.output');\n",
       "if (outputEl) {{\n",
       "    x.observe(outputEl, {childList: true});\n",
       "}}\n",
       "\n",
       "                        })                };                });            </script>        </div>"
      ]
     },
     "metadata": {},
     "output_type": "display_data"
    }
   ],
   "source": [
    "forest_profile = exp_forest.predict_profile(new_observation = observation)\n",
    "\n",
    "# plot Ceteris Paribus profile\n",
    "forest_profile.plot(variables = ['lead_time', 'children', 'babies', 'booking_changes'])"
   ]
  },
  {
   "cell_type": "markdown",
   "id": "7848e30c",
   "metadata": {},
   "source": [
    "## AdaBoost"
   ]
  },
  {
   "cell_type": "code",
   "execution_count": 57,
   "id": "90d2f5a5",
   "metadata": {},
   "outputs": [
    {
     "data": {
      "text/plain": [
       "AdaBoostClassifier(n_estimators=100, random_state=0)"
      ]
     },
     "execution_count": 57,
     "metadata": {},
     "output_type": "execute_result"
    }
   ],
   "source": [
    "adaboost = AdaBoostClassifier(n_estimators=100, random_state=0)\n",
    "adaboost.fit(X_train, y_train)"
   ]
  },
  {
   "cell_type": "code",
   "execution_count": 58,
   "id": "b9c2249c",
   "metadata": {},
   "outputs": [
    {
     "data": {
      "text/plain": [
       "array([0], dtype=int64)"
      ]
     },
     "execution_count": 58,
     "metadata": {},
     "output_type": "execute_result"
    }
   ],
   "source": [
    "adaboost.predict(observation) # prediction"
   ]
  },
  {
   "cell_type": "code",
   "execution_count": 60,
   "id": "16a285c2",
   "metadata": {},
   "outputs": [
    {
     "name": "stdout",
     "output_type": "stream",
     "text": [
      "Preparation of a new explainer is initiated\n",
      "\n",
      "  -> data              : 107447 rows 6 cols\n",
      "  -> target variable   : Parameter 'y' was a pandas.DataFrame. Converted to a numpy.ndarray.\n",
      "  -> target variable   : 107447 values\n",
      "  -> model_class       : sklearn.ensemble._forest.RandomForestClassifier (default)\n",
      "  -> label             : adaboost\n",
      "  -> predict function  : <function yhat_proba_default at 0x00000228ADDB3C10> will be used (default)\n",
      "  -> predict function  : Accepts pandas.DataFrame and numpy.ndarray.\n",
      "  -> predicted values  : min = 0.139, mean = 0.37, max = 0.45\n",
      "  -> model type        : classification will be used (default)\n",
      "  -> residual function : difference between y and yhat (default)\n",
      "  -> residuals         : min = -0.45, mean = -3.51e-05, max = 0.861\n",
      "  -> model_info        : package sklearn\n",
      "\n",
      "A new explainer has been created!\n"
     ]
    }
   ],
   "source": [
    "exp_adaboost = dx.Explainer(forest, X_train, y_train, label='adaboost')"
   ]
  },
  {
   "cell_type": "code",
   "execution_count": 61,
   "id": "938260e8",
   "metadata": {},
   "outputs": [
    {
     "name": "stderr",
     "output_type": "stream",
     "text": [
      "Calculating ceteris paribus: 100%|███████████████████████████████████████████████████████| 6/6 [00:00<00:00, 65.07it/s]\n"
     ]
    },
    {
     "data": {
      "application/vnd.plotly.v1+json": {
       "config": {
        "displaylogo": false,
        "modeBarButtonsToRemove": [
         "sendDataToCloud",
         "lasso2d",
         "autoScale2d",
         "select2d",
         "zoom2d",
         "pan2d",
         "zoomIn2d",
         "zoomOut2d",
         "resetScale2d",
         "toggleSpikelines",
         "hoverCompareCartesian",
         "hoverClosestCartesian"
        ],
        "plotlyServerURL": "https://plot.ly",
        "staticPlot": false,
        "toImageButtonOptions": {
         "height": null,
         "width": null
        }
       },
       "data": [
        {
         "customdata": [
          [
           "</br>id: observation</br>prediction: 0.187</br>lead_time: 0.0</br></br>arrival_date_year: 2016.0</br>adults: 2.0</br>children: 0.0</br>babies: 0.0</br>booking_changes: 4.0</br>_original_yhat_: 0.3079200979422798</br>"
          ],
          [
           "</br>id: observation</br>prediction: 0.187</br>lead_time: 7.37</br></br>arrival_date_year: 2016.0</br>adults: 2.0</br>children: 0.0</br>babies: 0.0</br>booking_changes: 4.0</br>_original_yhat_: 0.3079200979422798</br>"
          ],
          [
           "</br>id: observation</br>prediction: 0.215</br>lead_time: 14.74</br></br>arrival_date_year: 2016.0</br>adults: 2.0</br>children: 0.0</br>babies: 0.0</br>booking_changes: 4.0</br>_original_yhat_: 0.3079200979422798</br>"
          ],
          [
           "</br>id: observation</br>prediction: 0.242</br>lead_time: 22.11</br></br>arrival_date_year: 2016.0</br>adults: 2.0</br>children: 0.0</br>babies: 0.0</br>booking_changes: 4.0</br>_original_yhat_: 0.3079200979422798</br>"
          ],
          [
           "</br>id: observation</br>prediction: 0.308</br>lead_time: 29.48</br></br>arrival_date_year: 2016.0</br>adults: 2.0</br>children: 0.0</br>babies: 0.0</br>booking_changes: 4.0</br>_original_yhat_: 0.3079200979422798</br>"
          ],
          [
           "</br>id: observation</br>prediction: 0.308</br>lead_time: 36.85</br></br>arrival_date_year: 2016.0</br>adults: 2.0</br>children: 0.0</br>babies: 0.0</br>booking_changes: 4.0</br>_original_yhat_: 0.3079200979422798</br>"
          ],
          [
           "</br>id: observation</br>prediction: 0.308</br>lead_time: 44.22</br></br>arrival_date_year: 2016.0</br>adults: 2.0</br>children: 0.0</br>babies: 0.0</br>booking_changes: 4.0</br>_original_yhat_: 0.3079200979422798</br>"
          ],
          [
           "</br>id: observation</br>prediction: 0.308</br>lead_time: 51.59</br></br>arrival_date_year: 2016.0</br>adults: 2.0</br>children: 0.0</br>babies: 0.0</br>booking_changes: 4.0</br>_original_yhat_: 0.3079200979422798</br>"
          ],
          [
           "</br>id: observation</br>prediction: 0.308</br>lead_time: 58.96</br></br>arrival_date_year: 2016.0</br>adults: 2.0</br>children: 0.0</br>babies: 0.0</br>booking_changes: 4.0</br>_original_yhat_: 0.3079200979422798</br>"
          ],
          [
           "</br>id: observation</br>prediction: 0.308</br>lead_time: 66.33</br></br>arrival_date_year: 2016.0</br>adults: 2.0</br>children: 0.0</br>babies: 0.0</br>booking_changes: 4.0</br>_original_yhat_: 0.3079200979422798</br>"
          ],
          [
           "</br>id: observation</br>prediction: 0.308</br>lead_time: 73.7</br></br>arrival_date_year: 2016.0</br>adults: 2.0</br>children: 0.0</br>babies: 0.0</br>booking_changes: 4.0</br>_original_yhat_: 0.3079200979422798</br>"
          ],
          [
           "</br>id: observation</br>prediction: 0.308</br>lead_time: 81.07000000000001</br></br>arrival_date_year: 2016.0</br>adults: 2.0</br>children: 0.0</br>babies: 0.0</br>booking_changes: 4.0</br>_original_yhat_: 0.3079200979422798</br>"
          ],
          [
           "</br>id: observation</br>prediction: 0.308</br>lead_time: 88.44</br></br>arrival_date_year: 2016.0</br>adults: 2.0</br>children: 0.0</br>babies: 0.0</br>booking_changes: 4.0</br>_original_yhat_: 0.3079200979422798</br>"
          ],
          [
           "</br>id: observation</br>prediction: 0.308</br>lead_time: 95.81</br></br>arrival_date_year: 2016.0</br>adults: 2.0</br>children: 0.0</br>babies: 0.0</br>booking_changes: 4.0</br>_original_yhat_: 0.3079200979422798</br>"
          ],
          [
           "</br>id: observation</br>prediction: 0.308</br>lead_time: 103.18</br></br>arrival_date_year: 2016.0</br>adults: 2.0</br>children: 0.0</br>babies: 0.0</br>booking_changes: 4.0</br>_original_yhat_: 0.3079200979422798</br>"
          ],
          [
           "</br>id: observation</br>prediction: 0.308</br>lead_time: 110.55</br></br>arrival_date_year: 2016.0</br>adults: 2.0</br>children: 0.0</br>babies: 0.0</br>booking_changes: 4.0</br>_original_yhat_: 0.3079200979422798</br>"
          ],
          [
           "</br>id: observation</br>prediction: 0.308</br>lead_time: 117.92</br></br>arrival_date_year: 2016.0</br>adults: 2.0</br>children: 0.0</br>babies: 0.0</br>booking_changes: 4.0</br>_original_yhat_: 0.3079200979422798</br>"
          ],
          [
           "</br>id: observation</br>prediction: 0.308</br>lead_time: 125.29</br></br>arrival_date_year: 2016.0</br>adults: 2.0</br>children: 0.0</br>babies: 0.0</br>booking_changes: 4.0</br>_original_yhat_: 0.3079200979422798</br>"
          ],
          [
           "</br>id: observation</br>prediction: 0.308</br>lead_time: 132.66</br></br>arrival_date_year: 2016.0</br>adults: 2.0</br>children: 0.0</br>babies: 0.0</br>booking_changes: 4.0</br>_original_yhat_: 0.3079200979422798</br>"
          ],
          [
           "</br>id: observation</br>prediction: 0.308</br>lead_time: 140.03</br></br>arrival_date_year: 2016.0</br>adults: 2.0</br>children: 0.0</br>babies: 0.0</br>booking_changes: 4.0</br>_original_yhat_: 0.3079200979422798</br>"
          ],
          [
           "</br>id: observation</br>prediction: 0.308</br>lead_time: 147.4</br></br>arrival_date_year: 2016.0</br>adults: 2.0</br>children: 0.0</br>babies: 0.0</br>booking_changes: 4.0</br>_original_yhat_: 0.3079200979422798</br>"
          ],
          [
           "</br>id: observation</br>prediction: 0.308</br>lead_time: 154.77</br></br>arrival_date_year: 2016.0</br>adults: 2.0</br>children: 0.0</br>babies: 0.0</br>booking_changes: 4.0</br>_original_yhat_: 0.3079200979422798</br>"
          ],
          [
           "</br>id: observation</br>prediction: 0.308</br>lead_time: 162.14000000000001</br></br>arrival_date_year: 2016.0</br>adults: 2.0</br>children: 0.0</br>babies: 0.0</br>booking_changes: 4.0</br>_original_yhat_: 0.3079200979422798</br>"
          ],
          [
           "</br>id: observation</br>prediction: 0.308</br>lead_time: 169.51</br></br>arrival_date_year: 2016.0</br>adults: 2.0</br>children: 0.0</br>babies: 0.0</br>booking_changes: 4.0</br>_original_yhat_: 0.3079200979422798</br>"
          ],
          [
           "</br>id: observation</br>prediction: 0.308</br>lead_time: 176.88</br></br>arrival_date_year: 2016.0</br>adults: 2.0</br>children: 0.0</br>babies: 0.0</br>booking_changes: 4.0</br>_original_yhat_: 0.3079200979422798</br>"
          ],
          [
           "</br>id: observation</br>prediction: 0.308</br>lead_time: 184.25</br></br>arrival_date_year: 2016.0</br>adults: 2.0</br>children: 0.0</br>babies: 0.0</br>booking_changes: 4.0</br>_original_yhat_: 0.3079200979422798</br>"
          ],
          [
           "</br>id: observation</br>prediction: 0.308</br>lead_time: 191.62</br></br>arrival_date_year: 2016.0</br>adults: 2.0</br>children: 0.0</br>babies: 0.0</br>booking_changes: 4.0</br>_original_yhat_: 0.3079200979422798</br>"
          ],
          [
           "</br>id: observation</br>prediction: 0.308</br>lead_time: 198.99</br></br>arrival_date_year: 2016.0</br>adults: 2.0</br>children: 0.0</br>babies: 0.0</br>booking_changes: 4.0</br>_original_yhat_: 0.3079200979422798</br>"
          ],
          [
           "</br>id: observation</br>prediction: 0.308</br>lead_time: 203.0</br></br>arrival_date_year: 2016.0</br>adults: 2.0</br>children: 0.0</br>babies: 0.0</br>booking_changes: 4.0</br>_original_yhat_: 0.3079200979422798</br>"
          ],
          [
           "</br>id: observation</br>prediction: 0.308</br>lead_time: 206.36</br></br>arrival_date_year: 2016.0</br>adults: 2.0</br>children: 0.0</br>babies: 0.0</br>booking_changes: 4.0</br>_original_yhat_: 0.3079200979422798</br>"
          ],
          [
           "</br>id: observation</br>prediction: 0.308</br>lead_time: 213.73</br></br>arrival_date_year: 2016.0</br>adults: 2.0</br>children: 0.0</br>babies: 0.0</br>booking_changes: 4.0</br>_original_yhat_: 0.3079200979422798</br>"
          ],
          [
           "</br>id: observation</br>prediction: 0.308</br>lead_time: 221.1</br></br>arrival_date_year: 2016.0</br>adults: 2.0</br>children: 0.0</br>babies: 0.0</br>booking_changes: 4.0</br>_original_yhat_: 0.3079200979422798</br>"
          ],
          [
           "</br>id: observation</br>prediction: 0.308</br>lead_time: 228.47</br></br>arrival_date_year: 2016.0</br>adults: 2.0</br>children: 0.0</br>babies: 0.0</br>booking_changes: 4.0</br>_original_yhat_: 0.3079200979422798</br>"
          ],
          [
           "</br>id: observation</br>prediction: 0.308</br>lead_time: 235.84</br></br>arrival_date_year: 2016.0</br>adults: 2.0</br>children: 0.0</br>babies: 0.0</br>booking_changes: 4.0</br>_original_yhat_: 0.3079200979422798</br>"
          ],
          [
           "</br>id: observation</br>prediction: 0.308</br>lead_time: 243.21</br></br>arrival_date_year: 2016.0</br>adults: 2.0</br>children: 0.0</br>babies: 0.0</br>booking_changes: 4.0</br>_original_yhat_: 0.3079200979422798</br>"
          ],
          [
           "</br>id: observation</br>prediction: 0.308</br>lead_time: 250.58</br></br>arrival_date_year: 2016.0</br>adults: 2.0</br>children: 0.0</br>babies: 0.0</br>booking_changes: 4.0</br>_original_yhat_: 0.3079200979422798</br>"
          ],
          [
           "</br>id: observation</br>prediction: 0.321</br>lead_time: 257.95</br></br>arrival_date_year: 2016.0</br>adults: 2.0</br>children: 0.0</br>babies: 0.0</br>booking_changes: 4.0</br>_original_yhat_: 0.3079200979422798</br>"
          ],
          [
           "</br>id: observation</br>prediction: 0.321</br>lead_time: 265.32</br></br>arrival_date_year: 2016.0</br>adults: 2.0</br>children: 0.0</br>babies: 0.0</br>booking_changes: 4.0</br>_original_yhat_: 0.3079200979422798</br>"
          ],
          [
           "</br>id: observation</br>prediction: 0.321</br>lead_time: 272.69</br></br>arrival_date_year: 2016.0</br>adults: 2.0</br>children: 0.0</br>babies: 0.0</br>booking_changes: 4.0</br>_original_yhat_: 0.3079200979422798</br>"
          ],
          [
           "</br>id: observation</br>prediction: 0.321</br>lead_time: 280.06</br></br>arrival_date_year: 2016.0</br>adults: 2.0</br>children: 0.0</br>babies: 0.0</br>booking_changes: 4.0</br>_original_yhat_: 0.3079200979422798</br>"
          ],
          [
           "</br>id: observation</br>prediction: 0.321</br>lead_time: 287.43</br></br>arrival_date_year: 2016.0</br>adults: 2.0</br>children: 0.0</br>babies: 0.0</br>booking_changes: 4.0</br>_original_yhat_: 0.3079200979422798</br>"
          ],
          [
           "</br>id: observation</br>prediction: 0.321</br>lead_time: 294.8</br></br>arrival_date_year: 2016.0</br>adults: 2.0</br>children: 0.0</br>babies: 0.0</br>booking_changes: 4.0</br>_original_yhat_: 0.3079200979422798</br>"
          ],
          [
           "</br>id: observation</br>prediction: 0.321</br>lead_time: 302.17</br></br>arrival_date_year: 2016.0</br>adults: 2.0</br>children: 0.0</br>babies: 0.0</br>booking_changes: 4.0</br>_original_yhat_: 0.3079200979422798</br>"
          ],
          [
           "</br>id: observation</br>prediction: 0.321</br>lead_time: 309.54</br></br>arrival_date_year: 2016.0</br>adults: 2.0</br>children: 0.0</br>babies: 0.0</br>booking_changes: 4.0</br>_original_yhat_: 0.3079200979422798</br>"
          ],
          [
           "</br>id: observation</br>prediction: 0.321</br>lead_time: 316.91</br></br>arrival_date_year: 2016.0</br>adults: 2.0</br>children: 0.0</br>babies: 0.0</br>booking_changes: 4.0</br>_original_yhat_: 0.3079200979422798</br>"
          ],
          [
           "</br>id: observation</br>prediction: 0.321</br>lead_time: 324.28000000000003</br></br>arrival_date_year: 2016.0</br>adults: 2.0</br>children: 0.0</br>babies: 0.0</br>booking_changes: 4.0</br>_original_yhat_: 0.3079200979422798</br>"
          ],
          [
           "</br>id: observation</br>prediction: 0.321</br>lead_time: 331.65</br></br>arrival_date_year: 2016.0</br>adults: 2.0</br>children: 0.0</br>babies: 0.0</br>booking_changes: 4.0</br>_original_yhat_: 0.3079200979422798</br>"
          ],
          [
           "</br>id: observation</br>prediction: 0.321</br>lead_time: 339.02</br></br>arrival_date_year: 2016.0</br>adults: 2.0</br>children: 0.0</br>babies: 0.0</br>booking_changes: 4.0</br>_original_yhat_: 0.3079200979422798</br>"
          ],
          [
           "</br>id: observation</br>prediction: 0.321</br>lead_time: 346.39</br></br>arrival_date_year: 2016.0</br>adults: 2.0</br>children: 0.0</br>babies: 0.0</br>booking_changes: 4.0</br>_original_yhat_: 0.3079200979422798</br>"
          ],
          [
           "</br>id: observation</br>prediction: 0.321</br>lead_time: 353.76</br></br>arrival_date_year: 2016.0</br>adults: 2.0</br>children: 0.0</br>babies: 0.0</br>booking_changes: 4.0</br>_original_yhat_: 0.3079200979422798</br>"
          ],
          [
           "</br>id: observation</br>prediction: 0.321</br>lead_time: 361.13</br></br>arrival_date_year: 2016.0</br>adults: 2.0</br>children: 0.0</br>babies: 0.0</br>booking_changes: 4.0</br>_original_yhat_: 0.3079200979422798</br>"
          ],
          [
           "</br>id: observation</br>prediction: 0.321</br>lead_time: 368.5</br></br>arrival_date_year: 2016.0</br>adults: 2.0</br>children: 0.0</br>babies: 0.0</br>booking_changes: 4.0</br>_original_yhat_: 0.3079200979422798</br>"
          ],
          [
           "</br>id: observation</br>prediction: 0.321</br>lead_time: 375.87</br></br>arrival_date_year: 2016.0</br>adults: 2.0</br>children: 0.0</br>babies: 0.0</br>booking_changes: 4.0</br>_original_yhat_: 0.3079200979422798</br>"
          ],
          [
           "</br>id: observation</br>prediction: 0.321</br>lead_time: 383.24</br></br>arrival_date_year: 2016.0</br>adults: 2.0</br>children: 0.0</br>babies: 0.0</br>booking_changes: 4.0</br>_original_yhat_: 0.3079200979422798</br>"
          ],
          [
           "</br>id: observation</br>prediction: 0.321</br>lead_time: 390.61</br></br>arrival_date_year: 2016.0</br>adults: 2.0</br>children: 0.0</br>babies: 0.0</br>booking_changes: 4.0</br>_original_yhat_: 0.3079200979422798</br>"
          ],
          [
           "</br>id: observation</br>prediction: 0.321</br>lead_time: 397.98</br></br>arrival_date_year: 2016.0</br>adults: 2.0</br>children: 0.0</br>babies: 0.0</br>booking_changes: 4.0</br>_original_yhat_: 0.3079200979422798</br>"
          ],
          [
           "</br>id: observation</br>prediction: 0.321</br>lead_time: 405.35</br></br>arrival_date_year: 2016.0</br>adults: 2.0</br>children: 0.0</br>babies: 0.0</br>booking_changes: 4.0</br>_original_yhat_: 0.3079200979422798</br>"
          ],
          [
           "</br>id: observation</br>prediction: 0.321</br>lead_time: 412.72</br></br>arrival_date_year: 2016.0</br>adults: 2.0</br>children: 0.0</br>babies: 0.0</br>booking_changes: 4.0</br>_original_yhat_: 0.3079200979422798</br>"
          ],
          [
           "</br>id: observation</br>prediction: 0.321</br>lead_time: 420.09000000000003</br></br>arrival_date_year: 2016.0</br>adults: 2.0</br>children: 0.0</br>babies: 0.0</br>booking_changes: 4.0</br>_original_yhat_: 0.3079200979422798</br>"
          ],
          [
           "</br>id: observation</br>prediction: 0.321</br>lead_time: 427.46</br></br>arrival_date_year: 2016.0</br>adults: 2.0</br>children: 0.0</br>babies: 0.0</br>booking_changes: 4.0</br>_original_yhat_: 0.3079200979422798</br>"
          ],
          [
           "</br>id: observation</br>prediction: 0.321</br>lead_time: 434.83</br></br>arrival_date_year: 2016.0</br>adults: 2.0</br>children: 0.0</br>babies: 0.0</br>booking_changes: 4.0</br>_original_yhat_: 0.3079200979422798</br>"
          ],
          [
           "</br>id: observation</br>prediction: 0.321</br>lead_time: 442.2</br></br>arrival_date_year: 2016.0</br>adults: 2.0</br>children: 0.0</br>babies: 0.0</br>booking_changes: 4.0</br>_original_yhat_: 0.3079200979422798</br>"
          ],
          [
           "</br>id: observation</br>prediction: 0.321</br>lead_time: 449.57</br></br>arrival_date_year: 2016.0</br>adults: 2.0</br>children: 0.0</br>babies: 0.0</br>booking_changes: 4.0</br>_original_yhat_: 0.3079200979422798</br>"
          ],
          [
           "</br>id: observation</br>prediction: 0.321</br>lead_time: 456.94</br></br>arrival_date_year: 2016.0</br>adults: 2.0</br>children: 0.0</br>babies: 0.0</br>booking_changes: 4.0</br>_original_yhat_: 0.3079200979422798</br>"
          ],
          [
           "</br>id: observation</br>prediction: 0.321</br>lead_time: 464.31</br></br>arrival_date_year: 2016.0</br>adults: 2.0</br>children: 0.0</br>babies: 0.0</br>booking_changes: 4.0</br>_original_yhat_: 0.3079200979422798</br>"
          ],
          [
           "</br>id: observation</br>prediction: 0.321</br>lead_time: 471.68</br></br>arrival_date_year: 2016.0</br>adults: 2.0</br>children: 0.0</br>babies: 0.0</br>booking_changes: 4.0</br>_original_yhat_: 0.3079200979422798</br>"
          ],
          [
           "</br>id: observation</br>prediction: 0.321</br>lead_time: 479.05</br></br>arrival_date_year: 2016.0</br>adults: 2.0</br>children: 0.0</br>babies: 0.0</br>booking_changes: 4.0</br>_original_yhat_: 0.3079200979422798</br>"
          ],
          [
           "</br>id: observation</br>prediction: 0.321</br>lead_time: 486.42</br></br>arrival_date_year: 2016.0</br>adults: 2.0</br>children: 0.0</br>babies: 0.0</br>booking_changes: 4.0</br>_original_yhat_: 0.3079200979422798</br>"
          ],
          [
           "</br>id: observation</br>prediction: 0.321</br>lead_time: 493.79</br></br>arrival_date_year: 2016.0</br>adults: 2.0</br>children: 0.0</br>babies: 0.0</br>booking_changes: 4.0</br>_original_yhat_: 0.3079200979422798</br>"
          ],
          [
           "</br>id: observation</br>prediction: 0.321</br>lead_time: 501.16</br></br>arrival_date_year: 2016.0</br>adults: 2.0</br>children: 0.0</br>babies: 0.0</br>booking_changes: 4.0</br>_original_yhat_: 0.3079200979422798</br>"
          ],
          [
           "</br>id: observation</br>prediction: 0.321</br>lead_time: 508.53000000000003</br></br>arrival_date_year: 2016.0</br>adults: 2.0</br>children: 0.0</br>babies: 0.0</br>booking_changes: 4.0</br>_original_yhat_: 0.3079200979422798</br>"
          ],
          [
           "</br>id: observation</br>prediction: 0.321</br>lead_time: 515.9</br></br>arrival_date_year: 2016.0</br>adults: 2.0</br>children: 0.0</br>babies: 0.0</br>booking_changes: 4.0</br>_original_yhat_: 0.3079200979422798</br>"
          ],
          [
           "</br>id: observation</br>prediction: 0.321</br>lead_time: 523.27</br></br>arrival_date_year: 2016.0</br>adults: 2.0</br>children: 0.0</br>babies: 0.0</br>booking_changes: 4.0</br>_original_yhat_: 0.3079200979422798</br>"
          ],
          [
           "</br>id: observation</br>prediction: 0.321</br>lead_time: 530.64</br></br>arrival_date_year: 2016.0</br>adults: 2.0</br>children: 0.0</br>babies: 0.0</br>booking_changes: 4.0</br>_original_yhat_: 0.3079200979422798</br>"
          ],
          [
           "</br>id: observation</br>prediction: 0.321</br>lead_time: 538.01</br></br>arrival_date_year: 2016.0</br>adults: 2.0</br>children: 0.0</br>babies: 0.0</br>booking_changes: 4.0</br>_original_yhat_: 0.3079200979422798</br>"
          ],
          [
           "</br>id: observation</br>prediction: 0.321</br>lead_time: 545.38</br></br>arrival_date_year: 2016.0</br>adults: 2.0</br>children: 0.0</br>babies: 0.0</br>booking_changes: 4.0</br>_original_yhat_: 0.3079200979422798</br>"
          ],
          [
           "</br>id: observation</br>prediction: 0.321</br>lead_time: 552.75</br></br>arrival_date_year: 2016.0</br>adults: 2.0</br>children: 0.0</br>babies: 0.0</br>booking_changes: 4.0</br>_original_yhat_: 0.3079200979422798</br>"
          ],
          [
           "</br>id: observation</br>prediction: 0.321</br>lead_time: 560.12</br></br>arrival_date_year: 2016.0</br>adults: 2.0</br>children: 0.0</br>babies: 0.0</br>booking_changes: 4.0</br>_original_yhat_: 0.3079200979422798</br>"
          ],
          [
           "</br>id: observation</br>prediction: 0.321</br>lead_time: 567.49</br></br>arrival_date_year: 2016.0</br>adults: 2.0</br>children: 0.0</br>babies: 0.0</br>booking_changes: 4.0</br>_original_yhat_: 0.3079200979422798</br>"
          ],
          [
           "</br>id: observation</br>prediction: 0.321</br>lead_time: 574.86</br></br>arrival_date_year: 2016.0</br>adults: 2.0</br>children: 0.0</br>babies: 0.0</br>booking_changes: 4.0</br>_original_yhat_: 0.3079200979422798</br>"
          ],
          [
           "</br>id: observation</br>prediction: 0.321</br>lead_time: 582.23</br></br>arrival_date_year: 2016.0</br>adults: 2.0</br>children: 0.0</br>babies: 0.0</br>booking_changes: 4.0</br>_original_yhat_: 0.3079200979422798</br>"
          ],
          [
           "</br>id: observation</br>prediction: 0.321</br>lead_time: 589.6</br></br>arrival_date_year: 2016.0</br>adults: 2.0</br>children: 0.0</br>babies: 0.0</br>booking_changes: 4.0</br>_original_yhat_: 0.3079200979422798</br>"
          ],
          [
           "</br>id: observation</br>prediction: 0.321</br>lead_time: 596.97</br></br>arrival_date_year: 2016.0</br>adults: 2.0</br>children: 0.0</br>babies: 0.0</br>booking_changes: 4.0</br>_original_yhat_: 0.3079200979422798</br>"
          ],
          [
           "</br>id: observation</br>prediction: 0.321</br>lead_time: 604.34</br></br>arrival_date_year: 2016.0</br>adults: 2.0</br>children: 0.0</br>babies: 0.0</br>booking_changes: 4.0</br>_original_yhat_: 0.3079200979422798</br>"
          ],
          [
           "</br>id: observation</br>prediction: 0.321</br>lead_time: 611.71</br></br>arrival_date_year: 2016.0</br>adults: 2.0</br>children: 0.0</br>babies: 0.0</br>booking_changes: 4.0</br>_original_yhat_: 0.3079200979422798</br>"
          ],
          [
           "</br>id: observation</br>prediction: 0.321</br>lead_time: 619.08</br></br>arrival_date_year: 2016.0</br>adults: 2.0</br>children: 0.0</br>babies: 0.0</br>booking_changes: 4.0</br>_original_yhat_: 0.3079200979422798</br>"
          ],
          [
           "</br>id: observation</br>prediction: 0.321</br>lead_time: 626.45</br></br>arrival_date_year: 2016.0</br>adults: 2.0</br>children: 0.0</br>babies: 0.0</br>booking_changes: 4.0</br>_original_yhat_: 0.3079200979422798</br>"
          ],
          [
           "</br>id: observation</br>prediction: 0.321</br>lead_time: 633.82</br></br>arrival_date_year: 2016.0</br>adults: 2.0</br>children: 0.0</br>babies: 0.0</br>booking_changes: 4.0</br>_original_yhat_: 0.3079200979422798</br>"
          ],
          [
           "</br>id: observation</br>prediction: 0.321</br>lead_time: 641.19</br></br>arrival_date_year: 2016.0</br>adults: 2.0</br>children: 0.0</br>babies: 0.0</br>booking_changes: 4.0</br>_original_yhat_: 0.3079200979422798</br>"
          ],
          [
           "</br>id: observation</br>prediction: 0.321</br>lead_time: 648.5600000000001</br></br>arrival_date_year: 2016.0</br>adults: 2.0</br>children: 0.0</br>babies: 0.0</br>booking_changes: 4.0</br>_original_yhat_: 0.3079200979422798</br>"
          ],
          [
           "</br>id: observation</br>prediction: 0.321</br>lead_time: 655.9300000000001</br></br>arrival_date_year: 2016.0</br>adults: 2.0</br>children: 0.0</br>babies: 0.0</br>booking_changes: 4.0</br>_original_yhat_: 0.3079200979422798</br>"
          ],
          [
           "</br>id: observation</br>prediction: 0.321</br>lead_time: 663.3</br></br>arrival_date_year: 2016.0</br>adults: 2.0</br>children: 0.0</br>babies: 0.0</br>booking_changes: 4.0</br>_original_yhat_: 0.3079200979422798</br>"
          ],
          [
           "</br>id: observation</br>prediction: 0.321</br>lead_time: 670.67</br></br>arrival_date_year: 2016.0</br>adults: 2.0</br>children: 0.0</br>babies: 0.0</br>booking_changes: 4.0</br>_original_yhat_: 0.3079200979422798</br>"
          ],
          [
           "</br>id: observation</br>prediction: 0.321</br>lead_time: 678.04</br></br>arrival_date_year: 2016.0</br>adults: 2.0</br>children: 0.0</br>babies: 0.0</br>booking_changes: 4.0</br>_original_yhat_: 0.3079200979422798</br>"
          ],
          [
           "</br>id: observation</br>prediction: 0.321</br>lead_time: 685.41</br></br>arrival_date_year: 2016.0</br>adults: 2.0</br>children: 0.0</br>babies: 0.0</br>booking_changes: 4.0</br>_original_yhat_: 0.3079200979422798</br>"
          ],
          [
           "</br>id: observation</br>prediction: 0.321</br>lead_time: 692.78</br></br>arrival_date_year: 2016.0</br>adults: 2.0</br>children: 0.0</br>babies: 0.0</br>booking_changes: 4.0</br>_original_yhat_: 0.3079200979422798</br>"
          ],
          [
           "</br>id: observation</br>prediction: 0.321</br>lead_time: 700.15</br></br>arrival_date_year: 2016.0</br>adults: 2.0</br>children: 0.0</br>babies: 0.0</br>booking_changes: 4.0</br>_original_yhat_: 0.3079200979422798</br>"
          ],
          [
           "</br>id: observation</br>prediction: 0.321</br>lead_time: 707.52</br></br>arrival_date_year: 2016.0</br>adults: 2.0</br>children: 0.0</br>babies: 0.0</br>booking_changes: 4.0</br>_original_yhat_: 0.3079200979422798</br>"
          ],
          [
           "</br>id: observation</br>prediction: 0.321</br>lead_time: 714.89</br></br>arrival_date_year: 2016.0</br>adults: 2.0</br>children: 0.0</br>babies: 0.0</br>booking_changes: 4.0</br>_original_yhat_: 0.3079200979422798</br>"
          ],
          [
           "</br>id: observation</br>prediction: 0.321</br>lead_time: 722.26</br></br>arrival_date_year: 2016.0</br>adults: 2.0</br>children: 0.0</br>babies: 0.0</br>booking_changes: 4.0</br>_original_yhat_: 0.3079200979422798</br>"
          ],
          [
           "</br>id: observation</br>prediction: 0.321</br>lead_time: 729.63</br></br>arrival_date_year: 2016.0</br>adults: 2.0</br>children: 0.0</br>babies: 0.0</br>booking_changes: 4.0</br>_original_yhat_: 0.3079200979422798</br>"
          ],
          [
           "</br>id: observation</br>prediction: 0.321</br>lead_time: 737.0</br></br>arrival_date_year: 2016.0</br>adults: 2.0</br>children: 0.0</br>babies: 0.0</br>booking_changes: 4.0</br>_original_yhat_: 0.3079200979422798</br>"
          ]
         ],
         "hovertemplate": "%{customdata[0]}<extra></extra>",
         "legendgroup": "adaboost",
         "line": {
          "color": "#46bac2",
          "dash": "solid",
          "width": 2
         },
         "marker": {
          "symbol": "circle"
         },
         "mode": "lines",
         "name": "adaboost",
         "opacity": 1,
         "orientation": "v",
         "showlegend": true,
         "type": "scatter",
         "x": [
          0,
          7.37,
          14.74,
          22.11,
          29.48,
          36.85,
          44.22,
          51.59,
          58.96,
          66.33,
          73.7,
          81.07000000000001,
          88.44,
          95.81,
          103.18,
          110.55,
          117.92,
          125.29,
          132.66,
          140.03,
          147.4,
          154.77,
          162.14000000000001,
          169.51,
          176.88,
          184.25,
          191.62,
          198.99,
          203,
          206.36,
          213.73,
          221.1,
          228.47,
          235.84,
          243.21,
          250.58,
          257.95,
          265.32,
          272.69,
          280.06,
          287.43,
          294.8,
          302.17,
          309.54,
          316.91,
          324.28000000000003,
          331.65,
          339.02,
          346.39,
          353.76,
          361.13,
          368.5,
          375.87,
          383.24,
          390.61,
          397.98,
          405.35,
          412.72,
          420.09000000000003,
          427.46,
          434.83,
          442.2,
          449.57,
          456.94,
          464.31,
          471.68,
          479.05,
          486.42,
          493.79,
          501.16,
          508.53000000000003,
          515.9,
          523.27,
          530.64,
          538.01,
          545.38,
          552.75,
          560.12,
          567.49,
          574.86,
          582.23,
          589.6,
          596.97,
          604.34,
          611.71,
          619.08,
          626.45,
          633.82,
          641.19,
          648.5600000000001,
          655.9300000000001,
          663.3,
          670.67,
          678.04,
          685.41,
          692.78,
          700.15,
          707.52,
          714.89,
          722.26,
          729.63,
          737
         ],
         "xaxis": "x3",
         "y": [
          0.18727236460113716,
          0.18727236460113716,
          0.21549213407747508,
          0.2416304201218299,
          0.3079200979422798,
          0.3079200979422798,
          0.3079200979422798,
          0.3079200979422798,
          0.3079200979422798,
          0.3079200979422798,
          0.3079200979422798,
          0.3079200979422798,
          0.3079200979422798,
          0.3079200979422798,
          0.3079200979422798,
          0.3079200979422798,
          0.3079200979422798,
          0.3079200979422798,
          0.3079200979422798,
          0.3079200979422798,
          0.3079200979422798,
          0.3079200979422798,
          0.3079200979422798,
          0.3079200979422798,
          0.3079200979422798,
          0.3079200979422798,
          0.3079200979422798,
          0.3079200979422798,
          0.3079200979422798,
          0.3079200979422798,
          0.3079200979422798,
          0.3079200979422798,
          0.3079200979422798,
          0.3079200979422798,
          0.3079200979422798,
          0.3079200979422798,
          0.3208765601120674,
          0.3208765601120674,
          0.3208765601120674,
          0.3208765601120674,
          0.3208765601120674,
          0.3208765601120674,
          0.3208765601120674,
          0.3208765601120674,
          0.3208765601120674,
          0.3208765601120674,
          0.3208765601120674,
          0.3208765601120674,
          0.3208765601120674,
          0.3208765601120674,
          0.3208765601120674,
          0.3208765601120674,
          0.3208765601120674,
          0.3208765601120674,
          0.3208765601120674,
          0.3208765601120674,
          0.3208765601120674,
          0.3208765601120674,
          0.3208765601120674,
          0.3208765601120674,
          0.3208765601120674,
          0.3208765601120674,
          0.3208765601120674,
          0.3208765601120674,
          0.3208765601120674,
          0.3208765601120674,
          0.3208765601120674,
          0.3208765601120674,
          0.3208765601120674,
          0.3208765601120674,
          0.3208765601120674,
          0.3208765601120674,
          0.3208765601120674,
          0.3208765601120674,
          0.3208765601120674,
          0.3208765601120674,
          0.3208765601120674,
          0.3208765601120674,
          0.3208765601120674,
          0.3208765601120674,
          0.3208765601120674,
          0.3208765601120674,
          0.3208765601120674,
          0.3208765601120674,
          0.3208765601120674,
          0.3208765601120674,
          0.3208765601120674,
          0.3208765601120674,
          0.3208765601120674,
          0.3208765601120674,
          0.3208765601120674,
          0.3208765601120674,
          0.3208765601120674,
          0.3208765601120674,
          0.3208765601120674,
          0.3208765601120674,
          0.3208765601120674,
          0.3208765601120674,
          0.3208765601120674,
          0.3208765601120674,
          0.3208765601120674,
          0.3208765601120674
         ],
         "yaxis": "y3"
        },
        {
         "customdata": [
          [
           "</br>id: observation</br>prediction: 0.308</br>children: 0.0</br></br>lead_time: 203.0</br>arrival_date_year: 2016.0</br>adults: 2.0</br>babies: 0.0</br>booking_changes: 4.0</br>_original_yhat_: 0.3079200979422798</br>"
          ],
          [
           "</br>id: observation</br>prediction: 0.308</br>children: 0.1</br></br>lead_time: 203.0</br>arrival_date_year: 2016.0</br>adults: 2.0</br>babies: 0.0</br>booking_changes: 4.0</br>_original_yhat_: 0.3079200979422798</br>"
          ],
          [
           "</br>id: observation</br>prediction: 0.308</br>children: 0.2</br></br>lead_time: 203.0</br>arrival_date_year: 2016.0</br>adults: 2.0</br>babies: 0.0</br>booking_changes: 4.0</br>_original_yhat_: 0.3079200979422798</br>"
          ],
          [
           "</br>id: observation</br>prediction: 0.308</br>children: 0.30000000000000004</br></br>lead_time: 203.0</br>arrival_date_year: 2016.0</br>adults: 2.0</br>babies: 0.0</br>booking_changes: 4.0</br>_original_yhat_: 0.3079200979422798</br>"
          ],
          [
           "</br>id: observation</br>prediction: 0.308</br>children: 0.4</br></br>lead_time: 203.0</br>arrival_date_year: 2016.0</br>adults: 2.0</br>babies: 0.0</br>booking_changes: 4.0</br>_original_yhat_: 0.3079200979422798</br>"
          ],
          [
           "</br>id: observation</br>prediction: 0.308</br>children: 0.5</br></br>lead_time: 203.0</br>arrival_date_year: 2016.0</br>adults: 2.0</br>babies: 0.0</br>booking_changes: 4.0</br>_original_yhat_: 0.3079200979422798</br>"
          ],
          [
           "</br>id: observation</br>prediction: 0.308</br>children: 0.6000000000000001</br></br>lead_time: 203.0</br>arrival_date_year: 2016.0</br>adults: 2.0</br>babies: 0.0</br>booking_changes: 4.0</br>_original_yhat_: 0.3079200979422798</br>"
          ],
          [
           "</br>id: observation</br>prediction: 0.308</br>children: 0.7000000000000001</br></br>lead_time: 203.0</br>arrival_date_year: 2016.0</br>adults: 2.0</br>babies: 0.0</br>booking_changes: 4.0</br>_original_yhat_: 0.3079200979422798</br>"
          ],
          [
           "</br>id: observation</br>prediction: 0.308</br>children: 0.8</br></br>lead_time: 203.0</br>arrival_date_year: 2016.0</br>adults: 2.0</br>babies: 0.0</br>booking_changes: 4.0</br>_original_yhat_: 0.3079200979422798</br>"
          ],
          [
           "</br>id: observation</br>prediction: 0.308</br>children: 0.9</br></br>lead_time: 203.0</br>arrival_date_year: 2016.0</br>adults: 2.0</br>babies: 0.0</br>booking_changes: 4.0</br>_original_yhat_: 0.3079200979422798</br>"
          ],
          [
           "</br>id: observation</br>prediction: 0.308</br>children: 1.0</br></br>lead_time: 203.0</br>arrival_date_year: 2016.0</br>adults: 2.0</br>babies: 0.0</br>booking_changes: 4.0</br>_original_yhat_: 0.3079200979422798</br>"
          ],
          [
           "</br>id: observation</br>prediction: 0.308</br>children: 1.1</br></br>lead_time: 203.0</br>arrival_date_year: 2016.0</br>adults: 2.0</br>babies: 0.0</br>booking_changes: 4.0</br>_original_yhat_: 0.3079200979422798</br>"
          ],
          [
           "</br>id: observation</br>prediction: 0.308</br>children: 1.2000000000000002</br></br>lead_time: 203.0</br>arrival_date_year: 2016.0</br>adults: 2.0</br>babies: 0.0</br>booking_changes: 4.0</br>_original_yhat_: 0.3079200979422798</br>"
          ],
          [
           "</br>id: observation</br>prediction: 0.308</br>children: 1.3</br></br>lead_time: 203.0</br>arrival_date_year: 2016.0</br>adults: 2.0</br>babies: 0.0</br>booking_changes: 4.0</br>_original_yhat_: 0.3079200979422798</br>"
          ],
          [
           "</br>id: observation</br>prediction: 0.308</br>children: 1.4000000000000001</br></br>lead_time: 203.0</br>arrival_date_year: 2016.0</br>adults: 2.0</br>babies: 0.0</br>booking_changes: 4.0</br>_original_yhat_: 0.3079200979422798</br>"
          ],
          [
           "</br>id: observation</br>prediction: 0.308</br>children: 1.5</br></br>lead_time: 203.0</br>arrival_date_year: 2016.0</br>adults: 2.0</br>babies: 0.0</br>booking_changes: 4.0</br>_original_yhat_: 0.3079200979422798</br>"
          ],
          [
           "</br>id: observation</br>prediction: 0.313</br>children: 1.6</br></br>lead_time: 203.0</br>arrival_date_year: 2016.0</br>adults: 2.0</br>babies: 0.0</br>booking_changes: 4.0</br>_original_yhat_: 0.3079200979422798</br>"
          ],
          [
           "</br>id: observation</br>prediction: 0.313</br>children: 1.7000000000000002</br></br>lead_time: 203.0</br>arrival_date_year: 2016.0</br>adults: 2.0</br>babies: 0.0</br>booking_changes: 4.0</br>_original_yhat_: 0.3079200979422798</br>"
          ],
          [
           "</br>id: observation</br>prediction: 0.313</br>children: 1.8</br></br>lead_time: 203.0</br>arrival_date_year: 2016.0</br>adults: 2.0</br>babies: 0.0</br>booking_changes: 4.0</br>_original_yhat_: 0.3079200979422798</br>"
          ],
          [
           "</br>id: observation</br>prediction: 0.313</br>children: 1.9000000000000001</br></br>lead_time: 203.0</br>arrival_date_year: 2016.0</br>adults: 2.0</br>babies: 0.0</br>booking_changes: 4.0</br>_original_yhat_: 0.3079200979422798</br>"
          ],
          [
           "</br>id: observation</br>prediction: 0.313</br>children: 2.0</br></br>lead_time: 203.0</br>arrival_date_year: 2016.0</br>adults: 2.0</br>babies: 0.0</br>booking_changes: 4.0</br>_original_yhat_: 0.3079200979422798</br>"
          ],
          [
           "</br>id: observation</br>prediction: 0.313</br>children: 2.1</br></br>lead_time: 203.0</br>arrival_date_year: 2016.0</br>adults: 2.0</br>babies: 0.0</br>booking_changes: 4.0</br>_original_yhat_: 0.3079200979422798</br>"
          ],
          [
           "</br>id: observation</br>prediction: 0.313</br>children: 2.2</br></br>lead_time: 203.0</br>arrival_date_year: 2016.0</br>adults: 2.0</br>babies: 0.0</br>booking_changes: 4.0</br>_original_yhat_: 0.3079200979422798</br>"
          ],
          [
           "</br>id: observation</br>prediction: 0.313</br>children: 2.3000000000000003</br></br>lead_time: 203.0</br>arrival_date_year: 2016.0</br>adults: 2.0</br>babies: 0.0</br>booking_changes: 4.0</br>_original_yhat_: 0.3079200979422798</br>"
          ],
          [
           "</br>id: observation</br>prediction: 0.313</br>children: 2.4000000000000004</br></br>lead_time: 203.0</br>arrival_date_year: 2016.0</br>adults: 2.0</br>babies: 0.0</br>booking_changes: 4.0</br>_original_yhat_: 0.3079200979422798</br>"
          ],
          [
           "</br>id: observation</br>prediction: 0.313</br>children: 2.5</br></br>lead_time: 203.0</br>arrival_date_year: 2016.0</br>adults: 2.0</br>babies: 0.0</br>booking_changes: 4.0</br>_original_yhat_: 0.3079200979422798</br>"
          ],
          [
           "</br>id: observation</br>prediction: 0.313</br>children: 2.6</br></br>lead_time: 203.0</br>arrival_date_year: 2016.0</br>adults: 2.0</br>babies: 0.0</br>booking_changes: 4.0</br>_original_yhat_: 0.3079200979422798</br>"
          ],
          [
           "</br>id: observation</br>prediction: 0.313</br>children: 2.7</br></br>lead_time: 203.0</br>arrival_date_year: 2016.0</br>adults: 2.0</br>babies: 0.0</br>booking_changes: 4.0</br>_original_yhat_: 0.3079200979422798</br>"
          ],
          [
           "</br>id: observation</br>prediction: 0.313</br>children: 2.8000000000000003</br></br>lead_time: 203.0</br>arrival_date_year: 2016.0</br>adults: 2.0</br>babies: 0.0</br>booking_changes: 4.0</br>_original_yhat_: 0.3079200979422798</br>"
          ],
          [
           "</br>id: observation</br>prediction: 0.313</br>children: 2.9000000000000004</br></br>lead_time: 203.0</br>arrival_date_year: 2016.0</br>adults: 2.0</br>babies: 0.0</br>booking_changes: 4.0</br>_original_yhat_: 0.3079200979422798</br>"
          ],
          [
           "</br>id: observation</br>prediction: 0.313</br>children: 3.0</br></br>lead_time: 203.0</br>arrival_date_year: 2016.0</br>adults: 2.0</br>babies: 0.0</br>booking_changes: 4.0</br>_original_yhat_: 0.3079200979422798</br>"
          ],
          [
           "</br>id: observation</br>prediction: 0.313</br>children: 3.1</br></br>lead_time: 203.0</br>arrival_date_year: 2016.0</br>adults: 2.0</br>babies: 0.0</br>booking_changes: 4.0</br>_original_yhat_: 0.3079200979422798</br>"
          ],
          [
           "</br>id: observation</br>prediction: 0.313</br>children: 3.2</br></br>lead_time: 203.0</br>arrival_date_year: 2016.0</br>adults: 2.0</br>babies: 0.0</br>booking_changes: 4.0</br>_original_yhat_: 0.3079200979422798</br>"
          ],
          [
           "</br>id: observation</br>prediction: 0.313</br>children: 3.3000000000000003</br></br>lead_time: 203.0</br>arrival_date_year: 2016.0</br>adults: 2.0</br>babies: 0.0</br>booking_changes: 4.0</br>_original_yhat_: 0.3079200979422798</br>"
          ],
          [
           "</br>id: observation</br>prediction: 0.313</br>children: 3.4000000000000004</br></br>lead_time: 203.0</br>arrival_date_year: 2016.0</br>adults: 2.0</br>babies: 0.0</br>booking_changes: 4.0</br>_original_yhat_: 0.3079200979422798</br>"
          ],
          [
           "</br>id: observation</br>prediction: 0.313</br>children: 3.5</br></br>lead_time: 203.0</br>arrival_date_year: 2016.0</br>adults: 2.0</br>babies: 0.0</br>booking_changes: 4.0</br>_original_yhat_: 0.3079200979422798</br>"
          ],
          [
           "</br>id: observation</br>prediction: 0.313</br>children: 3.6</br></br>lead_time: 203.0</br>arrival_date_year: 2016.0</br>adults: 2.0</br>babies: 0.0</br>booking_changes: 4.0</br>_original_yhat_: 0.3079200979422798</br>"
          ],
          [
           "</br>id: observation</br>prediction: 0.313</br>children: 3.7</br></br>lead_time: 203.0</br>arrival_date_year: 2016.0</br>adults: 2.0</br>babies: 0.0</br>booking_changes: 4.0</br>_original_yhat_: 0.3079200979422798</br>"
          ],
          [
           "</br>id: observation</br>prediction: 0.313</br>children: 3.8000000000000003</br></br>lead_time: 203.0</br>arrival_date_year: 2016.0</br>adults: 2.0</br>babies: 0.0</br>booking_changes: 4.0</br>_original_yhat_: 0.3079200979422798</br>"
          ],
          [
           "</br>id: observation</br>prediction: 0.313</br>children: 3.9000000000000004</br></br>lead_time: 203.0</br>arrival_date_year: 2016.0</br>adults: 2.0</br>babies: 0.0</br>booking_changes: 4.0</br>_original_yhat_: 0.3079200979422798</br>"
          ],
          [
           "</br>id: observation</br>prediction: 0.313</br>children: 4.0</br></br>lead_time: 203.0</br>arrival_date_year: 2016.0</br>adults: 2.0</br>babies: 0.0</br>booking_changes: 4.0</br>_original_yhat_: 0.3079200979422798</br>"
          ],
          [
           "</br>id: observation</br>prediction: 0.313</br>children: 4.1000000000000005</br></br>lead_time: 203.0</br>arrival_date_year: 2016.0</br>adults: 2.0</br>babies: 0.0</br>booking_changes: 4.0</br>_original_yhat_: 0.3079200979422798</br>"
          ],
          [
           "</br>id: observation</br>prediction: 0.313</br>children: 4.2</br></br>lead_time: 203.0</br>arrival_date_year: 2016.0</br>adults: 2.0</br>babies: 0.0</br>booking_changes: 4.0</br>_original_yhat_: 0.3079200979422798</br>"
          ],
          [
           "</br>id: observation</br>prediction: 0.313</br>children: 4.3</br></br>lead_time: 203.0</br>arrival_date_year: 2016.0</br>adults: 2.0</br>babies: 0.0</br>booking_changes: 4.0</br>_original_yhat_: 0.3079200979422798</br>"
          ],
          [
           "</br>id: observation</br>prediction: 0.313</br>children: 4.4</br></br>lead_time: 203.0</br>arrival_date_year: 2016.0</br>adults: 2.0</br>babies: 0.0</br>booking_changes: 4.0</br>_original_yhat_: 0.3079200979422798</br>"
          ],
          [
           "</br>id: observation</br>prediction: 0.313</br>children: 4.5</br></br>lead_time: 203.0</br>arrival_date_year: 2016.0</br>adults: 2.0</br>babies: 0.0</br>booking_changes: 4.0</br>_original_yhat_: 0.3079200979422798</br>"
          ],
          [
           "</br>id: observation</br>prediction: 0.313</br>children: 4.6000000000000005</br></br>lead_time: 203.0</br>arrival_date_year: 2016.0</br>adults: 2.0</br>babies: 0.0</br>booking_changes: 4.0</br>_original_yhat_: 0.3079200979422798</br>"
          ],
          [
           "</br>id: observation</br>prediction: 0.313</br>children: 4.7</br></br>lead_time: 203.0</br>arrival_date_year: 2016.0</br>adults: 2.0</br>babies: 0.0</br>booking_changes: 4.0</br>_original_yhat_: 0.3079200979422798</br>"
          ],
          [
           "</br>id: observation</br>prediction: 0.313</br>children: 4.800000000000001</br></br>lead_time: 203.0</br>arrival_date_year: 2016.0</br>adults: 2.0</br>babies: 0.0</br>booking_changes: 4.0</br>_original_yhat_: 0.3079200979422798</br>"
          ],
          [
           "</br>id: observation</br>prediction: 0.313</br>children: 4.9</br></br>lead_time: 203.0</br>arrival_date_year: 2016.0</br>adults: 2.0</br>babies: 0.0</br>booking_changes: 4.0</br>_original_yhat_: 0.3079200979422798</br>"
          ],
          [
           "</br>id: observation</br>prediction: 0.313</br>children: 5.0</br></br>lead_time: 203.0</br>arrival_date_year: 2016.0</br>adults: 2.0</br>babies: 0.0</br>booking_changes: 4.0</br>_original_yhat_: 0.3079200979422798</br>"
          ],
          [
           "</br>id: observation</br>prediction: 0.313</br>children: 5.1000000000000005</br></br>lead_time: 203.0</br>arrival_date_year: 2016.0</br>adults: 2.0</br>babies: 0.0</br>booking_changes: 4.0</br>_original_yhat_: 0.3079200979422798</br>"
          ],
          [
           "</br>id: observation</br>prediction: 0.313</br>children: 5.2</br></br>lead_time: 203.0</br>arrival_date_year: 2016.0</br>adults: 2.0</br>babies: 0.0</br>booking_changes: 4.0</br>_original_yhat_: 0.3079200979422798</br>"
          ],
          [
           "</br>id: observation</br>prediction: 0.313</br>children: 5.300000000000001</br></br>lead_time: 203.0</br>arrival_date_year: 2016.0</br>adults: 2.0</br>babies: 0.0</br>booking_changes: 4.0</br>_original_yhat_: 0.3079200979422798</br>"
          ],
          [
           "</br>id: observation</br>prediction: 0.313</br>children: 5.4</br></br>lead_time: 203.0</br>arrival_date_year: 2016.0</br>adults: 2.0</br>babies: 0.0</br>booking_changes: 4.0</br>_original_yhat_: 0.3079200979422798</br>"
          ],
          [
           "</br>id: observation</br>prediction: 0.313</br>children: 5.5</br></br>lead_time: 203.0</br>arrival_date_year: 2016.0</br>adults: 2.0</br>babies: 0.0</br>booking_changes: 4.0</br>_original_yhat_: 0.3079200979422798</br>"
          ],
          [
           "</br>id: observation</br>prediction: 0.313</br>children: 5.6000000000000005</br></br>lead_time: 203.0</br>arrival_date_year: 2016.0</br>adults: 2.0</br>babies: 0.0</br>booking_changes: 4.0</br>_original_yhat_: 0.3079200979422798</br>"
          ],
          [
           "</br>id: observation</br>prediction: 0.313</br>children: 5.7</br></br>lead_time: 203.0</br>arrival_date_year: 2016.0</br>adults: 2.0</br>babies: 0.0</br>booking_changes: 4.0</br>_original_yhat_: 0.3079200979422798</br>"
          ],
          [
           "</br>id: observation</br>prediction: 0.313</br>children: 5.800000000000001</br></br>lead_time: 203.0</br>arrival_date_year: 2016.0</br>adults: 2.0</br>babies: 0.0</br>booking_changes: 4.0</br>_original_yhat_: 0.3079200979422798</br>"
          ],
          [
           "</br>id: observation</br>prediction: 0.313</br>children: 5.9</br></br>lead_time: 203.0</br>arrival_date_year: 2016.0</br>adults: 2.0</br>babies: 0.0</br>booking_changes: 4.0</br>_original_yhat_: 0.3079200979422798</br>"
          ],
          [
           "</br>id: observation</br>prediction: 0.313</br>children: 6.0</br></br>lead_time: 203.0</br>arrival_date_year: 2016.0</br>adults: 2.0</br>babies: 0.0</br>booking_changes: 4.0</br>_original_yhat_: 0.3079200979422798</br>"
          ],
          [
           "</br>id: observation</br>prediction: 0.313</br>children: 6.1000000000000005</br></br>lead_time: 203.0</br>arrival_date_year: 2016.0</br>adults: 2.0</br>babies: 0.0</br>booking_changes: 4.0</br>_original_yhat_: 0.3079200979422798</br>"
          ],
          [
           "</br>id: observation</br>prediction: 0.313</br>children: 6.2</br></br>lead_time: 203.0</br>arrival_date_year: 2016.0</br>adults: 2.0</br>babies: 0.0</br>booking_changes: 4.0</br>_original_yhat_: 0.3079200979422798</br>"
          ],
          [
           "</br>id: observation</br>prediction: 0.313</br>children: 6.300000000000001</br></br>lead_time: 203.0</br>arrival_date_year: 2016.0</br>adults: 2.0</br>babies: 0.0</br>booking_changes: 4.0</br>_original_yhat_: 0.3079200979422798</br>"
          ],
          [
           "</br>id: observation</br>prediction: 0.313</br>children: 6.4</br></br>lead_time: 203.0</br>arrival_date_year: 2016.0</br>adults: 2.0</br>babies: 0.0</br>booking_changes: 4.0</br>_original_yhat_: 0.3079200979422798</br>"
          ],
          [
           "</br>id: observation</br>prediction: 0.313</br>children: 6.5</br></br>lead_time: 203.0</br>arrival_date_year: 2016.0</br>adults: 2.0</br>babies: 0.0</br>booking_changes: 4.0</br>_original_yhat_: 0.3079200979422798</br>"
          ],
          [
           "</br>id: observation</br>prediction: 0.313</br>children: 6.6000000000000005</br></br>lead_time: 203.0</br>arrival_date_year: 2016.0</br>adults: 2.0</br>babies: 0.0</br>booking_changes: 4.0</br>_original_yhat_: 0.3079200979422798</br>"
          ],
          [
           "</br>id: observation</br>prediction: 0.313</br>children: 6.7</br></br>lead_time: 203.0</br>arrival_date_year: 2016.0</br>adults: 2.0</br>babies: 0.0</br>booking_changes: 4.0</br>_original_yhat_: 0.3079200979422798</br>"
          ],
          [
           "</br>id: observation</br>prediction: 0.313</br>children: 6.800000000000001</br></br>lead_time: 203.0</br>arrival_date_year: 2016.0</br>adults: 2.0</br>babies: 0.0</br>booking_changes: 4.0</br>_original_yhat_: 0.3079200979422798</br>"
          ],
          [
           "</br>id: observation</br>prediction: 0.313</br>children: 6.9</br></br>lead_time: 203.0</br>arrival_date_year: 2016.0</br>adults: 2.0</br>babies: 0.0</br>booking_changes: 4.0</br>_original_yhat_: 0.3079200979422798</br>"
          ],
          [
           "</br>id: observation</br>prediction: 0.313</br>children: 7.0</br></br>lead_time: 203.0</br>arrival_date_year: 2016.0</br>adults: 2.0</br>babies: 0.0</br>booking_changes: 4.0</br>_original_yhat_: 0.3079200979422798</br>"
          ],
          [
           "</br>id: observation</br>prediction: 0.313</br>children: 7.1000000000000005</br></br>lead_time: 203.0</br>arrival_date_year: 2016.0</br>adults: 2.0</br>babies: 0.0</br>booking_changes: 4.0</br>_original_yhat_: 0.3079200979422798</br>"
          ],
          [
           "</br>id: observation</br>prediction: 0.313</br>children: 7.2</br></br>lead_time: 203.0</br>arrival_date_year: 2016.0</br>adults: 2.0</br>babies: 0.0</br>booking_changes: 4.0</br>_original_yhat_: 0.3079200979422798</br>"
          ],
          [
           "</br>id: observation</br>prediction: 0.313</br>children: 7.300000000000001</br></br>lead_time: 203.0</br>arrival_date_year: 2016.0</br>adults: 2.0</br>babies: 0.0</br>booking_changes: 4.0</br>_original_yhat_: 0.3079200979422798</br>"
          ],
          [
           "</br>id: observation</br>prediction: 0.313</br>children: 7.4</br></br>lead_time: 203.0</br>arrival_date_year: 2016.0</br>adults: 2.0</br>babies: 0.0</br>booking_changes: 4.0</br>_original_yhat_: 0.3079200979422798</br>"
          ],
          [
           "</br>id: observation</br>prediction: 0.313</br>children: 7.5</br></br>lead_time: 203.0</br>arrival_date_year: 2016.0</br>adults: 2.0</br>babies: 0.0</br>booking_changes: 4.0</br>_original_yhat_: 0.3079200979422798</br>"
          ],
          [
           "</br>id: observation</br>prediction: 0.313</br>children: 7.6000000000000005</br></br>lead_time: 203.0</br>arrival_date_year: 2016.0</br>adults: 2.0</br>babies: 0.0</br>booking_changes: 4.0</br>_original_yhat_: 0.3079200979422798</br>"
          ],
          [
           "</br>id: observation</br>prediction: 0.313</br>children: 7.7</br></br>lead_time: 203.0</br>arrival_date_year: 2016.0</br>adults: 2.0</br>babies: 0.0</br>booking_changes: 4.0</br>_original_yhat_: 0.3079200979422798</br>"
          ],
          [
           "</br>id: observation</br>prediction: 0.313</br>children: 7.800000000000001</br></br>lead_time: 203.0</br>arrival_date_year: 2016.0</br>adults: 2.0</br>babies: 0.0</br>booking_changes: 4.0</br>_original_yhat_: 0.3079200979422798</br>"
          ],
          [
           "</br>id: observation</br>prediction: 0.313</br>children: 7.9</br></br>lead_time: 203.0</br>arrival_date_year: 2016.0</br>adults: 2.0</br>babies: 0.0</br>booking_changes: 4.0</br>_original_yhat_: 0.3079200979422798</br>"
          ],
          [
           "</br>id: observation</br>prediction: 0.313</br>children: 8.0</br></br>lead_time: 203.0</br>arrival_date_year: 2016.0</br>adults: 2.0</br>babies: 0.0</br>booking_changes: 4.0</br>_original_yhat_: 0.3079200979422798</br>"
          ],
          [
           "</br>id: observation</br>prediction: 0.313</br>children: 8.1</br></br>lead_time: 203.0</br>arrival_date_year: 2016.0</br>adults: 2.0</br>babies: 0.0</br>booking_changes: 4.0</br>_original_yhat_: 0.3079200979422798</br>"
          ],
          [
           "</br>id: observation</br>prediction: 0.313</br>children: 8.200000000000001</br></br>lead_time: 203.0</br>arrival_date_year: 2016.0</br>adults: 2.0</br>babies: 0.0</br>booking_changes: 4.0</br>_original_yhat_: 0.3079200979422798</br>"
          ],
          [
           "</br>id: observation</br>prediction: 0.313</br>children: 8.3</br></br>lead_time: 203.0</br>arrival_date_year: 2016.0</br>adults: 2.0</br>babies: 0.0</br>booking_changes: 4.0</br>_original_yhat_: 0.3079200979422798</br>"
          ],
          [
           "</br>id: observation</br>prediction: 0.313</br>children: 8.4</br></br>lead_time: 203.0</br>arrival_date_year: 2016.0</br>adults: 2.0</br>babies: 0.0</br>booking_changes: 4.0</br>_original_yhat_: 0.3079200979422798</br>"
          ],
          [
           "</br>id: observation</br>prediction: 0.313</br>children: 8.5</br></br>lead_time: 203.0</br>arrival_date_year: 2016.0</br>adults: 2.0</br>babies: 0.0</br>booking_changes: 4.0</br>_original_yhat_: 0.3079200979422798</br>"
          ],
          [
           "</br>id: observation</br>prediction: 0.313</br>children: 8.6</br></br>lead_time: 203.0</br>arrival_date_year: 2016.0</br>adults: 2.0</br>babies: 0.0</br>booking_changes: 4.0</br>_original_yhat_: 0.3079200979422798</br>"
          ],
          [
           "</br>id: observation</br>prediction: 0.313</br>children: 8.700000000000001</br></br>lead_time: 203.0</br>arrival_date_year: 2016.0</br>adults: 2.0</br>babies: 0.0</br>booking_changes: 4.0</br>_original_yhat_: 0.3079200979422798</br>"
          ],
          [
           "</br>id: observation</br>prediction: 0.313</br>children: 8.8</br></br>lead_time: 203.0</br>arrival_date_year: 2016.0</br>adults: 2.0</br>babies: 0.0</br>booking_changes: 4.0</br>_original_yhat_: 0.3079200979422798</br>"
          ],
          [
           "</br>id: observation</br>prediction: 0.313</br>children: 8.9</br></br>lead_time: 203.0</br>arrival_date_year: 2016.0</br>adults: 2.0</br>babies: 0.0</br>booking_changes: 4.0</br>_original_yhat_: 0.3079200979422798</br>"
          ],
          [
           "</br>id: observation</br>prediction: 0.313</br>children: 9.0</br></br>lead_time: 203.0</br>arrival_date_year: 2016.0</br>adults: 2.0</br>babies: 0.0</br>booking_changes: 4.0</br>_original_yhat_: 0.3079200979422798</br>"
          ],
          [
           "</br>id: observation</br>prediction: 0.313</br>children: 9.1</br></br>lead_time: 203.0</br>arrival_date_year: 2016.0</br>adults: 2.0</br>babies: 0.0</br>booking_changes: 4.0</br>_original_yhat_: 0.3079200979422798</br>"
          ],
          [
           "</br>id: observation</br>prediction: 0.313</br>children: 9.200000000000001</br></br>lead_time: 203.0</br>arrival_date_year: 2016.0</br>adults: 2.0</br>babies: 0.0</br>booking_changes: 4.0</br>_original_yhat_: 0.3079200979422798</br>"
          ],
          [
           "</br>id: observation</br>prediction: 0.313</br>children: 9.3</br></br>lead_time: 203.0</br>arrival_date_year: 2016.0</br>adults: 2.0</br>babies: 0.0</br>booking_changes: 4.0</br>_original_yhat_: 0.3079200979422798</br>"
          ],
          [
           "</br>id: observation</br>prediction: 0.313</br>children: 9.4</br></br>lead_time: 203.0</br>arrival_date_year: 2016.0</br>adults: 2.0</br>babies: 0.0</br>booking_changes: 4.0</br>_original_yhat_: 0.3079200979422798</br>"
          ],
          [
           "</br>id: observation</br>prediction: 0.313</br>children: 9.5</br></br>lead_time: 203.0</br>arrival_date_year: 2016.0</br>adults: 2.0</br>babies: 0.0</br>booking_changes: 4.0</br>_original_yhat_: 0.3079200979422798</br>"
          ],
          [
           "</br>id: observation</br>prediction: 0.313</br>children: 9.600000000000001</br></br>lead_time: 203.0</br>arrival_date_year: 2016.0</br>adults: 2.0</br>babies: 0.0</br>booking_changes: 4.0</br>_original_yhat_: 0.3079200979422798</br>"
          ],
          [
           "</br>id: observation</br>prediction: 0.313</br>children: 9.700000000000001</br></br>lead_time: 203.0</br>arrival_date_year: 2016.0</br>adults: 2.0</br>babies: 0.0</br>booking_changes: 4.0</br>_original_yhat_: 0.3079200979422798</br>"
          ],
          [
           "</br>id: observation</br>prediction: 0.313</br>children: 9.8</br></br>lead_time: 203.0</br>arrival_date_year: 2016.0</br>adults: 2.0</br>babies: 0.0</br>booking_changes: 4.0</br>_original_yhat_: 0.3079200979422798</br>"
          ],
          [
           "</br>id: observation</br>prediction: 0.313</br>children: 9.9</br></br>lead_time: 203.0</br>arrival_date_year: 2016.0</br>adults: 2.0</br>babies: 0.0</br>booking_changes: 4.0</br>_original_yhat_: 0.3079200979422798</br>"
          ],
          [
           "</br>id: observation</br>prediction: 0.313</br>children: 10.0</br></br>lead_time: 203.0</br>arrival_date_year: 2016.0</br>adults: 2.0</br>babies: 0.0</br>booking_changes: 4.0</br>_original_yhat_: 0.3079200979422798</br>"
          ]
         ],
         "hovertemplate": "%{customdata[0]}<extra></extra>",
         "legendgroup": "adaboost",
         "line": {
          "color": "#46bac2",
          "dash": "solid",
          "width": 2
         },
         "marker": {
          "symbol": "circle"
         },
         "mode": "lines",
         "name": "adaboost",
         "opacity": 1,
         "orientation": "v",
         "showlegend": false,
         "type": "scatter",
         "x": [
          0,
          0.1,
          0.2,
          0.30000000000000004,
          0.4,
          0.5,
          0.6000000000000001,
          0.7000000000000001,
          0.8,
          0.9,
          1,
          1.1,
          1.2000000000000002,
          1.3,
          1.4000000000000001,
          1.5,
          1.6,
          1.7000000000000002,
          1.8,
          1.9000000000000001,
          2,
          2.1,
          2.2,
          2.3000000000000003,
          2.4000000000000004,
          2.5,
          2.6,
          2.7,
          2.8000000000000003,
          2.9000000000000004,
          3,
          3.1,
          3.2,
          3.3000000000000003,
          3.4000000000000004,
          3.5,
          3.6,
          3.7,
          3.8000000000000003,
          3.9000000000000004,
          4,
          4.1000000000000005,
          4.2,
          4.3,
          4.4,
          4.5,
          4.6000000000000005,
          4.7,
          4.800000000000001,
          4.9,
          5,
          5.1000000000000005,
          5.2,
          5.300000000000001,
          5.4,
          5.5,
          5.6000000000000005,
          5.7,
          5.800000000000001,
          5.9,
          6,
          6.1000000000000005,
          6.2,
          6.300000000000001,
          6.4,
          6.5,
          6.6000000000000005,
          6.7,
          6.800000000000001,
          6.9,
          7,
          7.1000000000000005,
          7.2,
          7.300000000000001,
          7.4,
          7.5,
          7.6000000000000005,
          7.7,
          7.800000000000001,
          7.9,
          8,
          8.1,
          8.200000000000001,
          8.3,
          8.4,
          8.5,
          8.6,
          8.700000000000001,
          8.8,
          8.9,
          9,
          9.1,
          9.200000000000001,
          9.3,
          9.4,
          9.5,
          9.600000000000001,
          9.700000000000001,
          9.8,
          9.9,
          10
         ],
         "xaxis": "x4",
         "y": [
          0.3079200979422798,
          0.3079200979422798,
          0.3079200979422798,
          0.3079200979422798,
          0.3079200979422798,
          0.3079200979422798,
          0.3075058550190946,
          0.3075058550190946,
          0.3075058550190946,
          0.3075058550190946,
          0.3075058550190946,
          0.3075058550190946,
          0.3075058550190946,
          0.3075058550190946,
          0.3075058550190946,
          0.3075058550190946,
          0.31314267897598774,
          0.31314267897598774,
          0.31314267897598774,
          0.31314267897598774,
          0.31314267897598774,
          0.31314267897598774,
          0.31314267897598774,
          0.31314267897598774,
          0.31314267897598774,
          0.31314267897598774,
          0.31314267897598774,
          0.31314267897598774,
          0.31314267897598774,
          0.31314267897598774,
          0.31314267897598774,
          0.31314267897598774,
          0.31314267897598774,
          0.31314267897598774,
          0.31314267897598774,
          0.31314267897598774,
          0.31314267897598774,
          0.31314267897598774,
          0.31314267897598774,
          0.31314267897598774,
          0.31314267897598774,
          0.31314267897598774,
          0.31314267897598774,
          0.31314267897598774,
          0.31314267897598774,
          0.31314267897598774,
          0.31314267897598774,
          0.31314267897598774,
          0.31314267897598774,
          0.31314267897598774,
          0.31314267897598774,
          0.31314267897598774,
          0.31314267897598774,
          0.31314267897598774,
          0.31314267897598774,
          0.31314267897598774,
          0.31314267897598774,
          0.31314267897598774,
          0.31314267897598774,
          0.31314267897598774,
          0.31314267897598774,
          0.31314267897598774,
          0.31314267897598774,
          0.31314267897598774,
          0.31314267897598774,
          0.31314267897598774,
          0.31314267897598774,
          0.31314267897598774,
          0.31314267897598774,
          0.31314267897598774,
          0.31314267897598774,
          0.31314267897598774,
          0.31314267897598774,
          0.31314267897598774,
          0.31314267897598774,
          0.31314267897598774,
          0.31314267897598774,
          0.31314267897598774,
          0.31314267897598774,
          0.31314267897598774,
          0.31314267897598774,
          0.31314267897598774,
          0.31314267897598774,
          0.31314267897598774,
          0.31314267897598774,
          0.31314267897598774,
          0.31314267897598774,
          0.31314267897598774,
          0.31314267897598774,
          0.31314267897598774,
          0.31314267897598774,
          0.31314267897598774,
          0.31314267897598774,
          0.31314267897598774,
          0.31314267897598774,
          0.31314267897598774,
          0.31314267897598774,
          0.31314267897598774,
          0.31314267897598774,
          0.31314267897598774,
          0.31314267897598774
         ],
         "yaxis": "y4"
        },
        {
         "customdata": [
          [
           "</br>id: observation</br>prediction: 0.308</br>babies: 0.0</br></br>lead_time: 203.0</br>arrival_date_year: 2016.0</br>adults: 2.0</br>children: 0.0</br>booking_changes: 4.0</br>_original_yhat_: 0.3079200979422798</br>"
          ],
          [
           "</br>id: observation</br>prediction: 0.308</br>babies: 0.1</br></br>lead_time: 203.0</br>arrival_date_year: 2016.0</br>adults: 2.0</br>children: 0.0</br>booking_changes: 4.0</br>_original_yhat_: 0.3079200979422798</br>"
          ],
          [
           "</br>id: observation</br>prediction: 0.308</br>babies: 0.2</br></br>lead_time: 203.0</br>arrival_date_year: 2016.0</br>adults: 2.0</br>children: 0.0</br>booking_changes: 4.0</br>_original_yhat_: 0.3079200979422798</br>"
          ],
          [
           "</br>id: observation</br>prediction: 0.308</br>babies: 0.30000000000000004</br></br>lead_time: 203.0</br>arrival_date_year: 2016.0</br>adults: 2.0</br>children: 0.0</br>booking_changes: 4.0</br>_original_yhat_: 0.3079200979422798</br>"
          ],
          [
           "</br>id: observation</br>prediction: 0.308</br>babies: 0.4</br></br>lead_time: 203.0</br>arrival_date_year: 2016.0</br>adults: 2.0</br>children: 0.0</br>booking_changes: 4.0</br>_original_yhat_: 0.3079200979422798</br>"
          ],
          [
           "</br>id: observation</br>prediction: 0.308</br>babies: 0.5</br></br>lead_time: 203.0</br>arrival_date_year: 2016.0</br>adults: 2.0</br>children: 0.0</br>booking_changes: 4.0</br>_original_yhat_: 0.3079200979422798</br>"
          ],
          [
           "</br>id: observation</br>prediction: 0.262</br>babies: 0.6000000000000001</br></br>lead_time: 203.0</br>arrival_date_year: 2016.0</br>adults: 2.0</br>children: 0.0</br>booking_changes: 4.0</br>_original_yhat_: 0.3079200979422798</br>"
          ],
          [
           "</br>id: observation</br>prediction: 0.262</br>babies: 0.7000000000000001</br></br>lead_time: 203.0</br>arrival_date_year: 2016.0</br>adults: 2.0</br>children: 0.0</br>booking_changes: 4.0</br>_original_yhat_: 0.3079200979422798</br>"
          ],
          [
           "</br>id: observation</br>prediction: 0.262</br>babies: 0.8</br></br>lead_time: 203.0</br>arrival_date_year: 2016.0</br>adults: 2.0</br>children: 0.0</br>booking_changes: 4.0</br>_original_yhat_: 0.3079200979422798</br>"
          ],
          [
           "</br>id: observation</br>prediction: 0.262</br>babies: 0.9</br></br>lead_time: 203.0</br>arrival_date_year: 2016.0</br>adults: 2.0</br>children: 0.0</br>booking_changes: 4.0</br>_original_yhat_: 0.3079200979422798</br>"
          ],
          [
           "</br>id: observation</br>prediction: 0.262</br>babies: 1.0</br></br>lead_time: 203.0</br>arrival_date_year: 2016.0</br>adults: 2.0</br>children: 0.0</br>booking_changes: 4.0</br>_original_yhat_: 0.3079200979422798</br>"
          ],
          [
           "</br>id: observation</br>prediction: 0.262</br>babies: 1.1</br></br>lead_time: 203.0</br>arrival_date_year: 2016.0</br>adults: 2.0</br>children: 0.0</br>booking_changes: 4.0</br>_original_yhat_: 0.3079200979422798</br>"
          ],
          [
           "</br>id: observation</br>prediction: 0.262</br>babies: 1.2000000000000002</br></br>lead_time: 203.0</br>arrival_date_year: 2016.0</br>adults: 2.0</br>children: 0.0</br>booking_changes: 4.0</br>_original_yhat_: 0.3079200979422798</br>"
          ],
          [
           "</br>id: observation</br>prediction: 0.262</br>babies: 1.3</br></br>lead_time: 203.0</br>arrival_date_year: 2016.0</br>adults: 2.0</br>children: 0.0</br>booking_changes: 4.0</br>_original_yhat_: 0.3079200979422798</br>"
          ],
          [
           "</br>id: observation</br>prediction: 0.262</br>babies: 1.4000000000000001</br></br>lead_time: 203.0</br>arrival_date_year: 2016.0</br>adults: 2.0</br>children: 0.0</br>booking_changes: 4.0</br>_original_yhat_: 0.3079200979422798</br>"
          ],
          [
           "</br>id: observation</br>prediction: 0.262</br>babies: 1.5</br></br>lead_time: 203.0</br>arrival_date_year: 2016.0</br>adults: 2.0</br>children: 0.0</br>booking_changes: 4.0</br>_original_yhat_: 0.3079200979422798</br>"
          ],
          [
           "</br>id: observation</br>prediction: 0.262</br>babies: 1.6</br></br>lead_time: 203.0</br>arrival_date_year: 2016.0</br>adults: 2.0</br>children: 0.0</br>booking_changes: 4.0</br>_original_yhat_: 0.3079200979422798</br>"
          ],
          [
           "</br>id: observation</br>prediction: 0.262</br>babies: 1.7000000000000002</br></br>lead_time: 203.0</br>arrival_date_year: 2016.0</br>adults: 2.0</br>children: 0.0</br>booking_changes: 4.0</br>_original_yhat_: 0.3079200979422798</br>"
          ],
          [
           "</br>id: observation</br>prediction: 0.262</br>babies: 1.8</br></br>lead_time: 203.0</br>arrival_date_year: 2016.0</br>adults: 2.0</br>children: 0.0</br>booking_changes: 4.0</br>_original_yhat_: 0.3079200979422798</br>"
          ],
          [
           "</br>id: observation</br>prediction: 0.262</br>babies: 1.9000000000000001</br></br>lead_time: 203.0</br>arrival_date_year: 2016.0</br>adults: 2.0</br>children: 0.0</br>booking_changes: 4.0</br>_original_yhat_: 0.3079200979422798</br>"
          ],
          [
           "</br>id: observation</br>prediction: 0.262</br>babies: 2.0</br></br>lead_time: 203.0</br>arrival_date_year: 2016.0</br>adults: 2.0</br>children: 0.0</br>booking_changes: 4.0</br>_original_yhat_: 0.3079200979422798</br>"
          ],
          [
           "</br>id: observation</br>prediction: 0.262</br>babies: 2.1</br></br>lead_time: 203.0</br>arrival_date_year: 2016.0</br>adults: 2.0</br>children: 0.0</br>booking_changes: 4.0</br>_original_yhat_: 0.3079200979422798</br>"
          ],
          [
           "</br>id: observation</br>prediction: 0.262</br>babies: 2.2</br></br>lead_time: 203.0</br>arrival_date_year: 2016.0</br>adults: 2.0</br>children: 0.0</br>booking_changes: 4.0</br>_original_yhat_: 0.3079200979422798</br>"
          ],
          [
           "</br>id: observation</br>prediction: 0.262</br>babies: 2.3000000000000003</br></br>lead_time: 203.0</br>arrival_date_year: 2016.0</br>adults: 2.0</br>children: 0.0</br>booking_changes: 4.0</br>_original_yhat_: 0.3079200979422798</br>"
          ],
          [
           "</br>id: observation</br>prediction: 0.262</br>babies: 2.4000000000000004</br></br>lead_time: 203.0</br>arrival_date_year: 2016.0</br>adults: 2.0</br>children: 0.0</br>booking_changes: 4.0</br>_original_yhat_: 0.3079200979422798</br>"
          ],
          [
           "</br>id: observation</br>prediction: 0.262</br>babies: 2.5</br></br>lead_time: 203.0</br>arrival_date_year: 2016.0</br>adults: 2.0</br>children: 0.0</br>booking_changes: 4.0</br>_original_yhat_: 0.3079200979422798</br>"
          ],
          [
           "</br>id: observation</br>prediction: 0.262</br>babies: 2.6</br></br>lead_time: 203.0</br>arrival_date_year: 2016.0</br>adults: 2.0</br>children: 0.0</br>booking_changes: 4.0</br>_original_yhat_: 0.3079200979422798</br>"
          ],
          [
           "</br>id: observation</br>prediction: 0.262</br>babies: 2.7</br></br>lead_time: 203.0</br>arrival_date_year: 2016.0</br>adults: 2.0</br>children: 0.0</br>booking_changes: 4.0</br>_original_yhat_: 0.3079200979422798</br>"
          ],
          [
           "</br>id: observation</br>prediction: 0.262</br>babies: 2.8000000000000003</br></br>lead_time: 203.0</br>arrival_date_year: 2016.0</br>adults: 2.0</br>children: 0.0</br>booking_changes: 4.0</br>_original_yhat_: 0.3079200979422798</br>"
          ],
          [
           "</br>id: observation</br>prediction: 0.262</br>babies: 2.9000000000000004</br></br>lead_time: 203.0</br>arrival_date_year: 2016.0</br>adults: 2.0</br>children: 0.0</br>booking_changes: 4.0</br>_original_yhat_: 0.3079200979422798</br>"
          ],
          [
           "</br>id: observation</br>prediction: 0.262</br>babies: 3.0</br></br>lead_time: 203.0</br>arrival_date_year: 2016.0</br>adults: 2.0</br>children: 0.0</br>booking_changes: 4.0</br>_original_yhat_: 0.3079200979422798</br>"
          ],
          [
           "</br>id: observation</br>prediction: 0.262</br>babies: 3.1</br></br>lead_time: 203.0</br>arrival_date_year: 2016.0</br>adults: 2.0</br>children: 0.0</br>booking_changes: 4.0</br>_original_yhat_: 0.3079200979422798</br>"
          ],
          [
           "</br>id: observation</br>prediction: 0.262</br>babies: 3.2</br></br>lead_time: 203.0</br>arrival_date_year: 2016.0</br>adults: 2.0</br>children: 0.0</br>booking_changes: 4.0</br>_original_yhat_: 0.3079200979422798</br>"
          ],
          [
           "</br>id: observation</br>prediction: 0.262</br>babies: 3.3000000000000003</br></br>lead_time: 203.0</br>arrival_date_year: 2016.0</br>adults: 2.0</br>children: 0.0</br>booking_changes: 4.0</br>_original_yhat_: 0.3079200979422798</br>"
          ],
          [
           "</br>id: observation</br>prediction: 0.262</br>babies: 3.4000000000000004</br></br>lead_time: 203.0</br>arrival_date_year: 2016.0</br>adults: 2.0</br>children: 0.0</br>booking_changes: 4.0</br>_original_yhat_: 0.3079200979422798</br>"
          ],
          [
           "</br>id: observation</br>prediction: 0.262</br>babies: 3.5</br></br>lead_time: 203.0</br>arrival_date_year: 2016.0</br>adults: 2.0</br>children: 0.0</br>booking_changes: 4.0</br>_original_yhat_: 0.3079200979422798</br>"
          ],
          [
           "</br>id: observation</br>prediction: 0.262</br>babies: 3.6</br></br>lead_time: 203.0</br>arrival_date_year: 2016.0</br>adults: 2.0</br>children: 0.0</br>booking_changes: 4.0</br>_original_yhat_: 0.3079200979422798</br>"
          ],
          [
           "</br>id: observation</br>prediction: 0.262</br>babies: 3.7</br></br>lead_time: 203.0</br>arrival_date_year: 2016.0</br>adults: 2.0</br>children: 0.0</br>booking_changes: 4.0</br>_original_yhat_: 0.3079200979422798</br>"
          ],
          [
           "</br>id: observation</br>prediction: 0.262</br>babies: 3.8000000000000003</br></br>lead_time: 203.0</br>arrival_date_year: 2016.0</br>adults: 2.0</br>children: 0.0</br>booking_changes: 4.0</br>_original_yhat_: 0.3079200979422798</br>"
          ],
          [
           "</br>id: observation</br>prediction: 0.262</br>babies: 3.9000000000000004</br></br>lead_time: 203.0</br>arrival_date_year: 2016.0</br>adults: 2.0</br>children: 0.0</br>booking_changes: 4.0</br>_original_yhat_: 0.3079200979422798</br>"
          ],
          [
           "</br>id: observation</br>prediction: 0.262</br>babies: 4.0</br></br>lead_time: 203.0</br>arrival_date_year: 2016.0</br>adults: 2.0</br>children: 0.0</br>booking_changes: 4.0</br>_original_yhat_: 0.3079200979422798</br>"
          ],
          [
           "</br>id: observation</br>prediction: 0.262</br>babies: 4.1000000000000005</br></br>lead_time: 203.0</br>arrival_date_year: 2016.0</br>adults: 2.0</br>children: 0.0</br>booking_changes: 4.0</br>_original_yhat_: 0.3079200979422798</br>"
          ],
          [
           "</br>id: observation</br>prediction: 0.262</br>babies: 4.2</br></br>lead_time: 203.0</br>arrival_date_year: 2016.0</br>adults: 2.0</br>children: 0.0</br>booking_changes: 4.0</br>_original_yhat_: 0.3079200979422798</br>"
          ],
          [
           "</br>id: observation</br>prediction: 0.262</br>babies: 4.3</br></br>lead_time: 203.0</br>arrival_date_year: 2016.0</br>adults: 2.0</br>children: 0.0</br>booking_changes: 4.0</br>_original_yhat_: 0.3079200979422798</br>"
          ],
          [
           "</br>id: observation</br>prediction: 0.262</br>babies: 4.4</br></br>lead_time: 203.0</br>arrival_date_year: 2016.0</br>adults: 2.0</br>children: 0.0</br>booking_changes: 4.0</br>_original_yhat_: 0.3079200979422798</br>"
          ],
          [
           "</br>id: observation</br>prediction: 0.262</br>babies: 4.5</br></br>lead_time: 203.0</br>arrival_date_year: 2016.0</br>adults: 2.0</br>children: 0.0</br>booking_changes: 4.0</br>_original_yhat_: 0.3079200979422798</br>"
          ],
          [
           "</br>id: observation</br>prediction: 0.262</br>babies: 4.6000000000000005</br></br>lead_time: 203.0</br>arrival_date_year: 2016.0</br>adults: 2.0</br>children: 0.0</br>booking_changes: 4.0</br>_original_yhat_: 0.3079200979422798</br>"
          ],
          [
           "</br>id: observation</br>prediction: 0.262</br>babies: 4.7</br></br>lead_time: 203.0</br>arrival_date_year: 2016.0</br>adults: 2.0</br>children: 0.0</br>booking_changes: 4.0</br>_original_yhat_: 0.3079200979422798</br>"
          ],
          [
           "</br>id: observation</br>prediction: 0.262</br>babies: 4.800000000000001</br></br>lead_time: 203.0</br>arrival_date_year: 2016.0</br>adults: 2.0</br>children: 0.0</br>booking_changes: 4.0</br>_original_yhat_: 0.3079200979422798</br>"
          ],
          [
           "</br>id: observation</br>prediction: 0.262</br>babies: 4.9</br></br>lead_time: 203.0</br>arrival_date_year: 2016.0</br>adults: 2.0</br>children: 0.0</br>booking_changes: 4.0</br>_original_yhat_: 0.3079200979422798</br>"
          ],
          [
           "</br>id: observation</br>prediction: 0.262</br>babies: 5.0</br></br>lead_time: 203.0</br>arrival_date_year: 2016.0</br>adults: 2.0</br>children: 0.0</br>booking_changes: 4.0</br>_original_yhat_: 0.3079200979422798</br>"
          ],
          [
           "</br>id: observation</br>prediction: 0.262</br>babies: 5.1000000000000005</br></br>lead_time: 203.0</br>arrival_date_year: 2016.0</br>adults: 2.0</br>children: 0.0</br>booking_changes: 4.0</br>_original_yhat_: 0.3079200979422798</br>"
          ],
          [
           "</br>id: observation</br>prediction: 0.262</br>babies: 5.2</br></br>lead_time: 203.0</br>arrival_date_year: 2016.0</br>adults: 2.0</br>children: 0.0</br>booking_changes: 4.0</br>_original_yhat_: 0.3079200979422798</br>"
          ],
          [
           "</br>id: observation</br>prediction: 0.262</br>babies: 5.300000000000001</br></br>lead_time: 203.0</br>arrival_date_year: 2016.0</br>adults: 2.0</br>children: 0.0</br>booking_changes: 4.0</br>_original_yhat_: 0.3079200979422798</br>"
          ],
          [
           "</br>id: observation</br>prediction: 0.262</br>babies: 5.4</br></br>lead_time: 203.0</br>arrival_date_year: 2016.0</br>adults: 2.0</br>children: 0.0</br>booking_changes: 4.0</br>_original_yhat_: 0.3079200979422798</br>"
          ],
          [
           "</br>id: observation</br>prediction: 0.262</br>babies: 5.5</br></br>lead_time: 203.0</br>arrival_date_year: 2016.0</br>adults: 2.0</br>children: 0.0</br>booking_changes: 4.0</br>_original_yhat_: 0.3079200979422798</br>"
          ],
          [
           "</br>id: observation</br>prediction: 0.262</br>babies: 5.6000000000000005</br></br>lead_time: 203.0</br>arrival_date_year: 2016.0</br>adults: 2.0</br>children: 0.0</br>booking_changes: 4.0</br>_original_yhat_: 0.3079200979422798</br>"
          ],
          [
           "</br>id: observation</br>prediction: 0.262</br>babies: 5.7</br></br>lead_time: 203.0</br>arrival_date_year: 2016.0</br>adults: 2.0</br>children: 0.0</br>booking_changes: 4.0</br>_original_yhat_: 0.3079200979422798</br>"
          ],
          [
           "</br>id: observation</br>prediction: 0.262</br>babies: 5.800000000000001</br></br>lead_time: 203.0</br>arrival_date_year: 2016.0</br>adults: 2.0</br>children: 0.0</br>booking_changes: 4.0</br>_original_yhat_: 0.3079200979422798</br>"
          ],
          [
           "</br>id: observation</br>prediction: 0.262</br>babies: 5.9</br></br>lead_time: 203.0</br>arrival_date_year: 2016.0</br>adults: 2.0</br>children: 0.0</br>booking_changes: 4.0</br>_original_yhat_: 0.3079200979422798</br>"
          ],
          [
           "</br>id: observation</br>prediction: 0.262</br>babies: 6.0</br></br>lead_time: 203.0</br>arrival_date_year: 2016.0</br>adults: 2.0</br>children: 0.0</br>booking_changes: 4.0</br>_original_yhat_: 0.3079200979422798</br>"
          ],
          [
           "</br>id: observation</br>prediction: 0.262</br>babies: 6.1000000000000005</br></br>lead_time: 203.0</br>arrival_date_year: 2016.0</br>adults: 2.0</br>children: 0.0</br>booking_changes: 4.0</br>_original_yhat_: 0.3079200979422798</br>"
          ],
          [
           "</br>id: observation</br>prediction: 0.262</br>babies: 6.2</br></br>lead_time: 203.0</br>arrival_date_year: 2016.0</br>adults: 2.0</br>children: 0.0</br>booking_changes: 4.0</br>_original_yhat_: 0.3079200979422798</br>"
          ],
          [
           "</br>id: observation</br>prediction: 0.262</br>babies: 6.300000000000001</br></br>lead_time: 203.0</br>arrival_date_year: 2016.0</br>adults: 2.0</br>children: 0.0</br>booking_changes: 4.0</br>_original_yhat_: 0.3079200979422798</br>"
          ],
          [
           "</br>id: observation</br>prediction: 0.262</br>babies: 6.4</br></br>lead_time: 203.0</br>arrival_date_year: 2016.0</br>adults: 2.0</br>children: 0.0</br>booking_changes: 4.0</br>_original_yhat_: 0.3079200979422798</br>"
          ],
          [
           "</br>id: observation</br>prediction: 0.262</br>babies: 6.5</br></br>lead_time: 203.0</br>arrival_date_year: 2016.0</br>adults: 2.0</br>children: 0.0</br>booking_changes: 4.0</br>_original_yhat_: 0.3079200979422798</br>"
          ],
          [
           "</br>id: observation</br>prediction: 0.262</br>babies: 6.6000000000000005</br></br>lead_time: 203.0</br>arrival_date_year: 2016.0</br>adults: 2.0</br>children: 0.0</br>booking_changes: 4.0</br>_original_yhat_: 0.3079200979422798</br>"
          ],
          [
           "</br>id: observation</br>prediction: 0.262</br>babies: 6.7</br></br>lead_time: 203.0</br>arrival_date_year: 2016.0</br>adults: 2.0</br>children: 0.0</br>booking_changes: 4.0</br>_original_yhat_: 0.3079200979422798</br>"
          ],
          [
           "</br>id: observation</br>prediction: 0.262</br>babies: 6.800000000000001</br></br>lead_time: 203.0</br>arrival_date_year: 2016.0</br>adults: 2.0</br>children: 0.0</br>booking_changes: 4.0</br>_original_yhat_: 0.3079200979422798</br>"
          ],
          [
           "</br>id: observation</br>prediction: 0.262</br>babies: 6.9</br></br>lead_time: 203.0</br>arrival_date_year: 2016.0</br>adults: 2.0</br>children: 0.0</br>booking_changes: 4.0</br>_original_yhat_: 0.3079200979422798</br>"
          ],
          [
           "</br>id: observation</br>prediction: 0.262</br>babies: 7.0</br></br>lead_time: 203.0</br>arrival_date_year: 2016.0</br>adults: 2.0</br>children: 0.0</br>booking_changes: 4.0</br>_original_yhat_: 0.3079200979422798</br>"
          ],
          [
           "</br>id: observation</br>prediction: 0.262</br>babies: 7.1000000000000005</br></br>lead_time: 203.0</br>arrival_date_year: 2016.0</br>adults: 2.0</br>children: 0.0</br>booking_changes: 4.0</br>_original_yhat_: 0.3079200979422798</br>"
          ],
          [
           "</br>id: observation</br>prediction: 0.262</br>babies: 7.2</br></br>lead_time: 203.0</br>arrival_date_year: 2016.0</br>adults: 2.0</br>children: 0.0</br>booking_changes: 4.0</br>_original_yhat_: 0.3079200979422798</br>"
          ],
          [
           "</br>id: observation</br>prediction: 0.262</br>babies: 7.300000000000001</br></br>lead_time: 203.0</br>arrival_date_year: 2016.0</br>adults: 2.0</br>children: 0.0</br>booking_changes: 4.0</br>_original_yhat_: 0.3079200979422798</br>"
          ],
          [
           "</br>id: observation</br>prediction: 0.262</br>babies: 7.4</br></br>lead_time: 203.0</br>arrival_date_year: 2016.0</br>adults: 2.0</br>children: 0.0</br>booking_changes: 4.0</br>_original_yhat_: 0.3079200979422798</br>"
          ],
          [
           "</br>id: observation</br>prediction: 0.262</br>babies: 7.5</br></br>lead_time: 203.0</br>arrival_date_year: 2016.0</br>adults: 2.0</br>children: 0.0</br>booking_changes: 4.0</br>_original_yhat_: 0.3079200979422798</br>"
          ],
          [
           "</br>id: observation</br>prediction: 0.262</br>babies: 7.6000000000000005</br></br>lead_time: 203.0</br>arrival_date_year: 2016.0</br>adults: 2.0</br>children: 0.0</br>booking_changes: 4.0</br>_original_yhat_: 0.3079200979422798</br>"
          ],
          [
           "</br>id: observation</br>prediction: 0.262</br>babies: 7.7</br></br>lead_time: 203.0</br>arrival_date_year: 2016.0</br>adults: 2.0</br>children: 0.0</br>booking_changes: 4.0</br>_original_yhat_: 0.3079200979422798</br>"
          ],
          [
           "</br>id: observation</br>prediction: 0.262</br>babies: 7.800000000000001</br></br>lead_time: 203.0</br>arrival_date_year: 2016.0</br>adults: 2.0</br>children: 0.0</br>booking_changes: 4.0</br>_original_yhat_: 0.3079200979422798</br>"
          ],
          [
           "</br>id: observation</br>prediction: 0.262</br>babies: 7.9</br></br>lead_time: 203.0</br>arrival_date_year: 2016.0</br>adults: 2.0</br>children: 0.0</br>booking_changes: 4.0</br>_original_yhat_: 0.3079200979422798</br>"
          ],
          [
           "</br>id: observation</br>prediction: 0.262</br>babies: 8.0</br></br>lead_time: 203.0</br>arrival_date_year: 2016.0</br>adults: 2.0</br>children: 0.0</br>booking_changes: 4.0</br>_original_yhat_: 0.3079200979422798</br>"
          ],
          [
           "</br>id: observation</br>prediction: 0.262</br>babies: 8.1</br></br>lead_time: 203.0</br>arrival_date_year: 2016.0</br>adults: 2.0</br>children: 0.0</br>booking_changes: 4.0</br>_original_yhat_: 0.3079200979422798</br>"
          ],
          [
           "</br>id: observation</br>prediction: 0.262</br>babies: 8.200000000000001</br></br>lead_time: 203.0</br>arrival_date_year: 2016.0</br>adults: 2.0</br>children: 0.0</br>booking_changes: 4.0</br>_original_yhat_: 0.3079200979422798</br>"
          ],
          [
           "</br>id: observation</br>prediction: 0.262</br>babies: 8.3</br></br>lead_time: 203.0</br>arrival_date_year: 2016.0</br>adults: 2.0</br>children: 0.0</br>booking_changes: 4.0</br>_original_yhat_: 0.3079200979422798</br>"
          ],
          [
           "</br>id: observation</br>prediction: 0.262</br>babies: 8.4</br></br>lead_time: 203.0</br>arrival_date_year: 2016.0</br>adults: 2.0</br>children: 0.0</br>booking_changes: 4.0</br>_original_yhat_: 0.3079200979422798</br>"
          ],
          [
           "</br>id: observation</br>prediction: 0.262</br>babies: 8.5</br></br>lead_time: 203.0</br>arrival_date_year: 2016.0</br>adults: 2.0</br>children: 0.0</br>booking_changes: 4.0</br>_original_yhat_: 0.3079200979422798</br>"
          ],
          [
           "</br>id: observation</br>prediction: 0.262</br>babies: 8.6</br></br>lead_time: 203.0</br>arrival_date_year: 2016.0</br>adults: 2.0</br>children: 0.0</br>booking_changes: 4.0</br>_original_yhat_: 0.3079200979422798</br>"
          ],
          [
           "</br>id: observation</br>prediction: 0.262</br>babies: 8.700000000000001</br></br>lead_time: 203.0</br>arrival_date_year: 2016.0</br>adults: 2.0</br>children: 0.0</br>booking_changes: 4.0</br>_original_yhat_: 0.3079200979422798</br>"
          ],
          [
           "</br>id: observation</br>prediction: 0.262</br>babies: 8.8</br></br>lead_time: 203.0</br>arrival_date_year: 2016.0</br>adults: 2.0</br>children: 0.0</br>booking_changes: 4.0</br>_original_yhat_: 0.3079200979422798</br>"
          ],
          [
           "</br>id: observation</br>prediction: 0.262</br>babies: 8.9</br></br>lead_time: 203.0</br>arrival_date_year: 2016.0</br>adults: 2.0</br>children: 0.0</br>booking_changes: 4.0</br>_original_yhat_: 0.3079200979422798</br>"
          ],
          [
           "</br>id: observation</br>prediction: 0.262</br>babies: 9.0</br></br>lead_time: 203.0</br>arrival_date_year: 2016.0</br>adults: 2.0</br>children: 0.0</br>booking_changes: 4.0</br>_original_yhat_: 0.3079200979422798</br>"
          ],
          [
           "</br>id: observation</br>prediction: 0.262</br>babies: 9.1</br></br>lead_time: 203.0</br>arrival_date_year: 2016.0</br>adults: 2.0</br>children: 0.0</br>booking_changes: 4.0</br>_original_yhat_: 0.3079200979422798</br>"
          ],
          [
           "</br>id: observation</br>prediction: 0.262</br>babies: 9.200000000000001</br></br>lead_time: 203.0</br>arrival_date_year: 2016.0</br>adults: 2.0</br>children: 0.0</br>booking_changes: 4.0</br>_original_yhat_: 0.3079200979422798</br>"
          ],
          [
           "</br>id: observation</br>prediction: 0.262</br>babies: 9.3</br></br>lead_time: 203.0</br>arrival_date_year: 2016.0</br>adults: 2.0</br>children: 0.0</br>booking_changes: 4.0</br>_original_yhat_: 0.3079200979422798</br>"
          ],
          [
           "</br>id: observation</br>prediction: 0.262</br>babies: 9.4</br></br>lead_time: 203.0</br>arrival_date_year: 2016.0</br>adults: 2.0</br>children: 0.0</br>booking_changes: 4.0</br>_original_yhat_: 0.3079200979422798</br>"
          ],
          [
           "</br>id: observation</br>prediction: 0.262</br>babies: 9.5</br></br>lead_time: 203.0</br>arrival_date_year: 2016.0</br>adults: 2.0</br>children: 0.0</br>booking_changes: 4.0</br>_original_yhat_: 0.3079200979422798</br>"
          ],
          [
           "</br>id: observation</br>prediction: 0.262</br>babies: 9.600000000000001</br></br>lead_time: 203.0</br>arrival_date_year: 2016.0</br>adults: 2.0</br>children: 0.0</br>booking_changes: 4.0</br>_original_yhat_: 0.3079200979422798</br>"
          ],
          [
           "</br>id: observation</br>prediction: 0.262</br>babies: 9.700000000000001</br></br>lead_time: 203.0</br>arrival_date_year: 2016.0</br>adults: 2.0</br>children: 0.0</br>booking_changes: 4.0</br>_original_yhat_: 0.3079200979422798</br>"
          ],
          [
           "</br>id: observation</br>prediction: 0.262</br>babies: 9.8</br></br>lead_time: 203.0</br>arrival_date_year: 2016.0</br>adults: 2.0</br>children: 0.0</br>booking_changes: 4.0</br>_original_yhat_: 0.3079200979422798</br>"
          ],
          [
           "</br>id: observation</br>prediction: 0.262</br>babies: 9.9</br></br>lead_time: 203.0</br>arrival_date_year: 2016.0</br>adults: 2.0</br>children: 0.0</br>booking_changes: 4.0</br>_original_yhat_: 0.3079200979422798</br>"
          ],
          [
           "</br>id: observation</br>prediction: 0.262</br>babies: 10.0</br></br>lead_time: 203.0</br>arrival_date_year: 2016.0</br>adults: 2.0</br>children: 0.0</br>booking_changes: 4.0</br>_original_yhat_: 0.3079200979422798</br>"
          ]
         ],
         "hovertemplate": "%{customdata[0]}<extra></extra>",
         "legendgroup": "adaboost",
         "line": {
          "color": "#46bac2",
          "dash": "solid",
          "width": 2
         },
         "marker": {
          "symbol": "circle"
         },
         "mode": "lines",
         "name": "adaboost",
         "opacity": 1,
         "orientation": "v",
         "showlegend": false,
         "type": "scatter",
         "x": [
          0,
          0.1,
          0.2,
          0.30000000000000004,
          0.4,
          0.5,
          0.6000000000000001,
          0.7000000000000001,
          0.8,
          0.9,
          1,
          1.1,
          1.2000000000000002,
          1.3,
          1.4000000000000001,
          1.5,
          1.6,
          1.7000000000000002,
          1.8,
          1.9000000000000001,
          2,
          2.1,
          2.2,
          2.3000000000000003,
          2.4000000000000004,
          2.5,
          2.6,
          2.7,
          2.8000000000000003,
          2.9000000000000004,
          3,
          3.1,
          3.2,
          3.3000000000000003,
          3.4000000000000004,
          3.5,
          3.6,
          3.7,
          3.8000000000000003,
          3.9000000000000004,
          4,
          4.1000000000000005,
          4.2,
          4.3,
          4.4,
          4.5,
          4.6000000000000005,
          4.7,
          4.800000000000001,
          4.9,
          5,
          5.1000000000000005,
          5.2,
          5.300000000000001,
          5.4,
          5.5,
          5.6000000000000005,
          5.7,
          5.800000000000001,
          5.9,
          6,
          6.1000000000000005,
          6.2,
          6.300000000000001,
          6.4,
          6.5,
          6.6000000000000005,
          6.7,
          6.800000000000001,
          6.9,
          7,
          7.1000000000000005,
          7.2,
          7.300000000000001,
          7.4,
          7.5,
          7.6000000000000005,
          7.7,
          7.800000000000001,
          7.9,
          8,
          8.1,
          8.200000000000001,
          8.3,
          8.4,
          8.5,
          8.6,
          8.700000000000001,
          8.8,
          8.9,
          9,
          9.1,
          9.200000000000001,
          9.3,
          9.4,
          9.5,
          9.600000000000001,
          9.700000000000001,
          9.8,
          9.9,
          10
         ],
         "xaxis": "x",
         "y": [
          0.3079200979422798,
          0.3079200979422798,
          0.3079200979422798,
          0.3079200979422798,
          0.3079200979422798,
          0.3079200979422798,
          0.262131500212599,
          0.262131500212599,
          0.262131500212599,
          0.262131500212599,
          0.262131500212599,
          0.262131500212599,
          0.262131500212599,
          0.262131500212599,
          0.262131500212599,
          0.262131500212599,
          0.262131500212599,
          0.262131500212599,
          0.262131500212599,
          0.262131500212599,
          0.262131500212599,
          0.262131500212599,
          0.262131500212599,
          0.262131500212599,
          0.262131500212599,
          0.262131500212599,
          0.262131500212599,
          0.262131500212599,
          0.262131500212599,
          0.262131500212599,
          0.262131500212599,
          0.262131500212599,
          0.262131500212599,
          0.262131500212599,
          0.262131500212599,
          0.262131500212599,
          0.262131500212599,
          0.262131500212599,
          0.262131500212599,
          0.262131500212599,
          0.262131500212599,
          0.262131500212599,
          0.262131500212599,
          0.262131500212599,
          0.262131500212599,
          0.262131500212599,
          0.262131500212599,
          0.262131500212599,
          0.262131500212599,
          0.262131500212599,
          0.262131500212599,
          0.262131500212599,
          0.262131500212599,
          0.262131500212599,
          0.262131500212599,
          0.262131500212599,
          0.262131500212599,
          0.262131500212599,
          0.262131500212599,
          0.262131500212599,
          0.262131500212599,
          0.262131500212599,
          0.262131500212599,
          0.262131500212599,
          0.262131500212599,
          0.262131500212599,
          0.262131500212599,
          0.262131500212599,
          0.262131500212599,
          0.262131500212599,
          0.262131500212599,
          0.262131500212599,
          0.262131500212599,
          0.262131500212599,
          0.262131500212599,
          0.262131500212599,
          0.262131500212599,
          0.262131500212599,
          0.262131500212599,
          0.262131500212599,
          0.262131500212599,
          0.262131500212599,
          0.262131500212599,
          0.262131500212599,
          0.262131500212599,
          0.262131500212599,
          0.262131500212599,
          0.262131500212599,
          0.262131500212599,
          0.262131500212599,
          0.262131500212599,
          0.262131500212599,
          0.262131500212599,
          0.262131500212599,
          0.262131500212599,
          0.262131500212599,
          0.262131500212599,
          0.262131500212599,
          0.262131500212599,
          0.262131500212599,
          0.262131500212599
         ],
         "yaxis": "y"
        },
        {
         "customdata": [
          [
           "</br>id: observation</br>prediction: 0.429</br>booking_changes: 0.0</br></br>lead_time: 203.0</br>arrival_date_year: 2016.0</br>adults: 2.0</br>children: 0.0</br>babies: 0.0</br>_original_yhat_: 0.3079200979422798</br>"
          ],
          [
           "</br>id: observation</br>prediction: 0.429</br>booking_changes: 0.21</br></br>lead_time: 203.0</br>arrival_date_year: 2016.0</br>adults: 2.0</br>children: 0.0</br>babies: 0.0</br>_original_yhat_: 0.3079200979422798</br>"
          ],
          [
           "</br>id: observation</br>prediction: 0.429</br>booking_changes: 0.42</br></br>lead_time: 203.0</br>arrival_date_year: 2016.0</br>adults: 2.0</br>children: 0.0</br>babies: 0.0</br>_original_yhat_: 0.3079200979422798</br>"
          ],
          [
           "</br>id: observation</br>prediction: 0.304</br>booking_changes: 0.63</br></br>lead_time: 203.0</br>arrival_date_year: 2016.0</br>adults: 2.0</br>children: 0.0</br>babies: 0.0</br>_original_yhat_: 0.3079200979422798</br>"
          ],
          [
           "</br>id: observation</br>prediction: 0.304</br>booking_changes: 0.84</br></br>lead_time: 203.0</br>arrival_date_year: 2016.0</br>adults: 2.0</br>children: 0.0</br>babies: 0.0</br>_original_yhat_: 0.3079200979422798</br>"
          ],
          [
           "</br>id: observation</br>prediction: 0.304</br>booking_changes: 1.05</br></br>lead_time: 203.0</br>arrival_date_year: 2016.0</br>adults: 2.0</br>children: 0.0</br>babies: 0.0</br>_original_yhat_: 0.3079200979422798</br>"
          ],
          [
           "</br>id: observation</br>prediction: 0.304</br>booking_changes: 1.26</br></br>lead_time: 203.0</br>arrival_date_year: 2016.0</br>adults: 2.0</br>children: 0.0</br>babies: 0.0</br>_original_yhat_: 0.3079200979422798</br>"
          ],
          [
           "</br>id: observation</br>prediction: 0.304</br>booking_changes: 1.47</br></br>lead_time: 203.0</br>arrival_date_year: 2016.0</br>adults: 2.0</br>children: 0.0</br>babies: 0.0</br>_original_yhat_: 0.3079200979422798</br>"
          ],
          [
           "</br>id: observation</br>prediction: 0.308</br>booking_changes: 1.68</br></br>lead_time: 203.0</br>arrival_date_year: 2016.0</br>adults: 2.0</br>children: 0.0</br>babies: 0.0</br>_original_yhat_: 0.3079200979422798</br>"
          ],
          [
           "</br>id: observation</br>prediction: 0.308</br>booking_changes: 1.89</br></br>lead_time: 203.0</br>arrival_date_year: 2016.0</br>adults: 2.0</br>children: 0.0</br>babies: 0.0</br>_original_yhat_: 0.3079200979422798</br>"
          ],
          [
           "</br>id: observation</br>prediction: 0.308</br>booking_changes: 2.1</br></br>lead_time: 203.0</br>arrival_date_year: 2016.0</br>adults: 2.0</br>children: 0.0</br>babies: 0.0</br>_original_yhat_: 0.3079200979422798</br>"
          ],
          [
           "</br>id: observation</br>prediction: 0.308</br>booking_changes: 2.31</br></br>lead_time: 203.0</br>arrival_date_year: 2016.0</br>adults: 2.0</br>children: 0.0</br>babies: 0.0</br>_original_yhat_: 0.3079200979422798</br>"
          ],
          [
           "</br>id: observation</br>prediction: 0.308</br>booking_changes: 2.52</br></br>lead_time: 203.0</br>arrival_date_year: 2016.0</br>adults: 2.0</br>children: 0.0</br>babies: 0.0</br>_original_yhat_: 0.3079200979422798</br>"
          ],
          [
           "</br>id: observation</br>prediction: 0.308</br>booking_changes: 2.73</br></br>lead_time: 203.0</br>arrival_date_year: 2016.0</br>adults: 2.0</br>children: 0.0</br>babies: 0.0</br>_original_yhat_: 0.3079200979422798</br>"
          ],
          [
           "</br>id: observation</br>prediction: 0.308</br>booking_changes: 2.94</br></br>lead_time: 203.0</br>arrival_date_year: 2016.0</br>adults: 2.0</br>children: 0.0</br>babies: 0.0</br>_original_yhat_: 0.3079200979422798</br>"
          ],
          [
           "</br>id: observation</br>prediction: 0.308</br>booking_changes: 3.15</br></br>lead_time: 203.0</br>arrival_date_year: 2016.0</br>adults: 2.0</br>children: 0.0</br>babies: 0.0</br>_original_yhat_: 0.3079200979422798</br>"
          ],
          [
           "</br>id: observation</br>prediction: 0.308</br>booking_changes: 3.36</br></br>lead_time: 203.0</br>arrival_date_year: 2016.0</br>adults: 2.0</br>children: 0.0</br>babies: 0.0</br>_original_yhat_: 0.3079200979422798</br>"
          ],
          [
           "</br>id: observation</br>prediction: 0.308</br>booking_changes: 3.57</br></br>lead_time: 203.0</br>arrival_date_year: 2016.0</br>adults: 2.0</br>children: 0.0</br>babies: 0.0</br>_original_yhat_: 0.3079200979422798</br>"
          ],
          [
           "</br>id: observation</br>prediction: 0.308</br>booking_changes: 3.78</br></br>lead_time: 203.0</br>arrival_date_year: 2016.0</br>adults: 2.0</br>children: 0.0</br>babies: 0.0</br>_original_yhat_: 0.3079200979422798</br>"
          ],
          [
           "</br>id: observation</br>prediction: 0.308</br>booking_changes: 3.9899999999999998</br></br>lead_time: 203.0</br>arrival_date_year: 2016.0</br>adults: 2.0</br>children: 0.0</br>babies: 0.0</br>_original_yhat_: 0.3079200979422798</br>"
          ],
          [
           "</br>id: observation</br>prediction: 0.308</br>booking_changes: 4.0</br></br>lead_time: 203.0</br>arrival_date_year: 2016.0</br>adults: 2.0</br>children: 0.0</br>babies: 0.0</br>_original_yhat_: 0.3079200979422798</br>"
          ],
          [
           "</br>id: observation</br>prediction: 0.308</br>booking_changes: 4.2</br></br>lead_time: 203.0</br>arrival_date_year: 2016.0</br>adults: 2.0</br>children: 0.0</br>babies: 0.0</br>_original_yhat_: 0.3079200979422798</br>"
          ],
          [
           "</br>id: observation</br>prediction: 0.308</br>booking_changes: 4.41</br></br>lead_time: 203.0</br>arrival_date_year: 2016.0</br>adults: 2.0</br>children: 0.0</br>babies: 0.0</br>_original_yhat_: 0.3079200979422798</br>"
          ],
          [
           "</br>id: observation</br>prediction: 0.308</br>booking_changes: 4.62</br></br>lead_time: 203.0</br>arrival_date_year: 2016.0</br>adults: 2.0</br>children: 0.0</br>babies: 0.0</br>_original_yhat_: 0.3079200979422798</br>"
          ],
          [
           "</br>id: observation</br>prediction: 0.308</br>booking_changes: 4.83</br></br>lead_time: 203.0</br>arrival_date_year: 2016.0</br>adults: 2.0</br>children: 0.0</br>babies: 0.0</br>_original_yhat_: 0.3079200979422798</br>"
          ],
          [
           "</br>id: observation</br>prediction: 0.308</br>booking_changes: 5.04</br></br>lead_time: 203.0</br>arrival_date_year: 2016.0</br>adults: 2.0</br>children: 0.0</br>babies: 0.0</br>_original_yhat_: 0.3079200979422798</br>"
          ],
          [
           "</br>id: observation</br>prediction: 0.308</br>booking_changes: 5.25</br></br>lead_time: 203.0</br>arrival_date_year: 2016.0</br>adults: 2.0</br>children: 0.0</br>babies: 0.0</br>_original_yhat_: 0.3079200979422798</br>"
          ],
          [
           "</br>id: observation</br>prediction: 0.308</br>booking_changes: 5.46</br></br>lead_time: 203.0</br>arrival_date_year: 2016.0</br>adults: 2.0</br>children: 0.0</br>babies: 0.0</br>_original_yhat_: 0.3079200979422798</br>"
          ],
          [
           "</br>id: observation</br>prediction: 0.308</br>booking_changes: 5.67</br></br>lead_time: 203.0</br>arrival_date_year: 2016.0</br>adults: 2.0</br>children: 0.0</br>babies: 0.0</br>_original_yhat_: 0.3079200979422798</br>"
          ],
          [
           "</br>id: observation</br>prediction: 0.308</br>booking_changes: 5.88</br></br>lead_time: 203.0</br>arrival_date_year: 2016.0</br>adults: 2.0</br>children: 0.0</br>babies: 0.0</br>_original_yhat_: 0.3079200979422798</br>"
          ],
          [
           "</br>id: observation</br>prediction: 0.308</br>booking_changes: 6.09</br></br>lead_time: 203.0</br>arrival_date_year: 2016.0</br>adults: 2.0</br>children: 0.0</br>babies: 0.0</br>_original_yhat_: 0.3079200979422798</br>"
          ],
          [
           "</br>id: observation</br>prediction: 0.308</br>booking_changes: 6.3</br></br>lead_time: 203.0</br>arrival_date_year: 2016.0</br>adults: 2.0</br>children: 0.0</br>babies: 0.0</br>_original_yhat_: 0.3079200979422798</br>"
          ],
          [
           "</br>id: observation</br>prediction: 0.308</br>booking_changes: 6.51</br></br>lead_time: 203.0</br>arrival_date_year: 2016.0</br>adults: 2.0</br>children: 0.0</br>babies: 0.0</br>_original_yhat_: 0.3079200979422798</br>"
          ],
          [
           "</br>id: observation</br>prediction: 0.308</br>booking_changes: 6.72</br></br>lead_time: 203.0</br>arrival_date_year: 2016.0</br>adults: 2.0</br>children: 0.0</br>babies: 0.0</br>_original_yhat_: 0.3079200979422798</br>"
          ],
          [
           "</br>id: observation</br>prediction: 0.308</br>booking_changes: 6.93</br></br>lead_time: 203.0</br>arrival_date_year: 2016.0</br>adults: 2.0</br>children: 0.0</br>babies: 0.0</br>_original_yhat_: 0.3079200979422798</br>"
          ],
          [
           "</br>id: observation</br>prediction: 0.308</br>booking_changes: 7.14</br></br>lead_time: 203.0</br>arrival_date_year: 2016.0</br>adults: 2.0</br>children: 0.0</br>babies: 0.0</br>_original_yhat_: 0.3079200979422798</br>"
          ],
          [
           "</br>id: observation</br>prediction: 0.308</br>booking_changes: 7.35</br></br>lead_time: 203.0</br>arrival_date_year: 2016.0</br>adults: 2.0</br>children: 0.0</br>babies: 0.0</br>_original_yhat_: 0.3079200979422798</br>"
          ],
          [
           "</br>id: observation</br>prediction: 0.308</br>booking_changes: 7.56</br></br>lead_time: 203.0</br>arrival_date_year: 2016.0</br>adults: 2.0</br>children: 0.0</br>babies: 0.0</br>_original_yhat_: 0.3079200979422798</br>"
          ],
          [
           "</br>id: observation</br>prediction: 0.308</br>booking_changes: 7.77</br></br>lead_time: 203.0</br>arrival_date_year: 2016.0</br>adults: 2.0</br>children: 0.0</br>babies: 0.0</br>_original_yhat_: 0.3079200979422798</br>"
          ],
          [
           "</br>id: observation</br>prediction: 0.308</br>booking_changes: 7.9799999999999995</br></br>lead_time: 203.0</br>arrival_date_year: 2016.0</br>adults: 2.0</br>children: 0.0</br>babies: 0.0</br>_original_yhat_: 0.3079200979422798</br>"
          ],
          [
           "</br>id: observation</br>prediction: 0.308</br>booking_changes: 8.19</br></br>lead_time: 203.0</br>arrival_date_year: 2016.0</br>adults: 2.0</br>children: 0.0</br>babies: 0.0</br>_original_yhat_: 0.3079200979422798</br>"
          ],
          [
           "</br>id: observation</br>prediction: 0.308</br>booking_changes: 8.4</br></br>lead_time: 203.0</br>arrival_date_year: 2016.0</br>adults: 2.0</br>children: 0.0</br>babies: 0.0</br>_original_yhat_: 0.3079200979422798</br>"
          ],
          [
           "</br>id: observation</br>prediction: 0.308</br>booking_changes: 8.61</br></br>lead_time: 203.0</br>arrival_date_year: 2016.0</br>adults: 2.0</br>children: 0.0</br>babies: 0.0</br>_original_yhat_: 0.3079200979422798</br>"
          ],
          [
           "</br>id: observation</br>prediction: 0.308</br>booking_changes: 8.82</br></br>lead_time: 203.0</br>arrival_date_year: 2016.0</br>adults: 2.0</br>children: 0.0</br>babies: 0.0</br>_original_yhat_: 0.3079200979422798</br>"
          ],
          [
           "</br>id: observation</br>prediction: 0.308</br>booking_changes: 9.03</br></br>lead_time: 203.0</br>arrival_date_year: 2016.0</br>adults: 2.0</br>children: 0.0</br>babies: 0.0</br>_original_yhat_: 0.3079200979422798</br>"
          ],
          [
           "</br>id: observation</br>prediction: 0.308</br>booking_changes: 9.24</br></br>lead_time: 203.0</br>arrival_date_year: 2016.0</br>adults: 2.0</br>children: 0.0</br>babies: 0.0</br>_original_yhat_: 0.3079200979422798</br>"
          ],
          [
           "</br>id: observation</br>prediction: 0.308</br>booking_changes: 9.45</br></br>lead_time: 203.0</br>arrival_date_year: 2016.0</br>adults: 2.0</br>children: 0.0</br>babies: 0.0</br>_original_yhat_: 0.3079200979422798</br>"
          ],
          [
           "</br>id: observation</br>prediction: 0.308</br>booking_changes: 9.66</br></br>lead_time: 203.0</br>arrival_date_year: 2016.0</br>adults: 2.0</br>children: 0.0</br>babies: 0.0</br>_original_yhat_: 0.3079200979422798</br>"
          ],
          [
           "</br>id: observation</br>prediction: 0.308</br>booking_changes: 9.87</br></br>lead_time: 203.0</br>arrival_date_year: 2016.0</br>adults: 2.0</br>children: 0.0</br>babies: 0.0</br>_original_yhat_: 0.3079200979422798</br>"
          ],
          [
           "</br>id: observation</br>prediction: 0.308</br>booking_changes: 10.08</br></br>lead_time: 203.0</br>arrival_date_year: 2016.0</br>adults: 2.0</br>children: 0.0</br>babies: 0.0</br>_original_yhat_: 0.3079200979422798</br>"
          ],
          [
           "</br>id: observation</br>prediction: 0.308</br>booking_changes: 10.29</br></br>lead_time: 203.0</br>arrival_date_year: 2016.0</br>adults: 2.0</br>children: 0.0</br>babies: 0.0</br>_original_yhat_: 0.3079200979422798</br>"
          ],
          [
           "</br>id: observation</br>prediction: 0.308</br>booking_changes: 10.5</br></br>lead_time: 203.0</br>arrival_date_year: 2016.0</br>adults: 2.0</br>children: 0.0</br>babies: 0.0</br>_original_yhat_: 0.3079200979422798</br>"
          ],
          [
           "</br>id: observation</br>prediction: 0.308</br>booking_changes: 10.709999999999999</br></br>lead_time: 203.0</br>arrival_date_year: 2016.0</br>adults: 2.0</br>children: 0.0</br>babies: 0.0</br>_original_yhat_: 0.3079200979422798</br>"
          ],
          [
           "</br>id: observation</br>prediction: 0.308</br>booking_changes: 10.92</br></br>lead_time: 203.0</br>arrival_date_year: 2016.0</br>adults: 2.0</br>children: 0.0</br>babies: 0.0</br>_original_yhat_: 0.3079200979422798</br>"
          ],
          [
           "</br>id: observation</br>prediction: 0.308</br>booking_changes: 11.129999999999999</br></br>lead_time: 203.0</br>arrival_date_year: 2016.0</br>adults: 2.0</br>children: 0.0</br>babies: 0.0</br>_original_yhat_: 0.3079200979422798</br>"
          ],
          [
           "</br>id: observation</br>prediction: 0.308</br>booking_changes: 11.34</br></br>lead_time: 203.0</br>arrival_date_year: 2016.0</br>adults: 2.0</br>children: 0.0</br>babies: 0.0</br>_original_yhat_: 0.3079200979422798</br>"
          ],
          [
           "</br>id: observation</br>prediction: 0.308</br>booking_changes: 11.549999999999999</br></br>lead_time: 203.0</br>arrival_date_year: 2016.0</br>adults: 2.0</br>children: 0.0</br>babies: 0.0</br>_original_yhat_: 0.3079200979422798</br>"
          ],
          [
           "</br>id: observation</br>prediction: 0.308</br>booking_changes: 11.76</br></br>lead_time: 203.0</br>arrival_date_year: 2016.0</br>adults: 2.0</br>children: 0.0</br>babies: 0.0</br>_original_yhat_: 0.3079200979422798</br>"
          ],
          [
           "</br>id: observation</br>prediction: 0.308</br>booking_changes: 11.969999999999999</br></br>lead_time: 203.0</br>arrival_date_year: 2016.0</br>adults: 2.0</br>children: 0.0</br>babies: 0.0</br>_original_yhat_: 0.3079200979422798</br>"
          ],
          [
           "</br>id: observation</br>prediction: 0.308</br>booking_changes: 12.18</br></br>lead_time: 203.0</br>arrival_date_year: 2016.0</br>adults: 2.0</br>children: 0.0</br>babies: 0.0</br>_original_yhat_: 0.3079200979422798</br>"
          ],
          [
           "</br>id: observation</br>prediction: 0.308</br>booking_changes: 12.389999999999999</br></br>lead_time: 203.0</br>arrival_date_year: 2016.0</br>adults: 2.0</br>children: 0.0</br>babies: 0.0</br>_original_yhat_: 0.3079200979422798</br>"
          ],
          [
           "</br>id: observation</br>prediction: 0.308</br>booking_changes: 12.6</br></br>lead_time: 203.0</br>arrival_date_year: 2016.0</br>adults: 2.0</br>children: 0.0</br>babies: 0.0</br>_original_yhat_: 0.3079200979422798</br>"
          ],
          [
           "</br>id: observation</br>prediction: 0.308</br>booking_changes: 12.809999999999999</br></br>lead_time: 203.0</br>arrival_date_year: 2016.0</br>adults: 2.0</br>children: 0.0</br>babies: 0.0</br>_original_yhat_: 0.3079200979422798</br>"
          ],
          [
           "</br>id: observation</br>prediction: 0.308</br>booking_changes: 13.02</br></br>lead_time: 203.0</br>arrival_date_year: 2016.0</br>adults: 2.0</br>children: 0.0</br>babies: 0.0</br>_original_yhat_: 0.3079200979422798</br>"
          ],
          [
           "</br>id: observation</br>prediction: 0.308</br>booking_changes: 13.229999999999999</br></br>lead_time: 203.0</br>arrival_date_year: 2016.0</br>adults: 2.0</br>children: 0.0</br>babies: 0.0</br>_original_yhat_: 0.3079200979422798</br>"
          ],
          [
           "</br>id: observation</br>prediction: 0.308</br>booking_changes: 13.44</br></br>lead_time: 203.0</br>arrival_date_year: 2016.0</br>adults: 2.0</br>children: 0.0</br>babies: 0.0</br>_original_yhat_: 0.3079200979422798</br>"
          ],
          [
           "</br>id: observation</br>prediction: 0.308</br>booking_changes: 13.65</br></br>lead_time: 203.0</br>arrival_date_year: 2016.0</br>adults: 2.0</br>children: 0.0</br>babies: 0.0</br>_original_yhat_: 0.3079200979422798</br>"
          ],
          [
           "</br>id: observation</br>prediction: 0.308</br>booking_changes: 13.86</br></br>lead_time: 203.0</br>arrival_date_year: 2016.0</br>adults: 2.0</br>children: 0.0</br>babies: 0.0</br>_original_yhat_: 0.3079200979422798</br>"
          ],
          [
           "</br>id: observation</br>prediction: 0.308</br>booking_changes: 14.07</br></br>lead_time: 203.0</br>arrival_date_year: 2016.0</br>adults: 2.0</br>children: 0.0</br>babies: 0.0</br>_original_yhat_: 0.3079200979422798</br>"
          ],
          [
           "</br>id: observation</br>prediction: 0.308</br>booking_changes: 14.28</br></br>lead_time: 203.0</br>arrival_date_year: 2016.0</br>adults: 2.0</br>children: 0.0</br>babies: 0.0</br>_original_yhat_: 0.3079200979422798</br>"
          ],
          [
           "</br>id: observation</br>prediction: 0.308</br>booking_changes: 14.49</br></br>lead_time: 203.0</br>arrival_date_year: 2016.0</br>adults: 2.0</br>children: 0.0</br>babies: 0.0</br>_original_yhat_: 0.3079200979422798</br>"
          ],
          [
           "</br>id: observation</br>prediction: 0.308</br>booking_changes: 14.7</br></br>lead_time: 203.0</br>arrival_date_year: 2016.0</br>adults: 2.0</br>children: 0.0</br>babies: 0.0</br>_original_yhat_: 0.3079200979422798</br>"
          ],
          [
           "</br>id: observation</br>prediction: 0.308</br>booking_changes: 14.91</br></br>lead_time: 203.0</br>arrival_date_year: 2016.0</br>adults: 2.0</br>children: 0.0</br>babies: 0.0</br>_original_yhat_: 0.3079200979422798</br>"
          ],
          [
           "</br>id: observation</br>prediction: 0.308</br>booking_changes: 15.12</br></br>lead_time: 203.0</br>arrival_date_year: 2016.0</br>adults: 2.0</br>children: 0.0</br>babies: 0.0</br>_original_yhat_: 0.3079200979422798</br>"
          ],
          [
           "</br>id: observation</br>prediction: 0.308</br>booking_changes: 15.33</br></br>lead_time: 203.0</br>arrival_date_year: 2016.0</br>adults: 2.0</br>children: 0.0</br>babies: 0.0</br>_original_yhat_: 0.3079200979422798</br>"
          ],
          [
           "</br>id: observation</br>prediction: 0.308</br>booking_changes: 15.54</br></br>lead_time: 203.0</br>arrival_date_year: 2016.0</br>adults: 2.0</br>children: 0.0</br>babies: 0.0</br>_original_yhat_: 0.3079200979422798</br>"
          ],
          [
           "</br>id: observation</br>prediction: 0.308</br>booking_changes: 15.75</br></br>lead_time: 203.0</br>arrival_date_year: 2016.0</br>adults: 2.0</br>children: 0.0</br>babies: 0.0</br>_original_yhat_: 0.3079200979422798</br>"
          ],
          [
           "</br>id: observation</br>prediction: 0.308</br>booking_changes: 15.959999999999999</br></br>lead_time: 203.0</br>arrival_date_year: 2016.0</br>adults: 2.0</br>children: 0.0</br>babies: 0.0</br>_original_yhat_: 0.3079200979422798</br>"
          ],
          [
           "</br>id: observation</br>prediction: 0.308</br>booking_changes: 16.169999999999998</br></br>lead_time: 203.0</br>arrival_date_year: 2016.0</br>adults: 2.0</br>children: 0.0</br>babies: 0.0</br>_original_yhat_: 0.3079200979422798</br>"
          ],
          [
           "</br>id: observation</br>prediction: 0.308</br>booking_changes: 16.38</br></br>lead_time: 203.0</br>arrival_date_year: 2016.0</br>adults: 2.0</br>children: 0.0</br>babies: 0.0</br>_original_yhat_: 0.3079200979422798</br>"
          ],
          [
           "</br>id: observation</br>prediction: 0.308</br>booking_changes: 16.59</br></br>lead_time: 203.0</br>arrival_date_year: 2016.0</br>adults: 2.0</br>children: 0.0</br>babies: 0.0</br>_original_yhat_: 0.3079200979422798</br>"
          ],
          [
           "</br>id: observation</br>prediction: 0.308</br>booking_changes: 16.8</br></br>lead_time: 203.0</br>arrival_date_year: 2016.0</br>adults: 2.0</br>children: 0.0</br>babies: 0.0</br>_original_yhat_: 0.3079200979422798</br>"
          ],
          [
           "</br>id: observation</br>prediction: 0.308</br>booking_changes: 17.009999999999998</br></br>lead_time: 203.0</br>arrival_date_year: 2016.0</br>adults: 2.0</br>children: 0.0</br>babies: 0.0</br>_original_yhat_: 0.3079200979422798</br>"
          ],
          [
           "</br>id: observation</br>prediction: 0.308</br>booking_changes: 17.22</br></br>lead_time: 203.0</br>arrival_date_year: 2016.0</br>adults: 2.0</br>children: 0.0</br>babies: 0.0</br>_original_yhat_: 0.3079200979422798</br>"
          ],
          [
           "</br>id: observation</br>prediction: 0.308</br>booking_changes: 17.43</br></br>lead_time: 203.0</br>arrival_date_year: 2016.0</br>adults: 2.0</br>children: 0.0</br>babies: 0.0</br>_original_yhat_: 0.3079200979422798</br>"
          ],
          [
           "</br>id: observation</br>prediction: 0.308</br>booking_changes: 17.64</br></br>lead_time: 203.0</br>arrival_date_year: 2016.0</br>adults: 2.0</br>children: 0.0</br>babies: 0.0</br>_original_yhat_: 0.3079200979422798</br>"
          ],
          [
           "</br>id: observation</br>prediction: 0.308</br>booking_changes: 17.849999999999998</br></br>lead_time: 203.0</br>arrival_date_year: 2016.0</br>adults: 2.0</br>children: 0.0</br>babies: 0.0</br>_original_yhat_: 0.3079200979422798</br>"
          ],
          [
           "</br>id: observation</br>prediction: 0.308</br>booking_changes: 18.06</br></br>lead_time: 203.0</br>arrival_date_year: 2016.0</br>adults: 2.0</br>children: 0.0</br>babies: 0.0</br>_original_yhat_: 0.3079200979422798</br>"
          ],
          [
           "</br>id: observation</br>prediction: 0.308</br>booking_changes: 18.27</br></br>lead_time: 203.0</br>arrival_date_year: 2016.0</br>adults: 2.0</br>children: 0.0</br>babies: 0.0</br>_original_yhat_: 0.3079200979422798</br>"
          ],
          [
           "</br>id: observation</br>prediction: 0.308</br>booking_changes: 18.48</br></br>lead_time: 203.0</br>arrival_date_year: 2016.0</br>adults: 2.0</br>children: 0.0</br>babies: 0.0</br>_original_yhat_: 0.3079200979422798</br>"
          ],
          [
           "</br>id: observation</br>prediction: 0.308</br>booking_changes: 18.689999999999998</br></br>lead_time: 203.0</br>arrival_date_year: 2016.0</br>adults: 2.0</br>children: 0.0</br>babies: 0.0</br>_original_yhat_: 0.3079200979422798</br>"
          ],
          [
           "</br>id: observation</br>prediction: 0.308</br>booking_changes: 18.9</br></br>lead_time: 203.0</br>arrival_date_year: 2016.0</br>adults: 2.0</br>children: 0.0</br>babies: 0.0</br>_original_yhat_: 0.3079200979422798</br>"
          ],
          [
           "</br>id: observation</br>prediction: 0.308</br>booking_changes: 19.11</br></br>lead_time: 203.0</br>arrival_date_year: 2016.0</br>adults: 2.0</br>children: 0.0</br>babies: 0.0</br>_original_yhat_: 0.3079200979422798</br>"
          ],
          [
           "</br>id: observation</br>prediction: 0.308</br>booking_changes: 19.32</br></br>lead_time: 203.0</br>arrival_date_year: 2016.0</br>adults: 2.0</br>children: 0.0</br>babies: 0.0</br>_original_yhat_: 0.3079200979422798</br>"
          ],
          [
           "</br>id: observation</br>prediction: 0.308</br>booking_changes: 19.529999999999998</br></br>lead_time: 203.0</br>arrival_date_year: 2016.0</br>adults: 2.0</br>children: 0.0</br>babies: 0.0</br>_original_yhat_: 0.3079200979422798</br>"
          ],
          [
           "</br>id: observation</br>prediction: 0.308</br>booking_changes: 19.74</br></br>lead_time: 203.0</br>arrival_date_year: 2016.0</br>adults: 2.0</br>children: 0.0</br>babies: 0.0</br>_original_yhat_: 0.3079200979422798</br>"
          ],
          [
           "</br>id: observation</br>prediction: 0.308</br>booking_changes: 19.95</br></br>lead_time: 203.0</br>arrival_date_year: 2016.0</br>adults: 2.0</br>children: 0.0</br>babies: 0.0</br>_original_yhat_: 0.3079200979422798</br>"
          ],
          [
           "</br>id: observation</br>prediction: 0.308</br>booking_changes: 20.16</br></br>lead_time: 203.0</br>arrival_date_year: 2016.0</br>adults: 2.0</br>children: 0.0</br>babies: 0.0</br>_original_yhat_: 0.3079200979422798</br>"
          ],
          [
           "</br>id: observation</br>prediction: 0.308</br>booking_changes: 20.37</br></br>lead_time: 203.0</br>arrival_date_year: 2016.0</br>adults: 2.0</br>children: 0.0</br>babies: 0.0</br>_original_yhat_: 0.3079200979422798</br>"
          ],
          [
           "</br>id: observation</br>prediction: 0.308</br>booking_changes: 20.58</br></br>lead_time: 203.0</br>arrival_date_year: 2016.0</br>adults: 2.0</br>children: 0.0</br>babies: 0.0</br>_original_yhat_: 0.3079200979422798</br>"
          ],
          [
           "</br>id: observation</br>prediction: 0.308</br>booking_changes: 20.79</br></br>lead_time: 203.0</br>arrival_date_year: 2016.0</br>adults: 2.0</br>children: 0.0</br>babies: 0.0</br>_original_yhat_: 0.3079200979422798</br>"
          ],
          [
           "</br>id: observation</br>prediction: 0.308</br>booking_changes: 21.0</br></br>lead_time: 203.0</br>arrival_date_year: 2016.0</br>adults: 2.0</br>children: 0.0</br>babies: 0.0</br>_original_yhat_: 0.3079200979422798</br>"
          ]
         ],
         "hovertemplate": "%{customdata[0]}<extra></extra>",
         "legendgroup": "adaboost",
         "line": {
          "color": "#46bac2",
          "dash": "solid",
          "width": 2
         },
         "marker": {
          "symbol": "circle"
         },
         "mode": "lines",
         "name": "adaboost",
         "opacity": 1,
         "orientation": "v",
         "showlegend": false,
         "type": "scatter",
         "x": [
          0,
          0.21,
          0.42,
          0.63,
          0.84,
          1.05,
          1.26,
          1.47,
          1.68,
          1.89,
          2.1,
          2.31,
          2.52,
          2.73,
          2.94,
          3.15,
          3.36,
          3.57,
          3.78,
          3.9899999999999998,
          4,
          4.2,
          4.41,
          4.62,
          4.83,
          5.04,
          5.25,
          5.46,
          5.67,
          5.88,
          6.09,
          6.3,
          6.51,
          6.72,
          6.93,
          7.14,
          7.35,
          7.56,
          7.77,
          7.9799999999999995,
          8.19,
          8.4,
          8.61,
          8.82,
          9.03,
          9.24,
          9.45,
          9.66,
          9.87,
          10.08,
          10.29,
          10.5,
          10.709999999999999,
          10.92,
          11.129999999999999,
          11.34,
          11.549999999999999,
          11.76,
          11.969999999999999,
          12.18,
          12.389999999999999,
          12.6,
          12.809999999999999,
          13.02,
          13.229999999999999,
          13.44,
          13.65,
          13.86,
          14.07,
          14.28,
          14.49,
          14.7,
          14.91,
          15.12,
          15.33,
          15.54,
          15.75,
          15.959999999999999,
          16.169999999999998,
          16.38,
          16.59,
          16.8,
          17.009999999999998,
          17.22,
          17.43,
          17.64,
          17.849999999999998,
          18.06,
          18.27,
          18.48,
          18.689999999999998,
          18.9,
          19.11,
          19.32,
          19.529999999999998,
          19.74,
          19.95,
          20.16,
          20.37,
          20.58,
          20.79,
          21
         ],
         "xaxis": "x2",
         "y": [
          0.42943462250390285,
          0.42943462250390285,
          0.42943462250390285,
          0.3041444900516478,
          0.3041444900516478,
          0.3041444900516478,
          0.3041444900516478,
          0.3041444900516478,
          0.3079200979422798,
          0.3079200979422798,
          0.3079200979422798,
          0.3079200979422798,
          0.3079200979422798,
          0.3079200979422798,
          0.3079200979422798,
          0.3079200979422798,
          0.3079200979422798,
          0.3079200979422798,
          0.3079200979422798,
          0.3079200979422798,
          0.3079200979422798,
          0.3079200979422798,
          0.3079200979422798,
          0.3079200979422798,
          0.3079200979422798,
          0.3079200979422798,
          0.3079200979422798,
          0.3079200979422798,
          0.3079200979422798,
          0.3079200979422798,
          0.3079200979422798,
          0.3079200979422798,
          0.3079200979422798,
          0.3079200979422798,
          0.3079200979422798,
          0.3079200979422798,
          0.3079200979422798,
          0.3079200979422798,
          0.3079200979422798,
          0.3079200979422798,
          0.3079200979422798,
          0.3079200979422798,
          0.3079200979422798,
          0.3079200979422798,
          0.3079200979422798,
          0.3079200979422798,
          0.3079200979422798,
          0.3079200979422798,
          0.3079200979422798,
          0.3079200979422798,
          0.3079200979422798,
          0.3079200979422798,
          0.3079200979422798,
          0.3079200979422798,
          0.3079200979422798,
          0.3079200979422798,
          0.3079200979422798,
          0.3079200979422798,
          0.3079200979422798,
          0.3079200979422798,
          0.3079200979422798,
          0.3079200979422798,
          0.3079200979422798,
          0.3079200979422798,
          0.3079200979422798,
          0.3079200979422798,
          0.3079200979422798,
          0.3079200979422798,
          0.3079200979422798,
          0.3079200979422798,
          0.3079200979422798,
          0.3079200979422798,
          0.3079200979422798,
          0.3079200979422798,
          0.3079200979422798,
          0.3079200979422798,
          0.3079200979422798,
          0.3079200979422798,
          0.3079200979422798,
          0.3079200979422798,
          0.3079200979422798,
          0.3079200979422798,
          0.3079200979422798,
          0.3079200979422798,
          0.3079200979422798,
          0.3079200979422798,
          0.3079200979422798,
          0.3079200979422798,
          0.3079200979422798,
          0.3079200979422798,
          0.3079200979422798,
          0.3079200979422798,
          0.3079200979422798,
          0.3079200979422798,
          0.3079200979422798,
          0.3079200979422798,
          0.3079200979422798,
          0.3079200979422798,
          0.3079200979422798,
          0.3079200979422798,
          0.3079200979422798,
          0.3079200979422798
         ],
         "yaxis": "y2"
        },
        {
         "customdata": [
          [
           "</br>id: observation</br>prediction: 0.308</br>lead_time: 203.0</br></br>arrival_date_year: 2016.0</br>adults: 2.0</br>children: 0.0</br>babies: 0.0</br>booking_changes: 4.0</br>_original_yhat_: 0.3079200979422798</br>"
          ]
         ],
         "hovertemplate": "%{customdata[0]}<extra></extra>",
         "legendgroup": "",
         "marker": {
          "color": "#371ea3",
          "size": 10,
          "symbol": "circle"
         },
         "mode": "markers",
         "name": "",
         "opacity": 1,
         "orientation": "v",
         "showlegend": false,
         "type": "scatter",
         "x": [
          203
         ],
         "xaxis": "x3",
         "y": [
          0.3079200979422798
         ],
         "yaxis": "y3"
        },
        {
         "customdata": [
          [
           "</br>id: observation</br>prediction: 0.308</br>children: 0.0</br></br>lead_time: 203.0</br>arrival_date_year: 2016.0</br>adults: 2.0</br>babies: 0.0</br>booking_changes: 4.0</br>_original_yhat_: 0.3079200979422798</br>"
          ]
         ],
         "hovertemplate": "%{customdata[0]}<extra></extra>",
         "legendgroup": "",
         "marker": {
          "color": "#371ea3",
          "size": 10,
          "symbol": "circle"
         },
         "mode": "markers",
         "name": "",
         "opacity": 1,
         "orientation": "v",
         "showlegend": false,
         "type": "scatter",
         "x": [
          0
         ],
         "xaxis": "x4",
         "y": [
          0.3079200979422798
         ],
         "yaxis": "y4"
        },
        {
         "customdata": [
          [
           "</br>id: observation</br>prediction: 0.308</br>babies: 0.0</br></br>lead_time: 203.0</br>arrival_date_year: 2016.0</br>adults: 2.0</br>children: 0.0</br>booking_changes: 4.0</br>_original_yhat_: 0.3079200979422798</br>"
          ]
         ],
         "hovertemplate": "%{customdata[0]}<extra></extra>",
         "legendgroup": "",
         "marker": {
          "color": "#371ea3",
          "size": 10,
          "symbol": "circle"
         },
         "mode": "markers",
         "name": "",
         "opacity": 1,
         "orientation": "v",
         "showlegend": false,
         "type": "scatter",
         "x": [
          0
         ],
         "xaxis": "x",
         "y": [
          0.3079200979422798
         ],
         "yaxis": "y"
        },
        {
         "customdata": [
          [
           "</br>id: observation</br>prediction: 0.308</br>booking_changes: 4.0</br></br>lead_time: 203.0</br>arrival_date_year: 2016.0</br>adults: 2.0</br>children: 0.0</br>babies: 0.0</br>_original_yhat_: 0.3079200979422798</br>"
          ]
         ],
         "hovertemplate": "%{customdata[0]}<extra></extra>",
         "legendgroup": "",
         "marker": {
          "color": "#371ea3",
          "size": 10,
          "symbol": "circle"
         },
         "mode": "markers",
         "name": "",
         "opacity": 1,
         "orientation": "v",
         "showlegend": false,
         "type": "scatter",
         "x": [
          4
         ],
         "xaxis": "x2",
         "y": [
          0.3079200979422798
         ],
         "yaxis": "y2"
        }
       ],
       "layout": {
        "annotations": [
         {
          "font": {
           "size": 13
          },
          "showarrow": false,
          "text": "babies",
          "x": 0.2375,
          "xanchor": "center",
          "xref": "paper",
          "y": 0.425,
          "yanchor": "bottom",
          "yref": "paper"
         },
         {
          "font": {
           "size": 13
          },
          "showarrow": false,
          "text": "booking_changes",
          "x": 0.7625,
          "xanchor": "center",
          "xref": "paper",
          "y": 0.425,
          "yanchor": "bottom",
          "yref": "paper"
         },
         {
          "font": {
           "size": 13
          },
          "showarrow": false,
          "text": "lead_time",
          "x": 0.2375,
          "xanchor": "center",
          "xref": "paper",
          "y": 1,
          "yanchor": "bottom",
          "yref": "paper"
         },
         {
          "font": {
           "size": 13
          },
          "showarrow": false,
          "text": "children",
          "x": 0.7625,
          "xanchor": "center",
          "xref": "paper",
          "y": 1,
          "yanchor": "bottom",
          "yref": "paper"
         },
         {
          "font": {
           "size": 13
          },
          "showarrow": false,
          "text": "prediction",
          "textangle": -90,
          "x": -0.07,
          "xref": "paper",
          "y": 0.5,
          "yref": "paper"
         }
        ],
        "font": {
         "color": "#371ea3"
        },
        "height": 829,
        "hoverlabel": {
         "bgcolor": "rgba(0,0,0,0.8)"
        },
        "hovermode": "closest",
        "legend": {
         "font": {
          "size": 11
         },
         "itemsizing": "constant",
         "orientation": "h",
         "title": {
          "font": {
           "size": 12
          },
          "text": "label"
         },
         "tracegroupgap": 0,
         "x": 1,
         "xanchor": "right",
         "y": 1.0361881785283473,
         "yanchor": "bottom"
        },
        "margin": {
         "b": 71,
         "r": 30,
         "t": 78
        },
        "template": {
         "data": {
          "scatter": [
           {
            "type": "scatter"
           }
          ]
         }
        },
        "title": {
         "font": {
          "size": 16
         },
         "text": "Ceteris Paribus Profiles",
         "x": 0.15
        },
        "xaxis": {
         "anchor": "y",
         "automargin": true,
         "domain": [
          0,
          0.475
         ],
         "fixedrange": true,
         "gridwidth": 2,
         "showticklabels": true,
         "tickcolor": "white",
         "ticklen": 3,
         "ticks": "outside",
         "title": {
          "text": ""
         },
         "type": "linear",
         "zeroline": false
        },
        "xaxis2": {
         "anchor": "y2",
         "automargin": true,
         "domain": [
          0.525,
          1
         ],
         "fixedrange": true,
         "gridwidth": 2,
         "showticklabels": true,
         "tickcolor": "white",
         "ticklen": 3,
         "ticks": "outside",
         "title": {
          "text": ""
         },
         "type": "linear",
         "zeroline": false
        },
        "xaxis3": {
         "anchor": "y3",
         "automargin": true,
         "domain": [
          0,
          0.475
         ],
         "fixedrange": true,
         "gridwidth": 2,
         "showticklabels": true,
         "tickcolor": "white",
         "ticklen": 3,
         "ticks": "outside",
         "title": {
          "text": ""
         },
         "type": "linear",
         "zeroline": false
        },
        "xaxis4": {
         "anchor": "y4",
         "automargin": true,
         "domain": [
          0.525,
          1
         ],
         "fixedrange": true,
         "gridwidth": 2,
         "showticklabels": true,
         "tickcolor": "white",
         "ticklen": 3,
         "ticks": "outside",
         "title": {
          "text": ""
         },
         "type": "linear",
         "zeroline": false
        },
        "yaxis": {
         "anchor": "x",
         "automargin": true,
         "domain": [
          0,
          0.425
         ],
         "fixedrange": true,
         "gridwidth": 2,
         "range": [
          0.1630561388108606,
          0.4536508482941794
         ],
         "tickcolor": "white",
         "ticklen": 3,
         "ticks": "outside",
         "title": {
          "text": ""
         },
         "type": "linear",
         "zeroline": false
        },
        "yaxis2": {
         "anchor": "x2",
         "automargin": true,
         "domain": [
          0,
          0.425
         ],
         "fixedrange": true,
         "gridwidth": 2,
         "matches": "y",
         "range": [
          0.1630561388108606,
          0.4536508482941794
         ],
         "showticklabels": false,
         "tickcolor": "white",
         "ticklen": 3,
         "ticks": "outside",
         "title": {
          "text": ""
         },
         "type": "linear",
         "zeroline": false
        },
        "yaxis3": {
         "anchor": "x3",
         "automargin": true,
         "domain": [
          0.575,
          1
         ],
         "fixedrange": true,
         "gridwidth": 2,
         "matches": "y",
         "range": [
          0.1630561388108606,
          0.4536508482941794
         ],
         "tickcolor": "white",
         "ticklen": 3,
         "ticks": "outside",
         "title": {
          "text": ""
         },
         "type": "linear",
         "zeroline": false
        },
        "yaxis4": {
         "anchor": "x4",
         "automargin": true,
         "domain": [
          0.575,
          1
         ],
         "fixedrange": true,
         "gridwidth": 2,
         "matches": "y",
         "range": [
          0.1630561388108606,
          0.4536508482941794
         ],
         "showticklabels": false,
         "tickcolor": "white",
         "ticklen": 3,
         "ticks": "outside",
         "title": {
          "text": ""
         },
         "type": "linear",
         "zeroline": false
        }
       }
      },
      "text/html": [
       "<div>                            <div id=\"c98c6e5b-c53d-42d4-a57a-28f03708b45c\" class=\"plotly-graph-div\" style=\"height:829px; width:100%;\"></div>            <script type=\"text/javascript\">                require([\"plotly\"], function(Plotly) {                    window.PLOTLYENV=window.PLOTLYENV || {};                                    if (document.getElementById(\"c98c6e5b-c53d-42d4-a57a-28f03708b45c\")) {                    Plotly.newPlot(                        \"c98c6e5b-c53d-42d4-a57a-28f03708b45c\",                        [{\"customdata\":[[\"</br>id: observation</br>prediction: 0.187</br>lead_time: 0.0</br></br>arrival_date_year: 2016.0</br>adults: 2.0</br>children: 0.0</br>babies: 0.0</br>booking_changes: 4.0</br>_original_yhat_: 0.3079200979422798</br>\"],[\"</br>id: observation</br>prediction: 0.187</br>lead_time: 7.37</br></br>arrival_date_year: 2016.0</br>adults: 2.0</br>children: 0.0</br>babies: 0.0</br>booking_changes: 4.0</br>_original_yhat_: 0.3079200979422798</br>\"],[\"</br>id: observation</br>prediction: 0.215</br>lead_time: 14.74</br></br>arrival_date_year: 2016.0</br>adults: 2.0</br>children: 0.0</br>babies: 0.0</br>booking_changes: 4.0</br>_original_yhat_: 0.3079200979422798</br>\"],[\"</br>id: observation</br>prediction: 0.242</br>lead_time: 22.11</br></br>arrival_date_year: 2016.0</br>adults: 2.0</br>children: 0.0</br>babies: 0.0</br>booking_changes: 4.0</br>_original_yhat_: 0.3079200979422798</br>\"],[\"</br>id: observation</br>prediction: 0.308</br>lead_time: 29.48</br></br>arrival_date_year: 2016.0</br>adults: 2.0</br>children: 0.0</br>babies: 0.0</br>booking_changes: 4.0</br>_original_yhat_: 0.3079200979422798</br>\"],[\"</br>id: observation</br>prediction: 0.308</br>lead_time: 36.85</br></br>arrival_date_year: 2016.0</br>adults: 2.0</br>children: 0.0</br>babies: 0.0</br>booking_changes: 4.0</br>_original_yhat_: 0.3079200979422798</br>\"],[\"</br>id: observation</br>prediction: 0.308</br>lead_time: 44.22</br></br>arrival_date_year: 2016.0</br>adults: 2.0</br>children: 0.0</br>babies: 0.0</br>booking_changes: 4.0</br>_original_yhat_: 0.3079200979422798</br>\"],[\"</br>id: observation</br>prediction: 0.308</br>lead_time: 51.59</br></br>arrival_date_year: 2016.0</br>adults: 2.0</br>children: 0.0</br>babies: 0.0</br>booking_changes: 4.0</br>_original_yhat_: 0.3079200979422798</br>\"],[\"</br>id: observation</br>prediction: 0.308</br>lead_time: 58.96</br></br>arrival_date_year: 2016.0</br>adults: 2.0</br>children: 0.0</br>babies: 0.0</br>booking_changes: 4.0</br>_original_yhat_: 0.3079200979422798</br>\"],[\"</br>id: observation</br>prediction: 0.308</br>lead_time: 66.33</br></br>arrival_date_year: 2016.0</br>adults: 2.0</br>children: 0.0</br>babies: 0.0</br>booking_changes: 4.0</br>_original_yhat_: 0.3079200979422798</br>\"],[\"</br>id: observation</br>prediction: 0.308</br>lead_time: 73.7</br></br>arrival_date_year: 2016.0</br>adults: 2.0</br>children: 0.0</br>babies: 0.0</br>booking_changes: 4.0</br>_original_yhat_: 0.3079200979422798</br>\"],[\"</br>id: observation</br>prediction: 0.308</br>lead_time: 81.07000000000001</br></br>arrival_date_year: 2016.0</br>adults: 2.0</br>children: 0.0</br>babies: 0.0</br>booking_changes: 4.0</br>_original_yhat_: 0.3079200979422798</br>\"],[\"</br>id: observation</br>prediction: 0.308</br>lead_time: 88.44</br></br>arrival_date_year: 2016.0</br>adults: 2.0</br>children: 0.0</br>babies: 0.0</br>booking_changes: 4.0</br>_original_yhat_: 0.3079200979422798</br>\"],[\"</br>id: observation</br>prediction: 0.308</br>lead_time: 95.81</br></br>arrival_date_year: 2016.0</br>adults: 2.0</br>children: 0.0</br>babies: 0.0</br>booking_changes: 4.0</br>_original_yhat_: 0.3079200979422798</br>\"],[\"</br>id: observation</br>prediction: 0.308</br>lead_time: 103.18</br></br>arrival_date_year: 2016.0</br>adults: 2.0</br>children: 0.0</br>babies: 0.0</br>booking_changes: 4.0</br>_original_yhat_: 0.3079200979422798</br>\"],[\"</br>id: observation</br>prediction: 0.308</br>lead_time: 110.55</br></br>arrival_date_year: 2016.0</br>adults: 2.0</br>children: 0.0</br>babies: 0.0</br>booking_changes: 4.0</br>_original_yhat_: 0.3079200979422798</br>\"],[\"</br>id: observation</br>prediction: 0.308</br>lead_time: 117.92</br></br>arrival_date_year: 2016.0</br>adults: 2.0</br>children: 0.0</br>babies: 0.0</br>booking_changes: 4.0</br>_original_yhat_: 0.3079200979422798</br>\"],[\"</br>id: observation</br>prediction: 0.308</br>lead_time: 125.29</br></br>arrival_date_year: 2016.0</br>adults: 2.0</br>children: 0.0</br>babies: 0.0</br>booking_changes: 4.0</br>_original_yhat_: 0.3079200979422798</br>\"],[\"</br>id: observation</br>prediction: 0.308</br>lead_time: 132.66</br></br>arrival_date_year: 2016.0</br>adults: 2.0</br>children: 0.0</br>babies: 0.0</br>booking_changes: 4.0</br>_original_yhat_: 0.3079200979422798</br>\"],[\"</br>id: observation</br>prediction: 0.308</br>lead_time: 140.03</br></br>arrival_date_year: 2016.0</br>adults: 2.0</br>children: 0.0</br>babies: 0.0</br>booking_changes: 4.0</br>_original_yhat_: 0.3079200979422798</br>\"],[\"</br>id: observation</br>prediction: 0.308</br>lead_time: 147.4</br></br>arrival_date_year: 2016.0</br>adults: 2.0</br>children: 0.0</br>babies: 0.0</br>booking_changes: 4.0</br>_original_yhat_: 0.3079200979422798</br>\"],[\"</br>id: observation</br>prediction: 0.308</br>lead_time: 154.77</br></br>arrival_date_year: 2016.0</br>adults: 2.0</br>children: 0.0</br>babies: 0.0</br>booking_changes: 4.0</br>_original_yhat_: 0.3079200979422798</br>\"],[\"</br>id: observation</br>prediction: 0.308</br>lead_time: 162.14000000000001</br></br>arrival_date_year: 2016.0</br>adults: 2.0</br>children: 0.0</br>babies: 0.0</br>booking_changes: 4.0</br>_original_yhat_: 0.3079200979422798</br>\"],[\"</br>id: observation</br>prediction: 0.308</br>lead_time: 169.51</br></br>arrival_date_year: 2016.0</br>adults: 2.0</br>children: 0.0</br>babies: 0.0</br>booking_changes: 4.0</br>_original_yhat_: 0.3079200979422798</br>\"],[\"</br>id: observation</br>prediction: 0.308</br>lead_time: 176.88</br></br>arrival_date_year: 2016.0</br>adults: 2.0</br>children: 0.0</br>babies: 0.0</br>booking_changes: 4.0</br>_original_yhat_: 0.3079200979422798</br>\"],[\"</br>id: observation</br>prediction: 0.308</br>lead_time: 184.25</br></br>arrival_date_year: 2016.0</br>adults: 2.0</br>children: 0.0</br>babies: 0.0</br>booking_changes: 4.0</br>_original_yhat_: 0.3079200979422798</br>\"],[\"</br>id: observation</br>prediction: 0.308</br>lead_time: 191.62</br></br>arrival_date_year: 2016.0</br>adults: 2.0</br>children: 0.0</br>babies: 0.0</br>booking_changes: 4.0</br>_original_yhat_: 0.3079200979422798</br>\"],[\"</br>id: observation</br>prediction: 0.308</br>lead_time: 198.99</br></br>arrival_date_year: 2016.0</br>adults: 2.0</br>children: 0.0</br>babies: 0.0</br>booking_changes: 4.0</br>_original_yhat_: 0.3079200979422798</br>\"],[\"</br>id: observation</br>prediction: 0.308</br>lead_time: 203.0</br></br>arrival_date_year: 2016.0</br>adults: 2.0</br>children: 0.0</br>babies: 0.0</br>booking_changes: 4.0</br>_original_yhat_: 0.3079200979422798</br>\"],[\"</br>id: observation</br>prediction: 0.308</br>lead_time: 206.36</br></br>arrival_date_year: 2016.0</br>adults: 2.0</br>children: 0.0</br>babies: 0.0</br>booking_changes: 4.0</br>_original_yhat_: 0.3079200979422798</br>\"],[\"</br>id: observation</br>prediction: 0.308</br>lead_time: 213.73</br></br>arrival_date_year: 2016.0</br>adults: 2.0</br>children: 0.0</br>babies: 0.0</br>booking_changes: 4.0</br>_original_yhat_: 0.3079200979422798</br>\"],[\"</br>id: observation</br>prediction: 0.308</br>lead_time: 221.1</br></br>arrival_date_year: 2016.0</br>adults: 2.0</br>children: 0.0</br>babies: 0.0</br>booking_changes: 4.0</br>_original_yhat_: 0.3079200979422798</br>\"],[\"</br>id: observation</br>prediction: 0.308</br>lead_time: 228.47</br></br>arrival_date_year: 2016.0</br>adults: 2.0</br>children: 0.0</br>babies: 0.0</br>booking_changes: 4.0</br>_original_yhat_: 0.3079200979422798</br>\"],[\"</br>id: observation</br>prediction: 0.308</br>lead_time: 235.84</br></br>arrival_date_year: 2016.0</br>adults: 2.0</br>children: 0.0</br>babies: 0.0</br>booking_changes: 4.0</br>_original_yhat_: 0.3079200979422798</br>\"],[\"</br>id: observation</br>prediction: 0.308</br>lead_time: 243.21</br></br>arrival_date_year: 2016.0</br>adults: 2.0</br>children: 0.0</br>babies: 0.0</br>booking_changes: 4.0</br>_original_yhat_: 0.3079200979422798</br>\"],[\"</br>id: observation</br>prediction: 0.308</br>lead_time: 250.58</br></br>arrival_date_year: 2016.0</br>adults: 2.0</br>children: 0.0</br>babies: 0.0</br>booking_changes: 4.0</br>_original_yhat_: 0.3079200979422798</br>\"],[\"</br>id: observation</br>prediction: 0.321</br>lead_time: 257.95</br></br>arrival_date_year: 2016.0</br>adults: 2.0</br>children: 0.0</br>babies: 0.0</br>booking_changes: 4.0</br>_original_yhat_: 0.3079200979422798</br>\"],[\"</br>id: observation</br>prediction: 0.321</br>lead_time: 265.32</br></br>arrival_date_year: 2016.0</br>adults: 2.0</br>children: 0.0</br>babies: 0.0</br>booking_changes: 4.0</br>_original_yhat_: 0.3079200979422798</br>\"],[\"</br>id: observation</br>prediction: 0.321</br>lead_time: 272.69</br></br>arrival_date_year: 2016.0</br>adults: 2.0</br>children: 0.0</br>babies: 0.0</br>booking_changes: 4.0</br>_original_yhat_: 0.3079200979422798</br>\"],[\"</br>id: observation</br>prediction: 0.321</br>lead_time: 280.06</br></br>arrival_date_year: 2016.0</br>adults: 2.0</br>children: 0.0</br>babies: 0.0</br>booking_changes: 4.0</br>_original_yhat_: 0.3079200979422798</br>\"],[\"</br>id: observation</br>prediction: 0.321</br>lead_time: 287.43</br></br>arrival_date_year: 2016.0</br>adults: 2.0</br>children: 0.0</br>babies: 0.0</br>booking_changes: 4.0</br>_original_yhat_: 0.3079200979422798</br>\"],[\"</br>id: observation</br>prediction: 0.321</br>lead_time: 294.8</br></br>arrival_date_year: 2016.0</br>adults: 2.0</br>children: 0.0</br>babies: 0.0</br>booking_changes: 4.0</br>_original_yhat_: 0.3079200979422798</br>\"],[\"</br>id: observation</br>prediction: 0.321</br>lead_time: 302.17</br></br>arrival_date_year: 2016.0</br>adults: 2.0</br>children: 0.0</br>babies: 0.0</br>booking_changes: 4.0</br>_original_yhat_: 0.3079200979422798</br>\"],[\"</br>id: observation</br>prediction: 0.321</br>lead_time: 309.54</br></br>arrival_date_year: 2016.0</br>adults: 2.0</br>children: 0.0</br>babies: 0.0</br>booking_changes: 4.0</br>_original_yhat_: 0.3079200979422798</br>\"],[\"</br>id: observation</br>prediction: 0.321</br>lead_time: 316.91</br></br>arrival_date_year: 2016.0</br>adults: 2.0</br>children: 0.0</br>babies: 0.0</br>booking_changes: 4.0</br>_original_yhat_: 0.3079200979422798</br>\"],[\"</br>id: observation</br>prediction: 0.321</br>lead_time: 324.28000000000003</br></br>arrival_date_year: 2016.0</br>adults: 2.0</br>children: 0.0</br>babies: 0.0</br>booking_changes: 4.0</br>_original_yhat_: 0.3079200979422798</br>\"],[\"</br>id: observation</br>prediction: 0.321</br>lead_time: 331.65</br></br>arrival_date_year: 2016.0</br>adults: 2.0</br>children: 0.0</br>babies: 0.0</br>booking_changes: 4.0</br>_original_yhat_: 0.3079200979422798</br>\"],[\"</br>id: observation</br>prediction: 0.321</br>lead_time: 339.02</br></br>arrival_date_year: 2016.0</br>adults: 2.0</br>children: 0.0</br>babies: 0.0</br>booking_changes: 4.0</br>_original_yhat_: 0.3079200979422798</br>\"],[\"</br>id: observation</br>prediction: 0.321</br>lead_time: 346.39</br></br>arrival_date_year: 2016.0</br>adults: 2.0</br>children: 0.0</br>babies: 0.0</br>booking_changes: 4.0</br>_original_yhat_: 0.3079200979422798</br>\"],[\"</br>id: observation</br>prediction: 0.321</br>lead_time: 353.76</br></br>arrival_date_year: 2016.0</br>adults: 2.0</br>children: 0.0</br>babies: 0.0</br>booking_changes: 4.0</br>_original_yhat_: 0.3079200979422798</br>\"],[\"</br>id: observation</br>prediction: 0.321</br>lead_time: 361.13</br></br>arrival_date_year: 2016.0</br>adults: 2.0</br>children: 0.0</br>babies: 0.0</br>booking_changes: 4.0</br>_original_yhat_: 0.3079200979422798</br>\"],[\"</br>id: observation</br>prediction: 0.321</br>lead_time: 368.5</br></br>arrival_date_year: 2016.0</br>adults: 2.0</br>children: 0.0</br>babies: 0.0</br>booking_changes: 4.0</br>_original_yhat_: 0.3079200979422798</br>\"],[\"</br>id: observation</br>prediction: 0.321</br>lead_time: 375.87</br></br>arrival_date_year: 2016.0</br>adults: 2.0</br>children: 0.0</br>babies: 0.0</br>booking_changes: 4.0</br>_original_yhat_: 0.3079200979422798</br>\"],[\"</br>id: observation</br>prediction: 0.321</br>lead_time: 383.24</br></br>arrival_date_year: 2016.0</br>adults: 2.0</br>children: 0.0</br>babies: 0.0</br>booking_changes: 4.0</br>_original_yhat_: 0.3079200979422798</br>\"],[\"</br>id: observation</br>prediction: 0.321</br>lead_time: 390.61</br></br>arrival_date_year: 2016.0</br>adults: 2.0</br>children: 0.0</br>babies: 0.0</br>booking_changes: 4.0</br>_original_yhat_: 0.3079200979422798</br>\"],[\"</br>id: observation</br>prediction: 0.321</br>lead_time: 397.98</br></br>arrival_date_year: 2016.0</br>adults: 2.0</br>children: 0.0</br>babies: 0.0</br>booking_changes: 4.0</br>_original_yhat_: 0.3079200979422798</br>\"],[\"</br>id: observation</br>prediction: 0.321</br>lead_time: 405.35</br></br>arrival_date_year: 2016.0</br>adults: 2.0</br>children: 0.0</br>babies: 0.0</br>booking_changes: 4.0</br>_original_yhat_: 0.3079200979422798</br>\"],[\"</br>id: observation</br>prediction: 0.321</br>lead_time: 412.72</br></br>arrival_date_year: 2016.0</br>adults: 2.0</br>children: 0.0</br>babies: 0.0</br>booking_changes: 4.0</br>_original_yhat_: 0.3079200979422798</br>\"],[\"</br>id: observation</br>prediction: 0.321</br>lead_time: 420.09000000000003</br></br>arrival_date_year: 2016.0</br>adults: 2.0</br>children: 0.0</br>babies: 0.0</br>booking_changes: 4.0</br>_original_yhat_: 0.3079200979422798</br>\"],[\"</br>id: observation</br>prediction: 0.321</br>lead_time: 427.46</br></br>arrival_date_year: 2016.0</br>adults: 2.0</br>children: 0.0</br>babies: 0.0</br>booking_changes: 4.0</br>_original_yhat_: 0.3079200979422798</br>\"],[\"</br>id: observation</br>prediction: 0.321</br>lead_time: 434.83</br></br>arrival_date_year: 2016.0</br>adults: 2.0</br>children: 0.0</br>babies: 0.0</br>booking_changes: 4.0</br>_original_yhat_: 0.3079200979422798</br>\"],[\"</br>id: observation</br>prediction: 0.321</br>lead_time: 442.2</br></br>arrival_date_year: 2016.0</br>adults: 2.0</br>children: 0.0</br>babies: 0.0</br>booking_changes: 4.0</br>_original_yhat_: 0.3079200979422798</br>\"],[\"</br>id: observation</br>prediction: 0.321</br>lead_time: 449.57</br></br>arrival_date_year: 2016.0</br>adults: 2.0</br>children: 0.0</br>babies: 0.0</br>booking_changes: 4.0</br>_original_yhat_: 0.3079200979422798</br>\"],[\"</br>id: observation</br>prediction: 0.321</br>lead_time: 456.94</br></br>arrival_date_year: 2016.0</br>adults: 2.0</br>children: 0.0</br>babies: 0.0</br>booking_changes: 4.0</br>_original_yhat_: 0.3079200979422798</br>\"],[\"</br>id: observation</br>prediction: 0.321</br>lead_time: 464.31</br></br>arrival_date_year: 2016.0</br>adults: 2.0</br>children: 0.0</br>babies: 0.0</br>booking_changes: 4.0</br>_original_yhat_: 0.3079200979422798</br>\"],[\"</br>id: observation</br>prediction: 0.321</br>lead_time: 471.68</br></br>arrival_date_year: 2016.0</br>adults: 2.0</br>children: 0.0</br>babies: 0.0</br>booking_changes: 4.0</br>_original_yhat_: 0.3079200979422798</br>\"],[\"</br>id: observation</br>prediction: 0.321</br>lead_time: 479.05</br></br>arrival_date_year: 2016.0</br>adults: 2.0</br>children: 0.0</br>babies: 0.0</br>booking_changes: 4.0</br>_original_yhat_: 0.3079200979422798</br>\"],[\"</br>id: observation</br>prediction: 0.321</br>lead_time: 486.42</br></br>arrival_date_year: 2016.0</br>adults: 2.0</br>children: 0.0</br>babies: 0.0</br>booking_changes: 4.0</br>_original_yhat_: 0.3079200979422798</br>\"],[\"</br>id: observation</br>prediction: 0.321</br>lead_time: 493.79</br></br>arrival_date_year: 2016.0</br>adults: 2.0</br>children: 0.0</br>babies: 0.0</br>booking_changes: 4.0</br>_original_yhat_: 0.3079200979422798</br>\"],[\"</br>id: observation</br>prediction: 0.321</br>lead_time: 501.16</br></br>arrival_date_year: 2016.0</br>adults: 2.0</br>children: 0.0</br>babies: 0.0</br>booking_changes: 4.0</br>_original_yhat_: 0.3079200979422798</br>\"],[\"</br>id: observation</br>prediction: 0.321</br>lead_time: 508.53000000000003</br></br>arrival_date_year: 2016.0</br>adults: 2.0</br>children: 0.0</br>babies: 0.0</br>booking_changes: 4.0</br>_original_yhat_: 0.3079200979422798</br>\"],[\"</br>id: observation</br>prediction: 0.321</br>lead_time: 515.9</br></br>arrival_date_year: 2016.0</br>adults: 2.0</br>children: 0.0</br>babies: 0.0</br>booking_changes: 4.0</br>_original_yhat_: 0.3079200979422798</br>\"],[\"</br>id: observation</br>prediction: 0.321</br>lead_time: 523.27</br></br>arrival_date_year: 2016.0</br>adults: 2.0</br>children: 0.0</br>babies: 0.0</br>booking_changes: 4.0</br>_original_yhat_: 0.3079200979422798</br>\"],[\"</br>id: observation</br>prediction: 0.321</br>lead_time: 530.64</br></br>arrival_date_year: 2016.0</br>adults: 2.0</br>children: 0.0</br>babies: 0.0</br>booking_changes: 4.0</br>_original_yhat_: 0.3079200979422798</br>\"],[\"</br>id: observation</br>prediction: 0.321</br>lead_time: 538.01</br></br>arrival_date_year: 2016.0</br>adults: 2.0</br>children: 0.0</br>babies: 0.0</br>booking_changes: 4.0</br>_original_yhat_: 0.3079200979422798</br>\"],[\"</br>id: observation</br>prediction: 0.321</br>lead_time: 545.38</br></br>arrival_date_year: 2016.0</br>adults: 2.0</br>children: 0.0</br>babies: 0.0</br>booking_changes: 4.0</br>_original_yhat_: 0.3079200979422798</br>\"],[\"</br>id: observation</br>prediction: 0.321</br>lead_time: 552.75</br></br>arrival_date_year: 2016.0</br>adults: 2.0</br>children: 0.0</br>babies: 0.0</br>booking_changes: 4.0</br>_original_yhat_: 0.3079200979422798</br>\"],[\"</br>id: observation</br>prediction: 0.321</br>lead_time: 560.12</br></br>arrival_date_year: 2016.0</br>adults: 2.0</br>children: 0.0</br>babies: 0.0</br>booking_changes: 4.0</br>_original_yhat_: 0.3079200979422798</br>\"],[\"</br>id: observation</br>prediction: 0.321</br>lead_time: 567.49</br></br>arrival_date_year: 2016.0</br>adults: 2.0</br>children: 0.0</br>babies: 0.0</br>booking_changes: 4.0</br>_original_yhat_: 0.3079200979422798</br>\"],[\"</br>id: observation</br>prediction: 0.321</br>lead_time: 574.86</br></br>arrival_date_year: 2016.0</br>adults: 2.0</br>children: 0.0</br>babies: 0.0</br>booking_changes: 4.0</br>_original_yhat_: 0.3079200979422798</br>\"],[\"</br>id: observation</br>prediction: 0.321</br>lead_time: 582.23</br></br>arrival_date_year: 2016.0</br>adults: 2.0</br>children: 0.0</br>babies: 0.0</br>booking_changes: 4.0</br>_original_yhat_: 0.3079200979422798</br>\"],[\"</br>id: observation</br>prediction: 0.321</br>lead_time: 589.6</br></br>arrival_date_year: 2016.0</br>adults: 2.0</br>children: 0.0</br>babies: 0.0</br>booking_changes: 4.0</br>_original_yhat_: 0.3079200979422798</br>\"],[\"</br>id: observation</br>prediction: 0.321</br>lead_time: 596.97</br></br>arrival_date_year: 2016.0</br>adults: 2.0</br>children: 0.0</br>babies: 0.0</br>booking_changes: 4.0</br>_original_yhat_: 0.3079200979422798</br>\"],[\"</br>id: observation</br>prediction: 0.321</br>lead_time: 604.34</br></br>arrival_date_year: 2016.0</br>adults: 2.0</br>children: 0.0</br>babies: 0.0</br>booking_changes: 4.0</br>_original_yhat_: 0.3079200979422798</br>\"],[\"</br>id: observation</br>prediction: 0.321</br>lead_time: 611.71</br></br>arrival_date_year: 2016.0</br>adults: 2.0</br>children: 0.0</br>babies: 0.0</br>booking_changes: 4.0</br>_original_yhat_: 0.3079200979422798</br>\"],[\"</br>id: observation</br>prediction: 0.321</br>lead_time: 619.08</br></br>arrival_date_year: 2016.0</br>adults: 2.0</br>children: 0.0</br>babies: 0.0</br>booking_changes: 4.0</br>_original_yhat_: 0.3079200979422798</br>\"],[\"</br>id: observation</br>prediction: 0.321</br>lead_time: 626.45</br></br>arrival_date_year: 2016.0</br>adults: 2.0</br>children: 0.0</br>babies: 0.0</br>booking_changes: 4.0</br>_original_yhat_: 0.3079200979422798</br>\"],[\"</br>id: observation</br>prediction: 0.321</br>lead_time: 633.82</br></br>arrival_date_year: 2016.0</br>adults: 2.0</br>children: 0.0</br>babies: 0.0</br>booking_changes: 4.0</br>_original_yhat_: 0.3079200979422798</br>\"],[\"</br>id: observation</br>prediction: 0.321</br>lead_time: 641.19</br></br>arrival_date_year: 2016.0</br>adults: 2.0</br>children: 0.0</br>babies: 0.0</br>booking_changes: 4.0</br>_original_yhat_: 0.3079200979422798</br>\"],[\"</br>id: observation</br>prediction: 0.321</br>lead_time: 648.5600000000001</br></br>arrival_date_year: 2016.0</br>adults: 2.0</br>children: 0.0</br>babies: 0.0</br>booking_changes: 4.0</br>_original_yhat_: 0.3079200979422798</br>\"],[\"</br>id: observation</br>prediction: 0.321</br>lead_time: 655.9300000000001</br></br>arrival_date_year: 2016.0</br>adults: 2.0</br>children: 0.0</br>babies: 0.0</br>booking_changes: 4.0</br>_original_yhat_: 0.3079200979422798</br>\"],[\"</br>id: observation</br>prediction: 0.321</br>lead_time: 663.3</br></br>arrival_date_year: 2016.0</br>adults: 2.0</br>children: 0.0</br>babies: 0.0</br>booking_changes: 4.0</br>_original_yhat_: 0.3079200979422798</br>\"],[\"</br>id: observation</br>prediction: 0.321</br>lead_time: 670.67</br></br>arrival_date_year: 2016.0</br>adults: 2.0</br>children: 0.0</br>babies: 0.0</br>booking_changes: 4.0</br>_original_yhat_: 0.3079200979422798</br>\"],[\"</br>id: observation</br>prediction: 0.321</br>lead_time: 678.04</br></br>arrival_date_year: 2016.0</br>adults: 2.0</br>children: 0.0</br>babies: 0.0</br>booking_changes: 4.0</br>_original_yhat_: 0.3079200979422798</br>\"],[\"</br>id: observation</br>prediction: 0.321</br>lead_time: 685.41</br></br>arrival_date_year: 2016.0</br>adults: 2.0</br>children: 0.0</br>babies: 0.0</br>booking_changes: 4.0</br>_original_yhat_: 0.3079200979422798</br>\"],[\"</br>id: observation</br>prediction: 0.321</br>lead_time: 692.78</br></br>arrival_date_year: 2016.0</br>adults: 2.0</br>children: 0.0</br>babies: 0.0</br>booking_changes: 4.0</br>_original_yhat_: 0.3079200979422798</br>\"],[\"</br>id: observation</br>prediction: 0.321</br>lead_time: 700.15</br></br>arrival_date_year: 2016.0</br>adults: 2.0</br>children: 0.0</br>babies: 0.0</br>booking_changes: 4.0</br>_original_yhat_: 0.3079200979422798</br>\"],[\"</br>id: observation</br>prediction: 0.321</br>lead_time: 707.52</br></br>arrival_date_year: 2016.0</br>adults: 2.0</br>children: 0.0</br>babies: 0.0</br>booking_changes: 4.0</br>_original_yhat_: 0.3079200979422798</br>\"],[\"</br>id: observation</br>prediction: 0.321</br>lead_time: 714.89</br></br>arrival_date_year: 2016.0</br>adults: 2.0</br>children: 0.0</br>babies: 0.0</br>booking_changes: 4.0</br>_original_yhat_: 0.3079200979422798</br>\"],[\"</br>id: observation</br>prediction: 0.321</br>lead_time: 722.26</br></br>arrival_date_year: 2016.0</br>adults: 2.0</br>children: 0.0</br>babies: 0.0</br>booking_changes: 4.0</br>_original_yhat_: 0.3079200979422798</br>\"],[\"</br>id: observation</br>prediction: 0.321</br>lead_time: 729.63</br></br>arrival_date_year: 2016.0</br>adults: 2.0</br>children: 0.0</br>babies: 0.0</br>booking_changes: 4.0</br>_original_yhat_: 0.3079200979422798</br>\"],[\"</br>id: observation</br>prediction: 0.321</br>lead_time: 737.0</br></br>arrival_date_year: 2016.0</br>adults: 2.0</br>children: 0.0</br>babies: 0.0</br>booking_changes: 4.0</br>_original_yhat_: 0.3079200979422798</br>\"]],\"hovertemplate\":\"%{customdata[0]}<extra></extra>\",\"legendgroup\":\"adaboost\",\"line\":{\"color\":\"#46bac2\",\"dash\":\"solid\",\"width\":2},\"marker\":{\"symbol\":\"circle\"},\"mode\":\"lines\",\"name\":\"adaboost\",\"orientation\":\"v\",\"showlegend\":true,\"x\":[0.0,7.37,14.74,22.11,29.48,36.85,44.22,51.59,58.96,66.33,73.7,81.07000000000001,88.44,95.81,103.18,110.55,117.92,125.29,132.66,140.03,147.4,154.77,162.14000000000001,169.51,176.88,184.25,191.62,198.99,203.0,206.36,213.73,221.1,228.47,235.84,243.21,250.58,257.95,265.32,272.69,280.06,287.43,294.8,302.17,309.54,316.91,324.28000000000003,331.65,339.02,346.39,353.76,361.13,368.5,375.87,383.24,390.61,397.98,405.35,412.72,420.09000000000003,427.46,434.83,442.2,449.57,456.94,464.31,471.68,479.05,486.42,493.79,501.16,508.53000000000003,515.9,523.27,530.64,538.01,545.38,552.75,560.12,567.49,574.86,582.23,589.6,596.97,604.34,611.71,619.08,626.45,633.82,641.19,648.5600000000001,655.9300000000001,663.3,670.67,678.04,685.41,692.78,700.15,707.52,714.89,722.26,729.63,737.0],\"xaxis\":\"x3\",\"y\":[0.18727236460113716,0.18727236460113716,0.21549213407747508,0.2416304201218299,0.3079200979422798,0.3079200979422798,0.3079200979422798,0.3079200979422798,0.3079200979422798,0.3079200979422798,0.3079200979422798,0.3079200979422798,0.3079200979422798,0.3079200979422798,0.3079200979422798,0.3079200979422798,0.3079200979422798,0.3079200979422798,0.3079200979422798,0.3079200979422798,0.3079200979422798,0.3079200979422798,0.3079200979422798,0.3079200979422798,0.3079200979422798,0.3079200979422798,0.3079200979422798,0.3079200979422798,0.3079200979422798,0.3079200979422798,0.3079200979422798,0.3079200979422798,0.3079200979422798,0.3079200979422798,0.3079200979422798,0.3079200979422798,0.3208765601120674,0.3208765601120674,0.3208765601120674,0.3208765601120674,0.3208765601120674,0.3208765601120674,0.3208765601120674,0.3208765601120674,0.3208765601120674,0.3208765601120674,0.3208765601120674,0.3208765601120674,0.3208765601120674,0.3208765601120674,0.3208765601120674,0.3208765601120674,0.3208765601120674,0.3208765601120674,0.3208765601120674,0.3208765601120674,0.3208765601120674,0.3208765601120674,0.3208765601120674,0.3208765601120674,0.3208765601120674,0.3208765601120674,0.3208765601120674,0.3208765601120674,0.3208765601120674,0.3208765601120674,0.3208765601120674,0.3208765601120674,0.3208765601120674,0.3208765601120674,0.3208765601120674,0.3208765601120674,0.3208765601120674,0.3208765601120674,0.3208765601120674,0.3208765601120674,0.3208765601120674,0.3208765601120674,0.3208765601120674,0.3208765601120674,0.3208765601120674,0.3208765601120674,0.3208765601120674,0.3208765601120674,0.3208765601120674,0.3208765601120674,0.3208765601120674,0.3208765601120674,0.3208765601120674,0.3208765601120674,0.3208765601120674,0.3208765601120674,0.3208765601120674,0.3208765601120674,0.3208765601120674,0.3208765601120674,0.3208765601120674,0.3208765601120674,0.3208765601120674,0.3208765601120674,0.3208765601120674,0.3208765601120674],\"yaxis\":\"y3\",\"type\":\"scatter\",\"opacity\":1},{\"customdata\":[[\"</br>id: observation</br>prediction: 0.308</br>children: 0.0</br></br>lead_time: 203.0</br>arrival_date_year: 2016.0</br>adults: 2.0</br>babies: 0.0</br>booking_changes: 4.0</br>_original_yhat_: 0.3079200979422798</br>\"],[\"</br>id: observation</br>prediction: 0.308</br>children: 0.1</br></br>lead_time: 203.0</br>arrival_date_year: 2016.0</br>adults: 2.0</br>babies: 0.0</br>booking_changes: 4.0</br>_original_yhat_: 0.3079200979422798</br>\"],[\"</br>id: observation</br>prediction: 0.308</br>children: 0.2</br></br>lead_time: 203.0</br>arrival_date_year: 2016.0</br>adults: 2.0</br>babies: 0.0</br>booking_changes: 4.0</br>_original_yhat_: 0.3079200979422798</br>\"],[\"</br>id: observation</br>prediction: 0.308</br>children: 0.30000000000000004</br></br>lead_time: 203.0</br>arrival_date_year: 2016.0</br>adults: 2.0</br>babies: 0.0</br>booking_changes: 4.0</br>_original_yhat_: 0.3079200979422798</br>\"],[\"</br>id: observation</br>prediction: 0.308</br>children: 0.4</br></br>lead_time: 203.0</br>arrival_date_year: 2016.0</br>adults: 2.0</br>babies: 0.0</br>booking_changes: 4.0</br>_original_yhat_: 0.3079200979422798</br>\"],[\"</br>id: observation</br>prediction: 0.308</br>children: 0.5</br></br>lead_time: 203.0</br>arrival_date_year: 2016.0</br>adults: 2.0</br>babies: 0.0</br>booking_changes: 4.0</br>_original_yhat_: 0.3079200979422798</br>\"],[\"</br>id: observation</br>prediction: 0.308</br>children: 0.6000000000000001</br></br>lead_time: 203.0</br>arrival_date_year: 2016.0</br>adults: 2.0</br>babies: 0.0</br>booking_changes: 4.0</br>_original_yhat_: 0.3079200979422798</br>\"],[\"</br>id: observation</br>prediction: 0.308</br>children: 0.7000000000000001</br></br>lead_time: 203.0</br>arrival_date_year: 2016.0</br>adults: 2.0</br>babies: 0.0</br>booking_changes: 4.0</br>_original_yhat_: 0.3079200979422798</br>\"],[\"</br>id: observation</br>prediction: 0.308</br>children: 0.8</br></br>lead_time: 203.0</br>arrival_date_year: 2016.0</br>adults: 2.0</br>babies: 0.0</br>booking_changes: 4.0</br>_original_yhat_: 0.3079200979422798</br>\"],[\"</br>id: observation</br>prediction: 0.308</br>children: 0.9</br></br>lead_time: 203.0</br>arrival_date_year: 2016.0</br>adults: 2.0</br>babies: 0.0</br>booking_changes: 4.0</br>_original_yhat_: 0.3079200979422798</br>\"],[\"</br>id: observation</br>prediction: 0.308</br>children: 1.0</br></br>lead_time: 203.0</br>arrival_date_year: 2016.0</br>adults: 2.0</br>babies: 0.0</br>booking_changes: 4.0</br>_original_yhat_: 0.3079200979422798</br>\"],[\"</br>id: observation</br>prediction: 0.308</br>children: 1.1</br></br>lead_time: 203.0</br>arrival_date_year: 2016.0</br>adults: 2.0</br>babies: 0.0</br>booking_changes: 4.0</br>_original_yhat_: 0.3079200979422798</br>\"],[\"</br>id: observation</br>prediction: 0.308</br>children: 1.2000000000000002</br></br>lead_time: 203.0</br>arrival_date_year: 2016.0</br>adults: 2.0</br>babies: 0.0</br>booking_changes: 4.0</br>_original_yhat_: 0.3079200979422798</br>\"],[\"</br>id: observation</br>prediction: 0.308</br>children: 1.3</br></br>lead_time: 203.0</br>arrival_date_year: 2016.0</br>adults: 2.0</br>babies: 0.0</br>booking_changes: 4.0</br>_original_yhat_: 0.3079200979422798</br>\"],[\"</br>id: observation</br>prediction: 0.308</br>children: 1.4000000000000001</br></br>lead_time: 203.0</br>arrival_date_year: 2016.0</br>adults: 2.0</br>babies: 0.0</br>booking_changes: 4.0</br>_original_yhat_: 0.3079200979422798</br>\"],[\"</br>id: observation</br>prediction: 0.308</br>children: 1.5</br></br>lead_time: 203.0</br>arrival_date_year: 2016.0</br>adults: 2.0</br>babies: 0.0</br>booking_changes: 4.0</br>_original_yhat_: 0.3079200979422798</br>\"],[\"</br>id: observation</br>prediction: 0.313</br>children: 1.6</br></br>lead_time: 203.0</br>arrival_date_year: 2016.0</br>adults: 2.0</br>babies: 0.0</br>booking_changes: 4.0</br>_original_yhat_: 0.3079200979422798</br>\"],[\"</br>id: observation</br>prediction: 0.313</br>children: 1.7000000000000002</br></br>lead_time: 203.0</br>arrival_date_year: 2016.0</br>adults: 2.0</br>babies: 0.0</br>booking_changes: 4.0</br>_original_yhat_: 0.3079200979422798</br>\"],[\"</br>id: observation</br>prediction: 0.313</br>children: 1.8</br></br>lead_time: 203.0</br>arrival_date_year: 2016.0</br>adults: 2.0</br>babies: 0.0</br>booking_changes: 4.0</br>_original_yhat_: 0.3079200979422798</br>\"],[\"</br>id: observation</br>prediction: 0.313</br>children: 1.9000000000000001</br></br>lead_time: 203.0</br>arrival_date_year: 2016.0</br>adults: 2.0</br>babies: 0.0</br>booking_changes: 4.0</br>_original_yhat_: 0.3079200979422798</br>\"],[\"</br>id: observation</br>prediction: 0.313</br>children: 2.0</br></br>lead_time: 203.0</br>arrival_date_year: 2016.0</br>adults: 2.0</br>babies: 0.0</br>booking_changes: 4.0</br>_original_yhat_: 0.3079200979422798</br>\"],[\"</br>id: observation</br>prediction: 0.313</br>children: 2.1</br></br>lead_time: 203.0</br>arrival_date_year: 2016.0</br>adults: 2.0</br>babies: 0.0</br>booking_changes: 4.0</br>_original_yhat_: 0.3079200979422798</br>\"],[\"</br>id: observation</br>prediction: 0.313</br>children: 2.2</br></br>lead_time: 203.0</br>arrival_date_year: 2016.0</br>adults: 2.0</br>babies: 0.0</br>booking_changes: 4.0</br>_original_yhat_: 0.3079200979422798</br>\"],[\"</br>id: observation</br>prediction: 0.313</br>children: 2.3000000000000003</br></br>lead_time: 203.0</br>arrival_date_year: 2016.0</br>adults: 2.0</br>babies: 0.0</br>booking_changes: 4.0</br>_original_yhat_: 0.3079200979422798</br>\"],[\"</br>id: observation</br>prediction: 0.313</br>children: 2.4000000000000004</br></br>lead_time: 203.0</br>arrival_date_year: 2016.0</br>adults: 2.0</br>babies: 0.0</br>booking_changes: 4.0</br>_original_yhat_: 0.3079200979422798</br>\"],[\"</br>id: observation</br>prediction: 0.313</br>children: 2.5</br></br>lead_time: 203.0</br>arrival_date_year: 2016.0</br>adults: 2.0</br>babies: 0.0</br>booking_changes: 4.0</br>_original_yhat_: 0.3079200979422798</br>\"],[\"</br>id: observation</br>prediction: 0.313</br>children: 2.6</br></br>lead_time: 203.0</br>arrival_date_year: 2016.0</br>adults: 2.0</br>babies: 0.0</br>booking_changes: 4.0</br>_original_yhat_: 0.3079200979422798</br>\"],[\"</br>id: observation</br>prediction: 0.313</br>children: 2.7</br></br>lead_time: 203.0</br>arrival_date_year: 2016.0</br>adults: 2.0</br>babies: 0.0</br>booking_changes: 4.0</br>_original_yhat_: 0.3079200979422798</br>\"],[\"</br>id: observation</br>prediction: 0.313</br>children: 2.8000000000000003</br></br>lead_time: 203.0</br>arrival_date_year: 2016.0</br>adults: 2.0</br>babies: 0.0</br>booking_changes: 4.0</br>_original_yhat_: 0.3079200979422798</br>\"],[\"</br>id: observation</br>prediction: 0.313</br>children: 2.9000000000000004</br></br>lead_time: 203.0</br>arrival_date_year: 2016.0</br>adults: 2.0</br>babies: 0.0</br>booking_changes: 4.0</br>_original_yhat_: 0.3079200979422798</br>\"],[\"</br>id: observation</br>prediction: 0.313</br>children: 3.0</br></br>lead_time: 203.0</br>arrival_date_year: 2016.0</br>adults: 2.0</br>babies: 0.0</br>booking_changes: 4.0</br>_original_yhat_: 0.3079200979422798</br>\"],[\"</br>id: observation</br>prediction: 0.313</br>children: 3.1</br></br>lead_time: 203.0</br>arrival_date_year: 2016.0</br>adults: 2.0</br>babies: 0.0</br>booking_changes: 4.0</br>_original_yhat_: 0.3079200979422798</br>\"],[\"</br>id: observation</br>prediction: 0.313</br>children: 3.2</br></br>lead_time: 203.0</br>arrival_date_year: 2016.0</br>adults: 2.0</br>babies: 0.0</br>booking_changes: 4.0</br>_original_yhat_: 0.3079200979422798</br>\"],[\"</br>id: observation</br>prediction: 0.313</br>children: 3.3000000000000003</br></br>lead_time: 203.0</br>arrival_date_year: 2016.0</br>adults: 2.0</br>babies: 0.0</br>booking_changes: 4.0</br>_original_yhat_: 0.3079200979422798</br>\"],[\"</br>id: observation</br>prediction: 0.313</br>children: 3.4000000000000004</br></br>lead_time: 203.0</br>arrival_date_year: 2016.0</br>adults: 2.0</br>babies: 0.0</br>booking_changes: 4.0</br>_original_yhat_: 0.3079200979422798</br>\"],[\"</br>id: observation</br>prediction: 0.313</br>children: 3.5</br></br>lead_time: 203.0</br>arrival_date_year: 2016.0</br>adults: 2.0</br>babies: 0.0</br>booking_changes: 4.0</br>_original_yhat_: 0.3079200979422798</br>\"],[\"</br>id: observation</br>prediction: 0.313</br>children: 3.6</br></br>lead_time: 203.0</br>arrival_date_year: 2016.0</br>adults: 2.0</br>babies: 0.0</br>booking_changes: 4.0</br>_original_yhat_: 0.3079200979422798</br>\"],[\"</br>id: observation</br>prediction: 0.313</br>children: 3.7</br></br>lead_time: 203.0</br>arrival_date_year: 2016.0</br>adults: 2.0</br>babies: 0.0</br>booking_changes: 4.0</br>_original_yhat_: 0.3079200979422798</br>\"],[\"</br>id: observation</br>prediction: 0.313</br>children: 3.8000000000000003</br></br>lead_time: 203.0</br>arrival_date_year: 2016.0</br>adults: 2.0</br>babies: 0.0</br>booking_changes: 4.0</br>_original_yhat_: 0.3079200979422798</br>\"],[\"</br>id: observation</br>prediction: 0.313</br>children: 3.9000000000000004</br></br>lead_time: 203.0</br>arrival_date_year: 2016.0</br>adults: 2.0</br>babies: 0.0</br>booking_changes: 4.0</br>_original_yhat_: 0.3079200979422798</br>\"],[\"</br>id: observation</br>prediction: 0.313</br>children: 4.0</br></br>lead_time: 203.0</br>arrival_date_year: 2016.0</br>adults: 2.0</br>babies: 0.0</br>booking_changes: 4.0</br>_original_yhat_: 0.3079200979422798</br>\"],[\"</br>id: observation</br>prediction: 0.313</br>children: 4.1000000000000005</br></br>lead_time: 203.0</br>arrival_date_year: 2016.0</br>adults: 2.0</br>babies: 0.0</br>booking_changes: 4.0</br>_original_yhat_: 0.3079200979422798</br>\"],[\"</br>id: observation</br>prediction: 0.313</br>children: 4.2</br></br>lead_time: 203.0</br>arrival_date_year: 2016.0</br>adults: 2.0</br>babies: 0.0</br>booking_changes: 4.0</br>_original_yhat_: 0.3079200979422798</br>\"],[\"</br>id: observation</br>prediction: 0.313</br>children: 4.3</br></br>lead_time: 203.0</br>arrival_date_year: 2016.0</br>adults: 2.0</br>babies: 0.0</br>booking_changes: 4.0</br>_original_yhat_: 0.3079200979422798</br>\"],[\"</br>id: observation</br>prediction: 0.313</br>children: 4.4</br></br>lead_time: 203.0</br>arrival_date_year: 2016.0</br>adults: 2.0</br>babies: 0.0</br>booking_changes: 4.0</br>_original_yhat_: 0.3079200979422798</br>\"],[\"</br>id: observation</br>prediction: 0.313</br>children: 4.5</br></br>lead_time: 203.0</br>arrival_date_year: 2016.0</br>adults: 2.0</br>babies: 0.0</br>booking_changes: 4.0</br>_original_yhat_: 0.3079200979422798</br>\"],[\"</br>id: observation</br>prediction: 0.313</br>children: 4.6000000000000005</br></br>lead_time: 203.0</br>arrival_date_year: 2016.0</br>adults: 2.0</br>babies: 0.0</br>booking_changes: 4.0</br>_original_yhat_: 0.3079200979422798</br>\"],[\"</br>id: observation</br>prediction: 0.313</br>children: 4.7</br></br>lead_time: 203.0</br>arrival_date_year: 2016.0</br>adults: 2.0</br>babies: 0.0</br>booking_changes: 4.0</br>_original_yhat_: 0.3079200979422798</br>\"],[\"</br>id: observation</br>prediction: 0.313</br>children: 4.800000000000001</br></br>lead_time: 203.0</br>arrival_date_year: 2016.0</br>adults: 2.0</br>babies: 0.0</br>booking_changes: 4.0</br>_original_yhat_: 0.3079200979422798</br>\"],[\"</br>id: observation</br>prediction: 0.313</br>children: 4.9</br></br>lead_time: 203.0</br>arrival_date_year: 2016.0</br>adults: 2.0</br>babies: 0.0</br>booking_changes: 4.0</br>_original_yhat_: 0.3079200979422798</br>\"],[\"</br>id: observation</br>prediction: 0.313</br>children: 5.0</br></br>lead_time: 203.0</br>arrival_date_year: 2016.0</br>adults: 2.0</br>babies: 0.0</br>booking_changes: 4.0</br>_original_yhat_: 0.3079200979422798</br>\"],[\"</br>id: observation</br>prediction: 0.313</br>children: 5.1000000000000005</br></br>lead_time: 203.0</br>arrival_date_year: 2016.0</br>adults: 2.0</br>babies: 0.0</br>booking_changes: 4.0</br>_original_yhat_: 0.3079200979422798</br>\"],[\"</br>id: observation</br>prediction: 0.313</br>children: 5.2</br></br>lead_time: 203.0</br>arrival_date_year: 2016.0</br>adults: 2.0</br>babies: 0.0</br>booking_changes: 4.0</br>_original_yhat_: 0.3079200979422798</br>\"],[\"</br>id: observation</br>prediction: 0.313</br>children: 5.300000000000001</br></br>lead_time: 203.0</br>arrival_date_year: 2016.0</br>adults: 2.0</br>babies: 0.0</br>booking_changes: 4.0</br>_original_yhat_: 0.3079200979422798</br>\"],[\"</br>id: observation</br>prediction: 0.313</br>children: 5.4</br></br>lead_time: 203.0</br>arrival_date_year: 2016.0</br>adults: 2.0</br>babies: 0.0</br>booking_changes: 4.0</br>_original_yhat_: 0.3079200979422798</br>\"],[\"</br>id: observation</br>prediction: 0.313</br>children: 5.5</br></br>lead_time: 203.0</br>arrival_date_year: 2016.0</br>adults: 2.0</br>babies: 0.0</br>booking_changes: 4.0</br>_original_yhat_: 0.3079200979422798</br>\"],[\"</br>id: observation</br>prediction: 0.313</br>children: 5.6000000000000005</br></br>lead_time: 203.0</br>arrival_date_year: 2016.0</br>adults: 2.0</br>babies: 0.0</br>booking_changes: 4.0</br>_original_yhat_: 0.3079200979422798</br>\"],[\"</br>id: observation</br>prediction: 0.313</br>children: 5.7</br></br>lead_time: 203.0</br>arrival_date_year: 2016.0</br>adults: 2.0</br>babies: 0.0</br>booking_changes: 4.0</br>_original_yhat_: 0.3079200979422798</br>\"],[\"</br>id: observation</br>prediction: 0.313</br>children: 5.800000000000001</br></br>lead_time: 203.0</br>arrival_date_year: 2016.0</br>adults: 2.0</br>babies: 0.0</br>booking_changes: 4.0</br>_original_yhat_: 0.3079200979422798</br>\"],[\"</br>id: observation</br>prediction: 0.313</br>children: 5.9</br></br>lead_time: 203.0</br>arrival_date_year: 2016.0</br>adults: 2.0</br>babies: 0.0</br>booking_changes: 4.0</br>_original_yhat_: 0.3079200979422798</br>\"],[\"</br>id: observation</br>prediction: 0.313</br>children: 6.0</br></br>lead_time: 203.0</br>arrival_date_year: 2016.0</br>adults: 2.0</br>babies: 0.0</br>booking_changes: 4.0</br>_original_yhat_: 0.3079200979422798</br>\"],[\"</br>id: observation</br>prediction: 0.313</br>children: 6.1000000000000005</br></br>lead_time: 203.0</br>arrival_date_year: 2016.0</br>adults: 2.0</br>babies: 0.0</br>booking_changes: 4.0</br>_original_yhat_: 0.3079200979422798</br>\"],[\"</br>id: observation</br>prediction: 0.313</br>children: 6.2</br></br>lead_time: 203.0</br>arrival_date_year: 2016.0</br>adults: 2.0</br>babies: 0.0</br>booking_changes: 4.0</br>_original_yhat_: 0.3079200979422798</br>\"],[\"</br>id: observation</br>prediction: 0.313</br>children: 6.300000000000001</br></br>lead_time: 203.0</br>arrival_date_year: 2016.0</br>adults: 2.0</br>babies: 0.0</br>booking_changes: 4.0</br>_original_yhat_: 0.3079200979422798</br>\"],[\"</br>id: observation</br>prediction: 0.313</br>children: 6.4</br></br>lead_time: 203.0</br>arrival_date_year: 2016.0</br>adults: 2.0</br>babies: 0.0</br>booking_changes: 4.0</br>_original_yhat_: 0.3079200979422798</br>\"],[\"</br>id: observation</br>prediction: 0.313</br>children: 6.5</br></br>lead_time: 203.0</br>arrival_date_year: 2016.0</br>adults: 2.0</br>babies: 0.0</br>booking_changes: 4.0</br>_original_yhat_: 0.3079200979422798</br>\"],[\"</br>id: observation</br>prediction: 0.313</br>children: 6.6000000000000005</br></br>lead_time: 203.0</br>arrival_date_year: 2016.0</br>adults: 2.0</br>babies: 0.0</br>booking_changes: 4.0</br>_original_yhat_: 0.3079200979422798</br>\"],[\"</br>id: observation</br>prediction: 0.313</br>children: 6.7</br></br>lead_time: 203.0</br>arrival_date_year: 2016.0</br>adults: 2.0</br>babies: 0.0</br>booking_changes: 4.0</br>_original_yhat_: 0.3079200979422798</br>\"],[\"</br>id: observation</br>prediction: 0.313</br>children: 6.800000000000001</br></br>lead_time: 203.0</br>arrival_date_year: 2016.0</br>adults: 2.0</br>babies: 0.0</br>booking_changes: 4.0</br>_original_yhat_: 0.3079200979422798</br>\"],[\"</br>id: observation</br>prediction: 0.313</br>children: 6.9</br></br>lead_time: 203.0</br>arrival_date_year: 2016.0</br>adults: 2.0</br>babies: 0.0</br>booking_changes: 4.0</br>_original_yhat_: 0.3079200979422798</br>\"],[\"</br>id: observation</br>prediction: 0.313</br>children: 7.0</br></br>lead_time: 203.0</br>arrival_date_year: 2016.0</br>adults: 2.0</br>babies: 0.0</br>booking_changes: 4.0</br>_original_yhat_: 0.3079200979422798</br>\"],[\"</br>id: observation</br>prediction: 0.313</br>children: 7.1000000000000005</br></br>lead_time: 203.0</br>arrival_date_year: 2016.0</br>adults: 2.0</br>babies: 0.0</br>booking_changes: 4.0</br>_original_yhat_: 0.3079200979422798</br>\"],[\"</br>id: observation</br>prediction: 0.313</br>children: 7.2</br></br>lead_time: 203.0</br>arrival_date_year: 2016.0</br>adults: 2.0</br>babies: 0.0</br>booking_changes: 4.0</br>_original_yhat_: 0.3079200979422798</br>\"],[\"</br>id: observation</br>prediction: 0.313</br>children: 7.300000000000001</br></br>lead_time: 203.0</br>arrival_date_year: 2016.0</br>adults: 2.0</br>babies: 0.0</br>booking_changes: 4.0</br>_original_yhat_: 0.3079200979422798</br>\"],[\"</br>id: observation</br>prediction: 0.313</br>children: 7.4</br></br>lead_time: 203.0</br>arrival_date_year: 2016.0</br>adults: 2.0</br>babies: 0.0</br>booking_changes: 4.0</br>_original_yhat_: 0.3079200979422798</br>\"],[\"</br>id: observation</br>prediction: 0.313</br>children: 7.5</br></br>lead_time: 203.0</br>arrival_date_year: 2016.0</br>adults: 2.0</br>babies: 0.0</br>booking_changes: 4.0</br>_original_yhat_: 0.3079200979422798</br>\"],[\"</br>id: observation</br>prediction: 0.313</br>children: 7.6000000000000005</br></br>lead_time: 203.0</br>arrival_date_year: 2016.0</br>adults: 2.0</br>babies: 0.0</br>booking_changes: 4.0</br>_original_yhat_: 0.3079200979422798</br>\"],[\"</br>id: observation</br>prediction: 0.313</br>children: 7.7</br></br>lead_time: 203.0</br>arrival_date_year: 2016.0</br>adults: 2.0</br>babies: 0.0</br>booking_changes: 4.0</br>_original_yhat_: 0.3079200979422798</br>\"],[\"</br>id: observation</br>prediction: 0.313</br>children: 7.800000000000001</br></br>lead_time: 203.0</br>arrival_date_year: 2016.0</br>adults: 2.0</br>babies: 0.0</br>booking_changes: 4.0</br>_original_yhat_: 0.3079200979422798</br>\"],[\"</br>id: observation</br>prediction: 0.313</br>children: 7.9</br></br>lead_time: 203.0</br>arrival_date_year: 2016.0</br>adults: 2.0</br>babies: 0.0</br>booking_changes: 4.0</br>_original_yhat_: 0.3079200979422798</br>\"],[\"</br>id: observation</br>prediction: 0.313</br>children: 8.0</br></br>lead_time: 203.0</br>arrival_date_year: 2016.0</br>adults: 2.0</br>babies: 0.0</br>booking_changes: 4.0</br>_original_yhat_: 0.3079200979422798</br>\"],[\"</br>id: observation</br>prediction: 0.313</br>children: 8.1</br></br>lead_time: 203.0</br>arrival_date_year: 2016.0</br>adults: 2.0</br>babies: 0.0</br>booking_changes: 4.0</br>_original_yhat_: 0.3079200979422798</br>\"],[\"</br>id: observation</br>prediction: 0.313</br>children: 8.200000000000001</br></br>lead_time: 203.0</br>arrival_date_year: 2016.0</br>adults: 2.0</br>babies: 0.0</br>booking_changes: 4.0</br>_original_yhat_: 0.3079200979422798</br>\"],[\"</br>id: observation</br>prediction: 0.313</br>children: 8.3</br></br>lead_time: 203.0</br>arrival_date_year: 2016.0</br>adults: 2.0</br>babies: 0.0</br>booking_changes: 4.0</br>_original_yhat_: 0.3079200979422798</br>\"],[\"</br>id: observation</br>prediction: 0.313</br>children: 8.4</br></br>lead_time: 203.0</br>arrival_date_year: 2016.0</br>adults: 2.0</br>babies: 0.0</br>booking_changes: 4.0</br>_original_yhat_: 0.3079200979422798</br>\"],[\"</br>id: observation</br>prediction: 0.313</br>children: 8.5</br></br>lead_time: 203.0</br>arrival_date_year: 2016.0</br>adults: 2.0</br>babies: 0.0</br>booking_changes: 4.0</br>_original_yhat_: 0.3079200979422798</br>\"],[\"</br>id: observation</br>prediction: 0.313</br>children: 8.6</br></br>lead_time: 203.0</br>arrival_date_year: 2016.0</br>adults: 2.0</br>babies: 0.0</br>booking_changes: 4.0</br>_original_yhat_: 0.3079200979422798</br>\"],[\"</br>id: observation</br>prediction: 0.313</br>children: 8.700000000000001</br></br>lead_time: 203.0</br>arrival_date_year: 2016.0</br>adults: 2.0</br>babies: 0.0</br>booking_changes: 4.0</br>_original_yhat_: 0.3079200979422798</br>\"],[\"</br>id: observation</br>prediction: 0.313</br>children: 8.8</br></br>lead_time: 203.0</br>arrival_date_year: 2016.0</br>adults: 2.0</br>babies: 0.0</br>booking_changes: 4.0</br>_original_yhat_: 0.3079200979422798</br>\"],[\"</br>id: observation</br>prediction: 0.313</br>children: 8.9</br></br>lead_time: 203.0</br>arrival_date_year: 2016.0</br>adults: 2.0</br>babies: 0.0</br>booking_changes: 4.0</br>_original_yhat_: 0.3079200979422798</br>\"],[\"</br>id: observation</br>prediction: 0.313</br>children: 9.0</br></br>lead_time: 203.0</br>arrival_date_year: 2016.0</br>adults: 2.0</br>babies: 0.0</br>booking_changes: 4.0</br>_original_yhat_: 0.3079200979422798</br>\"],[\"</br>id: observation</br>prediction: 0.313</br>children: 9.1</br></br>lead_time: 203.0</br>arrival_date_year: 2016.0</br>adults: 2.0</br>babies: 0.0</br>booking_changes: 4.0</br>_original_yhat_: 0.3079200979422798</br>\"],[\"</br>id: observation</br>prediction: 0.313</br>children: 9.200000000000001</br></br>lead_time: 203.0</br>arrival_date_year: 2016.0</br>adults: 2.0</br>babies: 0.0</br>booking_changes: 4.0</br>_original_yhat_: 0.3079200979422798</br>\"],[\"</br>id: observation</br>prediction: 0.313</br>children: 9.3</br></br>lead_time: 203.0</br>arrival_date_year: 2016.0</br>adults: 2.0</br>babies: 0.0</br>booking_changes: 4.0</br>_original_yhat_: 0.3079200979422798</br>\"],[\"</br>id: observation</br>prediction: 0.313</br>children: 9.4</br></br>lead_time: 203.0</br>arrival_date_year: 2016.0</br>adults: 2.0</br>babies: 0.0</br>booking_changes: 4.0</br>_original_yhat_: 0.3079200979422798</br>\"],[\"</br>id: observation</br>prediction: 0.313</br>children: 9.5</br></br>lead_time: 203.0</br>arrival_date_year: 2016.0</br>adults: 2.0</br>babies: 0.0</br>booking_changes: 4.0</br>_original_yhat_: 0.3079200979422798</br>\"],[\"</br>id: observation</br>prediction: 0.313</br>children: 9.600000000000001</br></br>lead_time: 203.0</br>arrival_date_year: 2016.0</br>adults: 2.0</br>babies: 0.0</br>booking_changes: 4.0</br>_original_yhat_: 0.3079200979422798</br>\"],[\"</br>id: observation</br>prediction: 0.313</br>children: 9.700000000000001</br></br>lead_time: 203.0</br>arrival_date_year: 2016.0</br>adults: 2.0</br>babies: 0.0</br>booking_changes: 4.0</br>_original_yhat_: 0.3079200979422798</br>\"],[\"</br>id: observation</br>prediction: 0.313</br>children: 9.8</br></br>lead_time: 203.0</br>arrival_date_year: 2016.0</br>adults: 2.0</br>babies: 0.0</br>booking_changes: 4.0</br>_original_yhat_: 0.3079200979422798</br>\"],[\"</br>id: observation</br>prediction: 0.313</br>children: 9.9</br></br>lead_time: 203.0</br>arrival_date_year: 2016.0</br>adults: 2.0</br>babies: 0.0</br>booking_changes: 4.0</br>_original_yhat_: 0.3079200979422798</br>\"],[\"</br>id: observation</br>prediction: 0.313</br>children: 10.0</br></br>lead_time: 203.0</br>arrival_date_year: 2016.0</br>adults: 2.0</br>babies: 0.0</br>booking_changes: 4.0</br>_original_yhat_: 0.3079200979422798</br>\"]],\"hovertemplate\":\"%{customdata[0]}<extra></extra>\",\"legendgroup\":\"adaboost\",\"line\":{\"color\":\"#46bac2\",\"dash\":\"solid\",\"width\":2},\"marker\":{\"symbol\":\"circle\"},\"mode\":\"lines\",\"name\":\"adaboost\",\"orientation\":\"v\",\"showlegend\":false,\"x\":[0.0,0.1,0.2,0.30000000000000004,0.4,0.5,0.6000000000000001,0.7000000000000001,0.8,0.9,1.0,1.1,1.2000000000000002,1.3,1.4000000000000001,1.5,1.6,1.7000000000000002,1.8,1.9000000000000001,2.0,2.1,2.2,2.3000000000000003,2.4000000000000004,2.5,2.6,2.7,2.8000000000000003,2.9000000000000004,3.0,3.1,3.2,3.3000000000000003,3.4000000000000004,3.5,3.6,3.7,3.8000000000000003,3.9000000000000004,4.0,4.1000000000000005,4.2,4.3,4.4,4.5,4.6000000000000005,4.7,4.800000000000001,4.9,5.0,5.1000000000000005,5.2,5.300000000000001,5.4,5.5,5.6000000000000005,5.7,5.800000000000001,5.9,6.0,6.1000000000000005,6.2,6.300000000000001,6.4,6.5,6.6000000000000005,6.7,6.800000000000001,6.9,7.0,7.1000000000000005,7.2,7.300000000000001,7.4,7.5,7.6000000000000005,7.7,7.800000000000001,7.9,8.0,8.1,8.200000000000001,8.3,8.4,8.5,8.6,8.700000000000001,8.8,8.9,9.0,9.1,9.200000000000001,9.3,9.4,9.5,9.600000000000001,9.700000000000001,9.8,9.9,10.0],\"xaxis\":\"x4\",\"y\":[0.3079200979422798,0.3079200979422798,0.3079200979422798,0.3079200979422798,0.3079200979422798,0.3079200979422798,0.3075058550190946,0.3075058550190946,0.3075058550190946,0.3075058550190946,0.3075058550190946,0.3075058550190946,0.3075058550190946,0.3075058550190946,0.3075058550190946,0.3075058550190946,0.31314267897598774,0.31314267897598774,0.31314267897598774,0.31314267897598774,0.31314267897598774,0.31314267897598774,0.31314267897598774,0.31314267897598774,0.31314267897598774,0.31314267897598774,0.31314267897598774,0.31314267897598774,0.31314267897598774,0.31314267897598774,0.31314267897598774,0.31314267897598774,0.31314267897598774,0.31314267897598774,0.31314267897598774,0.31314267897598774,0.31314267897598774,0.31314267897598774,0.31314267897598774,0.31314267897598774,0.31314267897598774,0.31314267897598774,0.31314267897598774,0.31314267897598774,0.31314267897598774,0.31314267897598774,0.31314267897598774,0.31314267897598774,0.31314267897598774,0.31314267897598774,0.31314267897598774,0.31314267897598774,0.31314267897598774,0.31314267897598774,0.31314267897598774,0.31314267897598774,0.31314267897598774,0.31314267897598774,0.31314267897598774,0.31314267897598774,0.31314267897598774,0.31314267897598774,0.31314267897598774,0.31314267897598774,0.31314267897598774,0.31314267897598774,0.31314267897598774,0.31314267897598774,0.31314267897598774,0.31314267897598774,0.31314267897598774,0.31314267897598774,0.31314267897598774,0.31314267897598774,0.31314267897598774,0.31314267897598774,0.31314267897598774,0.31314267897598774,0.31314267897598774,0.31314267897598774,0.31314267897598774,0.31314267897598774,0.31314267897598774,0.31314267897598774,0.31314267897598774,0.31314267897598774,0.31314267897598774,0.31314267897598774,0.31314267897598774,0.31314267897598774,0.31314267897598774,0.31314267897598774,0.31314267897598774,0.31314267897598774,0.31314267897598774,0.31314267897598774,0.31314267897598774,0.31314267897598774,0.31314267897598774,0.31314267897598774,0.31314267897598774],\"yaxis\":\"y4\",\"type\":\"scatter\",\"opacity\":1},{\"customdata\":[[\"</br>id: observation</br>prediction: 0.308</br>babies: 0.0</br></br>lead_time: 203.0</br>arrival_date_year: 2016.0</br>adults: 2.0</br>children: 0.0</br>booking_changes: 4.0</br>_original_yhat_: 0.3079200979422798</br>\"],[\"</br>id: observation</br>prediction: 0.308</br>babies: 0.1</br></br>lead_time: 203.0</br>arrival_date_year: 2016.0</br>adults: 2.0</br>children: 0.0</br>booking_changes: 4.0</br>_original_yhat_: 0.3079200979422798</br>\"],[\"</br>id: observation</br>prediction: 0.308</br>babies: 0.2</br></br>lead_time: 203.0</br>arrival_date_year: 2016.0</br>adults: 2.0</br>children: 0.0</br>booking_changes: 4.0</br>_original_yhat_: 0.3079200979422798</br>\"],[\"</br>id: observation</br>prediction: 0.308</br>babies: 0.30000000000000004</br></br>lead_time: 203.0</br>arrival_date_year: 2016.0</br>adults: 2.0</br>children: 0.0</br>booking_changes: 4.0</br>_original_yhat_: 0.3079200979422798</br>\"],[\"</br>id: observation</br>prediction: 0.308</br>babies: 0.4</br></br>lead_time: 203.0</br>arrival_date_year: 2016.0</br>adults: 2.0</br>children: 0.0</br>booking_changes: 4.0</br>_original_yhat_: 0.3079200979422798</br>\"],[\"</br>id: observation</br>prediction: 0.308</br>babies: 0.5</br></br>lead_time: 203.0</br>arrival_date_year: 2016.0</br>adults: 2.0</br>children: 0.0</br>booking_changes: 4.0</br>_original_yhat_: 0.3079200979422798</br>\"],[\"</br>id: observation</br>prediction: 0.262</br>babies: 0.6000000000000001</br></br>lead_time: 203.0</br>arrival_date_year: 2016.0</br>adults: 2.0</br>children: 0.0</br>booking_changes: 4.0</br>_original_yhat_: 0.3079200979422798</br>\"],[\"</br>id: observation</br>prediction: 0.262</br>babies: 0.7000000000000001</br></br>lead_time: 203.0</br>arrival_date_year: 2016.0</br>adults: 2.0</br>children: 0.0</br>booking_changes: 4.0</br>_original_yhat_: 0.3079200979422798</br>\"],[\"</br>id: observation</br>prediction: 0.262</br>babies: 0.8</br></br>lead_time: 203.0</br>arrival_date_year: 2016.0</br>adults: 2.0</br>children: 0.0</br>booking_changes: 4.0</br>_original_yhat_: 0.3079200979422798</br>\"],[\"</br>id: observation</br>prediction: 0.262</br>babies: 0.9</br></br>lead_time: 203.0</br>arrival_date_year: 2016.0</br>adults: 2.0</br>children: 0.0</br>booking_changes: 4.0</br>_original_yhat_: 0.3079200979422798</br>\"],[\"</br>id: observation</br>prediction: 0.262</br>babies: 1.0</br></br>lead_time: 203.0</br>arrival_date_year: 2016.0</br>adults: 2.0</br>children: 0.0</br>booking_changes: 4.0</br>_original_yhat_: 0.3079200979422798</br>\"],[\"</br>id: observation</br>prediction: 0.262</br>babies: 1.1</br></br>lead_time: 203.0</br>arrival_date_year: 2016.0</br>adults: 2.0</br>children: 0.0</br>booking_changes: 4.0</br>_original_yhat_: 0.3079200979422798</br>\"],[\"</br>id: observation</br>prediction: 0.262</br>babies: 1.2000000000000002</br></br>lead_time: 203.0</br>arrival_date_year: 2016.0</br>adults: 2.0</br>children: 0.0</br>booking_changes: 4.0</br>_original_yhat_: 0.3079200979422798</br>\"],[\"</br>id: observation</br>prediction: 0.262</br>babies: 1.3</br></br>lead_time: 203.0</br>arrival_date_year: 2016.0</br>adults: 2.0</br>children: 0.0</br>booking_changes: 4.0</br>_original_yhat_: 0.3079200979422798</br>\"],[\"</br>id: observation</br>prediction: 0.262</br>babies: 1.4000000000000001</br></br>lead_time: 203.0</br>arrival_date_year: 2016.0</br>adults: 2.0</br>children: 0.0</br>booking_changes: 4.0</br>_original_yhat_: 0.3079200979422798</br>\"],[\"</br>id: observation</br>prediction: 0.262</br>babies: 1.5</br></br>lead_time: 203.0</br>arrival_date_year: 2016.0</br>adults: 2.0</br>children: 0.0</br>booking_changes: 4.0</br>_original_yhat_: 0.3079200979422798</br>\"],[\"</br>id: observation</br>prediction: 0.262</br>babies: 1.6</br></br>lead_time: 203.0</br>arrival_date_year: 2016.0</br>adults: 2.0</br>children: 0.0</br>booking_changes: 4.0</br>_original_yhat_: 0.3079200979422798</br>\"],[\"</br>id: observation</br>prediction: 0.262</br>babies: 1.7000000000000002</br></br>lead_time: 203.0</br>arrival_date_year: 2016.0</br>adults: 2.0</br>children: 0.0</br>booking_changes: 4.0</br>_original_yhat_: 0.3079200979422798</br>\"],[\"</br>id: observation</br>prediction: 0.262</br>babies: 1.8</br></br>lead_time: 203.0</br>arrival_date_year: 2016.0</br>adults: 2.0</br>children: 0.0</br>booking_changes: 4.0</br>_original_yhat_: 0.3079200979422798</br>\"],[\"</br>id: observation</br>prediction: 0.262</br>babies: 1.9000000000000001</br></br>lead_time: 203.0</br>arrival_date_year: 2016.0</br>adults: 2.0</br>children: 0.0</br>booking_changes: 4.0</br>_original_yhat_: 0.3079200979422798</br>\"],[\"</br>id: observation</br>prediction: 0.262</br>babies: 2.0</br></br>lead_time: 203.0</br>arrival_date_year: 2016.0</br>adults: 2.0</br>children: 0.0</br>booking_changes: 4.0</br>_original_yhat_: 0.3079200979422798</br>\"],[\"</br>id: observation</br>prediction: 0.262</br>babies: 2.1</br></br>lead_time: 203.0</br>arrival_date_year: 2016.0</br>adults: 2.0</br>children: 0.0</br>booking_changes: 4.0</br>_original_yhat_: 0.3079200979422798</br>\"],[\"</br>id: observation</br>prediction: 0.262</br>babies: 2.2</br></br>lead_time: 203.0</br>arrival_date_year: 2016.0</br>adults: 2.0</br>children: 0.0</br>booking_changes: 4.0</br>_original_yhat_: 0.3079200979422798</br>\"],[\"</br>id: observation</br>prediction: 0.262</br>babies: 2.3000000000000003</br></br>lead_time: 203.0</br>arrival_date_year: 2016.0</br>adults: 2.0</br>children: 0.0</br>booking_changes: 4.0</br>_original_yhat_: 0.3079200979422798</br>\"],[\"</br>id: observation</br>prediction: 0.262</br>babies: 2.4000000000000004</br></br>lead_time: 203.0</br>arrival_date_year: 2016.0</br>adults: 2.0</br>children: 0.0</br>booking_changes: 4.0</br>_original_yhat_: 0.3079200979422798</br>\"],[\"</br>id: observation</br>prediction: 0.262</br>babies: 2.5</br></br>lead_time: 203.0</br>arrival_date_year: 2016.0</br>adults: 2.0</br>children: 0.0</br>booking_changes: 4.0</br>_original_yhat_: 0.3079200979422798</br>\"],[\"</br>id: observation</br>prediction: 0.262</br>babies: 2.6</br></br>lead_time: 203.0</br>arrival_date_year: 2016.0</br>adults: 2.0</br>children: 0.0</br>booking_changes: 4.0</br>_original_yhat_: 0.3079200979422798</br>\"],[\"</br>id: observation</br>prediction: 0.262</br>babies: 2.7</br></br>lead_time: 203.0</br>arrival_date_year: 2016.0</br>adults: 2.0</br>children: 0.0</br>booking_changes: 4.0</br>_original_yhat_: 0.3079200979422798</br>\"],[\"</br>id: observation</br>prediction: 0.262</br>babies: 2.8000000000000003</br></br>lead_time: 203.0</br>arrival_date_year: 2016.0</br>adults: 2.0</br>children: 0.0</br>booking_changes: 4.0</br>_original_yhat_: 0.3079200979422798</br>\"],[\"</br>id: observation</br>prediction: 0.262</br>babies: 2.9000000000000004</br></br>lead_time: 203.0</br>arrival_date_year: 2016.0</br>adults: 2.0</br>children: 0.0</br>booking_changes: 4.0</br>_original_yhat_: 0.3079200979422798</br>\"],[\"</br>id: observation</br>prediction: 0.262</br>babies: 3.0</br></br>lead_time: 203.0</br>arrival_date_year: 2016.0</br>adults: 2.0</br>children: 0.0</br>booking_changes: 4.0</br>_original_yhat_: 0.3079200979422798</br>\"],[\"</br>id: observation</br>prediction: 0.262</br>babies: 3.1</br></br>lead_time: 203.0</br>arrival_date_year: 2016.0</br>adults: 2.0</br>children: 0.0</br>booking_changes: 4.0</br>_original_yhat_: 0.3079200979422798</br>\"],[\"</br>id: observation</br>prediction: 0.262</br>babies: 3.2</br></br>lead_time: 203.0</br>arrival_date_year: 2016.0</br>adults: 2.0</br>children: 0.0</br>booking_changes: 4.0</br>_original_yhat_: 0.3079200979422798</br>\"],[\"</br>id: observation</br>prediction: 0.262</br>babies: 3.3000000000000003</br></br>lead_time: 203.0</br>arrival_date_year: 2016.0</br>adults: 2.0</br>children: 0.0</br>booking_changes: 4.0</br>_original_yhat_: 0.3079200979422798</br>\"],[\"</br>id: observation</br>prediction: 0.262</br>babies: 3.4000000000000004</br></br>lead_time: 203.0</br>arrival_date_year: 2016.0</br>adults: 2.0</br>children: 0.0</br>booking_changes: 4.0</br>_original_yhat_: 0.3079200979422798</br>\"],[\"</br>id: observation</br>prediction: 0.262</br>babies: 3.5</br></br>lead_time: 203.0</br>arrival_date_year: 2016.0</br>adults: 2.0</br>children: 0.0</br>booking_changes: 4.0</br>_original_yhat_: 0.3079200979422798</br>\"],[\"</br>id: observation</br>prediction: 0.262</br>babies: 3.6</br></br>lead_time: 203.0</br>arrival_date_year: 2016.0</br>adults: 2.0</br>children: 0.0</br>booking_changes: 4.0</br>_original_yhat_: 0.3079200979422798</br>\"],[\"</br>id: observation</br>prediction: 0.262</br>babies: 3.7</br></br>lead_time: 203.0</br>arrival_date_year: 2016.0</br>adults: 2.0</br>children: 0.0</br>booking_changes: 4.0</br>_original_yhat_: 0.3079200979422798</br>\"],[\"</br>id: observation</br>prediction: 0.262</br>babies: 3.8000000000000003</br></br>lead_time: 203.0</br>arrival_date_year: 2016.0</br>adults: 2.0</br>children: 0.0</br>booking_changes: 4.0</br>_original_yhat_: 0.3079200979422798</br>\"],[\"</br>id: observation</br>prediction: 0.262</br>babies: 3.9000000000000004</br></br>lead_time: 203.0</br>arrival_date_year: 2016.0</br>adults: 2.0</br>children: 0.0</br>booking_changes: 4.0</br>_original_yhat_: 0.3079200979422798</br>\"],[\"</br>id: observation</br>prediction: 0.262</br>babies: 4.0</br></br>lead_time: 203.0</br>arrival_date_year: 2016.0</br>adults: 2.0</br>children: 0.0</br>booking_changes: 4.0</br>_original_yhat_: 0.3079200979422798</br>\"],[\"</br>id: observation</br>prediction: 0.262</br>babies: 4.1000000000000005</br></br>lead_time: 203.0</br>arrival_date_year: 2016.0</br>adults: 2.0</br>children: 0.0</br>booking_changes: 4.0</br>_original_yhat_: 0.3079200979422798</br>\"],[\"</br>id: observation</br>prediction: 0.262</br>babies: 4.2</br></br>lead_time: 203.0</br>arrival_date_year: 2016.0</br>adults: 2.0</br>children: 0.0</br>booking_changes: 4.0</br>_original_yhat_: 0.3079200979422798</br>\"],[\"</br>id: observation</br>prediction: 0.262</br>babies: 4.3</br></br>lead_time: 203.0</br>arrival_date_year: 2016.0</br>adults: 2.0</br>children: 0.0</br>booking_changes: 4.0</br>_original_yhat_: 0.3079200979422798</br>\"],[\"</br>id: observation</br>prediction: 0.262</br>babies: 4.4</br></br>lead_time: 203.0</br>arrival_date_year: 2016.0</br>adults: 2.0</br>children: 0.0</br>booking_changes: 4.0</br>_original_yhat_: 0.3079200979422798</br>\"],[\"</br>id: observation</br>prediction: 0.262</br>babies: 4.5</br></br>lead_time: 203.0</br>arrival_date_year: 2016.0</br>adults: 2.0</br>children: 0.0</br>booking_changes: 4.0</br>_original_yhat_: 0.3079200979422798</br>\"],[\"</br>id: observation</br>prediction: 0.262</br>babies: 4.6000000000000005</br></br>lead_time: 203.0</br>arrival_date_year: 2016.0</br>adults: 2.0</br>children: 0.0</br>booking_changes: 4.0</br>_original_yhat_: 0.3079200979422798</br>\"],[\"</br>id: observation</br>prediction: 0.262</br>babies: 4.7</br></br>lead_time: 203.0</br>arrival_date_year: 2016.0</br>adults: 2.0</br>children: 0.0</br>booking_changes: 4.0</br>_original_yhat_: 0.3079200979422798</br>\"],[\"</br>id: observation</br>prediction: 0.262</br>babies: 4.800000000000001</br></br>lead_time: 203.0</br>arrival_date_year: 2016.0</br>adults: 2.0</br>children: 0.0</br>booking_changes: 4.0</br>_original_yhat_: 0.3079200979422798</br>\"],[\"</br>id: observation</br>prediction: 0.262</br>babies: 4.9</br></br>lead_time: 203.0</br>arrival_date_year: 2016.0</br>adults: 2.0</br>children: 0.0</br>booking_changes: 4.0</br>_original_yhat_: 0.3079200979422798</br>\"],[\"</br>id: observation</br>prediction: 0.262</br>babies: 5.0</br></br>lead_time: 203.0</br>arrival_date_year: 2016.0</br>adults: 2.0</br>children: 0.0</br>booking_changes: 4.0</br>_original_yhat_: 0.3079200979422798</br>\"],[\"</br>id: observation</br>prediction: 0.262</br>babies: 5.1000000000000005</br></br>lead_time: 203.0</br>arrival_date_year: 2016.0</br>adults: 2.0</br>children: 0.0</br>booking_changes: 4.0</br>_original_yhat_: 0.3079200979422798</br>\"],[\"</br>id: observation</br>prediction: 0.262</br>babies: 5.2</br></br>lead_time: 203.0</br>arrival_date_year: 2016.0</br>adults: 2.0</br>children: 0.0</br>booking_changes: 4.0</br>_original_yhat_: 0.3079200979422798</br>\"],[\"</br>id: observation</br>prediction: 0.262</br>babies: 5.300000000000001</br></br>lead_time: 203.0</br>arrival_date_year: 2016.0</br>adults: 2.0</br>children: 0.0</br>booking_changes: 4.0</br>_original_yhat_: 0.3079200979422798</br>\"],[\"</br>id: observation</br>prediction: 0.262</br>babies: 5.4</br></br>lead_time: 203.0</br>arrival_date_year: 2016.0</br>adults: 2.0</br>children: 0.0</br>booking_changes: 4.0</br>_original_yhat_: 0.3079200979422798</br>\"],[\"</br>id: observation</br>prediction: 0.262</br>babies: 5.5</br></br>lead_time: 203.0</br>arrival_date_year: 2016.0</br>adults: 2.0</br>children: 0.0</br>booking_changes: 4.0</br>_original_yhat_: 0.3079200979422798</br>\"],[\"</br>id: observation</br>prediction: 0.262</br>babies: 5.6000000000000005</br></br>lead_time: 203.0</br>arrival_date_year: 2016.0</br>adults: 2.0</br>children: 0.0</br>booking_changes: 4.0</br>_original_yhat_: 0.3079200979422798</br>\"],[\"</br>id: observation</br>prediction: 0.262</br>babies: 5.7</br></br>lead_time: 203.0</br>arrival_date_year: 2016.0</br>adults: 2.0</br>children: 0.0</br>booking_changes: 4.0</br>_original_yhat_: 0.3079200979422798</br>\"],[\"</br>id: observation</br>prediction: 0.262</br>babies: 5.800000000000001</br></br>lead_time: 203.0</br>arrival_date_year: 2016.0</br>adults: 2.0</br>children: 0.0</br>booking_changes: 4.0</br>_original_yhat_: 0.3079200979422798</br>\"],[\"</br>id: observation</br>prediction: 0.262</br>babies: 5.9</br></br>lead_time: 203.0</br>arrival_date_year: 2016.0</br>adults: 2.0</br>children: 0.0</br>booking_changes: 4.0</br>_original_yhat_: 0.3079200979422798</br>\"],[\"</br>id: observation</br>prediction: 0.262</br>babies: 6.0</br></br>lead_time: 203.0</br>arrival_date_year: 2016.0</br>adults: 2.0</br>children: 0.0</br>booking_changes: 4.0</br>_original_yhat_: 0.3079200979422798</br>\"],[\"</br>id: observation</br>prediction: 0.262</br>babies: 6.1000000000000005</br></br>lead_time: 203.0</br>arrival_date_year: 2016.0</br>adults: 2.0</br>children: 0.0</br>booking_changes: 4.0</br>_original_yhat_: 0.3079200979422798</br>\"],[\"</br>id: observation</br>prediction: 0.262</br>babies: 6.2</br></br>lead_time: 203.0</br>arrival_date_year: 2016.0</br>adults: 2.0</br>children: 0.0</br>booking_changes: 4.0</br>_original_yhat_: 0.3079200979422798</br>\"],[\"</br>id: observation</br>prediction: 0.262</br>babies: 6.300000000000001</br></br>lead_time: 203.0</br>arrival_date_year: 2016.0</br>adults: 2.0</br>children: 0.0</br>booking_changes: 4.0</br>_original_yhat_: 0.3079200979422798</br>\"],[\"</br>id: observation</br>prediction: 0.262</br>babies: 6.4</br></br>lead_time: 203.0</br>arrival_date_year: 2016.0</br>adults: 2.0</br>children: 0.0</br>booking_changes: 4.0</br>_original_yhat_: 0.3079200979422798</br>\"],[\"</br>id: observation</br>prediction: 0.262</br>babies: 6.5</br></br>lead_time: 203.0</br>arrival_date_year: 2016.0</br>adults: 2.0</br>children: 0.0</br>booking_changes: 4.0</br>_original_yhat_: 0.3079200979422798</br>\"],[\"</br>id: observation</br>prediction: 0.262</br>babies: 6.6000000000000005</br></br>lead_time: 203.0</br>arrival_date_year: 2016.0</br>adults: 2.0</br>children: 0.0</br>booking_changes: 4.0</br>_original_yhat_: 0.3079200979422798</br>\"],[\"</br>id: observation</br>prediction: 0.262</br>babies: 6.7</br></br>lead_time: 203.0</br>arrival_date_year: 2016.0</br>adults: 2.0</br>children: 0.0</br>booking_changes: 4.0</br>_original_yhat_: 0.3079200979422798</br>\"],[\"</br>id: observation</br>prediction: 0.262</br>babies: 6.800000000000001</br></br>lead_time: 203.0</br>arrival_date_year: 2016.0</br>adults: 2.0</br>children: 0.0</br>booking_changes: 4.0</br>_original_yhat_: 0.3079200979422798</br>\"],[\"</br>id: observation</br>prediction: 0.262</br>babies: 6.9</br></br>lead_time: 203.0</br>arrival_date_year: 2016.0</br>adults: 2.0</br>children: 0.0</br>booking_changes: 4.0</br>_original_yhat_: 0.3079200979422798</br>\"],[\"</br>id: observation</br>prediction: 0.262</br>babies: 7.0</br></br>lead_time: 203.0</br>arrival_date_year: 2016.0</br>adults: 2.0</br>children: 0.0</br>booking_changes: 4.0</br>_original_yhat_: 0.3079200979422798</br>\"],[\"</br>id: observation</br>prediction: 0.262</br>babies: 7.1000000000000005</br></br>lead_time: 203.0</br>arrival_date_year: 2016.0</br>adults: 2.0</br>children: 0.0</br>booking_changes: 4.0</br>_original_yhat_: 0.3079200979422798</br>\"],[\"</br>id: observation</br>prediction: 0.262</br>babies: 7.2</br></br>lead_time: 203.0</br>arrival_date_year: 2016.0</br>adults: 2.0</br>children: 0.0</br>booking_changes: 4.0</br>_original_yhat_: 0.3079200979422798</br>\"],[\"</br>id: observation</br>prediction: 0.262</br>babies: 7.300000000000001</br></br>lead_time: 203.0</br>arrival_date_year: 2016.0</br>adults: 2.0</br>children: 0.0</br>booking_changes: 4.0</br>_original_yhat_: 0.3079200979422798</br>\"],[\"</br>id: observation</br>prediction: 0.262</br>babies: 7.4</br></br>lead_time: 203.0</br>arrival_date_year: 2016.0</br>adults: 2.0</br>children: 0.0</br>booking_changes: 4.0</br>_original_yhat_: 0.3079200979422798</br>\"],[\"</br>id: observation</br>prediction: 0.262</br>babies: 7.5</br></br>lead_time: 203.0</br>arrival_date_year: 2016.0</br>adults: 2.0</br>children: 0.0</br>booking_changes: 4.0</br>_original_yhat_: 0.3079200979422798</br>\"],[\"</br>id: observation</br>prediction: 0.262</br>babies: 7.6000000000000005</br></br>lead_time: 203.0</br>arrival_date_year: 2016.0</br>adults: 2.0</br>children: 0.0</br>booking_changes: 4.0</br>_original_yhat_: 0.3079200979422798</br>\"],[\"</br>id: observation</br>prediction: 0.262</br>babies: 7.7</br></br>lead_time: 203.0</br>arrival_date_year: 2016.0</br>adults: 2.0</br>children: 0.0</br>booking_changes: 4.0</br>_original_yhat_: 0.3079200979422798</br>\"],[\"</br>id: observation</br>prediction: 0.262</br>babies: 7.800000000000001</br></br>lead_time: 203.0</br>arrival_date_year: 2016.0</br>adults: 2.0</br>children: 0.0</br>booking_changes: 4.0</br>_original_yhat_: 0.3079200979422798</br>\"],[\"</br>id: observation</br>prediction: 0.262</br>babies: 7.9</br></br>lead_time: 203.0</br>arrival_date_year: 2016.0</br>adults: 2.0</br>children: 0.0</br>booking_changes: 4.0</br>_original_yhat_: 0.3079200979422798</br>\"],[\"</br>id: observation</br>prediction: 0.262</br>babies: 8.0</br></br>lead_time: 203.0</br>arrival_date_year: 2016.0</br>adults: 2.0</br>children: 0.0</br>booking_changes: 4.0</br>_original_yhat_: 0.3079200979422798</br>\"],[\"</br>id: observation</br>prediction: 0.262</br>babies: 8.1</br></br>lead_time: 203.0</br>arrival_date_year: 2016.0</br>adults: 2.0</br>children: 0.0</br>booking_changes: 4.0</br>_original_yhat_: 0.3079200979422798</br>\"],[\"</br>id: observation</br>prediction: 0.262</br>babies: 8.200000000000001</br></br>lead_time: 203.0</br>arrival_date_year: 2016.0</br>adults: 2.0</br>children: 0.0</br>booking_changes: 4.0</br>_original_yhat_: 0.3079200979422798</br>\"],[\"</br>id: observation</br>prediction: 0.262</br>babies: 8.3</br></br>lead_time: 203.0</br>arrival_date_year: 2016.0</br>adults: 2.0</br>children: 0.0</br>booking_changes: 4.0</br>_original_yhat_: 0.3079200979422798</br>\"],[\"</br>id: observation</br>prediction: 0.262</br>babies: 8.4</br></br>lead_time: 203.0</br>arrival_date_year: 2016.0</br>adults: 2.0</br>children: 0.0</br>booking_changes: 4.0</br>_original_yhat_: 0.3079200979422798</br>\"],[\"</br>id: observation</br>prediction: 0.262</br>babies: 8.5</br></br>lead_time: 203.0</br>arrival_date_year: 2016.0</br>adults: 2.0</br>children: 0.0</br>booking_changes: 4.0</br>_original_yhat_: 0.3079200979422798</br>\"],[\"</br>id: observation</br>prediction: 0.262</br>babies: 8.6</br></br>lead_time: 203.0</br>arrival_date_year: 2016.0</br>adults: 2.0</br>children: 0.0</br>booking_changes: 4.0</br>_original_yhat_: 0.3079200979422798</br>\"],[\"</br>id: observation</br>prediction: 0.262</br>babies: 8.700000000000001</br></br>lead_time: 203.0</br>arrival_date_year: 2016.0</br>adults: 2.0</br>children: 0.0</br>booking_changes: 4.0</br>_original_yhat_: 0.3079200979422798</br>\"],[\"</br>id: observation</br>prediction: 0.262</br>babies: 8.8</br></br>lead_time: 203.0</br>arrival_date_year: 2016.0</br>adults: 2.0</br>children: 0.0</br>booking_changes: 4.0</br>_original_yhat_: 0.3079200979422798</br>\"],[\"</br>id: observation</br>prediction: 0.262</br>babies: 8.9</br></br>lead_time: 203.0</br>arrival_date_year: 2016.0</br>adults: 2.0</br>children: 0.0</br>booking_changes: 4.0</br>_original_yhat_: 0.3079200979422798</br>\"],[\"</br>id: observation</br>prediction: 0.262</br>babies: 9.0</br></br>lead_time: 203.0</br>arrival_date_year: 2016.0</br>adults: 2.0</br>children: 0.0</br>booking_changes: 4.0</br>_original_yhat_: 0.3079200979422798</br>\"],[\"</br>id: observation</br>prediction: 0.262</br>babies: 9.1</br></br>lead_time: 203.0</br>arrival_date_year: 2016.0</br>adults: 2.0</br>children: 0.0</br>booking_changes: 4.0</br>_original_yhat_: 0.3079200979422798</br>\"],[\"</br>id: observation</br>prediction: 0.262</br>babies: 9.200000000000001</br></br>lead_time: 203.0</br>arrival_date_year: 2016.0</br>adults: 2.0</br>children: 0.0</br>booking_changes: 4.0</br>_original_yhat_: 0.3079200979422798</br>\"],[\"</br>id: observation</br>prediction: 0.262</br>babies: 9.3</br></br>lead_time: 203.0</br>arrival_date_year: 2016.0</br>adults: 2.0</br>children: 0.0</br>booking_changes: 4.0</br>_original_yhat_: 0.3079200979422798</br>\"],[\"</br>id: observation</br>prediction: 0.262</br>babies: 9.4</br></br>lead_time: 203.0</br>arrival_date_year: 2016.0</br>adults: 2.0</br>children: 0.0</br>booking_changes: 4.0</br>_original_yhat_: 0.3079200979422798</br>\"],[\"</br>id: observation</br>prediction: 0.262</br>babies: 9.5</br></br>lead_time: 203.0</br>arrival_date_year: 2016.0</br>adults: 2.0</br>children: 0.0</br>booking_changes: 4.0</br>_original_yhat_: 0.3079200979422798</br>\"],[\"</br>id: observation</br>prediction: 0.262</br>babies: 9.600000000000001</br></br>lead_time: 203.0</br>arrival_date_year: 2016.0</br>adults: 2.0</br>children: 0.0</br>booking_changes: 4.0</br>_original_yhat_: 0.3079200979422798</br>\"],[\"</br>id: observation</br>prediction: 0.262</br>babies: 9.700000000000001</br></br>lead_time: 203.0</br>arrival_date_year: 2016.0</br>adults: 2.0</br>children: 0.0</br>booking_changes: 4.0</br>_original_yhat_: 0.3079200979422798</br>\"],[\"</br>id: observation</br>prediction: 0.262</br>babies: 9.8</br></br>lead_time: 203.0</br>arrival_date_year: 2016.0</br>adults: 2.0</br>children: 0.0</br>booking_changes: 4.0</br>_original_yhat_: 0.3079200979422798</br>\"],[\"</br>id: observation</br>prediction: 0.262</br>babies: 9.9</br></br>lead_time: 203.0</br>arrival_date_year: 2016.0</br>adults: 2.0</br>children: 0.0</br>booking_changes: 4.0</br>_original_yhat_: 0.3079200979422798</br>\"],[\"</br>id: observation</br>prediction: 0.262</br>babies: 10.0</br></br>lead_time: 203.0</br>arrival_date_year: 2016.0</br>adults: 2.0</br>children: 0.0</br>booking_changes: 4.0</br>_original_yhat_: 0.3079200979422798</br>\"]],\"hovertemplate\":\"%{customdata[0]}<extra></extra>\",\"legendgroup\":\"adaboost\",\"line\":{\"color\":\"#46bac2\",\"dash\":\"solid\",\"width\":2},\"marker\":{\"symbol\":\"circle\"},\"mode\":\"lines\",\"name\":\"adaboost\",\"orientation\":\"v\",\"showlegend\":false,\"x\":[0.0,0.1,0.2,0.30000000000000004,0.4,0.5,0.6000000000000001,0.7000000000000001,0.8,0.9,1.0,1.1,1.2000000000000002,1.3,1.4000000000000001,1.5,1.6,1.7000000000000002,1.8,1.9000000000000001,2.0,2.1,2.2,2.3000000000000003,2.4000000000000004,2.5,2.6,2.7,2.8000000000000003,2.9000000000000004,3.0,3.1,3.2,3.3000000000000003,3.4000000000000004,3.5,3.6,3.7,3.8000000000000003,3.9000000000000004,4.0,4.1000000000000005,4.2,4.3,4.4,4.5,4.6000000000000005,4.7,4.800000000000001,4.9,5.0,5.1000000000000005,5.2,5.300000000000001,5.4,5.5,5.6000000000000005,5.7,5.800000000000001,5.9,6.0,6.1000000000000005,6.2,6.300000000000001,6.4,6.5,6.6000000000000005,6.7,6.800000000000001,6.9,7.0,7.1000000000000005,7.2,7.300000000000001,7.4,7.5,7.6000000000000005,7.7,7.800000000000001,7.9,8.0,8.1,8.200000000000001,8.3,8.4,8.5,8.6,8.700000000000001,8.8,8.9,9.0,9.1,9.200000000000001,9.3,9.4,9.5,9.600000000000001,9.700000000000001,9.8,9.9,10.0],\"xaxis\":\"x\",\"y\":[0.3079200979422798,0.3079200979422798,0.3079200979422798,0.3079200979422798,0.3079200979422798,0.3079200979422798,0.262131500212599,0.262131500212599,0.262131500212599,0.262131500212599,0.262131500212599,0.262131500212599,0.262131500212599,0.262131500212599,0.262131500212599,0.262131500212599,0.262131500212599,0.262131500212599,0.262131500212599,0.262131500212599,0.262131500212599,0.262131500212599,0.262131500212599,0.262131500212599,0.262131500212599,0.262131500212599,0.262131500212599,0.262131500212599,0.262131500212599,0.262131500212599,0.262131500212599,0.262131500212599,0.262131500212599,0.262131500212599,0.262131500212599,0.262131500212599,0.262131500212599,0.262131500212599,0.262131500212599,0.262131500212599,0.262131500212599,0.262131500212599,0.262131500212599,0.262131500212599,0.262131500212599,0.262131500212599,0.262131500212599,0.262131500212599,0.262131500212599,0.262131500212599,0.262131500212599,0.262131500212599,0.262131500212599,0.262131500212599,0.262131500212599,0.262131500212599,0.262131500212599,0.262131500212599,0.262131500212599,0.262131500212599,0.262131500212599,0.262131500212599,0.262131500212599,0.262131500212599,0.262131500212599,0.262131500212599,0.262131500212599,0.262131500212599,0.262131500212599,0.262131500212599,0.262131500212599,0.262131500212599,0.262131500212599,0.262131500212599,0.262131500212599,0.262131500212599,0.262131500212599,0.262131500212599,0.262131500212599,0.262131500212599,0.262131500212599,0.262131500212599,0.262131500212599,0.262131500212599,0.262131500212599,0.262131500212599,0.262131500212599,0.262131500212599,0.262131500212599,0.262131500212599,0.262131500212599,0.262131500212599,0.262131500212599,0.262131500212599,0.262131500212599,0.262131500212599,0.262131500212599,0.262131500212599,0.262131500212599,0.262131500212599,0.262131500212599],\"yaxis\":\"y\",\"type\":\"scatter\",\"opacity\":1},{\"customdata\":[[\"</br>id: observation</br>prediction: 0.429</br>booking_changes: 0.0</br></br>lead_time: 203.0</br>arrival_date_year: 2016.0</br>adults: 2.0</br>children: 0.0</br>babies: 0.0</br>_original_yhat_: 0.3079200979422798</br>\"],[\"</br>id: observation</br>prediction: 0.429</br>booking_changes: 0.21</br></br>lead_time: 203.0</br>arrival_date_year: 2016.0</br>adults: 2.0</br>children: 0.0</br>babies: 0.0</br>_original_yhat_: 0.3079200979422798</br>\"],[\"</br>id: observation</br>prediction: 0.429</br>booking_changes: 0.42</br></br>lead_time: 203.0</br>arrival_date_year: 2016.0</br>adults: 2.0</br>children: 0.0</br>babies: 0.0</br>_original_yhat_: 0.3079200979422798</br>\"],[\"</br>id: observation</br>prediction: 0.304</br>booking_changes: 0.63</br></br>lead_time: 203.0</br>arrival_date_year: 2016.0</br>adults: 2.0</br>children: 0.0</br>babies: 0.0</br>_original_yhat_: 0.3079200979422798</br>\"],[\"</br>id: observation</br>prediction: 0.304</br>booking_changes: 0.84</br></br>lead_time: 203.0</br>arrival_date_year: 2016.0</br>adults: 2.0</br>children: 0.0</br>babies: 0.0</br>_original_yhat_: 0.3079200979422798</br>\"],[\"</br>id: observation</br>prediction: 0.304</br>booking_changes: 1.05</br></br>lead_time: 203.0</br>arrival_date_year: 2016.0</br>adults: 2.0</br>children: 0.0</br>babies: 0.0</br>_original_yhat_: 0.3079200979422798</br>\"],[\"</br>id: observation</br>prediction: 0.304</br>booking_changes: 1.26</br></br>lead_time: 203.0</br>arrival_date_year: 2016.0</br>adults: 2.0</br>children: 0.0</br>babies: 0.0</br>_original_yhat_: 0.3079200979422798</br>\"],[\"</br>id: observation</br>prediction: 0.304</br>booking_changes: 1.47</br></br>lead_time: 203.0</br>arrival_date_year: 2016.0</br>adults: 2.0</br>children: 0.0</br>babies: 0.0</br>_original_yhat_: 0.3079200979422798</br>\"],[\"</br>id: observation</br>prediction: 0.308</br>booking_changes: 1.68</br></br>lead_time: 203.0</br>arrival_date_year: 2016.0</br>adults: 2.0</br>children: 0.0</br>babies: 0.0</br>_original_yhat_: 0.3079200979422798</br>\"],[\"</br>id: observation</br>prediction: 0.308</br>booking_changes: 1.89</br></br>lead_time: 203.0</br>arrival_date_year: 2016.0</br>adults: 2.0</br>children: 0.0</br>babies: 0.0</br>_original_yhat_: 0.3079200979422798</br>\"],[\"</br>id: observation</br>prediction: 0.308</br>booking_changes: 2.1</br></br>lead_time: 203.0</br>arrival_date_year: 2016.0</br>adults: 2.0</br>children: 0.0</br>babies: 0.0</br>_original_yhat_: 0.3079200979422798</br>\"],[\"</br>id: observation</br>prediction: 0.308</br>booking_changes: 2.31</br></br>lead_time: 203.0</br>arrival_date_year: 2016.0</br>adults: 2.0</br>children: 0.0</br>babies: 0.0</br>_original_yhat_: 0.3079200979422798</br>\"],[\"</br>id: observation</br>prediction: 0.308</br>booking_changes: 2.52</br></br>lead_time: 203.0</br>arrival_date_year: 2016.0</br>adults: 2.0</br>children: 0.0</br>babies: 0.0</br>_original_yhat_: 0.3079200979422798</br>\"],[\"</br>id: observation</br>prediction: 0.308</br>booking_changes: 2.73</br></br>lead_time: 203.0</br>arrival_date_year: 2016.0</br>adults: 2.0</br>children: 0.0</br>babies: 0.0</br>_original_yhat_: 0.3079200979422798</br>\"],[\"</br>id: observation</br>prediction: 0.308</br>booking_changes: 2.94</br></br>lead_time: 203.0</br>arrival_date_year: 2016.0</br>adults: 2.0</br>children: 0.0</br>babies: 0.0</br>_original_yhat_: 0.3079200979422798</br>\"],[\"</br>id: observation</br>prediction: 0.308</br>booking_changes: 3.15</br></br>lead_time: 203.0</br>arrival_date_year: 2016.0</br>adults: 2.0</br>children: 0.0</br>babies: 0.0</br>_original_yhat_: 0.3079200979422798</br>\"],[\"</br>id: observation</br>prediction: 0.308</br>booking_changes: 3.36</br></br>lead_time: 203.0</br>arrival_date_year: 2016.0</br>adults: 2.0</br>children: 0.0</br>babies: 0.0</br>_original_yhat_: 0.3079200979422798</br>\"],[\"</br>id: observation</br>prediction: 0.308</br>booking_changes: 3.57</br></br>lead_time: 203.0</br>arrival_date_year: 2016.0</br>adults: 2.0</br>children: 0.0</br>babies: 0.0</br>_original_yhat_: 0.3079200979422798</br>\"],[\"</br>id: observation</br>prediction: 0.308</br>booking_changes: 3.78</br></br>lead_time: 203.0</br>arrival_date_year: 2016.0</br>adults: 2.0</br>children: 0.0</br>babies: 0.0</br>_original_yhat_: 0.3079200979422798</br>\"],[\"</br>id: observation</br>prediction: 0.308</br>booking_changes: 3.9899999999999998</br></br>lead_time: 203.0</br>arrival_date_year: 2016.0</br>adults: 2.0</br>children: 0.0</br>babies: 0.0</br>_original_yhat_: 0.3079200979422798</br>\"],[\"</br>id: observation</br>prediction: 0.308</br>booking_changes: 4.0</br></br>lead_time: 203.0</br>arrival_date_year: 2016.0</br>adults: 2.0</br>children: 0.0</br>babies: 0.0</br>_original_yhat_: 0.3079200979422798</br>\"],[\"</br>id: observation</br>prediction: 0.308</br>booking_changes: 4.2</br></br>lead_time: 203.0</br>arrival_date_year: 2016.0</br>adults: 2.0</br>children: 0.0</br>babies: 0.0</br>_original_yhat_: 0.3079200979422798</br>\"],[\"</br>id: observation</br>prediction: 0.308</br>booking_changes: 4.41</br></br>lead_time: 203.0</br>arrival_date_year: 2016.0</br>adults: 2.0</br>children: 0.0</br>babies: 0.0</br>_original_yhat_: 0.3079200979422798</br>\"],[\"</br>id: observation</br>prediction: 0.308</br>booking_changes: 4.62</br></br>lead_time: 203.0</br>arrival_date_year: 2016.0</br>adults: 2.0</br>children: 0.0</br>babies: 0.0</br>_original_yhat_: 0.3079200979422798</br>\"],[\"</br>id: observation</br>prediction: 0.308</br>booking_changes: 4.83</br></br>lead_time: 203.0</br>arrival_date_year: 2016.0</br>adults: 2.0</br>children: 0.0</br>babies: 0.0</br>_original_yhat_: 0.3079200979422798</br>\"],[\"</br>id: observation</br>prediction: 0.308</br>booking_changes: 5.04</br></br>lead_time: 203.0</br>arrival_date_year: 2016.0</br>adults: 2.0</br>children: 0.0</br>babies: 0.0</br>_original_yhat_: 0.3079200979422798</br>\"],[\"</br>id: observation</br>prediction: 0.308</br>booking_changes: 5.25</br></br>lead_time: 203.0</br>arrival_date_year: 2016.0</br>adults: 2.0</br>children: 0.0</br>babies: 0.0</br>_original_yhat_: 0.3079200979422798</br>\"],[\"</br>id: observation</br>prediction: 0.308</br>booking_changes: 5.46</br></br>lead_time: 203.0</br>arrival_date_year: 2016.0</br>adults: 2.0</br>children: 0.0</br>babies: 0.0</br>_original_yhat_: 0.3079200979422798</br>\"],[\"</br>id: observation</br>prediction: 0.308</br>booking_changes: 5.67</br></br>lead_time: 203.0</br>arrival_date_year: 2016.0</br>adults: 2.0</br>children: 0.0</br>babies: 0.0</br>_original_yhat_: 0.3079200979422798</br>\"],[\"</br>id: observation</br>prediction: 0.308</br>booking_changes: 5.88</br></br>lead_time: 203.0</br>arrival_date_year: 2016.0</br>adults: 2.0</br>children: 0.0</br>babies: 0.0</br>_original_yhat_: 0.3079200979422798</br>\"],[\"</br>id: observation</br>prediction: 0.308</br>booking_changes: 6.09</br></br>lead_time: 203.0</br>arrival_date_year: 2016.0</br>adults: 2.0</br>children: 0.0</br>babies: 0.0</br>_original_yhat_: 0.3079200979422798</br>\"],[\"</br>id: observation</br>prediction: 0.308</br>booking_changes: 6.3</br></br>lead_time: 203.0</br>arrival_date_year: 2016.0</br>adults: 2.0</br>children: 0.0</br>babies: 0.0</br>_original_yhat_: 0.3079200979422798</br>\"],[\"</br>id: observation</br>prediction: 0.308</br>booking_changes: 6.51</br></br>lead_time: 203.0</br>arrival_date_year: 2016.0</br>adults: 2.0</br>children: 0.0</br>babies: 0.0</br>_original_yhat_: 0.3079200979422798</br>\"],[\"</br>id: observation</br>prediction: 0.308</br>booking_changes: 6.72</br></br>lead_time: 203.0</br>arrival_date_year: 2016.0</br>adults: 2.0</br>children: 0.0</br>babies: 0.0</br>_original_yhat_: 0.3079200979422798</br>\"],[\"</br>id: observation</br>prediction: 0.308</br>booking_changes: 6.93</br></br>lead_time: 203.0</br>arrival_date_year: 2016.0</br>adults: 2.0</br>children: 0.0</br>babies: 0.0</br>_original_yhat_: 0.3079200979422798</br>\"],[\"</br>id: observation</br>prediction: 0.308</br>booking_changes: 7.14</br></br>lead_time: 203.0</br>arrival_date_year: 2016.0</br>adults: 2.0</br>children: 0.0</br>babies: 0.0</br>_original_yhat_: 0.3079200979422798</br>\"],[\"</br>id: observation</br>prediction: 0.308</br>booking_changes: 7.35</br></br>lead_time: 203.0</br>arrival_date_year: 2016.0</br>adults: 2.0</br>children: 0.0</br>babies: 0.0</br>_original_yhat_: 0.3079200979422798</br>\"],[\"</br>id: observation</br>prediction: 0.308</br>booking_changes: 7.56</br></br>lead_time: 203.0</br>arrival_date_year: 2016.0</br>adults: 2.0</br>children: 0.0</br>babies: 0.0</br>_original_yhat_: 0.3079200979422798</br>\"],[\"</br>id: observation</br>prediction: 0.308</br>booking_changes: 7.77</br></br>lead_time: 203.0</br>arrival_date_year: 2016.0</br>adults: 2.0</br>children: 0.0</br>babies: 0.0</br>_original_yhat_: 0.3079200979422798</br>\"],[\"</br>id: observation</br>prediction: 0.308</br>booking_changes: 7.9799999999999995</br></br>lead_time: 203.0</br>arrival_date_year: 2016.0</br>adults: 2.0</br>children: 0.0</br>babies: 0.0</br>_original_yhat_: 0.3079200979422798</br>\"],[\"</br>id: observation</br>prediction: 0.308</br>booking_changes: 8.19</br></br>lead_time: 203.0</br>arrival_date_year: 2016.0</br>adults: 2.0</br>children: 0.0</br>babies: 0.0</br>_original_yhat_: 0.3079200979422798</br>\"],[\"</br>id: observation</br>prediction: 0.308</br>booking_changes: 8.4</br></br>lead_time: 203.0</br>arrival_date_year: 2016.0</br>adults: 2.0</br>children: 0.0</br>babies: 0.0</br>_original_yhat_: 0.3079200979422798</br>\"],[\"</br>id: observation</br>prediction: 0.308</br>booking_changes: 8.61</br></br>lead_time: 203.0</br>arrival_date_year: 2016.0</br>adults: 2.0</br>children: 0.0</br>babies: 0.0</br>_original_yhat_: 0.3079200979422798</br>\"],[\"</br>id: observation</br>prediction: 0.308</br>booking_changes: 8.82</br></br>lead_time: 203.0</br>arrival_date_year: 2016.0</br>adults: 2.0</br>children: 0.0</br>babies: 0.0</br>_original_yhat_: 0.3079200979422798</br>\"],[\"</br>id: observation</br>prediction: 0.308</br>booking_changes: 9.03</br></br>lead_time: 203.0</br>arrival_date_year: 2016.0</br>adults: 2.0</br>children: 0.0</br>babies: 0.0</br>_original_yhat_: 0.3079200979422798</br>\"],[\"</br>id: observation</br>prediction: 0.308</br>booking_changes: 9.24</br></br>lead_time: 203.0</br>arrival_date_year: 2016.0</br>adults: 2.0</br>children: 0.0</br>babies: 0.0</br>_original_yhat_: 0.3079200979422798</br>\"],[\"</br>id: observation</br>prediction: 0.308</br>booking_changes: 9.45</br></br>lead_time: 203.0</br>arrival_date_year: 2016.0</br>adults: 2.0</br>children: 0.0</br>babies: 0.0</br>_original_yhat_: 0.3079200979422798</br>\"],[\"</br>id: observation</br>prediction: 0.308</br>booking_changes: 9.66</br></br>lead_time: 203.0</br>arrival_date_year: 2016.0</br>adults: 2.0</br>children: 0.0</br>babies: 0.0</br>_original_yhat_: 0.3079200979422798</br>\"],[\"</br>id: observation</br>prediction: 0.308</br>booking_changes: 9.87</br></br>lead_time: 203.0</br>arrival_date_year: 2016.0</br>adults: 2.0</br>children: 0.0</br>babies: 0.0</br>_original_yhat_: 0.3079200979422798</br>\"],[\"</br>id: observation</br>prediction: 0.308</br>booking_changes: 10.08</br></br>lead_time: 203.0</br>arrival_date_year: 2016.0</br>adults: 2.0</br>children: 0.0</br>babies: 0.0</br>_original_yhat_: 0.3079200979422798</br>\"],[\"</br>id: observation</br>prediction: 0.308</br>booking_changes: 10.29</br></br>lead_time: 203.0</br>arrival_date_year: 2016.0</br>adults: 2.0</br>children: 0.0</br>babies: 0.0</br>_original_yhat_: 0.3079200979422798</br>\"],[\"</br>id: observation</br>prediction: 0.308</br>booking_changes: 10.5</br></br>lead_time: 203.0</br>arrival_date_year: 2016.0</br>adults: 2.0</br>children: 0.0</br>babies: 0.0</br>_original_yhat_: 0.3079200979422798</br>\"],[\"</br>id: observation</br>prediction: 0.308</br>booking_changes: 10.709999999999999</br></br>lead_time: 203.0</br>arrival_date_year: 2016.0</br>adults: 2.0</br>children: 0.0</br>babies: 0.0</br>_original_yhat_: 0.3079200979422798</br>\"],[\"</br>id: observation</br>prediction: 0.308</br>booking_changes: 10.92</br></br>lead_time: 203.0</br>arrival_date_year: 2016.0</br>adults: 2.0</br>children: 0.0</br>babies: 0.0</br>_original_yhat_: 0.3079200979422798</br>\"],[\"</br>id: observation</br>prediction: 0.308</br>booking_changes: 11.129999999999999</br></br>lead_time: 203.0</br>arrival_date_year: 2016.0</br>adults: 2.0</br>children: 0.0</br>babies: 0.0</br>_original_yhat_: 0.3079200979422798</br>\"],[\"</br>id: observation</br>prediction: 0.308</br>booking_changes: 11.34</br></br>lead_time: 203.0</br>arrival_date_year: 2016.0</br>adults: 2.0</br>children: 0.0</br>babies: 0.0</br>_original_yhat_: 0.3079200979422798</br>\"],[\"</br>id: observation</br>prediction: 0.308</br>booking_changes: 11.549999999999999</br></br>lead_time: 203.0</br>arrival_date_year: 2016.0</br>adults: 2.0</br>children: 0.0</br>babies: 0.0</br>_original_yhat_: 0.3079200979422798</br>\"],[\"</br>id: observation</br>prediction: 0.308</br>booking_changes: 11.76</br></br>lead_time: 203.0</br>arrival_date_year: 2016.0</br>adults: 2.0</br>children: 0.0</br>babies: 0.0</br>_original_yhat_: 0.3079200979422798</br>\"],[\"</br>id: observation</br>prediction: 0.308</br>booking_changes: 11.969999999999999</br></br>lead_time: 203.0</br>arrival_date_year: 2016.0</br>adults: 2.0</br>children: 0.0</br>babies: 0.0</br>_original_yhat_: 0.3079200979422798</br>\"],[\"</br>id: observation</br>prediction: 0.308</br>booking_changes: 12.18</br></br>lead_time: 203.0</br>arrival_date_year: 2016.0</br>adults: 2.0</br>children: 0.0</br>babies: 0.0</br>_original_yhat_: 0.3079200979422798</br>\"],[\"</br>id: observation</br>prediction: 0.308</br>booking_changes: 12.389999999999999</br></br>lead_time: 203.0</br>arrival_date_year: 2016.0</br>adults: 2.0</br>children: 0.0</br>babies: 0.0</br>_original_yhat_: 0.3079200979422798</br>\"],[\"</br>id: observation</br>prediction: 0.308</br>booking_changes: 12.6</br></br>lead_time: 203.0</br>arrival_date_year: 2016.0</br>adults: 2.0</br>children: 0.0</br>babies: 0.0</br>_original_yhat_: 0.3079200979422798</br>\"],[\"</br>id: observation</br>prediction: 0.308</br>booking_changes: 12.809999999999999</br></br>lead_time: 203.0</br>arrival_date_year: 2016.0</br>adults: 2.0</br>children: 0.0</br>babies: 0.0</br>_original_yhat_: 0.3079200979422798</br>\"],[\"</br>id: observation</br>prediction: 0.308</br>booking_changes: 13.02</br></br>lead_time: 203.0</br>arrival_date_year: 2016.0</br>adults: 2.0</br>children: 0.0</br>babies: 0.0</br>_original_yhat_: 0.3079200979422798</br>\"],[\"</br>id: observation</br>prediction: 0.308</br>booking_changes: 13.229999999999999</br></br>lead_time: 203.0</br>arrival_date_year: 2016.0</br>adults: 2.0</br>children: 0.0</br>babies: 0.0</br>_original_yhat_: 0.3079200979422798</br>\"],[\"</br>id: observation</br>prediction: 0.308</br>booking_changes: 13.44</br></br>lead_time: 203.0</br>arrival_date_year: 2016.0</br>adults: 2.0</br>children: 0.0</br>babies: 0.0</br>_original_yhat_: 0.3079200979422798</br>\"],[\"</br>id: observation</br>prediction: 0.308</br>booking_changes: 13.65</br></br>lead_time: 203.0</br>arrival_date_year: 2016.0</br>adults: 2.0</br>children: 0.0</br>babies: 0.0</br>_original_yhat_: 0.3079200979422798</br>\"],[\"</br>id: observation</br>prediction: 0.308</br>booking_changes: 13.86</br></br>lead_time: 203.0</br>arrival_date_year: 2016.0</br>adults: 2.0</br>children: 0.0</br>babies: 0.0</br>_original_yhat_: 0.3079200979422798</br>\"],[\"</br>id: observation</br>prediction: 0.308</br>booking_changes: 14.07</br></br>lead_time: 203.0</br>arrival_date_year: 2016.0</br>adults: 2.0</br>children: 0.0</br>babies: 0.0</br>_original_yhat_: 0.3079200979422798</br>\"],[\"</br>id: observation</br>prediction: 0.308</br>booking_changes: 14.28</br></br>lead_time: 203.0</br>arrival_date_year: 2016.0</br>adults: 2.0</br>children: 0.0</br>babies: 0.0</br>_original_yhat_: 0.3079200979422798</br>\"],[\"</br>id: observation</br>prediction: 0.308</br>booking_changes: 14.49</br></br>lead_time: 203.0</br>arrival_date_year: 2016.0</br>adults: 2.0</br>children: 0.0</br>babies: 0.0</br>_original_yhat_: 0.3079200979422798</br>\"],[\"</br>id: observation</br>prediction: 0.308</br>booking_changes: 14.7</br></br>lead_time: 203.0</br>arrival_date_year: 2016.0</br>adults: 2.0</br>children: 0.0</br>babies: 0.0</br>_original_yhat_: 0.3079200979422798</br>\"],[\"</br>id: observation</br>prediction: 0.308</br>booking_changes: 14.91</br></br>lead_time: 203.0</br>arrival_date_year: 2016.0</br>adults: 2.0</br>children: 0.0</br>babies: 0.0</br>_original_yhat_: 0.3079200979422798</br>\"],[\"</br>id: observation</br>prediction: 0.308</br>booking_changes: 15.12</br></br>lead_time: 203.0</br>arrival_date_year: 2016.0</br>adults: 2.0</br>children: 0.0</br>babies: 0.0</br>_original_yhat_: 0.3079200979422798</br>\"],[\"</br>id: observation</br>prediction: 0.308</br>booking_changes: 15.33</br></br>lead_time: 203.0</br>arrival_date_year: 2016.0</br>adults: 2.0</br>children: 0.0</br>babies: 0.0</br>_original_yhat_: 0.3079200979422798</br>\"],[\"</br>id: observation</br>prediction: 0.308</br>booking_changes: 15.54</br></br>lead_time: 203.0</br>arrival_date_year: 2016.0</br>adults: 2.0</br>children: 0.0</br>babies: 0.0</br>_original_yhat_: 0.3079200979422798</br>\"],[\"</br>id: observation</br>prediction: 0.308</br>booking_changes: 15.75</br></br>lead_time: 203.0</br>arrival_date_year: 2016.0</br>adults: 2.0</br>children: 0.0</br>babies: 0.0</br>_original_yhat_: 0.3079200979422798</br>\"],[\"</br>id: observation</br>prediction: 0.308</br>booking_changes: 15.959999999999999</br></br>lead_time: 203.0</br>arrival_date_year: 2016.0</br>adults: 2.0</br>children: 0.0</br>babies: 0.0</br>_original_yhat_: 0.3079200979422798</br>\"],[\"</br>id: observation</br>prediction: 0.308</br>booking_changes: 16.169999999999998</br></br>lead_time: 203.0</br>arrival_date_year: 2016.0</br>adults: 2.0</br>children: 0.0</br>babies: 0.0</br>_original_yhat_: 0.3079200979422798</br>\"],[\"</br>id: observation</br>prediction: 0.308</br>booking_changes: 16.38</br></br>lead_time: 203.0</br>arrival_date_year: 2016.0</br>adults: 2.0</br>children: 0.0</br>babies: 0.0</br>_original_yhat_: 0.3079200979422798</br>\"],[\"</br>id: observation</br>prediction: 0.308</br>booking_changes: 16.59</br></br>lead_time: 203.0</br>arrival_date_year: 2016.0</br>adults: 2.0</br>children: 0.0</br>babies: 0.0</br>_original_yhat_: 0.3079200979422798</br>\"],[\"</br>id: observation</br>prediction: 0.308</br>booking_changes: 16.8</br></br>lead_time: 203.0</br>arrival_date_year: 2016.0</br>adults: 2.0</br>children: 0.0</br>babies: 0.0</br>_original_yhat_: 0.3079200979422798</br>\"],[\"</br>id: observation</br>prediction: 0.308</br>booking_changes: 17.009999999999998</br></br>lead_time: 203.0</br>arrival_date_year: 2016.0</br>adults: 2.0</br>children: 0.0</br>babies: 0.0</br>_original_yhat_: 0.3079200979422798</br>\"],[\"</br>id: observation</br>prediction: 0.308</br>booking_changes: 17.22</br></br>lead_time: 203.0</br>arrival_date_year: 2016.0</br>adults: 2.0</br>children: 0.0</br>babies: 0.0</br>_original_yhat_: 0.3079200979422798</br>\"],[\"</br>id: observation</br>prediction: 0.308</br>booking_changes: 17.43</br></br>lead_time: 203.0</br>arrival_date_year: 2016.0</br>adults: 2.0</br>children: 0.0</br>babies: 0.0</br>_original_yhat_: 0.3079200979422798</br>\"],[\"</br>id: observation</br>prediction: 0.308</br>booking_changes: 17.64</br></br>lead_time: 203.0</br>arrival_date_year: 2016.0</br>adults: 2.0</br>children: 0.0</br>babies: 0.0</br>_original_yhat_: 0.3079200979422798</br>\"],[\"</br>id: observation</br>prediction: 0.308</br>booking_changes: 17.849999999999998</br></br>lead_time: 203.0</br>arrival_date_year: 2016.0</br>adults: 2.0</br>children: 0.0</br>babies: 0.0</br>_original_yhat_: 0.3079200979422798</br>\"],[\"</br>id: observation</br>prediction: 0.308</br>booking_changes: 18.06</br></br>lead_time: 203.0</br>arrival_date_year: 2016.0</br>adults: 2.0</br>children: 0.0</br>babies: 0.0</br>_original_yhat_: 0.3079200979422798</br>\"],[\"</br>id: observation</br>prediction: 0.308</br>booking_changes: 18.27</br></br>lead_time: 203.0</br>arrival_date_year: 2016.0</br>adults: 2.0</br>children: 0.0</br>babies: 0.0</br>_original_yhat_: 0.3079200979422798</br>\"],[\"</br>id: observation</br>prediction: 0.308</br>booking_changes: 18.48</br></br>lead_time: 203.0</br>arrival_date_year: 2016.0</br>adults: 2.0</br>children: 0.0</br>babies: 0.0</br>_original_yhat_: 0.3079200979422798</br>\"],[\"</br>id: observation</br>prediction: 0.308</br>booking_changes: 18.689999999999998</br></br>lead_time: 203.0</br>arrival_date_year: 2016.0</br>adults: 2.0</br>children: 0.0</br>babies: 0.0</br>_original_yhat_: 0.3079200979422798</br>\"],[\"</br>id: observation</br>prediction: 0.308</br>booking_changes: 18.9</br></br>lead_time: 203.0</br>arrival_date_year: 2016.0</br>adults: 2.0</br>children: 0.0</br>babies: 0.0</br>_original_yhat_: 0.3079200979422798</br>\"],[\"</br>id: observation</br>prediction: 0.308</br>booking_changes: 19.11</br></br>lead_time: 203.0</br>arrival_date_year: 2016.0</br>adults: 2.0</br>children: 0.0</br>babies: 0.0</br>_original_yhat_: 0.3079200979422798</br>\"],[\"</br>id: observation</br>prediction: 0.308</br>booking_changes: 19.32</br></br>lead_time: 203.0</br>arrival_date_year: 2016.0</br>adults: 2.0</br>children: 0.0</br>babies: 0.0</br>_original_yhat_: 0.3079200979422798</br>\"],[\"</br>id: observation</br>prediction: 0.308</br>booking_changes: 19.529999999999998</br></br>lead_time: 203.0</br>arrival_date_year: 2016.0</br>adults: 2.0</br>children: 0.0</br>babies: 0.0</br>_original_yhat_: 0.3079200979422798</br>\"],[\"</br>id: observation</br>prediction: 0.308</br>booking_changes: 19.74</br></br>lead_time: 203.0</br>arrival_date_year: 2016.0</br>adults: 2.0</br>children: 0.0</br>babies: 0.0</br>_original_yhat_: 0.3079200979422798</br>\"],[\"</br>id: observation</br>prediction: 0.308</br>booking_changes: 19.95</br></br>lead_time: 203.0</br>arrival_date_year: 2016.0</br>adults: 2.0</br>children: 0.0</br>babies: 0.0</br>_original_yhat_: 0.3079200979422798</br>\"],[\"</br>id: observation</br>prediction: 0.308</br>booking_changes: 20.16</br></br>lead_time: 203.0</br>arrival_date_year: 2016.0</br>adults: 2.0</br>children: 0.0</br>babies: 0.0</br>_original_yhat_: 0.3079200979422798</br>\"],[\"</br>id: observation</br>prediction: 0.308</br>booking_changes: 20.37</br></br>lead_time: 203.0</br>arrival_date_year: 2016.0</br>adults: 2.0</br>children: 0.0</br>babies: 0.0</br>_original_yhat_: 0.3079200979422798</br>\"],[\"</br>id: observation</br>prediction: 0.308</br>booking_changes: 20.58</br></br>lead_time: 203.0</br>arrival_date_year: 2016.0</br>adults: 2.0</br>children: 0.0</br>babies: 0.0</br>_original_yhat_: 0.3079200979422798</br>\"],[\"</br>id: observation</br>prediction: 0.308</br>booking_changes: 20.79</br></br>lead_time: 203.0</br>arrival_date_year: 2016.0</br>adults: 2.0</br>children: 0.0</br>babies: 0.0</br>_original_yhat_: 0.3079200979422798</br>\"],[\"</br>id: observation</br>prediction: 0.308</br>booking_changes: 21.0</br></br>lead_time: 203.0</br>arrival_date_year: 2016.0</br>adults: 2.0</br>children: 0.0</br>babies: 0.0</br>_original_yhat_: 0.3079200979422798</br>\"]],\"hovertemplate\":\"%{customdata[0]}<extra></extra>\",\"legendgroup\":\"adaboost\",\"line\":{\"color\":\"#46bac2\",\"dash\":\"solid\",\"width\":2},\"marker\":{\"symbol\":\"circle\"},\"mode\":\"lines\",\"name\":\"adaboost\",\"orientation\":\"v\",\"showlegend\":false,\"x\":[0.0,0.21,0.42,0.63,0.84,1.05,1.26,1.47,1.68,1.89,2.1,2.31,2.52,2.73,2.94,3.15,3.36,3.57,3.78,3.9899999999999998,4.0,4.2,4.41,4.62,4.83,5.04,5.25,5.46,5.67,5.88,6.09,6.3,6.51,6.72,6.93,7.14,7.35,7.56,7.77,7.9799999999999995,8.19,8.4,8.61,8.82,9.03,9.24,9.45,9.66,9.87,10.08,10.29,10.5,10.709999999999999,10.92,11.129999999999999,11.34,11.549999999999999,11.76,11.969999999999999,12.18,12.389999999999999,12.6,12.809999999999999,13.02,13.229999999999999,13.44,13.65,13.86,14.07,14.28,14.49,14.7,14.91,15.12,15.33,15.54,15.75,15.959999999999999,16.169999999999998,16.38,16.59,16.8,17.009999999999998,17.22,17.43,17.64,17.849999999999998,18.06,18.27,18.48,18.689999999999998,18.9,19.11,19.32,19.529999999999998,19.74,19.95,20.16,20.37,20.58,20.79,21.0],\"xaxis\":\"x2\",\"y\":[0.42943462250390285,0.42943462250390285,0.42943462250390285,0.3041444900516478,0.3041444900516478,0.3041444900516478,0.3041444900516478,0.3041444900516478,0.3079200979422798,0.3079200979422798,0.3079200979422798,0.3079200979422798,0.3079200979422798,0.3079200979422798,0.3079200979422798,0.3079200979422798,0.3079200979422798,0.3079200979422798,0.3079200979422798,0.3079200979422798,0.3079200979422798,0.3079200979422798,0.3079200979422798,0.3079200979422798,0.3079200979422798,0.3079200979422798,0.3079200979422798,0.3079200979422798,0.3079200979422798,0.3079200979422798,0.3079200979422798,0.3079200979422798,0.3079200979422798,0.3079200979422798,0.3079200979422798,0.3079200979422798,0.3079200979422798,0.3079200979422798,0.3079200979422798,0.3079200979422798,0.3079200979422798,0.3079200979422798,0.3079200979422798,0.3079200979422798,0.3079200979422798,0.3079200979422798,0.3079200979422798,0.3079200979422798,0.3079200979422798,0.3079200979422798,0.3079200979422798,0.3079200979422798,0.3079200979422798,0.3079200979422798,0.3079200979422798,0.3079200979422798,0.3079200979422798,0.3079200979422798,0.3079200979422798,0.3079200979422798,0.3079200979422798,0.3079200979422798,0.3079200979422798,0.3079200979422798,0.3079200979422798,0.3079200979422798,0.3079200979422798,0.3079200979422798,0.3079200979422798,0.3079200979422798,0.3079200979422798,0.3079200979422798,0.3079200979422798,0.3079200979422798,0.3079200979422798,0.3079200979422798,0.3079200979422798,0.3079200979422798,0.3079200979422798,0.3079200979422798,0.3079200979422798,0.3079200979422798,0.3079200979422798,0.3079200979422798,0.3079200979422798,0.3079200979422798,0.3079200979422798,0.3079200979422798,0.3079200979422798,0.3079200979422798,0.3079200979422798,0.3079200979422798,0.3079200979422798,0.3079200979422798,0.3079200979422798,0.3079200979422798,0.3079200979422798,0.3079200979422798,0.3079200979422798,0.3079200979422798,0.3079200979422798,0.3079200979422798],\"yaxis\":\"y2\",\"type\":\"scatter\",\"opacity\":1},{\"customdata\":[[\"</br>id: observation</br>prediction: 0.308</br>lead_time: 203.0</br></br>arrival_date_year: 2016.0</br>adults: 2.0</br>children: 0.0</br>babies: 0.0</br>booking_changes: 4.0</br>_original_yhat_: 0.3079200979422798</br>\"]],\"hovertemplate\":\"%{customdata[0]}<extra></extra>\",\"legendgroup\":\"\",\"marker\":{\"color\":\"#371ea3\",\"size\":10,\"symbol\":\"circle\"},\"mode\":\"markers\",\"name\":\"\",\"opacity\":1,\"orientation\":\"v\",\"showlegend\":false,\"x\":[203.0],\"xaxis\":\"x3\",\"y\":[0.3079200979422798],\"yaxis\":\"y3\",\"type\":\"scatter\"},{\"customdata\":[[\"</br>id: observation</br>prediction: 0.308</br>children: 0.0</br></br>lead_time: 203.0</br>arrival_date_year: 2016.0</br>adults: 2.0</br>babies: 0.0</br>booking_changes: 4.0</br>_original_yhat_: 0.3079200979422798</br>\"]],\"hovertemplate\":\"%{customdata[0]}<extra></extra>\",\"legendgroup\":\"\",\"marker\":{\"color\":\"#371ea3\",\"size\":10,\"symbol\":\"circle\"},\"mode\":\"markers\",\"name\":\"\",\"opacity\":1,\"orientation\":\"v\",\"showlegend\":false,\"x\":[0.0],\"xaxis\":\"x4\",\"y\":[0.3079200979422798],\"yaxis\":\"y4\",\"type\":\"scatter\"},{\"customdata\":[[\"</br>id: observation</br>prediction: 0.308</br>babies: 0.0</br></br>lead_time: 203.0</br>arrival_date_year: 2016.0</br>adults: 2.0</br>children: 0.0</br>booking_changes: 4.0</br>_original_yhat_: 0.3079200979422798</br>\"]],\"hovertemplate\":\"%{customdata[0]}<extra></extra>\",\"legendgroup\":\"\",\"marker\":{\"color\":\"#371ea3\",\"size\":10,\"symbol\":\"circle\"},\"mode\":\"markers\",\"name\":\"\",\"opacity\":1,\"orientation\":\"v\",\"showlegend\":false,\"x\":[0.0],\"xaxis\":\"x\",\"y\":[0.3079200979422798],\"yaxis\":\"y\",\"type\":\"scatter\"},{\"customdata\":[[\"</br>id: observation</br>prediction: 0.308</br>booking_changes: 4.0</br></br>lead_time: 203.0</br>arrival_date_year: 2016.0</br>adults: 2.0</br>children: 0.0</br>babies: 0.0</br>_original_yhat_: 0.3079200979422798</br>\"]],\"hovertemplate\":\"%{customdata[0]}<extra></extra>\",\"legendgroup\":\"\",\"marker\":{\"color\":\"#371ea3\",\"size\":10,\"symbol\":\"circle\"},\"mode\":\"markers\",\"name\":\"\",\"opacity\":1,\"orientation\":\"v\",\"showlegend\":false,\"x\":[4.0],\"xaxis\":\"x2\",\"y\":[0.3079200979422798],\"yaxis\":\"y2\",\"type\":\"scatter\"}],                        {\"template\":{\"data\":{\"scatter\":[{\"type\":\"scatter\"}]}},\"xaxis\":{\"anchor\":\"y\",\"domain\":[0.0,0.475],\"title\":{\"text\":\"\"},\"showticklabels\":true,\"type\":\"linear\",\"gridwidth\":2,\"zeroline\":false,\"automargin\":true,\"ticks\":\"outside\",\"tickcolor\":\"white\",\"ticklen\":3,\"fixedrange\":true},\"yaxis\":{\"anchor\":\"x\",\"domain\":[0.0,0.425],\"title\":{\"text\":\"\"},\"type\":\"linear\",\"gridwidth\":2,\"zeroline\":false,\"automargin\":true,\"ticks\":\"outside\",\"tickcolor\":\"white\",\"ticklen\":3,\"fixedrange\":true,\"range\":[0.1630561388108606,0.4536508482941794]},\"xaxis2\":{\"anchor\":\"y2\",\"domain\":[0.525,1.0],\"title\":{\"text\":\"\"},\"showticklabels\":true,\"type\":\"linear\",\"gridwidth\":2,\"zeroline\":false,\"automargin\":true,\"ticks\":\"outside\",\"tickcolor\":\"white\",\"ticklen\":3,\"fixedrange\":true},\"yaxis2\":{\"anchor\":\"x2\",\"domain\":[0.0,0.425],\"matches\":\"y\",\"showticklabels\":false,\"type\":\"linear\",\"gridwidth\":2,\"zeroline\":false,\"automargin\":true,\"ticks\":\"outside\",\"tickcolor\":\"white\",\"ticklen\":3,\"fixedrange\":true,\"range\":[0.1630561388108606,0.4536508482941794],\"title\":{\"text\":\"\"}},\"xaxis3\":{\"anchor\":\"y3\",\"domain\":[0.0,0.475],\"showticklabels\":true,\"type\":\"linear\",\"gridwidth\":2,\"zeroline\":false,\"automargin\":true,\"ticks\":\"outside\",\"tickcolor\":\"white\",\"ticklen\":3,\"fixedrange\":true,\"title\":{\"text\":\"\"}},\"yaxis3\":{\"anchor\":\"x3\",\"domain\":[0.575,1.0],\"matches\":\"y\",\"title\":{\"text\":\"\"},\"type\":\"linear\",\"gridwidth\":2,\"zeroline\":false,\"automargin\":true,\"ticks\":\"outside\",\"tickcolor\":\"white\",\"ticklen\":3,\"fixedrange\":true,\"range\":[0.1630561388108606,0.4536508482941794]},\"xaxis4\":{\"anchor\":\"y4\",\"domain\":[0.525,1.0],\"showticklabels\":true,\"type\":\"linear\",\"gridwidth\":2,\"zeroline\":false,\"automargin\":true,\"ticks\":\"outside\",\"tickcolor\":\"white\",\"ticklen\":3,\"fixedrange\":true,\"title\":{\"text\":\"\"}},\"yaxis4\":{\"anchor\":\"x4\",\"domain\":[0.575,1.0],\"matches\":\"y\",\"showticklabels\":false,\"type\":\"linear\",\"gridwidth\":2,\"zeroline\":false,\"automargin\":true,\"ticks\":\"outside\",\"tickcolor\":\"white\",\"ticklen\":3,\"fixedrange\":true,\"range\":[0.1630561388108606,0.4536508482941794],\"title\":{\"text\":\"\"}},\"annotations\":[{\"font\":{\"size\":13},\"showarrow\":false,\"text\":\"babies\",\"x\":0.2375,\"xanchor\":\"center\",\"xref\":\"paper\",\"y\":0.425,\"yanchor\":\"bottom\",\"yref\":\"paper\"},{\"font\":{\"size\":13},\"showarrow\":false,\"text\":\"booking_changes\",\"x\":0.7625,\"xanchor\":\"center\",\"xref\":\"paper\",\"y\":0.425,\"yanchor\":\"bottom\",\"yref\":\"paper\"},{\"font\":{\"size\":13},\"showarrow\":false,\"text\":\"lead_time\",\"x\":0.2375,\"xanchor\":\"center\",\"xref\":\"paper\",\"y\":1.0,\"yanchor\":\"bottom\",\"yref\":\"paper\"},{\"font\":{\"size\":13},\"showarrow\":false,\"text\":\"children\",\"x\":0.7625,\"xanchor\":\"center\",\"xref\":\"paper\",\"y\":1.0,\"yanchor\":\"bottom\",\"yref\":\"paper\"},{\"font\":{\"size\":13},\"showarrow\":false,\"text\":\"prediction\",\"textangle\":-90,\"x\":-0.07,\"xref\":\"paper\",\"y\":0.5,\"yref\":\"paper\"}],\"legend\":{\"title\":{\"text\":\"label\",\"font\":{\"size\":12}},\"tracegroupgap\":0,\"font\":{\"size\":11},\"orientation\":\"h\",\"yanchor\":\"bottom\",\"y\":1.0361881785283473,\"xanchor\":\"right\",\"x\":1,\"itemsizing\":\"constant\"},\"margin\":{\"t\":78,\"b\":71,\"r\":30},\"font\":{\"color\":\"#371ea3\"},\"title\":{\"font\":{\"size\":16},\"text\":\"Ceteris Paribus Profiles\",\"x\":0.15},\"hovermode\":\"closest\",\"height\":829,\"hoverlabel\":{\"bgcolor\":\"rgba(0,0,0,0.8)\"}},                        {\"displaylogo\": false, \"staticPlot\": false, \"toImageButtonOptions\": {\"height\": null, \"width\": null}, \"modeBarButtonsToRemove\": [\"sendDataToCloud\", \"lasso2d\", \"autoScale2d\", \"select2d\", \"zoom2d\", \"pan2d\", \"zoomIn2d\", \"zoomOut2d\", \"resetScale2d\", \"toggleSpikelines\", \"hoverCompareCartesian\", \"hoverClosestCartesian\"], \"responsive\": true}                    ).then(function(){\n",
       "                            \n",
       "var gd = document.getElementById('c98c6e5b-c53d-42d4-a57a-28f03708b45c');\n",
       "var x = new MutationObserver(function (mutations, observer) {{\n",
       "        var display = window.getComputedStyle(gd).display;\n",
       "        if (!display || display === 'none') {{\n",
       "            console.log([gd, 'removed!']);\n",
       "            Plotly.purge(gd);\n",
       "            observer.disconnect();\n",
       "        }}\n",
       "}});\n",
       "\n",
       "// Listen for the removal of the full notebook cells\n",
       "var notebookContainer = gd.closest('#notebook-container');\n",
       "if (notebookContainer) {{\n",
       "    x.observe(notebookContainer, {childList: true});\n",
       "}}\n",
       "\n",
       "// Listen for the clearing of the current output cell\n",
       "var outputEl = gd.closest('.output');\n",
       "if (outputEl) {{\n",
       "    x.observe(outputEl, {childList: true});\n",
       "}}\n",
       "\n",
       "                        })                };                });            </script>        </div>"
      ]
     },
     "metadata": {},
     "output_type": "display_data"
    }
   ],
   "source": [
    "adaboost_profile = exp_adaboost.predict_profile(new_observation = observation)\n",
    "\n",
    "# plot Ceteris Paribus profile\n",
    "adaboost_profile.plot(variables = ['lead_time', 'children', 'babies', 'booking_changes'])"
   ]
  },
  {
   "cell_type": "markdown",
   "id": "b499382b",
   "metadata": {},
   "source": [
    "## Summary"
   ]
  }
 ],
 "metadata": {
  "kernelspec": {
   "display_name": "Python 3",
   "language": "python",
   "name": "python3"
  },
  "language_info": {
   "codemirror_mode": {
    "name": "ipython",
    "version": 3
   },
   "file_extension": ".py",
   "mimetype": "text/x-python",
   "name": "python",
   "nbconvert_exporter": "python",
   "pygments_lexer": "ipython3",
   "version": "3.8.5"
  }
 },
 "nbformat": 4,
 "nbformat_minor": 5
}
