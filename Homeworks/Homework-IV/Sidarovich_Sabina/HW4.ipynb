{
 "cells":[
  {
   "cell_type":"code",
   "source":[
    "import warnings\n",
    "\n",
    "import matplotlib.pyplot as plt\n",
    "import pandas as pd\n",
    "import seaborn as sns\n",
    "from sklearn.ensemble import RandomForestClassifier, GradientBoostingClassifier\n",
    "from sklearn.model_selection import train_test_split\n",
    "\n",
    "warnings.filterwarnings(\"ignore\")"
   ],
   "execution_count":2,
   "outputs":[
    
   ],
   "metadata":{
    "datalore":{
     "type":"CODE",
     "hide_input_from_viewers":false,
     "hide_output_from_viewers":false
    }
   }
  },
  {
   "cell_type":"code",
   "source":[
    "df = pd.read_csv('hotel_bookings.csv')\n",
    "df.head(5)"
   ],
   "execution_count":3,
   "outputs":[
    {
     "data":{
      "text\/html":[
       "<div>\n",
       "<style scoped>\n",
       "    .dataframe tbody tr th:only-of-type {\n",
       "        vertical-align: middle;\n",
       "    }\n",
       "\n",
       "    .dataframe tbody tr th {\n",
       "        vertical-align: top;\n",
       "    }\n",
       "\n",
       "    .dataframe thead th {\n",
       "        text-align: right;\n",
       "    }\n",
       "<\/style>\n",
       "<table border=\"1\" class=\"dataframe\">\n",
       "  <thead>\n",
       "    <tr style=\"text-align: right;\">\n",
       "      <th><\/th>\n",
       "      <th>hotel<\/th>\n",
       "      <th>is_canceled<\/th>\n",
       "      <th>lead_time<\/th>\n",
       "      <th>arrival_date_year<\/th>\n",
       "      <th>arrival_date_month<\/th>\n",
       "      <th>arrival_date_week_number<\/th>\n",
       "      <th>arrival_date_day_of_month<\/th>\n",
       "      <th>stays_in_weekend_nights<\/th>\n",
       "      <th>stays_in_week_nights<\/th>\n",
       "      <th>adults<\/th>\n",
       "      <th>...<\/th>\n",
       "      <th>deposit_type<\/th>\n",
       "      <th>agent<\/th>\n",
       "      <th>company<\/th>\n",
       "      <th>days_in_waiting_list<\/th>\n",
       "      <th>customer_type<\/th>\n",
       "      <th>adr<\/th>\n",
       "      <th>required_car_parking_spaces<\/th>\n",
       "      <th>total_of_special_requests<\/th>\n",
       "      <th>reservation_status<\/th>\n",
       "      <th>reservation_status_date<\/th>\n",
       "    <\/tr>\n",
       "  <\/thead>\n",
       "  <tbody>\n",
       "    <tr>\n",
       "      <th>0<\/th>\n",
       "      <td>Resort Hotel<\/td>\n",
       "      <td>0<\/td>\n",
       "      <td>342<\/td>\n",
       "      <td>2015<\/td>\n",
       "      <td>July<\/td>\n",
       "      <td>27<\/td>\n",
       "      <td>1<\/td>\n",
       "      <td>0<\/td>\n",
       "      <td>0<\/td>\n",
       "      <td>2<\/td>\n",
       "      <td>...<\/td>\n",
       "      <td>No Deposit<\/td>\n",
       "      <td>NaN<\/td>\n",
       "      <td>NaN<\/td>\n",
       "      <td>0<\/td>\n",
       "      <td>Transient<\/td>\n",
       "      <td>0.0<\/td>\n",
       "      <td>0<\/td>\n",
       "      <td>0<\/td>\n",
       "      <td>Check-Out<\/td>\n",
       "      <td>2015-07-01<\/td>\n",
       "    <\/tr>\n",
       "    <tr>\n",
       "      <th>1<\/th>\n",
       "      <td>Resort Hotel<\/td>\n",
       "      <td>0<\/td>\n",
       "      <td>737<\/td>\n",
       "      <td>2015<\/td>\n",
       "      <td>July<\/td>\n",
       "      <td>27<\/td>\n",
       "      <td>1<\/td>\n",
       "      <td>0<\/td>\n",
       "      <td>0<\/td>\n",
       "      <td>2<\/td>\n",
       "      <td>...<\/td>\n",
       "      <td>No Deposit<\/td>\n",
       "      <td>NaN<\/td>\n",
       "      <td>NaN<\/td>\n",
       "      <td>0<\/td>\n",
       "      <td>Transient<\/td>\n",
       "      <td>0.0<\/td>\n",
       "      <td>0<\/td>\n",
       "      <td>0<\/td>\n",
       "      <td>Check-Out<\/td>\n",
       "      <td>2015-07-01<\/td>\n",
       "    <\/tr>\n",
       "    <tr>\n",
       "      <th>2<\/th>\n",
       "      <td>Resort Hotel<\/td>\n",
       "      <td>0<\/td>\n",
       "      <td>7<\/td>\n",
       "      <td>2015<\/td>\n",
       "      <td>July<\/td>\n",
       "      <td>27<\/td>\n",
       "      <td>1<\/td>\n",
       "      <td>0<\/td>\n",
       "      <td>1<\/td>\n",
       "      <td>1<\/td>\n",
       "      <td>...<\/td>\n",
       "      <td>No Deposit<\/td>\n",
       "      <td>NaN<\/td>\n",
       "      <td>NaN<\/td>\n",
       "      <td>0<\/td>\n",
       "      <td>Transient<\/td>\n",
       "      <td>75.0<\/td>\n",
       "      <td>0<\/td>\n",
       "      <td>0<\/td>\n",
       "      <td>Check-Out<\/td>\n",
       "      <td>2015-07-02<\/td>\n",
       "    <\/tr>\n",
       "    <tr>\n",
       "      <th>3<\/th>\n",
       "      <td>Resort Hotel<\/td>\n",
       "      <td>0<\/td>\n",
       "      <td>13<\/td>\n",
       "      <td>2015<\/td>\n",
       "      <td>July<\/td>\n",
       "      <td>27<\/td>\n",
       "      <td>1<\/td>\n",
       "      <td>0<\/td>\n",
       "      <td>1<\/td>\n",
       "      <td>1<\/td>\n",
       "      <td>...<\/td>\n",
       "      <td>No Deposit<\/td>\n",
       "      <td>304.0<\/td>\n",
       "      <td>NaN<\/td>\n",
       "      <td>0<\/td>\n",
       "      <td>Transient<\/td>\n",
       "      <td>75.0<\/td>\n",
       "      <td>0<\/td>\n",
       "      <td>0<\/td>\n",
       "      <td>Check-Out<\/td>\n",
       "      <td>2015-07-02<\/td>\n",
       "    <\/tr>\n",
       "    <tr>\n",
       "      <th>4<\/th>\n",
       "      <td>Resort Hotel<\/td>\n",
       "      <td>0<\/td>\n",
       "      <td>14<\/td>\n",
       "      <td>2015<\/td>\n",
       "      <td>July<\/td>\n",
       "      <td>27<\/td>\n",
       "      <td>1<\/td>\n",
       "      <td>0<\/td>\n",
       "      <td>2<\/td>\n",
       "      <td>2<\/td>\n",
       "      <td>...<\/td>\n",
       "      <td>No Deposit<\/td>\n",
       "      <td>240.0<\/td>\n",
       "      <td>NaN<\/td>\n",
       "      <td>0<\/td>\n",
       "      <td>Transient<\/td>\n",
       "      <td>98.0<\/td>\n",
       "      <td>0<\/td>\n",
       "      <td>1<\/td>\n",
       "      <td>Check-Out<\/td>\n",
       "      <td>2015-07-03<\/td>\n",
       "    <\/tr>\n",
       "  <\/tbody>\n",
       "<\/table>\n",
       "<p>5 rows × 32 columns<\/p>\n",
       "<\/div>"
      ]
     },
     "metadata":{
      
     },
     "output_type":"display_data"
    }
   ],
   "metadata":{
    "datalore":{
     "type":"CODE",
     "hide_input_from_viewers":false,
     "hide_output_from_viewers":false
    }
   }
  },
  {
   "cell_type":"code",
   "source":[
    "df.info()"
   ],
   "execution_count":3,
   "outputs":[
    {
     "name":"stdout",
     "text":[
      "<class 'pandas.core.frame.DataFrame'>\n",
      "RangeIndex: 119390 entries, 0 to 119389\n",
      "Data columns (total 32 columns):\n",
      " #   Column                          Non-Null Count   Dtype  \n",
      "---  ------                          --------------   -----  \n",
      " 0   hotel                           119390 non-null  object \n",
      " 1   is_canceled                     119390 non-null  int64  \n",
      " 2   lead_time                       119390 non-null  int64  \n",
      " 3   arrival_date_year               119390 non-null  int64  \n",
      " 4   arrival_date_month              119390 non-null  object \n",
      " 5   arrival_date_week_number        119390 non-null  int64  \n",
      " 6   arrival_date_day_of_month       119390 non-null  int64  \n",
      " 7   stays_in_weekend_nights         119390 non-null  int64  \n",
      " 8   stays_in_week_nights            119390 non-null  int64  \n",
      " 9   adults                          119390 non-null  int64  \n",
      " 10  children                        119386 non-null  float64\n",
      " 11  babies                          119390 non-null  int64  \n",
      " 12  meal                            119390 non-null  object \n",
      " 13  country                         118902 non-null  object \n",
      " 14  market_segment                  119390 non-null  object \n",
      " 15  distribution_channel            119390 non-null  object \n",
      " 16  is_repeated_guest               119390 non-null  int64  \n",
      " 17  previous_cancellations          119390 non-null  int64  \n",
      " 18  previous_bookings_not_canceled  119390 non-null  int64  \n",
      " 19  reserved_room_type              119390 non-null  object \n",
      " 20  assigned_room_type              119390 non-null  object \n",
      " 21  booking_changes                 119390 non-null  int64  \n",
      " 22  deposit_type                    119390 non-null  object \n",
      " 23  agent                           103050 non-null  float64\n",
      " 24  company                         6797 non-null    float64\n",
      " 25  days_in_waiting_list            119390 non-null  int64  \n",
      " 26  customer_type                   119390 non-null  object \n",
      " 27  adr                             119390 non-null  float64\n",
      " 28  required_car_parking_spaces     119390 non-null  int64  \n",
      " 29  total_of_special_requests       119390 non-null  int64  \n",
      " 30  reservation_status              119390 non-null  object \n",
      " 31  reservation_status_date         119390 non-null  object \n",
      "dtypes: float64(4), int64(16), object(12)\n",
      "memory usage: 29.1+ MB\n"
     ],
     "output_type":"stream"
    }
   ],
   "metadata":{
    "datalore":{
     "type":"CODE",
     "hide_input_from_viewers":false,
     "hide_output_from_viewers":false
    }
   }
  },
  {
   "cell_type":"code",
   "source":[
    "df.isnull().sum().sort_values(ascending=False)"
   ],
   "execution_count":4,
   "outputs":[
    {
     "data":{
      "text\/html":[
       
      ]
     },
     "metadata":{
      
     },
     "output_type":"display_data"
    }
   ],
   "metadata":{
    "datalore":{
     "type":"CODE",
     "hide_input_from_viewers":false,
     "hide_output_from_viewers":false
    }
   }
  },
  {
   "cell_type":"code",
   "source":[
    "df.describe()"
   ],
   "execution_count":5,
   "outputs":[
    {
     "data":{
      "text\/html":[
       "<div>\n",
       "<style scoped>\n",
       "    .dataframe tbody tr th:only-of-type {\n",
       "        vertical-align: middle;\n",
       "    }\n",
       "\n",
       "    .dataframe tbody tr th {\n",
       "        vertical-align: top;\n",
       "    }\n",
       "\n",
       "    .dataframe thead th {\n",
       "        text-align: right;\n",
       "    }\n",
       "<\/style>\n",
       "<table border=\"1\" class=\"dataframe\">\n",
       "  <thead>\n",
       "    <tr style=\"text-align: right;\">\n",
       "      <th><\/th>\n",
       "      <th>is_canceled<\/th>\n",
       "      <th>lead_time<\/th>\n",
       "      <th>arrival_date_year<\/th>\n",
       "      <th>arrival_date_week_number<\/th>\n",
       "      <th>arrival_date_day_of_month<\/th>\n",
       "      <th>stays_in_weekend_nights<\/th>\n",
       "      <th>stays_in_week_nights<\/th>\n",
       "      <th>adults<\/th>\n",
       "      <th>children<\/th>\n",
       "      <th>babies<\/th>\n",
       "      <th>is_repeated_guest<\/th>\n",
       "      <th>previous_cancellations<\/th>\n",
       "      <th>previous_bookings_not_canceled<\/th>\n",
       "      <th>booking_changes<\/th>\n",
       "      <th>agent<\/th>\n",
       "      <th>company<\/th>\n",
       "      <th>days_in_waiting_list<\/th>\n",
       "      <th>adr<\/th>\n",
       "      <th>required_car_parking_spaces<\/th>\n",
       "      <th>total_of_special_requests<\/th>\n",
       "    <\/tr>\n",
       "  <\/thead>\n",
       "  <tbody>\n",
       "    <tr>\n",
       "      <th>count<\/th>\n",
       "      <td>119390.000000<\/td>\n",
       "      <td>119390.000000<\/td>\n",
       "      <td>119390.000000<\/td>\n",
       "      <td>119390.000000<\/td>\n",
       "      <td>119390.000000<\/td>\n",
       "      <td>119390.000000<\/td>\n",
       "      <td>119390.000000<\/td>\n",
       "      <td>119390.000000<\/td>\n",
       "      <td>119386.000000<\/td>\n",
       "      <td>119390.000000<\/td>\n",
       "      <td>119390.000000<\/td>\n",
       "      <td>119390.000000<\/td>\n",
       "      <td>119390.000000<\/td>\n",
       "      <td>119390.000000<\/td>\n",
       "      <td>103050.000000<\/td>\n",
       "      <td>6797.000000<\/td>\n",
       "      <td>119390.000000<\/td>\n",
       "      <td>119390.000000<\/td>\n",
       "      <td>119390.000000<\/td>\n",
       "      <td>119390.000000<\/td>\n",
       "    <\/tr>\n",
       "    <tr>\n",
       "      <th>mean<\/th>\n",
       "      <td>0.370416<\/td>\n",
       "      <td>104.011416<\/td>\n",
       "      <td>2016.156554<\/td>\n",
       "      <td>27.165173<\/td>\n",
       "      <td>15.798241<\/td>\n",
       "      <td>0.927599<\/td>\n",
       "      <td>2.500302<\/td>\n",
       "      <td>1.856403<\/td>\n",
       "      <td>0.103890<\/td>\n",
       "      <td>0.007949<\/td>\n",
       "      <td>0.031912<\/td>\n",
       "      <td>0.087118<\/td>\n",
       "      <td>0.137097<\/td>\n",
       "      <td>0.221124<\/td>\n",
       "      <td>86.693382<\/td>\n",
       "      <td>189.266735<\/td>\n",
       "      <td>2.321149<\/td>\n",
       "      <td>101.831122<\/td>\n",
       "      <td>0.062518<\/td>\n",
       "      <td>0.571363<\/td>\n",
       "    <\/tr>\n",
       "    <tr>\n",
       "      <th>std<\/th>\n",
       "      <td>0.482918<\/td>\n",
       "      <td>106.863097<\/td>\n",
       "      <td>0.707476<\/td>\n",
       "      <td>13.605138<\/td>\n",
       "      <td>8.780829<\/td>\n",
       "      <td>0.998613<\/td>\n",
       "      <td>1.908286<\/td>\n",
       "      <td>0.579261<\/td>\n",
       "      <td>0.398561<\/td>\n",
       "      <td>0.097436<\/td>\n",
       "      <td>0.175767<\/td>\n",
       "      <td>0.844336<\/td>\n",
       "      <td>1.497437<\/td>\n",
       "      <td>0.652306<\/td>\n",
       "      <td>110.774548<\/td>\n",
       "      <td>131.655015<\/td>\n",
       "      <td>17.594721<\/td>\n",
       "      <td>50.535790<\/td>\n",
       "      <td>0.245291<\/td>\n",
       "      <td>0.792798<\/td>\n",
       "    <\/tr>\n",
       "    <tr>\n",
       "      <th>min<\/th>\n",
       "      <td>0.000000<\/td>\n",
       "      <td>0.000000<\/td>\n",
       "      <td>2015.000000<\/td>\n",
       "      <td>1.000000<\/td>\n",
       "      <td>1.000000<\/td>\n",
       "      <td>0.000000<\/td>\n",
       "      <td>0.000000<\/td>\n",
       "      <td>0.000000<\/td>\n",
       "      <td>0.000000<\/td>\n",
       "      <td>0.000000<\/td>\n",
       "      <td>0.000000<\/td>\n",
       "      <td>0.000000<\/td>\n",
       "      <td>0.000000<\/td>\n",
       "      <td>0.000000<\/td>\n",
       "      <td>1.000000<\/td>\n",
       "      <td>6.000000<\/td>\n",
       "      <td>0.000000<\/td>\n",
       "      <td>-6.380000<\/td>\n",
       "      <td>0.000000<\/td>\n",
       "      <td>0.000000<\/td>\n",
       "    <\/tr>\n",
       "    <tr>\n",
       "      <th>25%<\/th>\n",
       "      <td>0.000000<\/td>\n",
       "      <td>18.000000<\/td>\n",
       "      <td>2016.000000<\/td>\n",
       "      <td>16.000000<\/td>\n",
       "      <td>8.000000<\/td>\n",
       "      <td>0.000000<\/td>\n",
       "      <td>1.000000<\/td>\n",
       "      <td>2.000000<\/td>\n",
       "      <td>0.000000<\/td>\n",
       "      <td>0.000000<\/td>\n",
       "      <td>0.000000<\/td>\n",
       "      <td>0.000000<\/td>\n",
       "      <td>0.000000<\/td>\n",
       "      <td>0.000000<\/td>\n",
       "      <td>9.000000<\/td>\n",
       "      <td>62.000000<\/td>\n",
       "      <td>0.000000<\/td>\n",
       "      <td>69.290000<\/td>\n",
       "      <td>0.000000<\/td>\n",
       "      <td>0.000000<\/td>\n",
       "    <\/tr>\n",
       "    <tr>\n",
       "      <th>50%<\/th>\n",
       "      <td>0.000000<\/td>\n",
       "      <td>69.000000<\/td>\n",
       "      <td>2016.000000<\/td>\n",
       "      <td>28.000000<\/td>\n",
       "      <td>16.000000<\/td>\n",
       "      <td>1.000000<\/td>\n",
       "      <td>2.000000<\/td>\n",
       "      <td>2.000000<\/td>\n",
       "      <td>0.000000<\/td>\n",
       "      <td>0.000000<\/td>\n",
       "      <td>0.000000<\/td>\n",
       "      <td>0.000000<\/td>\n",
       "      <td>0.000000<\/td>\n",
       "      <td>0.000000<\/td>\n",
       "      <td>14.000000<\/td>\n",
       "      <td>179.000000<\/td>\n",
       "      <td>0.000000<\/td>\n",
       "      <td>94.575000<\/td>\n",
       "      <td>0.000000<\/td>\n",
       "      <td>0.000000<\/td>\n",
       "    <\/tr>\n",
       "    <tr>\n",
       "      <th>75%<\/th>\n",
       "      <td>1.000000<\/td>\n",
       "      <td>160.000000<\/td>\n",
       "      <td>2017.000000<\/td>\n",
       "      <td>38.000000<\/td>\n",
       "      <td>23.000000<\/td>\n",
       "      <td>2.000000<\/td>\n",
       "      <td>3.000000<\/td>\n",
       "      <td>2.000000<\/td>\n",
       "      <td>0.000000<\/td>\n",
       "      <td>0.000000<\/td>\n",
       "      <td>0.000000<\/td>\n",
       "      <td>0.000000<\/td>\n",
       "      <td>0.000000<\/td>\n",
       "      <td>0.000000<\/td>\n",
       "      <td>229.000000<\/td>\n",
       "      <td>270.000000<\/td>\n",
       "      <td>0.000000<\/td>\n",
       "      <td>126.000000<\/td>\n",
       "      <td>0.000000<\/td>\n",
       "      <td>1.000000<\/td>\n",
       "    <\/tr>\n",
       "    <tr>\n",
       "      <th>max<\/th>\n",
       "      <td>1.000000<\/td>\n",
       "      <td>737.000000<\/td>\n",
       "      <td>2017.000000<\/td>\n",
       "      <td>53.000000<\/td>\n",
       "      <td>31.000000<\/td>\n",
       "      <td>19.000000<\/td>\n",
       "      <td>50.000000<\/td>\n",
       "      <td>55.000000<\/td>\n",
       "      <td>10.000000<\/td>\n",
       "      <td>10.000000<\/td>\n",
       "      <td>1.000000<\/td>\n",
       "      <td>26.000000<\/td>\n",
       "      <td>72.000000<\/td>\n",
       "      <td>21.000000<\/td>\n",
       "      <td>535.000000<\/td>\n",
       "      <td>543.000000<\/td>\n",
       "      <td>391.000000<\/td>\n",
       "      <td>5400.000000<\/td>\n",
       "      <td>8.000000<\/td>\n",
       "      <td>5.000000<\/td>\n",
       "    <\/tr>\n",
       "  <\/tbody>\n",
       "<\/table>\n",
       "<\/div>"
      ]
     },
     "metadata":{
      
     },
     "output_type":"display_data"
    }
   ],
   "metadata":{
    "datalore":{
     "type":"CODE",
     "hide_input_from_viewers":false,
     "hide_output_from_viewers":false
    }
   }
  },
  {
   "cell_type":"code",
   "source":[
    "df.hist(figsize=(20,14))\n",
    "plt.show()"
   ],
   "execution_count":6,
   "outputs":[
    {
     "data":{
      "image\/png":"[encoded data removed]"
     },
     "metadata":{
      "image\/png":{
       
      }
     },
     "output_type":"display_data"
    }
   ],
   "metadata":{
    "datalore":{
     "type":"CODE",
     "hide_input_from_viewers":false,
     "hide_output_from_viewers":false
    }
   }
  },
  {
   "cell_type":"code",
   "source":[
    "nan_replacements = {\"country\": \"Unknown\", \"agent\": 0, \"company\": 0}\n",
    "df = df.fillna(nan_replacements)\n",
    "df[\"meal\"].replace(\"Undefined\", \"SC\", inplace=True)\n",
    "nan_value = float(\"NaN\")\n",
    "df.replace(nan_value, 0.0,  inplace=True)\n",
    "\n",
    "# Some rows contain entreis with 0 adults, 0 children and 0 babies. \n",
    "zero_guests = list(df.loc[df[\"adults\"]\n",
    "                   + df[\"children\"]\n",
    "                   + df[\"babies\"]==0].index)\n",
    "df.drop(df.index[zero_guests], inplace=True)\n",
    "df.drop_duplicates(inplace=True)"
   ],
   "execution_count":7,
   "outputs":[
    
   ],
   "metadata":{
    "datalore":{
     "type":"CODE",
     "hide_input_from_viewers":false,
     "hide_output_from_viewers":false
    }
   }
  },
  {
   "cell_type":"code",
   "source":[
    "plt.figure(figsize = (16,16))\n",
    "ax=sns.heatmap(df.corr(), annot=True)\n",
    "plt.show()"
   ],
   "execution_count":8,
   "outputs":[
    {
     "data":{
      "image\/png":"[encoded data removed]"
     },
     "metadata":{
      "image\/png":{
       
      }
     },
     "output_type":"display_data"
    }
   ],
   "metadata":{
    "datalore":{
     "type":"CODE",
     "hide_input_from_viewers":false,
     "hide_output_from_viewers":false
    }
   }
  },
  {
   "cell_type":"code",
   "source":[
    "target_correlation = df.corr()['is_canceled'].sort_values(ascending = False) #.abs()\n",
    "target_correlation"
   ],
   "execution_count":9,
   "outputs":[
    {
     "data":{
      "text\/html":[
       
      ]
     },
     "metadata":{
      
     },
     "output_type":"display_data"
    }
   ],
   "metadata":{
    "datalore":{
     "type":"CODE",
     "hide_input_from_viewers":false,
     "hide_output_from_viewers":false
    }
   }
  },
  {
   "cell_type":"code",
   "source":[
    "df = df.drop(['reservation_status_date', 'reservation_status'],axis=1)"
   ],
   "execution_count":10,
   "outputs":[
    
   ],
   "metadata":{
    "datalore":{
     "type":"CODE",
     "hide_input_from_viewers":false,
     "hide_output_from_viewers":false
    }
   }
  },
  {
   "cell_type":"code",
   "source":[
    "num_features = ['lead_time','arrival_date_year','arrival_date_week_number','stays_in_weekend_nights',\n",
    "               'stays_in_week_nights','adults','children','babies','is_repeated_guest','previous_cancellations',\n",
    "                'previous_bookings_not_canceled','booking_changes','days_in_waiting_list','adr','required_car_parking_spaces',\n",
    "                'total_of_special_requests']\n",
    "cat_features = ['hotel', 'arrival_date_month','meal','market_segment',\n",
    "                'distribution_channel','reserved_room_type','assigned_room_type','deposit_type','agent',\n",
    "                'company','customer_type']\n",
    "features = num_features + cat_features"
   ],
   "execution_count":11,
   "outputs":[
    
   ],
   "metadata":{
    "datalore":{
     "type":"CODE",
     "hide_input_from_viewers":false,
     "hide_output_from_viewers":false
    }
   }
  },
  {
   "cell_type":"code",
   "source":[
    "from sklearn import preprocessing\n",
    "le = preprocessing.LabelEncoder()\n",
    "cat_data = df[cat_features]\n",
    "for i in cat_data:\n",
    "    cat_data[i] = le.fit_transform(cat_data[i])\n",
    "cat_data"
   ],
   "execution_count":12,
   "outputs":[
    {
     "data":{
      "text\/html":[
       "<div>\n",
       "<style scoped>\n",
       "    .dataframe tbody tr th:only-of-type {\n",
       "        vertical-align: middle;\n",
       "    }\n",
       "\n",
       "    .dataframe tbody tr th {\n",
       "        vertical-align: top;\n",
       "    }\n",
       "\n",
       "    .dataframe thead th {\n",
       "        text-align: right;\n",
       "    }\n",
       "<\/style>\n",
       "<table border=\"1\" class=\"dataframe\">\n",
       "  <thead>\n",
       "    <tr style=\"text-align: right;\">\n",
       "      <th><\/th>\n",
       "      <th>hotel<\/th>\n",
       "      <th>arrival_date_month<\/th>\n",
       "      <th>meal<\/th>\n",
       "      <th>market_segment<\/th>\n",
       "      <th>distribution_channel<\/th>\n",
       "      <th>reserved_room_type<\/th>\n",
       "      <th>assigned_room_type<\/th>\n",
       "      <th>deposit_type<\/th>\n",
       "      <th>agent<\/th>\n",
       "      <th>company<\/th>\n",
       "      <th>customer_type<\/th>\n",
       "    <\/tr>\n",
       "  <\/thead>\n",
       "  <tbody>\n",
       "    <tr>\n",
       "      <th>0<\/th>\n",
       "      <td>1<\/td>\n",
       "      <td>5<\/td>\n",
       "      <td>0<\/td>\n",
       "      <td>3<\/td>\n",
       "      <td>1<\/td>\n",
       "      <td>2<\/td>\n",
       "      <td>2<\/td>\n",
       "      <td>0<\/td>\n",
       "      <td>0<\/td>\n",
       "      <td>0<\/td>\n",
       "      <td>2<\/td>\n",
       "    <\/tr>\n",
       "    <tr>\n",
       "      <th>1<\/th>\n",
       "      <td>1<\/td>\n",
       "      <td>5<\/td>\n",
       "      <td>0<\/td>\n",
       "      <td>3<\/td>\n",
       "      <td>1<\/td>\n",
       "      <td>2<\/td>\n",
       "      <td>2<\/td>\n",
       "      <td>0<\/td>\n",
       "      <td>0<\/td>\n",
       "      <td>0<\/td>\n",
       "      <td>2<\/td>\n",
       "    <\/tr>\n",
       "    <tr>\n",
       "      <th>2<\/th>\n",
       "      <td>1<\/td>\n",
       "      <td>5<\/td>\n",
       "      <td>0<\/td>\n",
       "      <td>3<\/td>\n",
       "      <td>1<\/td>\n",
       "      <td>0<\/td>\n",
       "      <td>2<\/td>\n",
       "      <td>0<\/td>\n",
       "      <td>0<\/td>\n",
       "      <td>0<\/td>\n",
       "      <td>2<\/td>\n",
       "    <\/tr>\n",
       "    <tr>\n",
       "      <th>3<\/th>\n",
       "      <td>1<\/td>\n",
       "      <td>5<\/td>\n",
       "      <td>0<\/td>\n",
       "      <td>2<\/td>\n",
       "      <td>0<\/td>\n",
       "      <td>0<\/td>\n",
       "      <td>0<\/td>\n",
       "      <td>0<\/td>\n",
       "      <td>221<\/td>\n",
       "      <td>0<\/td>\n",
       "      <td>2<\/td>\n",
       "    <\/tr>\n",
       "    <tr>\n",
       "      <th>4<\/th>\n",
       "      <td>1<\/td>\n",
       "      <td>5<\/td>\n",
       "      <td>0<\/td>\n",
       "      <td>6<\/td>\n",
       "      <td>3<\/td>\n",
       "      <td>0<\/td>\n",
       "      <td>0<\/td>\n",
       "      <td>0<\/td>\n",
       "      <td>174<\/td>\n",
       "      <td>0<\/td>\n",
       "      <td>2<\/td>\n",
       "    <\/tr>\n",
       "    <tr>\n",
       "      <th>...<\/th>\n",
       "      <td>...<\/td>\n",
       "      <td>...<\/td>\n",
       "      <td>...<\/td>\n",
       "      <td>...<\/td>\n",
       "      <td>...<\/td>\n",
       "      <td>...<\/td>\n",
       "      <td>...<\/td>\n",
       "      <td>...<\/td>\n",
       "      <td>...<\/td>\n",
       "      <td>...<\/td>\n",
       "      <td>...<\/td>\n",
       "    <\/tr>\n",
       "    <tr>\n",
       "      <th>119385<\/th>\n",
       "      <td>0<\/td>\n",
       "      <td>1<\/td>\n",
       "      <td>0<\/td>\n",
       "      <td>5<\/td>\n",
       "      <td>3<\/td>\n",
       "      <td>0<\/td>\n",
       "      <td>0<\/td>\n",
       "      <td>0<\/td>\n",
       "      <td>272<\/td>\n",
       "      <td>0<\/td>\n",
       "      <td>2<\/td>\n",
       "    <\/tr>\n",
       "    <tr>\n",
       "      <th>119386<\/th>\n",
       "      <td>0<\/td>\n",
       "      <td>1<\/td>\n",
       "      <td>0<\/td>\n",
       "      <td>6<\/td>\n",
       "      <td>3<\/td>\n",
       "      <td>4<\/td>\n",
       "      <td>4<\/td>\n",
       "      <td>0<\/td>\n",
       "      <td>9<\/td>\n",
       "      <td>0<\/td>\n",
       "      <td>2<\/td>\n",
       "    <\/tr>\n",
       "    <tr>\n",
       "      <th>119387<\/th>\n",
       "      <td>0<\/td>\n",
       "      <td>1<\/td>\n",
       "      <td>0<\/td>\n",
       "      <td>6<\/td>\n",
       "      <td>3<\/td>\n",
       "      <td>3<\/td>\n",
       "      <td>3<\/td>\n",
       "      <td>0<\/td>\n",
       "      <td>9<\/td>\n",
       "      <td>0<\/td>\n",
       "      <td>2<\/td>\n",
       "    <\/tr>\n",
       "    <tr>\n",
       "      <th>119388<\/th>\n",
       "      <td>0<\/td>\n",
       "      <td>1<\/td>\n",
       "      <td>0<\/td>\n",
       "      <td>6<\/td>\n",
       "      <td>3<\/td>\n",
       "      <td>0<\/td>\n",
       "      <td>0<\/td>\n",
       "      <td>0<\/td>\n",
       "      <td>78<\/td>\n",
       "      <td>0<\/td>\n",
       "      <td>2<\/td>\n",
       "    <\/tr>\n",
       "    <tr>\n",
       "      <th>119389<\/th>\n",
       "      <td>0<\/td>\n",
       "      <td>1<\/td>\n",
       "      <td>2<\/td>\n",
       "      <td>6<\/td>\n",
       "      <td>3<\/td>\n",
       "      <td>0<\/td>\n",
       "      <td>0<\/td>\n",
       "      <td>0<\/td>\n",
       "      <td>9<\/td>\n",
       "      <td>0<\/td>\n",
       "      <td>2<\/td>\n",
       "    <\/tr>\n",
       "  <\/tbody>\n",
       "<\/table>\n",
       "<p>87230 rows × 11 columns<\/p>\n",
       "<\/div>"
      ]
     },
     "metadata":{
      
     },
     "output_type":"display_data"
    }
   ],
   "metadata":{
    "datalore":{
     "type":"CODE",
     "hide_input_from_viewers":false,
     "hide_output_from_viewers":false
    }
   }
  },
  {
   "cell_type":"code",
   "source":[
    "num_data = df[num_features]\n",
    "num_data['children'] = num_data['children'].astype('int')"
   ],
   "execution_count":13,
   "outputs":[
    
   ],
   "metadata":{
    "datalore":{
     "type":"CODE",
     "hide_input_from_viewers":false,
     "hide_output_from_viewers":false
    }
   }
  },
  {
   "cell_type":"code",
   "source":[
    "X = pd.concat([cat_data, num_data], axis = 1)\n",
    "y = df['is_canceled']\n",
    "print(X.shape,y.shape)"
   ],
   "execution_count":14,
   "outputs":[
    {
     "name":"stdout",
     "text":[
      "(87230, 27) (87230,)\n"
     ],
     "output_type":"stream"
    }
   ],
   "metadata":{
    "datalore":{
     "type":"CODE",
     "hide_input_from_viewers":false,
     "hide_output_from_viewers":false
    }
   }
  },
  {
   "cell_type":"code",
   "source":[
    "X.head()"
   ],
   "execution_count":15,
   "outputs":[
    {
     "data":{
      "text\/html":[
       "<div>\n",
       "<style scoped>\n",
       "    .dataframe tbody tr th:only-of-type {\n",
       "        vertical-align: middle;\n",
       "    }\n",
       "\n",
       "    .dataframe tbody tr th {\n",
       "        vertical-align: top;\n",
       "    }\n",
       "\n",
       "    .dataframe thead th {\n",
       "        text-align: right;\n",
       "    }\n",
       "<\/style>\n",
       "<table border=\"1\" class=\"dataframe\">\n",
       "  <thead>\n",
       "    <tr style=\"text-align: right;\">\n",
       "      <th><\/th>\n",
       "      <th>hotel<\/th>\n",
       "      <th>arrival_date_month<\/th>\n",
       "      <th>meal<\/th>\n",
       "      <th>market_segment<\/th>\n",
       "      <th>distribution_channel<\/th>\n",
       "      <th>reserved_room_type<\/th>\n",
       "      <th>assigned_room_type<\/th>\n",
       "      <th>deposit_type<\/th>\n",
       "      <th>agent<\/th>\n",
       "      <th>company<\/th>\n",
       "      <th>...<\/th>\n",
       "      <th>children<\/th>\n",
       "      <th>babies<\/th>\n",
       "      <th>is_repeated_guest<\/th>\n",
       "      <th>previous_cancellations<\/th>\n",
       "      <th>previous_bookings_not_canceled<\/th>\n",
       "      <th>booking_changes<\/th>\n",
       "      <th>days_in_waiting_list<\/th>\n",
       "      <th>adr<\/th>\n",
       "      <th>required_car_parking_spaces<\/th>\n",
       "      <th>total_of_special_requests<\/th>\n",
       "    <\/tr>\n",
       "  <\/thead>\n",
       "  <tbody>\n",
       "    <tr>\n",
       "      <th>0<\/th>\n",
       "      <td>1<\/td>\n",
       "      <td>5<\/td>\n",
       "      <td>0<\/td>\n",
       "      <td>3<\/td>\n",
       "      <td>1<\/td>\n",
       "      <td>2<\/td>\n",
       "      <td>2<\/td>\n",
       "      <td>0<\/td>\n",
       "      <td>0<\/td>\n",
       "      <td>0<\/td>\n",
       "      <td>...<\/td>\n",
       "      <td>0<\/td>\n",
       "      <td>0<\/td>\n",
       "      <td>0<\/td>\n",
       "      <td>0<\/td>\n",
       "      <td>0<\/td>\n",
       "      <td>3<\/td>\n",
       "      <td>0<\/td>\n",
       "      <td>0.0<\/td>\n",
       "      <td>0<\/td>\n",
       "      <td>0<\/td>\n",
       "    <\/tr>\n",
       "    <tr>\n",
       "      <th>1<\/th>\n",
       "      <td>1<\/td>\n",
       "      <td>5<\/td>\n",
       "      <td>0<\/td>\n",
       "      <td>3<\/td>\n",
       "      <td>1<\/td>\n",
       "      <td>2<\/td>\n",
       "      <td>2<\/td>\n",
       "      <td>0<\/td>\n",
       "      <td>0<\/td>\n",
       "      <td>0<\/td>\n",
       "      <td>...<\/td>\n",
       "      <td>0<\/td>\n",
       "      <td>0<\/td>\n",
       "      <td>0<\/td>\n",
       "      <td>0<\/td>\n",
       "      <td>0<\/td>\n",
       "      <td>4<\/td>\n",
       "      <td>0<\/td>\n",
       "      <td>0.0<\/td>\n",
       "      <td>0<\/td>\n",
       "      <td>0<\/td>\n",
       "    <\/tr>\n",
       "    <tr>\n",
       "      <th>2<\/th>\n",
       "      <td>1<\/td>\n",
       "      <td>5<\/td>\n",
       "      <td>0<\/td>\n",
       "      <td>3<\/td>\n",
       "      <td>1<\/td>\n",
       "      <td>0<\/td>\n",
       "      <td>2<\/td>\n",
       "      <td>0<\/td>\n",
       "      <td>0<\/td>\n",
       "      <td>0<\/td>\n",
       "      <td>...<\/td>\n",
       "      <td>0<\/td>\n",
       "      <td>0<\/td>\n",
       "      <td>0<\/td>\n",
       "      <td>0<\/td>\n",
       "      <td>0<\/td>\n",
       "      <td>0<\/td>\n",
       "      <td>0<\/td>\n",
       "      <td>75.0<\/td>\n",
       "      <td>0<\/td>\n",
       "      <td>0<\/td>\n",
       "    <\/tr>\n",
       "    <tr>\n",
       "      <th>3<\/th>\n",
       "      <td>1<\/td>\n",
       "      <td>5<\/td>\n",
       "      <td>0<\/td>\n",
       "      <td>2<\/td>\n",
       "      <td>0<\/td>\n",
       "      <td>0<\/td>\n",
       "      <td>0<\/td>\n",
       "      <td>0<\/td>\n",
       "      <td>221<\/td>\n",
       "      <td>0<\/td>\n",
       "      <td>...<\/td>\n",
       "      <td>0<\/td>\n",
       "      <td>0<\/td>\n",
       "      <td>0<\/td>\n",
       "      <td>0<\/td>\n",
       "      <td>0<\/td>\n",
       "      <td>0<\/td>\n",
       "      <td>0<\/td>\n",
       "      <td>75.0<\/td>\n",
       "      <td>0<\/td>\n",
       "      <td>0<\/td>\n",
       "    <\/tr>\n",
       "    <tr>\n",
       "      <th>4<\/th>\n",
       "      <td>1<\/td>\n",
       "      <td>5<\/td>\n",
       "      <td>0<\/td>\n",
       "      <td>6<\/td>\n",
       "      <td>3<\/td>\n",
       "      <td>0<\/td>\n",
       "      <td>0<\/td>\n",
       "      <td>0<\/td>\n",
       "      <td>174<\/td>\n",
       "      <td>0<\/td>\n",
       "      <td>...<\/td>\n",
       "      <td>0<\/td>\n",
       "      <td>0<\/td>\n",
       "      <td>0<\/td>\n",
       "      <td>0<\/td>\n",
       "      <td>0<\/td>\n",
       "      <td>0<\/td>\n",
       "      <td>0<\/td>\n",
       "      <td>98.0<\/td>\n",
       "      <td>0<\/td>\n",
       "      <td>1<\/td>\n",
       "    <\/tr>\n",
       "  <\/tbody>\n",
       "<\/table>\n",
       "<p>5 rows × 27 columns<\/p>\n",
       "<\/div>"
      ]
     },
     "metadata":{
      
     },
     "output_type":"display_data"
    }
   ],
   "metadata":{
    "datalore":{
     "type":"CODE",
     "hide_input_from_viewers":false,
     "hide_output_from_viewers":false
    }
   }
  },
  {
   "cell_type":"code",
   "source":[
    "X_train, X_test, y_train, y_test = train_test_split(X, y, test_size=0.3, random_state=21, stratify=y)"
   ],
   "execution_count":16,
   "outputs":[
    
   ],
   "metadata":{
    "datalore":{
     "type":"CODE",
     "hide_input_from_viewers":false,
     "hide_output_from_viewers":false
    }
   }
  },
  {
   "cell_type":"markdown",
   "source":[
    "## HW 4 Tasks\n",
    "TO-DO:\n",
    "For the selected model, prepare a knitr \/ jupyter notebook in html or pdf format by solving the points below. \n",
    "- Calculate the permutational importance of the variables for the selected model.\n",
    "- Compare the importance of the variables from (1) with the results of this method used for other models.\n",
    "- Comment on the individual results obtained in the above paragraphs."
   ],
   "attachments":{
    
   },
   "metadata":{
    "datalore":{
     "type":"MD",
     "hide_input_from_viewers":false,
     "hide_output_from_viewers":false
    }
   }
  },
  {
   "cell_type":"markdown",
   "source":[
    "### Step 1: Model training"
   ],
   "attachments":{
    
   },
   "metadata":{
    "datalore":{
     "type":"MD",
     "hide_input_from_viewers":false,
     "hide_output_from_viewers":false
    }
   }
  },
  {
   "cell_type":"markdown",
   "source":[
    "#### Random Forest"
   ],
   "attachments":{
    
   },
   "metadata":{
    "datalore":{
     "type":"MD",
     "hide_input_from_viewers":false,
     "hide_output_from_viewers":false
    }
   }
  },
  {
   "cell_type":"code",
   "source":[
    "rf_model_enh = RandomForestClassifier(n_estimators=160,\n",
    "                               max_features=0.4,\n",
    "                               min_samples_split=2,\n",
    "                               n_jobs=-1,\n",
    "                               random_state=0)"
   ],
   "execution_count":17,
   "outputs":[
    
   ],
   "metadata":{
    "datalore":{
     "type":"CODE",
     "hide_input_from_viewers":false,
     "hide_output_from_viewers":false
    }
   }
  },
  {
   "cell_type":"code",
   "source":[
    "rf_model_enh.fit(X_train, y_train)"
   ],
   "execution_count":18,
   "outputs":[
    {
     "data":{
      "text\/plain":[
       "RandomForestClassifier(max_features=0.4, n_estimators=160, n_jobs=-1,\n",
       "                       random_state=0)"
      ]
     },
     "metadata":{
      
     },
     "output_type":"display_data"
    }
   ],
   "metadata":{
    "datalore":{
     "type":"CODE",
     "hide_input_from_viewers":false,
     "hide_output_from_viewers":false
    }
   }
  },
  {
   "cell_type":"code",
   "source":[
    "rf_model_enh.score(X_test, y_test)"
   ],
   "execution_count":19,
   "outputs":[
    {
     "data":{
      "text\/plain":[
       "0.8224616913141504"
      ]
     },
     "metadata":{
      
     },
     "output_type":"display_data"
    }
   ],
   "metadata":{
    "datalore":{
     "type":"CODE",
     "hide_input_from_viewers":false,
     "hide_output_from_viewers":false
    }
   }
  },
  {
   "cell_type":"markdown",
   "source":[
    "#### GBM"
   ],
   "attachments":{
    
   },
   "metadata":{
    "datalore":{
     "type":"MD",
     "hide_input_from_viewers":false,
     "hide_output_from_viewers":false
    }
   }
  },
  {
   "cell_type":"code",
   "source":[
    "gbm = GradientBoostingClassifier(n_estimators=100, random_state=0)\n",
    "gbm.fit(X_train, y_train)"
   ],
   "execution_count":20,
   "outputs":[
    {
     "data":{
      "text\/plain":[
       "GradientBoostingClassifier(random_state=0)"
      ]
     },
     "metadata":{
      
     },
     "output_type":"display_data"
    }
   ],
   "metadata":{
    "datalore":{
     "type":"CODE",
     "hide_input_from_viewers":false,
     "hide_output_from_viewers":false
    }
   }
  },
  {
   "cell_type":"code",
   "source":[
    "gbm.score(X_test, y_test)"
   ],
   "execution_count":21,
   "outputs":[
    {
     "data":{
      "text\/plain":[
       "0.8085903167870381"
      ]
     },
     "metadata":{
      
     },
     "output_type":"display_data"
    }
   ],
   "metadata":{
    "datalore":{
     "type":"CODE",
     "hide_input_from_viewers":false,
     "hide_output_from_viewers":false
    }
   }
  },
  {
   "cell_type":"markdown",
   "source":[
    "#### SVM"
   ],
   "attachments":{
    
   },
   "metadata":{
    "datalore":{
     "type":"MD",
     "hide_input_from_viewers":false,
     "hide_output_from_viewers":false
    }
   }
  },
  {
   "cell_type":"code",
   "source":[
    "from sklearn.pipeline import Pipeline\n",
    "from sklearn.preprocessing import MinMaxScaler\n",
    "from sklearn.svm import SVC\n",
    "\n",
    "svm = SVC(kernel= 'rbf',\n",
    " random_state=0,\n",
    " verbose= False)            \n",
    "pipeline = Pipeline([(\"scale\", MinMaxScaler(feature_range=(0, 1))),\n",
    "                     (\"svm\", svm)])\n",
    "pipeline.fit(X_train, y_train)"
   ],
   "execution_count":22,
   "outputs":[
    {
     "data":{
      "text\/plain":[
       "Pipeline(steps=[('scale', MinMaxScaler()), ('svm', SVC(random_state=0))])"
      ]
     },
     "metadata":{
      
     },
     "output_type":"display_data"
    }
   ],
   "metadata":{
    "datalore":{
     "type":"CODE",
     "hide_input_from_viewers":false,
     "hide_output_from_viewers":false
    }
   }
  },
  {
   "cell_type":"code",
   "source":[
    "pipeline.score(X_test, y_test)"
   ],
   "execution_count":23,
   "outputs":[
    {
     "data":{
      "text\/plain":[
       "0.7834078489816195"
      ]
     },
     "metadata":{
      
     },
     "output_type":"display_data"
    }
   ],
   "metadata":{
    "datalore":{
     "type":"CODE",
     "hide_input_from_viewers":false,
     "hide_output_from_viewers":false
    }
   }
  },
  {
   "cell_type":"markdown",
   "source":[
    "### Step 2: Profiles Calculation"
   ],
   "attachments":{
    
   },
   "metadata":{
    "datalore":{
     "type":"MD",
     "hide_input_from_viewers":false,
     "hide_output_from_viewers":false
    }
   }
  },
  {
   "cell_type":"code",
   "source":[
    "import dalex as dx"
   ],
   "execution_count":24,
   "outputs":[
    
   ],
   "metadata":{
    "datalore":{
     "type":"CODE",
     "hide_input_from_viewers":false,
     "hide_output_from_viewers":false
    }
   }
  },
  {
   "cell_type":"code",
   "source":[
    "X_train.columns"
   ],
   "execution_count":25,
   "outputs":[
    {
     "data":{
      "text\/plain":[
       "Index(['hotel', 'arrival_date_month', 'meal', 'market_segment',\n",
       "       'distribution_channel', 'reserved_room_type', 'assigned_room_type',\n",
       "       'deposit_type', 'agent', 'company', 'customer_type', 'lead_time',\n",
       "       'arrival_date_year', 'arrival_date_week_number',\n",
       "       'stays_in_weekend_nights', 'stays_in_week_nights', 'adults', 'children',\n",
       "       'babies', 'is_repeated_guest', 'previous_cancellations',\n",
       "       'previous_bookings_not_canceled', 'booking_changes',\n",
       "       'days_in_waiting_list', 'adr', 'required_car_parking_spaces',\n",
       "       'total_of_special_requests'],\n",
       "      dtype='object')"
      ]
     },
     "metadata":{
      
     },
     "output_type":"display_data"
    }
   ],
   "metadata":{
    "datalore":{
     "type":"CODE",
     "hide_input_from_viewers":false,
     "hide_output_from_viewers":false
    }
   }
  },
  {
   "cell_type":"code",
   "source":[
    "guests = ['adults','children','babies', 'customer_type','is_repeated_guest', 'country']\n",
    "time_related = ['arrival_date_month', 'arrival_date_year','arrival_date_week_number',\n",
    "                'lead_time', 'days_in_waiting_list']\n",
    "stay_details = ['required_car_parking_spaces', 'total_of_special_requests','reserved_room_type',\n",
    "                       'assigned_room_type', 'meal', 'hotel','stays_in_weekend_nights',\n",
    "               'stays_in_week_nights']\n",
    "booking_details = ['deposit_type','agent',\n",
    "                'company','previous_cancellations',\n",
    "                'previous_bookings_not_canceled','booking_changes', 'market_segment', 'distribution_channel']\n",
    "\n",
    "variable_groups = {'guests': guests,\n",
    "                   'time_related': time_related,\n",
    "                   'stay_details': stay_details,\n",
    "                   'booking_details': booking_details,}"
   ],
   "execution_count":26,
   "outputs":[
    
   ],
   "metadata":{
    "datalore":{
     "type":"CODE",
     "hide_input_from_viewers":false,
     "hide_output_from_viewers":false
    }
   }
  },
  {
   "cell_type":"markdown",
   "source":[
    "#### VIP for Random Forest"
   ],
   "attachments":{
    
   },
   "metadata":{
    "datalore":{
     "type":"MD",
     "hide_input_from_viewers":false,
     "hide_output_from_viewers":false
    }
   }
  },
  {
   "cell_type":"code",
   "source":[
    "rf_exp = dx.Explainer(rf_model_enh, X_test, y_test, label=\"Random Forest\")\n",
    "mp_rf = rf_exp.model_parts(N=3000, B=15)\n",
    "mp_rf.result"
   ],
   "execution_count":27,
   "outputs":[
    {
     "name":"stdout",
     "text":[
      "Preparation of a new explainer is initiated\n",
      "\n",
      "  -> data              : 26169 rows 27 cols\n",
      "  -> target variable   : Parameter 'y' was a pandas.Series. Converted to a numpy.ndarray.\n",
      "  -> target variable   : 26169 values\n",
      "  -> model_class       : sklearn.ensemble._forest.RandomForestClassifier (default)\n",
      "  -> label             : Random Forest\n",
      "  -> predict function  : <function yhat_proba_default at 0x7f4943f700d0> will be used (default)\n",
      "  -> predict function  : Accepts pandas.DataFrame and numpy.ndarray.\n",
      "  -> predicted values  : min = 0.0, mean = 0.282, max = 1.0\n",
      "  -> model type        : classification will be used (default)\n",
      "  -> residual function : difference between y and yhat (default)\n",
      "  -> residuals         : min = -1.0, mean = -0.00647, max = 1.0\n",
      "  -> model_info        : package sklearn\n",
      "\n",
      "A new explainer has been created!\n"
     ],
     "output_type":"stream"
    },
    {
     "data":{
      "text\/html":[
       "<div>\n",
       "<style scoped>\n",
       "    .dataframe tbody tr th:only-of-type {\n",
       "        vertical-align: middle;\n",
       "    }\n",
       "\n",
       "    .dataframe tbody tr th {\n",
       "        vertical-align: top;\n",
       "    }\n",
       "\n",
       "    .dataframe thead th {\n",
       "        text-align: right;\n",
       "    }\n",
       "<\/style>\n",
       "<table border=\"1\" class=\"dataframe\">\n",
       "  <thead>\n",
       "    <tr style=\"text-align: right;\">\n",
       "      <th><\/th>\n",
       "      <th>variable<\/th>\n",
       "      <th>dropout_loss<\/th>\n",
       "      <th>label<\/th>\n",
       "    <\/tr>\n",
       "  <\/thead>\n",
       "  <tbody>\n",
       "    <tr>\n",
       "      <th>0<\/th>\n",
       "      <td>arrival_date_month<\/td>\n",
       "      <td>0.140027<\/td>\n",
       "      <td>Random Forest<\/td>\n",
       "    <\/tr>\n",
       "    <tr>\n",
       "      <th>1<\/th>\n",
       "      <td>adults<\/td>\n",
       "      <td>0.140959<\/td>\n",
       "      <td>Random Forest<\/td>\n",
       "    <\/tr>\n",
       "    <tr>\n",
       "      <th>2<\/th>\n",
       "      <td>company<\/td>\n",
       "      <td>0.141321<\/td>\n",
       "      <td>Random Forest<\/td>\n",
       "    <\/tr>\n",
       "    <tr>\n",
       "      <th>3<\/th>\n",
       "      <td>babies<\/td>\n",
       "      <td>0.141608<\/td>\n",
       "      <td>Random Forest<\/td>\n",
       "    <\/tr>\n",
       "    <tr>\n",
       "      <th>4<\/th>\n",
       "      <td>_full_model_<\/td>\n",
       "      <td>0.141621<\/td>\n",
       "      <td>Random Forest<\/td>\n",
       "    <\/tr>\n",
       "    <tr>\n",
       "      <th>5<\/th>\n",
       "      <td>meal<\/td>\n",
       "      <td>0.141625<\/td>\n",
       "      <td>Random Forest<\/td>\n",
       "    <\/tr>\n",
       "    <tr>\n",
       "      <th>6<\/th>\n",
       "      <td>days_in_waiting_list<\/td>\n",
       "      <td>0.141638<\/td>\n",
       "      <td>Random Forest<\/td>\n",
       "    <\/tr>\n",
       "    <tr>\n",
       "      <th>7<\/th>\n",
       "      <td>distribution_channel<\/td>\n",
       "      <td>0.141964<\/td>\n",
       "      <td>Random Forest<\/td>\n",
       "    <\/tr>\n",
       "    <tr>\n",
       "      <th>8<\/th>\n",
       "      <td>children<\/td>\n",
       "      <td>0.142321<\/td>\n",
       "      <td>Random Forest<\/td>\n",
       "    <\/tr>\n",
       "    <tr>\n",
       "      <th>9<\/th>\n",
       "      <td>is_repeated_guest<\/td>\n",
       "      <td>0.142443<\/td>\n",
       "      <td>Random Forest<\/td>\n",
       "    <\/tr>\n",
       "    <tr>\n",
       "      <th>10<\/th>\n",
       "      <td>stays_in_weekend_nights<\/td>\n",
       "      <td>0.142910<\/td>\n",
       "      <td>Random Forest<\/td>\n",
       "    <\/tr>\n",
       "    <tr>\n",
       "      <th>11<\/th>\n",
       "      <td>hotel<\/td>\n",
       "      <td>0.143552<\/td>\n",
       "      <td>Random Forest<\/td>\n",
       "    <\/tr>\n",
       "    <tr>\n",
       "      <th>12<\/th>\n",
       "      <td>previous_bookings_not_canceled<\/td>\n",
       "      <td>0.143670<\/td>\n",
       "      <td>Random Forest<\/td>\n",
       "    <\/tr>\n",
       "    <tr>\n",
       "      <th>13<\/th>\n",
       "      <td>stays_in_week_nights<\/td>\n",
       "      <td>0.144768<\/td>\n",
       "      <td>Random Forest<\/td>\n",
       "    <\/tr>\n",
       "    <tr>\n",
       "      <th>14<\/th>\n",
       "      <td>arrival_date_week_number<\/td>\n",
       "      <td>0.147394<\/td>\n",
       "      <td>Random Forest<\/td>\n",
       "    <\/tr>\n",
       "    <tr>\n",
       "      <th>15<\/th>\n",
       "      <td>deposit_type<\/td>\n",
       "      <td>0.148147<\/td>\n",
       "      <td>Random Forest<\/td>\n",
       "    <\/tr>\n",
       "    <tr>\n",
       "      <th>16<\/th>\n",
       "      <td>reserved_room_type<\/td>\n",
       "      <td>0.148553<\/td>\n",
       "      <td>Random Forest<\/td>\n",
       "    <\/tr>\n",
       "    <tr>\n",
       "      <th>17<\/th>\n",
       "      <td>booking_changes<\/td>\n",
       "      <td>0.152116<\/td>\n",
       "      <td>Random Forest<\/td>\n",
       "    <\/tr>\n",
       "    <tr>\n",
       "      <th>18<\/th>\n",
       "      <td>adr<\/td>\n",
       "      <td>0.152322<\/td>\n",
       "      <td>Random Forest<\/td>\n",
       "    <\/tr>\n",
       "    <tr>\n",
       "      <th>19<\/th>\n",
       "      <td>arrival_date_year<\/td>\n",
       "      <td>0.155168<\/td>\n",
       "      <td>Random Forest<\/td>\n",
       "    <\/tr>\n",
       "    <tr>\n",
       "      <th>20<\/th>\n",
       "      <td>assigned_room_type<\/td>\n",
       "      <td>0.159885<\/td>\n",
       "      <td>Random Forest<\/td>\n",
       "    <\/tr>\n",
       "    <tr>\n",
       "      <th>21<\/th>\n",
       "      <td>previous_cancellations<\/td>\n",
       "      <td>0.160233<\/td>\n",
       "      <td>Random Forest<\/td>\n",
       "    <\/tr>\n",
       "    <tr>\n",
       "      <th>22<\/th>\n",
       "      <td>customer_type<\/td>\n",
       "      <td>0.170660<\/td>\n",
       "      <td>Random Forest<\/td>\n",
       "    <\/tr>\n",
       "    <tr>\n",
       "      <th>23<\/th>\n",
       "      <td>agent<\/td>\n",
       "      <td>0.179648<\/td>\n",
       "      <td>Random Forest<\/td>\n",
       "    <\/tr>\n",
       "    <tr>\n",
       "      <th>24<\/th>\n",
       "      <td>market_segment<\/td>\n",
       "      <td>0.197591<\/td>\n",
       "      <td>Random Forest<\/td>\n",
       "    <\/tr>\n",
       "    <tr>\n",
       "      <th>25<\/th>\n",
       "      <td>required_car_parking_spaces<\/td>\n",
       "      <td>0.206020<\/td>\n",
       "      <td>Random Forest<\/td>\n",
       "    <\/tr>\n",
       "    <tr>\n",
       "      <th>26<\/th>\n",
       "      <td>total_of_special_requests<\/td>\n",
       "      <td>0.208508<\/td>\n",
       "      <td>Random Forest<\/td>\n",
       "    <\/tr>\n",
       "    <tr>\n",
       "      <th>27<\/th>\n",
       "      <td>lead_time<\/td>\n",
       "      <td>0.232449<\/td>\n",
       "      <td>Random Forest<\/td>\n",
       "    <\/tr>\n",
       "    <tr>\n",
       "      <th>28<\/th>\n",
       "      <td>_baseline_<\/td>\n",
       "      <td>0.499763<\/td>\n",
       "      <td>Random Forest<\/td>\n",
       "    <\/tr>\n",
       "  <\/tbody>\n",
       "<\/table>\n",
       "<\/div>"
      ]
     },
     "metadata":{
      
     },
     "output_type":"display_data"
    }
   ],
   "metadata":{
    "datalore":{
     "type":"CODE",
     "hide_input_from_viewers":false,
     "hide_output_from_viewers":false
    }
   }
  },
  {
   "cell_type":"code",
   "source":[
    "mp_rf.plot()"
   ],
   "execution_count":28,
   "outputs":[
    {
     "data":{
      "text\/plain":[
       "Unsupported"
      ]
     },
     "metadata":{
      
     },
     "output_type":"display_data"
    }
   ],
   "metadata":{
    "datalore":{
     "type":"CODE",
     "hide_input_from_viewers":false,
     "hide_output_from_viewers":false
    }
   }
  },
  {
   "cell_type":"markdown",
   "source":[
    "The plot above suggests that the most important variable is `lead_time`, so it might be interesting to take a closer look between the mean values of this variable for cancelled and not cancelled reservations. The second and third variables are related in a way (in my opinion), and the specificity of the request might be a good suggestion of how likely are the guests to cancel. The fourth variable, `market_segment`, is the last one that has a somewhat higher importance and might also be good to dive deeper into, as it might suggest that some of the groups are more certain not to cancel. For a hotel, that would mean that it should focus on some segments (maybe through discount programs or ads, sorry, I got a little bit carried away with that :)). "
   ],
   "attachments":{
    
   },
   "metadata":{
    "datalore":{
     "type":"MD",
     "hide_input_from_viewers":false,
     "hide_output_from_viewers":false
    }
   }
  },
  {
   "cell_type":"markdown",
   "source":[
    "#### VIP for GBM"
   ],
   "attachments":{
    
   },
   "metadata":{
    "datalore":{
     "type":"MD",
     "hide_input_from_viewers":false,
     "hide_output_from_viewers":false
    }
   }
  },
  {
   "cell_type":"code",
   "source":[
    "gbm_exp = dx.Explainer(gbm, X_test, y_test, label=\"GBM\")\n",
    "mp_gbm = gbm_exp.model_parts(N=3000, B=15)\n",
    "mp_gbm.result"
   ],
   "execution_count":29,
   "outputs":[
    {
     "name":"stdout",
     "text":[
      "Preparation of a new explainer is initiated\n",
      "\n",
      "  -> data              : 26169 rows 27 cols\n",
      "  -> target variable   : Parameter 'y' was a pandas.Series. Converted to a numpy.ndarray.\n",
      "  -> target variable   : 26169 values\n",
      "  -> model_class       : sklearn.ensemble._gb.GradientBoostingClassifier (default)\n",
      "  -> label             : GBM\n",
      "  -> predict function  : <function yhat_proba_default at 0x7f4943f700d0> will be used (default)\n",
      "  -> predict function  : Accepts pandas.DataFrame and numpy.ndarray.\n",
      "  -> predicted values  : min = 0.00197, mean = 0.274, max = 0.996\n",
      "  -> model type        : classification will be used (default)\n",
      "  -> residual function : difference between y and yhat (default)\n",
      "  -> residuals         : min = -0.903, mean = 0.00161, max = 0.975\n",
      "  -> model_info        : package sklearn\n",
      "\n",
      "A new explainer has been created!\n"
     ],
     "output_type":"stream"
    },
    {
     "data":{
      "text\/html":[
       "<div>\n",
       "<style scoped>\n",
       "    .dataframe tbody tr th:only-of-type {\n",
       "        vertical-align: middle;\n",
       "    }\n",
       "\n",
       "    .dataframe tbody tr th {\n",
       "        vertical-align: top;\n",
       "    }\n",
       "\n",
       "    .dataframe thead th {\n",
       "        text-align: right;\n",
       "    }\n",
       "<\/style>\n",
       "<table border=\"1\" class=\"dataframe\">\n",
       "  <thead>\n",
       "    <tr style=\"text-align: right;\">\n",
       "      <th><\/th>\n",
       "      <th>variable<\/th>\n",
       "      <th>dropout_loss<\/th>\n",
       "      <th>label<\/th>\n",
       "    <\/tr>\n",
       "  <\/thead>\n",
       "  <tbody>\n",
       "    <tr>\n",
       "      <th>0<\/th>\n",
       "      <td>company<\/td>\n",
       "      <td>0.158176<\/td>\n",
       "      <td>GBM<\/td>\n",
       "    <\/tr>\n",
       "    <tr>\n",
       "      <th>1<\/th>\n",
       "      <td>is_repeated_guest<\/td>\n",
       "      <td>0.158186<\/td>\n",
       "      <td>GBM<\/td>\n",
       "    <\/tr>\n",
       "    <tr>\n",
       "      <th>2<\/th>\n",
       "      <td>babies<\/td>\n",
       "      <td>0.158186<\/td>\n",
       "      <td>GBM<\/td>\n",
       "    <\/tr>\n",
       "    <tr>\n",
       "      <th>3<\/th>\n",
       "      <td>days_in_waiting_list<\/td>\n",
       "      <td>0.158186<\/td>\n",
       "      <td>GBM<\/td>\n",
       "    <\/tr>\n",
       "    <tr>\n",
       "      <th>4<\/th>\n",
       "      <td>_full_model_<\/td>\n",
       "      <td>0.158186<\/td>\n",
       "      <td>GBM<\/td>\n",
       "    <\/tr>\n",
       "    <tr>\n",
       "      <th>5<\/th>\n",
       "      <td>hotel<\/td>\n",
       "      <td>0.158196<\/td>\n",
       "      <td>GBM<\/td>\n",
       "    <\/tr>\n",
       "    <tr>\n",
       "      <th>6<\/th>\n",
       "      <td>stays_in_weekend_nights<\/td>\n",
       "      <td>0.158245<\/td>\n",
       "      <td>GBM<\/td>\n",
       "    <\/tr>\n",
       "    <tr>\n",
       "      <th>7<\/th>\n",
       "      <td>meal<\/td>\n",
       "      <td>0.158279<\/td>\n",
       "      <td>GBM<\/td>\n",
       "    <\/tr>\n",
       "    <tr>\n",
       "      <th>8<\/th>\n",
       "      <td>arrival_date_month<\/td>\n",
       "      <td>0.158456<\/td>\n",
       "      <td>GBM<\/td>\n",
       "    <\/tr>\n",
       "    <tr>\n",
       "      <th>9<\/th>\n",
       "      <td>children<\/td>\n",
       "      <td>0.158490<\/td>\n",
       "      <td>GBM<\/td>\n",
       "    <\/tr>\n",
       "    <tr>\n",
       "      <th>10<\/th>\n",
       "      <td>distribution_channel<\/td>\n",
       "      <td>0.158499<\/td>\n",
       "      <td>GBM<\/td>\n",
       "    <\/tr>\n",
       "    <tr>\n",
       "      <th>11<\/th>\n",
       "      <td>adults<\/td>\n",
       "      <td>0.158528<\/td>\n",
       "      <td>GBM<\/td>\n",
       "    <\/tr>\n",
       "    <tr>\n",
       "      <th>12<\/th>\n",
       "      <td>stays_in_week_nights<\/td>\n",
       "      <td>0.158848<\/td>\n",
       "      <td>GBM<\/td>\n",
       "    <\/tr>\n",
       "    <tr>\n",
       "      <th>13<\/th>\n",
       "      <td>arrival_date_week_number<\/td>\n",
       "      <td>0.158909<\/td>\n",
       "      <td>GBM<\/td>\n",
       "    <\/tr>\n",
       "    <tr>\n",
       "      <th>14<\/th>\n",
       "      <td>arrival_date_year<\/td>\n",
       "      <td>0.160046<\/td>\n",
       "      <td>GBM<\/td>\n",
       "    <\/tr>\n",
       "    <tr>\n",
       "      <th>15<\/th>\n",
       "      <td>adr<\/td>\n",
       "      <td>0.163038<\/td>\n",
       "      <td>GBM<\/td>\n",
       "    <\/tr>\n",
       "    <tr>\n",
       "      <th>16<\/th>\n",
       "      <td>previous_bookings_not_canceled<\/td>\n",
       "      <td>0.164223<\/td>\n",
       "      <td>GBM<\/td>\n",
       "    <\/tr>\n",
       "    <tr>\n",
       "      <th>17<\/th>\n",
       "      <td>booking_changes<\/td>\n",
       "      <td>0.165776<\/td>\n",
       "      <td>GBM<\/td>\n",
       "    <\/tr>\n",
       "    <tr>\n",
       "      <th>18<\/th>\n",
       "      <td>customer_type<\/td>\n",
       "      <td>0.167224<\/td>\n",
       "      <td>GBM<\/td>\n",
       "    <\/tr>\n",
       "    <tr>\n",
       "      <th>19<\/th>\n",
       "      <td>deposit_type<\/td>\n",
       "      <td>0.169575<\/td>\n",
       "      <td>GBM<\/td>\n",
       "    <\/tr>\n",
       "    <tr>\n",
       "      <th>20<\/th>\n",
       "      <td>reserved_room_type<\/td>\n",
       "      <td>0.178197<\/td>\n",
       "      <td>GBM<\/td>\n",
       "    <\/tr>\n",
       "    <tr>\n",
       "      <th>21<\/th>\n",
       "      <td>previous_cancellations<\/td>\n",
       "      <td>0.179141<\/td>\n",
       "      <td>GBM<\/td>\n",
       "    <\/tr>\n",
       "    <tr>\n",
       "      <th>22<\/th>\n",
       "      <td>agent<\/td>\n",
       "      <td>0.180573<\/td>\n",
       "      <td>GBM<\/td>\n",
       "    <\/tr>\n",
       "    <tr>\n",
       "      <th>23<\/th>\n",
       "      <td>assigned_room_type<\/td>\n",
       "      <td>0.185838<\/td>\n",
       "      <td>GBM<\/td>\n",
       "    <\/tr>\n",
       "    <tr>\n",
       "      <th>24<\/th>\n",
       "      <td>market_segment<\/td>\n",
       "      <td>0.191805<\/td>\n",
       "      <td>GBM<\/td>\n",
       "    <\/tr>\n",
       "    <tr>\n",
       "      <th>25<\/th>\n",
       "      <td>total_of_special_requests<\/td>\n",
       "      <td>0.209971<\/td>\n",
       "      <td>GBM<\/td>\n",
       "    <\/tr>\n",
       "    <tr>\n",
       "      <th>26<\/th>\n",
       "      <td>required_car_parking_spaces<\/td>\n",
       "      <td>0.215034<\/td>\n",
       "      <td>GBM<\/td>\n",
       "    <\/tr>\n",
       "    <tr>\n",
       "      <th>27<\/th>\n",
       "      <td>lead_time<\/td>\n",
       "      <td>0.229139<\/td>\n",
       "      <td>GBM<\/td>\n",
       "    <\/tr>\n",
       "    <tr>\n",
       "      <th>28<\/th>\n",
       "      <td>_baseline_<\/td>\n",
       "      <td>0.500760<\/td>\n",
       "      <td>GBM<\/td>\n",
       "    <\/tr>\n",
       "  <\/tbody>\n",
       "<\/table>\n",
       "<\/div>"
      ]
     },
     "metadata":{
      
     },
     "output_type":"display_data"
    }
   ],
   "metadata":{
    "datalore":{
     "type":"CODE",
     "hide_input_from_viewers":false,
     "hide_output_from_viewers":false
    }
   }
  },
  {
   "cell_type":"code",
   "source":[
    "mp_gbm.plot()"
   ],
   "execution_count":30,
   "outputs":[
    {
     "data":{
      "text\/plain":[
       "Unsupported"
      ]
     },
     "metadata":{
      
     },
     "output_type":"display_data"
    }
   ],
   "metadata":{
    "datalore":{
     "type":"CODE",
     "hide_input_from_viewers":false,
     "hide_output_from_viewers":false
    }
   }
  },
  {
   "cell_type":"markdown",
   "source":[
    "Here we see quite a similar situation, although the drop-out loss is a bit smaller. The second and third variables switched places, and the `customer_type` has smaller importance, but the leader is still the `lead_time`."
   ],
   "attachments":{
    
   },
   "metadata":{
    "datalore":{
     "type":"MD",
     "hide_input_from_viewers":false,
     "hide_output_from_viewers":false
    }
   }
  },
  {
   "cell_type":"markdown",
   "source":[
    "#### VIP for SVM"
   ],
   "attachments":{
    
   },
   "metadata":{
    "datalore":{
     "type":"MD",
     "hide_input_from_viewers":false,
     "hide_output_from_viewers":false
    }
   }
  },
  {
   "cell_type":"code",
   "source":[
    "svm_exp = dx.Explainer(pipeline, X_test, y_test, label=\"SVM\")\n",
    "mp_svm = svm_exp.model_parts(N=3000, B=15)\n",
    "mp_svm.result"
   ],
   "execution_count":31,
   "outputs":[
    {
     "name":"stdout",
     "text":[
      "Preparation of a new explainer is initiated\n",
      "\n",
      "  -> data              : 26169 rows 27 cols\n",
      "  -> target variable   : Parameter 'y' was a pandas.Series. Converted to a numpy.ndarray.\n",
      "  -> target variable   : 26169 values\n",
      "  -> model_class       : sklearn.svm._classes.SVC (default)\n",
      "  -> label             : SVM\n",
      "  -> predict function  : <function yhat_default at 0x7f4943f70040> will be used (default)\n",
      "  -> predict function  : Accepts pandas.DataFrame and numpy.ndarray.\n",
      "  -> predicted values  : min = 0.0, mean = 0.128, max = 1.0\n",
      "  -> model type        : classification will be used (default)\n",
      "  -> residual function : difference between y and yhat (default)\n",
      "  -> residuals         : min = -1.0, mean = 0.147, max = 1.0\n",
      "  -> model_info        : package sklearn\n",
      "\n",
      "A new explainer has been created!\n"
     ],
     "output_type":"stream"
    },
    {
     "data":{
      "text\/html":[
       "<div>\n",
       "<style scoped>\n",
       "    .dataframe tbody tr th:only-of-type {\n",
       "        vertical-align: middle;\n",
       "    }\n",
       "\n",
       "    .dataframe tbody tr th {\n",
       "        vertical-align: top;\n",
       "    }\n",
       "\n",
       "    .dataframe thead th {\n",
       "        text-align: right;\n",
       "    }\n",
       "<\/style>\n",
       "<table border=\"1\" class=\"dataframe\">\n",
       "  <thead>\n",
       "    <tr style=\"text-align: right;\">\n",
       "      <th><\/th>\n",
       "      <th>variable<\/th>\n",
       "      <th>dropout_loss<\/th>\n",
       "      <th>label<\/th>\n",
       "    <\/tr>\n",
       "  <\/thead>\n",
       "  <tbody>\n",
       "    <tr>\n",
       "      <th>0<\/th>\n",
       "      <td>arrival_date_week_number<\/td>\n",
       "      <td>0.351843<\/td>\n",
       "      <td>SVM<\/td>\n",
       "    <\/tr>\n",
       "    <tr>\n",
       "      <th>1<\/th>\n",
       "      <td>distribution_channel<\/td>\n",
       "      <td>0.353235<\/td>\n",
       "      <td>SVM<\/td>\n",
       "    <\/tr>\n",
       "    <tr>\n",
       "      <th>2<\/th>\n",
       "      <td>stays_in_week_nights<\/td>\n",
       "      <td>0.356406<\/td>\n",
       "      <td>SVM<\/td>\n",
       "    <\/tr>\n",
       "    <tr>\n",
       "      <th>3<\/th>\n",
       "      <td>babies<\/td>\n",
       "      <td>0.356835<\/td>\n",
       "      <td>SVM<\/td>\n",
       "    <\/tr>\n",
       "    <tr>\n",
       "      <th>4<\/th>\n",
       "      <td>_full_model_<\/td>\n",
       "      <td>0.356850<\/td>\n",
       "      <td>SVM<\/td>\n",
       "    <\/tr>\n",
       "    <tr>\n",
       "      <th>5<\/th>\n",
       "      <td>stays_in_weekend_nights<\/td>\n",
       "      <td>0.356930<\/td>\n",
       "      <td>SVM<\/td>\n",
       "    <\/tr>\n",
       "    <tr>\n",
       "      <th>6<\/th>\n",
       "      <td>arrival_date_month<\/td>\n",
       "      <td>0.356992<\/td>\n",
       "      <td>SVM<\/td>\n",
       "    <\/tr>\n",
       "    <tr>\n",
       "      <th>7<\/th>\n",
       "      <td>adults<\/td>\n",
       "      <td>0.357126<\/td>\n",
       "      <td>SVM<\/td>\n",
       "    <\/tr>\n",
       "    <tr>\n",
       "      <th>8<\/th>\n",
       "      <td>days_in_waiting_list<\/td>\n",
       "      <td>0.357245<\/td>\n",
       "      <td>SVM<\/td>\n",
       "    <\/tr>\n",
       "    <tr>\n",
       "      <th>9<\/th>\n",
       "      <td>previous_cancellations<\/td>\n",
       "      <td>0.357400<\/td>\n",
       "      <td>SVM<\/td>\n",
       "    <\/tr>\n",
       "    <tr>\n",
       "      <th>10<\/th>\n",
       "      <td>previous_bookings_not_canceled<\/td>\n",
       "      <td>0.357409<\/td>\n",
       "      <td>SVM<\/td>\n",
       "    <\/tr>\n",
       "    <tr>\n",
       "      <th>11<\/th>\n",
       "      <td>company<\/td>\n",
       "      <td>0.358451<\/td>\n",
       "      <td>SVM<\/td>\n",
       "    <\/tr>\n",
       "    <tr>\n",
       "      <th>12<\/th>\n",
       "      <td>is_repeated_guest<\/td>\n",
       "      <td>0.360459<\/td>\n",
       "      <td>SVM<\/td>\n",
       "    <\/tr>\n",
       "    <tr>\n",
       "      <th>13<\/th>\n",
       "      <td>booking_changes<\/td>\n",
       "      <td>0.361187<\/td>\n",
       "      <td>SVM<\/td>\n",
       "    <\/tr>\n",
       "    <tr>\n",
       "      <th>14<\/th>\n",
       "      <td>children<\/td>\n",
       "      <td>0.361514<\/td>\n",
       "      <td>SVM<\/td>\n",
       "    <\/tr>\n",
       "    <tr>\n",
       "      <th>15<\/th>\n",
       "      <td>adr<\/td>\n",
       "      <td>0.361938<\/td>\n",
       "      <td>SVM<\/td>\n",
       "    <\/tr>\n",
       "    <tr>\n",
       "      <th>16<\/th>\n",
       "      <td>meal<\/td>\n",
       "      <td>0.364550<\/td>\n",
       "      <td>SVM<\/td>\n",
       "    <\/tr>\n",
       "    <tr>\n",
       "      <th>17<\/th>\n",
       "      <td>arrival_date_year<\/td>\n",
       "      <td>0.364713<\/td>\n",
       "      <td>SVM<\/td>\n",
       "    <\/tr>\n",
       "    <tr>\n",
       "      <th>18<\/th>\n",
       "      <td>customer_type<\/td>\n",
       "      <td>0.368628<\/td>\n",
       "      <td>SVM<\/td>\n",
       "    <\/tr>\n",
       "    <tr>\n",
       "      <th>19<\/th>\n",
       "      <td>required_car_parking_spaces<\/td>\n",
       "      <td>0.368868<\/td>\n",
       "      <td>SVM<\/td>\n",
       "    <\/tr>\n",
       "    <tr>\n",
       "      <th>20<\/th>\n",
       "      <td>assigned_room_type<\/td>\n",
       "      <td>0.370988<\/td>\n",
       "      <td>SVM<\/td>\n",
       "    <\/tr>\n",
       "    <tr>\n",
       "      <th>21<\/th>\n",
       "      <td>deposit_type<\/td>\n",
       "      <td>0.373809<\/td>\n",
       "      <td>SVM<\/td>\n",
       "    <\/tr>\n",
       "    <tr>\n",
       "      <th>22<\/th>\n",
       "      <td>reserved_room_type<\/td>\n",
       "      <td>0.380461<\/td>\n",
       "      <td>SVM<\/td>\n",
       "    <\/tr>\n",
       "    <tr>\n",
       "      <th>23<\/th>\n",
       "      <td>hotel<\/td>\n",
       "      <td>0.385324<\/td>\n",
       "      <td>SVM<\/td>\n",
       "    <\/tr>\n",
       "    <tr>\n",
       "      <th>24<\/th>\n",
       "      <td>lead_time<\/td>\n",
       "      <td>0.385601<\/td>\n",
       "      <td>SVM<\/td>\n",
       "    <\/tr>\n",
       "    <tr>\n",
       "      <th>25<\/th>\n",
       "      <td>agent<\/td>\n",
       "      <td>0.386353<\/td>\n",
       "      <td>SVM<\/td>\n",
       "    <\/tr>\n",
       "    <tr>\n",
       "      <th>26<\/th>\n",
       "      <td>total_of_special_requests<\/td>\n",
       "      <td>0.393490<\/td>\n",
       "      <td>SVM<\/td>\n",
       "    <\/tr>\n",
       "    <tr>\n",
       "      <th>27<\/th>\n",
       "      <td>market_segment<\/td>\n",
       "      <td>0.401284<\/td>\n",
       "      <td>SVM<\/td>\n",
       "    <\/tr>\n",
       "    <tr>\n",
       "      <th>28<\/th>\n",
       "      <td>_baseline_<\/td>\n",
       "      <td>0.500132<\/td>\n",
       "      <td>SVM<\/td>\n",
       "    <\/tr>\n",
       "  <\/tbody>\n",
       "<\/table>\n",
       "<\/div>"
      ]
     },
     "metadata":{
      
     },
     "output_type":"display_data"
    }
   ],
   "metadata":{
    "datalore":{
     "type":"CODE",
     "hide_input_from_viewers":false,
     "hide_output_from_viewers":false
    }
   }
  },
  {
   "cell_type":"code",
   "source":[
    "mp_svm.plot()"
   ],
   "execution_count":32,
   "outputs":[
    {
     "data":{
      "text\/plain":[
       "Unsupported"
      ]
     },
     "metadata":{
      
     },
     "output_type":"display_data"
    }
   ],
   "metadata":{
    "datalore":{
     "type":"CODE",
     "hide_input_from_viewers":false,
     "hide_output_from_viewers":false
    }
   }
  },
  {
   "cell_type":"markdown",
   "source":[
    "In the last case the losses are even smaller, and now the `lead_time` is 3 positions down, yet it's worth to notice that `agent`,  `lead_time` and `hotel` have similar importance. And `customer_type` and `required_car_parking_spaces` have the same drop-out loss. Yet the values are quite small and might depend on the random nature of permutation."
   ],
   "attachments":{
    
   },
   "metadata":{
    "datalore":{
     "type":"MD",
     "hide_input_from_viewers":false,
     "hide_output_from_viewers":false
    }
   }
  },
  {
   "cell_type":"markdown",
   "source":[
    "### Comparison & Conclusion\n",
    "\n",
    "We see that for different models, we obtained somewhat different results; however, if we compare the plots, we can see that there are the variables that always are one of the most important ones, these are `lead_time`, `market_segment`, `total_of_special_requests`, `agent`, `assigned_room_type`, `required_car_parking_spaces` and `customer_type`. This knowledge is a great pointer for future EDA, model tuning and possible data modifications. None of the variables have a deciding role, as all of them have some drop-out loss, but not a single one has a big enough.  We can also observe that for different models, different variables are more important. The plots are easy to understand, as they are compact and present the most important variables in a single graph. "
   ],
   "attachments":{
    
   },
   "metadata":{
    "datalore":{
     "type":"MD",
     "hide_input_from_viewers":false,
     "hide_output_from_viewers":false
    }
   }
  }
 ],
 "metadata":{
  "datalore":{
   "version":1,
   "computation_mode":"JUPYTER",
   "package_manager":"pip",
   "base_environment":"default",
   "packages":[
    {
     "name":"dalex",
     "version":"1.4.1",
     "source":"PIP"
    },
    {
     "name":"lime",
     "version":"0.2.0.1",
     "source":"PIP"
    },
    {
     "name":"mlx.warnings",
     "version":"4.0.0",
     "source":"PIP"
    }
   ]
  }
 },
 "nbformat":4,
 "nbformat_minor":4
}