{
 "cells": [
  {
   "cell_type": "markdown",
   "id": "d2b566f2",
   "metadata": {},
   "source": [
    "# Homework 1"
   ]
  },
  {
   "cell_type": "code",
   "execution_count": 20,
   "id": "fd9eb0ea",
   "metadata": {},
   "outputs": [],
   "source": [
    "import dalex as dx\n",
    "import pandas as pd\n",
    "\n",
    "from sklearn.ensemble import RandomForestClassifier\n",
    "from sklearn.model_selection import train_test_split"
   ]
  },
  {
   "cell_type": "code",
   "execution_count": 5,
   "id": "07355f2d",
   "metadata": {},
   "outputs": [
    {
     "data": {
      "text/html": [
       "<div>\n",
       "<style scoped>\n",
       "    .dataframe tbody tr th:only-of-type {\n",
       "        vertical-align: middle;\n",
       "    }\n",
       "\n",
       "    .dataframe tbody tr th {\n",
       "        vertical-align: top;\n",
       "    }\n",
       "\n",
       "    .dataframe thead th {\n",
       "        text-align: right;\n",
       "    }\n",
       "</style>\n",
       "<table border=\"1\" class=\"dataframe\">\n",
       "  <thead>\n",
       "    <tr style=\"text-align: right;\">\n",
       "      <th></th>\n",
       "      <th>hotel</th>\n",
       "      <th>is_canceled</th>\n",
       "      <th>lead_time</th>\n",
       "      <th>arrival_date_year</th>\n",
       "      <th>arrival_date_month</th>\n",
       "      <th>arrival_date_week_number</th>\n",
       "      <th>arrival_date_day_of_month</th>\n",
       "      <th>stays_in_weekend_nights</th>\n",
       "      <th>stays_in_week_nights</th>\n",
       "      <th>adults</th>\n",
       "      <th>...</th>\n",
       "      <th>deposit_type</th>\n",
       "      <th>agent</th>\n",
       "      <th>company</th>\n",
       "      <th>days_in_waiting_list</th>\n",
       "      <th>customer_type</th>\n",
       "      <th>adr</th>\n",
       "      <th>required_car_parking_spaces</th>\n",
       "      <th>total_of_special_requests</th>\n",
       "      <th>reservation_status</th>\n",
       "      <th>reservation_status_date</th>\n",
       "    </tr>\n",
       "  </thead>\n",
       "  <tbody>\n",
       "    <tr>\n",
       "      <th>0</th>\n",
       "      <td>Resort Hotel</td>\n",
       "      <td>0</td>\n",
       "      <td>342</td>\n",
       "      <td>2015</td>\n",
       "      <td>July</td>\n",
       "      <td>27</td>\n",
       "      <td>1</td>\n",
       "      <td>0</td>\n",
       "      <td>0</td>\n",
       "      <td>2</td>\n",
       "      <td>...</td>\n",
       "      <td>No Deposit</td>\n",
       "      <td>NaN</td>\n",
       "      <td>NaN</td>\n",
       "      <td>0</td>\n",
       "      <td>Transient</td>\n",
       "      <td>0.0</td>\n",
       "      <td>0</td>\n",
       "      <td>0</td>\n",
       "      <td>Check-Out</td>\n",
       "      <td>2015-07-01</td>\n",
       "    </tr>\n",
       "    <tr>\n",
       "      <th>1</th>\n",
       "      <td>Resort Hotel</td>\n",
       "      <td>0</td>\n",
       "      <td>737</td>\n",
       "      <td>2015</td>\n",
       "      <td>July</td>\n",
       "      <td>27</td>\n",
       "      <td>1</td>\n",
       "      <td>0</td>\n",
       "      <td>0</td>\n",
       "      <td>2</td>\n",
       "      <td>...</td>\n",
       "      <td>No Deposit</td>\n",
       "      <td>NaN</td>\n",
       "      <td>NaN</td>\n",
       "      <td>0</td>\n",
       "      <td>Transient</td>\n",
       "      <td>0.0</td>\n",
       "      <td>0</td>\n",
       "      <td>0</td>\n",
       "      <td>Check-Out</td>\n",
       "      <td>2015-07-01</td>\n",
       "    </tr>\n",
       "    <tr>\n",
       "      <th>2</th>\n",
       "      <td>Resort Hotel</td>\n",
       "      <td>0</td>\n",
       "      <td>7</td>\n",
       "      <td>2015</td>\n",
       "      <td>July</td>\n",
       "      <td>27</td>\n",
       "      <td>1</td>\n",
       "      <td>0</td>\n",
       "      <td>1</td>\n",
       "      <td>1</td>\n",
       "      <td>...</td>\n",
       "      <td>No Deposit</td>\n",
       "      <td>NaN</td>\n",
       "      <td>NaN</td>\n",
       "      <td>0</td>\n",
       "      <td>Transient</td>\n",
       "      <td>75.0</td>\n",
       "      <td>0</td>\n",
       "      <td>0</td>\n",
       "      <td>Check-Out</td>\n",
       "      <td>2015-07-02</td>\n",
       "    </tr>\n",
       "    <tr>\n",
       "      <th>3</th>\n",
       "      <td>Resort Hotel</td>\n",
       "      <td>0</td>\n",
       "      <td>13</td>\n",
       "      <td>2015</td>\n",
       "      <td>July</td>\n",
       "      <td>27</td>\n",
       "      <td>1</td>\n",
       "      <td>0</td>\n",
       "      <td>1</td>\n",
       "      <td>1</td>\n",
       "      <td>...</td>\n",
       "      <td>No Deposit</td>\n",
       "      <td>304.0</td>\n",
       "      <td>NaN</td>\n",
       "      <td>0</td>\n",
       "      <td>Transient</td>\n",
       "      <td>75.0</td>\n",
       "      <td>0</td>\n",
       "      <td>0</td>\n",
       "      <td>Check-Out</td>\n",
       "      <td>2015-07-02</td>\n",
       "    </tr>\n",
       "    <tr>\n",
       "      <th>4</th>\n",
       "      <td>Resort Hotel</td>\n",
       "      <td>0</td>\n",
       "      <td>14</td>\n",
       "      <td>2015</td>\n",
       "      <td>July</td>\n",
       "      <td>27</td>\n",
       "      <td>1</td>\n",
       "      <td>0</td>\n",
       "      <td>2</td>\n",
       "      <td>2</td>\n",
       "      <td>...</td>\n",
       "      <td>No Deposit</td>\n",
       "      <td>240.0</td>\n",
       "      <td>NaN</td>\n",
       "      <td>0</td>\n",
       "      <td>Transient</td>\n",
       "      <td>98.0</td>\n",
       "      <td>0</td>\n",
       "      <td>1</td>\n",
       "      <td>Check-Out</td>\n",
       "      <td>2015-07-03</td>\n",
       "    </tr>\n",
       "  </tbody>\n",
       "</table>\n",
       "<p>5 rows × 32 columns</p>\n",
       "</div>"
      ],
      "text/plain": [
       "          hotel  is_canceled  lead_time  arrival_date_year arrival_date_month  \\\n",
       "0  Resort Hotel            0        342               2015               July   \n",
       "1  Resort Hotel            0        737               2015               July   \n",
       "2  Resort Hotel            0          7               2015               July   \n",
       "3  Resort Hotel            0         13               2015               July   \n",
       "4  Resort Hotel            0         14               2015               July   \n",
       "\n",
       "   arrival_date_week_number  arrival_date_day_of_month  \\\n",
       "0                        27                          1   \n",
       "1                        27                          1   \n",
       "2                        27                          1   \n",
       "3                        27                          1   \n",
       "4                        27                          1   \n",
       "\n",
       "   stays_in_weekend_nights  stays_in_week_nights  adults  ...  deposit_type  \\\n",
       "0                        0                     0       2  ...    No Deposit   \n",
       "1                        0                     0       2  ...    No Deposit   \n",
       "2                        0                     1       1  ...    No Deposit   \n",
       "3                        0                     1       1  ...    No Deposit   \n",
       "4                        0                     2       2  ...    No Deposit   \n",
       "\n",
       "   agent company days_in_waiting_list customer_type   adr  \\\n",
       "0    NaN     NaN                    0     Transient   0.0   \n",
       "1    NaN     NaN                    0     Transient   0.0   \n",
       "2    NaN     NaN                    0     Transient  75.0   \n",
       "3  304.0     NaN                    0     Transient  75.0   \n",
       "4  240.0     NaN                    0     Transient  98.0   \n",
       "\n",
       "   required_car_parking_spaces  total_of_special_requests  reservation_status  \\\n",
       "0                            0                          0           Check-Out   \n",
       "1                            0                          0           Check-Out   \n",
       "2                            0                          0           Check-Out   \n",
       "3                            0                          0           Check-Out   \n",
       "4                            0                          1           Check-Out   \n",
       "\n",
       "  reservation_status_date  \n",
       "0              2015-07-01  \n",
       "1              2015-07-01  \n",
       "2              2015-07-02  \n",
       "3              2015-07-02  \n",
       "4              2015-07-03  \n",
       "\n",
       "[5 rows x 32 columns]"
      ]
     },
     "execution_count": 5,
     "metadata": {},
     "output_type": "execute_result"
    }
   ],
   "source": [
    "data = pd.read_csv('hotel_bookings.csv')\n",
    "data.head()"
   ]
  },
  {
   "cell_type": "code",
   "execution_count": 24,
   "id": "bc60a59f",
   "metadata": {},
   "outputs": [],
   "source": [
    "data = data[['is_canceled', 'lead_time', 'arrival_date_year', 'adults', 'children', 'babies', 'booking_changes']]\n",
    "data = data.dropna()\n",
    "X, y = data.loc[:, data.columns != 'is_canceled'], data[['is_canceled']]\n",
    "X_train, X_test, y_train, y_test = train_test_split(X, y, test_size=0.1, random_state=42)"
   ]
  },
  {
   "cell_type": "code",
   "execution_count": 27,
   "id": "4fa0dfb3",
   "metadata": {},
   "outputs": [
    {
     "name": "stderr",
     "output_type": "stream",
     "text": [
      "C:\\Users\\yevhe\\AppData\\Local\\Temp/ipykernel_12488/2452461117.py:2: DataConversionWarning: A column-vector y was passed when a 1d array was expected. Please change the shape of y to (n_samples,), for example using ravel().\n",
      "  clf.fit(X_train, y_train)\n"
     ]
    },
    {
     "data": {
      "text/plain": [
       "RandomForestClassifier(max_depth=2, random_state=0)"
      ]
     },
     "execution_count": 27,
     "metadata": {},
     "output_type": "execute_result"
    }
   ],
   "source": [
    "clf = RandomForestClassifier(max_depth=2, random_state=0)\n",
    "clf.fit(X_train, y_train)"
   ]
  },
  {
   "cell_type": "code",
   "execution_count": 75,
   "id": "b96622d7",
   "metadata": {},
   "outputs": [
    {
     "data": {
      "text/plain": [
       "array([0], dtype=int64)"
      ]
     },
     "execution_count": 75,
     "metadata": {},
     "output_type": "execute_result"
    }
   ],
   "source": [
    "# making prediction on unseen data\n",
    "observation = X_test.iloc[0,:].to_frame().transpose()\n",
    "clf.predict(observation)"
   ]
  },
  {
   "cell_type": "code",
   "execution_count": 82,
   "id": "7be6c0e6",
   "metadata": {},
   "outputs": [],
   "source": [
    "observation = pd.DataFrame({'lead_time': [203.0],\n",
    "                       'arrival_date_year': [2016.0],\n",
    "                       'adults': [2.0],\n",
    "                       'children': [0.0],\n",
    "                       'babies': [0.0],\n",
    "                       'booking_changes': [04.]},\n",
    "                      index = ['observation'])"
   ]
  },
  {
   "cell_type": "code",
   "execution_count": 84,
   "id": "90bcad86",
   "metadata": {},
   "outputs": [
    {
     "name": "stdout",
     "output_type": "stream",
     "text": [
      "Preparation of a new explainer is initiated\n",
      "\n",
      "  -> data              : 107447 rows 6 cols\n",
      "  -> target variable   : Parameter 'y' was a pandas.DataFrame. Converted to a numpy.ndarray.\n",
      "  -> target variable   : 107447 values\n",
      "  -> model_class       : sklearn.ensemble._forest.RandomForestClassifier (default)\n",
      "  -> label             : Not specified, model's class short name will be used. (default)\n",
      "  -> predict function  : <function yhat_proba_default at 0x000002AE0366C040> will be used (default)\n",
      "  -> predict function  : Accepts pandas.DataFrame and numpy.ndarray.\n",
      "  -> predicted values  : min = 0.139, mean = 0.37, max = 0.45\n",
      "  -> model type        : classification will be used (default)\n",
      "  -> residual function : difference between y and yhat (default)\n",
      "  -> residuals         : min = -0.45, mean = -3.51e-05, max = 0.861\n",
      "  -> model_info        : package sklearn\n",
      "\n",
      "A new explainer has been created!\n"
     ]
    }
   ],
   "source": [
    "exp = dx.Explainer(clf, X_train, y_train)"
   ]
  },
  {
   "cell_type": "code",
   "execution_count": 85,
   "id": "8126cdf8",
   "metadata": {},
   "outputs": [
    {
     "data": {
      "text/plain": [
       "array([0.3079201])"
      ]
     },
     "execution_count": 85,
     "metadata": {},
     "output_type": "execute_result"
    }
   ],
   "source": [
    "exp.predict(observation)"
   ]
  },
  {
   "cell_type": "code",
   "execution_count": 89,
   "id": "1033990c",
   "metadata": {},
   "outputs": [],
   "source": [
    "bd_observation = exp.predict_parts(observation, type='break_down', label=observation.index[0])\n",
    "bd_interactions_observation = exp.predict_parts(observation, type='break_down_interactions', label=\"observation+\")"
   ]
  },
  {
   "cell_type": "code",
   "execution_count": 87,
   "id": "2b4f3950",
   "metadata": {},
   "outputs": [
    {
     "data": {
      "text/html": [
       "<div>\n",
       "<style scoped>\n",
       "    .dataframe tbody tr th:only-of-type {\n",
       "        vertical-align: middle;\n",
       "    }\n",
       "\n",
       "    .dataframe tbody tr th {\n",
       "        vertical-align: top;\n",
       "    }\n",
       "\n",
       "    .dataframe thead th {\n",
       "        text-align: right;\n",
       "    }\n",
       "</style>\n",
       "<table border=\"1\" class=\"dataframe\">\n",
       "  <thead>\n",
       "    <tr style=\"text-align: right;\">\n",
       "      <th></th>\n",
       "      <th>variable_name</th>\n",
       "      <th>variable_value</th>\n",
       "      <th>variable</th>\n",
       "      <th>cumulative</th>\n",
       "      <th>contribution</th>\n",
       "      <th>sign</th>\n",
       "      <th>position</th>\n",
       "      <th>label</th>\n",
       "    </tr>\n",
       "  </thead>\n",
       "  <tbody>\n",
       "    <tr>\n",
       "      <th>0</th>\n",
       "      <td>intercept</td>\n",
       "      <td>1</td>\n",
       "      <td>intercept</td>\n",
       "      <td>0.370320</td>\n",
       "      <td>0.370320</td>\n",
       "      <td>1.0</td>\n",
       "      <td>7</td>\n",
       "      <td>observation</td>\n",
       "    </tr>\n",
       "    <tr>\n",
       "      <th>1</th>\n",
       "      <td>lead_time</td>\n",
       "      <td>203.0</td>\n",
       "      <td>lead_time = 203.0</td>\n",
       "      <td>0.405468</td>\n",
       "      <td>0.035148</td>\n",
       "      <td>1.0</td>\n",
       "      <td>6</td>\n",
       "      <td>observation</td>\n",
       "    </tr>\n",
       "    <tr>\n",
       "      <th>2</th>\n",
       "      <td>adults</td>\n",
       "      <td>2.0</td>\n",
       "      <td>adults = 2.0</td>\n",
       "      <td>0.412069</td>\n",
       "      <td>0.006601</td>\n",
       "      <td>1.0</td>\n",
       "      <td>5</td>\n",
       "      <td>observation</td>\n",
       "    </tr>\n",
       "    <tr>\n",
       "      <th>3</th>\n",
       "      <td>babies</td>\n",
       "      <td>0.0</td>\n",
       "      <td>babies = 0.0</td>\n",
       "      <td>0.412456</td>\n",
       "      <td>0.000386</td>\n",
       "      <td>1.0</td>\n",
       "      <td>4</td>\n",
       "      <td>observation</td>\n",
       "    </tr>\n",
       "    <tr>\n",
       "      <th>4</th>\n",
       "      <td>children</td>\n",
       "      <td>0.0</td>\n",
       "      <td>children = 0.0</td>\n",
       "      <td>0.412374</td>\n",
       "      <td>-0.000082</td>\n",
       "      <td>-1.0</td>\n",
       "      <td>3</td>\n",
       "      <td>observation</td>\n",
       "    </tr>\n",
       "    <tr>\n",
       "      <th>5</th>\n",
       "      <td>arrival_date_year</td>\n",
       "      <td>2016.0</td>\n",
       "      <td>arrival_date_year = 2016.0</td>\n",
       "      <td>0.410609</td>\n",
       "      <td>-0.001765</td>\n",
       "      <td>-1.0</td>\n",
       "      <td>2</td>\n",
       "      <td>observation</td>\n",
       "    </tr>\n",
       "    <tr>\n",
       "      <th>6</th>\n",
       "      <td>booking_changes</td>\n",
       "      <td>4.0</td>\n",
       "      <td>booking_changes = 4.0</td>\n",
       "      <td>0.307920</td>\n",
       "      <td>-0.102689</td>\n",
       "      <td>-1.0</td>\n",
       "      <td>1</td>\n",
       "      <td>observation</td>\n",
       "    </tr>\n",
       "    <tr>\n",
       "      <th>7</th>\n",
       "      <td></td>\n",
       "      <td></td>\n",
       "      <td>prediction</td>\n",
       "      <td>0.307920</td>\n",
       "      <td>0.307920</td>\n",
       "      <td>1.0</td>\n",
       "      <td>0</td>\n",
       "      <td>observation</td>\n",
       "    </tr>\n",
       "  </tbody>\n",
       "</table>\n",
       "</div>"
      ],
      "text/plain": [
       "       variable_name variable_value                    variable  cumulative  \\\n",
       "0          intercept              1                   intercept    0.370320   \n",
       "1          lead_time          203.0           lead_time = 203.0    0.405468   \n",
       "2             adults            2.0                adults = 2.0    0.412069   \n",
       "3             babies            0.0                babies = 0.0    0.412456   \n",
       "4           children            0.0              children = 0.0    0.412374   \n",
       "5  arrival_date_year         2016.0  arrival_date_year = 2016.0    0.410609   \n",
       "6    booking_changes            4.0       booking_changes = 4.0    0.307920   \n",
       "7                                                    prediction    0.307920   \n",
       "\n",
       "   contribution  sign  position        label  \n",
       "0      0.370320   1.0         7  observation  \n",
       "1      0.035148   1.0         6  observation  \n",
       "2      0.006601   1.0         5  observation  \n",
       "3      0.000386   1.0         4  observation  \n",
       "4     -0.000082  -1.0         3  observation  \n",
       "5     -0.001765  -1.0         2  observation  \n",
       "6     -0.102689  -1.0         1  observation  \n",
       "7      0.307920   1.0         0  observation  "
      ]
     },
     "execution_count": 87,
     "metadata": {},
     "output_type": "execute_result"
    }
   ],
   "source": [
    "bd_observation.result"
   ]
  },
  {
   "cell_type": "code",
   "execution_count": 90,
   "id": "10ffc8b9",
   "metadata": {},
   "outputs": [
    {
     "data": {
      "application/vnd.plotly.v1+json": {
       "config": {
        "displaylogo": false,
        "modeBarButtonsToRemove": [
         "sendDataToCloud",
         "lasso2d",
         "autoScale2d",
         "select2d",
         "zoom2d",
         "pan2d",
         "zoomIn2d",
         "zoomOut2d",
         "resetScale2d",
         "toggleSpikelines",
         "hoverCompareCartesian",
         "hoverClosestCartesian"
        ],
        "plotlyServerURL": "https://plot.ly",
        "staticPlot": false,
        "toImageButtonOptions": {
         "height": null,
         "width": null
        }
       },
       "data": [
        {
         "base": 0.3703199637383929,
         "connector": {
          "line": {
           "color": "#371ea3",
           "dash": "solid",
           "width": 1
          },
          "mode": "spanning"
         },
         "decreasing": {
          "marker": {
           "color": "#f05a71"
          }
         },
         "hoverinfo": "text+delta",
         "hoverlabel": {
          "bgcolor": "rgba(0,0,0,0.8)"
         },
         "hovertext": [
          "Average response: 0.37<br>Prediction: 0.308",
          "lead_time = 203.0<br>increases average response by",
          "adults = 2.0<br>increases average response by",
          "babies = 0.0<br>decreases average response by",
          "children = 0.0<br>decreases average response by",
          "arrival_date_year = 2016.0<br>decreases average response by",
          "booking_changes = 4.0<br>decreases average response by",
          "Average response: 0.37<br>Prediction: 0.308"
         ],
         "increasing": {
          "marker": {
           "color": "#8bdcbe"
          }
         },
         "measure": [
          "relative",
          "relative",
          "relative",
          "relative",
          "relative",
          "relative",
          "relative",
          "total"
         ],
         "orientation": "h",
         "showlegend": false,
         "text": [
          "0.37",
          "+0.035",
          "+0.007",
          "0.0",
          "-0.0",
          "-0.002",
          "-0.103",
          "0.308"
         ],
         "textposition": "outside",
         "totals": {
          "marker": {
           "color": "#371ea3"
          }
         },
         "type": "waterfall",
         "x": [
          0,
          0.035,
          0.007,
          0,
          0,
          -0.002,
          -0.103,
          -0.062
         ],
         "xaxis": "x",
         "y": [
          "intercept",
          "lead_time = 203.0",
          "adults = 2.0",
          "babies = 0.0",
          "children = 0.0",
          "arrival_date_year = 2016.0",
          "booking_changes = 4.0",
          "prediction"
         ],
         "yaxis": "y"
        },
        {
         "base": 0.3703199637383929,
         "connector": {
          "line": {
           "color": "#371ea3",
           "dash": "solid",
           "width": 1
          },
          "mode": "spanning"
         },
         "decreasing": {
          "marker": {
           "color": "#f05a71"
          }
         },
         "hoverinfo": "text+delta",
         "hoverlabel": {
          "bgcolor": "rgba(0,0,0,0.8)"
         },
         "hovertext": [
          "Average response: 0.37<br>Prediction: 0.308",
          "booking_changes = 4.0<br>decreases average response by",
          "lead_time = 203.0<br>increases average response by",
          "adults = 2.0<br>increases average response by",
          "arrival_date_year = 2016.0<br>decreases average response by",
          "babies = 0.0<br>decreases average response by",
          "children = 0.0<br>decreases average response by",
          "Average response: 0.37<br>Prediction: 0.308"
         ],
         "increasing": {
          "marker": {
           "color": "#8bdcbe"
          }
         },
         "measure": [
          "relative",
          "relative",
          "relative",
          "relative",
          "relative",
          "relative",
          "relative",
          "total"
         ],
         "orientation": "h",
         "showlegend": false,
         "text": [
          "0.37",
          "-0.095",
          "+0.029",
          "+0.006",
          "-0.003",
          "0.0",
          "-0.0",
          "0.308"
         ],
         "textposition": "outside",
         "totals": {
          "marker": {
           "color": "#371ea3"
          }
         },
         "type": "waterfall",
         "x": [
          0,
          -0.095,
          0.029,
          0.006,
          -0.003,
          0,
          0,
          -0.062
         ],
         "xaxis": "x2",
         "y": [
          "intercept",
          "booking_changes = 4.0",
          "lead_time = 203.0",
          "adults = 2.0",
          "arrival_date_year = 2016.0",
          "babies = 0.0",
          "children = 0.0",
          "prediction"
         ],
         "yaxis": "y2"
        }
       ],
       "layout": {
        "annotations": [
         {
          "font": {
           "size": 16
          },
          "showarrow": false,
          "text": "observation",
          "x": 0.5,
          "xanchor": "center",
          "xref": "paper",
          "y": 1,
          "yanchor": "bottom",
          "yref": "paper"
         },
         {
          "font": {
           "size": 16
          },
          "showarrow": false,
          "text": "observation+",
          "x": 0.5,
          "xanchor": "center",
          "xref": "paper",
          "y": 0.45,
          "yanchor": "bottom",
          "yref": "paper"
         },
         {
          "font": {
           "size": 16
          },
          "showarrow": false,
          "text": "contribution",
          "x": 0.5,
          "xanchor": "center",
          "xref": "paper",
          "y": 0,
          "yanchor": "top",
          "yref": "paper",
          "yshift": -30
         }
        ],
        "font": {
         "color": "#371ea3"
        },
        "height": 547,
        "margin": {
         "b": 71,
         "r": 30,
         "t": 78
        },
        "shapes": [
         {
          "line": {
           "color": "#371ea3",
           "dash": "dot",
           "width": 1.5
          },
          "type": "line",
          "x0": 0.3703199637383929,
          "x1": 0.3703199637383929,
          "xref": "x",
          "y0": -1,
          "y1": 8,
          "yref": "y"
         },
         {
          "line": {
           "color": "#371ea3",
           "dash": "dot",
           "width": 1.5
          },
          "type": "line",
          "x0": 0.3703199637383929,
          "x1": 0.3703199637383929,
          "xref": "x2",
          "y0": -1,
          "y1": 8,
          "yref": "y2"
         }
        ],
        "template": {
         "data": {
          "scatter": [
           {
            "type": "scatter"
           }
          ]
         }
        },
        "title": {
         "text": "Break Down",
         "x": 0.15
        },
        "xaxis": {
         "anchor": "y",
         "automargin": true,
         "domain": [
          0,
          1
         ],
         "fixedrange": true,
         "gridwidth": 2,
         "matches": "x2",
         "range": [
          0.26075000000000004,
          0.4276
         ],
         "showticklabels": false,
         "tickcolor": "white",
         "ticklen": 3,
         "ticks": "outside",
         "type": "linear",
         "zeroline": false
        },
        "xaxis2": {
         "anchor": "y2",
         "automargin": true,
         "domain": [
          0,
          1
         ],
         "fixedrange": true,
         "gridwidth": 2,
         "range": [
          0.26075000000000004,
          0.4276
         ],
         "tickcolor": "white",
         "ticklen": 3,
         "ticks": "outside",
         "type": "linear",
         "zeroline": false
        },
        "yaxis": {
         "anchor": "x",
         "automargin": true,
         "autorange": "reversed",
         "domain": [
          0.55,
          1
         ],
         "fixedrange": true,
         "gridwidth": 2,
         "tickcolor": "white",
         "ticklen": 10,
         "ticks": "outside",
         "type": "category"
        },
        "yaxis2": {
         "anchor": "x2",
         "automargin": true,
         "autorange": "reversed",
         "domain": [
          0,
          0.45
         ],
         "fixedrange": true,
         "gridwidth": 2,
         "tickcolor": "white",
         "ticklen": 10,
         "ticks": "outside",
         "type": "category"
        }
       }
      },
      "text/html": [
       "<div>                            <div id=\"52aeb05b-4b62-4dec-bf6d-1bdd72313a3d\" class=\"plotly-graph-div\" style=\"height:547.0px; width:100%;\"></div>            <script type=\"text/javascript\">                require([\"plotly\"], function(Plotly) {                    window.PLOTLYENV=window.PLOTLYENV || {};                                    if (document.getElementById(\"52aeb05b-4b62-4dec-bf6d-1bdd72313a3d\")) {                    Plotly.newPlot(                        \"52aeb05b-4b62-4dec-bf6d-1bdd72313a3d\",                        [{\"base\":0.3703199637383929,\"connector\":{\"line\":{\"color\":\"#371ea3\",\"dash\":\"solid\",\"width\":1},\"mode\":\"spanning\"},\"decreasing\":{\"marker\":{\"color\":\"#f05a71\"}},\"hoverinfo\":\"text+delta\",\"hoverlabel\":{\"bgcolor\":\"rgba(0,0,0,0.8)\"},\"hovertext\":[\"Average response: 0.37<br>Prediction: 0.308\",\"lead_time = 203.0<br>increases average response by\",\"adults = 2.0<br>increases average response by\",\"babies = 0.0<br>decreases average response by\",\"children = 0.0<br>decreases average response by\",\"arrival_date_year = 2016.0<br>decreases average response by\",\"booking_changes = 4.0<br>decreases average response by\",\"Average response: 0.37<br>Prediction: 0.308\"],\"increasing\":{\"marker\":{\"color\":\"#8bdcbe\"}},\"measure\":[\"relative\",\"relative\",\"relative\",\"relative\",\"relative\",\"relative\",\"relative\",\"total\"],\"orientation\":\"h\",\"showlegend\":false,\"text\":[\"0.37\",\"+0.035\",\"+0.007\",\"0.0\",\"-0.0\",\"-0.002\",\"-0.103\",\"0.308\"],\"textposition\":\"outside\",\"totals\":{\"marker\":{\"color\":\"#371ea3\"}},\"x\":[0.0,0.035,0.007,0.0,-0.0,-0.002,-0.103,-0.062],\"y\":[\"intercept\",\"lead_time = 203.0\",\"adults = 2.0\",\"babies = 0.0\",\"children = 0.0\",\"arrival_date_year = 2016.0\",\"booking_changes = 4.0\",\"prediction\"],\"type\":\"waterfall\",\"xaxis\":\"x\",\"yaxis\":\"y\"},{\"base\":0.3703199637383929,\"connector\":{\"line\":{\"color\":\"#371ea3\",\"dash\":\"solid\",\"width\":1},\"mode\":\"spanning\"},\"decreasing\":{\"marker\":{\"color\":\"#f05a71\"}},\"hoverinfo\":\"text+delta\",\"hoverlabel\":{\"bgcolor\":\"rgba(0,0,0,0.8)\"},\"hovertext\":[\"Average response: 0.37<br>Prediction: 0.308\",\"booking_changes = 4.0<br>decreases average response by\",\"lead_time = 203.0<br>increases average response by\",\"adults = 2.0<br>increases average response by\",\"arrival_date_year = 2016.0<br>decreases average response by\",\"babies = 0.0<br>decreases average response by\",\"children = 0.0<br>decreases average response by\",\"Average response: 0.37<br>Prediction: 0.308\"],\"increasing\":{\"marker\":{\"color\":\"#8bdcbe\"}},\"measure\":[\"relative\",\"relative\",\"relative\",\"relative\",\"relative\",\"relative\",\"relative\",\"total\"],\"orientation\":\"h\",\"showlegend\":false,\"text\":[\"0.37\",\"-0.095\",\"+0.029\",\"+0.006\",\"-0.003\",\"0.0\",\"-0.0\",\"0.308\"],\"textposition\":\"outside\",\"totals\":{\"marker\":{\"color\":\"#371ea3\"}},\"x\":[0.0,-0.095,0.029,0.006,-0.003,0.0,-0.0,-0.062],\"y\":[\"intercept\",\"booking_changes = 4.0\",\"lead_time = 203.0\",\"adults = 2.0\",\"arrival_date_year = 2016.0\",\"babies = 0.0\",\"children = 0.0\",\"prediction\"],\"type\":\"waterfall\",\"xaxis\":\"x2\",\"yaxis\":\"y2\"}],                        {\"template\":{\"data\":{\"scatter\":[{\"type\":\"scatter\"}]}},\"xaxis\":{\"anchor\":\"y\",\"domain\":[0.0,1.0],\"matches\":\"x2\",\"showticklabels\":false,\"type\":\"linear\",\"gridwidth\":2,\"zeroline\":false,\"automargin\":true,\"ticks\":\"outside\",\"tickcolor\":\"white\",\"ticklen\":3,\"fixedrange\":true,\"range\":[0.26075000000000004,0.4276]},\"yaxis\":{\"anchor\":\"x\",\"domain\":[0.55,1.0],\"type\":\"category\",\"autorange\":\"reversed\",\"gridwidth\":2,\"automargin\":true,\"ticks\":\"outside\",\"tickcolor\":\"white\",\"ticklen\":10,\"fixedrange\":true},\"xaxis2\":{\"anchor\":\"y2\",\"domain\":[0.0,1.0],\"type\":\"linear\",\"gridwidth\":2,\"zeroline\":false,\"automargin\":true,\"ticks\":\"outside\",\"tickcolor\":\"white\",\"ticklen\":3,\"fixedrange\":true,\"range\":[0.26075000000000004,0.4276]},\"yaxis2\":{\"anchor\":\"x2\",\"domain\":[0.0,0.45],\"type\":\"category\",\"autorange\":\"reversed\",\"gridwidth\":2,\"automargin\":true,\"ticks\":\"outside\",\"tickcolor\":\"white\",\"ticklen\":10,\"fixedrange\":true},\"annotations\":[{\"font\":{\"size\":16},\"showarrow\":false,\"text\":\"observation\",\"x\":0.5,\"xanchor\":\"center\",\"xref\":\"paper\",\"y\":1.0,\"yanchor\":\"bottom\",\"yref\":\"paper\"},{\"font\":{\"size\":16},\"showarrow\":false,\"text\":\"observation+\",\"x\":0.5,\"xanchor\":\"center\",\"xref\":\"paper\",\"y\":0.45,\"yanchor\":\"bottom\",\"yref\":\"paper\"},{\"font\":{\"size\":16},\"showarrow\":false,\"text\":\"contribution\",\"x\":0.5,\"xanchor\":\"center\",\"xref\":\"paper\",\"y\":0,\"yanchor\":\"top\",\"yref\":\"paper\",\"yshift\":-30}],\"shapes\":[{\"line\":{\"color\":\"#371ea3\",\"dash\":\"dot\",\"width\":1.5},\"type\":\"line\",\"x0\":0.3703199637383929,\"x1\":0.3703199637383929,\"xref\":\"x\",\"y0\":-1,\"y1\":8,\"yref\":\"y\"},{\"line\":{\"color\":\"#371ea3\",\"dash\":\"dot\",\"width\":1.5},\"type\":\"line\",\"x0\":0.3703199637383929,\"x1\":0.3703199637383929,\"xref\":\"x2\",\"y0\":-1,\"y1\":8,\"yref\":\"y2\"}],\"title\":{\"text\":\"Break Down\",\"x\":0.15},\"font\":{\"color\":\"#371ea3\"},\"margin\":{\"t\":78,\"b\":71,\"r\":30},\"height\":547.0},                        {\"displaylogo\": false, \"staticPlot\": false, \"toImageButtonOptions\": {\"height\": null, \"width\": null}, \"modeBarButtonsToRemove\": [\"sendDataToCloud\", \"lasso2d\", \"autoScale2d\", \"select2d\", \"zoom2d\", \"pan2d\", \"zoomIn2d\", \"zoomOut2d\", \"resetScale2d\", \"toggleSpikelines\", \"hoverCompareCartesian\", \"hoverClosestCartesian\"], \"responsive\": true}                    ).then(function(){\n",
       "                            \n",
       "var gd = document.getElementById('52aeb05b-4b62-4dec-bf6d-1bdd72313a3d');\n",
       "var x = new MutationObserver(function (mutations, observer) {{\n",
       "        var display = window.getComputedStyle(gd).display;\n",
       "        if (!display || display === 'none') {{\n",
       "            console.log([gd, 'removed!']);\n",
       "            Plotly.purge(gd);\n",
       "            observer.disconnect();\n",
       "        }}\n",
       "}});\n",
       "\n",
       "// Listen for the removal of the full notebook cells\n",
       "var notebookContainer = gd.closest('#notebook-container');\n",
       "if (notebookContainer) {{\n",
       "    x.observe(notebookContainer, {childList: true});\n",
       "}}\n",
       "\n",
       "// Listen for the clearing of the current output cell\n",
       "var outputEl = gd.closest('.output');\n",
       "if (outputEl) {{\n",
       "    x.observe(outputEl, {childList: true});\n",
       "}}\n",
       "\n",
       "                        })                };                });            </script>        </div>"
      ]
     },
     "metadata": {},
     "output_type": "display_data"
    }
   ],
   "source": [
    "bd_observation.plot(bd_interactions_observation)"
   ]
  },
  {
   "cell_type": "code",
   "execution_count": 91,
   "id": "f53dbe71",
   "metadata": {},
   "outputs": [],
   "source": [
    "sh_observation = exp.predict_parts(observation, type='shap', B = 10, label=observation.index[0])"
   ]
  },
  {
   "cell_type": "code",
   "execution_count": 92,
   "id": "33176a92",
   "metadata": {},
   "outputs": [
    {
     "data": {
      "application/vnd.plotly.v1+json": {
       "config": {
        "displaylogo": false,
        "modeBarButtonsToRemove": [
         "sendDataToCloud",
         "lasso2d",
         "autoScale2d",
         "select2d",
         "zoom2d",
         "pan2d",
         "zoomIn2d",
         "zoomOut2d",
         "resetScale2d",
         "toggleSpikelines",
         "hoverCompareCartesian",
         "hoverClosestCartesian"
        ],
        "plotlyServerURL": "https://plot.ly",
        "staticPlot": false,
        "toImageButtonOptions": {
         "height": null,
         "width": null
        }
       },
       "data": [
        {
         "base": 0.3703199637383929,
         "hoverinfo": "text",
         "hoverlabel": {
          "bgcolor": "rgba(0,0,0,0.8)"
         },
         "hovertext": [
          "Average response: 0.37<br>Prediction: 0.308<br>booking_changes = 4.0<br>decreases average response <br>by 0.097",
          "Average response: 0.37<br>Prediction: 0.308<br>lead_time = 203.0<br>increases average response <br>by 0.032",
          "Average response: 0.37<br>Prediction: 0.308<br>adults = 2.0<br>increases average response <br>by 0.005",
          "Average response: 0.37<br>Prediction: 0.308<br>arrival_date_year = 2016.0<br>decreases average response <br>by 0.002",
          "Average response: 0.37<br>Prediction: 0.308<br>babies = 0.0<br>decreases average response <br>by 0.0",
          "Average response: 0.37<br>Prediction: 0.308<br>children = 0.0<br>decreases average response <br>by 0.0"
         ],
         "marker": {
          "color": [
           "#f05a71",
           "#8bdcbe",
           "#8bdcbe",
           "#f05a71",
           "#8bdcbe",
           "#f05a71"
          ]
         },
         "orientation": "h",
         "showlegend": false,
         "text": [
          "-0.097",
          "+0.032",
          "+0.005",
          "-0.002",
          "0.0",
          "-0.0"
         ],
         "textposition": "outside",
         "type": "bar",
         "x": [
          -0.097,
          0.032,
          0.005,
          -0.002,
          0,
          0
         ],
         "xaxis": "x",
         "y": [
          "booking_changes = 4.0",
          "lead_time = 203.0",
          "adults = 2.0",
          "arrival_date_year = 2016.0",
          "babies = 0.0",
          "children = 0.0"
         ],
         "yaxis": "y"
        }
       ],
       "layout": {
        "annotations": [
         {
          "font": {
           "size": 16
          },
          "showarrow": false,
          "text": "observation",
          "x": 0.5,
          "xanchor": "center",
          "xref": "paper",
          "y": 1,
          "yanchor": "bottom",
          "yref": "paper"
         },
         {
          "font": {
           "size": 16
          },
          "showarrow": false,
          "text": "contribution",
          "x": 0.5,
          "xanchor": "center",
          "xref": "paper",
          "y": 0,
          "yanchor": "top",
          "yref": "paper",
          "yshift": -30
         }
        ],
        "font": {
         "color": "#371ea3"
        },
        "height": 273,
        "margin": {
         "b": 71,
         "r": 30,
         "t": 78
        },
        "shapes": [
         {
          "line": {
           "color": "#371ea3",
           "dash": "dot",
           "width": 1.5
          },
          "type": "line",
          "x0": 0.3703199637383929,
          "x1": 0.3703199637383929,
          "xref": "x",
          "y0": -1,
          "y1": 6,
          "yref": "y"
         }
        ],
        "template": {
         "data": {
          "scatter": [
           {
            "type": "scatter"
           }
          ]
         }
        },
        "title": {
         "text": "Shapley Values",
         "x": 0.15
        },
        "xaxis": {
         "anchor": "y",
         "automargin": true,
         "domain": [
          0,
          1
         ],
         "fixedrange": true,
         "gridwidth": 2,
         "range": [
          0.25396996373839287,
          0.42166996373839283
         ],
         "tickcolor": "white",
         "ticklen": 3,
         "ticks": "outside",
         "type": "linear",
         "zeroline": false
        },
        "yaxis": {
         "anchor": "x",
         "automargin": true,
         "autorange": "reversed",
         "domain": [
          0,
          1
         ],
         "fixedrange": true,
         "gridwidth": 2,
         "tickcolor": "white",
         "ticklen": 10,
         "ticks": "outside",
         "type": "category"
        }
       }
      },
      "text/html": [
       "<div>                            <div id=\"553b9edc-ff3c-4a00-8d86-7b24d5ca0864\" class=\"plotly-graph-div\" style=\"height:273.0px; width:100%;\"></div>            <script type=\"text/javascript\">                require([\"plotly\"], function(Plotly) {                    window.PLOTLYENV=window.PLOTLYENV || {};                                    if (document.getElementById(\"553b9edc-ff3c-4a00-8d86-7b24d5ca0864\")) {                    Plotly.newPlot(                        \"553b9edc-ff3c-4a00-8d86-7b24d5ca0864\",                        [{\"base\":0.3703199637383929,\"hoverinfo\":\"text\",\"hoverlabel\":{\"bgcolor\":\"rgba(0,0,0,0.8)\"},\"hovertext\":[\"Average response: 0.37<br>Prediction: 0.308<br>booking_changes = 4.0<br>decreases average response <br>by 0.097\",\"Average response: 0.37<br>Prediction: 0.308<br>lead_time = 203.0<br>increases average response <br>by 0.032\",\"Average response: 0.37<br>Prediction: 0.308<br>adults = 2.0<br>increases average response <br>by 0.005\",\"Average response: 0.37<br>Prediction: 0.308<br>arrival_date_year = 2016.0<br>decreases average response <br>by 0.002\",\"Average response: 0.37<br>Prediction: 0.308<br>babies = 0.0<br>decreases average response <br>by 0.0\",\"Average response: 0.37<br>Prediction: 0.308<br>children = 0.0<br>decreases average response <br>by 0.0\"],\"marker\":{\"color\":[\"#f05a71\",\"#8bdcbe\",\"#8bdcbe\",\"#f05a71\",\"#8bdcbe\",\"#f05a71\"]},\"orientation\":\"h\",\"showlegend\":false,\"text\":[\"-0.097\",\"+0.032\",\"+0.005\",\"-0.002\",\"0.0\",\"-0.0\"],\"textposition\":\"outside\",\"x\":[-0.097,0.032,0.005,-0.002,0.0,-0.0],\"y\":[\"booking_changes = 4.0\",\"lead_time = 203.0\",\"adults = 2.0\",\"arrival_date_year = 2016.0\",\"babies = 0.0\",\"children = 0.0\"],\"type\":\"bar\",\"xaxis\":\"x\",\"yaxis\":\"y\"}],                        {\"template\":{\"data\":{\"scatter\":[{\"type\":\"scatter\"}]}},\"xaxis\":{\"anchor\":\"y\",\"domain\":[0.0,1.0],\"type\":\"linear\",\"gridwidth\":2,\"zeroline\":false,\"automargin\":true,\"ticks\":\"outside\",\"tickcolor\":\"white\",\"ticklen\":3,\"fixedrange\":true,\"range\":[0.25396996373839287,0.42166996373839283]},\"yaxis\":{\"anchor\":\"x\",\"domain\":[0.0,1.0],\"type\":\"category\",\"autorange\":\"reversed\",\"gridwidth\":2,\"automargin\":true,\"ticks\":\"outside\",\"tickcolor\":\"white\",\"ticklen\":10,\"fixedrange\":true},\"annotations\":[{\"font\":{\"size\":16},\"showarrow\":false,\"text\":\"observation\",\"x\":0.5,\"xanchor\":\"center\",\"xref\":\"paper\",\"y\":1.0,\"yanchor\":\"bottom\",\"yref\":\"paper\"},{\"font\":{\"size\":16},\"showarrow\":false,\"text\":\"contribution\",\"x\":0.5,\"xanchor\":\"center\",\"xref\":\"paper\",\"y\":0,\"yanchor\":\"top\",\"yref\":\"paper\",\"yshift\":-30}],\"shapes\":[{\"line\":{\"color\":\"#371ea3\",\"dash\":\"dot\",\"width\":1.5},\"type\":\"line\",\"x0\":0.3703199637383929,\"x1\":0.3703199637383929,\"xref\":\"x\",\"y0\":-1,\"y1\":6,\"yref\":\"y\"}],\"title\":{\"text\":\"Shapley Values\",\"x\":0.15},\"font\":{\"color\":\"#371ea3\"},\"margin\":{\"t\":78,\"b\":71,\"r\":30},\"height\":273.0},                        {\"displaylogo\": false, \"staticPlot\": false, \"toImageButtonOptions\": {\"height\": null, \"width\": null}, \"modeBarButtonsToRemove\": [\"sendDataToCloud\", \"lasso2d\", \"autoScale2d\", \"select2d\", \"zoom2d\", \"pan2d\", \"zoomIn2d\", \"zoomOut2d\", \"resetScale2d\", \"toggleSpikelines\", \"hoverCompareCartesian\", \"hoverClosestCartesian\"], \"responsive\": true}                    ).then(function(){\n",
       "                            \n",
       "var gd = document.getElementById('553b9edc-ff3c-4a00-8d86-7b24d5ca0864');\n",
       "var x = new MutationObserver(function (mutations, observer) {{\n",
       "        var display = window.getComputedStyle(gd).display;\n",
       "        if (!display || display === 'none') {{\n",
       "            console.log([gd, 'removed!']);\n",
       "            Plotly.purge(gd);\n",
       "            observer.disconnect();\n",
       "        }}\n",
       "}});\n",
       "\n",
       "// Listen for the removal of the full notebook cells\n",
       "var notebookContainer = gd.closest('#notebook-container');\n",
       "if (notebookContainer) {{\n",
       "    x.observe(notebookContainer, {childList: true});\n",
       "}}\n",
       "\n",
       "// Listen for the clearing of the current output cell\n",
       "var outputEl = gd.closest('.output');\n",
       "if (outputEl) {{\n",
       "    x.observe(outputEl, {childList: true});\n",
       "}}\n",
       "\n",
       "                        })                };                });            </script>        </div>"
      ]
     },
     "metadata": {},
     "output_type": "display_data"
    }
   ],
   "source": [
    "sh_observation.plot(bar_width = 16)"
   ]
  }
 ],
 "metadata": {
  "kernelspec": {
   "display_name": "Python 3 (ipykernel)",
   "language": "python",
   "name": "python3"
  },
  "language_info": {
   "codemirror_mode": {
    "name": "ipython",
    "version": 3
   },
   "file_extension": ".py",
   "mimetype": "text/x-python",
   "name": "python",
   "nbconvert_exporter": "python",
   "pygments_lexer": "ipython3",
   "version": "3.8.12"
  }
 },
 "nbformat": 4,
 "nbformat_minor": 5
}
