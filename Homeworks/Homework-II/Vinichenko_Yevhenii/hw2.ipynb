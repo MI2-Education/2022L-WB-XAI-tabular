{
 "cells": [
  {
   "cell_type": "markdown",
   "id": "0661d00d",
   "metadata": {},
   "source": [
    "# Homework 2"
   ]
  },
  {
   "cell_type": "code",
   "execution_count": 1,
   "id": "3e1fcef9",
   "metadata": {},
   "outputs": [],
   "source": [
    "import dalex as dx\n",
    "import pandas as pd\n",
    "import warnings\n",
    "warnings.filterwarnings('ignore')\n",
    "\n",
    "from sklearn.ensemble import RandomForestClassifier\n",
    "from sklearn.model_selection import train_test_split"
   ]
  },
  {
   "cell_type": "code",
   "execution_count": 2,
   "id": "5548b1aa",
   "metadata": {},
   "outputs": [
    {
     "data": {
      "text/html": [
       "<div>\n",
       "<style scoped>\n",
       "    .dataframe tbody tr th:only-of-type {\n",
       "        vertical-align: middle;\n",
       "    }\n",
       "\n",
       "    .dataframe tbody tr th {\n",
       "        vertical-align: top;\n",
       "    }\n",
       "\n",
       "    .dataframe thead th {\n",
       "        text-align: right;\n",
       "    }\n",
       "</style>\n",
       "<table border=\"1\" class=\"dataframe\">\n",
       "  <thead>\n",
       "    <tr style=\"text-align: right;\">\n",
       "      <th></th>\n",
       "      <th>hotel</th>\n",
       "      <th>is_canceled</th>\n",
       "      <th>lead_time</th>\n",
       "      <th>arrival_date_year</th>\n",
       "      <th>arrival_date_month</th>\n",
       "      <th>arrival_date_week_number</th>\n",
       "      <th>arrival_date_day_of_month</th>\n",
       "      <th>stays_in_weekend_nights</th>\n",
       "      <th>stays_in_week_nights</th>\n",
       "      <th>adults</th>\n",
       "      <th>...</th>\n",
       "      <th>deposit_type</th>\n",
       "      <th>agent</th>\n",
       "      <th>company</th>\n",
       "      <th>days_in_waiting_list</th>\n",
       "      <th>customer_type</th>\n",
       "      <th>adr</th>\n",
       "      <th>required_car_parking_spaces</th>\n",
       "      <th>total_of_special_requests</th>\n",
       "      <th>reservation_status</th>\n",
       "      <th>reservation_status_date</th>\n",
       "    </tr>\n",
       "  </thead>\n",
       "  <tbody>\n",
       "    <tr>\n",
       "      <th>0</th>\n",
       "      <td>Resort Hotel</td>\n",
       "      <td>0</td>\n",
       "      <td>342</td>\n",
       "      <td>2015</td>\n",
       "      <td>July</td>\n",
       "      <td>27</td>\n",
       "      <td>1</td>\n",
       "      <td>0</td>\n",
       "      <td>0</td>\n",
       "      <td>2</td>\n",
       "      <td>...</td>\n",
       "      <td>No Deposit</td>\n",
       "      <td>NaN</td>\n",
       "      <td>NaN</td>\n",
       "      <td>0</td>\n",
       "      <td>Transient</td>\n",
       "      <td>0.0</td>\n",
       "      <td>0</td>\n",
       "      <td>0</td>\n",
       "      <td>Check-Out</td>\n",
       "      <td>2015-07-01</td>\n",
       "    </tr>\n",
       "    <tr>\n",
       "      <th>1</th>\n",
       "      <td>Resort Hotel</td>\n",
       "      <td>0</td>\n",
       "      <td>737</td>\n",
       "      <td>2015</td>\n",
       "      <td>July</td>\n",
       "      <td>27</td>\n",
       "      <td>1</td>\n",
       "      <td>0</td>\n",
       "      <td>0</td>\n",
       "      <td>2</td>\n",
       "      <td>...</td>\n",
       "      <td>No Deposit</td>\n",
       "      <td>NaN</td>\n",
       "      <td>NaN</td>\n",
       "      <td>0</td>\n",
       "      <td>Transient</td>\n",
       "      <td>0.0</td>\n",
       "      <td>0</td>\n",
       "      <td>0</td>\n",
       "      <td>Check-Out</td>\n",
       "      <td>2015-07-01</td>\n",
       "    </tr>\n",
       "    <tr>\n",
       "      <th>2</th>\n",
       "      <td>Resort Hotel</td>\n",
       "      <td>0</td>\n",
       "      <td>7</td>\n",
       "      <td>2015</td>\n",
       "      <td>July</td>\n",
       "      <td>27</td>\n",
       "      <td>1</td>\n",
       "      <td>0</td>\n",
       "      <td>1</td>\n",
       "      <td>1</td>\n",
       "      <td>...</td>\n",
       "      <td>No Deposit</td>\n",
       "      <td>NaN</td>\n",
       "      <td>NaN</td>\n",
       "      <td>0</td>\n",
       "      <td>Transient</td>\n",
       "      <td>75.0</td>\n",
       "      <td>0</td>\n",
       "      <td>0</td>\n",
       "      <td>Check-Out</td>\n",
       "      <td>2015-07-02</td>\n",
       "    </tr>\n",
       "    <tr>\n",
       "      <th>3</th>\n",
       "      <td>Resort Hotel</td>\n",
       "      <td>0</td>\n",
       "      <td>13</td>\n",
       "      <td>2015</td>\n",
       "      <td>July</td>\n",
       "      <td>27</td>\n",
       "      <td>1</td>\n",
       "      <td>0</td>\n",
       "      <td>1</td>\n",
       "      <td>1</td>\n",
       "      <td>...</td>\n",
       "      <td>No Deposit</td>\n",
       "      <td>304.0</td>\n",
       "      <td>NaN</td>\n",
       "      <td>0</td>\n",
       "      <td>Transient</td>\n",
       "      <td>75.0</td>\n",
       "      <td>0</td>\n",
       "      <td>0</td>\n",
       "      <td>Check-Out</td>\n",
       "      <td>2015-07-02</td>\n",
       "    </tr>\n",
       "    <tr>\n",
       "      <th>4</th>\n",
       "      <td>Resort Hotel</td>\n",
       "      <td>0</td>\n",
       "      <td>14</td>\n",
       "      <td>2015</td>\n",
       "      <td>July</td>\n",
       "      <td>27</td>\n",
       "      <td>1</td>\n",
       "      <td>0</td>\n",
       "      <td>2</td>\n",
       "      <td>2</td>\n",
       "      <td>...</td>\n",
       "      <td>No Deposit</td>\n",
       "      <td>240.0</td>\n",
       "      <td>NaN</td>\n",
       "      <td>0</td>\n",
       "      <td>Transient</td>\n",
       "      <td>98.0</td>\n",
       "      <td>0</td>\n",
       "      <td>1</td>\n",
       "      <td>Check-Out</td>\n",
       "      <td>2015-07-03</td>\n",
       "    </tr>\n",
       "  </tbody>\n",
       "</table>\n",
       "<p>5 rows × 32 columns</p>\n",
       "</div>"
      ],
      "text/plain": [
       "          hotel  is_canceled  lead_time  arrival_date_year arrival_date_month  \\\n",
       "0  Resort Hotel            0        342               2015               July   \n",
       "1  Resort Hotel            0        737               2015               July   \n",
       "2  Resort Hotel            0          7               2015               July   \n",
       "3  Resort Hotel            0         13               2015               July   \n",
       "4  Resort Hotel            0         14               2015               July   \n",
       "\n",
       "   arrival_date_week_number  arrival_date_day_of_month  \\\n",
       "0                        27                          1   \n",
       "1                        27                          1   \n",
       "2                        27                          1   \n",
       "3                        27                          1   \n",
       "4                        27                          1   \n",
       "\n",
       "   stays_in_weekend_nights  stays_in_week_nights  adults  ...  deposit_type  \\\n",
       "0                        0                     0       2  ...    No Deposit   \n",
       "1                        0                     0       2  ...    No Deposit   \n",
       "2                        0                     1       1  ...    No Deposit   \n",
       "3                        0                     1       1  ...    No Deposit   \n",
       "4                        0                     2       2  ...    No Deposit   \n",
       "\n",
       "   agent company days_in_waiting_list customer_type   adr  \\\n",
       "0    NaN     NaN                    0     Transient   0.0   \n",
       "1    NaN     NaN                    0     Transient   0.0   \n",
       "2    NaN     NaN                    0     Transient  75.0   \n",
       "3  304.0     NaN                    0     Transient  75.0   \n",
       "4  240.0     NaN                    0     Transient  98.0   \n",
       "\n",
       "   required_car_parking_spaces  total_of_special_requests  reservation_status  \\\n",
       "0                            0                          0           Check-Out   \n",
       "1                            0                          0           Check-Out   \n",
       "2                            0                          0           Check-Out   \n",
       "3                            0                          0           Check-Out   \n",
       "4                            0                          1           Check-Out   \n",
       "\n",
       "  reservation_status_date  \n",
       "0              2015-07-01  \n",
       "1              2015-07-01  \n",
       "2              2015-07-02  \n",
       "3              2015-07-02  \n",
       "4              2015-07-03  \n",
       "\n",
       "[5 rows x 32 columns]"
      ]
     },
     "execution_count": 2,
     "metadata": {},
     "output_type": "execute_result"
    }
   ],
   "source": [
    "data = pd.read_csv('hotel_bookings.csv')\n",
    "data.head()"
   ]
  },
  {
   "cell_type": "code",
   "execution_count": 3,
   "id": "f6ecda01",
   "metadata": {},
   "outputs": [],
   "source": [
    "# in order to simplify plots I decided to use only a subset of variables\n",
    "data = data[['is_canceled', 'lead_time', 'arrival_date_year', 'adults', 'children', 'babies', 'booking_changes']]\n",
    "data = data.dropna()\n",
    "X, y = data.loc[:, data.columns != 'is_canceled'], data[['is_canceled']]\n",
    "X_train, X_test, y_train, y_test = train_test_split(X, y, test_size=0.1, random_state=42)"
   ]
  },
  {
   "cell_type": "code",
   "execution_count": 4,
   "id": "931d65f8",
   "metadata": {},
   "outputs": [
    {
     "data": {
      "text/plain": [
       "RandomForestClassifier(max_depth=2, random_state=0)"
      ]
     },
     "execution_count": 4,
     "metadata": {},
     "output_type": "execute_result"
    }
   ],
   "source": [
    "clf = RandomForestClassifier(max_depth=2, random_state=0)\n",
    "clf.fit(X_train, y_train)"
   ]
  },
  {
   "cell_type": "code",
   "execution_count": 5,
   "id": "e4d25ba5",
   "metadata": {},
   "outputs": [
    {
     "data": {
      "text/plain": [
       "array([0], dtype=int64)"
      ]
     },
     "execution_count": 5,
     "metadata": {},
     "output_type": "execute_result"
    }
   ],
   "source": [
    "# making prediction on unseen data\n",
    "observation = X_test.iloc[0,:].to_frame().transpose()\n",
    "clf.predict(observation)"
   ]
  },
  {
   "cell_type": "code",
   "execution_count": 6,
   "id": "2e31207b",
   "metadata": {},
   "outputs": [],
   "source": [
    "observation = pd.DataFrame({'lead_time': [203.0],\n",
    "                       'arrival_date_year': [2016.0],\n",
    "                       'adults': [2.0],\n",
    "                       'children': [0.0],\n",
    "                       'babies': [0.0],\n",
    "                       'booking_changes': [4.]},\n",
    "                      index = ['observation'])"
   ]
  },
  {
   "cell_type": "code",
   "execution_count": 6,
   "id": "2e9bd389",
   "metadata": {},
   "outputs": [
    {
     "name": "stdout",
     "output_type": "stream",
     "text": [
      "Preparation of a new explainer is initiated\n",
      "\n",
      "  -> data              : 107447 rows 6 cols\n",
      "  -> target variable   : Parameter 'y' was a pandas.DataFrame. Converted to a numpy.ndarray.\n",
      "  -> target variable   : 107447 values\n",
      "  -> model_class       : sklearn.ensemble._forest.RandomForestClassifier (default)\n",
      "  -> label             : random_forest\n",
      "  -> predict function  : <function yhat_proba_default at 0x0000027ABA9CB0D0> will be used (default)\n",
      "  -> predict function  : Accepts pandas.DataFrame and numpy.ndarray.\n",
      "  -> predicted values  : min = 0.139, mean = 0.37, max = 0.45\n",
      "  -> model type        : classification will be used (default)\n",
      "  -> residual function : difference between y and yhat (default)\n",
      "  -> residuals         : min = -0.45, mean = -3.51e-05, max = 0.861\n",
      "  -> model_info        : package sklearn\n",
      "\n",
      "A new explainer has been created!\n"
     ]
    }
   ],
   "source": [
    "exp = dx.Explainer(clf, X_train, y_train, label='random_forest')"
   ]
  },
  {
   "cell_type": "code",
   "execution_count": 8,
   "id": "04f91daa",
   "metadata": {},
   "outputs": [
    {
     "data": {
      "text/plain": [
       "array([0.3079201])"
      ]
     },
     "execution_count": 8,
     "metadata": {},
     "output_type": "execute_result"
    }
   ],
   "source": [
    "exp.predict(observation) # one more prediction"
   ]
  },
  {
   "cell_type": "code",
   "execution_count": 9,
   "id": "d457c084",
   "metadata": {},
   "outputs": [],
   "source": [
    "lime = exp.predict_surrogate(observation)"
   ]
  },
  {
   "cell_type": "code",
   "execution_count": 10,
   "id": "5385fe0f",
   "metadata": {},
   "outputs": [
    {
     "data": {
      "image/png": "[encoded data removed]",
      "text/plain": [
       "<Figure size 432x288 with 1 Axes>"
      ]
     },
     "metadata": {
      "needs_background": "light"
     },
     "output_type": "display_data"
    }
   ],
   "source": [
    "lime.plot()\n",
    "# as it was already shown(see hw1) big(which is usually just being greater than 0) number of booking changes\n",
    "# makes cancelation less likely\n",
    "# although big time period before arrival and absence of babies make cancelation more likely"
   ]
  },
  {
   "cell_type": "code",
   "execution_count": 11,
   "id": "a64cb1a4",
   "metadata": {},
   "outputs": [
    {
     "data": {
      "text/html": [
       "<div>\n",
       "<style scoped>\n",
       "    .dataframe tbody tr th:only-of-type {\n",
       "        vertical-align: middle;\n",
       "    }\n",
       "\n",
       "    .dataframe tbody tr th {\n",
       "        vertical-align: top;\n",
       "    }\n",
       "\n",
       "    .dataframe thead th {\n",
       "        text-align: right;\n",
       "    }\n",
       "</style>\n",
       "<table border=\"1\" class=\"dataframe\">\n",
       "  <thead>\n",
       "    <tr style=\"text-align: right;\">\n",
       "      <th></th>\n",
       "      <th>variable</th>\n",
       "      <th>effect</th>\n",
       "    </tr>\n",
       "  </thead>\n",
       "  <tbody>\n",
       "    <tr>\n",
       "      <th>0</th>\n",
       "      <td>booking_changes &gt; 0.00</td>\n",
       "      <td>-0.102434</td>\n",
       "    </tr>\n",
       "    <tr>\n",
       "      <th>1</th>\n",
       "      <td>lead_time &gt; 160.00</td>\n",
       "      <td>0.056035</td>\n",
       "    </tr>\n",
       "    <tr>\n",
       "      <th>2</th>\n",
       "      <td>babies &lt;= 0.00</td>\n",
       "      <td>0.045443</td>\n",
       "    </tr>\n",
       "    <tr>\n",
       "      <th>3</th>\n",
       "      <td>adults &lt;= 2.00</td>\n",
       "      <td>-0.006092</td>\n",
       "    </tr>\n",
       "    <tr>\n",
       "      <th>4</th>\n",
       "      <td>arrival_date_year &lt;= 2016.00</td>\n",
       "      <td>-0.003575</td>\n",
       "    </tr>\n",
       "    <tr>\n",
       "      <th>5</th>\n",
       "      <td>children &lt;= 0.00</td>\n",
       "      <td>-0.001196</td>\n",
       "    </tr>\n",
       "  </tbody>\n",
       "</table>\n",
       "</div>"
      ],
      "text/plain": [
       "                       variable    effect\n",
       "0        booking_changes > 0.00 -0.102434\n",
       "1            lead_time > 160.00  0.056035\n",
       "2                babies <= 0.00  0.045443\n",
       "3                adults <= 2.00 -0.006092\n",
       "4  arrival_date_year <= 2016.00 -0.003575\n",
       "5              children <= 0.00 -0.001196"
      ]
     },
     "execution_count": 11,
     "metadata": {},
     "output_type": "execute_result"
    }
   ],
   "source": [
    "lime.result\n",
    "# result attribute can give us more precise information on contributions"
   ]
  },
  {
   "cell_type": "code",
   "execution_count": 31,
   "id": "e4c2bf28",
   "metadata": {},
   "outputs": [
    {
     "data": {
      "image/png": "[encoded data removed]",
      "text/plain": [
       "<Figure size 432x288 with 1 Axes>"
      ]
     },
     "metadata": {
      "needs_background": "light"
     },
     "output_type": "display_data"
    }
   ],
   "source": [
    "observation2 = pd.DataFrame({'lead_time': [332.0],\n",
    "                       'arrival_date_year': [2017.0],\n",
    "                       'adults': [3.0],\n",
    "                       'children': [1.0],\n",
    "                       'babies': [0.0],\n",
    "                       'booking_changes': [0.0]},\n",
    "                      index = ['observation2'])\n",
    "lime2 = exp.predict_surrogate(observation2)\n",
    "lime2.plot()\n",
    "# as we can see this observation is perfect example of a guest whose every parameter makes cancelation more likely"
   ]
  },
  {
   "cell_type": "code",
   "execution_count": 34,
   "id": "b59cdb20",
   "metadata": {},
   "outputs": [
    {
     "data": {
      "image/png": "[encoded data removed]",
      "text/plain": [
       "<Figure size 432x288 with 1 Axes>"
      ]
     },
     "metadata": {
      "needs_background": "light"
     },
     "output_type": "display_data"
    }
   ],
   "source": [
    "observation3 = pd.DataFrame({'lead_time': [203.0],\n",
    "                       'arrival_date_year': [2017.0],\n",
    "                       'adults': [2.0],\n",
    "                       'children': [1.0],\n",
    "                       'babies': [0.0],\n",
    "                       'booking_changes': [1.0]},\n",
    "                      index = ['observation3'])\n",
    "lime3 = exp.predict_surrogate(observation3)\n",
    "lime3.plot()\n",
    "# same as all of the above"
   ]
  },
  {
   "cell_type": "code",
   "execution_count": 19,
   "id": "17dfdee2",
   "metadata": {
    "scrolled": true
   },
   "outputs": [
    {
     "data": {
      "image/png": "[encoded data removed]",
      "text/plain": [
       "<Figure size 432x288 with 1 Axes>"
      ]
     },
     "metadata": {
      "needs_background": "light"
     },
     "output_type": "display_data"
    }
   ],
   "source": [
    "observation5 = pd.DataFrame({'lead_time': [203.0],\n",
    "                       'arrival_date_year': [2017.0],\n",
    "                       'adults': [2.0],\n",
    "                       'children': [1.0],\n",
    "                       'babies': [0.0],\n",
    "                       'booking_changes': [0.0]},\n",
    "                      index = ['observation5'])\n",
    "lime5 = exp.predict_surrogate(observation5)\n",
    "lime5.plot()\n",
    "# one more indication that smaller lead time makes the cancelation less likely"
   ]
  },
  {
   "cell_type": "code",
   "execution_count": 39,
   "id": "bd474501",
   "metadata": {},
   "outputs": [
    {
     "data": {
      "image/png": "[encoded data removed]",
      "text/plain": [
       "<Figure size 432x288 with 1 Axes>"
      ]
     },
     "metadata": {
      "needs_background": "light"
     },
     "output_type": "display_data"
    }
   ],
   "source": [
    "observation4 = pd.DataFrame({'lead_time': [82.0],\n",
    "                       'arrival_date_year': [2015.0],\n",
    "                       'adults': [2.0],\n",
    "                       'children': [0.0],\n",
    "                       'babies': [0.0],\n",
    "                       'booking_changes': [0.0]},\n",
    "                      index = ['observation4'])\n",
    "lime4 = exp.predict_surrogate(observation4)\n",
    "lime4.plot()"
   ]
  },
  {
   "cell_type": "code",
   "execution_count": 11,
   "id": "274bacec",
   "metadata": {},
   "outputs": [
    {
     "data": {
      "image/png": "[encoded data removed]",
      "text/plain": [
       "<Figure size 432x288 with 1 Axes>"
      ]
     },
     "metadata": {
      "needs_background": "light"
     },
     "output_type": "display_data"
    }
   ],
   "source": [
    "observation6 = pd.DataFrame({'lead_time': [14.0],\n",
    "                       'arrival_date_year': [2015.0],\n",
    "                       'adults': [2.0],\n",
    "                       'children': [2.0],\n",
    "                       'babies': [0.0],\n",
    "                       'booking_changes': [0.0]},\n",
    "                      index = ['observation6'])\n",
    "lime6 = exp.predict_surrogate(observation6)\n",
    "lime6.plot()"
   ]
  },
  {
   "cell_type": "code",
   "execution_count": 12,
   "id": "5a494caa",
   "metadata": {},
   "outputs": [
    {
     "data": {
      "image/png": "[encoded data removed]",
      "text/plain": [
       "<Figure size 432x288 with 1 Axes>"
      ]
     },
     "metadata": {
      "needs_background": "light"
     },
     "output_type": "display_data"
    }
   ],
   "source": [
    "observation7 = pd.DataFrame({'lead_time': [14.0],\n",
    "                       'arrival_date_year': [2015.0],\n",
    "                       'adults': [2.0],\n",
    "                       'children': [0.0],\n",
    "                       'babies': [2.0],\n",
    "                       'booking_changes': [0.0]},\n",
    "                      index = ['observation7'])\n",
    "lime7 = exp.predict_surrogate(observation7)\n",
    "lime7.plot()\n",
    "# On this and the previous plot all variables have same values and only number of children and babies differ\n",
    "# (2 and 0 in first case and vice versa in second)\n",
    "# One can notice that babies contribute much stronger than children\n",
    "# Moreover children in family without babies can contribute positively to the result (see plot below)"
   ]
  },
  {
   "cell_type": "code",
   "execution_count": 15,
   "id": "a4c64770",
   "metadata": {},
   "outputs": [
    {
     "data": {
      "image/png": "[encoded data removed]",
      "text/plain": [
       "<Figure size 432x288 with 1 Axes>"
      ]
     },
     "metadata": {
      "needs_background": "light"
     },
     "output_type": "display_data"
    }
   ],
   "source": [
    "observation8 = pd.DataFrame({'lead_time': [100.0],\n",
    "                       'arrival_date_year': [2015.0],\n",
    "                       'adults': [2.0],\n",
    "                       'children': [2.0],\n",
    "                       'babies': [0.0],\n",
    "                       'booking_changes': [4.0]},\n",
    "                      index = ['observation8'])\n",
    "lime8 = exp.predict_surrogate(observation8)\n",
    "lime8.plot()"
   ]
  },
  {
   "cell_type": "markdown",
   "id": "4b8f1a44",
   "metadata": {},
   "source": [
    "## Summary\n",
    "On every plot there is usually one main variable with the most influence(positive or negative) on the result. Those are usually the number of booking changes(especially when it's bigger than 0) or the time before arrival(lead time). Other variables usually do not have strong contributions and their positivity or negativity depends on values of the main variables."
   ]
  }
 ],
 "metadata": {
  "kernelspec": {
   "display_name": "Python 3 (ipykernel)",
   "language": "python",
   "name": "python3"
  },
  "language_info": {
   "codemirror_mode": {
    "name": "ipython",
    "version": 3
   },
   "file_extension": ".py",
   "mimetype": "text/x-python",
   "name": "python",
   "nbconvert_exporter": "python",
   "pygments_lexer": "ipython3",
   "version": "3.8.12"
  }
 },
 "nbformat": 4,
 "nbformat_minor": 5
}
