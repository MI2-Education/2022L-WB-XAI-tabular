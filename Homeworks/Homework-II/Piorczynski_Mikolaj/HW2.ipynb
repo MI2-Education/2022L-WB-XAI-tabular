{
 "cells": [
  {
   "cell_type": "markdown",
   "id": "beeba46b",
   "metadata": {},
   "source": [
    "# Case Studies 2022L XAI-tabular - Homework II\n",
    "### Mikołaj Piórczyński"
   ]
  },
  {
   "cell_type": "code",
   "execution_count": 1,
   "id": "13708986",
   "metadata": {},
   "outputs": [],
   "source": [
    "# import libraries\n",
    "import numpy as np\n",
    "import pandas as pd\n",
    "import matplotlib.pyplot as plt\n",
    "import seaborn as sns\n",
    "\n",
    "from sklearn.ensemble import RandomForestClassifier\n",
    "\n",
    "from sklearn.model_selection import train_test_split\n",
    "from sklearn.compose import ColumnTransformer\n",
    "from sklearn.pipeline import Pipeline\n",
    "from sklearn.preprocessing import StandardScaler\n",
    "from sklearn.impute import SimpleImputer\n",
    "from sklearn.preprocessing import OneHotEncoder, OrdinalEncoder, LabelEncoder\n",
    "\n",
    "from sklearn.metrics import accuracy_score\n",
    "\n",
    "import warnings \n",
    "warnings.filterwarnings('ignore')"
   ]
  },
  {
   "cell_type": "markdown",
   "id": "1851d8f9",
   "metadata": {},
   "source": [
    "## Loading data"
   ]
  },
  {
   "cell_type": "code",
   "execution_count": 2,
   "id": "fbf9c099",
   "metadata": {},
   "outputs": [
    {
     "data": {
      "text/html": [
       "<div>\n",
       "<style scoped>\n",
       "    .dataframe tbody tr th:only-of-type {\n",
       "        vertical-align: middle;\n",
       "    }\n",
       "\n",
       "    .dataframe tbody tr th {\n",
       "        vertical-align: top;\n",
       "    }\n",
       "\n",
       "    .dataframe thead th {\n",
       "        text-align: right;\n",
       "    }\n",
       "</style>\n",
       "<table border=\"1\" class=\"dataframe\">\n",
       "  <thead>\n",
       "    <tr style=\"text-align: right;\">\n",
       "      <th></th>\n",
       "      <th>hotel</th>\n",
       "      <th>is_canceled</th>\n",
       "      <th>lead_time</th>\n",
       "      <th>arrival_date_year</th>\n",
       "      <th>arrival_date_month</th>\n",
       "      <th>arrival_date_week_number</th>\n",
       "      <th>arrival_date_day_of_month</th>\n",
       "      <th>stays_in_weekend_nights</th>\n",
       "      <th>stays_in_week_nights</th>\n",
       "      <th>adults</th>\n",
       "      <th>...</th>\n",
       "      <th>deposit_type</th>\n",
       "      <th>agent</th>\n",
       "      <th>company</th>\n",
       "      <th>days_in_waiting_list</th>\n",
       "      <th>customer_type</th>\n",
       "      <th>adr</th>\n",
       "      <th>required_car_parking_spaces</th>\n",
       "      <th>total_of_special_requests</th>\n",
       "      <th>reservation_status</th>\n",
       "      <th>reservation_status_date</th>\n",
       "    </tr>\n",
       "  </thead>\n",
       "  <tbody>\n",
       "    <tr>\n",
       "      <th>0</th>\n",
       "      <td>Resort Hotel</td>\n",
       "      <td>0</td>\n",
       "      <td>342</td>\n",
       "      <td>2015</td>\n",
       "      <td>July</td>\n",
       "      <td>27</td>\n",
       "      <td>1</td>\n",
       "      <td>0</td>\n",
       "      <td>0</td>\n",
       "      <td>2</td>\n",
       "      <td>...</td>\n",
       "      <td>No Deposit</td>\n",
       "      <td>NaN</td>\n",
       "      <td>NaN</td>\n",
       "      <td>0</td>\n",
       "      <td>Transient</td>\n",
       "      <td>0.0</td>\n",
       "      <td>0</td>\n",
       "      <td>0</td>\n",
       "      <td>Check-Out</td>\n",
       "      <td>2015-07-01</td>\n",
       "    </tr>\n",
       "    <tr>\n",
       "      <th>1</th>\n",
       "      <td>Resort Hotel</td>\n",
       "      <td>0</td>\n",
       "      <td>737</td>\n",
       "      <td>2015</td>\n",
       "      <td>July</td>\n",
       "      <td>27</td>\n",
       "      <td>1</td>\n",
       "      <td>0</td>\n",
       "      <td>0</td>\n",
       "      <td>2</td>\n",
       "      <td>...</td>\n",
       "      <td>No Deposit</td>\n",
       "      <td>NaN</td>\n",
       "      <td>NaN</td>\n",
       "      <td>0</td>\n",
       "      <td>Transient</td>\n",
       "      <td>0.0</td>\n",
       "      <td>0</td>\n",
       "      <td>0</td>\n",
       "      <td>Check-Out</td>\n",
       "      <td>2015-07-01</td>\n",
       "    </tr>\n",
       "    <tr>\n",
       "      <th>2</th>\n",
       "      <td>Resort Hotel</td>\n",
       "      <td>0</td>\n",
       "      <td>7</td>\n",
       "      <td>2015</td>\n",
       "      <td>July</td>\n",
       "      <td>27</td>\n",
       "      <td>1</td>\n",
       "      <td>0</td>\n",
       "      <td>1</td>\n",
       "      <td>1</td>\n",
       "      <td>...</td>\n",
       "      <td>No Deposit</td>\n",
       "      <td>NaN</td>\n",
       "      <td>NaN</td>\n",
       "      <td>0</td>\n",
       "      <td>Transient</td>\n",
       "      <td>75.0</td>\n",
       "      <td>0</td>\n",
       "      <td>0</td>\n",
       "      <td>Check-Out</td>\n",
       "      <td>2015-07-02</td>\n",
       "    </tr>\n",
       "    <tr>\n",
       "      <th>3</th>\n",
       "      <td>Resort Hotel</td>\n",
       "      <td>0</td>\n",
       "      <td>13</td>\n",
       "      <td>2015</td>\n",
       "      <td>July</td>\n",
       "      <td>27</td>\n",
       "      <td>1</td>\n",
       "      <td>0</td>\n",
       "      <td>1</td>\n",
       "      <td>1</td>\n",
       "      <td>...</td>\n",
       "      <td>No Deposit</td>\n",
       "      <td>304.0</td>\n",
       "      <td>NaN</td>\n",
       "      <td>0</td>\n",
       "      <td>Transient</td>\n",
       "      <td>75.0</td>\n",
       "      <td>0</td>\n",
       "      <td>0</td>\n",
       "      <td>Check-Out</td>\n",
       "      <td>2015-07-02</td>\n",
       "    </tr>\n",
       "    <tr>\n",
       "      <th>4</th>\n",
       "      <td>Resort Hotel</td>\n",
       "      <td>0</td>\n",
       "      <td>14</td>\n",
       "      <td>2015</td>\n",
       "      <td>July</td>\n",
       "      <td>27</td>\n",
       "      <td>1</td>\n",
       "      <td>0</td>\n",
       "      <td>2</td>\n",
       "      <td>2</td>\n",
       "      <td>...</td>\n",
       "      <td>No Deposit</td>\n",
       "      <td>240.0</td>\n",
       "      <td>NaN</td>\n",
       "      <td>0</td>\n",
       "      <td>Transient</td>\n",
       "      <td>98.0</td>\n",
       "      <td>0</td>\n",
       "      <td>1</td>\n",
       "      <td>Check-Out</td>\n",
       "      <td>2015-07-03</td>\n",
       "    </tr>\n",
       "  </tbody>\n",
       "</table>\n",
       "<p>5 rows × 32 columns</p>\n",
       "</div>"
      ],
      "text/plain": [
       "          hotel  is_canceled  lead_time  arrival_date_year arrival_date_month  \\\n",
       "0  Resort Hotel            0        342               2015               July   \n",
       "1  Resort Hotel            0        737               2015               July   \n",
       "2  Resort Hotel            0          7               2015               July   \n",
       "3  Resort Hotel            0         13               2015               July   \n",
       "4  Resort Hotel            0         14               2015               July   \n",
       "\n",
       "   arrival_date_week_number  arrival_date_day_of_month  \\\n",
       "0                        27                          1   \n",
       "1                        27                          1   \n",
       "2                        27                          1   \n",
       "3                        27                          1   \n",
       "4                        27                          1   \n",
       "\n",
       "   stays_in_weekend_nights  stays_in_week_nights  adults  ...  deposit_type  \\\n",
       "0                        0                     0       2  ...    No Deposit   \n",
       "1                        0                     0       2  ...    No Deposit   \n",
       "2                        0                     1       1  ...    No Deposit   \n",
       "3                        0                     1       1  ...    No Deposit   \n",
       "4                        0                     2       2  ...    No Deposit   \n",
       "\n",
       "   agent company days_in_waiting_list customer_type   adr  \\\n",
       "0    NaN     NaN                    0     Transient   0.0   \n",
       "1    NaN     NaN                    0     Transient   0.0   \n",
       "2    NaN     NaN                    0     Transient  75.0   \n",
       "3  304.0     NaN                    0     Transient  75.0   \n",
       "4  240.0     NaN                    0     Transient  98.0   \n",
       "\n",
       "   required_car_parking_spaces  total_of_special_requests  reservation_status  \\\n",
       "0                            0                          0           Check-Out   \n",
       "1                            0                          0           Check-Out   \n",
       "2                            0                          0           Check-Out   \n",
       "3                            0                          0           Check-Out   \n",
       "4                            0                          1           Check-Out   \n",
       "\n",
       "  reservation_status_date  \n",
       "0              2015-07-01  \n",
       "1              2015-07-01  \n",
       "2              2015-07-02  \n",
       "3              2015-07-02  \n",
       "4              2015-07-03  \n",
       "\n",
       "[5 rows x 32 columns]"
      ]
     },
     "execution_count": 2,
     "metadata": {},
     "output_type": "execute_result"
    }
   ],
   "source": [
    "df = pd.read_csv('hotel_bookings.csv')\n",
    "df.head()"
   ]
  },
  {
   "cell_type": "code",
   "execution_count": 3,
   "id": "47c1cea2",
   "metadata": {},
   "outputs": [
    {
     "name": "stdout",
     "output_type": "stream",
     "text": [
      "<class 'pandas.core.frame.DataFrame'>\n",
      "RangeIndex: 119390 entries, 0 to 119389\n",
      "Data columns (total 32 columns):\n",
      " #   Column                          Non-Null Count   Dtype  \n",
      "---  ------                          --------------   -----  \n",
      " 0   hotel                           119390 non-null  object \n",
      " 1   is_canceled                     119390 non-null  int64  \n",
      " 2   lead_time                       119390 non-null  int64  \n",
      " 3   arrival_date_year               119390 non-null  int64  \n",
      " 4   arrival_date_month              119390 non-null  object \n",
      " 5   arrival_date_week_number        119390 non-null  int64  \n",
      " 6   arrival_date_day_of_month       119390 non-null  int64  \n",
      " 7   stays_in_weekend_nights         119390 non-null  int64  \n",
      " 8   stays_in_week_nights            119390 non-null  int64  \n",
      " 9   adults                          119390 non-null  int64  \n",
      " 10  children                        119386 non-null  float64\n",
      " 11  babies                          119390 non-null  int64  \n",
      " 12  meal                            119390 non-null  object \n",
      " 13  country                         118902 non-null  object \n",
      " 14  market_segment                  119390 non-null  object \n",
      " 15  distribution_channel            119390 non-null  object \n",
      " 16  is_repeated_guest               119390 non-null  int64  \n",
      " 17  previous_cancellations          119390 non-null  int64  \n",
      " 18  previous_bookings_not_canceled  119390 non-null  int64  \n",
      " 19  reserved_room_type              119390 non-null  object \n",
      " 20  assigned_room_type              119390 non-null  object \n",
      " 21  booking_changes                 119390 non-null  int64  \n",
      " 22  deposit_type                    119390 non-null  object \n",
      " 23  agent                           103050 non-null  float64\n",
      " 24  company                         6797 non-null    float64\n",
      " 25  days_in_waiting_list            119390 non-null  int64  \n",
      " 26  customer_type                   119390 non-null  object \n",
      " 27  adr                             119390 non-null  float64\n",
      " 28  required_car_parking_spaces     119390 non-null  int64  \n",
      " 29  total_of_special_requests       119390 non-null  int64  \n",
      " 30  reservation_status              119390 non-null  object \n",
      " 31  reservation_status_date         119390 non-null  object \n",
      "dtypes: float64(4), int64(16), object(12)\n",
      "memory usage: 29.1+ MB\n"
     ]
    }
   ],
   "source": [
    "df.info()"
   ]
  },
  {
   "cell_type": "markdown",
   "id": "3082f4ff",
   "metadata": {},
   "source": [
    "## Preparing model"
   ]
  },
  {
   "cell_type": "code",
   "execution_count": 4,
   "id": "2b5437a9",
   "metadata": {},
   "outputs": [],
   "source": [
    "# for the simplicity we will use only subset of variables\n",
    "num_features = [\"lead_time\", \"adults\", \"children\", \"babies\", \"booking_changes\", \"previous_cancellations\", \"is_repeated_guest\"]\n",
    "cat_features = [\"arrival_date_month\", \"deposit_type\", \"customer_type\"]\n",
    "\n",
    "features = num_features + cat_features"
   ]
  },
  {
   "cell_type": "code",
   "execution_count": 5,
   "id": "d33eb219",
   "metadata": {},
   "outputs": [],
   "source": [
    "# separate features and target\n",
    "X = df.drop([\"is_canceled\"], axis=1)[features]\n",
    "y = df[\"is_canceled\"]"
   ]
  },
  {
   "cell_type": "code",
   "execution_count": 6,
   "id": "29673bef",
   "metadata": {},
   "outputs": [],
   "source": [
    "num_transformer = SimpleImputer(strategy=\"mean\")\n",
    "\n",
    "cat_transformer = Pipeline(\n",
    "    steps=[\n",
    "        (\"imputer\", SimpleImputer(strategy=\"most_frequent\")),\n",
    "        (\"encoder\", OrdinalEncoder())])\n",
    "\n",
    "preprocessor = ColumnTransformer(\n",
    "    transformers=[\n",
    "        (\"num\", num_transformer, num_features),\n",
    "        (\"cat\", cat_transformer, cat_features)\n",
    "    ]\n",
    ")"
   ]
  },
  {
   "cell_type": "code",
   "execution_count": 7,
   "id": "f0363601",
   "metadata": {},
   "outputs": [],
   "source": [
    "rf_model = RandomForestClassifier(\n",
    "    n_estimators=160,\n",
    "    max_features=0.4,\n",
    "    min_samples_split=2,\n",
    "    n_jobs=-1,\n",
    "    random_state=0\n",
    ")"
   ]
  },
  {
   "cell_type": "code",
   "execution_count": 8,
   "id": "33df3514",
   "metadata": {},
   "outputs": [],
   "source": [
    "# prepare model pipeline\n",
    "model_pipe = Pipeline(\n",
    "    steps=[\n",
    "        ('preprocessor', preprocessor),\n",
    "        ('model', rf_model)\n",
    "    ]\n",
    ")"
   ]
  },
  {
   "cell_type": "code",
   "execution_count": 9,
   "id": "ed2b780c",
   "metadata": {},
   "outputs": [],
   "source": [
    "# split data into train and test set \n",
    "X_train, X_test, y_train, y_test = train_test_split(X, y, train_size=0.7, random_state=123)"
   ]
  },
  {
   "cell_type": "code",
   "execution_count": 10,
   "id": "2fc12ace",
   "metadata": {},
   "outputs": [
    {
     "name": "stdout",
     "output_type": "stream",
     "text": [
      "Accuracy score: 0.7742\n"
     ]
    }
   ],
   "source": [
    "# train model \n",
    "model_pipe.fit(X_train, y_train)\n",
    "preds = model_pipe.predict(X_test)\n",
    "score = accuracy_score(y_test, preds)\n",
    "print(f\"Accuracy score: {round(score, 4)}\")"
   ]
  },
  {
   "cell_type": "markdown",
   "id": "363efe7c",
   "metadata": {},
   "source": [
    "## Explaining model"
   ]
  },
  {
   "cell_type": "markdown",
   "id": "01e69924",
   "metadata": {},
   "source": [
    "### Selecting observation"
   ]
  },
  {
   "cell_type": "markdown",
   "id": "df62eee5",
   "metadata": {},
   "source": [
    "Let's select the observation for which model prediction will be explained. "
   ]
  },
  {
   "cell_type": "code",
   "execution_count": 12,
   "id": "12379793",
   "metadata": {},
   "outputs": [
    {
     "name": "stdout",
     "output_type": "stream",
     "text": [
      "Predicted value for the selected observation: 0, real value: 0\n"
     ]
    }
   ],
   "source": [
    "idx1 = 3223\n",
    "observation1 = X_test.loc[[idx1]]\n",
    "prediction1 = model_pipe.predict(observation1)\n",
    "print(f'Predicted value for the selected observation: {prediction1[0]}, real value: {y_test.loc[idx1]}')"
   ]
  },
  {
   "cell_type": "code",
   "execution_count": 13,
   "id": "71e9f4f1",
   "metadata": {},
   "outputs": [
    {
     "data": {
      "text/plain": [
       "lead_time                              15\n",
       "adults                                  2\n",
       "children                              0.0\n",
       "babies                                  1\n",
       "booking_changes                         3\n",
       "previous_cancellations                  0\n",
       "is_repeated_guest                       0\n",
       "arrival_date_month               November\n",
       "deposit_type                   No Deposit\n",
       "customer_type             Transient-Party\n",
       "Name: 3223, dtype: object"
      ]
     },
     "execution_count": 13,
     "metadata": {},
     "output_type": "execute_result"
    }
   ],
   "source": [
    "observation1.squeeze()"
   ]
  },
  {
   "cell_type": "markdown",
   "id": "ed3a9c0b",
   "metadata": {},
   "source": [
    "## LIME (Local Interpretable Model-agnostic Explanations)"
   ]
  },
  {
   "cell_type": "markdown",
   "id": "61a7cbe6",
   "metadata": {},
   "source": [
    "Let's create LIME explainer."
   ]
  },
  {
   "cell_type": "code",
   "execution_count": 14,
   "id": "a5013810",
   "metadata": {},
   "outputs": [],
   "source": [
    "from lime.lime_tabular import LimeTabularExplainer\n",
    "\n",
    "explainer = LimeTabularExplainer(\n",
    "    model_pipe['preprocessor'].transform(X_train), feature_names=X_train.columns.tolist(), \n",
    "    categorical_features=np.where(X_train.columns.isin(cat_features))[0].tolist(),\n",
    "    discretize_continuous=False\n",
    ")"
   ]
  },
  {
   "cell_type": "code",
   "execution_count": 15,
   "id": "8506f66c",
   "metadata": {},
   "outputs": [],
   "source": [
    "predict_fn = lambda x: model_pipe['model'].predict_proba(x)"
   ]
  },
  {
   "cell_type": "markdown",
   "id": "2bc5e476",
   "metadata": {},
   "source": [
    "### Calculating the model prediction decomposition using LIME"
   ]
  },
  {
   "cell_type": "code",
   "execution_count": 16,
   "id": "8f776c44",
   "metadata": {},
   "outputs": [],
   "source": [
    "exp1 = explainer.explain_instance(model_pipe['preprocessor'].transform(observation1).ravel(), predict_fn)"
   ]
  },
  {
   "cell_type": "code",
   "execution_count": 17,
   "id": "e0c84665",
   "metadata": {},
   "outputs": [
    {
     "data": {
      "image/png": "[encoded data removed]",
      "text/plain": [
       "<Figure size 432x288 with 1 Axes>"
      ]
     },
     "metadata": {},
     "output_type": "display_data"
    }
   ],
   "source": [
    "with plt.style.context(\"seaborn-whitegrid\"):\n",
    "    exp1.as_pyplot_figure()"
   ]
  },
  {
   "cell_type": "markdown",
   "id": "7ebcd1e0",
   "metadata": {},
   "source": [
    "Let's define helper function, which selects observation from the dataset, makes a prediction and prepares an explanation. "
   ]
  },
  {
   "cell_type": "code",
   "execution_count": 18,
   "id": "4c665f25",
   "metadata": {},
   "outputs": [],
   "source": [
    "# all in one function\n",
    "def create_explanation(idx):\n",
    "    observation = X_test.loc[[idx]]\n",
    "    print(observation.squeeze())\n",
    "    prediction = model_pipe.predict(observation)\n",
    "    print(f'\\nPredicted value for the selected observation: {prediction[0]}, real value: {y_test.loc[idx]}')\n",
    "    \n",
    "    exp = explainer.explain_instance(model_pipe['preprocessor'].transform(observation).ravel(), predict_fn)\n",
    "    with plt.style.context(\"seaborn-whitegrid\"):\n",
    "        exp.as_pyplot_figure()"
   ]
  },
  {
   "cell_type": "code",
   "execution_count": 25,
   "id": "c5cdecc2",
   "metadata": {},
   "outputs": [
    {
     "name": "stdout",
     "output_type": "stream",
     "text": [
      "lead_time                              15\n",
      "adults                                  2\n",
      "children                              0.0\n",
      "babies                                  1\n",
      "booking_changes                         3\n",
      "previous_cancellations                  0\n",
      "is_repeated_guest                       0\n",
      "arrival_date_month               November\n",
      "deposit_type                   No Deposit\n",
      "customer_type             Transient-Party\n",
      "Name: 3223, dtype: object\n",
      "\n",
      "Predicted value for the selected observation: 0, real value: 0\n"
     ]
    },
    {
     "data": {
      "image/png": "[encoded data removed]",
      "text/plain": [
       "<Figure size 432x288 with 1 Axes>"
      ]
     },
     "metadata": {},
     "output_type": "display_data"
    }
   ],
   "source": [
    "create_explanation(idx1)"
   ]
  },
  {
   "cell_type": "markdown",
   "id": "1462c842",
   "metadata": {},
   "source": [
    "### Comparing LIME decomposition for different observations in the set"
   ]
  },
  {
   "cell_type": "markdown",
   "id": "3966fae9",
   "metadata": {},
   "source": [
    "Let's use the k-nearest neighbours algorithm to calculate model prediction decomposition for k-nearest observations in dataset to check stabililty of received explanations."
   ]
  },
  {
   "cell_type": "code",
   "execution_count": 26,
   "id": "3acc4f0d",
   "metadata": {},
   "outputs": [],
   "source": [
    "class KNNPipeline(Pipeline):    \n",
    "    def fit(self, X_train, X_test):\n",
    "        self['preprocessor'].fit(X_train)\n",
    "        self['model'].fit(self['preprocessor'].transform(X_test))\n",
    "        return self\n",
    "    \n",
    "    def predict(self, x, **kwargs):\n",
    "        return self['model'].kneighbors(self['preprocessor'].transform(x), **kwargs)"
   ]
  },
  {
   "cell_type": "code",
   "execution_count": 27,
   "id": "ae6167bd",
   "metadata": {},
   "outputs": [],
   "source": [
    "from sklearn.neighbors import NearestNeighbors\n",
    "\n",
    "knn_pipe = KNNPipeline(\n",
    "    steps=[\n",
    "        ('preprocessor', preprocessor),\n",
    "        ('model', NearestNeighbors(n_neighbors=4))\n",
    "    ]\n",
    ")\n",
    "\n",
    "knn_pipe.fit(X_train, X_test);"
   ]
  },
  {
   "cell_type": "markdown",
   "id": "54556d85",
   "metadata": {},
   "source": [
    "Let's find nearest observations in the dataset for our selected observation no. 3223."
   ]
  },
  {
   "cell_type": "code",
   "execution_count": 28,
   "id": "51220185",
   "metadata": {},
   "outputs": [
    {
     "data": {
      "text/html": [
       "<div>\n",
       "<style scoped>\n",
       "    .dataframe tbody tr th:only-of-type {\n",
       "        vertical-align: middle;\n",
       "    }\n",
       "\n",
       "    .dataframe tbody tr th {\n",
       "        vertical-align: top;\n",
       "    }\n",
       "\n",
       "    .dataframe thead th {\n",
       "        text-align: right;\n",
       "    }\n",
       "</style>\n",
       "<table border=\"1\" class=\"dataframe\">\n",
       "  <thead>\n",
       "    <tr style=\"text-align: right;\">\n",
       "      <th></th>\n",
       "      <th>lead_time</th>\n",
       "      <th>adults</th>\n",
       "      <th>children</th>\n",
       "      <th>babies</th>\n",
       "      <th>booking_changes</th>\n",
       "      <th>previous_cancellations</th>\n",
       "      <th>is_repeated_guest</th>\n",
       "      <th>arrival_date_month</th>\n",
       "      <th>deposit_type</th>\n",
       "      <th>customer_type</th>\n",
       "    </tr>\n",
       "  </thead>\n",
       "  <tbody>\n",
       "    <tr>\n",
       "      <th>18777</th>\n",
       "      <td>15</td>\n",
       "      <td>2</td>\n",
       "      <td>0.0</td>\n",
       "      <td>1</td>\n",
       "      <td>2</td>\n",
       "      <td>0</td>\n",
       "      <td>0</td>\n",
       "      <td>November</td>\n",
       "      <td>No Deposit</td>\n",
       "      <td>Transient</td>\n",
       "    </tr>\n",
       "    <tr>\n",
       "      <th>100962</th>\n",
       "      <td>15</td>\n",
       "      <td>2</td>\n",
       "      <td>0.0</td>\n",
       "      <td>0</td>\n",
       "      <td>2</td>\n",
       "      <td>0</td>\n",
       "      <td>0</td>\n",
       "      <td>November</td>\n",
       "      <td>No Deposit</td>\n",
       "      <td>Transient</td>\n",
       "    </tr>\n",
       "    <tr>\n",
       "      <th>3206</th>\n",
       "      <td>15</td>\n",
       "      <td>2</td>\n",
       "      <td>2.0</td>\n",
       "      <td>0</td>\n",
       "      <td>3</td>\n",
       "      <td>0</td>\n",
       "      <td>0</td>\n",
       "      <td>November</td>\n",
       "      <td>No Deposit</td>\n",
       "      <td>Transient-Party</td>\n",
       "    </tr>\n",
       "  </tbody>\n",
       "</table>\n",
       "</div>"
      ],
      "text/plain": [
       "        lead_time  adults  children  babies  booking_changes  \\\n",
       "18777          15       2       0.0       1                2   \n",
       "100962         15       2       0.0       0                2   \n",
       "3206           15       2       2.0       0                3   \n",
       "\n",
       "        previous_cancellations  is_repeated_guest arrival_date_month  \\\n",
       "18777                        0                  0           November   \n",
       "100962                       0                  0           November   \n",
       "3206                         0                  0           November   \n",
       "\n",
       "       deposit_type    customer_type  \n",
       "18777    No Deposit        Transient  \n",
       "100962   No Deposit        Transient  \n",
       "3206     No Deposit  Transient-Party  "
      ]
     },
     "execution_count": 28,
     "metadata": {},
     "output_type": "execute_result"
    }
   ],
   "source": [
    "obsevation1_knn = X_test.iloc[knn_pipe.predict(observation1, return_distance=False).ravel().tolist()[1:]]\n",
    "obsevation1_knn"
   ]
  },
  {
   "cell_type": "code",
   "execution_count": 29,
   "id": "487f8df3",
   "metadata": {},
   "outputs": [
    {
     "name": "stdout",
     "output_type": "stream",
     "text": [
      "lead_time                         15\n",
      "adults                             2\n",
      "children                         0.0\n",
      "babies                             1\n",
      "booking_changes                    2\n",
      "previous_cancellations             0\n",
      "is_repeated_guest                  0\n",
      "arrival_date_month          November\n",
      "deposit_type              No Deposit\n",
      "customer_type              Transient\n",
      "Name: 18777, dtype: object\n",
      "\n",
      "Predicted value for the selected observation: 0, real value: 0\n",
      "lead_time                         15\n",
      "adults                             2\n",
      "children                         0.0\n",
      "babies                             0\n",
      "booking_changes                    2\n",
      "previous_cancellations             0\n",
      "is_repeated_guest                  0\n",
      "arrival_date_month          November\n",
      "deposit_type              No Deposit\n",
      "customer_type              Transient\n",
      "Name: 100962, dtype: object\n",
      "\n",
      "Predicted value for the selected observation: 1, real value: 0\n",
      "lead_time                              15\n",
      "adults                                  2\n",
      "children                              2.0\n",
      "babies                                  0\n",
      "booking_changes                         3\n",
      "previous_cancellations                  0\n",
      "is_repeated_guest                       0\n",
      "arrival_date_month               November\n",
      "deposit_type                   No Deposit\n",
      "customer_type             Transient-Party\n",
      "Name: 3206, dtype: object\n",
      "\n",
      "Predicted value for the selected observation: 0, real value: 0\n"
     ]
    },
    {
     "data": {
      "image/png": "[encoded data removed]",
      "text/plain": [
       "<Figure size 432x288 with 1 Axes>"
      ]
     },
     "metadata": {},
     "output_type": "display_data"
    },
    {
     "data": {
      "image/png": "[encoded data removed]",
      "text/plain": [
       "<Figure size 432x288 with 1 Axes>"
      ]
     },
     "metadata": {},
     "output_type": "display_data"
    },
    {
     "data": {
      "image/png": "[encoded data removed]",
      "text/plain": [
       "<Figure size 432x288 with 1 Axes>"
      ]
     },
     "metadata": {},
     "output_type": "display_data"
    }
   ],
   "source": [
    "for idx in obsevation1_knn.index:\n",
    "    create_explanation(idx)"
   ]
  },
  {
   "cell_type": "markdown",
   "id": "aad00c40",
   "metadata": {},
   "source": [
    "## Comment"
   ]
  },
  {
   "cell_type": "markdown",
   "id": "03659f2a",
   "metadata": {},
   "source": [
    "Obtained explanations seem to be stable. (as far as I know in general LIME explanations aren’t robust and while making predictions on similar points we should have get similar results and similar exlpanations, but with LIME it's not always satisfied, nevertheless in this case for samples that I've choosen it seems to be satisfied). We can see that the biggest negative contribution nearly in all cases have `deposite_type` and `booking_changes` and positive `previous_cancelations` and `lead_time`. Despite of this stability model and/or explanations in my opinion seem to be untrusthworthy. It's counterintuitive that the fact that in past someone didn't make any cancellations or relatively short period between booking and arrival/cancellation date makes that it's more likely that booking will be cancelled. But there are also some 'common-sense; explanations like the fact that someone is not repeated guest makes cancellation more probable. It's worth noting that in case of second nearest observation model predicts cancellation despite there is a little difference in values of variables compared to base observation. It's suggests that model is not perfect (what we also could say only looking on obtained accuracy on test set, which is quite poor). What really puzzles me is why in case of base and first similar obseravtions contributions of variables are an order of magnitude smaller than in other cases."
   ]
  }
 ],
 "metadata": {
  "kernelspec": {
   "display_name": "Python 3 (ipykernel)",
   "language": "python",
   "name": "python3"
  },
  "language_info": {
   "codemirror_mode": {
    "name": "ipython",
    "version": 3
   },
   "file_extension": ".py",
   "mimetype": "text/x-python",
   "name": "python",
   "nbconvert_exporter": "python",
   "pygments_lexer": "ipython3",
   "version": "3.8.8"
  }
 },
 "nbformat": 4,
 "nbformat_minor": 5
}
